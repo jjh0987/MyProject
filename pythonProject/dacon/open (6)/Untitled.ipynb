{
 "cells": [
  {
   "cell_type": "code",
   "execution_count": 155,
   "id": "0b231e44",
   "metadata": {},
   "outputs": [],
   "source": [
    "import pandas as pd\n",
    "import category_encoders\n",
    "from sklearn.preprocessing import OneHotEncoder\n",
    "\n",
    "import seaborn as sns\n",
    "from lightgbm import LGBMClassifier\n",
    "from xgboost import XGBClassifier\n",
    "from catboost import CatBoostClassifier\n",
    "from sklearn.metrics import f1_score, make_scorer\n",
    "from sklearn.ensemble import VotingClassifier, RandomForestClassifier\n",
    "from sklearn.model_selection import cross_val_score, StratifiedKFold, train_test_split\n",
    "from tqdm import tqdm\n",
    "from scipy.stats import zscore\n",
    "import numpy as np\n",
    "# from imblearn.pipeline import Pipeline\n",
    "# from imblearn.over_sampling import SMOTE\n",
    "# from imblearn.under_sampling import EditedNearestNeighbours\n",
    "from sklearn.ensemble import IsolationForest"
   ]
  },
  {
   "cell_type": "code",
   "execution_count": 44,
   "id": "eb5c6741",
   "metadata": {},
   "outputs": [
    {
     "name": "stderr",
     "output_type": "stream",
     "text": [
      "C:\\Users\\User\\AppData\\Local\\Temp\\ipykernel_27756\\4141443420.py:1: UserWarning: \n",
      "\n",
      "`distplot` is a deprecated function and will be removed in seaborn v0.14.0.\n",
      "\n",
      "Please adapt your code to use either `displot` (a figure-level function with\n",
      "similar flexibility) or `histplot` (an axes-level function for histograms).\n",
      "\n",
      "For a guide to updating your code to use the new functions, please see\n",
      "https://gist.github.com/mwaskom/de44147ed2974457ad6372750bbe5751\n",
      "\n",
      "  sns.distplot(test['해당층'])\n"
     ]
    },
    {
     "data": {
      "text/plain": [
       "<Axes: xlabel='해당층', ylabel='Density'>"
      ]
     },
     "execution_count": 44,
     "metadata": {},
     "output_type": "execute_result"
    },
    {
     "name": "stderr",
     "output_type": "stream",
     "text": [
      "C:\\Users\\User\\anaconda3\\envs\\project\\lib\\site-packages\\IPython\\core\\events.py:89: UserWarning: Glyph 54644 (\\N{HANGUL SYLLABLE HAE}) missing from current font.\n",
      "  func(*args, **kwargs)\n",
      "C:\\Users\\User\\anaconda3\\envs\\project\\lib\\site-packages\\IPython\\core\\events.py:89: UserWarning: Glyph 45817 (\\N{HANGUL SYLLABLE DANG}) missing from current font.\n",
      "  func(*args, **kwargs)\n",
      "C:\\Users\\User\\anaconda3\\envs\\project\\lib\\site-packages\\IPython\\core\\events.py:89: UserWarning: Glyph 52789 (\\N{HANGUL SYLLABLE CEUNG}) missing from current font.\n",
      "  func(*args, **kwargs)\n",
      "C:\\Users\\User\\anaconda3\\envs\\project\\lib\\site-packages\\IPython\\core\\pylabtools.py:152: UserWarning: Glyph 54644 (\\N{HANGUL SYLLABLE HAE}) missing from current font.\n",
      "  fig.canvas.print_figure(bytes_io, **kw)\n",
      "C:\\Users\\User\\anaconda3\\envs\\project\\lib\\site-packages\\IPython\\core\\pylabtools.py:152: UserWarning: Glyph 45817 (\\N{HANGUL SYLLABLE DANG}) missing from current font.\n",
      "  fig.canvas.print_figure(bytes_io, **kw)\n",
      "C:\\Users\\User\\anaconda3\\envs\\project\\lib\\site-packages\\IPython\\core\\pylabtools.py:152: UserWarning: Glyph 52789 (\\N{HANGUL SYLLABLE CEUNG}) missing from current font.\n",
      "  fig.canvas.print_figure(bytes_io, **kw)\n"
     ]
    },
    {
     "data": {
      "image/png": "[encoded data removed]",
      "text/plain": [
       "<Figure size 640x480 with 1 Axes>"
      ]
     },
     "metadata": {},
     "output_type": "display_data"
    }
   ],
   "source": [
    "sns.distplot(test['해당층'])"
   ]
  },
  {
   "cell_type": "code",
   "execution_count": 156,
   "id": "ef5732b0",
   "metadata": {},
   "outputs": [],
   "source": [
    "def basic_data_processing():\n",
    "    train = pd.read_csv('./train.csv')\n",
    "    test = pd.read_csv('./test.csv')\n",
    "    \n",
    "    train['총주차대수'] = train['총주차대수'].fillna(0)\n",
    "    test['총주차대수'] = test['총주차대수'].fillna(0)\n",
    "    \n",
    "    train['year'] = pd.to_datetime(train['게재일']).dt.year\n",
    "    train['month'] = pd.to_datetime(train['게재일']).dt.month\n",
    "    test['year'] = pd.to_datetime(test['게재일']).dt.year\n",
    "    test['month'] = pd.to_datetime(test['게재일']).dt.month\n",
    "#     train['day'] = pd.to_datetime(train['게재일']).dt.day\n",
    "#     test['day'] = pd.to_datetime(test['게재일']).dt.day\n",
    "    train = train.drop(['ID','게재일'],axis=1)\n",
    "    test = test.drop(['ID','게재일'],axis=1)\n",
    "#     train['전용면적'] = train['전용면적'].fillna(0).apply(lambda x: 0 if x == 0 else 1)\n",
    "#     test['전용면적'] = test['전용면적'].fillna(0).apply(lambda x: 0 if x == 0 else 1)\n",
    "    train = train.fillna(0)\n",
    "    test = test.fillna(0)\n",
    "    \n",
    "    str_cols = ['매물확인방식','방향','주차가능여부','중개사무소','제공플랫폼','전용면적']\n",
    "    for col in str_cols:\n",
    "        encoder = category_encoders.TargetEncoder(cols=[col],smoothing=2,min_samples_leaf=5)\n",
    "        train[col] = encoder.fit(train[col],train['허위매물여부'])\n",
    "        train[col] = encoder.transform(train[col])\n",
    "        test[col] = encoder.transform(test[col])\n",
    "        \n",
    "        encoder = OneHotEncoder(sparse_output=False)\n",
    "\n",
    "\n",
    "    return train, test"
   ]
  },
  {
   "cell_type": "code",
   "execution_count": 168,
   "id": "8fcc745a",
   "metadata": {},
   "outputs": [
    {
     "name": "stdout",
     "output_type": "stream",
     "text": [
      "      매물확인방식_서류확인  매물확인방식_전화확인  매물확인방식_현장확인\n",
      "0             0.0          0.0          1.0\n",
      "1             0.0          0.0          1.0\n",
      "2             0.0          1.0          0.0\n",
      "3             0.0          0.0          1.0\n",
      "4             0.0          0.0          1.0\n",
      "...           ...          ...          ...\n",
      "2447          1.0          0.0          0.0\n",
      "2448          1.0          0.0          0.0\n",
      "2449          0.0          1.0          0.0\n",
      "2450          0.0          0.0          1.0\n",
      "2451          0.0          1.0          0.0\n",
      "\n",
      "[2452 rows x 3 columns]\n",
      "      방향_남동향  방향_남서향  방향_남향  방향_동향  방향_북동향  방향_북서향  방향_북향  방향_서향\n",
      "0        0.0     0.0    0.0    0.0     0.0     0.0    0.0    1.0\n",
      "1        1.0     0.0    0.0    0.0     0.0     0.0    0.0    0.0\n",
      "2        0.0     0.0    0.0    1.0     0.0     0.0    0.0    0.0\n",
      "3        1.0     0.0    0.0    0.0     0.0     0.0    0.0    0.0\n",
      "4        0.0     0.0    0.0    1.0     0.0     0.0    0.0    0.0\n",
      "...      ...     ...    ...    ...     ...     ...    ...    ...\n",
      "2447     0.0     0.0    1.0    0.0     0.0     0.0    0.0    0.0\n",
      "2448     0.0     0.0    1.0    0.0     0.0     0.0    0.0    0.0\n",
      "2449     0.0     1.0    0.0    0.0     0.0     0.0    0.0    0.0\n",
      "2450     1.0     0.0    0.0    0.0     0.0     0.0    0.0    0.0\n",
      "2451     0.0     0.0    0.0    0.0     0.0     0.0    1.0    0.0\n",
      "\n",
      "[2452 rows x 8 columns]\n",
      "      주차가능여부_가능  주차가능여부_불가능\n",
      "0           1.0         0.0\n",
      "1           0.0         1.0\n",
      "2           0.0         1.0\n",
      "3           1.0         0.0\n",
      "4           0.0         1.0\n",
      "...         ...         ...\n",
      "2447        0.0         1.0\n",
      "2448        0.0         1.0\n",
      "2449        1.0         0.0\n",
      "2450        1.0         0.0\n",
      "2451        0.0         1.0\n",
      "\n",
      "[2452 rows x 2 columns]\n",
      "      중개사무소_A06Nz2Z1R1  중개사무소_A18IU3D9M4  중개사무소_A21Yr4B1U8  중개사무소_A24sf9I9O0  \\\n",
      "0                  0.0               0.0               0.0               0.0   \n",
      "1                  0.0               0.0               0.0               0.0   \n",
      "2                  0.0               0.0               0.0               0.0   \n",
      "3                  0.0               0.0               0.0               0.0   \n",
      "4                  0.0               0.0               0.0               0.0   \n",
      "...                ...               ...               ...               ...   \n",
      "2447               0.0               0.0               0.0               0.0   \n",
      "2448               0.0               0.0               0.0               0.0   \n",
      "2449               0.0               0.0               0.0               0.0   \n",
      "2450               0.0               0.0               0.0               0.0   \n",
      "2451               0.0               0.0               0.0               0.0   \n",
      "\n",
      "      중개사무소_A40fe5W3A7  중개사무소_A67he0U8R6  중개사무소_A72Mx9C8U2  중개사무소_B14iW9I2Y0  \\\n",
      "0                  0.0               0.0               0.0               0.0   \n",
      "1                  0.0               0.0               0.0               0.0   \n",
      "2                  0.0               0.0               0.0               0.0   \n",
      "3                  0.0               0.0               0.0               0.0   \n",
      "4                  0.0               0.0               0.0               0.0   \n",
      "...                ...               ...               ...               ...   \n",
      "2447               0.0               0.0               0.0               0.0   \n",
      "2448               0.0               0.0               0.0               0.0   \n",
      "2449               0.0               0.0               0.0               0.0   \n",
      "2450               0.0               0.0               0.0               0.0   \n",
      "2451               0.0               0.0               0.0               0.0   \n",
      "\n",
      "      중개사무소_B15GU1Y1M2  중개사무소_B44YF9W3O5  ...  중개사무소_x81dK5X8Z0  \\\n",
      "0                  0.0               0.0  ...               0.0   \n",
      "1                  0.0               0.0  ...               0.0   \n",
      "2                  0.0               0.0  ...               0.0   \n",
      "3                  0.0               0.0  ...               0.0   \n",
      "4                  0.0               0.0  ...               0.0   \n",
      "...                ...               ...  ...               ...   \n",
      "2447               0.0               0.0  ...               0.0   \n",
      "2448               0.0               0.0  ...               0.0   \n",
      "2449               0.0               0.0  ...               0.0   \n",
      "2450               0.0               0.0  ...               0.0   \n",
      "2451               0.0               0.0  ...               0.0   \n",
      "\n",
      "      중개사무소_y20fU5B1A8  중개사무소_y70Or6U6A8  중개사무소_y83fz3N4Q6  중개사무소_y86qM5T6T6  \\\n",
      "0                  0.0               0.0               0.0               0.0   \n",
      "1                  0.0               0.0               0.0               0.0   \n",
      "2                  0.0               0.0               0.0               0.0   \n",
      "3                  0.0               0.0               0.0               0.0   \n",
      "4                  0.0               0.0               0.0               0.0   \n",
      "...                ...               ...               ...               ...   \n",
      "2447               0.0               0.0               0.0               0.0   \n",
      "2448               0.0               0.0               0.0               0.0   \n",
      "2449               0.0               0.0               0.0               0.0   \n",
      "2450               0.0               0.0               0.0               0.0   \n",
      "2451               0.0               0.0               0.0               0.0   \n",
      "\n",
      "      중개사무소_z27aA7D3L8  중개사무소_z40LO7P9C9  중개사무소_z54Fl0B2P9  중개사무소_z78FX7A1I1  \\\n",
      "0                  0.0               0.0               0.0               0.0   \n",
      "1                  0.0               0.0               0.0               0.0   \n",
      "2                  0.0               0.0               0.0               0.0   \n",
      "3                  0.0               0.0               0.0               0.0   \n",
      "4                  0.0               0.0               0.0               0.0   \n",
      "...                ...               ...               ...               ...   \n",
      "2447               0.0               0.0               0.0               0.0   \n",
      "2448               0.0               0.0               0.0               0.0   \n",
      "2449               0.0               0.0               0.0               0.0   \n",
      "2450               0.0               0.0               0.0               0.0   \n",
      "2451               0.0               0.0               0.0               0.0   \n",
      "\n",
      "      중개사무소_z81HE4G4N5  \n",
      "0                  0.0  \n",
      "1                  0.0  \n",
      "2                  0.0  \n",
      "3                  0.0  \n",
      "4                  0.0  \n",
      "...                ...  \n",
      "2447               0.0  \n",
      "2448               0.0  \n",
      "2449               0.0  \n",
      "2450               0.0  \n",
      "2451               0.0  \n",
      "\n",
      "[2452 rows x 279 columns]\n",
      "      제공플랫폼_A플랫폼  제공플랫폼_B플랫폼  제공플랫폼_C플랫폼  제공플랫폼_D플랫폼  제공플랫폼_E플랫폼  제공플랫폼_F플랫폼  \\\n",
      "0            0.0         1.0         0.0         0.0         0.0         0.0   \n",
      "1            0.0         0.0         0.0         1.0         0.0         0.0   \n",
      "2            1.0         0.0         0.0         0.0         0.0         0.0   \n",
      "3            1.0         0.0         0.0         0.0         0.0         0.0   \n",
      "4            0.0         1.0         0.0         0.0         0.0         0.0   \n",
      "...          ...         ...         ...         ...         ...         ...   \n",
      "2447         0.0         1.0         0.0         0.0         0.0         0.0   \n",
      "2448         1.0         0.0         0.0         0.0         0.0         0.0   \n",
      "2449         0.0         1.0         0.0         0.0         0.0         0.0   \n",
      "2450         0.0         1.0         0.0         0.0         0.0         0.0   \n",
      "2451         0.0         1.0         0.0         0.0         0.0         0.0   \n",
      "\n",
      "      제공플랫폼_G플랫폼  제공플랫폼_H플랫폼  제공플랫폼_I플랫폼  제공플랫폼_J플랫폼  제공플랫폼_K플랫폼  제공플랫폼_L플랫폼  \\\n",
      "0            0.0         0.0         0.0         0.0         0.0         0.0   \n",
      "1            0.0         0.0         0.0         0.0         0.0         0.0   \n",
      "2            0.0         0.0         0.0         0.0         0.0         0.0   \n",
      "3            0.0         0.0         0.0         0.0         0.0         0.0   \n",
      "4            0.0         0.0         0.0         0.0         0.0         0.0   \n",
      "...          ...         ...         ...         ...         ...         ...   \n",
      "2447         0.0         0.0         0.0         0.0         0.0         0.0   \n",
      "2448         0.0         0.0         0.0         0.0         0.0         0.0   \n",
      "2449         0.0         0.0         0.0         0.0         0.0         0.0   \n",
      "2450         0.0         0.0         0.0         0.0         0.0         0.0   \n",
      "2451         0.0         0.0         0.0         0.0         0.0         0.0   \n",
      "\n",
      "      제공플랫폼_M플랫폼  \n",
      "0            0.0  \n",
      "1            0.0  \n",
      "2            0.0  \n",
      "3            0.0  \n",
      "4            0.0  \n",
      "...          ...  \n",
      "2447         0.0  \n",
      "2448         0.0  \n",
      "2449         0.0  \n",
      "2450         0.0  \n",
      "2451         0.0  \n",
      "\n",
      "[2452 rows x 13 columns]\n",
      "      전용면적_17.5  전용면적_17.52  전용면적_17.53  전용면적_17.57  전용면적_17.6  전용면적_17.7  \\\n",
      "0           0.0         0.0         0.0         0.0        0.0        0.0   \n",
      "1           0.0         0.0         0.0         0.0        0.0        0.0   \n",
      "2           0.0         0.0         0.0         0.0        0.0        0.0   \n",
      "3           0.0         0.0         0.0         0.0        0.0        0.0   \n",
      "4           0.0         0.0         0.0         0.0        0.0        0.0   \n",
      "...         ...         ...         ...         ...        ...        ...   \n",
      "2447        0.0         0.0         0.0         0.0        0.0        0.0   \n",
      "2448        0.0         0.0         0.0         0.0        0.0        0.0   \n",
      "2449        1.0         0.0         0.0         0.0        0.0        0.0   \n",
      "2450        0.0         0.0         0.0         0.0        0.0        0.0   \n",
      "2451        0.0         0.0         0.0         0.0        0.0        0.0   \n",
      "\n",
      "      전용면적_17.8  전용면적_17.84  전용면적_17.86  전용면적_17.89  ...  전용면적_48.07  \\\n",
      "0           0.0         0.0         0.0         0.0  ...         0.0   \n",
      "1           0.0         0.0         0.0         0.0  ...         0.0   \n",
      "2           0.0         0.0         0.0         0.0  ...         0.0   \n",
      "3           0.0         0.0         0.0         0.0  ...         0.0   \n",
      "4           0.0         0.0         0.0         0.0  ...         0.0   \n",
      "...         ...         ...         ...         ...  ...         ...   \n",
      "2447        0.0         0.0         0.0         0.0  ...         0.0   \n",
      "2448        0.0         0.0         0.0         0.0  ...         0.0   \n",
      "2449        0.0         0.0         0.0         0.0  ...         0.0   \n",
      "2450        0.0         0.0         0.0         0.0  ...         0.0   \n",
      "2451        0.0         0.0         0.0         0.0  ...         0.0   \n",
      "\n",
      "      전용면적_48.1  전용면적_48.6  전용면적_48.79  전용면적_48.95  전용면적_49.5  전용면적_49.59  \\\n",
      "0           0.0        0.0         0.0         0.0        0.0         0.0   \n",
      "1           0.0        0.0         0.0         0.0        0.0         0.0   \n",
      "2           0.0        0.0         0.0         0.0        0.0         0.0   \n",
      "3           0.0        0.0         0.0         0.0        0.0         0.0   \n",
      "4           0.0        0.0         0.0         0.0        0.0         0.0   \n",
      "...         ...        ...         ...         ...        ...         ...   \n",
      "2447        0.0        0.0         0.0         1.0        0.0         0.0   \n",
      "2448        0.0        0.0         0.0         0.0        0.0         0.0   \n",
      "2449        0.0        0.0         0.0         0.0        0.0         0.0   \n",
      "2450        0.0        0.0         0.0         0.0        0.0         0.0   \n",
      "2451        0.0        0.0         0.0         0.0        0.0         0.0   \n",
      "\n",
      "      전용면적_49.6  전용면적_49.97  전용면적_nan  \n",
      "0           0.0         0.0       1.0  \n",
      "1           0.0         0.0       1.0  \n",
      "2           0.0         0.0       1.0  \n",
      "3           0.0         0.0       0.0  \n",
      "4           0.0         0.0       1.0  \n",
      "...         ...         ...       ...  \n",
      "2447        0.0         0.0       0.0  \n",
      "2448        0.0         0.0       1.0  \n",
      "2449        0.0         0.0       0.0  \n",
      "2450        0.0         0.0       0.0  \n",
      "2451        0.0         0.0       0.0  \n",
      "\n",
      "[2452 rows x 801 columns]\n"
     ]
    }
   ],
   "source": [
    "train = pd.read_csv('./train.csv')\n",
    "str_cols = ['매물확인방식','방향','주차가능여부','중개사무소','제공플랫폼','전용면적']\n",
    "for col in str_cols:\n",
    "    encoder = OneHotEncoder(sparse_output=False)\n",
    "    encoded = encoder.fit_transform(train[[col]])\n",
    "    print(pd.DataFrame(encoded,columns=encoder.get_feature_names_out([col])))"
   ]
  },
  {
   "cell_type": "code",
   "execution_count": 157,
   "id": "cbbc414e",
   "metadata": {},
   "outputs": [
    {
     "ename": "ValueError",
     "evalue": "Expected 2D array, got 1D array instead:\narray=['현장확인' '현장확인' '전화확인' ... '전화확인' '현장확인' '전화확인'].\nReshape your data either using array.reshape(-1, 1) if your data has a single feature or array.reshape(1, -1) if it contains a single sample.",
     "output_type": "error",
     "traceback": [
      "\u001b[1;31m---------------------------------------------------------------------------\u001b[0m",
      "\u001b[1;31mValueError\u001b[0m                                Traceback (most recent call last)",
      "Cell \u001b[1;32mIn[157], line 1\u001b[0m\n\u001b[1;32m----> 1\u001b[0m train, test \u001b[38;5;241m=\u001b[39m \u001b[43mbasic_data_processing\u001b[49m\u001b[43m(\u001b[49m\u001b[43m)\u001b[49m\n\u001b[0;32m      2\u001b[0m train\u001b[38;5;241m.\u001b[39minfo()\n",
      "Cell \u001b[1;32mIn[156], line 25\u001b[0m, in \u001b[0;36mbasic_data_processing\u001b[1;34m()\u001b[0m\n\u001b[0;32m     23\u001b[0m encoder \u001b[38;5;241m=\u001b[39m category_encoders\u001b[38;5;241m.\u001b[39mTargetEncoder(cols\u001b[38;5;241m=\u001b[39m[col],smoothing\u001b[38;5;241m=\u001b[39m\u001b[38;5;241m2\u001b[39m,min_samples_leaf\u001b[38;5;241m=\u001b[39m\u001b[38;5;241m5\u001b[39m)\n\u001b[0;32m     24\u001b[0m encoder \u001b[38;5;241m=\u001b[39m OneHotEncoder(sparse_output\u001b[38;5;241m=\u001b[39m\u001b[38;5;28;01mFalse\u001b[39;00m)\n\u001b[1;32m---> 25\u001b[0m train[col] \u001b[38;5;241m=\u001b[39m \u001b[43mencoder\u001b[49m\u001b[38;5;241;43m.\u001b[39;49m\u001b[43mfit\u001b[49m\u001b[43m(\u001b[49m\u001b[43mtrain\u001b[49m\u001b[43m[\u001b[49m\u001b[43mcol\u001b[49m\u001b[43m]\u001b[49m\u001b[43m,\u001b[49m\u001b[43mtrain\u001b[49m\u001b[43m[\u001b[49m\u001b[38;5;124;43m'\u001b[39;49m\u001b[38;5;124;43m허위매물여부\u001b[39;49m\u001b[38;5;124;43m'\u001b[39;49m\u001b[43m]\u001b[49m\u001b[43m)\u001b[49m\n\u001b[0;32m     26\u001b[0m train[col] \u001b[38;5;241m=\u001b[39m encoder\u001b[38;5;241m.\u001b[39mtransform(train[col])\n\u001b[0;32m     27\u001b[0m test[col] \u001b[38;5;241m=\u001b[39m encoder\u001b[38;5;241m.\u001b[39mtransform(test[col])\n",
      "File \u001b[1;32m~\\anaconda3\\envs\\project\\lib\\site-packages\\sklearn\\base.py:1152\u001b[0m, in \u001b[0;36m_fit_context.<locals>.decorator.<locals>.wrapper\u001b[1;34m(estimator, *args, **kwargs)\u001b[0m\n\u001b[0;32m   1145\u001b[0m     estimator\u001b[38;5;241m.\u001b[39m_validate_params()\n\u001b[0;32m   1147\u001b[0m \u001b[38;5;28;01mwith\u001b[39;00m config_context(\n\u001b[0;32m   1148\u001b[0m     skip_parameter_validation\u001b[38;5;241m=\u001b[39m(\n\u001b[0;32m   1149\u001b[0m         prefer_skip_nested_validation \u001b[38;5;129;01mor\u001b[39;00m global_skip_validation\n\u001b[0;32m   1150\u001b[0m     )\n\u001b[0;32m   1151\u001b[0m ):\n\u001b[1;32m-> 1152\u001b[0m     \u001b[38;5;28;01mreturn\u001b[39;00m \u001b[43mfit_method\u001b[49m\u001b[43m(\u001b[49m\u001b[43mestimator\u001b[49m\u001b[43m,\u001b[49m\u001b[43m \u001b[49m\u001b[38;5;241;43m*\u001b[39;49m\u001b[43margs\u001b[49m\u001b[43m,\u001b[49m\u001b[43m \u001b[49m\u001b[38;5;241;43m*\u001b[39;49m\u001b[38;5;241;43m*\u001b[39;49m\u001b[43mkwargs\u001b[49m\u001b[43m)\u001b[49m\n",
      "File \u001b[1;32m~\\anaconda3\\envs\\project\\lib\\site-packages\\sklearn\\preprocessing\\_encoders.py:985\u001b[0m, in \u001b[0;36mOneHotEncoder.fit\u001b[1;34m(self, X, y)\u001b[0m\n\u001b[0;32m    975\u001b[0m     warnings\u001b[38;5;241m.\u001b[39mwarn(\n\u001b[0;32m    976\u001b[0m         (\n\u001b[0;32m    977\u001b[0m             \u001b[38;5;124m\"\u001b[39m\u001b[38;5;124m`sparse` was renamed to `sparse_output` in version 1.2 and \u001b[39m\u001b[38;5;124m\"\u001b[39m\n\u001b[1;32m   (...)\u001b[0m\n\u001b[0;32m    981\u001b[0m         \u001b[38;5;167;01mFutureWarning\u001b[39;00m,\n\u001b[0;32m    982\u001b[0m     )\n\u001b[0;32m    983\u001b[0m     \u001b[38;5;28mself\u001b[39m\u001b[38;5;241m.\u001b[39msparse_output \u001b[38;5;241m=\u001b[39m \u001b[38;5;28mself\u001b[39m\u001b[38;5;241m.\u001b[39msparse\n\u001b[1;32m--> 985\u001b[0m \u001b[38;5;28;43mself\u001b[39;49m\u001b[38;5;241;43m.\u001b[39;49m\u001b[43m_fit\u001b[49m\u001b[43m(\u001b[49m\n\u001b[0;32m    986\u001b[0m \u001b[43m    \u001b[49m\u001b[43mX\u001b[49m\u001b[43m,\u001b[49m\n\u001b[0;32m    987\u001b[0m \u001b[43m    \u001b[49m\u001b[43mhandle_unknown\u001b[49m\u001b[38;5;241;43m=\u001b[39;49m\u001b[38;5;28;43mself\u001b[39;49m\u001b[38;5;241;43m.\u001b[39;49m\u001b[43mhandle_unknown\u001b[49m\u001b[43m,\u001b[49m\n\u001b[0;32m    988\u001b[0m \u001b[43m    \u001b[49m\u001b[43mforce_all_finite\u001b[49m\u001b[38;5;241;43m=\u001b[39;49m\u001b[38;5;124;43m\"\u001b[39;49m\u001b[38;5;124;43mallow-nan\u001b[39;49m\u001b[38;5;124;43m\"\u001b[39;49m\u001b[43m,\u001b[49m\n\u001b[0;32m    989\u001b[0m \u001b[43m\u001b[49m\u001b[43m)\u001b[49m\n\u001b[0;32m    990\u001b[0m \u001b[38;5;28mself\u001b[39m\u001b[38;5;241m.\u001b[39m_set_drop_idx()\n\u001b[0;32m    991\u001b[0m \u001b[38;5;28mself\u001b[39m\u001b[38;5;241m.\u001b[39m_n_features_outs \u001b[38;5;241m=\u001b[39m \u001b[38;5;28mself\u001b[39m\u001b[38;5;241m.\u001b[39m_compute_n_features_outs()\n",
      "File \u001b[1;32m~\\anaconda3\\envs\\project\\lib\\site-packages\\sklearn\\preprocessing\\_encoders.py:78\u001b[0m, in \u001b[0;36m_BaseEncoder._fit\u001b[1;34m(self, X, handle_unknown, force_all_finite, return_counts, return_and_ignore_missing_for_infrequent)\u001b[0m\n\u001b[0;32m     76\u001b[0m \u001b[38;5;28mself\u001b[39m\u001b[38;5;241m.\u001b[39m_check_n_features(X, reset\u001b[38;5;241m=\u001b[39m\u001b[38;5;28;01mTrue\u001b[39;00m)\n\u001b[0;32m     77\u001b[0m \u001b[38;5;28mself\u001b[39m\u001b[38;5;241m.\u001b[39m_check_feature_names(X, reset\u001b[38;5;241m=\u001b[39m\u001b[38;5;28;01mTrue\u001b[39;00m)\n\u001b[1;32m---> 78\u001b[0m X_list, n_samples, n_features \u001b[38;5;241m=\u001b[39m \u001b[38;5;28;43mself\u001b[39;49m\u001b[38;5;241;43m.\u001b[39;49m\u001b[43m_check_X\u001b[49m\u001b[43m(\u001b[49m\n\u001b[0;32m     79\u001b[0m \u001b[43m    \u001b[49m\u001b[43mX\u001b[49m\u001b[43m,\u001b[49m\u001b[43m \u001b[49m\u001b[43mforce_all_finite\u001b[49m\u001b[38;5;241;43m=\u001b[39;49m\u001b[43mforce_all_finite\u001b[49m\n\u001b[0;32m     80\u001b[0m \u001b[43m\u001b[49m\u001b[43m)\u001b[49m\n\u001b[0;32m     81\u001b[0m \u001b[38;5;28mself\u001b[39m\u001b[38;5;241m.\u001b[39mn_features_in_ \u001b[38;5;241m=\u001b[39m n_features\n\u001b[0;32m     83\u001b[0m \u001b[38;5;28;01mif\u001b[39;00m \u001b[38;5;28mself\u001b[39m\u001b[38;5;241m.\u001b[39mcategories \u001b[38;5;241m!=\u001b[39m \u001b[38;5;124m\"\u001b[39m\u001b[38;5;124mauto\u001b[39m\u001b[38;5;124m\"\u001b[39m:\n",
      "File \u001b[1;32m~\\anaconda3\\envs\\project\\lib\\site-packages\\sklearn\\preprocessing\\_encoders.py:44\u001b[0m, in \u001b[0;36m_BaseEncoder._check_X\u001b[1;34m(self, X, force_all_finite)\u001b[0m\n\u001b[0;32m     31\u001b[0m \u001b[38;5;250m\u001b[39m\u001b[38;5;124;03m\"\"\"\u001b[39;00m\n\u001b[0;32m     32\u001b[0m \u001b[38;5;124;03mPerform custom check_array:\u001b[39;00m\n\u001b[0;32m     33\u001b[0m \u001b[38;5;124;03m- convert list of strings to object dtype\u001b[39;00m\n\u001b[1;32m   (...)\u001b[0m\n\u001b[0;32m     40\u001b[0m \n\u001b[0;32m     41\u001b[0m \u001b[38;5;124;03m\"\"\"\u001b[39;00m\n\u001b[0;32m     42\u001b[0m \u001b[38;5;28;01mif\u001b[39;00m \u001b[38;5;129;01mnot\u001b[39;00m (\u001b[38;5;28mhasattr\u001b[39m(X, \u001b[38;5;124m\"\u001b[39m\u001b[38;5;124miloc\u001b[39m\u001b[38;5;124m\"\u001b[39m) \u001b[38;5;129;01mand\u001b[39;00m \u001b[38;5;28mgetattr\u001b[39m(X, \u001b[38;5;124m\"\u001b[39m\u001b[38;5;124mndim\u001b[39m\u001b[38;5;124m\"\u001b[39m, \u001b[38;5;241m0\u001b[39m) \u001b[38;5;241m==\u001b[39m \u001b[38;5;241m2\u001b[39m):\n\u001b[0;32m     43\u001b[0m     \u001b[38;5;66;03m# if not a dataframe, do normal check_array validation\u001b[39;00m\n\u001b[1;32m---> 44\u001b[0m     X_temp \u001b[38;5;241m=\u001b[39m \u001b[43mcheck_array\u001b[49m\u001b[43m(\u001b[49m\u001b[43mX\u001b[49m\u001b[43m,\u001b[49m\u001b[43m \u001b[49m\u001b[43mdtype\u001b[49m\u001b[38;5;241;43m=\u001b[39;49m\u001b[38;5;28;43;01mNone\u001b[39;49;00m\u001b[43m,\u001b[49m\u001b[43m \u001b[49m\u001b[43mforce_all_finite\u001b[49m\u001b[38;5;241;43m=\u001b[39;49m\u001b[43mforce_all_finite\u001b[49m\u001b[43m)\u001b[49m\n\u001b[0;32m     45\u001b[0m     \u001b[38;5;28;01mif\u001b[39;00m \u001b[38;5;129;01mnot\u001b[39;00m \u001b[38;5;28mhasattr\u001b[39m(X, \u001b[38;5;124m\"\u001b[39m\u001b[38;5;124mdtype\u001b[39m\u001b[38;5;124m\"\u001b[39m) \u001b[38;5;129;01mand\u001b[39;00m np\u001b[38;5;241m.\u001b[39missubdtype(X_temp\u001b[38;5;241m.\u001b[39mdtype, np\u001b[38;5;241m.\u001b[39mstr_):\n\u001b[0;32m     46\u001b[0m         X \u001b[38;5;241m=\u001b[39m check_array(X, dtype\u001b[38;5;241m=\u001b[39m\u001b[38;5;28mobject\u001b[39m, force_all_finite\u001b[38;5;241m=\u001b[39mforce_all_finite)\n",
      "File \u001b[1;32m~\\anaconda3\\envs\\project\\lib\\site-packages\\sklearn\\utils\\validation.py:938\u001b[0m, in \u001b[0;36mcheck_array\u001b[1;34m(array, accept_sparse, accept_large_sparse, dtype, order, copy, force_all_finite, ensure_2d, allow_nd, ensure_min_samples, ensure_min_features, estimator, input_name)\u001b[0m\n\u001b[0;32m    936\u001b[0m     \u001b[38;5;66;03m# If input is 1D raise error\u001b[39;00m\n\u001b[0;32m    937\u001b[0m     \u001b[38;5;28;01mif\u001b[39;00m array\u001b[38;5;241m.\u001b[39mndim \u001b[38;5;241m==\u001b[39m \u001b[38;5;241m1\u001b[39m:\n\u001b[1;32m--> 938\u001b[0m         \u001b[38;5;28;01mraise\u001b[39;00m \u001b[38;5;167;01mValueError\u001b[39;00m(\n\u001b[0;32m    939\u001b[0m             \u001b[38;5;124m\"\u001b[39m\u001b[38;5;124mExpected 2D array, got 1D array instead:\u001b[39m\u001b[38;5;130;01m\\n\u001b[39;00m\u001b[38;5;124marray=\u001b[39m\u001b[38;5;132;01m{}\u001b[39;00m\u001b[38;5;124m.\u001b[39m\u001b[38;5;130;01m\\n\u001b[39;00m\u001b[38;5;124m\"\u001b[39m\n\u001b[0;32m    940\u001b[0m             \u001b[38;5;124m\"\u001b[39m\u001b[38;5;124mReshape your data either using array.reshape(-1, 1) if \u001b[39m\u001b[38;5;124m\"\u001b[39m\n\u001b[0;32m    941\u001b[0m             \u001b[38;5;124m\"\u001b[39m\u001b[38;5;124myour data has a single feature or array.reshape(1, -1) \u001b[39m\u001b[38;5;124m\"\u001b[39m\n\u001b[0;32m    942\u001b[0m             \u001b[38;5;124m\"\u001b[39m\u001b[38;5;124mif it contains a single sample.\u001b[39m\u001b[38;5;124m\"\u001b[39m\u001b[38;5;241m.\u001b[39mformat(array)\n\u001b[0;32m    943\u001b[0m         )\n\u001b[0;32m    945\u001b[0m \u001b[38;5;28;01mif\u001b[39;00m dtype_numeric \u001b[38;5;129;01mand\u001b[39;00m \u001b[38;5;28mhasattr\u001b[39m(array\u001b[38;5;241m.\u001b[39mdtype, \u001b[38;5;124m\"\u001b[39m\u001b[38;5;124mkind\u001b[39m\u001b[38;5;124m\"\u001b[39m) \u001b[38;5;129;01mand\u001b[39;00m array\u001b[38;5;241m.\u001b[39mdtype\u001b[38;5;241m.\u001b[39mkind \u001b[38;5;129;01min\u001b[39;00m \u001b[38;5;124m\"\u001b[39m\u001b[38;5;124mUSV\u001b[39m\u001b[38;5;124m\"\u001b[39m:\n\u001b[0;32m    946\u001b[0m     \u001b[38;5;28;01mraise\u001b[39;00m \u001b[38;5;167;01mValueError\u001b[39;00m(\n\u001b[0;32m    947\u001b[0m         \u001b[38;5;124m\"\u001b[39m\u001b[38;5;124mdtype=\u001b[39m\u001b[38;5;124m'\u001b[39m\u001b[38;5;124mnumeric\u001b[39m\u001b[38;5;124m'\u001b[39m\u001b[38;5;124m is not compatible with arrays of bytes/strings.\u001b[39m\u001b[38;5;124m\"\u001b[39m\n\u001b[0;32m    948\u001b[0m         \u001b[38;5;124m\"\u001b[39m\u001b[38;5;124mConvert your data to numeric values explicitly instead.\u001b[39m\u001b[38;5;124m\"\u001b[39m\n\u001b[0;32m    949\u001b[0m     )\n",
      "\u001b[1;31mValueError\u001b[0m: Expected 2D array, got 1D array instead:\narray=['현장확인' '현장확인' '전화확인' ... '전화확인' '현장확인' '전화확인'].\nReshape your data either using array.reshape(-1, 1) if your data has a single feature or array.reshape(1, -1) if it contains a single sample."
     ]
    }
   ],
   "source": [
    "train, test = basic_data_processing()\n",
    "train.info()"
   ]
  },
  {
   "cell_type": "code",
   "execution_count": 146,
   "id": "ea3d6454",
   "metadata": {},
   "outputs": [
    {
     "name": "stderr",
     "output_type": "stream",
     "text": [
      "C:\\Users\\User\\anaconda3\\envs\\project\\lib\\site-packages\\sklearn\\preprocessing\\_label.py:97: DataConversionWarning: A column-vector y was passed when a 1d array was expected. Please change the shape of y to (n_samples, ), for example using ravel().\n",
      "  y = column_or_1d(y, warn=True)\n",
      "C:\\Users\\User\\anaconda3\\envs\\project\\lib\\site-packages\\sklearn\\preprocessing\\_label.py:132: DataConversionWarning: A column-vector y was passed when a 1d array was expected. Please change the shape of y to (n_samples, ), for example using ravel().\n",
      "  y = column_or_1d(y, dtype=self.classes_.dtype, warn=True)\n",
      "C:\\Users\\User\\anaconda3\\envs\\project\\lib\\site-packages\\sklearn\\preprocessing\\_label.py:97: DataConversionWarning: A column-vector y was passed when a 1d array was expected. Please change the shape of y to (n_samples, ), for example using ravel().\n",
      "  y = column_or_1d(y, warn=True)\n",
      "C:\\Users\\User\\anaconda3\\envs\\project\\lib\\site-packages\\sklearn\\preprocessing\\_label.py:132: DataConversionWarning: A column-vector y was passed when a 1d array was expected. Please change the shape of y to (n_samples, ), for example using ravel().\n",
      "  y = column_or_1d(y, dtype=self.classes_.dtype, warn=True)\n"
     ]
    },
    {
     "name": "stdout",
     "output_type": "stream",
     "text": [
      "LGBM Cross Validation Macro F1 Scores: 0.837586289255011\n",
      "XGBoost Cross Validation Macro F1 Scores: 0.72541135487583\n",
      "CatBoost Cross Validation Macro F1 Scores: 0.7804407428320472\n",
      "Ensemble Model Cross Validation Macro F1 Scores: 0.8275158416462765\n",
      "iso Model Cross Validation Macro F1 Scores: 0.07112224812224813\n"
     ]
    }
   ],
   "source": [
    "train, test = basic_data_processing()\n",
    "\n",
    "target = '허위매물여부'\n",
    "cut_ratio = 0.0\n",
    "test_size = 0.1\n",
    "cv = 10\n",
    "\n",
    "X_train, X_test, y_train, y_test = train_test_split(train.drop(target,axis=1), train[[target]], test_size=test_size, stratify=train[[target]], random_state=42)\n",
    "\n",
    "# 각 모델을 초기화합니다. (실제 데이터에 맞게 설정 필요)\n",
    "lgbm = LGBMClassifier(random_state=42)\n",
    "xgb = XGBClassifier(random_state=42)\n",
    "catboost = CatBoostClassifier(random_state=42, verbose=0)\n",
    "\n",
    "# 각 모델을 훈련합니다. (실제 데이터에 맞게 설정 필요)\n",
    "lgbm.fit(X_train, y_train)\n",
    "xgb.fit(X_train, y_train)\n",
    "catboost.fit(X_train, y_train)\n",
    "\n",
    "# 각 모델의 feature importance를 얻습니다.\n",
    "lgbm_importance = lgbm.feature_importances_\n",
    "xgb_importance = xgb.feature_importances_\n",
    "catboost_importance = catboost.feature_importances_\n",
    "\n",
    "# 각 모델의 feature importance를 합산합니다.\n",
    "total_importance = lgbm_importance + xgb_importance + catboost_importance\n",
    "total_importance = xgb_importance\n",
    "\n",
    "# 중요도를 기준으로 상위 90%의 피쳐를 유지\n",
    "threshold = np.percentile(total_importance, cut_ratio*100)\n",
    "selected_features = X_train.columns[total_importance >= threshold]\n",
    "\n",
    "# 유지된 피쳐를 기반으로 데이터를 업데이트\n",
    "X_train = X_train[selected_features]\n",
    "X_test = X_test[selected_features]\n",
    "test = test[selected_features]\n",
    "\n",
    "# 각 모델을 초기화합니다. (실제 데이터에 맞게 설정 필요)\n",
    "lgbm = LGBMClassifier(random_state=42, max_depth=8)\n",
    "xgb = XGBClassifier(random_state=42, learning_rate=0.1, max_depth=8, n_estimators=100)\n",
    "catboost = CatBoostClassifier(random_state=42, max_depth=8, verbose=0)\n",
    "# rf = RandomForestClassifier(random_state=42, oob_score=True)\n",
    "iso = IsolationForest(random_state=42, contamination=0.11)\n",
    "\n",
    "# 각 모델을 훈련합니다. (실제 데이터에 맞게 설정 필요)\n",
    "lgbm.fit(X_train, y_train)\n",
    "xgb.fit(X_train, y_train)\n",
    "catboost.fit(X_train, y_train)\n",
    "iso.fit(X_train, y_train)\n",
    "\n",
    "# 소프트 보팅 앙상블 모델 생성\n",
    "ensemble_model = VotingClassifier(estimators=[\n",
    "   ('lgbm', lgbm),\n",
    "    ('xgb', xgb),\n",
    "    ('catboost', catboost),\n",
    "#    ('rf', rf)\n",
    "], voting='soft')\n",
    "\n",
    "# Cross validation을 위한 StratifiedKFold 사용\n",
    "cv = StratifiedKFold(n_splits=cv, shuffle=True, random_state=0)\n",
    "\n",
    "# f1_score를 평가 지표로 사용\n",
    "scorer = make_scorer(f1_score, average='macro')\n",
    "\n",
    "# 각 모델과 앙상블 모델에 대해 cross validation 수행\n",
    "lgbm_cv_scores = cross_val_score(lgbm, X_test, y_test, cv=cv, scoring=scorer, n_jobs=-1)\n",
    "xgb_cv_scores = cross_val_score(xgb, X_test, y_test, cv=cv, scoring=scorer, n_jobs=-1)\n",
    "catboost_cv_scores = cross_val_score(catboost, X_test, y_test, cv=cv, scoring=scorer, n_jobs=-1)\n",
    "# rf_cv_scores = cross_val_score(rf, X_test, y_test, cv=cv, scoring=scorer, n_jobs=-1)\n",
    "ensemble_cv_scores = cross_val_score(ensemble_model, X_test, y_test, cv=cv, scoring=scorer, n_jobs=-1)\n",
    "iso_cv_scores = cross_val_score(iso, X_test, y_test, cv=cv, scoring=scorer, n_jobs=-1)\n",
    "\n",
    "# 결과 출력\n",
    "print(f\"LGBM Cross Validation Macro F1 Scores: {np.mean(lgbm_cv_scores)}\")\n",
    "print(f\"XGBoost Cross Validation Macro F1 Scores: {np.mean(xgb_cv_scores)}\")\n",
    "print(f\"CatBoost Cross Validation Macro F1 Scores: {np.mean(catboost_cv_scores)}\")\n",
    "# print(f\"RamdomForest Cross Validation Macro F1 Scores: {np.mean(rf_cv_scores)}\")\n",
    "print(f\"Ensemble Model Cross Validation Macro F1 Scores: {np.mean(ensemble_cv_scores)}\")\n",
    "print(f\"iso Model Cross Validation Macro F1 Scores: {np.mean(iso_cv_scores)}\")\n"
   ]
  },
  {
   "cell_type": "code",
   "execution_count": 147,
   "id": "44f696fc",
   "metadata": {},
   "outputs": [
    {
     "data": {
      "text/plain": [
       "array([0.07692308, 0.05333333, 0.05128205, 0.08      , 0.07407407,\n",
       "       0.09090909, 0.08333333, 0.04444444, 0.08      , 0.07692308])"
      ]
     },
     "execution_count": 147,
     "metadata": {},
     "output_type": "execute_result"
    }
   ],
   "source": [
    "iso_cv_scores"
   ]
  },
  {
   "cell_type": "code",
   "execution_count": 148,
   "id": "a5557e88",
   "metadata": {},
   "outputs": [
    {
     "data": {
      "text/plain": [
       "array([ 1,  1,  1,  1,  1,  1,  1,  1,  1,  1, -1,  1,  1,  1,  1,  1,  1,\n",
       "        1,  1,  1,  1,  1,  1,  1,  1,  1,  1,  1,  1,  1,  1,  1,  1,  1,\n",
       "        1,  1,  1,  1,  1,  1,  1,  1, -1, -1,  1,  1, -1,  1, -1, -1,  1,\n",
       "        1,  1, -1,  1,  1,  1,  1,  1,  1,  1,  1,  1,  1,  1,  1,  1,  1,\n",
       "        1,  1,  1,  1, -1,  1, -1,  1,  1,  1,  1,  1,  1,  1,  1,  1,  1,\n",
       "        1,  1,  1,  1,  1,  1,  1,  1,  1,  1,  1,  1,  1,  1,  1,  1,  1,\n",
       "       -1, -1,  1,  1,  1,  1,  1,  1,  1,  1,  1,  1,  1, -1,  1,  1, -1,\n",
       "        1,  1,  1,  1,  1,  1,  1,  1,  1,  1,  1,  1,  1,  1,  1,  1,  1,\n",
       "        1,  1,  1,  1,  1,  1,  1,  1,  1,  1,  1,  1,  1,  1, -1,  1,  1,\n",
       "        1,  1,  1,  1,  1, -1,  1,  1,  1,  1,  1,  1,  1,  1,  1,  1,  1,\n",
       "        1,  1,  1,  1,  1,  1,  1,  1,  1,  1,  1,  1,  1,  1,  1,  1, -1,\n",
       "        1,  1,  1,  1,  1,  1,  1,  1,  1,  1, -1,  1,  1,  1,  1,  1,  1,\n",
       "        1,  1,  1, -1, -1,  1,  1,  1,  1,  1,  1,  1,  1,  1,  1,  1,  1,\n",
       "        1,  1,  1,  1,  1,  1,  1,  1,  1,  1,  1,  1,  1,  1,  1,  1,  1,\n",
       "        1,  1,  1,  1,  1,  1,  1,  1,  1,  1,  1,  1,  1,  1,  1,  1,  1,\n",
       "        1,  1,  1,  1,  1,  1,  1,  1, -1,  1,  1,  1,  1,  1,  1,  1,  1,\n",
       "        1,  1, -1,  1,  1,  1,  1,  1,  1,  1,  1,  1, -1,  1,  1,  1,  1,\n",
       "        1,  1,  1,  1,  1,  1,  1,  1,  1,  1,  1,  1,  1,  1,  1,  1,  1,\n",
       "       -1,  1,  1,  1,  1,  1,  1,  1,  1,  1,  1,  1,  1,  1,  1,  1,  1,\n",
       "        1,  1,  1,  1,  1, -1,  1,  1,  1,  1,  1,  1,  1,  1,  1,  1,  1,\n",
       "        1,  1,  1, -1, -1, -1,  1,  1,  1,  1,  1,  1, -1,  1,  1,  1,  1,\n",
       "        1,  1,  1,  1,  1,  1,  1,  1, -1,  1,  1,  1,  1,  1,  1,  1,  1,\n",
       "        1,  1,  1,  1,  1,  1,  1,  1, -1,  1,  1,  1,  1,  1,  1,  1,  1,\n",
       "        1,  1,  1,  1,  1,  1,  1,  1,  1,  1,  1,  1,  1,  1,  1,  1,  1,\n",
       "        1,  1,  1,  1, -1,  1,  1,  1,  1,  1,  1,  1,  1,  1,  1,  1,  1,\n",
       "        1,  1,  1,  1,  1,  1,  1,  1,  1,  1,  1,  1,  1,  1,  1, -1,  1,\n",
       "        1,  1, -1,  1,  1,  1,  1,  1,  1,  1,  1,  1,  1,  1,  1,  1, -1,\n",
       "        1,  1, -1,  1,  1,  1,  1,  1,  1,  1,  1,  1,  1,  1,  1,  1,  1,\n",
       "        1, -1,  1,  1,  1,  1,  1, -1,  1,  1, -1,  1,  1,  1,  1,  1,  1,\n",
       "        1,  1,  1,  1, -1,  1,  1, -1,  1, -1, -1,  1,  1,  1,  1, -1,  1,\n",
       "       -1,  1,  1,  1,  1,  1, -1,  1,  1,  1, -1,  1,  1,  1,  1,  1, -1,\n",
       "        1,  1,  1,  1,  1,  1,  1,  1, -1,  1,  1, -1,  1,  1,  1,  1,  1,\n",
       "        1,  1,  1,  1,  1,  1,  1,  1,  1,  1,  1,  1, -1,  1,  1,  1,  1,\n",
       "        1,  1,  1,  1, -1,  1,  1,  1,  1,  1, -1, -1,  1,  1,  1,  1,  1,\n",
       "        1,  1,  1,  1, -1,  1,  1,  1,  1,  1,  1,  1,  1,  1,  1,  1,  1,\n",
       "        1,  1, -1,  1,  1,  1,  1,  1,  1,  1,  1,  1,  1,  1,  1,  1,  1,\n",
       "       -1])"
      ]
     },
     "execution_count": 148,
     "metadata": {},
     "output_type": "execute_result"
    }
   ],
   "source": [
    "iso.predict(test)"
   ]
  },
  {
   "cell_type": "code",
   "execution_count": 137,
   "id": "3e901dd1",
   "metadata": {},
   "outputs": [
    {
     "name": "stdout",
     "output_type": "stream",
     "text": [
      "Train ratio: 0.12153344208809136\n",
      "Prediction answer ratio: 0.10277324632952692\n"
     ]
    }
   ],
   "source": [
    "lgb_pred = [i[1] for i in lgbm.predict_proba(test)]\n",
    "xgb_pred = [i[1] for i in xgb.predict_proba(test)]\n",
    "cat_pred = [i[1] for i in catboost.predict_proba(test)]\n",
    "\n",
    "sub = pd.read_csv('./sample_submission.csv')\n",
    "l,x,c = 0.35,0.35,0.3\n",
    "threshold = 0.33\n",
    "pred = [l*lgb_pred[i] + x*xgb_pred[i] + c*cat_pred[i] for i in range(len(sub))]\n",
    "print('Train ratio:',len(train[train['허위매물여부'] == 1])/len(train))\n",
    "print('Prediction answer ratio:',len([i for i in pred if i > threshold])/len(pred))\n",
    "\n",
    "answer = []\n",
    "for p in pred:\n",
    "    if p > threshold:\n",
    "        answer.append(1)\n",
    "    else:\n",
    "        answer.append(0)\n",
    "\n",
    "sub['허위매물여부'] = answer\n",
    "sub.to_csv('./answer.csv',index=False)"
   ]
  },
  {
   "cell_type": "code",
   "execution_count": 154,
   "id": "54e9b78f",
   "metadata": {},
   "outputs": [
    {
     "name": "stdout",
     "output_type": "stream",
     "text": [
      "Train ratio: 0.12153344208809136\n",
      "Prediction answer ratio: 0.09135399673735722\n"
     ]
    }
   ],
   "source": [
    "iso_pred = iso.predict(test)\n",
    "sub = pd.read_csv('./sample_submission.csv')\n",
    "\n",
    "for i in range(len(iso_pred)):\n",
    "    if iso_pred[i] == -1:\n",
    "        iso_pred[i] = 0\n",
    "\n",
    "print('Train ratio:',len(train[train['허위매물여부'] == 1])/len(train))\n",
    "print('Prediction answer ratio:',1-sum(iso_pred)/len(sub))\n",
    "\n",
    "\n",
    "\n",
    "sub['허위매물여부'] = iso_pred\n",
    "sub.to_csv('./answer.csv',index=False)"
   ]
  },
  {
   "cell_type": "markdown",
   "id": "d84e7d0f",
   "metadata": {},
   "source": [
    "# ranked\n",
    "test 0.2\n",
    "cv 10\n",
    "threshold 0.25\n",
    "lgb 1, xgb 0, cat 0"
   ]
  },
  {
   "cell_type": "code",
   "execution_count": 116,
   "id": "9524dac8",
   "metadata": {},
   "outputs": [
    {
     "name": "stderr",
     "output_type": "stream",
     "text": [
      "C:\\Users\\User\\AppData\\Local\\Temp\\ipykernel_27756\\2016596573.py:1: UserWarning: \n",
      "\n",
      "`distplot` is a deprecated function and will be removed in seaborn v0.14.0.\n",
      "\n",
      "Please adapt your code to use either `displot` (a figure-level function with\n",
      "similar flexibility) or `histplot` (an axes-level function for histograms).\n",
      "\n",
      "For a guide to updating your code to use the new functions, please see\n",
      "https://gist.github.com/mwaskom/de44147ed2974457ad6372750bbe5751\n",
      "\n",
      "  sns.distplot(pred)\n"
     ]
    },
    {
     "data": {
      "text/plain": [
       "<Axes: ylabel='Density'>"
      ]
     },
     "execution_count": 116,
     "metadata": {},
     "output_type": "execute_result"
    },
    {
     "data": {
      "image/png": "[encoded data removed]",
      "text/plain": [
       "<Figure size 640x480 with 1 Axes>"
      ]
     },
     "metadata": {},
     "output_type": "display_data"
    }
   ],
   "source": [
    "sns.distplot(pred)"
   ]
  }
 ],
 "metadata": {
  "kernelspec": {
   "display_name": "Python 3 (ipykernel)",
   "language": "python",
   "name": "python3"
  },
  "language_info": {
   "codemirror_mode": {
    "name": "ipython",
    "version": 3
   },
   "file_extension": ".py",
   "mimetype": "text/x-python",
   "name": "python",
   "nbconvert_exporter": "python",
   "pygments_lexer": "ipython3",
   "version": "3.8.18"
  }
 },
 "nbformat": 4,
 "nbformat_minor": 5
}
