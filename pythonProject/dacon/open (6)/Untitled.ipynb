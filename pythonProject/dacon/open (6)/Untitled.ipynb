{
 "cells": [
  {
   "cell_type": "code",
   "execution_count": 47,
   "id": "0b231e44",
   "metadata": {},
   "outputs": [],
   "source": [
    "import pandas as pd\n",
    "import category_encoders\n",
    "from sklearn.preprocessing import OneHotEncoder\n",
    "\n",
    "import seaborn as sns\n",
    "from lightgbm import LGBMClassifier\n",
    "from xgboost import XGBClassifier\n",
    "from catboost import CatBoostClassifier\n",
    "from sklearn.metrics import f1_score, make_scorer\n",
    "from sklearn.ensemble import VotingClassifier, RandomForestClassifier\n",
    "from sklearn.model_selection import cross_val_score, StratifiedKFold, train_test_split, KFold\n",
    "\n",
    "from tqdm import tqdm\n",
    "from scipy.stats import zscore\n",
    "import numpy as np\n",
    "# from imblearn.pipeline import Pipeline\n",
    "# from imblearn.over_sampling import SMOTE\n",
    "# from imblearn.under_sampling import EditedNearestNeighbours\n",
    "from sklearn.ensemble import IsolationForest"
   ]
  },
  {
   "cell_type": "code",
   "execution_count": 109,
   "id": "ef5732b0",
   "metadata": {},
   "outputs": [],
   "source": [
    "def basic_data_processing():\n",
    "    train = pd.read_csv('./train.csv')\n",
    "    test = pd.read_csv('./test.csv')\n",
    "    \n",
    "    train['총주차대수'] = train['총주차대수'].fillna(0)\n",
    "    test['총주차대수'] = test['총주차대수'].fillna(0)\n",
    "    \n",
    "    train['year'] = pd.to_datetime(train['게재일']).dt.year\n",
    "    train['month'] = pd.to_datetime(train['게재일']).dt.month\n",
    "    test['year'] = pd.to_datetime(test['게재일']).dt.year\n",
    "    test['month'] = pd.to_datetime(test['게재일']).dt.month\n",
    "#     train['day'] = pd.to_datetime(train['게재일']).dt.day\n",
    "#     test['day'] = pd.to_datetime(test['게재일']).dt.day\n",
    "    train = train.drop(['ID','게재일'],axis=1)\n",
    "    test = test.drop(['ID','게재일'],axis=1)\n",
    "    train['총층'] = train['총층'].fillna(1)\n",
    "    test['총층'] = test['총층'].fillna(1)\n",
    "    train['전용면적'] = train['전용면적'].fillna(train['전용면적'].mean())\n",
    "    test['전용면적'] = train['전용면적'].fillna(train['전용면적'].mean())\n",
    "    \n",
    "    str_cols = ['총주차대수','해당층','욕실수']\n",
    "    for col in str_cols:\n",
    "        train[col] = train[col].fillna(0)\n",
    "        test[col] = test[col].fillna(0)\n",
    "\n",
    "    str_cols = ['중개사무소','제공플랫폼','매물확인방식','방향','주차가능여부']\n",
    "    for col in str_cols:\n",
    "        encoder = category_encoders.TargetEncoder(cols=[col],smoothing=2,min_samples_leaf=5)\n",
    "        train[col] = encoder.fit(train[col],train['허위매물여부'])\n",
    "        train[col] = encoder.transform(train[col])\n",
    "        test[col] = encoder.transform(test[col])\n",
    "        \n",
    "        encoder = OneHotEncoder(sparse_output=False)\n",
    "#     str_cols = ['매물확인방식','방향','주차가능여부']\n",
    "#     for col in str_cols:\n",
    "#         encoder = OneHotEncoder(sparse_output=False)\n",
    "#         encoded = encoder.fit(train[[col]])\n",
    "#         train = pd.concat([train,pd.DataFrame(encoder.transform(train[[col]]),columns=encoder.get_feature_names_out())],axis=1)\n",
    "#         test = pd.concat([test,pd.DataFrame(encoder.transform(test[[col]]),columns=encoder.get_feature_names_out())],axis=1)\n",
    "#         train = train.drop(col,axis=1)\n",
    "#         test = test.drop(col,axis=1)\n",
    "    return train, test"
   ]
  },
  {
   "cell_type": "code",
   "execution_count": 110,
   "id": "cbbc414e",
   "metadata": {},
   "outputs": [
    {
     "name": "stdout",
     "output_type": "stream",
     "text": [
      "<class 'pandas.core.frame.DataFrame'>\n",
      "RangeIndex: 2452 entries, 0 to 2451\n",
      "Data columns (total 17 columns):\n",
      " #   Column  Non-Null Count  Dtype  \n",
      "---  ------  --------------  -----  \n",
      " 0   매물확인방식  2452 non-null   float64\n",
      " 1   보증금     2452 non-null   float64\n",
      " 2   월세      2452 non-null   int64  \n",
      " 3   전용면적    2452 non-null   float64\n",
      " 4   해당층     2452 non-null   float64\n",
      " 5   총층      2452 non-null   float64\n",
      " 6   방향      2452 non-null   float64\n",
      " 7   방수      2436 non-null   float64\n",
      " 8   욕실수     2452 non-null   float64\n",
      " 9   주차가능여부  2452 non-null   float64\n",
      " 10  총주차대수   2452 non-null   float64\n",
      " 11  관리비     2452 non-null   int64  \n",
      " 12  중개사무소   2452 non-null   float64\n",
      " 13  제공플랫폼   2452 non-null   float64\n",
      " 14  허위매물여부  2452 non-null   int64  \n",
      " 15  year    2452 non-null   int64  \n",
      " 16  month   2452 non-null   int64  \n",
      "dtypes: float64(12), int64(5)\n",
      "memory usage: 325.8 KB\n"
     ]
    }
   ],
   "source": [
    "train, test = basic_data_processing()\n",
    "train.info()"
   ]
  },
  {
   "cell_type": "code",
   "execution_count": 106,
   "id": "8b482318",
   "metadata": {},
   "outputs": [
    {
     "data": {
      "text/plain": [
       "0.17662007623888182"
      ]
     },
     "execution_count": 106,
     "metadata": {},
     "output_type": "execute_result"
    }
   ],
   "source": [
    "sum(train[train['전용면적'] == 0]['허위매물여부'])/len(train[train['전용면적'] == 0])"
   ]
  },
  {
   "cell_type": "code",
   "execution_count": 108,
   "id": "09c07d9e",
   "metadata": {},
   "outputs": [
    {
     "name": "stderr",
     "output_type": "stream",
     "text": [
      "C:\\Users\\User\\AppData\\Local\\Temp\\ipykernel_26204\\3162293437.py:1: UserWarning: \n",
      "\n",
      "`distplot` is a deprecated function and will be removed in seaborn v0.14.0.\n",
      "\n",
      "Please adapt your code to use either `displot` (a figure-level function with\n",
      "similar flexibility) or `histplot` (an axes-level function for histograms).\n",
      "\n",
      "For a guide to updating your code to use the new functions, please see\n",
      "https://gist.github.com/mwaskom/de44147ed2974457ad6372750bbe5751\n",
      "\n",
      "  sns.distplot(train['전용면적'])\n"
     ]
    },
    {
     "data": {
      "text/plain": [
       "<Axes: xlabel='전용면적', ylabel='Density'>"
      ]
     },
     "execution_count": 108,
     "metadata": {},
     "output_type": "execute_result"
    },
    {
     "name": "stderr",
     "output_type": "stream",
     "text": [
      "C:\\Users\\User\\anaconda3\\envs\\project\\lib\\site-packages\\IPython\\core\\events.py:89: UserWarning: Glyph 51204 (\\N{HANGUL SYLLABLE JEON}) missing from current font.\n",
      "  func(*args, **kwargs)\n",
      "C:\\Users\\User\\anaconda3\\envs\\project\\lib\\site-packages\\IPython\\core\\events.py:89: UserWarning: Glyph 50857 (\\N{HANGUL SYLLABLE YONG}) missing from current font.\n",
      "  func(*args, **kwargs)\n",
      "C:\\Users\\User\\anaconda3\\envs\\project\\lib\\site-packages\\IPython\\core\\events.py:89: UserWarning: Glyph 47732 (\\N{HANGUL SYLLABLE MYEON}) missing from current font.\n",
      "  func(*args, **kwargs)\n",
      "C:\\Users\\User\\anaconda3\\envs\\project\\lib\\site-packages\\IPython\\core\\events.py:89: UserWarning: Glyph 51201 (\\N{HANGUL SYLLABLE JEOG}) missing from current font.\n",
      "  func(*args, **kwargs)\n",
      "C:\\Users\\User\\anaconda3\\envs\\project\\lib\\site-packages\\IPython\\core\\pylabtools.py:152: UserWarning: Glyph 51204 (\\N{HANGUL SYLLABLE JEON}) missing from current font.\n",
      "  fig.canvas.print_figure(bytes_io, **kw)\n",
      "C:\\Users\\User\\anaconda3\\envs\\project\\lib\\site-packages\\IPython\\core\\pylabtools.py:152: UserWarning: Glyph 50857 (\\N{HANGUL SYLLABLE YONG}) missing from current font.\n",
      "  fig.canvas.print_figure(bytes_io, **kw)\n",
      "C:\\Users\\User\\anaconda3\\envs\\project\\lib\\site-packages\\IPython\\core\\pylabtools.py:152: UserWarning: Glyph 47732 (\\N{HANGUL SYLLABLE MYEON}) missing from current font.\n",
      "  fig.canvas.print_figure(bytes_io, **kw)\n",
      "C:\\Users\\User\\anaconda3\\envs\\project\\lib\\site-packages\\IPython\\core\\pylabtools.py:152: UserWarning: Glyph 51201 (\\N{HANGUL SYLLABLE JEOG}) missing from current font.\n",
      "  fig.canvas.print_figure(bytes_io, **kw)\n"
     ]
    },
    {
     "data": {
      "image/png": "[encoded data removed]",
      "text/plain": [
       "<Figure size 640x480 with 1 Axes>"
      ]
     },
     "metadata": {},
     "output_type": "display_data"
    }
   ],
   "source": [
    "sns.distplot(train['전용면적'])"
   ]
  },
  {
   "cell_type": "code",
   "execution_count": 77,
   "id": "c446b99f",
   "metadata": {},
   "outputs": [
    {
     "name": "stdout",
     "output_type": "stream",
     "text": [
      "<class 'pandas.core.frame.DataFrame'>\n",
      "RangeIndex: 613 entries, 0 to 612\n",
      "Data columns (total 16 columns):\n",
      " #   Column  Non-Null Count  Dtype  \n",
      "---  ------  --------------  -----  \n",
      " 0   ID      613 non-null    object \n",
      " 1   매물확인방식  613 non-null    object \n",
      " 2   보증금     613 non-null    float64\n",
      " 3   월세      613 non-null    int64  \n",
      " 4   전용면적    429 non-null    float64\n",
      " 5   해당층     563 non-null    float64\n",
      " 6   총층      611 non-null    float64\n",
      " 7   방향      613 non-null    object \n",
      " 8   방수      611 non-null    float64\n",
      " 9   욕실수     611 non-null    float64\n",
      " 10  주차가능여부  613 non-null    object \n",
      " 11  총주차대수   438 non-null    float64\n",
      " 12  관리비     613 non-null    int64  \n",
      " 13  중개사무소   613 non-null    object \n",
      " 14  제공플랫폼   613 non-null    object \n",
      " 15  게재일     613 non-null    object \n",
      "dtypes: float64(7), int64(2), object(7)\n",
      "memory usage: 76.8+ KB\n"
     ]
    }
   ],
   "source": [
    "pd.read_csv('./test.csv').info()"
   ]
  },
  {
   "cell_type": "code",
   "execution_count": 111,
   "id": "ea3d6454",
   "metadata": {},
   "outputs": [
    {
     "name": "stderr",
     "output_type": "stream",
     "text": [
      "C:\\Users\\User\\anaconda3\\envs\\project\\lib\\site-packages\\sklearn\\preprocessing\\_label.py:97: DataConversionWarning: A column-vector y was passed when a 1d array was expected. Please change the shape of y to (n_samples, ), for example using ravel().\n",
      "  y = column_or_1d(y, warn=True)\n",
      "C:\\Users\\User\\anaconda3\\envs\\project\\lib\\site-packages\\sklearn\\preprocessing\\_label.py:132: DataConversionWarning: A column-vector y was passed when a 1d array was expected. Please change the shape of y to (n_samples, ), for example using ravel().\n",
      "  y = column_or_1d(y, dtype=self.classes_.dtype, warn=True)\n",
      "C:\\Users\\User\\anaconda3\\envs\\project\\lib\\site-packages\\sklearn\\preprocessing\\_label.py:97: DataConversionWarning: A column-vector y was passed when a 1d array was expected. Please change the shape of y to (n_samples, ), for example using ravel().\n",
      "  y = column_or_1d(y, warn=True)\n",
      "C:\\Users\\User\\anaconda3\\envs\\project\\lib\\site-packages\\sklearn\\preprocessing\\_label.py:132: DataConversionWarning: A column-vector y was passed when a 1d array was expected. Please change the shape of y to (n_samples, ), for example using ravel().\n",
      "  y = column_or_1d(y, dtype=self.classes_.dtype, warn=True)\n"
     ]
    },
    {
     "name": "stdout",
     "output_type": "stream",
     "text": [
      "LGBM Cross Validation Macro F1 Scores: 0.8145620199534527\n",
      "XGBoost Cross Validation Macro F1 Scores: 0.8167183064541635\n",
      "CatBoost Cross Validation Macro F1 Scores: 0.822342153034546\n",
      "Ensemble Model Cross Validation Macro F1 Scores: 0.8193517865237343\n"
     ]
    }
   ],
   "source": [
    "train, test = basic_data_processing()\n",
    "\n",
    "target = '허위매물여부'\n",
    "cut_ratio = 0.0\n",
    "test_size = 0.2\n",
    "cv = 10\n",
    "\n",
    "X_train, X_test, y_train, y_test = train_test_split(train.drop(target,axis=1), train[[target]], test_size=test_size, stratify=train[[target]], random_state=42)\n",
    "\n",
    "# 각 모델을 초기화합니다. (실제 데이터에 맞게 설정 필요)\n",
    "lgbm = LGBMClassifier(random_state=42)\n",
    "xgb = XGBClassifier(random_state=42)\n",
    "catboost = CatBoostClassifier(random_state=42, verbose=0)\n",
    "\n",
    "# 각 모델을 훈련합니다. (실제 데이터에 맞게 설정 필요)\n",
    "lgbm.fit(X_train, y_train)\n",
    "xgb.fit(X_train, y_train)\n",
    "catboost.fit(X_train, y_train)\n",
    "\n",
    "# 각 모델의 feature importance를 얻습니다.\n",
    "lgbm_importance = lgbm.feature_importances_\n",
    "xgb_importance = xgb.feature_importances_\n",
    "catboost_importance = catboost.feature_importances_\n",
    "\n",
    "# 각 모델의 feature importance를 합산합니다.\n",
    "total_importance = lgbm_importance + xgb_importance + catboost_importance\n",
    "total_importance = xgb_importance\n",
    "\n",
    "# 중요도를 기준으로 상위 90%의 피쳐를 유지\n",
    "threshold = np.percentile(total_importance, cut_ratio*100)\n",
    "selected_features = X_train.columns[total_importance >= threshold]\n",
    "\n",
    "# 유지된 피쳐를 기반으로 데이터를 업데이트\n",
    "X_train = X_train[selected_features]\n",
    "X_test = X_test[selected_features]\n",
    "test = test[selected_features]\n",
    "\n",
    "# 각 모델을 초기화합니다. (실제 데이터에 맞게 설정 필요)\n",
    "lgbm = LGBMClassifier(random_state=42, max_depth=8)\n",
    "xgb = XGBClassifier(random_state=42, learning_rate=0.1, max_depth=8, n_estimators=100)\n",
    "catboost = CatBoostClassifier(random_state=42, max_depth=8, verbose=0)\n",
    "# rf = RandomForestClassifier(random_state=42, oob_score=True)\n",
    "# iso = IsolationForest(random_state=42, contamination=0.11)\n",
    "\n",
    "# 각 모델을 훈련합니다. (실제 데이터에 맞게 설정 필요)\n",
    "lgbm.fit(X_train, y_train)\n",
    "xgb.fit(X_train, y_train)\n",
    "catboost.fit(X_train, y_train)\n",
    "# iso.fit(X_train, y_train)\n",
    "\n",
    "# 소프트 보팅 앙상블 모델 생성\n",
    "ensemble_model = VotingClassifier(estimators=[\n",
    "   ('lgbm', lgbm),\n",
    "    ('xgb', xgb),\n",
    "    ('catboost', catboost),\n",
    "#    ('rf', rf)\n",
    "], voting='soft')\n",
    "\n",
    "# Cross validation을 위한 StratifiedKFold 사용\n",
    "# cv = StratifiedKFold(n_splits=cv, shuffle=True, random_state=0)\n",
    "cv = KFold(n_splits=cv, shuffle=True, random_state=0)\n",
    "\n",
    "# f1_score를 평가 지표로 사용\n",
    "scorer = make_scorer(f1_score, average='macro')\n",
    "\n",
    "# 각 모델과 앙상블 모델에 대해 cross validation 수행\n",
    "lgbm_cv_scores = cross_val_score(lgbm, X_test, y_test, cv=cv, scoring=scorer, n_jobs=-1)\n",
    "xgb_cv_scores = cross_val_score(xgb, X_test, y_test, cv=cv, scoring=scorer, n_jobs=-1)\n",
    "catboost_cv_scores = cross_val_score(catboost, X_test, y_test, cv=cv, scoring=scorer, n_jobs=-1)\n",
    "# rf_cv_scores = cross_val_score(rf, X_test, y_test, cv=cv, scoring=scorer, n_jobs=-1)\n",
    "ensemble_cv_scores = cross_val_score(ensemble_model, X_test, y_test, cv=cv, scoring=scorer, n_jobs=-1)\n",
    "# iso_cv_scores = cross_val_score(iso, X_test, y_test, cv=cv, scoring=scorer, n_jobs=-1)\n",
    "\n",
    "# 결과 출력\n",
    "print(f\"LGBM Cross Validation Macro F1 Scores: {np.mean(lgbm_cv_scores)}\")\n",
    "print(f\"XGBoost Cross Validation Macro F1 Scores: {np.mean(xgb_cv_scores)}\")\n",
    "print(f\"CatBoost Cross Validation Macro F1 Scores: {np.mean(catboost_cv_scores)}\")\n",
    "# print(f\"RamdomForest Cross Validation Macro F1 Scores: {np.mean(rf_cv_scores)}\")\n",
    "print(f\"Ensemble Model Cross Validation Macro F1 Scores: {np.mean(ensemble_cv_scores)}\")\n",
    "# print(f\"iso Model Cross Validation Macro F1 Scores: {np.mean(iso_cv_scores)}\")\n"
   ]
  },
  {
   "cell_type": "code",
   "execution_count": 112,
   "id": "3e901dd1",
   "metadata": {},
   "outputs": [
    {
     "name": "stdout",
     "output_type": "stream",
     "text": [
      "Train ratio: 0.12153344208809136\n",
      "Prediction answer ratio: 0.10603588907014681\n"
     ]
    }
   ],
   "source": [
    "lgb_pred = [i[1] for i in lgbm.predict_proba(test)]\n",
    "xgb_pred = [i[1] for i in xgb.predict_proba(test)]\n",
    "cat_pred = [i[1] for i in catboost.predict_proba(test)]\n",
    "\n",
    "sub = pd.read_csv('./sample_submission.csv')\n",
    "l,x,c = 0.3,0.3,0.4\n",
    "threshold = 0.25\n",
    "pred = [l*lgb_pred[i] + x*xgb_pred[i] + c*cat_pred[i] for i in range(len(sub))]\n",
    "print('Train ratio:',len(train[train['허위매물여부'] == 1])/len(train))\n",
    "print('Prediction answer ratio:',len([i for i in pred if i > threshold])/len(pred))\n",
    "\n",
    "answer = []\n",
    "for p in pred:\n",
    "    if p > threshold:\n",
    "        answer.append(1)\n",
    "    else:\n",
    "        answer.append(0)\n",
    "\n",
    "sub['허위매물여부'] = answer\n",
    "sub.to_csv('./answer.csv',index=False)"
   ]
  },
  {
   "cell_type": "code",
   "execution_count": 154,
   "id": "54e9b78f",
   "metadata": {},
   "outputs": [
    {
     "name": "stdout",
     "output_type": "stream",
     "text": [
      "Train ratio: 0.12153344208809136\n",
      "Prediction answer ratio: 0.09135399673735722\n"
     ]
    }
   ],
   "source": [
    "iso_pred = iso.predict(test)\n",
    "sub = pd.read_csv('./sample_submission.csv')\n",
    "\n",
    "for i in range(len(iso_pred)):\n",
    "    if iso_pred[i] == -1:\n",
    "        iso_pred[i] = 0\n",
    "\n",
    "print('Train ratio:',len(train[train['허위매물여부'] == 1])/len(train))\n",
    "print('Prediction answer ratio:',1-sum(iso_pred)/len(sub))\n",
    "\n",
    "\n",
    "\n",
    "sub['허위매물여부'] = iso_pred\n",
    "sub.to_csv('./answer.csv',index=False)"
   ]
  },
  {
   "cell_type": "markdown",
   "id": "d84e7d0f",
   "metadata": {},
   "source": [
    "# ranked\n",
    "test 0.2\n",
    "cv 10\n",
    "threshold 0.25\n",
    "lgb 1, xgb 0, cat 0"
   ]
  },
  {
   "cell_type": "code",
   "execution_count": 116,
   "id": "9524dac8",
   "metadata": {},
   "outputs": [
    {
     "name": "stderr",
     "output_type": "stream",
     "text": [
      "C:\\Users\\User\\AppData\\Local\\Temp\\ipykernel_27756\\2016596573.py:1: UserWarning: \n",
      "\n",
      "`distplot` is a deprecated function and will be removed in seaborn v0.14.0.\n",
      "\n",
      "Please adapt your code to use either `displot` (a figure-level function with\n",
      "similar flexibility) or `histplot` (an axes-level function for histograms).\n",
      "\n",
      "For a guide to updating your code to use the new functions, please see\n",
      "https://gist.github.com/mwaskom/de44147ed2974457ad6372750bbe5751\n",
      "\n",
      "  sns.distplot(pred)\n"
     ]
    },
    {
     "data": {
      "text/plain": [
       "<Axes: ylabel='Density'>"
      ]
     },
     "execution_count": 116,
     "metadata": {},
     "output_type": "execute_result"
    },
    {
     "data": {
      "image/png": "[encoded data removed]",
      "text/plain": [
       "<Figure size 640x480 with 1 Axes>"
      ]
     },
     "metadata": {},
     "output_type": "display_data"
    }
   ],
   "source": [
    "sns.distplot(pred)"
   ]
  }
 ],
 "metadata": {
  "kernelspec": {
   "display_name": "Python 3 (ipykernel)",
   "language": "python",
   "name": "python3"
  },
  "language_info": {
   "codemirror_mode": {
    "name": "ipython",
    "version": 3
   },
   "file_extension": ".py",
   "mimetype": "text/x-python",
   "name": "python",
   "nbconvert_exporter": "python",
   "pygments_lexer": "ipython3",
   "version": "3.8.18"
  }
 },
 "nbformat": 4,
 "nbformat_minor": 5
}
