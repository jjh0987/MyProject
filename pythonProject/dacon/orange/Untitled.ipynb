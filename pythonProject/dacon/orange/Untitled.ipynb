{
 "cells": [
  {
   "cell_type": "code",
   "execution_count": 1,
   "id": "4043b09f",
   "metadata": {},
   "outputs": [],
   "source": [
    "import pandas as pd\n",
    "import numpy as np"
   ]
  },
  {
   "cell_type": "code",
   "execution_count": 2,
   "id": "a611f22e",
   "metadata": {},
   "outputs": [],
   "source": [
    "train = pd.read_csv('./train.csv')\n",
    "test = pd.read_csv('./test.csv')"
   ]
  },
  {
   "cell_type": "code",
   "execution_count": 10,
   "id": "9a3af4b6",
   "metadata": {},
   "outputs": [],
   "source": [
    "from sklearn.metrics import mean_absolute_error\n",
    "from sklearn.model_selection import train_test_split\n",
    "from sklearn.metrics import mean_absolute_error"
   ]
  },
  {
   "cell_type": "code",
   "execution_count": 3,
   "id": "9b730d98",
   "metadata": {},
   "outputs": [],
   "source": [
    "X_train = train.drop(['ID','착과량(int)'], axis=1)\n",
    "y_train = train['착과량(int)']"
   ]
  },
  {
   "cell_type": "code",
   "execution_count": 85,
   "id": "24b41e26",
   "metadata": {},
   "outputs": [],
   "source": [
    "X_train, X_test, y_train, y_test = train_test_split(X_train,y_train,test_size=0.1,random_state=10)"
   ]
  },
  {
   "cell_type": "code",
   "execution_count": 8,
   "id": "44a73dd5",
   "metadata": {},
   "outputs": [],
   "source": [
    "# sample_submission = pd.read_csv('./sample_submission.csv')\n",
    "# sample_submission['착과량(int)'] = pred\n",
    "# sample_submission.to_csv('./submit.csv', index=False)"
   ]
  },
  {
   "cell_type": "code",
   "execution_count": 117,
   "id": "d59f8a3f",
   "metadata": {},
   "outputs": [
    {
     "name": "stdout",
     "output_type": "stream",
     "text": [
      "0\n",
      "3\n",
      "4\n",
      "12\n",
      "23\n",
      "31\n",
      "32\n",
      "33\n",
      "34\n",
      "35\n",
      "42\n",
      "50\n",
      "55\n",
      "59\n",
      "62\n",
      "68\n",
      "72\n",
      "73\n",
      "86\n",
      "92\n"
     ]
    }
   ],
   "source": [
    "from sklearn.ensemble import RandomForestRegressor\n",
    "from sklearn.ensemble import ExtraTreesRegressor\n",
    "from sklearn.ensemble import GradientBoostingRegressor\n",
    "pd.DataFrame().to_csv('./bagging.csv')\n",
    "# model2 = ExtraTreesRegressor()\n",
    "# model3 = GradientBoostingRegressor()\n",
    "# bundle = [model1,model2,model3]\n",
    "# model1 = RandomForestRegressor(random_state=10)\n",
    "ans = []\n",
    "for i in range(100):\n",
    "    model1 = RandomForestRegressor(random_state=i)\n",
    "    model1.fit(X_train, y_train)\n",
    "    pred = model1.predict(X_test)\n",
    "    if mean_absolute_error(pred,y_test)/np.mean(y_test) < 0.075:\n",
    "        print(i)\n",
    "        ans.append(i)"
   ]
  },
  {
   "cell_type": "code",
   "execution_count": null,
   "id": "3c452243",
   "metadata": {},
   "outputs": [],
   "source": [
    "from sklearn.ensemble import RandomForestRegressor\n",
    "from sklearn.ensemble import ExtraTreesRegressor\n",
    "from sklearn.ensemble import GradientBoostingRegressor\n",
    "\n",
    "# model1 = RandomForestRegressor()\n",
    "# model2 = ExtraTreesRegressor()\n",
    "# model3 = GradientBoostingRegressor()\n",
    "# bundle = [model1,model2,model3]\n",
    "for i in ans:\n",
    "    model1 = GradientBoostingRegressor(random_state=i)\n",
    "    model1.fit(X_train, y_train)\n",
    "    pred = model1.predict(test.drop(['ID'], axis=1))\n",
    "    sample_submission = pd.read_csv('./bagging.csv')\n",
    "    sample_submission[f'{i}'] = pred\n",
    "    sample_submission.to_csv('./bagging.csv', index=False)"
   ]
  },
  {
   "cell_type": "code",
   "execution_count": null,
   "id": "f467b76c",
   "metadata": {},
   "outputs": [],
   "source": [
    "tp1 = pd.read_csv('./bagging.csv')\n",
    "tp1"
   ]
  },
  {
   "cell_type": "code",
   "execution_count": 114,
   "id": "79a1e8a6",
   "metadata": {},
   "outputs": [
    {
     "name": "stderr",
     "output_type": "stream",
     "text": [
      "/var/folders/4l/84htqxwn14n0jr_xvdc4tpbr0000gn/T/ipykernel_13953/3093611604.py:2: FutureWarning: Dropping of nuisance columns in DataFrame reductions (with 'numeric_only=None') is deprecated; in a future version this will raise TypeError.  Select only valid columns before calling the reduction.\n",
      "  tp['착과량(int)'] = temp.iloc[:,1:].mean(axis=1)\n"
     ]
    }
   ],
   "source": [
    "tp = pd.read_csv('./sample_submission.csv')\n",
    "tp['착과량(int)'] = temp.iloc[:,1:].mean(axis=1)\n",
    "tp.to_csv('./submit.csv', index=False)"
   ]
  }
 ],
 "metadata": {
  "kernelspec": {
   "display_name": "Python 3 (ipykernel)",
   "language": "python",
   "name": "python3"
  },
  "language_info": {
   "codemirror_mode": {
    "name": "ipython",
    "version": 3
   },
   "file_extension": ".py",
   "mimetype": "text/x-python",
   "name": "python",
   "nbconvert_exporter": "python",
   "pygments_lexer": "ipython3",
   "version": "3.9.13"
  }
 },
 "nbformat": 4,
 "nbformat_minor": 5
}
