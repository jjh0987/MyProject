{
 "cells": [
  {
   "cell_type": "markdown",
   "id": "k7eulrgaQwYy",
   "metadata": {
    "id": "k7eulrgaQwYy"
   },
   "source": [
    "## Import"
   ]
  },
  {
   "cell_type": "code",
   "execution_count": 1,
   "id": "rBvX-8P2QwYy",
   "metadata": {
    "ExecuteTime": {
     "end_time": "2022-07-11T08:41:57.003103Z",
     "start_time": "2022-07-11T08:41:53.892893Z"
    },
    "executionInfo": {
     "elapsed": 2132,
     "status": "ok",
     "timestamp": 1683473184964,
     "user": {
      "displayName": "이승윤",
      "userId": "17995305622900705411"
     },
     "user_tz": -540
    },
    "id": "rBvX-8P2QwYy"
   },
   "outputs": [],
   "source": [
    "import random\n",
    "import pandas as pd\n",
    "import numpy as np\n",
    "import os\n",
    "from tqdm.auto import tqdm\n",
    "import librosa\n",
    "\n",
    "from sklearn.tree import DecisionTreeClassifier\n",
    "\n",
    "import warnings\n",
    "warnings.filterwarnings(action='ignore') "
   ]
  },
  {
   "cell_type": "markdown",
   "id": "kkqHli22QwYy",
   "metadata": {
    "id": "kkqHli22QwYy"
   },
   "source": [
    "## Hyperparameter Setting"
   ]
  },
  {
   "cell_type": "code",
   "execution_count": 2,
   "id": "VtG9mP3RQwYz",
   "metadata": {
    "ExecuteTime": {
     "end_time": "2022-07-11T08:41:57.006108Z",
     "start_time": "2022-07-11T08:41:57.004370Z"
    },
    "executionInfo": {
     "elapsed": 2,
     "status": "ok",
     "timestamp": 1683473187622,
     "user": {
      "displayName": "이승윤",
      "userId": "17995305622900705411"
     },
     "user_tz": -540
    },
    "id": "VtG9mP3RQwYz"
   },
   "outputs": [],
   "source": [
    "CFG = {\n",
    "    'SR':16000,\n",
    "    'N_MFCC':32, # Melspectrogram 벡터를 추출할 개수\n",
    "    'SEED':42\n",
    "}"
   ]
  },
  {
   "cell_type": "markdown",
   "id": "QT7_IBn9QwYz",
   "metadata": {
    "id": "QT7_IBn9QwYz"
   },
   "source": [
    "## Fixed Random-Seed"
   ]
  },
  {
   "cell_type": "code",
   "execution_count": 3,
   "id": "KgyHxME7QwYz",
   "metadata": {
    "ExecuteTime": {
     "end_time": "2022-07-11T08:41:57.009050Z",
     "start_time": "2022-07-11T08:41:57.006949Z"
    },
    "executionInfo": {
     "elapsed": 2,
     "status": "ok",
     "timestamp": 1683473189486,
     "user": {
      "displayName": "이승윤",
      "userId": "17995305622900705411"
     },
     "user_tz": -540
    },
    "id": "KgyHxME7QwYz"
   },
   "outputs": [],
   "source": [
    "def seed_everything(seed):\n",
    "    random.seed(seed)\n",
    "    os.environ['PYTHONHASHSEED'] = str(seed)\n",
    "    np.random.seed(seed)\n",
    "\n",
    "seed_everything(CFG['SEED']) # Seed 고정"
   ]
  },
  {
   "cell_type": "markdown",
   "id": "r-3_zmrwQwYz",
   "metadata": {
    "id": "r-3_zmrwQwYz"
   },
   "source": [
    "## Data Pre-Processing"
   ]
  },
  {
   "cell_type": "code",
   "execution_count": 4,
   "id": "BcxV618ZQwYz",
   "metadata": {
    "ExecuteTime": {
     "end_time": "2022-07-11T08:41:57.006108Z",
     "start_time": "2022-07-11T08:41:57.004370Z"
    },
    "executionInfo": {
     "elapsed": 3,
     "status": "ok",
     "timestamp": 1683473200939,
     "user": {
      "displayName": "이승윤",
      "userId": "17995305622900705411"
     },
     "user_tz": -540
    },
    "id": "BcxV618ZQwYz"
   },
   "outputs": [],
   "source": [
    "train_df = pd.read_csv('./train.csv')\n",
    "test_df = pd.read_csv('./test.csv')"
   ]
  },
  {
   "cell_type": "code",
   "execution_count": 5,
   "id": "kyAdkb2gQwYz",
   "metadata": {
    "executionInfo": {
     "elapsed": 1,
     "status": "ok",
     "timestamp": 1683473201325,
     "user": {
      "displayName": "이승윤",
      "userId": "17995305622900705411"
     },
     "user_tz": -540
    },
    "id": "kyAdkb2gQwYz"
   },
   "outputs": [],
   "source": [
    "def get_mfcc_feature(df):\n",
    "    features = []\n",
    "    for path in tqdm(df['path']):\n",
    "        # librosa패키지를 사용하여 wav 파일 load\n",
    "        y, sr = librosa.load(path, sr=CFG['SR'])\n",
    "        # librosa패키지를 사용하여 mfcc 추출\n",
    "        mfcc = librosa.feature.mfcc(y=y, sr=sr, n_mfcc=CFG['N_MFCC'])\n",
    "        y_feature = []\n",
    "        # 추출된 MFCC들의 평균을 Feature로 사용\n",
    "        for e in mfcc:\n",
    "            y_feature.append(np.mean(e))\n",
    "        features.append(y_feature)\n",
    "\n",
    "    mfcc_df = pd.DataFrame(features, columns=['mfcc_'+str(x) for x in range(1,CFG['N_MFCC']+1)])\n",
    "    return mfcc_df"
   ]
  },
  {
   "cell_type": "code",
   "execution_count": 6,
   "id": "xUBnp4ciQwYz",
   "metadata": {
    "colab": {
     "base_uri": "https://localhost:8080/",
     "height": 81,
     "referenced_widgets": [
      "fca0079f6a714ac7885e1474711d7913",
      "4a9ef407319c43bcb20106c47f0db180",
      "7a0c9eaf1d1e4a56a195dff77a7ed5f9",
      "d5a7c1d85e63402ebd0c36cb6883ab33",
      "55e857853048445b87cea2de151ba035",
      "09436c3ae2a44a8ca51ee1103b963ada",
      "f6d802990a2344db99bf282c663efa5a",
      "bb35a24296ed455a872731cef7333ffb",
      "dc7da92e2f454f79b07c3ca86c3cc9d4",
      "a194d82dd952480387bf1f599a8e52e5",
      "4c356887768a4330ab0b0eec28984484",
      "918b0c55f55f4b799fb41adb002c5f1f",
      "9a823940919d4e068c01e31276740b0f",
      "9fe2d03a06474596b0547d0410da8064",
      "520b45d5f972463da632a32f96c71ee4",
      "911d4b1f888540eb96b8b6a48134f078",
      "53ccb4062ee94e0c84618143ff39ce05",
      "df5b9e6414d449f0961eecec22b16991",
      "790f3379b0364c88ae6bdec739b97248",
      "e5a69cc464fe42f6be81a34ed57b1686",
      "29d20f64d430441ea9364b13dfef101b",
      "e7d3b9b9d1224868988e665b4c677357"
     ]
    },
    "executionInfo": {
     "elapsed": 95144,
     "status": "ok",
     "timestamp": 1683473315988,
     "user": {
      "displayName": "이승윤",
      "userId": "17995305622900705411"
     },
     "user_tz": -540
    },
    "id": "xUBnp4ciQwYz",
    "outputId": "4e01c3eb-b83e-47e7-951d-aa148b309c6e"
   },
   "outputs": [
    {
     "data": {
      "application/vnd.jupyter.widget-view+json": {
       "model_id": "ef147184afa2499591ef2684690d3633",
       "version_major": 2,
       "version_minor": 0
      },
      "text/plain": [
       "  0%|          | 0/5001 [00:00<?, ?it/s]"
      ]
     },
     "metadata": {},
     "output_type": "display_data"
    },
    {
     "data": {
      "application/vnd.jupyter.widget-view+json": {
       "model_id": "3e831347f31c421dac0dace6356b9ba2",
       "version_major": 2,
       "version_minor": 0
      },
      "text/plain": [
       "  0%|          | 0/1881 [00:00<?, ?it/s]"
      ]
     },
     "metadata": {},
     "output_type": "display_data"
    }
   ],
   "source": [
    "train_x = get_mfcc_feature(train_df)\n",
    "test_x = get_mfcc_feature(test_df)"
   ]
  },
  {
   "cell_type": "code",
   "execution_count": 7,
   "id": "jCpjTwAoQwY0",
   "metadata": {
    "executionInfo": {
     "elapsed": 23,
     "status": "ok",
     "timestamp": 1683473315989,
     "user": {
      "displayName": "이승윤",
      "userId": "17995305622900705411"
     },
     "user_tz": -540
    },
    "id": "jCpjTwAoQwY0"
   },
   "outputs": [],
   "source": [
    "train_x['label'] = train_df['label']"
   ]
  },
  {
   "cell_type": "markdown",
   "id": "ZC7hzMtOQwY0",
   "metadata": {
    "id": "ZC7hzMtOQwY0"
   },
   "source": [
    "## Classification Model Fit"
   ]
  },
  {
   "cell_type": "code",
   "execution_count": 12,
   "id": "17e5a05d",
   "metadata": {},
   "outputs": [],
   "source": [
    "features = list(test_x.columns)\n",
    "target = 'label'"
   ]
  },
  {
   "cell_type": "code",
   "execution_count": 13,
   "id": "1aX-3v6JrpX6",
   "metadata": {
    "colab": {
     "base_uri": "https://localhost:8080/",
     "height": 75
    },
    "executionInfo": {
     "elapsed": 22,
     "status": "ok",
     "timestamp": 1683473315989,
     "user": {
      "displayName": "이승윤",
      "userId": "17995305622900705411"
     },
     "user_tz": -540
    },
    "id": "1aX-3v6JrpX6",
    "outputId": "99876b02-be42-4e2a-8b13-844328b558fe"
   },
   "outputs": [
    {
     "name": "stderr",
     "output_type": "stream",
     "text": [
      "\r",
      "0it [00:00, ?it/s]"
     ]
    },
    {
     "name": "stdout",
     "output_type": "stream",
     "text": [
      "0:\tlearn: 1.7862662\ttest: 1.7863282\tbest: 1.7863282 (0)\ttotal: 172ms\tremaining: 14m 22s\n",
      "2000:\tlearn: 0.8821669\ttest: 1.2513395\tbest: 1.2513395 (2000)\ttotal: 29.9s\tremaining: 44.9s\n",
      "4000:\tlearn: 0.5786088\ttest: 1.2095490\tbest: 1.2094785 (3997)\ttotal: 1m\tremaining: 15.2s\n"
     ]
    },
    {
     "name": "stderr",
     "output_type": "stream",
     "text": [
      "\r",
      "1it [01:18, 78.38s/it]"
     ]
    },
    {
     "name": "stdout",
     "output_type": "stream",
     "text": [
      "4999:\tlearn: 0.4719526\ttest: 1.2024885\tbest: 1.2023982 (4914)\ttotal: 1m 17s\tremaining: 0us\n",
      "\n",
      "bestTest = 1.202398174\n",
      "bestIteration = 4914\n",
      "\n",
      "Shrink model to first 4915 iterations.\n",
      "\n",
      "        ***********************************\n",
      "            score : 0.5129740518962076                           \n",
      "        ***********************************\n",
      "        \n",
      "0:\tlearn: 1.7863165\ttest: 1.7861597\tbest: 1.7861597 (0)\ttotal: 19.9ms\tremaining: 1m 39s\n",
      "2000:\tlearn: 0.8772813\ttest: 1.3160988\tbest: 1.3160802 (1999)\ttotal: 32.7s\tremaining: 49s\n",
      "4000:\tlearn: 0.5696727\ttest: 1.2846023\tbest: 1.2844654 (3960)\ttotal: 1m 5s\tremaining: 16.3s\n"
     ]
    },
    {
     "name": "stderr",
     "output_type": "stream",
     "text": [
      "\r",
      "2it [02:41, 80.94s/it]"
     ]
    },
    {
     "name": "stdout",
     "output_type": "stream",
     "text": [
      "4999:\tlearn: 0.4646211\ttest: 1.2767140\tbest: 1.2766677 (4998)\ttotal: 1m 21s\tremaining: 0us\n",
      "\n",
      "bestTest = 1.276667712\n",
      "bestIteration = 4998\n",
      "\n",
      "Shrink model to first 4999 iterations.\n",
      "\n",
      "        ***********************************\n",
      "            score : 0.496                           \n",
      "        ***********************************\n",
      "        \n",
      "0:\tlearn: 1.7861541\ttest: 1.7868828\tbest: 1.7868828 (0)\ttotal: 18ms\tremaining: 1m 30s\n",
      "2000:\tlearn: 0.8754480\ttest: 1.3210904\tbest: 1.3210904 (2000)\ttotal: 32.7s\tremaining: 49.1s\n",
      "4000:\tlearn: 0.5650845\ttest: 1.2848523\tbest: 1.2848380 (3994)\ttotal: 1m 5s\tremaining: 16.3s\n"
     ]
    },
    {
     "name": "stderr",
     "output_type": "stream",
     "text": [
      "\r",
      "3it [04:03, 81.82s/it]"
     ]
    },
    {
     "name": "stdout",
     "output_type": "stream",
     "text": [
      "4999:\tlearn: 0.4576256\ttest: 1.2793130\tbest: 1.2791525 (4941)\ttotal: 1m 21s\tremaining: 0us\n",
      "\n",
      "bestTest = 1.279152534\n",
      "bestIteration = 4941\n",
      "\n",
      "Shrink model to first 4942 iterations.\n",
      "\n",
      "        ***********************************\n",
      "            score : 0.47                           \n",
      "        ***********************************\n",
      "        \n",
      "0:\tlearn: 1.7861047\ttest: 1.7865287\tbest: 1.7865287 (0)\ttotal: 16ms\tremaining: 1m 19s\n",
      "2000:\tlearn: 0.8822295\ttest: 1.3348912\tbest: 1.3348436 (1990)\ttotal: 32.8s\tremaining: 49.2s\n",
      "4000:\tlearn: 0.5702517\ttest: 1.3064798\tbest: 1.3062780 (3965)\ttotal: 1m 5s\tremaining: 16.4s\n"
     ]
    },
    {
     "name": "stderr",
     "output_type": "stream",
     "text": [
      "\r",
      "4it [05:20, 79.73s/it]"
     ]
    },
    {
     "name": "stdout",
     "output_type": "stream",
     "text": [
      "Stopped by overfitting detector  (200 iterations wait)\n",
      "\n",
      "bestTest = 1.304726099\n",
      "bestIteration = 4396\n",
      "\n",
      "Shrink model to first 4397 iterations.\n",
      "\n",
      "        ***********************************\n",
      "            score : 0.5                           \n",
      "        ***********************************\n",
      "        \n",
      "0:\tlearn: 1.7859862\ttest: 1.7867474\tbest: 1.7867474 (0)\ttotal: 17.7ms\tremaining: 1m 28s\n",
      "2000:\tlearn: 0.8788546\ttest: 1.3386860\tbest: 1.3386860 (2000)\ttotal: 32.8s\tremaining: 49.1s\n",
      "4000:\tlearn: 0.5720612\ttest: 1.3020588\tbest: 1.3019079 (3960)\ttotal: 1m 5s\tremaining: 16.4s\n"
     ]
    },
    {
     "name": "stderr",
     "output_type": "stream",
     "text": [
      "\r",
      "5it [06:43, 80.87s/it]"
     ]
    },
    {
     "name": "stdout",
     "output_type": "stream",
     "text": [
      "4999:\tlearn: 0.4662178\ttest: 1.2945626\tbest: 1.2945626 (4999)\ttotal: 1m 21s\tremaining: 0us\n",
      "\n",
      "bestTest = 1.294562594\n",
      "bestIteration = 4999\n",
      "\n",
      "\n",
      "        ***********************************\n",
      "            score : 0.5                           \n",
      "        ***********************************\n",
      "        \n",
      "0:\tlearn: 1.7861386\ttest: 1.7870355\tbest: 1.7870355 (0)\ttotal: 19.6ms\tremaining: 1m 37s\n",
      "2000:\tlearn: 0.8654947\ttest: 1.3600844\tbest: 1.3600769 (1999)\ttotal: 32.8s\tremaining: 49.1s\n",
      "4000:\tlearn: 0.5569427\ttest: 1.3346367\tbest: 1.3345542 (3913)\ttotal: 1m 5s\tremaining: 16.4s\n"
     ]
    },
    {
     "name": "stderr",
     "output_type": "stream",
     "text": [
      "\r",
      "6it [08:06, 81.53s/it]"
     ]
    },
    {
     "name": "stdout",
     "output_type": "stream",
     "text": [
      "4999:\tlearn: 0.4526044\ttest: 1.3300547\tbest: 1.3297400 (4893)\ttotal: 1m 21s\tremaining: 0us\n",
      "\n",
      "bestTest = 1.329739974\n",
      "bestIteration = 4893\n",
      "\n",
      "Shrink model to first 4894 iterations.\n",
      "\n",
      "        ***********************************\n",
      "            score : 0.494                           \n",
      "        ***********************************\n",
      "        \n",
      "0:\tlearn: 1.7861266\ttest: 1.7862322\tbest: 1.7862322 (0)\ttotal: 17.7ms\tremaining: 1m 28s\n",
      "2000:\tlearn: 0.8839498\ttest: 1.2869818\tbest: 1.2869756 (1999)\ttotal: 32.8s\tremaining: 49.1s\n",
      "4000:\tlearn: 0.5729779\ttest: 1.2580687\tbest: 1.2575097 (3947)\ttotal: 1m 5s\tremaining: 16.4s\n"
     ]
    },
    {
     "name": "stderr",
     "output_type": "stream",
     "text": [
      "\r",
      "7it [09:15, 77.37s/it]"
     ]
    },
    {
     "name": "stdout",
     "output_type": "stream",
     "text": [
      "Stopped by overfitting detector  (200 iterations wait)\n",
      "\n",
      "bestTest = 1.257509682\n",
      "bestIteration = 3947\n",
      "\n",
      "Shrink model to first 3948 iterations.\n",
      "\n",
      "        ***********************************\n",
      "            score : 0.482                           \n",
      "        ***********************************\n",
      "        \n",
      "0:\tlearn: 1.7860201\ttest: 1.7865381\tbest: 1.7865381 (0)\ttotal: 19.2ms\tremaining: 1m 35s\n",
      "2000:\tlearn: 0.8763025\ttest: 1.3102958\tbest: 1.3102958 (2000)\ttotal: 34.1s\tremaining: 51.1s\n",
      "4000:\tlearn: 0.5673163\ttest: 1.2787033\tbest: 1.2786078 (3959)\ttotal: 1m 8s\tremaining: 17s\n"
     ]
    },
    {
     "name": "stderr",
     "output_type": "stream",
     "text": [
      "\r",
      "8it [10:40, 80.01s/it]"
     ]
    },
    {
     "name": "stdout",
     "output_type": "stream",
     "text": [
      "4999:\tlearn: 0.4646695\ttest: 1.2732417\tbest: 1.2731673 (4991)\ttotal: 1m 24s\tremaining: 0us\n",
      "\n",
      "bestTest = 1.273167343\n",
      "bestIteration = 4991\n",
      "\n",
      "Shrink model to first 4992 iterations.\n",
      "\n",
      "        ***********************************\n",
      "            score : 0.464                           \n",
      "        ***********************************\n",
      "        \n",
      "0:\tlearn: 1.7862557\ttest: 1.7863857\tbest: 1.7863857 (0)\ttotal: 17ms\tremaining: 1m 24s\n",
      "2000:\tlearn: 0.8800793\ttest: 1.3041585\tbest: 1.3040441 (1988)\ttotal: 32.7s\tremaining: 49s\n",
      "4000:\tlearn: 0.5711793\ttest: 1.2832383\tbest: 1.2831574 (3977)\ttotal: 1m 5s\tremaining: 16.3s\n",
      "4999:\tlearn: 0.4639655\ttest: 1.2810070\tbest: 1.2805109 (4879)\ttotal: 1m 22s\tremaining: 0us\n",
      "\n",
      "bestTest = 1.280510909\n",
      "bestIteration = 4879\n",
      "\n",
      "Shrink model to first 4880 iterations.\n"
     ]
    },
    {
     "name": "stderr",
     "output_type": "stream",
     "text": [
      "\r",
      "9it [12:03, 81.01s/it]"
     ]
    },
    {
     "name": "stdout",
     "output_type": "stream",
     "text": [
      "\n",
      "        ***********************************\n",
      "            score : 0.486                           \n",
      "        ***********************************\n",
      "        \n",
      "0:\tlearn: 1.7862406\ttest: 1.7865808\tbest: 1.7865808 (0)\ttotal: 17.1ms\tremaining: 1m 25s\n",
      "2000:\tlearn: 0.8748923\ttest: 1.3347750\tbest: 1.3347750 (2000)\ttotal: 32.8s\tremaining: 49.1s\n",
      "4000:\tlearn: 0.5653430\ttest: 1.3086768\tbest: 1.3084538 (3983)\ttotal: 1m 5s\tremaining: 16.4s\n"
     ]
    },
    {
     "name": "stderr",
     "output_type": "stream",
     "text": [
      "10it [13:27, 80.71s/it]"
     ]
    },
    {
     "name": "stdout",
     "output_type": "stream",
     "text": [
      "4999:\tlearn: 0.4602190\ttest: 1.3050541\tbest: 1.3049158 (4988)\ttotal: 1m 22s\tremaining: 0us\n",
      "\n",
      "bestTest = 1.304915801\n",
      "bestIteration = 4988\n",
      "\n",
      "Shrink model to first 4989 iterations.\n",
      "\n",
      "        ***********************************\n",
      "            score : 0.474                           \n",
      "        ***********************************\n",
      "        \n"
     ]
    },
    {
     "name": "stderr",
     "output_type": "stream",
     "text": [
      "\n"
     ]
    },
    {
     "ename": "NameError",
     "evalue": "name 'train_y' is not defined",
     "output_type": "error",
     "traceback": [
      "\u001b[1;31m---------------------------------------------------------------------------\u001b[0m",
      "\u001b[1;31mNameError\u001b[0m                                 Traceback (most recent call last)",
      "Input \u001b[1;32mIn [13]\u001b[0m, in \u001b[0;36m<cell line: 48>\u001b[1;34m()\u001b[0m\n\u001b[0;32m     44\u001b[0m         val_scores\u001b[38;5;241m.\u001b[39mappend(score)\n\u001b[0;32m     47\u001b[0m model \u001b[38;5;241m=\u001b[39m DecisionTreeClassifier(random_state\u001b[38;5;241m=\u001b[39mCFG[\u001b[38;5;124m'\u001b[39m\u001b[38;5;124mSEED\u001b[39m\u001b[38;5;124m'\u001b[39m])\n\u001b[1;32m---> 48\u001b[0m model\u001b[38;5;241m.\u001b[39mfit(train_x, \u001b[43mtrain_y\u001b[49m)\n",
      "\u001b[1;31mNameError\u001b[0m: name 'train_y' is not defined"
     ]
    }
   ],
   "source": [
    "from catboost import CatBoostClassifier, CatBoostRegressor\n",
    "from lightgbm import LGBMClassifier, LGBMRegressor\n",
    "from xgboost import XGBClassifier\n",
    "from sklearn.metrics import log_loss, mean_squared_error, mean_absolute_error, accuracy_score\n",
    "from sklearn.model_selection import KFold, StratifiedKFold\n",
    "from sklearn.model_selection import GridSearchCV\n",
    "from tqdm import tqdm\n",
    "\n",
    "kf = StratifiedKFold(n_splits = 10)\n",
    "models = []\n",
    "val_scores = []\n",
    "preds = []\n",
    "\n",
    "params = {\n",
    "'n_estimators':5000,\n",
    "'max_depth':6,\n",
    "'early_stopping_rounds':200,\n",
    "'learning_rate':0.01,\n",
    "'one_hot_max_size':3,\n",
    "'bootstrap_type':\"MVS\",\n",
    "'l2_leaf_reg':2,\n",
    "'random_state':41\n",
    "         }\n",
    "\n",
    "for i, (train_index, val_index) in tqdm(enumerate(kf.split(train_x, train_x[target]))):\n",
    "\n",
    "        # clf.fit(train_x, train_y)\n",
    "\n",
    "        X_train, X_val = train_x[features].loc[train_index], train_x[features].loc[val_index]\n",
    "        y_train, y_val = train_x[target][train_index], train_x[target][val_index]\n",
    "\n",
    "        model = CatBoostClassifier(**params)\n",
    "    \n",
    "        model.fit(X_train, y_train, eval_set = [(X_val, y_val)], verbose = 2000)\n",
    "\n",
    "        models.append(model)\n",
    "        score = accuracy_score(y_val, model.predict(X_val))\n",
    "        print(f'''\n",
    "        ***********************************\n",
    "            score : {score}                           \n",
    "        ***********************************\n",
    "        ''')\n",
    "\n",
    "        val_scores.append(score)\n",
    "\n",
    "\n",
    "# model = DecisionTreeClassifier(random_state=CFG['SEED'])\n",
    "# model.fit(train_x, train_y)"
   ]
  },
  {
   "cell_type": "code",
   "execution_count": 26,
   "id": "38469d4c",
   "metadata": {},
   "outputs": [
    {
     "data": {
      "text/plain": [
       "array([[[0.10108775, 0.08525134, 0.02915478, 0.13295887, 0.1783878 ,\n",
       "         0.47315947],\n",
       "        [0.61766067, 0.19233677, 0.00300172, 0.07398526, 0.00430061,\n",
       "         0.10871497],\n",
       "        [0.00178148, 0.17512822, 0.73262991, 0.03379591, 0.04350131,\n",
       "         0.01316317],\n",
       "        ...,\n",
       "        [0.55884108, 0.04925793, 0.00248856, 0.0753052 , 0.00577423,\n",
       "         0.308333  ],\n",
       "        [0.0046205 , 0.31015345, 0.3703508 , 0.09653795, 0.13368893,\n",
       "         0.08464837],\n",
       "        [0.03835812, 0.07314498, 0.2738962 , 0.29064208, 0.26016216,\n",
       "         0.06379646]],\n",
       "\n",
       "       [[0.08915069, 0.07621068, 0.02266672, 0.14436068, 0.15758557,\n",
       "         0.51002566],\n",
       "        [0.61389604, 0.22003886, 0.00143426, 0.06001046, 0.00281468,\n",
       "         0.1018057 ],\n",
       "        [0.00272155, 0.23426985, 0.64633789, 0.0476781 , 0.05300195,\n",
       "         0.01599066],\n",
       "        ...,\n",
       "        [0.4663431 , 0.0586023 , 0.00236485, 0.07243724, 0.00301905,\n",
       "         0.39723346],\n",
       "        [0.00526381, 0.2889745 , 0.38967191, 0.05929778, 0.17762066,\n",
       "         0.07917134],\n",
       "        [0.03275984, 0.05569896, 0.35782485, 0.22413101, 0.2892241 ,\n",
       "         0.04036124]],\n",
       "\n",
       "       [[0.08618668, 0.07871463, 0.03436527, 0.16042556, 0.18325566,\n",
       "         0.45705221],\n",
       "        [0.63365551, 0.18740829, 0.00301312, 0.07946902, 0.00545066,\n",
       "         0.0910034 ],\n",
       "        [0.00212473, 0.24887309, 0.6759584 , 0.02467219, 0.03610147,\n",
       "         0.01227013],\n",
       "        ...,\n",
       "        [0.49135019, 0.07384296, 0.00400762, 0.10218603, 0.00760039,\n",
       "         0.32101281],\n",
       "        [0.00703449, 0.30137861, 0.26175279, 0.10728837, 0.22837528,\n",
       "         0.09417046],\n",
       "        [0.03647552, 0.08902602, 0.29675815, 0.23545397, 0.29774812,\n",
       "         0.04453822]],\n",
       "\n",
       "       ...,\n",
       "\n",
       "       [[0.12821993, 0.077225  , 0.02750888, 0.14786296, 0.19683286,\n",
       "         0.42235037],\n",
       "        [0.61329382, 0.20155518, 0.00188944, 0.0696982 , 0.00455541,\n",
       "         0.10900796],\n",
       "        [0.00173313, 0.19422071, 0.6998742 , 0.03972027, 0.04665359,\n",
       "         0.01779808],\n",
       "        ...,\n",
       "        [0.59392947, 0.06054925, 0.00388663, 0.07821387, 0.00417984,\n",
       "         0.25924093],\n",
       "        [0.00534083, 0.23501057, 0.35209872, 0.07798701, 0.25382381,\n",
       "         0.07573906],\n",
       "        [0.02969395, 0.08812188, 0.33581287, 0.24871309, 0.24497114,\n",
       "         0.05268707]],\n",
       "\n",
       "       [[0.09469389, 0.08259456, 0.02675478, 0.07622777, 0.18509212,\n",
       "         0.53463688],\n",
       "        [0.58512674, 0.24265318, 0.00331443, 0.0517496 , 0.0083187 ,\n",
       "         0.10883734],\n",
       "        [0.00215313, 0.17185746, 0.73867964, 0.04461969, 0.02670753,\n",
       "         0.01598254],\n",
       "        ...,\n",
       "        [0.68888104, 0.02516344, 0.00207539, 0.05970534, 0.00304384,\n",
       "         0.22113095],\n",
       "        [0.00402916, 0.30559868, 0.37901874, 0.09716992, 0.14075456,\n",
       "         0.07342895],\n",
       "        [0.045732  , 0.08869299, 0.26933844, 0.23277341, 0.31707688,\n",
       "         0.04638629]],\n",
       "\n",
       "       [[0.11321322, 0.09712234, 0.03055261, 0.19247219, 0.14725856,\n",
       "         0.41938109],\n",
       "        [0.58738976, 0.20566794, 0.00263924, 0.08633429, 0.00609264,\n",
       "         0.11187614],\n",
       "        [0.00187928, 0.34830786, 0.57180057, 0.02022225, 0.04384802,\n",
       "         0.01394201],\n",
       "        ...,\n",
       "        [0.61419364, 0.04416393, 0.00171458, 0.06894313, 0.0037631 ,\n",
       "         0.26722163],\n",
       "        [0.00676871, 0.24562723, 0.41243269, 0.10434642, 0.16248786,\n",
       "         0.06833708],\n",
       "        [0.02996422, 0.10032327, 0.25387964, 0.2495348 , 0.31328835,\n",
       "         0.05300973]]])"
      ]
     },
     "execution_count": 26,
     "metadata": {},
     "output_type": "execute_result"
    }
   ],
   "source": [
    "preds = np.array([model.predict_proba(test_x[features]) for model in models])\n",
    "preds"
   ]
  },
  {
   "cell_type": "code",
   "execution_count": 27,
   "id": "6fe6be91",
   "metadata": {},
   "outputs": [
    {
     "data": {
      "text/plain": [
       "array([[0.09872608, 0.0800743 , 0.02740238, 0.14478668, 0.18508593,\n",
       "        0.46392463],\n",
       "       [0.61934247, 0.20428827, 0.00242401, 0.06321666, 0.00515744,\n",
       "        0.10557115],\n",
       "       [0.00211691, 0.22260054, 0.67332162, 0.04005711, 0.04642907,\n",
       "        0.01547475],\n",
       "       ...,\n",
       "       [0.59273301, 0.04997801, 0.00283236, 0.07502555, 0.00475413,\n",
       "        0.27467695],\n",
       "       [0.00540109, 0.26819583, 0.36719881, 0.09929249, 0.18884381,\n",
       "        0.07106796],\n",
       "       [0.03481494, 0.08451619, 0.30743354, 0.24134658, 0.27453459,\n",
       "        0.05735416]])"
      ]
     },
     "execution_count": 27,
     "metadata": {},
     "output_type": "execute_result"
    }
   ],
   "source": [
    "preds.mean(axis=0)"
   ]
  },
  {
   "cell_type": "code",
   "execution_count": 28,
   "id": "6ccca34e",
   "metadata": {},
   "outputs": [],
   "source": [
    "preds = [np.argmax(i) for i in preds.mean(axis=0)]"
   ]
  },
  {
   "cell_type": "markdown",
   "id": "Uj-WTX6oQwY0",
   "metadata": {
    "id": "Uj-WTX6oQwY0"
   },
   "source": [
    "## Inference"
   ]
  },
  {
   "cell_type": "code",
   "execution_count": 31,
   "id": "cda3c5ee",
   "metadata": {},
   "outputs": [
    {
     "data": {
      "text/plain": [
       "2    398\n",
       "0    372\n",
       "5    315\n",
       "3    296\n",
       "4    288\n",
       "1    212\n",
       "dtype: int64"
      ]
     },
     "execution_count": 31,
     "metadata": {},
     "output_type": "execute_result"
    }
   ],
   "source": [
    "pd.DataFrame(preds).value_counts()"
   ]
  },
  {
   "cell_type": "markdown",
   "id": "5FMPeTISQwY0",
   "metadata": {
    "id": "5FMPeTISQwY0"
   },
   "source": [
    "## Submission"
   ]
  },
  {
   "cell_type": "code",
   "execution_count": 29,
   "id": "AXO-EmaQQwY0",
   "metadata": {
    "executionInfo": {
     "elapsed": 368,
     "status": "ok",
     "timestamp": 1683473316927,
     "user": {
      "displayName": "이승윤",
      "userId": "17995305622900705411"
     },
     "user_tz": -540
    },
    "id": "AXO-EmaQQwY0"
   },
   "outputs": [],
   "source": [
    "submission = pd.read_csv('./sample_submission.csv')\n",
    "submission['label'] = preds\n",
    "submission.to_csv('./baseline_submission.csv', index=False)"
   ]
  }
 ],
 "metadata": {
  "accelerator": "GPU",
  "colab": {
   "provenance": []
  },
  "gpuClass": "standard",
  "kernelspec": {
   "display_name": "Python 3 (ipykernel)",
   "language": "python",
   "name": "python3"
  },
  "language_info": {
   "codemirror_mode": {
    "name": "ipython",
    "version": 3
   },
   "file_extension": ".py",
   "mimetype": "text/x-python",
   "name": "python",
   "nbconvert_exporter": "python",
   "pygments_lexer": "ipython3",
   "version": "3.9.12"
  },
  "toc": {
   "base_numbering": 1,
   "nav_menu": {},
   "number_sections": true,
   "sideBar": true,
   "skip_h1_title": false,
   "title_cell": "Table of Contents",
   "title_sidebar": "Contents",
   "toc_cell": false,
   "toc_position": {},
   "toc_section_display": true,
   "toc_window_display": false
  },
  "widgets": {
   "application/vnd.jupyter.widget-state+json": {
    "09436c3ae2a44a8ca51ee1103b963ada": {
     "model_module": "@jupyter-widgets/base",
     "model_module_version": "1.2.0",
     "model_name": "LayoutModel",
     "state": {
      "_model_module": "@jupyter-widgets/base",
      "_model_module_version": "1.2.0",
      "_model_name": "LayoutModel",
      "_view_count": null,
      "_view_module": "@jupyter-widgets/base",
      "_view_module_version": "1.2.0",
      "_view_name": "LayoutView",
      "align_content": null,
      "align_items": null,
      "align_self": null,
      "border": null,
      "bottom": null,
      "display": null,
      "flex": null,
      "flex_flow": null,
      "grid_area": null,
      "grid_auto_columns": null,
      "grid_auto_flow": null,
      "grid_auto_rows": null,
      "grid_column": null,
      "grid_gap": null,
      "grid_row": null,
      "grid_template_areas": null,
      "grid_template_columns": null,
      "grid_template_rows": null,
      "height": null,
      "justify_content": null,
      "justify_items": null,
      "left": null,
      "margin": null,
      "max_height": null,
      "max_width": null,
      "min_height": null,
      "min_width": null,
      "object_fit": null,
      "object_position": null,
      "order": null,
      "overflow": null,
      "overflow_x": null,
      "overflow_y": null,
      "padding": null,
      "right": null,
      "top": null,
      "visibility": null,
      "width": null
     }
    },
    "29d20f64d430441ea9364b13dfef101b": {
     "model_module": "@jupyter-widgets/base",
     "model_module_version": "1.2.0",
     "model_name": "LayoutModel",
     "state": {
      "_model_module": "@jupyter-widgets/base",
      "_model_module_version": "1.2.0",
      "_model_name": "LayoutModel",
      "_view_count": null,
      "_view_module": "@jupyter-widgets/base",
      "_view_module_version": "1.2.0",
      "_view_name": "LayoutView",
      "align_content": null,
      "align_items": null,
      "align_self": null,
      "border": null,
      "bottom": null,
      "display": null,
      "flex": null,
      "flex_flow": null,
      "grid_area": null,
      "grid_auto_columns": null,
      "grid_auto_flow": null,
      "grid_auto_rows": null,
      "grid_column": null,
      "grid_gap": null,
      "grid_row": null,
      "grid_template_areas": null,
      "grid_template_columns": null,
      "grid_template_rows": null,
      "height": null,
      "justify_content": null,
      "justify_items": null,
      "left": null,
      "margin": null,
      "max_height": null,
      "max_width": null,
      "min_height": null,
      "min_width": null,
      "object_fit": null,
      "object_position": null,
      "order": null,
      "overflow": null,
      "overflow_x": null,
      "overflow_y": null,
      "padding": null,
      "right": null,
      "top": null,
      "visibility": null,
      "width": null
     }
    },
    "4a9ef407319c43bcb20106c47f0db180": {
     "model_module": "@jupyter-widgets/controls",
     "model_module_version": "1.5.0",
     "model_name": "HTMLModel",
     "state": {
      "_dom_classes": [],
      "_model_module": "@jupyter-widgets/controls",
      "_model_module_version": "1.5.0",
      "_model_name": "HTMLModel",
      "_view_count": null,
      "_view_module": "@jupyter-widgets/controls",
      "_view_module_version": "1.5.0",
      "_view_name": "HTMLView",
      "description": "",
      "description_tooltip": null,
      "layout": "IPY_MODEL_09436c3ae2a44a8ca51ee1103b963ada",
      "placeholder": "​",
      "style": "IPY_MODEL_f6d802990a2344db99bf282c663efa5a",
      "value": "100%"
     }
    },
    "4c356887768a4330ab0b0eec28984484": {
     "model_module": "@jupyter-widgets/controls",
     "model_module_version": "1.5.0",
     "model_name": "DescriptionStyleModel",
     "state": {
      "_model_module": "@jupyter-widgets/controls",
      "_model_module_version": "1.5.0",
      "_model_name": "DescriptionStyleModel",
      "_view_count": null,
      "_view_module": "@jupyter-widgets/base",
      "_view_module_version": "1.2.0",
      "_view_name": "StyleView",
      "description_width": ""
     }
    },
    "520b45d5f972463da632a32f96c71ee4": {
     "model_module": "@jupyter-widgets/controls",
     "model_module_version": "1.5.0",
     "model_name": "HTMLModel",
     "state": {
      "_dom_classes": [],
      "_model_module": "@jupyter-widgets/controls",
      "_model_module_version": "1.5.0",
      "_model_name": "HTMLModel",
      "_view_count": null,
      "_view_module": "@jupyter-widgets/controls",
      "_view_module_version": "1.5.0",
      "_view_name": "HTMLView",
      "description": "",
      "description_tooltip": null,
      "layout": "IPY_MODEL_29d20f64d430441ea9364b13dfef101b",
      "placeholder": "​",
      "style": "IPY_MODEL_e7d3b9b9d1224868988e665b4c677357",
      "value": " 1881/1881 [00:24&lt;00:00, 97.61it/s]"
     }
    },
    "53ccb4062ee94e0c84618143ff39ce05": {
     "model_module": "@jupyter-widgets/base",
     "model_module_version": "1.2.0",
     "model_name": "LayoutModel",
     "state": {
      "_model_module": "@jupyter-widgets/base",
      "_model_module_version": "1.2.0",
      "_model_name": "LayoutModel",
      "_view_count": null,
      "_view_module": "@jupyter-widgets/base",
      "_view_module_version": "1.2.0",
      "_view_name": "LayoutView",
      "align_content": null,
      "align_items": null,
      "align_self": null,
      "border": null,
      "bottom": null,
      "display": null,
      "flex": null,
      "flex_flow": null,
      "grid_area": null,
      "grid_auto_columns": null,
      "grid_auto_flow": null,
      "grid_auto_rows": null,
      "grid_column": null,
      "grid_gap": null,
      "grid_row": null,
      "grid_template_areas": null,
      "grid_template_columns": null,
      "grid_template_rows": null,
      "height": null,
      "justify_content": null,
      "justify_items": null,
      "left": null,
      "margin": null,
      "max_height": null,
      "max_width": null,
      "min_height": null,
      "min_width": null,
      "object_fit": null,
      "object_position": null,
      "order": null,
      "overflow": null,
      "overflow_x": null,
      "overflow_y": null,
      "padding": null,
      "right": null,
      "top": null,
      "visibility": null,
      "width": null
     }
    },
    "55e857853048445b87cea2de151ba035": {
     "model_module": "@jupyter-widgets/base",
     "model_module_version": "1.2.0",
     "model_name": "LayoutModel",
     "state": {
      "_model_module": "@jupyter-widgets/base",
      "_model_module_version": "1.2.0",
      "_model_name": "LayoutModel",
      "_view_count": null,
      "_view_module": "@jupyter-widgets/base",
      "_view_module_version": "1.2.0",
      "_view_name": "LayoutView",
      "align_content": null,
      "align_items": null,
      "align_self": null,
      "border": null,
      "bottom": null,
      "display": null,
      "flex": null,
      "flex_flow": null,
      "grid_area": null,
      "grid_auto_columns": null,
      "grid_auto_flow": null,
      "grid_auto_rows": null,
      "grid_column": null,
      "grid_gap": null,
      "grid_row": null,
      "grid_template_areas": null,
      "grid_template_columns": null,
      "grid_template_rows": null,
      "height": null,
      "justify_content": null,
      "justify_items": null,
      "left": null,
      "margin": null,
      "max_height": null,
      "max_width": null,
      "min_height": null,
      "min_width": null,
      "object_fit": null,
      "object_position": null,
      "order": null,
      "overflow": null,
      "overflow_x": null,
      "overflow_y": null,
      "padding": null,
      "right": null,
      "top": null,
      "visibility": null,
      "width": null
     }
    },
    "790f3379b0364c88ae6bdec739b97248": {
     "model_module": "@jupyter-widgets/base",
     "model_module_version": "1.2.0",
     "model_name": "LayoutModel",
     "state": {
      "_model_module": "@jupyter-widgets/base",
      "_model_module_version": "1.2.0",
      "_model_name": "LayoutModel",
      "_view_count": null,
      "_view_module": "@jupyter-widgets/base",
      "_view_module_version": "1.2.0",
      "_view_name": "LayoutView",
      "align_content": null,
      "align_items": null,
      "align_self": null,
      "border": null,
      "bottom": null,
      "display": null,
      "flex": null,
      "flex_flow": null,
      "grid_area": null,
      "grid_auto_columns": null,
      "grid_auto_flow": null,
      "grid_auto_rows": null,
      "grid_column": null,
      "grid_gap": null,
      "grid_row": null,
      "grid_template_areas": null,
      "grid_template_columns": null,
      "grid_template_rows": null,
      "height": null,
      "justify_content": null,
      "justify_items": null,
      "left": null,
      "margin": null,
      "max_height": null,
      "max_width": null,
      "min_height": null,
      "min_width": null,
      "object_fit": null,
      "object_position": null,
      "order": null,
      "overflow": null,
      "overflow_x": null,
      "overflow_y": null,
      "padding": null,
      "right": null,
      "top": null,
      "visibility": null,
      "width": null
     }
    },
    "7a0c9eaf1d1e4a56a195dff77a7ed5f9": {
     "model_module": "@jupyter-widgets/controls",
     "model_module_version": "1.5.0",
     "model_name": "FloatProgressModel",
     "state": {
      "_dom_classes": [],
      "_model_module": "@jupyter-widgets/controls",
      "_model_module_version": "1.5.0",
      "_model_name": "FloatProgressModel",
      "_view_count": null,
      "_view_module": "@jupyter-widgets/controls",
      "_view_module_version": "1.5.0",
      "_view_name": "ProgressView",
      "bar_style": "success",
      "description": "",
      "description_tooltip": null,
      "layout": "IPY_MODEL_bb35a24296ed455a872731cef7333ffb",
      "max": 5001,
      "min": 0,
      "orientation": "horizontal",
      "style": "IPY_MODEL_dc7da92e2f454f79b07c3ca86c3cc9d4",
      "value": 5001
     }
    },
    "911d4b1f888540eb96b8b6a48134f078": {
     "model_module": "@jupyter-widgets/base",
     "model_module_version": "1.2.0",
     "model_name": "LayoutModel",
     "state": {
      "_model_module": "@jupyter-widgets/base",
      "_model_module_version": "1.2.0",
      "_model_name": "LayoutModel",
      "_view_count": null,
      "_view_module": "@jupyter-widgets/base",
      "_view_module_version": "1.2.0",
      "_view_name": "LayoutView",
      "align_content": null,
      "align_items": null,
      "align_self": null,
      "border": null,
      "bottom": null,
      "display": null,
      "flex": null,
      "flex_flow": null,
      "grid_area": null,
      "grid_auto_columns": null,
      "grid_auto_flow": null,
      "grid_auto_rows": null,
      "grid_column": null,
      "grid_gap": null,
      "grid_row": null,
      "grid_template_areas": null,
      "grid_template_columns": null,
      "grid_template_rows": null,
      "height": null,
      "justify_content": null,
      "justify_items": null,
      "left": null,
      "margin": null,
      "max_height": null,
      "max_width": null,
      "min_height": null,
      "min_width": null,
      "object_fit": null,
      "object_position": null,
      "order": null,
      "overflow": null,
      "overflow_x": null,
      "overflow_y": null,
      "padding": null,
      "right": null,
      "top": null,
      "visibility": null,
      "width": null
     }
    },
    "918b0c55f55f4b799fb41adb002c5f1f": {
     "model_module": "@jupyter-widgets/controls",
     "model_module_version": "1.5.0",
     "model_name": "HBoxModel",
     "state": {
      "_dom_classes": [],
      "_model_module": "@jupyter-widgets/controls",
      "_model_module_version": "1.5.0",
      "_model_name": "HBoxModel",
      "_view_count": null,
      "_view_module": "@jupyter-widgets/controls",
      "_view_module_version": "1.5.0",
      "_view_name": "HBoxView",
      "box_style": "",
      "children": [
       "IPY_MODEL_9a823940919d4e068c01e31276740b0f",
       "IPY_MODEL_9fe2d03a06474596b0547d0410da8064",
       "IPY_MODEL_520b45d5f972463da632a32f96c71ee4"
      ],
      "layout": "IPY_MODEL_911d4b1f888540eb96b8b6a48134f078"
     }
    },
    "9a823940919d4e068c01e31276740b0f": {
     "model_module": "@jupyter-widgets/controls",
     "model_module_version": "1.5.0",
     "model_name": "HTMLModel",
     "state": {
      "_dom_classes": [],
      "_model_module": "@jupyter-widgets/controls",
      "_model_module_version": "1.5.0",
      "_model_name": "HTMLModel",
      "_view_count": null,
      "_view_module": "@jupyter-widgets/controls",
      "_view_module_version": "1.5.0",
      "_view_name": "HTMLView",
      "description": "",
      "description_tooltip": null,
      "layout": "IPY_MODEL_53ccb4062ee94e0c84618143ff39ce05",
      "placeholder": "​",
      "style": "IPY_MODEL_df5b9e6414d449f0961eecec22b16991",
      "value": "100%"
     }
    },
    "9fe2d03a06474596b0547d0410da8064": {
     "model_module": "@jupyter-widgets/controls",
     "model_module_version": "1.5.0",
     "model_name": "FloatProgressModel",
     "state": {
      "_dom_classes": [],
      "_model_module": "@jupyter-widgets/controls",
      "_model_module_version": "1.5.0",
      "_model_name": "FloatProgressModel",
      "_view_count": null,
      "_view_module": "@jupyter-widgets/controls",
      "_view_module_version": "1.5.0",
      "_view_name": "ProgressView",
      "bar_style": "success",
      "description": "",
      "description_tooltip": null,
      "layout": "IPY_MODEL_790f3379b0364c88ae6bdec739b97248",
      "max": 1881,
      "min": 0,
      "orientation": "horizontal",
      "style": "IPY_MODEL_e5a69cc464fe42f6be81a34ed57b1686",
      "value": 1881
     }
    },
    "a194d82dd952480387bf1f599a8e52e5": {
     "model_module": "@jupyter-widgets/base",
     "model_module_version": "1.2.0",
     "model_name": "LayoutModel",
     "state": {
      "_model_module": "@jupyter-widgets/base",
      "_model_module_version": "1.2.0",
      "_model_name": "LayoutModel",
      "_view_count": null,
      "_view_module": "@jupyter-widgets/base",
      "_view_module_version": "1.2.0",
      "_view_name": "LayoutView",
      "align_content": null,
      "align_items": null,
      "align_self": null,
      "border": null,
      "bottom": null,
      "display": null,
      "flex": null,
      "flex_flow": null,
      "grid_area": null,
      "grid_auto_columns": null,
      "grid_auto_flow": null,
      "grid_auto_rows": null,
      "grid_column": null,
      "grid_gap": null,
      "grid_row": null,
      "grid_template_areas": null,
      "grid_template_columns": null,
      "grid_template_rows": null,
      "height": null,
      "justify_content": null,
      "justify_items": null,
      "left": null,
      "margin": null,
      "max_height": null,
      "max_width": null,
      "min_height": null,
      "min_width": null,
      "object_fit": null,
      "object_position": null,
      "order": null,
      "overflow": null,
      "overflow_x": null,
      "overflow_y": null,
      "padding": null,
      "right": null,
      "top": null,
      "visibility": null,
      "width": null
     }
    },
    "bb35a24296ed455a872731cef7333ffb": {
     "model_module": "@jupyter-widgets/base",
     "model_module_version": "1.2.0",
     "model_name": "LayoutModel",
     "state": {
      "_model_module": "@jupyter-widgets/base",
      "_model_module_version": "1.2.0",
      "_model_name": "LayoutModel",
      "_view_count": null,
      "_view_module": "@jupyter-widgets/base",
      "_view_module_version": "1.2.0",
      "_view_name": "LayoutView",
      "align_content": null,
      "align_items": null,
      "align_self": null,
      "border": null,
      "bottom": null,
      "display": null,
      "flex": null,
      "flex_flow": null,
      "grid_area": null,
      "grid_auto_columns": null,
      "grid_auto_flow": null,
      "grid_auto_rows": null,
      "grid_column": null,
      "grid_gap": null,
      "grid_row": null,
      "grid_template_areas": null,
      "grid_template_columns": null,
      "grid_template_rows": null,
      "height": null,
      "justify_content": null,
      "justify_items": null,
      "left": null,
      "margin": null,
      "max_height": null,
      "max_width": null,
      "min_height": null,
      "min_width": null,
      "object_fit": null,
      "object_position": null,
      "order": null,
      "overflow": null,
      "overflow_x": null,
      "overflow_y": null,
      "padding": null,
      "right": null,
      "top": null,
      "visibility": null,
      "width": null
     }
    },
    "d5a7c1d85e63402ebd0c36cb6883ab33": {
     "model_module": "@jupyter-widgets/controls",
     "model_module_version": "1.5.0",
     "model_name": "HTMLModel",
     "state": {
      "_dom_classes": [],
      "_model_module": "@jupyter-widgets/controls",
      "_model_module_version": "1.5.0",
      "_model_name": "HTMLModel",
      "_view_count": null,
      "_view_module": "@jupyter-widgets/controls",
      "_view_module_version": "1.5.0",
      "_view_name": "HTMLView",
      "description": "",
      "description_tooltip": null,
      "layout": "IPY_MODEL_a194d82dd952480387bf1f599a8e52e5",
      "placeholder": "​",
      "style": "IPY_MODEL_4c356887768a4330ab0b0eec28984484",
      "value": " 5001/5001 [01:11&lt;00:00, 106.18it/s]"
     }
    },
    "dc7da92e2f454f79b07c3ca86c3cc9d4": {
     "model_module": "@jupyter-widgets/controls",
     "model_module_version": "1.5.0",
     "model_name": "ProgressStyleModel",
     "state": {
      "_model_module": "@jupyter-widgets/controls",
      "_model_module_version": "1.5.0",
      "_model_name": "ProgressStyleModel",
      "_view_count": null,
      "_view_module": "@jupyter-widgets/base",
      "_view_module_version": "1.2.0",
      "_view_name": "StyleView",
      "bar_color": null,
      "description_width": ""
     }
    },
    "df5b9e6414d449f0961eecec22b16991": {
     "model_module": "@jupyter-widgets/controls",
     "model_module_version": "1.5.0",
     "model_name": "DescriptionStyleModel",
     "state": {
      "_model_module": "@jupyter-widgets/controls",
      "_model_module_version": "1.5.0",
      "_model_name": "DescriptionStyleModel",
      "_view_count": null,
      "_view_module": "@jupyter-widgets/base",
      "_view_module_version": "1.2.0",
      "_view_name": "StyleView",
      "description_width": ""
     }
    },
    "e5a69cc464fe42f6be81a34ed57b1686": {
     "model_module": "@jupyter-widgets/controls",
     "model_module_version": "1.5.0",
     "model_name": "ProgressStyleModel",
     "state": {
      "_model_module": "@jupyter-widgets/controls",
      "_model_module_version": "1.5.0",
      "_model_name": "ProgressStyleModel",
      "_view_count": null,
      "_view_module": "@jupyter-widgets/base",
      "_view_module_version": "1.2.0",
      "_view_name": "StyleView",
      "bar_color": null,
      "description_width": ""
     }
    },
    "e7d3b9b9d1224868988e665b4c677357": {
     "model_module": "@jupyter-widgets/controls",
     "model_module_version": "1.5.0",
     "model_name": "DescriptionStyleModel",
     "state": {
      "_model_module": "@jupyter-widgets/controls",
      "_model_module_version": "1.5.0",
      "_model_name": "DescriptionStyleModel",
      "_view_count": null,
      "_view_module": "@jupyter-widgets/base",
      "_view_module_version": "1.2.0",
      "_view_name": "StyleView",
      "description_width": ""
     }
    },
    "f6d802990a2344db99bf282c663efa5a": {
     "model_module": "@jupyter-widgets/controls",
     "model_module_version": "1.5.0",
     "model_name": "DescriptionStyleModel",
     "state": {
      "_model_module": "@jupyter-widgets/controls",
      "_model_module_version": "1.5.0",
      "_model_name": "DescriptionStyleModel",
      "_view_count": null,
      "_view_module": "@jupyter-widgets/base",
      "_view_module_version": "1.2.0",
      "_view_name": "StyleView",
      "description_width": ""
     }
    },
    "fca0079f6a714ac7885e1474711d7913": {
     "model_module": "@jupyter-widgets/controls",
     "model_module_version": "1.5.0",
     "model_name": "HBoxModel",
     "state": {
      "_dom_classes": [],
      "_model_module": "@jupyter-widgets/controls",
      "_model_module_version": "1.5.0",
      "_model_name": "HBoxModel",
      "_view_count": null,
      "_view_module": "@jupyter-widgets/controls",
      "_view_module_version": "1.5.0",
      "_view_name": "HBoxView",
      "box_style": "",
      "children": [
       "IPY_MODEL_4a9ef407319c43bcb20106c47f0db180",
       "IPY_MODEL_7a0c9eaf1d1e4a56a195dff77a7ed5f9",
       "IPY_MODEL_d5a7c1d85e63402ebd0c36cb6883ab33"
      ],
      "layout": "IPY_MODEL_55e857853048445b87cea2de151ba035"
     }
    }
   }
  }
 },
 "nbformat": 4,
 "nbformat_minor": 5
}
