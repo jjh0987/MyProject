{
 "cells": [
  {
   "cell_type": "code",
   "execution_count": 1,
   "id": "feb6c7c1",
   "metadata": {},
   "outputs": [],
   "source": [
    "import pandas as pd\n",
    "train = pd.read_csv('./train.csv')\n",
    "test = pd.read_csv('./test.csv')"
   ]
  },
  {
   "cell_type": "code",
   "execution_count": 2,
   "id": "e97a731f",
   "metadata": {},
   "outputs": [
    {
     "name": "stderr",
     "output_type": "stream",
     "text": [
      "C:\\Users\\User\\AppData\\Local\\Temp\\ipykernel_32204\\2502108886.py:2: UserWarning: \n",
      "\n",
      "`distplot` is a deprecated function and will be removed in seaborn v0.14.0.\n",
      "\n",
      "Please adapt your code to use either `displot` (a figure-level function with\n",
      "similar flexibility) or `histplot` (an axes-level function for histograms).\n",
      "\n",
      "For a guide to updating your code to use the new functions, please see\n",
      "https://gist.github.com/mwaskom/de44147ed2974457ad6372750bbe5751\n",
      "\n",
      "  sns.distplot(train.label)\n"
     ]
    },
    {
     "data": {
      "text/plain": [
       "<AxesSubplot: xlabel='label', ylabel='Density'>"
      ]
     },
     "execution_count": 2,
     "metadata": {},
     "output_type": "execute_result"
    },
    {
     "data": {
      "image/png": "[encoded data removed]",
      "text/plain": [
       "<Figure size 640x480 with 1 Axes>"
      ]
     },
     "metadata": {},
     "output_type": "display_data"
    }
   ],
   "source": [
    "import seaborn as sns\n",
    "sns.distplot(train.label)"
   ]
  },
  {
   "cell_type": "code",
   "execution_count": 3,
   "id": "f68b50e0",
   "metadata": {},
   "outputs": [
    {
     "data": {
      "text/plain": [
       "Index(['ID', '나이', '키(cm)', '몸무게(kg)', 'BMI', '시력', '충치', '공복 혈당', '혈압',\n",
       "       '중성 지방', '혈청 크레아티닌', '콜레스테롤', '고밀도지단백', '저밀도지단백', '헤모글로빈', '요 단백',\n",
       "       '간 효소율', 'label'],\n",
       "      dtype='object')"
      ]
     },
     "execution_count": 3,
     "metadata": {},
     "output_type": "execute_result"
    }
   ],
   "source": [
    "train.columns"
   ]
  },
  {
   "cell_type": "code",
   "execution_count": 4,
   "id": "b03e352a",
   "metadata": {},
   "outputs": [
    {
     "data": {
      "text/html": [
       "<div>\n",
       "<style scoped>\n",
       "    .dataframe tbody tr th:only-of-type {\n",
       "        vertical-align: middle;\n",
       "    }\n",
       "\n",
       "    .dataframe tbody tr th {\n",
       "        vertical-align: top;\n",
       "    }\n",
       "\n",
       "    .dataframe thead th {\n",
       "        text-align: right;\n",
       "    }\n",
       "</style>\n",
       "<table border=\"1\" class=\"dataframe\">\n",
       "  <thead>\n",
       "    <tr style=\"text-align: right;\">\n",
       "      <th></th>\n",
       "      <th>나이</th>\n",
       "      <th>키(cm)</th>\n",
       "      <th>몸무게(kg)</th>\n",
       "      <th>BMI</th>\n",
       "      <th>시력</th>\n",
       "      <th>충치</th>\n",
       "      <th>공복 혈당</th>\n",
       "      <th>혈압</th>\n",
       "      <th>중성 지방</th>\n",
       "      <th>혈청 크레아티닌</th>\n",
       "      <th>콜레스테롤</th>\n",
       "      <th>고밀도지단백</th>\n",
       "      <th>저밀도지단백</th>\n",
       "      <th>헤모글로빈</th>\n",
       "      <th>요 단백</th>\n",
       "      <th>간 효소율</th>\n",
       "      <th>label</th>\n",
       "    </tr>\n",
       "  </thead>\n",
       "  <tbody>\n",
       "    <tr>\n",
       "      <th>count</th>\n",
       "      <td>7000.000000</td>\n",
       "      <td>7000.000000</td>\n",
       "      <td>7000.000000</td>\n",
       "      <td>7000.000000</td>\n",
       "      <td>7000.000000</td>\n",
       "      <td>7000.000000</td>\n",
       "      <td>7000.000000</td>\n",
       "      <td>7000.000000</td>\n",
       "      <td>7000.000000</td>\n",
       "      <td>7000.000000</td>\n",
       "      <td>7000.000000</td>\n",
       "      <td>7000.000000</td>\n",
       "      <td>7000.000000</td>\n",
       "      <td>7000.000000</td>\n",
       "      <td>7000.000000</td>\n",
       "      <td>7000.000000</td>\n",
       "      <td>7000.000000</td>\n",
       "    </tr>\n",
       "    <tr>\n",
       "      <th>mean</th>\n",
       "      <td>43.973571</td>\n",
       "      <td>164.781429</td>\n",
       "      <td>65.932857</td>\n",
       "      <td>24.144423</td>\n",
       "      <td>1.011650</td>\n",
       "      <td>0.227429</td>\n",
       "      <td>99.331857</td>\n",
       "      <td>45.532857</td>\n",
       "      <td>127.144714</td>\n",
       "      <td>0.884900</td>\n",
       "      <td>197.276571</td>\n",
       "      <td>57.355429</td>\n",
       "      <td>115.346857</td>\n",
       "      <td>14.631914</td>\n",
       "      <td>1.083857</td>\n",
       "      <td>1.144696</td>\n",
       "      <td>0.367286</td>\n",
       "    </tr>\n",
       "    <tr>\n",
       "      <th>std</th>\n",
       "      <td>12.063793</td>\n",
       "      <td>9.170213</td>\n",
       "      <td>12.978702</td>\n",
       "      <td>3.501945</td>\n",
       "      <td>0.427828</td>\n",
       "      <td>0.419202</td>\n",
       "      <td>21.129670</td>\n",
       "      <td>8.820611</td>\n",
       "      <td>73.918492</td>\n",
       "      <td>0.241523</td>\n",
       "      <td>36.306494</td>\n",
       "      <td>14.506945</td>\n",
       "      <td>41.788153</td>\n",
       "      <td>1.540907</td>\n",
       "      <td>0.392051</td>\n",
       "      <td>0.432735</td>\n",
       "      <td>0.482100</td>\n",
       "    </tr>\n",
       "    <tr>\n",
       "      <th>min</th>\n",
       "      <td>20.000000</td>\n",
       "      <td>135.000000</td>\n",
       "      <td>30.000000</td>\n",
       "      <td>14.270000</td>\n",
       "      <td>0.100000</td>\n",
       "      <td>0.000000</td>\n",
       "      <td>57.000000</td>\n",
       "      <td>14.000000</td>\n",
       "      <td>21.000000</td>\n",
       "      <td>0.100000</td>\n",
       "      <td>86.000000</td>\n",
       "      <td>18.000000</td>\n",
       "      <td>1.000000</td>\n",
       "      <td>4.900000</td>\n",
       "      <td>1.000000</td>\n",
       "      <td>0.140000</td>\n",
       "      <td>0.000000</td>\n",
       "    </tr>\n",
       "    <tr>\n",
       "      <th>25%</th>\n",
       "      <td>35.000000</td>\n",
       "      <td>160.000000</td>\n",
       "      <td>55.000000</td>\n",
       "      <td>21.600000</td>\n",
       "      <td>0.800000</td>\n",
       "      <td>0.000000</td>\n",
       "      <td>89.000000</td>\n",
       "      <td>40.000000</td>\n",
       "      <td>74.000000</td>\n",
       "      <td>0.800000</td>\n",
       "      <td>173.000000</td>\n",
       "      <td>47.000000</td>\n",
       "      <td>92.000000</td>\n",
       "      <td>13.600000</td>\n",
       "      <td>1.000000</td>\n",
       "      <td>0.840000</td>\n",
       "      <td>0.000000</td>\n",
       "    </tr>\n",
       "    <tr>\n",
       "      <th>50%</th>\n",
       "      <td>40.000000</td>\n",
       "      <td>165.000000</td>\n",
       "      <td>65.000000</td>\n",
       "      <td>23.880000</td>\n",
       "      <td>1.000000</td>\n",
       "      <td>0.000000</td>\n",
       "      <td>96.000000</td>\n",
       "      <td>45.000000</td>\n",
       "      <td>107.000000</td>\n",
       "      <td>0.900000</td>\n",
       "      <td>195.000000</td>\n",
       "      <td>55.000000</td>\n",
       "      <td>113.000000</td>\n",
       "      <td>14.800000</td>\n",
       "      <td>1.000000</td>\n",
       "      <td>1.100000</td>\n",
       "      <td>0.000000</td>\n",
       "    </tr>\n",
       "    <tr>\n",
       "      <th>75%</th>\n",
       "      <td>50.000000</td>\n",
       "      <td>170.000000</td>\n",
       "      <td>75.000000</td>\n",
       "      <td>26.120000</td>\n",
       "      <td>1.200000</td>\n",
       "      <td>0.000000</td>\n",
       "      <td>104.000000</td>\n",
       "      <td>50.000000</td>\n",
       "      <td>161.000000</td>\n",
       "      <td>1.000000</td>\n",
       "      <td>219.000000</td>\n",
       "      <td>66.000000</td>\n",
       "      <td>136.000000</td>\n",
       "      <td>15.700000</td>\n",
       "      <td>1.000000</td>\n",
       "      <td>1.380000</td>\n",
       "      <td>1.000000</td>\n",
       "    </tr>\n",
       "    <tr>\n",
       "      <th>max</th>\n",
       "      <td>85.000000</td>\n",
       "      <td>190.000000</td>\n",
       "      <td>130.000000</td>\n",
       "      <td>42.450000</td>\n",
       "      <td>9.900000</td>\n",
       "      <td>1.000000</td>\n",
       "      <td>386.000000</td>\n",
       "      <td>91.000000</td>\n",
       "      <td>999.000000</td>\n",
       "      <td>10.000000</td>\n",
       "      <td>395.000000</td>\n",
       "      <td>157.000000</td>\n",
       "      <td>1340.000000</td>\n",
       "      <td>20.900000</td>\n",
       "      <td>5.000000</td>\n",
       "      <td>5.670000</td>\n",
       "      <td>1.000000</td>\n",
       "    </tr>\n",
       "  </tbody>\n",
       "</table>\n",
       "</div>"
      ],
      "text/plain": [
       "                나이        키(cm)      몸무게(kg)          BMI           시력  \\\n",
       "count  7000.000000  7000.000000  7000.000000  7000.000000  7000.000000   \n",
       "mean     43.973571   164.781429    65.932857    24.144423     1.011650   \n",
       "std      12.063793     9.170213    12.978702     3.501945     0.427828   \n",
       "min      20.000000   135.000000    30.000000    14.270000     0.100000   \n",
       "25%      35.000000   160.000000    55.000000    21.600000     0.800000   \n",
       "50%      40.000000   165.000000    65.000000    23.880000     1.000000   \n",
       "75%      50.000000   170.000000    75.000000    26.120000     1.200000   \n",
       "max      85.000000   190.000000   130.000000    42.450000     9.900000   \n",
       "\n",
       "                충치        공복 혈당           혈압        중성 지방     혈청 크레아티닌  \\\n",
       "count  7000.000000  7000.000000  7000.000000  7000.000000  7000.000000   \n",
       "mean      0.227429    99.331857    45.532857   127.144714     0.884900   \n",
       "std       0.419202    21.129670     8.820611    73.918492     0.241523   \n",
       "min       0.000000    57.000000    14.000000    21.000000     0.100000   \n",
       "25%       0.000000    89.000000    40.000000    74.000000     0.800000   \n",
       "50%       0.000000    96.000000    45.000000   107.000000     0.900000   \n",
       "75%       0.000000   104.000000    50.000000   161.000000     1.000000   \n",
       "max       1.000000   386.000000    91.000000   999.000000    10.000000   \n",
       "\n",
       "             콜레스테롤       고밀도지단백       저밀도지단백        헤모글로빈         요 단백  \\\n",
       "count  7000.000000  7000.000000  7000.000000  7000.000000  7000.000000   \n",
       "mean    197.276571    57.355429   115.346857    14.631914     1.083857   \n",
       "std      36.306494    14.506945    41.788153     1.540907     0.392051   \n",
       "min      86.000000    18.000000     1.000000     4.900000     1.000000   \n",
       "25%     173.000000    47.000000    92.000000    13.600000     1.000000   \n",
       "50%     195.000000    55.000000   113.000000    14.800000     1.000000   \n",
       "75%     219.000000    66.000000   136.000000    15.700000     1.000000   \n",
       "max     395.000000   157.000000  1340.000000    20.900000     5.000000   \n",
       "\n",
       "             간 효소율        label  \n",
       "count  7000.000000  7000.000000  \n",
       "mean      1.144696     0.367286  \n",
       "std       0.432735     0.482100  \n",
       "min       0.140000     0.000000  \n",
       "25%       0.840000     0.000000  \n",
       "50%       1.100000     0.000000  \n",
       "75%       1.380000     1.000000  \n",
       "max       5.670000     1.000000  "
      ]
     },
     "execution_count": 4,
     "metadata": {},
     "output_type": "execute_result"
    }
   ],
   "source": [
    "train.describe()"
   ]
  },
  {
   "cell_type": "code",
   "execution_count": 5,
   "id": "fd1b142c",
   "metadata": {},
   "outputs": [
    {
     "data": {
      "text/html": [
       "<div>\n",
       "<style scoped>\n",
       "    .dataframe tbody tr th:only-of-type {\n",
       "        vertical-align: middle;\n",
       "    }\n",
       "\n",
       "    .dataframe tbody tr th {\n",
       "        vertical-align: top;\n",
       "    }\n",
       "\n",
       "    .dataframe thead th {\n",
       "        text-align: right;\n",
       "    }\n",
       "</style>\n",
       "<table border=\"1\" class=\"dataframe\">\n",
       "  <thead>\n",
       "    <tr style=\"text-align: right;\">\n",
       "      <th></th>\n",
       "      <th>나이</th>\n",
       "      <th>키(cm)</th>\n",
       "      <th>몸무게(kg)</th>\n",
       "      <th>BMI</th>\n",
       "      <th>시력</th>\n",
       "      <th>충치</th>\n",
       "      <th>공복 혈당</th>\n",
       "      <th>혈압</th>\n",
       "      <th>중성 지방</th>\n",
       "      <th>혈청 크레아티닌</th>\n",
       "      <th>콜레스테롤</th>\n",
       "      <th>고밀도지단백</th>\n",
       "      <th>저밀도지단백</th>\n",
       "      <th>헤모글로빈</th>\n",
       "      <th>요 단백</th>\n",
       "      <th>간 효소율</th>\n",
       "    </tr>\n",
       "  </thead>\n",
       "  <tbody>\n",
       "    <tr>\n",
       "      <th>count</th>\n",
       "      <td>3000.000000</td>\n",
       "      <td>3000.000000</td>\n",
       "      <td>3000.000000</td>\n",
       "      <td>3000.000000</td>\n",
       "      <td>3000.000000</td>\n",
       "      <td>3000.000000</td>\n",
       "      <td>3000.000000</td>\n",
       "      <td>3000.000000</td>\n",
       "      <td>3000.000000</td>\n",
       "      <td>3000.000000</td>\n",
       "      <td>3000.000000</td>\n",
       "      <td>3000.000000</td>\n",
       "      <td>3000.000000</td>\n",
       "      <td>3000.000000</td>\n",
       "      <td>3000.000000</td>\n",
       "      <td>3000.000000</td>\n",
       "    </tr>\n",
       "    <tr>\n",
       "      <th>mean</th>\n",
       "      <td>44.590000</td>\n",
       "      <td>164.366667</td>\n",
       "      <td>65.443333</td>\n",
       "      <td>24.103890</td>\n",
       "      <td>1.003300</td>\n",
       "      <td>0.210667</td>\n",
       "      <td>99.091667</td>\n",
       "      <td>45.340667</td>\n",
       "      <td>127.481667</td>\n",
       "      <td>0.889400</td>\n",
       "      <td>197.300000</td>\n",
       "      <td>57.557000</td>\n",
       "      <td>114.809000</td>\n",
       "      <td>14.614633</td>\n",
       "      <td>1.088667</td>\n",
       "      <td>1.151660</td>\n",
       "    </tr>\n",
       "    <tr>\n",
       "      <th>std</th>\n",
       "      <td>12.328121</td>\n",
       "      <td>9.109146</td>\n",
       "      <td>12.500222</td>\n",
       "      <td>3.414029</td>\n",
       "      <td>0.373893</td>\n",
       "      <td>0.407850</td>\n",
       "      <td>20.197787</td>\n",
       "      <td>9.021072</td>\n",
       "      <td>71.506919</td>\n",
       "      <td>0.218136</td>\n",
       "      <td>35.273513</td>\n",
       "      <td>14.795711</td>\n",
       "      <td>36.868409</td>\n",
       "      <td>1.576051</td>\n",
       "      <td>0.403558</td>\n",
       "      <td>0.523898</td>\n",
       "    </tr>\n",
       "    <tr>\n",
       "      <th>min</th>\n",
       "      <td>20.000000</td>\n",
       "      <td>130.000000</td>\n",
       "      <td>40.000000</td>\n",
       "      <td>15.570000</td>\n",
       "      <td>0.100000</td>\n",
       "      <td>0.000000</td>\n",
       "      <td>48.000000</td>\n",
       "      <td>19.000000</td>\n",
       "      <td>20.000000</td>\n",
       "      <td>0.400000</td>\n",
       "      <td>91.000000</td>\n",
       "      <td>4.000000</td>\n",
       "      <td>21.000000</td>\n",
       "      <td>6.800000</td>\n",
       "      <td>1.000000</td>\n",
       "      <td>0.160000</td>\n",
       "    </tr>\n",
       "    <tr>\n",
       "      <th>25%</th>\n",
       "      <td>40.000000</td>\n",
       "      <td>155.000000</td>\n",
       "      <td>55.000000</td>\n",
       "      <td>21.480000</td>\n",
       "      <td>0.800000</td>\n",
       "      <td>0.000000</td>\n",
       "      <td>89.000000</td>\n",
       "      <td>40.000000</td>\n",
       "      <td>76.000000</td>\n",
       "      <td>0.800000</td>\n",
       "      <td>173.000000</td>\n",
       "      <td>47.000000</td>\n",
       "      <td>91.000000</td>\n",
       "      <td>13.600000</td>\n",
       "      <td>1.000000</td>\n",
       "      <td>0.850000</td>\n",
       "    </tr>\n",
       "    <tr>\n",
       "      <th>50%</th>\n",
       "      <td>40.000000</td>\n",
       "      <td>165.000000</td>\n",
       "      <td>65.000000</td>\n",
       "      <td>23.880000</td>\n",
       "      <td>1.000000</td>\n",
       "      <td>0.000000</td>\n",
       "      <td>96.000000</td>\n",
       "      <td>45.000000</td>\n",
       "      <td>108.000000</td>\n",
       "      <td>0.900000</td>\n",
       "      <td>195.000000</td>\n",
       "      <td>55.000000</td>\n",
       "      <td>113.000000</td>\n",
       "      <td>14.800000</td>\n",
       "      <td>1.000000</td>\n",
       "      <td>1.110000</td>\n",
       "    </tr>\n",
       "    <tr>\n",
       "      <th>75%</th>\n",
       "      <td>55.000000</td>\n",
       "      <td>170.000000</td>\n",
       "      <td>75.000000</td>\n",
       "      <td>25.950000</td>\n",
       "      <td>1.200000</td>\n",
       "      <td>0.000000</td>\n",
       "      <td>104.000000</td>\n",
       "      <td>50.000000</td>\n",
       "      <td>160.250000</td>\n",
       "      <td>1.000000</td>\n",
       "      <td>221.000000</td>\n",
       "      <td>66.000000</td>\n",
       "      <td>136.000000</td>\n",
       "      <td>15.700000</td>\n",
       "      <td>1.000000</td>\n",
       "      <td>1.380000</td>\n",
       "    </tr>\n",
       "    <tr>\n",
       "      <th>max</th>\n",
       "      <td>85.000000</td>\n",
       "      <td>190.000000</td>\n",
       "      <td>120.000000</td>\n",
       "      <td>39.180000</td>\n",
       "      <td>5.700000</td>\n",
       "      <td>1.000000</td>\n",
       "      <td>375.000000</td>\n",
       "      <td>96.000000</td>\n",
       "      <td>548.000000</td>\n",
       "      <td>6.400000</td>\n",
       "      <td>362.000000</td>\n",
       "      <td>148.000000</td>\n",
       "      <td>1010.000000</td>\n",
       "      <td>19.300000</td>\n",
       "      <td>5.000000</td>\n",
       "      <td>19.000000</td>\n",
       "    </tr>\n",
       "  </tbody>\n",
       "</table>\n",
       "</div>"
      ],
      "text/plain": [
       "                나이        키(cm)      몸무게(kg)          BMI           시력  \\\n",
       "count  3000.000000  3000.000000  3000.000000  3000.000000  3000.000000   \n",
       "mean     44.590000   164.366667    65.443333    24.103890     1.003300   \n",
       "std      12.328121     9.109146    12.500222     3.414029     0.373893   \n",
       "min      20.000000   130.000000    40.000000    15.570000     0.100000   \n",
       "25%      40.000000   155.000000    55.000000    21.480000     0.800000   \n",
       "50%      40.000000   165.000000    65.000000    23.880000     1.000000   \n",
       "75%      55.000000   170.000000    75.000000    25.950000     1.200000   \n",
       "max      85.000000   190.000000   120.000000    39.180000     5.700000   \n",
       "\n",
       "                충치        공복 혈당           혈압        중성 지방     혈청 크레아티닌  \\\n",
       "count  3000.000000  3000.000000  3000.000000  3000.000000  3000.000000   \n",
       "mean      0.210667    99.091667    45.340667   127.481667     0.889400   \n",
       "std       0.407850    20.197787     9.021072    71.506919     0.218136   \n",
       "min       0.000000    48.000000    19.000000    20.000000     0.400000   \n",
       "25%       0.000000    89.000000    40.000000    76.000000     0.800000   \n",
       "50%       0.000000    96.000000    45.000000   108.000000     0.900000   \n",
       "75%       0.000000   104.000000    50.000000   160.250000     1.000000   \n",
       "max       1.000000   375.000000    96.000000   548.000000     6.400000   \n",
       "\n",
       "             콜레스테롤       고밀도지단백       저밀도지단백        헤모글로빈         요 단백  \\\n",
       "count  3000.000000  3000.000000  3000.000000  3000.000000  3000.000000   \n",
       "mean    197.300000    57.557000   114.809000    14.614633     1.088667   \n",
       "std      35.273513    14.795711    36.868409     1.576051     0.403558   \n",
       "min      91.000000     4.000000    21.000000     6.800000     1.000000   \n",
       "25%     173.000000    47.000000    91.000000    13.600000     1.000000   \n",
       "50%     195.000000    55.000000   113.000000    14.800000     1.000000   \n",
       "75%     221.000000    66.000000   136.000000    15.700000     1.000000   \n",
       "max     362.000000   148.000000  1010.000000    19.300000     5.000000   \n",
       "\n",
       "             간 효소율  \n",
       "count  3000.000000  \n",
       "mean      1.151660  \n",
       "std       0.523898  \n",
       "min       0.160000  \n",
       "25%       0.850000  \n",
       "50%       1.110000  \n",
       "75%       1.380000  \n",
       "max      19.000000  "
      ]
     },
     "execution_count": 5,
     "metadata": {},
     "output_type": "execute_result"
    }
   ],
   "source": [
    "test.describe()"
   ]
  },
  {
   "cell_type": "code",
   "execution_count": 6,
   "id": "483714c8",
   "metadata": {
    "scrolled": false
   },
   "outputs": [
    {
     "name": "stderr",
     "output_type": "stream",
     "text": [
      "C:\\Users\\User\\anaconda3\\envs\\git_repo\\lib\\site-packages\\IPython\\core\\pylabtools.py:152: UserWarning: Glyph 45208 (\\N{HANGUL SYLLABLE NA}) missing from current font.\n",
      "  fig.canvas.print_figure(bytes_io, **kw)\n",
      "C:\\Users\\User\\anaconda3\\envs\\git_repo\\lib\\site-packages\\IPython\\core\\pylabtools.py:152: UserWarning: Glyph 51060 (\\N{HANGUL SYLLABLE I}) missing from current font.\n",
      "  fig.canvas.print_figure(bytes_io, **kw)\n"
     ]
    },
    {
     "data": {
      "image/png": "[encoded data removed]",
      "text/plain": [
       "<Figure size 640x480 with 1 Axes>"
      ]
     },
     "metadata": {},
     "output_type": "display_data"
    },
    {
     "name": "stderr",
     "output_type": "stream",
     "text": [
      "C:\\Users\\User\\anaconda3\\envs\\git_repo\\lib\\site-packages\\IPython\\core\\pylabtools.py:152: UserWarning: Glyph 53412 (\\N{HANGUL SYLLABLE KI}) missing from current font.\n",
      "  fig.canvas.print_figure(bytes_io, **kw)\n"
     ]
    },
    {
     "data": {
      "image/png": "[encoded data removed]",
      "text/plain": [
       "<Figure size 640x480 with 1 Axes>"
      ]
     },
     "metadata": {},
     "output_type": "display_data"
    },
    {
     "name": "stderr",
     "output_type": "stream",
     "text": [
      "C:\\Users\\User\\anaconda3\\envs\\git_repo\\lib\\site-packages\\IPython\\core\\pylabtools.py:152: UserWarning: Glyph 47800 (\\N{HANGUL SYLLABLE MOM}) missing from current font.\n",
      "  fig.canvas.print_figure(bytes_io, **kw)\n",
      "C:\\Users\\User\\anaconda3\\envs\\git_repo\\lib\\site-packages\\IPython\\core\\pylabtools.py:152: UserWarning: Glyph 47924 (\\N{HANGUL SYLLABLE MU}) missing from current font.\n",
      "  fig.canvas.print_figure(bytes_io, **kw)\n",
      "C:\\Users\\User\\anaconda3\\envs\\git_repo\\lib\\site-packages\\IPython\\core\\pylabtools.py:152: UserWarning: Glyph 44172 (\\N{HANGUL SYLLABLE GE}) missing from current font.\n",
      "  fig.canvas.print_figure(bytes_io, **kw)\n"
     ]
    },
    {
     "data": {
      "image/png": "[encoded data removed]",
      "text/plain": [
       "<Figure size 640x480 with 1 Axes>"
      ]
     },
     "metadata": {},
     "output_type": "display_data"
    },
    {
     "data": {
      "image/png": "[encoded data removed]",
      "text/plain": [
       "<Figure size 640x480 with 1 Axes>"
      ]
     },
     "metadata": {},
     "output_type": "display_data"
    },
    {
     "name": "stderr",
     "output_type": "stream",
     "text": [
      "C:\\Users\\User\\anaconda3\\envs\\git_repo\\lib\\site-packages\\IPython\\core\\pylabtools.py:152: UserWarning: Glyph 49884 (\\N{HANGUL SYLLABLE SI}) missing from current font.\n",
      "  fig.canvas.print_figure(bytes_io, **kw)\n",
      "C:\\Users\\User\\anaconda3\\envs\\git_repo\\lib\\site-packages\\IPython\\core\\pylabtools.py:152: UserWarning: Glyph 47141 (\\N{HANGUL SYLLABLE RYEOG}) missing from current font.\n",
      "  fig.canvas.print_figure(bytes_io, **kw)\n"
     ]
    },
    {
     "data": {
      "image/png": "[encoded data removed]",
      "text/plain": [
       "<Figure size 640x480 with 1 Axes>"
      ]
     },
     "metadata": {},
     "output_type": "display_data"
    },
    {
     "name": "stderr",
     "output_type": "stream",
     "text": [
      "C:\\Users\\User\\anaconda3\\envs\\git_repo\\lib\\site-packages\\IPython\\core\\pylabtools.py:152: UserWarning: Glyph 52649 (\\N{HANGUL SYLLABLE CUNG}) missing from current font.\n",
      "  fig.canvas.print_figure(bytes_io, **kw)\n",
      "C:\\Users\\User\\anaconda3\\envs\\git_repo\\lib\\site-packages\\IPython\\core\\pylabtools.py:152: UserWarning: Glyph 52824 (\\N{HANGUL SYLLABLE CI}) missing from current font.\n",
      "  fig.canvas.print_figure(bytes_io, **kw)\n"
     ]
    },
    {
     "data": {
      "image/png": "[encoded data removed]",
      "text/plain": [
       "<Figure size 640x480 with 1 Axes>"
      ]
     },
     "metadata": {},
     "output_type": "display_data"
    },
    {
     "name": "stderr",
     "output_type": "stream",
     "text": [
      "C:\\Users\\User\\anaconda3\\envs\\git_repo\\lib\\site-packages\\IPython\\core\\pylabtools.py:152: UserWarning: Glyph 44277 (\\N{HANGUL SYLLABLE GONG}) missing from current font.\n",
      "  fig.canvas.print_figure(bytes_io, **kw)\n",
      "C:\\Users\\User\\anaconda3\\envs\\git_repo\\lib\\site-packages\\IPython\\core\\pylabtools.py:152: UserWarning: Glyph 48373 (\\N{HANGUL SYLLABLE BOG}) missing from current font.\n",
      "  fig.canvas.print_figure(bytes_io, **kw)\n",
      "C:\\Users\\User\\anaconda3\\envs\\git_repo\\lib\\site-packages\\IPython\\core\\pylabtools.py:152: UserWarning: Glyph 54792 (\\N{HANGUL SYLLABLE HYEOL}) missing from current font.\n",
      "  fig.canvas.print_figure(bytes_io, **kw)\n",
      "C:\\Users\\User\\anaconda3\\envs\\git_repo\\lib\\site-packages\\IPython\\core\\pylabtools.py:152: UserWarning: Glyph 45817 (\\N{HANGUL SYLLABLE DANG}) missing from current font.\n",
      "  fig.canvas.print_figure(bytes_io, **kw)\n"
     ]
    },
    {
     "data": {
      "image/png": "[encoded data removed]",
      "text/plain": [
       "<Figure size 640x480 with 1 Axes>"
      ]
     },
     "metadata": {},
     "output_type": "display_data"
    },
    {
     "name": "stderr",
     "output_type": "stream",
     "text": [
      "C:\\Users\\User\\anaconda3\\envs\\git_repo\\lib\\site-packages\\IPython\\core\\pylabtools.py:152: UserWarning: Glyph 54792 (\\N{HANGUL SYLLABLE HYEOL}) missing from current font.\n",
      "  fig.canvas.print_figure(bytes_io, **kw)\n",
      "C:\\Users\\User\\anaconda3\\envs\\git_repo\\lib\\site-packages\\IPython\\core\\pylabtools.py:152: UserWarning: Glyph 50517 (\\N{HANGUL SYLLABLE AB}) missing from current font.\n",
      "  fig.canvas.print_figure(bytes_io, **kw)\n"
     ]
    },
    {
     "data": {
      "image/png": "[encoded data removed]",
      "text/plain": [
       "<Figure size 640x480 with 1 Axes>"
      ]
     },
     "metadata": {},
     "output_type": "display_data"
    },
    {
     "name": "stderr",
     "output_type": "stream",
     "text": [
      "C:\\Users\\User\\anaconda3\\envs\\git_repo\\lib\\site-packages\\IPython\\core\\pylabtools.py:152: UserWarning: Glyph 51473 (\\N{HANGUL SYLLABLE JUNG}) missing from current font.\n",
      "  fig.canvas.print_figure(bytes_io, **kw)\n",
      "C:\\Users\\User\\anaconda3\\envs\\git_repo\\lib\\site-packages\\IPython\\core\\pylabtools.py:152: UserWarning: Glyph 49457 (\\N{HANGUL SYLLABLE SEONG}) missing from current font.\n",
      "  fig.canvas.print_figure(bytes_io, **kw)\n",
      "C:\\Users\\User\\anaconda3\\envs\\git_repo\\lib\\site-packages\\IPython\\core\\pylabtools.py:152: UserWarning: Glyph 51648 (\\N{HANGUL SYLLABLE JI}) missing from current font.\n",
      "  fig.canvas.print_figure(bytes_io, **kw)\n",
      "C:\\Users\\User\\anaconda3\\envs\\git_repo\\lib\\site-packages\\IPython\\core\\pylabtools.py:152: UserWarning: Glyph 48169 (\\N{HANGUL SYLLABLE BANG}) missing from current font.\n",
      "  fig.canvas.print_figure(bytes_io, **kw)\n"
     ]
    },
    {
     "data": {
      "image/png": "[encoded data removed]",
      "text/plain": [
       "<Figure size 640x480 with 1 Axes>"
      ]
     },
     "metadata": {},
     "output_type": "display_data"
    },
    {
     "name": "stderr",
     "output_type": "stream",
     "text": [
      "C:\\Users\\User\\anaconda3\\envs\\git_repo\\lib\\site-packages\\IPython\\core\\pylabtools.py:152: UserWarning: Glyph 54792 (\\N{HANGUL SYLLABLE HYEOL}) missing from current font.\n",
      "  fig.canvas.print_figure(bytes_io, **kw)\n",
      "C:\\Users\\User\\anaconda3\\envs\\git_repo\\lib\\site-packages\\IPython\\core\\pylabtools.py:152: UserWarning: Glyph 52397 (\\N{HANGUL SYLLABLE CEONG}) missing from current font.\n",
      "  fig.canvas.print_figure(bytes_io, **kw)\n",
      "C:\\Users\\User\\anaconda3\\envs\\git_repo\\lib\\site-packages\\IPython\\core\\pylabtools.py:152: UserWarning: Glyph 53356 (\\N{HANGUL SYLLABLE KEU}) missing from current font.\n",
      "  fig.canvas.print_figure(bytes_io, **kw)\n",
      "C:\\Users\\User\\anaconda3\\envs\\git_repo\\lib\\site-packages\\IPython\\core\\pylabtools.py:152: UserWarning: Glyph 47112 (\\N{HANGUL SYLLABLE RE}) missing from current font.\n",
      "  fig.canvas.print_figure(bytes_io, **kw)\n",
      "C:\\Users\\User\\anaconda3\\envs\\git_repo\\lib\\site-packages\\IPython\\core\\pylabtools.py:152: UserWarning: Glyph 50500 (\\N{HANGUL SYLLABLE A}) missing from current font.\n",
      "  fig.canvas.print_figure(bytes_io, **kw)\n",
      "C:\\Users\\User\\anaconda3\\envs\\git_repo\\lib\\site-packages\\IPython\\core\\pylabtools.py:152: UserWarning: Glyph 54000 (\\N{HANGUL SYLLABLE TI}) missing from current font.\n",
      "  fig.canvas.print_figure(bytes_io, **kw)\n",
      "C:\\Users\\User\\anaconda3\\envs\\git_repo\\lib\\site-packages\\IPython\\core\\pylabtools.py:152: UserWarning: Glyph 45772 (\\N{HANGUL SYLLABLE NIN}) missing from current font.\n",
      "  fig.canvas.print_figure(bytes_io, **kw)\n"
     ]
    },
    {
     "data": {
      "image/png": "[encoded data removed]",
      "text/plain": [
       "<Figure size 640x480 with 1 Axes>"
      ]
     },
     "metadata": {},
     "output_type": "display_data"
    },
    {
     "name": "stderr",
     "output_type": "stream",
     "text": [
      "C:\\Users\\User\\anaconda3\\envs\\git_repo\\lib\\site-packages\\IPython\\core\\pylabtools.py:152: UserWarning: Glyph 53084 (\\N{HANGUL SYLLABLE KOL}) missing from current font.\n",
      "  fig.canvas.print_figure(bytes_io, **kw)\n",
      "C:\\Users\\User\\anaconda3\\envs\\git_repo\\lib\\site-packages\\IPython\\core\\pylabtools.py:152: UserWarning: Glyph 47112 (\\N{HANGUL SYLLABLE RE}) missing from current font.\n",
      "  fig.canvas.print_figure(bytes_io, **kw)\n",
      "C:\\Users\\User\\anaconda3\\envs\\git_repo\\lib\\site-packages\\IPython\\core\\pylabtools.py:152: UserWarning: Glyph 49828 (\\N{HANGUL SYLLABLE SEU}) missing from current font.\n",
      "  fig.canvas.print_figure(bytes_io, **kw)\n",
      "C:\\Users\\User\\anaconda3\\envs\\git_repo\\lib\\site-packages\\IPython\\core\\pylabtools.py:152: UserWarning: Glyph 53580 (\\N{HANGUL SYLLABLE TE}) missing from current font.\n",
      "  fig.canvas.print_figure(bytes_io, **kw)\n",
      "C:\\Users\\User\\anaconda3\\envs\\git_repo\\lib\\site-packages\\IPython\\core\\pylabtools.py:152: UserWarning: Glyph 47204 (\\N{HANGUL SYLLABLE ROL}) missing from current font.\n",
      "  fig.canvas.print_figure(bytes_io, **kw)\n"
     ]
    },
    {
     "data": {
      "image/png": "[encoded data removed]",
      "text/plain": [
       "<Figure size 640x480 with 1 Axes>"
      ]
     },
     "metadata": {},
     "output_type": "display_data"
    },
    {
     "name": "stderr",
     "output_type": "stream",
     "text": [
      "C:\\Users\\User\\anaconda3\\envs\\git_repo\\lib\\site-packages\\IPython\\core\\pylabtools.py:152: UserWarning: Glyph 44256 (\\N{HANGUL SYLLABLE GO}) missing from current font.\n",
      "  fig.canvas.print_figure(bytes_io, **kw)\n",
      "C:\\Users\\User\\anaconda3\\envs\\git_repo\\lib\\site-packages\\IPython\\core\\pylabtools.py:152: UserWarning: Glyph 48128 (\\N{HANGUL SYLLABLE MIL}) missing from current font.\n",
      "  fig.canvas.print_figure(bytes_io, **kw)\n",
      "C:\\Users\\User\\anaconda3\\envs\\git_repo\\lib\\site-packages\\IPython\\core\\pylabtools.py:152: UserWarning: Glyph 46020 (\\N{HANGUL SYLLABLE DO}) missing from current font.\n",
      "  fig.canvas.print_figure(bytes_io, **kw)\n",
      "C:\\Users\\User\\anaconda3\\envs\\git_repo\\lib\\site-packages\\IPython\\core\\pylabtools.py:152: UserWarning: Glyph 51648 (\\N{HANGUL SYLLABLE JI}) missing from current font.\n",
      "  fig.canvas.print_figure(bytes_io, **kw)\n",
      "C:\\Users\\User\\anaconda3\\envs\\git_repo\\lib\\site-packages\\IPython\\core\\pylabtools.py:152: UserWarning: Glyph 45800 (\\N{HANGUL SYLLABLE DAN}) missing from current font.\n",
      "  fig.canvas.print_figure(bytes_io, **kw)\n",
      "C:\\Users\\User\\anaconda3\\envs\\git_repo\\lib\\site-packages\\IPython\\core\\pylabtools.py:152: UserWarning: Glyph 48177 (\\N{HANGUL SYLLABLE BAEG}) missing from current font.\n",
      "  fig.canvas.print_figure(bytes_io, **kw)\n"
     ]
    },
    {
     "data": {
      "image/png": "[encoded data removed]",
      "text/plain": [
       "<Figure size 640x480 with 1 Axes>"
      ]
     },
     "metadata": {},
     "output_type": "display_data"
    },
    {
     "name": "stderr",
     "output_type": "stream",
     "text": [
      "C:\\Users\\User\\anaconda3\\envs\\git_repo\\lib\\site-packages\\IPython\\core\\pylabtools.py:152: UserWarning: Glyph 51200 (\\N{HANGUL SYLLABLE JEO}) missing from current font.\n",
      "  fig.canvas.print_figure(bytes_io, **kw)\n",
      "C:\\Users\\User\\anaconda3\\envs\\git_repo\\lib\\site-packages\\IPython\\core\\pylabtools.py:152: UserWarning: Glyph 48128 (\\N{HANGUL SYLLABLE MIL}) missing from current font.\n",
      "  fig.canvas.print_figure(bytes_io, **kw)\n",
      "C:\\Users\\User\\anaconda3\\envs\\git_repo\\lib\\site-packages\\IPython\\core\\pylabtools.py:152: UserWarning: Glyph 46020 (\\N{HANGUL SYLLABLE DO}) missing from current font.\n",
      "  fig.canvas.print_figure(bytes_io, **kw)\n",
      "C:\\Users\\User\\anaconda3\\envs\\git_repo\\lib\\site-packages\\IPython\\core\\pylabtools.py:152: UserWarning: Glyph 51648 (\\N{HANGUL SYLLABLE JI}) missing from current font.\n",
      "  fig.canvas.print_figure(bytes_io, **kw)\n",
      "C:\\Users\\User\\anaconda3\\envs\\git_repo\\lib\\site-packages\\IPython\\core\\pylabtools.py:152: UserWarning: Glyph 45800 (\\N{HANGUL SYLLABLE DAN}) missing from current font.\n",
      "  fig.canvas.print_figure(bytes_io, **kw)\n",
      "C:\\Users\\User\\anaconda3\\envs\\git_repo\\lib\\site-packages\\IPython\\core\\pylabtools.py:152: UserWarning: Glyph 48177 (\\N{HANGUL SYLLABLE BAEG}) missing from current font.\n",
      "  fig.canvas.print_figure(bytes_io, **kw)\n"
     ]
    },
    {
     "data": {
      "image/png": "[encoded data removed]",
      "text/plain": [
       "<Figure size 640x480 with 1 Axes>"
      ]
     },
     "metadata": {},
     "output_type": "display_data"
    },
    {
     "name": "stderr",
     "output_type": "stream",
     "text": [
      "C:\\Users\\User\\anaconda3\\envs\\git_repo\\lib\\site-packages\\IPython\\core\\pylabtools.py:152: UserWarning: Glyph 54756 (\\N{HANGUL SYLLABLE HE}) missing from current font.\n",
      "  fig.canvas.print_figure(bytes_io, **kw)\n",
      "C:\\Users\\User\\anaconda3\\envs\\git_repo\\lib\\site-packages\\IPython\\core\\pylabtools.py:152: UserWarning: Glyph 47784 (\\N{HANGUL SYLLABLE MO}) missing from current font.\n",
      "  fig.canvas.print_figure(bytes_io, **kw)\n",
      "C:\\Users\\User\\anaconda3\\envs\\git_repo\\lib\\site-packages\\IPython\\core\\pylabtools.py:152: UserWarning: Glyph 44544 (\\N{HANGUL SYLLABLE GEUL}) missing from current font.\n",
      "  fig.canvas.print_figure(bytes_io, **kw)\n",
      "C:\\Users\\User\\anaconda3\\envs\\git_repo\\lib\\site-packages\\IPython\\core\\pylabtools.py:152: UserWarning: Glyph 47196 (\\N{HANGUL SYLLABLE RO}) missing from current font.\n",
      "  fig.canvas.print_figure(bytes_io, **kw)\n",
      "C:\\Users\\User\\anaconda3\\envs\\git_repo\\lib\\site-packages\\IPython\\core\\pylabtools.py:152: UserWarning: Glyph 48712 (\\N{HANGUL SYLLABLE BIN}) missing from current font.\n",
      "  fig.canvas.print_figure(bytes_io, **kw)\n"
     ]
    },
    {
     "data": {
      "image/png": "[encoded data removed]",
      "text/plain": [
       "<Figure size 640x480 with 1 Axes>"
      ]
     },
     "metadata": {},
     "output_type": "display_data"
    },
    {
     "name": "stderr",
     "output_type": "stream",
     "text": [
      "C:\\Users\\User\\anaconda3\\envs\\git_repo\\lib\\site-packages\\IPython\\core\\pylabtools.py:152: UserWarning: Glyph 50836 (\\N{HANGUL SYLLABLE YO}) missing from current font.\n",
      "  fig.canvas.print_figure(bytes_io, **kw)\n",
      "C:\\Users\\User\\anaconda3\\envs\\git_repo\\lib\\site-packages\\IPython\\core\\pylabtools.py:152: UserWarning: Glyph 45800 (\\N{HANGUL SYLLABLE DAN}) missing from current font.\n",
      "  fig.canvas.print_figure(bytes_io, **kw)\n",
      "C:\\Users\\User\\anaconda3\\envs\\git_repo\\lib\\site-packages\\IPython\\core\\pylabtools.py:152: UserWarning: Glyph 48177 (\\N{HANGUL SYLLABLE BAEG}) missing from current font.\n",
      "  fig.canvas.print_figure(bytes_io, **kw)\n"
     ]
    },
    {
     "data": {
      "image/png": "[encoded data removed]",
      "text/plain": [
       "<Figure size 640x480 with 1 Axes>"
      ]
     },
     "metadata": {},
     "output_type": "display_data"
    },
    {
     "name": "stderr",
     "output_type": "stream",
     "text": [
      "C:\\Users\\User\\anaconda3\\envs\\git_repo\\lib\\site-packages\\IPython\\core\\pylabtools.py:152: UserWarning: Glyph 44036 (\\N{HANGUL SYLLABLE GAN}) missing from current font.\n",
      "  fig.canvas.print_figure(bytes_io, **kw)\n",
      "C:\\Users\\User\\anaconda3\\envs\\git_repo\\lib\\site-packages\\IPython\\core\\pylabtools.py:152: UserWarning: Glyph 54952 (\\N{HANGUL SYLLABLE HYO}) missing from current font.\n",
      "  fig.canvas.print_figure(bytes_io, **kw)\n",
      "C:\\Users\\User\\anaconda3\\envs\\git_repo\\lib\\site-packages\\IPython\\core\\pylabtools.py:152: UserWarning: Glyph 49548 (\\N{HANGUL SYLLABLE SO}) missing from current font.\n",
      "  fig.canvas.print_figure(bytes_io, **kw)\n",
      "C:\\Users\\User\\anaconda3\\envs\\git_repo\\lib\\site-packages\\IPython\\core\\pylabtools.py:152: UserWarning: Glyph 50984 (\\N{HANGUL SYLLABLE YUL}) missing from current font.\n",
      "  fig.canvas.print_figure(bytes_io, **kw)\n"
     ]
    },
    {
     "data": {
      "image/png": "[encoded data removed]",
      "text/plain": [
       "<Figure size 640x480 with 1 Axes>"
      ]
     },
     "metadata": {},
     "output_type": "display_data"
    },
    {
     "ename": "KeyError",
     "evalue": "'label'",
     "output_type": "error",
     "traceback": [
      "\u001b[1;31m---------------------------------------------------------------------------\u001b[0m",
      "\u001b[1;31mKeyError\u001b[0m                                  Traceback (most recent call last)",
      "File \u001b[1;32m~\\anaconda3\\envs\\git_repo\\lib\\site-packages\\pandas\\core\\indexes\\base.py:3803\u001b[0m, in \u001b[0;36mIndex.get_loc\u001b[1;34m(self, key, method, tolerance)\u001b[0m\n\u001b[0;32m   3802\u001b[0m \u001b[38;5;28;01mtry\u001b[39;00m:\n\u001b[1;32m-> 3803\u001b[0m     \u001b[38;5;28;01mreturn\u001b[39;00m \u001b[38;5;28;43mself\u001b[39;49m\u001b[38;5;241;43m.\u001b[39;49m\u001b[43m_engine\u001b[49m\u001b[38;5;241;43m.\u001b[39;49m\u001b[43mget_loc\u001b[49m\u001b[43m(\u001b[49m\u001b[43mcasted_key\u001b[49m\u001b[43m)\u001b[49m\n\u001b[0;32m   3804\u001b[0m \u001b[38;5;28;01mexcept\u001b[39;00m \u001b[38;5;167;01mKeyError\u001b[39;00m \u001b[38;5;28;01mas\u001b[39;00m err:\n",
      "File \u001b[1;32m~\\anaconda3\\envs\\git_repo\\lib\\site-packages\\pandas\\_libs\\index.pyx:138\u001b[0m, in \u001b[0;36mpandas._libs.index.IndexEngine.get_loc\u001b[1;34m()\u001b[0m\n",
      "File \u001b[1;32m~\\anaconda3\\envs\\git_repo\\lib\\site-packages\\pandas\\_libs\\index.pyx:165\u001b[0m, in \u001b[0;36mpandas._libs.index.IndexEngine.get_loc\u001b[1;34m()\u001b[0m\n",
      "File \u001b[1;32mpandas\\_libs\\hashtable_class_helper.pxi:5745\u001b[0m, in \u001b[0;36mpandas._libs.hashtable.PyObjectHashTable.get_item\u001b[1;34m()\u001b[0m\n",
      "File \u001b[1;32mpandas\\_libs\\hashtable_class_helper.pxi:5753\u001b[0m, in \u001b[0;36mpandas._libs.hashtable.PyObjectHashTable.get_item\u001b[1;34m()\u001b[0m\n",
      "\u001b[1;31mKeyError\u001b[0m: 'label'",
      "\nThe above exception was the direct cause of the following exception:\n",
      "\u001b[1;31mKeyError\u001b[0m                                  Traceback (most recent call last)",
      "Cell \u001b[1;32mIn[6], line 3\u001b[0m\n\u001b[0;32m      1\u001b[0m \u001b[38;5;28;01mimport\u001b[39;00m \u001b[38;5;21;01mmatplotlib\u001b[39;00m\u001b[38;5;21;01m.\u001b[39;00m\u001b[38;5;21;01mpyplot\u001b[39;00m \u001b[38;5;28;01mas\u001b[39;00m \u001b[38;5;21;01mplt\u001b[39;00m\n\u001b[0;32m      2\u001b[0m \u001b[38;5;28;01mfor\u001b[39;00m i \u001b[38;5;129;01min\u001b[39;00m train\u001b[38;5;241m.\u001b[39mcolumns[\u001b[38;5;241m1\u001b[39m:]:\n\u001b[1;32m----> 3\u001b[0m     sns\u001b[38;5;241m.\u001b[39mboxplot([train\u001b[38;5;241m.\u001b[39mloc[:,i],\u001b[43mtest\u001b[49m\u001b[38;5;241;43m.\u001b[39;49m\u001b[43mloc\u001b[49m\u001b[43m[\u001b[49m\u001b[43m:\u001b[49m\u001b[43m,\u001b[49m\u001b[43mi\u001b[49m\u001b[43m]\u001b[49m])\n\u001b[0;32m      4\u001b[0m     \u001b[38;5;66;03m# sns.boxplot(test.loc[:,i])\u001b[39;00m\n\u001b[0;32m      5\u001b[0m     plt\u001b[38;5;241m.\u001b[39mtitle(i)\n",
      "File \u001b[1;32m~\\anaconda3\\envs\\git_repo\\lib\\site-packages\\pandas\\core\\indexing.py:1067\u001b[0m, in \u001b[0;36m_LocationIndexer.__getitem__\u001b[1;34m(self, key)\u001b[0m\n\u001b[0;32m   1065\u001b[0m     \u001b[38;5;28;01mif\u001b[39;00m \u001b[38;5;28mself\u001b[39m\u001b[38;5;241m.\u001b[39m_is_scalar_access(key):\n\u001b[0;32m   1066\u001b[0m         \u001b[38;5;28;01mreturn\u001b[39;00m \u001b[38;5;28mself\u001b[39m\u001b[38;5;241m.\u001b[39mobj\u001b[38;5;241m.\u001b[39m_get_value(\u001b[38;5;241m*\u001b[39mkey, takeable\u001b[38;5;241m=\u001b[39m\u001b[38;5;28mself\u001b[39m\u001b[38;5;241m.\u001b[39m_takeable)\n\u001b[1;32m-> 1067\u001b[0m     \u001b[38;5;28;01mreturn\u001b[39;00m \u001b[38;5;28;43mself\u001b[39;49m\u001b[38;5;241;43m.\u001b[39;49m\u001b[43m_getitem_tuple\u001b[49m\u001b[43m(\u001b[49m\u001b[43mkey\u001b[49m\u001b[43m)\u001b[49m\n\u001b[0;32m   1068\u001b[0m \u001b[38;5;28;01melse\u001b[39;00m:\n\u001b[0;32m   1069\u001b[0m     \u001b[38;5;66;03m# we by definition only have the 0th axis\u001b[39;00m\n\u001b[0;32m   1070\u001b[0m     axis \u001b[38;5;241m=\u001b[39m \u001b[38;5;28mself\u001b[39m\u001b[38;5;241m.\u001b[39maxis \u001b[38;5;129;01mor\u001b[39;00m \u001b[38;5;241m0\u001b[39m\n",
      "File \u001b[1;32m~\\anaconda3\\envs\\git_repo\\lib\\site-packages\\pandas\\core\\indexing.py:1247\u001b[0m, in \u001b[0;36m_LocIndexer._getitem_tuple\u001b[1;34m(self, tup)\u001b[0m\n\u001b[0;32m   1245\u001b[0m \u001b[38;5;28;01mwith\u001b[39;00m suppress(IndexingError):\n\u001b[0;32m   1246\u001b[0m     tup \u001b[38;5;241m=\u001b[39m \u001b[38;5;28mself\u001b[39m\u001b[38;5;241m.\u001b[39m_expand_ellipsis(tup)\n\u001b[1;32m-> 1247\u001b[0m     \u001b[38;5;28;01mreturn\u001b[39;00m \u001b[38;5;28;43mself\u001b[39;49m\u001b[38;5;241;43m.\u001b[39;49m\u001b[43m_getitem_lowerdim\u001b[49m\u001b[43m(\u001b[49m\u001b[43mtup\u001b[49m\u001b[43m)\u001b[49m\n\u001b[0;32m   1249\u001b[0m \u001b[38;5;66;03m# no multi-index, so validate all of the indexers\u001b[39;00m\n\u001b[0;32m   1250\u001b[0m tup \u001b[38;5;241m=\u001b[39m \u001b[38;5;28mself\u001b[39m\u001b[38;5;241m.\u001b[39m_validate_tuple_indexer(tup)\n",
      "File \u001b[1;32m~\\anaconda3\\envs\\git_repo\\lib\\site-packages\\pandas\\core\\indexing.py:967\u001b[0m, in \u001b[0;36m_LocationIndexer._getitem_lowerdim\u001b[1;34m(self, tup)\u001b[0m\n\u001b[0;32m    963\u001b[0m \u001b[38;5;28;01mfor\u001b[39;00m i, key \u001b[38;5;129;01min\u001b[39;00m \u001b[38;5;28menumerate\u001b[39m(tup):\n\u001b[0;32m    964\u001b[0m     \u001b[38;5;28;01mif\u001b[39;00m is_label_like(key):\n\u001b[0;32m    965\u001b[0m         \u001b[38;5;66;03m# We don't need to check for tuples here because those are\u001b[39;00m\n\u001b[0;32m    966\u001b[0m         \u001b[38;5;66;03m#  caught by the _is_nested_tuple_indexer check above.\u001b[39;00m\n\u001b[1;32m--> 967\u001b[0m         section \u001b[38;5;241m=\u001b[39m \u001b[38;5;28;43mself\u001b[39;49m\u001b[38;5;241;43m.\u001b[39;49m\u001b[43m_getitem_axis\u001b[49m\u001b[43m(\u001b[49m\u001b[43mkey\u001b[49m\u001b[43m,\u001b[49m\u001b[43m \u001b[49m\u001b[43maxis\u001b[49m\u001b[38;5;241;43m=\u001b[39;49m\u001b[43mi\u001b[49m\u001b[43m)\u001b[49m\n\u001b[0;32m    969\u001b[0m         \u001b[38;5;66;03m# We should never have a scalar section here, because\u001b[39;00m\n\u001b[0;32m    970\u001b[0m         \u001b[38;5;66;03m#  _getitem_lowerdim is only called after a check for\u001b[39;00m\n\u001b[0;32m    971\u001b[0m         \u001b[38;5;66;03m#  is_scalar_access, which that would be.\u001b[39;00m\n\u001b[0;32m    972\u001b[0m         \u001b[38;5;28;01mif\u001b[39;00m section\u001b[38;5;241m.\u001b[39mndim \u001b[38;5;241m==\u001b[39m \u001b[38;5;28mself\u001b[39m\u001b[38;5;241m.\u001b[39mndim:\n\u001b[0;32m    973\u001b[0m             \u001b[38;5;66;03m# we're in the middle of slicing through a MultiIndex\u001b[39;00m\n\u001b[0;32m    974\u001b[0m             \u001b[38;5;66;03m# revise the key wrt to `section` by inserting an _NS\u001b[39;00m\n",
      "File \u001b[1;32m~\\anaconda3\\envs\\git_repo\\lib\\site-packages\\pandas\\core\\indexing.py:1312\u001b[0m, in \u001b[0;36m_LocIndexer._getitem_axis\u001b[1;34m(self, key, axis)\u001b[0m\n\u001b[0;32m   1310\u001b[0m \u001b[38;5;66;03m# fall thru to straight lookup\u001b[39;00m\n\u001b[0;32m   1311\u001b[0m \u001b[38;5;28mself\u001b[39m\u001b[38;5;241m.\u001b[39m_validate_key(key, axis)\n\u001b[1;32m-> 1312\u001b[0m \u001b[38;5;28;01mreturn\u001b[39;00m \u001b[38;5;28;43mself\u001b[39;49m\u001b[38;5;241;43m.\u001b[39;49m\u001b[43m_get_label\u001b[49m\u001b[43m(\u001b[49m\u001b[43mkey\u001b[49m\u001b[43m,\u001b[49m\u001b[43m \u001b[49m\u001b[43maxis\u001b[49m\u001b[38;5;241;43m=\u001b[39;49m\u001b[43maxis\u001b[49m\u001b[43m)\u001b[49m\n",
      "File \u001b[1;32m~\\anaconda3\\envs\\git_repo\\lib\\site-packages\\pandas\\core\\indexing.py:1260\u001b[0m, in \u001b[0;36m_LocIndexer._get_label\u001b[1;34m(self, label, axis)\u001b[0m\n\u001b[0;32m   1258\u001b[0m \u001b[38;5;28;01mdef\u001b[39;00m \u001b[38;5;21m_get_label\u001b[39m(\u001b[38;5;28mself\u001b[39m, label, axis: \u001b[38;5;28mint\u001b[39m):\n\u001b[0;32m   1259\u001b[0m     \u001b[38;5;66;03m# GH#5567 this will fail if the label is not present in the axis.\u001b[39;00m\n\u001b[1;32m-> 1260\u001b[0m     \u001b[38;5;28;01mreturn\u001b[39;00m \u001b[38;5;28;43mself\u001b[39;49m\u001b[38;5;241;43m.\u001b[39;49m\u001b[43mobj\u001b[49m\u001b[38;5;241;43m.\u001b[39;49m\u001b[43mxs\u001b[49m\u001b[43m(\u001b[49m\u001b[43mlabel\u001b[49m\u001b[43m,\u001b[49m\u001b[43m \u001b[49m\u001b[43maxis\u001b[49m\u001b[38;5;241;43m=\u001b[39;49m\u001b[43maxis\u001b[49m\u001b[43m)\u001b[49m\n",
      "File \u001b[1;32m~\\anaconda3\\envs\\git_repo\\lib\\site-packages\\pandas\\core\\generic.py:4041\u001b[0m, in \u001b[0;36mNDFrame.xs\u001b[1;34m(self, key, axis, level, drop_level)\u001b[0m\n\u001b[0;32m   4039\u001b[0m \u001b[38;5;28;01mif\u001b[39;00m axis \u001b[38;5;241m==\u001b[39m \u001b[38;5;241m1\u001b[39m:\n\u001b[0;32m   4040\u001b[0m     \u001b[38;5;28;01mif\u001b[39;00m drop_level:\n\u001b[1;32m-> 4041\u001b[0m         \u001b[38;5;28;01mreturn\u001b[39;00m \u001b[38;5;28;43mself\u001b[39;49m\u001b[43m[\u001b[49m\u001b[43mkey\u001b[49m\u001b[43m]\u001b[49m\n\u001b[0;32m   4042\u001b[0m     index \u001b[38;5;241m=\u001b[39m \u001b[38;5;28mself\u001b[39m\u001b[38;5;241m.\u001b[39mcolumns\n\u001b[0;32m   4043\u001b[0m \u001b[38;5;28;01melse\u001b[39;00m:\n",
      "File \u001b[1;32m~\\anaconda3\\envs\\git_repo\\lib\\site-packages\\pandas\\core\\frame.py:3805\u001b[0m, in \u001b[0;36mDataFrame.__getitem__\u001b[1;34m(self, key)\u001b[0m\n\u001b[0;32m   3803\u001b[0m \u001b[38;5;28;01mif\u001b[39;00m \u001b[38;5;28mself\u001b[39m\u001b[38;5;241m.\u001b[39mcolumns\u001b[38;5;241m.\u001b[39mnlevels \u001b[38;5;241m>\u001b[39m \u001b[38;5;241m1\u001b[39m:\n\u001b[0;32m   3804\u001b[0m     \u001b[38;5;28;01mreturn\u001b[39;00m \u001b[38;5;28mself\u001b[39m\u001b[38;5;241m.\u001b[39m_getitem_multilevel(key)\n\u001b[1;32m-> 3805\u001b[0m indexer \u001b[38;5;241m=\u001b[39m \u001b[38;5;28;43mself\u001b[39;49m\u001b[38;5;241;43m.\u001b[39;49m\u001b[43mcolumns\u001b[49m\u001b[38;5;241;43m.\u001b[39;49m\u001b[43mget_loc\u001b[49m\u001b[43m(\u001b[49m\u001b[43mkey\u001b[49m\u001b[43m)\u001b[49m\n\u001b[0;32m   3806\u001b[0m \u001b[38;5;28;01mif\u001b[39;00m is_integer(indexer):\n\u001b[0;32m   3807\u001b[0m     indexer \u001b[38;5;241m=\u001b[39m [indexer]\n",
      "File \u001b[1;32m~\\anaconda3\\envs\\git_repo\\lib\\site-packages\\pandas\\core\\indexes\\base.py:3805\u001b[0m, in \u001b[0;36mIndex.get_loc\u001b[1;34m(self, key, method, tolerance)\u001b[0m\n\u001b[0;32m   3803\u001b[0m     \u001b[38;5;28;01mreturn\u001b[39;00m \u001b[38;5;28mself\u001b[39m\u001b[38;5;241m.\u001b[39m_engine\u001b[38;5;241m.\u001b[39mget_loc(casted_key)\n\u001b[0;32m   3804\u001b[0m \u001b[38;5;28;01mexcept\u001b[39;00m \u001b[38;5;167;01mKeyError\u001b[39;00m \u001b[38;5;28;01mas\u001b[39;00m err:\n\u001b[1;32m-> 3805\u001b[0m     \u001b[38;5;28;01mraise\u001b[39;00m \u001b[38;5;167;01mKeyError\u001b[39;00m(key) \u001b[38;5;28;01mfrom\u001b[39;00m \u001b[38;5;21;01merr\u001b[39;00m\n\u001b[0;32m   3806\u001b[0m \u001b[38;5;28;01mexcept\u001b[39;00m \u001b[38;5;167;01mTypeError\u001b[39;00m:\n\u001b[0;32m   3807\u001b[0m     \u001b[38;5;66;03m# If we have a listlike key, _check_indexing_error will raise\u001b[39;00m\n\u001b[0;32m   3808\u001b[0m     \u001b[38;5;66;03m#  InvalidIndexError. Otherwise we fall through and re-raise\u001b[39;00m\n\u001b[0;32m   3809\u001b[0m     \u001b[38;5;66;03m#  the TypeError.\u001b[39;00m\n\u001b[0;32m   3810\u001b[0m     \u001b[38;5;28mself\u001b[39m\u001b[38;5;241m.\u001b[39m_check_indexing_error(key)\n",
      "\u001b[1;31mKeyError\u001b[0m: 'label'"
     ]
    }
   ],
   "source": [
    "import matplotlib.pyplot as plt\n",
    "for i in train.columns[1:]:\n",
    "    sns.boxplot([train.loc[:,i],test.loc[:,i]])\n",
    "    # sns.boxplot(test.loc[:,i])\n",
    "    plt.title(i)\n",
    "    plt.show()"
   ]
  },
  {
   "cell_type": "code",
   "execution_count": 7,
   "id": "0626acb0",
   "metadata": {},
   "outputs": [
    {
     "data": {
      "text/plain": [
       "1    6618\n",
       "2     231\n",
       "3     107\n",
       "4      34\n",
       "5      10\n",
       "Name: 요 단백, dtype: int64"
      ]
     },
     "execution_count": 7,
     "metadata": {},
     "output_type": "execute_result"
    }
   ],
   "source": [
    "train['요 단백'].value_counts()"
   ]
  },
  {
   "cell_type": "code",
   "execution_count": 8,
   "id": "dbc3616f",
   "metadata": {},
   "outputs": [
    {
     "data": {
      "text/plain": [
       "1    2831\n",
       "2      93\n",
       "3      60\n",
       "4      11\n",
       "5       5\n",
       "Name: 요 단백, dtype: int64"
      ]
     },
     "execution_count": 8,
     "metadata": {},
     "output_type": "execute_result"
    }
   ],
   "source": [
    "test['요 단백'].value_counts()"
   ]
  },
  {
   "cell_type": "code",
   "execution_count": 9,
   "id": "4a3176b4",
   "metadata": {},
   "outputs": [
    {
     "data": {
      "text/html": [
       "<style type=\"text/css\">\n",
       "#T_0fec5_row8_col1, #T_0fec5_row12_col1 {\n",
       "  background-color: lightgreen;\n",
       "}\n",
       "</style>\n",
       "<table id=\"T_0fec5\">\n",
       "  <thead>\n",
       "    <tr>\n",
       "      <th class=\"blank level0\" >&nbsp;</th>\n",
       "      <th id=\"T_0fec5_level0_col0\" class=\"col_heading level0 col0\" >Description</th>\n",
       "      <th id=\"T_0fec5_level0_col1\" class=\"col_heading level0 col1\" >Value</th>\n",
       "    </tr>\n",
       "  </thead>\n",
       "  <tbody>\n",
       "    <tr>\n",
       "      <th id=\"T_0fec5_level0_row0\" class=\"row_heading level0 row0\" >0</th>\n",
       "      <td id=\"T_0fec5_row0_col0\" class=\"data row0 col0\" >Session id</td>\n",
       "      <td id=\"T_0fec5_row0_col1\" class=\"data row0 col1\" >42</td>\n",
       "    </tr>\n",
       "    <tr>\n",
       "      <th id=\"T_0fec5_level0_row1\" class=\"row_heading level0 row1\" >1</th>\n",
       "      <td id=\"T_0fec5_row1_col0\" class=\"data row1 col0\" >Target</td>\n",
       "      <td id=\"T_0fec5_row1_col1\" class=\"data row1 col1\" >label</td>\n",
       "    </tr>\n",
       "    <tr>\n",
       "      <th id=\"T_0fec5_level0_row2\" class=\"row_heading level0 row2\" >2</th>\n",
       "      <td id=\"T_0fec5_row2_col0\" class=\"data row2 col0\" >Target type</td>\n",
       "      <td id=\"T_0fec5_row2_col1\" class=\"data row2 col1\" >Binary</td>\n",
       "    </tr>\n",
       "    <tr>\n",
       "      <th id=\"T_0fec5_level0_row3\" class=\"row_heading level0 row3\" >3</th>\n",
       "      <td id=\"T_0fec5_row3_col0\" class=\"data row3 col0\" >Original data shape</td>\n",
       "      <td id=\"T_0fec5_row3_col1\" class=\"data row3 col1\" >(7000, 17)</td>\n",
       "    </tr>\n",
       "    <tr>\n",
       "      <th id=\"T_0fec5_level0_row4\" class=\"row_heading level0 row4\" >4</th>\n",
       "      <td id=\"T_0fec5_row4_col0\" class=\"data row4 col0\" >Transformed data shape</td>\n",
       "      <td id=\"T_0fec5_row4_col1\" class=\"data row4 col1\" >(6951, 17)</td>\n",
       "    </tr>\n",
       "    <tr>\n",
       "      <th id=\"T_0fec5_level0_row5\" class=\"row_heading level0 row5\" >5</th>\n",
       "      <td id=\"T_0fec5_row5_col0\" class=\"data row5 col0\" >Transformed train set shape</td>\n",
       "      <td id=\"T_0fec5_row5_col1\" class=\"data row5 col1\" >(4851, 17)</td>\n",
       "    </tr>\n",
       "    <tr>\n",
       "      <th id=\"T_0fec5_level0_row6\" class=\"row_heading level0 row6\" >6</th>\n",
       "      <td id=\"T_0fec5_row6_col0\" class=\"data row6 col0\" >Transformed test set shape</td>\n",
       "      <td id=\"T_0fec5_row6_col1\" class=\"data row6 col1\" >(2100, 17)</td>\n",
       "    </tr>\n",
       "    <tr>\n",
       "      <th id=\"T_0fec5_level0_row7\" class=\"row_heading level0 row7\" >7</th>\n",
       "      <td id=\"T_0fec5_row7_col0\" class=\"data row7 col0\" >Numeric features</td>\n",
       "      <td id=\"T_0fec5_row7_col1\" class=\"data row7 col1\" >16</td>\n",
       "    </tr>\n",
       "    <tr>\n",
       "      <th id=\"T_0fec5_level0_row8\" class=\"row_heading level0 row8\" >8</th>\n",
       "      <td id=\"T_0fec5_row8_col0\" class=\"data row8 col0\" >Preprocess</td>\n",
       "      <td id=\"T_0fec5_row8_col1\" class=\"data row8 col1\" >True</td>\n",
       "    </tr>\n",
       "    <tr>\n",
       "      <th id=\"T_0fec5_level0_row9\" class=\"row_heading level0 row9\" >9</th>\n",
       "      <td id=\"T_0fec5_row9_col0\" class=\"data row9 col0\" >Imputation type</td>\n",
       "      <td id=\"T_0fec5_row9_col1\" class=\"data row9 col1\" >simple</td>\n",
       "    </tr>\n",
       "    <tr>\n",
       "      <th id=\"T_0fec5_level0_row10\" class=\"row_heading level0 row10\" >10</th>\n",
       "      <td id=\"T_0fec5_row10_col0\" class=\"data row10 col0\" >Numeric imputation</td>\n",
       "      <td id=\"T_0fec5_row10_col1\" class=\"data row10 col1\" >mean</td>\n",
       "    </tr>\n",
       "    <tr>\n",
       "      <th id=\"T_0fec5_level0_row11\" class=\"row_heading level0 row11\" >11</th>\n",
       "      <td id=\"T_0fec5_row11_col0\" class=\"data row11 col0\" >Categorical imputation</td>\n",
       "      <td id=\"T_0fec5_row11_col1\" class=\"data row11 col1\" >mode</td>\n",
       "    </tr>\n",
       "    <tr>\n",
       "      <th id=\"T_0fec5_level0_row12\" class=\"row_heading level0 row12\" >12</th>\n",
       "      <td id=\"T_0fec5_row12_col0\" class=\"data row12 col0\" >Remove outliers</td>\n",
       "      <td id=\"T_0fec5_row12_col1\" class=\"data row12 col1\" >True</td>\n",
       "    </tr>\n",
       "    <tr>\n",
       "      <th id=\"T_0fec5_level0_row13\" class=\"row_heading level0 row13\" >13</th>\n",
       "      <td id=\"T_0fec5_row13_col0\" class=\"data row13 col0\" >Outliers threshold</td>\n",
       "      <td id=\"T_0fec5_row13_col1\" class=\"data row13 col1\" >0.010000</td>\n",
       "    </tr>\n",
       "    <tr>\n",
       "      <th id=\"T_0fec5_level0_row14\" class=\"row_heading level0 row14\" >14</th>\n",
       "      <td id=\"T_0fec5_row14_col0\" class=\"data row14 col0\" >Fold Generator</td>\n",
       "      <td id=\"T_0fec5_row14_col1\" class=\"data row14 col1\" >KFold</td>\n",
       "    </tr>\n",
       "    <tr>\n",
       "      <th id=\"T_0fec5_level0_row15\" class=\"row_heading level0 row15\" >15</th>\n",
       "      <td id=\"T_0fec5_row15_col0\" class=\"data row15 col0\" >Fold Number</td>\n",
       "      <td id=\"T_0fec5_row15_col1\" class=\"data row15 col1\" >10</td>\n",
       "    </tr>\n",
       "    <tr>\n",
       "      <th id=\"T_0fec5_level0_row16\" class=\"row_heading level0 row16\" >16</th>\n",
       "      <td id=\"T_0fec5_row16_col0\" class=\"data row16 col0\" >CPU Jobs</td>\n",
       "      <td id=\"T_0fec5_row16_col1\" class=\"data row16 col1\" >-1</td>\n",
       "    </tr>\n",
       "    <tr>\n",
       "      <th id=\"T_0fec5_level0_row17\" class=\"row_heading level0 row17\" >17</th>\n",
       "      <td id=\"T_0fec5_row17_col0\" class=\"data row17 col0\" >Use GPU</td>\n",
       "      <td id=\"T_0fec5_row17_col1\" class=\"data row17 col1\" >False</td>\n",
       "    </tr>\n",
       "    <tr>\n",
       "      <th id=\"T_0fec5_level0_row18\" class=\"row_heading level0 row18\" >18</th>\n",
       "      <td id=\"T_0fec5_row18_col0\" class=\"data row18 col0\" >Log Experiment</td>\n",
       "      <td id=\"T_0fec5_row18_col1\" class=\"data row18 col1\" >False</td>\n",
       "    </tr>\n",
       "    <tr>\n",
       "      <th id=\"T_0fec5_level0_row19\" class=\"row_heading level0 row19\" >19</th>\n",
       "      <td id=\"T_0fec5_row19_col0\" class=\"data row19 col0\" >Experiment Name</td>\n",
       "      <td id=\"T_0fec5_row19_col1\" class=\"data row19 col1\" >clf-default-name</td>\n",
       "    </tr>\n",
       "    <tr>\n",
       "      <th id=\"T_0fec5_level0_row20\" class=\"row_heading level0 row20\" >20</th>\n",
       "      <td id=\"T_0fec5_row20_col0\" class=\"data row20 col0\" >USI</td>\n",
       "      <td id=\"T_0fec5_row20_col1\" class=\"data row20 col1\" >bafc</td>\n",
       "    </tr>\n",
       "  </tbody>\n",
       "</table>\n"
      ],
      "text/plain": [
       "<pandas.io.formats.style.Styler at 0x1a53b2bb5b0>"
      ]
     },
     "metadata": {},
     "output_type": "display_data"
    },
    {
     "data": {
      "text/plain": [
       "<pycaret.classification.oop.ClassificationExperiment at 0x1a575d35bb0>"
      ]
     },
     "execution_count": 9,
     "metadata": {},
     "output_type": "execute_result"
    }
   ],
   "source": [
    "from pycaret import classification\n",
    "classification.setup(data=train.drop('ID',axis=1),target='label',\n",
    "                 fold_strategy='kfold',\n",
    "                 fold=10,\n",
    "                 fold_shuffle=True\n",
    "                 session_id=42,\n",
    "                 remove_outliers=True,\n",
    "                 outliers_threshold=0.01)"
   ]
  },
  {
   "cell_type": "code",
   "execution_count": 10,
   "id": "a7eade55",
   "metadata": {},
   "outputs": [
    {
     "data": {
      "text/html": [],
      "text/plain": [
       "<IPython.core.display.HTML object>"
      ]
     },
     "metadata": {},
     "output_type": "display_data"
    },
    {
     "data": {
      "text/html": [
       "<style type=\"text/css\">\n",
       "#T_bde44 th {\n",
       "  text-align: left;\n",
       "}\n",
       "#T_bde44_row0_col0, #T_bde44_row0_col3, #T_bde44_row0_col5, #T_bde44_row1_col0, #T_bde44_row1_col1, #T_bde44_row1_col2, #T_bde44_row1_col3, #T_bde44_row1_col4, #T_bde44_row1_col5, #T_bde44_row1_col6, #T_bde44_row1_col7, #T_bde44_row2_col0, #T_bde44_row2_col1, #T_bde44_row2_col2, #T_bde44_row2_col3, #T_bde44_row2_col4, #T_bde44_row2_col5, #T_bde44_row2_col6, #T_bde44_row2_col7, #T_bde44_row3_col0, #T_bde44_row3_col1, #T_bde44_row3_col2, #T_bde44_row3_col3, #T_bde44_row3_col4, #T_bde44_row3_col5, #T_bde44_row3_col6, #T_bde44_row3_col7, #T_bde44_row4_col0, #T_bde44_row4_col1, #T_bde44_row4_col2, #T_bde44_row4_col3, #T_bde44_row4_col4, #T_bde44_row4_col5, #T_bde44_row4_col6, #T_bde44_row4_col7, #T_bde44_row5_col0, #T_bde44_row5_col1, #T_bde44_row5_col2, #T_bde44_row5_col3, #T_bde44_row5_col4, #T_bde44_row5_col5, #T_bde44_row5_col6, #T_bde44_row5_col7, #T_bde44_row6_col0, #T_bde44_row6_col1, #T_bde44_row6_col2, #T_bde44_row6_col3, #T_bde44_row6_col4, #T_bde44_row6_col5, #T_bde44_row6_col6, #T_bde44_row6_col7, #T_bde44_row7_col0, #T_bde44_row7_col1, #T_bde44_row7_col2, #T_bde44_row7_col3, #T_bde44_row7_col4, #T_bde44_row7_col5, #T_bde44_row7_col6, #T_bde44_row7_col7, #T_bde44_row8_col0, #T_bde44_row8_col1, #T_bde44_row8_col2, #T_bde44_row8_col3, #T_bde44_row8_col4, #T_bde44_row8_col5, #T_bde44_row8_col6, #T_bde44_row8_col7, #T_bde44_row9_col0, #T_bde44_row9_col1, #T_bde44_row9_col2, #T_bde44_row9_col4, #T_bde44_row9_col6, #T_bde44_row9_col7, #T_bde44_row10_col0, #T_bde44_row10_col1, #T_bde44_row10_col2, #T_bde44_row10_col3, #T_bde44_row10_col4, #T_bde44_row10_col5, #T_bde44_row10_col6, #T_bde44_row10_col7, #T_bde44_row11_col0, #T_bde44_row11_col1, #T_bde44_row11_col2, #T_bde44_row11_col3, #T_bde44_row11_col4, #T_bde44_row11_col5, #T_bde44_row11_col6, #T_bde44_row11_col7, #T_bde44_row12_col0, #T_bde44_row12_col1, #T_bde44_row12_col2, #T_bde44_row12_col3, #T_bde44_row12_col4, #T_bde44_row12_col5, #T_bde44_row12_col6, #T_bde44_row12_col7, #T_bde44_row13_col0, #T_bde44_row13_col1, #T_bde44_row13_col2, #T_bde44_row13_col3, #T_bde44_row13_col4, #T_bde44_row13_col5, #T_bde44_row13_col6, #T_bde44_row13_col7, #T_bde44_row14_col0, #T_bde44_row14_col1, #T_bde44_row14_col2, #T_bde44_row14_col3, #T_bde44_row14_col4, #T_bde44_row14_col5, #T_bde44_row14_col6, #T_bde44_row14_col7, #T_bde44_row15_col0, #T_bde44_row15_col1, #T_bde44_row15_col2, #T_bde44_row15_col3, #T_bde44_row15_col4, #T_bde44_row15_col5, #T_bde44_row15_col6, #T_bde44_row15_col7 {\n",
       "  text-align: left;\n",
       "}\n",
       "#T_bde44_row0_col1, #T_bde44_row0_col2, #T_bde44_row0_col4, #T_bde44_row0_col6, #T_bde44_row0_col7, #T_bde44_row9_col3, #T_bde44_row9_col5 {\n",
       "  text-align: left;\n",
       "  background-color: yellow;\n",
       "}\n",
       "#T_bde44_row0_col8, #T_bde44_row1_col8, #T_bde44_row2_col8, #T_bde44_row3_col8, #T_bde44_row4_col8, #T_bde44_row5_col8, #T_bde44_row6_col8, #T_bde44_row7_col8, #T_bde44_row8_col8, #T_bde44_row9_col8, #T_bde44_row11_col8, #T_bde44_row12_col8, #T_bde44_row13_col8, #T_bde44_row14_col8, #T_bde44_row15_col8 {\n",
       "  text-align: left;\n",
       "  background-color: lightgrey;\n",
       "}\n",
       "#T_bde44_row10_col8 {\n",
       "  text-align: left;\n",
       "  background-color: yellow;\n",
       "  background-color: lightgrey;\n",
       "}\n",
       "</style>\n",
       "<table id=\"T_bde44\">\n",
       "  <thead>\n",
       "    <tr>\n",
       "      <th class=\"blank level0\" >&nbsp;</th>\n",
       "      <th id=\"T_bde44_level0_col0\" class=\"col_heading level0 col0\" >Model</th>\n",
       "      <th id=\"T_bde44_level0_col1\" class=\"col_heading level0 col1\" >Accuracy</th>\n",
       "      <th id=\"T_bde44_level0_col2\" class=\"col_heading level0 col2\" >AUC</th>\n",
       "      <th id=\"T_bde44_level0_col3\" class=\"col_heading level0 col3\" >Recall</th>\n",
       "      <th id=\"T_bde44_level0_col4\" class=\"col_heading level0 col4\" >Prec.</th>\n",
       "      <th id=\"T_bde44_level0_col5\" class=\"col_heading level0 col5\" >F1</th>\n",
       "      <th id=\"T_bde44_level0_col6\" class=\"col_heading level0 col6\" >Kappa</th>\n",
       "      <th id=\"T_bde44_level0_col7\" class=\"col_heading level0 col7\" >MCC</th>\n",
       "      <th id=\"T_bde44_level0_col8\" class=\"col_heading level0 col8\" >TT (Sec)</th>\n",
       "    </tr>\n",
       "  </thead>\n",
       "  <tbody>\n",
       "    <tr>\n",
       "      <th id=\"T_bde44_level0_row0\" class=\"row_heading level0 row0\" >rf</th>\n",
       "      <td id=\"T_bde44_row0_col0\" class=\"data row0 col0\" >Random Forest Classifier</td>\n",
       "      <td id=\"T_bde44_row0_col1\" class=\"data row0 col1\" >0.7239</td>\n",
       "      <td id=\"T_bde44_row0_col2\" class=\"data row0 col2\" >0.8087</td>\n",
       "      <td id=\"T_bde44_row0_col3\" class=\"data row0 col3\" >0.6159</td>\n",
       "      <td id=\"T_bde44_row0_col4\" class=\"data row0 col4\" >0.6265</td>\n",
       "      <td id=\"T_bde44_row0_col5\" class=\"data row0 col5\" >0.6202</td>\n",
       "      <td id=\"T_bde44_row0_col6\" class=\"data row0 col6\" >0.4033</td>\n",
       "      <td id=\"T_bde44_row0_col7\" class=\"data row0 col7\" >0.4041</td>\n",
       "      <td id=\"T_bde44_row0_col8\" class=\"data row0 col8\" >5.8500</td>\n",
       "    </tr>\n",
       "    <tr>\n",
       "      <th id=\"T_bde44_level0_row1\" class=\"row_heading level0 row1\" >et</th>\n",
       "      <td id=\"T_bde44_row1_col0\" class=\"data row1 col0\" >Extra Trees Classifier</td>\n",
       "      <td id=\"T_bde44_row1_col1\" class=\"data row1 col1\" >0.7214</td>\n",
       "      <td id=\"T_bde44_row1_col2\" class=\"data row1 col2\" >0.8045</td>\n",
       "      <td id=\"T_bde44_row1_col3\" class=\"data row1 col3\" >0.6050</td>\n",
       "      <td id=\"T_bde44_row1_col4\" class=\"data row1 col4\" >0.6245</td>\n",
       "      <td id=\"T_bde44_row1_col5\" class=\"data row1 col5\" >0.6138</td>\n",
       "      <td id=\"T_bde44_row1_col6\" class=\"data row1 col6\" >0.3960</td>\n",
       "      <td id=\"T_bde44_row1_col7\" class=\"data row1 col7\" >0.3966</td>\n",
       "      <td id=\"T_bde44_row1_col8\" class=\"data row1 col8\" >5.7660</td>\n",
       "    </tr>\n",
       "    <tr>\n",
       "      <th id=\"T_bde44_level0_row2\" class=\"row_heading level0 row2\" >gbc</th>\n",
       "      <td id=\"T_bde44_row2_col0\" class=\"data row2 col0\" >Gradient Boosting Classifier</td>\n",
       "      <td id=\"T_bde44_row2_col1\" class=\"data row2 col1\" >0.7190</td>\n",
       "      <td id=\"T_bde44_row2_col2\" class=\"data row2 col2\" >0.8011</td>\n",
       "      <td id=\"T_bde44_row2_col3\" class=\"data row2 col3\" >0.6388</td>\n",
       "      <td id=\"T_bde44_row2_col4\" class=\"data row2 col4\" >0.6128</td>\n",
       "      <td id=\"T_bde44_row2_col5\" class=\"data row2 col5\" >0.6245</td>\n",
       "      <td id=\"T_bde44_row2_col6\" class=\"data row2 col6\" >0.4001</td>\n",
       "      <td id=\"T_bde44_row2_col7\" class=\"data row2 col7\" >0.4012</td>\n",
       "      <td id=\"T_bde44_row2_col8\" class=\"data row2 col8\" >5.6860</td>\n",
       "    </tr>\n",
       "    <tr>\n",
       "      <th id=\"T_bde44_level0_row3\" class=\"row_heading level0 row3\" >lightgbm</th>\n",
       "      <td id=\"T_bde44_row3_col0\" class=\"data row3 col0\" >Light Gradient Boosting Machine</td>\n",
       "      <td id=\"T_bde44_row3_col1\" class=\"data row3 col1\" >0.7173</td>\n",
       "      <td id=\"T_bde44_row3_col2\" class=\"data row3 col2\" >0.7965</td>\n",
       "      <td id=\"T_bde44_row3_col3\" class=\"data row3 col3\" >0.6257</td>\n",
       "      <td id=\"T_bde44_row3_col4\" class=\"data row3 col4\" >0.6131</td>\n",
       "      <td id=\"T_bde44_row3_col5\" class=\"data row3 col5\" >0.6187</td>\n",
       "      <td id=\"T_bde44_row3_col6\" class=\"data row3 col6\" >0.3939</td>\n",
       "      <td id=\"T_bde44_row3_col7\" class=\"data row3 col7\" >0.3945</td>\n",
       "      <td id=\"T_bde44_row3_col8\" class=\"data row3 col8\" >5.7040</td>\n",
       "    </tr>\n",
       "    <tr>\n",
       "      <th id=\"T_bde44_level0_row4\" class=\"row_heading level0 row4\" >ada</th>\n",
       "      <td id=\"T_bde44_row4_col0\" class=\"data row4 col0\" >Ada Boost Classifier</td>\n",
       "      <td id=\"T_bde44_row4_col1\" class=\"data row4 col1\" >0.7161</td>\n",
       "      <td id=\"T_bde44_row4_col2\" class=\"data row4 col2\" >0.7897</td>\n",
       "      <td id=\"T_bde44_row4_col3\" class=\"data row4 col3\" >0.6238</td>\n",
       "      <td id=\"T_bde44_row4_col4\" class=\"data row4 col4\" >0.6119</td>\n",
       "      <td id=\"T_bde44_row4_col5\" class=\"data row4 col5\" >0.6166</td>\n",
       "      <td id=\"T_bde44_row4_col6\" class=\"data row4 col6\" >0.3914</td>\n",
       "      <td id=\"T_bde44_row4_col7\" class=\"data row4 col7\" >0.3924</td>\n",
       "      <td id=\"T_bde44_row4_col8\" class=\"data row4 col8\" >5.5860</td>\n",
       "    </tr>\n",
       "    <tr>\n",
       "      <th id=\"T_bde44_level0_row5\" class=\"row_heading level0 row5\" >xgboost</th>\n",
       "      <td id=\"T_bde44_row5_col0\" class=\"data row5 col0\" >Extreme Gradient Boosting</td>\n",
       "      <td id=\"T_bde44_row5_col1\" class=\"data row5 col1\" >0.7145</td>\n",
       "      <td id=\"T_bde44_row5_col2\" class=\"data row5 col2\" >0.7885</td>\n",
       "      <td id=\"T_bde44_row5_col3\" class=\"data row5 col3\" >0.6025</td>\n",
       "      <td id=\"T_bde44_row5_col4\" class=\"data row5 col4\" >0.6138</td>\n",
       "      <td id=\"T_bde44_row5_col5\" class=\"data row5 col5\" >0.6072</td>\n",
       "      <td id=\"T_bde44_row5_col6\" class=\"data row5 col6\" >0.3832</td>\n",
       "      <td id=\"T_bde44_row5_col7\" class=\"data row5 col7\" >0.3839</td>\n",
       "      <td id=\"T_bde44_row5_col8\" class=\"data row5 col8\" >5.7320</td>\n",
       "    </tr>\n",
       "    <tr>\n",
       "      <th id=\"T_bde44_level0_row6\" class=\"row_heading level0 row6\" >lda</th>\n",
       "      <td id=\"T_bde44_row6_col0\" class=\"data row6 col0\" >Linear Discriminant Analysis</td>\n",
       "      <td id=\"T_bde44_row6_col1\" class=\"data row6 col1\" >0.7033</td>\n",
       "      <td id=\"T_bde44_row6_col2\" class=\"data row6 col2\" >0.7834</td>\n",
       "      <td id=\"T_bde44_row6_col3\" class=\"data row6 col3\" >0.5598</td>\n",
       "      <td id=\"T_bde44_row6_col4\" class=\"data row6 col4\" >0.6044</td>\n",
       "      <td id=\"T_bde44_row6_col5\" class=\"data row6 col5\" >0.5802</td>\n",
       "      <td id=\"T_bde44_row6_col6\" class=\"data row6 col6\" >0.3512</td>\n",
       "      <td id=\"T_bde44_row6_col7\" class=\"data row6 col7\" >0.3525</td>\n",
       "      <td id=\"T_bde44_row6_col8\" class=\"data row6 col8\" >5.6440</td>\n",
       "    </tr>\n",
       "    <tr>\n",
       "      <th id=\"T_bde44_level0_row7\" class=\"row_heading level0 row7\" >ridge</th>\n",
       "      <td id=\"T_bde44_row7_col0\" class=\"data row7 col0\" >Ridge Classifier</td>\n",
       "      <td id=\"T_bde44_row7_col1\" class=\"data row7 col1\" >0.7031</td>\n",
       "      <td id=\"T_bde44_row7_col2\" class=\"data row7 col2\" >0.0000</td>\n",
       "      <td id=\"T_bde44_row7_col3\" class=\"data row7 col3\" >0.5515</td>\n",
       "      <td id=\"T_bde44_row7_col4\" class=\"data row7 col4\" >0.6060</td>\n",
       "      <td id=\"T_bde44_row7_col5\" class=\"data row7 col5\" >0.5764</td>\n",
       "      <td id=\"T_bde44_row7_col6\" class=\"data row7 col6\" >0.3485</td>\n",
       "      <td id=\"T_bde44_row7_col7\" class=\"data row7 col7\" >0.3502</td>\n",
       "      <td id=\"T_bde44_row7_col8\" class=\"data row7 col8\" >5.3790</td>\n",
       "    </tr>\n",
       "    <tr>\n",
       "      <th id=\"T_bde44_level0_row8\" class=\"row_heading level0 row8\" >lr</th>\n",
       "      <td id=\"T_bde44_row8_col0\" class=\"data row8 col0\" >Logistic Regression</td>\n",
       "      <td id=\"T_bde44_row8_col1\" class=\"data row8 col1\" >0.7027</td>\n",
       "      <td id=\"T_bde44_row8_col2\" class=\"data row8 col2\" >0.7803</td>\n",
       "      <td id=\"T_bde44_row8_col3\" class=\"data row8 col3\" >0.5292</td>\n",
       "      <td id=\"T_bde44_row8_col4\" class=\"data row8 col4\" >0.6106</td>\n",
       "      <td id=\"T_bde44_row8_col5\" class=\"data row8 col5\" >0.5657</td>\n",
       "      <td id=\"T_bde44_row8_col6\" class=\"data row8 col6\" >0.3415</td>\n",
       "      <td id=\"T_bde44_row8_col7\" class=\"data row8 col7\" >0.3443</td>\n",
       "      <td id=\"T_bde44_row8_col8\" class=\"data row8 col8\" >5.7970</td>\n",
       "    </tr>\n",
       "    <tr>\n",
       "      <th id=\"T_bde44_level0_row9\" class=\"row_heading level0 row9\" >nb</th>\n",
       "      <td id=\"T_bde44_row9_col0\" class=\"data row9 col0\" >Naive Bayes</td>\n",
       "      <td id=\"T_bde44_row9_col1\" class=\"data row9 col1\" >0.6918</td>\n",
       "      <td id=\"T_bde44_row9_col2\" class=\"data row9 col2\" >0.7680</td>\n",
       "      <td id=\"T_bde44_row9_col3\" class=\"data row9 col3\" >0.7023</td>\n",
       "      <td id=\"T_bde44_row9_col4\" class=\"data row9 col4\" >0.5646</td>\n",
       "      <td id=\"T_bde44_row9_col5\" class=\"data row9 col5\" >0.6255</td>\n",
       "      <td id=\"T_bde44_row9_col6\" class=\"data row9 col6\" >0.3684</td>\n",
       "      <td id=\"T_bde44_row9_col7\" class=\"data row9 col7\" >0.3752</td>\n",
       "      <td id=\"T_bde44_row9_col8\" class=\"data row9 col8\" >5.3570</td>\n",
       "    </tr>\n",
       "    <tr>\n",
       "      <th id=\"T_bde44_level0_row10\" class=\"row_heading level0 row10\" >dt</th>\n",
       "      <td id=\"T_bde44_row10_col0\" class=\"data row10 col0\" >Decision Tree Classifier</td>\n",
       "      <td id=\"T_bde44_row10_col1\" class=\"data row10 col1\" >0.6829</td>\n",
       "      <td id=\"T_bde44_row10_col2\" class=\"data row10 col2\" >0.6570</td>\n",
       "      <td id=\"T_bde44_row10_col3\" class=\"data row10 col3\" >0.5597</td>\n",
       "      <td id=\"T_bde44_row10_col4\" class=\"data row10 col4\" >0.5690</td>\n",
       "      <td id=\"T_bde44_row10_col5\" class=\"data row10 col5\" >0.5638</td>\n",
       "      <td id=\"T_bde44_row10_col6\" class=\"data row10 col6\" >0.3145</td>\n",
       "      <td id=\"T_bde44_row10_col7\" class=\"data row10 col7\" >0.3149</td>\n",
       "      <td id=\"T_bde44_row10_col8\" class=\"data row10 col8\" >5.1830</td>\n",
       "    </tr>\n",
       "    <tr>\n",
       "      <th id=\"T_bde44_level0_row11\" class=\"row_heading level0 row11\" >qda</th>\n",
       "      <td id=\"T_bde44_row11_col0\" class=\"data row11 col0\" >Quadratic Discriminant Analysis</td>\n",
       "      <td id=\"T_bde44_row11_col1\" class=\"data row11 col1\" >0.6761</td>\n",
       "      <td id=\"T_bde44_row11_col2\" class=\"data row11 col2\" >0.7640</td>\n",
       "      <td id=\"T_bde44_row11_col3\" class=\"data row11 col3\" >0.3174</td>\n",
       "      <td id=\"T_bde44_row11_col4\" class=\"data row11 col4\" >0.6171</td>\n",
       "      <td id=\"T_bde44_row11_col5\" class=\"data row11 col5\" >0.4078</td>\n",
       "      <td id=\"T_bde44_row11_col6\" class=\"data row11 col6\" >0.2192</td>\n",
       "      <td id=\"T_bde44_row11_col7\" class=\"data row11 col7\" >0.2466</td>\n",
       "      <td id=\"T_bde44_row11_col8\" class=\"data row11 col8\" >5.8300</td>\n",
       "    </tr>\n",
       "    <tr>\n",
       "      <th id=\"T_bde44_level0_row12\" class=\"row_heading level0 row12\" >svm</th>\n",
       "      <td id=\"T_bde44_row12_col0\" class=\"data row12 col0\" >SVM - Linear Kernel</td>\n",
       "      <td id=\"T_bde44_row12_col1\" class=\"data row12 col1\" >0.6616</td>\n",
       "      <td id=\"T_bde44_row12_col2\" class=\"data row12 col2\" >0.0000</td>\n",
       "      <td id=\"T_bde44_row12_col3\" class=\"data row12 col3\" >0.2963</td>\n",
       "      <td id=\"T_bde44_row12_col4\" class=\"data row12 col4\" >0.5876</td>\n",
       "      <td id=\"T_bde44_row12_col5\" class=\"data row12 col5\" >0.3057</td>\n",
       "      <td id=\"T_bde44_row12_col6\" class=\"data row12 col6\" >0.1658</td>\n",
       "      <td id=\"T_bde44_row12_col7\" class=\"data row12 col7\" >0.1963</td>\n",
       "      <td id=\"T_bde44_row12_col8\" class=\"data row12 col8\" >5.4320</td>\n",
       "    </tr>\n",
       "    <tr>\n",
       "      <th id=\"T_bde44_level0_row13\" class=\"row_heading level0 row13\" >knn</th>\n",
       "      <td id=\"T_bde44_row13_col0\" class=\"data row13 col0\" >K Neighbors Classifier</td>\n",
       "      <td id=\"T_bde44_row13_col1\" class=\"data row13 col1\" >0.6602</td>\n",
       "      <td id=\"T_bde44_row13_col2\" class=\"data row13 col2\" >0.6972</td>\n",
       "      <td id=\"T_bde44_row13_col3\" class=\"data row13 col3\" >0.5075</td>\n",
       "      <td id=\"T_bde44_row13_col4\" class=\"data row13 col4\" >0.5413</td>\n",
       "      <td id=\"T_bde44_row13_col5\" class=\"data row13 col5\" >0.5225</td>\n",
       "      <td id=\"T_bde44_row13_col6\" class=\"data row13 col6\" >0.2596</td>\n",
       "      <td id=\"T_bde44_row13_col7\" class=\"data row13 col7\" >0.2606</td>\n",
       "      <td id=\"T_bde44_row13_col8\" class=\"data row13 col8\" >5.3230</td>\n",
       "    </tr>\n",
       "    <tr>\n",
       "      <th id=\"T_bde44_level0_row14\" class=\"row_heading level0 row14\" >catboost</th>\n",
       "      <td id=\"T_bde44_row14_col0\" class=\"data row14 col0\" >CatBoost Classifier</td>\n",
       "      <td id=\"T_bde44_row14_col1\" class=\"data row14 col1\" >0.6563</td>\n",
       "      <td id=\"T_bde44_row14_col2\" class=\"data row14 col2\" >0.7262</td>\n",
       "      <td id=\"T_bde44_row14_col3\" class=\"data row14 col3\" >0.5796</td>\n",
       "      <td id=\"T_bde44_row14_col4\" class=\"data row14 col4\" >0.5643</td>\n",
       "      <td id=\"T_bde44_row14_col5\" class=\"data row14 col5\" >0.5711</td>\n",
       "      <td id=\"T_bde44_row14_col6\" class=\"data row14 col6\" >0.3775</td>\n",
       "      <td id=\"T_bde44_row14_col7\" class=\"data row14 col7\" >0.3782</td>\n",
       "      <td id=\"T_bde44_row14_col8\" class=\"data row14 col8\" >5.6170</td>\n",
       "    </tr>\n",
       "    <tr>\n",
       "      <th id=\"T_bde44_level0_row15\" class=\"row_heading level0 row15\" >dummy</th>\n",
       "      <td id=\"T_bde44_row15_col0\" class=\"data row15 col0\" >Dummy Classifier</td>\n",
       "      <td id=\"T_bde44_row15_col1\" class=\"data row15 col1\" >0.6327</td>\n",
       "      <td id=\"T_bde44_row15_col2\" class=\"data row15 col2\" >0.5000</td>\n",
       "      <td id=\"T_bde44_row15_col3\" class=\"data row15 col3\" >0.0000</td>\n",
       "      <td id=\"T_bde44_row15_col4\" class=\"data row15 col4\" >0.0000</td>\n",
       "      <td id=\"T_bde44_row15_col5\" class=\"data row15 col5\" >0.0000</td>\n",
       "      <td id=\"T_bde44_row15_col6\" class=\"data row15 col6\" >0.0000</td>\n",
       "      <td id=\"T_bde44_row15_col7\" class=\"data row15 col7\" >0.0000</td>\n",
       "      <td id=\"T_bde44_row15_col8\" class=\"data row15 col8\" >5.8380</td>\n",
       "    </tr>\n",
       "  </tbody>\n",
       "</table>\n"
      ],
      "text/plain": [
       "<pandas.io.formats.style.Styler at 0x1a50054beb0>"
      ]
     },
     "metadata": {},
     "output_type": "display_data"
    },
    {
     "data": {
      "text/html": [],
      "text/plain": [
       "<IPython.core.display.HTML object>"
      ]
     },
     "metadata": {},
     "output_type": "display_data"
    }
   ],
   "source": [
    "best = classification.compare_models(sort='Accuracy',n_select=5)"
   ]
  },
  {
   "cell_type": "code",
   "execution_count": 17,
   "id": "5c05e3ca",
   "metadata": {},
   "outputs": [
    {
     "data": {
      "text/html": [
       "<style>#sk-container-id-1 {color: black;background-color: white;}#sk-container-id-1 pre{padding: 0;}#sk-container-id-1 div.sk-toggleable {background-color: white;}#sk-container-id-1 label.sk-toggleable__label {cursor: pointer;display: block;width: 100%;margin-bottom: 0;padding: 0.3em;box-sizing: border-box;text-align: center;}#sk-container-id-1 label.sk-toggleable__label-arrow:before {content: \"▸\";float: left;margin-right: 0.25em;color: #696969;}#sk-container-id-1 label.sk-toggleable__label-arrow:hover:before {color: black;}#sk-container-id-1 div.sk-estimator:hover label.sk-toggleable__label-arrow:before {color: black;}#sk-container-id-1 div.sk-toggleable__content {max-height: 0;max-width: 0;overflow: hidden;text-align: left;background-color: #f0f8ff;}#sk-container-id-1 div.sk-toggleable__content pre {margin: 0.2em;color: black;border-radius: 0.25em;background-color: #f0f8ff;}#sk-container-id-1 input.sk-toggleable__control:checked~div.sk-toggleable__content {max-height: 200px;max-width: 100%;overflow: auto;}#sk-container-id-1 input.sk-toggleable__control:checked~label.sk-toggleable__label-arrow:before {content: \"▾\";}#sk-container-id-1 div.sk-estimator input.sk-toggleable__control:checked~label.sk-toggleable__label {background-color: #d4ebff;}#sk-container-id-1 div.sk-label input.sk-toggleable__control:checked~label.sk-toggleable__label {background-color: #d4ebff;}#sk-container-id-1 input.sk-hidden--visually {border: 0;clip: rect(1px 1px 1px 1px);clip: rect(1px, 1px, 1px, 1px);height: 1px;margin: -1px;overflow: hidden;padding: 0;position: absolute;width: 1px;}#sk-container-id-1 div.sk-estimator {font-family: monospace;background-color: #f0f8ff;border: 1px dotted black;border-radius: 0.25em;box-sizing: border-box;margin-bottom: 0.5em;}#sk-container-id-1 div.sk-estimator:hover {background-color: #d4ebff;}#sk-container-id-1 div.sk-parallel-item::after {content: \"\";width: 100%;border-bottom: 1px solid gray;flex-grow: 1;}#sk-container-id-1 div.sk-label:hover label.sk-toggleable__label {background-color: #d4ebff;}#sk-container-id-1 div.sk-serial::before {content: \"\";position: absolute;border-left: 1px solid gray;box-sizing: border-box;top: 0;bottom: 0;left: 50%;z-index: 0;}#sk-container-id-1 div.sk-serial {display: flex;flex-direction: column;align-items: center;background-color: white;padding-right: 0.2em;padding-left: 0.2em;position: relative;}#sk-container-id-1 div.sk-item {position: relative;z-index: 1;}#sk-container-id-1 div.sk-parallel {display: flex;align-items: stretch;justify-content: center;background-color: white;position: relative;}#sk-container-id-1 div.sk-item::before, #sk-container-id-1 div.sk-parallel-item::before {content: \"\";position: absolute;border-left: 1px solid gray;box-sizing: border-box;top: 0;bottom: 0;left: 50%;z-index: -1;}#sk-container-id-1 div.sk-parallel-item {display: flex;flex-direction: column;z-index: 1;position: relative;background-color: white;}#sk-container-id-1 div.sk-parallel-item:first-child::after {align-self: flex-end;width: 50%;}#sk-container-id-1 div.sk-parallel-item:last-child::after {align-self: flex-start;width: 50%;}#sk-container-id-1 div.sk-parallel-item:only-child::after {width: 0;}#sk-container-id-1 div.sk-dashed-wrapped {border: 1px dashed gray;margin: 0 0.4em 0.5em 0.4em;box-sizing: border-box;padding-bottom: 0.4em;background-color: white;}#sk-container-id-1 div.sk-label label {font-family: monospace;font-weight: bold;display: inline-block;line-height: 1.2em;}#sk-container-id-1 div.sk-label-container {text-align: center;}#sk-container-id-1 div.sk-container {/* jupyter's `normalize.less` sets `[hidden] { display: none; }` but bootstrap.min.css set `[hidden] { display: none !important; }` so we also need the `!important` here to be able to override the default hidden behavior on the sphinx rendered scikit-learn.org. See: https://github.com/scikit-learn/scikit-learn/issues/21755 */display: inline-block !important;position: relative;}#sk-container-id-1 div.sk-text-repr-fallback {display: none;}</style><div id=\"sk-container-id-1\" class=\"sk-top-container\"><div class=\"sk-text-repr-fallback\"><pre>RandomForestClassifier(bootstrap=True, ccp_alpha=0.0, class_weight=None,\n",
       "                       criterion=&#x27;gini&#x27;, max_depth=None, max_features=&#x27;sqrt&#x27;,\n",
       "                       max_leaf_nodes=None, max_samples=None,\n",
       "                       min_impurity_decrease=0.0, min_samples_leaf=1,\n",
       "                       min_samples_split=2, min_weight_fraction_leaf=0.0,\n",
       "                       n_estimators=100, n_jobs=-1, oob_score=False,\n",
       "                       random_state=42, verbose=0, warm_start=False)</pre><b>In a Jupyter environment, please rerun this cell to show the HTML representation or trust the notebook. <br />On GitHub, the HTML representation is unable to render, please try loading this page with nbviewer.org.</b></div><div class=\"sk-container\" hidden><div class=\"sk-item\"><div class=\"sk-estimator sk-toggleable\"><input class=\"sk-toggleable__control sk-hidden--visually\" id=\"sk-estimator-id-1\" type=\"checkbox\" checked><label for=\"sk-estimator-id-1\" class=\"sk-toggleable__label sk-toggleable__label-arrow\">RandomForestClassifier</label><div class=\"sk-toggleable__content\"><pre>RandomForestClassifier(bootstrap=True, ccp_alpha=0.0, class_weight=None,\n",
       "                       criterion=&#x27;gini&#x27;, max_depth=None, max_features=&#x27;sqrt&#x27;,\n",
       "                       max_leaf_nodes=None, max_samples=None,\n",
       "                       min_impurity_decrease=0.0, min_samples_leaf=1,\n",
       "                       min_samples_split=2, min_weight_fraction_leaf=0.0,\n",
       "                       n_estimators=100, n_jobs=-1, oob_score=False,\n",
       "                       random_state=42, verbose=0, warm_start=False)</pre></div></div></div></div></div>"
      ],
      "text/plain": [
       "RandomForestClassifier(bootstrap=True, ccp_alpha=0.0, class_weight=None,\n",
       "                       criterion='gini', max_depth=None, max_features='sqrt',\n",
       "                       max_leaf_nodes=None, max_samples=None,\n",
       "                       min_impurity_decrease=0.0, min_samples_leaf=1,\n",
       "                       min_samples_split=2, min_weight_fraction_leaf=0.0,\n",
       "                       n_estimators=100, n_jobs=-1, oob_score=False,\n",
       "                       random_state=42, verbose=0, warm_start=False)"
      ]
     },
     "execution_count": 17,
     "metadata": {},
     "output_type": "execute_result"
    }
   ],
   "source": [
    "best[0]"
   ]
  },
  {
   "cell_type": "code",
   "execution_count": null,
   "id": "9ad4c953",
   "metadata": {},
   "outputs": [],
   "source": [
    "from sklearn.ensemble import RandomForestClassifier\n",
    "rf = RandomForestClassifier(random_state=77,oob_score=True)"
   ]
  },
  {
   "cell_type": "code",
   "execution_count": 50,
   "id": "3b5369f5",
   "metadata": {},
   "outputs": [],
   "source": [
    "import numpy as np\n",
    "ensemble_idx = 3\n",
    "pred = np.array([np.array([i[1] for i in best[0].predict_proba(test.drop('ID',axis=1))])*(i/sum(list(range(5,ensemble_idx,-1)))) for i in range(5,ensemble_idx,-1)]).mean(axis=0)\n",
    "sub = pd.read_csv('./sample_submission.csv')\n",
    "sub['label'] = pred\n",
    "sub = sub.set_index('ID')\n",
    "sub.to_csv('./submission.csv')"
   ]
  },
  {
   "cell_type": "code",
   "execution_count": 51,
   "id": "56ab2b5e",
   "metadata": {},
   "outputs": [
    {
     "data": {
      "text/html": [
       "<div>\n",
       "<style scoped>\n",
       "    .dataframe tbody tr th:only-of-type {\n",
       "        vertical-align: middle;\n",
       "    }\n",
       "\n",
       "    .dataframe tbody tr th {\n",
       "        vertical-align: top;\n",
       "    }\n",
       "\n",
       "    .dataframe thead th {\n",
       "        text-align: right;\n",
       "    }\n",
       "</style>\n",
       "<table border=\"1\" class=\"dataframe\">\n",
       "  <thead>\n",
       "    <tr style=\"text-align: right;\">\n",
       "      <th></th>\n",
       "      <th>label</th>\n",
       "    </tr>\n",
       "    <tr>\n",
       "      <th>ID</th>\n",
       "      <th></th>\n",
       "    </tr>\n",
       "  </thead>\n",
       "  <tbody>\n",
       "    <tr>\n",
       "      <th>TEST_0000</th>\n",
       "      <td>0.055</td>\n",
       "    </tr>\n",
       "    <tr>\n",
       "      <th>TEST_0001</th>\n",
       "      <td>0.005</td>\n",
       "    </tr>\n",
       "    <tr>\n",
       "      <th>TEST_0002</th>\n",
       "      <td>0.255</td>\n",
       "    </tr>\n",
       "    <tr>\n",
       "      <th>TEST_0003</th>\n",
       "      <td>0.335</td>\n",
       "    </tr>\n",
       "    <tr>\n",
       "      <th>TEST_0004</th>\n",
       "      <td>0.100</td>\n",
       "    </tr>\n",
       "    <tr>\n",
       "      <th>...</th>\n",
       "      <td>...</td>\n",
       "    </tr>\n",
       "    <tr>\n",
       "      <th>TEST_2995</th>\n",
       "      <td>0.255</td>\n",
       "    </tr>\n",
       "    <tr>\n",
       "      <th>TEST_2996</th>\n",
       "      <td>0.145</td>\n",
       "    </tr>\n",
       "    <tr>\n",
       "      <th>TEST_2997</th>\n",
       "      <td>0.080</td>\n",
       "    </tr>\n",
       "    <tr>\n",
       "      <th>TEST_2998</th>\n",
       "      <td>0.310</td>\n",
       "    </tr>\n",
       "    <tr>\n",
       "      <th>TEST_2999</th>\n",
       "      <td>0.015</td>\n",
       "    </tr>\n",
       "  </tbody>\n",
       "</table>\n",
       "<p>3000 rows × 1 columns</p>\n",
       "</div>"
      ],
      "text/plain": [
       "           label\n",
       "ID              \n",
       "TEST_0000  0.055\n",
       "TEST_0001  0.005\n",
       "TEST_0002  0.255\n",
       "TEST_0003  0.335\n",
       "TEST_0004  0.100\n",
       "...          ...\n",
       "TEST_2995  0.255\n",
       "TEST_2996  0.145\n",
       "TEST_2997  0.080\n",
       "TEST_2998  0.310\n",
       "TEST_2999  0.015\n",
       "\n",
       "[3000 rows x 1 columns]"
      ]
     },
     "execution_count": 51,
     "metadata": {},
     "output_type": "execute_result"
    }
   ],
   "source": [
    "sub"
   ]
  },
  {
   "cell_type": "code",
   "execution_count": 52,
   "id": "f8f430d3",
   "metadata": {},
   "outputs": [
    {
     "data": {
      "text/plain": [
       "<AxesSubplot: ylabel='Frequency'>"
      ]
     },
     "execution_count": 52,
     "metadata": {},
     "output_type": "execute_result"
    },
    {
     "data": {
      "image/png": "[encoded data removed]",
      "text/plain": [
       "<Figure size 800x550 with 1 Axes>"
      ]
     },
     "metadata": {},
     "output_type": "display_data"
    }
   ],
   "source": [
    "sub['label'].plot.hist()"
   ]
  },
  {
   "cell_type": "code",
   "execution_count": 35,
   "id": "a7cfff25",
   "metadata": {},
   "outputs": [
    {
     "data": {
      "text/plain": [
       "array([[0.89, 0.11],\n",
       "       [0.99, 0.01],\n",
       "       [0.49, 0.51],\n",
       "       ...,\n",
       "       [0.84, 0.16],\n",
       "       [0.38, 0.62],\n",
       "       [0.97, 0.03]])"
      ]
     },
     "execution_count": 35,
     "metadata": {},
     "output_type": "execute_result"
    }
   ],
   "source": [
    "best[0].predict_proba(test.drop('ID',axis=1))"
   ]
  }
 ],
 "metadata": {
  "kernelspec": {
   "display_name": "Python 3 (ipykernel)",
   "language": "python",
   "name": "python3"
  },
  "language_info": {
   "codemirror_mode": {
    "name": "ipython",
    "version": 3
   },
   "file_extension": ".py",
   "mimetype": "text/x-python",
   "name": "python",
   "nbconvert_exporter": "python",
   "pygments_lexer": "ipython3",
   "version": "3.9.12"
  }
 },
 "nbformat": 4,
 "nbformat_minor": 5
}
