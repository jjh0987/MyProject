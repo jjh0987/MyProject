{
 "cells": [
  {
   "cell_type": "code",
   "execution_count": 1,
   "id": "8e9ab4d2",
   "metadata": {},
   "outputs": [],
   "source": [
    "import pandas as pd\n",
    "import warnings\n",
    "import re\n",
    "from nltk.corpus import stopwords, names\n",
    "from nltk.stem import WordNetLemmatizer\n",
    "from nltk.tokenize import word_tokenize\n",
    "warnings.filterwarnings(action='ignore') \n",
    "stops = stopwords.words('english')\n",
    "stops.append('a')\n",
    "wnl = WordNetLemmatizer()\n",
    "train = pd.read_csv('./train.csv')\n",
    "test = pd.read_csv('./test.csv')"
   ]
  },
  {
   "cell_type": "code",
   "execution_count": 2,
   "id": "4d72170c",
   "metadata": {},
   "outputs": [
    {
     "data": {
      "text/plain": [
       "'Lexecon Inc. was a defendant in a class action lawsuit. Under 28 USC section 1407(a), the lawsuit was transferred for pretrial proceedings to the District of Arizona. Section 1407(a) authorizes the Judicial Panel on Multidistrict Litigation to transfer civil actions with common issues of fact \"to any district for coordinated or consolidated pretrial proceedings,\" but provides that the Panel \"shall\" remand any such action to the original district \"at or before the conclusion of such pretrial proceedings.\" After claims against it were dismissed, Lexecon brought suit against Milberg Weiss Bershad Hynes & Lerach and others (Milberg) in the class action lawsuit in the Northern District of Illinois. Ultimately, the Panel, under section 1407(a), ordered the case transferred to the District of Arizona. Afterwards, Lexecon moved for the Arizona District Court to remand the case to Illinois. Milberg filed a countermotion requesting the Arizona District Court to invoke section 1404(a) to \"transfer\" the case to itself for trial.Ultimately, the court assigned the case to itself and the Court of Appeals affirmed its judgment.\\n'"
      ]
     },
     "execution_count": 2,
     "metadata": {},
     "output_type": "execute_result"
    }
   ],
   "source": [
    "test.facts[1]"
   ]
  },
  {
   "cell_type": "code",
   "execution_count": 3,
   "id": "59940cfe",
   "metadata": {},
   "outputs": [],
   "source": [
    "reg = re.compile('[a-zA-Z]+')\n",
    "for i in range(len(train)):\n",
    "    first = reg.findall(train.first_party[i]) \n",
    "    second = reg.findall(train.second_party[i])\n",
    "    \n",
    "    tp = word_tokenize(train.facts[i])\n",
    "    tp = ' '.join(tp)    \n",
    "    \n",
    "    fact = ' '.join(reg.findall(train.facts[i]))\n",
    "\n",
    "    for f in first:\n",
    "        if f in fact:\n",
    "            fact = fact.replace(f' {f} ',' <first> ')\n",
    "    for f in second:\n",
    "        if f in fact:\n",
    "            fact = fact.replace(f' {f} ',' <second> ')\n",
    "    \n",
    "    tp = fact.split()\n",
    "    tp = [i.lower() for i in tp]\n",
    "    tp = [wnl.lemmatize(i) for i in tp]\n",
    "    for j in tp:\n",
    "        if j in stops:\n",
    "            tp.remove(j)\n",
    "\n",
    "    fact = ' '.join(tp)  \n",
    "    tp = word_tokenize(fact)\n",
    "    fact = ' '.join(tp)\n",
    "                \n",
    "    train.loc[i,'facts'] = fact\n",
    "            \n",
    "for i in range(len(test)):\n",
    "    first = reg.findall(test.first_party[i])\n",
    "    second = reg.findall(test.second_party[i])\n",
    "    \n",
    "    tp = word_tokenize(test.facts[i])\n",
    "    tp = ' '.join(tp)        \n",
    "\n",
    "    fact = ' '.join(reg.findall(test.facts[i]))\n",
    "    \n",
    "#     for s in stops:\n",
    "#         if s in fact:\n",
    "#             fact = fact.replace(s,'')\n",
    "    for f in first:\n",
    "        if f in fact:\n",
    "            fact = fact.replace(f' {f} ',' <first> ')\n",
    "    for f in second:\n",
    "        if f in fact:\n",
    "            fact = fact.replace(f' {f} ',' <second> ')\n",
    "    \n",
    "    tp = fact.split()\n",
    "    tp = [i.lower() for i in tp]\n",
    "    tp = [wnl.lemmatize(i) for i in tp]\n",
    "\n",
    "    for j in tp:\n",
    "        if j in stops:\n",
    "            tp.remove(j)\n",
    "    \n",
    "    fact = ' '.join(tp)\n",
    "    tp = word_tokenize(fact)\n",
    "    fact = ' '.join(tp)        \n",
    "    \n",
    "    test.loc[i,'facts'] = fact"
   ]
  },
  {
   "cell_type": "code",
   "execution_count": 4,
   "id": "0c741b20",
   "metadata": {},
   "outputs": [
    {
     "data": {
      "text/plain": [
       "'lexecon < second > wa defendant class action lawsuit usc section lawsuit wa transferred pretrial proceeding district arizona section authorizes judicial panel multidistrict litigation transfer civil action common issue fact district coordinated consolidated pretrial proceeding provides panel shall remand any such action original district or conclusion such pretrial proceeding claim dismissed < second > brought suit < first > < first > < first > < first > < first > < first > others < first > class action lawsuit northern district illinois ultimately panel section ordered the case transferred the district arizona afterwards < second > moved the arizona district court remand the case illinois < first > filed countermotion requesting the arizona district court invoke section a transfer the case itself trial ultimately the court assigned the case to itself < first > the court appeal affirmed it judgment'"
      ]
     },
     "execution_count": 4,
     "metadata": {},
     "output_type": "execute_result"
    }
   ],
   "source": [
    "test.facts[1]"
   ]
  },
  {
   "cell_type": "code",
   "execution_count": null,
   "id": "bc3aaabc",
   "metadata": {},
   "outputs": [],
   "source": []
  }
 ],
 "metadata": {
  "kernelspec": {
   "display_name": "Python 3 (ipykernel)",
   "language": "python",
   "name": "python3"
  },
  "language_info": {
   "codemirror_mode": {
    "name": "ipython",
    "version": 3
   },
   "file_extension": ".py",
   "mimetype": "text/x-python",
   "name": "python",
   "nbconvert_exporter": "python",
   "pygments_lexer": "ipython3",
   "version": "3.9.12"
  }
 },
 "nbformat": 4,
 "nbformat_minor": 5
}
