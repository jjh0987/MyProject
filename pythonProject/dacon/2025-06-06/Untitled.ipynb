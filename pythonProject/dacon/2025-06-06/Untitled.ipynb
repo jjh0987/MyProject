{
 "cells": [
  {
   "cell_type": "code",
   "execution_count": 1,
   "id": "0fc015b4",
   "metadata": {},
   "outputs": [],
   "source": [
    "import pandas as pd"
   ]
  },
  {
   "cell_type": "code",
   "execution_count": 4,
   "id": "afa7e4a2",
   "metadata": {},
   "outputs": [
    {
     "name": "stdout",
     "output_type": "stream",
     "text": [
      "<class 'pandas.core.frame.DataFrame'>\n",
      "RangeIndex: 11999 entries, 0 to 11998\n",
      "Data columns (total 22 columns):\n",
      " #   Column            Non-Null Count  Dtype  \n",
      "---  ------            --------------  -----  \n",
      " 0   ID                11999 non-null  object \n",
      " 1   ip_src            9487 non-null   object \n",
      " 2   port_src          8625 non-null   float64\n",
      " 3   ip_dst            10695 non-null  object \n",
      " 4   port_dst          9712 non-null   float64\n",
      " 5   protocol          11999 non-null  object \n",
      " 6   duration          10925 non-null  float64\n",
      " 7   pkt_count_fwd     11999 non-null  int64  \n",
      " 8   pkt_count_bwd     11999 non-null  int64  \n",
      " 9   rate_fwd_pkts     10828 non-null  float64\n",
      " 10  rate_bwd_pkts     10312 non-null  float64\n",
      " 11  rate_fwd_bytes    11999 non-null  float64\n",
      " 12  rate_bwd_bytes    11999 non-null  float64\n",
      " 13  payload_fwd_mean  10214 non-null  float64\n",
      " 14  payload_bwd_mean  10214 non-null  float64\n",
      " 15  tcp_win_fwd_init  11999 non-null  int64  \n",
      " 16  tcp_win_bwd_init  11999 non-null  int64  \n",
      " 17  tcp_syn_count     11999 non-null  int64  \n",
      " 18  tcp_psh_count     11999 non-null  int64  \n",
      " 19  tcp_rst_count     11999 non-null  int64  \n",
      " 20  iat_avg_packets   9239 non-null   float64\n",
      " 21  attack_type       11999 non-null  object \n",
      "dtypes: float64(10), int64(7), object(5)\n",
      "memory usage: 2.0+ MB\n"
     ]
    }
   ],
   "source": [
    "train = pd.read_csv('./train.csv')\n",
    "train.info()"
   ]
  },
  {
   "cell_type": "code",
   "execution_count": null,
   "id": "9289a3c9",
   "metadata": {},
   "outputs": [],
   "source": []
  },
  {
   "cell_type": "code",
   "execution_count": null,
   "id": "ba532f41",
   "metadata": {},
   "outputs": [],
   "source": []
  }
 ],
 "metadata": {
  "kernelspec": {
   "display_name": "Python 3 (ipykernel)",
   "language": "python",
   "name": "python3"
  },
  "language_info": {
   "codemirror_mode": {
    "name": "ipython",
    "version": 3
   },
   "file_extension": ".py",
   "mimetype": "text/x-python",
   "name": "python",
   "nbconvert_exporter": "python",
   "pygments_lexer": "ipython3",
   "version": "3.8.18"
  }
 },
 "nbformat": 4,
 "nbformat_minor": 5
}
