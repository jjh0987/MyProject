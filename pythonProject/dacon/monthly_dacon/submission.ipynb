{
 "cells": [
  {
   "cell_type": "markdown",
   "id": "668d560b",
   "metadata": {},
   "source": [
    "# Chapter1. 데이터 기본정보 및 시각화 방법"
   ]
  },
  {
   "cell_type": "code",
   "execution_count": 3,
   "id": "a278d850",
   "metadata": {},
   "outputs": [],
   "source": [
    "import pandas as pd\n",
    "import matplotlib.pyplot as plt\n",
    "import numpy as np\n",
    "from scipy import interpolate"
   ]
  },
  {
   "cell_type": "markdown",
   "id": "6712a720",
   "metadata": {},
   "source": [
    "## 기초통계 및 데이터확인"
   ]
  },
  {
   "cell_type": "code",
   "execution_count": 2,
   "id": "7fc93f86",
   "metadata": {},
   "outputs": [
    {
     "data": {
      "text/html": [
       "<div>\n",
       "<style scoped>\n",
       "    .dataframe tbody tr th:only-of-type {\n",
       "        vertical-align: middle;\n",
       "    }\n",
       "\n",
       "    .dataframe tbody tr th {\n",
       "        vertical-align: top;\n",
       "    }\n",
       "\n",
       "    .dataframe thead th {\n",
       "        text-align: right;\n",
       "    }\n",
       "</style>\n",
       "<table border=\"1\" class=\"dataframe\">\n",
       "  <thead>\n",
       "    <tr style=\"text-align: right;\">\n",
       "      <th></th>\n",
       "      <th>Close</th>\n",
       "      <th>Open</th>\n",
       "      <th>High</th>\n",
       "      <th>Low</th>\n",
       "      <th>Volume</th>\n",
       "      <th>Change</th>\n",
       "    </tr>\n",
       "  </thead>\n",
       "  <tbody>\n",
       "    <tr>\n",
       "      <th>count</th>\n",
       "      <td>11024.000000</td>\n",
       "      <td>11024.000000</td>\n",
       "      <td>11024.000000</td>\n",
       "      <td>11024.000000</td>\n",
       "      <td>1.102400e+04</td>\n",
       "      <td>11024.000000</td>\n",
       "    </tr>\n",
       "    <tr>\n",
       "      <th>mean</th>\n",
       "      <td>1121.077967</td>\n",
       "      <td>1121.552291</td>\n",
       "      <td>1127.448217</td>\n",
       "      <td>1114.365044</td>\n",
       "      <td>2.556932e+08</td>\n",
       "      <td>0.000379</td>\n",
       "    </tr>\n",
       "    <tr>\n",
       "      <th>std</th>\n",
       "      <td>772.891667</td>\n",
       "      <td>773.393378</td>\n",
       "      <td>777.129136</td>\n",
       "      <td>768.310046</td>\n",
       "      <td>2.938432e+08</td>\n",
       "      <td>0.014550</td>\n",
       "    </tr>\n",
       "    <tr>\n",
       "      <th>min</th>\n",
       "      <td>105.990000</td>\n",
       "      <td>105.990000</td>\n",
       "      <td>105.990000</td>\n",
       "      <td>105.990000</td>\n",
       "      <td>1.660000e+05</td>\n",
       "      <td>-0.120200</td>\n",
       "    </tr>\n",
       "    <tr>\n",
       "      <th>25%</th>\n",
       "      <td>586.562500</td>\n",
       "      <td>586.482500</td>\n",
       "      <td>589.730000</td>\n",
       "      <td>582.837500</td>\n",
       "      <td>1.208750e+07</td>\n",
       "      <td>-0.006300</td>\n",
       "    </tr>\n",
       "    <tr>\n",
       "      <th>50%</th>\n",
       "      <td>878.105000</td>\n",
       "      <td>878.015000</td>\n",
       "      <td>882.360000</td>\n",
       "      <td>873.430000</td>\n",
       "      <td>2.264900e+08</td>\n",
       "      <td>0.000300</td>\n",
       "    </tr>\n",
       "    <tr>\n",
       "      <th>75%</th>\n",
       "      <td>1891.347500</td>\n",
       "      <td>1892.090000</td>\n",
       "      <td>1902.320000</td>\n",
       "      <td>1880.635000</td>\n",
       "      <td>4.028000e+08</td>\n",
       "      <td>0.007200</td>\n",
       "    </tr>\n",
       "    <tr>\n",
       "      <th>max</th>\n",
       "      <td>3305.210000</td>\n",
       "      <td>3305.460000</td>\n",
       "      <td>3316.080000</td>\n",
       "      <td>3295.440000</td>\n",
       "      <td>3.460000e+09</td>\n",
       "      <td>0.119500</td>\n",
       "    </tr>\n",
       "  </tbody>\n",
       "</table>\n",
       "</div>"
      ],
      "text/plain": [
       "              Close          Open          High           Low        Volume  \\\n",
       "count  11024.000000  11024.000000  11024.000000  11024.000000  1.102400e+04   \n",
       "mean    1121.077967   1121.552291   1127.448217   1114.365044  2.556932e+08   \n",
       "std      772.891667    773.393378    777.129136    768.310046  2.938432e+08   \n",
       "min      105.990000    105.990000    105.990000    105.990000  1.660000e+05   \n",
       "25%      586.562500    586.482500    589.730000    582.837500  1.208750e+07   \n",
       "50%      878.105000    878.015000    882.360000    873.430000  2.264900e+08   \n",
       "75%     1891.347500   1892.090000   1902.320000   1880.635000  4.028000e+08   \n",
       "max     3305.210000   3305.460000   3316.080000   3295.440000  3.460000e+09   \n",
       "\n",
       "             Change  \n",
       "count  11024.000000  \n",
       "mean       0.000379  \n",
       "std        0.014550  \n",
       "min       -0.120200  \n",
       "25%       -0.006300  \n",
       "50%        0.000300  \n",
       "75%        0.007200  \n",
       "max        0.119500  "
      ]
     },
     "execution_count": 2,
     "metadata": {},
     "output_type": "execute_result"
    }
   ],
   "source": [
    "df = pd.read_csv('./kospi_data.csv')\n",
    "df.describe()"
   ]
  },
  {
   "cell_type": "code",
   "execution_count": 3,
   "id": "4f093adf",
   "metadata": {},
   "outputs": [
    {
     "name": "stdout",
     "output_type": "stream",
     "text": [
      "<class 'pandas.core.frame.DataFrame'>\n",
      "RangeIndex: 11024 entries, 0 to 11023\n",
      "Data columns (total 8 columns):\n",
      " #   Column  Non-Null Count  Dtype         \n",
      "---  ------  --------------  -----         \n",
      " 0   Date    11024 non-null  datetime64[ns]\n",
      " 1   Close   11024 non-null  float64       \n",
      " 2   Open    11024 non-null  float64       \n",
      " 3   High    11024 non-null  float64       \n",
      " 4   Low     11024 non-null  float64       \n",
      " 5   Volume  11024 non-null  float64       \n",
      " 6   Change  11024 non-null  float64       \n",
      " 7   label   11024 non-null  int64         \n",
      "dtypes: datetime64[ns](1), float64(6), int64(1)\n",
      "memory usage: 689.1 KB\n",
      "None\n"
     ]
    }
   ],
   "source": [
    "df = pd.read_csv('./kospi_data.csv')\n",
    "df['Date'] = pd.to_datetime(df['Date'],format='%Y-%m-%d')\n",
    "\n",
    "label = [] # for classfication\n",
    "for test in list(df['Change']):\n",
    "    if test >= 0:\n",
    "        label.append(1)\n",
    "    else:\n",
    "        label.append(0)\n",
    "df['label'] = pd.DataFrame(label)\n",
    "print(df.info())"
   ]
  },
  {
   "cell_type": "markdown",
   "id": "6c3a2bd6",
   "metadata": {},
   "source": [
    "## 이동평균선"
   ]
  },
  {
   "cell_type": "code",
   "execution_count": 4,
   "id": "583d5976",
   "metadata": {},
   "outputs": [
    {
     "data": {
      "text/plain": [
       "<matplotlib.legend.Legend at 0x15c1a7070>"
      ]
     },
     "execution_count": 4,
     "metadata": {},
     "output_type": "execute_result"
    },
    {
     "data": {
      "image/png": "[encoded data removed]",
      "text/plain": [
       "<Figure size 432x288 with 1 Axes>"
      ]
     },
     "metadata": {
      "needs_background": "light"
     },
     "output_type": "display_data"
    }
   ],
   "source": [
    "plt.plot(df['Date'],df['Close'].rolling(window=1).mean())\n",
    "plt.plot(df['Date'],df['Close'].rolling(window=7).mean())\n",
    "plt.plot(df['Date'],df['Close'].rolling(window=30).mean())\n",
    "plt.plot(df['Date'],df['Close'].rolling(window=90).mean())\n",
    "\n",
    "plt.grid()\n",
    "plt.xlabel('Date')\n",
    "plt.ylabel('Close')\n",
    "plt.title('Moving Average')\n",
    "plt.legend(['Close','7days','30days','90days'])"
   ]
  },
  {
   "cell_type": "code",
   "execution_count": 5,
   "id": "43a5b5f3",
   "metadata": {},
   "outputs": [],
   "source": [
    "save_ = pd.DataFrame()\n",
    "save_['Date'] = df['Date']\n",
    "save_['Close'] = df['Close'].rolling(window=7).mean()\n",
    "save_.to_json('./week.json')"
   ]
  },
  {
   "cell_type": "markdown",
   "id": "8c3bbad9",
   "metadata": {},
   "source": [
    "## Close with Volume"
   ]
  },
  {
   "cell_type": "code",
   "execution_count": 6,
   "id": "9442c50e",
   "metadata": {},
   "outputs": [
    {
     "data": {
      "image/png": "[encoded data removed]",
      "text/plain": [
       "<Figure size 432x288 with 2 Axes>"
      ]
     },
     "metadata": {
      "needs_background": "light"
     },
     "output_type": "display_data"
    }
   ],
   "source": [
    "fig, ax1 = plt.subplots()\n",
    "ax1.plot(df['Date'], df['Close'])\n",
    "ax1.set_xlabel('Date')\n",
    "ax1.set_ylabel('Close')\n",
    "\n",
    "ax2 = ax1.twinx()\n",
    "ax2.set_ylabel('Volume')\n",
    "ax2.bar(df['Date'], df['Volume'],color='red')\n",
    "\n",
    "plt.title('Daily Close with Volume')\n",
    "plt.grid()"
   ]
  },
  {
   "cell_type": "markdown",
   "id": "98b93b9f",
   "metadata": {},
   "source": [
    "## Monthly boxplot"
   ]
  },
  {
   "cell_type": "markdown",
   "id": "af923997",
   "metadata": {},
   "source": [
    "- 일,주,월,연 단위 옵션가능"
   ]
  },
  {
   "cell_type": "code",
   "execution_count": 7,
   "id": "7a805b26",
   "metadata": {},
   "outputs": [
    {
     "data": {
      "text/plain": [
       "Text(0, 0.5, 'Close')"
      ]
     },
     "execution_count": 7,
     "metadata": {},
     "output_type": "execute_result"
    },
    {
     "data": {
      "image/png": "[encoded data removed]",
      "text/plain": [
       "<Figure size 432x288 with 1 Axes>"
      ]
     },
     "metadata": {
      "needs_background": "light"
     },
     "output_type": "display_data"
    }
   ],
   "source": [
    "df[df['Date'] > '2021-01-01'].loc[:,['Date','Close']].groupby(\n",
    "    [pd.Grouper(key='Date', freq='1M')]).boxplot(\n",
    "        subplots=False,rot=45)\n",
    "\n",
    "plt.title('Monthly Boxplot')\n",
    "plt.ylabel('Close')"
   ]
  },
  {
   "cell_type": "markdown",
   "id": "02fdba18",
   "metadata": {},
   "source": [
    "## Spline smoothing"
   ]
  },
  {
   "cell_type": "code",
   "execution_count": 8,
   "id": "22acd696",
   "metadata": {},
   "outputs": [
    {
     "data": {
      "text/html": [
       "<div>\n",
       "<style scoped>\n",
       "    .dataframe tbody tr th:only-of-type {\n",
       "        vertical-align: middle;\n",
       "    }\n",
       "\n",
       "    .dataframe tbody tr th {\n",
       "        vertical-align: top;\n",
       "    }\n",
       "\n",
       "    .dataframe thead th {\n",
       "        text-align: right;\n",
       "    }\n",
       "</style>\n",
       "<table border=\"1\" class=\"dataframe\">\n",
       "  <thead>\n",
       "    <tr style=\"text-align: right;\">\n",
       "      <th></th>\n",
       "      <th>Date</th>\n",
       "      <th>Close</th>\n",
       "      <th>Open</th>\n",
       "      <th>High</th>\n",
       "      <th>Low</th>\n",
       "      <th>Volume</th>\n",
       "      <th>Change</th>\n",
       "    </tr>\n",
       "  </thead>\n",
       "  <tbody>\n",
       "    <tr>\n",
       "      <th>0</th>\n",
       "      <td>1981-05-01</td>\n",
       "      <td>123.60</td>\n",
       "      <td>123.60</td>\n",
       "      <td>123.60</td>\n",
       "      <td>123.60</td>\n",
       "      <td>3330000.0</td>\n",
       "      <td>0.0098</td>\n",
       "    </tr>\n",
       "    <tr>\n",
       "      <th>1</th>\n",
       "      <td>1981-05-02</td>\n",
       "      <td>123.50</td>\n",
       "      <td>123.50</td>\n",
       "      <td>123.50</td>\n",
       "      <td>123.50</td>\n",
       "      <td>2040000.0</td>\n",
       "      <td>-0.0008</td>\n",
       "    </tr>\n",
       "    <tr>\n",
       "      <th>2</th>\n",
       "      <td>1981-05-04</td>\n",
       "      <td>120.60</td>\n",
       "      <td>120.60</td>\n",
       "      <td>120.60</td>\n",
       "      <td>120.60</td>\n",
       "      <td>1930000.0</td>\n",
       "      <td>-0.0235</td>\n",
       "    </tr>\n",
       "    <tr>\n",
       "      <th>3</th>\n",
       "      <td>1981-05-06</td>\n",
       "      <td>120.70</td>\n",
       "      <td>120.70</td>\n",
       "      <td>120.70</td>\n",
       "      <td>120.70</td>\n",
       "      <td>1690000.0</td>\n",
       "      <td>0.0008</td>\n",
       "    </tr>\n",
       "    <tr>\n",
       "      <th>4</th>\n",
       "      <td>1981-05-07</td>\n",
       "      <td>119.30</td>\n",
       "      <td>119.30</td>\n",
       "      <td>119.30</td>\n",
       "      <td>119.30</td>\n",
       "      <td>1480000.0</td>\n",
       "      <td>-0.0116</td>\n",
       "    </tr>\n",
       "    <tr>\n",
       "      <th>...</th>\n",
       "      <td>...</td>\n",
       "      <td>...</td>\n",
       "      <td>...</td>\n",
       "      <td>...</td>\n",
       "      <td>...</td>\n",
       "      <td>...</td>\n",
       "      <td>...</td>\n",
       "    </tr>\n",
       "    <tr>\n",
       "      <th>11019</th>\n",
       "      <td>2022-08-25</td>\n",
       "      <td>2477.26</td>\n",
       "      <td>2459.79</td>\n",
       "      <td>2477.26</td>\n",
       "      <td>2455.32</td>\n",
       "      <td>426230000.0</td>\n",
       "      <td>0.0122</td>\n",
       "    </tr>\n",
       "    <tr>\n",
       "      <th>11020</th>\n",
       "      <td>2022-08-26</td>\n",
       "      <td>2481.03</td>\n",
       "      <td>2489.14</td>\n",
       "      <td>2497.76</td>\n",
       "      <td>2476.75</td>\n",
       "      <td>520090000.0</td>\n",
       "      <td>0.0015</td>\n",
       "    </tr>\n",
       "    <tr>\n",
       "      <th>11021</th>\n",
       "      <td>2022-08-29</td>\n",
       "      <td>2426.89</td>\n",
       "      <td>2432.06</td>\n",
       "      <td>2432.89</td>\n",
       "      <td>2417.01</td>\n",
       "      <td>448750000.0</td>\n",
       "      <td>-0.0218</td>\n",
       "    </tr>\n",
       "    <tr>\n",
       "      <th>11022</th>\n",
       "      <td>2022-08-30</td>\n",
       "      <td>2450.93</td>\n",
       "      <td>2441.21</td>\n",
       "      <td>2453.91</td>\n",
       "      <td>2433.48</td>\n",
       "      <td>327210.0</td>\n",
       "      <td>0.0099</td>\n",
       "    </tr>\n",
       "    <tr>\n",
       "      <th>11023</th>\n",
       "      <td>2022-08-31</td>\n",
       "      <td>2472.05</td>\n",
       "      <td>2433.47</td>\n",
       "      <td>2473.75</td>\n",
       "      <td>2426.14</td>\n",
       "      <td>397290.0</td>\n",
       "      <td>0.0086</td>\n",
       "    </tr>\n",
       "  </tbody>\n",
       "</table>\n",
       "<p>11024 rows × 7 columns</p>\n",
       "</div>"
      ],
      "text/plain": [
       "            Date    Close     Open     High      Low       Volume  Change\n",
       "0     1981-05-01   123.60   123.60   123.60   123.60    3330000.0  0.0098\n",
       "1     1981-05-02   123.50   123.50   123.50   123.50    2040000.0 -0.0008\n",
       "2     1981-05-04   120.60   120.60   120.60   120.60    1930000.0 -0.0235\n",
       "3     1981-05-06   120.70   120.70   120.70   120.70    1690000.0  0.0008\n",
       "4     1981-05-07   119.30   119.30   119.30   119.30    1480000.0 -0.0116\n",
       "...          ...      ...      ...      ...      ...          ...     ...\n",
       "11019 2022-08-25  2477.26  2459.79  2477.26  2455.32  426230000.0  0.0122\n",
       "11020 2022-08-26  2481.03  2489.14  2497.76  2476.75  520090000.0  0.0015\n",
       "11021 2022-08-29  2426.89  2432.06  2432.89  2417.01  448750000.0 -0.0218\n",
       "11022 2022-08-30  2450.93  2441.21  2453.91  2433.48     327210.0  0.0099\n",
       "11023 2022-08-31  2472.05  2433.47  2473.75  2426.14     397290.0  0.0086\n",
       "\n",
       "[11024 rows x 7 columns]"
      ]
     },
     "execution_count": 8,
     "metadata": {},
     "output_type": "execute_result"
    }
   ],
   "source": [
    "df = pd.read_csv('./kospi_data.csv')\n",
    "df['Date'] = pd.to_datetime(df['Date'],format='%Y-%m-%d')\n",
    "df"
   ]
  },
  {
   "cell_type": "markdown",
   "id": "56a3f5bc",
   "metadata": {},
   "source": [
    "## Spline smoothing"
   ]
  },
  {
   "cell_type": "code",
   "execution_count": 9,
   "id": "df93dedf",
   "metadata": {},
   "outputs": [],
   "source": [
    "def spline(feature):\n",
    "    y = np.array(df[df['Date'] >= '2022-08-01'][feature])\n",
    "    x = np.linspace(1., 22., 22)\n",
    "    sp = interpolate.interp1d(x,y,kind='cubic')\n",
    "\n",
    "    # sp = csaps.csaps(x, y, smooth=0.8)\n",
    "    xs = np.linspace(x[0], x[-1], 120)\n",
    "    ys = sp(xs)\n",
    "    return xs,ys"
   ]
  },
  {
   "cell_type": "code",
   "execution_count": 10,
   "id": "44ab871c",
   "metadata": {},
   "outputs": [
    {
     "data": {
      "image/png": "[encoded data removed]",
      "text/plain": [
       "<Figure size 432x288 with 1 Axes>"
      ]
     },
     "metadata": {
      "needs_background": "light"
     },
     "output_type": "display_data"
    }
   ],
   "source": [
    "xc,yc = spline('Close')\n",
    "xl,yl = spline('Low')\n",
    "xh,yh = spline('High')\n",
    "\n",
    "plt.plot(xc,yc)\n",
    "plt.plot(xl,yl)\n",
    "plt.plot(xh,yh)\n",
    "\n",
    "plt.legend(['Close','Low','High'])\n",
    "plt.title('2022-08 cubic spline')\n",
    "plt.ylabel('Price')\n",
    "plt.xlabel('day')\n",
    "plt.grid()"
   ]
  },
  {
   "cell_type": "markdown",
   "id": "598c43bb",
   "metadata": {},
   "source": [
    "# Chapter2. Classification Invest Model"
   ]
  },
  {
   "cell_type": "markdown",
   "id": "7040b42a",
   "metadata": {},
   "source": [
    "- Method bundle\n",
    "- Grid search\n",
    "- Feature selection (skip) : combination rule"
   ]
  },
  {
   "cell_type": "markdown",
   "id": "915a4fd0",
   "metadata": {},
   "source": [
    "- 전일 상승/하락을 이용한 투자방법 검증"
   ]
  },
  {
   "cell_type": "code",
   "execution_count": 11,
   "id": "e955f0fb",
   "metadata": {},
   "outputs": [
    {
     "data": {
      "text/html": [
       "<div>\n",
       "<style scoped>\n",
       "    .dataframe tbody tr th:only-of-type {\n",
       "        vertical-align: middle;\n",
       "    }\n",
       "\n",
       "    .dataframe tbody tr th {\n",
       "        vertical-align: top;\n",
       "    }\n",
       "\n",
       "    .dataframe thead th {\n",
       "        text-align: right;\n",
       "    }\n",
       "</style>\n",
       "<table border=\"1\" class=\"dataframe\">\n",
       "  <thead>\n",
       "    <tr style=\"text-align: right;\">\n",
       "      <th></th>\n",
       "      <th>Date</th>\n",
       "      <th>Close</th>\n",
       "      <th>Open</th>\n",
       "      <th>High</th>\n",
       "      <th>Low</th>\n",
       "      <th>Volume</th>\n",
       "      <th>Change</th>\n",
       "      <th>df_split</th>\n",
       "    </tr>\n",
       "  </thead>\n",
       "  <tbody>\n",
       "    <tr>\n",
       "      <th>0</th>\n",
       "      <td>1981-05-01</td>\n",
       "      <td>123.60</td>\n",
       "      <td>123.60</td>\n",
       "      <td>123.60</td>\n",
       "      <td>123.60</td>\n",
       "      <td>3330000.0</td>\n",
       "      <td>0.0098</td>\n",
       "      <td>-1.0000</td>\n",
       "    </tr>\n",
       "    <tr>\n",
       "      <th>1</th>\n",
       "      <td>1981-05-02</td>\n",
       "      <td>123.50</td>\n",
       "      <td>123.50</td>\n",
       "      <td>123.50</td>\n",
       "      <td>123.50</td>\n",
       "      <td>2040000.0</td>\n",
       "      <td>-0.0008</td>\n",
       "      <td>0.0098</td>\n",
       "    </tr>\n",
       "    <tr>\n",
       "      <th>2</th>\n",
       "      <td>1981-05-04</td>\n",
       "      <td>120.60</td>\n",
       "      <td>120.60</td>\n",
       "      <td>120.60</td>\n",
       "      <td>120.60</td>\n",
       "      <td>1930000.0</td>\n",
       "      <td>-0.0235</td>\n",
       "      <td>-0.0008</td>\n",
       "    </tr>\n",
       "    <tr>\n",
       "      <th>3</th>\n",
       "      <td>1981-05-06</td>\n",
       "      <td>120.70</td>\n",
       "      <td>120.70</td>\n",
       "      <td>120.70</td>\n",
       "      <td>120.70</td>\n",
       "      <td>1690000.0</td>\n",
       "      <td>0.0008</td>\n",
       "      <td>-0.0235</td>\n",
       "    </tr>\n",
       "    <tr>\n",
       "      <th>4</th>\n",
       "      <td>1981-05-07</td>\n",
       "      <td>119.30</td>\n",
       "      <td>119.30</td>\n",
       "      <td>119.30</td>\n",
       "      <td>119.30</td>\n",
       "      <td>1480000.0</td>\n",
       "      <td>-0.0116</td>\n",
       "      <td>0.0008</td>\n",
       "    </tr>\n",
       "    <tr>\n",
       "      <th>...</th>\n",
       "      <td>...</td>\n",
       "      <td>...</td>\n",
       "      <td>...</td>\n",
       "      <td>...</td>\n",
       "      <td>...</td>\n",
       "      <td>...</td>\n",
       "      <td>...</td>\n",
       "      <td>...</td>\n",
       "    </tr>\n",
       "    <tr>\n",
       "      <th>11019</th>\n",
       "      <td>2022-08-25</td>\n",
       "      <td>2477.26</td>\n",
       "      <td>2459.79</td>\n",
       "      <td>2477.26</td>\n",
       "      <td>2455.32</td>\n",
       "      <td>426230000.0</td>\n",
       "      <td>0.0122</td>\n",
       "      <td>0.0050</td>\n",
       "    </tr>\n",
       "    <tr>\n",
       "      <th>11020</th>\n",
       "      <td>2022-08-26</td>\n",
       "      <td>2481.03</td>\n",
       "      <td>2489.14</td>\n",
       "      <td>2497.76</td>\n",
       "      <td>2476.75</td>\n",
       "      <td>520090000.0</td>\n",
       "      <td>0.0015</td>\n",
       "      <td>0.0122</td>\n",
       "    </tr>\n",
       "    <tr>\n",
       "      <th>11021</th>\n",
       "      <td>2022-08-29</td>\n",
       "      <td>2426.89</td>\n",
       "      <td>2432.06</td>\n",
       "      <td>2432.89</td>\n",
       "      <td>2417.01</td>\n",
       "      <td>448750000.0</td>\n",
       "      <td>-0.0218</td>\n",
       "      <td>0.0015</td>\n",
       "    </tr>\n",
       "    <tr>\n",
       "      <th>11022</th>\n",
       "      <td>2022-08-30</td>\n",
       "      <td>2450.93</td>\n",
       "      <td>2441.21</td>\n",
       "      <td>2453.91</td>\n",
       "      <td>2433.48</td>\n",
       "      <td>327210.0</td>\n",
       "      <td>0.0099</td>\n",
       "      <td>-0.0218</td>\n",
       "    </tr>\n",
       "    <tr>\n",
       "      <th>11023</th>\n",
       "      <td>2022-08-31</td>\n",
       "      <td>2472.05</td>\n",
       "      <td>2433.47</td>\n",
       "      <td>2473.75</td>\n",
       "      <td>2426.14</td>\n",
       "      <td>397290.0</td>\n",
       "      <td>0.0086</td>\n",
       "      <td>0.0099</td>\n",
       "    </tr>\n",
       "  </tbody>\n",
       "</table>\n",
       "<p>11024 rows × 8 columns</p>\n",
       "</div>"
      ],
      "text/plain": [
       "            Date    Close     Open     High      Low       Volume  Change  \\\n",
       "0     1981-05-01   123.60   123.60   123.60   123.60    3330000.0  0.0098   \n",
       "1     1981-05-02   123.50   123.50   123.50   123.50    2040000.0 -0.0008   \n",
       "2     1981-05-04   120.60   120.60   120.60   120.60    1930000.0 -0.0235   \n",
       "3     1981-05-06   120.70   120.70   120.70   120.70    1690000.0  0.0008   \n",
       "4     1981-05-07   119.30   119.30   119.30   119.30    1480000.0 -0.0116   \n",
       "...          ...      ...      ...      ...      ...          ...     ...   \n",
       "11019 2022-08-25  2477.26  2459.79  2477.26  2455.32  426230000.0  0.0122   \n",
       "11020 2022-08-26  2481.03  2489.14  2497.76  2476.75  520090000.0  0.0015   \n",
       "11021 2022-08-29  2426.89  2432.06  2432.89  2417.01  448750000.0 -0.0218   \n",
       "11022 2022-08-30  2450.93  2441.21  2453.91  2433.48     327210.0  0.0099   \n",
       "11023 2022-08-31  2472.05  2433.47  2473.75  2426.14     397290.0  0.0086   \n",
       "\n",
       "       df_split  \n",
       "0       -1.0000  \n",
       "1        0.0098  \n",
       "2       -0.0008  \n",
       "3       -0.0235  \n",
       "4        0.0008  \n",
       "...         ...  \n",
       "11019    0.0050  \n",
       "11020    0.0122  \n",
       "11021    0.0015  \n",
       "11022   -0.0218  \n",
       "11023    0.0099  \n",
       "\n",
       "[11024 rows x 8 columns]"
      ]
     },
     "execution_count": 11,
     "metadata": {},
     "output_type": "execute_result"
    }
   ],
   "source": [
    "df_split = [-1]\n",
    "df_split.extend(list(df.iloc[:-1,-1]))\n",
    "df['df_split'] = df_split\n",
    "df"
   ]
  },
  {
   "cell_type": "markdown",
   "id": "253d4fdf",
   "metadata": {},
   "source": [
    "- 전일 데이터를 이용하므로 label 을 한칸밀어준 df_split 컬럼을 생성해준다."
   ]
  },
  {
   "cell_type": "code",
   "execution_count": 46,
   "id": "3cc817a8",
   "metadata": {},
   "outputs": [
    {
     "data": {
      "text/html": [
       "<div>\n",
       "<style scoped>\n",
       "    .dataframe tbody tr th:only-of-type {\n",
       "        vertical-align: middle;\n",
       "    }\n",
       "\n",
       "    .dataframe tbody tr th {\n",
       "        vertical-align: top;\n",
       "    }\n",
       "\n",
       "    .dataframe thead th {\n",
       "        text-align: right;\n",
       "    }\n",
       "</style>\n",
       "<table border=\"1\" class=\"dataframe\">\n",
       "  <thead>\n",
       "    <tr style=\"text-align: right;\">\n",
       "      <th></th>\n",
       "      <th>Date</th>\n",
       "      <th>Close</th>\n",
       "      <th>Open</th>\n",
       "      <th>High</th>\n",
       "      <th>Low</th>\n",
       "      <th>Volume</th>\n",
       "      <th>Change</th>\n",
       "      <th>label</th>\n",
       "      <th>df_split</th>\n",
       "    </tr>\n",
       "  </thead>\n",
       "  <tbody>\n",
       "    <tr>\n",
       "      <th>0</th>\n",
       "      <td>2000-01-04</td>\n",
       "      <td>1059.04</td>\n",
       "      <td>1028.33</td>\n",
       "      <td>1066.18</td>\n",
       "      <td>1016.59</td>\n",
       "      <td>195900000.0</td>\n",
       "      <td>0.0301</td>\n",
       "      <td>1</td>\n",
       "      <td>1</td>\n",
       "    </tr>\n",
       "    <tr>\n",
       "      <th>1</th>\n",
       "      <td>2000-01-05</td>\n",
       "      <td>986.31</td>\n",
       "      <td>1006.87</td>\n",
       "      <td>1026.52</td>\n",
       "      <td>984.05</td>\n",
       "      <td>257700000.0</td>\n",
       "      <td>-0.0687</td>\n",
       "      <td>0</td>\n",
       "      <td>1</td>\n",
       "    </tr>\n",
       "    <tr>\n",
       "      <th>2</th>\n",
       "      <td>2000-01-06</td>\n",
       "      <td>960.79</td>\n",
       "      <td>1013.95</td>\n",
       "      <td>1014.90</td>\n",
       "      <td>953.50</td>\n",
       "      <td>203520000.0</td>\n",
       "      <td>-0.0259</td>\n",
       "      <td>0</td>\n",
       "      <td>0</td>\n",
       "    </tr>\n",
       "    <tr>\n",
       "      <th>3</th>\n",
       "      <td>2000-01-07</td>\n",
       "      <td>948.65</td>\n",
       "      <td>949.17</td>\n",
       "      <td>970.16</td>\n",
       "      <td>930.84</td>\n",
       "      <td>215660000.0</td>\n",
       "      <td>-0.0126</td>\n",
       "      <td>0</td>\n",
       "      <td>0</td>\n",
       "    </tr>\n",
       "    <tr>\n",
       "      <th>4</th>\n",
       "      <td>2000-01-10</td>\n",
       "      <td>987.24</td>\n",
       "      <td>979.67</td>\n",
       "      <td>994.94</td>\n",
       "      <td>965.02</td>\n",
       "      <td>240180000.0</td>\n",
       "      <td>0.0407</td>\n",
       "      <td>1</td>\n",
       "      <td>0</td>\n",
       "    </tr>\n",
       "    <tr>\n",
       "      <th>...</th>\n",
       "      <td>...</td>\n",
       "      <td>...</td>\n",
       "      <td>...</td>\n",
       "      <td>...</td>\n",
       "      <td>...</td>\n",
       "      <td>...</td>\n",
       "      <td>...</td>\n",
       "      <td>...</td>\n",
       "      <td>...</td>\n",
       "    </tr>\n",
       "    <tr>\n",
       "      <th>5592</th>\n",
       "      <td>2022-08-25</td>\n",
       "      <td>2477.26</td>\n",
       "      <td>2459.79</td>\n",
       "      <td>2477.26</td>\n",
       "      <td>2455.32</td>\n",
       "      <td>426230000.0</td>\n",
       "      <td>0.0122</td>\n",
       "      <td>1</td>\n",
       "      <td>1</td>\n",
       "    </tr>\n",
       "    <tr>\n",
       "      <th>5593</th>\n",
       "      <td>2022-08-26</td>\n",
       "      <td>2481.03</td>\n",
       "      <td>2489.14</td>\n",
       "      <td>2497.76</td>\n",
       "      <td>2476.75</td>\n",
       "      <td>520090000.0</td>\n",
       "      <td>0.0015</td>\n",
       "      <td>1</td>\n",
       "      <td>1</td>\n",
       "    </tr>\n",
       "    <tr>\n",
       "      <th>5594</th>\n",
       "      <td>2022-08-29</td>\n",
       "      <td>2426.89</td>\n",
       "      <td>2432.06</td>\n",
       "      <td>2432.89</td>\n",
       "      <td>2417.01</td>\n",
       "      <td>448750000.0</td>\n",
       "      <td>-0.0218</td>\n",
       "      <td>0</td>\n",
       "      <td>1</td>\n",
       "    </tr>\n",
       "    <tr>\n",
       "      <th>5595</th>\n",
       "      <td>2022-08-30</td>\n",
       "      <td>2450.93</td>\n",
       "      <td>2441.21</td>\n",
       "      <td>2453.91</td>\n",
       "      <td>2433.48</td>\n",
       "      <td>327210.0</td>\n",
       "      <td>0.0099</td>\n",
       "      <td>1</td>\n",
       "      <td>0</td>\n",
       "    </tr>\n",
       "    <tr>\n",
       "      <th>5596</th>\n",
       "      <td>2022-08-31</td>\n",
       "      <td>2472.05</td>\n",
       "      <td>2433.47</td>\n",
       "      <td>2473.75</td>\n",
       "      <td>2426.14</td>\n",
       "      <td>397290.0</td>\n",
       "      <td>0.0086</td>\n",
       "      <td>1</td>\n",
       "      <td>1</td>\n",
       "    </tr>\n",
       "  </tbody>\n",
       "</table>\n",
       "<p>5597 rows × 9 columns</p>\n",
       "</div>"
      ],
      "text/plain": [
       "           Date    Close     Open     High      Low       Volume  Change  \\\n",
       "0    2000-01-04  1059.04  1028.33  1066.18  1016.59  195900000.0  0.0301   \n",
       "1    2000-01-05   986.31  1006.87  1026.52   984.05  257700000.0 -0.0687   \n",
       "2    2000-01-06   960.79  1013.95  1014.90   953.50  203520000.0 -0.0259   \n",
       "3    2000-01-07   948.65   949.17   970.16   930.84  215660000.0 -0.0126   \n",
       "4    2000-01-10   987.24   979.67   994.94   965.02  240180000.0  0.0407   \n",
       "...         ...      ...      ...      ...      ...          ...     ...   \n",
       "5592 2022-08-25  2477.26  2459.79  2477.26  2455.32  426230000.0  0.0122   \n",
       "5593 2022-08-26  2481.03  2489.14  2497.76  2476.75  520090000.0  0.0015   \n",
       "5594 2022-08-29  2426.89  2432.06  2432.89  2417.01  448750000.0 -0.0218   \n",
       "5595 2022-08-30  2450.93  2441.21  2453.91  2433.48     327210.0  0.0099   \n",
       "5596 2022-08-31  2472.05  2433.47  2473.75  2426.14     397290.0  0.0086   \n",
       "\n",
       "      label  df_split  \n",
       "0         1         1  \n",
       "1         0         1  \n",
       "2         0         0  \n",
       "3         0         0  \n",
       "4         1         0  \n",
       "...     ...       ...  \n",
       "5592      1         1  \n",
       "5593      1         1  \n",
       "5594      0         1  \n",
       "5595      1         0  \n",
       "5596      1         1  \n",
       "\n",
       "[5597 rows x 9 columns]"
      ]
     },
     "execution_count": 46,
     "metadata": {},
     "output_type": "execute_result"
    }
   ],
   "source": [
    "df = pd.read_csv('./kospi_data.csv')\n",
    "\n",
    "label = []\n",
    "for test in list(df['Change']):\n",
    "    if test >= 0:\n",
    "        label.append(1)\n",
    "    else:\n",
    "        label.append(0)\n",
    "df['label'] = pd.DataFrame(label)\n",
    "df['Date'] = pd.to_datetime(df['Date'],format='%Y-%m-%d')\n",
    "df_split = [-1]\n",
    "df_split.extend(list(df.iloc[:-1,-1]))\n",
    "df['df_split'] = df_split\n",
    "\n",
    "df = df[df['Date'] >= '2000-01-01']\n",
    "df = df.reset_index().drop('index',axis=1)\n",
    "df"
   ]
  },
  {
   "cell_type": "code",
   "execution_count": 47,
   "id": "519f995c",
   "metadata": {},
   "outputs": [],
   "source": [
    "df = df[df['df_split'] == 1]"
   ]
  },
  {
   "cell_type": "code",
   "execution_count": 48,
   "id": "65f6f34f",
   "metadata": {},
   "outputs": [
    {
     "data": {
      "text/plain": [
       "-1687.499999999993"
      ]
     },
     "execution_count": 48,
     "metadata": {},
     "output_type": "execute_result"
    }
   ],
   "source": [
    "(df['Close'] - df['Open']).sum()"
   ]
  },
  {
   "cell_type": "code",
   "execution_count": 49,
   "id": "b9a5aaee",
   "metadata": {},
   "outputs": [
    {
     "data": {
      "text/plain": [
       "1687.5922933333334"
      ]
     },
     "execution_count": 49,
     "metadata": {},
     "output_type": "execute_result"
    }
   ],
   "source": [
    "df['Open'].mean() # 케이스 평균 구매가"
   ]
  },
  {
   "cell_type": "code",
   "execution_count": 50,
   "id": "ee2ccdf9",
   "metadata": {},
   "outputs": [
    {
     "data": {
      "text/plain": [
       "Text(0.5, 0, 'Case')"
      ]
     },
     "execution_count": 50,
     "metadata": {},
     "output_type": "execute_result"
    },
    {
     "data": {
      "image/png": "[encoded data removed]",
      "text/plain": [
       "<Figure size 432x288 with 1 Axes>"
      ]
     },
     "metadata": {
      "needs_background": "light"
     },
     "output_type": "display_data"
    }
   ],
   "source": [
    "plt.plot(range(len(df)),df['Close'] - df['Open'])\n",
    "plt.grid()\n",
    "plt.title('Invest Case')\n",
    "plt.ylabel('Profit')\n",
    "plt.xlabel('Case')"
   ]
  },
  {
   "cell_type": "code",
   "execution_count": 4,
   "id": "dffa486d",
   "metadata": {},
   "outputs": [
    {
     "data": {
      "text/html": [
       "<div>\n",
       "<style scoped>\n",
       "    .dataframe tbody tr th:only-of-type {\n",
       "        vertical-align: middle;\n",
       "    }\n",
       "\n",
       "    .dataframe tbody tr th {\n",
       "        vertical-align: top;\n",
       "    }\n",
       "\n",
       "    .dataframe thead th {\n",
       "        text-align: right;\n",
       "    }\n",
       "</style>\n",
       "<table border=\"1\" class=\"dataframe\">\n",
       "  <thead>\n",
       "    <tr style=\"text-align: right;\">\n",
       "      <th></th>\n",
       "      <th>label</th>\n",
       "      <th>split_label</th>\n",
       "      <th>0</th>\n",
       "    </tr>\n",
       "  </thead>\n",
       "  <tbody>\n",
       "    <tr>\n",
       "      <th>0</th>\n",
       "      <td>1</td>\n",
       "      <td>1</td>\n",
       "      <td>1623</td>\n",
       "    </tr>\n",
       "    <tr>\n",
       "      <th>1</th>\n",
       "      <td>0</td>\n",
       "      <td>1</td>\n",
       "      <td>1376</td>\n",
       "    </tr>\n",
       "    <tr>\n",
       "      <th>2</th>\n",
       "      <td>1</td>\n",
       "      <td>0</td>\n",
       "      <td>1376</td>\n",
       "    </tr>\n",
       "    <tr>\n",
       "      <th>3</th>\n",
       "      <td>0</td>\n",
       "      <td>0</td>\n",
       "      <td>1221</td>\n",
       "    </tr>\n",
       "  </tbody>\n",
       "</table>\n",
       "</div>"
      ],
      "text/plain": [
       "   label  split_label     0\n",
       "0      1            1  1623\n",
       "1      0            1  1376\n",
       "2      1            0  1376\n",
       "3      0            0  1221"
      ]
     },
     "execution_count": 4,
     "metadata": {},
     "output_type": "execute_result"
    }
   ],
   "source": [
    "heat = pd.DataFrame([[i,j] for i,j in zip(list(df['label'])[1:],list(df['df_split'])[1:])])\n",
    "heat.columns = ['label','split_label']\n",
    "arr = np.array([[0,0],[0,0]])\n",
    "\n",
    "tar = pd.DataFrame(heat.value_counts()).reset_index()\n",
    "for i in range(2):\n",
    "    tp = tar[tar['label'] == i]\n",
    "    for j in range(2):\n",
    "        arr[i][j] = tp[tp['split_label'] == j][0]\n",
    "\n",
    "tar"
   ]
  },
  {
   "cell_type": "code",
   "execution_count": 6,
   "id": "8742fb24",
   "metadata": {},
   "outputs": [],
   "source": [
    "tar.to_csv('./tar.csv')"
   ]
  },
  {
   "cell_type": "code",
   "execution_count": 5,
   "id": "216f3cf3",
   "metadata": {},
   "outputs": [
    {
     "data": {
      "text/plain": [
       "<AxesSubplot:>"
      ]
     },
     "execution_count": 5,
     "metadata": {},
     "output_type": "execute_result"
    },
    {
     "data": {
      "image/png": "[encoded data removed]",
      "text/plain": [
       "<Figure size 432x288 with 2 Axes>"
      ]
     },
     "metadata": {
      "needs_background": "light"
     },
     "output_type": "display_data"
    }
   ],
   "source": [
    "import seaborn as sns \n",
    "sns.heatmap(arr,xticklabels=['sp_label:0','sp_label:1'],\n",
    "            yticklabels=['label:0','label:1'],annot=True,fmt='d')\n"
   ]
  },
  {
   "cell_type": "markdown",
   "id": "866f1b9b",
   "metadata": {},
   "source": [
    "- 2000년 이후데이터 사용.\n",
    "- 전날 상승한경우, 현재 상승하는 경우가 가장많다.\n",
    " \n",
    " -> 전날 상승장인 경우 투자하는 방법은 정상적인 경험적 투자방법 : 위 경우, 투자 케이스 검증은 스킵\n",
    " \n",
    " \n",
    "- sp_label 이 1인경우를 투자케이스로 정한다면 승률은 54.1%\n",
    "\n",
    "수행내용\n",
    "- sp_label 을 예측 레이블로 바꾼다.\n",
    "- 분류를 이용하여 투자케이스 검증\n",
    "- grid search 이용"
   ]
  },
  {
   "cell_type": "code",
   "execution_count": 8,
   "id": "9ec489e0",
   "metadata": {},
   "outputs": [
    {
     "name": "stdout",
     "output_type": "stream",
     "text": [
      "Collecting xgboost\n",
      "  Using cached xgboost-1.6.2-py3-none-win_amd64.whl (125.4 MB)\n",
      "Requirement already satisfied: scipy in c:\\users\\user\\anaconda3\\lib\\site-packages (from xgboost) (1.7.3)\n",
      "Requirement already satisfied: numpy in c:\\users\\user\\anaconda3\\lib\\site-packages (from xgboost) (1.21.5)\n",
      "Installing collected packages: xgboost\n",
      "Successfully installed xgboost-1.6.2\n"
     ]
    }
   ],
   "source": [
    "!pip install xgboost"
   ]
  },
  {
   "cell_type": "code",
   "execution_count": 1,
   "id": "6e6443f2",
   "metadata": {},
   "outputs": [],
   "source": [
    "from sklearn.ensemble import VotingClassifier\n",
    "from sklearn.linear_model import LogisticRegression # 앙상블 조합용\n",
    "from sklearn.neighbors import KNeighborsClassifier # 앙상블 조합용\n",
    "from sklearn.model_selection import train_test_split\n",
    "from sklearn.metrics import accuracy_score\n",
    "from sklearn.metrics import precision_score\n",
    "from sklearn.metrics import recall_score\n",
    "from sklearn.tree import DecisionTreeClassifier\n",
    "from sklearn.ensemble import RandomForestClassifier\n",
    "from sklearn.ensemble import GradientBoostingClassifier\n",
    "import xgboost as xgb\n",
    "# from itertools import combinations\n",
    "import warnings\n",
    "\n",
    "warnings.filterwarnings('ignore')"
   ]
  },
  {
   "cell_type": "code",
   "execution_count": 4,
   "id": "7019c1a3",
   "metadata": {},
   "outputs": [
    {
     "data": {
      "text/html": [
       "<div>\n",
       "<style scoped>\n",
       "    .dataframe tbody tr th:only-of-type {\n",
       "        vertical-align: middle;\n",
       "    }\n",
       "\n",
       "    .dataframe tbody tr th {\n",
       "        vertical-align: top;\n",
       "    }\n",
       "\n",
       "    .dataframe thead th {\n",
       "        text-align: right;\n",
       "    }\n",
       "</style>\n",
       "<table border=\"1\" class=\"dataframe\">\n",
       "  <thead>\n",
       "    <tr style=\"text-align: right;\">\n",
       "      <th></th>\n",
       "      <th>Date</th>\n",
       "      <th>Close</th>\n",
       "      <th>Open</th>\n",
       "      <th>High</th>\n",
       "      <th>Low</th>\n",
       "      <th>Volume</th>\n",
       "      <th>Change</th>\n",
       "      <th>label</th>\n",
       "      <th>df_split</th>\n",
       "    </tr>\n",
       "  </thead>\n",
       "  <tbody>\n",
       "    <tr>\n",
       "      <th>0</th>\n",
       "      <td>2000-01-04</td>\n",
       "      <td>1059.04</td>\n",
       "      <td>1028.33</td>\n",
       "      <td>1066.18</td>\n",
       "      <td>1016.59</td>\n",
       "      <td>195900000.0</td>\n",
       "      <td>0.0301</td>\n",
       "      <td>1</td>\n",
       "      <td>1</td>\n",
       "    </tr>\n",
       "    <tr>\n",
       "      <th>1</th>\n",
       "      <td>2000-01-05</td>\n",
       "      <td>986.31</td>\n",
       "      <td>1006.87</td>\n",
       "      <td>1026.52</td>\n",
       "      <td>984.05</td>\n",
       "      <td>257700000.0</td>\n",
       "      <td>-0.0687</td>\n",
       "      <td>0</td>\n",
       "      <td>1</td>\n",
       "    </tr>\n",
       "    <tr>\n",
       "      <th>2</th>\n",
       "      <td>2000-01-06</td>\n",
       "      <td>960.79</td>\n",
       "      <td>1013.95</td>\n",
       "      <td>1014.90</td>\n",
       "      <td>953.50</td>\n",
       "      <td>203520000.0</td>\n",
       "      <td>-0.0259</td>\n",
       "      <td>0</td>\n",
       "      <td>0</td>\n",
       "    </tr>\n",
       "    <tr>\n",
       "      <th>3</th>\n",
       "      <td>2000-01-07</td>\n",
       "      <td>948.65</td>\n",
       "      <td>949.17</td>\n",
       "      <td>970.16</td>\n",
       "      <td>930.84</td>\n",
       "      <td>215660000.0</td>\n",
       "      <td>-0.0126</td>\n",
       "      <td>0</td>\n",
       "      <td>0</td>\n",
       "    </tr>\n",
       "    <tr>\n",
       "      <th>4</th>\n",
       "      <td>2000-01-10</td>\n",
       "      <td>987.24</td>\n",
       "      <td>979.67</td>\n",
       "      <td>994.94</td>\n",
       "      <td>965.02</td>\n",
       "      <td>240180000.0</td>\n",
       "      <td>0.0407</td>\n",
       "      <td>1</td>\n",
       "      <td>0</td>\n",
       "    </tr>\n",
       "    <tr>\n",
       "      <th>...</th>\n",
       "      <td>...</td>\n",
       "      <td>...</td>\n",
       "      <td>...</td>\n",
       "      <td>...</td>\n",
       "      <td>...</td>\n",
       "      <td>...</td>\n",
       "      <td>...</td>\n",
       "      <td>...</td>\n",
       "      <td>...</td>\n",
       "    </tr>\n",
       "    <tr>\n",
       "      <th>5592</th>\n",
       "      <td>2022-08-25</td>\n",
       "      <td>2477.26</td>\n",
       "      <td>2459.79</td>\n",
       "      <td>2477.26</td>\n",
       "      <td>2455.32</td>\n",
       "      <td>426230000.0</td>\n",
       "      <td>0.0122</td>\n",
       "      <td>1</td>\n",
       "      <td>1</td>\n",
       "    </tr>\n",
       "    <tr>\n",
       "      <th>5593</th>\n",
       "      <td>2022-08-26</td>\n",
       "      <td>2481.03</td>\n",
       "      <td>2489.14</td>\n",
       "      <td>2497.76</td>\n",
       "      <td>2476.75</td>\n",
       "      <td>520090000.0</td>\n",
       "      <td>0.0015</td>\n",
       "      <td>1</td>\n",
       "      <td>1</td>\n",
       "    </tr>\n",
       "    <tr>\n",
       "      <th>5594</th>\n",
       "      <td>2022-08-29</td>\n",
       "      <td>2426.89</td>\n",
       "      <td>2432.06</td>\n",
       "      <td>2432.89</td>\n",
       "      <td>2417.01</td>\n",
       "      <td>448750000.0</td>\n",
       "      <td>-0.0218</td>\n",
       "      <td>0</td>\n",
       "      <td>1</td>\n",
       "    </tr>\n",
       "    <tr>\n",
       "      <th>5595</th>\n",
       "      <td>2022-08-30</td>\n",
       "      <td>2450.93</td>\n",
       "      <td>2441.21</td>\n",
       "      <td>2453.91</td>\n",
       "      <td>2433.48</td>\n",
       "      <td>327210.0</td>\n",
       "      <td>0.0099</td>\n",
       "      <td>1</td>\n",
       "      <td>0</td>\n",
       "    </tr>\n",
       "    <tr>\n",
       "      <th>5596</th>\n",
       "      <td>2022-08-31</td>\n",
       "      <td>2472.05</td>\n",
       "      <td>2433.47</td>\n",
       "      <td>2473.75</td>\n",
       "      <td>2426.14</td>\n",
       "      <td>397290.0</td>\n",
       "      <td>0.0086</td>\n",
       "      <td>1</td>\n",
       "      <td>1</td>\n",
       "    </tr>\n",
       "  </tbody>\n",
       "</table>\n",
       "<p>5597 rows × 9 columns</p>\n",
       "</div>"
      ],
      "text/plain": [
       "           Date    Close     Open     High      Low       Volume  Change  \\\n",
       "0    2000-01-04  1059.04  1028.33  1066.18  1016.59  195900000.0  0.0301   \n",
       "1    2000-01-05   986.31  1006.87  1026.52   984.05  257700000.0 -0.0687   \n",
       "2    2000-01-06   960.79  1013.95  1014.90   953.50  203520000.0 -0.0259   \n",
       "3    2000-01-07   948.65   949.17   970.16   930.84  215660000.0 -0.0126   \n",
       "4    2000-01-10   987.24   979.67   994.94   965.02  240180000.0  0.0407   \n",
       "...         ...      ...      ...      ...      ...          ...     ...   \n",
       "5592 2022-08-25  2477.26  2459.79  2477.26  2455.32  426230000.0  0.0122   \n",
       "5593 2022-08-26  2481.03  2489.14  2497.76  2476.75  520090000.0  0.0015   \n",
       "5594 2022-08-29  2426.89  2432.06  2432.89  2417.01  448750000.0 -0.0218   \n",
       "5595 2022-08-30  2450.93  2441.21  2453.91  2433.48     327210.0  0.0099   \n",
       "5596 2022-08-31  2472.05  2433.47  2473.75  2426.14     397290.0  0.0086   \n",
       "\n",
       "      label  df_split  \n",
       "0         1         1  \n",
       "1         0         1  \n",
       "2         0         0  \n",
       "3         0         0  \n",
       "4         1         0  \n",
       "...     ...       ...  \n",
       "5592      1         1  \n",
       "5593      1         1  \n",
       "5594      0         1  \n",
       "5595      1         0  \n",
       "5596      1         1  \n",
       "\n",
       "[5597 rows x 9 columns]"
      ]
     },
     "execution_count": 4,
     "metadata": {},
     "output_type": "execute_result"
    }
   ],
   "source": [
    "df = pd.read_csv('./kospi_data.csv')\n",
    "\n",
    "label = []\n",
    "for test in list(df['Change']):\n",
    "    if test >= 0:\n",
    "        label.append(1)\n",
    "    else:\n",
    "        label.append(0)\n",
    "df['label'] = pd.DataFrame(label)\n",
    "df['Date'] = pd.to_datetime(df['Date'],format='%Y-%m-%d')\n",
    "df_split = [-1]\n",
    "df_split.extend(list(df.iloc[:-1,-1]))\n",
    "df['df_split'] = df_split\n",
    "\n",
    "df = df[df['Date'] >= '2000-01-01']\n",
    "df = df.reset_index().drop('index',axis=1)\n",
    "df"
   ]
  },
  {
   "cell_type": "code",
   "execution_count": 11,
   "id": "ecc93cf5",
   "metadata": {},
   "outputs": [
    {
     "data": {
      "text/html": [
       "<div>\n",
       "<style scoped>\n",
       "    .dataframe tbody tr th:only-of-type {\n",
       "        vertical-align: middle;\n",
       "    }\n",
       "\n",
       "    .dataframe tbody tr th {\n",
       "        vertical-align: top;\n",
       "    }\n",
       "\n",
       "    .dataframe thead th {\n",
       "        text-align: right;\n",
       "    }\n",
       "</style>\n",
       "<table border=\"1\" class=\"dataframe\">\n",
       "  <thead>\n",
       "    <tr style=\"text-align: right;\">\n",
       "      <th></th>\n",
       "      <th>Volume</th>\n",
       "      <th>Open</th>\n",
       "      <th>High</th>\n",
       "      <th>Low</th>\n",
       "    </tr>\n",
       "  </thead>\n",
       "  <tbody>\n",
       "    <tr>\n",
       "      <th>0</th>\n",
       "      <td>195900000.0</td>\n",
       "      <td>1028.33</td>\n",
       "      <td>1066.18</td>\n",
       "      <td>1016.59</td>\n",
       "    </tr>\n",
       "    <tr>\n",
       "      <th>1</th>\n",
       "      <td>257700000.0</td>\n",
       "      <td>1006.87</td>\n",
       "      <td>1026.52</td>\n",
       "      <td>984.05</td>\n",
       "    </tr>\n",
       "    <tr>\n",
       "      <th>2</th>\n",
       "      <td>203520000.0</td>\n",
       "      <td>1013.95</td>\n",
       "      <td>1014.90</td>\n",
       "      <td>953.50</td>\n",
       "    </tr>\n",
       "    <tr>\n",
       "      <th>3</th>\n",
       "      <td>215660000.0</td>\n",
       "      <td>949.17</td>\n",
       "      <td>970.16</td>\n",
       "      <td>930.84</td>\n",
       "    </tr>\n",
       "    <tr>\n",
       "      <th>4</th>\n",
       "      <td>240180000.0</td>\n",
       "      <td>979.67</td>\n",
       "      <td>994.94</td>\n",
       "      <td>965.02</td>\n",
       "    </tr>\n",
       "    <tr>\n",
       "      <th>...</th>\n",
       "      <td>...</td>\n",
       "      <td>...</td>\n",
       "      <td>...</td>\n",
       "      <td>...</td>\n",
       "    </tr>\n",
       "    <tr>\n",
       "      <th>4592</th>\n",
       "      <td>270490000.0</td>\n",
       "      <td>2278.33</td>\n",
       "      <td>2288.93</td>\n",
       "      <td>2272.94</td>\n",
       "    </tr>\n",
       "    <tr>\n",
       "      <th>4593</th>\n",
       "      <td>244550000.0</td>\n",
       "      <td>2288.51</td>\n",
       "      <td>2300.38</td>\n",
       "      <td>2283.26</td>\n",
       "    </tr>\n",
       "    <tr>\n",
       "      <th>4594</th>\n",
       "      <td>230340000.0</td>\n",
       "      <td>2290.85</td>\n",
       "      <td>2301.27</td>\n",
       "      <td>2279.55</td>\n",
       "    </tr>\n",
       "    <tr>\n",
       "      <th>4595</th>\n",
       "      <td>299690000.0</td>\n",
       "      <td>2305.73</td>\n",
       "      <td>2308.60</td>\n",
       "      <td>2298.41</td>\n",
       "    </tr>\n",
       "    <tr>\n",
       "      <th>4596</th>\n",
       "      <td>244880000.0</td>\n",
       "      <td>2303.04</td>\n",
       "      <td>2303.71</td>\n",
       "      <td>2291.91</td>\n",
       "    </tr>\n",
       "  </tbody>\n",
       "</table>\n",
       "<p>4597 rows × 4 columns</p>\n",
       "</div>"
      ],
      "text/plain": [
       "           Volume     Open     High      Low\n",
       "0     195900000.0  1028.33  1066.18  1016.59\n",
       "1     257700000.0  1006.87  1026.52   984.05\n",
       "2     203520000.0  1013.95  1014.90   953.50\n",
       "3     215660000.0   949.17   970.16   930.84\n",
       "4     240180000.0   979.67   994.94   965.02\n",
       "...           ...      ...      ...      ...\n",
       "4592  270490000.0  2278.33  2288.93  2272.94\n",
       "4593  244550000.0  2288.51  2300.38  2283.26\n",
       "4594  230340000.0  2290.85  2301.27  2279.55\n",
       "4595  299690000.0  2305.73  2308.60  2298.41\n",
       "4596  244880000.0  2303.04  2303.71  2291.91\n",
       "\n",
       "[4597 rows x 4 columns]"
      ]
     },
     "execution_count": 11,
     "metadata": {},
     "output_type": "execute_result"
    }
   ],
   "source": [
    "df.loc[:len(df)-1001,['Volume','Open','High','Low']] # train"
   ]
  },
  {
   "cell_type": "code",
   "execution_count": 201,
   "id": "22c3e7c6",
   "metadata": {},
   "outputs": [],
   "source": [
    "class Prediction():\n",
    "    def __init__(self): # input : classifier,features\n",
    "        df = pd.read_csv('./kospi_data.csv')\n",
    "\n",
    "        label = []\n",
    "        for test in list(df['Change']):\n",
    "            if test >= 0:\n",
    "                label.append(1)\n",
    "            else:\n",
    "                label.append(0)\n",
    "        df['label'] = pd.DataFrame(label)\n",
    "        df['Date'] = pd.to_datetime(df['Date'],format='%Y-%m-%d')\n",
    "        df_split = [-1]\n",
    "        df_split.extend(list(df.iloc[:-1,-1]))\n",
    "        df['df_split'] = df_split\n",
    "        \n",
    "        df = df[df['Date'] >= '2000-01-01']\n",
    "        df = df.reset_index().drop('index',axis=1)\n",
    "\n",
    "        self.df = df.loc[:len(df)-1000,['Volume','Open','High','Low']]\n",
    "        self.label = pd.DataFrame(df.loc[:len(df)-1000,'df_split'])\n",
    "        self.pred_target = pd.DataFrame(df.loc[len(df)-1000:,['Volume','Open','High','Low']])\n",
    "\n",
    "    # bundle(dtc(),)\n",
    "    def bundle(self, classifier, features, test_size):\n",
    "\n",
    "        total_tbl_train = self.df\n",
    "        total_tbl_label = self.label\n",
    "\n",
    "        X_train, X_test, y_train, y_test = train_test_split(total_tbl_train\n",
    "                                                            , total_tbl_label\n",
    "                                                            , test_size=test_size,\n",
    "                                                            random_state=10)\n",
    "\n",
    "        #DecisionTree = DecisionTreeClassifier(random_state=10)\n",
    "        #Logistic = LogisticRegression(random_state=10)\n",
    "        #KNeighbors = KNeighborsClassifier(n_neighbors=4)\n",
    "        #Voting = VotingClassifier(estimators=[('LR', Logistic), ('KN', KNeighbors)], voting='hard')\n",
    "        #RandomForest = RandomForestClassifier(random_state=10)\n",
    "        #GradientBoosting = GradientBoostingClassifier(random_state=10)\n",
    "        #XGB = xgb.XGBClassifier(random_state=10)\n",
    "        #choice = {'DecisionTree': self.dtc(), 'Logistic': Logistic, 'KNeighbors': KNeighbors,\n",
    "        #          'Voting': Voting, 'RandomForest': RandomForest, 'GradientBoosting': GradientBoosting,\n",
    "        #          'XGB': XGB}\n",
    "\n",
    "        clf = classifier\n",
    "        clf.fit(X_train, y_train)  # classifier\n",
    "        acc_pred = clf.predict(X_test)\n",
    "        acc = np.round(accuracy_score(y_test, acc_pred), 4) # \n",
    "\n",
    "        pred = clf.predict(np.array(self.pred_target[features])) # .reshape(1,-1)\n",
    "\n",
    "        return round(acc * 100, 2),pred\n",
    "\n",
    "    def dtc(self,max_depth,min_samples_leaf,min_samples_split):\n",
    "\n",
    "        return DecisionTreeClassifier(random_state=10,\n",
    "                                      max_depth=max_depth,\n",
    "                                      min_samples_leaf=min_samples_leaf,\n",
    "                                      min_samples_split=min_samples_split)\n",
    "\n",
    "    def logi(self,l1_ratio):\n",
    "        return LogisticRegression(random_state=10,penalty='elasticnet',l1_ratio=l1_ratio,solver='saga')\n",
    "\n",
    "    def kNN(self,n_neighbors):\n",
    "        return KNeighborsClassifier(n_neighbors=n_neighbors)\n",
    "\n",
    "    def Vote(self):\n",
    "        return VotingClassifier(estimators=[('LR', self.logi(0.5)), ('KN', self.kNN(4))])\n",
    "\n",
    "    def RanF(self,max_depth,min_samples_leaf,min_samples_split,max_samples):\n",
    "        return RandomForestClassifier(random_state=10,\n",
    "                                      max_depth=max_depth,\n",
    "                                      min_samples_leaf=min_samples_leaf,\n",
    "                                      min_samples_split=min_samples_split,\n",
    "                                      bootstrap=True,\n",
    "                                      max_samples=max_samples)\n",
    "\n",
    "    def GradB(self,max_depth,min_samples_leaf,min_samples_split,learning_rate):\n",
    "        return GradientBoostingClassifier(random_state=10,\n",
    "                                          max_depth=max_depth,\n",
    "                                          min_samples_leaf=min_samples_leaf,\n",
    "                                          min_samples_split=min_samples_split,\n",
    "                                          learning_rate=learning_rate)\n",
    "\n",
    "    def xgB(self):\n",
    "        return xgb.XGBClassifier(random_state=10)\n"
   ]
  },
  {
   "cell_type": "code",
   "execution_count": 202,
   "id": "14a15252",
   "metadata": {},
   "outputs": [],
   "source": [
    "class best(Prediction):\n",
    "    def __init__(self):\n",
    "        self.features = ['Volume','Open','High','Low']\n",
    "        self.result = []\n",
    "        print('start')\n",
    "        self.result.append(self.dtc_best())\n",
    "        print('dtc fin')\n",
    "        self.result.append(self.logi_best())\n",
    "        print('logi fin')\n",
    "        self.result.append(self.knn_best())\n",
    "        print('knn fin')\n",
    "        self.result.append(self.vote_best())\n",
    "        print('vote fin')\n",
    "        self.result.append(self.ranf_best())\n",
    "        print('ranf fin')\n",
    "        self.result.append(self.grad_best())\n",
    "        print('grad fin')\n",
    "        self.result.append(self.xgb_best())\n",
    "        print('xgb fin')\n",
    "\n",
    "\n",
    "    def dtc_best(self):\n",
    "        prediction_method = Prediction()\n",
    "        train_test_rate = 0.2\n",
    "        tp = []\n",
    "        idx = []\n",
    "        for i in range(1,10):\n",
    "            for j in range(1,10):\n",
    "                for k in range(2,10):\n",
    "                    for l in range(1,len(self.features)+1):\n",
    "                        #for feature in list(combinations(features,l)):\n",
    "                        np.random.seed(10)\n",
    "                        #print(np.random.rand(5))\n",
    "                        tp.append(prediction_method.bundle(prediction_method.dtc(i,j,k), self.features, train_test_rate)[0])\n",
    "                        idx.append([i,j,k,self.features])\n",
    "                        #print([i,j,k,feature])\n",
    "        return 'dtc',idx[tp.index(max(tp))],max(tp)\n",
    "\n",
    "    def logi_best(self):\n",
    "        prediction_method = Prediction()\n",
    "        train_test_rate = 0.2\n",
    "        tp = []\n",
    "        idx = []\n",
    "        for i in range(0,101,5):\n",
    "            for l in range(1,len(self.features)+1):\n",
    "                #for feature in list(combinations(features,l)):\n",
    "                np.random.seed(10)\n",
    "                #print(np.random.rand(5))\n",
    "                tp.append(prediction_method.bundle(prediction_method.logi(i/100), self.features, train_test_rate)[0])\n",
    "                idx.append([i,self.features])\n",
    "                #print([i/100,feature])\n",
    "\n",
    "        return 'logi',idx[tp.index(max(tp))],max(tp)\n",
    "\n",
    "    def knn_best(self):\n",
    "        prediction_method = Prediction()\n",
    "        train_test_rate = 0.2\n",
    "        tp = []\n",
    "        idx = []\n",
    "        for i in range(1,11):\n",
    "            for l in range(1,len(self.features)+1):\n",
    "                #for feature in list(combinations(features,l)):\n",
    "                np.random.seed(10)\n",
    "                #print(np.random.rand(5))\n",
    "                tp.append(prediction_method.bundle(prediction_method.kNN(i), self.features, train_test_rate)[0])\n",
    "                idx.append([i,self.features])\n",
    "                #print([i,feature])\n",
    "\n",
    "        return 'knn',idx[tp.index(max(tp))],max(tp)\n",
    "\n",
    "    def vote_best(self):\n",
    "        prediction_method = Prediction()\n",
    "        train_test_rate = 0.2\n",
    "\n",
    "        tp = []\n",
    "        idx = []\n",
    "\n",
    "        for l in range(1,len(self.features)+1):\n",
    "            #for feature in list(combinations(features,l)):\n",
    "            np.random.seed(10)\n",
    "            #print(np.random.rand(5))\n",
    "            tp.append(prediction_method.bundle(prediction_method.Vote(), self.features, train_test_rate)[0])\n",
    "            idx.append([self.features])\n",
    "            #print([feature])\n",
    "\n",
    "        return 'vote',idx[tp.index(max(tp))],max(tp)\n",
    "\n",
    "    def ranf_best(self):\n",
    "        prediction_method = Prediction()\n",
    "        train_test_rate = 0.2\n",
    "        tp = []\n",
    "        idx = []\n",
    "        for i in range(1,10):\n",
    "            for j in range(1,10):\n",
    "                for k in range(2,10):\n",
    "                    for ms in range(10,101,10):\n",
    "                        #for l in range(1,len(features)+1):\n",
    "                        #    for feature in list(combinations(features,l)):\n",
    "                        np.random.seed(10)\n",
    "                        #print(np.random.rand(5))\n",
    "                        tp.append(prediction_method.bundle(prediction_method.RanF(i,j,k,ms), self.features, train_test_rate)[0])\n",
    "                        idx.append([i,j,k,ms,self.features])\n",
    "                        #print([i,j,k,ms,features])\n",
    "            print(f'{i}/10')\n",
    "\n",
    "        return 'ranf',idx[tp.index(max(tp))],max(tp)\n",
    "\n",
    "    def grad_best(self):\n",
    "        prediction_method = Prediction()\n",
    "        train_test_rate = 0.2\n",
    "        tp = []\n",
    "        idx = []\n",
    "        for i in range(1,10):\n",
    "            for j in range(1,10):\n",
    "                for k in range(2,10):\n",
    "                    for ms in range(1,5):\n",
    "                        #for l in range(1,len(features)+1):\n",
    "                        #    for feature in list(combinations(features,l)):\n",
    "                        np.random.seed(10)\n",
    "                        #print(np.random.rand(5))\n",
    "                        tp.append(prediction_method.bundle(prediction_method.GradB(i,j,k,ms/10), self.features, train_test_rate)[0])\n",
    "                        idx.append([i,j,k,ms/10,self.features])\n",
    "                        #print([i,j,k,ms/10,features])\n",
    "            print(f'{i}/10')\n",
    "\n",
    "        return 'grad',idx[tp.index(max(tp))],max(tp)\n",
    "\n",
    "    def xgb_best(self):\n",
    "        prediction_method = Prediction()\n",
    "        train_test_rate = 0.2\n",
    "\n",
    "        tp = []\n",
    "        idx = []\n",
    "\n",
    "        for l in range(1,len(self.features)+1):\n",
    "            #for feature in list(combinations(features,l)):\n",
    "            np.random.seed(10)\n",
    "            #print(np.random.rand(5))\n",
    "            tp.append(prediction_method.bundle(prediction_method.xgB(), self.features, train_test_rate)[0])\n",
    "            idx.append([self.features])\n",
    "            #print([feature])\n",
    "\n",
    "        return 'xgb',idx[tp.index(max(tp))],max(tp)"
   ]
  },
  {
   "cell_type": "code",
   "execution_count": 199,
   "id": "6881efa1",
   "metadata": {},
   "outputs": [
    {
     "name": "stdout",
     "output_type": "stream",
     "text": [
      "start\n",
      "dtc fin\n",
      "logi fin\n",
      "knn fin\n",
      "vote fin\n",
      "1/10\n",
      "2/10\n",
      "3/10\n",
      "4/10\n",
      "5/10\n",
      "6/10\n",
      "7/10\n",
      "8/10\n",
      "9/10\n",
      "ranf fin\n",
      "1/10\n",
      "2/10\n",
      "3/10\n",
      "4/10\n",
      "5/10\n",
      "6/10\n",
      "7/10\n",
      "8/10\n",
      "9/10\n",
      "grad fin\n",
      "xgb fin\n"
     ]
    }
   ],
   "source": [
    "bst = best() # f1"
   ]
  },
  {
   "cell_type": "code",
   "execution_count": 200,
   "id": "f363bbf3",
   "metadata": {},
   "outputs": [
    {
     "data": {
      "text/html": [
       "<div>\n",
       "<style scoped>\n",
       "    .dataframe tbody tr th:only-of-type {\n",
       "        vertical-align: middle;\n",
       "    }\n",
       "\n",
       "    .dataframe tbody tr th {\n",
       "        vertical-align: top;\n",
       "    }\n",
       "\n",
       "    .dataframe thead th {\n",
       "        text-align: right;\n",
       "    }\n",
       "</style>\n",
       "<table border=\"1\" class=\"dataframe\">\n",
       "  <thead>\n",
       "    <tr style=\"text-align: right;\">\n",
       "      <th></th>\n",
       "      <th>Method</th>\n",
       "      <th>Parms</th>\n",
       "      <th>acc</th>\n",
       "    </tr>\n",
       "  </thead>\n",
       "  <tbody>\n",
       "    <tr>\n",
       "      <th>0</th>\n",
       "      <td>dtc</td>\n",
       "      <td>[7, 1, 4, [Volume, Open, High, Low]]</td>\n",
       "      <td>55.33</td>\n",
       "    </tr>\n",
       "    <tr>\n",
       "      <th>1</th>\n",
       "      <td>logi</td>\n",
       "      <td>[0, [Volume, Open, High, Low]]</td>\n",
       "      <td>53.26</td>\n",
       "    </tr>\n",
       "    <tr>\n",
       "      <th>2</th>\n",
       "      <td>knn</td>\n",
       "      <td>[1, [Volume, Open, High, Low]]</td>\n",
       "      <td>48.91</td>\n",
       "    </tr>\n",
       "    <tr>\n",
       "      <th>3</th>\n",
       "      <td>vote</td>\n",
       "      <td>[[Volume, Open, High, Low]]</td>\n",
       "      <td>46.96</td>\n",
       "    </tr>\n",
       "    <tr>\n",
       "      <th>4</th>\n",
       "      <td>ranf</td>\n",
       "      <td>[5, 2, 7, 60, [Volume, Open, High, Low]]</td>\n",
       "      <td>57.50</td>\n",
       "    </tr>\n",
       "    <tr>\n",
       "      <th>5</th>\n",
       "      <td>grad</td>\n",
       "      <td>[9, 5, 2, 0.4, [Volume, Open, High, Low]]</td>\n",
       "      <td>62.17</td>\n",
       "    </tr>\n",
       "    <tr>\n",
       "      <th>6</th>\n",
       "      <td>xgb</td>\n",
       "      <td>[[Volume, Open, High, Low]]</td>\n",
       "      <td>59.13</td>\n",
       "    </tr>\n",
       "  </tbody>\n",
       "</table>\n",
       "</div>"
      ],
      "text/plain": [
       "  Method                                      Parms    acc\n",
       "0    dtc       [7, 1, 4, [Volume, Open, High, Low]]  55.33\n",
       "1   logi             [0, [Volume, Open, High, Low]]  53.26\n",
       "2    knn             [1, [Volume, Open, High, Low]]  48.91\n",
       "3   vote                [[Volume, Open, High, Low]]  46.96\n",
       "4   ranf   [5, 2, 7, 60, [Volume, Open, High, Low]]  57.50\n",
       "5   grad  [9, 5, 2, 0.4, [Volume, Open, High, Low]]  62.17\n",
       "6    xgb                [[Volume, Open, High, Low]]  59.13"
      ]
     },
     "execution_count": 200,
     "metadata": {},
     "output_type": "execute_result"
    }
   ],
   "source": [
    "summary = pd.DataFrame(bst.result)\n",
    "summary.columns = ['Method','Parms','acc']\n",
    "summary"
   ]
  },
  {
   "cell_type": "code",
   "execution_count": 179,
   "id": "5e90f46c",
   "metadata": {},
   "outputs": [
    {
     "data": {
      "text/html": [
       "<div>\n",
       "<style scoped>\n",
       "    .dataframe tbody tr th:only-of-type {\n",
       "        vertical-align: middle;\n",
       "    }\n",
       "\n",
       "    .dataframe tbody tr th {\n",
       "        vertical-align: top;\n",
       "    }\n",
       "\n",
       "    .dataframe thead th {\n",
       "        text-align: right;\n",
       "    }\n",
       "</style>\n",
       "<table border=\"1\" class=\"dataframe\">\n",
       "  <thead>\n",
       "    <tr style=\"text-align: right;\">\n",
       "      <th></th>\n",
       "      <th>Method</th>\n",
       "      <th>Parms</th>\n",
       "      <th>precision</th>\n",
       "    </tr>\n",
       "  </thead>\n",
       "  <tbody>\n",
       "    <tr>\n",
       "      <th>0</th>\n",
       "      <td>dtc</td>\n",
       "      <td>[7, 1, 8, [Volume, Open, High, Low]]</td>\n",
       "      <td>55.06</td>\n",
       "    </tr>\n",
       "    <tr>\n",
       "      <th>1</th>\n",
       "      <td>logi</td>\n",
       "      <td>[0, [Volume, Open, High, Low]]</td>\n",
       "      <td>53.26</td>\n",
       "    </tr>\n",
       "    <tr>\n",
       "      <th>2</th>\n",
       "      <td>knn</td>\n",
       "      <td>[1, [Volume, Open, High, Low]]</td>\n",
       "      <td>52.05</td>\n",
       "    </tr>\n",
       "    <tr>\n",
       "      <th>3</th>\n",
       "      <td>vote</td>\n",
       "      <td>[[Volume, Open, High, Low]]</td>\n",
       "      <td>50.30</td>\n",
       "    </tr>\n",
       "    <tr>\n",
       "      <th>4</th>\n",
       "      <td>ranf</td>\n",
       "      <td>[7, 2, 8, 100, [Volume, Open, High, Low]]</td>\n",
       "      <td>56.71</td>\n",
       "    </tr>\n",
       "    <tr>\n",
       "      <th>5</th>\n",
       "      <td>grad</td>\n",
       "      <td>[9, 5, 2, 0.4, [Volume, Open, High, Low]]</td>\n",
       "      <td>63.55</td>\n",
       "    </tr>\n",
       "    <tr>\n",
       "      <th>6</th>\n",
       "      <td>xgb</td>\n",
       "      <td>[[Volume, Open, High, Low]]</td>\n",
       "      <td>60.52</td>\n",
       "    </tr>\n",
       "  </tbody>\n",
       "</table>\n",
       "</div>"
      ],
      "text/plain": [
       "  Method                                      Parms  precision\n",
       "0    dtc       [7, 1, 8, [Volume, Open, High, Low]]      55.06\n",
       "1   logi             [0, [Volume, Open, High, Low]]      53.26\n",
       "2    knn             [1, [Volume, Open, High, Low]]      52.05\n",
       "3   vote                [[Volume, Open, High, Low]]      50.30\n",
       "4   ranf  [7, 2, 8, 100, [Volume, Open, High, Low]]      56.71\n",
       "5   grad  [9, 5, 2, 0.4, [Volume, Open, High, Low]]      63.55\n",
       "6    xgb                [[Volume, Open, High, Low]]      60.52"
      ]
     },
     "execution_count": 179,
     "metadata": {},
     "output_type": "execute_result"
    }
   ],
   "source": [
    "summary = pd.DataFrame(bst.result)\n",
    "summary.columns = ['Method','Parms','precision']\n",
    "summary"
   ]
  },
  {
   "cell_type": "code",
   "execution_count": 204,
   "id": "58de8c49",
   "metadata": {},
   "outputs": [
    {
     "data": {
      "text/plain": [
       "array([[128, 323],\n",
       "       [169, 380]])"
      ]
     },
     "execution_count": 204,
     "metadata": {},
     "output_type": "execute_result"
    }
   ],
   "source": [
    "pr = Prediction()\n",
    "df = pd.read_csv('./kospi_data.csv')\n",
    "\n",
    "label = []\n",
    "for test in list(df['Change']):\n",
    "    if test >= 0:\n",
    "        label.append(1)\n",
    "    else:\n",
    "        label.append(0)\n",
    "df['label'] = pd.DataFrame(label)\n",
    "df['Date'] = pd.to_datetime(df['Date'],format='%Y-%m-%d')\n",
    "df_split = [-1]\n",
    "df_split.extend(list(df.iloc[:-1,-1]))\n",
    "df['df_split'] = df_split\n",
    "\n",
    "df = df[df['Date'] >= '2000-01-01']\n",
    "df = df.reset_index().drop('index',axis=1)\n",
    "heat = pd.DataFrame([[i,j] for i,j in zip(list(df['label'])[-1000:],\n",
    "                                          list(pr.bundle(pr.GradB(9,4,9,0.1),['Volume','Open','High','Low'],0.2))[1])])\n",
    "heat.columns = ['label','split_label']\n",
    "arr = np.array([[0,0],[0,0]])\n",
    "\n",
    "tar = pd.DataFrame(heat.value_counts()).reset_index()\n",
    "for i in range(2):\n",
    "    tp = tar[tar['label'] == i]\n",
    "    for j in range(2):\n",
    "        arr[i][j] = tp[tp['split_label'] == j][0]\n",
    "\n",
    "arr"
   ]
  },
  {
   "cell_type": "code",
   "execution_count": 9,
   "id": "2da79522",
   "metadata": {},
   "outputs": [
    {
     "data": {
      "text/plain": [
       "<AxesSubplot:>"
      ]
     },
     "execution_count": 9,
     "metadata": {},
     "output_type": "execute_result"
    },
    {
     "data": {
      "image/png": "[encoded data removed]",
      "text/plain": [
       "<Figure size 432x288 with 2 Axes>"
      ]
     },
     "metadata": {
      "needs_background": "light"
     },
     "output_type": "display_data"
    }
   ],
   "source": [
    "import seaborn as sns\n",
    "sns.heatmap(arr,xticklabels=['pr_label:0','pr_label:1'],\n",
    "            yticklabels=['label:0','label:1'],annot=True,fmt='d')"
   ]
  },
  {
   "cell_type": "code",
   "execution_count": 216,
   "id": "064c69a4",
   "metadata": {},
   "outputs": [
    {
     "data": {
      "text/html": [
       "<div>\n",
       "<style scoped>\n",
       "    .dataframe tbody tr th:only-of-type {\n",
       "        vertical-align: middle;\n",
       "    }\n",
       "\n",
       "    .dataframe tbody tr th {\n",
       "        vertical-align: top;\n",
       "    }\n",
       "\n",
       "    .dataframe thead th {\n",
       "        text-align: right;\n",
       "    }\n",
       "</style>\n",
       "<table border=\"1\" class=\"dataframe\">\n",
       "  <thead>\n",
       "    <tr style=\"text-align: right;\">\n",
       "      <th></th>\n",
       "      <th>Date</th>\n",
       "      <th>Close</th>\n",
       "      <th>Open</th>\n",
       "      <th>High</th>\n",
       "      <th>Low</th>\n",
       "      <th>Volume</th>\n",
       "      <th>Change</th>\n",
       "      <th>label</th>\n",
       "      <th>df_split</th>\n",
       "      <th>case</th>\n",
       "    </tr>\n",
       "  </thead>\n",
       "  <tbody>\n",
       "    <tr>\n",
       "      <th>0</th>\n",
       "      <td>2018-08-10</td>\n",
       "      <td>2282.79</td>\n",
       "      <td>2295.21</td>\n",
       "      <td>2295.62</td>\n",
       "      <td>2277.89</td>\n",
       "      <td>286160000.0</td>\n",
       "      <td>-0.0091</td>\n",
       "      <td>0</td>\n",
       "      <td>1</td>\n",
       "      <td>1</td>\n",
       "    </tr>\n",
       "    <tr>\n",
       "      <th>7</th>\n",
       "      <td>2018-08-22</td>\n",
       "      <td>2273.33</td>\n",
       "      <td>2273.68</td>\n",
       "      <td>2280.31</td>\n",
       "      <td>2268.91</td>\n",
       "      <td>269270000.0</td>\n",
       "      <td>0.0014</td>\n",
       "      <td>1</td>\n",
       "      <td>1</td>\n",
       "      <td>1</td>\n",
       "    </tr>\n",
       "    <tr>\n",
       "      <th>9</th>\n",
       "      <td>2018-08-24</td>\n",
       "      <td>2293.21</td>\n",
       "      <td>2276.16</td>\n",
       "      <td>2295.22</td>\n",
       "      <td>2271.35</td>\n",
       "      <td>347290000.0</td>\n",
       "      <td>0.0046</td>\n",
       "      <td>1</td>\n",
       "      <td>1</td>\n",
       "      <td>1</td>\n",
       "    </tr>\n",
       "    <tr>\n",
       "      <th>10</th>\n",
       "      <td>2018-08-27</td>\n",
       "      <td>2299.30</td>\n",
       "      <td>2297.32</td>\n",
       "      <td>2302.87</td>\n",
       "      <td>2289.41</td>\n",
       "      <td>307040000.0</td>\n",
       "      <td>0.0027</td>\n",
       "      <td>1</td>\n",
       "      <td>1</td>\n",
       "      <td>1</td>\n",
       "    </tr>\n",
       "    <tr>\n",
       "      <th>11</th>\n",
       "      <td>2018-08-28</td>\n",
       "      <td>2303.12</td>\n",
       "      <td>2312.14</td>\n",
       "      <td>2314.60</td>\n",
       "      <td>2299.45</td>\n",
       "      <td>276890000.0</td>\n",
       "      <td>0.0017</td>\n",
       "      <td>1</td>\n",
       "      <td>1</td>\n",
       "      <td>1</td>\n",
       "    </tr>\n",
       "    <tr>\n",
       "      <th>...</th>\n",
       "      <td>...</td>\n",
       "      <td>...</td>\n",
       "      <td>...</td>\n",
       "      <td>...</td>\n",
       "      <td>...</td>\n",
       "      <td>...</td>\n",
       "      <td>...</td>\n",
       "      <td>...</td>\n",
       "      <td>...</td>\n",
       "      <td>...</td>\n",
       "    </tr>\n",
       "    <tr>\n",
       "      <th>983</th>\n",
       "      <td>2022-08-08</td>\n",
       "      <td>2493.10</td>\n",
       "      <td>2481.17</td>\n",
       "      <td>2494.00</td>\n",
       "      <td>2477.76</td>\n",
       "      <td>418230000.0</td>\n",
       "      <td>0.0009</td>\n",
       "      <td>1</td>\n",
       "      <td>1</td>\n",
       "      <td>1</td>\n",
       "    </tr>\n",
       "    <tr>\n",
       "      <th>985</th>\n",
       "      <td>2022-08-10</td>\n",
       "      <td>2480.88</td>\n",
       "      <td>2493.70</td>\n",
       "      <td>2494.15</td>\n",
       "      <td>2478.21</td>\n",
       "      <td>479470000.0</td>\n",
       "      <td>-0.0090</td>\n",
       "      <td>0</td>\n",
       "      <td>1</td>\n",
       "      <td>1</td>\n",
       "    </tr>\n",
       "    <tr>\n",
       "      <th>988</th>\n",
       "      <td>2022-08-16</td>\n",
       "      <td>2533.52</td>\n",
       "      <td>2543.05</td>\n",
       "      <td>2546.35</td>\n",
       "      <td>2532.20</td>\n",
       "      <td>398340000.0</td>\n",
       "      <td>0.0022</td>\n",
       "      <td>1</td>\n",
       "      <td>1</td>\n",
       "      <td>1</td>\n",
       "    </tr>\n",
       "    <tr>\n",
       "      <th>995</th>\n",
       "      <td>2022-08-25</td>\n",
       "      <td>2477.26</td>\n",
       "      <td>2459.79</td>\n",
       "      <td>2477.26</td>\n",
       "      <td>2455.32</td>\n",
       "      <td>426230000.0</td>\n",
       "      <td>0.0122</td>\n",
       "      <td>1</td>\n",
       "      <td>1</td>\n",
       "      <td>1</td>\n",
       "    </tr>\n",
       "    <tr>\n",
       "      <th>997</th>\n",
       "      <td>2022-08-29</td>\n",
       "      <td>2426.89</td>\n",
       "      <td>2432.06</td>\n",
       "      <td>2432.89</td>\n",
       "      <td>2417.01</td>\n",
       "      <td>448750000.0</td>\n",
       "      <td>-0.0218</td>\n",
       "      <td>0</td>\n",
       "      <td>1</td>\n",
       "      <td>1</td>\n",
       "    </tr>\n",
       "  </tbody>\n",
       "</table>\n",
       "<p>381 rows × 10 columns</p>\n",
       "</div>"
      ],
      "text/plain": [
       "          Date    Close     Open     High      Low       Volume  Change  \\\n",
       "0   2018-08-10  2282.79  2295.21  2295.62  2277.89  286160000.0 -0.0091   \n",
       "7   2018-08-22  2273.33  2273.68  2280.31  2268.91  269270000.0  0.0014   \n",
       "9   2018-08-24  2293.21  2276.16  2295.22  2271.35  347290000.0  0.0046   \n",
       "10  2018-08-27  2299.30  2297.32  2302.87  2289.41  307040000.0  0.0027   \n",
       "11  2018-08-28  2303.12  2312.14  2314.60  2299.45  276890000.0  0.0017   \n",
       "..         ...      ...      ...      ...      ...          ...     ...   \n",
       "983 2022-08-08  2493.10  2481.17  2494.00  2477.76  418230000.0  0.0009   \n",
       "985 2022-08-10  2480.88  2493.70  2494.15  2478.21  479470000.0 -0.0090   \n",
       "988 2022-08-16  2533.52  2543.05  2546.35  2532.20  398340000.0  0.0022   \n",
       "995 2022-08-25  2477.26  2459.79  2477.26  2455.32  426230000.0  0.0122   \n",
       "997 2022-08-29  2426.89  2432.06  2432.89  2417.01  448750000.0 -0.0218   \n",
       "\n",
       "     label  df_split  case  \n",
       "0        0         1     1  \n",
       "7        1         1     1  \n",
       "9        1         1     1  \n",
       "10       1         1     1  \n",
       "11       1         1     1  \n",
       "..     ...       ...   ...  \n",
       "983      1         1     1  \n",
       "985      0         1     1  \n",
       "988      1         1     1  \n",
       "995      1         1     1  \n",
       "997      0         1     1  \n",
       "\n",
       "[381 rows x 10 columns]"
      ]
     },
     "execution_count": 216,
     "metadata": {},
     "output_type": "execute_result"
    }
   ],
   "source": [
    "pr = Prediction()\n",
    "case = pr.bundle(pr.GradB(9,4,9,0.1),['Volume','Open','High','Low'],0.2)[1]\n",
    "df = pd.read_csv('./kospi_data.csv')\n",
    "label = []\n",
    "for test in list(df['Change']):\n",
    "    if test >= 0:\n",
    "        label.append(1)\n",
    "    else:\n",
    "        label.append(0)\n",
    "df['label'] = pd.DataFrame(label)\n",
    "df_split = [-1]\n",
    "df_split.extend(list(df.iloc[:-1,-1]))\n",
    "df['df_split'] = df_split\n",
    "df['Date'] = pd.to_datetime(df['Date'],format='%Y-%m-%d')\n",
    "df = df.loc[len(df)-1000:,:]\n",
    "df = df.reset_index().drop('index',axis=1)\n",
    "df['case'] = case\n",
    "df = df[(df['case'] == 1) & (df['df_split'] == 1)] # & (df['df_split'] == 1)\n",
    "df"
   ]
  },
  {
   "cell_type": "code",
   "execution_count": 217,
   "id": "c91f7e51",
   "metadata": {},
   "outputs": [
    {
     "data": {
      "text/plain": [
       "2584.21782152231"
      ]
     },
     "execution_count": 217,
     "metadata": {},
     "output_type": "execute_result"
    }
   ],
   "source": [
    "df['Open'].mean() # 케이스 평균 구매가"
   ]
  },
  {
   "cell_type": "code",
   "execution_count": 218,
   "id": "fa179ec2",
   "metadata": {},
   "outputs": [
    {
     "data": {
      "text/plain": [
       "159.1100000000015"
      ]
     },
     "execution_count": 218,
     "metadata": {},
     "output_type": "execute_result"
    }
   ],
   "source": [
    "(df['Close'] - df['Open']).sum() # 현재"
   ]
  },
  {
   "cell_type": "code",
   "execution_count": 209,
   "id": "3faad099",
   "metadata": {},
   "outputs": [
    {
     "data": {
      "text/plain": [
       "0.06153250773993808"
      ]
     },
     "execution_count": 209,
     "metadata": {},
     "output_type": "execute_result"
    }
   ],
   "source": [
    "159/2584"
   ]
  },
  {
   "cell_type": "code",
   "execution_count": 219,
   "id": "d2f62ea9",
   "metadata": {},
   "outputs": [
    {
     "data": {
      "text/plain": [
       "Text(0.5, 0, 'Case')"
      ]
     },
     "execution_count": 219,
     "metadata": {},
     "output_type": "execute_result"
    },
    {
     "data": {
      "image/png": "[encoded data removed]",
      "text/plain": [
       "<Figure size 432x288 with 1 Axes>"
      ]
     },
     "metadata": {
      "needs_background": "light"
     },
     "output_type": "display_data"
    }
   ],
   "source": [
    "plt.plot(range(len(df)),df['Close'] - df['Open'])\n",
    "plt.grid()\n",
    "plt.title('Invest Case')\n",
    "plt.ylabel('Profit')\n",
    "plt.xlabel('Case')"
   ]
  },
  {
   "cell_type": "code",
   "execution_count": 14,
   "id": "24ede643",
   "metadata": {},
   "outputs": [
    {
     "name": "stdout",
     "output_type": "stream",
     "text": [
      "start\n",
      "dtc fin\n",
      "logi fin\n",
      "knn fin\n",
      "vote fin\n",
      "1/10\n",
      "2/10\n",
      "3/10\n",
      "4/10\n",
      "5/10\n",
      "6/10\n",
      "7/10\n",
      "8/10\n",
      "9/10\n",
      "ranf fin\n",
      "1/10\n",
      "2/10\n",
      "3/10\n",
      "4/10\n",
      "5/10\n",
      "6/10\n",
      "7/10\n",
      "8/10\n",
      "9/10\n",
      "grad fin\n",
      "xgb fin\n"
     ]
    }
   ],
   "source": [
    "bst = best()"
   ]
  },
  {
   "cell_type": "code",
   "execution_count": 15,
   "id": "b82d3a3a",
   "metadata": {},
   "outputs": [
    {
     "data": {
      "text/html": [
       "<div>\n",
       "<style scoped>\n",
       "    .dataframe tbody tr th:only-of-type {\n",
       "        vertical-align: middle;\n",
       "    }\n",
       "\n",
       "    .dataframe tbody tr th {\n",
       "        vertical-align: top;\n",
       "    }\n",
       "\n",
       "    .dataframe thead th {\n",
       "        text-align: right;\n",
       "    }\n",
       "</style>\n",
       "<table border=\"1\" class=\"dataframe\">\n",
       "  <thead>\n",
       "    <tr style=\"text-align: right;\">\n",
       "      <th></th>\n",
       "      <th>Method</th>\n",
       "      <th>Parms</th>\n",
       "      <th>Precision</th>\n",
       "    </tr>\n",
       "  </thead>\n",
       "  <tbody>\n",
       "    <tr>\n",
       "      <th>0</th>\n",
       "      <td>dtc</td>\n",
       "      <td>[8, 6, 2, [Volume, Open, High, Low]]</td>\n",
       "      <td>56.73</td>\n",
       "    </tr>\n",
       "    <tr>\n",
       "      <th>1</th>\n",
       "      <td>logi</td>\n",
       "      <td>[0, [Volume, Open, High, Low]]</td>\n",
       "      <td>53.37</td>\n",
       "    </tr>\n",
       "    <tr>\n",
       "      <th>2</th>\n",
       "      <td>knn</td>\n",
       "      <td>[8, [Volume, Open, High, Low]]</td>\n",
       "      <td>57.00</td>\n",
       "    </tr>\n",
       "    <tr>\n",
       "      <th>3</th>\n",
       "      <td>vote</td>\n",
       "      <td>[[Volume, Open, High, Low]]</td>\n",
       "      <td>52.42</td>\n",
       "    </tr>\n",
       "    <tr>\n",
       "      <th>4</th>\n",
       "      <td>ranf</td>\n",
       "      <td>[8, 1, 3, 30, [Volume, Open, High, Low]]</td>\n",
       "      <td>55.80</td>\n",
       "    </tr>\n",
       "    <tr>\n",
       "      <th>5</th>\n",
       "      <td>grad</td>\n",
       "      <td>[9, 4, 9, 0.1, [Volume, Open, High, Low]]</td>\n",
       "      <td>58.38</td>\n",
       "    </tr>\n",
       "    <tr>\n",
       "      <th>6</th>\n",
       "      <td>xgb</td>\n",
       "      <td>[[Volume, Open, High, Low]]</td>\n",
       "      <td>53.57</td>\n",
       "    </tr>\n",
       "  </tbody>\n",
       "</table>\n",
       "</div>"
      ],
      "text/plain": [
       "  Method                                      Parms  Precision\n",
       "0    dtc       [8, 6, 2, [Volume, Open, High, Low]]      56.73\n",
       "1   logi             [0, [Volume, Open, High, Low]]      53.37\n",
       "2    knn             [8, [Volume, Open, High, Low]]      57.00\n",
       "3   vote                [[Volume, Open, High, Low]]      52.42\n",
       "4   ranf   [8, 1, 3, 30, [Volume, Open, High, Low]]      55.80\n",
       "5   grad  [9, 4, 9, 0.1, [Volume, Open, High, Low]]      58.38\n",
       "6    xgb                [[Volume, Open, High, Low]]      53.57"
      ]
     },
     "execution_count": 15,
     "metadata": {},
     "output_type": "execute_result"
    }
   ],
   "source": [
    "summary = pd.DataFrame(bst.result)\n",
    "summary.columns = ['Method','Parms','Precision']\n",
    "summary"
   ]
  },
  {
   "cell_type": "code",
   "execution_count": 16,
   "id": "65741bcc",
   "metadata": {},
   "outputs": [],
   "source": [
    "summary.to_csv('summary.csv')"
   ]
  },
  {
   "cell_type": "markdown",
   "id": "362c967a",
   "metadata": {},
   "source": [
    "- example\n",
    "\n",
    "- dtc : \n",
    "\n",
    "        DecisionTreeClassifier(random_state=10,\n",
    "                      max_depth=max_depth,\n",
    "                      min_samples_leaf=min_samples_leaf,\n",
    "                      min_samples_split=min_samples_split)\n",
    "                      \n",
    "- Prediction label 이 1인경우 구매를 계획 했으므로 metric을 정밀도로 설정. (가장많은 투자성공 케이스를 얻기위함.)\n",
    "- 1000개 데이터로 예측 실행."
   ]
  },
  {
   "cell_type": "code",
   "execution_count": 17,
   "id": "8e10b6e7",
   "metadata": {},
   "outputs": [
    {
     "data": {
      "text/plain": [
       "(58.38,\n",
       " array([1, 0, 0, 0, 0, 0, 0, 1, 0, 1, 1, 1, 1, 1, 1, 1, 1, 1, 1, 1, 1, 0,\n",
       "        1, 1, 1, 1, 1, 1, 1, 0, 0, 0, 0, 0, 1, 0, 0, 0, 0, 1, 0, 0, 1, 0,\n",
       "        1, 1, 0, 1, 0, 0, 0, 0, 1, 0, 0, 1, 1, 1, 1, 0, 0, 1, 1, 1, 1, 1,\n",
       "        1, 0, 1, 0, 1, 0, 1, 1, 1, 0, 1, 1, 0, 0, 1, 1, 0, 1, 0, 1, 1, 0,\n",
       "        0, 1, 1, 1, 0, 1, 0, 1, 1, 1, 1, 1, 1, 0, 1, 0, 1, 1, 1, 0, 1, 1,\n",
       "        1, 1, 1, 1, 1, 1, 1, 1, 1, 0, 1, 1, 1, 1, 1, 1, 0, 0, 0, 0, 0, 0,\n",
       "        0, 1, 0, 1, 1, 1, 1, 0, 1, 1, 1, 0, 0, 1, 1, 1, 0, 1, 0, 1, 1, 1,\n",
       "        0, 0, 1, 1, 1, 1, 1, 0, 0, 0, 0, 0, 0, 1, 1, 1, 0, 1, 1, 1, 1, 1,\n",
       "        1, 1, 0, 0, 0, 0, 1, 1, 1, 0, 1, 1, 0, 0, 1, 1, 1, 0, 1, 1, 0, 0,\n",
       "        0, 0, 0, 0, 1, 0, 1, 1, 1, 1, 1, 0, 0, 1, 0, 1, 1, 0, 1, 1, 1, 0,\n",
       "        0, 1, 1, 0, 1, 1, 0, 1, 0, 1, 1, 1, 0, 0, 1, 0, 0, 1, 1, 1, 1, 0,\n",
       "        1, 0, 0, 0, 0, 1, 1, 0, 0, 1, 0, 1, 1, 0, 0, 0, 1, 1, 0, 0, 1, 0,\n",
       "        0, 1, 1, 1, 1, 1, 1, 1, 1, 1, 1, 0, 1, 1, 1, 1, 1, 0, 0, 1, 1, 1,\n",
       "        0, 1, 1, 0, 0, 1, 1, 0, 1, 1, 1, 1, 0, 1, 1, 1, 1, 1, 0, 1, 1, 0,\n",
       "        1, 1, 0, 1, 1, 1, 1, 0, 1, 1, 1, 0, 1, 0, 0, 0, 1, 1, 0, 1, 1, 1,\n",
       "        0, 1, 1, 1, 1, 1, 1, 1, 1, 1, 1, 1, 0, 1, 0, 1, 1, 0, 0, 0, 0, 0,\n",
       "        0, 0, 0, 0, 1, 0, 0, 0, 1, 1, 1, 0, 1, 1, 0, 0, 0, 0, 0, 0, 1, 1,\n",
       "        1, 1, 0, 1, 0, 1, 1, 1, 0, 0, 1, 0, 0, 0, 0, 0, 0, 1, 0, 1, 1, 1,\n",
       "        0, 1, 1, 0, 0, 0, 0, 0, 1, 0, 1, 1, 1, 1, 1, 1, 1, 0, 0, 0, 1, 0,\n",
       "        1, 0, 0, 0, 0, 0, 0, 1, 1, 1, 0, 1, 1, 1, 0, 1, 1, 1, 1, 1, 0, 0,\n",
       "        1, 1, 1, 0, 0, 0, 1, 1, 1, 0, 0, 0, 1, 1, 0, 0, 0, 0, 1, 1, 1, 1,\n",
       "        0, 0, 0, 0, 0, 1, 0, 1, 0, 1, 1, 1, 1, 1, 1, 0, 0, 1, 1, 0, 0, 0,\n",
       "        0, 0, 0, 0, 0, 1, 0, 0, 0, 1, 0, 1, 1, 1, 0, 0, 0, 0, 1, 1, 0, 0,\n",
       "        0, 0, 0, 0, 0, 0, 1, 0, 1, 1, 0, 0, 0, 0, 0, 0, 0, 0, 0, 0, 0, 0,\n",
       "        1, 0, 0, 0, 0, 0, 0, 0, 0, 0, 0, 0, 0, 1, 0, 0, 1, 1, 0, 1, 0, 0,\n",
       "        0, 0, 0, 0, 0, 0, 0, 0, 1, 1, 0, 1, 1, 1, 1, 1, 1, 1, 1, 1, 1, 1,\n",
       "        1, 1, 1, 1, 1, 1, 1, 1, 1, 1, 1, 1, 1, 1, 1, 1, 1, 1, 1, 1, 1, 1,\n",
       "        1, 1, 1, 1, 1, 1, 1, 1, 1, 1, 1, 1, 1, 1, 1, 1, 1, 1, 1, 1, 1, 1,\n",
       "        1, 1, 1, 1, 1, 1, 1, 1, 1, 1, 1, 1, 1, 1, 1, 1, 1, 1, 1, 1, 1, 1,\n",
       "        1, 1, 1, 1, 1, 1, 1, 1, 1, 1, 1, 1, 1, 1, 1, 1, 1, 1, 1, 1, 1, 1,\n",
       "        1, 1, 1, 1, 1, 1, 1, 1, 1, 1, 1, 1, 1, 1, 1, 1, 1, 1, 1, 1, 1, 1,\n",
       "        1, 1, 1, 1, 1, 1, 1, 1, 1, 1, 1, 1, 1, 1, 1, 1, 1, 1, 1, 1, 1, 1,\n",
       "        1, 1, 1, 1, 1, 1, 1, 1, 1, 1, 1, 1, 1, 1, 1, 1, 1, 1, 1, 1, 1, 1,\n",
       "        1, 1, 1, 1, 1, 1, 1, 1, 1, 1, 1, 1, 1, 1, 1, 1, 1, 1, 1, 1, 1, 1,\n",
       "        1, 1, 1, 1, 1, 1, 1, 1, 1, 1, 1, 1, 1, 1, 1, 1, 1, 1, 1, 1, 1, 1,\n",
       "        1, 1, 1, 1, 1, 1, 1, 1, 1, 1, 1, 1, 1, 1, 1, 1, 1, 1, 1, 1, 1, 1,\n",
       "        1, 1, 1, 1, 1, 1, 1, 1, 1, 1, 1, 1, 1, 1, 1, 1, 1, 1, 1, 1, 1, 1,\n",
       "        1, 1, 1, 1, 1, 1, 1, 1, 1, 1, 1, 1, 1, 1, 1, 1, 1, 1, 1, 1, 1, 1,\n",
       "        1, 1, 1, 1, 1, 1, 1, 1, 1, 1, 1, 1, 1, 1, 1, 1, 1, 1, 1, 1, 1, 1,\n",
       "        1, 1, 1, 1, 1, 1, 1, 1, 1, 1, 1, 1, 1, 1, 1, 1, 1, 1, 1, 1, 1, 1,\n",
       "        1, 1, 1, 1, 1, 1, 1, 1, 1, 1, 1, 1, 1, 1, 1, 1, 1, 1, 1, 1, 1, 1,\n",
       "        1, 1, 1, 1, 1, 1, 1, 1, 1, 1, 1, 1, 1, 1, 1, 1, 1, 1, 1, 1, 1, 1,\n",
       "        1, 1, 1, 1, 1, 1, 1, 1, 1, 1, 1, 1, 1, 1, 1, 1, 1, 1, 1, 0, 0, 0,\n",
       "        0, 1, 0, 1, 0, 0, 0, 1, 0, 1, 0, 0, 1, 1, 0, 1, 0, 0, 0, 0, 1, 0,\n",
       "        1, 1, 0, 0, 1, 0, 0, 0, 1, 0, 0, 0, 1, 1, 0, 1, 0, 1, 1, 0, 1, 0,\n",
       "        1, 1, 1, 0, 0, 1, 0, 1, 0, 0], dtype=int64))"
      ]
     },
     "execution_count": 17,
     "metadata": {},
     "output_type": "execute_result"
    }
   ],
   "source": [
    "pr = Prediction()\n",
    "pr.bundle(pr.GradB(9,4,9,0.1),['Volume','Open','High','Low'],0.2)"
   ]
  },
  {
   "cell_type": "markdown",
   "id": "e881f8e5",
   "metadata": {},
   "source": [
    "## 모델 적용"
   ]
  },
  {
   "cell_type": "code",
   "execution_count": 1,
   "id": "ecfa4f2f",
   "metadata": {},
   "outputs": [
    {
     "data": {
      "text/plain": [
       "0.17866714311238163"
      ]
     },
     "execution_count": 1,
     "metadata": {},
     "output_type": "execute_result"
    }
   ],
   "source": [
    "1000/5597"
   ]
  },
  {
   "cell_type": "code",
   "execution_count": 64,
   "id": "90224333",
   "metadata": {},
   "outputs": [
    {
     "data": {
      "text/plain": [
       "array([[139, 315],\n",
       "       [158, 388]])"
      ]
     },
     "execution_count": 64,
     "metadata": {},
     "output_type": "execute_result"
    }
   ],
   "source": [
    "heat = pd.DataFrame([[i,j] for i,j in zip(list(df['label'])[-1000:],\n",
    "                                          list(pr.bundle(pr.GradB(9,4,9,0.1),['Volume','Open','High','Low'],0.2))[1])])\n",
    "heat.columns = ['label','split_label']\n",
    "arr = np.array([[0,0],[0,0]])\n",
    "\n",
    "tar = pd.DataFrame(heat.value_counts()).reset_index()\n",
    "for i in range(2):\n",
    "    tp = tar[tar['label'] == i]\n",
    "    for j in range(2):\n",
    "        arr[i][j] = tp[tp['split_label'] == j][0]\n",
    "\n",
    "arr\n"
   ]
  },
  {
   "cell_type": "code",
   "execution_count": 22,
   "id": "2a03030d",
   "metadata": {},
   "outputs": [
    {
     "data": {
      "text/plain": [
       "<AxesSubplot:>"
      ]
     },
     "execution_count": 22,
     "metadata": {},
     "output_type": "execute_result"
    },
    {
     "data": {
      "image/png": "[encoded data removed]",
      "text/plain": [
       "<Figure size 432x288 with 2 Axes>"
      ]
     },
     "metadata": {
      "needs_background": "light"
     },
     "output_type": "display_data"
    }
   ],
   "source": [
    "sns.heatmap(arr,xticklabels=['pr_label:0','pr_label:1'],\n",
    "            yticklabels=['label:0','label:1'],annot=True,fmt='d')"
   ]
  },
  {
   "cell_type": "code",
   "execution_count": 23,
   "id": "f8005aea",
   "metadata": {},
   "outputs": [
    {
     "data": {
      "text/plain": [
       "0.5405405405405406"
      ]
     },
     "execution_count": 23,
     "metadata": {},
     "output_type": "execute_result"
    }
   ],
   "source": [
    "380/(323+380)"
   ]
  },
  {
   "cell_type": "markdown",
   "id": "449945a4",
   "metadata": {},
   "source": [
    "- pr_label 이 1인경우 구매한다면 54.1%의 승률을 기록한다. 공교롭게 같은 승률이 나왔다."
   ]
  },
  {
   "cell_type": "markdown",
   "id": "20e49c09",
   "metadata": {},
   "source": [
    "## 투자모델 검증"
   ]
  },
  {
   "cell_type": "markdown",
   "id": "6380252c",
   "metadata": {},
   "source": [
    "- pr_label 이 1인경우 구매를 한다고 가정한다.\n",
    "- 장 시작시점에 구매하고, 장 종료시점에 판매한다고 가정한다."
   ]
  },
  {
   "cell_type": "code",
   "execution_count": 130,
   "id": "a46acafc",
   "metadata": {},
   "outputs": [
    {
     "data": {
      "text/html": [
       "<div>\n",
       "<style scoped>\n",
       "    .dataframe tbody tr th:only-of-type {\n",
       "        vertical-align: middle;\n",
       "    }\n",
       "\n",
       "    .dataframe tbody tr th {\n",
       "        vertical-align: top;\n",
       "    }\n",
       "\n",
       "    .dataframe thead th {\n",
       "        text-align: right;\n",
       "    }\n",
       "</style>\n",
       "<table border=\"1\" class=\"dataframe\">\n",
       "  <thead>\n",
       "    <tr style=\"text-align: right;\">\n",
       "      <th></th>\n",
       "      <th>Date</th>\n",
       "      <th>Close</th>\n",
       "      <th>Open</th>\n",
       "      <th>High</th>\n",
       "      <th>Low</th>\n",
       "      <th>Volume</th>\n",
       "      <th>Change</th>\n",
       "    </tr>\n",
       "  </thead>\n",
       "  <tbody>\n",
       "    <tr>\n",
       "      <th>0</th>\n",
       "      <td>2018-08-10</td>\n",
       "      <td>2282.79</td>\n",
       "      <td>2295.21</td>\n",
       "      <td>2295.62</td>\n",
       "      <td>2277.89</td>\n",
       "      <td>286160000.0</td>\n",
       "      <td>-0.0091</td>\n",
       "    </tr>\n",
       "    <tr>\n",
       "      <th>1</th>\n",
       "      <td>2018-08-13</td>\n",
       "      <td>2248.45</td>\n",
       "      <td>2266.43</td>\n",
       "      <td>2271.82</td>\n",
       "      <td>2238.55</td>\n",
       "      <td>335380000.0</td>\n",
       "      <td>-0.0150</td>\n",
       "    </tr>\n",
       "    <tr>\n",
       "      <th>2</th>\n",
       "      <td>2018-08-14</td>\n",
       "      <td>2258.91</td>\n",
       "      <td>2249.86</td>\n",
       "      <td>2262.52</td>\n",
       "      <td>2247.37</td>\n",
       "      <td>255220000.0</td>\n",
       "      <td>0.0047</td>\n",
       "    </tr>\n",
       "    <tr>\n",
       "      <th>3</th>\n",
       "      <td>2018-08-16</td>\n",
       "      <td>2240.80</td>\n",
       "      <td>2233.05</td>\n",
       "      <td>2244.08</td>\n",
       "      <td>2218.09</td>\n",
       "      <td>312520000.0</td>\n",
       "      <td>-0.0080</td>\n",
       "    </tr>\n",
       "    <tr>\n",
       "      <th>4</th>\n",
       "      <td>2018-08-17</td>\n",
       "      <td>2247.05</td>\n",
       "      <td>2244.61</td>\n",
       "      <td>2250.92</td>\n",
       "      <td>2240.14</td>\n",
       "      <td>238380000.0</td>\n",
       "      <td>0.0028</td>\n",
       "    </tr>\n",
       "    <tr>\n",
       "      <th>...</th>\n",
       "      <td>...</td>\n",
       "      <td>...</td>\n",
       "      <td>...</td>\n",
       "      <td>...</td>\n",
       "      <td>...</td>\n",
       "      <td>...</td>\n",
       "      <td>...</td>\n",
       "    </tr>\n",
       "    <tr>\n",
       "      <th>995</th>\n",
       "      <td>2022-08-25</td>\n",
       "      <td>2477.26</td>\n",
       "      <td>2459.79</td>\n",
       "      <td>2477.26</td>\n",
       "      <td>2455.32</td>\n",
       "      <td>426230000.0</td>\n",
       "      <td>0.0122</td>\n",
       "    </tr>\n",
       "    <tr>\n",
       "      <th>996</th>\n",
       "      <td>2022-08-26</td>\n",
       "      <td>2481.03</td>\n",
       "      <td>2489.14</td>\n",
       "      <td>2497.76</td>\n",
       "      <td>2476.75</td>\n",
       "      <td>520090000.0</td>\n",
       "      <td>0.0015</td>\n",
       "    </tr>\n",
       "    <tr>\n",
       "      <th>997</th>\n",
       "      <td>2022-08-29</td>\n",
       "      <td>2426.89</td>\n",
       "      <td>2432.06</td>\n",
       "      <td>2432.89</td>\n",
       "      <td>2417.01</td>\n",
       "      <td>448750000.0</td>\n",
       "      <td>-0.0218</td>\n",
       "    </tr>\n",
       "    <tr>\n",
       "      <th>998</th>\n",
       "      <td>2022-08-30</td>\n",
       "      <td>2450.93</td>\n",
       "      <td>2441.21</td>\n",
       "      <td>2453.91</td>\n",
       "      <td>2433.48</td>\n",
       "      <td>327210.0</td>\n",
       "      <td>0.0099</td>\n",
       "    </tr>\n",
       "    <tr>\n",
       "      <th>999</th>\n",
       "      <td>2022-08-31</td>\n",
       "      <td>2472.05</td>\n",
       "      <td>2433.47</td>\n",
       "      <td>2473.75</td>\n",
       "      <td>2426.14</td>\n",
       "      <td>397290.0</td>\n",
       "      <td>0.0086</td>\n",
       "    </tr>\n",
       "  </tbody>\n",
       "</table>\n",
       "<p>1000 rows × 7 columns</p>\n",
       "</div>"
      ],
      "text/plain": [
       "          Date    Close     Open     High      Low       Volume  Change\n",
       "0   2018-08-10  2282.79  2295.21  2295.62  2277.89  286160000.0 -0.0091\n",
       "1   2018-08-13  2248.45  2266.43  2271.82  2238.55  335380000.0 -0.0150\n",
       "2   2018-08-14  2258.91  2249.86  2262.52  2247.37  255220000.0  0.0047\n",
       "3   2018-08-16  2240.80  2233.05  2244.08  2218.09  312520000.0 -0.0080\n",
       "4   2018-08-17  2247.05  2244.61  2250.92  2240.14  238380000.0  0.0028\n",
       "..         ...      ...      ...      ...      ...          ...     ...\n",
       "995 2022-08-25  2477.26  2459.79  2477.26  2455.32  426230000.0  0.0122\n",
       "996 2022-08-26  2481.03  2489.14  2497.76  2476.75  520090000.0  0.0015\n",
       "997 2022-08-29  2426.89  2432.06  2432.89  2417.01  448750000.0 -0.0218\n",
       "998 2022-08-30  2450.93  2441.21  2453.91  2433.48     327210.0  0.0099\n",
       "999 2022-08-31  2472.05  2433.47  2473.75  2426.14     397290.0  0.0086\n",
       "\n",
       "[1000 rows x 7 columns]"
      ]
     },
     "execution_count": 130,
     "metadata": {},
     "output_type": "execute_result"
    }
   ],
   "source": [
    "df = pd.read_csv('./kospi_data.csv')\n",
    "df['Date'] = pd.to_datetime(df['Date'],format='%Y-%m-%d')\n",
    "df = df.loc[len(df)-1000:,:]\n",
    "df = df.reset_index().drop('index',axis=1)\n",
    "#df['label'] = case\n",
    "df # 대상데이터"
   ]
  },
  {
   "cell_type": "code",
   "execution_count": 131,
   "id": "db03bd08",
   "metadata": {},
   "outputs": [
    {
     "data": {
      "text/html": [
       "<div>\n",
       "<style scoped>\n",
       "    .dataframe tbody tr th:only-of-type {\n",
       "        vertical-align: middle;\n",
       "    }\n",
       "\n",
       "    .dataframe tbody tr th {\n",
       "        vertical-align: top;\n",
       "    }\n",
       "\n",
       "    .dataframe thead th {\n",
       "        text-align: right;\n",
       "    }\n",
       "</style>\n",
       "<table border=\"1\" class=\"dataframe\">\n",
       "  <thead>\n",
       "    <tr style=\"text-align: right;\">\n",
       "      <th></th>\n",
       "      <th>Date</th>\n",
       "      <th>Close</th>\n",
       "      <th>Open</th>\n",
       "      <th>High</th>\n",
       "      <th>Low</th>\n",
       "      <th>Volume</th>\n",
       "      <th>Change</th>\n",
       "      <th>Inv_case</th>\n",
       "    </tr>\n",
       "  </thead>\n",
       "  <tbody>\n",
       "    <tr>\n",
       "      <th>2</th>\n",
       "      <td>2018-08-14</td>\n",
       "      <td>2258.91</td>\n",
       "      <td>2249.86</td>\n",
       "      <td>2262.52</td>\n",
       "      <td>2247.37</td>\n",
       "      <td>255220000.0</td>\n",
       "      <td>0.0047</td>\n",
       "      <td>1</td>\n",
       "    </tr>\n",
       "    <tr>\n",
       "      <th>3</th>\n",
       "      <td>2018-08-16</td>\n",
       "      <td>2240.80</td>\n",
       "      <td>2233.05</td>\n",
       "      <td>2244.08</td>\n",
       "      <td>2218.09</td>\n",
       "      <td>312520000.0</td>\n",
       "      <td>-0.0080</td>\n",
       "      <td>1</td>\n",
       "    </tr>\n",
       "    <tr>\n",
       "      <th>5</th>\n",
       "      <td>2018-08-20</td>\n",
       "      <td>2247.88</td>\n",
       "      <td>2257.35</td>\n",
       "      <td>2264.42</td>\n",
       "      <td>2245.06</td>\n",
       "      <td>271600000.0</td>\n",
       "      <td>0.0004</td>\n",
       "      <td>1</td>\n",
       "    </tr>\n",
       "    <tr>\n",
       "      <th>6</th>\n",
       "      <td>2018-08-21</td>\n",
       "      <td>2270.06</td>\n",
       "      <td>2248.04</td>\n",
       "      <td>2272.86</td>\n",
       "      <td>2244.59</td>\n",
       "      <td>294340000.0</td>\n",
       "      <td>0.0099</td>\n",
       "      <td>1</td>\n",
       "    </tr>\n",
       "    <tr>\n",
       "      <th>7</th>\n",
       "      <td>2018-08-22</td>\n",
       "      <td>2273.33</td>\n",
       "      <td>2273.68</td>\n",
       "      <td>2280.31</td>\n",
       "      <td>2268.91</td>\n",
       "      <td>269270000.0</td>\n",
       "      <td>0.0014</td>\n",
       "      <td>1</td>\n",
       "    </tr>\n",
       "    <tr>\n",
       "      <th>...</th>\n",
       "      <td>...</td>\n",
       "      <td>...</td>\n",
       "      <td>...</td>\n",
       "      <td>...</td>\n",
       "      <td>...</td>\n",
       "      <td>...</td>\n",
       "      <td>...</td>\n",
       "      <td>...</td>\n",
       "    </tr>\n",
       "    <tr>\n",
       "      <th>992</th>\n",
       "      <td>2022-08-22</td>\n",
       "      <td>2462.50</td>\n",
       "      <td>2467.38</td>\n",
       "      <td>2475.77</td>\n",
       "      <td>2457.08</td>\n",
       "      <td>422550000.0</td>\n",
       "      <td>-0.0121</td>\n",
       "      <td>1</td>\n",
       "    </tr>\n",
       "    <tr>\n",
       "      <th>995</th>\n",
       "      <td>2022-08-25</td>\n",
       "      <td>2477.26</td>\n",
       "      <td>2459.79</td>\n",
       "      <td>2477.26</td>\n",
       "      <td>2455.32</td>\n",
       "      <td>426230000.0</td>\n",
       "      <td>0.0122</td>\n",
       "      <td>1</td>\n",
       "    </tr>\n",
       "    <tr>\n",
       "      <th>997</th>\n",
       "      <td>2022-08-29</td>\n",
       "      <td>2426.89</td>\n",
       "      <td>2432.06</td>\n",
       "      <td>2432.89</td>\n",
       "      <td>2417.01</td>\n",
       "      <td>448750000.0</td>\n",
       "      <td>-0.0218</td>\n",
       "      <td>1</td>\n",
       "    </tr>\n",
       "    <tr>\n",
       "      <th>998</th>\n",
       "      <td>2022-08-30</td>\n",
       "      <td>2450.93</td>\n",
       "      <td>2441.21</td>\n",
       "      <td>2453.91</td>\n",
       "      <td>2433.48</td>\n",
       "      <td>327210.0</td>\n",
       "      <td>0.0099</td>\n",
       "      <td>1</td>\n",
       "    </tr>\n",
       "    <tr>\n",
       "      <th>999</th>\n",
       "      <td>2022-08-31</td>\n",
       "      <td>2472.05</td>\n",
       "      <td>2433.47</td>\n",
       "      <td>2473.75</td>\n",
       "      <td>2426.14</td>\n",
       "      <td>397290.0</td>\n",
       "      <td>0.0086</td>\n",
       "      <td>1</td>\n",
       "    </tr>\n",
       "  </tbody>\n",
       "</table>\n",
       "<p>356 rows × 8 columns</p>\n",
       "</div>"
      ],
      "text/plain": [
       "          Date    Close     Open     High      Low       Volume  Change  \\\n",
       "2   2018-08-14  2258.91  2249.86  2262.52  2247.37  255220000.0  0.0047   \n",
       "3   2018-08-16  2240.80  2233.05  2244.08  2218.09  312520000.0 -0.0080   \n",
       "5   2018-08-20  2247.88  2257.35  2264.42  2245.06  271600000.0  0.0004   \n",
       "6   2018-08-21  2270.06  2248.04  2272.86  2244.59  294340000.0  0.0099   \n",
       "7   2018-08-22  2273.33  2273.68  2280.31  2268.91  269270000.0  0.0014   \n",
       "..         ...      ...      ...      ...      ...          ...     ...   \n",
       "992 2022-08-22  2462.50  2467.38  2475.77  2457.08  422550000.0 -0.0121   \n",
       "995 2022-08-25  2477.26  2459.79  2477.26  2455.32  426230000.0  0.0122   \n",
       "997 2022-08-29  2426.89  2432.06  2432.89  2417.01  448750000.0 -0.0218   \n",
       "998 2022-08-30  2450.93  2441.21  2453.91  2433.48     327210.0  0.0099   \n",
       "999 2022-08-31  2472.05  2433.47  2473.75  2426.14     397290.0  0.0086   \n",
       "\n",
       "     Inv_case  \n",
       "2           1  \n",
       "3           1  \n",
       "5           1  \n",
       "6           1  \n",
       "7           1  \n",
       "..        ...  \n",
       "992         1  \n",
       "995         1  \n",
       "997         1  \n",
       "998         1  \n",
       "999         1  \n",
       "\n",
       "[356 rows x 8 columns]"
      ]
     },
     "execution_count": 131,
     "metadata": {},
     "output_type": "execute_result"
    }
   ],
   "source": [
    "pr = Prediction()\n",
    "df['Inv_case'] = pr.bundle(pr.GradB(9,4,9,0.1),['Volume','Open','High','Low'],0.2)[1] # 투자모델\n",
    "df = df[(df['Inv_case'] == 1)]\n",
    "df # 투자케이스"
   ]
  },
  {
   "cell_type": "code",
   "execution_count": 26,
   "id": "6d15ccaf",
   "metadata": {},
   "outputs": [],
   "source": [
    "df.to_csv('classification_invest.csv')"
   ]
  },
  {
   "cell_type": "code",
   "execution_count": 134,
   "id": "eaec4f5b",
   "metadata": {},
   "outputs": [
    {
     "data": {
      "text/plain": [
       "1545.7100000000028"
      ]
     },
     "execution_count": 134,
     "metadata": {},
     "output_type": "execute_result"
    }
   ],
   "source": [
    "(df['Close'] - df['Open']).sum()"
   ]
  },
  {
   "cell_type": "code",
   "execution_count": 135,
   "id": "669fad14",
   "metadata": {},
   "outputs": [
    {
     "data": {
      "text/plain": [
       "2304.755"
      ]
     },
     "execution_count": 135,
     "metadata": {},
     "output_type": "execute_result"
    }
   ],
   "source": [
    "df['Open'].mean() # 케이스 평균 구매가"
   ]
  },
  {
   "cell_type": "code",
   "execution_count": 27,
   "id": "ea84ba40",
   "metadata": {},
   "outputs": [
    {
     "data": {
      "text/plain": [
       "1.7838258164852254"
      ]
     },
     "execution_count": 27,
     "metadata": {},
     "output_type": "execute_result"
    }
   ],
   "source": [
    "4588/2572 # 케이스 손실율 "
   ]
  },
  {
   "cell_type": "markdown",
   "id": "46faffab",
   "metadata": {},
   "source": [
    "- 손실을 보이므로 투자에 적용하지 않는다."
   ]
  },
  {
   "cell_type": "markdown",
   "id": "05260a21",
   "metadata": {},
   "source": [
    "## 투자 케이스 시각화"
   ]
  },
  {
   "cell_type": "code",
   "execution_count": 211,
   "id": "5ff2ae3f",
   "metadata": {},
   "outputs": [
    {
     "data": {
      "text/plain": [
       "Text(0.5, 0, 'Case')"
      ]
     },
     "execution_count": 211,
     "metadata": {},
     "output_type": "execute_result"
    },
    {
     "data": {
      "image/png": "[encoded data removed]",
      "text/plain": [
       "<Figure size 432x288 with 1 Axes>"
      ]
     },
     "metadata": {
      "needs_background": "light"
     },
     "output_type": "display_data"
    }
   ],
   "source": [
    "plt.plot(range(len(df)),df['Close'] - df['Open'])\n",
    "plt.grid()\n",
    "plt.title('Invest Case')\n",
    "plt.ylabel('Profit')\n",
    "plt.xlabel('Case')"
   ]
  },
  {
   "cell_type": "markdown",
   "id": "8c97825f",
   "metadata": {},
   "source": [
    "# Chapter3. Regression Invest Model"
   ]
  },
  {
   "cell_type": "markdown",
   "id": "46017980",
   "metadata": {},
   "source": [
    "- 2000년 이후데이터 사용\n",
    "- LinearRegression을 통한 Close 추측 -> pred 컬럼\n",
    "- 당일 데이터로 다음날 Close의 예측을위해 데이터 스플릿"
   ]
  },
  {
   "cell_type": "code",
   "execution_count": 27,
   "id": "259aaecd",
   "metadata": {},
   "outputs": [
    {
     "name": "stdout",
     "output_type": "stream",
     "text": [
      "(3677, 4) (920, 4) (3677,) (920,)\n"
     ]
    }
   ],
   "source": [
    "from sklearn.linear_model import LinearRegression\n",
    "from sklearn.preprocessing import PolynomialFeatures\n",
    "\n",
    "df = pd.read_csv('./kospi_data.csv')\n",
    "df['Date'] = pd.to_datetime(df['Date'],format='%Y-%m-%d')\n",
    "df = df[df['Date'] > '2000-01-01'].reset_index().drop('index',axis=1)\n",
    "lr = LinearRegression()\n",
    "# option\n",
    "# quad = PolynomialFeatures(degree=1) # ,include_bias=False\n",
    "# input_idx = len(df) - 100\n",
    "\n",
    "features = ['Volume','Open','High','Low']\n",
    "\n",
    "X = df.loc[:len(df)-1001,features]\n",
    "y = df.loc[1:len(df)-1000,'Close']\n",
    "x_train, x_test, y_train, y_test = train_test_split(X, y, test_size=0.2, random_state=5)\n",
    "print(x_train.shape, x_test.shape, y_train.shape, y_test.shape)"
   ]
  },
  {
   "cell_type": "code",
   "execution_count": 28,
   "id": "628026c2",
   "metadata": {},
   "outputs": [],
   "source": [
    "from sklearn.metrics import mean_squared_error,r2_score\n",
    "lr.fit(x_train,y_train)\n",
    "pred = lr.predict(x_test)\n",
    "mse = mean_squared_error(pred,y_test)\n",
    "rmse = np.sqrt(mse)"
   ]
  },
  {
   "cell_type": "code",
   "execution_count": 29,
   "id": "28b2a8b7",
   "metadata": {},
   "outputs": [
    {
     "data": {
      "text/plain": [
       "18.96481764512902"
      ]
     },
     "execution_count": 29,
     "metadata": {},
     "output_type": "execute_result"
    }
   ],
   "source": [
    "rmse"
   ]
  },
  {
   "cell_type": "code",
   "execution_count": 30,
   "id": "f3e507dd",
   "metadata": {},
   "outputs": [],
   "source": [
    "temp_score_df = df.loc[len(df)-1001:,features]\n",
    "pred = lr.predict(temp_score_df)\n",
    "temp_score_df['Close'] = df['Close']\n",
    "temp_score_df['pred'] = pred"
   ]
  },
  {
   "cell_type": "code",
   "execution_count": 31,
   "id": "770b2a62",
   "metadata": {},
   "outputs": [
    {
     "name": "stdout",
     "output_type": "stream",
     "text": [
      "test rmse : 18.9648\n"
     ]
    },
    {
     "data": {
      "image/png": "[encoded data removed]",
      "text/plain": [
       "<Figure size 432x288 with 1 Axes>"
      ]
     },
     "metadata": {
      "needs_background": "light"
     },
     "output_type": "display_data"
    }
   ],
   "source": [
    "plt.plot(range(len(temp_score_df)),temp_score_df['Close'])\n",
    "plt.plot(range(len(temp_score_df)),temp_score_df['pred'])\n",
    "plt.title('Invest Case')\n",
    "plt.xlabel('day')\n",
    "plt.ylabel('Close')\n",
    "plt.grid()\n",
    "plt.legend(['True','Pred'])\n",
    "print(f'test rmse : {round(rmse,4)}')\n",
    "# print(f'r2 : {round(r2_score(pred,y),4)}')"
   ]
  },
  {
   "cell_type": "markdown",
   "id": "18bde5c9",
   "metadata": {},
   "source": [
    "## 투자모델 및 검증"
   ]
  },
  {
   "cell_type": "markdown",
   "id": "d06a1918",
   "metadata": {},
   "source": [
    "- lstm, gru 등 딥러닝 모델에서도 같은 규칙을 생각할 수 있다.\n",
    "- 장이 닫혀야 Feature가 생성되므로 내일을 예측하기위해 예측 후,예측정보를 한칸 밀어준다.\n",
    "- 당일 Open 가격 보다 높게 pred가 형성되는 케이스에 투자한다고 가정한다.\n",
    "- 장 시작시점에 구매하고, 장 종료시점에 판매한다고 가정한다."
   ]
  },
  {
   "cell_type": "code",
   "execution_count": 32,
   "id": "d0eb1bb9",
   "metadata": {},
   "outputs": [
    {
     "name": "stdout",
     "output_type": "stream",
     "text": [
      "6214.088573157267\n",
      "-294.9299999999914\n"
     ]
    }
   ],
   "source": [
    "temp_score_df = temp_score_df.reset_index().drop('index',axis=1)\n",
    "part1 = temp_score_df.loc[1:1000,['Volume','Open','High','Low','Close']].reset_index().drop('index',axis=1)\n",
    "part2 = temp_score_df.loc[:999,'pred']\n",
    "Date = df['Date'][-1000:].reset_index().drop('index',axis=1)\n",
    "\n",
    "conf = pd.concat([Date,part1,part2],axis=1)\n",
    "\n",
    "conf = conf[conf['Open'] < conf['pred']] # 투자 케이스\n",
    "\n",
    "print((conf['pred'] - conf['Open']).sum()) # 예상\n",
    "print((conf['Close'] - conf['Open']).sum()) # 실제\n"
   ]
  },
  {
   "cell_type": "code",
   "execution_count": 33,
   "id": "c9f36395",
   "metadata": {},
   "outputs": [
    {
     "data": {
      "text/plain": [
       "2470.9779867256634"
      ]
     },
     "execution_count": 33,
     "metadata": {},
     "output_type": "execute_result"
    }
   ],
   "source": [
    "conf['Open'].mean() # 케이스 평균 구매가"
   ]
  },
  {
   "cell_type": "code",
   "execution_count": 34,
   "id": "54ee4c25",
   "metadata": {},
   "outputs": [
    {
     "data": {
      "text/html": [
       "<div>\n",
       "<style scoped>\n",
       "    .dataframe tbody tr th:only-of-type {\n",
       "        vertical-align: middle;\n",
       "    }\n",
       "\n",
       "    .dataframe tbody tr th {\n",
       "        vertical-align: top;\n",
       "    }\n",
       "\n",
       "    .dataframe thead th {\n",
       "        text-align: right;\n",
       "    }\n",
       "</style>\n",
       "<table border=\"1\" class=\"dataframe\">\n",
       "  <thead>\n",
       "    <tr style=\"text-align: right;\">\n",
       "      <th></th>\n",
       "      <th>Date</th>\n",
       "      <th>Volume</th>\n",
       "      <th>Open</th>\n",
       "      <th>High</th>\n",
       "      <th>Low</th>\n",
       "      <th>Close</th>\n",
       "      <th>pred</th>\n",
       "    </tr>\n",
       "  </thead>\n",
       "  <tbody>\n",
       "    <tr>\n",
       "      <th>0</th>\n",
       "      <td>2018-08-10</td>\n",
       "      <td>286160000.0</td>\n",
       "      <td>2295.21</td>\n",
       "      <td>2295.62</td>\n",
       "      <td>2277.89</td>\n",
       "      <td>2282.79</td>\n",
       "      <td>2295.369908</td>\n",
       "    </tr>\n",
       "    <tr>\n",
       "      <th>1</th>\n",
       "      <td>2018-08-13</td>\n",
       "      <td>335380000.0</td>\n",
       "      <td>2266.43</td>\n",
       "      <td>2271.82</td>\n",
       "      <td>2238.55</td>\n",
       "      <td>2248.45</td>\n",
       "      <td>2282.542599</td>\n",
       "    </tr>\n",
       "    <tr>\n",
       "      <th>2</th>\n",
       "      <td>2018-08-14</td>\n",
       "      <td>255220000.0</td>\n",
       "      <td>2249.86</td>\n",
       "      <td>2262.52</td>\n",
       "      <td>2247.37</td>\n",
       "      <td>2258.91</td>\n",
       "      <td>2250.020383</td>\n",
       "    </tr>\n",
       "    <tr>\n",
       "      <th>3</th>\n",
       "      <td>2018-08-16</td>\n",
       "      <td>312520000.0</td>\n",
       "      <td>2233.05</td>\n",
       "      <td>2244.08</td>\n",
       "      <td>2218.09</td>\n",
       "      <td>2240.80</td>\n",
       "      <td>2259.422372</td>\n",
       "    </tr>\n",
       "    <tr>\n",
       "      <th>6</th>\n",
       "      <td>2018-08-21</td>\n",
       "      <td>294340000.0</td>\n",
       "      <td>2248.04</td>\n",
       "      <td>2272.86</td>\n",
       "      <td>2244.59</td>\n",
       "      <td>2270.06</td>\n",
       "      <td>2254.431407</td>\n",
       "    </tr>\n",
       "    <tr>\n",
       "      <th>...</th>\n",
       "      <td>...</td>\n",
       "      <td>...</td>\n",
       "      <td>...</td>\n",
       "      <td>...</td>\n",
       "      <td>...</td>\n",
       "      <td>...</td>\n",
       "      <td>...</td>\n",
       "    </tr>\n",
       "    <tr>\n",
       "      <th>990</th>\n",
       "      <td>2022-08-18</td>\n",
       "      <td>381630000.0</td>\n",
       "      <td>2499.30</td>\n",
       "      <td>2515.37</td>\n",
       "      <td>2488.09</td>\n",
       "      <td>2508.05</td>\n",
       "      <td>2523.779718</td>\n",
       "    </tr>\n",
       "    <tr>\n",
       "      <th>992</th>\n",
       "      <td>2022-08-22</td>\n",
       "      <td>422550000.0</td>\n",
       "      <td>2467.38</td>\n",
       "      <td>2475.77</td>\n",
       "      <td>2457.08</td>\n",
       "      <td>2462.50</td>\n",
       "      <td>2497.157119</td>\n",
       "    </tr>\n",
       "    <tr>\n",
       "      <th>993</th>\n",
       "      <td>2022-08-23</td>\n",
       "      <td>471170000.0</td>\n",
       "      <td>2449.31</td>\n",
       "      <td>2454.55</td>\n",
       "      <td>2431.83</td>\n",
       "      <td>2435.34</td>\n",
       "      <td>2467.171299</td>\n",
       "    </tr>\n",
       "    <tr>\n",
       "      <th>997</th>\n",
       "      <td>2022-08-29</td>\n",
       "      <td>448750000.0</td>\n",
       "      <td>2432.06</td>\n",
       "      <td>2432.89</td>\n",
       "      <td>2417.01</td>\n",
       "      <td>2426.89</td>\n",
       "      <td>2487.528186</td>\n",
       "    </tr>\n",
       "    <tr>\n",
       "      <th>999</th>\n",
       "      <td>2022-08-31</td>\n",
       "      <td>397290.0</td>\n",
       "      <td>2433.47</td>\n",
       "      <td>2473.75</td>\n",
       "      <td>2426.14</td>\n",
       "      <td>2472.05</td>\n",
       "      <td>2446.767072</td>\n",
       "    </tr>\n",
       "  </tbody>\n",
       "</table>\n",
       "<p>452 rows × 7 columns</p>\n",
       "</div>"
      ],
      "text/plain": [
       "          Date       Volume     Open     High      Low    Close         pred\n",
       "0   2018-08-10  286160000.0  2295.21  2295.62  2277.89  2282.79  2295.369908\n",
       "1   2018-08-13  335380000.0  2266.43  2271.82  2238.55  2248.45  2282.542599\n",
       "2   2018-08-14  255220000.0  2249.86  2262.52  2247.37  2258.91  2250.020383\n",
       "3   2018-08-16  312520000.0  2233.05  2244.08  2218.09  2240.80  2259.422372\n",
       "6   2018-08-21  294340000.0  2248.04  2272.86  2244.59  2270.06  2254.431407\n",
       "..         ...          ...      ...      ...      ...      ...          ...\n",
       "990 2022-08-18  381630000.0  2499.30  2515.37  2488.09  2508.05  2523.779718\n",
       "992 2022-08-22  422550000.0  2467.38  2475.77  2457.08  2462.50  2497.157119\n",
       "993 2022-08-23  471170000.0  2449.31  2454.55  2431.83  2435.34  2467.171299\n",
       "997 2022-08-29  448750000.0  2432.06  2432.89  2417.01  2426.89  2487.528186\n",
       "999 2022-08-31     397290.0  2433.47  2473.75  2426.14  2472.05  2446.767072\n",
       "\n",
       "[452 rows x 7 columns]"
      ]
     },
     "execution_count": 34,
     "metadata": {},
     "output_type": "execute_result"
    }
   ],
   "source": [
    "conf # 투자케이스 로그"
   ]
  },
  {
   "cell_type": "code",
   "execution_count": 35,
   "id": "bfafcc0f",
   "metadata": {},
   "outputs": [],
   "source": [
    "conf.to_csv('./reg_invest.csv')"
   ]
  },
  {
   "cell_type": "code",
   "execution_count": 148,
   "id": "40ee9fd8",
   "metadata": {},
   "outputs": [
    {
     "data": {
      "text/plain": [
       "-0.0002640654848020804"
      ]
     },
     "execution_count": 148,
     "metadata": {},
     "output_type": "execute_result"
    }
   ],
   "source": [
    "(conf['Close'] - conf['Open']).mean()/conf['Open'].mean()"
   ]
  },
  {
   "cell_type": "markdown",
   "id": "0e6c848e",
   "metadata": {},
   "source": [
    "- 케이스수익 평균 / (케이스 평균 구매가격) : 일 평균 0.02% 손실\n",
    "- 손실을 보이므로 투자에 적용하지 않는다."
   ]
  },
  {
   "cell_type": "markdown",
   "id": "0426df80",
   "metadata": {},
   "source": [
    "## 투자 케이스 시각화"
   ]
  },
  {
   "cell_type": "code",
   "execution_count": 150,
   "id": "3d239927",
   "metadata": {},
   "outputs": [
    {
     "data": {
      "text/plain": [
       "Text(0.5, 0, 'Case')"
      ]
     },
     "execution_count": 150,
     "metadata": {},
     "output_type": "execute_result"
    },
    {
     "data": {
      "image/png": "[encoded data removed]",
      "text/plain": [
       "<Figure size 432x288 with 1 Axes>"
      ]
     },
     "metadata": {
      "needs_background": "light"
     },
     "output_type": "display_data"
    }
   ],
   "source": [
    "plt.plot(range(len(conf)),conf['Close'] - conf['Open'])\n",
    "plt.grid()\n",
    "plt.title('Invest Case')\n",
    "plt.ylabel('Profit')\n",
    "plt.xlabel('Case')"
   ]
  },
  {
   "cell_type": "markdown",
   "id": "55c6cb58",
   "metadata": {},
   "source": [
    "# 마치며"
   ]
  },
  {
   "cell_type": "markdown",
   "id": "724736a8",
   "metadata": {},
   "source": [
    "- 분류의 경우는 단순히 투자케이스성공에 초점을두어 이익이 보장되는 예측은 아니라고 생각된다.\n",
    "- 옵션요소가 아직도 무수히 있기때문에 (기간, 추가할 피쳐, method ...) 좋은 모델은 나올거라 생각한다.\n",
    "- 회귀의 경우는 RMSE가 적당히 있어야 손실혹은 이익이 나타난다. \n",
    "- ElasticNet 으로 Regression Model을 정할 수 있다.\n",
    "- 싸이클을 profit의 평균지점혹은 수익율로 모델을 평가하여 찾는 수준으로 올리면 최적을 찾을것으로 기대된다.\n",
    "- 투자가설과 규칙을 잘정하여 투자를 해야하고 시뮬레이션 투자케이스 검증을 꼭 해봐야 하겠습니다!\n",
    "\n",
    "- *성투하시길 바랍니다 ^~^*"
   ]
  }
 ],
 "metadata": {
  "kernelspec": {
   "display_name": "Python 3 (ipykernel)",
   "language": "python",
   "name": "python3"
  },
  "language_info": {
   "codemirror_mode": {
    "name": "ipython",
    "version": 3
   },
   "file_extension": ".py",
   "mimetype": "text/x-python",
   "name": "python",
   "nbconvert_exporter": "python",
   "pygments_lexer": "ipython3",
   "version": "3.9.13"
  }
 },
 "nbformat": 4,
 "nbformat_minor": 5
}
