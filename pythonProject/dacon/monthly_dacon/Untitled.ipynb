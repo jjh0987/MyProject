{
 "cells": [
  {
   "cell_type": "code",
   "execution_count": 1,
   "id": "a278d850",
   "metadata": {},
   "outputs": [],
   "source": [
    "import pandas as pd\n",
    "import matplotlib.pyplot as plt\n",
    "import numpy as np"
   ]
  },
  {
   "cell_type": "code",
   "execution_count": 20,
   "id": "220b93f0",
   "metadata": {},
   "outputs": [
    {
     "data": {
      "text/html": [
       "<div>\n",
       "<style scoped>\n",
       "    .dataframe tbody tr th:only-of-type {\n",
       "        vertical-align: middle;\n",
       "    }\n",
       "\n",
       "    .dataframe tbody tr th {\n",
       "        vertical-align: top;\n",
       "    }\n",
       "\n",
       "    .dataframe thead th {\n",
       "        text-align: right;\n",
       "    }\n",
       "</style>\n",
       "<table border=\"1\" class=\"dataframe\">\n",
       "  <thead>\n",
       "    <tr style=\"text-align: right;\">\n",
       "      <th></th>\n",
       "      <th>Close</th>\n",
       "      <th>Open</th>\n",
       "      <th>High</th>\n",
       "      <th>Low</th>\n",
       "      <th>Volume</th>\n",
       "      <th>Change</th>\n",
       "    </tr>\n",
       "  </thead>\n",
       "  <tbody>\n",
       "    <tr>\n",
       "      <th>count</th>\n",
       "      <td>11024.000000</td>\n",
       "      <td>11024.000000</td>\n",
       "      <td>11024.000000</td>\n",
       "      <td>11024.000000</td>\n",
       "      <td>1.102400e+04</td>\n",
       "      <td>11024.000000</td>\n",
       "    </tr>\n",
       "    <tr>\n",
       "      <th>mean</th>\n",
       "      <td>1121.077967</td>\n",
       "      <td>1121.552291</td>\n",
       "      <td>1127.448217</td>\n",
       "      <td>1114.365044</td>\n",
       "      <td>2.556932e+08</td>\n",
       "      <td>0.000379</td>\n",
       "    </tr>\n",
       "    <tr>\n",
       "      <th>std</th>\n",
       "      <td>772.891667</td>\n",
       "      <td>773.393378</td>\n",
       "      <td>777.129136</td>\n",
       "      <td>768.310046</td>\n",
       "      <td>2.938432e+08</td>\n",
       "      <td>0.014550</td>\n",
       "    </tr>\n",
       "    <tr>\n",
       "      <th>min</th>\n",
       "      <td>105.990000</td>\n",
       "      <td>105.990000</td>\n",
       "      <td>105.990000</td>\n",
       "      <td>105.990000</td>\n",
       "      <td>1.660000e+05</td>\n",
       "      <td>-0.120200</td>\n",
       "    </tr>\n",
       "    <tr>\n",
       "      <th>25%</th>\n",
       "      <td>586.562500</td>\n",
       "      <td>586.482500</td>\n",
       "      <td>589.730000</td>\n",
       "      <td>582.837500</td>\n",
       "      <td>1.208750e+07</td>\n",
       "      <td>-0.006300</td>\n",
       "    </tr>\n",
       "    <tr>\n",
       "      <th>50%</th>\n",
       "      <td>878.105000</td>\n",
       "      <td>878.015000</td>\n",
       "      <td>882.360000</td>\n",
       "      <td>873.430000</td>\n",
       "      <td>2.264900e+08</td>\n",
       "      <td>0.000300</td>\n",
       "    </tr>\n",
       "    <tr>\n",
       "      <th>75%</th>\n",
       "      <td>1891.347500</td>\n",
       "      <td>1892.090000</td>\n",
       "      <td>1902.320000</td>\n",
       "      <td>1880.635000</td>\n",
       "      <td>4.028000e+08</td>\n",
       "      <td>0.007200</td>\n",
       "    </tr>\n",
       "    <tr>\n",
       "      <th>max</th>\n",
       "      <td>3305.210000</td>\n",
       "      <td>3305.460000</td>\n",
       "      <td>3316.080000</td>\n",
       "      <td>3295.440000</td>\n",
       "      <td>3.460000e+09</td>\n",
       "      <td>0.119500</td>\n",
       "    </tr>\n",
       "  </tbody>\n",
       "</table>\n",
       "</div>"
      ],
      "text/plain": [
       "              Close          Open          High           Low        Volume  \\\n",
       "count  11024.000000  11024.000000  11024.000000  11024.000000  1.102400e+04   \n",
       "mean    1121.077967   1121.552291   1127.448217   1114.365044  2.556932e+08   \n",
       "std      772.891667    773.393378    777.129136    768.310046  2.938432e+08   \n",
       "min      105.990000    105.990000    105.990000    105.990000  1.660000e+05   \n",
       "25%      586.562500    586.482500    589.730000    582.837500  1.208750e+07   \n",
       "50%      878.105000    878.015000    882.360000    873.430000  2.264900e+08   \n",
       "75%     1891.347500   1892.090000   1902.320000   1880.635000  4.028000e+08   \n",
       "max     3305.210000   3305.460000   3316.080000   3295.440000  3.460000e+09   \n",
       "\n",
       "             Change  \n",
       "count  11024.000000  \n",
       "mean       0.000379  \n",
       "std        0.014550  \n",
       "min       -0.120200  \n",
       "25%       -0.006300  \n",
       "50%        0.000300  \n",
       "75%        0.007200  \n",
       "max        0.119500  "
      ]
     },
     "execution_count": 20,
     "metadata": {},
     "output_type": "execute_result"
    }
   ],
   "source": [
    "df = pd.read_csv('./kospi_data.csv')\n",
    "df.describe()"
   ]
  },
  {
   "cell_type": "code",
   "execution_count": 21,
   "id": "8fdeae2b",
   "metadata": {},
   "outputs": [
    {
     "name": "stdout",
     "output_type": "stream",
     "text": [
      "<class 'pandas.core.frame.DataFrame'>\n",
      "RangeIndex: 11024 entries, 0 to 11023\n",
      "Data columns (total 8 columns):\n",
      " #   Column  Non-Null Count  Dtype         \n",
      "---  ------  --------------  -----         \n",
      " 0   Date    11024 non-null  datetime64[ns]\n",
      " 1   Close   11024 non-null  float64       \n",
      " 2   Open    11024 non-null  float64       \n",
      " 3   High    11024 non-null  float64       \n",
      " 4   Low     11024 non-null  float64       \n",
      " 5   Volume  11024 non-null  float64       \n",
      " 6   Change  11024 non-null  float64       \n",
      " 7   label   11024 non-null  int64         \n",
      "dtypes: datetime64[ns](1), float64(6), int64(1)\n",
      "memory usage: 689.1 KB\n",
      "None\n"
     ]
    }
   ],
   "source": [
    "df = pd.read_csv('./kospi_data.csv')\n",
    "df['Date'] = pd.to_datetime(df['Date'],format='%Y-%m-%d')\n",
    "\n",
    "label = []\n",
    "for test in list(df['Change']):\n",
    "    if test >= 0:\n",
    "        label.append(1)\n",
    "    else:\n",
    "        label.append(0)\n",
    "df['label'] = pd.DataFrame(label)\n",
    "print(df.info())\n"
   ]
  },
  {
   "cell_type": "markdown",
   "id": "6c3a2bd6",
   "metadata": {},
   "source": [
    "# 이동평균선"
   ]
  },
  {
   "cell_type": "code",
   "execution_count": 3,
   "id": "583d5976",
   "metadata": {},
   "outputs": [
    {
     "data": {
      "text/plain": [
       "<matplotlib.legend.Legend at 0x121fad070>"
      ]
     },
     "execution_count": 3,
     "metadata": {},
     "output_type": "execute_result"
    },
    {
     "data": {
      "image/png": "[encoded data removed]",
      "text/plain": [
       "<Figure size 432x288 with 1 Axes>"
      ]
     },
     "metadata": {
      "needs_background": "light"
     },
     "output_type": "display_data"
    }
   ],
   "source": [
    "plt.plot(df['Date'],df['Close'].rolling(window=1).mean())\n",
    "plt.plot(df['Date'],df['Close'].rolling(window=7).mean())\n",
    "plt.plot(df['Date'],df['Close'].rolling(window=30).mean())\n",
    "plt.plot(df['Date'],df['Close'].rolling(window=90).mean())\n",
    "\n",
    "plt.grid()\n",
    "plt.xlabel('Date')\n",
    "plt.ylabel('Close')\n",
    "plt.title('Moving Average')\n",
    "plt.legend(['Close','7days','30days','90days'])"
   ]
  },
  {
   "cell_type": "markdown",
   "id": "5f78b404",
   "metadata": {},
   "source": [
    "# Secondary y-axis"
   ]
  },
  {
   "cell_type": "code",
   "execution_count": 4,
   "id": "9442c50e",
   "metadata": {},
   "outputs": [
    {
     "data": {
      "image/png": "[encoded data removed]",
      "text/plain": [
       "<Figure size 432x288 with 2 Axes>"
      ]
     },
     "metadata": {
      "needs_background": "light"
     },
     "output_type": "display_data"
    }
   ],
   "source": [
    "fig, ax1 = plt.subplots()\n",
    "ax1.plot(df['Date'], df['Close'])\n",
    "ax1.set_xlabel('Date')\n",
    "ax1.set_ylabel('Close')\n",
    "\n",
    "ax2 = ax1.twinx()\n",
    "ax1.set_ylabel('Volume')\n",
    "ax2.bar(df['Date'], df['Volume'],color='red')\n",
    "\n",
    "plt.title('Daily Close with Volume')\n",
    "plt.grid()"
   ]
  },
  {
   "cell_type": "markdown",
   "id": "72bc6e51",
   "metadata": {},
   "source": [
    "# 월간 boxplot"
   ]
  },
  {
   "cell_type": "code",
   "execution_count": 5,
   "id": "7a805b26",
   "metadata": {},
   "outputs": [
    {
     "data": {
      "text/plain": [
       "<AxesSubplot:>"
      ]
     },
     "execution_count": 5,
     "metadata": {},
     "output_type": "execute_result"
    },
    {
     "data": {
      "image/png": "[encoded data removed]",
      "text/plain": [
       "<Figure size 432x288 with 1 Axes>"
      ]
     },
     "metadata": {
      "needs_background": "light"
     },
     "output_type": "display_data"
    }
   ],
   "source": [
    "df[df['Date'] > '2021-01-01'].loc[:,['Date','Close']].groupby([pd.Grouper(key='Date', freq='1M')]).boxplot(subplots=False\n",
    "                                                                                   ,sharex=True,rot=45)\n",
    "\n"
   ]
  },
  {
   "cell_type": "markdown",
   "id": "bc61f8dc",
   "metadata": {},
   "source": [
    "# Classification"
   ]
  },
  {
   "cell_type": "markdown",
   "id": "caa3861f",
   "metadata": {},
   "source": [
    "- Method bundle\n",
    "- Grid search\n",
    "- Feature selection (skip) : combination rule"
   ]
  },
  {
   "cell_type": "code",
   "execution_count": 6,
   "id": "6e6443f2",
   "metadata": {},
   "outputs": [],
   "source": [
    "from sklearn.ensemble import VotingClassifier\n",
    "from sklearn.linear_model import LogisticRegression # 앙상블 조합용\n",
    "from sklearn.neighbors import KNeighborsClassifier # 앙상블 조합용\n",
    "from sklearn.model_selection import train_test_split\n",
    "from sklearn.metrics import accuracy_score\n",
    "from sklearn.tree import DecisionTreeClassifier\n",
    "from sklearn.ensemble import RandomForestClassifier\n",
    "from sklearn.ensemble import GradientBoostingClassifier\n",
    "import xgboost as xgb\n",
    "# from itertools import combinations\n",
    "import warnings\n",
    "\n",
    "warnings.filterwarnings('ignore')"
   ]
  },
  {
   "cell_type": "code",
   "execution_count": 7,
   "id": "581bde10",
   "metadata": {},
   "outputs": [
    {
     "name": "stdout",
     "output_type": "stream",
     "text": [
      "0.5161\n"
     ]
    }
   ],
   "source": [
    "X_train, X_test, y_train, y_test = train_test_split(df.loc[:,['Volume','Open','High','Low']],df.iloc[:,-1],train_size=0.2)\n",
    "clf = DecisionTreeClassifier(random_state=10,\n",
    "                                      max_depth=3,\n",
    "                                      min_samples_leaf=3,\n",
    "                                      min_samples_split=3)\n",
    "clf.fit(X_train, y_train)  # classifier\n",
    "\n",
    "acc_pred = clf.predict(X_test)\n",
    "acc = np.round(accuracy_score(y_test, acc_pred), 4)\n",
    "\n",
    "print(acc)"
   ]
  },
  {
   "cell_type": "code",
   "execution_count": 8,
   "id": "22c3e7c6",
   "metadata": {},
   "outputs": [],
   "source": [
    "class Prediction():\n",
    "    def __init__(self): # input : classifier,features\n",
    "        df = pd.read_csv('./kospi_data.csv')\n",
    "\n",
    "        label = []\n",
    "        for test in list(df['Change']):\n",
    "            if test >= 0:\n",
    "                label.append(1)\n",
    "            else:\n",
    "                label.append(0)\n",
    "        df['label'] = pd.DataFrame(label)\n",
    "        \n",
    "\n",
    "        self.df = df.loc[:,['Volume','Open','High','Low']]\n",
    "        self.label = pd.DataFrame(df.iloc[:-30,-1])\n",
    "        self.pred_target = pd.DataFrame(df.loc[len(df)-30:,['Volume','Open','High','Low']])\n",
    "\n",
    "    # bundle(dtc(),)\n",
    "    def bundle(self, classifier, features, test_size):\n",
    "\n",
    "        total_tbl_train = self.df.loc[:len(df)-31,['Volume','Open','High','Low']]\n",
    "        total_tbl_label = self.label\n",
    "\n",
    "        X_train, X_test, y_train, y_test = train_test_split(total_tbl_train\n",
    "                                                            , total_tbl_label\n",
    "                                                            , test_size=test_size,\n",
    "                                                            random_state=10)\n",
    "\n",
    "        #DecisionTree = DecisionTreeClassifier(random_state=10)\n",
    "        #Logistic = LogisticRegression(random_state=10)\n",
    "        #KNeighbors = KNeighborsClassifier(n_neighbors=4)\n",
    "        #Voting = VotingClassifier(estimators=[('LR', Logistic), ('KN', KNeighbors)], voting='hard')\n",
    "        #RandomForest = RandomForestClassifier(random_state=10)\n",
    "        #GradientBoosting = GradientBoostingClassifier(random_state=10)\n",
    "        #XGB = xgb.XGBClassifier(random_state=10)\n",
    "        #choice = {'DecisionTree': self.dtc(), 'Logistic': Logistic, 'KNeighbors': KNeighbors,\n",
    "        #          'Voting': Voting, 'RandomForest': RandomForest, 'GradientBoosting': GradientBoosting,\n",
    "        #          'XGB': XGB}\n",
    "\n",
    "        clf = classifier\n",
    "        clf.fit(X_train, y_train)  # classifier\n",
    "        acc_pred = clf.predict(X_test)\n",
    "        acc = np.round(accuracy_score(y_test, acc_pred), 4)\n",
    "\n",
    "        pred = clf.predict(np.array(self.pred_target[features])) # .reshape(1,-1)\n",
    "\n",
    "        return round(acc * 100, 2),pred\n",
    "\n",
    "    def dtc(self,max_depth,min_samples_leaf,min_samples_split):\n",
    "\n",
    "        return DecisionTreeClassifier(random_state=10,\n",
    "                                      max_depth=max_depth,\n",
    "                                      min_samples_leaf=min_samples_leaf,\n",
    "                                      min_samples_split=min_samples_split)\n",
    "\n",
    "    def logi(self,l1_ratio):\n",
    "        return LogisticRegression(random_state=10,penalty='elasticnet',l1_ratio=l1_ratio,solver='saga')\n",
    "\n",
    "    def kNN(self,n_neighbors):\n",
    "        return KNeighborsClassifier(n_neighbors=n_neighbors)\n",
    "\n",
    "    def Vote(self):\n",
    "        return VotingClassifier(estimators=[('LR', self.logi(0.5)), ('KN', self.kNN(4))])\n",
    "\n",
    "    def RanF(self,max_depth,min_samples_leaf,min_samples_split,max_samples):\n",
    "        return RandomForestClassifier(random_state=10,\n",
    "                                      max_depth=max_depth,\n",
    "                                      min_samples_leaf=min_samples_leaf,\n",
    "                                      min_samples_split=min_samples_split,\n",
    "                                      bootstrap=True,\n",
    "                                      max_samples=max_samples)\n",
    "\n",
    "    def GradB(self,max_depth,min_samples_leaf,min_samples_split,learning_rate):\n",
    "        return GradientBoostingClassifier(random_state=10,\n",
    "                                          max_depth=max_depth,\n",
    "                                          min_samples_leaf=min_samples_leaf,\n",
    "                                          min_samples_split=min_samples_split,\n",
    "                                          learning_rate=learning_rate)\n",
    "\n",
    "    def xgB(self):\n",
    "        return xgb.XGBClassifier(random_state=10)\n"
   ]
  },
  {
   "cell_type": "code",
   "execution_count": 9,
   "id": "61a51e55",
   "metadata": {},
   "outputs": [
    {
     "data": {
      "text/plain": [
       "(59.35,\n",
       " array([0, 1, 1, 1, 1, 0, 1, 1, 1, 0, 1, 0, 1, 1, 0, 0, 1, 0, 0, 0, 1, 0,\n",
       "        1, 0, 0, 1, 0, 0, 1, 1]))"
      ]
     },
     "execution_count": 9,
     "metadata": {},
     "output_type": "execute_result"
    }
   ],
   "source": [
    "pr = Prediction()\n",
    "pr.bundle(pr.xgB(),['Volume','Open','High','Low'],0.2)"
   ]
  },
  {
   "cell_type": "code",
   "execution_count": 13,
   "id": "14a15252",
   "metadata": {},
   "outputs": [],
   "source": [
    "class best(Prediction):\n",
    "    def __init__(self):\n",
    "        self.result = []\n",
    "#         print('start')\n",
    "#         self.result.append(self.dtc_best())\n",
    "#         print('dtc fin')\n",
    "#         self.result.append(self.logi_best())\n",
    "#         print('logi fin')\n",
    "#         self.result.append(self.knn_best())\n",
    "#         print('knn fin')\n",
    "#         self.result.append(self.vote_best())\n",
    "#         print('vote fin')\n",
    "#         self.result.append(self.ranf_best())\n",
    "#         print('ranf fin')\n",
    "#         self.result.append(self.grad_best())\n",
    "#         print('grad fin')\n",
    "#         self.result.append(self.xgb_best())\n",
    "#         print('xgb fin')\n",
    "\n",
    "\n",
    "    def dtc_best(self):\n",
    "        prediction_method = Prediction()\n",
    "        train_test_rate = 0.2\n",
    "\n",
    "        features = ['Volume','Open','High','Low']\n",
    "        tp = []\n",
    "        idx = []\n",
    "        for i in range(1,10):\n",
    "            for j in range(1,10):\n",
    "                for k in range(2,10):\n",
    "                    for l in range(1,len(features)+1):\n",
    "                        for feature in list(combinations(features,l)):\n",
    "                            np.random.seed(10)\n",
    "                            #print(np.random.rand(5))\n",
    "                            tp.append(prediction_method.bundle(prediction_method.dtc(i,j,k), list(feature), train_test_rate)[0])\n",
    "                            idx.append([i,j,k,feature])\n",
    "                            #print([i,j,k,feature])\n",
    "        return 'dtc',idx[tp.index(max(tp))],max(tp)\n",
    "\n",
    "    def logi_best(self):\n",
    "        prediction_method = Prediction()\n",
    "        train_test_rate = 0.2\n",
    "\n",
    "        features = ['Volume','Open','High','Low']\n",
    "        tp = []\n",
    "        idx = []\n",
    "        for i in range(0,101,5):\n",
    "            for l in range(1,len(features)+1):\n",
    "                #for feature in list(combinations(features,l)):\n",
    "                np.random.seed(10)\n",
    "                #print(np.random.rand(5))\n",
    "                tp.append(prediction_method.bundle(prediction_method.logi(i/100), features, train_test_rate)[0])\n",
    "                idx.append([i,features])\n",
    "                #print([i/100,feature])\n",
    "\n",
    "        return 'logi',idx[tp.index(max(tp))],max(tp)\n",
    "\n",
    "    def knn_best(self):\n",
    "        prediction_method = Prediction()\n",
    "        train_test_rate = 0.2\n",
    "\n",
    "        features = ['Volume','Open','High','Low']\n",
    "        tp = []\n",
    "        idx = []\n",
    "        for i in range(1,11):\n",
    "            for l in range(1,len(features)+1):\n",
    "                #for feature in list(combinations(features,l)):\n",
    "                np.random.seed(10)\n",
    "                #print(np.random.rand(5))\n",
    "                tp.append(prediction_method.bundle(prediction_method.kNN(i), features, train_test_rate)[0])\n",
    "                idx.append([i,features])\n",
    "                #print([i,feature])\n",
    "\n",
    "        return 'knn',idx[tp.index(max(tp))],max(tp)\n",
    "\n",
    "    def vote_best(self):\n",
    "        prediction_method = Prediction()\n",
    "        train_test_rate = 0.2\n",
    "\n",
    "        features = ['Volume','Open','High','Low']\n",
    "        tp = []\n",
    "        idx = []\n",
    "\n",
    "        for l in range(1,len(features)+1):\n",
    "            #for feature in list(combinations(features,l)):\n",
    "            np.random.seed(10)\n",
    "            #print(np.random.rand(5))\n",
    "            tp.append(prediction_method.bundle(prediction_method.Vote(), features, train_test_rate)[0])\n",
    "            idx.append([features])\n",
    "            #print([feature])\n",
    "\n",
    "        return 'vote',idx[tp.index(max(tp))],max(tp)\n",
    "\n",
    "    def ranf_best(self):\n",
    "        prediction_method = Prediction()\n",
    "        train_test_rate = 0.2\n",
    "\n",
    "        features = ['Volume','Open','High','Low']\n",
    "        tp = []\n",
    "        idx = []\n",
    "        for i in range(1,10):\n",
    "            for j in range(1,10):\n",
    "                for k in range(2,10):\n",
    "                    for ms in range(10,101,10):\n",
    "                        #for l in range(1,len(features)+1):\n",
    "                        #    for feature in list(combinations(features,l)):\n",
    "                        np.random.seed(10)\n",
    "                        #print(np.random.rand(5))\n",
    "                        tp.append(prediction_method.bundle(prediction_method.RanF(i,j,k,ms), features, train_test_rate)[0])\n",
    "                        idx.append([i,j,k,ms,features])\n",
    "                        #print([i,j,k,ms,features])\n",
    "            print(f'{i}/10')\n",
    "\n",
    "        return 'ranf',idx[tp.index(max(tp))],max(tp)\n",
    "\n",
    "    def grad_best(self):\n",
    "        prediction_method = Prediction()\n",
    "        train_test_rate = 0.2\n",
    "\n",
    "        features = ['Volume','Open','High','Low']\n",
    "        tp = []\n",
    "        idx = []\n",
    "        for i in range(1,10):\n",
    "            for j in range(1,10):\n",
    "                for k in range(2,10):\n",
    "                    for ms in range(1,5):\n",
    "                        #for l in range(1,len(features)+1):\n",
    "                        #    for feature in list(combinations(features,l)):\n",
    "                        np.random.seed(10)\n",
    "                        #print(np.random.rand(5))\n",
    "                        tp.append(prediction_method.bundle(prediction_method.GradB(i,j,k,ms/10), features, train_test_rate)[0])\n",
    "                        idx.append([i,j,k,ms/10,features])\n",
    "                        #print([i,j,k,ms/10,features])\n",
    "            print(f'{i}/10')\n",
    "\n",
    "        return 'grad',idx[tp.index(max(tp))],max(tp)\n",
    "\n",
    "    def xgb_best(self):\n",
    "        prediction_method = Prediction()\n",
    "        train_test_rate = 0.2\n",
    "\n",
    "        features = ['Volume','Open','High','Low']\n",
    "        tp = []\n",
    "        idx = []\n",
    "\n",
    "        for l in range(1,len(features)+1):\n",
    "            #for feature in list(combinations(features,l)):\n",
    "            np.random.seed(10)\n",
    "            #print(np.random.rand(5))\n",
    "            tp.append(prediction_method.bundle(prediction_method.xgB(), features, train_test_rate)[0])\n",
    "            idx.append([features])\n",
    "            #print([feature])\n",
    "\n",
    "        return 'xgb',idx[tp.index(max(tp))],max(tp)"
   ]
  },
  {
   "cell_type": "code",
   "execution_count": 11,
   "id": "24ede643",
   "metadata": {},
   "outputs": [
    {
     "name": "stdout",
     "output_type": "stream",
     "text": [
      "start\n",
      "dtc fin\n",
      "logi fin\n",
      "knn fin\n",
      "vote fin\n",
      "1/10\n",
      "2/10\n",
      "3/10\n",
      "4/10\n",
      "5/10\n",
      "6/10\n",
      "7/10\n",
      "8/10\n",
      "9/10\n",
      "ranf fin\n",
      "1/10\n",
      "2/10\n",
      "3/10\n",
      "4/10\n",
      "5/10\n",
      "6/10\n",
      "7/10\n",
      "8/10\n",
      "9/10\n",
      "grad fin\n",
      "xgb fin\n"
     ]
    }
   ],
   "source": [
    "bst = best()"
   ]
  },
  {
   "cell_type": "code",
   "execution_count": 12,
   "id": "9c576d2d",
   "metadata": {},
   "outputs": [
    {
     "data": {
      "text/plain": [
       "('xgb', [['Volume', 'Open', 'High', 'Low']], 59.35)"
      ]
     },
     "execution_count": 12,
     "metadata": {},
     "output_type": "execute_result"
    }
   ],
   "source": [
    "bst.xgb_best()"
   ]
  },
  {
   "cell_type": "code",
   "execution_count": 18,
   "id": "80ede9c6",
   "metadata": {},
   "outputs": [
    {
     "data": {
      "text/html": [
       "<div>\n",
       "<style scoped>\n",
       "    .dataframe tbody tr th:only-of-type {\n",
       "        vertical-align: middle;\n",
       "    }\n",
       "\n",
       "    .dataframe tbody tr th {\n",
       "        vertical-align: top;\n",
       "    }\n",
       "\n",
       "    .dataframe thead th {\n",
       "        text-align: right;\n",
       "    }\n",
       "</style>\n",
       "<table border=\"1\" class=\"dataframe\">\n",
       "  <thead>\n",
       "    <tr style=\"text-align: right;\">\n",
       "      <th></th>\n",
       "      <th>Method</th>\n",
       "      <th>Parms</th>\n",
       "      <th>Acc</th>\n",
       "    </tr>\n",
       "  </thead>\n",
       "  <tbody>\n",
       "    <tr>\n",
       "      <th>0</th>\n",
       "      <td>dtc</td>\n",
       "      <td>[6, 1, 2, [Volume, Open, High, Low]]</td>\n",
       "      <td>54.48</td>\n",
       "    </tr>\n",
       "    <tr>\n",
       "      <th>1</th>\n",
       "      <td>logi</td>\n",
       "      <td>[0, [Volume, Open, High, Low]]</td>\n",
       "      <td>52.25</td>\n",
       "    </tr>\n",
       "    <tr>\n",
       "      <th>2</th>\n",
       "      <td>knn</td>\n",
       "      <td>[9, [Volume, Open, High, Low]]</td>\n",
       "      <td>52.02</td>\n",
       "    </tr>\n",
       "    <tr>\n",
       "      <th>3</th>\n",
       "      <td>vote</td>\n",
       "      <td>[[Volume, Open, High, Low]]</td>\n",
       "      <td>49.39</td>\n",
       "    </tr>\n",
       "    <tr>\n",
       "      <th>4</th>\n",
       "      <td>ranf</td>\n",
       "      <td>[5, 1, 8, 100, [Volume, Open, High, Low]]</td>\n",
       "      <td>55.93</td>\n",
       "    </tr>\n",
       "    <tr>\n",
       "      <th>5</th>\n",
       "      <td>grad</td>\n",
       "      <td>[7, 9, 2, 0.2, [Volume, Open, High, Low]]</td>\n",
       "      <td>62.71</td>\n",
       "    </tr>\n",
       "    <tr>\n",
       "      <th>6</th>\n",
       "      <td>xgb</td>\n",
       "      <td>[[Volume, Open, High, Low]]</td>\n",
       "      <td>59.35</td>\n",
       "    </tr>\n",
       "  </tbody>\n",
       "</table>\n",
       "</div>"
      ],
      "text/plain": [
       "  Method                                      Parms    Acc\n",
       "0    dtc       [6, 1, 2, [Volume, Open, High, Low]]  54.48\n",
       "1   logi             [0, [Volume, Open, High, Low]]  52.25\n",
       "2    knn             [9, [Volume, Open, High, Low]]  52.02\n",
       "3   vote                [[Volume, Open, High, Low]]  49.39\n",
       "4   ranf  [5, 1, 8, 100, [Volume, Open, High, Low]]  55.93\n",
       "5   grad  [7, 9, 2, 0.2, [Volume, Open, High, Low]]  62.71\n",
       "6    xgb                [[Volume, Open, High, Low]]  59.35"
      ]
     },
     "execution_count": 18,
     "metadata": {},
     "output_type": "execute_result"
    }
   ],
   "source": [
    "summary = pd.DataFrame(bst.result)\n",
    "summary.columns = ['Method','Parms','Acc']\n",
    "summary"
   ]
  },
  {
   "cell_type": "markdown",
   "id": "285023dc",
   "metadata": {},
   "source": [
    "- example\n",
    "\n",
    "- dtc : \n",
    "\n",
    "        DecisionTreeClassifier(random_state=10,\n",
    "                      max_depth=max_depth,\n",
    "                      min_samples_leaf=min_samples_leaf,\n",
    "                      min_samples_split=min_samples_split)"
   ]
  },
  {
   "cell_type": "markdown",
   "id": "260f7f3e",
   "metadata": {},
   "source": [
    "# Spline smoothing graph"
   ]
  }
 ],
 "metadata": {
  "kernelspec": {
   "display_name": "Python 3 (ipykernel)",
   "language": "python",
   "name": "python3"
  },
  "language_info": {
   "codemirror_mode": {
    "name": "ipython",
    "version": 3
   },
   "file_extension": ".py",
   "mimetype": "text/x-python",
   "name": "python",
   "nbconvert_exporter": "python",
   "pygments_lexer": "ipython3",
   "version": "3.9.13"
  }
 },
 "nbformat": 4,
 "nbformat_minor": 5
}
