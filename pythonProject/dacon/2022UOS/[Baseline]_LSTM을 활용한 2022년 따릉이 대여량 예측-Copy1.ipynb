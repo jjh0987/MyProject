{
 "cells": [
  {
   "cell_type": "markdown",
   "id": "a2bcba5f-002e-4f49-9622-ada6117faf0a",
   "metadata": {},
   "source": [
    "## Import"
   ]
  },
  {
   "cell_type": "code",
   "execution_count": 1,
   "id": "2b0d9b68-7102-4eca-9543-3b9b8acafc6e",
   "metadata": {},
   "outputs": [],
   "source": [
    "import random\n",
    "import pandas as pd\n",
    "import numpy as np\n",
    "import os\n",
    "import re\n",
    "\n",
    "import matplotlib.pyplot as plt\n",
    "\n",
    "import torch\n",
    "import torch.nn as nn\n",
    "import torch.optim as optim\n",
    "import torch.nn.functional as F\n",
    "from torch.utils.data import Dataset, DataLoader\n",
    "\n",
    "from tqdm.auto import tqdm\n",
    "\n",
    "import warnings\n",
    "warnings.filterwarnings(action='ignore') "
   ]
  },
  {
   "cell_type": "code",
   "execution_count": 2,
   "id": "d13862e3-bb27-47af-9b58-a9fbf804df71",
   "metadata": {},
   "outputs": [],
   "source": [
    "device = torch.device('cuda') if torch.cuda.is_available() else torch.device('cpu')"
   ]
  },
  {
   "cell_type": "markdown",
   "id": "fc7df3f2-62d0-4499-a46e-47d01699def0",
   "metadata": {},
   "source": [
    "## Hyperparameter Setting"
   ]
  },
  {
   "cell_type": "code",
   "execution_count": 3,
   "id": "c3367399-9798-4e38-967b-fd2320b9a2b2",
   "metadata": {},
   "outputs": [],
   "source": [
    "CFG = {\n",
    "    'X_RANGE':334, # 예측하려는 시점을 X_RANGE 만큼의 이전 일자의 데이터로부터 예측 및 학습\n",
    "    'EPOCHS':3,\n",
    "    'LEARNING_RATE':1e-3,\n",
    "    'BATCH_SIZE':128,\n",
    "    'SEED':41\n",
    "}"
   ]
  },
  {
   "cell_type": "markdown",
   "id": "4254e860-ff82-43ba-bfa3-fcee4eb3ddbd",
   "metadata": {},
   "source": [
    "## Fixed RandomSeed"
   ]
  },
  {
   "cell_type": "code",
   "execution_count": 4,
   "id": "101a714b-71b6-4475-a4ce-fa5f98bc2731",
   "metadata": {},
   "outputs": [],
   "source": [
    "def seed_everything(seed):\n",
    "    random.seed(seed)\n",
    "    os.environ['PYTHONHASHSEED'] = str(seed)\n",
    "    np.random.seed(seed)\n",
    "    torch.manual_seed(seed)\n",
    "    torch.cuda.manual_seed(seed)\n",
    "    torch.backends.cudnn.deterministic = True\n",
    "    torch.backends.cudnn.benchmark = True\n",
    "\n",
    "seed_everything(CFG['SEED']) # Seed 고정"
   ]
  },
  {
   "cell_type": "markdown",
   "id": "05a4172e-5791-446f-9616-35c09d8bf25a",
   "metadata": {},
   "source": [
    "## Data Load"
   ]
  },
  {
   "cell_type": "code",
   "execution_count": 5,
   "id": "a62c78cd-4f40-4e98-b8a6-1b6f1d906b4d",
   "metadata": {},
   "outputs": [],
   "source": [
    "train_df = pd.read_csv('./train.csv')"
   ]
  },
  {
   "cell_type": "code",
   "execution_count": 6,
   "id": "04513aab-b769-4207-8481-94238ed10c8c",
   "metadata": {},
   "outputs": [
    {
     "data": {
      "text/html": [
       "<div>\n",
       "<style scoped>\n",
       "    .dataframe tbody tr th:only-of-type {\n",
       "        vertical-align: middle;\n",
       "    }\n",
       "\n",
       "    .dataframe tbody tr th {\n",
       "        vertical-align: top;\n",
       "    }\n",
       "\n",
       "    .dataframe thead th {\n",
       "        text-align: right;\n",
       "    }\n",
       "</style>\n",
       "<table border=\"1\" class=\"dataframe\">\n",
       "  <thead>\n",
       "    <tr style=\"text-align: right;\">\n",
       "      <th></th>\n",
       "      <th>일시</th>\n",
       "      <th>광진구</th>\n",
       "      <th>동대문구</th>\n",
       "      <th>성동구</th>\n",
       "      <th>중랑구</th>\n",
       "    </tr>\n",
       "  </thead>\n",
       "  <tbody>\n",
       "    <tr>\n",
       "      <th>0</th>\n",
       "      <td>20180101</td>\n",
       "      <td>0.592</td>\n",
       "      <td>0.368</td>\n",
       "      <td>0.580</td>\n",
       "      <td>0.162</td>\n",
       "    </tr>\n",
       "    <tr>\n",
       "      <th>1</th>\n",
       "      <td>20180102</td>\n",
       "      <td>0.840</td>\n",
       "      <td>0.614</td>\n",
       "      <td>1.034</td>\n",
       "      <td>0.260</td>\n",
       "    </tr>\n",
       "    <tr>\n",
       "      <th>2</th>\n",
       "      <td>20180103</td>\n",
       "      <td>0.828</td>\n",
       "      <td>0.576</td>\n",
       "      <td>0.952</td>\n",
       "      <td>0.288</td>\n",
       "    </tr>\n",
       "    <tr>\n",
       "      <th>3</th>\n",
       "      <td>20180104</td>\n",
       "      <td>0.792</td>\n",
       "      <td>0.542</td>\n",
       "      <td>0.914</td>\n",
       "      <td>0.292</td>\n",
       "    </tr>\n",
       "    <tr>\n",
       "      <th>4</th>\n",
       "      <td>20180105</td>\n",
       "      <td>0.818</td>\n",
       "      <td>0.602</td>\n",
       "      <td>0.994</td>\n",
       "      <td>0.308</td>\n",
       "    </tr>\n",
       "    <tr>\n",
       "      <th>...</th>\n",
       "      <td>...</td>\n",
       "      <td>...</td>\n",
       "      <td>...</td>\n",
       "      <td>...</td>\n",
       "      <td>...</td>\n",
       "    </tr>\n",
       "    <tr>\n",
       "      <th>1456</th>\n",
       "      <td>20211227</td>\n",
       "      <td>3.830</td>\n",
       "      <td>3.416</td>\n",
       "      <td>2.908</td>\n",
       "      <td>2.350</td>\n",
       "    </tr>\n",
       "    <tr>\n",
       "      <th>1457</th>\n",
       "      <td>20211228</td>\n",
       "      <td>4.510</td>\n",
       "      <td>3.890</td>\n",
       "      <td>3.714</td>\n",
       "      <td>2.700</td>\n",
       "    </tr>\n",
       "    <tr>\n",
       "      <th>1458</th>\n",
       "      <td>20211229</td>\n",
       "      <td>4.490</td>\n",
       "      <td>3.524</td>\n",
       "      <td>3.660</td>\n",
       "      <td>2.524</td>\n",
       "    </tr>\n",
       "    <tr>\n",
       "      <th>1459</th>\n",
       "      <td>20211230</td>\n",
       "      <td>4.444</td>\n",
       "      <td>3.574</td>\n",
       "      <td>3.530</td>\n",
       "      <td>2.506</td>\n",
       "    </tr>\n",
       "    <tr>\n",
       "      <th>1460</th>\n",
       "      <td>20211231</td>\n",
       "      <td>3.616</td>\n",
       "      <td>3.210</td>\n",
       "      <td>2.620</td>\n",
       "      <td>2.146</td>\n",
       "    </tr>\n",
       "  </tbody>\n",
       "</table>\n",
       "<p>1461 rows × 5 columns</p>\n",
       "</div>"
      ],
      "text/plain": [
       "            일시    광진구   동대문구    성동구    중랑구\n",
       "0     20180101  0.592  0.368  0.580  0.162\n",
       "1     20180102  0.840  0.614  1.034  0.260\n",
       "2     20180103  0.828  0.576  0.952  0.288\n",
       "3     20180104  0.792  0.542  0.914  0.292\n",
       "4     20180105  0.818  0.602  0.994  0.308\n",
       "...        ...    ...    ...    ...    ...\n",
       "1456  20211227  3.830  3.416  2.908  2.350\n",
       "1457  20211228  4.510  3.890  3.714  2.700\n",
       "1458  20211229  4.490  3.524  3.660  2.524\n",
       "1459  20211230  4.444  3.574  3.530  2.506\n",
       "1460  20211231  3.616  3.210  2.620  2.146\n",
       "\n",
       "[1461 rows x 5 columns]"
      ]
     },
     "execution_count": 6,
     "metadata": {},
     "output_type": "execute_result"
    }
   ],
   "source": [
    "train_df"
   ]
  },
  {
   "cell_type": "code",
   "execution_count": 7,
   "id": "1525afc6",
   "metadata": {},
   "outputs": [],
   "source": [
    "temporary = pd.DataFrame()"
   ]
  },
  {
   "cell_type": "code",
   "execution_count": 8,
   "id": "4c743c13",
   "metadata": {},
   "outputs": [],
   "source": [
    "# import numpy as np\n",
    "# from scipy import interpolate\n",
    "# for loc in train_df.columns[1:]:\n",
    "#     ans = []\n",
    "#     for i in range(len(train_df)-1):\n",
    "#         x = np.array(range(24))\n",
    "#         y = np.linspace(train_df.loc[i,loc], train_df.loc[i+1,loc], 24)\n",
    "#         sp = interpolate.interp1d(x,y,kind='cubic')\n",
    "\n",
    "#         xs = np.linspace(x[0], x[-1], 24)\n",
    "#         ys = sp(xs)\n",
    "#         ys = list(ys)\n",
    "#         ys.pop()\n",
    "#         ans.extend(ys)\n",
    "#     temporary[loc] = ans"
   ]
  },
  {
   "cell_type": "code",
   "execution_count": 9,
   "id": "a87fec7d",
   "metadata": {},
   "outputs": [],
   "source": [
    "# ans = []\n",
    "# for i in range(len(train_df)-1):\n",
    "#     x = np.array(range(24))\n",
    "#     y = np.linspace(train_df.loc[i,'일시'], train_df.loc[i+1,'일시'], 24)\n",
    "#     sp = interpolate.interp1d(x,y,kind='cubic')\n",
    "\n",
    "#     xs = np.linspace(x[0], x[-1], 24)\n",
    "#     ys = sp(xs)\n",
    "#     ys = list(ys)\n",
    "#     ys.pop()\n",
    "#     ans.extend(ys)\n",
    "# temporary['일시'] = ans\n",
    "# temporary"
   ]
  },
  {
   "cell_type": "code",
   "execution_count": 10,
   "id": "7a41ab39",
   "metadata": {},
   "outputs": [],
   "source": [
    "# len(train_df)*23-23"
   ]
  },
  {
   "cell_type": "code",
   "execution_count": 11,
   "id": "b618c793",
   "metadata": {},
   "outputs": [],
   "source": [
    "# train_df = temporary"
   ]
  },
  {
   "cell_type": "markdown",
   "id": "be170507-3880-44b8-a956-15ad722f210b",
   "metadata": {},
   "source": [
    "## Data Visualization"
   ]
  },
  {
   "cell_type": "code",
   "execution_count": 12,
   "id": "452764b5-2b31-4361-b922-6a986dff6825",
   "metadata": {},
   "outputs": [],
   "source": [
    "def get_view_df(df, target):\n",
    "    viewd = df[['일시', target]]\n",
    "    viewd = viewd.reset_index(drop=True)\n",
    "    viewd = viewd.reset_index()\n",
    "    print(target)\n",
    "    sns.set(rc = {'figure.figsize':(30,8)})\n",
    "    sns.lineplot(x='index', y=target, data=viewd)\n",
    "    plt.show()"
   ]
  },
  {
   "cell_type": "markdown",
   "id": "7d3b3569-dc15-4090-a6b6-b005f8a20c2a",
   "metadata": {},
   "source": [
    "## Train / Validation Split"
   ]
  },
  {
   "cell_type": "code",
   "execution_count": 13,
   "id": "4e796488-75b3-4323-be5d-adbb22e6d7b5",
   "metadata": {},
   "outputs": [],
   "source": [
    "val_df = train_df.iloc[int(len(train_df)*0.9)-CFG['X_RANGE']:].reset_index().drop(columns='index') # 20210101 ~ 20211231\n",
    "# 위의 1096-CFG['X_RANGE']의 이유는 20210101을 예측하기 위해서는 이전 X_RANGE만큼의 일수가 필요하므로\n",
    "train_df = train_df.iloc[:int(len(train_df)*0.9)].reset_index().drop(columns='index') # 20180101 ~ 20201231"
   ]
  },
  {
   "cell_type": "markdown",
   "id": "cb4b0dfa-6a2d-47df-90b6-836536ffaf0d",
   "metadata": {},
   "source": [
    "## Data Pre-processing"
   ]
  },
  {
   "cell_type": "code",
   "execution_count": 14,
   "id": "9bbd2b94-bba1-4ce6-9e3d-ed6ac05927d2",
   "metadata": {},
   "outputs": [],
   "source": [
    "def get_x_y_data(df, infer=False):\n",
    "    # x_range : x일전까지의 데이터를 통해 예측\n",
    "    x_data = []\n",
    "    y_data = []\n",
    "    for i in tqdm(range(CFG['X_RANGE'], len(df))):\n",
    "        x_data.append(np.array(df.loc[i-CFG['X_RANGE']:i-1, ['광진구', '동대문구', '성동구', '중랑구']]).astype(float))\n",
    "        y_data.append(np.array(df.loc[i, ['광진구', '동대문구', '성동구', '중랑구']]).astype(float))\n",
    "    if infer:\n",
    "        return x_data\n",
    "    else:\n",
    "        return x_data, y_data"
   ]
  },
  {
   "cell_type": "code",
   "execution_count": 43,
   "id": "93c6bf6b-bad6-41c1-9478-e6bea1621a7c",
   "metadata": {},
   "outputs": [],
   "source": [
    "def make_ymd_feature(df):\n",
    "#     df['일시'] = df['일시'].astype(str)\n",
    "#     df['년'] = df['일시'].str[:4].astype(int)/1000.\n",
    "#     df['월'] = df['일시'].str[4:6].astype(int)/12.\n",
    "#     df['일'] = df['일시'].str[6:8].astype(int)/31.\n",
    "#     df['시'] = df['일시'].str[8:13].astype(int)/10000.\n",
    "    df = df[['광진구', '동대문구', '성동구', '중랑구']]\n",
    "    return df"
   ]
  },
  {
   "cell_type": "code",
   "execution_count": 16,
   "id": "9e9205af-3e83-4347-a700-2394b91b1634",
   "metadata": {},
   "outputs": [],
   "source": [
    "train_df = make_ymd_feature(train_df)\n",
    "val_df = make_ymd_feature(val_df)"
   ]
  },
  {
   "cell_type": "code",
   "execution_count": 17,
   "id": "c643b186-9001-456e-81b0-0e3295d270a6",
   "metadata": {},
   "outputs": [
    {
     "data": {
      "application/vnd.jupyter.widget-view+json": {
       "model_id": "aed1ca0abe1b49cbb5c5fa617059ce5a",
       "version_major": 2,
       "version_minor": 0
      },
      "text/plain": [
       "  0%|          | 0/966 [00:00<?, ?it/s]"
      ]
     },
     "metadata": {},
     "output_type": "display_data"
    }
   ],
   "source": [
    "train_x, train_y = get_x_y_data(train_df)"
   ]
  },
  {
   "cell_type": "code",
   "execution_count": 18,
   "id": "c7b57a6e-cf5e-4b34-b196-e0273799e02e",
   "metadata": {},
   "outputs": [
    {
     "data": {
      "application/vnd.jupyter.widget-view+json": {
       "model_id": "c0685ce67e7243658a67277fb7f31d62",
       "version_major": 2,
       "version_minor": 0
      },
      "text/plain": [
       "  0%|          | 0/161 [00:00<?, ?it/s]"
      ]
     },
     "metadata": {},
     "output_type": "display_data"
    }
   ],
   "source": [
    "val_x, val_y = get_x_y_data(val_df)"
   ]
  },
  {
   "cell_type": "markdown",
   "id": "ac27ed36-8031-47a7-bd0d-a913513f2e8e",
   "metadata": {},
   "source": [
    "## CustomDataset"
   ]
  },
  {
   "cell_type": "code",
   "execution_count": 19,
   "id": "16fd60a5-24e2-4539-bfd0-1c374a641699",
   "metadata": {},
   "outputs": [],
   "source": [
    "class CustomDataset(Dataset):\n",
    "    def __init__(self, X, Y):\n",
    "        self.X = X\n",
    "        self.Y = Y\n",
    "\n",
    "    def __getitem__(self, index):\n",
    "        if self.Y is not None:\n",
    "            return torch.Tensor(self.X[index]), torch.Tensor(self.Y[index])\n",
    "        else:\n",
    "            return torch.Tensor(self.X[index])\n",
    "\n",
    "    def __len__(self):\n",
    "        return len(self.X)"
   ]
  },
  {
   "cell_type": "code",
   "execution_count": 20,
   "id": "9d880481-1965-499d-9caa-fdfa8526f789",
   "metadata": {},
   "outputs": [],
   "source": [
    "train_dataset = CustomDataset(train_x, train_y)\n",
    "train_loader = DataLoader(train_dataset, batch_size = CFG['BATCH_SIZE'], shuffle=True, num_workers=0)\n",
    "\n",
    "val_dataset = CustomDataset(val_x, val_y)\n",
    "val_loader = DataLoader(val_dataset, batch_size = CFG['BATCH_SIZE'], shuffle=False, num_workers=0)"
   ]
  },
  {
   "cell_type": "markdown",
   "id": "39962463-032f-490a-a76d-c03991795f38",
   "metadata": {},
   "source": [
    "## Define Model"
   ]
  },
  {
   "cell_type": "code",
   "execution_count": 21,
   "id": "3664c4d0-f1f2-4971-9090-4d6ee66309ae",
   "metadata": {},
   "outputs": [],
   "source": [
    "class BaseModel(nn.Module):\n",
    "    def __init__(self):\n",
    "        super(BaseModel, self).__init__()\n",
    "        self.lstm = nn.LSTM(input_size=4, hidden_size=256, num_layers=10, batch_first=True, dropout=0.1)\n",
    "        \n",
    "        self.multioutput_reg = nn.Sequential(\n",
    "            nn.Linear(in_features=256, out_features=128), \n",
    "            nn.BatchNorm1d(128),\n",
    "            nn.ReLU(),\n",
    "            nn.Linear(in_features=128, out_features=128), \n",
    "            nn.BatchNorm1d(128),\n",
    "            nn.ReLU(),\n",
    "            nn.Linear(in_features=128, out_features=64), \n",
    "            nn.BatchNorm1d(64),\n",
    "            nn.ReLU(),\n",
    "            nn.Linear(in_features=64, out_features=4),\n",
    "        )\n",
    "        \n",
    "    def forward(self, x):\n",
    "        hidden, _ = self.lstm(x)\n",
    "        output = self.multioutput_reg(hidden[:,-1,:])\n",
    "        return output"
   ]
  },
  {
   "cell_type": "markdown",
   "id": "122af0aa-a1fd-4595-9488-35761e3cb596",
   "metadata": {},
   "source": [
    "## Train"
   ]
  },
  {
   "cell_type": "code",
   "execution_count": 22,
   "id": "a17df6b3-16c9-44dd-b0fd-ffb501fee749",
   "metadata": {},
   "outputs": [],
   "source": [
    "def train(model, optimizer, train_loader, val_loader, scheduler, device):\n",
    "    model.to(device)\n",
    "    criterion = nn.L1Loss().to(device)\n",
    "    \n",
    "    best_loss = 9999999\n",
    "    best_model = None\n",
    "    \n",
    "    for epoch in range(1, CFG['EPOCHS']+1):\n",
    "        model.train()\n",
    "        train_loss = []\n",
    "        for X, Y in iter(train_loader):\n",
    "            X = X.to(device)\n",
    "            Y = Y.to(device)\n",
    "            \n",
    "            optimizer.zero_grad()\n",
    "            \n",
    "            output = model(X)\n",
    "            loss = criterion(output, Y)\n",
    "            \n",
    "            loss.backward()\n",
    "            optimizer.step()\n",
    "            \n",
    "            train_loss.append(loss.item())\n",
    "        \n",
    "        _train_loss = np.mean(train_loss)\n",
    "        \n",
    "        val_mae = validation(model, val_loader, criterion, device)\n",
    "        print(f'Epoch : [{epoch}] Train Loss : [{_train_loss:.5f}] Val MAE : [{val_mae:.5f}]')\n",
    "        \n",
    "        if scheduler is not None:\n",
    "            scheduler.step(val_mae)\n",
    "            \n",
    "        if best_loss > val_mae:\n",
    "            best_loss = val_mae\n",
    "            best_model = model \n",
    "    return best_model"
   ]
  },
  {
   "cell_type": "code",
   "execution_count": 23,
   "id": "bcebbd9d-5b26-444e-8f7c-b4ed53361401",
   "metadata": {},
   "outputs": [],
   "source": [
    "def validation(model, val_loader, criterion, device):\n",
    "    model.eval()\n",
    "    val_loss = []\n",
    "    with torch.no_grad():\n",
    "        for X, Y in iter(val_loader):\n",
    "            X = X.to(device)\n",
    "            Y = Y.to(device)\n",
    "            \n",
    "            output = model(X)\n",
    "            \n",
    "            loss = criterion(output, Y)\n",
    "            \n",
    "            val_loss.append(loss.item())\n",
    "    \n",
    "    _val_loss = np.mean(val_loss)\n",
    "    return _val_loss    "
   ]
  },
  {
   "cell_type": "markdown",
   "id": "51da39f9-904f-4abd-a7d2-cdf29c4a6c24",
   "metadata": {},
   "source": [
    "## Run!!"
   ]
  },
  {
   "cell_type": "code",
   "execution_count": 24,
   "id": "86142d9a-68b7-4d04-8423-49d28025411d",
   "metadata": {
    "tags": []
   },
   "outputs": [],
   "source": [
    "model = BaseModel()"
   ]
  },
  {
   "cell_type": "code",
   "execution_count": 25,
   "id": "736c4fdc-bf85-4272-b27f-68e7fa680e80",
   "metadata": {},
   "outputs": [
    {
     "name": "stdout",
     "output_type": "stream",
     "text": [
      "Epoch : [1] Train Loss : [4.84063] Val MAE : [6.16796]\n",
      "Epoch : [2] Train Loss : [4.65903] Val MAE : [6.05022]\n",
      "Epoch : [3] Train Loss : [4.42284] Val MAE : [5.83880]\n"
     ]
    }
   ],
   "source": [
    "# optimizer = torch.optim.Adam(params = model.parameters(), lr = CFG[\"LEARNING_RATE\"])\n",
    "# scheduler = torch.optim.lr_scheduler.ReduceLROnPlateau(optimizer, mode='max', factor=0.5, patience=4,threshold_mode='abs',min_lr=1e-8, verbose=True)\n",
    "# best_model = train(model, optimizer, train_loader, val_loader, scheduler, device) # 2018.01.01 ~ 2020.12.31 까지 데이터로 학습"
   ]
  },
  {
   "cell_type": "markdown",
   "id": "d11f7c81-e29f-41ac-ad9c-ab672f7465f1",
   "metadata": {},
   "source": [
    "## Inference"
   ]
  },
  {
   "cell_type": "code",
   "execution_count": 38,
   "id": "d16cbeef-44c1-4bb5-89c5-97062cf8440a",
   "metadata": {},
   "outputs": [],
   "source": [
    "test_df = pd.read_csv('./sample_submission.csv')"
   ]
  },
  {
   "cell_type": "code",
   "execution_count": 39,
   "id": "9b4cde82-08ca-4c0b-9430-7a6b8f879843",
   "metadata": {},
   "outputs": [
    {
     "data": {
      "text/html": [
       "<div>\n",
       "<style scoped>\n",
       "    .dataframe tbody tr th:only-of-type {\n",
       "        vertical-align: middle;\n",
       "    }\n",
       "\n",
       "    .dataframe tbody tr th {\n",
       "        vertical-align: top;\n",
       "    }\n",
       "\n",
       "    .dataframe thead th {\n",
       "        text-align: right;\n",
       "    }\n",
       "</style>\n",
       "<table border=\"1\" class=\"dataframe\">\n",
       "  <thead>\n",
       "    <tr style=\"text-align: right;\">\n",
       "      <th></th>\n",
       "      <th>광진구</th>\n",
       "      <th>동대문구</th>\n",
       "      <th>성동구</th>\n",
       "      <th>중랑구</th>\n",
       "    </tr>\n",
       "  </thead>\n",
       "  <tbody>\n",
       "    <tr>\n",
       "      <th>0</th>\n",
       "      <td>3.898</td>\n",
       "      <td>3.476</td>\n",
       "      <td>3.648</td>\n",
       "      <td>2.306</td>\n",
       "    </tr>\n",
       "    <tr>\n",
       "      <th>1</th>\n",
       "      <td>3.124</td>\n",
       "      <td>2.796</td>\n",
       "      <td>2.606</td>\n",
       "      <td>1.708</td>\n",
       "    </tr>\n",
       "    <tr>\n",
       "      <th>2</th>\n",
       "      <td>3.026</td>\n",
       "      <td>2.710</td>\n",
       "      <td>2.672</td>\n",
       "      <td>1.688</td>\n",
       "    </tr>\n",
       "    <tr>\n",
       "      <th>3</th>\n",
       "      <td>2.060</td>\n",
       "      <td>1.820</td>\n",
       "      <td>1.976</td>\n",
       "      <td>1.082</td>\n",
       "    </tr>\n",
       "    <tr>\n",
       "      <th>4</th>\n",
       "      <td>3.858</td>\n",
       "      <td>3.260</td>\n",
       "      <td>3.298</td>\n",
       "      <td>2.224</td>\n",
       "    </tr>\n",
       "    <tr>\n",
       "      <th>...</th>\n",
       "      <td>...</td>\n",
       "      <td>...</td>\n",
       "      <td>...</td>\n",
       "      <td>...</td>\n",
       "    </tr>\n",
       "    <tr>\n",
       "      <th>663</th>\n",
       "      <td>0.000</td>\n",
       "      <td>0.000</td>\n",
       "      <td>0.000</td>\n",
       "      <td>0.000</td>\n",
       "    </tr>\n",
       "    <tr>\n",
       "      <th>664</th>\n",
       "      <td>0.000</td>\n",
       "      <td>0.000</td>\n",
       "      <td>0.000</td>\n",
       "      <td>0.000</td>\n",
       "    </tr>\n",
       "    <tr>\n",
       "      <th>665</th>\n",
       "      <td>0.000</td>\n",
       "      <td>0.000</td>\n",
       "      <td>0.000</td>\n",
       "      <td>0.000</td>\n",
       "    </tr>\n",
       "    <tr>\n",
       "      <th>666</th>\n",
       "      <td>0.000</td>\n",
       "      <td>0.000</td>\n",
       "      <td>0.000</td>\n",
       "      <td>0.000</td>\n",
       "    </tr>\n",
       "    <tr>\n",
       "      <th>667</th>\n",
       "      <td>0.000</td>\n",
       "      <td>0.000</td>\n",
       "      <td>0.000</td>\n",
       "      <td>0.000</td>\n",
       "    </tr>\n",
       "  </tbody>\n",
       "</table>\n",
       "<p>668 rows × 4 columns</p>\n",
       "</div>"
      ],
      "text/plain": [
       "       광진구   동대문구    성동구    중랑구\n",
       "0    3.898  3.476  3.648  2.306\n",
       "1    3.124  2.796  2.606  1.708\n",
       "2    3.026  2.710  2.672  1.688\n",
       "3    2.060  1.820  1.976  1.082\n",
       "4    3.858  3.260  3.298  2.224\n",
       "..     ...    ...    ...    ...\n",
       "663  0.000  0.000  0.000  0.000\n",
       "664  0.000  0.000  0.000  0.000\n",
       "665  0.000  0.000  0.000  0.000\n",
       "666  0.000  0.000  0.000  0.000\n",
       "667  0.000  0.000  0.000  0.000\n",
       "\n",
       "[668 rows x 4 columns]"
      ]
     },
     "execution_count": 39,
     "metadata": {},
     "output_type": "execute_result"
    }
   ],
   "source": [
    "test_df = make_ymd_feature(test_df)\n",
    "test_df = pd.concat([val_df[CFG['X_RANGE']*(-1):], test_df]).reset_index().drop(columns='index')\n",
    "test_df"
   ]
  },
  {
   "cell_type": "code",
   "execution_count": 28,
   "id": "ff59ba79",
   "metadata": {},
   "outputs": [
    {
     "data": {
      "text/plain": [
       "7843"
      ]
     },
     "execution_count": 28,
     "metadata": {},
     "output_type": "execute_result"
    }
   ],
   "source": [
    "342*23-23"
   ]
  },
  {
   "cell_type": "code",
   "execution_count": 29,
   "id": "911fe411",
   "metadata": {},
   "outputs": [],
   "source": [
    "# test_df = pd.DataFrame(columns=['광진구', '동대문구', '성동구', '중랑구'],index=range(342*23-23))\n",
    "# test_df = pd.concat([val_df[CFG['X_RANGE']*(-1):], test_df]).reset_index().drop(columns='index')\n",
    "# test_df = test_df.fillna(0)\n",
    "# test_df"
   ]
  },
  {
   "cell_type": "code",
   "execution_count": 30,
   "id": "5f57bdf8-7c78-48df-b127-b5d6896e0999",
   "metadata": {},
   "outputs": [],
   "source": [
    "def inference(model, df, device):\n",
    "    model.to(device)\n",
    "    model.eval()\n",
    "    for i in tqdm(range(CFG['X_RANGE'], len(df))):\n",
    "        X = torch.Tensor(np.array(df.loc[i-CFG['X_RANGE']:i-1, ['광진구', '동대문구', '성동구', '중랑구']]).astype(float)).unsqueeze(0)\n",
    "        X = X.to(device)\n",
    "        with torch.no_grad():\n",
    "            model_pred = model(X)[0]\n",
    "        \n",
    "        model_pred = model_pred.cpu().numpy()\n",
    "        df.loc[i, ['광진구', '동대문구', '성동구', '중랑구']] = model_pred\n",
    "    return df.loc[CFG['X_RANGE']:, ['광진구', '동대문구', '성동구', '중랑구']].reset_index().drop(columns=['index'])"
   ]
  },
  {
   "cell_type": "code",
   "execution_count": 31,
   "id": "d5dd09bc-274f-4802-8ec8-878542ebfb19",
   "metadata": {},
   "outputs": [
    {
     "data": {
      "application/vnd.jupyter.widget-view+json": {
       "model_id": "53adea3a735d4bb389954e95f1e7ca8b",
       "version_major": 2,
       "version_minor": 0
      },
      "text/plain": [
       "  0%|          | 0/334 [00:00<?, ?it/s]"
      ]
     },
     "metadata": {},
     "output_type": "display_data"
    },
    {
     "data": {
      "text/html": [
       "<div>\n",
       "<style scoped>\n",
       "    .dataframe tbody tr th:only-of-type {\n",
       "        vertical-align: middle;\n",
       "    }\n",
       "\n",
       "    .dataframe tbody tr th {\n",
       "        vertical-align: top;\n",
       "    }\n",
       "\n",
       "    .dataframe thead th {\n",
       "        text-align: right;\n",
       "    }\n",
       "</style>\n",
       "<table border=\"1\" class=\"dataframe\">\n",
       "  <thead>\n",
       "    <tr style=\"text-align: right;\">\n",
       "      <th></th>\n",
       "      <th>광진구</th>\n",
       "      <th>동대문구</th>\n",
       "      <th>성동구</th>\n",
       "      <th>중랑구</th>\n",
       "    </tr>\n",
       "  </thead>\n",
       "  <tbody>\n",
       "    <tr>\n",
       "      <th>0</th>\n",
       "      <td>0.299507</td>\n",
       "      <td>0.304520</td>\n",
       "      <td>0.407813</td>\n",
       "      <td>0.353248</td>\n",
       "    </tr>\n",
       "    <tr>\n",
       "      <th>1</th>\n",
       "      <td>0.299442</td>\n",
       "      <td>0.304472</td>\n",
       "      <td>0.407880</td>\n",
       "      <td>0.353263</td>\n",
       "    </tr>\n",
       "    <tr>\n",
       "      <th>2</th>\n",
       "      <td>0.299370</td>\n",
       "      <td>0.304418</td>\n",
       "      <td>0.407952</td>\n",
       "      <td>0.353278</td>\n",
       "    </tr>\n",
       "    <tr>\n",
       "      <th>3</th>\n",
       "      <td>0.299291</td>\n",
       "      <td>0.304358</td>\n",
       "      <td>0.408031</td>\n",
       "      <td>0.353295</td>\n",
       "    </tr>\n",
       "    <tr>\n",
       "      <th>4</th>\n",
       "      <td>0.299199</td>\n",
       "      <td>0.304289</td>\n",
       "      <td>0.408121</td>\n",
       "      <td>0.353313</td>\n",
       "    </tr>\n",
       "    <tr>\n",
       "      <th>...</th>\n",
       "      <td>...</td>\n",
       "      <td>...</td>\n",
       "      <td>...</td>\n",
       "      <td>...</td>\n",
       "    </tr>\n",
       "    <tr>\n",
       "      <th>329</th>\n",
       "      <td>0.247292</td>\n",
       "      <td>0.274682</td>\n",
       "      <td>0.441019</td>\n",
       "      <td>0.360384</td>\n",
       "    </tr>\n",
       "    <tr>\n",
       "      <th>330</th>\n",
       "      <td>0.247292</td>\n",
       "      <td>0.274682</td>\n",
       "      <td>0.441019</td>\n",
       "      <td>0.360384</td>\n",
       "    </tr>\n",
       "    <tr>\n",
       "      <th>331</th>\n",
       "      <td>0.247292</td>\n",
       "      <td>0.274682</td>\n",
       "      <td>0.441019</td>\n",
       "      <td>0.360384</td>\n",
       "    </tr>\n",
       "    <tr>\n",
       "      <th>332</th>\n",
       "      <td>0.247292</td>\n",
       "      <td>0.274682</td>\n",
       "      <td>0.441019</td>\n",
       "      <td>0.360384</td>\n",
       "    </tr>\n",
       "    <tr>\n",
       "      <th>333</th>\n",
       "      <td>0.247292</td>\n",
       "      <td>0.274682</td>\n",
       "      <td>0.441019</td>\n",
       "      <td>0.360384</td>\n",
       "    </tr>\n",
       "  </tbody>\n",
       "</table>\n",
       "<p>334 rows × 4 columns</p>\n",
       "</div>"
      ],
      "text/plain": [
       "          광진구      동대문구       성동구       중랑구\n",
       "0    0.299507  0.304520  0.407813  0.353248\n",
       "1    0.299442  0.304472  0.407880  0.353263\n",
       "2    0.299370  0.304418  0.407952  0.353278\n",
       "3    0.299291  0.304358  0.408031  0.353295\n",
       "4    0.299199  0.304289  0.408121  0.353313\n",
       "..        ...       ...       ...       ...\n",
       "329  0.247292  0.274682  0.441019  0.360384\n",
       "330  0.247292  0.274682  0.441019  0.360384\n",
       "331  0.247292  0.274682  0.441019  0.360384\n",
       "332  0.247292  0.274682  0.441019  0.360384\n",
       "333  0.247292  0.274682  0.441019  0.360384\n",
       "\n",
       "[334 rows x 4 columns]"
      ]
     },
     "execution_count": 31,
     "metadata": {},
     "output_type": "execute_result"
    }
   ],
   "source": [
    "preds = inference(best_model, test_df, device)\n",
    "preds"
   ]
  },
  {
   "cell_type": "markdown",
   "id": "b35a1035-0e28-48c2-b882-f7ce4da214fa",
   "metadata": {},
   "source": [
    "## Submission"
   ]
  },
  {
   "cell_type": "code",
   "execution_count": 33,
   "id": "f7eea39d-8f59-4a45-9dd7-af447d6afb80",
   "metadata": {},
   "outputs": [
    {
     "data": {
      "text/html": [
       "<div>\n",
       "<style scoped>\n",
       "    .dataframe tbody tr th:only-of-type {\n",
       "        vertical-align: middle;\n",
       "    }\n",
       "\n",
       "    .dataframe tbody tr th {\n",
       "        vertical-align: top;\n",
       "    }\n",
       "\n",
       "    .dataframe thead th {\n",
       "        text-align: right;\n",
       "    }\n",
       "</style>\n",
       "<table border=\"1\" class=\"dataframe\">\n",
       "  <thead>\n",
       "    <tr style=\"text-align: right;\">\n",
       "      <th></th>\n",
       "      <th>일시</th>\n",
       "      <th>광진구</th>\n",
       "      <th>동대문구</th>\n",
       "      <th>성동구</th>\n",
       "      <th>중랑구</th>\n",
       "    </tr>\n",
       "  </thead>\n",
       "  <tbody>\n",
       "    <tr>\n",
       "      <th>0</th>\n",
       "      <td>20220101</td>\n",
       "      <td>0</td>\n",
       "      <td>0</td>\n",
       "      <td>0</td>\n",
       "      <td>0</td>\n",
       "    </tr>\n",
       "    <tr>\n",
       "      <th>1</th>\n",
       "      <td>20220102</td>\n",
       "      <td>0</td>\n",
       "      <td>0</td>\n",
       "      <td>0</td>\n",
       "      <td>0</td>\n",
       "    </tr>\n",
       "    <tr>\n",
       "      <th>2</th>\n",
       "      <td>20220103</td>\n",
       "      <td>0</td>\n",
       "      <td>0</td>\n",
       "      <td>0</td>\n",
       "      <td>0</td>\n",
       "    </tr>\n",
       "    <tr>\n",
       "      <th>3</th>\n",
       "      <td>20220104</td>\n",
       "      <td>0</td>\n",
       "      <td>0</td>\n",
       "      <td>0</td>\n",
       "      <td>0</td>\n",
       "    </tr>\n",
       "    <tr>\n",
       "      <th>4</th>\n",
       "      <td>20220105</td>\n",
       "      <td>0</td>\n",
       "      <td>0</td>\n",
       "      <td>0</td>\n",
       "      <td>0</td>\n",
       "    </tr>\n",
       "  </tbody>\n",
       "</table>\n",
       "</div>"
      ],
      "text/plain": [
       "         일시  광진구  동대문구  성동구  중랑구\n",
       "0  20220101    0     0    0    0\n",
       "1  20220102    0     0    0    0\n",
       "2  20220103    0     0    0    0\n",
       "3  20220104    0     0    0    0\n",
       "4  20220105    0     0    0    0"
      ]
     },
     "execution_count": 33,
     "metadata": {},
     "output_type": "execute_result"
    }
   ],
   "source": [
    "submit = pd.read_csv('./sample_submission.csv')\n",
    "submit.head()\n",
    "# submission 을 *23 으로 늘린 후  해당위치값만 다시 submission"
   ]
  },
  {
   "cell_type": "code",
   "execution_count": 34,
   "id": "b6ea90cc-159a-431f-9baf-f53a9d38e892",
   "metadata": {},
   "outputs": [],
   "source": [
    "submit['광진구'] = preds['광진구']\n",
    "submit['동대문구'] = preds['동대문구']\n",
    "submit['성동구'] = preds['성동구']\n",
    "submit['중랑구'] = preds['중랑구']"
   ]
  },
  {
   "cell_type": "code",
   "execution_count": 35,
   "id": "522ecb41-3aa0-4382-928a-1d6948ae4a26",
   "metadata": {},
   "outputs": [],
   "source": [
    "# submit.to_csv('./submit2.csv', index=False)"
   ]
  },
  {
   "cell_type": "code",
   "execution_count": 36,
   "id": "cdbbfa16",
   "metadata": {},
   "outputs": [],
   "source": [
    "# preds.head(500)"
   ]
  },
  {
   "cell_type": "code",
   "execution_count": 37,
   "id": "098e8551",
   "metadata": {},
   "outputs": [
    {
     "data": {
      "text/html": [
       "<div>\n",
       "<style scoped>\n",
       "    .dataframe tbody tr th:only-of-type {\n",
       "        vertical-align: middle;\n",
       "    }\n",
       "\n",
       "    .dataframe tbody tr th {\n",
       "        vertical-align: top;\n",
       "    }\n",
       "\n",
       "    .dataframe thead th {\n",
       "        text-align: right;\n",
       "    }\n",
       "</style>\n",
       "<table border=\"1\" class=\"dataframe\">\n",
       "  <thead>\n",
       "    <tr style=\"text-align: right;\">\n",
       "      <th></th>\n",
       "      <th>일시</th>\n",
       "      <th>광진구</th>\n",
       "      <th>동대문구</th>\n",
       "      <th>성동구</th>\n",
       "      <th>중랑구</th>\n",
       "    </tr>\n",
       "  </thead>\n",
       "  <tbody>\n",
       "    <tr>\n",
       "      <th>0</th>\n",
       "      <td>20220101</td>\n",
       "      <td>0.299507</td>\n",
       "      <td>0.304520</td>\n",
       "      <td>0.407813</td>\n",
       "      <td>0.353248</td>\n",
       "    </tr>\n",
       "    <tr>\n",
       "      <th>1</th>\n",
       "      <td>20220102</td>\n",
       "      <td>0.299442</td>\n",
       "      <td>0.304472</td>\n",
       "      <td>0.407880</td>\n",
       "      <td>0.353263</td>\n",
       "    </tr>\n",
       "    <tr>\n",
       "      <th>2</th>\n",
       "      <td>20220103</td>\n",
       "      <td>0.299370</td>\n",
       "      <td>0.304418</td>\n",
       "      <td>0.407952</td>\n",
       "      <td>0.353278</td>\n",
       "    </tr>\n",
       "    <tr>\n",
       "      <th>3</th>\n",
       "      <td>20220104</td>\n",
       "      <td>0.299291</td>\n",
       "      <td>0.304358</td>\n",
       "      <td>0.408031</td>\n",
       "      <td>0.353295</td>\n",
       "    </tr>\n",
       "    <tr>\n",
       "      <th>4</th>\n",
       "      <td>20220105</td>\n",
       "      <td>0.299199</td>\n",
       "      <td>0.304289</td>\n",
       "      <td>0.408121</td>\n",
       "      <td>0.353313</td>\n",
       "    </tr>\n",
       "    <tr>\n",
       "      <th>...</th>\n",
       "      <td>...</td>\n",
       "      <td>...</td>\n",
       "      <td>...</td>\n",
       "      <td>...</td>\n",
       "      <td>...</td>\n",
       "    </tr>\n",
       "    <tr>\n",
       "      <th>329</th>\n",
       "      <td>20221126</td>\n",
       "      <td>0.247292</td>\n",
       "      <td>0.274682</td>\n",
       "      <td>0.441019</td>\n",
       "      <td>0.360384</td>\n",
       "    </tr>\n",
       "    <tr>\n",
       "      <th>330</th>\n",
       "      <td>20221127</td>\n",
       "      <td>0.247292</td>\n",
       "      <td>0.274682</td>\n",
       "      <td>0.441019</td>\n",
       "      <td>0.360384</td>\n",
       "    </tr>\n",
       "    <tr>\n",
       "      <th>331</th>\n",
       "      <td>20221128</td>\n",
       "      <td>0.247292</td>\n",
       "      <td>0.274682</td>\n",
       "      <td>0.441019</td>\n",
       "      <td>0.360384</td>\n",
       "    </tr>\n",
       "    <tr>\n",
       "      <th>332</th>\n",
       "      <td>20221129</td>\n",
       "      <td>0.247292</td>\n",
       "      <td>0.274682</td>\n",
       "      <td>0.441019</td>\n",
       "      <td>0.360384</td>\n",
       "    </tr>\n",
       "    <tr>\n",
       "      <th>333</th>\n",
       "      <td>20221130</td>\n",
       "      <td>0.247292</td>\n",
       "      <td>0.274682</td>\n",
       "      <td>0.441019</td>\n",
       "      <td>0.360384</td>\n",
       "    </tr>\n",
       "  </tbody>\n",
       "</table>\n",
       "<p>334 rows × 5 columns</p>\n",
       "</div>"
      ],
      "text/plain": [
       "           일시       광진구      동대문구       성동구       중랑구\n",
       "0    20220101  0.299507  0.304520  0.407813  0.353248\n",
       "1    20220102  0.299442  0.304472  0.407880  0.353263\n",
       "2    20220103  0.299370  0.304418  0.407952  0.353278\n",
       "3    20220104  0.299291  0.304358  0.408031  0.353295\n",
       "4    20220105  0.299199  0.304289  0.408121  0.353313\n",
       "..        ...       ...       ...       ...       ...\n",
       "329  20221126  0.247292  0.274682  0.441019  0.360384\n",
       "330  20221127  0.247292  0.274682  0.441019  0.360384\n",
       "331  20221128  0.247292  0.274682  0.441019  0.360384\n",
       "332  20221129  0.247292  0.274682  0.441019  0.360384\n",
       "333  20221130  0.247292  0.274682  0.441019  0.360384\n",
       "\n",
       "[334 rows x 5 columns]"
      ]
     },
     "execution_count": 37,
     "metadata": {},
     "output_type": "execute_result"
    }
   ],
   "source": [
    "submit"
   ]
  },
  {
   "cell_type": "code",
   "execution_count": null,
   "id": "313d5656",
   "metadata": {},
   "outputs": [],
   "source": []
  },
  {
   "cell_type": "code",
   "execution_count": null,
   "id": "36307630",
   "metadata": {},
   "outputs": [],
   "source": []
  },
  {
   "cell_type": "code",
   "execution_count": null,
   "id": "e40921e5",
   "metadata": {},
   "outputs": [],
   "source": []
  },
  {
   "cell_type": "code",
   "execution_count": 92,
   "id": "8faceb9e",
   "metadata": {},
   "outputs": [],
   "source": [
    "train_df = pd.read_csv('./train1.csv')\n",
    "train_df = train_df.loc[:,['광진구', '동대문구', '성동구', '중랑구']]\n",
    "train_df.to_csv('./train1.csv')"
   ]
  },
  {
   "cell_type": "code",
   "execution_count": 93,
   "id": "13b779ec",
   "metadata": {},
   "outputs": [],
   "source": [
    "CFG = {\n",
    "    'X_RANGE':10, # 예측하려는 시점을 X_RANGE 만큼의 이전 일자의 데이터로부터 예측 및 학습\n",
    "    'EPOCHS':30,\n",
    "    'LEARNING_RATE':1e-4,\n",
    "    'BATCH_SIZE':128,\n",
    "    'SEED':41\n",
    "}"
   ]
  },
  {
   "cell_type": "code",
   "execution_count": 95,
   "id": "f01ed621",
   "metadata": {
    "scrolled": true
   },
   "outputs": [
    {
     "data": {
      "application/vnd.jupyter.widget-view+json": {
       "model_id": "77f091effad04bf399697b604ccf1624",
       "version_major": 2,
       "version_minor": 0
      },
      "text/plain": [
       "  0%|          | 0/1410 [00:00<?, ?it/s]"
      ]
     },
     "metadata": {},
     "output_type": "display_data"
    },
    {
     "data": {
      "application/vnd.jupyter.widget-view+json": {
       "model_id": "51565a4d142340c791a3e15a557232f7",
       "version_major": 2,
       "version_minor": 0
      },
      "text/plain": [
       "  0%|          | 0/158 [00:00<?, ?it/s]"
      ]
     },
     "metadata": {},
     "output_type": "display_data"
    },
    {
     "name": "stdout",
     "output_type": "stream",
     "text": [
      "Epoch : [1] Train Loss : [4.94201] Val MAE : [2.88596]\n",
      "Epoch : [2] Train Loss : [4.48912] Val MAE : [2.92945]\n",
      "Epoch : [3] Train Loss : [4.36429] Val MAE : [2.92877]\n",
      "Epoch : [4] Train Loss : [4.41790] Val MAE : [2.93920]\n",
      "Epoch : [5] Train Loss : [4.30355] Val MAE : [2.92737]\n",
      "Epoch : [6] Train Loss : [4.40072] Val MAE : [2.89997]\n",
      "Epoch : [7] Train Loss : [4.20651] Val MAE : [2.92887]\n",
      "Epoch : [8] Train Loss : [4.42745] Val MAE : [2.88154]\n",
      "Epoch : [9] Train Loss : [4.09788] Val MAE : [2.85464]\n",
      "Epoch 00009: reducing learning rate of group 0 to 5.0000e-05.\n",
      "Epoch : [10] Train Loss : [4.29529] Val MAE : [2.83288]\n",
      "Epoch : [11] Train Loss : [4.23340] Val MAE : [2.78185]\n",
      "Epoch : [12] Train Loss : [4.13152] Val MAE : [2.77519]\n",
      "Epoch : [13] Train Loss : [4.25645] Val MAE : [2.73848]\n",
      "Epoch : [14] Train Loss : [4.52942] Val MAE : [2.72936]\n",
      "Epoch 00014: reducing learning rate of group 0 to 2.5000e-05.\n",
      "Epoch : [15] Train Loss : [4.26438] Val MAE : [2.76452]\n",
      "Epoch : [16] Train Loss : [4.66101] Val MAE : [2.77702]\n",
      "Epoch : [17] Train Loss : [4.16357] Val MAE : [2.75562]\n",
      "Epoch : [18] Train Loss : [4.26942] Val MAE : [2.75375]\n",
      "Epoch : [19] Train Loss : [4.32596] Val MAE : [2.69987]\n",
      "Epoch 00019: reducing learning rate of group 0 to 1.2500e-05.\n",
      "Epoch : [20] Train Loss : [4.19409] Val MAE : [2.74811]\n",
      "Epoch : [21] Train Loss : [4.45674] Val MAE : [2.68778]\n",
      "Epoch : [22] Train Loss : [4.05030] Val MAE : [2.73708]\n",
      "Epoch : [23] Train Loss : [4.21397] Val MAE : [2.74214]\n",
      "Epoch : [24] Train Loss : [4.40740] Val MAE : [2.73644]\n",
      "Epoch 00024: reducing learning rate of group 0 to 6.2500e-06.\n",
      "Epoch : [25] Train Loss : [4.42070] Val MAE : [2.72839]\n",
      "Epoch : [26] Train Loss : [4.37150] Val MAE : [2.73320]\n",
      "Epoch : [27] Train Loss : [4.14498] Val MAE : [2.72789]\n",
      "Epoch : [28] Train Loss : [4.10859] Val MAE : [2.75494]\n",
      "Epoch : [29] Train Loss : [4.34262] Val MAE : [2.70932]\n",
      "Epoch 00029: reducing learning rate of group 0 to 3.1250e-06.\n",
      "Epoch : [30] Train Loss : [4.01326] Val MAE : [2.69783]\n"
     ]
    },
    {
     "data": {
      "application/vnd.jupyter.widget-view+json": {
       "model_id": "c761f2765cbe45a5859a0236c65b6ea3",
       "version_major": 2,
       "version_minor": 0
      },
      "text/plain": [
       "  0%|          | 0/658 [00:00<?, ?it/s]"
      ]
     },
     "metadata": {},
     "output_type": "display_data"
    },
    {
     "data": {
      "application/vnd.jupyter.widget-view+json": {
       "model_id": "bee6eda5e22243f89321a5fac27fd8be",
       "version_major": 2,
       "version_minor": 0
      },
      "text/plain": [
       "  0%|          | 0/1411 [00:00<?, ?it/s]"
      ]
     },
     "metadata": {},
     "output_type": "display_data"
    },
    {
     "data": {
      "application/vnd.jupyter.widget-view+json": {
       "model_id": "9dcb6a5d33d24b46970ff26ac0385d21",
       "version_major": 2,
       "version_minor": 0
      },
      "text/plain": [
       "  0%|          | 0/158 [00:00<?, ?it/s]"
      ]
     },
     "metadata": {},
     "output_type": "display_data"
    },
    {
     "name": "stdout",
     "output_type": "stream",
     "text": [
      "Epoch : [1] Train Loss : [4.74038] Val MAE : [2.73938]\n",
      "Epoch : [2] Train Loss : [4.60245] Val MAE : [2.74204]\n",
      "Epoch : [3] Train Loss : [4.72195] Val MAE : [2.79535]\n",
      "Epoch : [4] Train Loss : [4.68912] Val MAE : [2.85197]\n",
      "Epoch : [5] Train Loss : [4.49781] Val MAE : [2.87528]\n",
      "Epoch : [6] Train Loss : [4.73163] Val MAE : [2.86798]\n",
      "Epoch : [7] Train Loss : [4.99587] Val MAE : [2.83913]\n",
      "Epoch : [8] Train Loss : [4.65480] Val MAE : [2.80953]\n",
      "Epoch : [9] Train Loss : [4.46704] Val MAE : [2.74264]\n",
      "Epoch : [10] Train Loss : [4.53134] Val MAE : [2.61032]\n",
      "Epoch 00010: reducing learning rate of group 0 to 5.0000e-05.\n",
      "Epoch : [11] Train Loss : [4.45111] Val MAE : [2.72626]\n",
      "Epoch : [12] Train Loss : [4.30704] Val MAE : [2.74580]\n",
      "Epoch : [13] Train Loss : [4.57537] Val MAE : [2.72610]\n",
      "Epoch : [14] Train Loss : [4.50906] Val MAE : [2.72587]\n",
      "Epoch : [15] Train Loss : [4.37763] Val MAE : [2.69892]\n",
      "Epoch 00015: reducing learning rate of group 0 to 2.5000e-05.\n",
      "Epoch : [16] Train Loss : [4.31700] Val MAE : [2.68776]\n",
      "Epoch : [17] Train Loss : [4.77061] Val MAE : [2.71796]\n",
      "Epoch : [18] Train Loss : [4.16066] Val MAE : [2.68088]\n",
      "Epoch : [19] Train Loss : [4.19293] Val MAE : [2.69086]\n",
      "Epoch : [20] Train Loss : [4.44397] Val MAE : [2.68890]\n",
      "Epoch 00020: reducing learning rate of group 0 to 1.2500e-05.\n",
      "Epoch : [21] Train Loss : [4.25513] Val MAE : [2.69086]\n",
      "Epoch : [22] Train Loss : [4.42555] Val MAE : [2.69878]\n",
      "Epoch : [23] Train Loss : [4.28022] Val MAE : [2.67707]\n",
      "Epoch : [24] Train Loss : [4.27427] Val MAE : [2.70818]\n",
      "Epoch : [25] Train Loss : [4.25643] Val MAE : [2.69128]\n",
      "Epoch 00025: reducing learning rate of group 0 to 6.2500e-06.\n",
      "Epoch : [26] Train Loss : [4.28077] Val MAE : [2.68993]\n",
      "Epoch : [27] Train Loss : [4.26560] Val MAE : [2.70222]\n",
      "Epoch : [28] Train Loss : [4.22092] Val MAE : [2.68442]\n",
      "Epoch : [29] Train Loss : [4.08254] Val MAE : [2.70877]\n",
      "Epoch : [30] Train Loss : [4.15398] Val MAE : [2.68573]\n",
      "Epoch 00030: reducing learning rate of group 0 to 3.1250e-06.\n"
     ]
    },
    {
     "data": {
      "application/vnd.jupyter.widget-view+json": {
       "model_id": "6b8f164cbb114c64af44ba0cec1d2953",
       "version_major": 2,
       "version_minor": 0
      },
      "text/plain": [
       "  0%|          | 0/658 [00:00<?, ?it/s]"
      ]
     },
     "metadata": {},
     "output_type": "display_data"
    },
    {
     "data": {
      "application/vnd.jupyter.widget-view+json": {
       "model_id": "4d9bdd0404f146e595a6f09b50d8b552",
       "version_major": 2,
       "version_minor": 0
      },
      "text/plain": [
       "  0%|          | 0/1412 [00:00<?, ?it/s]"
      ]
     },
     "metadata": {},
     "output_type": "display_data"
    },
    {
     "data": {
      "application/vnd.jupyter.widget-view+json": {
       "model_id": "30a6b1b57f55465d8a72eb5029de8afb",
       "version_major": 2,
       "version_minor": 0
      },
      "text/plain": [
       "  0%|          | 0/158 [00:00<?, ?it/s]"
      ]
     },
     "metadata": {},
     "output_type": "display_data"
    },
    {
     "name": "stdout",
     "output_type": "stream",
     "text": [
      "Epoch : [1] Train Loss : [4.53056] Val MAE : [2.76278]\n",
      "Epoch : [2] Train Loss : [4.70888] Val MAE : [2.74499]\n",
      "Epoch : [3] Train Loss : [4.55367] Val MAE : [2.72353]\n",
      "Epoch : [4] Train Loss : [4.42207] Val MAE : [2.65702]\n",
      "Epoch : [5] Train Loss : [4.69733] Val MAE : [2.61572]\n",
      "Epoch : [6] Train Loss : [4.58857] Val MAE : [2.59374]\n",
      "Epoch 00006: reducing learning rate of group 0 to 5.0000e-05.\n",
      "Epoch : [7] Train Loss : [4.75893] Val MAE : [2.60894]\n",
      "Epoch : [8] Train Loss : [4.55917] Val MAE : [2.53745]\n",
      "Epoch : [9] Train Loss : [4.18852] Val MAE : [2.52437]\n",
      "Epoch : [10] Train Loss : [4.38630] Val MAE : [2.48155]\n",
      "Epoch : [11] Train Loss : [4.53598] Val MAE : [2.50589]\n",
      "Epoch 00011: reducing learning rate of group 0 to 2.5000e-05.\n",
      "Epoch : [12] Train Loss : [4.39649] Val MAE : [2.48517]\n",
      "Epoch : [13] Train Loss : [4.43346] Val MAE : [2.50706]\n",
      "Epoch : [14] Train Loss : [4.45840] Val MAE : [2.53209]\n",
      "Epoch : [15] Train Loss : [4.39037] Val MAE : [2.53236]\n",
      "Epoch : [16] Train Loss : [4.30195] Val MAE : [2.48851]\n",
      "Epoch 00016: reducing learning rate of group 0 to 1.2500e-05.\n",
      "Epoch : [17] Train Loss : [4.28814] Val MAE : [2.51915]\n",
      "Epoch : [18] Train Loss : [4.31116] Val MAE : [2.51373]\n",
      "Epoch : [19] Train Loss : [4.47209] Val MAE : [2.52847]\n",
      "Epoch : [20] Train Loss : [4.26389] Val MAE : [2.54870]\n",
      "Epoch : [21] Train Loss : [4.40357] Val MAE : [2.54064]\n",
      "Epoch 00021: reducing learning rate of group 0 to 6.2500e-06.\n",
      "Epoch : [22] Train Loss : [4.33901] Val MAE : [2.50913]\n",
      "Epoch : [23] Train Loss : [4.29121] Val MAE : [2.53391]\n",
      "Epoch : [24] Train Loss : [4.24867] Val MAE : [2.51727]\n",
      "Epoch : [25] Train Loss : [4.25648] Val MAE : [2.55362]\n",
      "Epoch : [26] Train Loss : [4.30014] Val MAE : [2.55526]\n",
      "Epoch 00026: reducing learning rate of group 0 to 3.1250e-06.\n",
      "Epoch : [27] Train Loss : [4.33657] Val MAE : [2.53686]\n",
      "Epoch : [28] Train Loss : [4.16246] Val MAE : [2.52708]\n",
      "Epoch : [29] Train Loss : [4.30440] Val MAE : [2.51493]\n",
      "Epoch : [30] Train Loss : [4.40961] Val MAE : [2.53352]\n"
     ]
    },
    {
     "data": {
      "application/vnd.jupyter.widget-view+json": {
       "model_id": "14bf60640e854547825a1405bc643c2b",
       "version_major": 2,
       "version_minor": 0
      },
      "text/plain": [
       "  0%|          | 0/658 [00:00<?, ?it/s]"
      ]
     },
     "metadata": {},
     "output_type": "display_data"
    },
    {
     "data": {
      "application/vnd.jupyter.widget-view+json": {
       "model_id": "7b37ed516fc446ba8f9f67e22801bd3d",
       "version_major": 2,
       "version_minor": 0
      },
      "text/plain": [
       "  0%|          | 0/1413 [00:00<?, ?it/s]"
      ]
     },
     "metadata": {},
     "output_type": "display_data"
    },
    {
     "data": {
      "application/vnd.jupyter.widget-view+json": {
       "model_id": "398bc69cb6034036ba42950c9156e2f2",
       "version_major": 2,
       "version_minor": 0
      },
      "text/plain": [
       "  0%|          | 0/158 [00:00<?, ?it/s]"
      ]
     },
     "metadata": {},
     "output_type": "display_data"
    },
    {
     "name": "stdout",
     "output_type": "stream",
     "text": [
      "Epoch : [1] Train Loss : [4.83451] Val MAE : [2.65284]\n",
      "Epoch : [2] Train Loss : [4.85774] Val MAE : [2.64124]\n",
      "Epoch : [3] Train Loss : [4.67987] Val MAE : [2.58319]\n",
      "Epoch : [4] Train Loss : [4.67552] Val MAE : [2.52783]\n",
      "Epoch : [5] Train Loss : [4.46102] Val MAE : [2.47551]\n",
      "Epoch : [6] Train Loss : [4.65526] Val MAE : [2.46719]\n",
      "Epoch 00006: reducing learning rate of group 0 to 5.0000e-05.\n",
      "Epoch : [7] Train Loss : [4.43702] Val MAE : [2.44934]\n",
      "Epoch : [8] Train Loss : [4.49267] Val MAE : [2.44123]\n",
      "Epoch : [9] Train Loss : [4.56715] Val MAE : [2.41963]\n",
      "Epoch : [10] Train Loss : [4.57543] Val MAE : [2.39179]\n",
      "Epoch : [11] Train Loss : [4.42538] Val MAE : [2.43775]\n",
      "Epoch 00011: reducing learning rate of group 0 to 2.5000e-05.\n",
      "Epoch : [12] Train Loss : [4.35121] Val MAE : [2.46353]\n",
      "Epoch : [13] Train Loss : [4.37033] Val MAE : [2.42267]\n",
      "Epoch : [14] Train Loss : [4.35225] Val MAE : [2.43283]\n",
      "Epoch : [15] Train Loss : [4.46034] Val MAE : [2.42848]\n",
      "Epoch : [16] Train Loss : [4.44661] Val MAE : [2.39875]\n",
      "Epoch 00016: reducing learning rate of group 0 to 1.2500e-05.\n",
      "Epoch : [17] Train Loss : [4.47808] Val MAE : [2.37250]\n",
      "Epoch : [18] Train Loss : [4.14092] Val MAE : [2.36186]\n",
      "Epoch : [19] Train Loss : [4.25217] Val MAE : [2.36076]\n",
      "Epoch : [20] Train Loss : [4.37261] Val MAE : [2.37440]\n",
      "Epoch : [21] Train Loss : [4.23812] Val MAE : [2.38233]\n",
      "Epoch 00021: reducing learning rate of group 0 to 6.2500e-06.\n",
      "Epoch : [22] Train Loss : [4.23674] Val MAE : [2.36205]\n"
     ]
    },
    {
     "ename": "KeyboardInterrupt",
     "evalue": "",
     "output_type": "error",
     "traceback": [
      "\u001b[0;31m---------------------------------------------------------------------------\u001b[0m",
      "\u001b[0;31mKeyboardInterrupt\u001b[0m                         Traceback (most recent call last)",
      "Input \u001b[0;32mIn [95]\u001b[0m, in \u001b[0;36m<cell line: 1>\u001b[0;34m()\u001b[0m\n\u001b[1;32m     20\u001b[0m optimizer \u001b[38;5;241m=\u001b[39m torch\u001b[38;5;241m.\u001b[39moptim\u001b[38;5;241m.\u001b[39mAdam(params \u001b[38;5;241m=\u001b[39m model\u001b[38;5;241m.\u001b[39mparameters(), lr \u001b[38;5;241m=\u001b[39m CFG[\u001b[38;5;124m\"\u001b[39m\u001b[38;5;124mLEARNING_RATE\u001b[39m\u001b[38;5;124m\"\u001b[39m])\n\u001b[1;32m     21\u001b[0m scheduler \u001b[38;5;241m=\u001b[39m torch\u001b[38;5;241m.\u001b[39moptim\u001b[38;5;241m.\u001b[39mlr_scheduler\u001b[38;5;241m.\u001b[39mReduceLROnPlateau(optimizer, mode\u001b[38;5;241m=\u001b[39m\u001b[38;5;124m'\u001b[39m\u001b[38;5;124mmax\u001b[39m\u001b[38;5;124m'\u001b[39m, factor\u001b[38;5;241m=\u001b[39m\u001b[38;5;241m0.5\u001b[39m, patience\u001b[38;5;241m=\u001b[39m\u001b[38;5;241m4\u001b[39m,threshold_mode\u001b[38;5;241m=\u001b[39m\u001b[38;5;124m'\u001b[39m\u001b[38;5;124mabs\u001b[39m\u001b[38;5;124m'\u001b[39m,min_lr\u001b[38;5;241m=\u001b[39m\u001b[38;5;241m1e-8\u001b[39m, verbose\u001b[38;5;241m=\u001b[39m\u001b[38;5;28;01mTrue\u001b[39;00m)\n\u001b[0;32m---> 22\u001b[0m best_model \u001b[38;5;241m=\u001b[39m \u001b[43mtrain\u001b[49m\u001b[43m(\u001b[49m\u001b[43mmodel\u001b[49m\u001b[43m,\u001b[49m\u001b[43m \u001b[49m\u001b[43moptimizer\u001b[49m\u001b[43m,\u001b[49m\u001b[43m \u001b[49m\u001b[43mtrain_loader\u001b[49m\u001b[43m,\u001b[49m\u001b[43m \u001b[49m\u001b[43mval_loader\u001b[49m\u001b[43m,\u001b[49m\u001b[43m \u001b[49m\u001b[43mscheduler\u001b[49m\u001b[43m,\u001b[49m\u001b[43m \u001b[49m\u001b[43mdevice\u001b[49m\u001b[43m)\u001b[49m \u001b[38;5;66;03m# 2018.01.01 ~ 2020.12.31 까지 데이터로 학습\u001b[39;00m\n\u001b[1;32m     24\u001b[0m preds \u001b[38;5;241m=\u001b[39m inference(best_model, test_df, device)\n\u001b[1;32m     25\u001b[0m train_df \u001b[38;5;241m=\u001b[39m pd\u001b[38;5;241m.\u001b[39mread_csv(\u001b[38;5;124m'\u001b[39m\u001b[38;5;124m./train1.csv\u001b[39m\u001b[38;5;124m'\u001b[39m)\n",
      "Input \u001b[0;32mIn [22]\u001b[0m, in \u001b[0;36mtrain\u001b[0;34m(model, optimizer, train_loader, val_loader, scheduler, device)\u001b[0m\n\u001b[1;32m     13\u001b[0m Y \u001b[38;5;241m=\u001b[39m Y\u001b[38;5;241m.\u001b[39mto(device)\n\u001b[1;32m     15\u001b[0m optimizer\u001b[38;5;241m.\u001b[39mzero_grad()\n\u001b[0;32m---> 17\u001b[0m output \u001b[38;5;241m=\u001b[39m \u001b[43mmodel\u001b[49m\u001b[43m(\u001b[49m\u001b[43mX\u001b[49m\u001b[43m)\u001b[49m\n\u001b[1;32m     18\u001b[0m loss \u001b[38;5;241m=\u001b[39m criterion(output, Y)\n\u001b[1;32m     20\u001b[0m loss\u001b[38;5;241m.\u001b[39mbackward()\n",
      "File \u001b[0;32m/opt/homebrew/lib/python3.9/site-packages/torch/nn/modules/module.py:1130\u001b[0m, in \u001b[0;36mModule._call_impl\u001b[0;34m(self, *input, **kwargs)\u001b[0m\n\u001b[1;32m   1126\u001b[0m \u001b[38;5;66;03m# If we don't have any hooks, we want to skip the rest of the logic in\u001b[39;00m\n\u001b[1;32m   1127\u001b[0m \u001b[38;5;66;03m# this function, and just call forward.\u001b[39;00m\n\u001b[1;32m   1128\u001b[0m \u001b[38;5;28;01mif\u001b[39;00m \u001b[38;5;129;01mnot\u001b[39;00m (\u001b[38;5;28mself\u001b[39m\u001b[38;5;241m.\u001b[39m_backward_hooks \u001b[38;5;129;01mor\u001b[39;00m \u001b[38;5;28mself\u001b[39m\u001b[38;5;241m.\u001b[39m_forward_hooks \u001b[38;5;129;01mor\u001b[39;00m \u001b[38;5;28mself\u001b[39m\u001b[38;5;241m.\u001b[39m_forward_pre_hooks \u001b[38;5;129;01mor\u001b[39;00m _global_backward_hooks\n\u001b[1;32m   1129\u001b[0m         \u001b[38;5;129;01mor\u001b[39;00m _global_forward_hooks \u001b[38;5;129;01mor\u001b[39;00m _global_forward_pre_hooks):\n\u001b[0;32m-> 1130\u001b[0m     \u001b[38;5;28;01mreturn\u001b[39;00m \u001b[43mforward_call\u001b[49m\u001b[43m(\u001b[49m\u001b[38;5;241;43m*\u001b[39;49m\u001b[38;5;28;43minput\u001b[39;49m\u001b[43m,\u001b[49m\u001b[43m \u001b[49m\u001b[38;5;241;43m*\u001b[39;49m\u001b[38;5;241;43m*\u001b[39;49m\u001b[43mkwargs\u001b[49m\u001b[43m)\u001b[49m\n\u001b[1;32m   1131\u001b[0m \u001b[38;5;66;03m# Do not call functions when jit is used\u001b[39;00m\n\u001b[1;32m   1132\u001b[0m full_backward_hooks, non_full_backward_hooks \u001b[38;5;241m=\u001b[39m [], []\n",
      "Input \u001b[0;32mIn [21]\u001b[0m, in \u001b[0;36mBaseModel.forward\u001b[0;34m(self, x)\u001b[0m\n\u001b[1;32m     19\u001b[0m \u001b[38;5;28;01mdef\u001b[39;00m \u001b[38;5;21mforward\u001b[39m(\u001b[38;5;28mself\u001b[39m, x):\n\u001b[0;32m---> 20\u001b[0m     hidden, _ \u001b[38;5;241m=\u001b[39m \u001b[38;5;28;43mself\u001b[39;49m\u001b[38;5;241;43m.\u001b[39;49m\u001b[43mlstm\u001b[49m\u001b[43m(\u001b[49m\u001b[43mx\u001b[49m\u001b[43m)\u001b[49m\n\u001b[1;32m     21\u001b[0m     output \u001b[38;5;241m=\u001b[39m \u001b[38;5;28mself\u001b[39m\u001b[38;5;241m.\u001b[39mmultioutput_reg(hidden[:,\u001b[38;5;241m-\u001b[39m\u001b[38;5;241m1\u001b[39m,:])\n\u001b[1;32m     22\u001b[0m     \u001b[38;5;28;01mreturn\u001b[39;00m output\n",
      "File \u001b[0;32m/opt/homebrew/lib/python3.9/site-packages/torch/nn/modules/module.py:1130\u001b[0m, in \u001b[0;36mModule._call_impl\u001b[0;34m(self, *input, **kwargs)\u001b[0m\n\u001b[1;32m   1126\u001b[0m \u001b[38;5;66;03m# If we don't have any hooks, we want to skip the rest of the logic in\u001b[39;00m\n\u001b[1;32m   1127\u001b[0m \u001b[38;5;66;03m# this function, and just call forward.\u001b[39;00m\n\u001b[1;32m   1128\u001b[0m \u001b[38;5;28;01mif\u001b[39;00m \u001b[38;5;129;01mnot\u001b[39;00m (\u001b[38;5;28mself\u001b[39m\u001b[38;5;241m.\u001b[39m_backward_hooks \u001b[38;5;129;01mor\u001b[39;00m \u001b[38;5;28mself\u001b[39m\u001b[38;5;241m.\u001b[39m_forward_hooks \u001b[38;5;129;01mor\u001b[39;00m \u001b[38;5;28mself\u001b[39m\u001b[38;5;241m.\u001b[39m_forward_pre_hooks \u001b[38;5;129;01mor\u001b[39;00m _global_backward_hooks\n\u001b[1;32m   1129\u001b[0m         \u001b[38;5;129;01mor\u001b[39;00m _global_forward_hooks \u001b[38;5;129;01mor\u001b[39;00m _global_forward_pre_hooks):\n\u001b[0;32m-> 1130\u001b[0m     \u001b[38;5;28;01mreturn\u001b[39;00m \u001b[43mforward_call\u001b[49m\u001b[43m(\u001b[49m\u001b[38;5;241;43m*\u001b[39;49m\u001b[38;5;28;43minput\u001b[39;49m\u001b[43m,\u001b[49m\u001b[43m \u001b[49m\u001b[38;5;241;43m*\u001b[39;49m\u001b[38;5;241;43m*\u001b[39;49m\u001b[43mkwargs\u001b[49m\u001b[43m)\u001b[49m\n\u001b[1;32m   1131\u001b[0m \u001b[38;5;66;03m# Do not call functions when jit is used\u001b[39;00m\n\u001b[1;32m   1132\u001b[0m full_backward_hooks, non_full_backward_hooks \u001b[38;5;241m=\u001b[39m [], []\n",
      "File \u001b[0;32m/opt/homebrew/lib/python3.9/site-packages/torch/nn/modules/rnn.py:769\u001b[0m, in \u001b[0;36mLSTM.forward\u001b[0;34m(self, input, hx)\u001b[0m\n\u001b[1;32m    767\u001b[0m \u001b[38;5;28mself\u001b[39m\u001b[38;5;241m.\u001b[39mcheck_forward_args(\u001b[38;5;28minput\u001b[39m, hx, batch_sizes)\n\u001b[1;32m    768\u001b[0m \u001b[38;5;28;01mif\u001b[39;00m batch_sizes \u001b[38;5;129;01mis\u001b[39;00m \u001b[38;5;28;01mNone\u001b[39;00m:\n\u001b[0;32m--> 769\u001b[0m     result \u001b[38;5;241m=\u001b[39m \u001b[43m_VF\u001b[49m\u001b[38;5;241;43m.\u001b[39;49m\u001b[43mlstm\u001b[49m\u001b[43m(\u001b[49m\u001b[38;5;28;43minput\u001b[39;49m\u001b[43m,\u001b[49m\u001b[43m \u001b[49m\u001b[43mhx\u001b[49m\u001b[43m,\u001b[49m\u001b[43m \u001b[49m\u001b[38;5;28;43mself\u001b[39;49m\u001b[38;5;241;43m.\u001b[39;49m\u001b[43m_flat_weights\u001b[49m\u001b[43m,\u001b[49m\u001b[43m \u001b[49m\u001b[38;5;28;43mself\u001b[39;49m\u001b[38;5;241;43m.\u001b[39;49m\u001b[43mbias\u001b[49m\u001b[43m,\u001b[49m\u001b[43m \u001b[49m\u001b[38;5;28;43mself\u001b[39;49m\u001b[38;5;241;43m.\u001b[39;49m\u001b[43mnum_layers\u001b[49m\u001b[43m,\u001b[49m\n\u001b[1;32m    770\u001b[0m \u001b[43m                      \u001b[49m\u001b[38;5;28;43mself\u001b[39;49m\u001b[38;5;241;43m.\u001b[39;49m\u001b[43mdropout\u001b[49m\u001b[43m,\u001b[49m\u001b[43m \u001b[49m\u001b[38;5;28;43mself\u001b[39;49m\u001b[38;5;241;43m.\u001b[39;49m\u001b[43mtraining\u001b[49m\u001b[43m,\u001b[49m\u001b[43m \u001b[49m\u001b[38;5;28;43mself\u001b[39;49m\u001b[38;5;241;43m.\u001b[39;49m\u001b[43mbidirectional\u001b[49m\u001b[43m,\u001b[49m\u001b[43m \u001b[49m\u001b[38;5;28;43mself\u001b[39;49m\u001b[38;5;241;43m.\u001b[39;49m\u001b[43mbatch_first\u001b[49m\u001b[43m)\u001b[49m\n\u001b[1;32m    771\u001b[0m \u001b[38;5;28;01melse\u001b[39;00m:\n\u001b[1;32m    772\u001b[0m     result \u001b[38;5;241m=\u001b[39m _VF\u001b[38;5;241m.\u001b[39mlstm(\u001b[38;5;28minput\u001b[39m, batch_sizes, hx, \u001b[38;5;28mself\u001b[39m\u001b[38;5;241m.\u001b[39m_flat_weights, \u001b[38;5;28mself\u001b[39m\u001b[38;5;241m.\u001b[39mbias,\n\u001b[1;32m    773\u001b[0m                       \u001b[38;5;28mself\u001b[39m\u001b[38;5;241m.\u001b[39mnum_layers, \u001b[38;5;28mself\u001b[39m\u001b[38;5;241m.\u001b[39mdropout, \u001b[38;5;28mself\u001b[39m\u001b[38;5;241m.\u001b[39mtraining, \u001b[38;5;28mself\u001b[39m\u001b[38;5;241m.\u001b[39mbidirectional)\n",
      "\u001b[0;31mKeyboardInterrupt\u001b[0m: "
     ]
    }
   ],
   "source": [
    "for _ in range(334):\n",
    "    train_df = pd.read_csv('./train1.csv')\n",
    "    train_df = train_df.drop('Unnamed: 0',axis=1)\n",
    "    val_df = train_df.iloc[int(len(train_df)*0.9)-CFG['X_RANGE']:].reset_index().drop(columns='index') # 20210101 ~ 20211231\n",
    "    train_df = train_df.iloc[:int(len(train_df)*0.9)+1].reset_index().drop(columns='index') # 20180101 ~ 20201231\n",
    "\n",
    "    train_df = make_ymd_feature(train_df)\n",
    "    val_df = make_ymd_feature(val_df)\n",
    "\n",
    "    train_x, train_y = get_x_y_data(train_df)\n",
    "    val_x, val_y = get_x_y_data(val_df)\n",
    "\n",
    "    train_dataset = CustomDataset(train_x, train_y)\n",
    "    train_loader = DataLoader(train_dataset, batch_size = CFG['BATCH_SIZE'], shuffle=True, num_workers=0)\n",
    "\n",
    "    val_dataset = CustomDataset(val_x, val_y)\n",
    "    val_loader = DataLoader(val_dataset, batch_size = CFG['BATCH_SIZE'], shuffle=False, num_workers=0)\n",
    "\n",
    "    model = BaseModel()\n",
    "    optimizer = torch.optim.Adam(params = model.parameters(), lr = CFG[\"LEARNING_RATE\"])\n",
    "    scheduler = torch.optim.lr_scheduler.ReduceLROnPlateau(optimizer, mode='max', factor=0.5, patience=4,threshold_mode='abs',min_lr=1e-8, verbose=True)\n",
    "    best_model = train(model, optimizer, train_loader, val_loader, scheduler, device) # 2018.01.01 ~ 2020.12.31 까지 데이터로 학습\n",
    "\n",
    "    preds = inference(best_model, test_df, device)\n",
    "    train_df = pd.read_csv('./train1.csv')\n",
    "    train_df = train_df.drop('Unnamed: 0',axis=1)\n",
    "    train_df = pd.concat([train_df,pd.DataFrame(preds.iloc[0,:]).transpose()])\n",
    "    train_df.to_csv('./train1.csv')"
   ]
  },
  {
   "cell_type": "code",
   "execution_count": 77,
   "id": "e971975a",
   "metadata": {},
   "outputs": [
    {
     "data": {
      "text/html": [
       "<div>\n",
       "<style scoped>\n",
       "    .dataframe tbody tr th:only-of-type {\n",
       "        vertical-align: middle;\n",
       "    }\n",
       "\n",
       "    .dataframe tbody tr th {\n",
       "        vertical-align: top;\n",
       "    }\n",
       "\n",
       "    .dataframe thead th {\n",
       "        text-align: right;\n",
       "    }\n",
       "</style>\n",
       "<table border=\"1\" class=\"dataframe\">\n",
       "  <thead>\n",
       "    <tr style=\"text-align: right;\">\n",
       "      <th></th>\n",
       "      <th>Unnamed: 0</th>\n",
       "      <th>광진구</th>\n",
       "      <th>동대문구</th>\n",
       "      <th>성동구</th>\n",
       "      <th>중랑구</th>\n",
       "    </tr>\n",
       "  </thead>\n",
       "  <tbody>\n",
       "    <tr>\n",
       "      <th>0</th>\n",
       "      <td>0</td>\n",
       "      <td>0.592000</td>\n",
       "      <td>0.368000</td>\n",
       "      <td>0.580000</td>\n",
       "      <td>0.162000</td>\n",
       "    </tr>\n",
       "    <tr>\n",
       "      <th>1</th>\n",
       "      <td>1</td>\n",
       "      <td>0.840000</td>\n",
       "      <td>0.614000</td>\n",
       "      <td>1.034000</td>\n",
       "      <td>0.260000</td>\n",
       "    </tr>\n",
       "    <tr>\n",
       "      <th>2</th>\n",
       "      <td>2</td>\n",
       "      <td>0.828000</td>\n",
       "      <td>0.576000</td>\n",
       "      <td>0.952000</td>\n",
       "      <td>0.288000</td>\n",
       "    </tr>\n",
       "    <tr>\n",
       "      <th>3</th>\n",
       "      <td>3</td>\n",
       "      <td>0.792000</td>\n",
       "      <td>0.542000</td>\n",
       "      <td>0.914000</td>\n",
       "      <td>0.292000</td>\n",
       "    </tr>\n",
       "    <tr>\n",
       "      <th>4</th>\n",
       "      <td>4</td>\n",
       "      <td>0.818000</td>\n",
       "      <td>0.602000</td>\n",
       "      <td>0.994000</td>\n",
       "      <td>0.308000</td>\n",
       "    </tr>\n",
       "    <tr>\n",
       "      <th>...</th>\n",
       "      <td>...</td>\n",
       "      <td>...</td>\n",
       "      <td>...</td>\n",
       "      <td>...</td>\n",
       "      <td>...</td>\n",
       "    </tr>\n",
       "    <tr>\n",
       "      <th>1459</th>\n",
       "      <td>1459</td>\n",
       "      <td>4.444000</td>\n",
       "      <td>3.574000</td>\n",
       "      <td>3.530000</td>\n",
       "      <td>2.506000</td>\n",
       "    </tr>\n",
       "    <tr>\n",
       "      <th>1460</th>\n",
       "      <td>1460</td>\n",
       "      <td>3.616000</td>\n",
       "      <td>3.210000</td>\n",
       "      <td>2.620000</td>\n",
       "      <td>2.146000</td>\n",
       "    </tr>\n",
       "    <tr>\n",
       "      <th>1461</th>\n",
       "      <td>1461</td>\n",
       "      <td>2.430299</td>\n",
       "      <td>2.009555</td>\n",
       "      <td>2.278599</td>\n",
       "      <td>1.724991</td>\n",
       "    </tr>\n",
       "    <tr>\n",
       "      <th>1462</th>\n",
       "      <td>1462</td>\n",
       "      <td>1.040113</td>\n",
       "      <td>0.966137</td>\n",
       "      <td>1.210783</td>\n",
       "      <td>0.805034</td>\n",
       "    </tr>\n",
       "    <tr>\n",
       "      <th>1463</th>\n",
       "      <td>0</td>\n",
       "      <td>2.357768</td>\n",
       "      <td>2.140620</td>\n",
       "      <td>2.297113</td>\n",
       "      <td>1.853593</td>\n",
       "    </tr>\n",
       "  </tbody>\n",
       "</table>\n",
       "<p>1464 rows × 5 columns</p>\n",
       "</div>"
      ],
      "text/plain": [
       "      Unnamed: 0       광진구      동대문구       성동구       중랑구\n",
       "0              0  0.592000  0.368000  0.580000  0.162000\n",
       "1              1  0.840000  0.614000  1.034000  0.260000\n",
       "2              2  0.828000  0.576000  0.952000  0.288000\n",
       "3              3  0.792000  0.542000  0.914000  0.292000\n",
       "4              4  0.818000  0.602000  0.994000  0.308000\n",
       "...          ...       ...       ...       ...       ...\n",
       "1459        1459  4.444000  3.574000  3.530000  2.506000\n",
       "1460        1460  3.616000  3.210000  2.620000  2.146000\n",
       "1461        1461  2.430299  2.009555  2.278599  1.724991\n",
       "1462        1462  1.040113  0.966137  1.210783  0.805034\n",
       "1463           0  2.357768  2.140620  2.297113  1.853593\n",
       "\n",
       "[1464 rows x 5 columns]"
      ]
     },
     "execution_count": 77,
     "metadata": {},
     "output_type": "execute_result"
    }
   ],
   "source": [
    "train_df = pd.read_csv('./train1.csv')\n",
    "# train_df = train_df.drop('일시',axis=1)\n",
    "train_df"
   ]
  },
  {
   "cell_type": "code",
   "execution_count": 90,
   "id": "8eb08472",
   "metadata": {},
   "outputs": [
    {
     "data": {
      "text/html": [
       "<div>\n",
       "<style scoped>\n",
       "    .dataframe tbody tr th:only-of-type {\n",
       "        vertical-align: middle;\n",
       "    }\n",
       "\n",
       "    .dataframe tbody tr th {\n",
       "        vertical-align: top;\n",
       "    }\n",
       "\n",
       "    .dataframe thead th {\n",
       "        text-align: right;\n",
       "    }\n",
       "</style>\n",
       "<table border=\"1\" class=\"dataframe\">\n",
       "  <thead>\n",
       "    <tr style=\"text-align: right;\">\n",
       "      <th></th>\n",
       "      <th>광진구</th>\n",
       "      <th>동대문구</th>\n",
       "      <th>성동구</th>\n",
       "      <th>중랑구</th>\n",
       "    </tr>\n",
       "  </thead>\n",
       "  <tbody>\n",
       "    <tr>\n",
       "      <th>0</th>\n",
       "      <td>0.592</td>\n",
       "      <td>0.368</td>\n",
       "      <td>0.580</td>\n",
       "      <td>0.162</td>\n",
       "    </tr>\n",
       "    <tr>\n",
       "      <th>1</th>\n",
       "      <td>0.840</td>\n",
       "      <td>0.614</td>\n",
       "      <td>1.034</td>\n",
       "      <td>0.260</td>\n",
       "    </tr>\n",
       "    <tr>\n",
       "      <th>2</th>\n",
       "      <td>0.828</td>\n",
       "      <td>0.576</td>\n",
       "      <td>0.952</td>\n",
       "      <td>0.288</td>\n",
       "    </tr>\n",
       "    <tr>\n",
       "      <th>3</th>\n",
       "      <td>0.792</td>\n",
       "      <td>0.542</td>\n",
       "      <td>0.914</td>\n",
       "      <td>0.292</td>\n",
       "    </tr>\n",
       "    <tr>\n",
       "      <th>4</th>\n",
       "      <td>0.818</td>\n",
       "      <td>0.602</td>\n",
       "      <td>0.994</td>\n",
       "      <td>0.308</td>\n",
       "    </tr>\n",
       "    <tr>\n",
       "      <th>...</th>\n",
       "      <td>...</td>\n",
       "      <td>...</td>\n",
       "      <td>...</td>\n",
       "      <td>...</td>\n",
       "    </tr>\n",
       "    <tr>\n",
       "      <th>1414</th>\n",
       "      <td>9.348</td>\n",
       "      <td>8.186</td>\n",
       "      <td>7.818</td>\n",
       "      <td>5.550</td>\n",
       "    </tr>\n",
       "    <tr>\n",
       "      <th>1415</th>\n",
       "      <td>9.772</td>\n",
       "      <td>8.266</td>\n",
       "      <td>7.834</td>\n",
       "      <td>5.728</td>\n",
       "    </tr>\n",
       "    <tr>\n",
       "      <th>1416</th>\n",
       "      <td>9.510</td>\n",
       "      <td>8.166</td>\n",
       "      <td>7.586</td>\n",
       "      <td>5.622</td>\n",
       "    </tr>\n",
       "    <tr>\n",
       "      <th>1417</th>\n",
       "      <td>9.598</td>\n",
       "      <td>7.828</td>\n",
       "      <td>7.850</td>\n",
       "      <td>5.428</td>\n",
       "    </tr>\n",
       "    <tr>\n",
       "      <th>1418</th>\n",
       "      <td>10.072</td>\n",
       "      <td>8.288</td>\n",
       "      <td>8.346</td>\n",
       "      <td>5.936</td>\n",
       "    </tr>\n",
       "  </tbody>\n",
       "</table>\n",
       "<p>1419 rows × 4 columns</p>\n",
       "</div>"
      ],
      "text/plain": [
       "         광진구   동대문구    성동구    중랑구\n",
       "0      0.592  0.368  0.580  0.162\n",
       "1      0.840  0.614  1.034  0.260\n",
       "2      0.828  0.576  0.952  0.288\n",
       "3      0.792  0.542  0.914  0.292\n",
       "4      0.818  0.602  0.994  0.308\n",
       "...      ...    ...    ...    ...\n",
       "1414   9.348  8.186  7.818  5.550\n",
       "1415   9.772  8.266  7.834  5.728\n",
       "1416   9.510  8.166  7.586  5.622\n",
       "1417   9.598  7.828  7.850  5.428\n",
       "1418  10.072  8.288  8.346  5.936\n",
       "\n",
       "[1419 rows x 4 columns]"
      ]
     },
     "execution_count": 90,
     "metadata": {},
     "output_type": "execute_result"
    }
   ],
   "source": [
    "train_df"
   ]
  },
  {
   "cell_type": "code",
   "execution_count": 57,
   "id": "a0cf18db",
   "metadata": {},
   "outputs": [
    {
     "data": {
      "text/html": [
       "<div>\n",
       "<style scoped>\n",
       "    .dataframe tbody tr th:only-of-type {\n",
       "        vertical-align: middle;\n",
       "    }\n",
       "\n",
       "    .dataframe tbody tr th {\n",
       "        vertical-align: top;\n",
       "    }\n",
       "\n",
       "    .dataframe thead th {\n",
       "        text-align: right;\n",
       "    }\n",
       "</style>\n",
       "<table border=\"1\" class=\"dataframe\">\n",
       "  <thead>\n",
       "    <tr style=\"text-align: right;\">\n",
       "      <th></th>\n",
       "      <th>광진구</th>\n",
       "      <th>동대문구</th>\n",
       "      <th>성동구</th>\n",
       "      <th>중랑구</th>\n",
       "    </tr>\n",
       "  </thead>\n",
       "  <tbody>\n",
       "    <tr>\n",
       "      <th>0</th>\n",
       "      <td>0.06581</td>\n",
       "      <td>-0.103537</td>\n",
       "      <td>-0.028536</td>\n",
       "      <td>0.096867</td>\n",
       "    </tr>\n",
       "  </tbody>\n",
       "</table>\n",
       "</div>"
      ],
      "text/plain": [
       "       광진구      동대문구       성동구       중랑구\n",
       "0  0.06581 -0.103537 -0.028536  0.096867"
      ]
     },
     "execution_count": 57,
     "metadata": {},
     "output_type": "execute_result"
    }
   ],
   "source": [
    "tp = pd.DataFrame(preds.iloc[0,:]).transpose()\n",
    "tp"
   ]
  },
  {
   "cell_type": "code",
   "execution_count": 96,
   "id": "572c55c6",
   "metadata": {},
   "outputs": [
    {
     "data": {
      "text/plain": [
       "<AxesSubplot:>"
      ]
     },
     "execution_count": 96,
     "metadata": {},
     "output_type": "execute_result"
    },
    {
     "data": {
      "image/png": "[encoded data removed]",
      "text/plain": [
       "<Figure size 432x288 with 1 Axes>"
      ]
     },
     "metadata": {
      "needs_background": "light"
     },
     "output_type": "display_data"
    }
   ],
   "source": [
    "pd.read_csv('./train1.csv')['광진구'].plot()"
   ]
  },
  {
   "cell_type": "code",
   "execution_count": 97,
   "id": "47924911",
   "metadata": {},
   "outputs": [
    {
     "data": {
      "text/plain": [
       "<AxesSubplot:>"
      ]
     },
     "execution_count": 97,
     "metadata": {},
     "output_type": "execute_result"
    },
    {
     "data": {
      "image/png": "[encoded data removed]",
      "text/plain": [
       "<Figure size 432x288 with 1 Axes>"
      ]
     },
     "metadata": {
      "needs_background": "light"
     },
     "output_type": "display_data"
    }
   ],
   "source": [
    "pd.read_csv('./train1.csv')['동대문구'].plot()"
   ]
  },
  {
   "cell_type": "code",
   "execution_count": 98,
   "id": "0d5cd4f4",
   "metadata": {},
   "outputs": [
    {
     "data": {
      "text/plain": [
       "<AxesSubplot:>"
      ]
     },
     "execution_count": 98,
     "metadata": {},
     "output_type": "execute_result"
    },
    {
     "data": {
      "image/png": "[encoded data removed]",
      "text/plain": [
       "<Figure size 432x288 with 1 Axes>"
      ]
     },
     "metadata": {
      "needs_background": "light"
     },
     "output_type": "display_data"
    }
   ],
   "source": [
    "pd.read_csv('./train1.csv')['광진구'].plot()"
   ]
  }
 ],
 "metadata": {
  "kernelspec": {
   "display_name": "Python 3 (ipykernel)",
   "language": "python",
   "name": "python3"
  },
  "language_info": {
   "codemirror_mode": {
    "name": "ipython",
    "version": 3
   },
   "file_extension": ".py",
   "mimetype": "text/x-python",
   "name": "python",
   "nbconvert_exporter": "python",
   "pygments_lexer": "ipython3",
   "version": "3.9.13"
  }
 },
 "nbformat": 4,
 "nbformat_minor": 5
}
