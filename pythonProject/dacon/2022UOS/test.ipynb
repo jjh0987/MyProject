{
 "cells": [
  {
   "cell_type": "markdown",
   "id": "a2bcba5f-002e-4f49-9622-ada6117faf0a",
   "metadata": {},
   "source": [
    "## Import"
   ]
  },
  {
   "cell_type": "code",
   "execution_count": 1,
   "id": "2b0d9b68-7102-4eca-9543-3b9b8acafc6e",
   "metadata": {},
   "outputs": [],
   "source": [
    "import random\n",
    "import pandas as pd\n",
    "import numpy as np\n",
    "import os\n",
    "import re\n",
    "\n",
    "import matplotlib.pyplot as plt\n",
    "# import seaborn as sns\n",
    "\n",
    "import torch\n",
    "import torch.nn as nn\n",
    "import torch.optim as optim\n",
    "import torch.nn.functional as F\n",
    "from torch.utils.data import Dataset, DataLoader\n",
    "\n",
    "from tqdm.auto import tqdm\n",
    "\n",
    "import warnings\n",
    "warnings.filterwarnings(action='ignore') "
   ]
  },
  {
   "cell_type": "code",
   "execution_count": 2,
   "id": "d13862e3-bb27-47af-9b58-a9fbf804df71",
   "metadata": {},
   "outputs": [],
   "source": [
    "device = torch.device('cuda') if torch.cuda.is_available() else torch.device('cpu')"
   ]
  },
  {
   "cell_type": "markdown",
   "id": "fc7df3f2-62d0-4499-a46e-47d01699def0",
   "metadata": {},
   "source": [
    "## Hyperparameter Setting"
   ]
  },
  {
   "cell_type": "code",
   "execution_count": 3,
   "id": "c3367399-9798-4e38-967b-fd2320b9a2b2",
   "metadata": {},
   "outputs": [],
   "source": [
    "CFG = {\n",
    "    'X_RANGE':3, # 예측하려는 시점을 X_RANGE 만큼의 이전 일자의 데이터로부터 예측 및 학습\n",
    "    'EPOCHS':50,\n",
    "    'LEARNING_RATE':1e-2,\n",
    "    'BATCH_SIZE':128,\n",
    "    'SEED':41\n",
    "}"
   ]
  },
  {
   "cell_type": "markdown",
   "id": "4254e860-ff82-43ba-bfa3-fcee4eb3ddbd",
   "metadata": {},
   "source": [
    "## Fixed RandomSeed"
   ]
  },
  {
   "cell_type": "code",
   "execution_count": 4,
   "id": "101a714b-71b6-4475-a4ce-fa5f98bc2731",
   "metadata": {},
   "outputs": [],
   "source": [
    "def seed_everything(seed):\n",
    "    random.seed(seed)\n",
    "    os.environ['PYTHONHASHSEED'] = str(seed)\n",
    "    np.random.seed(seed)\n",
    "    torch.manual_seed(seed)\n",
    "    torch.cuda.manual_seed(seed)\n",
    "    torch.backends.cudnn.deterministic = True\n",
    "    torch.backends.cudnn.benchmark = True\n",
    "\n",
    "seed_everything(CFG['SEED']) # Seed 고정"
   ]
  },
  {
   "cell_type": "markdown",
   "id": "05a4172e-5791-446f-9616-35c09d8bf25a",
   "metadata": {},
   "source": [
    "## Data Load"
   ]
  },
  {
   "cell_type": "code",
   "execution_count": 5,
   "id": "a62c78cd-4f40-4e98-b8a6-1b6f1d906b4d",
   "metadata": {},
   "outputs": [],
   "source": [
    "train_df = pd.read_csv('./train.csv')"
   ]
  },
  {
   "cell_type": "code",
   "execution_count": 6,
   "id": "04513aab-b769-4207-8481-94238ed10c8c",
   "metadata": {},
   "outputs": [
    {
     "data": {
      "text/html": [
       "<div>\n",
       "<style scoped>\n",
       "    .dataframe tbody tr th:only-of-type {\n",
       "        vertical-align: middle;\n",
       "    }\n",
       "\n",
       "    .dataframe tbody tr th {\n",
       "        vertical-align: top;\n",
       "    }\n",
       "\n",
       "    .dataframe thead th {\n",
       "        text-align: right;\n",
       "    }\n",
       "</style>\n",
       "<table border=\"1\" class=\"dataframe\">\n",
       "  <thead>\n",
       "    <tr style=\"text-align: right;\">\n",
       "      <th></th>\n",
       "      <th>일시</th>\n",
       "      <th>광진구</th>\n",
       "      <th>동대문구</th>\n",
       "      <th>성동구</th>\n",
       "      <th>중랑구</th>\n",
       "    </tr>\n",
       "  </thead>\n",
       "  <tbody>\n",
       "    <tr>\n",
       "      <th>0</th>\n",
       "      <td>20180101</td>\n",
       "      <td>0.592</td>\n",
       "      <td>0.368</td>\n",
       "      <td>0.580</td>\n",
       "      <td>0.162</td>\n",
       "    </tr>\n",
       "    <tr>\n",
       "      <th>1</th>\n",
       "      <td>20180102</td>\n",
       "      <td>0.840</td>\n",
       "      <td>0.614</td>\n",
       "      <td>1.034</td>\n",
       "      <td>0.260</td>\n",
       "    </tr>\n",
       "    <tr>\n",
       "      <th>2</th>\n",
       "      <td>20180103</td>\n",
       "      <td>0.828</td>\n",
       "      <td>0.576</td>\n",
       "      <td>0.952</td>\n",
       "      <td>0.288</td>\n",
       "    </tr>\n",
       "    <tr>\n",
       "      <th>3</th>\n",
       "      <td>20180104</td>\n",
       "      <td>0.792</td>\n",
       "      <td>0.542</td>\n",
       "      <td>0.914</td>\n",
       "      <td>0.292</td>\n",
       "    </tr>\n",
       "    <tr>\n",
       "      <th>4</th>\n",
       "      <td>20180105</td>\n",
       "      <td>0.818</td>\n",
       "      <td>0.602</td>\n",
       "      <td>0.994</td>\n",
       "      <td>0.308</td>\n",
       "    </tr>\n",
       "  </tbody>\n",
       "</table>\n",
       "</div>"
      ],
      "text/plain": [
       "         일시    광진구   동대문구    성동구    중랑구\n",
       "0  20180101  0.592  0.368  0.580  0.162\n",
       "1  20180102  0.840  0.614  1.034  0.260\n",
       "2  20180103  0.828  0.576  0.952  0.288\n",
       "3  20180104  0.792  0.542  0.914  0.292\n",
       "4  20180105  0.818  0.602  0.994  0.308"
      ]
     },
     "execution_count": 6,
     "metadata": {},
     "output_type": "execute_result"
    }
   ],
   "source": [
    "train_df.head()"
   ]
  },
  {
   "cell_type": "markdown",
   "id": "be170507-3880-44b8-a956-15ad722f210b",
   "metadata": {},
   "source": [
    "## Data Visualization"
   ]
  },
  {
   "cell_type": "code",
   "execution_count": 7,
   "id": "452764b5-2b31-4361-b922-6a986dff6825",
   "metadata": {},
   "outputs": [],
   "source": [
    "# def get_view_df(df, target):\n",
    "#     viewd = df[['일시', target]]\n",
    "#     viewd = viewd.reset_index(drop=True)\n",
    "#     viewd = viewd.reset_index()\n",
    "#     print(target)\n",
    "#     sns.set(rc = {'figure.figsize':(30,8)})\n",
    "#     sns.lineplot(x='index', y=target, data=viewd)\n",
    "#     plt.show()"
   ]
  },
  {
   "cell_type": "code",
   "execution_count": 8,
   "id": "ae5a64b1-7e51-4b43-8618-6c00ab370c6a",
   "metadata": {},
   "outputs": [],
   "source": [
    "# get_view_df(train_df, '광진구')\n",
    "# get_view_df(train_df, '동대문구')\n",
    "# get_view_df(train_df, '성동구')\n",
    "# get_view_df(train_df, '중랑구')"
   ]
  },
  {
   "cell_type": "markdown",
   "id": "7d3b3569-dc15-4090-a6b6-b005f8a20c2a",
   "metadata": {},
   "source": [
    "## Train / Validation Split"
   ]
  },
  {
   "cell_type": "code",
   "execution_count": 9,
   "id": "4e796488-75b3-4323-be5d-adbb22e6d7b5",
   "metadata": {},
   "outputs": [],
   "source": [
    "val_df = train_df.iloc[1096-CFG['X_RANGE']:].reset_index().drop(columns='index') # 20210101 ~ 20211231\n",
    "# 위의 1096-CFG['X_RANGE']의 이유는 20210101을 예측하기 위해서는 이전 X_RANGE만큼의 일수가 필요하므로\n",
    "train_df = train_df.iloc[:1096].reset_index().drop(columns='index') # 20180101 ~ 20201231"
   ]
  },
  {
   "cell_type": "markdown",
   "id": "cb4b0dfa-6a2d-47df-90b6-836536ffaf0d",
   "metadata": {},
   "source": [
    "## Data Pre-processing"
   ]
  },
  {
   "cell_type": "code",
   "execution_count": 10,
   "id": "9bbd2b94-bba1-4ce6-9e3d-ed6ac05927d2",
   "metadata": {},
   "outputs": [],
   "source": [
    "def get_x_y_data(df, infer=False):\n",
    "    # x_range : x일전까지의 데이터를 통해 예측\n",
    "    x_data = []\n",
    "    y_data = []\n",
    "    for i in tqdm(range(CFG['X_RANGE'], len(df))):\n",
    "        x_data.append(np.array(df.loc[i-CFG['X_RANGE']:i-1, ['년', '월', '일', '광진구', '동대문구', '성동구', '중랑구']]).astype(float))\n",
    "        y_data.append(np.array(df.loc[i, ['광진구', '동대문구', '성동구', '중랑구']]).astype(float))\n",
    "    if infer:\n",
    "        return x_data\n",
    "    else:\n",
    "        return x_data, y_data"
   ]
  },
  {
   "cell_type": "code",
   "execution_count": 11,
   "id": "93c6bf6b-bad6-41c1-9478-e6bea1621a7c",
   "metadata": {},
   "outputs": [],
   "source": [
    "def make_ymd_feature(df):\n",
    "    df['일시'] = df['일시'].astype(str)\n",
    "    df['년'] = df['일시'].str[:4].astype(int)/1000.\n",
    "    df['월'] = df['일시'].str[4:6].astype(int)/12.\n",
    "    df['일'] = df['일시'].str[6:8].astype(int)/31.\n",
    "    df = df[['년', '월', '일', '광진구', '동대문구', '성동구', '중랑구']]\n",
    "    return df"
   ]
  },
  {
   "cell_type": "code",
   "execution_count": 12,
   "id": "9e9205af-3e83-4347-a700-2394b91b1634",
   "metadata": {},
   "outputs": [],
   "source": [
    "train_df = make_ymd_feature(train_df)\n",
    "val_df = make_ymd_feature(val_df)"
   ]
  },
  {
   "cell_type": "code",
   "execution_count": 13,
   "id": "c643b186-9001-456e-81b0-0e3295d270a6",
   "metadata": {},
   "outputs": [
    {
     "data": {
      "application/vnd.jupyter.widget-view+json": {
       "model_id": "2e64370501af44a9a9f93558280b3c3c",
       "version_major": 2,
       "version_minor": 0
      },
      "text/plain": [
       "  0%|          | 0/1093 [00:00<?, ?it/s]"
      ]
     },
     "metadata": {},
     "output_type": "display_data"
    }
   ],
   "source": [
    "train_x, train_y = get_x_y_data(train_df)"
   ]
  },
  {
   "cell_type": "code",
   "execution_count": 14,
   "id": "c7b57a6e-cf5e-4b34-b196-e0273799e02e",
   "metadata": {},
   "outputs": [
    {
     "data": {
      "application/vnd.jupyter.widget-view+json": {
       "model_id": "a63a4f7bec814f79ade1105ff55897e4",
       "version_major": 2,
       "version_minor": 0
      },
      "text/plain": [
       "  0%|          | 0/365 [00:00<?, ?it/s]"
      ]
     },
     "metadata": {},
     "output_type": "display_data"
    }
   ],
   "source": [
    "val_x, val_y = get_x_y_data(val_df)"
   ]
  },
  {
   "cell_type": "markdown",
   "id": "ac27ed36-8031-47a7-bd0d-a913513f2e8e",
   "metadata": {},
   "source": [
    "## CustomDataset"
   ]
  },
  {
   "cell_type": "code",
   "execution_count": 15,
   "id": "16fd60a5-24e2-4539-bfd0-1c374a641699",
   "metadata": {},
   "outputs": [],
   "source": [
    "class CustomDataset(Dataset):\n",
    "    def __init__(self, X, Y):\n",
    "        self.X = X\n",
    "        self.Y = Y\n",
    "\n",
    "    def __getitem__(self, index):\n",
    "        if self.Y is not None:\n",
    "            return torch.Tensor(self.X[index]), torch.Tensor(self.Y[index])\n",
    "        else:\n",
    "            return torch.Tensor(self.X[index])\n",
    "\n",
    "    def __len__(self):\n",
    "        return len(self.X)"
   ]
  },
  {
   "cell_type": "code",
   "execution_count": 16,
   "id": "9d880481-1965-499d-9caa-fdfa8526f789",
   "metadata": {},
   "outputs": [],
   "source": [
    "train_dataset = CustomDataset(train_x, train_y)\n",
    "train_loader = DataLoader(train_dataset, batch_size = CFG['BATCH_SIZE'], shuffle=True, num_workers=0)\n",
    "\n",
    "val_dataset = CustomDataset(val_x, val_y)\n",
    "val_loader = DataLoader(val_dataset, batch_size = CFG['BATCH_SIZE'], shuffle=False, num_workers=0)"
   ]
  },
  {
   "cell_type": "markdown",
   "id": "39962463-032f-490a-a76d-c03991795f38",
   "metadata": {},
   "source": [
    "## Define Model"
   ]
  },
  {
   "cell_type": "code",
   "execution_count": 17,
   "id": "3664c4d0-f1f2-4971-9090-4d6ee66309ae",
   "metadata": {},
   "outputs": [],
   "source": [
    "class BaseModel(nn.Module):\n",
    "    def __init__(self):\n",
    "        super(BaseModel, self).__init__()\n",
    "        self.lstm = nn.LSTM(input_size=7, hidden_size=256, num_layers=4, batch_first=True)\n",
    "        \n",
    "        self.multioutput_reg = nn.Sequential(\n",
    "            nn.Linear(in_features=256, out_features=128), \n",
    "            nn.BatchNorm1d(128),\n",
    "            nn.ReLU(),\n",
    "            nn.Linear(in_features=128, out_features=4),\n",
    "        )\n",
    "        \n",
    "    def forward(self, x):\n",
    "        hidden, _ = self.lstm(x)\n",
    "        output = self.multioutput_reg(hidden[:,-1,:])\n",
    "        return output"
   ]
  },
  {
   "cell_type": "markdown",
   "id": "122af0aa-a1fd-4595-9488-35761e3cb596",
   "metadata": {},
   "source": [
    "## Train"
   ]
  },
  {
   "cell_type": "code",
   "execution_count": 18,
   "id": "a17df6b3-16c9-44dd-b0fd-ffb501fee749",
   "metadata": {},
   "outputs": [],
   "source": [
    "def train(model, optimizer, train_loader, val_loader, scheduler, device):\n",
    "    model.to(device)\n",
    "    criterion = nn.L1Loss().to(device)\n",
    "    \n",
    "    best_loss = 9999999\n",
    "    best_model = None\n",
    "    \n",
    "    for epoch in range(1, CFG['EPOCHS']+1):\n",
    "        model.train()\n",
    "        train_loss = []\n",
    "        for X, Y in iter(train_loader):\n",
    "            X = X.to(device)\n",
    "            Y = Y.to(device)\n",
    "            \n",
    "            optimizer.zero_grad()\n",
    "            \n",
    "            output = model(X)\n",
    "            loss = criterion(output, Y)\n",
    "            \n",
    "            loss.backward()\n",
    "            optimizer.step()\n",
    "            \n",
    "            train_loss.append(loss.item())\n",
    "        \n",
    "        _train_loss = np.mean(train_loss)\n",
    "        \n",
    "        val_mae = validation(model, val_loader, criterion, device)\n",
    "        print(f'Epoch : [{epoch}] Train Loss : [{_train_loss:.5f}] Val MAE : [{val_mae:.5f}]')\n",
    "        \n",
    "        if scheduler is not None:\n",
    "            scheduler.step(val_mae)\n",
    "            \n",
    "        if best_loss > val_mae:\n",
    "            best_loss = val_mae\n",
    "            best_model = model \n",
    "    return best_model"
   ]
  },
  {
   "cell_type": "code",
   "execution_count": 19,
   "id": "bcebbd9d-5b26-444e-8f7c-b4ed53361401",
   "metadata": {},
   "outputs": [],
   "source": [
    "def validation(model, val_loader, criterion, device):\n",
    "    model.eval()\n",
    "    val_loss = []\n",
    "    with torch.no_grad():\n",
    "        for X, Y in iter(val_loader):\n",
    "            X = X.to(device)\n",
    "            Y = Y.to(device)\n",
    "            \n",
    "            output = model(X)\n",
    "            \n",
    "            loss = criterion(output, Y)\n",
    "            \n",
    "            val_loss.append(loss.item())\n",
    "    \n",
    "    _val_loss = np.mean(val_loss)\n",
    "    return _val_loss    "
   ]
  },
  {
   "cell_type": "markdown",
   "id": "51da39f9-904f-4abd-a7d2-cdf29c4a6c24",
   "metadata": {},
   "source": [
    "## Run!!"
   ]
  },
  {
   "cell_type": "code",
   "execution_count": 20,
   "id": "86142d9a-68b7-4d04-8423-49d28025411d",
   "metadata": {
    "tags": []
   },
   "outputs": [],
   "source": [
    "model = BaseModel()"
   ]
  },
  {
   "cell_type": "code",
   "execution_count": 21,
   "id": "736c4fdc-bf85-4272-b27f-68e7fa680e80",
   "metadata": {},
   "outputs": [
    {
     "name": "stdout",
     "output_type": "stream",
     "text": [
      "Epoch : [1] Train Loss : [2.79570] Val MAE : [7.80312]\n",
      "Epoch : [2] Train Loss : [1.42154] Val MAE : [2.68035]\n",
      "Epoch : [3] Train Loss : [1.32636] Val MAE : [2.55626]\n",
      "Epoch : [4] Train Loss : [1.32324] Val MAE : [1.98105]\n",
      "Epoch : [5] Train Loss : [1.29855] Val MAE : [3.01914]\n",
      "Epoch : [6] Train Loss : [1.58059] Val MAE : [2.05173]\n",
      "Epoch 00006: reducing learning rate of group 0 to 5.0000e-03.\n",
      "Epoch : [7] Train Loss : [1.18337] Val MAE : [1.95165]\n",
      "Epoch : [8] Train Loss : [1.12713] Val MAE : [1.86925]\n",
      "Epoch : [9] Train Loss : [1.03402] Val MAE : [1.84559]\n",
      "Epoch : [10] Train Loss : [0.99864] Val MAE : [1.95035]\n",
      "Epoch : [11] Train Loss : [0.97420] Val MAE : [1.74058]\n",
      "Epoch 00011: reducing learning rate of group 0 to 2.5000e-03.\n",
      "Epoch : [12] Train Loss : [0.97819] Val MAE : [1.78410]\n",
      "Epoch : [13] Train Loss : [0.91938] Val MAE : [1.77395]\n",
      "Epoch : [14] Train Loss : [0.92160] Val MAE : [1.76002]\n",
      "Epoch : [15] Train Loss : [0.91762] Val MAE : [1.64760]\n",
      "Epoch : [16] Train Loss : [0.88646] Val MAE : [1.74225]\n",
      "Epoch 00016: reducing learning rate of group 0 to 1.2500e-03.\n",
      "Epoch : [17] Train Loss : [0.92369] Val MAE : [1.61196]\n",
      "Epoch : [18] Train Loss : [0.87721] Val MAE : [1.58886]\n",
      "Epoch : [19] Train Loss : [0.87563] Val MAE : [1.63766]\n",
      "Epoch : [20] Train Loss : [0.89448] Val MAE : [1.61934]\n",
      "Epoch : [21] Train Loss : [0.97143] Val MAE : [1.61590]\n",
      "Epoch 00021: reducing learning rate of group 0 to 6.2500e-04.\n",
      "Epoch : [22] Train Loss : [0.88609] Val MAE : [1.63110]\n",
      "Epoch : [23] Train Loss : [0.85301] Val MAE : [1.62505]\n",
      "Epoch : [24] Train Loss : [0.85768] Val MAE : [1.60371]\n",
      "Epoch : [25] Train Loss : [0.88355] Val MAE : [1.59334]\n",
      "Epoch : [26] Train Loss : [0.87960] Val MAE : [1.62305]\n",
      "Epoch 00026: reducing learning rate of group 0 to 3.1250e-04.\n",
      "Epoch : [27] Train Loss : [0.86660] Val MAE : [1.61768]\n",
      "Epoch : [28] Train Loss : [0.85061] Val MAE : [1.60475]\n",
      "Epoch : [29] Train Loss : [0.85099] Val MAE : [1.60313]\n",
      "Epoch : [30] Train Loss : [0.88661] Val MAE : [1.59936]\n",
      "Epoch : [31] Train Loss : [0.85905] Val MAE : [1.60191]\n",
      "Epoch 00031: reducing learning rate of group 0 to 1.5625e-04.\n",
      "Epoch : [32] Train Loss : [0.84153] Val MAE : [1.59929]\n",
      "Epoch : [33] Train Loss : [0.86339] Val MAE : [1.60655]\n",
      "Epoch : [34] Train Loss : [0.84645] Val MAE : [1.61280]\n",
      "Epoch : [35] Train Loss : [0.86381] Val MAE : [1.62423]\n",
      "Epoch : [36] Train Loss : [0.85328] Val MAE : [1.60735]\n",
      "Epoch 00036: reducing learning rate of group 0 to 7.8125e-05.\n",
      "Epoch : [37] Train Loss : [0.88708] Val MAE : [1.60999]\n",
      "Epoch : [38] Train Loss : [0.84418] Val MAE : [1.61071]\n",
      "Epoch : [39] Train Loss : [0.82513] Val MAE : [1.60928]\n",
      "Epoch : [40] Train Loss : [0.83114] Val MAE : [1.60544]\n",
      "Epoch : [41] Train Loss : [0.84394] Val MAE : [1.60456]\n",
      "Epoch 00041: reducing learning rate of group 0 to 3.9063e-05.\n",
      "Epoch : [42] Train Loss : [0.84785] Val MAE : [1.60509]\n",
      "Epoch : [43] Train Loss : [0.86186] Val MAE : [1.60494]\n",
      "Epoch : [44] Train Loss : [0.82816] Val MAE : [1.60909]\n",
      "Epoch : [45] Train Loss : [0.83294] Val MAE : [1.60739]\n",
      "Epoch : [46] Train Loss : [0.83659] Val MAE : [1.60991]\n",
      "Epoch 00046: reducing learning rate of group 0 to 1.9531e-05.\n",
      "Epoch : [47] Train Loss : [0.85988] Val MAE : [1.61456]\n",
      "Epoch : [48] Train Loss : [0.84681] Val MAE : [1.61355]\n",
      "Epoch : [49] Train Loss : [0.84436] Val MAE : [1.61308]\n",
      "Epoch : [50] Train Loss : [0.84672] Val MAE : [1.61445]\n"
     ]
    }
   ],
   "source": [
    "optimizer = torch.optim.Adam(params = model.parameters(), lr = CFG[\"LEARNING_RATE\"])\n",
    "scheduler = torch.optim.lr_scheduler.ReduceLROnPlateau(optimizer, mode='max', factor=0.5, patience=4,threshold_mode='abs',min_lr=1e-8, verbose=True)\n",
    "best_model = train(model, optimizer, train_loader, val_loader, scheduler, device) # 2018.01.01 ~ 2020.12.31 까지 데이터로 학습"
   ]
  },
  {
   "cell_type": "markdown",
   "id": "d11f7c81-e29f-41ac-ad9c-ab672f7465f1",
   "metadata": {},
   "source": [
    "## Inference"
   ]
  },
  {
   "cell_type": "code",
   "execution_count": 22,
   "id": "d16cbeef-44c1-4bb5-89c5-97062cf8440a",
   "metadata": {},
   "outputs": [],
   "source": [
    "test_df = pd.read_csv('./sample_submission.csv')\n",
    "test_df = make_ymd_feature(test_df)\n",
    "test_df = pd.concat([val_df[CFG['X_RANGE']*(-1):], test_df]).reset_index().drop(columns='index')"
   ]
  },
  {
   "cell_type": "code",
   "execution_count": 23,
   "id": "9b4cde82-08ca-4c0b-9430-7a6b8f879843",
   "metadata": {},
   "outputs": [
    {
     "data": {
      "text/html": [
       "<div>\n",
       "<style scoped>\n",
       "    .dataframe tbody tr th:only-of-type {\n",
       "        vertical-align: middle;\n",
       "    }\n",
       "\n",
       "    .dataframe tbody tr th {\n",
       "        vertical-align: top;\n",
       "    }\n",
       "\n",
       "    .dataframe thead th {\n",
       "        text-align: right;\n",
       "    }\n",
       "</style>\n",
       "<table border=\"1\" class=\"dataframe\">\n",
       "  <thead>\n",
       "    <tr style=\"text-align: right;\">\n",
       "      <th></th>\n",
       "      <th>년</th>\n",
       "      <th>월</th>\n",
       "      <th>일</th>\n",
       "      <th>광진구</th>\n",
       "      <th>동대문구</th>\n",
       "      <th>성동구</th>\n",
       "      <th>중랑구</th>\n",
       "    </tr>\n",
       "  </thead>\n",
       "  <tbody>\n",
       "    <tr>\n",
       "      <th>0</th>\n",
       "      <td>2.021</td>\n",
       "      <td>1.000000</td>\n",
       "      <td>0.935484</td>\n",
       "      <td>4.490</td>\n",
       "      <td>3.524</td>\n",
       "      <td>3.66</td>\n",
       "      <td>2.524</td>\n",
       "    </tr>\n",
       "    <tr>\n",
       "      <th>1</th>\n",
       "      <td>2.021</td>\n",
       "      <td>1.000000</td>\n",
       "      <td>0.967742</td>\n",
       "      <td>4.444</td>\n",
       "      <td>3.574</td>\n",
       "      <td>3.53</td>\n",
       "      <td>2.506</td>\n",
       "    </tr>\n",
       "    <tr>\n",
       "      <th>2</th>\n",
       "      <td>2.021</td>\n",
       "      <td>1.000000</td>\n",
       "      <td>1.000000</td>\n",
       "      <td>3.616</td>\n",
       "      <td>3.210</td>\n",
       "      <td>2.62</td>\n",
       "      <td>2.146</td>\n",
       "    </tr>\n",
       "    <tr>\n",
       "      <th>3</th>\n",
       "      <td>2.022</td>\n",
       "      <td>0.083333</td>\n",
       "      <td>0.032258</td>\n",
       "      <td>0.000</td>\n",
       "      <td>0.000</td>\n",
       "      <td>0.00</td>\n",
       "      <td>0.000</td>\n",
       "    </tr>\n",
       "    <tr>\n",
       "      <th>4</th>\n",
       "      <td>2.022</td>\n",
       "      <td>0.083333</td>\n",
       "      <td>0.064516</td>\n",
       "      <td>0.000</td>\n",
       "      <td>0.000</td>\n",
       "      <td>0.00</td>\n",
       "      <td>0.000</td>\n",
       "    </tr>\n",
       "  </tbody>\n",
       "</table>\n",
       "</div>"
      ],
      "text/plain": [
       "       년         월         일    광진구   동대문구   성동구    중랑구\n",
       "0  2.021  1.000000  0.935484  4.490  3.524  3.66  2.524\n",
       "1  2.021  1.000000  0.967742  4.444  3.574  3.53  2.506\n",
       "2  2.021  1.000000  1.000000  3.616  3.210  2.62  2.146\n",
       "3  2.022  0.083333  0.032258  0.000  0.000  0.00  0.000\n",
       "4  2.022  0.083333  0.064516  0.000  0.000  0.00  0.000"
      ]
     },
     "execution_count": 23,
     "metadata": {},
     "output_type": "execute_result"
    }
   ],
   "source": [
    "test_df.head()"
   ]
  },
  {
   "cell_type": "code",
   "execution_count": 24,
   "id": "5f57bdf8-7c78-48df-b127-b5d6896e0999",
   "metadata": {},
   "outputs": [],
   "source": [
    "def inference(model, df, device):\n",
    "    model.to(device)\n",
    "    model.eval()\n",
    "    for i in tqdm(range(CFG['X_RANGE'], len(df))):\n",
    "        X = torch.Tensor(np.array(df.loc[i-CFG['X_RANGE']:i-1, ['년', '월', '일', '광진구', '동대문구', '성동구', '중랑구']]).astype(float)).unsqueeze(0)\n",
    "        X = X.to(device)\n",
    "        with torch.no_grad():\n",
    "            model_pred = model(X)[0]\n",
    "        \n",
    "        model_pred = model_pred.cpu().numpy()\n",
    "        df.loc[i, ['광진구', '동대문구', '성동구', '중랑구']] = model_pred\n",
    "    return df.loc[CFG['X_RANGE']:, ['광진구', '동대문구', '성동구', '중랑구']].reset_index().drop(columns=['index'])"
   ]
  },
  {
   "cell_type": "code",
   "execution_count": 25,
   "id": "d5dd09bc-274f-4802-8ec8-878542ebfb19",
   "metadata": {},
   "outputs": [
    {
     "data": {
      "application/vnd.jupyter.widget-view+json": {
       "model_id": "247aa4179000496287859a3a7481218f",
       "version_major": 2,
       "version_minor": 0
      },
      "text/plain": [
       "  0%|          | 0/334 [00:00<?, ?it/s]"
      ]
     },
     "metadata": {},
     "output_type": "display_data"
    }
   ],
   "source": [
    "preds = inference(best_model, test_df, device)"
   ]
  },
  {
   "cell_type": "markdown",
   "id": "b35a1035-0e28-48c2-b882-f7ce4da214fa",
   "metadata": {},
   "source": [
    "## Submission"
   ]
  },
  {
   "cell_type": "code",
   "execution_count": 26,
   "id": "f7eea39d-8f59-4a45-9dd7-af447d6afb80",
   "metadata": {},
   "outputs": [
    {
     "data": {
      "text/html": [
       "<div>\n",
       "<style scoped>\n",
       "    .dataframe tbody tr th:only-of-type {\n",
       "        vertical-align: middle;\n",
       "    }\n",
       "\n",
       "    .dataframe tbody tr th {\n",
       "        vertical-align: top;\n",
       "    }\n",
       "\n",
       "    .dataframe thead th {\n",
       "        text-align: right;\n",
       "    }\n",
       "</style>\n",
       "<table border=\"1\" class=\"dataframe\">\n",
       "  <thead>\n",
       "    <tr style=\"text-align: right;\">\n",
       "      <th></th>\n",
       "      <th>일시</th>\n",
       "      <th>광진구</th>\n",
       "      <th>동대문구</th>\n",
       "      <th>성동구</th>\n",
       "      <th>중랑구</th>\n",
       "    </tr>\n",
       "  </thead>\n",
       "  <tbody>\n",
       "    <tr>\n",
       "      <th>0</th>\n",
       "      <td>20220101</td>\n",
       "      <td>0</td>\n",
       "      <td>0</td>\n",
       "      <td>0</td>\n",
       "      <td>0</td>\n",
       "    </tr>\n",
       "    <tr>\n",
       "      <th>1</th>\n",
       "      <td>20220102</td>\n",
       "      <td>0</td>\n",
       "      <td>0</td>\n",
       "      <td>0</td>\n",
       "      <td>0</td>\n",
       "    </tr>\n",
       "    <tr>\n",
       "      <th>2</th>\n",
       "      <td>20220103</td>\n",
       "      <td>0</td>\n",
       "      <td>0</td>\n",
       "      <td>0</td>\n",
       "      <td>0</td>\n",
       "    </tr>\n",
       "    <tr>\n",
       "      <th>3</th>\n",
       "      <td>20220104</td>\n",
       "      <td>0</td>\n",
       "      <td>0</td>\n",
       "      <td>0</td>\n",
       "      <td>0</td>\n",
       "    </tr>\n",
       "    <tr>\n",
       "      <th>4</th>\n",
       "      <td>20220105</td>\n",
       "      <td>0</td>\n",
       "      <td>0</td>\n",
       "      <td>0</td>\n",
       "      <td>0</td>\n",
       "    </tr>\n",
       "  </tbody>\n",
       "</table>\n",
       "</div>"
      ],
      "text/plain": [
       "         일시  광진구  동대문구  성동구  중랑구\n",
       "0  20220101    0     0    0    0\n",
       "1  20220102    0     0    0    0\n",
       "2  20220103    0     0    0    0\n",
       "3  20220104    0     0    0    0\n",
       "4  20220105    0     0    0    0"
      ]
     },
     "execution_count": 26,
     "metadata": {},
     "output_type": "execute_result"
    }
   ],
   "source": [
    "submit = pd.read_csv('./sample_submission.csv')\n",
    "submit.head()"
   ]
  },
  {
   "cell_type": "code",
   "execution_count": 27,
   "id": "b6ea90cc-159a-431f-9baf-f53a9d38e892",
   "metadata": {},
   "outputs": [],
   "source": [
    "submit['광진구'] = preds['광진구'].round(3)\n",
    "submit['동대문구'] = preds['동대문구'].round(3)\n",
    "submit['성동구'] = preds['성동구'].round(3)\n",
    "submit['중랑구'] = preds['중랑구'].round(3)"
   ]
  },
  {
   "cell_type": "code",
   "execution_count": 30,
   "id": "309ada76",
   "metadata": {},
   "outputs": [
    {
     "data": {
      "text/plain": [
       "<AxesSubplot:>"
      ]
     },
     "execution_count": 30,
     "metadata": {},
     "output_type": "execute_result"
    },
    {
     "data": {
      "image/png": "[encoded data removed]",
      "text/plain": [
       "<Figure size 432x288 with 1 Axes>"
      ]
     },
     "metadata": {
      "needs_background": "light"
     },
     "output_type": "display_data"
    }
   ],
   "source": [
    "train_df['광진구'].plot()"
   ]
  },
  {
   "cell_type": "code",
   "execution_count": 29,
   "id": "2f5da314",
   "metadata": {},
   "outputs": [
    {
     "data": {
      "text/plain": [
       "<AxesSubplot:>"
      ]
     },
     "execution_count": 29,
     "metadata": {},
     "output_type": "execute_result"
    },
    {
     "data": {
      "image/png": "[encoded data removed]",
      "text/plain": [
       "<Figure size 432x288 with 1 Axes>"
      ]
     },
     "metadata": {
      "needs_background": "light"
     },
     "output_type": "display_data"
    }
   ],
   "source": [
    "submit['광진구'].plot()"
   ]
  },
  {
   "cell_type": "code",
   "execution_count": 28,
   "id": "522ecb41-3aa0-4382-928a-1d6948ae4a26",
   "metadata": {},
   "outputs": [],
   "source": [
    "submit.to_csv('./submit.csv', index=False)"
   ]
  }
 ],
 "metadata": {
  "kernelspec": {
   "display_name": "Python 3 (ipykernel)",
   "language": "python",
   "name": "python3"
  },
  "language_info": {
   "codemirror_mode": {
    "name": "ipython",
    "version": 3
   },
   "file_extension": ".py",
   "mimetype": "text/x-python",
   "name": "python",
   "nbconvert_exporter": "python",
   "pygments_lexer": "ipython3",
   "version": "3.9.13"
  }
 },
 "nbformat": 4,
 "nbformat_minor": 5
}
