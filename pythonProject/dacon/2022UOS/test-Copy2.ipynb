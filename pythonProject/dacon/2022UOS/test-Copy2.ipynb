{
 "cells": [
  {
   "cell_type": "markdown",
   "id": "a2bcba5f-002e-4f49-9622-ada6117faf0a",
   "metadata": {},
   "source": [
    "## Import"
   ]
  },
  {
   "cell_type": "code",
   "execution_count": 1,
   "id": "2b0d9b68-7102-4eca-9543-3b9b8acafc6e",
   "metadata": {},
   "outputs": [],
   "source": [
    "import random\n",
    "import pandas as pd\n",
    "import numpy as np\n",
    "import os\n",
    "import re\n",
    "\n",
    "import matplotlib.pyplot as plt\n",
    "# import seaborn as sns\n",
    "\n",
    "import torch\n",
    "import torch.nn as nn\n",
    "import torch.optim as optim\n",
    "import torch.nn.functional as F\n",
    "from torch.utils.data import Dataset, DataLoader\n",
    "\n",
    "from tqdm.auto import tqdm\n",
    "\n",
    "import warnings\n",
    "warnings.filterwarnings(action='ignore') "
   ]
  },
  {
   "cell_type": "code",
   "execution_count": 2,
   "id": "d13862e3-bb27-47af-9b58-a9fbf804df71",
   "metadata": {},
   "outputs": [],
   "source": [
    "device = torch.device('cuda') if torch.cuda.is_available() else torch.device('cpu')"
   ]
  },
  {
   "cell_type": "markdown",
   "id": "fc7df3f2-62d0-4499-a46e-47d01699def0",
   "metadata": {},
   "source": [
    "## Hyperparameter Setting"
   ]
  },
  {
   "cell_type": "code",
   "execution_count": 3,
   "id": "c3367399-9798-4e38-967b-fd2320b9a2b2",
   "metadata": {},
   "outputs": [],
   "source": [
    "CFG = {\n",
    "    'X_RANGE':90, # 예측하려는 시점을 X_RANGE 만큼의 이전 일자의 데이터로부터 예측 및 학습\n",
    "    'EPOCHS':150,\n",
    "    'LEARNING_RATE':5e-2,\n",
    "    'BATCH_SIZE':128,\n",
    "    'SEED':41\n",
    "}"
   ]
  },
  {
   "cell_type": "markdown",
   "id": "4254e860-ff82-43ba-bfa3-fcee4eb3ddbd",
   "metadata": {},
   "source": [
    "## Fixed RandomSeed"
   ]
  },
  {
   "cell_type": "code",
   "execution_count": 4,
   "id": "101a714b-71b6-4475-a4ce-fa5f98bc2731",
   "metadata": {},
   "outputs": [],
   "source": [
    "def seed_everything(seed):\n",
    "    random.seed(seed)\n",
    "    os.environ['PYTHONHASHSEED'] = str(seed)\n",
    "    np.random.seed(seed)\n",
    "    torch.manual_seed(seed)\n",
    "    torch.cuda.manual_seed(seed)\n",
    "    torch.backends.cudnn.deterministic = True\n",
    "    torch.backends.cudnn.benchmark = True\n",
    "\n",
    "seed_everything(CFG['SEED']) # Seed 고정"
   ]
  },
  {
   "cell_type": "markdown",
   "id": "05a4172e-5791-446f-9616-35c09d8bf25a",
   "metadata": {},
   "source": [
    "## Data Load"
   ]
  },
  {
   "cell_type": "code",
   "execution_count": 5,
   "id": "a62c78cd-4f40-4e98-b8a6-1b6f1d906b4d",
   "metadata": {},
   "outputs": [],
   "source": [
    "train_df = pd.read_csv('./train.csv')"
   ]
  },
  {
   "cell_type": "code",
   "execution_count": 6,
   "id": "04513aab-b769-4207-8481-94238ed10c8c",
   "metadata": {},
   "outputs": [
    {
     "data": {
      "text/html": [
       "<div>\n",
       "<style scoped>\n",
       "    .dataframe tbody tr th:only-of-type {\n",
       "        vertical-align: middle;\n",
       "    }\n",
       "\n",
       "    .dataframe tbody tr th {\n",
       "        vertical-align: top;\n",
       "    }\n",
       "\n",
       "    .dataframe thead th {\n",
       "        text-align: right;\n",
       "    }\n",
       "</style>\n",
       "<table border=\"1\" class=\"dataframe\">\n",
       "  <thead>\n",
       "    <tr style=\"text-align: right;\">\n",
       "      <th></th>\n",
       "      <th>일시</th>\n",
       "      <th>광진구</th>\n",
       "      <th>동대문구</th>\n",
       "      <th>성동구</th>\n",
       "      <th>중랑구</th>\n",
       "    </tr>\n",
       "  </thead>\n",
       "  <tbody>\n",
       "    <tr>\n",
       "      <th>0</th>\n",
       "      <td>20180101</td>\n",
       "      <td>0.592</td>\n",
       "      <td>0.368</td>\n",
       "      <td>0.580</td>\n",
       "      <td>0.162</td>\n",
       "    </tr>\n",
       "    <tr>\n",
       "      <th>1</th>\n",
       "      <td>20180102</td>\n",
       "      <td>0.840</td>\n",
       "      <td>0.614</td>\n",
       "      <td>1.034</td>\n",
       "      <td>0.260</td>\n",
       "    </tr>\n",
       "    <tr>\n",
       "      <th>2</th>\n",
       "      <td>20180103</td>\n",
       "      <td>0.828</td>\n",
       "      <td>0.576</td>\n",
       "      <td>0.952</td>\n",
       "      <td>0.288</td>\n",
       "    </tr>\n",
       "    <tr>\n",
       "      <th>3</th>\n",
       "      <td>20180104</td>\n",
       "      <td>0.792</td>\n",
       "      <td>0.542</td>\n",
       "      <td>0.914</td>\n",
       "      <td>0.292</td>\n",
       "    </tr>\n",
       "    <tr>\n",
       "      <th>4</th>\n",
       "      <td>20180105</td>\n",
       "      <td>0.818</td>\n",
       "      <td>0.602</td>\n",
       "      <td>0.994</td>\n",
       "      <td>0.308</td>\n",
       "    </tr>\n",
       "  </tbody>\n",
       "</table>\n",
       "</div>"
      ],
      "text/plain": [
       "         일시    광진구   동대문구    성동구    중랑구\n",
       "0  20180101  0.592  0.368  0.580  0.162\n",
       "1  20180102  0.840  0.614  1.034  0.260\n",
       "2  20180103  0.828  0.576  0.952  0.288\n",
       "3  20180104  0.792  0.542  0.914  0.292\n",
       "4  20180105  0.818  0.602  0.994  0.308"
      ]
     },
     "execution_count": 6,
     "metadata": {},
     "output_type": "execute_result"
    }
   ],
   "source": [
    "train_df.head()"
   ]
  },
  {
   "cell_type": "markdown",
   "id": "be170507-3880-44b8-a956-15ad722f210b",
   "metadata": {},
   "source": [
    "## Data Visualization"
   ]
  },
  {
   "cell_type": "code",
   "execution_count": 7,
   "id": "452764b5-2b31-4361-b922-6a986dff6825",
   "metadata": {},
   "outputs": [],
   "source": [
    "# def get_view_df(df, target):\n",
    "#     viewd = df[['일시', target]]\n",
    "#     viewd = viewd.reset_index(drop=True)\n",
    "#     viewd = viewd.reset_index()\n",
    "#     print(target)\n",
    "#     sns.set(rc = {'figure.figsize':(30,8)})\n",
    "#     sns.lineplot(x='index', y=target, data=viewd)\n",
    "#     plt.show()"
   ]
  },
  {
   "cell_type": "code",
   "execution_count": 8,
   "id": "ae5a64b1-7e51-4b43-8618-6c00ab370c6a",
   "metadata": {},
   "outputs": [],
   "source": [
    "# get_view_df(train_df, '광진구')\n",
    "# get_view_df(train_df, '동대문구')\n",
    "# get_view_df(train_df, '성동구')\n",
    "# get_view_df(train_df, '중랑구')"
   ]
  },
  {
   "cell_type": "markdown",
   "id": "7d3b3569-dc15-4090-a6b6-b005f8a20c2a",
   "metadata": {},
   "source": [
    "## Train / Validation Split"
   ]
  },
  {
   "cell_type": "code",
   "execution_count": 9,
   "id": "4e796488-75b3-4323-be5d-adbb22e6d7b5",
   "metadata": {},
   "outputs": [],
   "source": [
    "val_df = train_df.iloc[1096-CFG['X_RANGE']:].reset_index().drop(columns='index') # 20210101 ~ 20211231\n",
    "# 위의 1096-CFG['X_RANGE']의 이유는 20210101을 예측하기 위해서는 이전 X_RANGE만큼의 일수가 필요하므로\n",
    "train_df = train_df.iloc[:1096].reset_index().drop(columns='index') # 20180101 ~ 20201231"
   ]
  },
  {
   "cell_type": "markdown",
   "id": "cb4b0dfa-6a2d-47df-90b6-836536ffaf0d",
   "metadata": {},
   "source": [
    "## Data Pre-processing"
   ]
  },
  {
   "cell_type": "code",
   "execution_count": 10,
   "id": "9bbd2b94-bba1-4ce6-9e3d-ed6ac05927d2",
   "metadata": {},
   "outputs": [],
   "source": [
    "def get_x_y_data(df, infer=False):\n",
    "    # x_range : x일전까지의 데이터를 통해 예측\n",
    "    x_data = []\n",
    "    y_data = []\n",
    "    for i in tqdm(range(CFG['X_RANGE'], len(df))):\n",
    "        x_data.append(np.array(df.loc[i-CFG['X_RANGE']:i-1, ['년', '월', '일', '광진구', '동대문구', '성동구', '중랑구']]).astype(float))\n",
    "        y_data.append(np.array(df.loc[i, ['광진구', '동대문구', '성동구', '중랑구']]).astype(float))\n",
    "    if infer:\n",
    "        return x_data\n",
    "    else:\n",
    "        return x_data, y_data"
   ]
  },
  {
   "cell_type": "code",
   "execution_count": 11,
   "id": "93c6bf6b-bad6-41c1-9478-e6bea1621a7c",
   "metadata": {},
   "outputs": [],
   "source": [
    "def make_ymd_feature(df):\n",
    "    df['일시'] = df['일시'].astype(str)\n",
    "    df['년'] = df['일시'].str[:4].astype(int)/1000.\n",
    "    df['월'] = df['일시'].str[4:6].astype(int)/12.\n",
    "    df['일'] = df['일시'].str[6:8].astype(int)/31.\n",
    "    df = df[['년', '월', '일', '광진구', '동대문구', '성동구', '중랑구']]\n",
    "    return df"
   ]
  },
  {
   "cell_type": "code",
   "execution_count": 12,
   "id": "9e9205af-3e83-4347-a700-2394b91b1634",
   "metadata": {},
   "outputs": [],
   "source": [
    "train_df = make_ymd_feature(train_df)\n",
    "val_df = make_ymd_feature(val_df)"
   ]
  },
  {
   "cell_type": "code",
   "execution_count": 13,
   "id": "c643b186-9001-456e-81b0-0e3295d270a6",
   "metadata": {},
   "outputs": [
    {
     "data": {
      "application/vnd.jupyter.widget-view+json": {
       "model_id": "8f721da3684045588b389202b380a204",
       "version_major": 2,
       "version_minor": 0
      },
      "text/plain": [
       "  0%|          | 0/1006 [00:00<?, ?it/s]"
      ]
     },
     "metadata": {},
     "output_type": "display_data"
    }
   ],
   "source": [
    "train_x, train_y = get_x_y_data(train_df)"
   ]
  },
  {
   "cell_type": "code",
   "execution_count": 14,
   "id": "c7b57a6e-cf5e-4b34-b196-e0273799e02e",
   "metadata": {},
   "outputs": [
    {
     "data": {
      "application/vnd.jupyter.widget-view+json": {
       "model_id": "3a7b973a3f02479a9a4cdb8823307e51",
       "version_major": 2,
       "version_minor": 0
      },
      "text/plain": [
       "  0%|          | 0/365 [00:00<?, ?it/s]"
      ]
     },
     "metadata": {},
     "output_type": "display_data"
    }
   ],
   "source": [
    "val_x, val_y = get_x_y_data(val_df)"
   ]
  },
  {
   "cell_type": "markdown",
   "id": "ac27ed36-8031-47a7-bd0d-a913513f2e8e",
   "metadata": {},
   "source": [
    "## CustomDataset"
   ]
  },
  {
   "cell_type": "code",
   "execution_count": 15,
   "id": "16fd60a5-24e2-4539-bfd0-1c374a641699",
   "metadata": {},
   "outputs": [],
   "source": [
    "class CustomDataset(Dataset):\n",
    "    def __init__(self, X, Y):\n",
    "        self.X = X\n",
    "        self.Y = Y\n",
    "\n",
    "    def __getitem__(self, index):\n",
    "        if self.Y is not None:\n",
    "            return torch.Tensor(self.X[index]), torch.Tensor(self.Y[index])\n",
    "        else:\n",
    "            return torch.Tensor(self.X[index])\n",
    "\n",
    "    def __len__(self):\n",
    "        return len(self.X)"
   ]
  },
  {
   "cell_type": "code",
   "execution_count": 16,
   "id": "9d880481-1965-499d-9caa-fdfa8526f789",
   "metadata": {},
   "outputs": [],
   "source": [
    "train_dataset = CustomDataset(train_x, train_y)\n",
    "train_loader = DataLoader(train_dataset, batch_size = CFG['BATCH_SIZE'], shuffle=True, num_workers=0)\n",
    "\n",
    "val_dataset = CustomDataset(val_x, val_y)\n",
    "val_loader = DataLoader(val_dataset, batch_size = CFG['BATCH_SIZE'], shuffle=False, num_workers=0)"
   ]
  },
  {
   "cell_type": "markdown",
   "id": "39962463-032f-490a-a76d-c03991795f38",
   "metadata": {},
   "source": [
    "## Define Model"
   ]
  },
  {
   "cell_type": "code",
   "execution_count": 17,
   "id": "3664c4d0-f1f2-4971-9090-4d6ee66309ae",
   "metadata": {},
   "outputs": [],
   "source": [
    "class BaseModel(nn.Module):\n",
    "    def __init__(self):\n",
    "        super(BaseModel, self).__init__()\n",
    "        self.lstm = nn.LSTM(input_size=7, hidden_size=256, num_layers=4, batch_first=True)\n",
    "        \n",
    "        self.multioutput_reg = nn.Sequential(\n",
    "            nn.Linear(in_features=256, out_features=128), \n",
    "            nn.BatchNorm1d(128),\n",
    "            nn.ReLU(),\n",
    "            nn.Linear(in_features=128, out_features=4),\n",
    "        )\n",
    "        \n",
    "    def forward(self, x):\n",
    "        hidden, _ = self.lstm(x)\n",
    "        output = self.multioutput_reg(hidden[:,-1,:])\n",
    "        return output"
   ]
  },
  {
   "cell_type": "markdown",
   "id": "122af0aa-a1fd-4595-9488-35761e3cb596",
   "metadata": {},
   "source": [
    "## Train"
   ]
  },
  {
   "cell_type": "code",
   "execution_count": 18,
   "id": "a17df6b3-16c9-44dd-b0fd-ffb501fee749",
   "metadata": {},
   "outputs": [],
   "source": [
    "def train(model, optimizer, train_loader, val_loader, scheduler, device):\n",
    "    model.to(device)\n",
    "    criterion = nn.L1Loss().to(device)\n",
    "    \n",
    "    best_loss = 9999999\n",
    "    best_model = None\n",
    "    \n",
    "    for epoch in range(1, CFG['EPOCHS']+1):\n",
    "        model.train()\n",
    "        train_loss = []\n",
    "        for X, Y in iter(train_loader):\n",
    "            X = X.to(device)\n",
    "            Y = Y.to(device)\n",
    "            \n",
    "            optimizer.zero_grad()\n",
    "            \n",
    "            output = model(X)\n",
    "            loss = criterion(output, Y)\n",
    "            \n",
    "            loss.backward()\n",
    "            optimizer.step()\n",
    "            \n",
    "            train_loss.append(loss.item())\n",
    "        \n",
    "        _train_loss = np.mean(train_loss)\n",
    "        \n",
    "        val_mae = validation(model, val_loader, criterion, device)\n",
    "        print(f'Epoch : [{epoch}] Train Loss : [{_train_loss:.5f}] Val MAE : [{val_mae:.5f}]')\n",
    "        \n",
    "        if scheduler is not None:\n",
    "            scheduler.step(val_mae)\n",
    "            \n",
    "        if best_loss > val_mae:\n",
    "            best_loss = val_mae\n",
    "            best_model = model \n",
    "    return best_model"
   ]
  },
  {
   "cell_type": "code",
   "execution_count": 19,
   "id": "bcebbd9d-5b26-444e-8f7c-b4ed53361401",
   "metadata": {},
   "outputs": [],
   "source": [
    "def validation(model, val_loader, criterion, device):\n",
    "    model.eval()\n",
    "    val_loss = []\n",
    "    with torch.no_grad():\n",
    "        for X, Y in iter(val_loader):\n",
    "            X = X.to(device)\n",
    "            Y = Y.to(device)\n",
    "            \n",
    "            output = model(X)\n",
    "            \n",
    "            loss = criterion(output, Y)\n",
    "            \n",
    "            val_loss.append(loss.item())\n",
    "    \n",
    "    _val_loss = np.mean(val_loss)\n",
    "    return _val_loss    "
   ]
  },
  {
   "cell_type": "markdown",
   "id": "51da39f9-904f-4abd-a7d2-cdf29c4a6c24",
   "metadata": {},
   "source": [
    "## Run!!"
   ]
  },
  {
   "cell_type": "code",
   "execution_count": 20,
   "id": "86142d9a-68b7-4d04-8423-49d28025411d",
   "metadata": {
    "tags": []
   },
   "outputs": [],
   "source": [
    "model = BaseModel()"
   ]
  },
  {
   "cell_type": "code",
   "execution_count": 21,
   "id": "736c4fdc-bf85-4272-b27f-68e7fa680e80",
   "metadata": {},
   "outputs": [
    {
     "name": "stdout",
     "output_type": "stream",
     "text": [
      "Epoch : [1] Train Loss : [3.05874] Val MAE : [100.02015]\n",
      "Epoch : [2] Train Loss : [2.18551] Val MAE : [62.67308]\n",
      "Epoch : [3] Train Loss : [2.03411] Val MAE : [69.83354]\n",
      "Epoch : [4] Train Loss : [2.00359] Val MAE : [55.82005]\n",
      "Epoch : [5] Train Loss : [1.98085] Val MAE : [59.95181]\n",
      "Epoch : [6] Train Loss : [1.98589] Val MAE : [70.75938]\n",
      "Epoch 00006: reducing learning rate of group 0 to 2.5000e-02.\n",
      "Epoch : [7] Train Loss : [1.98505] Val MAE : [107.75178]\n",
      "Epoch : [8] Train Loss : [1.96867] Val MAE : [139.60454]\n",
      "Epoch : [9] Train Loss : [1.96885] Val MAE : [141.06069]\n",
      "Epoch : [10] Train Loss : [1.96492] Val MAE : [148.27875]\n",
      "Epoch : [11] Train Loss : [1.96904] Val MAE : [237.68006]\n",
      "Epoch : [12] Train Loss : [1.97138] Val MAE : [368.13326]\n",
      "Epoch : [13] Train Loss : [1.96880] Val MAE : [566.30870]\n",
      "Epoch : [14] Train Loss : [1.97623] Val MAE : [364.65270]\n",
      "Epoch : [15] Train Loss : [1.97436] Val MAE : [1239.15483]\n",
      "Epoch : [16] Train Loss : [1.98707] Val MAE : [939.10813]\n",
      "Epoch : [17] Train Loss : [1.96593] Val MAE : [1022.44043]\n",
      "Epoch : [18] Train Loss : [1.97650] Val MAE : [945.24251]\n",
      "Epoch : [19] Train Loss : [1.98000] Val MAE : [1577.07817]\n",
      "Epoch : [20] Train Loss : [1.96735] Val MAE : [1625.96171]\n",
      "Epoch : [21] Train Loss : [1.96945] Val MAE : [1551.57227]\n",
      "Epoch : [22] Train Loss : [1.97055] Val MAE : [1709.91166]\n",
      "Epoch : [23] Train Loss : [1.97078] Val MAE : [1711.76477]\n",
      "Epoch : [24] Train Loss : [1.97120] Val MAE : [1225.36698]\n",
      "Epoch : [25] Train Loss : [1.97755] Val MAE : [1908.44385]\n",
      "Epoch : [26] Train Loss : [1.98859] Val MAE : [1359.98763]\n",
      "Epoch : [27] Train Loss : [1.98942] Val MAE : [1614.47693]\n",
      "Epoch : [28] Train Loss : [1.98042] Val MAE : [830.72219]\n",
      "Epoch : [29] Train Loss : [1.97181] Val MAE : [882.86342]\n",
      "Epoch : [30] Train Loss : [1.97211] Val MAE : [1435.47921]\n",
      "Epoch 00030: reducing learning rate of group 0 to 1.2500e-02.\n",
      "Epoch : [31] Train Loss : [1.96730] Val MAE : [707.82882]\n",
      "Epoch : [32] Train Loss : [1.96911] Val MAE : [761.80204]\n",
      "Epoch : [33] Train Loss : [1.96971] Val MAE : [1101.36747]\n",
      "Epoch : [34] Train Loss : [1.96911] Val MAE : [1030.70980]\n",
      "Epoch : [35] Train Loss : [1.96673] Val MAE : [1018.41536]\n",
      "Epoch 00035: reducing learning rate of group 0 to 6.2500e-03.\n",
      "Epoch : [36] Train Loss : [1.96864] Val MAE : [746.64771]\n",
      "Epoch : [37] Train Loss : [1.96515] Val MAE : [412.98167]\n",
      "Epoch : [38] Train Loss : [1.96617] Val MAE : [346.80866]\n",
      "Epoch : [39] Train Loss : [1.96741] Val MAE : [296.90264]\n",
      "Epoch : [40] Train Loss : [1.96459] Val MAE : [356.89654]\n",
      "Epoch 00040: reducing learning rate of group 0 to 3.1250e-03.\n",
      "Epoch : [41] Train Loss : [1.96460] Val MAE : [212.30713]\n",
      "Epoch : [42] Train Loss : [1.96775] Val MAE : [143.06315]\n",
      "Epoch : [43] Train Loss : [1.96800] Val MAE : [129.81526]\n",
      "Epoch : [44] Train Loss : [1.96734] Val MAE : [279.21868]\n",
      "Epoch : [45] Train Loss : [1.96583] Val MAE : [203.57107]\n",
      "Epoch 00045: reducing learning rate of group 0 to 1.5625e-03.\n",
      "Epoch : [46] Train Loss : [1.96615] Val MAE : [144.68043]\n",
      "Epoch : [47] Train Loss : [1.96626] Val MAE : [78.25292]\n",
      "Epoch : [48] Train Loss : [1.96483] Val MAE : [96.42972]\n",
      "Epoch : [49] Train Loss : [1.96794] Val MAE : [149.71950]\n",
      "Epoch : [50] Train Loss : [1.96591] Val MAE : [110.84215]\n",
      "Epoch 00050: reducing learning rate of group 0 to 7.8125e-04.\n",
      "Epoch : [51] Train Loss : [1.96373] Val MAE : [72.99297]\n",
      "Epoch : [52] Train Loss : [1.97063] Val MAE : [82.77088]\n",
      "Epoch : [53] Train Loss : [1.96412] Val MAE : [83.86903]\n",
      "Epoch : [54] Train Loss : [1.96304] Val MAE : [88.29316]\n",
      "Epoch : [55] Train Loss : [1.96650] Val MAE : [78.51676]\n",
      "Epoch 00055: reducing learning rate of group 0 to 3.9063e-04.\n",
      "Epoch : [56] Train Loss : [1.96420] Val MAE : [45.29128]\n",
      "Epoch : [57] Train Loss : [1.96667] Val MAE : [23.41985]\n",
      "Epoch : [58] Train Loss : [1.96232] Val MAE : [10.17547]\n",
      "Epoch : [59] Train Loss : [1.96593] Val MAE : [11.09517]\n",
      "Epoch : [60] Train Loss : [1.96387] Val MAE : [15.43976]\n",
      "Epoch 00060: reducing learning rate of group 0 to 1.9531e-04.\n",
      "Epoch : [61] Train Loss : [1.96337] Val MAE : [10.70489]\n",
      "Epoch : [62] Train Loss : [1.96515] Val MAE : [18.21287]\n",
      "Epoch : [63] Train Loss : [1.96629] Val MAE : [14.23959]\n",
      "Epoch : [64] Train Loss : [1.96171] Val MAE : [10.23100]\n",
      "Epoch : [65] Train Loss : [1.96378] Val MAE : [9.54785]\n",
      "Epoch 00065: reducing learning rate of group 0 to 9.7656e-05.\n",
      "Epoch : [66] Train Loss : [1.96683] Val MAE : [4.09272]\n",
      "Epoch : [67] Train Loss : [1.96560] Val MAE : [5.48181]\n",
      "Epoch : [68] Train Loss : [1.96549] Val MAE : [7.71390]\n",
      "Epoch : [69] Train Loss : [1.96593] Val MAE : [5.61976]\n",
      "Epoch : [70] Train Loss : [1.96251] Val MAE : [5.58975]\n",
      "Epoch 00070: reducing learning rate of group 0 to 4.8828e-05.\n",
      "Epoch : [71] Train Loss : [1.96485] Val MAE : [4.55965]\n",
      "Epoch : [72] Train Loss : [1.96706] Val MAE : [3.57302]\n",
      "Epoch : [73] Train Loss : [1.96747] Val MAE : [2.84557]\n",
      "Epoch : [74] Train Loss : [1.96399] Val MAE : [2.94456]\n",
      "Epoch : [75] Train Loss : [1.96578] Val MAE : [2.95963]\n",
      "Epoch 00075: reducing learning rate of group 0 to 2.4414e-05.\n",
      "Epoch : [76] Train Loss : [1.96509] Val MAE : [3.17194]\n",
      "Epoch : [77] Train Loss : [1.96792] Val MAE : [2.89868]\n",
      "Epoch : [78] Train Loss : [1.96710] Val MAE : [2.90909]\n",
      "Epoch : [79] Train Loss : [1.96409] Val MAE : [3.17496]\n",
      "Epoch : [80] Train Loss : [1.96617] Val MAE : [2.89250]\n",
      "Epoch 00080: reducing learning rate of group 0 to 1.2207e-05.\n",
      "Epoch : [81] Train Loss : [1.96546] Val MAE : [2.90605]\n",
      "Epoch : [82] Train Loss : [1.97172] Val MAE : [2.86323]\n",
      "Epoch : [83] Train Loss : [1.96397] Val MAE : [3.15723]\n",
      "Epoch : [84] Train Loss : [1.96339] Val MAE : [3.32614]\n",
      "Epoch : [85] Train Loss : [1.96484] Val MAE : [3.15163]\n",
      "Epoch 00085: reducing learning rate of group 0 to 6.1035e-06.\n",
      "Epoch : [86] Train Loss : [1.96135] Val MAE : [3.24592]\n",
      "Epoch : [87] Train Loss : [1.96661] Val MAE : [3.22870]\n",
      "Epoch : [88] Train Loss : [1.96586] Val MAE : [3.36168]\n",
      "Epoch : [89] Train Loss : [1.96521] Val MAE : [3.45075]\n",
      "Epoch : [90] Train Loss : [1.96546] Val MAE : [3.34227]\n",
      "Epoch 00090: reducing learning rate of group 0 to 3.0518e-06.\n",
      "Epoch : [91] Train Loss : [1.96996] Val MAE : [3.35617]\n",
      "Epoch : [92] Train Loss : [1.96579] Val MAE : [3.34750]\n",
      "Epoch : [93] Train Loss : [1.96513] Val MAE : [3.49592]\n",
      "Epoch : [94] Train Loss : [1.96565] Val MAE : [3.54692]\n",
      "Epoch : [95] Train Loss : [1.96677] Val MAE : [3.46424]\n",
      "Epoch 00095: reducing learning rate of group 0 to 1.5259e-06.\n",
      "Epoch : [96] Train Loss : [1.96754] Val MAE : [3.45432]\n",
      "Epoch : [97] Train Loss : [1.96809] Val MAE : [3.40925]\n",
      "Epoch : [98] Train Loss : [1.96803] Val MAE : [3.44320]\n",
      "Epoch : [99] Train Loss : [1.96720] Val MAE : [3.44492]\n",
      "Epoch : [100] Train Loss : [1.96553] Val MAE : [3.46800]\n",
      "Epoch 00100: reducing learning rate of group 0 to 7.6294e-07.\n",
      "Epoch : [101] Train Loss : [1.96662] Val MAE : [3.45918]\n",
      "Epoch : [102] Train Loss : [1.96455] Val MAE : [3.45404]\n",
      "Epoch : [103] Train Loss : [1.96580] Val MAE : [3.47297]\n",
      "Epoch : [104] Train Loss : [1.96643] Val MAE : [3.46992]\n",
      "Epoch : [105] Train Loss : [1.96536] Val MAE : [3.45665]\n",
      "Epoch 00105: reducing learning rate of group 0 to 3.8147e-07.\n",
      "Epoch : [106] Train Loss : [1.96713] Val MAE : [3.44869]\n",
      "Epoch : [107] Train Loss : [1.96610] Val MAE : [3.44609]\n",
      "Epoch : [108] Train Loss : [1.96858] Val MAE : [3.44463]\n",
      "Epoch : [109] Train Loss : [1.96417] Val MAE : [3.44825]\n",
      "Epoch : [110] Train Loss : [1.96669] Val MAE : [3.43913]\n",
      "Epoch 00110: reducing learning rate of group 0 to 1.9073e-07.\n",
      "Epoch : [111] Train Loss : [1.96770] Val MAE : [3.44266]\n",
      "Epoch : [112] Train Loss : [1.96672] Val MAE : [3.44565]\n",
      "Epoch : [113] Train Loss : [1.96213] Val MAE : [3.44773]\n",
      "Epoch : [114] Train Loss : [1.96581] Val MAE : [3.44656]\n",
      "Epoch : [115] Train Loss : [1.96679] Val MAE : [3.44801]\n",
      "Epoch 00115: reducing learning rate of group 0 to 9.5367e-08.\n",
      "Epoch : [116] Train Loss : [1.96642] Val MAE : [3.44818]\n",
      "Epoch : [117] Train Loss : [1.96487] Val MAE : [3.44966]\n",
      "Epoch : [118] Train Loss : [1.96334] Val MAE : [3.44945]\n",
      "Epoch : [119] Train Loss : [1.96687] Val MAE : [3.44761]\n",
      "Epoch : [120] Train Loss : [1.96562] Val MAE : [3.44718]\n",
      "Epoch 00120: reducing learning rate of group 0 to 4.7684e-08.\n",
      "Epoch : [121] Train Loss : [1.96402] Val MAE : [3.44866]\n",
      "Epoch : [122] Train Loss : [1.96864] Val MAE : [3.44770]\n"
     ]
    },
    {
     "name": "stdout",
     "output_type": "stream",
     "text": [
      "Epoch : [123] Train Loss : [1.96609] Val MAE : [3.44746]\n",
      "Epoch : [124] Train Loss : [1.96263] Val MAE : [3.44852]\n",
      "Epoch : [125] Train Loss : [1.96693] Val MAE : [3.44911]\n",
      "Epoch 00125: reducing learning rate of group 0 to 2.3842e-08.\n",
      "Epoch : [126] Train Loss : [1.96568] Val MAE : [3.44937]\n",
      "Epoch : [127] Train Loss : [1.96435] Val MAE : [3.44926]\n",
      "Epoch : [128] Train Loss : [1.96307] Val MAE : [3.44927]\n",
      "Epoch : [129] Train Loss : [1.96699] Val MAE : [3.44919]\n",
      "Epoch : [130] Train Loss : [1.96618] Val MAE : [3.44918]\n",
      "Epoch 00130: reducing learning rate of group 0 to 1.1921e-08.\n",
      "Epoch : [131] Train Loss : [1.96600] Val MAE : [3.44921]\n",
      "Epoch : [132] Train Loss : [1.96797] Val MAE : [3.44905]\n",
      "Epoch : [133] Train Loss : [1.96682] Val MAE : [3.44912]\n",
      "Epoch : [134] Train Loss : [1.96450] Val MAE : [3.44912]\n",
      "Epoch : [135] Train Loss : [1.96572] Val MAE : [3.44922]\n",
      "Epoch : [136] Train Loss : [1.96284] Val MAE : [3.44922]\n",
      "Epoch : [137] Train Loss : [1.96567] Val MAE : [3.44921]\n",
      "Epoch : [138] Train Loss : [1.96492] Val MAE : [3.44922]\n",
      "Epoch : [139] Train Loss : [1.96720] Val MAE : [3.44922]\n",
      "Epoch : [140] Train Loss : [1.96876] Val MAE : [3.44922]\n",
      "Epoch : [141] Train Loss : [1.96445] Val MAE : [3.44922]\n",
      "Epoch : [142] Train Loss : [1.96589] Val MAE : [3.44925]\n",
      "Epoch : [143] Train Loss : [1.96611] Val MAE : [3.44925]\n",
      "Epoch : [144] Train Loss : [1.96736] Val MAE : [3.44925]\n",
      "Epoch : [145] Train Loss : [1.96497] Val MAE : [3.44920]\n",
      "Epoch : [146] Train Loss : [1.96619] Val MAE : [3.44913]\n",
      "Epoch : [147] Train Loss : [1.96346] Val MAE : [3.44913]\n",
      "Epoch : [148] Train Loss : [1.96976] Val MAE : [3.44913]\n",
      "Epoch : [149] Train Loss : [1.96739] Val MAE : [3.44913]\n",
      "Epoch : [150] Train Loss : [1.96727] Val MAE : [3.44913]\n"
     ]
    }
   ],
   "source": [
    "optimizer = torch.optim.Adam(params = model.parameters(), lr = CFG[\"LEARNING_RATE\"])\n",
    "scheduler = torch.optim.lr_scheduler.ReduceLROnPlateau(optimizer, mode='max', factor=0.5, patience=4,threshold_mode='abs',min_lr=1e-8, verbose=True)\n",
    "best_model = train(model, optimizer, train_loader, val_loader, scheduler, device) # 2018.01.01 ~ 2020.12.31 까지 데이터로 학습"
   ]
  },
  {
   "cell_type": "markdown",
   "id": "d11f7c81-e29f-41ac-ad9c-ab672f7465f1",
   "metadata": {},
   "source": [
    "## Inference"
   ]
  },
  {
   "cell_type": "code",
   "execution_count": 22,
   "id": "d16cbeef-44c1-4bb5-89c5-97062cf8440a",
   "metadata": {},
   "outputs": [],
   "source": [
    "test_df = pd.read_csv('./sample_submission.csv')\n",
    "test_df = make_ymd_feature(test_df)\n",
    "test_df = pd.concat([val_df[CFG['X_RANGE']*(-1):], test_df]).reset_index().drop(columns='index')"
   ]
  },
  {
   "cell_type": "code",
   "execution_count": 23,
   "id": "9b4cde82-08ca-4c0b-9430-7a6b8f879843",
   "metadata": {},
   "outputs": [
    {
     "data": {
      "text/html": [
       "<div>\n",
       "<style scoped>\n",
       "    .dataframe tbody tr th:only-of-type {\n",
       "        vertical-align: middle;\n",
       "    }\n",
       "\n",
       "    .dataframe tbody tr th {\n",
       "        vertical-align: top;\n",
       "    }\n",
       "\n",
       "    .dataframe thead th {\n",
       "        text-align: right;\n",
       "    }\n",
       "</style>\n",
       "<table border=\"1\" class=\"dataframe\">\n",
       "  <thead>\n",
       "    <tr style=\"text-align: right;\">\n",
       "      <th></th>\n",
       "      <th>년</th>\n",
       "      <th>월</th>\n",
       "      <th>일</th>\n",
       "      <th>광진구</th>\n",
       "      <th>동대문구</th>\n",
       "      <th>성동구</th>\n",
       "      <th>중랑구</th>\n",
       "    </tr>\n",
       "  </thead>\n",
       "  <tbody>\n",
       "    <tr>\n",
       "      <th>0</th>\n",
       "      <td>2.021</td>\n",
       "      <td>0.833333</td>\n",
       "      <td>0.096774</td>\n",
       "      <td>13.926</td>\n",
       "      <td>8.944</td>\n",
       "      <td>11.870</td>\n",
       "      <td>7.136</td>\n",
       "    </tr>\n",
       "    <tr>\n",
       "      <th>1</th>\n",
       "      <td>2.021</td>\n",
       "      <td>0.833333</td>\n",
       "      <td>0.129032</td>\n",
       "      <td>7.594</td>\n",
       "      <td>5.814</td>\n",
       "      <td>5.756</td>\n",
       "      <td>4.290</td>\n",
       "    </tr>\n",
       "    <tr>\n",
       "      <th>2</th>\n",
       "      <td>2.021</td>\n",
       "      <td>0.833333</td>\n",
       "      <td>0.161290</td>\n",
       "      <td>10.248</td>\n",
       "      <td>8.410</td>\n",
       "      <td>8.228</td>\n",
       "      <td>6.432</td>\n",
       "    </tr>\n",
       "    <tr>\n",
       "      <th>3</th>\n",
       "      <td>2.021</td>\n",
       "      <td>0.833333</td>\n",
       "      <td>0.193548</td>\n",
       "      <td>7.410</td>\n",
       "      <td>5.912</td>\n",
       "      <td>5.316</td>\n",
       "      <td>4.002</td>\n",
       "    </tr>\n",
       "    <tr>\n",
       "      <th>4</th>\n",
       "      <td>2.021</td>\n",
       "      <td>0.833333</td>\n",
       "      <td>0.225806</td>\n",
       "      <td>10.308</td>\n",
       "      <td>8.638</td>\n",
       "      <td>8.070</td>\n",
       "      <td>6.330</td>\n",
       "    </tr>\n",
       "  </tbody>\n",
       "</table>\n",
       "</div>"
      ],
      "text/plain": [
       "       년         월         일     광진구   동대문구     성동구    중랑구\n",
       "0  2.021  0.833333  0.096774  13.926  8.944  11.870  7.136\n",
       "1  2.021  0.833333  0.129032   7.594  5.814   5.756  4.290\n",
       "2  2.021  0.833333  0.161290  10.248  8.410   8.228  6.432\n",
       "3  2.021  0.833333  0.193548   7.410  5.912   5.316  4.002\n",
       "4  2.021  0.833333  0.225806  10.308  8.638   8.070  6.330"
      ]
     },
     "execution_count": 23,
     "metadata": {},
     "output_type": "execute_result"
    }
   ],
   "source": [
    "test_df.head()"
   ]
  },
  {
   "cell_type": "code",
   "execution_count": 24,
   "id": "5f57bdf8-7c78-48df-b127-b5d6896e0999",
   "metadata": {},
   "outputs": [],
   "source": [
    "def inference(model, df, device):\n",
    "    model.to(device)\n",
    "    model.eval()\n",
    "    for i in tqdm(range(CFG['X_RANGE'], len(df))):\n",
    "        X = torch.Tensor(np.array(df.loc[i-CFG['X_RANGE']:i-1, ['년', '월', '일', '광진구', '동대문구', '성동구', '중랑구']]).astype(float)).unsqueeze(0)\n",
    "        X = X.to(device)\n",
    "        with torch.no_grad():\n",
    "            model_pred = model(X)[0]\n",
    "        \n",
    "        model_pred = model_pred.cpu().numpy()\n",
    "        df.loc[i, ['광진구', '동대문구', '성동구', '중랑구']] = model_pred\n",
    "    return df.loc[CFG['X_RANGE']:, ['광진구', '동대문구', '성동구', '중랑구']].reset_index().drop(columns=['index'])"
   ]
  },
  {
   "cell_type": "code",
   "execution_count": 25,
   "id": "d5dd09bc-274f-4802-8ec8-878542ebfb19",
   "metadata": {},
   "outputs": [
    {
     "data": {
      "application/vnd.jupyter.widget-view+json": {
       "model_id": "d3d5143f18684664adbe5f7002d690f6",
       "version_major": 2,
       "version_minor": 0
      },
      "text/plain": [
       "  0%|          | 0/334 [00:00<?, ?it/s]"
      ]
     },
     "metadata": {},
     "output_type": "display_data"
    }
   ],
   "source": [
    "preds = inference(best_model, test_df, device)"
   ]
  },
  {
   "cell_type": "markdown",
   "id": "b35a1035-0e28-48c2-b882-f7ce4da214fa",
   "metadata": {},
   "source": [
    "## Submission"
   ]
  },
  {
   "cell_type": "code",
   "execution_count": 26,
   "id": "f7eea39d-8f59-4a45-9dd7-af447d6afb80",
   "metadata": {},
   "outputs": [
    {
     "data": {
      "text/html": [
       "<div>\n",
       "<style scoped>\n",
       "    .dataframe tbody tr th:only-of-type {\n",
       "        vertical-align: middle;\n",
       "    }\n",
       "\n",
       "    .dataframe tbody tr th {\n",
       "        vertical-align: top;\n",
       "    }\n",
       "\n",
       "    .dataframe thead th {\n",
       "        text-align: right;\n",
       "    }\n",
       "</style>\n",
       "<table border=\"1\" class=\"dataframe\">\n",
       "  <thead>\n",
       "    <tr style=\"text-align: right;\">\n",
       "      <th></th>\n",
       "      <th>일시</th>\n",
       "      <th>광진구</th>\n",
       "      <th>동대문구</th>\n",
       "      <th>성동구</th>\n",
       "      <th>중랑구</th>\n",
       "    </tr>\n",
       "  </thead>\n",
       "  <tbody>\n",
       "    <tr>\n",
       "      <th>0</th>\n",
       "      <td>20220101</td>\n",
       "      <td>0</td>\n",
       "      <td>0</td>\n",
       "      <td>0</td>\n",
       "      <td>0</td>\n",
       "    </tr>\n",
       "    <tr>\n",
       "      <th>1</th>\n",
       "      <td>20220102</td>\n",
       "      <td>0</td>\n",
       "      <td>0</td>\n",
       "      <td>0</td>\n",
       "      <td>0</td>\n",
       "    </tr>\n",
       "    <tr>\n",
       "      <th>2</th>\n",
       "      <td>20220103</td>\n",
       "      <td>0</td>\n",
       "      <td>0</td>\n",
       "      <td>0</td>\n",
       "      <td>0</td>\n",
       "    </tr>\n",
       "    <tr>\n",
       "      <th>3</th>\n",
       "      <td>20220104</td>\n",
       "      <td>0</td>\n",
       "      <td>0</td>\n",
       "      <td>0</td>\n",
       "      <td>0</td>\n",
       "    </tr>\n",
       "    <tr>\n",
       "      <th>4</th>\n",
       "      <td>20220105</td>\n",
       "      <td>0</td>\n",
       "      <td>0</td>\n",
       "      <td>0</td>\n",
       "      <td>0</td>\n",
       "    </tr>\n",
       "  </tbody>\n",
       "</table>\n",
       "</div>"
      ],
      "text/plain": [
       "         일시  광진구  동대문구  성동구  중랑구\n",
       "0  20220101    0     0    0    0\n",
       "1  20220102    0     0    0    0\n",
       "2  20220103    0     0    0    0\n",
       "3  20220104    0     0    0    0\n",
       "4  20220105    0     0    0    0"
      ]
     },
     "execution_count": 26,
     "metadata": {},
     "output_type": "execute_result"
    }
   ],
   "source": [
    "submit = pd.read_csv('./sample_submission.csv')\n",
    "submit.head()"
   ]
  },
  {
   "cell_type": "code",
   "execution_count": 27,
   "id": "b6ea90cc-159a-431f-9baf-f53a9d38e892",
   "metadata": {},
   "outputs": [],
   "source": [
    "submit['광진구'] = preds['광진구']\n",
    "submit['동대문구'] = preds['동대문구']\n",
    "submit['성동구'] = preds['성동구']\n",
    "submit['중랑구'] = preds['중랑구']"
   ]
  },
  {
   "cell_type": "code",
   "execution_count": 28,
   "id": "1b2cb82e",
   "metadata": {},
   "outputs": [
    {
     "data": {
      "text/plain": [
       "<AxesSubplot:>"
      ]
     },
     "execution_count": 28,
     "metadata": {},
     "output_type": "execute_result"
    },
    {
     "data": {
      "image/png": "[encoded data removed]",
      "text/plain": [
       "<Figure size 432x288 with 1 Axes>"
      ]
     },
     "metadata": {
      "needs_background": "light"
     },
     "output_type": "display_data"
    }
   ],
   "source": [
    "train_df['광진구'].plot()"
   ]
  },
  {
   "cell_type": "code",
   "execution_count": 29,
   "id": "2c8cb902",
   "metadata": {},
   "outputs": [
    {
     "data": {
      "text/plain": [
       "<AxesSubplot:>"
      ]
     },
     "execution_count": 29,
     "metadata": {},
     "output_type": "execute_result"
    },
    {
     "data": {
      "image/png": "[encoded data removed]",
      "text/plain": [
       "<Figure size 432x288 with 1 Axes>"
      ]
     },
     "metadata": {
      "needs_background": "light"
     },
     "output_type": "display_data"
    }
   ],
   "source": [
    "submit['광진구'].plot()"
   ]
  },
  {
   "cell_type": "code",
   "execution_count": 30,
   "id": "376990dc",
   "metadata": {},
   "outputs": [
    {
     "data": {
      "text/plain": [
       "<AxesSubplot:>"
      ]
     },
     "execution_count": 30,
     "metadata": {},
     "output_type": "execute_result"
    },
    {
     "data": {
      "image/png": "[encoded data removed]",
      "text/plain": [
       "<Figure size 432x288 with 1 Axes>"
      ]
     },
     "metadata": {
      "needs_background": "light"
     },
     "output_type": "display_data"
    }
   ],
   "source": [
    "train_df = pd.read_csv('./train.csv')\n",
    "pd.concat([train_df,submit]).reset_index()['광진구'].plot()"
   ]
  },
  {
   "cell_type": "code",
   "execution_count": 31,
   "id": "a9bbb2d5",
   "metadata": {},
   "outputs": [
    {
     "data": {
      "text/plain": [
       "<AxesSubplot:>"
      ]
     },
     "execution_count": 31,
     "metadata": {},
     "output_type": "execute_result"
    },
    {
     "data": {
      "image/png": "[encoded data removed]",
      "text/plain": [
       "<Figure size 432x288 with 1 Axes>"
      ]
     },
     "metadata": {
      "needs_background": "light"
     },
     "output_type": "display_data"
    }
   ],
   "source": [
    "pd.concat([train_df,submit]).reset_index()['동대문구'].plot()"
   ]
  },
  {
   "cell_type": "code",
   "execution_count": 32,
   "id": "38a6829e",
   "metadata": {},
   "outputs": [
    {
     "data": {
      "text/plain": [
       "<AxesSubplot:>"
      ]
     },
     "execution_count": 32,
     "metadata": {},
     "output_type": "execute_result"
    },
    {
     "data": {
      "image/png": "[encoded data removed]",
      "text/plain": [
       "<Figure size 432x288 with 1 Axes>"
      ]
     },
     "metadata": {
      "needs_background": "light"
     },
     "output_type": "display_data"
    }
   ],
   "source": [
    "pd.concat([train_df,submit]).reset_index()['성동구'].plot()"
   ]
  },
  {
   "cell_type": "code",
   "execution_count": 33,
   "id": "60e5760d",
   "metadata": {},
   "outputs": [
    {
     "data": {
      "text/plain": [
       "<AxesSubplot:>"
      ]
     },
     "execution_count": 33,
     "metadata": {},
     "output_type": "execute_result"
    },
    {
     "data": {
      "image/png": "[encoded data removed]",
      "text/plain": [
       "<Figure size 432x288 with 1 Axes>"
      ]
     },
     "metadata": {
      "needs_background": "light"
     },
     "output_type": "display_data"
    }
   ],
   "source": [
    "pd.concat([train_df,submit]).reset_index()['중랑구'].plot()"
   ]
  },
  {
   "cell_type": "code",
   "execution_count": 34,
   "id": "522ecb41-3aa0-4382-928a-1d6948ae4a26",
   "metadata": {},
   "outputs": [],
   "source": [
    "submit.to_csv('./submit.csv', index=False)"
   ]
  },
  {
   "cell_type": "code",
   "execution_count": 35,
   "id": "761d3789",
   "metadata": {},
   "outputs": [],
   "source": [
    "temp = pd.read_csv('./submit.csv')\n",
    "temp['광진구'] = temp['광진구']*1.4\n",
    "temp['동대문구'] = temp['동대문구']*1.4\n",
    "temp['성동구'] = temp['성동구']*1.4\n",
    "temp['중랑구'] = temp['중랑구']*1.4\n",
    "temp.to_csv('./submit1.csv', index=False)"
   ]
  },
  {
   "cell_type": "code",
   "execution_count": 36,
   "id": "0dc6fabd",
   "metadata": {},
   "outputs": [
    {
     "data": {
      "text/plain": [
       "<AxesSubplot:>"
      ]
     },
     "execution_count": 36,
     "metadata": {},
     "output_type": "execute_result"
    },
    {
     "data": {
      "image/png": "[encoded data removed]",
      "text/plain": [
       "<Figure size 432x288 with 1 Axes>"
      ]
     },
     "metadata": {
      "needs_background": "light"
     },
     "output_type": "display_data"
    }
   ],
   "source": [
    "pd.concat([train_df,submit*1.4]).reset_index()['광진구'].plot()"
   ]
  },
  {
   "cell_type": "code",
   "execution_count": 37,
   "id": "bbb97368",
   "metadata": {},
   "outputs": [
    {
     "data": {
      "text/plain": [
       "<AxesSubplot:>"
      ]
     },
     "execution_count": 37,
     "metadata": {},
     "output_type": "execute_result"
    },
    {
     "data": {
      "image/png": "[encoded data removed]",
      "text/plain": [
       "<Figure size 432x288 with 1 Axes>"
      ]
     },
     "metadata": {
      "needs_background": "light"
     },
     "output_type": "display_data"
    }
   ],
   "source": [
    "pd.concat([train_df,submit*1.8]).reset_index()['동대문구'].plot()"
   ]
  },
  {
   "cell_type": "code",
   "execution_count": 38,
   "id": "b4f50bea",
   "metadata": {},
   "outputs": [
    {
     "data": {
      "text/plain": [
       "<AxesSubplot:>"
      ]
     },
     "execution_count": 38,
     "metadata": {},
     "output_type": "execute_result"
    },
    {
     "data": {
      "image/png": "[encoded data removed]",
      "text/plain": [
       "<Figure size 432x288 with 1 Axes>"
      ]
     },
     "metadata": {
      "needs_background": "light"
     },
     "output_type": "display_data"
    }
   ],
   "source": [
    "pd.concat([train_df,submit*1.6]).reset_index()['성동구'].plot()"
   ]
  },
  {
   "cell_type": "code",
   "execution_count": 39,
   "id": "34accc62",
   "metadata": {},
   "outputs": [
    {
     "data": {
      "text/plain": [
       "<AxesSubplot:>"
      ]
     },
     "execution_count": 39,
     "metadata": {},
     "output_type": "execute_result"
    },
    {
     "data": {
      "image/png": "[encoded data removed]",
      "text/plain": [
       "<Figure size 432x288 with 1 Axes>"
      ]
     },
     "metadata": {
      "needs_background": "light"
     },
     "output_type": "display_data"
    }
   ],
   "source": [
    "pd.concat([train_df,submit*1.7]).reset_index()['중랑구'].plot()"
   ]
  }
 ],
 "metadata": {
  "kernelspec": {
   "display_name": "Python 3 (ipykernel)",
   "language": "python",
   "name": "python3"
  },
  "language_info": {
   "codemirror_mode": {
    "name": "ipython",
    "version": 3
   },
   "file_extension": ".py",
   "mimetype": "text/x-python",
   "name": "python",
   "nbconvert_exporter": "python",
   "pygments_lexer": "ipython3",
   "version": "3.9.13"
  }
 },
 "nbformat": 4,
 "nbformat_minor": 5
}
