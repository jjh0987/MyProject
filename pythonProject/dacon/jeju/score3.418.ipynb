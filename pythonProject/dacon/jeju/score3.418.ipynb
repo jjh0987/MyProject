{
 "cells": [
  {
   "cell_type": "markdown",
   "id": "4bb4f603",
   "metadata": {},
   "source": [
    "# Plan"
   ]
  },
  {
   "cell_type": "markdown",
   "id": "86a50d3a",
   "metadata": {},
   "source": [
    "- 'maximum_speed_limit' 이 랜덤포레스트에서 높은 중요도를 가짐 : 주형 EDA\n",
    "- test 에 속도 40 제한 구역이 없다.\n",
    "- 제한속도별로 랜덤포레스트를 돌린후 다시합치는 계획"
   ]
  },
  {
   "cell_type": "code",
   "execution_count": 11,
   "id": "c1fcf3d2",
   "metadata": {},
   "outputs": [],
   "source": [
    "import pandas as pd\n",
    "import numpy as np\n",
    "from sklearn.metrics import mean_absolute_error\n",
    "from sklearn.model_selection import train_test_split\n",
    "train = pd.read_parquet('./train.parquet')\n",
    "test = pd.read_parquet('./test.parquet')\n",
    "train = train.drop(['base_date','road_in_use','vehicle_restricted','height_restricted'],axis=1)\n",
    "test = test.drop(['base_date','road_in_use','vehicle_restricted','height_restricted'],axis=1)"
   ]
  },
  {
   "cell_type": "code",
   "execution_count": 12,
   "id": "17c3b063",
   "metadata": {},
   "outputs": [
    {
     "data": {
      "text/plain": [
       "60.0    1665573\n",
       "50.0    1103682\n",
       "70.0     995077\n",
       "80.0     700334\n",
       "30.0     229761\n",
       "40.0       6790\n",
       "Name: maximum_speed_limit, dtype: int64"
      ]
     },
     "execution_count": 12,
     "metadata": {},
     "output_type": "execute_result"
    }
   ],
   "source": [
    "train[\"maximum_speed_limit\"].value_counts()"
   ]
  },
  {
   "cell_type": "code",
   "execution_count": 54,
   "id": "8344ce33",
   "metadata": {},
   "outputs": [],
   "source": [
    "import pandas as pd\n",
    "import numpy as np\n",
    "from sklearn.metrics import mean_absolute_error\n",
    "from sklearn.model_selection import train_test_split\n",
    "train = pd.read_parquet('./train.parquet')\n",
    "test = pd.read_parquet('./test.parquet')\n",
    "train = train.drop(['base_date','road_in_use','vehicle_restricted','height_restricted'],axis=1)\n",
    "test = test.drop(['base_date','road_in_use','vehicle_restricted','height_restricted'],axis=1)\n",
    "\n",
    "from haversine import haversine, Unit, haversine_vector\n",
    "start = [(i-90,j) for i,j in zip(train['start_longitude'],train['start_latitude'])]\n",
    "end = [(i-90,j) for i,j in zip(train['end_longitude'],train['end_latitude'])]\n",
    "distance = [haversine(i, j, unit=Unit.KILOMETERS) for i,j in zip(start,end)]\n",
    "\n",
    "# train = train.drop(['start_longitude','end_longitude','start_latitude','end_latitude'],axis=1)\n",
    "train['distance'] = distance\n",
    "\n",
    "from haversine import haversine, Unit, haversine_vector\n",
    "start = [(i-90,j) for i,j in zip(test['start_longitude'],test['start_latitude'])]\n",
    "end = [(i-90,j) for i,j in zip(test['end_longitude'],test['end_latitude'])]\n",
    "distance = [haversine(i, j, unit=Unit.KILOMETERS) for i,j in zip(start,end)]\n",
    "\n",
    "# train = train.drop(['start_longitude','end_longitude','start_latitude','end_latitude'],axis=1)\n",
    "test['distance'] = distance"
   ]
  },
  {
   "cell_type": "markdown",
   "id": "0650db48",
   "metadata": {},
   "source": [
    "- 제한속도별로 랜덤포레스트를 돌린후 다시합치는 계획 : 예시로 속도 80제한 데이터만 추출하여 랜덤포레스트 돌려본다.\n",
    "- \"maximum_speed_limit\" 분리되면 사용되지 않으므로 레이블인코딩 제외"
   ]
  },
  {
   "cell_type": "code",
   "execution_count": 55,
   "id": "ff9c233c",
   "metadata": {},
   "outputs": [],
   "source": [
    "from sklearn.preprocessing import LabelEncoder\n",
    "str_col = [\"base_hour\",\"day_of_week\",\"lane_count\",\"road_rating\",\"multi_linked\",\"connect_code\"\n",
    "           ,\"weight_restricted\",\"road_type\",\"start_turn_restricted\",\n",
    "          \"end_turn_restricted\",\"road_name\",\"start_node_name\",\"end_node_name\",\n",
    "          'distance'] # \"maximum_speed_limit\"\n",
    "for i in str_col:\n",
    "    le = LabelEncoder()\n",
    "    le=le.fit(train[i])\n",
    "    train[i]=le.transform(train[i])\n",
    "    \n",
    "    for label in np.unique(test[i]):\n",
    "        if label not in le.classes_: \n",
    "            le.classes_ = np.append(le.classes_, label)\n",
    "    test[i]=le.transform(test[i])"
   ]
  },
  {
   "cell_type": "code",
   "execution_count": 5,
   "id": "0cd802d6",
   "metadata": {},
   "outputs": [
    {
     "name": "stdout",
     "output_type": "stream",
     "text": [
      "(700334, 20)\n",
      "(700334,)\n",
      "(9614, 20)\n"
     ]
    }
   ],
   "source": [
    "# train = train[train[\"maximum_speed_limit\"]==80]\n",
    "# y_train = train['target'] \n",
    "# X_train = train.drop(['id', 'target'], axis=1)\n",
    "\n",
    "# test = test[test[\"maximum_speed_limit\"]==80]\n",
    "# test_id = test['id']\n",
    "# test = test.drop(['id'], axis=1)\n",
    "\n",
    "# print(X_train.shape)\n",
    "# print(y_train.shape)\n",
    "# print(test.shape)"
   ]
  },
  {
   "cell_type": "code",
   "execution_count": 43,
   "id": "fd105fdb",
   "metadata": {},
   "outputs": [],
   "source": [
    "# prediction_table = pd.DataFrame(test_id)"
   ]
  },
  {
   "cell_type": "code",
   "execution_count": 6,
   "id": "94046472",
   "metadata": {},
   "outputs": [],
   "source": [
    "# X_train,X_test,y_train,y_test = train_test_split(\n",
    "#     X_train,y_train,test_size=0.04,random_state=10\n",
    "# )"
   ]
  },
  {
   "cell_type": "code",
   "execution_count": 7,
   "id": "d22d3145",
   "metadata": {},
   "outputs": [
    {
     "name": "stdout",
     "output_type": "stream",
     "text": [
      "2.4394020846719497\n"
     ]
    }
   ],
   "source": [
    "# from sklearn.ensemble import RandomForestRegressor\n",
    "# tp = RandomForestRegressor(random_state=56)\n",
    "# tp.fit(X_train,y_train)\n",
    "# pred = tp.predict(X_test)\n",
    "# mae = mean_absolute_error(pred,y_test)\n",
    "# print(mae)"
   ]
  },
  {
   "cell_type": "code",
   "execution_count": 46,
   "id": "bce62e16",
   "metadata": {},
   "outputs": [],
   "source": [
    "# prediction_table['target'] = tp.predict(test)"
   ]
  },
  {
   "cell_type": "code",
   "execution_count": 47,
   "id": "a7aba683",
   "metadata": {},
   "outputs": [],
   "source": [
    "# prediction_table.to_csv('./target80.csv')"
   ]
  },
  {
   "cell_type": "code",
   "execution_count": null,
   "id": "1dccb9a2",
   "metadata": {},
   "outputs": [],
   "source": [
    "# from sklearn.ensemble import VotingRegressor\n",
    "# from sklearn.ensemble import RandomForestRegressor\n",
    "\n",
    "\n",
    "# r1 = RandomForestRegressor(random_state=10,criterion='absolute_error')\n",
    "# r2 = CatBoostRegressor(random_state=10)\n",
    "# r3 = ExtraTreesRegressor(random_state=10,criterion='absolute_error')\n",
    "# vote = VotingRegressor([('r1', r1), ('r2', r2), ('r3', r3)])\n",
    "# vote.fit(X_train,y_train)"
   ]
  },
  {
   "cell_type": "code",
   "execution_count": 8,
   "id": "d51c2521",
   "metadata": {},
   "outputs": [],
   "source": [
    "# train = train.drop(['road_in_use','vehicle_restricted','height_restricted'],axis=1)\n"
   ]
  },
  {
   "cell_type": "code",
   "execution_count": 56,
   "id": "c0cf69fe",
   "metadata": {},
   "outputs": [],
   "source": [
    "train = train[train['connect_code'] == 0]\n",
    "train = train[train['multi_linked'] == 0]\n",
    "train = train[train['maximum_speed_limit'] != 40]"
   ]
  },
  {
   "cell_type": "code",
   "execution_count": 51,
   "id": "365d3634",
   "metadata": {},
   "outputs": [],
   "source": [
    "import pandas as pd\n",
    "import numpy as np\n",
    "from sklearn.metrics import mean_absolute_error\n",
    "from sklearn.model_selection import train_test_split\n",
    "from sklearn.ensemble import RandomForestRegressor\n",
    "from catboost import CatBoostRegressor\n",
    "from sklearn.ensemble import ExtraTreesRegressor\n",
    "from sklearn.ensemble import VotingRegressor\n",
    "from sklearn.preprocessing import LabelEncoder\n",
    "from sklearn.model_selection import GridSearchCV\n",
    "\n",
    "import lightgbm as lgb\n",
    "\n",
    "def rf_speed(speed,train,test):\n",
    "#     train = pd.read_parquet('./train.parquet')\n",
    "#     test = pd.read_parquet('./test.parquet')\n",
    "#     train = train.drop(['road_in_use','vehicle_restricted','height_restricted'],axis=1)\n",
    "#     test = test.drop(['road_in_use','vehicle_restricted','height_restricted'],axis=1)\n",
    "\n",
    "#     str_col = [\"base_date\",\"base_hour\",\"day_of_week\",\"lane_count\",\"road_rating\",\"multi_linked\",\"connect_code\"\n",
    "#            ,\"weight_restricted\",\"road_type\",\"start_latitude\",\"start_longitude\",\"start_turn_restricted\",\n",
    "#           \"end_turn_restricted\",\"road_name\",\"start_node_name\",\"end_node_name\",'end_latitude','end_longitude','distance'] # \"maximum_speed_limit\"\n",
    "#     for i in str_col:\n",
    "#         le = LabelEncoder()\n",
    "#         le=le.fit(train[i])\n",
    "#         train[i]=le.transform(train[i])\n",
    "\n",
    "#         for label in np.unique(test[i]):\n",
    "#             if label not in le.classes_: \n",
    "#                 le.classes_ = np.append(le.classes_, label)\n",
    "#         test[i]=le.transform(test[i])\n",
    "\n",
    "    train = train[train[\"maximum_speed_limit\"]==speed]\n",
    "    y_train = train['target'] \n",
    "    X_train = train.drop(['id', 'target'], axis=1)\n",
    "\n",
    "    test = test[test[\"maximum_speed_limit\"]==speed]\n",
    "    test_id = test['id']\n",
    "    test = test.drop(['id'], axis=1)\n",
    "\n",
    "    prediction_table = pd.DataFrame(test_id)\n",
    "\n",
    "    X_train,X_test,y_train,y_test = train_test_split(\n",
    "        X_train,y_train,test_size=0.04,random_state=10\n",
    "    )\n",
    "\n",
    "    r1 = RandomForestRegressor(random_state=56)\n",
    "    # r2 = CatBoostRegressor(random_state=10)\n",
    "#     r3 = ExtraTreesRegressor(random_state=56)\n",
    "#    r4 = lgb.LGBMRegressor(random_state=56,error_score=True)\n",
    "#    vote = VotingRegressor([('r1', r1), ('r3', r3)])\n",
    "\n",
    "    parms = {'verbose':[True]}\n",
    "    grid_cv = GridSearchCV(r1,param_grid=parms,cv=6,n_jobs=-1,scoring='neg_mean_absolute_error')# ,param_grid=parms\n",
    "    grid_cv.fit(X_train,y_train)\n",
    "\n",
    "    pred = grid_cv.predict(X_test)\n",
    "    mae = mean_absolute_error(pred,y_test)\n",
    "    print(mae)\n",
    "\n",
    "    prediction_table['target'] = grid_cv.predict(test)\n",
    "    prediction_table.to_csv(f'./target{speed}.csv')\n",
    "    print(f'save {speed}')"
   ]
  },
  {
   "cell_type": "code",
   "execution_count": 52,
   "id": "5893ab96",
   "metadata": {},
   "outputs": [
    {
     "name": "stderr",
     "output_type": "stream",
     "text": [
      "[Parallel(n_jobs=1)]: Using backend SequentialBackend with 1 concurrent workers.\n",
      "[Parallel(n_jobs=1)]: Done 100 out of 100 | elapsed:  2.0min finished\n",
      "[Parallel(n_jobs=1)]: Using backend SequentialBackend with 1 concurrent workers.\n",
      "[Parallel(n_jobs=1)]: Done 100 out of 100 | elapsed:    0.4s finished\n",
      "[Parallel(n_jobs=1)]: Using backend SequentialBackend with 1 concurrent workers.\n",
      "[Parallel(n_jobs=1)]: Done 100 out of 100 | elapsed:    0.0s finished\n"
     ]
    },
    {
     "name": "stdout",
     "output_type": "stream",
     "text": [
      "3.187297536092579\n",
      "save 80\n"
     ]
    }
   ],
   "source": [
    "rf_speed(80,train,test)"
   ]
  },
  {
   "cell_type": "code",
   "execution_count": 53,
   "id": "3e77ae5a",
   "metadata": {},
   "outputs": [
    {
     "name": "stderr",
     "output_type": "stream",
     "text": [
      "[Parallel(n_jobs=1)]: Using backend SequentialBackend with 1 concurrent workers.\n",
      "[Parallel(n_jobs=1)]: Done 100 out of 100 | elapsed:  3.4min finished\n",
      "[Parallel(n_jobs=1)]: Using backend SequentialBackend with 1 concurrent workers.\n",
      "[Parallel(n_jobs=1)]: Done 100 out of 100 | elapsed:    0.6s finished\n",
      "[Parallel(n_jobs=1)]: Using backend SequentialBackend with 1 concurrent workers.\n"
     ]
    },
    {
     "name": "stdout",
     "output_type": "stream",
     "text": [
      "3.755884298990132\n"
     ]
    },
    {
     "name": "stderr",
     "output_type": "stream",
     "text": [
      "[Parallel(n_jobs=1)]: Done 100 out of 100 | elapsed:    1.2s finished\n"
     ]
    },
    {
     "name": "stdout",
     "output_type": "stream",
     "text": [
      "save 70\n"
     ]
    },
    {
     "name": "stderr",
     "output_type": "stream",
     "text": [
      "[Parallel(n_jobs=1)]: Using backend SequentialBackend with 1 concurrent workers.\n",
      "[Parallel(n_jobs=1)]: Done 100 out of 100 | elapsed:  6.9min finished\n",
      "[Parallel(n_jobs=1)]: Using backend SequentialBackend with 1 concurrent workers.\n",
      "[Parallel(n_jobs=1)]: Done 100 out of 100 | elapsed:    1.2s finished\n",
      "[Parallel(n_jobs=1)]: Using backend SequentialBackend with 1 concurrent workers.\n"
     ]
    },
    {
     "name": "stdout",
     "output_type": "stream",
     "text": [
      "3.5274913114500954\n"
     ]
    },
    {
     "name": "stderr",
     "output_type": "stream",
     "text": [
      "[Parallel(n_jobs=1)]: Done 100 out of 100 | elapsed:    1.8s finished\n"
     ]
    },
    {
     "name": "stdout",
     "output_type": "stream",
     "text": [
      "save 60\n"
     ]
    },
    {
     "name": "stderr",
     "output_type": "stream",
     "text": [
      "[Parallel(n_jobs=1)]: Using backend SequentialBackend with 1 concurrent workers.\n",
      "[Parallel(n_jobs=1)]: Done 100 out of 100 | elapsed:  3.4min finished\n",
      "[Parallel(n_jobs=1)]: Using backend SequentialBackend with 1 concurrent workers.\n",
      "[Parallel(n_jobs=1)]: Done 100 out of 100 | elapsed:    0.7s finished\n",
      "[Parallel(n_jobs=1)]: Using backend SequentialBackend with 1 concurrent workers.\n"
     ]
    },
    {
     "name": "stdout",
     "output_type": "stream",
     "text": [
      "3.7162611337353413\n"
     ]
    },
    {
     "name": "stderr",
     "output_type": "stream",
     "text": [
      "[Parallel(n_jobs=1)]: Done 100 out of 100 | elapsed:    1.0s finished\n"
     ]
    },
    {
     "name": "stdout",
     "output_type": "stream",
     "text": [
      "save 50\n"
     ]
    },
    {
     "name": "stderr",
     "output_type": "stream",
     "text": [
      "[Parallel(n_jobs=1)]: Using backend SequentialBackend with 1 concurrent workers.\n",
      "[Parallel(n_jobs=1)]: Done 100 out of 100 | elapsed:   22.0s finished\n",
      "[Parallel(n_jobs=1)]: Using backend SequentialBackend with 1 concurrent workers.\n",
      "[Parallel(n_jobs=1)]: Done 100 out of 100 | elapsed:    0.0s finished\n",
      "[Parallel(n_jobs=1)]: Using backend SequentialBackend with 1 concurrent workers.\n"
     ]
    },
    {
     "name": "stdout",
     "output_type": "stream",
     "text": [
      "2.895622668667186\n",
      "save 30\n"
     ]
    },
    {
     "name": "stderr",
     "output_type": "stream",
     "text": [
      "[Parallel(n_jobs=1)]: Done 100 out of 100 | elapsed:    0.2s finished\n"
     ]
    }
   ],
   "source": [
    "rf_speed(70,train,test)\n",
    "rf_speed(60,train,test)\n",
    "rf_speed(50,train,test)\n",
    "rf_speed(30,train,test) # voting "
   ]
  },
  {
   "cell_type": "code",
   "execution_count": null,
   "id": "8fed00cb",
   "metadata": {},
   "outputs": [],
   "source": [
    "rf_speed(50,train,test)"
   ]
  },
  {
   "cell_type": "code",
   "execution_count": 23,
   "id": "8d3860e1",
   "metadata": {},
   "outputs": [],
   "source": [
    "ans = pd.concat([pd.read_csv('target30.csv'),pd.read_csv('target50.csv'),\n",
    "          pd.read_csv('target60.csv'),pd.read_csv('target70.csv'),\n",
    "          pd.read_csv('target80.csv')]).drop('Unnamed: 0',axis=1)\n",
    "ans = ans.sort_values('id')\n",
    "ans = ans.set_index('id')\n",
    "ans.to_csv('./submit.csv')"
   ]
  }
 ],
 "metadata": {
  "kernelspec": {
   "display_name": "Python 3 (ipykernel)",
   "language": "python",
   "name": "python3"
  },
  "language_info": {
   "codemirror_mode": {
    "name": "ipython",
    "version": 3
   },
   "file_extension": ".py",
   "mimetype": "text/x-python",
   "name": "python",
   "nbconvert_exporter": "python",
   "pygments_lexer": "ipython3",
   "version": "3.9.12"
  }
 },
 "nbformat": 4,
 "nbformat_minor": 5
}
