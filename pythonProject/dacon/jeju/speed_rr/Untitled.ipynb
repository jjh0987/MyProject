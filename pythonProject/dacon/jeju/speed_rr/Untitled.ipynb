{
 "cells": [
  {
   "cell_type": "code",
   "execution_count": 1,
   "id": "dedb0409",
   "metadata": {},
   "outputs": [],
   "source": [
    "from glob import glob\n",
    "import pandas as pd"
   ]
  },
  {
   "cell_type": "code",
   "execution_count": 6,
   "id": "1f8df694",
   "metadata": {},
   "outputs": [
    {
     "name": "stdout",
     "output_type": "stream",
     "text": [
      "good :)\n"
     ]
    }
   ],
   "source": [
    "def save_bundle_pred():\n",
    "    file = glob('*.csv')\n",
    "    prediction_tbl = pd.DataFrame()\n",
    "    for i in file:\n",
    "        prediction_tbl = pd.concat([prediction_tbl,pd.read_csv(i)])\n",
    "\n",
    "    prediction_tbl.drop('Unnamed: 0',axis=1,inplace=True)\n",
    "    prediction_tbl.sort_values('id',inplace=True)\n",
    "    prediction_tbl.set_index('id',inplace=True)\n",
    "    \n",
    "    prediction_tbl.to_csv('./submit.csv')\n",
    "    print('good :)')\n",
    "    \n",
    "save_bundle_pred()"
   ]
  }
 ],
 "metadata": {
  "kernelspec": {
   "display_name": "Python 3 (ipykernel)",
   "language": "python",
   "name": "python3"
  },
  "language_info": {
   "codemirror_mode": {
    "name": "ipython",
    "version": 3
   },
   "file_extension": ".py",
   "mimetype": "text/x-python",
   "name": "python",
   "nbconvert_exporter": "python",
   "pygments_lexer": "ipython3",
   "version": "3.9.12"
  }
 },
 "nbformat": 4,
 "nbformat_minor": 5
}
