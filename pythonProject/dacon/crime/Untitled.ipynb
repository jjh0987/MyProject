{
 "cells": [
  {
   "cell_type": "code",
   "execution_count": 1,
   "id": "7cf8eed8",
   "metadata": {},
   "outputs": [],
   "source": [
    "import pandas as pd\n",
    "import numpy as np\n",
    "import random\n",
    "import os\n",
    "\n",
    "from sklearn.preprocessing import LabelEncoder\n",
    "import pandas as pd\n",
    "train = pd.read_csv('./train.csv')\n",
    "test = pd.read_csv('./test.csv')"
   ]
  },
  {
   "cell_type": "code",
   "execution_count": 2,
   "id": "e9615083",
   "metadata": {},
   "outputs": [],
   "source": [
    "train = train.drop(['월','요일','강설량(mm)','적설량(cm)','풍향','짙은안개','번개','진눈깨비','서리','연기/연무','눈날림'],axis=1)\n",
    "test = test.drop(['월','요일','강설량(mm)','적설량(cm)','풍향','짙은안개','번개','진눈깨비','서리','연기/연무','눈날림'],axis=1)"
   ]
  },
  {
   "cell_type": "code",
   "execution_count": 3,
   "id": "5540f8ea",
   "metadata": {},
   "outputs": [
    {
     "name": "stdout",
     "output_type": "stream",
     "text": [
      "['공원', '백화점', '병원', '식당', '약국', '은행', '인도', '주거지', '주유소', '주차장', '차도', '편의점', '학교', '호텔/모텔']\n",
      "['공원', '백화점', '병원', '식당', '약국', '은행', '인도', '주거지', '주유소', '주차장', '차도', '편의점', '학교', '호텔/모텔']\n"
     ]
    }
   ],
   "source": [
    "print(sorted(train['범죄발생지'].unique()))\n",
    "print(sorted(test['범죄발생지'].unique()))"
   ]
  },
  {
   "cell_type": "code",
   "execution_count": 4,
   "id": "1c1632e6",
   "metadata": {},
   "outputs": [],
   "source": [
    "def seed_everything(seed):\n",
    "    random.seed(seed)\n",
    "    os.environ['PYTHONHASHSEED'] = str(seed)\n",
    "    np.random.seed(seed)\n",
    "\n",
    "seed_everything(42) # Seed 고정"
   ]
  },
  {
   "cell_type": "code",
   "execution_count": 5,
   "id": "e9b86180",
   "metadata": {},
   "outputs": [],
   "source": [
    "x_train = train.drop(['ID'], axis = 1)\n",
    "# y_train = train['TARGET']\n",
    "\n",
    "x_test = test.drop('ID', axis = 1)"
   ]
  },
  {
   "cell_type": "code",
   "execution_count": 6,
   "id": "eecf7974",
   "metadata": {},
   "outputs": [],
   "source": [
    "ordinal_features = ['범죄발생지']\n",
    "\n",
    "for feature in ordinal_features:\n",
    "    le = LabelEncoder()\n",
    "    le = le.fit(x_train[feature])\n",
    "    x_train[feature] = le.transform(x_train[feature])\n",
    "\n",
    "    # x_train데이터에서 존재하지 않았던 값이 x_test 데이터에 존재할 수도 있습니다.\n",
    "    # 따라서 x_test 데이터를 바로 변형시키지 않고 고윳값을 확인후 x_test 데이터를 변환합니다.\n",
    "    for label in np.unique(x_test[feature]):\n",
    "        if label not in le.classes_:\n",
    "            le.classes_ = np.append(le.classes_, label)\n",
    "    x_test[feature] = le.transform(x_test[feature])"
   ]
  },
  {
   "cell_type": "code",
   "execution_count": 11,
   "id": "d455db5c",
   "metadata": {},
   "outputs": [
    {
     "ename": "ModuleNotFoundError",
     "evalue": "No module named 'pycaret'",
     "output_type": "error",
     "traceback": [
      "\u001b[0;31m---------------------------------------------------------------------------\u001b[0m",
      "\u001b[0;31mModuleNotFoundError\u001b[0m                       Traceback (most recent call last)",
      "Input \u001b[0;32mIn [11]\u001b[0m, in \u001b[0;36m<cell line: 1>\u001b[0;34m()\u001b[0m\n\u001b[0;32m----> 1\u001b[0m \u001b[38;5;28;01mfrom\u001b[39;00m \u001b[38;5;21;01mpycaret\u001b[39;00m \u001b[38;5;28;01mimport\u001b[39;00m classification\n\u001b[1;32m      2\u001b[0m classification\u001b[38;5;241m.\u001b[39msetup(data\u001b[38;5;241m=\u001b[39mx_train,target\u001b[38;5;241m=\u001b[39m\u001b[38;5;124m'\u001b[39m\u001b[38;5;124mTARGET\u001b[39m\u001b[38;5;124m'\u001b[39m)\n",
      "\u001b[0;31mModuleNotFoundError\u001b[0m: No module named 'pycaret'"
     ]
    }
   ],
   "source": [
    "from pycaret import classification\n",
    "classification.setup(data=x_train,target='TARGET')"
   ]
  },
  {
   "cell_type": "code",
   "execution_count": 12,
   "id": "9864b229",
   "metadata": {},
   "outputs": [
    {
     "ename": "NameError",
     "evalue": "name 'classification' is not defined",
     "output_type": "error",
     "traceback": [
      "\u001b[0;31m---------------------------------------------------------------------------\u001b[0m",
      "\u001b[0;31mNameError\u001b[0m                                 Traceback (most recent call last)",
      "Input \u001b[0;32mIn [12]\u001b[0m, in \u001b[0;36m<cell line: 1>\u001b[0;34m()\u001b[0m\n\u001b[0;32m----> 1\u001b[0m best \u001b[38;5;241m=\u001b[39m \u001b[43mclassification\u001b[49m\u001b[38;5;241m.\u001b[39mcompare_models(n_select\u001b[38;5;241m=\u001b[39m\u001b[38;5;241m5\u001b[39m,fold\u001b[38;5;241m=\u001b[39m\u001b[38;5;241m10\u001b[39m)\n",
      "\u001b[0;31mNameError\u001b[0m: name 'classification' is not defined"
     ]
    }
   ],
   "source": [
    "best = classification.compare_models(n_select=5,fold=10)"
   ]
  },
  {
   "cell_type": "code",
   "execution_count": 11,
   "id": "05d7b5f9",
   "metadata": {},
   "outputs": [],
   "source": [
    "probas = []\n",
    "for model in best:\n",
    "    probas.append(model.predict_proba(x_test))\n",
    "\n",
    "probas = np.array(probas)\n",
    "pred = [np.argmax(i) for i in 0.4*probas[0]+0.3*probas[1]+0.3*probas[2]] # np.array(probas).mean(axis=0)"
   ]
  },
  {
   "cell_type": "code",
   "execution_count": 12,
   "id": "d7c181cf",
   "metadata": {},
   "outputs": [],
   "source": [
    "sub = pd.read_csv('./sample_submission.csv')\n",
    "sub.set_index('ID',inplace=True)\n",
    "sub['TARGET'] = pred\n",
    "sub.to_csv('./answer.csv')"
   ]
  },
  {
   "cell_type": "code",
   "execution_count": null,
   "id": "9e4c7ef9",
   "metadata": {},
   "outputs": [],
   "source": []
  }
 ],
 "metadata": {
  "kernelspec": {
   "display_name": "Python 3 (ipykernel)",
   "language": "python",
   "name": "python3"
  },
  "language_info": {
   "codemirror_mode": {
    "name": "ipython",
    "version": 3
   },
   "file_extension": ".py",
   "mimetype": "text/x-python",
   "name": "python",
   "nbconvert_exporter": "python",
   "pygments_lexer": "ipython3",
   "version": "3.9.13"
  }
 },
 "nbformat": 4,
 "nbformat_minor": 5
}
