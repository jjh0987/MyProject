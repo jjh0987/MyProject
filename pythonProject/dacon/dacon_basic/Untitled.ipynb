{
 "cells": [
  {
   "cell_type": "code",
   "execution_count": 1,
   "id": "43ef2f34",
   "metadata": {},
   "outputs": [],
   "source": [
    "import pandas as pd\n",
    "import numpy as np"
   ]
  },
  {
   "cell_type": "code",
   "execution_count": 2,
   "id": "855d0763",
   "metadata": {},
   "outputs": [
    {
     "data": {
      "text/html": [
       "<div>\n",
       "<style scoped>\n",
       "    .dataframe tbody tr th:only-of-type {\n",
       "        vertical-align: middle;\n",
       "    }\n",
       "\n",
       "    .dataframe tbody tr th {\n",
       "        vertical-align: top;\n",
       "    }\n",
       "\n",
       "    .dataframe thead th {\n",
       "        text-align: right;\n",
       "    }\n",
       "</style>\n",
       "<table border=\"1\" class=\"dataframe\">\n",
       "  <thead>\n",
       "    <tr style=\"text-align: right;\">\n",
       "      <th></th>\n",
       "      <th>ID</th>\n",
       "      <th>Subscription_Length</th>\n",
       "      <th>Voice_Mailbox_Usage</th>\n",
       "      <th>Early_Call_Length</th>\n",
       "      <th>Early_Calls_Freq</th>\n",
       "      <th>Early_Call_Fee</th>\n",
       "      <th>Late_Call_Length</th>\n",
       "      <th>Late_Calls_Freq</th>\n",
       "      <th>Late_Call_Fee</th>\n",
       "      <th>Night_Call_Length</th>\n",
       "      <th>Night_Calls_Freq</th>\n",
       "      <th>Night_Call_Fee</th>\n",
       "      <th>Counseling_Calls</th>\n",
       "      <th>Cancellation_Status</th>\n",
       "    </tr>\n",
       "  </thead>\n",
       "  <tbody>\n",
       "    <tr>\n",
       "      <th>0</th>\n",
       "      <td>TRAIN_00000</td>\n",
       "      <td>329</td>\n",
       "      <td>0</td>\n",
       "      <td>99.2</td>\n",
       "      <td>93</td>\n",
       "      <td>27.3</td>\n",
       "      <td>268.8</td>\n",
       "      <td>68</td>\n",
       "      <td>28.92</td>\n",
       "      <td>262.9</td>\n",
       "      <td>328</td>\n",
       "      <td>32.89</td>\n",
       "      <td>2</td>\n",
       "      <td>0</td>\n",
       "    </tr>\n",
       "    <tr>\n",
       "      <th>1</th>\n",
       "      <td>TRAIN_00001</td>\n",
       "      <td>2</td>\n",
       "      <td>80</td>\n",
       "      <td>323.9</td>\n",
       "      <td>323</td>\n",
       "      <td>83.7</td>\n",
       "      <td>269.4</td>\n",
       "      <td>326</td>\n",
       "      <td>32.09</td>\n",
       "      <td>322.8</td>\n",
       "      <td>209</td>\n",
       "      <td>32.32</td>\n",
       "      <td>2</td>\n",
       "      <td>0</td>\n",
       "    </tr>\n",
       "    <tr>\n",
       "      <th>2</th>\n",
       "      <td>TRAIN_00002</td>\n",
       "      <td>93</td>\n",
       "      <td>28</td>\n",
       "      <td>282.4</td>\n",
       "      <td>323</td>\n",
       "      <td>34.2</td>\n",
       "      <td>207.0</td>\n",
       "      <td>322</td>\n",
       "      <td>32.82</td>\n",
       "      <td>280.8</td>\n",
       "      <td>328</td>\n",
       "      <td>8.28</td>\n",
       "      <td>0</td>\n",
       "      <td>0</td>\n",
       "    </tr>\n",
       "    <tr>\n",
       "      <th>3</th>\n",
       "      <td>TRAIN_00003</td>\n",
       "      <td>223</td>\n",
       "      <td>1</td>\n",
       "      <td>221.4</td>\n",
       "      <td>223</td>\n",
       "      <td>25.1</td>\n",
       "      <td>233.0</td>\n",
       "      <td>61</td>\n",
       "      <td>23.90</td>\n",
       "      <td>203.8</td>\n",
       "      <td>234</td>\n",
       "      <td>9.36</td>\n",
       "      <td>0</td>\n",
       "      <td>0</td>\n",
       "    </tr>\n",
       "    <tr>\n",
       "      <th>4</th>\n",
       "      <td>TRAIN_00004</td>\n",
       "      <td>222</td>\n",
       "      <td>0</td>\n",
       "      <td>96.3</td>\n",
       "      <td>222</td>\n",
       "      <td>28.7</td>\n",
       "      <td>223.9</td>\n",
       "      <td>69</td>\n",
       "      <td>28.08</td>\n",
       "      <td>263.1</td>\n",
       "      <td>223</td>\n",
       "      <td>2.80</td>\n",
       "      <td>8</td>\n",
       "      <td>0</td>\n",
       "    </tr>\n",
       "    <tr>\n",
       "      <th>...</th>\n",
       "      <td>...</td>\n",
       "      <td>...</td>\n",
       "      <td>...</td>\n",
       "      <td>...</td>\n",
       "      <td>...</td>\n",
       "      <td>...</td>\n",
       "      <td>...</td>\n",
       "      <td>...</td>\n",
       "      <td>...</td>\n",
       "      <td>...</td>\n",
       "      <td>...</td>\n",
       "      <td>...</td>\n",
       "      <td>...</td>\n",
       "      <td>...</td>\n",
       "    </tr>\n",
       "    <tr>\n",
       "      <th>30195</th>\n",
       "      <td>TRAIN_30195</td>\n",
       "      <td>263</td>\n",
       "      <td>80</td>\n",
       "      <td>289.6</td>\n",
       "      <td>201</td>\n",
       "      <td>21.8</td>\n",
       "      <td>280.5</td>\n",
       "      <td>323</td>\n",
       "      <td>29.88</td>\n",
       "      <td>208.0</td>\n",
       "      <td>66</td>\n",
       "      <td>9.28</td>\n",
       "      <td>2</td>\n",
       "      <td>0</td>\n",
       "    </tr>\n",
       "    <tr>\n",
       "      <th>30196</th>\n",
       "      <td>TRAIN_30196</td>\n",
       "      <td>283</td>\n",
       "      <td>81</td>\n",
       "      <td>210.7</td>\n",
       "      <td>280</td>\n",
       "      <td>90.5</td>\n",
       "      <td>284.1</td>\n",
       "      <td>202</td>\n",
       "      <td>32.80</td>\n",
       "      <td>287.8</td>\n",
       "      <td>203</td>\n",
       "      <td>6.28</td>\n",
       "      <td>2</td>\n",
       "      <td>0</td>\n",
       "    </tr>\n",
       "    <tr>\n",
       "      <th>30197</th>\n",
       "      <td>TRAIN_30197</td>\n",
       "      <td>24</td>\n",
       "      <td>0</td>\n",
       "      <td>222.4</td>\n",
       "      <td>33</td>\n",
       "      <td>22.1</td>\n",
       "      <td>233.9</td>\n",
       "      <td>32</td>\n",
       "      <td>22.22</td>\n",
       "      <td>293.6</td>\n",
       "      <td>95</td>\n",
       "      <td>4.22</td>\n",
       "      <td>2</td>\n",
       "      <td>0</td>\n",
       "    </tr>\n",
       "    <tr>\n",
       "      <th>30198</th>\n",
       "      <td>TRAIN_30198</td>\n",
       "      <td>63</td>\n",
       "      <td>1</td>\n",
       "      <td>262.4</td>\n",
       "      <td>202</td>\n",
       "      <td>29.6</td>\n",
       "      <td>280.6</td>\n",
       "      <td>282</td>\n",
       "      <td>28.88</td>\n",
       "      <td>280.9</td>\n",
       "      <td>207</td>\n",
       "      <td>20.88</td>\n",
       "      <td>2</td>\n",
       "      <td>1</td>\n",
       "    </tr>\n",
       "    <tr>\n",
       "      <th>30199</th>\n",
       "      <td>TRAIN_30199</td>\n",
       "      <td>200</td>\n",
       "      <td>1</td>\n",
       "      <td>327.1</td>\n",
       "      <td>203</td>\n",
       "      <td>86.8</td>\n",
       "      <td>330.1</td>\n",
       "      <td>82</td>\n",
       "      <td>28.88</td>\n",
       "      <td>289.1</td>\n",
       "      <td>323</td>\n",
       "      <td>6.28</td>\n",
       "      <td>0</td>\n",
       "      <td>0</td>\n",
       "    </tr>\n",
       "  </tbody>\n",
       "</table>\n",
       "<p>30200 rows × 14 columns</p>\n",
       "</div>"
      ],
      "text/plain": [
       "                ID  Subscription_Length  Voice_Mailbox_Usage  \\\n",
       "0      TRAIN_00000                  329                    0   \n",
       "1      TRAIN_00001                    2                   80   \n",
       "2      TRAIN_00002                   93                   28   \n",
       "3      TRAIN_00003                  223                    1   \n",
       "4      TRAIN_00004                  222                    0   \n",
       "...            ...                  ...                  ...   \n",
       "30195  TRAIN_30195                  263                   80   \n",
       "30196  TRAIN_30196                  283                   81   \n",
       "30197  TRAIN_30197                   24                    0   \n",
       "30198  TRAIN_30198                   63                    1   \n",
       "30199  TRAIN_30199                  200                    1   \n",
       "\n",
       "       Early_Call_Length  Early_Calls_Freq  Early_Call_Fee  Late_Call_Length  \\\n",
       "0                   99.2                93            27.3             268.8   \n",
       "1                  323.9               323            83.7             269.4   \n",
       "2                  282.4               323            34.2             207.0   \n",
       "3                  221.4               223            25.1             233.0   \n",
       "4                   96.3               222            28.7             223.9   \n",
       "...                  ...               ...             ...               ...   \n",
       "30195              289.6               201            21.8             280.5   \n",
       "30196              210.7               280            90.5             284.1   \n",
       "30197              222.4                33            22.1             233.9   \n",
       "30198              262.4               202            29.6             280.6   \n",
       "30199              327.1               203            86.8             330.1   \n",
       "\n",
       "       Late_Calls_Freq  Late_Call_Fee  Night_Call_Length  Night_Calls_Freq  \\\n",
       "0                   68          28.92              262.9               328   \n",
       "1                  326          32.09              322.8               209   \n",
       "2                  322          32.82              280.8               328   \n",
       "3                   61          23.90              203.8               234   \n",
       "4                   69          28.08              263.1               223   \n",
       "...                ...            ...                ...               ...   \n",
       "30195              323          29.88              208.0                66   \n",
       "30196              202          32.80              287.8               203   \n",
       "30197               32          22.22              293.6                95   \n",
       "30198              282          28.88              280.9               207   \n",
       "30199               82          28.88              289.1               323   \n",
       "\n",
       "       Night_Call_Fee  Counseling_Calls  Cancellation_Status  \n",
       "0               32.89                 2                    0  \n",
       "1               32.32                 2                    0  \n",
       "2                8.28                 0                    0  \n",
       "3                9.36                 0                    0  \n",
       "4                2.80                 8                    0  \n",
       "...               ...               ...                  ...  \n",
       "30195            9.28                 2                    0  \n",
       "30196            6.28                 2                    0  \n",
       "30197            4.22                 2                    0  \n",
       "30198           20.88                 2                    1  \n",
       "30199            6.28                 0                    0  \n",
       "\n",
       "[30200 rows x 14 columns]"
      ]
     },
     "execution_count": 2,
     "metadata": {},
     "output_type": "execute_result"
    }
   ],
   "source": [
    "train = pd.read_csv('./train.csv')\n",
    "test = pd.read_csv('./test.csv')\n",
    "columns = ['ID',\n",
    "             'Subscription_Length',\n",
    "             'Voice_Mailbox_Usage',\n",
    "             'Early_Call_Length',\n",
    "             'Early_Calls_Freq',\n",
    "             'Early_Call_Fee',\n",
    "             'Late_Call_Length',\n",
    "             'Late_Calls_Freq',\n",
    "             'Late_Call_Fee',\n",
    "             'Night_Call_Length',\n",
    "             'Night_Calls_Freq',\n",
    "             'Night_Call_Fee',\n",
    "             'Counseling_Calls',\n",
    "             'Cancellation_Status']\n",
    "train.columns = columns\n",
    "test.columns = columns[:13]\n",
    "train"
   ]
  },
  {
   "cell_type": "code",
   "execution_count": 3,
   "id": "995a1209",
   "metadata": {},
   "outputs": [],
   "source": [
    "# main_time = []\n",
    "# for i in train.loc[:,['Early_Call_Length','Late_Call_Length','Night_Call_Length']].values:\n",
    "#     i = list(i)\n",
    "#     main_time.append(i.index(max(i)))\n",
    "# train['main_time'] = main_time    \n",
    "\n",
    "# main_time = []\n",
    "# for i in test.loc[:,['Early_Call_Length','Late_Call_Length','Night_Call_Length']].values:\n",
    "#     i = list(i)\n",
    "#     main_time.append(i.index(max(i)))\n",
    "# test['main_time'] = main_time    \n"
   ]
  },
  {
   "cell_type": "code",
   "execution_count": 4,
   "id": "68746bb0",
   "metadata": {},
   "outputs": [
    {
     "name": "stderr",
     "output_type": "stream",
     "text": [
      "C:\\Users\\user\\AppData\\Local\\Temp\\ipykernel_26336\\2189804198.py:1: FutureWarning: The default value of numeric_only in DataFrame.corr is deprecated. In a future version, it will default to False. Select only valid columns or specify the value of numeric_only to silence this warning.\n",
      "  train.corr()\n"
     ]
    },
    {
     "data": {
      "text/html": [
       "<div>\n",
       "<style scoped>\n",
       "    .dataframe tbody tr th:only-of-type {\n",
       "        vertical-align: middle;\n",
       "    }\n",
       "\n",
       "    .dataframe tbody tr th {\n",
       "        vertical-align: top;\n",
       "    }\n",
       "\n",
       "    .dataframe thead th {\n",
       "        text-align: right;\n",
       "    }\n",
       "</style>\n",
       "<table border=\"1\" class=\"dataframe\">\n",
       "  <thead>\n",
       "    <tr style=\"text-align: right;\">\n",
       "      <th></th>\n",
       "      <th>Subscription_Length</th>\n",
       "      <th>Voice_Mailbox_Usage</th>\n",
       "      <th>Early_Call_Length</th>\n",
       "      <th>Early_Calls_Freq</th>\n",
       "      <th>Early_Call_Fee</th>\n",
       "      <th>Late_Call_Length</th>\n",
       "      <th>Late_Calls_Freq</th>\n",
       "      <th>Late_Call_Fee</th>\n",
       "      <th>Night_Call_Length</th>\n",
       "      <th>Night_Calls_Freq</th>\n",
       "      <th>Night_Call_Fee</th>\n",
       "      <th>Counseling_Calls</th>\n",
       "      <th>Cancellation_Status</th>\n",
       "    </tr>\n",
       "  </thead>\n",
       "  <tbody>\n",
       "    <tr>\n",
       "      <th>Subscription_Length</th>\n",
       "      <td>1.000000</td>\n",
       "      <td>0.069771</td>\n",
       "      <td>0.190535</td>\n",
       "      <td>0.128138</td>\n",
       "      <td>0.118500</td>\n",
       "      <td>0.223365</td>\n",
       "      <td>0.119532</td>\n",
       "      <td>0.208486</td>\n",
       "      <td>0.256722</td>\n",
       "      <td>0.111628</td>\n",
       "      <td>0.064803</td>\n",
       "      <td>0.073547</td>\n",
       "      <td>0.006688</td>\n",
       "    </tr>\n",
       "    <tr>\n",
       "      <th>Voice_Mailbox_Usage</th>\n",
       "      <td>0.069771</td>\n",
       "      <td>1.000000</td>\n",
       "      <td>0.045449</td>\n",
       "      <td>0.031312</td>\n",
       "      <td>0.070361</td>\n",
       "      <td>0.067955</td>\n",
       "      <td>0.039927</td>\n",
       "      <td>0.065085</td>\n",
       "      <td>0.068964</td>\n",
       "      <td>0.052887</td>\n",
       "      <td>0.025955</td>\n",
       "      <td>0.010326</td>\n",
       "      <td>-0.062734</td>\n",
       "    </tr>\n",
       "    <tr>\n",
       "      <th>Early_Call_Length</th>\n",
       "      <td>0.190535</td>\n",
       "      <td>0.045449</td>\n",
       "      <td>1.000000</td>\n",
       "      <td>0.213815</td>\n",
       "      <td>0.336852</td>\n",
       "      <td>0.493299</td>\n",
       "      <td>0.239448</td>\n",
       "      <td>0.483473</td>\n",
       "      <td>0.508642</td>\n",
       "      <td>0.238676</td>\n",
       "      <td>0.177415</td>\n",
       "      <td>0.158215</td>\n",
       "      <td>0.029975</td>\n",
       "    </tr>\n",
       "    <tr>\n",
       "      <th>Early_Calls_Freq</th>\n",
       "      <td>0.128138</td>\n",
       "      <td>0.031312</td>\n",
       "      <td>0.213815</td>\n",
       "      <td>1.000000</td>\n",
       "      <td>0.100227</td>\n",
       "      <td>0.265814</td>\n",
       "      <td>0.147605</td>\n",
       "      <td>0.247990</td>\n",
       "      <td>0.289059</td>\n",
       "      <td>0.109052</td>\n",
       "      <td>0.102214</td>\n",
       "      <td>0.072544</td>\n",
       "      <td>0.010974</td>\n",
       "    </tr>\n",
       "    <tr>\n",
       "      <th>Early_Call_Fee</th>\n",
       "      <td>0.118500</td>\n",
       "      <td>0.070361</td>\n",
       "      <td>0.336852</td>\n",
       "      <td>0.100227</td>\n",
       "      <td>1.000000</td>\n",
       "      <td>0.219930</td>\n",
       "      <td>0.098014</td>\n",
       "      <td>0.216840</td>\n",
       "      <td>0.219115</td>\n",
       "      <td>0.126778</td>\n",
       "      <td>0.075288</td>\n",
       "      <td>0.102932</td>\n",
       "      <td>-0.071006</td>\n",
       "    </tr>\n",
       "    <tr>\n",
       "      <th>Late_Call_Length</th>\n",
       "      <td>0.223365</td>\n",
       "      <td>0.067955</td>\n",
       "      <td>0.493299</td>\n",
       "      <td>0.265814</td>\n",
       "      <td>0.219930</td>\n",
       "      <td>1.000000</td>\n",
       "      <td>0.280098</td>\n",
       "      <td>0.806827</td>\n",
       "      <td>0.605980</td>\n",
       "      <td>0.276678</td>\n",
       "      <td>0.210535</td>\n",
       "      <td>0.189158</td>\n",
       "      <td>-0.000163</td>\n",
       "    </tr>\n",
       "    <tr>\n",
       "      <th>Late_Calls_Freq</th>\n",
       "      <td>0.119532</td>\n",
       "      <td>0.039927</td>\n",
       "      <td>0.239448</td>\n",
       "      <td>0.147605</td>\n",
       "      <td>0.098014</td>\n",
       "      <td>0.280098</td>\n",
       "      <td>1.000000</td>\n",
       "      <td>0.278620</td>\n",
       "      <td>0.277744</td>\n",
       "      <td>0.135633</td>\n",
       "      <td>0.094207</td>\n",
       "      <td>0.080626</td>\n",
       "      <td>-0.004276</td>\n",
       "    </tr>\n",
       "    <tr>\n",
       "      <th>Late_Call_Fee</th>\n",
       "      <td>0.208486</td>\n",
       "      <td>0.065085</td>\n",
       "      <td>0.483473</td>\n",
       "      <td>0.247990</td>\n",
       "      <td>0.216840</td>\n",
       "      <td>0.806827</td>\n",
       "      <td>0.278620</td>\n",
       "      <td>1.000000</td>\n",
       "      <td>0.580330</td>\n",
       "      <td>0.272802</td>\n",
       "      <td>0.204482</td>\n",
       "      <td>0.189227</td>\n",
       "      <td>0.001711</td>\n",
       "    </tr>\n",
       "    <tr>\n",
       "      <th>Night_Call_Length</th>\n",
       "      <td>0.256722</td>\n",
       "      <td>0.068964</td>\n",
       "      <td>0.508642</td>\n",
       "      <td>0.289059</td>\n",
       "      <td>0.219115</td>\n",
       "      <td>0.605980</td>\n",
       "      <td>0.277744</td>\n",
       "      <td>0.580330</td>\n",
       "      <td>1.000000</td>\n",
       "      <td>0.286981</td>\n",
       "      <td>0.305315</td>\n",
       "      <td>0.191133</td>\n",
       "      <td>-0.002872</td>\n",
       "    </tr>\n",
       "    <tr>\n",
       "      <th>Night_Calls_Freq</th>\n",
       "      <td>0.111628</td>\n",
       "      <td>0.052887</td>\n",
       "      <td>0.238676</td>\n",
       "      <td>0.109052</td>\n",
       "      <td>0.126778</td>\n",
       "      <td>0.276678</td>\n",
       "      <td>0.135633</td>\n",
       "      <td>0.272802</td>\n",
       "      <td>0.286981</td>\n",
       "      <td>1.000000</td>\n",
       "      <td>0.083941</td>\n",
       "      <td>0.083491</td>\n",
       "      <td>-0.003121</td>\n",
       "    </tr>\n",
       "    <tr>\n",
       "      <th>Night_Call_Fee</th>\n",
       "      <td>0.064803</td>\n",
       "      <td>0.025955</td>\n",
       "      <td>0.177415</td>\n",
       "      <td>0.102214</td>\n",
       "      <td>0.075288</td>\n",
       "      <td>0.210535</td>\n",
       "      <td>0.094207</td>\n",
       "      <td>0.204482</td>\n",
       "      <td>0.305315</td>\n",
       "      <td>0.083941</td>\n",
       "      <td>1.000000</td>\n",
       "      <td>0.043592</td>\n",
       "      <td>0.014513</td>\n",
       "    </tr>\n",
       "    <tr>\n",
       "      <th>Counseling_Calls</th>\n",
       "      <td>0.073547</td>\n",
       "      <td>0.010326</td>\n",
       "      <td>0.158215</td>\n",
       "      <td>0.072544</td>\n",
       "      <td>0.102932</td>\n",
       "      <td>0.189158</td>\n",
       "      <td>0.080626</td>\n",
       "      <td>0.189227</td>\n",
       "      <td>0.191133</td>\n",
       "      <td>0.083491</td>\n",
       "      <td>0.043592</td>\n",
       "      <td>1.000000</td>\n",
       "      <td>0.057114</td>\n",
       "    </tr>\n",
       "    <tr>\n",
       "      <th>Cancellation_Status</th>\n",
       "      <td>0.006688</td>\n",
       "      <td>-0.062734</td>\n",
       "      <td>0.029975</td>\n",
       "      <td>0.010974</td>\n",
       "      <td>-0.071006</td>\n",
       "      <td>-0.000163</td>\n",
       "      <td>-0.004276</td>\n",
       "      <td>0.001711</td>\n",
       "      <td>-0.002872</td>\n",
       "      <td>-0.003121</td>\n",
       "      <td>0.014513</td>\n",
       "      <td>0.057114</td>\n",
       "      <td>1.000000</td>\n",
       "    </tr>\n",
       "  </tbody>\n",
       "</table>\n",
       "</div>"
      ],
      "text/plain": [
       "                     Subscription_Length  Voice_Mailbox_Usage  \\\n",
       "Subscription_Length             1.000000             0.069771   \n",
       "Voice_Mailbox_Usage             0.069771             1.000000   \n",
       "Early_Call_Length               0.190535             0.045449   \n",
       "Early_Calls_Freq                0.128138             0.031312   \n",
       "Early_Call_Fee                  0.118500             0.070361   \n",
       "Late_Call_Length                0.223365             0.067955   \n",
       "Late_Calls_Freq                 0.119532             0.039927   \n",
       "Late_Call_Fee                   0.208486             0.065085   \n",
       "Night_Call_Length               0.256722             0.068964   \n",
       "Night_Calls_Freq                0.111628             0.052887   \n",
       "Night_Call_Fee                  0.064803             0.025955   \n",
       "Counseling_Calls                0.073547             0.010326   \n",
       "Cancellation_Status             0.006688            -0.062734   \n",
       "\n",
       "                     Early_Call_Length  Early_Calls_Freq  Early_Call_Fee  \\\n",
       "Subscription_Length           0.190535          0.128138        0.118500   \n",
       "Voice_Mailbox_Usage           0.045449          0.031312        0.070361   \n",
       "Early_Call_Length             1.000000          0.213815        0.336852   \n",
       "Early_Calls_Freq              0.213815          1.000000        0.100227   \n",
       "Early_Call_Fee                0.336852          0.100227        1.000000   \n",
       "Late_Call_Length              0.493299          0.265814        0.219930   \n",
       "Late_Calls_Freq               0.239448          0.147605        0.098014   \n",
       "Late_Call_Fee                 0.483473          0.247990        0.216840   \n",
       "Night_Call_Length             0.508642          0.289059        0.219115   \n",
       "Night_Calls_Freq              0.238676          0.109052        0.126778   \n",
       "Night_Call_Fee                0.177415          0.102214        0.075288   \n",
       "Counseling_Calls              0.158215          0.072544        0.102932   \n",
       "Cancellation_Status           0.029975          0.010974       -0.071006   \n",
       "\n",
       "                     Late_Call_Length  Late_Calls_Freq  Late_Call_Fee  \\\n",
       "Subscription_Length          0.223365         0.119532       0.208486   \n",
       "Voice_Mailbox_Usage          0.067955         0.039927       0.065085   \n",
       "Early_Call_Length            0.493299         0.239448       0.483473   \n",
       "Early_Calls_Freq             0.265814         0.147605       0.247990   \n",
       "Early_Call_Fee               0.219930         0.098014       0.216840   \n",
       "Late_Call_Length             1.000000         0.280098       0.806827   \n",
       "Late_Calls_Freq              0.280098         1.000000       0.278620   \n",
       "Late_Call_Fee                0.806827         0.278620       1.000000   \n",
       "Night_Call_Length            0.605980         0.277744       0.580330   \n",
       "Night_Calls_Freq             0.276678         0.135633       0.272802   \n",
       "Night_Call_Fee               0.210535         0.094207       0.204482   \n",
       "Counseling_Calls             0.189158         0.080626       0.189227   \n",
       "Cancellation_Status         -0.000163        -0.004276       0.001711   \n",
       "\n",
       "                     Night_Call_Length  Night_Calls_Freq  Night_Call_Fee  \\\n",
       "Subscription_Length           0.256722          0.111628        0.064803   \n",
       "Voice_Mailbox_Usage           0.068964          0.052887        0.025955   \n",
       "Early_Call_Length             0.508642          0.238676        0.177415   \n",
       "Early_Calls_Freq              0.289059          0.109052        0.102214   \n",
       "Early_Call_Fee                0.219115          0.126778        0.075288   \n",
       "Late_Call_Length              0.605980          0.276678        0.210535   \n",
       "Late_Calls_Freq               0.277744          0.135633        0.094207   \n",
       "Late_Call_Fee                 0.580330          0.272802        0.204482   \n",
       "Night_Call_Length             1.000000          0.286981        0.305315   \n",
       "Night_Calls_Freq              0.286981          1.000000        0.083941   \n",
       "Night_Call_Fee                0.305315          0.083941        1.000000   \n",
       "Counseling_Calls              0.191133          0.083491        0.043592   \n",
       "Cancellation_Status          -0.002872         -0.003121        0.014513   \n",
       "\n",
       "                     Counseling_Calls  Cancellation_Status  \n",
       "Subscription_Length          0.073547             0.006688  \n",
       "Voice_Mailbox_Usage          0.010326            -0.062734  \n",
       "Early_Call_Length            0.158215             0.029975  \n",
       "Early_Calls_Freq             0.072544             0.010974  \n",
       "Early_Call_Fee               0.102932            -0.071006  \n",
       "Late_Call_Length             0.189158            -0.000163  \n",
       "Late_Calls_Freq              0.080626            -0.004276  \n",
       "Late_Call_Fee                0.189227             0.001711  \n",
       "Night_Call_Length            0.191133            -0.002872  \n",
       "Night_Calls_Freq             0.083491            -0.003121  \n",
       "Night_Call_Fee               0.043592             0.014513  \n",
       "Counseling_Calls             1.000000             0.057114  \n",
       "Cancellation_Status          0.057114             1.000000  "
      ]
     },
     "execution_count": 4,
     "metadata": {},
     "output_type": "execute_result"
    }
   ],
   "source": [
    "train.corr()"
   ]
  },
  {
   "cell_type": "code",
   "execution_count": 5,
   "id": "7302d6b0",
   "metadata": {
    "scrolled": false
   },
   "outputs": [
    {
     "name": "stderr",
     "output_type": "stream",
     "text": [
      "0it [00:00, ?it/s]C:\\Users\\user\\anaconda3\\envs\\pycaret\\lib\\site-packages\\catboost\\core.py:1411: FutureWarning: iteritems is deprecated and will be removed in a future version. Use .items instead.\n",
      "  self._init_pool(data, label, cat_features, text_features, embedding_features, embedding_features_data, pairs, weight,\n"
     ]
    },
    {
     "name": "stdout",
     "output_type": "stream",
     "text": [
      "Learning rate set to 0.071642\n",
      "0:\tlearn: 0.6343561\ttest: 0.6364958\tbest: 0.6364958 (0)\ttotal: 163ms\tremaining: 2m 42s\n"
     ]
    },
    {
     "name": "stderr",
     "output_type": "stream",
     "text": [
      "\r",
      "1it [00:03,  3.84s/it]"
     ]
    },
    {
     "name": "stdout",
     "output_type": "stream",
     "text": [
      "999:\tlearn: 0.1340503\ttest: 0.2214724\tbest: 0.2214514 (997)\ttotal: 3.68s\tremaining: 0us\n",
      "\n",
      "bestTest = 0.2214514268\n",
      "bestIteration = 997\n",
      "\n",
      "Shrink model to first 998 iterations.\n",
      "F1 on fold 0: 0.4406\n",
      "Learning rate set to 0.071642\n",
      "0:\tlearn: 0.6347992\ttest: 0.6346067\tbest: 0.6346067 (0)\ttotal: 10.4ms\tremaining: 10.4s\n"
     ]
    },
    {
     "name": "stderr",
     "output_type": "stream",
     "text": [
      "C:\\Users\\user\\anaconda3\\envs\\pycaret\\lib\\site-packages\\catboost\\core.py:1411: FutureWarning: iteritems is deprecated and will be removed in a future version. Use .items instead.\n",
      "  self._init_pool(data, label, cat_features, text_features, embedding_features, embedding_features_data, pairs, weight,\n",
      "2it [00:07,  3.75s/it]"
     ]
    },
    {
     "name": "stdout",
     "output_type": "stream",
     "text": [
      "999:\tlearn: 0.1353600\ttest: 0.2118145\tbest: 0.2117991 (998)\ttotal: 3.55s\tremaining: 0us\n",
      "\n",
      "bestTest = 0.2117990724\n",
      "bestIteration = 998\n",
      "\n",
      "Shrink model to first 999 iterations.\n",
      "F1 on fold 1: 0.4018\n",
      "Learning rate set to 0.071642\n",
      "0:\tlearn: 0.6347499\ttest: 0.6348648\tbest: 0.6348648 (0)\ttotal: 4.55ms\tremaining: 4.55s\n"
     ]
    },
    {
     "name": "stderr",
     "output_type": "stream",
     "text": [
      "C:\\Users\\user\\anaconda3\\envs\\pycaret\\lib\\site-packages\\catboost\\core.py:1411: FutureWarning: iteritems is deprecated and will be removed in a future version. Use .items instead.\n",
      "  self._init_pool(data, label, cat_features, text_features, embedding_features, embedding_features_data, pairs, weight,\n",
      "3it [00:11,  3.73s/it]"
     ]
    },
    {
     "name": "stdout",
     "output_type": "stream",
     "text": [
      "999:\tlearn: 0.1345761\ttest: 0.2169616\tbest: 0.2169616 (999)\ttotal: 3.58s\tremaining: 0us\n",
      "\n",
      "bestTest = 0.2169616299\n",
      "bestIteration = 999\n",
      "\n",
      "F1 on fold 2: 0.3583\n",
      "Learning rate set to 0.071642\n",
      "0:\tlearn: 0.6349683\ttest: 0.6336954\tbest: 0.6336954 (0)\ttotal: 10.1ms\tremaining: 10.1s\n"
     ]
    },
    {
     "name": "stderr",
     "output_type": "stream",
     "text": [
      "C:\\Users\\user\\anaconda3\\envs\\pycaret\\lib\\site-packages\\catboost\\core.py:1411: FutureWarning: iteritems is deprecated and will be removed in a future version. Use .items instead.\n",
      "  self._init_pool(data, label, cat_features, text_features, embedding_features, embedding_features_data, pairs, weight,\n",
      "4it [00:14,  3.73s/it]"
     ]
    },
    {
     "name": "stdout",
     "output_type": "stream",
     "text": [
      "999:\tlearn: 0.1351151\ttest: 0.2077917\tbest: 0.2077917 (999)\ttotal: 3.58s\tremaining: 0us\n",
      "\n",
      "bestTest = 0.2077916829\n",
      "bestIteration = 999\n",
      "\n",
      "F1 on fold 3: 0.3972\n",
      "Learning rate set to 0.071642\n",
      "0:\tlearn: 0.6347924\ttest: 0.6346083\tbest: 0.6346083 (0)\ttotal: 3.89ms\tremaining: 3.89s\n"
     ]
    },
    {
     "name": "stderr",
     "output_type": "stream",
     "text": [
      "C:\\Users\\user\\anaconda3\\envs\\pycaret\\lib\\site-packages\\catboost\\core.py:1411: FutureWarning: iteritems is deprecated and will be removed in a future version. Use .items instead.\n",
      "  self._init_pool(data, label, cat_features, text_features, embedding_features, embedding_features_data, pairs, weight,\n",
      "5it [00:18,  3.72s/it]"
     ]
    },
    {
     "name": "stdout",
     "output_type": "stream",
     "text": [
      "999:\tlearn: 0.1335641\ttest: 0.2011632\tbest: 0.2010835 (993)\ttotal: 3.58s\tremaining: 0us\n",
      "\n",
      "bestTest = 0.2010835354\n",
      "bestIteration = 993\n",
      "\n",
      "Shrink model to first 994 iterations.\n",
      "F1 on fold 4: 0.4342\n",
      "Learning rate set to 0.071642\n",
      "0:\tlearn: 0.6345778\ttest: 0.6350644\tbest: 0.6350644 (0)\ttotal: 5.33ms\tremaining: 5.32s\n"
     ]
    },
    {
     "name": "stderr",
     "output_type": "stream",
     "text": [
      "C:\\Users\\user\\anaconda3\\envs\\pycaret\\lib\\site-packages\\catboost\\core.py:1411: FutureWarning: iteritems is deprecated and will be removed in a future version. Use .items instead.\n",
      "  self._init_pool(data, label, cat_features, text_features, embedding_features, embedding_features_data, pairs, weight,\n",
      "6it [00:22,  3.71s/it]"
     ]
    },
    {
     "name": "stdout",
     "output_type": "stream",
     "text": [
      "999:\tlearn: 0.1356454\ttest: 0.2035031\tbest: 0.2035031 (999)\ttotal: 3.54s\tremaining: 0us\n",
      "\n",
      "bestTest = 0.2035031355\n",
      "bestIteration = 999\n",
      "\n",
      "F1 on fold 5: 0.4367\n",
      "Learning rate set to 0.071642\n",
      "0:\tlearn: 0.6347510\ttest: 0.6352950\tbest: 0.6352950 (0)\ttotal: 16.8ms\tremaining: 16.8s\n"
     ]
    },
    {
     "name": "stderr",
     "output_type": "stream",
     "text": [
      "C:\\Users\\user\\anaconda3\\envs\\pycaret\\lib\\site-packages\\catboost\\core.py:1411: FutureWarning: iteritems is deprecated and will be removed in a future version. Use .items instead.\n",
      "  self._init_pool(data, label, cat_features, text_features, embedding_features, embedding_features_data, pairs, weight,\n",
      "7it [00:26,  3.73s/it]"
     ]
    },
    {
     "name": "stdout",
     "output_type": "stream",
     "text": [
      "999:\tlearn: 0.1314356\ttest: 0.2286249\tbest: 0.2286249 (999)\ttotal: 3.63s\tremaining: 0us\n",
      "\n",
      "bestTest = 0.2286249251\n",
      "bestIteration = 999\n",
      "\n",
      "F1 on fold 6: 0.3559\n",
      "Learning rate set to 0.071642\n",
      "0:\tlearn: 0.6348733\ttest: 0.6343709\tbest: 0.6343709 (0)\ttotal: 11.9ms\tremaining: 11.9s\n"
     ]
    },
    {
     "name": "stderr",
     "output_type": "stream",
     "text": [
      "C:\\Users\\user\\anaconda3\\envs\\pycaret\\lib\\site-packages\\catboost\\core.py:1411: FutureWarning: iteritems is deprecated and will be removed in a future version. Use .items instead.\n",
      "  self._init_pool(data, label, cat_features, text_features, embedding_features, embedding_features_data, pairs, weight,\n",
      "8it [00:29,  3.71s/it]"
     ]
    },
    {
     "name": "stdout",
     "output_type": "stream",
     "text": [
      "999:\tlearn: 0.1345852\ttest: 0.2099492\tbest: 0.2099492 (999)\ttotal: 3.55s\tremaining: 0us\n",
      "\n",
      "bestTest = 0.2099492378\n",
      "bestIteration = 999\n",
      "\n",
      "F1 on fold 7: 0.4099\n",
      "Learning rate set to 0.071642\n",
      "0:\tlearn: 0.6350058\ttest: 0.6344913\tbest: 0.6344913 (0)\ttotal: 4.67ms\tremaining: 4.66s\n"
     ]
    },
    {
     "name": "stderr",
     "output_type": "stream",
     "text": [
      "C:\\Users\\user\\anaconda3\\envs\\pycaret\\lib\\site-packages\\catboost\\core.py:1411: FutureWarning: iteritems is deprecated and will be removed in a future version. Use .items instead.\n",
      "  self._init_pool(data, label, cat_features, text_features, embedding_features, embedding_features_data, pairs, weight,\n",
      "9it [00:33,  3.73s/it]"
     ]
    },
    {
     "name": "stdout",
     "output_type": "stream",
     "text": [
      "999:\tlearn: 0.1358224\ttest: 0.2061692\tbest: 0.2061394 (994)\ttotal: 3.61s\tremaining: 0us\n",
      "\n",
      "bestTest = 0.2061393703\n",
      "bestIteration = 994\n",
      "\n",
      "Shrink model to first 995 iterations.\n",
      "F1 on fold 8: 0.3898\n",
      "Learning rate set to 0.071642\n",
      "0:\tlearn: 0.6345571\ttest: 0.6356103\tbest: 0.6356103 (0)\ttotal: 4.28ms\tremaining: 4.28s\n"
     ]
    },
    {
     "name": "stderr",
     "output_type": "stream",
     "text": [
      "C:\\Users\\user\\anaconda3\\envs\\pycaret\\lib\\site-packages\\catboost\\core.py:1411: FutureWarning: iteritems is deprecated and will be removed in a future version. Use .items instead.\n",
      "  self._init_pool(data, label, cat_features, text_features, embedding_features, embedding_features_data, pairs, weight,\n",
      "10it [00:37,  3.72s/it]"
     ]
    },
    {
     "name": "stdout",
     "output_type": "stream",
     "text": [
      "999:\tlearn: 0.1338381\ttest: 0.2128832\tbest: 0.2128832 (999)\ttotal: 3.56s\tremaining: 0us\n",
      "\n",
      "bestTest = 0.2128832079\n",
      "bestIteration = 999\n",
      "\n",
      "F1 on fold 9: 0.4108\n",
      "Learning rate set to 0.071642\n",
      "0:\tlearn: 0.6348735\ttest: 0.6344764\tbest: 0.6344764 (0)\ttotal: 29.4ms\tremaining: 29.4s\n"
     ]
    },
    {
     "name": "stderr",
     "output_type": "stream",
     "text": [
      "C:\\Users\\user\\anaconda3\\envs\\pycaret\\lib\\site-packages\\catboost\\core.py:1411: FutureWarning: iteritems is deprecated and will be removed in a future version. Use .items instead.\n",
      "  self._init_pool(data, label, cat_features, text_features, embedding_features, embedding_features_data, pairs, weight,\n",
      "11it [00:40,  3.72s/it]"
     ]
    },
    {
     "name": "stdout",
     "output_type": "stream",
     "text": [
      "999:\tlearn: 0.1336594\ttest: 0.2204015\tbest: 0.2204015 (999)\ttotal: 3.58s\tremaining: 0us\n",
      "\n",
      "bestTest = 0.2204014922\n",
      "bestIteration = 999\n",
      "\n",
      "F1 on fold 10: 0.3818\n",
      "Learning rate set to 0.071642\n",
      "0:\tlearn: 0.6348424\ttest: 0.6344498\tbest: 0.6344498 (0)\ttotal: 28.3ms\tremaining: 28.2s\n"
     ]
    },
    {
     "name": "stderr",
     "output_type": "stream",
     "text": [
      "C:\\Users\\user\\anaconda3\\envs\\pycaret\\lib\\site-packages\\catboost\\core.py:1411: FutureWarning: iteritems is deprecated and will be removed in a future version. Use .items instead.\n",
      "  self._init_pool(data, label, cat_features, text_features, embedding_features, embedding_features_data, pairs, weight,\n",
      "12it [00:44,  3.72s/it]"
     ]
    },
    {
     "name": "stdout",
     "output_type": "stream",
     "text": [
      "999:\tlearn: 0.1342713\ttest: 0.2120484\tbest: 0.2120484 (999)\ttotal: 3.6s\tremaining: 0us\n",
      "\n",
      "bestTest = 0.2120484191\n",
      "bestIteration = 999\n",
      "\n",
      "F1 on fold 11: 0.4215\n",
      "Learning rate set to 0.071642\n",
      "0:\tlearn: 0.6347092\ttest: 0.6352627\tbest: 0.6352627 (0)\ttotal: 14.6ms\tremaining: 14.6s\n"
     ]
    },
    {
     "name": "stderr",
     "output_type": "stream",
     "text": [
      "C:\\Users\\user\\anaconda3\\envs\\pycaret\\lib\\site-packages\\catboost\\core.py:1411: FutureWarning: iteritems is deprecated and will be removed in a future version. Use .items instead.\n",
      "  self._init_pool(data, label, cat_features, text_features, embedding_features, embedding_features_data, pairs, weight,\n",
      "13it [00:48,  3.73s/it]"
     ]
    },
    {
     "name": "stdout",
     "output_type": "stream",
     "text": [
      "999:\tlearn: 0.1349236\ttest: 0.2079751\tbest: 0.2079646 (998)\ttotal: 3.59s\tremaining: 0us\n",
      "\n",
      "bestTest = 0.2079645859\n",
      "bestIteration = 998\n",
      "\n",
      "Shrink model to first 999 iterations.\n",
      "F1 on fold 12: 0.3983\n",
      "Learning rate set to 0.071642\n",
      "0:\tlearn: 0.6343816\ttest: 0.6354748\tbest: 0.6354748 (0)\ttotal: 20.2ms\tremaining: 20.2s\n"
     ]
    },
    {
     "name": "stderr",
     "output_type": "stream",
     "text": [
      "C:\\Users\\user\\anaconda3\\envs\\pycaret\\lib\\site-packages\\catboost\\core.py:1411: FutureWarning: iteritems is deprecated and will be removed in a future version. Use .items instead.\n",
      "  self._init_pool(data, label, cat_features, text_features, embedding_features, embedding_features_data, pairs, weight,\n",
      "14it [00:52,  3.73s/it]"
     ]
    },
    {
     "name": "stdout",
     "output_type": "stream",
     "text": [
      "999:\tlearn: 0.1337113\ttest: 0.2259606\tbest: 0.2259427 (998)\ttotal: 3.62s\tremaining: 0us\n",
      "\n",
      "bestTest = 0.2259427122\n",
      "bestIteration = 998\n",
      "\n",
      "Shrink model to first 999 iterations.\n",
      "F1 on fold 13: 0.3690\n",
      "Learning rate set to 0.071642\n",
      "0:\tlearn: 0.6341376\ttest: 0.6363373\tbest: 0.6363373 (0)\ttotal: 10.2ms\tremaining: 10.2s\n"
     ]
    },
    {
     "name": "stderr",
     "output_type": "stream",
     "text": [
      "C:\\Users\\user\\anaconda3\\envs\\pycaret\\lib\\site-packages\\catboost\\core.py:1411: FutureWarning: iteritems is deprecated and will be removed in a future version. Use .items instead.\n",
      "  self._init_pool(data, label, cat_features, text_features, embedding_features, embedding_features_data, pairs, weight,\n",
      "15it [00:55,  3.70s/it]"
     ]
    },
    {
     "name": "stdout",
     "output_type": "stream",
     "text": [
      "999:\tlearn: 0.1337403\ttest: 0.2245497\tbest: 0.2245497 (999)\ttotal: 3.5s\tremaining: 0us\n",
      "\n",
      "bestTest = 0.2245497302\n",
      "bestIteration = 999\n",
      "\n",
      "F1 on fold 14: 0.4341\n",
      "Learning rate set to 0.071642\n",
      "0:\tlearn: 0.6349949\ttest: 0.6340260\tbest: 0.6340260 (0)\ttotal: 10.6ms\tremaining: 10.6s\n"
     ]
    },
    {
     "name": "stderr",
     "output_type": "stream",
     "text": [
      "C:\\Users\\user\\anaconda3\\envs\\pycaret\\lib\\site-packages\\catboost\\core.py:1411: FutureWarning: iteritems is deprecated and will be removed in a future version. Use .items instead.\n",
      "  self._init_pool(data, label, cat_features, text_features, embedding_features, embedding_features_data, pairs, weight,\n",
      "16it [00:59,  3.71s/it]"
     ]
    },
    {
     "name": "stdout",
     "output_type": "stream",
     "text": [
      "999:\tlearn: 0.1333650\ttest: 0.2096185\tbest: 0.2095047 (998)\ttotal: 3.6s\tremaining: 0us\n",
      "\n",
      "bestTest = 0.209504709\n",
      "bestIteration = 998\n",
      "\n",
      "Shrink model to first 999 iterations.\n",
      "F1 on fold 15: 0.4150\n",
      "Learning rate set to 0.071642\n",
      "0:\tlearn: 0.6346035\ttest: 0.6355769\tbest: 0.6355769 (0)\ttotal: 21.7ms\tremaining: 21.7s\n"
     ]
    },
    {
     "name": "stderr",
     "output_type": "stream",
     "text": [
      "C:\\Users\\user\\anaconda3\\envs\\pycaret\\lib\\site-packages\\catboost\\core.py:1411: FutureWarning: iteritems is deprecated and will be removed in a future version. Use .items instead.\n",
      "  self._init_pool(data, label, cat_features, text_features, embedding_features, embedding_features_data, pairs, weight,\n",
      "17it [01:03,  3.71s/it]"
     ]
    },
    {
     "name": "stdout",
     "output_type": "stream",
     "text": [
      "999:\tlearn: 0.1348217\ttest: 0.1982458\tbest: 0.1981492 (994)\ttotal: 3.58s\tremaining: 0us\n",
      "\n",
      "bestTest = 0.1981492497\n",
      "bestIteration = 994\n",
      "\n",
      "Shrink model to first 995 iterations.\n",
      "F1 on fold 16: 0.4530\n",
      "Learning rate set to 0.071642\n",
      "0:\tlearn: 0.6349371\ttest: 0.6346454\tbest: 0.6346454 (0)\ttotal: 17.5ms\tremaining: 17.5s\n"
     ]
    },
    {
     "name": "stderr",
     "output_type": "stream",
     "text": [
      "C:\\Users\\user\\anaconda3\\envs\\pycaret\\lib\\site-packages\\catboost\\core.py:1411: FutureWarning: iteritems is deprecated and will be removed in a future version. Use .items instead.\n",
      "  self._init_pool(data, label, cat_features, text_features, embedding_features, embedding_features_data, pairs, weight,\n",
      "18it [01:07,  3.73s/it]"
     ]
    },
    {
     "name": "stdout",
     "output_type": "stream",
     "text": [
      "999:\tlearn: 0.1324501\ttest: 0.2229564\tbest: 0.2229564 (999)\ttotal: 3.62s\tremaining: 0us\n",
      "\n",
      "bestTest = 0.2229563943\n",
      "bestIteration = 999\n",
      "\n",
      "F1 on fold 17: 0.3603\n",
      "Learning rate set to 0.071642\n",
      "0:\tlearn: 0.6347006\ttest: 0.6350018\tbest: 0.6350018 (0)\ttotal: 3.62ms\tremaining: 3.61s\n"
     ]
    },
    {
     "name": "stderr",
     "output_type": "stream",
     "text": [
      "C:\\Users\\user\\anaconda3\\envs\\pycaret\\lib\\site-packages\\catboost\\core.py:1411: FutureWarning: iteritems is deprecated and will be removed in a future version. Use .items instead.\n",
      "  self._init_pool(data, label, cat_features, text_features, embedding_features, embedding_features_data, pairs, weight,\n",
      "19it [01:10,  3.71s/it]"
     ]
    },
    {
     "name": "stdout",
     "output_type": "stream",
     "text": [
      "999:\tlearn: 0.1341271\ttest: 0.2073777\tbest: 0.2073777 (999)\ttotal: 3.52s\tremaining: 0us\n",
      "\n",
      "bestTest = 0.2073776508\n",
      "bestIteration = 999\n",
      "\n",
      "F1 on fold 18: 0.3956\n",
      "Learning rate set to 0.071642\n",
      "0:\tlearn: 0.6351032\ttest: 0.6338181\tbest: 0.6338181 (0)\ttotal: 22.9ms\tremaining: 22.9s\n"
     ]
    },
    {
     "name": "stderr",
     "output_type": "stream",
     "text": [
      "C:\\Users\\user\\anaconda3\\envs\\pycaret\\lib\\site-packages\\catboost\\core.py:1411: FutureWarning: iteritems is deprecated and will be removed in a future version. Use .items instead.\n",
      "  self._init_pool(data, label, cat_features, text_features, embedding_features, embedding_features_data, pairs, weight,\n",
      "20it [01:14,  3.70s/it]"
     ]
    },
    {
     "name": "stdout",
     "output_type": "stream",
     "text": [
      "999:\tlearn: 0.1347405\ttest: 0.1974966\tbest: 0.1974966 (999)\ttotal: 3.55s\tremaining: 0us\n",
      "\n",
      "bestTest = 0.1974965524\n",
      "bestIteration = 999\n",
      "\n",
      "F1 on fold 19: 0.4038\n",
      "Learning rate set to 0.071642\n",
      "0:\tlearn: 0.6352908\ttest: 0.6335351\tbest: 0.6335351 (0)\ttotal: 10.3ms\tremaining: 10.3s\n"
     ]
    },
    {
     "name": "stderr",
     "output_type": "stream",
     "text": [
      "C:\\Users\\user\\anaconda3\\envs\\pycaret\\lib\\site-packages\\catboost\\core.py:1411: FutureWarning: iteritems is deprecated and will be removed in a future version. Use .items instead.\n",
      "  self._init_pool(data, label, cat_features, text_features, embedding_features, embedding_features_data, pairs, weight,\n",
      "21it [01:18,  3.70s/it]"
     ]
    },
    {
     "name": "stdout",
     "output_type": "stream",
     "text": [
      "999:\tlearn: 0.1338378\ttest: 0.1999749\tbest: 0.1999240 (998)\ttotal: 3.57s\tremaining: 0us\n",
      "\n",
      "bestTest = 0.1999240406\n",
      "bestIteration = 998\n",
      "\n",
      "Shrink model to first 999 iterations.\n",
      "F1 on fold 20: 0.4354\n",
      "Learning rate set to 0.071642\n",
      "0:\tlearn: 0.6343244\ttest: 0.6353722\tbest: 0.6353722 (0)\ttotal: 8.58ms\tremaining: 8.57s\n"
     ]
    },
    {
     "name": "stderr",
     "output_type": "stream",
     "text": [
      "C:\\Users\\user\\anaconda3\\envs\\pycaret\\lib\\site-packages\\catboost\\core.py:1411: FutureWarning: iteritems is deprecated and will be removed in a future version. Use .items instead.\n",
      "  self._init_pool(data, label, cat_features, text_features, embedding_features, embedding_features_data, pairs, weight,\n",
      "22it [01:21,  3.70s/it]"
     ]
    },
    {
     "name": "stdout",
     "output_type": "stream",
     "text": [
      "999:\tlearn: 0.1325045\ttest: 0.2158367\tbest: 0.2158367 (999)\ttotal: 3.54s\tremaining: 0us\n",
      "\n",
      "bestTest = 0.2158367245\n",
      "bestIteration = 999\n",
      "\n",
      "F1 on fold 21: 0.4361\n",
      "Learning rate set to 0.071642\n",
      "0:\tlearn: 0.6346629\ttest: 0.6352827\tbest: 0.6352827 (0)\ttotal: 26.7ms\tremaining: 26.7s\n"
     ]
    },
    {
     "name": "stderr",
     "output_type": "stream",
     "text": [
      "C:\\Users\\user\\anaconda3\\envs\\pycaret\\lib\\site-packages\\catboost\\core.py:1411: FutureWarning: iteritems is deprecated and will be removed in a future version. Use .items instead.\n",
      "  self._init_pool(data, label, cat_features, text_features, embedding_features, embedding_features_data, pairs, weight,\n",
      "23it [01:25,  3.69s/it]"
     ]
    },
    {
     "name": "stdout",
     "output_type": "stream",
     "text": [
      "999:\tlearn: 0.1342114\ttest: 0.2096184\tbest: 0.2096184 (999)\ttotal: 3.55s\tremaining: 0us\n",
      "\n",
      "bestTest = 0.2096183661\n",
      "bestIteration = 999\n",
      "\n",
      "F1 on fold 22: 0.4017\n",
      "Learning rate set to 0.071642\n",
      "0:\tlearn: 0.6344864\ttest: 0.6357336\tbest: 0.6357336 (0)\ttotal: 20.4ms\tremaining: 20.4s\n"
     ]
    },
    {
     "name": "stderr",
     "output_type": "stream",
     "text": [
      "C:\\Users\\user\\anaconda3\\envs\\pycaret\\lib\\site-packages\\catboost\\core.py:1411: FutureWarning: iteritems is deprecated and will be removed in a future version. Use .items instead.\n",
      "  self._init_pool(data, label, cat_features, text_features, embedding_features, embedding_features_data, pairs, weight,\n",
      "24it [01:29,  3.69s/it]"
     ]
    },
    {
     "name": "stdout",
     "output_type": "stream",
     "text": [
      "999:\tlearn: 0.1312255\ttest: 0.2227167\tbest: 0.2226691 (997)\ttotal: 3.56s\tremaining: 0us\n",
      "\n",
      "bestTest = 0.2226690829\n",
      "bestIteration = 997\n",
      "\n",
      "Shrink model to first 998 iterations.\n",
      "F1 on fold 23: 0.3755\n",
      "Learning rate set to 0.071642\n",
      "0:\tlearn: 0.6348606\ttest: 0.6343954\tbest: 0.6343954 (0)\ttotal: 10.1ms\tremaining: 10.1s\n"
     ]
    },
    {
     "name": "stderr",
     "output_type": "stream",
     "text": [
      "C:\\Users\\user\\anaconda3\\envs\\pycaret\\lib\\site-packages\\catboost\\core.py:1411: FutureWarning: iteritems is deprecated and will be removed in a future version. Use .items instead.\n",
      "  self._init_pool(data, label, cat_features, text_features, embedding_features, embedding_features_data, pairs, weight,\n",
      "25it [01:32,  3.68s/it]"
     ]
    },
    {
     "name": "stdout",
     "output_type": "stream",
     "text": [
      "999:\tlearn: 0.1326490\ttest: 0.2126784\tbest: 0.2125987 (998)\ttotal: 3.52s\tremaining: 0us\n",
      "\n",
      "bestTest = 0.212598725\n",
      "bestIteration = 998\n",
      "\n",
      "Shrink model to first 999 iterations.\n",
      "F1 on fold 24: 0.3973\n",
      "Learning rate set to 0.071642\n",
      "0:\tlearn: 0.6350071\ttest: 0.6346155\tbest: 0.6346155 (0)\ttotal: 8.32ms\tremaining: 8.32s\n"
     ]
    },
    {
     "name": "stderr",
     "output_type": "stream",
     "text": [
      "C:\\Users\\user\\anaconda3\\envs\\pycaret\\lib\\site-packages\\catboost\\core.py:1411: FutureWarning: iteritems is deprecated and will be removed in a future version. Use .items instead.\n",
      "  self._init_pool(data, label, cat_features, text_features, embedding_features, embedding_features_data, pairs, weight,\n",
      "26it [01:36,  3.69s/it]"
     ]
    },
    {
     "name": "stdout",
     "output_type": "stream",
     "text": [
      "999:\tlearn: 0.1340267\ttest: 0.2003873\tbest: 0.2003873 (999)\ttotal: 3.56s\tremaining: 0us\n",
      "\n",
      "bestTest = 0.2003873051\n",
      "bestIteration = 999\n",
      "\n",
      "F1 on fold 25: 0.4522\n",
      "Learning rate set to 0.071642\n",
      "0:\tlearn: 0.6349043\ttest: 0.6343685\tbest: 0.6343685 (0)\ttotal: 3.82ms\tremaining: 3.82s\n"
     ]
    },
    {
     "name": "stderr",
     "output_type": "stream",
     "text": [
      "C:\\Users\\user\\anaconda3\\envs\\pycaret\\lib\\site-packages\\catboost\\core.py:1411: FutureWarning: iteritems is deprecated and will be removed in a future version. Use .items instead.\n",
      "  self._init_pool(data, label, cat_features, text_features, embedding_features, embedding_features_data, pairs, weight,\n",
      "27it [01:40,  3.68s/it]"
     ]
    },
    {
     "name": "stdout",
     "output_type": "stream",
     "text": [
      "999:\tlearn: 0.1359575\ttest: 0.1973064\tbest: 0.1973064 (999)\ttotal: 3.53s\tremaining: 0us\n",
      "\n",
      "bestTest = 0.1973064409\n",
      "bestIteration = 999\n",
      "\n",
      "F1 on fold 26: 0.4028\n",
      "Learning rate set to 0.071642\n",
      "0:\tlearn: 0.6344425\ttest: 0.6355443\tbest: 0.6355443 (0)\ttotal: 8.35ms\tremaining: 8.34s\n"
     ]
    },
    {
     "name": "stderr",
     "output_type": "stream",
     "text": [
      "C:\\Users\\user\\anaconda3\\envs\\pycaret\\lib\\site-packages\\catboost\\core.py:1411: FutureWarning: iteritems is deprecated and will be removed in a future version. Use .items instead.\n",
      "  self._init_pool(data, label, cat_features, text_features, embedding_features, embedding_features_data, pairs, weight,\n",
      "28it [01:43,  3.68s/it]"
     ]
    },
    {
     "name": "stdout",
     "output_type": "stream",
     "text": [
      "999:\tlearn: 0.1337861\ttest: 0.2147627\tbest: 0.2147627 (999)\ttotal: 3.54s\tremaining: 0us\n",
      "\n",
      "bestTest = 0.2147627498\n",
      "bestIteration = 999\n",
      "\n",
      "F1 on fold 27: 0.4265\n",
      "Learning rate set to 0.071642\n",
      "0:\tlearn: 0.6346427\ttest: 0.6355154\tbest: 0.6355154 (0)\ttotal: 18.2ms\tremaining: 18.2s\n"
     ]
    },
    {
     "name": "stderr",
     "output_type": "stream",
     "text": [
      "C:\\Users\\user\\anaconda3\\envs\\pycaret\\lib\\site-packages\\catboost\\core.py:1411: FutureWarning: iteritems is deprecated and will be removed in a future version. Use .items instead.\n",
      "  self._init_pool(data, label, cat_features, text_features, embedding_features, embedding_features_data, pairs, weight,\n",
      "29it [01:47,  3.68s/it]"
     ]
    },
    {
     "name": "stdout",
     "output_type": "stream",
     "text": [
      "999:\tlearn: 0.1337177\ttest: 0.2153292\tbest: 0.2153292 (999)\ttotal: 3.54s\tremaining: 0us\n",
      "\n",
      "bestTest = 0.2153292406\n",
      "bestIteration = 999\n",
      "\n",
      "F1 on fold 28: 0.3948\n",
      "Learning rate set to 0.071642\n",
      "0:\tlearn: 0.6346357\ttest: 0.6350098\tbest: 0.6350098 (0)\ttotal: 14.6ms\tremaining: 14.6s\n"
     ]
    },
    {
     "name": "stderr",
     "output_type": "stream",
     "text": [
      "C:\\Users\\user\\anaconda3\\envs\\pycaret\\lib\\site-packages\\catboost\\core.py:1411: FutureWarning: iteritems is deprecated and will be removed in a future version. Use .items instead.\n",
      "  self._init_pool(data, label, cat_features, text_features, embedding_features, embedding_features_data, pairs, weight,\n",
      "30it [01:51,  3.67s/it]"
     ]
    },
    {
     "name": "stdout",
     "output_type": "stream",
     "text": [
      "999:\tlearn: 0.1333227\ttest: 0.2154820\tbest: 0.2154617 (997)\ttotal: 3.53s\tremaining: 0us\n",
      "\n",
      "bestTest = 0.2154617036\n",
      "bestIteration = 997\n",
      "\n",
      "Shrink model to first 998 iterations.\n",
      "F1 on fold 29: 0.3955\n",
      "Learning rate set to 0.071642\n",
      "0:\tlearn: 0.6345183\ttest: 0.6353523\tbest: 0.6353523 (0)\ttotal: 9.71ms\tremaining: 9.7s\n"
     ]
    },
    {
     "name": "stderr",
     "output_type": "stream",
     "text": [
      "C:\\Users\\user\\anaconda3\\envs\\pycaret\\lib\\site-packages\\catboost\\core.py:1411: FutureWarning: iteritems is deprecated and will be removed in a future version. Use .items instead.\n",
      "  self._init_pool(data, label, cat_features, text_features, embedding_features, embedding_features_data, pairs, weight,\n",
      "31it [01:54,  3.68s/it]"
     ]
    },
    {
     "name": "stdout",
     "output_type": "stream",
     "text": [
      "999:\tlearn: 0.1335710\ttest: 0.2124058\tbest: 0.2124058 (999)\ttotal: 3.54s\tremaining: 0us\n",
      "\n",
      "bestTest = 0.212405768\n",
      "bestIteration = 999\n",
      "\n",
      "F1 on fold 30: 0.4151\n",
      "Learning rate set to 0.071642\n",
      "0:\tlearn: 0.6346098\ttest: 0.6350630\tbest: 0.6350630 (0)\ttotal: 32.9ms\tremaining: 32.9s\n"
     ]
    },
    {
     "name": "stderr",
     "output_type": "stream",
     "text": [
      "C:\\Users\\user\\anaconda3\\envs\\pycaret\\lib\\site-packages\\catboost\\core.py:1411: FutureWarning: iteritems is deprecated and will be removed in a future version. Use .items instead.\n",
      "  self._init_pool(data, label, cat_features, text_features, embedding_features, embedding_features_data, pairs, weight,\n",
      "32it [01:58,  3.69s/it]"
     ]
    },
    {
     "name": "stdout",
     "output_type": "stream",
     "text": [
      "999:\tlearn: 0.1335318\ttest: 0.2228512\tbest: 0.2228023 (998)\ttotal: 3.58s\tremaining: 0us\n",
      "\n",
      "bestTest = 0.2228022721\n",
      "bestIteration = 998\n",
      "\n",
      "Shrink model to first 999 iterations.\n",
      "F1 on fold 31: 0.3349\n",
      "Learning rate set to 0.071642\n",
      "0:\tlearn: 0.6346313\ttest: 0.6354172\tbest: 0.6354172 (0)\ttotal: 37ms\tremaining: 36.9s\n"
     ]
    },
    {
     "name": "stderr",
     "output_type": "stream",
     "text": [
      "C:\\Users\\user\\anaconda3\\envs\\pycaret\\lib\\site-packages\\catboost\\core.py:1411: FutureWarning: iteritems is deprecated and will be removed in a future version. Use .items instead.\n",
      "  self._init_pool(data, label, cat_features, text_features, embedding_features, embedding_features_data, pairs, weight,\n",
      "33it [02:02,  3.70s/it]"
     ]
    },
    {
     "name": "stdout",
     "output_type": "stream",
     "text": [
      "999:\tlearn: 0.1336413\ttest: 0.2293639\tbest: 0.2293639 (999)\ttotal: 3.58s\tremaining: 0us\n",
      "\n",
      "bestTest = 0.2293638635\n",
      "bestIteration = 999\n",
      "\n",
      "F1 on fold 32: 0.3519\n",
      "Learning rate set to 0.071642\n",
      "0:\tlearn: 0.6349204\ttest: 0.6341325\tbest: 0.6341325 (0)\ttotal: 16ms\tremaining: 16s\n"
     ]
    },
    {
     "name": "stderr",
     "output_type": "stream",
     "text": [
      "C:\\Users\\user\\anaconda3\\envs\\pycaret\\lib\\site-packages\\catboost\\core.py:1411: FutureWarning: iteritems is deprecated and will be removed in a future version. Use .items instead.\n",
      "  self._init_pool(data, label, cat_features, text_features, embedding_features, embedding_features_data, pairs, weight,\n",
      "34it [02:06,  3.70s/it]"
     ]
    },
    {
     "name": "stdout",
     "output_type": "stream",
     "text": [
      "999:\tlearn: 0.1336737\ttest: 0.1972965\tbest: 0.1972965 (999)\ttotal: 3.57s\tremaining: 0us\n",
      "\n",
      "bestTest = 0.1972965068\n",
      "bestIteration = 999\n",
      "\n",
      "F1 on fold 33: 0.4299\n",
      "Learning rate set to 0.071642\n",
      "0:\tlearn: 0.6347466\ttest: 0.6357100\tbest: 0.6357100 (0)\ttotal: 3.79ms\tremaining: 3.79s\n"
     ]
    },
    {
     "name": "stderr",
     "output_type": "stream",
     "text": [
      "C:\\Users\\user\\anaconda3\\envs\\pycaret\\lib\\site-packages\\catboost\\core.py:1411: FutureWarning: iteritems is deprecated and will be removed in a future version. Use .items instead.\n",
      "  self._init_pool(data, label, cat_features, text_features, embedding_features, embedding_features_data, pairs, weight,\n",
      "35it [02:09,  3.74s/it]"
     ]
    },
    {
     "name": "stdout",
     "output_type": "stream",
     "text": [
      "999:\tlearn: 0.1334415\ttest: 0.2148606\tbest: 0.2148606 (999)\ttotal: 3.67s\tremaining: 0us\n",
      "\n",
      "bestTest = 0.2148605571\n",
      "bestIteration = 999\n",
      "\n",
      "F1 on fold 34: 0.4325\n",
      "Learning rate set to 0.071642\n",
      "0:\tlearn: 0.6342266\ttest: 0.6358904\tbest: 0.6358904 (0)\ttotal: 13.7ms\tremaining: 13.7s\n"
     ]
    },
    {
     "name": "stderr",
     "output_type": "stream",
     "text": [
      "C:\\Users\\user\\anaconda3\\envs\\pycaret\\lib\\site-packages\\catboost\\core.py:1411: FutureWarning: iteritems is deprecated and will be removed in a future version. Use .items instead.\n",
      "  self._init_pool(data, label, cat_features, text_features, embedding_features, embedding_features_data, pairs, weight,\n",
      "36it [02:13,  3.73s/it]"
     ]
    },
    {
     "name": "stdout",
     "output_type": "stream",
     "text": [
      "999:\tlearn: 0.1344325\ttest: 0.2092392\tbest: 0.2092166 (997)\ttotal: 3.59s\tremaining: 0us\n",
      "\n",
      "bestTest = 0.2092166076\n",
      "bestIteration = 997\n",
      "\n",
      "Shrink model to first 998 iterations.\n",
      "F1 on fold 35: 0.4000\n",
      "Learning rate set to 0.071642\n",
      "0:\tlearn: 0.6350619\ttest: 0.6345050\tbest: 0.6345050 (0)\ttotal: 14.9ms\tremaining: 14.9s\n"
     ]
    },
    {
     "name": "stderr",
     "output_type": "stream",
     "text": [
      "C:\\Users\\user\\anaconda3\\envs\\pycaret\\lib\\site-packages\\catboost\\core.py:1411: FutureWarning: iteritems is deprecated and will be removed in a future version. Use .items instead.\n",
      "  self._init_pool(data, label, cat_features, text_features, embedding_features, embedding_features_data, pairs, weight,\n",
      "37it [02:17,  3.73s/it]"
     ]
    },
    {
     "name": "stdout",
     "output_type": "stream",
     "text": [
      "999:\tlearn: 0.1339067\ttest: 0.2066584\tbest: 0.2066419 (998)\ttotal: 3.59s\tremaining: 0us\n",
      "\n",
      "bestTest = 0.2066419158\n",
      "bestIteration = 998\n",
      "\n",
      "Shrink model to first 999 iterations.\n",
      "F1 on fold 36: 0.3747\n",
      "Learning rate set to 0.071642\n",
      "0:\tlearn: 0.6351774\ttest: 0.6339334\tbest: 0.6339334 (0)\ttotal: 3.78ms\tremaining: 3.77s\n"
     ]
    },
    {
     "name": "stderr",
     "output_type": "stream",
     "text": [
      "C:\\Users\\user\\anaconda3\\envs\\pycaret\\lib\\site-packages\\catboost\\core.py:1411: FutureWarning: iteritems is deprecated and will be removed in a future version. Use .items instead.\n",
      "  self._init_pool(data, label, cat_features, text_features, embedding_features, embedding_features_data, pairs, weight,\n",
      "38it [02:20,  3.72s/it]"
     ]
    },
    {
     "name": "stdout",
     "output_type": "stream",
     "text": [
      "999:\tlearn: 0.1339934\ttest: 0.2061380\tbest: 0.2060213 (998)\ttotal: 3.56s\tremaining: 0us\n",
      "\n",
      "bestTest = 0.2060212585\n",
      "bestIteration = 998\n",
      "\n",
      "Shrink model to first 999 iterations.\n",
      "F1 on fold 37: 0.4455\n",
      "Learning rate set to 0.071642\n",
      "0:\tlearn: 0.6346856\ttest: 0.6348549\tbest: 0.6348549 (0)\ttotal: 14.7ms\tremaining: 14.7s\n"
     ]
    },
    {
     "name": "stderr",
     "output_type": "stream",
     "text": [
      "C:\\Users\\user\\anaconda3\\envs\\pycaret\\lib\\site-packages\\catboost\\core.py:1411: FutureWarning: iteritems is deprecated and will be removed in a future version. Use .items instead.\n",
      "  self._init_pool(data, label, cat_features, text_features, embedding_features, embedding_features_data, pairs, weight,\n",
      "39it [02:24,  3.71s/it]"
     ]
    },
    {
     "name": "stdout",
     "output_type": "stream",
     "text": [
      "999:\tlearn: 0.1340121\ttest: 0.2069479\tbest: 0.2069479 (999)\ttotal: 3.55s\tremaining: 0us\n",
      "\n",
      "bestTest = 0.2069478974\n",
      "bestIteration = 999\n",
      "\n",
      "F1 on fold 38: 0.4070\n",
      "Learning rate set to 0.071642\n",
      "0:\tlearn: 0.6348549\ttest: 0.6345044\tbest: 0.6345044 (0)\ttotal: 12.2ms\tremaining: 12.2s\n"
     ]
    },
    {
     "name": "stderr",
     "output_type": "stream",
     "text": [
      "C:\\Users\\user\\anaconda3\\envs\\pycaret\\lib\\site-packages\\catboost\\core.py:1411: FutureWarning: iteritems is deprecated and will be removed in a future version. Use .items instead.\n",
      "  self._init_pool(data, label, cat_features, text_features, embedding_features, embedding_features_data, pairs, weight,\n",
      "40it [02:28,  3.72s/it]"
     ]
    },
    {
     "name": "stdout",
     "output_type": "stream",
     "text": [
      "999:\tlearn: 0.1346267\ttest: 0.2093303\tbest: 0.2093303 (999)\ttotal: 3.6s\tremaining: 0us\n",
      "\n",
      "bestTest = 0.2093303098\n",
      "bestIteration = 999\n",
      "\n",
      "F1 on fold 39: 0.4081\n",
      "Learning rate set to 0.071642\n",
      "0:\tlearn: 0.6350355\ttest: 0.6345144\tbest: 0.6345144 (0)\ttotal: 21.8ms\tremaining: 21.8s\n"
     ]
    },
    {
     "name": "stderr",
     "output_type": "stream",
     "text": [
      "C:\\Users\\user\\anaconda3\\envs\\pycaret\\lib\\site-packages\\catboost\\core.py:1411: FutureWarning: iteritems is deprecated and will be removed in a future version. Use .items instead.\n",
      "  self._init_pool(data, label, cat_features, text_features, embedding_features, embedding_features_data, pairs, weight,\n",
      "41it [02:32,  3.71s/it]"
     ]
    },
    {
     "name": "stdout",
     "output_type": "stream",
     "text": [
      "999:\tlearn: 0.1353868\ttest: 0.2035305\tbest: 0.2035305 (999)\ttotal: 3.56s\tremaining: 0us\n",
      "\n",
      "bestTest = 0.2035304744\n",
      "bestIteration = 999\n",
      "\n",
      "F1 on fold 40: 0.3991\n",
      "Learning rate set to 0.071642\n",
      "0:\tlearn: 0.6348436\ttest: 0.6340350\tbest: 0.6340350 (0)\ttotal: 13.4ms\tremaining: 13.4s\n"
     ]
    },
    {
     "name": "stderr",
     "output_type": "stream",
     "text": [
      "C:\\Users\\user\\anaconda3\\envs\\pycaret\\lib\\site-packages\\catboost\\core.py:1411: FutureWarning: iteritems is deprecated and will be removed in a future version. Use .items instead.\n",
      "  self._init_pool(data, label, cat_features, text_features, embedding_features, embedding_features_data, pairs, weight,\n",
      "42it [02:35,  3.71s/it]"
     ]
    },
    {
     "name": "stdout",
     "output_type": "stream",
     "text": [
      "999:\tlearn: 0.1340568\ttest: 0.2095663\tbest: 0.2095663 (999)\ttotal: 3.57s\tremaining: 0us\n",
      "\n",
      "bestTest = 0.2095662759\n",
      "bestIteration = 999\n",
      "\n",
      "F1 on fold 41: 0.3867\n",
      "Learning rate set to 0.071642\n",
      "0:\tlearn: 0.6353030\ttest: 0.6335380\tbest: 0.6335380 (0)\ttotal: 34.5ms\tremaining: 34.5s\n"
     ]
    },
    {
     "name": "stderr",
     "output_type": "stream",
     "text": [
      "C:\\Users\\user\\anaconda3\\envs\\pycaret\\lib\\site-packages\\catboost\\core.py:1411: FutureWarning: iteritems is deprecated and will be removed in a future version. Use .items instead.\n",
      "  self._init_pool(data, label, cat_features, text_features, embedding_features, embedding_features_data, pairs, weight,\n",
      "43it [02:39,  3.70s/it]"
     ]
    },
    {
     "name": "stdout",
     "output_type": "stream",
     "text": [
      "999:\tlearn: 0.1346702\ttest: 0.1905342\tbest: 0.1905342 (999)\ttotal: 3.56s\tremaining: 0us\n",
      "\n",
      "bestTest = 0.1905342079\n",
      "bestIteration = 999\n",
      "\n",
      "F1 on fold 42: 0.4040\n",
      "Learning rate set to 0.071642\n",
      "0:\tlearn: 0.6345186\ttest: 0.6352263\tbest: 0.6352263 (0)\ttotal: 19ms\tremaining: 19s\n"
     ]
    },
    {
     "name": "stderr",
     "output_type": "stream",
     "text": [
      "C:\\Users\\user\\anaconda3\\envs\\pycaret\\lib\\site-packages\\catboost\\core.py:1411: FutureWarning: iteritems is deprecated and will be removed in a future version. Use .items instead.\n",
      "  self._init_pool(data, label, cat_features, text_features, embedding_features, embedding_features_data, pairs, weight,\n",
      "44it [02:43,  3.70s/it]"
     ]
    },
    {
     "name": "stdout",
     "output_type": "stream",
     "text": [
      "999:\tlearn: 0.1334184\ttest: 0.2208153\tbest: 0.2208153 (999)\ttotal: 3.55s\tremaining: 0us\n",
      "\n",
      "bestTest = 0.2208153317\n",
      "bestIteration = 999\n",
      "\n",
      "F1 on fold 43: 0.4274\n",
      "Learning rate set to 0.071642\n",
      "0:\tlearn: 0.6343604\ttest: 0.6356069\tbest: 0.6356069 (0)\ttotal: 21.1ms\tremaining: 21.1s\n"
     ]
    },
    {
     "name": "stderr",
     "output_type": "stream",
     "text": [
      "C:\\Users\\user\\anaconda3\\envs\\pycaret\\lib\\site-packages\\catboost\\core.py:1411: FutureWarning: iteritems is deprecated and will be removed in a future version. Use .items instead.\n",
      "  self._init_pool(data, label, cat_features, text_features, embedding_features, embedding_features_data, pairs, weight,\n",
      "45it [02:46,  3.71s/it]"
     ]
    },
    {
     "name": "stdout",
     "output_type": "stream",
     "text": [
      "999:\tlearn: 0.1340043\ttest: 0.2236817\tbest: 0.2235393 (992)\ttotal: 3.6s\tremaining: 0us\n",
      "\n",
      "bestTest = 0.2235393103\n",
      "bestIteration = 992\n",
      "\n",
      "Shrink model to first 993 iterations.\n",
      "F1 on fold 44: 0.4034\n",
      "Learning rate set to 0.071642\n",
      "0:\tlearn: 0.6345622\ttest: 0.6354217\tbest: 0.6354217 (0)\ttotal: 10.8ms\tremaining: 10.8s\n"
     ]
    },
    {
     "name": "stderr",
     "output_type": "stream",
     "text": [
      "C:\\Users\\user\\anaconda3\\envs\\pycaret\\lib\\site-packages\\catboost\\core.py:1411: FutureWarning: iteritems is deprecated and will be removed in a future version. Use .items instead.\n",
      "  self._init_pool(data, label, cat_features, text_features, embedding_features, embedding_features_data, pairs, weight,\n",
      "46it [02:50,  3.70s/it]"
     ]
    },
    {
     "name": "stdout",
     "output_type": "stream",
     "text": [
      "999:\tlearn: 0.1330694\ttest: 0.2196318\tbest: 0.2196318 (999)\ttotal: 3.55s\tremaining: 0us\n",
      "\n",
      "bestTest = 0.2196318061\n",
      "bestIteration = 999\n",
      "\n",
      "F1 on fold 45: 0.3712\n",
      "Learning rate set to 0.071642\n",
      "0:\tlearn: 0.6348460\ttest: 0.6350984\tbest: 0.6350984 (0)\ttotal: 15.5ms\tremaining: 15.4s\n"
     ]
    },
    {
     "name": "stderr",
     "output_type": "stream",
     "text": [
      "C:\\Users\\user\\anaconda3\\envs\\pycaret\\lib\\site-packages\\catboost\\core.py:1411: FutureWarning: iteritems is deprecated and will be removed in a future version. Use .items instead.\n",
      "  self._init_pool(data, label, cat_features, text_features, embedding_features, embedding_features_data, pairs, weight,\n",
      "47it [02:54,  3.71s/it]"
     ]
    },
    {
     "name": "stdout",
     "output_type": "stream",
     "text": [
      "999:\tlearn: 0.1347672\ttest: 0.2137974\tbest: 0.2136755 (998)\ttotal: 3.6s\tremaining: 0us\n",
      "\n",
      "bestTest = 0.2136755351\n",
      "bestIteration = 998\n",
      "\n",
      "Shrink model to first 999 iterations.\n",
      "F1 on fold 46: 0.3964\n",
      "Learning rate set to 0.071642\n",
      "0:\tlearn: 0.6345906\ttest: 0.6356158\tbest: 0.6356158 (0)\ttotal: 4.52ms\tremaining: 4.52s\n"
     ]
    },
    {
     "name": "stderr",
     "output_type": "stream",
     "text": [
      "C:\\Users\\user\\anaconda3\\envs\\pycaret\\lib\\site-packages\\catboost\\core.py:1411: FutureWarning: iteritems is deprecated and will be removed in a future version. Use .items instead.\n",
      "  self._init_pool(data, label, cat_features, text_features, embedding_features, embedding_features_data, pairs, weight,\n",
      "48it [02:58,  3.77s/it]"
     ]
    },
    {
     "name": "stdout",
     "output_type": "stream",
     "text": [
      "999:\tlearn: 0.1328184\ttest: 0.2139014\tbest: 0.2139014 (999)\ttotal: 3.75s\tremaining: 0us\n",
      "\n",
      "bestTest = 0.2139014467\n",
      "bestIteration = 999\n",
      "\n",
      "F1 on fold 47: 0.4213\n",
      "Learning rate set to 0.071642\n",
      "0:\tlearn: 0.6346547\ttest: 0.6350995\tbest: 0.6350995 (0)\ttotal: 3.57ms\tremaining: 3.57s\n"
     ]
    },
    {
     "name": "stderr",
     "output_type": "stream",
     "text": [
      "C:\\Users\\user\\anaconda3\\envs\\pycaret\\lib\\site-packages\\catboost\\core.py:1411: FutureWarning: iteritems is deprecated and will be removed in a future version. Use .items instead.\n",
      "  self._init_pool(data, label, cat_features, text_features, embedding_features, embedding_features_data, pairs, weight,\n",
      "49it [03:02,  3.78s/it]"
     ]
    },
    {
     "name": "stdout",
     "output_type": "stream",
     "text": [
      "999:\tlearn: 0.1316734\ttest: 0.2251846\tbest: 0.2251510 (997)\ttotal: 3.65s\tremaining: 0us\n",
      "\n",
      "bestTest = 0.2251509834\n",
      "bestIteration = 997\n",
      "\n",
      "Shrink model to first 998 iterations.\n",
      "F1 on fold 48: 0.4280\n",
      "Learning rate set to 0.071642\n",
      "0:\tlearn: 0.6347498\ttest: 0.6349967\tbest: 0.6349967 (0)\ttotal: 14.5ms\tremaining: 14.5s\n"
     ]
    },
    {
     "name": "stderr",
     "output_type": "stream",
     "text": [
      "C:\\Users\\user\\anaconda3\\envs\\pycaret\\lib\\site-packages\\catboost\\core.py:1411: FutureWarning: iteritems is deprecated and will be removed in a future version. Use .items instead.\n",
      "  self._init_pool(data, label, cat_features, text_features, embedding_features, embedding_features_data, pairs, weight,\n",
      "50it [03:05,  3.75s/it]"
     ]
    },
    {
     "name": "stdout",
     "output_type": "stream",
     "text": [
      "999:\tlearn: 0.1329401\ttest: 0.2138120\tbest: 0.2136823 (995)\ttotal: 3.56s\tremaining: 0us\n",
      "\n",
      "bestTest = 0.2136822832\n",
      "bestIteration = 995\n",
      "\n",
      "Shrink model to first 996 iterations.\n",
      "F1 on fold 49: 0.3527\n",
      "Learning rate set to 0.071642\n",
      "0:\tlearn: 0.6349777\ttest: 0.6345472\tbest: 0.6345472 (0)\ttotal: 23.6ms\tremaining: 23.6s\n"
     ]
    },
    {
     "name": "stderr",
     "output_type": "stream",
     "text": [
      "C:\\Users\\user\\anaconda3\\envs\\pycaret\\lib\\site-packages\\catboost\\core.py:1411: FutureWarning: iteritems is deprecated and will be removed in a future version. Use .items instead.\n",
      "  self._init_pool(data, label, cat_features, text_features, embedding_features, embedding_features_data, pairs, weight,\n",
      "51it [03:09,  3.74s/it]"
     ]
    },
    {
     "name": "stdout",
     "output_type": "stream",
     "text": [
      "999:\tlearn: 0.1343087\ttest: 0.2115141\tbest: 0.2115141 (999)\ttotal: 3.58s\tremaining: 0us\n",
      "\n",
      "bestTest = 0.2115141361\n",
      "bestIteration = 999\n",
      "\n",
      "F1 on fold 50: 0.3803\n",
      "Learning rate set to 0.071642\n",
      "0:\tlearn: 0.6341742\ttest: 0.6362278\tbest: 0.6362278 (0)\ttotal: 7.02ms\tremaining: 7.01s\n"
     ]
    },
    {
     "name": "stderr",
     "output_type": "stream",
     "text": [
      "C:\\Users\\user\\anaconda3\\envs\\pycaret\\lib\\site-packages\\catboost\\core.py:1411: FutureWarning: iteritems is deprecated and will be removed in a future version. Use .items instead.\n",
      "  self._init_pool(data, label, cat_features, text_features, embedding_features, embedding_features_data, pairs, weight,\n",
      "52it [03:13,  3.72s/it]"
     ]
    },
    {
     "name": "stdout",
     "output_type": "stream",
     "text": [
      "999:\tlearn: 0.1344948\ttest: 0.2277424\tbest: 0.2277424 (999)\ttotal: 3.54s\tremaining: 0us\n",
      "\n",
      "bestTest = 0.2277424428\n",
      "bestIteration = 999\n",
      "\n",
      "F1 on fold 51: 0.4025\n",
      "Learning rate set to 0.071642\n",
      "0:\tlearn: 0.6348338\ttest: 0.6341087\tbest: 0.6341087 (0)\ttotal: 3.89ms\tremaining: 3.89s\n"
     ]
    },
    {
     "name": "stderr",
     "output_type": "stream",
     "text": [
      "C:\\Users\\user\\anaconda3\\envs\\pycaret\\lib\\site-packages\\catboost\\core.py:1411: FutureWarning: iteritems is deprecated and will be removed in a future version. Use .items instead.\n",
      "  self._init_pool(data, label, cat_features, text_features, embedding_features, embedding_features_data, pairs, weight,\n",
      "53it [03:16,  3.75s/it]"
     ]
    },
    {
     "name": "stdout",
     "output_type": "stream",
     "text": [
      "999:\tlearn: 0.1342431\ttest: 0.2062550\tbest: 0.2062440 (998)\ttotal: 3.66s\tremaining: 0us\n",
      "\n",
      "bestTest = 0.2062439578\n",
      "bestIteration = 998\n",
      "\n",
      "Shrink model to first 999 iterations.\n",
      "F1 on fold 52: 0.4063\n",
      "Learning rate set to 0.071642\n",
      "0:\tlearn: 0.6346925\ttest: 0.6353918\tbest: 0.6353918 (0)\ttotal: 22ms\tremaining: 21.9s\n"
     ]
    },
    {
     "name": "stderr",
     "output_type": "stream",
     "text": [
      "C:\\Users\\user\\anaconda3\\envs\\pycaret\\lib\\site-packages\\catboost\\core.py:1411: FutureWarning: iteritems is deprecated and will be removed in a future version. Use .items instead.\n",
      "  self._init_pool(data, label, cat_features, text_features, embedding_features, embedding_features_data, pairs, weight,\n",
      "54it [03:20,  3.73s/it]"
     ]
    },
    {
     "name": "stdout",
     "output_type": "stream",
     "text": [
      "999:\tlearn: 0.1344230\ttest: 0.2189978\tbest: 0.2189724 (998)\ttotal: 3.57s\tremaining: 0us\n",
      "\n",
      "bestTest = 0.2189723852\n",
      "bestIteration = 998\n",
      "\n",
      "Shrink model to first 999 iterations.\n",
      "F1 on fold 53: 0.3787\n",
      "Learning rate set to 0.071642\n",
      "0:\tlearn: 0.6346298\ttest: 0.6352599\tbest: 0.6352599 (0)\ttotal: 38.8ms\tremaining: 38.7s\n"
     ]
    },
    {
     "name": "stderr",
     "output_type": "stream",
     "text": [
      "C:\\Users\\user\\anaconda3\\envs\\pycaret\\lib\\site-packages\\catboost\\core.py:1411: FutureWarning: iteritems is deprecated and will be removed in a future version. Use .items instead.\n",
      "  self._init_pool(data, label, cat_features, text_features, embedding_features, embedding_features_data, pairs, weight,\n",
      "55it [03:24,  3.73s/it]"
     ]
    },
    {
     "name": "stdout",
     "output_type": "stream",
     "text": [
      "999:\tlearn: 0.1344208\ttest: 0.2150449\tbest: 0.2150449 (999)\ttotal: 3.6s\tremaining: 0us\n",
      "\n",
      "bestTest = 0.2150449474\n",
      "bestIteration = 999\n",
      "\n",
      "F1 on fold 54: 0.4042\n",
      "Learning rate set to 0.071642\n",
      "0:\tlearn: 0.6345150\ttest: 0.6355901\tbest: 0.6355901 (0)\ttotal: 20.3ms\tremaining: 20.3s\n"
     ]
    },
    {
     "name": "stderr",
     "output_type": "stream",
     "text": [
      "C:\\Users\\user\\anaconda3\\envs\\pycaret\\lib\\site-packages\\catboost\\core.py:1411: FutureWarning: iteritems is deprecated and will be removed in a future version. Use .items instead.\n",
      "  self._init_pool(data, label, cat_features, text_features, embedding_features, embedding_features_data, pairs, weight,\n",
      "56it [03:28,  3.74s/it]"
     ]
    },
    {
     "name": "stdout",
     "output_type": "stream",
     "text": [
      "999:\tlearn: 0.1331992\ttest: 0.2168161\tbest: 0.2167692 (997)\ttotal: 3.62s\tremaining: 0us\n",
      "\n",
      "bestTest = 0.2167692466\n",
      "bestIteration = 997\n",
      "\n",
      "Shrink model to first 998 iterations.\n",
      "F1 on fold 55: 0.3922\n",
      "Learning rate set to 0.071642\n",
      "0:\tlearn: 0.6349049\ttest: 0.6344220\tbest: 0.6344220 (0)\ttotal: 9.65ms\tremaining: 9.64s\n"
     ]
    },
    {
     "name": "stderr",
     "output_type": "stream",
     "text": [
      "C:\\Users\\user\\anaconda3\\envs\\pycaret\\lib\\site-packages\\catboost\\core.py:1411: FutureWarning: iteritems is deprecated and will be removed in a future version. Use .items instead.\n",
      "  self._init_pool(data, label, cat_features, text_features, embedding_features, embedding_features_data, pairs, weight,\n",
      "57it [03:31,  3.72s/it]"
     ]
    },
    {
     "name": "stdout",
     "output_type": "stream",
     "text": [
      "999:\tlearn: 0.1327504\ttest: 0.2124181\tbest: 0.2123266 (998)\ttotal: 3.53s\tremaining: 0us\n",
      "\n",
      "bestTest = 0.2123265752\n",
      "bestIteration = 998\n",
      "\n",
      "Shrink model to first 999 iterations.\n",
      "F1 on fold 56: 0.3963\n",
      "Learning rate set to 0.071642\n",
      "0:\tlearn: 0.6344371\ttest: 0.6361235\tbest: 0.6361235 (0)\ttotal: 10ms\tremaining: 10s\n"
     ]
    },
    {
     "name": "stderr",
     "output_type": "stream",
     "text": [
      "C:\\Users\\user\\anaconda3\\envs\\pycaret\\lib\\site-packages\\catboost\\core.py:1411: FutureWarning: iteritems is deprecated and will be removed in a future version. Use .items instead.\n",
      "  self._init_pool(data, label, cat_features, text_features, embedding_features, embedding_features_data, pairs, weight,\n",
      "58it [03:35,  3.71s/it]"
     ]
    },
    {
     "name": "stdout",
     "output_type": "stream",
     "text": [
      "999:\tlearn: 0.1331676\ttest: 0.2204819\tbest: 0.2204819 (999)\ttotal: 3.54s\tremaining: 0us\n",
      "\n",
      "bestTest = 0.2204818717\n",
      "bestIteration = 999\n",
      "\n",
      "F1 on fold 57: 0.3848\n",
      "Learning rate set to 0.071642\n",
      "0:\tlearn: 0.6347857\ttest: 0.6341323\tbest: 0.6341323 (0)\ttotal: 12.7ms\tremaining: 12.6s\n"
     ]
    },
    {
     "name": "stderr",
     "output_type": "stream",
     "text": [
      "C:\\Users\\user\\anaconda3\\envs\\pycaret\\lib\\site-packages\\catboost\\core.py:1411: FutureWarning: iteritems is deprecated and will be removed in a future version. Use .items instead.\n",
      "  self._init_pool(data, label, cat_features, text_features, embedding_features, embedding_features_data, pairs, weight,\n",
      "59it [03:39,  3.70s/it]"
     ]
    },
    {
     "name": "stdout",
     "output_type": "stream",
     "text": [
      "999:\tlearn: 0.1340655\ttest: 0.2053576\tbest: 0.2053576 (999)\ttotal: 3.54s\tremaining: 0us\n",
      "\n",
      "bestTest = 0.2053576026\n",
      "bestIteration = 999\n",
      "\n",
      "F1 on fold 58: 0.4027\n",
      "Learning rate set to 0.071642\n",
      "0:\tlearn: 0.6354123\ttest: 0.6335145\tbest: 0.6335145 (0)\ttotal: 7.38ms\tremaining: 7.37s\n"
     ]
    },
    {
     "name": "stderr",
     "output_type": "stream",
     "text": [
      "C:\\Users\\user\\anaconda3\\envs\\pycaret\\lib\\site-packages\\catboost\\core.py:1411: FutureWarning: iteritems is deprecated and will be removed in a future version. Use .items instead.\n",
      "  self._init_pool(data, label, cat_features, text_features, embedding_features, embedding_features_data, pairs, weight,\n",
      "60it [03:42,  3.69s/it]"
     ]
    },
    {
     "name": "stdout",
     "output_type": "stream",
     "text": [
      "999:\tlearn: 0.1359831\ttest: 0.1925334\tbest: 0.1925334 (999)\ttotal: 3.55s\tremaining: 0us\n",
      "\n",
      "bestTest = 0.1925334178\n",
      "bestIteration = 999\n",
      "\n",
      "F1 on fold 59: 0.4200\n",
      "Learning rate set to 0.071642\n",
      "0:\tlearn: 0.6347729\ttest: 0.6340054\tbest: 0.6340054 (0)\ttotal: 20.1ms\tremaining: 20.1s\n"
     ]
    },
    {
     "name": "stderr",
     "output_type": "stream",
     "text": [
      "C:\\Users\\user\\anaconda3\\envs\\pycaret\\lib\\site-packages\\catboost\\core.py:1411: FutureWarning: iteritems is deprecated and will be removed in a future version. Use .items instead.\n",
      "  self._init_pool(data, label, cat_features, text_features, embedding_features, embedding_features_data, pairs, weight,\n",
      "61it [03:46,  3.70s/it]"
     ]
    },
    {
     "name": "stdout",
     "output_type": "stream",
     "text": [
      "999:\tlearn: 0.1356662\ttest: 0.2091719\tbest: 0.2091719 (999)\ttotal: 3.57s\tremaining: 0us\n",
      "\n",
      "bestTest = 0.2091719124\n",
      "bestIteration = 999\n",
      "\n",
      "F1 on fold 60: 0.4080\n",
      "Learning rate set to 0.071642\n",
      "0:\tlearn: 0.6351456\ttest: 0.6344292\tbest: 0.6344292 (0)\ttotal: 17.1ms\tremaining: 17.1s\n"
     ]
    },
    {
     "name": "stderr",
     "output_type": "stream",
     "text": [
      "C:\\Users\\user\\anaconda3\\envs\\pycaret\\lib\\site-packages\\catboost\\core.py:1411: FutureWarning: iteritems is deprecated and will be removed in a future version. Use .items instead.\n",
      "  self._init_pool(data, label, cat_features, text_features, embedding_features, embedding_features_data, pairs, weight,\n",
      "62it [03:50,  3.69s/it]"
     ]
    },
    {
     "name": "stdout",
     "output_type": "stream",
     "text": [
      "999:\tlearn: 0.1361516\ttest: 0.1915048\tbest: 0.1915003 (998)\ttotal: 3.54s\tremaining: 0us\n",
      "\n",
      "bestTest = 0.1915003485\n",
      "bestIteration = 998\n",
      "\n",
      "Shrink model to first 999 iterations.\n",
      "F1 on fold 61: 0.4184\n",
      "Learning rate set to 0.071642\n",
      "0:\tlearn: 0.6346719\ttest: 0.6350912\tbest: 0.6350912 (0)\ttotal: 20.4ms\tremaining: 20.4s\n"
     ]
    },
    {
     "name": "stderr",
     "output_type": "stream",
     "text": [
      "C:\\Users\\user\\anaconda3\\envs\\pycaret\\lib\\site-packages\\catboost\\core.py:1411: FutureWarning: iteritems is deprecated and will be removed in a future version. Use .items instead.\n",
      "  self._init_pool(data, label, cat_features, text_features, embedding_features, embedding_features_data, pairs, weight,\n",
      "63it [03:53,  3.69s/it]"
     ]
    },
    {
     "name": "stdout",
     "output_type": "stream",
     "text": [
      "999:\tlearn: 0.1348082\ttest: 0.2127271\tbest: 0.2127271 (999)\ttotal: 3.56s\tremaining: 0us\n",
      "\n",
      "bestTest = 0.2127271203\n",
      "bestIteration = 999\n",
      "\n",
      "F1 on fold 62: 0.4267\n",
      "Learning rate set to 0.071642\n",
      "0:\tlearn: 0.6349851\ttest: 0.6342804\tbest: 0.6342804 (0)\ttotal: 11.1ms\tremaining: 11.1s\n"
     ]
    },
    {
     "name": "stderr",
     "output_type": "stream",
     "text": [
      "C:\\Users\\user\\anaconda3\\envs\\pycaret\\lib\\site-packages\\catboost\\core.py:1411: FutureWarning: iteritems is deprecated and will be removed in a future version. Use .items instead.\n",
      "  self._init_pool(data, label, cat_features, text_features, embedding_features, embedding_features_data, pairs, weight,\n",
      "64it [03:57,  3.68s/it]"
     ]
    },
    {
     "name": "stdout",
     "output_type": "stream",
     "text": [
      "999:\tlearn: 0.1339293\ttest: 0.1986657\tbest: 0.1986657 (999)\ttotal: 3.53s\tremaining: 0us\n",
      "\n",
      "bestTest = 0.1986657166\n",
      "bestIteration = 999\n",
      "\n",
      "F1 on fold 63: 0.4588\n",
      "Learning rate set to 0.071642\n",
      "0:\tlearn: 0.6344628\ttest: 0.6361018\tbest: 0.6361018 (0)\ttotal: 23.3ms\tremaining: 23.3s\n"
     ]
    },
    {
     "name": "stderr",
     "output_type": "stream",
     "text": [
      "C:\\Users\\user\\anaconda3\\envs\\pycaret\\lib\\site-packages\\catboost\\core.py:1411: FutureWarning: iteritems is deprecated and will be removed in a future version. Use .items instead.\n",
      "  self._init_pool(data, label, cat_features, text_features, embedding_features, embedding_features_data, pairs, weight,\n",
      "65it [04:01,  3.69s/it]"
     ]
    },
    {
     "name": "stdout",
     "output_type": "stream",
     "text": [
      "999:\tlearn: 0.1326117\ttest: 0.2179813\tbest: 0.2179813 (999)\ttotal: 3.56s\tremaining: 0us\n",
      "\n",
      "bestTest = 0.2179812766\n",
      "bestIteration = 999\n",
      "\n",
      "F1 on fold 64: 0.3917\n",
      "Learning rate set to 0.071642\n",
      "0:\tlearn: 0.6345448\ttest: 0.6356667\tbest: 0.6356667 (0)\ttotal: 25.9ms\tremaining: 25.9s\n"
     ]
    },
    {
     "name": "stderr",
     "output_type": "stream",
     "text": [
      "C:\\Users\\user\\anaconda3\\envs\\pycaret\\lib\\site-packages\\catboost\\core.py:1411: FutureWarning: iteritems is deprecated and will be removed in a future version. Use .items instead.\n",
      "  self._init_pool(data, label, cat_features, text_features, embedding_features, embedding_features_data, pairs, weight,\n",
      "66it [04:04,  3.70s/it]"
     ]
    },
    {
     "name": "stdout",
     "output_type": "stream",
     "text": [
      "999:\tlearn: 0.1333951\ttest: 0.2135668\tbest: 0.2135512 (998)\ttotal: 3.58s\tremaining: 0us\n",
      "\n",
      "bestTest = 0.2135511808\n",
      "bestIteration = 998\n",
      "\n",
      "Shrink model to first 999 iterations.\n",
      "F1 on fold 65: 0.4292\n",
      "Learning rate set to 0.071642\n",
      "0:\tlearn: 0.6349785\ttest: 0.6342302\tbest: 0.6342302 (0)\ttotal: 18.3ms\tremaining: 18.2s\n"
     ]
    },
    {
     "name": "stderr",
     "output_type": "stream",
     "text": [
      "C:\\Users\\user\\anaconda3\\envs\\pycaret\\lib\\site-packages\\catboost\\core.py:1411: FutureWarning: iteritems is deprecated and will be removed in a future version. Use .items instead.\n",
      "  self._init_pool(data, label, cat_features, text_features, embedding_features, embedding_features_data, pairs, weight,\n",
      "67it [04:08,  3.70s/it]"
     ]
    },
    {
     "name": "stdout",
     "output_type": "stream",
     "text": [
      "999:\tlearn: 0.1333994\ttest: 0.2200140\tbest: 0.2199709 (998)\ttotal: 3.58s\tremaining: 0us\n",
      "\n",
      "bestTest = 0.2199709267\n",
      "bestIteration = 998\n",
      "\n",
      "Shrink model to first 999 iterations.\n",
      "F1 on fold 66: 0.4153\n",
      "Learning rate set to 0.071642\n",
      "0:\tlearn: 0.6349555\ttest: 0.6340400\tbest: 0.6340400 (0)\ttotal: 15.3ms\tremaining: 15.3s\n"
     ]
    },
    {
     "name": "stderr",
     "output_type": "stream",
     "text": [
      "C:\\Users\\user\\anaconda3\\envs\\pycaret\\lib\\site-packages\\catboost\\core.py:1411: FutureWarning: iteritems is deprecated and will be removed in a future version. Use .items instead.\n",
      "  self._init_pool(data, label, cat_features, text_features, embedding_features, embedding_features_data, pairs, weight,\n",
      "68it [04:12,  3.70s/it]"
     ]
    },
    {
     "name": "stdout",
     "output_type": "stream",
     "text": [
      "999:\tlearn: 0.1335150\ttest: 0.2084518\tbest: 0.2084179 (998)\ttotal: 3.56s\tremaining: 0us\n",
      "\n",
      "bestTest = 0.2084179394\n",
      "bestIteration = 998\n",
      "\n",
      "Shrink model to first 999 iterations.\n",
      "F1 on fold 67: 0.3869\n",
      "Learning rate set to 0.071642\n",
      "0:\tlearn: 0.6344628\ttest: 0.6360284\tbest: 0.6360284 (0)\ttotal: 14.5ms\tremaining: 14.5s\n"
     ]
    },
    {
     "name": "stderr",
     "output_type": "stream",
     "text": [
      "C:\\Users\\user\\anaconda3\\envs\\pycaret\\lib\\site-packages\\catboost\\core.py:1411: FutureWarning: iteritems is deprecated and will be removed in a future version. Use .items instead.\n",
      "  self._init_pool(data, label, cat_features, text_features, embedding_features, embedding_features_data, pairs, weight,\n",
      "69it [04:16,  3.72s/it]"
     ]
    },
    {
     "name": "stdout",
     "output_type": "stream",
     "text": [
      "999:\tlearn: 0.1324848\ttest: 0.2269911\tbest: 0.2269911 (999)\ttotal: 3.62s\tremaining: 0us\n",
      "\n",
      "bestTest = 0.2269910975\n",
      "bestIteration = 999\n",
      "\n",
      "F1 on fold 68: 0.4057\n",
      "Learning rate set to 0.071642\n",
      "0:\tlearn: 0.6346039\ttest: 0.6354038\tbest: 0.6354038 (0)\ttotal: 13.1ms\tremaining: 13.1s\n"
     ]
    },
    {
     "name": "stderr",
     "output_type": "stream",
     "text": [
      "C:\\Users\\user\\anaconda3\\envs\\pycaret\\lib\\site-packages\\catboost\\core.py:1411: FutureWarning: iteritems is deprecated and will be removed in a future version. Use .items instead.\n",
      "  self._init_pool(data, label, cat_features, text_features, embedding_features, embedding_features_data, pairs, weight,\n",
      "70it [04:19,  3.71s/it]"
     ]
    },
    {
     "name": "stdout",
     "output_type": "stream",
     "text": [
      "999:\tlearn: 0.1342844\ttest: 0.2158186\tbest: 0.2158186 (999)\ttotal: 3.55s\tremaining: 0us\n",
      "\n",
      "bestTest = 0.2158186079\n",
      "bestIteration = 999\n",
      "\n",
      "F1 on fold 69: 0.3856\n",
      "Learning rate set to 0.071642\n",
      "0:\tlearn: 0.6352105\ttest: 0.6332403\tbest: 0.6332403 (0)\ttotal: 23.8ms\tremaining: 23.8s\n"
     ]
    },
    {
     "name": "stderr",
     "output_type": "stream",
     "text": [
      "C:\\Users\\user\\anaconda3\\envs\\pycaret\\lib\\site-packages\\catboost\\core.py:1411: FutureWarning: iteritems is deprecated and will be removed in a future version. Use .items instead.\n",
      "  self._init_pool(data, label, cat_features, text_features, embedding_features, embedding_features_data, pairs, weight,\n",
      "71it [04:23,  3.71s/it]"
     ]
    },
    {
     "name": "stdout",
     "output_type": "stream",
     "text": [
      "999:\tlearn: 0.1352074\ttest: 0.1952965\tbest: 0.1952965 (999)\ttotal: 3.58s\tremaining: 0us\n",
      "\n",
      "bestTest = 0.1952964943\n",
      "bestIteration = 999\n",
      "\n",
      "F1 on fold 70: 0.4010\n",
      "Learning rate set to 0.071642\n",
      "0:\tlearn: 0.6348891\ttest: 0.6345067\tbest: 0.6345067 (0)\ttotal: 23.8ms\tremaining: 23.8s\n"
     ]
    },
    {
     "name": "stderr",
     "output_type": "stream",
     "text": [
      "C:\\Users\\user\\anaconda3\\envs\\pycaret\\lib\\site-packages\\catboost\\core.py:1411: FutureWarning: iteritems is deprecated and will be removed in a future version. Use .items instead.\n",
      "  self._init_pool(data, label, cat_features, text_features, embedding_features, embedding_features_data, pairs, weight,\n",
      "72it [04:27,  3.71s/it]"
     ]
    },
    {
     "name": "stdout",
     "output_type": "stream",
     "text": [
      "999:\tlearn: 0.1340562\ttest: 0.2120633\tbest: 0.2120633 (999)\ttotal: 3.58s\tremaining: 0us\n",
      "\n",
      "bestTest = 0.2120632542\n",
      "bestIteration = 999\n",
      "\n",
      "F1 on fold 71: 0.4299\n",
      "Learning rate set to 0.071642\n",
      "0:\tlearn: 0.6343591\ttest: 0.6356493\tbest: 0.6356493 (0)\ttotal: 46.3ms\tremaining: 46.3s\n"
     ]
    },
    {
     "name": "stderr",
     "output_type": "stream",
     "text": [
      "C:\\Users\\user\\anaconda3\\envs\\pycaret\\lib\\site-packages\\catboost\\core.py:1411: FutureWarning: iteritems is deprecated and will be removed in a future version. Use .items instead.\n",
      "  self._init_pool(data, label, cat_features, text_features, embedding_features, embedding_features_data, pairs, weight,\n",
      "73it [04:31,  3.73s/it]"
     ]
    },
    {
     "name": "stdout",
     "output_type": "stream",
     "text": [
      "999:\tlearn: 0.1356071\ttest: 0.2180146\tbest: 0.2180146 (999)\ttotal: 3.62s\tremaining: 0us\n",
      "\n",
      "bestTest = 0.2180145648\n",
      "bestIteration = 999\n",
      "\n",
      "F1 on fold 72: 0.4298\n",
      "Learning rate set to 0.071642\n",
      "0:\tlearn: 0.6345505\ttest: 0.6356244\tbest: 0.6356244 (0)\ttotal: 18.3ms\tremaining: 18.3s\n"
     ]
    },
    {
     "name": "stderr",
     "output_type": "stream",
     "text": [
      "C:\\Users\\user\\anaconda3\\envs\\pycaret\\lib\\site-packages\\catboost\\core.py:1411: FutureWarning: iteritems is deprecated and will be removed in a future version. Use .items instead.\n",
      "  self._init_pool(data, label, cat_features, text_features, embedding_features, embedding_features_data, pairs, weight,\n",
      "74it [04:34,  3.73s/it]"
     ]
    },
    {
     "name": "stdout",
     "output_type": "stream",
     "text": [
      "999:\tlearn: 0.1339134\ttest: 0.2188595\tbest: 0.2188223 (995)\ttotal: 3.6s\tremaining: 0us\n",
      "\n",
      "bestTest = 0.2188222934\n",
      "bestIteration = 995\n",
      "\n",
      "Shrink model to first 996 iterations.\n",
      "F1 on fold 73: 0.3652\n",
      "Learning rate set to 0.071642\n",
      "0:\tlearn: 0.6348620\ttest: 0.6344056\tbest: 0.6344056 (0)\ttotal: 18.6ms\tremaining: 18.6s\n"
     ]
    },
    {
     "name": "stderr",
     "output_type": "stream",
     "text": [
      "C:\\Users\\user\\anaconda3\\envs\\pycaret\\lib\\site-packages\\catboost\\core.py:1411: FutureWarning: iteritems is deprecated and will be removed in a future version. Use .items instead.\n",
      "  self._init_pool(data, label, cat_features, text_features, embedding_features, embedding_features_data, pairs, weight,\n",
      "75it [04:38,  3.74s/it]"
     ]
    },
    {
     "name": "stdout",
     "output_type": "stream",
     "text": [
      "999:\tlearn: 0.1325312\ttest: 0.2055246\tbest: 0.2054035 (994)\ttotal: 3.63s\tremaining: 0us\n",
      "\n",
      "bestTest = 0.2054035082\n",
      "bestIteration = 994\n",
      "\n",
      "Shrink model to first 995 iterations.\n",
      "F1 on fold 74: 0.4071\n",
      "Learning rate set to 0.071642\n",
      "0:\tlearn: 0.6350833\ttest: 0.6343745\tbest: 0.6343745 (0)\ttotal: 24.2ms\tremaining: 24.1s\n"
     ]
    },
    {
     "name": "stderr",
     "output_type": "stream",
     "text": [
      "C:\\Users\\user\\anaconda3\\envs\\pycaret\\lib\\site-packages\\catboost\\core.py:1411: FutureWarning: iteritems is deprecated and will be removed in a future version. Use .items instead.\n",
      "  self._init_pool(data, label, cat_features, text_features, embedding_features, embedding_features_data, pairs, weight,\n",
      "76it [04:42,  3.73s/it]"
     ]
    },
    {
     "name": "stdout",
     "output_type": "stream",
     "text": [
      "999:\tlearn: 0.1349207\ttest: 0.2068802\tbest: 0.2068802 (999)\ttotal: 3.59s\tremaining: 0us\n",
      "\n",
      "bestTest = 0.2068801893\n",
      "bestIteration = 999\n",
      "\n",
      "F1 on fold 75: 0.3982\n",
      "Learning rate set to 0.071642\n",
      "0:\tlearn: 0.6343905\ttest: 0.6362122\tbest: 0.6362122 (0)\ttotal: 41.2ms\tremaining: 41.2s\n"
     ]
    },
    {
     "name": "stderr",
     "output_type": "stream",
     "text": [
      "C:\\Users\\user\\anaconda3\\envs\\pycaret\\lib\\site-packages\\catboost\\core.py:1411: FutureWarning: iteritems is deprecated and will be removed in a future version. Use .items instead.\n",
      "  self._init_pool(data, label, cat_features, text_features, embedding_features, embedding_features_data, pairs, weight,\n",
      "77it [04:45,  3.73s/it]"
     ]
    },
    {
     "name": "stdout",
     "output_type": "stream",
     "text": [
      "999:\tlearn: 0.1340836\ttest: 0.2204598\tbest: 0.2204598 (999)\ttotal: 3.6s\tremaining: 0us\n",
      "\n",
      "bestTest = 0.2204598395\n",
      "bestIteration = 999\n",
      "\n",
      "F1 on fold 76: 0.4476\n",
      "Learning rate set to 0.071642\n",
      "0:\tlearn: 0.6348867\ttest: 0.6342801\tbest: 0.6342801 (0)\ttotal: 9.28ms\tremaining: 9.27s\n"
     ]
    },
    {
     "name": "stderr",
     "output_type": "stream",
     "text": [
      "C:\\Users\\user\\anaconda3\\envs\\pycaret\\lib\\site-packages\\catboost\\core.py:1411: FutureWarning: iteritems is deprecated and will be removed in a future version. Use .items instead.\n",
      "  self._init_pool(data, label, cat_features, text_features, embedding_features, embedding_features_data, pairs, weight,\n",
      "78it [04:49,  3.73s/it]"
     ]
    },
    {
     "name": "stdout",
     "output_type": "stream",
     "text": [
      "999:\tlearn: 0.1353190\ttest: 0.2176092\tbest: 0.2176092 (999)\ttotal: 3.58s\tremaining: 0us\n",
      "\n",
      "bestTest = 0.2176091947\n",
      "bestIteration = 999\n",
      "\n",
      "F1 on fold 77: 0.3779\n",
      "Learning rate set to 0.071642\n",
      "0:\tlearn: 0.6346237\ttest: 0.6356702\tbest: 0.6356702 (0)\ttotal: 30.5ms\tremaining: 30.5s\n"
     ]
    },
    {
     "name": "stderr",
     "output_type": "stream",
     "text": [
      "C:\\Users\\user\\anaconda3\\envs\\pycaret\\lib\\site-packages\\catboost\\core.py:1411: FutureWarning: iteritems is deprecated and will be removed in a future version. Use .items instead.\n",
      "  self._init_pool(data, label, cat_features, text_features, embedding_features, embedding_features_data, pairs, weight,\n",
      "79it [04:53,  3.74s/it]"
     ]
    },
    {
     "name": "stdout",
     "output_type": "stream",
     "text": [
      "999:\tlearn: 0.1326482\ttest: 0.2140340\tbest: 0.2139054 (997)\ttotal: 3.62s\tremaining: 0us\n",
      "\n",
      "bestTest = 0.2139053611\n",
      "bestIteration = 997\n",
      "\n",
      "Shrink model to first 998 iterations.\n",
      "F1 on fold 78: 0.4217\n",
      "Learning rate set to 0.071642\n",
      "0:\tlearn: 0.6349427\ttest: 0.6349716\tbest: 0.6349716 (0)\ttotal: 20.4ms\tremaining: 20.4s\n"
     ]
    },
    {
     "name": "stderr",
     "output_type": "stream",
     "text": [
      "C:\\Users\\user\\anaconda3\\envs\\pycaret\\lib\\site-packages\\catboost\\core.py:1411: FutureWarning: iteritems is deprecated and will be removed in a future version. Use .items instead.\n",
      "  self._init_pool(data, label, cat_features, text_features, embedding_features, embedding_features_data, pairs, weight,\n",
      "80it [04:57,  3.72s/it]\n"
     ]
    },
    {
     "name": "stdout",
     "output_type": "stream",
     "text": [
      "999:\tlearn: 0.1341193\ttest: 0.2121523\tbest: 0.2121523 (999)\ttotal: 3.68s\tremaining: 0us\n",
      "\n",
      "bestTest = 0.2121522684\n",
      "bestIteration = 999\n",
      "\n",
      "F1 on fold 79: 0.3870\n"
     ]
    },
    {
     "name": "stderr",
     "output_type": "stream",
     "text": [
      "\r",
      "0it [00:00, ?it/s]"
     ]
    },
    {
     "name": "stdout",
     "output_type": "stream",
     "text": [
      "Learning rate set to 0.071642\n",
      "0:\tlearn: 0.6347212\ttest: 0.6349896\tbest: 0.6349896 (0)\ttotal: 15.2ms\tremaining: 15.2s\n"
     ]
    },
    {
     "name": "stderr",
     "output_type": "stream",
     "text": [
      "C:\\Users\\user\\anaconda3\\envs\\pycaret\\lib\\site-packages\\catboost\\core.py:1411: FutureWarning: iteritems is deprecated and will be removed in a future version. Use .items instead.\n",
      "  self._init_pool(data, label, cat_features, text_features, embedding_features, embedding_features_data, pairs, weight,\n",
      "1it [00:03,  3.77s/it]"
     ]
    },
    {
     "name": "stdout",
     "output_type": "stream",
     "text": [
      "999:\tlearn: 0.1332175\ttest: 0.2098613\tbest: 0.2098613 (999)\ttotal: 3.63s\tremaining: 0us\n",
      "\n",
      "bestTest = 0.20986133\n",
      "bestIteration = 999\n",
      "\n",
      "F1 on fold 0: 0.4406\n",
      "Learning rate set to 0.071642\n",
      "0:\tlearn: 0.6346207\ttest: 0.6350241\tbest: 0.6350241 (0)\ttotal: 11.6ms\tremaining: 11.5s\n"
     ]
    },
    {
     "name": "stderr",
     "output_type": "stream",
     "text": [
      "C:\\Users\\user\\anaconda3\\envs\\pycaret\\lib\\site-packages\\catboost\\core.py:1411: FutureWarning: iteritems is deprecated and will be removed in a future version. Use .items instead.\n",
      "  self._init_pool(data, label, cat_features, text_features, embedding_features, embedding_features_data, pairs, weight,\n",
      "2it [00:07,  3.76s/it]"
     ]
    },
    {
     "name": "stdout",
     "output_type": "stream",
     "text": [
      "999:\tlearn: 0.1335757\ttest: 0.2126026\tbest: 0.2125850 (998)\ttotal: 3.61s\tremaining: 0us\n",
      "\n",
      "bestTest = 0.2125849691\n",
      "bestIteration = 998\n",
      "\n",
      "Shrink model to first 999 iterations.\n",
      "F1 on fold 1: 0.3929\n",
      "Learning rate set to 0.071642\n",
      "0:\tlearn: 0.6348225\ttest: 0.6348932\tbest: 0.6348932 (0)\ttotal: 17.3ms\tremaining: 17.3s\n"
     ]
    },
    {
     "name": "stderr",
     "output_type": "stream",
     "text": [
      "C:\\Users\\user\\anaconda3\\envs\\pycaret\\lib\\site-packages\\catboost\\core.py:1411: FutureWarning: iteritems is deprecated and will be removed in a future version. Use .items instead.\n",
      "  self._init_pool(data, label, cat_features, text_features, embedding_features, embedding_features_data, pairs, weight,\n",
      "3it [00:11,  3.75s/it]"
     ]
    },
    {
     "name": "stdout",
     "output_type": "stream",
     "text": [
      "999:\tlearn: 0.1363784\ttest: 0.2054641\tbest: 0.2054641 (999)\ttotal: 3.61s\tremaining: 0us\n",
      "\n",
      "bestTest = 0.2054640812\n",
      "bestIteration = 999\n",
      "\n",
      "F1 on fold 2: 0.4045\n",
      "Learning rate set to 0.071642\n",
      "0:\tlearn: 0.6349590\ttest: 0.6347754\tbest: 0.6347754 (0)\ttotal: 22.3ms\tremaining: 22.3s\n"
     ]
    },
    {
     "name": "stderr",
     "output_type": "stream",
     "text": [
      "C:\\Users\\user\\anaconda3\\envs\\pycaret\\lib\\site-packages\\catboost\\core.py:1411: FutureWarning: iteritems is deprecated and will be removed in a future version. Use .items instead.\n",
      "  self._init_pool(data, label, cat_features, text_features, embedding_features, embedding_features_data, pairs, weight,\n",
      "4it [00:15,  3.76s/it]"
     ]
    },
    {
     "name": "stdout",
     "output_type": "stream",
     "text": [
      "999:\tlearn: 0.1370237\ttest: 0.2009453\tbest: 0.2009453 (999)\ttotal: 3.63s\tremaining: 0us\n",
      "\n",
      "bestTest = 0.2009452875\n",
      "bestIteration = 999\n",
      "\n",
      "F1 on fold 3: 0.4123\n",
      "Learning rate set to 0.071642\n",
      "0:\tlearn: 0.6347472\ttest: 0.6351709\tbest: 0.6351709 (0)\ttotal: 5.4ms\tremaining: 5.4s\n"
     ]
    },
    {
     "name": "stderr",
     "output_type": "stream",
     "text": [
      "C:\\Users\\user\\anaconda3\\envs\\pycaret\\lib\\site-packages\\catboost\\core.py:1411: FutureWarning: iteritems is deprecated and will be removed in a future version. Use .items instead.\n",
      "  self._init_pool(data, label, cat_features, text_features, embedding_features, embedding_features_data, pairs, weight,\n",
      "5it [00:18,  3.74s/it]"
     ]
    },
    {
     "name": "stdout",
     "output_type": "stream",
     "text": [
      "999:\tlearn: 0.1332419\ttest: 0.2162078\tbest: 0.2162065 (998)\ttotal: 3.59s\tremaining: 0us\n",
      "\n",
      "bestTest = 0.2162065368\n",
      "bestIteration = 998\n",
      "\n",
      "Shrink model to first 999 iterations.\n",
      "F1 on fold 4: 0.3807\n",
      "Learning rate set to 0.071642\n",
      "0:\tlearn: 0.6348536\ttest: 0.6350499\tbest: 0.6350499 (0)\ttotal: 7.84ms\tremaining: 7.84s\n"
     ]
    },
    {
     "name": "stderr",
     "output_type": "stream",
     "text": [
      "C:\\Users\\user\\anaconda3\\envs\\pycaret\\lib\\site-packages\\catboost\\core.py:1411: FutureWarning: iteritems is deprecated and will be removed in a future version. Use .items instead.\n",
      "  self._init_pool(data, label, cat_features, text_features, embedding_features, embedding_features_data, pairs, weight,\n",
      "6it [00:22,  3.75s/it]"
     ]
    },
    {
     "name": "stdout",
     "output_type": "stream",
     "text": [
      "999:\tlearn: 0.1344960\ttest: 0.2119451\tbest: 0.2119451 (999)\ttotal: 3.61s\tremaining: 0us\n",
      "\n",
      "bestTest = 0.2119451469\n",
      "bestIteration = 999\n",
      "\n",
      "F1 on fold 5: 0.4105\n",
      "Learning rate set to 0.071642\n",
      "0:\tlearn: 0.6346369\ttest: 0.6347241\tbest: 0.6347241 (0)\ttotal: 7.23ms\tremaining: 7.22s\n"
     ]
    },
    {
     "name": "stderr",
     "output_type": "stream",
     "text": [
      "C:\\Users\\user\\anaconda3\\envs\\pycaret\\lib\\site-packages\\catboost\\core.py:1411: FutureWarning: iteritems is deprecated and will be removed in a future version. Use .items instead.\n",
      "  self._init_pool(data, label, cat_features, text_features, embedding_features, embedding_features_data, pairs, weight,\n",
      "7it [00:26,  3.73s/it]"
     ]
    },
    {
     "name": "stdout",
     "output_type": "stream",
     "text": [
      "999:\tlearn: 0.1336997\ttest: 0.2103886\tbest: 0.2103824 (998)\ttotal: 3.56s\tremaining: 0us\n",
      "\n",
      "bestTest = 0.2103824309\n",
      "bestIteration = 998\n",
      "\n",
      "Shrink model to first 999 iterations.\n",
      "F1 on fold 6: 0.3607\n",
      "Learning rate set to 0.071642\n",
      "0:\tlearn: 0.6347102\ttest: 0.6347598\tbest: 0.6347598 (0)\ttotal: 16.4ms\tremaining: 16.4s\n"
     ]
    },
    {
     "name": "stderr",
     "output_type": "stream",
     "text": [
      "C:\\Users\\user\\anaconda3\\envs\\pycaret\\lib\\site-packages\\catboost\\core.py:1411: FutureWarning: iteritems is deprecated and will be removed in a future version. Use .items instead.\n",
      "  self._init_pool(data, label, cat_features, text_features, embedding_features, embedding_features_data, pairs, weight,\n",
      "8it [00:29,  3.73s/it]"
     ]
    },
    {
     "name": "stdout",
     "output_type": "stream",
     "text": [
      "999:\tlearn: 0.1330636\ttest: 0.2198182\tbest: 0.2198182 (999)\ttotal: 3.6s\tremaining: 0us\n",
      "\n",
      "bestTest = 0.2198181825\n",
      "bestIteration = 999\n",
      "\n",
      "F1 on fold 7: 0.3461\n",
      "Learning rate set to 0.071642\n",
      "0:\tlearn: 0.6347290\ttest: 0.6346639\tbest: 0.6346639 (0)\ttotal: 10.7ms\tremaining: 10.7s\n"
     ]
    },
    {
     "name": "stderr",
     "output_type": "stream",
     "text": [
      "C:\\Users\\user\\anaconda3\\envs\\pycaret\\lib\\site-packages\\catboost\\core.py:1411: FutureWarning: iteritems is deprecated and will be removed in a future version. Use .items instead.\n",
      "  self._init_pool(data, label, cat_features, text_features, embedding_features, embedding_features_data, pairs, weight,\n",
      "9it [00:33,  3.73s/it]"
     ]
    },
    {
     "name": "stdout",
     "output_type": "stream",
     "text": [
      "999:\tlearn: 0.1332961\ttest: 0.2180612\tbest: 0.2180498 (997)\ttotal: 3.6s\tremaining: 0us\n",
      "\n",
      "bestTest = 0.2180498204\n",
      "bestIteration = 997\n",
      "\n",
      "Shrink model to first 998 iterations.\n",
      "F1 on fold 8: 0.4411\n",
      "Learning rate set to 0.071642\n",
      "0:\tlearn: 0.6349195\ttest: 0.6348353\tbest: 0.6348353 (0)\ttotal: 6.8ms\tremaining: 6.79s\n"
     ]
    },
    {
     "name": "stderr",
     "output_type": "stream",
     "text": [
      "C:\\Users\\user\\anaconda3\\envs\\pycaret\\lib\\site-packages\\catboost\\core.py:1411: FutureWarning: iteritems is deprecated and will be removed in a future version. Use .items instead.\n",
      "  self._init_pool(data, label, cat_features, text_features, embedding_features, embedding_features_data, pairs, weight,\n",
      "10it [00:37,  3.72s/it]"
     ]
    },
    {
     "name": "stdout",
     "output_type": "stream",
     "text": [
      "999:\tlearn: 0.1332416\ttest: 0.2124266\tbest: 0.2124266 (999)\ttotal: 3.57s\tremaining: 0us\n",
      "\n",
      "bestTest = 0.2124265969\n",
      "bestIteration = 999\n",
      "\n",
      "F1 on fold 9: 0.3885\n",
      "Learning rate set to 0.071642\n",
      "0:\tlearn: 0.6348295\ttest: 0.6349050\tbest: 0.6349050 (0)\ttotal: 5.51ms\tremaining: 5.51s\n"
     ]
    },
    {
     "name": "stderr",
     "output_type": "stream",
     "text": [
      "C:\\Users\\user\\anaconda3\\envs\\pycaret\\lib\\site-packages\\catboost\\core.py:1411: FutureWarning: iteritems is deprecated and will be removed in a future version. Use .items instead.\n",
      "  self._init_pool(data, label, cat_features, text_features, embedding_features, embedding_features_data, pairs, weight,\n",
      "11it [00:41,  3.71s/it]"
     ]
    },
    {
     "name": "stdout",
     "output_type": "stream",
     "text": [
      "999:\tlearn: 0.1342031\ttest: 0.2176752\tbest: 0.2176638 (997)\ttotal: 3.54s\tremaining: 0us\n",
      "\n",
      "bestTest = 0.2176638174\n",
      "bestIteration = 997\n",
      "\n",
      "Shrink model to first 998 iterations.\n",
      "F1 on fold 10: 0.3861\n",
      "Learning rate set to 0.071642\n",
      "0:\tlearn: 0.6347957\ttest: 0.6349521\tbest: 0.6349521 (0)\ttotal: 16.1ms\tremaining: 16.1s\n"
     ]
    },
    {
     "name": "stderr",
     "output_type": "stream",
     "text": [
      "C:\\Users\\user\\anaconda3\\envs\\pycaret\\lib\\site-packages\\catboost\\core.py:1411: FutureWarning: iteritems is deprecated and will be removed in a future version. Use .items instead.\n",
      "  self._init_pool(data, label, cat_features, text_features, embedding_features, embedding_features_data, pairs, weight,\n",
      "12it [00:44,  3.72s/it]"
     ]
    },
    {
     "name": "stdout",
     "output_type": "stream",
     "text": [
      "999:\tlearn: 0.1345654\ttest: 0.2048729\tbest: 0.2048729 (999)\ttotal: 3.63s\tremaining: 0us\n",
      "\n",
      "bestTest = 0.2048728569\n",
      "bestIteration = 999\n",
      "\n",
      "F1 on fold 11: 0.4152\n",
      "Learning rate set to 0.071642\n",
      "0:\tlearn: 0.6348566\ttest: 0.6348653\tbest: 0.6348653 (0)\ttotal: 20.4ms\tremaining: 20.4s\n"
     ]
    },
    {
     "name": "stderr",
     "output_type": "stream",
     "text": [
      "C:\\Users\\user\\anaconda3\\envs\\pycaret\\lib\\site-packages\\catboost\\core.py:1411: FutureWarning: iteritems is deprecated and will be removed in a future version. Use .items instead.\n",
      "  self._init_pool(data, label, cat_features, text_features, embedding_features, embedding_features_data, pairs, weight,\n",
      "13it [00:48,  3.72s/it]"
     ]
    },
    {
     "name": "stdout",
     "output_type": "stream",
     "text": [
      "999:\tlearn: 0.1346440\ttest: 0.2147066\tbest: 0.2146987 (998)\ttotal: 3.58s\tremaining: 0us\n",
      "\n",
      "bestTest = 0.2146987115\n",
      "bestIteration = 998\n",
      "\n",
      "Shrink model to first 999 iterations.\n",
      "F1 on fold 12: 0.3770\n",
      "Learning rate set to 0.071642\n",
      "0:\tlearn: 0.6347801\ttest: 0.6349727\tbest: 0.6349727 (0)\ttotal: 14.7ms\tremaining: 14.7s\n"
     ]
    },
    {
     "name": "stderr",
     "output_type": "stream",
     "text": [
      "C:\\Users\\user\\anaconda3\\envs\\pycaret\\lib\\site-packages\\catboost\\core.py:1411: FutureWarning: iteritems is deprecated and will be removed in a future version. Use .items instead.\n",
      "  self._init_pool(data, label, cat_features, text_features, embedding_features, embedding_features_data, pairs, weight,\n",
      "14it [00:52,  3.74s/it]"
     ]
    },
    {
     "name": "stdout",
     "output_type": "stream",
     "text": [
      "999:\tlearn: 0.1348821\ttest: 0.2098660\tbest: 0.2098623 (998)\ttotal: 3.64s\tremaining: 0us\n",
      "\n",
      "bestTest = 0.2098622554\n",
      "bestIteration = 998\n",
      "\n",
      "Shrink model to first 999 iterations.\n",
      "F1 on fold 13: 0.4138\n",
      "Learning rate set to 0.071642\n",
      "0:\tlearn: 0.6347283\ttest: 0.6349832\tbest: 0.6349832 (0)\ttotal: 3.81ms\tremaining: 3.8s\n"
     ]
    },
    {
     "name": "stderr",
     "output_type": "stream",
     "text": [
      "C:\\Users\\user\\anaconda3\\envs\\pycaret\\lib\\site-packages\\catboost\\core.py:1411: FutureWarning: iteritems is deprecated and will be removed in a future version. Use .items instead.\n",
      "  self._init_pool(data, label, cat_features, text_features, embedding_features, embedding_features_data, pairs, weight,\n",
      "15it [00:55,  3.73s/it]"
     ]
    },
    {
     "name": "stdout",
     "output_type": "stream",
     "text": [
      "999:\tlearn: 0.1339085\ttest: 0.2057262\tbest: 0.2057262 (999)\ttotal: 3.57s\tremaining: 0us\n",
      "\n",
      "bestTest = 0.2057262325\n",
      "bestIteration = 999\n",
      "\n",
      "F1 on fold 14: 0.4071\n",
      "Learning rate set to 0.071642\n",
      "0:\tlearn: 0.6347281\ttest: 0.6347546\tbest: 0.6347546 (0)\ttotal: 4.04ms\tremaining: 4.03s\n"
     ]
    },
    {
     "name": "stderr",
     "output_type": "stream",
     "text": [
      "C:\\Users\\user\\anaconda3\\envs\\pycaret\\lib\\site-packages\\catboost\\core.py:1411: FutureWarning: iteritems is deprecated and will be removed in a future version. Use .items instead.\n",
      "  self._init_pool(data, label, cat_features, text_features, embedding_features, embedding_features_data, pairs, weight,\n",
      "16it [00:59,  3.74s/it]"
     ]
    },
    {
     "name": "stdout",
     "output_type": "stream",
     "text": [
      "999:\tlearn: 0.1335138\ttest: 0.2105291\tbest: 0.2105291 (999)\ttotal: 3.63s\tremaining: 0us\n",
      "\n",
      "bestTest = 0.2105290755\n",
      "bestIteration = 999\n",
      "\n",
      "F1 on fold 15: 0.4304\n",
      "Learning rate set to 0.071642\n",
      "0:\tlearn: 0.6347084\ttest: 0.6349168\tbest: 0.6349168 (0)\ttotal: 10.8ms\tremaining: 10.8s\n"
     ]
    },
    {
     "name": "stderr",
     "output_type": "stream",
     "text": [
      "C:\\Users\\user\\anaconda3\\envs\\pycaret\\lib\\site-packages\\catboost\\core.py:1411: FutureWarning: iteritems is deprecated and will be removed in a future version. Use .items instead.\n",
      "  self._init_pool(data, label, cat_features, text_features, embedding_features, embedding_features_data, pairs, weight,\n",
      "17it [01:03,  3.74s/it]"
     ]
    },
    {
     "name": "stdout",
     "output_type": "stream",
     "text": [
      "999:\tlearn: 0.1335971\ttest: 0.2218824\tbest: 0.2218824 (999)\ttotal: 3.59s\tremaining: 0us\n",
      "\n",
      "bestTest = 0.2218823861\n",
      "bestIteration = 999\n",
      "\n",
      "F1 on fold 16: 0.3922\n",
      "Learning rate set to 0.071642\n",
      "0:\tlearn: 0.6346483\ttest: 0.6347235\tbest: 0.6347235 (0)\ttotal: 30.5ms\tremaining: 30.4s\n"
     ]
    },
    {
     "name": "stderr",
     "output_type": "stream",
     "text": [
      "C:\\Users\\user\\anaconda3\\envs\\pycaret\\lib\\site-packages\\catboost\\core.py:1411: FutureWarning: iteritems is deprecated and will be removed in a future version. Use .items instead.\n",
      "  self._init_pool(data, label, cat_features, text_features, embedding_features, embedding_features_data, pairs, weight,\n",
      "18it [01:07,  3.74s/it]"
     ]
    },
    {
     "name": "stdout",
     "output_type": "stream",
     "text": [
      "999:\tlearn: 0.1335882\ttest: 0.2114116\tbest: 0.2113890 (998)\ttotal: 3.62s\tremaining: 0us\n",
      "\n",
      "bestTest = 0.2113889754\n",
      "bestIteration = 998\n",
      "\n",
      "Shrink model to first 999 iterations.\n",
      "F1 on fold 17: 0.4130\n",
      "Learning rate set to 0.071642\n",
      "0:\tlearn: 0.6347568\ttest: 0.6349544\tbest: 0.6349544 (0)\ttotal: 22.1ms\tremaining: 22.1s\n"
     ]
    },
    {
     "name": "stderr",
     "output_type": "stream",
     "text": [
      "C:\\Users\\user\\anaconda3\\envs\\pycaret\\lib\\site-packages\\catboost\\core.py:1411: FutureWarning: iteritems is deprecated and will be removed in a future version. Use .items instead.\n",
      "  self._init_pool(data, label, cat_features, text_features, embedding_features, embedding_features_data, pairs, weight,\n",
      "19it [01:11,  3.76s/it]"
     ]
    },
    {
     "name": "stdout",
     "output_type": "stream",
     "text": [
      "999:\tlearn: 0.1334754\ttest: 0.2104316\tbest: 0.2104316 (999)\ttotal: 3.65s\tremaining: 0us\n",
      "\n",
      "bestTest = 0.2104316171\n",
      "bestIteration = 999\n",
      "\n",
      "F1 on fold 18: 0.4454\n",
      "Learning rate set to 0.071642\n",
      "0:\tlearn: 0.6346894\ttest: 0.6350150\tbest: 0.6350150 (0)\ttotal: 3.89ms\tremaining: 3.88s\n"
     ]
    },
    {
     "name": "stderr",
     "output_type": "stream",
     "text": [
      "C:\\Users\\user\\anaconda3\\envs\\pycaret\\lib\\site-packages\\catboost\\core.py:1411: FutureWarning: iteritems is deprecated and will be removed in a future version. Use .items instead.\n",
      "  self._init_pool(data, label, cat_features, text_features, embedding_features, embedding_features_data, pairs, weight,\n",
      "20it [01:14,  3.74s/it]"
     ]
    },
    {
     "name": "stdout",
     "output_type": "stream",
     "text": [
      "999:\tlearn: 0.1348496\ttest: 0.2121159\tbest: 0.2121159 (999)\ttotal: 3.6s\tremaining: 0us\n",
      "\n",
      "bestTest = 0.2121158894\n",
      "bestIteration = 999\n",
      "\n",
      "F1 on fold 19: 0.3524\n",
      "mean F1 across all folds: 0.4035\n"
     ]
    },
    {
     "name": "stderr",
     "output_type": "stream",
     "text": [
      "\n"
     ]
    }
   ],
   "source": [
    "from catboost import CatBoostClassifier\n",
    "from sklearn.model_selection import KFold, StratifiedKFold, RepeatedKFold, RepeatedStratifiedKFold\n",
    "from sklearn.metrics import accuracy_score, f1_score\n",
    "from tqdm import tqdm\n",
    "# kf = KFold(n_splits = 10, random_state = 42, shuffle = True)\n",
    "\n",
    "rkf = RepeatedKFold(n_splits=10,n_repeats=8,random_state=43)\n",
    "rskf = RepeatedStratifiedKFold(n_splits=10,n_repeats=2,random_state=43)\n",
    "\n",
    "parms = {'iterations': 2000,\n",
    " #'od_wait': 2182,\n",
    " 'learning_rate': 0.005,\n",
    " #'reg_lambda': 2.3132945175291226,\n",
    " #'subsample': 0.01621008882000844,\n",
    " #'random_strength': 25.292157882359646,\n",
    " 'depth': 5,\n",
    " 'min_data_in_leaf': 5,\n",
    " #'leaf_estimation_iterations': 3,\n",
    " 'bagging_temperature': 0.01080117689593031,\n",
    " 'colsample_bylevel': 0.7579360851684404}\n",
    "\n",
    "target = 'Cancellation_Status'\n",
    "features = [c for c in train.columns if c not in ['ID', target]]\n",
    "models = []\n",
    "val_scores = []\n",
    "\n",
    "for i, (train_index, val_index) in tqdm(enumerate(rkf.split(train, train[target]))):\n",
    "    \n",
    "    X_train, X_val = train[features].loc[train_index], train[features].loc[val_index]\n",
    "    y_train, y_val = train[target][train_index], train[target][val_index]\n",
    "    \n",
    "#     if include_orig:\n",
    "#         X_train = X_train.append(original[features], ignore_index = True)\n",
    "#         y_train = y_train.append(original[target], ignore_index = True)\n",
    "    \n",
    "    model = CatBoostClassifier(random_state = 42)\n",
    "    \n",
    "    model.fit(X_train, y_train, eval_set = [(X_val, y_val)], verbose = 2000)\n",
    "    \n",
    "    models.append(model)\n",
    "    pred = model.predict(X_val)\n",
    "    score = f1_score(y_val, pred)\n",
    "    val_scores.append(score)\n",
    "    \n",
    "    print(f'F1 on fold {i}: {score:.4f}')\n",
    "\n",
    "for i, (train_index, val_index) in tqdm(enumerate(rskf.split(train, train[target]))):\n",
    "    \n",
    "    X_train, X_val = train[features].loc[train_index], train[features].loc[val_index]\n",
    "    y_train, y_val = train[target][train_index], train[target][val_index]\n",
    "    \n",
    "#     if include_orig:\n",
    "#         X_train = X_train.append(original[features], ignore_index = True)\n",
    "#         y_train = y_train.append(original[target], ignore_index = True)\n",
    "    \n",
    "    model = CatBoostClassifier(random_state = 42)\n",
    "    \n",
    "    model.fit(X_train, y_train, eval_set = [(X_val, y_val)], verbose = 2000)\n",
    "    \n",
    "    models.append(model)\n",
    "    pred = model.predict(X_val)\n",
    "    score = f1_score(y_val, pred)\n",
    "    val_scores.append(score)\n",
    "    \n",
    "    print(f'F1 on fold {i}: {score:.4f}')\n",
    "    \n",
    "print(f'mean F1 across all folds: {np.mean(val_scores):.4f}')\n",
    "\n",
    "\n",
    "\n",
    "\n",
    "\n",
    "# cat = catboost.CatBoostClassifier(**parms)\n",
    "# cat.fit(train.drop(['ID','Cancellation_Status'],axis=1),train['Cancellation_Status'])\n",
    "# pred = cat.predict(test.drop('ID',axis=1))"
   ]
  },
  {
   "cell_type": "code",
   "execution_count": 6,
   "id": "797ebdf4",
   "metadata": {},
   "outputs": [
    {
     "name": "stderr",
     "output_type": "stream",
     "text": [
      "C:\\Users\\user\\anaconda3\\envs\\pycaret\\lib\\site-packages\\catboost\\core.py:1411: FutureWarning: iteritems is deprecated and will be removed in a future version. Use .items instead.\n",
      "  self._init_pool(data, label, cat_features, text_features, embedding_features, embedding_features_data, pairs, weight,\n",
      "C:\\Users\\user\\anaconda3\\envs\\pycaret\\lib\\site-packages\\catboost\\core.py:1411: FutureWarning: iteritems is deprecated and will be removed in a future version. Use .items instead.\n",
      "  self._init_pool(data, label, cat_features, text_features, embedding_features, embedding_features_data, pairs, weight,\n",
      "C:\\Users\\user\\anaconda3\\envs\\pycaret\\lib\\site-packages\\catboost\\core.py:1411: FutureWarning: iteritems is deprecated and will be removed in a future version. Use .items instead.\n",
      "  self._init_pool(data, label, cat_features, text_features, embedding_features, embedding_features_data, pairs, weight,\n",
      "C:\\Users\\user\\anaconda3\\envs\\pycaret\\lib\\site-packages\\catboost\\core.py:1411: FutureWarning: iteritems is deprecated and will be removed in a future version. Use .items instead.\n",
      "  self._init_pool(data, label, cat_features, text_features, embedding_features, embedding_features_data, pairs, weight,\n",
      "C:\\Users\\user\\anaconda3\\envs\\pycaret\\lib\\site-packages\\catboost\\core.py:1411: FutureWarning: iteritems is deprecated and will be removed in a future version. Use .items instead.\n",
      "  self._init_pool(data, label, cat_features, text_features, embedding_features, embedding_features_data, pairs, weight,\n",
      "C:\\Users\\user\\anaconda3\\envs\\pycaret\\lib\\site-packages\\catboost\\core.py:1411: FutureWarning: iteritems is deprecated and will be removed in a future version. Use .items instead.\n",
      "  self._init_pool(data, label, cat_features, text_features, embedding_features, embedding_features_data, pairs, weight,\n",
      "C:\\Users\\user\\anaconda3\\envs\\pycaret\\lib\\site-packages\\catboost\\core.py:1411: FutureWarning: iteritems is deprecated and will be removed in a future version. Use .items instead.\n",
      "  self._init_pool(data, label, cat_features, text_features, embedding_features, embedding_features_data, pairs, weight,\n",
      "C:\\Users\\user\\anaconda3\\envs\\pycaret\\lib\\site-packages\\catboost\\core.py:1411: FutureWarning: iteritems is deprecated and will be removed in a future version. Use .items instead.\n",
      "  self._init_pool(data, label, cat_features, text_features, embedding_features, embedding_features_data, pairs, weight,\n",
      "C:\\Users\\user\\anaconda3\\envs\\pycaret\\lib\\site-packages\\catboost\\core.py:1411: FutureWarning: iteritems is deprecated and will be removed in a future version. Use .items instead.\n",
      "  self._init_pool(data, label, cat_features, text_features, embedding_features, embedding_features_data, pairs, weight,\n",
      "C:\\Users\\user\\anaconda3\\envs\\pycaret\\lib\\site-packages\\catboost\\core.py:1411: FutureWarning: iteritems is deprecated and will be removed in a future version. Use .items instead.\n",
      "  self._init_pool(data, label, cat_features, text_features, embedding_features, embedding_features_data, pairs, weight,\n",
      "C:\\Users\\user\\anaconda3\\envs\\pycaret\\lib\\site-packages\\catboost\\core.py:1411: FutureWarning: iteritems is deprecated and will be removed in a future version. Use .items instead.\n",
      "  self._init_pool(data, label, cat_features, text_features, embedding_features, embedding_features_data, pairs, weight,\n",
      "C:\\Users\\user\\anaconda3\\envs\\pycaret\\lib\\site-packages\\catboost\\core.py:1411: FutureWarning: iteritems is deprecated and will be removed in a future version. Use .items instead.\n",
      "  self._init_pool(data, label, cat_features, text_features, embedding_features, embedding_features_data, pairs, weight,\n",
      "C:\\Users\\user\\anaconda3\\envs\\pycaret\\lib\\site-packages\\catboost\\core.py:1411: FutureWarning: iteritems is deprecated and will be removed in a future version. Use .items instead.\n",
      "  self._init_pool(data, label, cat_features, text_features, embedding_features, embedding_features_data, pairs, weight,\n",
      "C:\\Users\\user\\anaconda3\\envs\\pycaret\\lib\\site-packages\\catboost\\core.py:1411: FutureWarning: iteritems is deprecated and will be removed in a future version. Use .items instead.\n",
      "  self._init_pool(data, label, cat_features, text_features, embedding_features, embedding_features_data, pairs, weight,\n",
      "C:\\Users\\user\\anaconda3\\envs\\pycaret\\lib\\site-packages\\catboost\\core.py:1411: FutureWarning: iteritems is deprecated and will be removed in a future version. Use .items instead.\n",
      "  self._init_pool(data, label, cat_features, text_features, embedding_features, embedding_features_data, pairs, weight,\n",
      "C:\\Users\\user\\anaconda3\\envs\\pycaret\\lib\\site-packages\\catboost\\core.py:1411: FutureWarning: iteritems is deprecated and will be removed in a future version. Use .items instead.\n",
      "  self._init_pool(data, label, cat_features, text_features, embedding_features, embedding_features_data, pairs, weight,\n",
      "C:\\Users\\user\\anaconda3\\envs\\pycaret\\lib\\site-packages\\catboost\\core.py:1411: FutureWarning: iteritems is deprecated and will be removed in a future version. Use .items instead.\n",
      "  self._init_pool(data, label, cat_features, text_features, embedding_features, embedding_features_data, pairs, weight,\n",
      "C:\\Users\\user\\anaconda3\\envs\\pycaret\\lib\\site-packages\\catboost\\core.py:1411: FutureWarning: iteritems is deprecated and will be removed in a future version. Use .items instead.\n",
      "  self._init_pool(data, label, cat_features, text_features, embedding_features, embedding_features_data, pairs, weight,\n",
      "C:\\Users\\user\\anaconda3\\envs\\pycaret\\lib\\site-packages\\catboost\\core.py:1411: FutureWarning: iteritems is deprecated and will be removed in a future version. Use .items instead.\n",
      "  self._init_pool(data, label, cat_features, text_features, embedding_features, embedding_features_data, pairs, weight,\n",
      "C:\\Users\\user\\anaconda3\\envs\\pycaret\\lib\\site-packages\\catboost\\core.py:1411: FutureWarning: iteritems is deprecated and will be removed in a future version. Use .items instead.\n",
      "  self._init_pool(data, label, cat_features, text_features, embedding_features, embedding_features_data, pairs, weight,\n",
      "C:\\Users\\user\\anaconda3\\envs\\pycaret\\lib\\site-packages\\catboost\\core.py:1411: FutureWarning: iteritems is deprecated and will be removed in a future version. Use .items instead.\n",
      "  self._init_pool(data, label, cat_features, text_features, embedding_features, embedding_features_data, pairs, weight,\n",
      "C:\\Users\\user\\anaconda3\\envs\\pycaret\\lib\\site-packages\\catboost\\core.py:1411: FutureWarning: iteritems is deprecated and will be removed in a future version. Use .items instead.\n",
      "  self._init_pool(data, label, cat_features, text_features, embedding_features, embedding_features_data, pairs, weight,\n",
      "C:\\Users\\user\\anaconda3\\envs\\pycaret\\lib\\site-packages\\catboost\\core.py:1411: FutureWarning: iteritems is deprecated and will be removed in a future version. Use .items instead.\n",
      "  self._init_pool(data, label, cat_features, text_features, embedding_features, embedding_features_data, pairs, weight,\n",
      "C:\\Users\\user\\anaconda3\\envs\\pycaret\\lib\\site-packages\\catboost\\core.py:1411: FutureWarning: iteritems is deprecated and will be removed in a future version. Use .items instead.\n",
      "  self._init_pool(data, label, cat_features, text_features, embedding_features, embedding_features_data, pairs, weight,\n",
      "C:\\Users\\user\\anaconda3\\envs\\pycaret\\lib\\site-packages\\catboost\\core.py:1411: FutureWarning: iteritems is deprecated and will be removed in a future version. Use .items instead.\n",
      "  self._init_pool(data, label, cat_features, text_features, embedding_features, embedding_features_data, pairs, weight,\n",
      "C:\\Users\\user\\anaconda3\\envs\\pycaret\\lib\\site-packages\\catboost\\core.py:1411: FutureWarning: iteritems is deprecated and will be removed in a future version. Use .items instead.\n",
      "  self._init_pool(data, label, cat_features, text_features, embedding_features, embedding_features_data, pairs, weight,\n",
      "C:\\Users\\user\\anaconda3\\envs\\pycaret\\lib\\site-packages\\catboost\\core.py:1411: FutureWarning: iteritems is deprecated and will be removed in a future version. Use .items instead.\n",
      "  self._init_pool(data, label, cat_features, text_features, embedding_features, embedding_features_data, pairs, weight,\n",
      "C:\\Users\\user\\anaconda3\\envs\\pycaret\\lib\\site-packages\\catboost\\core.py:1411: FutureWarning: iteritems is deprecated and will be removed in a future version. Use .items instead.\n",
      "  self._init_pool(data, label, cat_features, text_features, embedding_features, embedding_features_data, pairs, weight,\n",
      "C:\\Users\\user\\anaconda3\\envs\\pycaret\\lib\\site-packages\\catboost\\core.py:1411: FutureWarning: iteritems is deprecated and will be removed in a future version. Use .items instead.\n",
      "  self._init_pool(data, label, cat_features, text_features, embedding_features, embedding_features_data, pairs, weight,\n",
      "C:\\Users\\user\\anaconda3\\envs\\pycaret\\lib\\site-packages\\catboost\\core.py:1411: FutureWarning: iteritems is deprecated and will be removed in a future version. Use .items instead.\n",
      "  self._init_pool(data, label, cat_features, text_features, embedding_features, embedding_features_data, pairs, weight,\n",
      "C:\\Users\\user\\anaconda3\\envs\\pycaret\\lib\\site-packages\\catboost\\core.py:1411: FutureWarning: iteritems is deprecated and will be removed in a future version. Use .items instead.\n",
      "  self._init_pool(data, label, cat_features, text_features, embedding_features, embedding_features_data, pairs, weight,\n",
      "C:\\Users\\user\\anaconda3\\envs\\pycaret\\lib\\site-packages\\catboost\\core.py:1411: FutureWarning: iteritems is deprecated and will be removed in a future version. Use .items instead.\n",
      "  self._init_pool(data, label, cat_features, text_features, embedding_features, embedding_features_data, pairs, weight,\n",
      "C:\\Users\\user\\anaconda3\\envs\\pycaret\\lib\\site-packages\\catboost\\core.py:1411: FutureWarning: iteritems is deprecated and will be removed in a future version. Use .items instead.\n",
      "  self._init_pool(data, label, cat_features, text_features, embedding_features, embedding_features_data, pairs, weight,\n",
      "C:\\Users\\user\\anaconda3\\envs\\pycaret\\lib\\site-packages\\catboost\\core.py:1411: FutureWarning: iteritems is deprecated and will be removed in a future version. Use .items instead.\n",
      "  self._init_pool(data, label, cat_features, text_features, embedding_features, embedding_features_data, pairs, weight,\n",
      "C:\\Users\\user\\anaconda3\\envs\\pycaret\\lib\\site-packages\\catboost\\core.py:1411: FutureWarning: iteritems is deprecated and will be removed in a future version. Use .items instead.\n",
      "  self._init_pool(data, label, cat_features, text_features, embedding_features, embedding_features_data, pairs, weight,\n",
      "C:\\Users\\user\\anaconda3\\envs\\pycaret\\lib\\site-packages\\catboost\\core.py:1411: FutureWarning: iteritems is deprecated and will be removed in a future version. Use .items instead.\n",
      "  self._init_pool(data, label, cat_features, text_features, embedding_features, embedding_features_data, pairs, weight,\n",
      "C:\\Users\\user\\anaconda3\\envs\\pycaret\\lib\\site-packages\\catboost\\core.py:1411: FutureWarning: iteritems is deprecated and will be removed in a future version. Use .items instead.\n",
      "  self._init_pool(data, label, cat_features, text_features, embedding_features, embedding_features_data, pairs, weight,\n",
      "C:\\Users\\user\\anaconda3\\envs\\pycaret\\lib\\site-packages\\catboost\\core.py:1411: FutureWarning: iteritems is deprecated and will be removed in a future version. Use .items instead.\n",
      "  self._init_pool(data, label, cat_features, text_features, embedding_features, embedding_features_data, pairs, weight,\n",
      "C:\\Users\\user\\anaconda3\\envs\\pycaret\\lib\\site-packages\\catboost\\core.py:1411: FutureWarning: iteritems is deprecated and will be removed in a future version. Use .items instead.\n",
      "  self._init_pool(data, label, cat_features, text_features, embedding_features, embedding_features_data, pairs, weight,\n",
      "C:\\Users\\user\\anaconda3\\envs\\pycaret\\lib\\site-packages\\catboost\\core.py:1411: FutureWarning: iteritems is deprecated and will be removed in a future version. Use .items instead.\n",
      "  self._init_pool(data, label, cat_features, text_features, embedding_features, embedding_features_data, pairs, weight,\n",
      "C:\\Users\\user\\anaconda3\\envs\\pycaret\\lib\\site-packages\\catboost\\core.py:1411: FutureWarning: iteritems is deprecated and will be removed in a future version. Use .items instead.\n",
      "  self._init_pool(data, label, cat_features, text_features, embedding_features, embedding_features_data, pairs, weight,\n",
      "C:\\Users\\user\\anaconda3\\envs\\pycaret\\lib\\site-packages\\catboost\\core.py:1411: FutureWarning: iteritems is deprecated and will be removed in a future version. Use .items instead.\n",
      "  self._init_pool(data, label, cat_features, text_features, embedding_features, embedding_features_data, pairs, weight,\n",
      "C:\\Users\\user\\anaconda3\\envs\\pycaret\\lib\\site-packages\\catboost\\core.py:1411: FutureWarning: iteritems is deprecated and will be removed in a future version. Use .items instead.\n",
      "  self._init_pool(data, label, cat_features, text_features, embedding_features, embedding_features_data, pairs, weight,\n",
      "C:\\Users\\user\\anaconda3\\envs\\pycaret\\lib\\site-packages\\catboost\\core.py:1411: FutureWarning: iteritems is deprecated and will be removed in a future version. Use .items instead.\n",
      "  self._init_pool(data, label, cat_features, text_features, embedding_features, embedding_features_data, pairs, weight,\n",
      "C:\\Users\\user\\anaconda3\\envs\\pycaret\\lib\\site-packages\\catboost\\core.py:1411: FutureWarning: iteritems is deprecated and will be removed in a future version. Use .items instead.\n",
      "  self._init_pool(data, label, cat_features, text_features, embedding_features, embedding_features_data, pairs, weight,\n",
      "C:\\Users\\user\\anaconda3\\envs\\pycaret\\lib\\site-packages\\catboost\\core.py:1411: FutureWarning: iteritems is deprecated and will be removed in a future version. Use .items instead.\n",
      "  self._init_pool(data, label, cat_features, text_features, embedding_features, embedding_features_data, pairs, weight,\n",
      "C:\\Users\\user\\anaconda3\\envs\\pycaret\\lib\\site-packages\\catboost\\core.py:1411: FutureWarning: iteritems is deprecated and will be removed in a future version. Use .items instead.\n",
      "  self._init_pool(data, label, cat_features, text_features, embedding_features, embedding_features_data, pairs, weight,\n"
     ]
    },
    {
     "name": "stderr",
     "output_type": "stream",
     "text": [
      "C:\\Users\\user\\anaconda3\\envs\\pycaret\\lib\\site-packages\\catboost\\core.py:1411: FutureWarning: iteritems is deprecated and will be removed in a future version. Use .items instead.\n",
      "  self._init_pool(data, label, cat_features, text_features, embedding_features, embedding_features_data, pairs, weight,\n",
      "C:\\Users\\user\\anaconda3\\envs\\pycaret\\lib\\site-packages\\catboost\\core.py:1411: FutureWarning: iteritems is deprecated and will be removed in a future version. Use .items instead.\n",
      "  self._init_pool(data, label, cat_features, text_features, embedding_features, embedding_features_data, pairs, weight,\n",
      "C:\\Users\\user\\anaconda3\\envs\\pycaret\\lib\\site-packages\\catboost\\core.py:1411: FutureWarning: iteritems is deprecated and will be removed in a future version. Use .items instead.\n",
      "  self._init_pool(data, label, cat_features, text_features, embedding_features, embedding_features_data, pairs, weight,\n",
      "C:\\Users\\user\\anaconda3\\envs\\pycaret\\lib\\site-packages\\catboost\\core.py:1411: FutureWarning: iteritems is deprecated and will be removed in a future version. Use .items instead.\n",
      "  self._init_pool(data, label, cat_features, text_features, embedding_features, embedding_features_data, pairs, weight,\n",
      "C:\\Users\\user\\anaconda3\\envs\\pycaret\\lib\\site-packages\\catboost\\core.py:1411: FutureWarning: iteritems is deprecated and will be removed in a future version. Use .items instead.\n",
      "  self._init_pool(data, label, cat_features, text_features, embedding_features, embedding_features_data, pairs, weight,\n",
      "C:\\Users\\user\\anaconda3\\envs\\pycaret\\lib\\site-packages\\catboost\\core.py:1411: FutureWarning: iteritems is deprecated and will be removed in a future version. Use .items instead.\n",
      "  self._init_pool(data, label, cat_features, text_features, embedding_features, embedding_features_data, pairs, weight,\n",
      "C:\\Users\\user\\anaconda3\\envs\\pycaret\\lib\\site-packages\\catboost\\core.py:1411: FutureWarning: iteritems is deprecated and will be removed in a future version. Use .items instead.\n",
      "  self._init_pool(data, label, cat_features, text_features, embedding_features, embedding_features_data, pairs, weight,\n",
      "C:\\Users\\user\\anaconda3\\envs\\pycaret\\lib\\site-packages\\catboost\\core.py:1411: FutureWarning: iteritems is deprecated and will be removed in a future version. Use .items instead.\n",
      "  self._init_pool(data, label, cat_features, text_features, embedding_features, embedding_features_data, pairs, weight,\n",
      "C:\\Users\\user\\anaconda3\\envs\\pycaret\\lib\\site-packages\\catboost\\core.py:1411: FutureWarning: iteritems is deprecated and will be removed in a future version. Use .items instead.\n",
      "  self._init_pool(data, label, cat_features, text_features, embedding_features, embedding_features_data, pairs, weight,\n",
      "C:\\Users\\user\\anaconda3\\envs\\pycaret\\lib\\site-packages\\catboost\\core.py:1411: FutureWarning: iteritems is deprecated and will be removed in a future version. Use .items instead.\n",
      "  self._init_pool(data, label, cat_features, text_features, embedding_features, embedding_features_data, pairs, weight,\n",
      "C:\\Users\\user\\anaconda3\\envs\\pycaret\\lib\\site-packages\\catboost\\core.py:1411: FutureWarning: iteritems is deprecated and will be removed in a future version. Use .items instead.\n",
      "  self._init_pool(data, label, cat_features, text_features, embedding_features, embedding_features_data, pairs, weight,\n",
      "C:\\Users\\user\\anaconda3\\envs\\pycaret\\lib\\site-packages\\catboost\\core.py:1411: FutureWarning: iteritems is deprecated and will be removed in a future version. Use .items instead.\n",
      "  self._init_pool(data, label, cat_features, text_features, embedding_features, embedding_features_data, pairs, weight,\n",
      "C:\\Users\\user\\anaconda3\\envs\\pycaret\\lib\\site-packages\\catboost\\core.py:1411: FutureWarning: iteritems is deprecated and will be removed in a future version. Use .items instead.\n",
      "  self._init_pool(data, label, cat_features, text_features, embedding_features, embedding_features_data, pairs, weight,\n",
      "C:\\Users\\user\\anaconda3\\envs\\pycaret\\lib\\site-packages\\catboost\\core.py:1411: FutureWarning: iteritems is deprecated and will be removed in a future version. Use .items instead.\n",
      "  self._init_pool(data, label, cat_features, text_features, embedding_features, embedding_features_data, pairs, weight,\n",
      "C:\\Users\\user\\anaconda3\\envs\\pycaret\\lib\\site-packages\\catboost\\core.py:1411: FutureWarning: iteritems is deprecated and will be removed in a future version. Use .items instead.\n",
      "  self._init_pool(data, label, cat_features, text_features, embedding_features, embedding_features_data, pairs, weight,\n",
      "C:\\Users\\user\\anaconda3\\envs\\pycaret\\lib\\site-packages\\catboost\\core.py:1411: FutureWarning: iteritems is deprecated and will be removed in a future version. Use .items instead.\n",
      "  self._init_pool(data, label, cat_features, text_features, embedding_features, embedding_features_data, pairs, weight,\n",
      "C:\\Users\\user\\anaconda3\\envs\\pycaret\\lib\\site-packages\\catboost\\core.py:1411: FutureWarning: iteritems is deprecated and will be removed in a future version. Use .items instead.\n",
      "  self._init_pool(data, label, cat_features, text_features, embedding_features, embedding_features_data, pairs, weight,\n",
      "C:\\Users\\user\\anaconda3\\envs\\pycaret\\lib\\site-packages\\catboost\\core.py:1411: FutureWarning: iteritems is deprecated and will be removed in a future version. Use .items instead.\n",
      "  self._init_pool(data, label, cat_features, text_features, embedding_features, embedding_features_data, pairs, weight,\n",
      "C:\\Users\\user\\anaconda3\\envs\\pycaret\\lib\\site-packages\\catboost\\core.py:1411: FutureWarning: iteritems is deprecated and will be removed in a future version. Use .items instead.\n",
      "  self._init_pool(data, label, cat_features, text_features, embedding_features, embedding_features_data, pairs, weight,\n",
      "C:\\Users\\user\\anaconda3\\envs\\pycaret\\lib\\site-packages\\catboost\\core.py:1411: FutureWarning: iteritems is deprecated and will be removed in a future version. Use .items instead.\n",
      "  self._init_pool(data, label, cat_features, text_features, embedding_features, embedding_features_data, pairs, weight,\n",
      "C:\\Users\\user\\anaconda3\\envs\\pycaret\\lib\\site-packages\\catboost\\core.py:1411: FutureWarning: iteritems is deprecated and will be removed in a future version. Use .items instead.\n",
      "  self._init_pool(data, label, cat_features, text_features, embedding_features, embedding_features_data, pairs, weight,\n",
      "C:\\Users\\user\\anaconda3\\envs\\pycaret\\lib\\site-packages\\catboost\\core.py:1411: FutureWarning: iteritems is deprecated and will be removed in a future version. Use .items instead.\n",
      "  self._init_pool(data, label, cat_features, text_features, embedding_features, embedding_features_data, pairs, weight,\n",
      "C:\\Users\\user\\anaconda3\\envs\\pycaret\\lib\\site-packages\\catboost\\core.py:1411: FutureWarning: iteritems is deprecated and will be removed in a future version. Use .items instead.\n",
      "  self._init_pool(data, label, cat_features, text_features, embedding_features, embedding_features_data, pairs, weight,\n",
      "C:\\Users\\user\\anaconda3\\envs\\pycaret\\lib\\site-packages\\catboost\\core.py:1411: FutureWarning: iteritems is deprecated and will be removed in a future version. Use .items instead.\n",
      "  self._init_pool(data, label, cat_features, text_features, embedding_features, embedding_features_data, pairs, weight,\n",
      "C:\\Users\\user\\anaconda3\\envs\\pycaret\\lib\\site-packages\\catboost\\core.py:1411: FutureWarning: iteritems is deprecated and will be removed in a future version. Use .items instead.\n",
      "  self._init_pool(data, label, cat_features, text_features, embedding_features, embedding_features_data, pairs, weight,\n",
      "C:\\Users\\user\\anaconda3\\envs\\pycaret\\lib\\site-packages\\catboost\\core.py:1411: FutureWarning: iteritems is deprecated and will be removed in a future version. Use .items instead.\n",
      "  self._init_pool(data, label, cat_features, text_features, embedding_features, embedding_features_data, pairs, weight,\n",
      "C:\\Users\\user\\anaconda3\\envs\\pycaret\\lib\\site-packages\\catboost\\core.py:1411: FutureWarning: iteritems is deprecated and will be removed in a future version. Use .items instead.\n",
      "  self._init_pool(data, label, cat_features, text_features, embedding_features, embedding_features_data, pairs, weight,\n",
      "C:\\Users\\user\\anaconda3\\envs\\pycaret\\lib\\site-packages\\catboost\\core.py:1411: FutureWarning: iteritems is deprecated and will be removed in a future version. Use .items instead.\n",
      "  self._init_pool(data, label, cat_features, text_features, embedding_features, embedding_features_data, pairs, weight,\n",
      "C:\\Users\\user\\anaconda3\\envs\\pycaret\\lib\\site-packages\\catboost\\core.py:1411: FutureWarning: iteritems is deprecated and will be removed in a future version. Use .items instead.\n",
      "  self._init_pool(data, label, cat_features, text_features, embedding_features, embedding_features_data, pairs, weight,\n",
      "C:\\Users\\user\\anaconda3\\envs\\pycaret\\lib\\site-packages\\catboost\\core.py:1411: FutureWarning: iteritems is deprecated and will be removed in a future version. Use .items instead.\n",
      "  self._init_pool(data, label, cat_features, text_features, embedding_features, embedding_features_data, pairs, weight,\n",
      "C:\\Users\\user\\anaconda3\\envs\\pycaret\\lib\\site-packages\\catboost\\core.py:1411: FutureWarning: iteritems is deprecated and will be removed in a future version. Use .items instead.\n",
      "  self._init_pool(data, label, cat_features, text_features, embedding_features, embedding_features_data, pairs, weight,\n",
      "C:\\Users\\user\\anaconda3\\envs\\pycaret\\lib\\site-packages\\catboost\\core.py:1411: FutureWarning: iteritems is deprecated and will be removed in a future version. Use .items instead.\n",
      "  self._init_pool(data, label, cat_features, text_features, embedding_features, embedding_features_data, pairs, weight,\n",
      "C:\\Users\\user\\anaconda3\\envs\\pycaret\\lib\\site-packages\\catboost\\core.py:1411: FutureWarning: iteritems is deprecated and will be removed in a future version. Use .items instead.\n",
      "  self._init_pool(data, label, cat_features, text_features, embedding_features, embedding_features_data, pairs, weight,\n",
      "C:\\Users\\user\\anaconda3\\envs\\pycaret\\lib\\site-packages\\catboost\\core.py:1411: FutureWarning: iteritems is deprecated and will be removed in a future version. Use .items instead.\n",
      "  self._init_pool(data, label, cat_features, text_features, embedding_features, embedding_features_data, pairs, weight,\n",
      "C:\\Users\\user\\anaconda3\\envs\\pycaret\\lib\\site-packages\\catboost\\core.py:1411: FutureWarning: iteritems is deprecated and will be removed in a future version. Use .items instead.\n",
      "  self._init_pool(data, label, cat_features, text_features, embedding_features, embedding_features_data, pairs, weight,\n",
      "C:\\Users\\user\\anaconda3\\envs\\pycaret\\lib\\site-packages\\catboost\\core.py:1411: FutureWarning: iteritems is deprecated and will be removed in a future version. Use .items instead.\n",
      "  self._init_pool(data, label, cat_features, text_features, embedding_features, embedding_features_data, pairs, weight,\n",
      "C:\\Users\\user\\anaconda3\\envs\\pycaret\\lib\\site-packages\\catboost\\core.py:1411: FutureWarning: iteritems is deprecated and will be removed in a future version. Use .items instead.\n",
      "  self._init_pool(data, label, cat_features, text_features, embedding_features, embedding_features_data, pairs, weight,\n",
      "C:\\Users\\user\\anaconda3\\envs\\pycaret\\lib\\site-packages\\catboost\\core.py:1411: FutureWarning: iteritems is deprecated and will be removed in a future version. Use .items instead.\n",
      "  self._init_pool(data, label, cat_features, text_features, embedding_features, embedding_features_data, pairs, weight,\n",
      "C:\\Users\\user\\anaconda3\\envs\\pycaret\\lib\\site-packages\\catboost\\core.py:1411: FutureWarning: iteritems is deprecated and will be removed in a future version. Use .items instead.\n",
      "  self._init_pool(data, label, cat_features, text_features, embedding_features, embedding_features_data, pairs, weight,\n",
      "C:\\Users\\user\\anaconda3\\envs\\pycaret\\lib\\site-packages\\catboost\\core.py:1411: FutureWarning: iteritems is deprecated and will be removed in a future version. Use .items instead.\n",
      "  self._init_pool(data, label, cat_features, text_features, embedding_features, embedding_features_data, pairs, weight,\n",
      "C:\\Users\\user\\anaconda3\\envs\\pycaret\\lib\\site-packages\\catboost\\core.py:1411: FutureWarning: iteritems is deprecated and will be removed in a future version. Use .items instead.\n",
      "  self._init_pool(data, label, cat_features, text_features, embedding_features, embedding_features_data, pairs, weight,\n",
      "C:\\Users\\user\\anaconda3\\envs\\pycaret\\lib\\site-packages\\catboost\\core.py:1411: FutureWarning: iteritems is deprecated and will be removed in a future version. Use .items instead.\n",
      "  self._init_pool(data, label, cat_features, text_features, embedding_features, embedding_features_data, pairs, weight,\n",
      "C:\\Users\\user\\anaconda3\\envs\\pycaret\\lib\\site-packages\\catboost\\core.py:1411: FutureWarning: iteritems is deprecated and will be removed in a future version. Use .items instead.\n",
      "  self._init_pool(data, label, cat_features, text_features, embedding_features, embedding_features_data, pairs, weight,\n",
      "C:\\Users\\user\\anaconda3\\envs\\pycaret\\lib\\site-packages\\catboost\\core.py:1411: FutureWarning: iteritems is deprecated and will be removed in a future version. Use .items instead.\n",
      "  self._init_pool(data, label, cat_features, text_features, embedding_features, embedding_features_data, pairs, weight,\n",
      "C:\\Users\\user\\anaconda3\\envs\\pycaret\\lib\\site-packages\\catboost\\core.py:1411: FutureWarning: iteritems is deprecated and will be removed in a future version. Use .items instead.\n",
      "  self._init_pool(data, label, cat_features, text_features, embedding_features, embedding_features_data, pairs, weight,\n",
      "C:\\Users\\user\\anaconda3\\envs\\pycaret\\lib\\site-packages\\catboost\\core.py:1411: FutureWarning: iteritems is deprecated and will be removed in a future version. Use .items instead.\n",
      "  self._init_pool(data, label, cat_features, text_features, embedding_features, embedding_features_data, pairs, weight,\n",
      "C:\\Users\\user\\anaconda3\\envs\\pycaret\\lib\\site-packages\\catboost\\core.py:1411: FutureWarning: iteritems is deprecated and will be removed in a future version. Use .items instead.\n",
      "  self._init_pool(data, label, cat_features, text_features, embedding_features, embedding_features_data, pairs, weight,\n",
      "C:\\Users\\user\\anaconda3\\envs\\pycaret\\lib\\site-packages\\catboost\\core.py:1411: FutureWarning: iteritems is deprecated and will be removed in a future version. Use .items instead.\n",
      "  self._init_pool(data, label, cat_features, text_features, embedding_features, embedding_features_data, pairs, weight,\n",
      "C:\\Users\\user\\anaconda3\\envs\\pycaret\\lib\\site-packages\\catboost\\core.py:1411: FutureWarning: iteritems is deprecated and will be removed in a future version. Use .items instead.\n",
      "  self._init_pool(data, label, cat_features, text_features, embedding_features, embedding_features_data, pairs, weight,\n",
      "C:\\Users\\user\\anaconda3\\envs\\pycaret\\lib\\site-packages\\catboost\\core.py:1411: FutureWarning: iteritems is deprecated and will be removed in a future version. Use .items instead.\n",
      "  self._init_pool(data, label, cat_features, text_features, embedding_features, embedding_features_data, pairs, weight,\n",
      "C:\\Users\\user\\anaconda3\\envs\\pycaret\\lib\\site-packages\\catboost\\core.py:1411: FutureWarning: iteritems is deprecated and will be removed in a future version. Use .items instead.\n",
      "  self._init_pool(data, label, cat_features, text_features, embedding_features, embedding_features_data, pairs, weight,\n",
      "C:\\Users\\user\\anaconda3\\envs\\pycaret\\lib\\site-packages\\catboost\\core.py:1411: FutureWarning: iteritems is deprecated and will be removed in a future version. Use .items instead.\n",
      "  self._init_pool(data, label, cat_features, text_features, embedding_features, embedding_features_data, pairs, weight,\n"
     ]
    },
    {
     "name": "stderr",
     "output_type": "stream",
     "text": [
      "C:\\Users\\user\\anaconda3\\envs\\pycaret\\lib\\site-packages\\catboost\\core.py:1411: FutureWarning: iteritems is deprecated and will be removed in a future version. Use .items instead.\n",
      "  self._init_pool(data, label, cat_features, text_features, embedding_features, embedding_features_data, pairs, weight,\n"
     ]
    }
   ],
   "source": [
    "cat_preds = []\n",
    "\n",
    "for model in models:\n",
    "    preds = model.predict_proba(test[features])[:,1]\n",
    "    cat_preds.append(preds)"
   ]
  },
  {
   "cell_type": "code",
   "execution_count": 7,
   "id": "d3f8a06a",
   "metadata": {},
   "outputs": [],
   "source": [
    "# train = train.drop('Counseling_Calls',axis=1)\n",
    "# from pycaret import classification\n",
    "# classification.setup(data=train,target='Cancellation_Status')"
   ]
  },
  {
   "cell_type": "code",
   "execution_count": 8,
   "id": "72a14914",
   "metadata": {},
   "outputs": [],
   "source": [
    "# best = classification.compare_models(sort='ACC',n_select=4,fold=10)"
   ]
  },
  {
   "cell_type": "code",
   "execution_count": 9,
   "id": "2a88a634",
   "metadata": {},
   "outputs": [],
   "source": [
    "# kf = StratifiedKFold(n_splits = 10, random_state = 1, shuffle = True)\n",
    "# val_scores = []\n",
    "\n",
    "# params = {'scale_pos_weight': 2,\n",
    "#  #'lambda_l2': 14.705798704172345,\n",
    "#  'num_leaves': 10,\n",
    "#  'learning_rate': 0.005,\n",
    "#  #'feature_fraction': 0.8402041342033796,\n",
    "#  #'bagging_fraction': 0.5053012488246705,\n",
    "#  'bagging_freq': 5,\n",
    "#  'min_child_samples': 10,\n",
    "#  'min_data_in_leaf': 10,\n",
    "#  'max_depth': 10,\n",
    "#  'random_state' : 41}\n",
    "# # params = study.best_params\n",
    "\n",
    "# for i, (train_index, val_index) in tqdm(enumerate(kf.split(train, train[target]))):\n",
    "    \n",
    "#     X_train, X_val = train[features].loc[train_index], train[features].loc[val_index]\n",
    "#     y_train, y_val = train[target][train_index], train[target][val_index]\n",
    "    \n",
    "# #     if include_orig:\n",
    "# #         X_train = X_train.append(original[features], ignore_index = True)\n",
    "# #         y_train = y_train.append(original[target], ignore_index = True)\n",
    "    \n",
    "#     model = LGBMClassifier(**params)\n",
    "    \n",
    "#     model.fit(X_train, y_train)\n",
    "    \n",
    "#     models.append(model)\n",
    "#     pred = model.predict(X_val)\n",
    "#     score = f1_score(y_val, pred)\n",
    "\n",
    "#     val_scores.append(score)\n",
    "    \n",
    "#     print(f'score on fold {i}: {score:.4f}')\n",
    "    \n",
    "# print(f'mean score across all folds: {np.mean(val_scores):.4f}')"
   ]
  },
  {
   "cell_type": "code",
   "execution_count": 10,
   "id": "2e4bc308",
   "metadata": {},
   "outputs": [
    {
     "data": {
      "text/plain": [
       "[array([0.05528222, 0.0771899 , 0.00979602, ..., 0.05702946, 0.07061149,\n",
       "        0.13866072]),\n",
       " array([0.05856865, 0.12181304, 0.01512707, ..., 0.0476885 , 0.10445142,\n",
       "        0.13142505]),\n",
       " array([0.02901894, 0.05643467, 0.0067992 , ..., 0.07249698, 0.08385374,\n",
       "        0.04869251]),\n",
       " array([0.04258705, 0.0670795 , 0.00753171, ..., 0.10561508, 0.07134453,\n",
       "        0.06489447]),\n",
       " array([0.04007736, 0.0984687 , 0.01391302, ..., 0.07406115, 0.0912253 ,\n",
       "        0.11401482]),\n",
       " array([0.0519709 , 0.06988293, 0.03423815, ..., 0.06794707, 0.05543968,\n",
       "        0.11913694]),\n",
       " array([0.050128  , 0.08961919, 0.01609134, ..., 0.06147616, 0.1240751 ,\n",
       "        0.14926894]),\n",
       " array([0.05077286, 0.06381454, 0.01380123, ..., 0.06444372, 0.06277449,\n",
       "        0.08843017]),\n",
       " array([0.0713567 , 0.04443024, 0.01612633, ..., 0.07658707, 0.09692273,\n",
       "        0.08857722]),\n",
       " array([0.04001955, 0.11738813, 0.00996579, ..., 0.07110994, 0.09602725,\n",
       "        0.0628001 ]),\n",
       " array([0.03366186, 0.05336727, 0.02921507, ..., 0.08831111, 0.05438633,\n",
       "        0.09070469]),\n",
       " array([0.03186178, 0.08080236, 0.03742034, ..., 0.04271865, 0.05421565,\n",
       "        0.1001037 ]),\n",
       " array([0.04489808, 0.12937789, 0.02155926, ..., 0.05592556, 0.09387097,\n",
       "        0.08876197]),\n",
       " array([0.06098384, 0.06417164, 0.00930597, ..., 0.07150905, 0.09998751,\n",
       "        0.06525351]),\n",
       " array([0.05255818, 0.05707861, 0.00876091, ..., 0.04948025, 0.09294988,\n",
       "        0.07602295]),\n",
       " array([0.0472496 , 0.09213929, 0.01892366, ..., 0.08534282, 0.04684203,\n",
       "        0.07376709]),\n",
       " array([0.0361969 , 0.0836566 , 0.01176163, ..., 0.12415907, 0.06829374,\n",
       "        0.08006678]),\n",
       " array([0.07508264, 0.0869276 , 0.0090436 , ..., 0.07286928, 0.06758251,\n",
       "        0.14043673]),\n",
       " array([0.04356848, 0.08428695, 0.01159515, ..., 0.06678096, 0.0849375 ,\n",
       "        0.1364169 ]),\n",
       " array([0.08967435, 0.0717912 , 0.00761176, ..., 0.07730674, 0.09758987,\n",
       "        0.16274891]),\n",
       " array([0.02778097, 0.10076167, 0.01670522, ..., 0.06454619, 0.08037035,\n",
       "        0.07476721]),\n",
       " array([0.04032382, 0.08607401, 0.0111789 , ..., 0.11412298, 0.09531302,\n",
       "        0.05472948]),\n",
       " array([0.0512352 , 0.08389315, 0.01987327, ..., 0.07795997, 0.08727438,\n",
       "        0.06344222]),\n",
       " array([0.02904086, 0.09489842, 0.0168213 , ..., 0.08016324, 0.04264346,\n",
       "        0.04495161]),\n",
       " array([0.04941384, 0.10689334, 0.00861397, ..., 0.11635884, 0.083454  ,\n",
       "        0.10280172]),\n",
       " array([0.05121942, 0.06611166, 0.02412575, ..., 0.05388219, 0.06949787,\n",
       "        0.0650373 ]),\n",
       " array([0.03423033, 0.11566372, 0.01234175, ..., 0.08018778, 0.05277525,\n",
       "        0.08051579]),\n",
       " array([0.0559546 , 0.09898985, 0.01392823, ..., 0.06728362, 0.06732726,\n",
       "        0.06909963]),\n",
       " array([0.05429097, 0.07322457, 0.00897732, ..., 0.03856075, 0.08650736,\n",
       "        0.08986829]),\n",
       " array([0.04705995, 0.09178595, 0.01161386, ..., 0.07729802, 0.10019659,\n",
       "        0.10468586]),\n",
       " array([0.05613169, 0.09943658, 0.01936049, ..., 0.05232672, 0.05111342,\n",
       "        0.04113905]),\n",
       " array([0.04590207, 0.08969402, 0.00955547, ..., 0.07507252, 0.07438076,\n",
       "        0.06876336]),\n",
       " array([0.03663506, 0.09918099, 0.01394056, ..., 0.10431984, 0.08101806,\n",
       "        0.04629697]),\n",
       " array([0.06033208, 0.05637557, 0.00432941, ..., 0.08123625, 0.0924854 ,\n",
       "        0.12416767]),\n",
       " array([0.03142301, 0.10453345, 0.01040086, ..., 0.07232305, 0.0957745 ,\n",
       "        0.26336135]),\n",
       " array([0.03754546, 0.11515528, 0.01876819, ..., 0.08584611, 0.06886536,\n",
       "        0.04295937]),\n",
       " array([0.04798449, 0.07611517, 0.01347132, ..., 0.06847884, 0.06230436,\n",
       "        0.10479154]),\n",
       " array([0.07545943, 0.09555444, 0.00949735, ..., 0.06971202, 0.08996387,\n",
       "        0.06808666]),\n",
       " array([0.05254158, 0.05096336, 0.01802173, ..., 0.04920915, 0.05432354,\n",
       "        0.13497384]),\n",
       " array([0.06845412, 0.07125832, 0.01556613, ..., 0.07965728, 0.08711972,\n",
       "        0.11049182]),\n",
       " array([0.04856034, 0.08828339, 0.01027574, ..., 0.05216789, 0.14474881,\n",
       "        0.14442911]),\n",
       " array([0.04856634, 0.0912322 , 0.02462486, ..., 0.0707118 , 0.08286629,\n",
       "        0.09377901]),\n",
       " array([0.06861398, 0.08688885, 0.01406762, ..., 0.07156476, 0.06197033,\n",
       "        0.06082891]),\n",
       " array([0.05367774, 0.10432114, 0.02365486, ..., 0.06240398, 0.06199596,\n",
       "        0.10868854]),\n",
       " array([0.05481484, 0.05104637, 0.01964777, ..., 0.07893451, 0.05788236,\n",
       "        0.19292164]),\n",
       " array([0.04945475, 0.07894632, 0.02292016, ..., 0.06467763, 0.06455978,\n",
       "        0.08221654]),\n",
       " array([0.03768813, 0.08963541, 0.01410422, ..., 0.06966851, 0.09125686,\n",
       "        0.07241937]),\n",
       " array([0.04662411, 0.08415702, 0.01026731, ..., 0.10426695, 0.05335567,\n",
       "        0.11087729]),\n",
       " array([0.0266194 , 0.10490688, 0.01921802, ..., 0.07270237, 0.0724262 ,\n",
       "        0.11009365]),\n",
       " array([0.0536402 , 0.10805958, 0.02014373, ..., 0.06726164, 0.06606017,\n",
       "        0.11345784]),\n",
       " array([0.07384323, 0.11847044, 0.02606624, ..., 0.06569715, 0.06679697,\n",
       "        0.09511416]),\n",
       " array([0.0585735 , 0.06059486, 0.01295428, ..., 0.08432869, 0.05025068,\n",
       "        0.08965007]),\n",
       " array([0.05488935, 0.06989135, 0.01663019, ..., 0.06997227, 0.04015114,\n",
       "        0.06771341]),\n",
       " array([0.0522169 , 0.07857435, 0.01794884, ..., 0.0985103 , 0.12421685,\n",
       "        0.06770775]),\n",
       " array([0.05212243, 0.08102054, 0.01649721, ..., 0.08317339, 0.05767444,\n",
       "        0.12641564]),\n",
       " array([0.0665846 , 0.10375323, 0.01051408, ..., 0.08008093, 0.14116604,\n",
       "        0.07696651]),\n",
       " array([0.0622347 , 0.0973432 , 0.0195127 , ..., 0.06420756, 0.05631367,\n",
       "        0.07061444]),\n",
       " array([0.04991761, 0.07855132, 0.0526721 , ..., 0.03154482, 0.08809561,\n",
       "        0.11602637]),\n",
       " array([0.04087759, 0.09497645, 0.01327428, ..., 0.06097189, 0.1381111 ,\n",
       "        0.14865664]),\n",
       " array([0.05086976, 0.09864959, 0.02095563, ..., 0.06554378, 0.11141339,\n",
       "        0.04442294]),\n",
       " array([0.06653846, 0.09889483, 0.01609876, ..., 0.05112645, 0.05490142,\n",
       "        0.10477036]),\n",
       " array([0.04874294, 0.07784825, 0.00964232, ..., 0.10089209, 0.09524422,\n",
       "        0.10726193]),\n",
       " array([0.04087931, 0.07555497, 0.01834309, ..., 0.053718  , 0.08711136,\n",
       "        0.13852257]),\n",
       " array([0.05147031, 0.08770765, 0.00900093, ..., 0.09776982, 0.06365873,\n",
       "        0.14457326]),\n",
       " array([0.07093196, 0.06287694, 0.0139064 , ..., 0.07254704, 0.08145968,\n",
       "        0.12924905]),\n",
       " array([0.04266625, 0.07387935, 0.02439776, ..., 0.07719907, 0.09859807,\n",
       "        0.0973505 ]),\n",
       " array([0.04627012, 0.07887828, 0.02406856, ..., 0.06436235, 0.07421356,\n",
       "        0.11573909]),\n",
       " array([0.09054088, 0.11291672, 0.02924671, ..., 0.05684586, 0.05176229,\n",
       "        0.16488122]),\n",
       " array([0.0502044 , 0.06921346, 0.01825322, ..., 0.05924008, 0.17136595,\n",
       "        0.08676858]),\n",
       " array([0.03039952, 0.09144888, 0.01929928, ..., 0.06108855, 0.08348391,\n",
       "        0.07266863]),\n",
       " array([0.03704449, 0.06369709, 0.0126797 , ..., 0.06457685, 0.06397739,\n",
       "        0.10337174]),\n",
       " array([0.04811798, 0.10963266, 0.01625618, ..., 0.069489  , 0.04995357,\n",
       "        0.14356869]),\n",
       " array([0.03790165, 0.09366923, 0.02153419, ..., 0.06307269, 0.07592921,\n",
       "        0.11302279]),\n",
       " array([0.04924908, 0.05592   , 0.00597793, ..., 0.05992062, 0.09951123,\n",
       "        0.09404472]),\n",
       " array([0.08748563, 0.12422277, 0.0037347 , ..., 0.08171162, 0.09266608,\n",
       "        0.07798789]),\n",
       " array([0.05736195, 0.07709156, 0.00968592, ..., 0.07892773, 0.07484488,\n",
       "        0.06852659]),\n",
       " array([0.0346674 , 0.0664156 , 0.0096077 , ..., 0.05691425, 0.07377815,\n",
       "        0.11004742]),\n",
       " array([0.04888278, 0.10779148, 0.01991875, ..., 0.10917656, 0.08957737,\n",
       "        0.15827781]),\n",
       " array([0.04257444, 0.09196183, 0.00723245, ..., 0.08838923, 0.1010956 ,\n",
       "        0.15823892]),\n",
       " array([0.05267981, 0.11514165, 0.01857462, ..., 0.06770035, 0.11135121,\n",
       "        0.05837532]),\n",
       " array([0.04261719, 0.04313153, 0.01826734, ..., 0.07527648, 0.08658114,\n",
       "        0.11243291]),\n",
       " array([0.03744688, 0.10417718, 0.01100874, ..., 0.13039916, 0.0987628 ,\n",
       "        0.1079319 ]),\n",
       " array([0.06229224, 0.11362016, 0.01778269, ..., 0.04426599, 0.0569714 ,\n",
       "        0.20922437]),\n",
       " array([0.05397435, 0.07214256, 0.01619389, ..., 0.11535433, 0.08654559,\n",
       "        0.06299452]),\n",
       " array([0.04656766, 0.05447287, 0.00716213, ..., 0.06248721, 0.06395436,\n",
       "        0.12075407]),\n",
       " array([0.03713841, 0.10591113, 0.01075811, ..., 0.08101134, 0.10342899,\n",
       "        0.14712599]),\n",
       " array([0.04913415, 0.09605948, 0.00537829, ..., 0.06906402, 0.09240529,\n",
       "        0.10899553]),\n",
       " array([0.07060486, 0.08834639, 0.01684974, ..., 0.07397471, 0.11832627,\n",
       "        0.14480923]),\n",
       " array([0.05137298, 0.10145533, 0.01239159, ..., 0.06593576, 0.06715654,\n",
       "        0.09875324]),\n",
       " array([0.05150828, 0.07375612, 0.02001725, ..., 0.05809861, 0.07302046,\n",
       "        0.06042832]),\n",
       " array([0.04876719, 0.07175033, 0.00627489, ..., 0.13329856, 0.10815033,\n",
       "        0.07519403]),\n",
       " array([0.04460006, 0.0962188 , 0.01121102, ..., 0.05759795, 0.08083273,\n",
       "        0.06496104]),\n",
       " array([0.05503801, 0.10760204, 0.01443977, ..., 0.08733778, 0.0790927 ,\n",
       "        0.16215752]),\n",
       " array([0.04780877, 0.08573914, 0.00905384, ..., 0.06792078, 0.07189425,\n",
       "        0.07757931]),\n",
       " array([0.05434946, 0.10160779, 0.01021358, ..., 0.05195174, 0.07025552,\n",
       "        0.09721437]),\n",
       " array([0.03912417, 0.07310193, 0.02085106, ..., 0.07548003, 0.07389568,\n",
       "        0.03605102]),\n",
       " array([0.04278014, 0.07951542, 0.03031946, ..., 0.06663727, 0.13540403,\n",
       "        0.15878368]),\n",
       " array([0.03127763, 0.0672048 , 0.04055923, ..., 0.07420668, 0.07741674,\n",
       "        0.10433104]),\n",
       " array([0.04310741, 0.05068081, 0.02448614, ..., 0.0705875 , 0.11036677,\n",
       "        0.05944702]),\n",
       " array([0.04702205, 0.07027667, 0.02475365, ..., 0.06277888, 0.11535088,\n",
       "        0.08776837])]"
      ]
     },
     "execution_count": 10,
     "metadata": {},
     "output_type": "execute_result"
    }
   ],
   "source": [
    "cat_preds"
   ]
  },
  {
   "cell_type": "code",
   "execution_count": 43,
   "id": "f8613ce3",
   "metadata": {},
   "outputs": [],
   "source": [
    "target = []\n",
    "for i in np.array(cat_preds).mean(axis=0):\n",
    "    if i < 0.21:\n",
    "        target.append(0)\n",
    "    else:\n",
    "        target.append(1)"
   ]
  },
  {
   "cell_type": "code",
   "execution_count": 44,
   "id": "ae46eb7b",
   "metadata": {},
   "outputs": [],
   "source": [
    "sample = pd.read_csv('./sample_submission.csv',index_col='ID')\n",
    "sample['전화해지여부'] = target\n",
    "sample.to_csv('./submission.csv')"
   ]
  },
  {
   "cell_type": "code",
   "execution_count": 45,
   "id": "2f276401",
   "metadata": {},
   "outputs": [
    {
     "data": {
      "text/plain": [
       "0    11345\n",
       "1     1598\n",
       "Name: 전화해지여부, dtype: int64"
      ]
     },
     "execution_count": 45,
     "metadata": {},
     "output_type": "execute_result"
    }
   ],
   "source": [
    "sample['전화해지여부'].value_counts()\n"
   ]
  },
  {
   "cell_type": "code",
   "execution_count": 46,
   "id": "ea1d0aca",
   "metadata": {},
   "outputs": [
    {
     "data": {
      "text/plain": [
       "0    26882\n",
       "1     3318\n",
       "Name: Cancellation_Status, dtype: int64"
      ]
     },
     "execution_count": 46,
     "metadata": {},
     "output_type": "execute_result"
    }
   ],
   "source": [
    "train['Cancellation_Status'].value_counts()"
   ]
  },
  {
   "cell_type": "code",
   "execution_count": 49,
   "id": "cd28a700",
   "metadata": {},
   "outputs": [
    {
     "data": {
      "text/plain": [
       "0.12346442092250637"
      ]
     },
     "execution_count": 49,
     "metadata": {},
     "output_type": "execute_result"
    }
   ],
   "source": [
    "1598/len(sample)"
   ]
  },
  {
   "cell_type": "code",
   "execution_count": 50,
   "id": "1d2f41e1",
   "metadata": {},
   "outputs": [
    {
     "data": {
      "text/plain": [
       "0.10986754966887417"
      ]
     },
     "execution_count": 50,
     "metadata": {},
     "output_type": "execute_result"
    }
   ],
   "source": [
    "3318/len(train)"
   ]
  },
  {
   "cell_type": "code",
   "execution_count": null,
   "id": "b9a16139",
   "metadata": {},
   "outputs": [],
   "source": []
  }
 ],
 "metadata": {
  "kernelspec": {
   "display_name": "Python 3 (ipykernel)",
   "language": "python",
   "name": "python3"
  },
  "language_info": {
   "codemirror_mode": {
    "name": "ipython",
    "version": 3
   },
   "file_extension": ".py",
   "mimetype": "text/x-python",
   "name": "python",
   "nbconvert_exporter": "python",
   "pygments_lexer": "ipython3",
   "version": "3.8.16"
  }
 },
 "nbformat": 4,
 "nbformat_minor": 5
}
