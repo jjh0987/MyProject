{
 "cells": [
  {
   "cell_type": "code",
   "execution_count": 1,
   "id": "43ef2f34",
   "metadata": {},
   "outputs": [],
   "source": [
    "import pandas as pd\n",
    "import numpy as np"
   ]
  },
  {
   "cell_type": "code",
   "execution_count": 2,
   "id": "855d0763",
   "metadata": {},
   "outputs": [
    {
     "data": {
      "text/html": [
       "<div>\n",
       "<style scoped>\n",
       "    .dataframe tbody tr th:only-of-type {\n",
       "        vertical-align: middle;\n",
       "    }\n",
       "\n",
       "    .dataframe tbody tr th {\n",
       "        vertical-align: top;\n",
       "    }\n",
       "\n",
       "    .dataframe thead th {\n",
       "        text-align: right;\n",
       "    }\n",
       "</style>\n",
       "<table border=\"1\" class=\"dataframe\">\n",
       "  <thead>\n",
       "    <tr style=\"text-align: right;\">\n",
       "      <th></th>\n",
       "      <th>ID</th>\n",
       "      <th>Subscription_Length</th>\n",
       "      <th>Voice_Mailbox_Usage</th>\n",
       "      <th>Early_Call_Length</th>\n",
       "      <th>Early_Calls_Freq</th>\n",
       "      <th>Early_Call_Fee</th>\n",
       "      <th>Late_Call_Length</th>\n",
       "      <th>Late_Calls_Freq</th>\n",
       "      <th>Late_Call_Fee</th>\n",
       "      <th>Night_Call_Length</th>\n",
       "      <th>Night_Calls_Freq</th>\n",
       "      <th>Night_Call_Fee</th>\n",
       "      <th>Counseling_Calls</th>\n",
       "      <th>Cancellation_Status</th>\n",
       "    </tr>\n",
       "  </thead>\n",
       "  <tbody>\n",
       "    <tr>\n",
       "      <th>0</th>\n",
       "      <td>TRAIN_00000</td>\n",
       "      <td>329</td>\n",
       "      <td>0</td>\n",
       "      <td>99.2</td>\n",
       "      <td>93</td>\n",
       "      <td>27.3</td>\n",
       "      <td>268.8</td>\n",
       "      <td>68</td>\n",
       "      <td>28.92</td>\n",
       "      <td>262.9</td>\n",
       "      <td>328</td>\n",
       "      <td>32.89</td>\n",
       "      <td>2</td>\n",
       "      <td>0</td>\n",
       "    </tr>\n",
       "    <tr>\n",
       "      <th>1</th>\n",
       "      <td>TRAIN_00001</td>\n",
       "      <td>2</td>\n",
       "      <td>80</td>\n",
       "      <td>323.9</td>\n",
       "      <td>323</td>\n",
       "      <td>83.7</td>\n",
       "      <td>269.4</td>\n",
       "      <td>326</td>\n",
       "      <td>32.09</td>\n",
       "      <td>322.8</td>\n",
       "      <td>209</td>\n",
       "      <td>32.32</td>\n",
       "      <td>2</td>\n",
       "      <td>0</td>\n",
       "    </tr>\n",
       "    <tr>\n",
       "      <th>2</th>\n",
       "      <td>TRAIN_00002</td>\n",
       "      <td>93</td>\n",
       "      <td>28</td>\n",
       "      <td>282.4</td>\n",
       "      <td>323</td>\n",
       "      <td>34.2</td>\n",
       "      <td>207.0</td>\n",
       "      <td>322</td>\n",
       "      <td>32.82</td>\n",
       "      <td>280.8</td>\n",
       "      <td>328</td>\n",
       "      <td>8.28</td>\n",
       "      <td>0</td>\n",
       "      <td>0</td>\n",
       "    </tr>\n",
       "    <tr>\n",
       "      <th>3</th>\n",
       "      <td>TRAIN_00003</td>\n",
       "      <td>223</td>\n",
       "      <td>1</td>\n",
       "      <td>221.4</td>\n",
       "      <td>223</td>\n",
       "      <td>25.1</td>\n",
       "      <td>233.0</td>\n",
       "      <td>61</td>\n",
       "      <td>23.90</td>\n",
       "      <td>203.8</td>\n",
       "      <td>234</td>\n",
       "      <td>9.36</td>\n",
       "      <td>0</td>\n",
       "      <td>0</td>\n",
       "    </tr>\n",
       "    <tr>\n",
       "      <th>4</th>\n",
       "      <td>TRAIN_00004</td>\n",
       "      <td>222</td>\n",
       "      <td>0</td>\n",
       "      <td>96.3</td>\n",
       "      <td>222</td>\n",
       "      <td>28.7</td>\n",
       "      <td>223.9</td>\n",
       "      <td>69</td>\n",
       "      <td>28.08</td>\n",
       "      <td>263.1</td>\n",
       "      <td>223</td>\n",
       "      <td>2.80</td>\n",
       "      <td>8</td>\n",
       "      <td>0</td>\n",
       "    </tr>\n",
       "    <tr>\n",
       "      <th>...</th>\n",
       "      <td>...</td>\n",
       "      <td>...</td>\n",
       "      <td>...</td>\n",
       "      <td>...</td>\n",
       "      <td>...</td>\n",
       "      <td>...</td>\n",
       "      <td>...</td>\n",
       "      <td>...</td>\n",
       "      <td>...</td>\n",
       "      <td>...</td>\n",
       "      <td>...</td>\n",
       "      <td>...</td>\n",
       "      <td>...</td>\n",
       "      <td>...</td>\n",
       "    </tr>\n",
       "    <tr>\n",
       "      <th>30195</th>\n",
       "      <td>TRAIN_30195</td>\n",
       "      <td>263</td>\n",
       "      <td>80</td>\n",
       "      <td>289.6</td>\n",
       "      <td>201</td>\n",
       "      <td>21.8</td>\n",
       "      <td>280.5</td>\n",
       "      <td>323</td>\n",
       "      <td>29.88</td>\n",
       "      <td>208.0</td>\n",
       "      <td>66</td>\n",
       "      <td>9.28</td>\n",
       "      <td>2</td>\n",
       "      <td>0</td>\n",
       "    </tr>\n",
       "    <tr>\n",
       "      <th>30196</th>\n",
       "      <td>TRAIN_30196</td>\n",
       "      <td>283</td>\n",
       "      <td>81</td>\n",
       "      <td>210.7</td>\n",
       "      <td>280</td>\n",
       "      <td>90.5</td>\n",
       "      <td>284.1</td>\n",
       "      <td>202</td>\n",
       "      <td>32.80</td>\n",
       "      <td>287.8</td>\n",
       "      <td>203</td>\n",
       "      <td>6.28</td>\n",
       "      <td>2</td>\n",
       "      <td>0</td>\n",
       "    </tr>\n",
       "    <tr>\n",
       "      <th>30197</th>\n",
       "      <td>TRAIN_30197</td>\n",
       "      <td>24</td>\n",
       "      <td>0</td>\n",
       "      <td>222.4</td>\n",
       "      <td>33</td>\n",
       "      <td>22.1</td>\n",
       "      <td>233.9</td>\n",
       "      <td>32</td>\n",
       "      <td>22.22</td>\n",
       "      <td>293.6</td>\n",
       "      <td>95</td>\n",
       "      <td>4.22</td>\n",
       "      <td>2</td>\n",
       "      <td>0</td>\n",
       "    </tr>\n",
       "    <tr>\n",
       "      <th>30198</th>\n",
       "      <td>TRAIN_30198</td>\n",
       "      <td>63</td>\n",
       "      <td>1</td>\n",
       "      <td>262.4</td>\n",
       "      <td>202</td>\n",
       "      <td>29.6</td>\n",
       "      <td>280.6</td>\n",
       "      <td>282</td>\n",
       "      <td>28.88</td>\n",
       "      <td>280.9</td>\n",
       "      <td>207</td>\n",
       "      <td>20.88</td>\n",
       "      <td>2</td>\n",
       "      <td>1</td>\n",
       "    </tr>\n",
       "    <tr>\n",
       "      <th>30199</th>\n",
       "      <td>TRAIN_30199</td>\n",
       "      <td>200</td>\n",
       "      <td>1</td>\n",
       "      <td>327.1</td>\n",
       "      <td>203</td>\n",
       "      <td>86.8</td>\n",
       "      <td>330.1</td>\n",
       "      <td>82</td>\n",
       "      <td>28.88</td>\n",
       "      <td>289.1</td>\n",
       "      <td>323</td>\n",
       "      <td>6.28</td>\n",
       "      <td>0</td>\n",
       "      <td>0</td>\n",
       "    </tr>\n",
       "  </tbody>\n",
       "</table>\n",
       "<p>30200 rows × 14 columns</p>\n",
       "</div>"
      ],
      "text/plain": [
       "                ID  Subscription_Length  Voice_Mailbox_Usage  \\\n",
       "0      TRAIN_00000                  329                    0   \n",
       "1      TRAIN_00001                    2                   80   \n",
       "2      TRAIN_00002                   93                   28   \n",
       "3      TRAIN_00003                  223                    1   \n",
       "4      TRAIN_00004                  222                    0   \n",
       "...            ...                  ...                  ...   \n",
       "30195  TRAIN_30195                  263                   80   \n",
       "30196  TRAIN_30196                  283                   81   \n",
       "30197  TRAIN_30197                   24                    0   \n",
       "30198  TRAIN_30198                   63                    1   \n",
       "30199  TRAIN_30199                  200                    1   \n",
       "\n",
       "       Early_Call_Length  Early_Calls_Freq  Early_Call_Fee  Late_Call_Length  \\\n",
       "0                   99.2                93            27.3             268.8   \n",
       "1                  323.9               323            83.7             269.4   \n",
       "2                  282.4               323            34.2             207.0   \n",
       "3                  221.4               223            25.1             233.0   \n",
       "4                   96.3               222            28.7             223.9   \n",
       "...                  ...               ...             ...               ...   \n",
       "30195              289.6               201            21.8             280.5   \n",
       "30196              210.7               280            90.5             284.1   \n",
       "30197              222.4                33            22.1             233.9   \n",
       "30198              262.4               202            29.6             280.6   \n",
       "30199              327.1               203            86.8             330.1   \n",
       "\n",
       "       Late_Calls_Freq  Late_Call_Fee  Night_Call_Length  Night_Calls_Freq  \\\n",
       "0                   68          28.92              262.9               328   \n",
       "1                  326          32.09              322.8               209   \n",
       "2                  322          32.82              280.8               328   \n",
       "3                   61          23.90              203.8               234   \n",
       "4                   69          28.08              263.1               223   \n",
       "...                ...            ...                ...               ...   \n",
       "30195              323          29.88              208.0                66   \n",
       "30196              202          32.80              287.8               203   \n",
       "30197               32          22.22              293.6                95   \n",
       "30198              282          28.88              280.9               207   \n",
       "30199               82          28.88              289.1               323   \n",
       "\n",
       "       Night_Call_Fee  Counseling_Calls  Cancellation_Status  \n",
       "0               32.89                 2                    0  \n",
       "1               32.32                 2                    0  \n",
       "2                8.28                 0                    0  \n",
       "3                9.36                 0                    0  \n",
       "4                2.80                 8                    0  \n",
       "...               ...               ...                  ...  \n",
       "30195            9.28                 2                    0  \n",
       "30196            6.28                 2                    0  \n",
       "30197            4.22                 2                    0  \n",
       "30198           20.88                 2                    1  \n",
       "30199            6.28                 0                    0  \n",
       "\n",
       "[30200 rows x 14 columns]"
      ]
     },
     "execution_count": 2,
     "metadata": {},
     "output_type": "execute_result"
    }
   ],
   "source": [
    "train = pd.read_csv('./train.csv')\n",
    "test = pd.read_csv('./test.csv')\n",
    "columns = ['ID',\n",
    "             'Subscription_Length',\n",
    "             'Voice_Mailbox_Usage',\n",
    "             'Early_Call_Length',\n",
    "             'Early_Calls_Freq',\n",
    "             'Early_Call_Fee',\n",
    "             'Late_Call_Length',\n",
    "             'Late_Calls_Freq',\n",
    "             'Late_Call_Fee',\n",
    "             'Night_Call_Length',\n",
    "             'Night_Calls_Freq',\n",
    "             'Night_Call_Fee',\n",
    "             'Counseling_Calls',\n",
    "             'Cancellation_Status']\n",
    "train.columns = columns\n",
    "test.columns = columns[:13]\n",
    "train"
   ]
  },
  {
   "cell_type": "code",
   "execution_count": 3,
   "id": "995a1209",
   "metadata": {},
   "outputs": [],
   "source": [
    "# main_time = []\n",
    "# for i in train.loc[:,['Early_Call_Length','Late_Call_Length','Night_Call_Length']].values:\n",
    "#     i = list(i)\n",
    "#     main_time.append(i.index(max(i)))\n",
    "# train['main_time'] = main_time    \n",
    "\n",
    "# main_time = []\n",
    "# for i in test.loc[:,['Early_Call_Length','Late_Call_Length','Night_Call_Length']].values:\n",
    "#     i = list(i)\n",
    "#     main_time.append(i.index(max(i)))\n",
    "# test['main_time'] = main_time    \n"
   ]
  },
  {
   "cell_type": "code",
   "execution_count": 4,
   "id": "68746bb0",
   "metadata": {},
   "outputs": [
    {
     "name": "stderr",
     "output_type": "stream",
     "text": [
      "C:\\Users\\user\\AppData\\Local\\Temp\\ipykernel_24608\\2189804198.py:1: FutureWarning: The default value of numeric_only in DataFrame.corr is deprecated. In a future version, it will default to False. Select only valid columns or specify the value of numeric_only to silence this warning.\n",
      "  train.corr()\n"
     ]
    },
    {
     "data": {
      "text/html": [
       "<div>\n",
       "<style scoped>\n",
       "    .dataframe tbody tr th:only-of-type {\n",
       "        vertical-align: middle;\n",
       "    }\n",
       "\n",
       "    .dataframe tbody tr th {\n",
       "        vertical-align: top;\n",
       "    }\n",
       "\n",
       "    .dataframe thead th {\n",
       "        text-align: right;\n",
       "    }\n",
       "</style>\n",
       "<table border=\"1\" class=\"dataframe\">\n",
       "  <thead>\n",
       "    <tr style=\"text-align: right;\">\n",
       "      <th></th>\n",
       "      <th>Subscription_Length</th>\n",
       "      <th>Voice_Mailbox_Usage</th>\n",
       "      <th>Early_Call_Length</th>\n",
       "      <th>Early_Calls_Freq</th>\n",
       "      <th>Early_Call_Fee</th>\n",
       "      <th>Late_Call_Length</th>\n",
       "      <th>Late_Calls_Freq</th>\n",
       "      <th>Late_Call_Fee</th>\n",
       "      <th>Night_Call_Length</th>\n",
       "      <th>Night_Calls_Freq</th>\n",
       "      <th>Night_Call_Fee</th>\n",
       "      <th>Counseling_Calls</th>\n",
       "      <th>Cancellation_Status</th>\n",
       "    </tr>\n",
       "  </thead>\n",
       "  <tbody>\n",
       "    <tr>\n",
       "      <th>Subscription_Length</th>\n",
       "      <td>1.000000</td>\n",
       "      <td>0.069771</td>\n",
       "      <td>0.190535</td>\n",
       "      <td>0.128138</td>\n",
       "      <td>0.118500</td>\n",
       "      <td>0.223365</td>\n",
       "      <td>0.119532</td>\n",
       "      <td>0.208486</td>\n",
       "      <td>0.256722</td>\n",
       "      <td>0.111628</td>\n",
       "      <td>0.064803</td>\n",
       "      <td>0.073547</td>\n",
       "      <td>0.006688</td>\n",
       "    </tr>\n",
       "    <tr>\n",
       "      <th>Voice_Mailbox_Usage</th>\n",
       "      <td>0.069771</td>\n",
       "      <td>1.000000</td>\n",
       "      <td>0.045449</td>\n",
       "      <td>0.031312</td>\n",
       "      <td>0.070361</td>\n",
       "      <td>0.067955</td>\n",
       "      <td>0.039927</td>\n",
       "      <td>0.065085</td>\n",
       "      <td>0.068964</td>\n",
       "      <td>0.052887</td>\n",
       "      <td>0.025955</td>\n",
       "      <td>0.010326</td>\n",
       "      <td>-0.062734</td>\n",
       "    </tr>\n",
       "    <tr>\n",
       "      <th>Early_Call_Length</th>\n",
       "      <td>0.190535</td>\n",
       "      <td>0.045449</td>\n",
       "      <td>1.000000</td>\n",
       "      <td>0.213815</td>\n",
       "      <td>0.336852</td>\n",
       "      <td>0.493299</td>\n",
       "      <td>0.239448</td>\n",
       "      <td>0.483473</td>\n",
       "      <td>0.508642</td>\n",
       "      <td>0.238676</td>\n",
       "      <td>0.177415</td>\n",
       "      <td>0.158215</td>\n",
       "      <td>0.029975</td>\n",
       "    </tr>\n",
       "    <tr>\n",
       "      <th>Early_Calls_Freq</th>\n",
       "      <td>0.128138</td>\n",
       "      <td>0.031312</td>\n",
       "      <td>0.213815</td>\n",
       "      <td>1.000000</td>\n",
       "      <td>0.100227</td>\n",
       "      <td>0.265814</td>\n",
       "      <td>0.147605</td>\n",
       "      <td>0.247990</td>\n",
       "      <td>0.289059</td>\n",
       "      <td>0.109052</td>\n",
       "      <td>0.102214</td>\n",
       "      <td>0.072544</td>\n",
       "      <td>0.010974</td>\n",
       "    </tr>\n",
       "    <tr>\n",
       "      <th>Early_Call_Fee</th>\n",
       "      <td>0.118500</td>\n",
       "      <td>0.070361</td>\n",
       "      <td>0.336852</td>\n",
       "      <td>0.100227</td>\n",
       "      <td>1.000000</td>\n",
       "      <td>0.219930</td>\n",
       "      <td>0.098014</td>\n",
       "      <td>0.216840</td>\n",
       "      <td>0.219115</td>\n",
       "      <td>0.126778</td>\n",
       "      <td>0.075288</td>\n",
       "      <td>0.102932</td>\n",
       "      <td>-0.071006</td>\n",
       "    </tr>\n",
       "    <tr>\n",
       "      <th>Late_Call_Length</th>\n",
       "      <td>0.223365</td>\n",
       "      <td>0.067955</td>\n",
       "      <td>0.493299</td>\n",
       "      <td>0.265814</td>\n",
       "      <td>0.219930</td>\n",
       "      <td>1.000000</td>\n",
       "      <td>0.280098</td>\n",
       "      <td>0.806827</td>\n",
       "      <td>0.605980</td>\n",
       "      <td>0.276678</td>\n",
       "      <td>0.210535</td>\n",
       "      <td>0.189158</td>\n",
       "      <td>-0.000163</td>\n",
       "    </tr>\n",
       "    <tr>\n",
       "      <th>Late_Calls_Freq</th>\n",
       "      <td>0.119532</td>\n",
       "      <td>0.039927</td>\n",
       "      <td>0.239448</td>\n",
       "      <td>0.147605</td>\n",
       "      <td>0.098014</td>\n",
       "      <td>0.280098</td>\n",
       "      <td>1.000000</td>\n",
       "      <td>0.278620</td>\n",
       "      <td>0.277744</td>\n",
       "      <td>0.135633</td>\n",
       "      <td>0.094207</td>\n",
       "      <td>0.080626</td>\n",
       "      <td>-0.004276</td>\n",
       "    </tr>\n",
       "    <tr>\n",
       "      <th>Late_Call_Fee</th>\n",
       "      <td>0.208486</td>\n",
       "      <td>0.065085</td>\n",
       "      <td>0.483473</td>\n",
       "      <td>0.247990</td>\n",
       "      <td>0.216840</td>\n",
       "      <td>0.806827</td>\n",
       "      <td>0.278620</td>\n",
       "      <td>1.000000</td>\n",
       "      <td>0.580330</td>\n",
       "      <td>0.272802</td>\n",
       "      <td>0.204482</td>\n",
       "      <td>0.189227</td>\n",
       "      <td>0.001711</td>\n",
       "    </tr>\n",
       "    <tr>\n",
       "      <th>Night_Call_Length</th>\n",
       "      <td>0.256722</td>\n",
       "      <td>0.068964</td>\n",
       "      <td>0.508642</td>\n",
       "      <td>0.289059</td>\n",
       "      <td>0.219115</td>\n",
       "      <td>0.605980</td>\n",
       "      <td>0.277744</td>\n",
       "      <td>0.580330</td>\n",
       "      <td>1.000000</td>\n",
       "      <td>0.286981</td>\n",
       "      <td>0.305315</td>\n",
       "      <td>0.191133</td>\n",
       "      <td>-0.002872</td>\n",
       "    </tr>\n",
       "    <tr>\n",
       "      <th>Night_Calls_Freq</th>\n",
       "      <td>0.111628</td>\n",
       "      <td>0.052887</td>\n",
       "      <td>0.238676</td>\n",
       "      <td>0.109052</td>\n",
       "      <td>0.126778</td>\n",
       "      <td>0.276678</td>\n",
       "      <td>0.135633</td>\n",
       "      <td>0.272802</td>\n",
       "      <td>0.286981</td>\n",
       "      <td>1.000000</td>\n",
       "      <td>0.083941</td>\n",
       "      <td>0.083491</td>\n",
       "      <td>-0.003121</td>\n",
       "    </tr>\n",
       "    <tr>\n",
       "      <th>Night_Call_Fee</th>\n",
       "      <td>0.064803</td>\n",
       "      <td>0.025955</td>\n",
       "      <td>0.177415</td>\n",
       "      <td>0.102214</td>\n",
       "      <td>0.075288</td>\n",
       "      <td>0.210535</td>\n",
       "      <td>0.094207</td>\n",
       "      <td>0.204482</td>\n",
       "      <td>0.305315</td>\n",
       "      <td>0.083941</td>\n",
       "      <td>1.000000</td>\n",
       "      <td>0.043592</td>\n",
       "      <td>0.014513</td>\n",
       "    </tr>\n",
       "    <tr>\n",
       "      <th>Counseling_Calls</th>\n",
       "      <td>0.073547</td>\n",
       "      <td>0.010326</td>\n",
       "      <td>0.158215</td>\n",
       "      <td>0.072544</td>\n",
       "      <td>0.102932</td>\n",
       "      <td>0.189158</td>\n",
       "      <td>0.080626</td>\n",
       "      <td>0.189227</td>\n",
       "      <td>0.191133</td>\n",
       "      <td>0.083491</td>\n",
       "      <td>0.043592</td>\n",
       "      <td>1.000000</td>\n",
       "      <td>0.057114</td>\n",
       "    </tr>\n",
       "    <tr>\n",
       "      <th>Cancellation_Status</th>\n",
       "      <td>0.006688</td>\n",
       "      <td>-0.062734</td>\n",
       "      <td>0.029975</td>\n",
       "      <td>0.010974</td>\n",
       "      <td>-0.071006</td>\n",
       "      <td>-0.000163</td>\n",
       "      <td>-0.004276</td>\n",
       "      <td>0.001711</td>\n",
       "      <td>-0.002872</td>\n",
       "      <td>-0.003121</td>\n",
       "      <td>0.014513</td>\n",
       "      <td>0.057114</td>\n",
       "      <td>1.000000</td>\n",
       "    </tr>\n",
       "  </tbody>\n",
       "</table>\n",
       "</div>"
      ],
      "text/plain": [
       "                     Subscription_Length  Voice_Mailbox_Usage  \\\n",
       "Subscription_Length             1.000000             0.069771   \n",
       "Voice_Mailbox_Usage             0.069771             1.000000   \n",
       "Early_Call_Length               0.190535             0.045449   \n",
       "Early_Calls_Freq                0.128138             0.031312   \n",
       "Early_Call_Fee                  0.118500             0.070361   \n",
       "Late_Call_Length                0.223365             0.067955   \n",
       "Late_Calls_Freq                 0.119532             0.039927   \n",
       "Late_Call_Fee                   0.208486             0.065085   \n",
       "Night_Call_Length               0.256722             0.068964   \n",
       "Night_Calls_Freq                0.111628             0.052887   \n",
       "Night_Call_Fee                  0.064803             0.025955   \n",
       "Counseling_Calls                0.073547             0.010326   \n",
       "Cancellation_Status             0.006688            -0.062734   \n",
       "\n",
       "                     Early_Call_Length  Early_Calls_Freq  Early_Call_Fee  \\\n",
       "Subscription_Length           0.190535          0.128138        0.118500   \n",
       "Voice_Mailbox_Usage           0.045449          0.031312        0.070361   \n",
       "Early_Call_Length             1.000000          0.213815        0.336852   \n",
       "Early_Calls_Freq              0.213815          1.000000        0.100227   \n",
       "Early_Call_Fee                0.336852          0.100227        1.000000   \n",
       "Late_Call_Length              0.493299          0.265814        0.219930   \n",
       "Late_Calls_Freq               0.239448          0.147605        0.098014   \n",
       "Late_Call_Fee                 0.483473          0.247990        0.216840   \n",
       "Night_Call_Length             0.508642          0.289059        0.219115   \n",
       "Night_Calls_Freq              0.238676          0.109052        0.126778   \n",
       "Night_Call_Fee                0.177415          0.102214        0.075288   \n",
       "Counseling_Calls              0.158215          0.072544        0.102932   \n",
       "Cancellation_Status           0.029975          0.010974       -0.071006   \n",
       "\n",
       "                     Late_Call_Length  Late_Calls_Freq  Late_Call_Fee  \\\n",
       "Subscription_Length          0.223365         0.119532       0.208486   \n",
       "Voice_Mailbox_Usage          0.067955         0.039927       0.065085   \n",
       "Early_Call_Length            0.493299         0.239448       0.483473   \n",
       "Early_Calls_Freq             0.265814         0.147605       0.247990   \n",
       "Early_Call_Fee               0.219930         0.098014       0.216840   \n",
       "Late_Call_Length             1.000000         0.280098       0.806827   \n",
       "Late_Calls_Freq              0.280098         1.000000       0.278620   \n",
       "Late_Call_Fee                0.806827         0.278620       1.000000   \n",
       "Night_Call_Length            0.605980         0.277744       0.580330   \n",
       "Night_Calls_Freq             0.276678         0.135633       0.272802   \n",
       "Night_Call_Fee               0.210535         0.094207       0.204482   \n",
       "Counseling_Calls             0.189158         0.080626       0.189227   \n",
       "Cancellation_Status         -0.000163        -0.004276       0.001711   \n",
       "\n",
       "                     Night_Call_Length  Night_Calls_Freq  Night_Call_Fee  \\\n",
       "Subscription_Length           0.256722          0.111628        0.064803   \n",
       "Voice_Mailbox_Usage           0.068964          0.052887        0.025955   \n",
       "Early_Call_Length             0.508642          0.238676        0.177415   \n",
       "Early_Calls_Freq              0.289059          0.109052        0.102214   \n",
       "Early_Call_Fee                0.219115          0.126778        0.075288   \n",
       "Late_Call_Length              0.605980          0.276678        0.210535   \n",
       "Late_Calls_Freq               0.277744          0.135633        0.094207   \n",
       "Late_Call_Fee                 0.580330          0.272802        0.204482   \n",
       "Night_Call_Length             1.000000          0.286981        0.305315   \n",
       "Night_Calls_Freq              0.286981          1.000000        0.083941   \n",
       "Night_Call_Fee                0.305315          0.083941        1.000000   \n",
       "Counseling_Calls              0.191133          0.083491        0.043592   \n",
       "Cancellation_Status          -0.002872         -0.003121        0.014513   \n",
       "\n",
       "                     Counseling_Calls  Cancellation_Status  \n",
       "Subscription_Length          0.073547             0.006688  \n",
       "Voice_Mailbox_Usage          0.010326            -0.062734  \n",
       "Early_Call_Length            0.158215             0.029975  \n",
       "Early_Calls_Freq             0.072544             0.010974  \n",
       "Early_Call_Fee               0.102932            -0.071006  \n",
       "Late_Call_Length             0.189158            -0.000163  \n",
       "Late_Calls_Freq              0.080626            -0.004276  \n",
       "Late_Call_Fee                0.189227             0.001711  \n",
       "Night_Call_Length            0.191133            -0.002872  \n",
       "Night_Calls_Freq             0.083491            -0.003121  \n",
       "Night_Call_Fee               0.043592             0.014513  \n",
       "Counseling_Calls             1.000000             0.057114  \n",
       "Cancellation_Status          0.057114             1.000000  "
      ]
     },
     "execution_count": 4,
     "metadata": {},
     "output_type": "execute_result"
    }
   ],
   "source": [
    "train.corr()"
   ]
  },
  {
   "cell_type": "code",
   "execution_count": 27,
   "id": "7302d6b0",
   "metadata": {
    "scrolled": false
   },
   "outputs": [
    {
     "name": "stderr",
     "output_type": "stream",
     "text": [
      "0it [00:00, ?it/s]C:\\Users\\user\\anaconda3\\envs\\pycaret\\lib\\site-packages\\catboost\\core.py:1411: FutureWarning: iteritems is deprecated and will be removed in a future version. Use .items instead.\n",
      "  self._init_pool(data, label, cat_features, text_features, embedding_features, embedding_features_data, pairs, weight,\n"
     ]
    },
    {
     "name": "stdout",
     "output_type": "stream",
     "text": [
      "Learning rate set to 0.071642\n",
      "0:\tlearn: 0.6354680\ttest: 0.6378351\tbest: 0.6378351 (0)\ttotal: 18.8ms\tremaining: 18.8s\n"
     ]
    },
    {
     "name": "stderr",
     "output_type": "stream",
     "text": [
      "\r",
      "1it [00:03,  3.76s/it]"
     ]
    },
    {
     "name": "stdout",
     "output_type": "stream",
     "text": [
      "999:\tlearn: 0.1331407\ttest: 0.2188393\tbest: 0.2188393 (999)\ttotal: 3.61s\tremaining: 0us\n",
      "\n",
      "bestTest = 0.2188393004\n",
      "bestIteration = 999\n",
      "\n",
      "F1 on fold 0: 0.4478\n",
      "Learning rate set to 0.071642\n",
      "0:\tlearn: 0.6361347\ttest: 0.6360815\tbest: 0.6360815 (0)\ttotal: 22.6ms\tremaining: 22.6s\n"
     ]
    },
    {
     "name": "stderr",
     "output_type": "stream",
     "text": [
      "C:\\Users\\user\\anaconda3\\envs\\pycaret\\lib\\site-packages\\catboost\\core.py:1411: FutureWarning: iteritems is deprecated and will be removed in a future version. Use .items instead.\n",
      "  self._init_pool(data, label, cat_features, text_features, embedding_features, embedding_features_data, pairs, weight,\n",
      "2it [00:07,  3.89s/it]"
     ]
    },
    {
     "name": "stdout",
     "output_type": "stream",
     "text": [
      "999:\tlearn: 0.1337667\ttest: 0.2104240\tbest: 0.2104240 (999)\ttotal: 3.83s\tremaining: 0us\n",
      "\n",
      "bestTest = 0.2104239889\n",
      "bestIteration = 999\n",
      "\n",
      "F1 on fold 1: 0.4055\n",
      "Learning rate set to 0.071642\n",
      "0:\tlearn: 0.6361965\ttest: 0.6360149\tbest: 0.6360149 (0)\ttotal: 41.4ms\tremaining: 41.4s\n"
     ]
    },
    {
     "name": "stderr",
     "output_type": "stream",
     "text": [
      "C:\\Users\\user\\anaconda3\\envs\\pycaret\\lib\\site-packages\\catboost\\core.py:1411: FutureWarning: iteritems is deprecated and will be removed in a future version. Use .items instead.\n",
      "  self._init_pool(data, label, cat_features, text_features, embedding_features, embedding_features_data, pairs, weight,\n",
      "3it [00:11,  3.86s/it]"
     ]
    },
    {
     "name": "stdout",
     "output_type": "stream",
     "text": [
      "999:\tlearn: 0.1340255\ttest: 0.2213547\tbest: 0.2213547 (999)\ttotal: 3.68s\tremaining: 0us\n",
      "\n",
      "bestTest = 0.2213547499\n",
      "bestIteration = 999\n",
      "\n",
      "F1 on fold 2: 0.3608\n",
      "Learning rate set to 0.071642\n",
      "0:\tlearn: 0.6365988\ttest: 0.6351472\tbest: 0.6351472 (0)\ttotal: 16.4ms\tremaining: 16.4s\n"
     ]
    },
    {
     "name": "stderr",
     "output_type": "stream",
     "text": [
      "C:\\Users\\user\\anaconda3\\envs\\pycaret\\lib\\site-packages\\catboost\\core.py:1411: FutureWarning: iteritems is deprecated and will be removed in a future version. Use .items instead.\n",
      "  self._init_pool(data, label, cat_features, text_features, embedding_features, embedding_features_data, pairs, weight,\n",
      "4it [00:15,  3.98s/it]"
     ]
    },
    {
     "name": "stdout",
     "output_type": "stream",
     "text": [
      "999:\tlearn: 0.1348473\ttest: 0.2067205\tbest: 0.2067205 (999)\ttotal: 3.98s\tremaining: 0us\n",
      "\n",
      "bestTest = 0.2067205129\n",
      "bestIteration = 999\n",
      "\n",
      "F1 on fold 3: 0.4206\n",
      "Learning rate set to 0.071642\n",
      "0:\tlearn: 0.6361993\ttest: 0.6361115\tbest: 0.6361115 (0)\ttotal: 4.8ms\tremaining: 4.8s\n"
     ]
    },
    {
     "name": "stderr",
     "output_type": "stream",
     "text": [
      "C:\\Users\\user\\anaconda3\\envs\\pycaret\\lib\\site-packages\\catboost\\core.py:1411: FutureWarning: iteritems is deprecated and will be removed in a future version. Use .items instead.\n",
      "  self._init_pool(data, label, cat_features, text_features, embedding_features, embedding_features_data, pairs, weight,\n",
      "5it [00:19,  4.01s/it]"
     ]
    },
    {
     "name": "stdout",
     "output_type": "stream",
     "text": [
      "999:\tlearn: 0.1329684\ttest: 0.1977196\tbest: 0.1977196 (999)\ttotal: 3.91s\tremaining: 0us\n",
      "\n",
      "bestTest = 0.1977195716\n",
      "bestIteration = 999\n",
      "\n",
      "F1 on fold 4: 0.4502\n",
      "Learning rate set to 0.071642\n",
      "0:\tlearn: 0.6360351\ttest: 0.6366169\tbest: 0.6366169 (0)\ttotal: 17.9ms\tremaining: 17.9s\n"
     ]
    },
    {
     "name": "stderr",
     "output_type": "stream",
     "text": [
      "C:\\Users\\user\\anaconda3\\envs\\pycaret\\lib\\site-packages\\catboost\\core.py:1411: FutureWarning: iteritems is deprecated and will be removed in a future version. Use .items instead.\n",
      "  self._init_pool(data, label, cat_features, text_features, embedding_features, embedding_features_data, pairs, weight,\n",
      "6it [00:23,  4.01s/it]"
     ]
    },
    {
     "name": "stdout",
     "output_type": "stream",
     "text": [
      "999:\tlearn: 0.1343960\ttest: 0.2047225\tbest: 0.2047225 (999)\ttotal: 3.84s\tremaining: 0us\n",
      "\n",
      "bestTest = 0.2047225411\n",
      "bestIteration = 999\n",
      "\n",
      "F1 on fold 5: 0.4406\n",
      "Learning rate set to 0.071642\n",
      "0:\tlearn: 0.6360845\ttest: 0.6362380\tbest: 0.6362380 (0)\ttotal: 4.8ms\tremaining: 4.8s\n"
     ]
    },
    {
     "name": "stderr",
     "output_type": "stream",
     "text": [
      "C:\\Users\\user\\anaconda3\\envs\\pycaret\\lib\\site-packages\\catboost\\core.py:1411: FutureWarning: iteritems is deprecated and will be removed in a future version. Use .items instead.\n",
      "  self._init_pool(data, label, cat_features, text_features, embedding_features, embedding_features_data, pairs, weight,\n",
      "7it [00:27,  4.00s/it]"
     ]
    },
    {
     "name": "stdout",
     "output_type": "stream",
     "text": [
      "999:\tlearn: 0.1309982\ttest: 0.2262980\tbest: 0.2262980 (999)\ttotal: 3.83s\tremaining: 0us\n",
      "\n",
      "bestTest = 0.2262979838\n",
      "bestIteration = 999\n",
      "\n",
      "F1 on fold 6: 0.3764\n",
      "Learning rate set to 0.071642\n",
      "0:\tlearn: 0.6362686\ttest: 0.6360715\tbest: 0.6360715 (0)\ttotal: 4.49ms\tremaining: 4.49s\n"
     ]
    },
    {
     "name": "stderr",
     "output_type": "stream",
     "text": [
      "C:\\Users\\user\\anaconda3\\envs\\pycaret\\lib\\site-packages\\catboost\\core.py:1411: FutureWarning: iteritems is deprecated and will be removed in a future version. Use .items instead.\n",
      "  self._init_pool(data, label, cat_features, text_features, embedding_features, embedding_features_data, pairs, weight,\n",
      "8it [00:31,  4.02s/it]"
     ]
    },
    {
     "name": "stdout",
     "output_type": "stream",
     "text": [
      "999:\tlearn: 0.1339896\ttest: 0.2106739\tbest: 0.2106739 (999)\ttotal: 3.9s\tremaining: 0us\n",
      "\n",
      "bestTest = 0.2106739277\n",
      "bestIteration = 999\n",
      "\n",
      "F1 on fold 7: 0.4054\n",
      "Learning rate set to 0.071642\n",
      "0:\tlearn: 0.6363223\ttest: 0.6358087\tbest: 0.6358087 (0)\ttotal: 4.32ms\tremaining: 4.32s\n"
     ]
    },
    {
     "name": "stderr",
     "output_type": "stream",
     "text": [
      "C:\\Users\\user\\anaconda3\\envs\\pycaret\\lib\\site-packages\\catboost\\core.py:1411: FutureWarning: iteritems is deprecated and will be removed in a future version. Use .items instead.\n",
      "  self._init_pool(data, label, cat_features, text_features, embedding_features, embedding_features_data, pairs, weight,\n",
      "9it [00:38,  4.90s/it]"
     ]
    },
    {
     "name": "stdout",
     "output_type": "stream",
     "text": [
      "999:\tlearn: 0.1344714\ttest: 0.2046399\tbest: 0.2046399 (999)\ttotal: 6.59s\tremaining: 0us\n",
      "\n",
      "bestTest = 0.2046398635\n",
      "bestIteration = 999\n",
      "\n",
      "F1 on fold 8: 0.3636\n",
      "Learning rate set to 0.071642\n",
      "0:\tlearn: 0.6359092\ttest: 0.6369066\tbest: 0.6369066 (0)\ttotal: 22.1ms\tremaining: 22.1s\n"
     ]
    },
    {
     "name": "stderr",
     "output_type": "stream",
     "text": [
      "C:\\Users\\user\\anaconda3\\envs\\pycaret\\lib\\site-packages\\catboost\\core.py:1411: FutureWarning: iteritems is deprecated and will be removed in a future version. Use .items instead.\n",
      "  self._init_pool(data, label, cat_features, text_features, embedding_features, embedding_features_data, pairs, weight,\n",
      "10it [00:47,  5.97s/it]"
     ]
    },
    {
     "name": "stdout",
     "output_type": "stream",
     "text": [
      "999:\tlearn: 0.1335784\ttest: 0.2145690\tbest: 0.2145690 (999)\ttotal: 8s\tremaining: 0us\n",
      "\n",
      "bestTest = 0.2145689945\n",
      "bestIteration = 999\n",
      "\n",
      "F1 on fold 9: 0.3660\n",
      "Learning rate set to 0.071642\n",
      "0:\tlearn: 0.6362085\ttest: 0.6357131\tbest: 0.6357131 (0)\ttotal: 5.72ms\tremaining: 5.72s\n"
     ]
    },
    {
     "name": "stderr",
     "output_type": "stream",
     "text": [
      "C:\\Users\\user\\anaconda3\\envs\\pycaret\\lib\\site-packages\\catboost\\core.py:1411: FutureWarning: iteritems is deprecated and will be removed in a future version. Use .items instead.\n",
      "  self._init_pool(data, label, cat_features, text_features, embedding_features, embedding_features_data, pairs, weight,\n",
      "11it [00:55,  6.60s/it]"
     ]
    },
    {
     "name": "stdout",
     "output_type": "stream",
     "text": [
      "999:\tlearn: 0.1339480\ttest: 0.2195688\tbest: 0.2195688 (999)\ttotal: 7.68s\tremaining: 0us\n",
      "\n",
      "bestTest = 0.2195688266\n",
      "bestIteration = 999\n",
      "\n",
      "F1 on fold 10: 0.3829\n",
      "Learning rate set to 0.071642\n",
      "0:\tlearn: 0.6363068\ttest: 0.6357648\tbest: 0.6357648 (0)\ttotal: 33.8ms\tremaining: 33.8s\n"
     ]
    },
    {
     "name": "stderr",
     "output_type": "stream",
     "text": [
      "C:\\Users\\user\\anaconda3\\envs\\pycaret\\lib\\site-packages\\catboost\\core.py:1411: FutureWarning: iteritems is deprecated and will be removed in a future version. Use .items instead.\n",
      "  self._init_pool(data, label, cat_features, text_features, embedding_features, embedding_features_data, pairs, weight,\n",
      "12it [01:03,  7.23s/it]"
     ]
    },
    {
     "name": "stdout",
     "output_type": "stream",
     "text": [
      "999:\tlearn: 0.1349876\ttest: 0.2125017\tbest: 0.2124658 (993)\ttotal: 8.28s\tremaining: 0us\n",
      "\n",
      "bestTest = 0.212465798\n",
      "bestIteration = 993\n",
      "\n",
      "Shrink model to first 994 iterations.\n",
      "F1 on fold 11: 0.4146\n",
      "Learning rate set to 0.071642\n",
      "0:\tlearn: 0.6361740\ttest: 0.6361927\tbest: 0.6361927 (0)\ttotal: 58ms\tremaining: 57.9s\n"
     ]
    },
    {
     "name": "stderr",
     "output_type": "stream",
     "text": [
      "C:\\Users\\user\\anaconda3\\envs\\pycaret\\lib\\site-packages\\catboost\\core.py:1411: FutureWarning: iteritems is deprecated and will be removed in a future version. Use .items instead.\n",
      "  self._init_pool(data, label, cat_features, text_features, embedding_features, embedding_features_data, pairs, weight,\n",
      "13it [01:11,  7.46s/it]"
     ]
    },
    {
     "name": "stdout",
     "output_type": "stream",
     "text": [
      "999:\tlearn: 0.1332998\ttest: 0.2058821\tbest: 0.2058552 (995)\ttotal: 7.67s\tremaining: 0us\n",
      "\n",
      "bestTest = 0.2058552341\n",
      "bestIteration = 995\n",
      "\n",
      "Shrink model to first 996 iterations.\n",
      "F1 on fold 12: 0.4035\n",
      "Learning rate set to 0.071642\n",
      "0:\tlearn: 0.6357634\ttest: 0.6370890\tbest: 0.6370890 (0)\ttotal: 16.3ms\tremaining: 16.3s\n"
     ]
    },
    {
     "name": "stderr",
     "output_type": "stream",
     "text": [
      "C:\\Users\\user\\anaconda3\\envs\\pycaret\\lib\\site-packages\\catboost\\core.py:1411: FutureWarning: iteritems is deprecated and will be removed in a future version. Use .items instead.\n",
      "  self._init_pool(data, label, cat_features, text_features, embedding_features, embedding_features_data, pairs, weight,\n",
      "14it [01:19,  7.58s/it]"
     ]
    },
    {
     "name": "stdout",
     "output_type": "stream",
     "text": [
      "999:\tlearn: 0.1331283\ttest: 0.2238222\tbest: 0.2238222 (999)\ttotal: 7.43s\tremaining: 0us\n",
      "\n",
      "bestTest = 0.2238221894\n",
      "bestIteration = 999\n",
      "\n",
      "F1 on fold 13: 0.3859\n",
      "Learning rate set to 0.071642\n",
      "0:\tlearn: 0.6353102\ttest: 0.6380833\tbest: 0.6380833 (0)\ttotal: 5.51ms\tremaining: 5.51s\n"
     ]
    },
    {
     "name": "stderr",
     "output_type": "stream",
     "text": [
      "C:\\Users\\user\\anaconda3\\envs\\pycaret\\lib\\site-packages\\catboost\\core.py:1411: FutureWarning: iteritems is deprecated and will be removed in a future version. Use .items instead.\n",
      "  self._init_pool(data, label, cat_features, text_features, embedding_features, embedding_features_data, pairs, weight,\n",
      "15it [01:27,  7.65s/it]"
     ]
    },
    {
     "name": "stdout",
     "output_type": "stream",
     "text": [
      "999:\tlearn: 0.1323786\ttest: 0.2252500\tbest: 0.2252500 (999)\ttotal: 7.42s\tremaining: 0us\n",
      "\n",
      "bestTest = 0.2252500289\n",
      "bestIteration = 999\n",
      "\n",
      "F1 on fold 14: 0.4537\n",
      "Learning rate set to 0.071642\n",
      "0:\tlearn: 0.6364707\ttest: 0.6354093\tbest: 0.6354093 (0)\ttotal: 5.97ms\tremaining: 5.96s\n"
     ]
    },
    {
     "name": "stderr",
     "output_type": "stream",
     "text": [
      "C:\\Users\\user\\anaconda3\\envs\\pycaret\\lib\\site-packages\\catboost\\core.py:1411: FutureWarning: iteritems is deprecated and will be removed in a future version. Use .items instead.\n",
      "  self._init_pool(data, label, cat_features, text_features, embedding_features, embedding_features_data, pairs, weight,\n",
      "16it [01:35,  7.68s/it]"
     ]
    },
    {
     "name": "stdout",
     "output_type": "stream",
     "text": [
      "999:\tlearn: 0.1339416\ttest: 0.2107529\tbest: 0.2107241 (998)\ttotal: 7.43s\tremaining: 0us\n",
      "\n",
      "bestTest = 0.2107240985\n",
      "bestIteration = 998\n",
      "\n",
      "Shrink model to first 999 iterations.\n",
      "F1 on fold 15: 0.3911\n",
      "Learning rate set to 0.071642\n",
      "0:\tlearn: 0.6359573\ttest: 0.6368508\tbest: 0.6368508 (0)\ttotal: 13.4ms\tremaining: 13.4s\n"
     ]
    },
    {
     "name": "stderr",
     "output_type": "stream",
     "text": [
      "C:\\Users\\user\\anaconda3\\envs\\pycaret\\lib\\site-packages\\catboost\\core.py:1411: FutureWarning: iteritems is deprecated and will be removed in a future version. Use .items instead.\n",
      "  self._init_pool(data, label, cat_features, text_features, embedding_features, embedding_features_data, pairs, weight,\n",
      "17it [01:42,  7.69s/it]"
     ]
    },
    {
     "name": "stdout",
     "output_type": "stream",
     "text": [
      "999:\tlearn: 0.1341858\ttest: 0.1957216\tbest: 0.1957216 (999)\ttotal: 7.33s\tremaining: 0us\n",
      "\n",
      "bestTest = 0.1957216253\n",
      "bestIteration = 999\n",
      "\n",
      "F1 on fold 16: 0.4276\n",
      "Learning rate set to 0.071642\n",
      "0:\tlearn: 0.6362795\ttest: 0.6357046\tbest: 0.6357046 (0)\ttotal: 21.2ms\tremaining: 21.2s\n"
     ]
    },
    {
     "name": "stderr",
     "output_type": "stream",
     "text": [
      "C:\\Users\\user\\anaconda3\\envs\\pycaret\\lib\\site-packages\\catboost\\core.py:1411: FutureWarning: iteritems is deprecated and will be removed in a future version. Use .items instead.\n",
      "  self._init_pool(data, label, cat_features, text_features, embedding_features, embedding_features_data, pairs, weight,\n",
      "18it [01:50,  7.77s/it]"
     ]
    },
    {
     "name": "stdout",
     "output_type": "stream",
     "text": [
      "999:\tlearn: 0.1333031\ttest: 0.2217769\tbest: 0.2217769 (999)\ttotal: 7.61s\tremaining: 0us\n",
      "\n",
      "bestTest = 0.2217768516\n",
      "bestIteration = 999\n",
      "\n",
      "F1 on fold 17: 0.3488\n",
      "Learning rate set to 0.071642\n",
      "0:\tlearn: 0.6360231\ttest: 0.6365975\tbest: 0.6365975 (0)\ttotal: 5.53ms\tremaining: 5.53s\n"
     ]
    },
    {
     "name": "stderr",
     "output_type": "stream",
     "text": [
      "C:\\Users\\user\\anaconda3\\envs\\pycaret\\lib\\site-packages\\catboost\\core.py:1411: FutureWarning: iteritems is deprecated and will be removed in a future version. Use .items instead.\n",
      "  self._init_pool(data, label, cat_features, text_features, embedding_features, embedding_features_data, pairs, weight,\n",
      "19it [01:58,  7.75s/it]"
     ]
    },
    {
     "name": "stdout",
     "output_type": "stream",
     "text": [
      "999:\tlearn: 0.1342942\ttest: 0.2073126\tbest: 0.2073126 (999)\ttotal: 7.39s\tremaining: 0us\n",
      "\n",
      "bestTest = 0.2073126115\n",
      "bestIteration = 999\n",
      "\n",
      "F1 on fold 18: 0.4060\n",
      "Learning rate set to 0.071642\n",
      "0:\tlearn: 0.6365685\ttest: 0.6352688\tbest: 0.6352688 (0)\ttotal: 6.03ms\tremaining: 6.02s\n"
     ]
    },
    {
     "name": "stderr",
     "output_type": "stream",
     "text": [
      "C:\\Users\\user\\anaconda3\\envs\\pycaret\\lib\\site-packages\\catboost\\core.py:1411: FutureWarning: iteritems is deprecated and will be removed in a future version. Use .items instead.\n",
      "  self._init_pool(data, label, cat_features, text_features, embedding_features, embedding_features_data, pairs, weight,\n",
      "20it [02:06,  7.71s/it]"
     ]
    },
    {
     "name": "stdout",
     "output_type": "stream",
     "text": [
      "999:\tlearn: 0.1350096\ttest: 0.1976041\tbest: 0.1976041 (999)\ttotal: 7.27s\tremaining: 0us\n",
      "\n",
      "bestTest = 0.1976041328\n",
      "bestIteration = 999\n",
      "\n",
      "F1 on fold 19: 0.4208\n",
      "Learning rate set to 0.071642\n",
      "0:\tlearn: 0.6366216\ttest: 0.6350274\tbest: 0.6350274 (0)\ttotal: 5.5ms\tremaining: 5.5s\n"
     ]
    },
    {
     "name": "stderr",
     "output_type": "stream",
     "text": [
      "C:\\Users\\user\\anaconda3\\envs\\pycaret\\lib\\site-packages\\catboost\\core.py:1411: FutureWarning: iteritems is deprecated and will be removed in a future version. Use .items instead.\n",
      "  self._init_pool(data, label, cat_features, text_features, embedding_features, embedding_features_data, pairs, weight,\n",
      "21it [02:13,  7.74s/it]"
     ]
    },
    {
     "name": "stdout",
     "output_type": "stream",
     "text": [
      "999:\tlearn: 0.1338881\ttest: 0.2006165\tbest: 0.2006165 (999)\ttotal: 7.43s\tremaining: 0us\n",
      "\n",
      "bestTest = 0.2006164772\n",
      "bestIteration = 999\n",
      "\n",
      "F1 on fold 20: 0.4029\n",
      "Learning rate set to 0.071642\n",
      "0:\tlearn: 0.6357183\ttest: 0.6369140\tbest: 0.6369140 (0)\ttotal: 5.61ms\tremaining: 5.61s\n"
     ]
    },
    {
     "name": "stderr",
     "output_type": "stream",
     "text": [
      "C:\\Users\\user\\anaconda3\\envs\\pycaret\\lib\\site-packages\\catboost\\core.py:1411: FutureWarning: iteritems is deprecated and will be removed in a future version. Use .items instead.\n",
      "  self._init_pool(data, label, cat_features, text_features, embedding_features, embedding_features_data, pairs, weight,\n",
      "22it [02:21,  7.70s/it]"
     ]
    },
    {
     "name": "stdout",
     "output_type": "stream",
     "text": [
      "999:\tlearn: 0.1324837\ttest: 0.2171208\tbest: 0.2171208 (999)\ttotal: 7.24s\tremaining: 0us\n",
      "\n",
      "bestTest = 0.2171207552\n",
      "bestIteration = 999\n",
      "\n",
      "F1 on fold 21: 0.4336\n",
      "Learning rate set to 0.071642\n",
      "0:\tlearn: 0.6359948\ttest: 0.6367803\tbest: 0.6367803 (0)\ttotal: 5.5ms\tremaining: 5.5s\n"
     ]
    },
    {
     "name": "stderr",
     "output_type": "stream",
     "text": [
      "C:\\Users\\user\\anaconda3\\envs\\pycaret\\lib\\site-packages\\catboost\\core.py:1411: FutureWarning: iteritems is deprecated and will be removed in a future version. Use .items instead.\n",
      "  self._init_pool(data, label, cat_features, text_features, embedding_features, embedding_features_data, pairs, weight,\n",
      "23it [02:29,  7.72s/it]"
     ]
    },
    {
     "name": "stdout",
     "output_type": "stream",
     "text": [
      "999:\tlearn: 0.1340107\ttest: 0.2098462\tbest: 0.2098462 (999)\ttotal: 7.4s\tremaining: 0us\n",
      "\n",
      "bestTest = 0.2098462082\n",
      "bestIteration = 999\n",
      "\n",
      "F1 on fold 22: 0.4286\n",
      "Learning rate set to 0.071642\n",
      "0:\tlearn: 0.6358190\ttest: 0.6372448\tbest: 0.6372448 (0)\ttotal: 8.59ms\tremaining: 8.58s\n"
     ]
    },
    {
     "name": "stderr",
     "output_type": "stream",
     "text": [
      "C:\\Users\\user\\anaconda3\\envs\\pycaret\\lib\\site-packages\\catboost\\core.py:1411: FutureWarning: iteritems is deprecated and will be removed in a future version. Use .items instead.\n",
      "  self._init_pool(data, label, cat_features, text_features, embedding_features, embedding_features_data, pairs, weight,\n",
      "24it [02:36,  7.70s/it]"
     ]
    },
    {
     "name": "stdout",
     "output_type": "stream",
     "text": [
      "999:\tlearn: 0.1319910\ttest: 0.2221675\tbest: 0.2221513 (998)\ttotal: 7.32s\tremaining: 0us\n",
      "\n",
      "bestTest = 0.2221513393\n",
      "bestIteration = 998\n",
      "\n",
      "Shrink model to first 999 iterations.\n",
      "F1 on fold 23: 0.3941\n",
      "Learning rate set to 0.071642\n",
      "0:\tlearn: 0.6363496\ttest: 0.6356369\tbest: 0.6356369 (0)\ttotal: 17.1ms\tremaining: 17.1s\n"
     ]
    },
    {
     "name": "stderr",
     "output_type": "stream",
     "text": [
      "C:\\Users\\user\\anaconda3\\envs\\pycaret\\lib\\site-packages\\catboost\\core.py:1411: FutureWarning: iteritems is deprecated and will be removed in a future version. Use .items instead.\n",
      "  self._init_pool(data, label, cat_features, text_features, embedding_features, embedding_features_data, pairs, weight,\n",
      "25it [02:44,  7.67s/it]"
     ]
    },
    {
     "name": "stdout",
     "output_type": "stream",
     "text": [
      "999:\tlearn: 0.1348811\ttest: 0.2135157\tbest: 0.2135157 (999)\ttotal: 7.24s\tremaining: 0us\n",
      "\n",
      "bestTest = 0.2135157272\n",
      "bestIteration = 999\n",
      "\n",
      "F1 on fold 24: 0.4136\n",
      "Learning rate set to 0.071642\n",
      "0:\tlearn: 0.6363673\ttest: 0.6358466\tbest: 0.6358466 (0)\ttotal: 35ms\tremaining: 35s\n"
     ]
    },
    {
     "name": "stderr",
     "output_type": "stream",
     "text": [
      "C:\\Users\\user\\anaconda3\\envs\\pycaret\\lib\\site-packages\\catboost\\core.py:1411: FutureWarning: iteritems is deprecated and will be removed in a future version. Use .items instead.\n",
      "  self._init_pool(data, label, cat_features, text_features, embedding_features, embedding_features_data, pairs, weight,\n",
      "26it [02:52,  7.67s/it]"
     ]
    },
    {
     "name": "stdout",
     "output_type": "stream",
     "text": [
      "999:\tlearn: 0.1342272\ttest: 0.2012111\tbest: 0.2012111 (999)\ttotal: 7.31s\tremaining: 0us\n",
      "\n",
      "bestTest = 0.2012110916\n",
      "bestIteration = 999\n",
      "\n",
      "F1 on fold 25: 0.4406\n",
      "Learning rate set to 0.071642\n",
      "0:\tlearn: 0.6362942\ttest: 0.6359841\tbest: 0.6359841 (0)\ttotal: 7.77ms\tremaining: 7.76s\n"
     ]
    },
    {
     "name": "stderr",
     "output_type": "stream",
     "text": [
      "C:\\Users\\user\\anaconda3\\envs\\pycaret\\lib\\site-packages\\catboost\\core.py:1411: FutureWarning: iteritems is deprecated and will be removed in a future version. Use .items instead.\n",
      "  self._init_pool(data, label, cat_features, text_features, embedding_features, embedding_features_data, pairs, weight,\n",
      "27it [03:00,  7.72s/it]"
     ]
    },
    {
     "name": "stdout",
     "output_type": "stream",
     "text": [
      "999:\tlearn: 0.1365258\ttest: 0.1997121\tbest: 0.1997121 (999)\ttotal: 7.51s\tremaining: 0us\n",
      "\n",
      "bestTest = 0.1997120544\n",
      "bestIteration = 999\n",
      "\n",
      "F1 on fold 26: 0.3926\n",
      "Learning rate set to 0.071642\n",
      "0:\tlearn: 0.6357726\ttest: 0.6366966\tbest: 0.6366966 (0)\ttotal: 13.4ms\tremaining: 13.4s\n"
     ]
    },
    {
     "name": "stderr",
     "output_type": "stream",
     "text": [
      "C:\\Users\\user\\anaconda3\\envs\\pycaret\\lib\\site-packages\\catboost\\core.py:1411: FutureWarning: iteritems is deprecated and will be removed in a future version. Use .items instead.\n",
      "  self._init_pool(data, label, cat_features, text_features, embedding_features, embedding_features_data, pairs, weight,\n",
      "28it [03:07,  7.65s/it]"
     ]
    },
    {
     "name": "stdout",
     "output_type": "stream",
     "text": [
      "999:\tlearn: 0.1343850\ttest: 0.2141307\tbest: 0.2141307 (999)\ttotal: 7.16s\tremaining: 0us\n",
      "\n",
      "bestTest = 0.2141307279\n",
      "bestIteration = 999\n",
      "\n",
      "F1 on fold 27: 0.4193\n",
      "Learning rate set to 0.071642\n",
      "0:\tlearn: 0.6360926\ttest: 0.6363468\tbest: 0.6363468 (0)\ttotal: 18.5ms\tremaining: 18.4s\n"
     ]
    },
    {
     "name": "stderr",
     "output_type": "stream",
     "text": [
      "C:\\Users\\user\\anaconda3\\envs\\pycaret\\lib\\site-packages\\catboost\\core.py:1411: FutureWarning: iteritems is deprecated and will be removed in a future version. Use .items instead.\n",
      "  self._init_pool(data, label, cat_features, text_features, embedding_features, embedding_features_data, pairs, weight,\n",
      "29it [03:15,  7.67s/it]"
     ]
    },
    {
     "name": "stdout",
     "output_type": "stream",
     "text": [
      "999:\tlearn: 0.1341479\ttest: 0.2156844\tbest: 0.2156844 (999)\ttotal: 7.38s\tremaining: 0us\n",
      "\n",
      "bestTest = 0.2156844322\n",
      "bestIteration = 999\n",
      "\n",
      "F1 on fold 28: 0.4026\n",
      "Learning rate set to 0.071642\n",
      "0:\tlearn: 0.6361854\ttest: 0.6362646\tbest: 0.6362646 (0)\ttotal: 29.4ms\tremaining: 29.4s\n"
     ]
    },
    {
     "name": "stderr",
     "output_type": "stream",
     "text": [
      "C:\\Users\\user\\anaconda3\\envs\\pycaret\\lib\\site-packages\\catboost\\core.py:1411: FutureWarning: iteritems is deprecated and will be removed in a future version. Use .items instead.\n",
      "  self._init_pool(data, label, cat_features, text_features, embedding_features, embedding_features_data, pairs, weight,\n",
      "30it [03:23,  7.72s/it]"
     ]
    },
    {
     "name": "stdout",
     "output_type": "stream",
     "text": [
      "999:\tlearn: 0.1334414\ttest: 0.2159730\tbest: 0.2159730 (999)\ttotal: 7.47s\tremaining: 0us\n",
      "\n",
      "bestTest = 0.2159730057\n",
      "bestIteration = 999\n",
      "\n",
      "F1 on fold 29: 0.3946\n",
      "Learning rate set to 0.071642\n",
      "0:\tlearn: 0.6359874\ttest: 0.6365715\tbest: 0.6365715 (0)\ttotal: 6.07ms\tremaining: 6.07s\n"
     ]
    },
    {
     "name": "stderr",
     "output_type": "stream",
     "text": [
      "C:\\Users\\user\\anaconda3\\envs\\pycaret\\lib\\site-packages\\catboost\\core.py:1411: FutureWarning: iteritems is deprecated and will be removed in a future version. Use .items instead.\n",
      "  self._init_pool(data, label, cat_features, text_features, embedding_features, embedding_features_data, pairs, weight,\n",
      "31it [03:30,  7.73s/it]"
     ]
    },
    {
     "name": "stdout",
     "output_type": "stream",
     "text": [
      "999:\tlearn: 0.1338929\ttest: 0.2134926\tbest: 0.2134658 (998)\ttotal: 7.42s\tremaining: 0us\n",
      "\n",
      "bestTest = 0.2134658457\n",
      "bestIteration = 998\n",
      "\n",
      "Shrink model to first 999 iterations.\n",
      "F1 on fold 30: 0.4084\n",
      "Learning rate set to 0.071642\n",
      "0:\tlearn: 0.6360165\ttest: 0.6360843\tbest: 0.6360843 (0)\ttotal: 18.3ms\tremaining: 18.3s\n"
     ]
    },
    {
     "name": "stderr",
     "output_type": "stream",
     "text": [
      "C:\\Users\\user\\anaconda3\\envs\\pycaret\\lib\\site-packages\\catboost\\core.py:1411: FutureWarning: iteritems is deprecated and will be removed in a future version. Use .items instead.\n",
      "  self._init_pool(data, label, cat_features, text_features, embedding_features, embedding_features_data, pairs, weight,\n",
      "32it [03:39,  7.90s/it]"
     ]
    },
    {
     "name": "stdout",
     "output_type": "stream",
     "text": [
      "999:\tlearn: 0.1333667\ttest: 0.2224186\tbest: 0.2224186 (999)\ttotal: 7.93s\tremaining: 0us\n",
      "\n",
      "bestTest = 0.2224186122\n",
      "bestIteration = 999\n",
      "\n",
      "F1 on fold 31: 0.3209\n",
      "Learning rate set to 0.071642\n",
      "0:\tlearn: 0.6359950\ttest: 0.6367528\tbest: 0.6367528 (0)\ttotal: 57.1ms\tremaining: 57s\n"
     ]
    },
    {
     "name": "stderr",
     "output_type": "stream",
     "text": [
      "C:\\Users\\user\\anaconda3\\envs\\pycaret\\lib\\site-packages\\catboost\\core.py:1411: FutureWarning: iteritems is deprecated and will be removed in a future version. Use .items instead.\n",
      "  self._init_pool(data, label, cat_features, text_features, embedding_features, embedding_features_data, pairs, weight,\n",
      "33it [03:47,  7.88s/it]"
     ]
    },
    {
     "name": "stdout",
     "output_type": "stream",
     "text": [
      "999:\tlearn: 0.1318165\ttest: 0.2281812\tbest: 0.2281246 (997)\ttotal: 7.51s\tremaining: 0us\n",
      "\n",
      "bestTest = 0.228124599\n",
      "bestIteration = 997\n",
      "\n",
      "Shrink model to first 998 iterations.\n",
      "F1 on fold 32: 0.3941\n",
      "Learning rate set to 0.071642\n",
      "0:\tlearn: 0.6363866\ttest: 0.6353650\tbest: 0.6353650 (0)\ttotal: 6.38ms\tremaining: 6.38s\n"
     ]
    },
    {
     "name": "stderr",
     "output_type": "stream",
     "text": [
      "C:\\Users\\user\\anaconda3\\envs\\pycaret\\lib\\site-packages\\catboost\\core.py:1411: FutureWarning: iteritems is deprecated and will be removed in a future version. Use .items instead.\n",
      "  self._init_pool(data, label, cat_features, text_features, embedding_features, embedding_features_data, pairs, weight,\n",
      "34it [03:54,  7.90s/it]"
     ]
    },
    {
     "name": "stdout",
     "output_type": "stream",
     "text": [
      "999:\tlearn: 0.1339544\ttest: 0.1980483\tbest: 0.1980483 (999)\ttotal: 7.61s\tremaining: 0us\n",
      "\n",
      "bestTest = 0.198048287\n",
      "bestIteration = 999\n",
      "\n",
      "F1 on fold 33: 0.4227\n",
      "Learning rate set to 0.071642\n",
      "0:\tlearn: 0.6359883\ttest: 0.6365440\tbest: 0.6365440 (0)\ttotal: 55.2ms\tremaining: 55.1s\n"
     ]
    },
    {
     "name": "stderr",
     "output_type": "stream",
     "text": [
      "C:\\Users\\user\\anaconda3\\envs\\pycaret\\lib\\site-packages\\catboost\\core.py:1411: FutureWarning: iteritems is deprecated and will be removed in a future version. Use .items instead.\n",
      "  self._init_pool(data, label, cat_features, text_features, embedding_features, embedding_features_data, pairs, weight,\n",
      "35it [03:59,  6.97s/it]"
     ]
    },
    {
     "name": "stdout",
     "output_type": "stream",
     "text": [
      "999:\tlearn: 0.1351164\ttest: 0.2167088\tbest: 0.2167088 (999)\ttotal: 4.61s\tremaining: 0us\n",
      "\n",
      "bestTest = 0.2167088341\n",
      "bestIteration = 999\n",
      "\n",
      "F1 on fold 34: 0.4052\n",
      "Learning rate set to 0.071642\n",
      "0:\tlearn: 0.6356547\ttest: 0.6375632\tbest: 0.6375632 (0)\ttotal: 6.79ms\tremaining: 6.78s\n"
     ]
    },
    {
     "name": "stderr",
     "output_type": "stream",
     "text": [
      "C:\\Users\\user\\anaconda3\\envs\\pycaret\\lib\\site-packages\\catboost\\core.py:1411: FutureWarning: iteritems is deprecated and will be removed in a future version. Use .items instead.\n",
      "  self._init_pool(data, label, cat_features, text_features, embedding_features, embedding_features_data, pairs, weight,\n",
      "36it [04:03,  6.13s/it]"
     ]
    },
    {
     "name": "stdout",
     "output_type": "stream",
     "text": [
      "999:\tlearn: 0.1345192\ttest: 0.2097176\tbest: 0.2097092 (998)\ttotal: 3.98s\tremaining: 0us\n",
      "\n",
      "bestTest = 0.2097092428\n",
      "bestIteration = 998\n",
      "\n",
      "Shrink model to first 999 iterations.\n",
      "F1 on fold 35: 0.4372\n",
      "Learning rate set to 0.071642\n",
      "0:\tlearn: 0.6363505\ttest: 0.6356600\tbest: 0.6356600 (0)\ttotal: 12.5ms\tremaining: 12.5s\n"
     ]
    },
    {
     "name": "stderr",
     "output_type": "stream",
     "text": [
      "C:\\Users\\user\\anaconda3\\envs\\pycaret\\lib\\site-packages\\catboost\\core.py:1411: FutureWarning: iteritems is deprecated and will be removed in a future version. Use .items instead.\n",
      "  self._init_pool(data, label, cat_features, text_features, embedding_features, embedding_features_data, pairs, weight,\n",
      "37it [04:08,  5.54s/it]"
     ]
    },
    {
     "name": "stdout",
     "output_type": "stream",
     "text": [
      "999:\tlearn: 0.1331391\ttest: 0.2074137\tbest: 0.2074022 (990)\ttotal: 4.02s\tremaining: 0us\n",
      "\n",
      "bestTest = 0.2074022033\n",
      "bestIteration = 990\n",
      "\n",
      "Shrink model to first 991 iterations.\n",
      "F1 on fold 36: 0.3907\n",
      "Learning rate set to 0.071642\n",
      "0:\tlearn: 0.6363243\ttest: 0.6357634\tbest: 0.6357634 (0)\ttotal: 14.5ms\tremaining: 14.5s\n"
     ]
    },
    {
     "name": "stderr",
     "output_type": "stream",
     "text": [
      "C:\\Users\\user\\anaconda3\\envs\\pycaret\\lib\\site-packages\\catboost\\core.py:1411: FutureWarning: iteritems is deprecated and will be removed in a future version. Use .items instead.\n",
      "  self._init_pool(data, label, cat_features, text_features, embedding_features, embedding_features_data, pairs, weight,\n",
      "38it [04:12,  5.17s/it]"
     ]
    },
    {
     "name": "stdout",
     "output_type": "stream",
     "text": [
      "999:\tlearn: 0.1332239\ttest: 0.2012759\tbest: 0.2012558 (996)\ttotal: 4.12s\tremaining: 0us\n",
      "\n",
      "bestTest = 0.2012558351\n",
      "bestIteration = 996\n",
      "\n",
      "Shrink model to first 997 iterations.\n",
      "F1 on fold 37: 0.4574\n",
      "Learning rate set to 0.071642\n",
      "0:\tlearn: 0.6363059\ttest: 0.6360450\tbest: 0.6360450 (0)\ttotal: 4.21ms\tremaining: 4.21s\n"
     ]
    },
    {
     "name": "stderr",
     "output_type": "stream",
     "text": [
      "C:\\Users\\user\\anaconda3\\envs\\pycaret\\lib\\site-packages\\catboost\\core.py:1411: FutureWarning: iteritems is deprecated and will be removed in a future version. Use .items instead.\n",
      "  self._init_pool(data, label, cat_features, text_features, embedding_features, embedding_features_data, pairs, weight,\n",
      "39it [04:19,  5.86s/it]"
     ]
    },
    {
     "name": "stdout",
     "output_type": "stream",
     "text": [
      "999:\tlearn: 0.1348438\ttest: 0.2077478\tbest: 0.2077478 (999)\ttotal: 7.21s\tremaining: 0us\n",
      "\n",
      "bestTest = 0.2077477514\n",
      "bestIteration = 999\n",
      "\n",
      "F1 on fold 38: 0.4062\n",
      "Learning rate set to 0.071642\n",
      "0:\tlearn: 0.6361292\ttest: 0.6363497\tbest: 0.6363497 (0)\ttotal: 10.2ms\tremaining: 10.2s\n"
     ]
    },
    {
     "name": "stderr",
     "output_type": "stream",
     "text": [
      "C:\\Users\\user\\anaconda3\\envs\\pycaret\\lib\\site-packages\\catboost\\core.py:1411: FutureWarning: iteritems is deprecated and will be removed in a future version. Use .items instead.\n",
      "  self._init_pool(data, label, cat_features, text_features, embedding_features, embedding_features_data, pairs, weight,\n",
      "40it [04:27,  6.49s/it]"
     ]
    },
    {
     "name": "stdout",
     "output_type": "stream",
     "text": [
      "999:\tlearn: 0.1346243\ttest: 0.2077768\tbest: 0.2077768 (999)\ttotal: 7.58s\tremaining: 0us\n",
      "\n",
      "bestTest = 0.2077768122\n",
      "bestIteration = 999\n",
      "\n",
      "F1 on fold 39: 0.4308\n",
      "Learning rate set to 0.071642\n",
      "0:\tlearn: 0.6363562\ttest: 0.6359045\tbest: 0.6359045 (0)\ttotal: 6ms\tremaining: 5.99s\n"
     ]
    },
    {
     "name": "stderr",
     "output_type": "stream",
     "text": [
      "C:\\Users\\user\\anaconda3\\envs\\pycaret\\lib\\site-packages\\catboost\\core.py:1411: FutureWarning: iteritems is deprecated and will be removed in a future version. Use .items instead.\n",
      "  self._init_pool(data, label, cat_features, text_features, embedding_features, embedding_features_data, pairs, weight,\n",
      "41it [04:35,  6.99s/it]"
     ]
    },
    {
     "name": "stdout",
     "output_type": "stream",
     "text": [
      "999:\tlearn: 0.1346708\ttest: 0.2020464\tbest: 0.2020346 (996)\ttotal: 7.79s\tremaining: 0us\n",
      "\n",
      "bestTest = 0.2020345946\n",
      "bestIteration = 996\n",
      "\n",
      "Shrink model to first 997 iterations.\n",
      "F1 on fold 40: 0.4141\n",
      "Learning rate set to 0.071642\n",
      "0:\tlearn: 0.6363385\ttest: 0.6355670\tbest: 0.6355670 (0)\ttotal: 14.8ms\tremaining: 14.8s\n"
     ]
    },
    {
     "name": "stderr",
     "output_type": "stream",
     "text": [
      "C:\\Users\\user\\anaconda3\\envs\\pycaret\\lib\\site-packages\\catboost\\core.py:1411: FutureWarning: iteritems is deprecated and will be removed in a future version. Use .items instead.\n",
      "  self._init_pool(data, label, cat_features, text_features, embedding_features, embedding_features_data, pairs, weight,\n",
      "42it [04:44,  7.33s/it]"
     ]
    },
    {
     "name": "stdout",
     "output_type": "stream",
     "text": [
      "999:\tlearn: 0.1343274\ttest: 0.2082537\tbest: 0.2082537 (999)\ttotal: 7.75s\tremaining: 0us\n",
      "\n",
      "bestTest = 0.2082536531\n",
      "bestIteration = 999\n",
      "\n",
      "F1 on fold 41: 0.3874\n",
      "Learning rate set to 0.071642\n",
      "0:\tlearn: 0.6367776\ttest: 0.6349211\tbest: 0.6349211 (0)\ttotal: 6.17ms\tremaining: 6.16s\n"
     ]
    },
    {
     "name": "stderr",
     "output_type": "stream",
     "text": [
      "C:\\Users\\user\\anaconda3\\envs\\pycaret\\lib\\site-packages\\catboost\\core.py:1411: FutureWarning: iteritems is deprecated and will be removed in a future version. Use .items instead.\n",
      "  self._init_pool(data, label, cat_features, text_features, embedding_features, embedding_features_data, pairs, weight,\n",
      "43it [04:52,  7.57s/it]"
     ]
    },
    {
     "name": "stdout",
     "output_type": "stream",
     "text": [
      "999:\tlearn: 0.1354514\ttest: 0.1901963\tbest: 0.1901367 (998)\ttotal: 7.79s\tremaining: 0us\n",
      "\n",
      "bestTest = 0.1901366514\n",
      "bestIteration = 998\n",
      "\n",
      "Shrink model to first 999 iterations.\n",
      "F1 on fold 42: 0.3980\n",
      "Learning rate set to 0.071642\n",
      "0:\tlearn: 0.6358577\ttest: 0.6367798\tbest: 0.6367798 (0)\ttotal: 18.8ms\tremaining: 18.7s\n"
     ]
    },
    {
     "name": "stderr",
     "output_type": "stream",
     "text": [
      "C:\\Users\\user\\anaconda3\\envs\\pycaret\\lib\\site-packages\\catboost\\core.py:1411: FutureWarning: iteritems is deprecated and will be removed in a future version. Use .items instead.\n",
      "  self._init_pool(data, label, cat_features, text_features, embedding_features, embedding_features_data, pairs, weight,\n",
      "44it [05:00,  7.71s/it]"
     ]
    },
    {
     "name": "stdout",
     "output_type": "stream",
     "text": [
      "999:\tlearn: 0.1320716\ttest: 0.2190152\tbest: 0.2190152 (999)\ttotal: 7.69s\tremaining: 0us\n",
      "\n",
      "bestTest = 0.2190151526\n",
      "bestIteration = 999\n",
      "\n",
      "F1 on fold 43: 0.4202\n",
      "Learning rate set to 0.071642\n",
      "0:\tlearn: 0.6359009\ttest: 0.6368810\tbest: 0.6368810 (0)\ttotal: 6.46ms\tremaining: 6.46s\n"
     ]
    },
    {
     "name": "stderr",
     "output_type": "stream",
     "text": [
      "C:\\Users\\user\\anaconda3\\envs\\pycaret\\lib\\site-packages\\catboost\\core.py:1411: FutureWarning: iteritems is deprecated and will be removed in a future version. Use .items instead.\n",
      "  self._init_pool(data, label, cat_features, text_features, embedding_features, embedding_features_data, pairs, weight,\n",
      "45it [05:08,  7.83s/it]"
     ]
    },
    {
     "name": "stdout",
     "output_type": "stream",
     "text": [
      "999:\tlearn: 0.1327789\ttest: 0.2206534\tbest: 0.2206429 (998)\ttotal: 7.7s\tremaining: 0us\n",
      "\n",
      "bestTest = 0.2206428701\n",
      "bestIteration = 998\n",
      "\n",
      "Shrink model to first 999 iterations.\n",
      "F1 on fold 44: 0.4160\n",
      "Learning rate set to 0.071642\n",
      "0:\tlearn: 0.6358237\ttest: 0.6368385\tbest: 0.6368385 (0)\ttotal: 15.7ms\tremaining: 15.6s\n"
     ]
    },
    {
     "name": "stderr",
     "output_type": "stream",
     "text": [
      "C:\\Users\\user\\anaconda3\\envs\\pycaret\\lib\\site-packages\\catboost\\core.py:1411: FutureWarning: iteritems is deprecated and will be removed in a future version. Use .items instead.\n",
      "  self._init_pool(data, label, cat_features, text_features, embedding_features, embedding_features_data, pairs, weight,\n",
      "46it [05:16,  7.86s/it]"
     ]
    },
    {
     "name": "stdout",
     "output_type": "stream",
     "text": [
      "999:\tlearn: 0.1326138\ttest: 0.2177710\tbest: 0.2177710 (999)\ttotal: 7.57s\tremaining: 0us\n",
      "\n",
      "bestTest = 0.2177709867\n",
      "bestIteration = 999\n",
      "\n",
      "F1 on fold 45: 0.4000\n",
      "Learning rate set to 0.071642\n",
      "0:\tlearn: 0.6361221\ttest: 0.6361434\tbest: 0.6361434 (0)\ttotal: 5.49ms\tremaining: 5.48s\n"
     ]
    },
    {
     "name": "stderr",
     "output_type": "stream",
     "text": [
      "C:\\Users\\user\\anaconda3\\envs\\pycaret\\lib\\site-packages\\catboost\\core.py:1411: FutureWarning: iteritems is deprecated and will be removed in a future version. Use .items instead.\n",
      "  self._init_pool(data, label, cat_features, text_features, embedding_features, embedding_features_data, pairs, weight,\n",
      "47it [05:24,  7.92s/it]"
     ]
    },
    {
     "name": "stdout",
     "output_type": "stream",
     "text": [
      "999:\tlearn: 0.1374469\ttest: 0.2145688\tbest: 0.2145688 (999)\ttotal: 7.67s\tremaining: 0us\n",
      "\n",
      "bestTest = 0.2145688238\n",
      "bestIteration = 999\n",
      "\n",
      "F1 on fold 46: 0.3964\n",
      "Learning rate set to 0.071642\n",
      "0:\tlearn: 0.6360812\ttest: 0.6366425\tbest: 0.6366425 (0)\ttotal: 10.7ms\tremaining: 10.7s\n"
     ]
    },
    {
     "name": "stderr",
     "output_type": "stream",
     "text": [
      "C:\\Users\\user\\anaconda3\\envs\\pycaret\\lib\\site-packages\\catboost\\core.py:1411: FutureWarning: iteritems is deprecated and will be removed in a future version. Use .items instead.\n",
      "  self._init_pool(data, label, cat_features, text_features, embedding_features, embedding_features_data, pairs, weight,\n",
      "48it [05:32,  8.05s/it]"
     ]
    },
    {
     "name": "stdout",
     "output_type": "stream",
     "text": [
      "999:\tlearn: 0.1337295\ttest: 0.2152066\tbest: 0.2152066 (999)\ttotal: 7.99s\tremaining: 0us\n",
      "\n",
      "bestTest = 0.2152065704\n",
      "bestIteration = 999\n",
      "\n",
      "F1 on fold 47: 0.4077\n",
      "Learning rate set to 0.071642\n",
      "0:\tlearn: 0.6359636\ttest: 0.6366527\tbest: 0.6366527 (0)\ttotal: 5.76ms\tremaining: 5.76s\n"
     ]
    },
    {
     "name": "stderr",
     "output_type": "stream",
     "text": [
      "C:\\Users\\user\\anaconda3\\envs\\pycaret\\lib\\site-packages\\catboost\\core.py:1411: FutureWarning: iteritems is deprecated and will be removed in a future version. Use .items instead.\n",
      "  self._init_pool(data, label, cat_features, text_features, embedding_features, embedding_features_data, pairs, weight,\n",
      "49it [05:40,  8.07s/it]"
     ]
    },
    {
     "name": "stdout",
     "output_type": "stream",
     "text": [
      "999:\tlearn: 0.1320933\ttest: 0.2238578\tbest: 0.2236991 (990)\ttotal: 7.78s\tremaining: 0us\n",
      "\n",
      "bestTest = 0.2236991282\n",
      "bestIteration = 990\n",
      "\n",
      "Shrink model to first 991 iterations.\n",
      "F1 on fold 48: 0.4110\n",
      "Learning rate set to 0.071642\n",
      "0:\tlearn: 0.6359933\ttest: 0.6364149\tbest: 0.6364149 (0)\ttotal: 15.9ms\tremaining: 15.9s\n"
     ]
    },
    {
     "name": "stderr",
     "output_type": "stream",
     "text": [
      "C:\\Users\\user\\anaconda3\\envs\\pycaret\\lib\\site-packages\\catboost\\core.py:1411: FutureWarning: iteritems is deprecated and will be removed in a future version. Use .items instead.\n",
      "  self._init_pool(data, label, cat_features, text_features, embedding_features, embedding_features_data, pairs, weight,\n",
      "50it [05:49,  8.13s/it]"
     ]
    },
    {
     "name": "stdout",
     "output_type": "stream",
     "text": [
      "999:\tlearn: 0.1347447\ttest: 0.2128198\tbest: 0.2128198 (999)\ttotal: 7.97s\tremaining: 0us\n",
      "\n",
      "bestTest = 0.2128198416\n",
      "bestIteration = 999\n",
      "\n",
      "F1 on fold 49: 0.3676\n",
      "Learning rate set to 0.071642\n",
      "0:\tlearn: 0.6361814\ttest: 0.6358888\tbest: 0.6358888 (0)\ttotal: 6.11ms\tremaining: 6.1s\n"
     ]
    },
    {
     "name": "stderr",
     "output_type": "stream",
     "text": [
      "C:\\Users\\user\\anaconda3\\envs\\pycaret\\lib\\site-packages\\catboost\\core.py:1411: FutureWarning: iteritems is deprecated and will be removed in a future version. Use .items instead.\n",
      "  self._init_pool(data, label, cat_features, text_features, embedding_features, embedding_features_data, pairs, weight,\n",
      "51it [05:57,  8.26s/it]"
     ]
    },
    {
     "name": "stdout",
     "output_type": "stream",
     "text": [
      "999:\tlearn: 0.1343412\ttest: 0.2135759\tbest: 0.2135759 (999)\ttotal: 8.19s\tremaining: 0us\n",
      "\n",
      "bestTest = 0.2135758765\n",
      "bestIteration = 999\n",
      "\n",
      "F1 on fold 50: 0.3747\n",
      "Learning rate set to 0.071642\n",
      "0:\tlearn: 0.6355983\ttest: 0.6376402\tbest: 0.6376402 (0)\ttotal: 14.8ms\tremaining: 14.8s\n"
     ]
    },
    {
     "name": "stderr",
     "output_type": "stream",
     "text": [
      "C:\\Users\\user\\anaconda3\\envs\\pycaret\\lib\\site-packages\\catboost\\core.py:1411: FutureWarning: iteritems is deprecated and will be removed in a future version. Use .items instead.\n",
      "  self._init_pool(data, label, cat_features, text_features, embedding_features, embedding_features_data, pairs, weight,\n",
      "52it [06:05,  8.16s/it]"
     ]
    },
    {
     "name": "stdout",
     "output_type": "stream",
     "text": [
      "999:\tlearn: 0.1353010\ttest: 0.2283236\tbest: 0.2283236 (999)\ttotal: 7.57s\tremaining: 0us\n",
      "\n",
      "bestTest = 0.2283236357\n",
      "bestIteration = 999\n",
      "\n",
      "F1 on fold 51: 0.3755\n",
      "Learning rate set to 0.071642\n",
      "0:\tlearn: 0.6362763\ttest: 0.6357161\tbest: 0.6357161 (0)\ttotal: 6.05ms\tremaining: 6.05s\n"
     ]
    },
    {
     "name": "stderr",
     "output_type": "stream",
     "text": [
      "C:\\Users\\user\\anaconda3\\envs\\pycaret\\lib\\site-packages\\catboost\\core.py:1411: FutureWarning: iteritems is deprecated and will be removed in a future version. Use .items instead.\n",
      "  self._init_pool(data, label, cat_features, text_features, embedding_features, embedding_features_data, pairs, weight,\n",
      "53it [06:13,  8.04s/it]"
     ]
    },
    {
     "name": "stdout",
     "output_type": "stream",
     "text": [
      "999:\tlearn: 0.1332535\ttest: 0.2047379\tbest: 0.2047136 (998)\ttotal: 7.39s\tremaining: 0us\n",
      "\n",
      "bestTest = 0.2047135562\n",
      "bestIteration = 998\n",
      "\n",
      "Shrink model to first 999 iterations.\n",
      "F1 on fold 52: 0.4208\n",
      "Learning rate set to 0.071642\n",
      "0:\tlearn: 0.6360548\ttest: 0.6364322\tbest: 0.6364322 (0)\ttotal: 5.7ms\tremaining: 5.7s\n"
     ]
    },
    {
     "name": "stderr",
     "output_type": "stream",
     "text": [
      "C:\\Users\\user\\anaconda3\\envs\\pycaret\\lib\\site-packages\\catboost\\core.py:1411: FutureWarning: iteritems is deprecated and will be removed in a future version. Use .items instead.\n",
      "  self._init_pool(data, label, cat_features, text_features, embedding_features, embedding_features_data, pairs, weight,\n",
      "54it [06:21,  8.04s/it]"
     ]
    },
    {
     "name": "stdout",
     "output_type": "stream",
     "text": [
      "999:\tlearn: 0.1335761\ttest: 0.2177504\tbest: 0.2177504 (999)\ttotal: 7.68s\tremaining: 0us\n",
      "\n",
      "bestTest = 0.2177503887\n",
      "bestIteration = 999\n",
      "\n",
      "F1 on fold 53: 0.3621\n",
      "Learning rate set to 0.071642\n",
      "0:\tlearn: 0.6360348\ttest: 0.6363249\tbest: 0.6363249 (0)\ttotal: 16.7ms\tremaining: 16.7s\n"
     ]
    },
    {
     "name": "stderr",
     "output_type": "stream",
     "text": [
      "C:\\Users\\user\\anaconda3\\envs\\pycaret\\lib\\site-packages\\catboost\\core.py:1411: FutureWarning: iteritems is deprecated and will be removed in a future version. Use .items instead.\n",
      "  self._init_pool(data, label, cat_features, text_features, embedding_features, embedding_features_data, pairs, weight,\n",
      "55it [06:29,  8.01s/it]"
     ]
    },
    {
     "name": "stdout",
     "output_type": "stream",
     "text": [
      "999:\tlearn: 0.1348588\ttest: 0.2170773\tbest: 0.2170773 (999)\ttotal: 7.61s\tremaining: 0us\n",
      "\n",
      "bestTest = 0.2170773291\n",
      "bestIteration = 999\n",
      "\n",
      "F1 on fold 54: 0.4132\n",
      "Learning rate set to 0.071642\n",
      "0:\tlearn: 0.6359645\ttest: 0.6369076\tbest: 0.6369076 (0)\ttotal: 30.6ms\tremaining: 30.5s\n"
     ]
    },
    {
     "name": "stderr",
     "output_type": "stream",
     "text": [
      "C:\\Users\\user\\anaconda3\\envs\\pycaret\\lib\\site-packages\\catboost\\core.py:1411: FutureWarning: iteritems is deprecated and will be removed in a future version. Use .items instead.\n",
      "  self._init_pool(data, label, cat_features, text_features, embedding_features, embedding_features_data, pairs, weight,\n",
      "56it [06:36,  7.91s/it]"
     ]
    },
    {
     "name": "stdout",
     "output_type": "stream",
     "text": [
      "999:\tlearn: 0.1330554\ttest: 0.2190717\tbest: 0.2190717 (999)\ttotal: 7.34s\tremaining: 0us\n",
      "\n",
      "bestTest = 0.2190716992\n",
      "bestIteration = 999\n",
      "\n",
      "F1 on fold 55: 0.3793\n",
      "Learning rate set to 0.071642\n",
      "0:\tlearn: 0.6362953\ttest: 0.6358260\tbest: 0.6358260 (0)\ttotal: 10.8ms\tremaining: 10.8s\n"
     ]
    },
    {
     "name": "stderr",
     "output_type": "stream",
     "text": [
      "C:\\Users\\user\\anaconda3\\envs\\pycaret\\lib\\site-packages\\catboost\\core.py:1411: FutureWarning: iteritems is deprecated and will be removed in a future version. Use .items instead.\n",
      "  self._init_pool(data, label, cat_features, text_features, embedding_features, embedding_features_data, pairs, weight,\n",
      "57it [06:44,  7.87s/it]"
     ]
    },
    {
     "name": "stdout",
     "output_type": "stream",
     "text": [
      "999:\tlearn: 0.1326096\ttest: 0.2132723\tbest: 0.2132723 (999)\ttotal: 7.41s\tremaining: 0us\n",
      "\n",
      "bestTest = 0.2132722843\n",
      "bestIteration = 999\n",
      "\n",
      "F1 on fold 56: 0.3944\n",
      "Learning rate set to 0.071642\n",
      "0:\tlearn: 0.6357526\ttest: 0.6374116\tbest: 0.6374116 (0)\ttotal: 5.83ms\tremaining: 5.83s\n"
     ]
    },
    {
     "name": "stderr",
     "output_type": "stream",
     "text": [
      "C:\\Users\\user\\anaconda3\\envs\\pycaret\\lib\\site-packages\\catboost\\core.py:1411: FutureWarning: iteritems is deprecated and will be removed in a future version. Use .items instead.\n",
      "  self._init_pool(data, label, cat_features, text_features, embedding_features, embedding_features_data, pairs, weight,\n",
      "58it [06:52,  7.84s/it]"
     ]
    },
    {
     "name": "stdout",
     "output_type": "stream",
     "text": [
      "999:\tlearn: 0.1325931\ttest: 0.2232772\tbest: 0.2232772 (999)\ttotal: 7.41s\tremaining: 0us\n",
      "\n",
      "bestTest = 0.2232771993\n",
      "bestIteration = 999\n",
      "\n",
      "F1 on fold 57: 0.3734\n",
      "Learning rate set to 0.071642\n",
      "0:\tlearn: 0.6362858\ttest: 0.6357280\tbest: 0.6357280 (0)\ttotal: 5.71ms\tremaining: 5.7s\n"
     ]
    },
    {
     "name": "stderr",
     "output_type": "stream",
     "text": [
      "C:\\Users\\user\\anaconda3\\envs\\pycaret\\lib\\site-packages\\catboost\\core.py:1411: FutureWarning: iteritems is deprecated and will be removed in a future version. Use .items instead.\n",
      "  self._init_pool(data, label, cat_features, text_features, embedding_features, embedding_features_data, pairs, weight,\n",
      "59it [06:56,  6.73s/it]"
     ]
    },
    {
     "name": "stdout",
     "output_type": "stream",
     "text": [
      "999:\tlearn: 0.1343560\ttest: 0.2064819\tbest: 0.2064777 (998)\ttotal: 3.98s\tremaining: 0us\n",
      "\n",
      "bestTest = 0.2064776623\n",
      "bestIteration = 998\n",
      "\n",
      "Shrink model to first 999 iterations.\n",
      "F1 on fold 58: 0.4242\n",
      "Learning rate set to 0.071642\n",
      "0:\tlearn: 0.6366924\ttest: 0.6347641\tbest: 0.6347641 (0)\ttotal: 12.4ms\tremaining: 12.4s\n"
     ]
    },
    {
     "name": "stderr",
     "output_type": "stream",
     "text": [
      "C:\\Users\\user\\anaconda3\\envs\\pycaret\\lib\\site-packages\\catboost\\core.py:1411: FutureWarning: iteritems is deprecated and will be removed in a future version. Use .items instead.\n",
      "  self._init_pool(data, label, cat_features, text_features, embedding_features, embedding_features_data, pairs, weight,\n",
      "60it [07:00,  5.92s/it]"
     ]
    },
    {
     "name": "stdout",
     "output_type": "stream",
     "text": [
      "999:\tlearn: 0.1348720\ttest: 0.1897606\tbest: 0.1897606 (999)\ttotal: 3.88s\tremaining: 0us\n",
      "\n",
      "bestTest = 0.1897605631\n",
      "bestIteration = 999\n",
      "\n",
      "F1 on fold 59: 0.4067\n",
      "Learning rate set to 0.071642\n",
      "0:\tlearn: 0.6361448\ttest: 0.6359127\tbest: 0.6359127 (0)\ttotal: 7.75ms\tremaining: 7.75s\n"
     ]
    },
    {
     "name": "stderr",
     "output_type": "stream",
     "text": [
      "C:\\Users\\user\\anaconda3\\envs\\pycaret\\lib\\site-packages\\catboost\\core.py:1411: FutureWarning: iteritems is deprecated and will be removed in a future version. Use .items instead.\n",
      "  self._init_pool(data, label, cat_features, text_features, embedding_features, embedding_features_data, pairs, weight,\n",
      "61it [07:04,  5.32s/it]"
     ]
    },
    {
     "name": "stdout",
     "output_type": "stream",
     "text": [
      "999:\tlearn: 0.1347000\ttest: 0.2102605\tbest: 0.2101667 (996)\ttotal: 3.76s\tremaining: 0us\n",
      "\n",
      "bestTest = 0.2101667462\n",
      "bestIteration = 996\n",
      "\n",
      "Shrink model to first 997 iterations.\n",
      "F1 on fold 60: 0.3955\n",
      "Learning rate set to 0.071642\n",
      "0:\tlearn: 0.6362757\ttest: 0.6357911\tbest: 0.6357911 (0)\ttotal: 11.1ms\tremaining: 11s\n"
     ]
    },
    {
     "name": "stderr",
     "output_type": "stream",
     "text": [
      "C:\\Users\\user\\anaconda3\\envs\\pycaret\\lib\\site-packages\\catboost\\core.py:1411: FutureWarning: iteritems is deprecated and will be removed in a future version. Use .items instead.\n",
      "  self._init_pool(data, label, cat_features, text_features, embedding_features, embedding_features_data, pairs, weight,\n",
      "62it [07:08,  4.93s/it]"
     ]
    },
    {
     "name": "stdout",
     "output_type": "stream",
     "text": [
      "999:\tlearn: 0.1356583\ttest: 0.1887009\tbest: 0.1887009 (999)\ttotal: 3.88s\tremaining: 0us\n",
      "\n",
      "bestTest = 0.1887008511\n",
      "bestIteration = 999\n",
      "\n",
      "F1 on fold 61: 0.4629\n",
      "Learning rate set to 0.071642\n",
      "0:\tlearn: 0.6360788\ttest: 0.6362719\tbest: 0.6362719 (0)\ttotal: 19ms\tremaining: 18.9s\n"
     ]
    },
    {
     "name": "stderr",
     "output_type": "stream",
     "text": [
      "C:\\Users\\user\\anaconda3\\envs\\pycaret\\lib\\site-packages\\catboost\\core.py:1411: FutureWarning: iteritems is deprecated and will be removed in a future version. Use .items instead.\n",
      "  self._init_pool(data, label, cat_features, text_features, embedding_features, embedding_features_data, pairs, weight,\n",
      "63it [07:12,  4.64s/it]"
     ]
    },
    {
     "name": "stdout",
     "output_type": "stream",
     "text": [
      "999:\tlearn: 0.1348950\ttest: 0.2134386\tbest: 0.2134386 (999)\ttotal: 3.81s\tremaining: 0us\n",
      "\n",
      "bestTest = 0.2134386455\n",
      "bestIteration = 999\n",
      "\n",
      "F1 on fold 62: 0.4026\n",
      "Learning rate set to 0.071642\n",
      "0:\tlearn: 0.6363984\ttest: 0.6354844\tbest: 0.6354844 (0)\ttotal: 30.4ms\tremaining: 30.4s\n"
     ]
    },
    {
     "name": "stderr",
     "output_type": "stream",
     "text": [
      "C:\\Users\\user\\anaconda3\\envs\\pycaret\\lib\\site-packages\\catboost\\core.py:1411: FutureWarning: iteritems is deprecated and will be removed in a future version. Use .items instead.\n",
      "  self._init_pool(data, label, cat_features, text_features, embedding_features, embedding_features_data, pairs, weight,\n",
      "64it [07:16,  4.47s/it]"
     ]
    },
    {
     "name": "stdout",
     "output_type": "stream",
     "text": [
      "999:\tlearn: 0.1343079\ttest: 0.2011000\tbest: 0.2011000 (999)\ttotal: 3.93s\tremaining: 0us\n",
      "\n",
      "bestTest = 0.2010999679\n",
      "bestIteration = 999\n",
      "\n",
      "F1 on fold 63: 0.4535\n",
      "Learning rate set to 0.071642\n",
      "0:\tlearn: 0.6357456\ttest: 0.6373512\tbest: 0.6373512 (0)\ttotal: 5.83ms\tremaining: 5.83s\n"
     ]
    },
    {
     "name": "stderr",
     "output_type": "stream",
     "text": [
      "C:\\Users\\user\\anaconda3\\envs\\pycaret\\lib\\site-packages\\catboost\\core.py:1411: FutureWarning: iteritems is deprecated and will be removed in a future version. Use .items instead.\n",
      "  self._init_pool(data, label, cat_features, text_features, embedding_features, embedding_features_data, pairs, weight,\n",
      "65it [07:20,  4.33s/it]"
     ]
    },
    {
     "name": "stdout",
     "output_type": "stream",
     "text": [
      "999:\tlearn: 0.1338086\ttest: 0.2201126\tbest: 0.2200999 (998)\ttotal: 3.85s\tremaining: 0us\n",
      "\n",
      "bestTest = 0.2200998794\n",
      "bestIteration = 998\n",
      "\n",
      "Shrink model to first 999 iterations.\n",
      "F1 on fold 64: 0.3943\n",
      "Learning rate set to 0.071642\n",
      "0:\tlearn: 0.6358966\ttest: 0.6372368\tbest: 0.6372368 (0)\ttotal: 15.8ms\tremaining: 15.8s\n"
     ]
    },
    {
     "name": "stderr",
     "output_type": "stream",
     "text": [
      "C:\\Users\\user\\anaconda3\\envs\\pycaret\\lib\\site-packages\\catboost\\core.py:1411: FutureWarning: iteritems is deprecated and will be removed in a future version. Use .items instead.\n",
      "  self._init_pool(data, label, cat_features, text_features, embedding_features, embedding_features_data, pairs, weight,\n",
      "66it [07:24,  4.23s/it]"
     ]
    },
    {
     "name": "stdout",
     "output_type": "stream",
     "text": [
      "999:\tlearn: 0.1337169\ttest: 0.2116519\tbest: 0.2116519 (999)\ttotal: 3.84s\tremaining: 0us\n",
      "\n",
      "bestTest = 0.2116518887\n",
      "bestIteration = 999\n",
      "\n",
      "F1 on fold 65: 0.4389\n",
      "Learning rate set to 0.071642\n",
      "0:\tlearn: 0.6363666\ttest: 0.6358779\tbest: 0.6358779 (0)\ttotal: 14ms\tremaining: 14s\n"
     ]
    },
    {
     "name": "stderr",
     "output_type": "stream",
     "text": [
      "C:\\Users\\user\\anaconda3\\envs\\pycaret\\lib\\site-packages\\catboost\\core.py:1411: FutureWarning: iteritems is deprecated and will be removed in a future version. Use .items instead.\n",
      "  self._init_pool(data, label, cat_features, text_features, embedding_features, embedding_features_data, pairs, weight,\n",
      "67it [07:28,  4.16s/it]"
     ]
    },
    {
     "name": "stdout",
     "output_type": "stream",
     "text": [
      "999:\tlearn: 0.1346994\ttest: 0.2172127\tbest: 0.2172127 (999)\ttotal: 3.85s\tremaining: 0us\n",
      "\n",
      "bestTest = 0.2172126999\n",
      "bestIteration = 999\n",
      "\n",
      "F1 on fold 66: 0.3906\n",
      "Learning rate set to 0.071642\n",
      "0:\tlearn: 0.6363842\ttest: 0.6352371\tbest: 0.6352371 (0)\ttotal: 25.9ms\tremaining: 25.8s\n"
     ]
    },
    {
     "name": "stderr",
     "output_type": "stream",
     "text": [
      "C:\\Users\\user\\anaconda3\\envs\\pycaret\\lib\\site-packages\\catboost\\core.py:1411: FutureWarning: iteritems is deprecated and will be removed in a future version. Use .items instead.\n",
      "  self._init_pool(data, label, cat_features, text_features, embedding_features, embedding_features_data, pairs, weight,\n",
      "68it [07:32,  4.11s/it]"
     ]
    },
    {
     "name": "stdout",
     "output_type": "stream",
     "text": [
      "999:\tlearn: 0.1347726\ttest: 0.2076362\tbest: 0.2076135 (996)\ttotal: 3.85s\tremaining: 0us\n",
      "\n",
      "bestTest = 0.2076134938\n",
      "bestIteration = 996\n",
      "\n",
      "Shrink model to first 997 iterations.\n",
      "F1 on fold 67: 0.3907\n",
      "Learning rate set to 0.071642\n",
      "0:\tlearn: 0.6357466\ttest: 0.6370086\tbest: 0.6370086 (0)\ttotal: 4.62ms\tremaining: 4.61s\n"
     ]
    },
    {
     "name": "stderr",
     "output_type": "stream",
     "text": [
      "C:\\Users\\user\\anaconda3\\envs\\pycaret\\lib\\site-packages\\catboost\\core.py:1411: FutureWarning: iteritems is deprecated and will be removed in a future version. Use .items instead.\n",
      "  self._init_pool(data, label, cat_features, text_features, embedding_features, embedding_features_data, pairs, weight,\n",
      "69it [07:36,  4.06s/it]"
     ]
    },
    {
     "name": "stdout",
     "output_type": "stream",
     "text": [
      "999:\tlearn: 0.1316985\ttest: 0.2273533\tbest: 0.2273533 (999)\ttotal: 3.8s\tremaining: 0us\n",
      "\n",
      "bestTest = 0.2273532645\n",
      "bestIteration = 999\n",
      "\n",
      "F1 on fold 68: 0.4185\n",
      "Learning rate set to 0.071642\n",
      "0:\tlearn: 0.6361275\ttest: 0.6365842\tbest: 0.6365842 (0)\ttotal: 25.7ms\tremaining: 25.7s\n"
     ]
    },
    {
     "name": "stderr",
     "output_type": "stream",
     "text": [
      "C:\\Users\\user\\anaconda3\\envs\\pycaret\\lib\\site-packages\\catboost\\core.py:1411: FutureWarning: iteritems is deprecated and will be removed in a future version. Use .items instead.\n",
      "  self._init_pool(data, label, cat_features, text_features, embedding_features, embedding_features_data, pairs, weight,\n",
      "70it [07:40,  4.06s/it]"
     ]
    },
    {
     "name": "stdout",
     "output_type": "stream",
     "text": [
      "999:\tlearn: 0.1333895\ttest: 0.2156102\tbest: 0.2155646 (996)\ttotal: 3.9s\tremaining: 0us\n",
      "\n",
      "bestTest = 0.2155645973\n",
      "bestIteration = 996\n",
      "\n",
      "Shrink model to first 997 iterations.\n",
      "F1 on fold 69: 0.3958\n",
      "Learning rate set to 0.071642\n",
      "0:\tlearn: 0.6366542\ttest: 0.6346586\tbest: 0.6346586 (0)\ttotal: 9.01ms\tremaining: 9.01s\n"
     ]
    },
    {
     "name": "stderr",
     "output_type": "stream",
     "text": [
      "C:\\Users\\user\\anaconda3\\envs\\pycaret\\lib\\site-packages\\catboost\\core.py:1411: FutureWarning: iteritems is deprecated and will be removed in a future version. Use .items instead.\n",
      "  self._init_pool(data, label, cat_features, text_features, embedding_features, embedding_features_data, pairs, weight,\n",
      "71it [07:44,  4.04s/it]"
     ]
    },
    {
     "name": "stdout",
     "output_type": "stream",
     "text": [
      "999:\tlearn: 0.1350642\ttest: 0.1967473\tbest: 0.1967473 (999)\ttotal: 3.87s\tremaining: 0us\n",
      "\n",
      "bestTest = 0.1967473226\n",
      "bestIteration = 999\n",
      "\n",
      "F1 on fold 70: 0.3791\n",
      "Learning rate set to 0.071642\n",
      "0:\tlearn: 0.6362372\ttest: 0.6357765\tbest: 0.6357765 (0)\ttotal: 7.89ms\tremaining: 7.88s\n"
     ]
    },
    {
     "name": "stderr",
     "output_type": "stream",
     "text": [
      "C:\\Users\\user\\anaconda3\\envs\\pycaret\\lib\\site-packages\\catboost\\core.py:1411: FutureWarning: iteritems is deprecated and will be removed in a future version. Use .items instead.\n",
      "  self._init_pool(data, label, cat_features, text_features, embedding_features, embedding_features_data, pairs, weight,\n",
      "72it [07:48,  4.05s/it]"
     ]
    },
    {
     "name": "stdout",
     "output_type": "stream",
     "text": [
      "999:\tlearn: 0.1342268\ttest: 0.2117473\tbest: 0.2117473 (999)\ttotal: 3.9s\tremaining: 0us\n",
      "\n",
      "bestTest = 0.2117473335\n",
      "bestIteration = 999\n",
      "\n",
      "F1 on fold 71: 0.4439\n",
      "Learning rate set to 0.071642\n",
      "0:\tlearn: 0.6358342\ttest: 0.6370084\tbest: 0.6370084 (0)\ttotal: 4.3ms\tremaining: 4.29s\n"
     ]
    },
    {
     "name": "stderr",
     "output_type": "stream",
     "text": [
      "C:\\Users\\user\\anaconda3\\envs\\pycaret\\lib\\site-packages\\catboost\\core.py:1411: FutureWarning: iteritems is deprecated and will be removed in a future version. Use .items instead.\n",
      "  self._init_pool(data, label, cat_features, text_features, embedding_features, embedding_features_data, pairs, weight,\n",
      "73it [07:52,  4.03s/it]"
     ]
    },
    {
     "name": "stdout",
     "output_type": "stream",
     "text": [
      "999:\tlearn: 0.1331005\ttest: 0.2180430\tbest: 0.2180430 (999)\ttotal: 3.85s\tremaining: 0us\n",
      "\n",
      "bestTest = 0.2180430177\n",
      "bestIteration = 999\n",
      "\n",
      "F1 on fold 72: 0.4286\n",
      "Learning rate set to 0.071642\n",
      "0:\tlearn: 0.6358682\ttest: 0.6369422\tbest: 0.6369422 (0)\ttotal: 20.3ms\tremaining: 20.3s\n"
     ]
    },
    {
     "name": "stderr",
     "output_type": "stream",
     "text": [
      "C:\\Users\\user\\anaconda3\\envs\\pycaret\\lib\\site-packages\\catboost\\core.py:1411: FutureWarning: iteritems is deprecated and will be removed in a future version. Use .items instead.\n",
      "  self._init_pool(data, label, cat_features, text_features, embedding_features, embedding_features_data, pairs, weight,\n",
      "74it [07:56,  4.01s/it]"
     ]
    },
    {
     "name": "stdout",
     "output_type": "stream",
     "text": [
      "999:\tlearn: 0.1349776\ttest: 0.2187057\tbest: 0.2187057 (999)\ttotal: 3.82s\tremaining: 0us\n",
      "\n",
      "bestTest = 0.2187057081\n",
      "bestIteration = 999\n",
      "\n",
      "F1 on fold 73: 0.3769\n",
      "Learning rate set to 0.071642\n",
      "0:\tlearn: 0.6361934\ttest: 0.6358808\tbest: 0.6358808 (0)\ttotal: 14.1ms\tremaining: 14.1s\n"
     ]
    },
    {
     "name": "stderr",
     "output_type": "stream",
     "text": [
      "C:\\Users\\user\\anaconda3\\envs\\pycaret\\lib\\site-packages\\catboost\\core.py:1411: FutureWarning: iteritems is deprecated and will be removed in a future version. Use .items instead.\n",
      "  self._init_pool(data, label, cat_features, text_features, embedding_features, embedding_features_data, pairs, weight,\n",
      "75it [08:00,  4.08s/it]"
     ]
    },
    {
     "name": "stdout",
     "output_type": "stream",
     "text": [
      "999:\tlearn: 0.1334000\ttest: 0.2068361\tbest: 0.2068361 (999)\ttotal: 4.08s\tremaining: 0us\n",
      "\n",
      "bestTest = 0.2068360623\n",
      "bestIteration = 999\n",
      "\n",
      "F1 on fold 74: 0.3974\n",
      "Learning rate set to 0.071642\n",
      "0:\tlearn: 0.6363147\ttest: 0.6358729\tbest: 0.6358729 (0)\ttotal: 7.45ms\tremaining: 7.44s\n"
     ]
    },
    {
     "name": "stderr",
     "output_type": "stream",
     "text": [
      "C:\\Users\\user\\anaconda3\\envs\\pycaret\\lib\\site-packages\\catboost\\core.py:1411: FutureWarning: iteritems is deprecated and will be removed in a future version. Use .items instead.\n",
      "  self._init_pool(data, label, cat_features, text_features, embedding_features, embedding_features_data, pairs, weight,\n",
      "76it [08:04,  4.06s/it]"
     ]
    },
    {
     "name": "stdout",
     "output_type": "stream",
     "text": [
      "999:\tlearn: 0.1352175\ttest: 0.2076168\tbest: 0.2074737 (995)\ttotal: 3.85s\tremaining: 0us\n",
      "\n",
      "bestTest = 0.2074736746\n",
      "bestIteration = 995\n",
      "\n",
      "Shrink model to first 996 iterations.\n",
      "F1 on fold 75: 0.4170\n",
      "Learning rate set to 0.071642\n",
      "0:\tlearn: 0.6356860\ttest: 0.6373199\tbest: 0.6373199 (0)\ttotal: 6.91ms\tremaining: 6.91s\n"
     ]
    },
    {
     "name": "stderr",
     "output_type": "stream",
     "text": [
      "C:\\Users\\user\\anaconda3\\envs\\pycaret\\lib\\site-packages\\catboost\\core.py:1411: FutureWarning: iteritems is deprecated and will be removed in a future version. Use .items instead.\n",
      "  self._init_pool(data, label, cat_features, text_features, embedding_features, embedding_features_data, pairs, weight,\n",
      "77it [08:09,  4.09s/it]"
     ]
    },
    {
     "name": "stdout",
     "output_type": "stream",
     "text": [
      "999:\tlearn: 0.1333218\ttest: 0.2197229\tbest: 0.2197229 (999)\ttotal: 4.01s\tremaining: 0us\n",
      "\n",
      "bestTest = 0.2197229332\n",
      "bestIteration = 999\n",
      "\n",
      "F1 on fold 76: 0.4597\n",
      "Learning rate set to 0.071642\n",
      "0:\tlearn: 0.6363587\ttest: 0.6358580\tbest: 0.6358580 (0)\ttotal: 11.2ms\tremaining: 11.2s\n"
     ]
    },
    {
     "name": "stderr",
     "output_type": "stream",
     "text": [
      "C:\\Users\\user\\anaconda3\\envs\\pycaret\\lib\\site-packages\\catboost\\core.py:1411: FutureWarning: iteritems is deprecated and will be removed in a future version. Use .items instead.\n",
      "  self._init_pool(data, label, cat_features, text_features, embedding_features, embedding_features_data, pairs, weight,\n",
      "78it [08:13,  4.12s/it]"
     ]
    },
    {
     "name": "stdout",
     "output_type": "stream",
     "text": [
      "999:\tlearn: 0.1333964\ttest: 0.2149802\tbest: 0.2149802 (999)\ttotal: 4.03s\tremaining: 0us\n",
      "\n",
      "bestTest = 0.2149802408\n",
      "bestIteration = 999\n",
      "\n",
      "F1 on fold 77: 0.3936\n",
      "Learning rate set to 0.071642\n",
      "0:\tlearn: 0.6359284\ttest: 0.6367673\tbest: 0.6367673 (0)\ttotal: 6.59ms\tremaining: 6.58s\n"
     ]
    },
    {
     "name": "stderr",
     "output_type": "stream",
     "text": [
      "C:\\Users\\user\\anaconda3\\envs\\pycaret\\lib\\site-packages\\catboost\\core.py:1411: FutureWarning: iteritems is deprecated and will be removed in a future version. Use .items instead.\n",
      "  self._init_pool(data, label, cat_features, text_features, embedding_features, embedding_features_data, pairs, weight,\n",
      "79it [08:17,  4.10s/it]"
     ]
    },
    {
     "name": "stdout",
     "output_type": "stream",
     "text": [
      "999:\tlearn: 0.1330969\ttest: 0.2154859\tbest: 0.2154859 (999)\ttotal: 3.91s\tremaining: 0us\n",
      "\n",
      "bestTest = 0.2154858614\n",
      "bestIteration = 999\n",
      "\n",
      "F1 on fold 78: 0.4118\n",
      "Learning rate set to 0.071642\n",
      "0:\tlearn: 0.6361026\ttest: 0.6364419\tbest: 0.6364419 (0)\ttotal: 21ms\tremaining: 21s\n"
     ]
    },
    {
     "name": "stderr",
     "output_type": "stream",
     "text": [
      "C:\\Users\\user\\anaconda3\\envs\\pycaret\\lib\\site-packages\\catboost\\core.py:1411: FutureWarning: iteritems is deprecated and will be removed in a future version. Use .items instead.\n",
      "  self._init_pool(data, label, cat_features, text_features, embedding_features, embedding_features_data, pairs, weight,\n",
      "80it [08:21,  4.11s/it]"
     ]
    },
    {
     "name": "stdout",
     "output_type": "stream",
     "text": [
      "999:\tlearn: 0.1343246\ttest: 0.2142157\tbest: 0.2142157 (999)\ttotal: 3.98s\tremaining: 0us\n",
      "\n",
      "bestTest = 0.2142157153\n",
      "bestIteration = 999\n",
      "\n",
      "F1 on fold 79: 0.3692\n",
      "Learning rate set to 0.071642\n",
      "0:\tlearn: 0.6363209\ttest: 0.6359136\tbest: 0.6359136 (0)\ttotal: 7.01ms\tremaining: 7s\n"
     ]
    },
    {
     "name": "stderr",
     "output_type": "stream",
     "text": [
      "C:\\Users\\user\\anaconda3\\envs\\pycaret\\lib\\site-packages\\catboost\\core.py:1411: FutureWarning: iteritems is deprecated and will be removed in a future version. Use .items instead.\n",
      "  self._init_pool(data, label, cat_features, text_features, embedding_features, embedding_features_data, pairs, weight,\n",
      "81it [08:25,  4.12s/it]"
     ]
    },
    {
     "name": "stdout",
     "output_type": "stream",
     "text": [
      "999:\tlearn: 0.1347891\ttest: 0.2139207\tbest: 0.2138962 (997)\ttotal: 3.99s\tremaining: 0us\n",
      "\n",
      "bestTest = 0.21389623\n",
      "bestIteration = 997\n",
      "\n",
      "Shrink model to first 998 iterations.\n",
      "F1 on fold 80: 0.4492\n",
      "Learning rate set to 0.071642\n",
      "0:\tlearn: 0.6367875\ttest: 0.6343655\tbest: 0.6343655 (0)\ttotal: 13.3ms\tremaining: 13.3s\n"
     ]
    },
    {
     "name": "stderr",
     "output_type": "stream",
     "text": [
      "C:\\Users\\user\\anaconda3\\envs\\pycaret\\lib\\site-packages\\catboost\\core.py:1411: FutureWarning: iteritems is deprecated and will be removed in a future version. Use .items instead.\n",
      "  self._init_pool(data, label, cat_features, text_features, embedding_features, embedding_features_data, pairs, weight,\n",
      "82it [08:29,  4.12s/it]"
     ]
    },
    {
     "name": "stdout",
     "output_type": "stream",
     "text": [
      "999:\tlearn: 0.1350647\ttest: 0.1933097\tbest: 0.1933097 (999)\ttotal: 3.97s\tremaining: 0us\n",
      "\n",
      "bestTest = 0.1933096928\n",
      "bestIteration = 999\n",
      "\n",
      "F1 on fold 81: 0.4000\n",
      "Learning rate set to 0.071642\n",
      "0:\tlearn: 0.6363267\ttest: 0.6357621\tbest: 0.6357621 (0)\ttotal: 4.7ms\tremaining: 4.69s\n"
     ]
    },
    {
     "name": "stderr",
     "output_type": "stream",
     "text": [
      "C:\\Users\\user\\anaconda3\\envs\\pycaret\\lib\\site-packages\\catboost\\core.py:1411: FutureWarning: iteritems is deprecated and will be removed in a future version. Use .items instead.\n",
      "  self._init_pool(data, label, cat_features, text_features, embedding_features, embedding_features_data, pairs, weight,\n",
      "83it [08:33,  4.13s/it]"
     ]
    },
    {
     "name": "stdout",
     "output_type": "stream",
     "text": [
      "999:\tlearn: 0.1342675\ttest: 0.2010270\tbest: 0.2010270 (999)\ttotal: 4s\tremaining: 0us\n",
      "\n",
      "bestTest = 0.2010269686\n",
      "bestIteration = 999\n",
      "\n",
      "F1 on fold 82: 0.4234\n",
      "Learning rate set to 0.071642\n",
      "0:\tlearn: 0.6357756\ttest: 0.6371244\tbest: 0.6371244 (0)\ttotal: 26.7ms\tremaining: 26.7s\n"
     ]
    },
    {
     "name": "stderr",
     "output_type": "stream",
     "text": [
      "C:\\Users\\user\\anaconda3\\envs\\pycaret\\lib\\site-packages\\catboost\\core.py:1411: FutureWarning: iteritems is deprecated and will be removed in a future version. Use .items instead.\n",
      "  self._init_pool(data, label, cat_features, text_features, embedding_features, embedding_features_data, pairs, weight,\n",
      "84it [08:38,  4.17s/it]"
     ]
    },
    {
     "name": "stdout",
     "output_type": "stream",
     "text": [
      "999:\tlearn: 0.1337797\ttest: 0.2155125\tbest: 0.2154259 (992)\ttotal: 4.11s\tremaining: 0us\n",
      "\n",
      "bestTest = 0.2154259492\n",
      "bestIteration = 992\n",
      "\n",
      "Shrink model to first 993 iterations.\n",
      "F1 on fold 83: 0.4042\n",
      "Learning rate set to 0.071642\n",
      "0:\tlearn: 0.6362522\ttest: 0.6358538\tbest: 0.6358538 (0)\ttotal: 9.34ms\tremaining: 9.33s\n"
     ]
    },
    {
     "name": "stderr",
     "output_type": "stream",
     "text": [
      "C:\\Users\\user\\anaconda3\\envs\\pycaret\\lib\\site-packages\\catboost\\core.py:1411: FutureWarning: iteritems is deprecated and will be removed in a future version. Use .items instead.\n",
      "  self._init_pool(data, label, cat_features, text_features, embedding_features, embedding_features_data, pairs, weight,\n",
      "85it [08:42,  4.21s/it]"
     ]
    },
    {
     "name": "stdout",
     "output_type": "stream",
     "text": [
      "999:\tlearn: 0.1343773\ttest: 0.1973413\tbest: 0.1973413 (999)\ttotal: 4.15s\tremaining: 0us\n",
      "\n",
      "bestTest = 0.1973413192\n",
      "bestIteration = 999\n",
      "\n",
      "F1 on fold 84: 0.4444\n",
      "Learning rate set to 0.071642\n",
      "0:\tlearn: 0.6361563\ttest: 0.6362257\tbest: 0.6362257 (0)\ttotal: 7.86ms\tremaining: 7.85s\n"
     ]
    },
    {
     "name": "stderr",
     "output_type": "stream",
     "text": [
      "C:\\Users\\user\\anaconda3\\envs\\pycaret\\lib\\site-packages\\catboost\\core.py:1411: FutureWarning: iteritems is deprecated and will be removed in a future version. Use .items instead.\n",
      "  self._init_pool(data, label, cat_features, text_features, embedding_features, embedding_features_data, pairs, weight,\n",
      "86it [08:46,  4.18s/it]"
     ]
    },
    {
     "name": "stdout",
     "output_type": "stream",
     "text": [
      "999:\tlearn: 0.1340916\ttest: 0.2208996\tbest: 0.2208996 (999)\ttotal: 3.94s\tremaining: 0us\n",
      "\n",
      "bestTest = 0.2208995626\n",
      "bestIteration = 999\n",
      "\n",
      "F1 on fold 85: 0.3894\n",
      "Learning rate set to 0.071642\n",
      "0:\tlearn: 0.6357647\ttest: 0.6372504\tbest: 0.6372504 (0)\ttotal: 4.31ms\tremaining: 4.3s\n"
     ]
    },
    {
     "name": "stderr",
     "output_type": "stream",
     "text": [
      "C:\\Users\\user\\anaconda3\\envs\\pycaret\\lib\\site-packages\\catboost\\core.py:1411: FutureWarning: iteritems is deprecated and will be removed in a future version. Use .items instead.\n",
      "  self._init_pool(data, label, cat_features, text_features, embedding_features, embedding_features_data, pairs, weight,\n",
      "87it [08:50,  4.17s/it]"
     ]
    },
    {
     "name": "stdout",
     "output_type": "stream",
     "text": [
      "999:\tlearn: 0.1331790\ttest: 0.2257145\tbest: 0.2257145 (999)\ttotal: 4s\tremaining: 0us\n",
      "\n",
      "bestTest = 0.225714496\n",
      "bestIteration = 999\n",
      "\n",
      "F1 on fold 86: 0.3849\n",
      "Learning rate set to 0.071642\n",
      "0:\tlearn: 0.6356679\ttest: 0.6373464\tbest: 0.6373464 (0)\ttotal: 6.03ms\tremaining: 6.02s\n"
     ]
    },
    {
     "name": "stderr",
     "output_type": "stream",
     "text": [
      "C:\\Users\\user\\anaconda3\\envs\\pycaret\\lib\\site-packages\\catboost\\core.py:1411: FutureWarning: iteritems is deprecated and will be removed in a future version. Use .items instead.\n",
      "  self._init_pool(data, label, cat_features, text_features, embedding_features, embedding_features_data, pairs, weight,\n",
      "88it [08:54,  4.20s/it]"
     ]
    },
    {
     "name": "stdout",
     "output_type": "stream",
     "text": [
      "999:\tlearn: 0.1335809\ttest: 0.2220827\tbest: 0.2220827 (999)\ttotal: 4.08s\tremaining: 0us\n",
      "\n",
      "bestTest = 0.2220827245\n",
      "bestIteration = 999\n",
      "\n",
      "F1 on fold 87: 0.4057\n",
      "Learning rate set to 0.071642\n",
      "0:\tlearn: 0.6357648\ttest: 0.6372898\tbest: 0.6372898 (0)\ttotal: 17.9ms\tremaining: 17.9s\n"
     ]
    },
    {
     "name": "stderr",
     "output_type": "stream",
     "text": [
      "C:\\Users\\user\\anaconda3\\envs\\pycaret\\lib\\site-packages\\catboost\\core.py:1411: FutureWarning: iteritems is deprecated and will be removed in a future version. Use .items instead.\n",
      "  self._init_pool(data, label, cat_features, text_features, embedding_features, embedding_features_data, pairs, weight,\n",
      "89it [08:59,  4.16s/it]"
     ]
    },
    {
     "name": "stdout",
     "output_type": "stream",
     "text": [
      "999:\tlearn: 0.1308991\ttest: 0.2245664\tbest: 0.2245366 (996)\ttotal: 3.94s\tremaining: 0us\n",
      "\n",
      "bestTest = 0.2245365676\n",
      "bestIteration = 996\n",
      "\n",
      "Shrink model to first 997 iterations.\n",
      "F1 on fold 88: 0.4091\n",
      "Learning rate set to 0.071642\n",
      "0:\tlearn: 0.6363302\ttest: 0.6357057\tbest: 0.6357057 (0)\ttotal: 16.3ms\tremaining: 16.3s\n"
     ]
    },
    {
     "name": "stderr",
     "output_type": "stream",
     "text": [
      "C:\\Users\\user\\anaconda3\\envs\\pycaret\\lib\\site-packages\\catboost\\core.py:1411: FutureWarning: iteritems is deprecated and will be removed in a future version. Use .items instead.\n",
      "  self._init_pool(data, label, cat_features, text_features, embedding_features, embedding_features_data, pairs, weight,\n",
      "90it [09:03,  4.13s/it]"
     ]
    },
    {
     "name": "stdout",
     "output_type": "stream",
     "text": [
      "999:\tlearn: 0.1346725\ttest: 0.2033071\tbest: 0.2033071 (999)\ttotal: 3.91s\tremaining: 0us\n",
      "\n",
      "bestTest = 0.2033071471\n",
      "bestIteration = 999\n",
      "\n",
      "F1 on fold 89: 0.4114\n",
      "Learning rate set to 0.071642\n",
      "0:\tlearn: 0.6360131\ttest: 0.6364063\tbest: 0.6364063 (0)\ttotal: 17ms\tremaining: 16.9s\n"
     ]
    },
    {
     "name": "stderr",
     "output_type": "stream",
     "text": [
      "C:\\Users\\user\\anaconda3\\envs\\pycaret\\lib\\site-packages\\catboost\\core.py:1411: FutureWarning: iteritems is deprecated and will be removed in a future version. Use .items instead.\n",
      "  self._init_pool(data, label, cat_features, text_features, embedding_features, embedding_features_data, pairs, weight,\n",
      "91it [09:07,  4.08s/it]"
     ]
    },
    {
     "name": "stdout",
     "output_type": "stream",
     "text": [
      "999:\tlearn: 0.1351153\ttest: 0.2139432\tbest: 0.2139432 (999)\ttotal: 3.82s\tremaining: 0us\n",
      "\n",
      "bestTest = 0.2139432497\n",
      "bestIteration = 999\n",
      "\n",
      "F1 on fold 90: 0.4172\n",
      "Learning rate set to 0.071642\n",
      "0:\tlearn: 0.6358399\ttest: 0.6369793\tbest: 0.6369793 (0)\ttotal: 5.15ms\tremaining: 5.14s\n"
     ]
    },
    {
     "name": "stderr",
     "output_type": "stream",
     "text": [
      "C:\\Users\\user\\anaconda3\\envs\\pycaret\\lib\\site-packages\\catboost\\core.py:1411: FutureWarning: iteritems is deprecated and will be removed in a future version. Use .items instead.\n",
      "  self._init_pool(data, label, cat_features, text_features, embedding_features, embedding_features_data, pairs, weight,\n",
      "92it [09:11,  4.09s/it]"
     ]
    },
    {
     "name": "stdout",
     "output_type": "stream",
     "text": [
      "999:\tlearn: 0.1334106\ttest: 0.2160504\tbest: 0.2159242 (997)\ttotal: 3.97s\tremaining: 0us\n",
      "\n",
      "bestTest = 0.2159242318\n",
      "bestIteration = 997\n",
      "\n",
      "Shrink model to first 998 iterations.\n",
      "F1 on fold 91: 0.4034\n",
      "Learning rate set to 0.071642\n",
      "0:\tlearn: 0.6368207\ttest: 0.6344991\tbest: 0.6344991 (0)\ttotal: 28.6ms\tremaining: 28.5s\n"
     ]
    },
    {
     "name": "stderr",
     "output_type": "stream",
     "text": [
      "C:\\Users\\user\\anaconda3\\envs\\pycaret\\lib\\site-packages\\catboost\\core.py:1411: FutureWarning: iteritems is deprecated and will be removed in a future version. Use .items instead.\n",
      "  self._init_pool(data, label, cat_features, text_features, embedding_features, embedding_features_data, pairs, weight,\n",
      "93it [09:15,  4.11s/it]"
     ]
    },
    {
     "name": "stdout",
     "output_type": "stream",
     "text": [
      "999:\tlearn: 0.1368895\ttest: 0.1906840\tbest: 0.1906525 (998)\ttotal: 3.99s\tremaining: 0us\n",
      "\n",
      "bestTest = 0.1906524735\n",
      "bestIteration = 998\n",
      "\n",
      "Shrink model to first 999 iterations.\n",
      "F1 on fold 92: 0.3548\n",
      "Learning rate set to 0.071642\n",
      "0:\tlearn: 0.6364854\ttest: 0.6355115\tbest: 0.6355115 (0)\ttotal: 21.9ms\tremaining: 21.9s\n"
     ]
    },
    {
     "name": "stderr",
     "output_type": "stream",
     "text": [
      "C:\\Users\\user\\anaconda3\\envs\\pycaret\\lib\\site-packages\\catboost\\core.py:1411: FutureWarning: iteritems is deprecated and will be removed in a future version. Use .items instead.\n",
      "  self._init_pool(data, label, cat_features, text_features, embedding_features, embedding_features_data, pairs, weight,\n",
      "94it [09:19,  4.13s/it]"
     ]
    },
    {
     "name": "stdout",
     "output_type": "stream",
     "text": [
      "999:\tlearn: 0.1330876\ttest: 0.2095247\tbest: 0.2094200 (994)\ttotal: 4.04s\tremaining: 0us\n",
      "\n",
      "bestTest = 0.2094199623\n",
      "bestIteration = 994\n",
      "\n",
      "Shrink model to first 995 iterations.\n",
      "F1 on fold 93: 0.4093\n",
      "Learning rate set to 0.071642\n",
      "0:\tlearn: 0.6357784\ttest: 0.6370598\tbest: 0.6370598 (0)\ttotal: 17ms\tremaining: 17s\n"
     ]
    },
    {
     "name": "stderr",
     "output_type": "stream",
     "text": [
      "C:\\Users\\user\\anaconda3\\envs\\pycaret\\lib\\site-packages\\catboost\\core.py:1411: FutureWarning: iteritems is deprecated and will be removed in a future version. Use .items instead.\n",
      "  self._init_pool(data, label, cat_features, text_features, embedding_features, embedding_features_data, pairs, weight,\n",
      "95it [09:23,  4.17s/it]"
     ]
    },
    {
     "name": "stdout",
     "output_type": "stream",
     "text": [
      "999:\tlearn: 0.1352684\ttest: 0.2149853\tbest: 0.2149159 (998)\ttotal: 4.1s\tremaining: 0us\n",
      "\n",
      "bestTest = 0.2149159351\n",
      "bestIteration = 998\n",
      "\n",
      "Shrink model to first 999 iterations.\n",
      "F1 on fold 94: 0.3941\n",
      "Learning rate set to 0.071642\n",
      "0:\tlearn: 0.6360582\ttest: 0.6365067\tbest: 0.6365067 (0)\ttotal: 18.9ms\tremaining: 18.8s\n"
     ]
    },
    {
     "name": "stderr",
     "output_type": "stream",
     "text": [
      "C:\\Users\\user\\anaconda3\\envs\\pycaret\\lib\\site-packages\\catboost\\core.py:1411: FutureWarning: iteritems is deprecated and will be removed in a future version. Use .items instead.\n",
      "  self._init_pool(data, label, cat_features, text_features, embedding_features, embedding_features_data, pairs, weight,\n",
      "96it [09:27,  4.17s/it]"
     ]
    },
    {
     "name": "stdout",
     "output_type": "stream",
     "text": [
      "999:\tlearn: 0.1332569\ttest: 0.2158375\tbest: 0.2158375 (999)\ttotal: 4.01s\tremaining: 0us\n",
      "\n",
      "bestTest = 0.2158374653\n",
      "bestIteration = 999\n",
      "\n",
      "F1 on fold 95: 0.4240\n",
      "Learning rate set to 0.071642\n",
      "0:\tlearn: 0.6361132\ttest: 0.6359370\tbest: 0.6359370 (0)\ttotal: 16.4ms\tremaining: 16.4s\n"
     ]
    },
    {
     "name": "stderr",
     "output_type": "stream",
     "text": [
      "C:\\Users\\user\\anaconda3\\envs\\pycaret\\lib\\site-packages\\catboost\\core.py:1411: FutureWarning: iteritems is deprecated and will be removed in a future version. Use .items instead.\n",
      "  self._init_pool(data, label, cat_features, text_features, embedding_features, embedding_features_data, pairs, weight,\n",
      "97it [09:32,  4.24s/it]"
     ]
    },
    {
     "name": "stdout",
     "output_type": "stream",
     "text": [
      "999:\tlearn: 0.1356580\ttest: 0.2120670\tbest: 0.2120586 (992)\ttotal: 4.25s\tremaining: 0us\n",
      "\n",
      "bestTest = 0.2120586358\n",
      "bestIteration = 992\n",
      "\n",
      "Shrink model to first 993 iterations.\n",
      "F1 on fold 96: 0.4261\n",
      "Learning rate set to 0.071642\n",
      "0:\tlearn: 0.6359873\ttest: 0.6368497\tbest: 0.6368497 (0)\ttotal: 8ms\tremaining: 7.99s\n"
     ]
    },
    {
     "name": "stderr",
     "output_type": "stream",
     "text": [
      "C:\\Users\\user\\anaconda3\\envs\\pycaret\\lib\\site-packages\\catboost\\core.py:1411: FutureWarning: iteritems is deprecated and will be removed in a future version. Use .items instead.\n",
      "  self._init_pool(data, label, cat_features, text_features, embedding_features, embedding_features_data, pairs, weight,\n",
      "98it [09:36,  4.22s/it]"
     ]
    },
    {
     "name": "stdout",
     "output_type": "stream",
     "text": [
      "999:\tlearn: 0.1328008\ttest: 0.2158772\tbest: 0.2158772 (999)\ttotal: 4.02s\tremaining: 0us\n",
      "\n",
      "bestTest = 0.2158772118\n",
      "bestIteration = 999\n",
      "\n",
      "F1 on fold 97: 0.4059\n",
      "Learning rate set to 0.071642\n",
      "0:\tlearn: 0.6355561\ttest: 0.6377991\tbest: 0.6377991 (0)\ttotal: 28.4ms\tremaining: 28.4s\n"
     ]
    },
    {
     "name": "stderr",
     "output_type": "stream",
     "text": [
      "C:\\Users\\user\\anaconda3\\envs\\pycaret\\lib\\site-packages\\catboost\\core.py:1411: FutureWarning: iteritems is deprecated and will be removed in a future version. Use .items instead.\n",
      "  self._init_pool(data, label, cat_features, text_features, embedding_features, embedding_features_data, pairs, weight,\n",
      "99it [09:40,  4.18s/it]"
     ]
    },
    {
     "name": "stdout",
     "output_type": "stream",
     "text": [
      "999:\tlearn: 0.1319056\ttest: 0.2278882\tbest: 0.2278882 (999)\ttotal: 3.93s\tremaining: 0us\n",
      "\n",
      "bestTest = 0.2278882091\n",
      "bestIteration = 999\n",
      "\n",
      "F1 on fold 98: 0.4624\n",
      "Learning rate set to 0.071642\n",
      "0:\tlearn: 0.6364843\ttest: 0.6353297\tbest: 0.6353297 (0)\ttotal: 6.88ms\tremaining: 6.87s\n"
     ]
    },
    {
     "name": "stderr",
     "output_type": "stream",
     "text": [
      "C:\\Users\\user\\anaconda3\\envs\\pycaret\\lib\\site-packages\\catboost\\core.py:1411: FutureWarning: iteritems is deprecated and will be removed in a future version. Use .items instead.\n",
      "  self._init_pool(data, label, cat_features, text_features, embedding_features, embedding_features_data, pairs, weight,\n",
      "100it [09:44,  5.85s/it]"
     ]
    },
    {
     "name": "stdout",
     "output_type": "stream",
     "text": [
      "999:\tlearn: 0.1354224\ttest: 0.2049855\tbest: 0.2049855 (999)\ttotal: 3.93s\tremaining: 0us\n",
      "\n",
      "bestTest = 0.2049855224\n",
      "bestIteration = 999\n",
      "\n",
      "F1 on fold 99: 0.3688\n"
     ]
    },
    {
     "name": "stderr",
     "output_type": "stream",
     "text": [
      "\n"
     ]
    }
   ],
   "source": [
    "from catboost import CatBoostClassifier\n",
    "from sklearn.model_selection import KFold, StratifiedKFold, RepeatedKFold, RepeatedStratifiedKFold\n",
    "from sklearn.metrics import accuracy_score, f1_score\n",
    "from tqdm import tqdm\n",
    "# kf = KFold(n_splits = 10, random_state = 42, shuffle = True)\n",
    "\n",
    "rkf = RepeatedKFold(n_splits=10,n_repeats=10,random_state=43)\n",
    "# rskf = RepeatedStratifiedKFold(n_splits=10,n_repeats=0,random_state=43)\n",
    "\n",
    "parms = {'iterations': 2000,\n",
    " #'od_wait': 2182,\n",
    " 'learning_rate': 0.005,\n",
    " #'reg_lambda': 2.3132945175291226,\n",
    " #'subsample': 0.01621008882000844,\n",
    " #'random_strength': 25.292157882359646,\n",
    " 'depth': 5,\n",
    " 'min_data_in_leaf': 5,\n",
    " #'leaf_estimation_iterations': 3,\n",
    " 'bagging_temperature': 0.01080117689593031,\n",
    " 'colsample_bylevel': 0.7579360851684404}\n",
    "\n",
    "target = 'Cancellation_Status'\n",
    "features = [c for c in train.columns if c not in ['ID', target]]\n",
    "models = []\n",
    "val_scores = []\n",
    "\n",
    "for i, (train_index, val_index) in tqdm(enumerate(rkf.split(train, train[target]))):\n",
    "    \n",
    "    X_train, X_val = train[features].loc[train_index], train[features].loc[val_index]\n",
    "    y_train, y_val = train[target][train_index], train[target][val_index]\n",
    "    \n",
    "#     if include_orig:\n",
    "#         X_train = X_train.append(original[features], ignore_index = True)\n",
    "#         y_train = y_train.append(original[target], ignore_index = True)\n",
    "    \n",
    "    model = CatBoostClassifier(random_state = 43)\n",
    "    \n",
    "    model.fit(X_train, y_train, eval_set = [(X_val, y_val)], verbose = 2000)\n",
    "    \n",
    "    models.append(model)\n",
    "    pred = model.predict(X_val)\n",
    "    score = f1_score(y_val, pred)\n",
    "    val_scores.append(score)\n",
    "    \n",
    "    print(f'F1 on fold {i}: {score:.4f}')\n",
    "\n",
    "# for i, (train_index, val_index) in tqdm(enumerate(rskf.split(train, train[target]))):\n",
    "    \n",
    "#     X_train, X_val = train[features].loc[train_index], train[features].loc[val_index]\n",
    "#     y_train, y_val = train[target][train_index], train[target][val_index]\n",
    "    \n",
    "# #     if include_orig:\n",
    "# #         X_train = X_train.append(original[features], ignore_index = True)\n",
    "# #         y_train = y_train.append(original[target], ignore_index = True)\n",
    "    \n",
    "#     model = CatBoostClassifier(random_state = 42)\n",
    "    \n",
    "#     model.fit(X_train, y_train, eval_set = [(X_val, y_val)], verbose = 2000)\n",
    "    \n",
    "#     models.append(model)\n",
    "#     pred = model.predict(X_val)\n",
    "#     score = f1_score(y_val, pred)\n",
    "#     val_scores.append(score)\n",
    "    \n",
    "#     print(f'F1 on fold {i}: {score:.4f}')\n",
    "    \n",
    "# print(f'mean F1 across all folds: {np.mean(val_scores):.4f}')\n",
    "\n",
    "\n",
    "\n",
    "\n",
    "\n",
    "# cat = catboost.CatBoostClassifier(**parms)\n",
    "# cat.fit(train.drop(['ID','Cancellation_Status'],axis=1),train['Cancellation_Status'])\n",
    "# pred = cat.predict(test.drop('ID',axis=1))"
   ]
  },
  {
   "cell_type": "code",
   "execution_count": 28,
   "id": "797ebdf4",
   "metadata": {},
   "outputs": [
    {
     "name": "stderr",
     "output_type": "stream",
     "text": [
      "C:\\Users\\user\\anaconda3\\envs\\pycaret\\lib\\site-packages\\catboost\\core.py:1411: FutureWarning: iteritems is deprecated and will be removed in a future version. Use .items instead.\n",
      "  self._init_pool(data, label, cat_features, text_features, embedding_features, embedding_features_data, pairs, weight,\n",
      "C:\\Users\\user\\anaconda3\\envs\\pycaret\\lib\\site-packages\\catboost\\core.py:1411: FutureWarning: iteritems is deprecated and will be removed in a future version. Use .items instead.\n",
      "  self._init_pool(data, label, cat_features, text_features, embedding_features, embedding_features_data, pairs, weight,\n",
      "C:\\Users\\user\\anaconda3\\envs\\pycaret\\lib\\site-packages\\catboost\\core.py:1411: FutureWarning: iteritems is deprecated and will be removed in a future version. Use .items instead.\n",
      "  self._init_pool(data, label, cat_features, text_features, embedding_features, embedding_features_data, pairs, weight,\n",
      "C:\\Users\\user\\anaconda3\\envs\\pycaret\\lib\\site-packages\\catboost\\core.py:1411: FutureWarning: iteritems is deprecated and will be removed in a future version. Use .items instead.\n",
      "  self._init_pool(data, label, cat_features, text_features, embedding_features, embedding_features_data, pairs, weight,\n",
      "C:\\Users\\user\\anaconda3\\envs\\pycaret\\lib\\site-packages\\catboost\\core.py:1411: FutureWarning: iteritems is deprecated and will be removed in a future version. Use .items instead.\n",
      "  self._init_pool(data, label, cat_features, text_features, embedding_features, embedding_features_data, pairs, weight,\n",
      "C:\\Users\\user\\anaconda3\\envs\\pycaret\\lib\\site-packages\\catboost\\core.py:1411: FutureWarning: iteritems is deprecated and will be removed in a future version. Use .items instead.\n",
      "  self._init_pool(data, label, cat_features, text_features, embedding_features, embedding_features_data, pairs, weight,\n",
      "C:\\Users\\user\\anaconda3\\envs\\pycaret\\lib\\site-packages\\catboost\\core.py:1411: FutureWarning: iteritems is deprecated and will be removed in a future version. Use .items instead.\n",
      "  self._init_pool(data, label, cat_features, text_features, embedding_features, embedding_features_data, pairs, weight,\n",
      "C:\\Users\\user\\anaconda3\\envs\\pycaret\\lib\\site-packages\\catboost\\core.py:1411: FutureWarning: iteritems is deprecated and will be removed in a future version. Use .items instead.\n",
      "  self._init_pool(data, label, cat_features, text_features, embedding_features, embedding_features_data, pairs, weight,\n",
      "C:\\Users\\user\\anaconda3\\envs\\pycaret\\lib\\site-packages\\catboost\\core.py:1411: FutureWarning: iteritems is deprecated and will be removed in a future version. Use .items instead.\n",
      "  self._init_pool(data, label, cat_features, text_features, embedding_features, embedding_features_data, pairs, weight,\n",
      "C:\\Users\\user\\anaconda3\\envs\\pycaret\\lib\\site-packages\\catboost\\core.py:1411: FutureWarning: iteritems is deprecated and will be removed in a future version. Use .items instead.\n",
      "  self._init_pool(data, label, cat_features, text_features, embedding_features, embedding_features_data, pairs, weight,\n",
      "C:\\Users\\user\\anaconda3\\envs\\pycaret\\lib\\site-packages\\catboost\\core.py:1411: FutureWarning: iteritems is deprecated and will be removed in a future version. Use .items instead.\n",
      "  self._init_pool(data, label, cat_features, text_features, embedding_features, embedding_features_data, pairs, weight,\n",
      "C:\\Users\\user\\anaconda3\\envs\\pycaret\\lib\\site-packages\\catboost\\core.py:1411: FutureWarning: iteritems is deprecated and will be removed in a future version. Use .items instead.\n",
      "  self._init_pool(data, label, cat_features, text_features, embedding_features, embedding_features_data, pairs, weight,\n",
      "C:\\Users\\user\\anaconda3\\envs\\pycaret\\lib\\site-packages\\catboost\\core.py:1411: FutureWarning: iteritems is deprecated and will be removed in a future version. Use .items instead.\n",
      "  self._init_pool(data, label, cat_features, text_features, embedding_features, embedding_features_data, pairs, weight,\n",
      "C:\\Users\\user\\anaconda3\\envs\\pycaret\\lib\\site-packages\\catboost\\core.py:1411: FutureWarning: iteritems is deprecated and will be removed in a future version. Use .items instead.\n",
      "  self._init_pool(data, label, cat_features, text_features, embedding_features, embedding_features_data, pairs, weight,\n",
      "C:\\Users\\user\\anaconda3\\envs\\pycaret\\lib\\site-packages\\catboost\\core.py:1411: FutureWarning: iteritems is deprecated and will be removed in a future version. Use .items instead.\n",
      "  self._init_pool(data, label, cat_features, text_features, embedding_features, embedding_features_data, pairs, weight,\n",
      "C:\\Users\\user\\anaconda3\\envs\\pycaret\\lib\\site-packages\\catboost\\core.py:1411: FutureWarning: iteritems is deprecated and will be removed in a future version. Use .items instead.\n",
      "  self._init_pool(data, label, cat_features, text_features, embedding_features, embedding_features_data, pairs, weight,\n",
      "C:\\Users\\user\\anaconda3\\envs\\pycaret\\lib\\site-packages\\catboost\\core.py:1411: FutureWarning: iteritems is deprecated and will be removed in a future version. Use .items instead.\n",
      "  self._init_pool(data, label, cat_features, text_features, embedding_features, embedding_features_data, pairs, weight,\n",
      "C:\\Users\\user\\anaconda3\\envs\\pycaret\\lib\\site-packages\\catboost\\core.py:1411: FutureWarning: iteritems is deprecated and will be removed in a future version. Use .items instead.\n",
      "  self._init_pool(data, label, cat_features, text_features, embedding_features, embedding_features_data, pairs, weight,\n",
      "C:\\Users\\user\\anaconda3\\envs\\pycaret\\lib\\site-packages\\catboost\\core.py:1411: FutureWarning: iteritems is deprecated and will be removed in a future version. Use .items instead.\n",
      "  self._init_pool(data, label, cat_features, text_features, embedding_features, embedding_features_data, pairs, weight,\n",
      "C:\\Users\\user\\anaconda3\\envs\\pycaret\\lib\\site-packages\\catboost\\core.py:1411: FutureWarning: iteritems is deprecated and will be removed in a future version. Use .items instead.\n",
      "  self._init_pool(data, label, cat_features, text_features, embedding_features, embedding_features_data, pairs, weight,\n",
      "C:\\Users\\user\\anaconda3\\envs\\pycaret\\lib\\site-packages\\catboost\\core.py:1411: FutureWarning: iteritems is deprecated and will be removed in a future version. Use .items instead.\n",
      "  self._init_pool(data, label, cat_features, text_features, embedding_features, embedding_features_data, pairs, weight,\n",
      "C:\\Users\\user\\anaconda3\\envs\\pycaret\\lib\\site-packages\\catboost\\core.py:1411: FutureWarning: iteritems is deprecated and will be removed in a future version. Use .items instead.\n",
      "  self._init_pool(data, label, cat_features, text_features, embedding_features, embedding_features_data, pairs, weight,\n",
      "C:\\Users\\user\\anaconda3\\envs\\pycaret\\lib\\site-packages\\catboost\\core.py:1411: FutureWarning: iteritems is deprecated and will be removed in a future version. Use .items instead.\n",
      "  self._init_pool(data, label, cat_features, text_features, embedding_features, embedding_features_data, pairs, weight,\n",
      "C:\\Users\\user\\anaconda3\\envs\\pycaret\\lib\\site-packages\\catboost\\core.py:1411: FutureWarning: iteritems is deprecated and will be removed in a future version. Use .items instead.\n",
      "  self._init_pool(data, label, cat_features, text_features, embedding_features, embedding_features_data, pairs, weight,\n",
      "C:\\Users\\user\\anaconda3\\envs\\pycaret\\lib\\site-packages\\catboost\\core.py:1411: FutureWarning: iteritems is deprecated and will be removed in a future version. Use .items instead.\n",
      "  self._init_pool(data, label, cat_features, text_features, embedding_features, embedding_features_data, pairs, weight,\n",
      "C:\\Users\\user\\anaconda3\\envs\\pycaret\\lib\\site-packages\\catboost\\core.py:1411: FutureWarning: iteritems is deprecated and will be removed in a future version. Use .items instead.\n",
      "  self._init_pool(data, label, cat_features, text_features, embedding_features, embedding_features_data, pairs, weight,\n",
      "C:\\Users\\user\\anaconda3\\envs\\pycaret\\lib\\site-packages\\catboost\\core.py:1411: FutureWarning: iteritems is deprecated and will be removed in a future version. Use .items instead.\n",
      "  self._init_pool(data, label, cat_features, text_features, embedding_features, embedding_features_data, pairs, weight,\n",
      "C:\\Users\\user\\anaconda3\\envs\\pycaret\\lib\\site-packages\\catboost\\core.py:1411: FutureWarning: iteritems is deprecated and will be removed in a future version. Use .items instead.\n",
      "  self._init_pool(data, label, cat_features, text_features, embedding_features, embedding_features_data, pairs, weight,\n",
      "C:\\Users\\user\\anaconda3\\envs\\pycaret\\lib\\site-packages\\catboost\\core.py:1411: FutureWarning: iteritems is deprecated and will be removed in a future version. Use .items instead.\n",
      "  self._init_pool(data, label, cat_features, text_features, embedding_features, embedding_features_data, pairs, weight,\n",
      "C:\\Users\\user\\anaconda3\\envs\\pycaret\\lib\\site-packages\\catboost\\core.py:1411: FutureWarning: iteritems is deprecated and will be removed in a future version. Use .items instead.\n",
      "  self._init_pool(data, label, cat_features, text_features, embedding_features, embedding_features_data, pairs, weight,\n",
      "C:\\Users\\user\\anaconda3\\envs\\pycaret\\lib\\site-packages\\catboost\\core.py:1411: FutureWarning: iteritems is deprecated and will be removed in a future version. Use .items instead.\n",
      "  self._init_pool(data, label, cat_features, text_features, embedding_features, embedding_features_data, pairs, weight,\n",
      "C:\\Users\\user\\anaconda3\\envs\\pycaret\\lib\\site-packages\\catboost\\core.py:1411: FutureWarning: iteritems is deprecated and will be removed in a future version. Use .items instead.\n",
      "  self._init_pool(data, label, cat_features, text_features, embedding_features, embedding_features_data, pairs, weight,\n",
      "C:\\Users\\user\\anaconda3\\envs\\pycaret\\lib\\site-packages\\catboost\\core.py:1411: FutureWarning: iteritems is deprecated and will be removed in a future version. Use .items instead.\n",
      "  self._init_pool(data, label, cat_features, text_features, embedding_features, embedding_features_data, pairs, weight,\n",
      "C:\\Users\\user\\anaconda3\\envs\\pycaret\\lib\\site-packages\\catboost\\core.py:1411: FutureWarning: iteritems is deprecated and will be removed in a future version. Use .items instead.\n",
      "  self._init_pool(data, label, cat_features, text_features, embedding_features, embedding_features_data, pairs, weight,\n",
      "C:\\Users\\user\\anaconda3\\envs\\pycaret\\lib\\site-packages\\catboost\\core.py:1411: FutureWarning: iteritems is deprecated and will be removed in a future version. Use .items instead.\n",
      "  self._init_pool(data, label, cat_features, text_features, embedding_features, embedding_features_data, pairs, weight,\n",
      "C:\\Users\\user\\anaconda3\\envs\\pycaret\\lib\\site-packages\\catboost\\core.py:1411: FutureWarning: iteritems is deprecated and will be removed in a future version. Use .items instead.\n",
      "  self._init_pool(data, label, cat_features, text_features, embedding_features, embedding_features_data, pairs, weight,\n",
      "C:\\Users\\user\\anaconda3\\envs\\pycaret\\lib\\site-packages\\catboost\\core.py:1411: FutureWarning: iteritems is deprecated and will be removed in a future version. Use .items instead.\n",
      "  self._init_pool(data, label, cat_features, text_features, embedding_features, embedding_features_data, pairs, weight,\n",
      "C:\\Users\\user\\anaconda3\\envs\\pycaret\\lib\\site-packages\\catboost\\core.py:1411: FutureWarning: iteritems is deprecated and will be removed in a future version. Use .items instead.\n",
      "  self._init_pool(data, label, cat_features, text_features, embedding_features, embedding_features_data, pairs, weight,\n",
      "C:\\Users\\user\\anaconda3\\envs\\pycaret\\lib\\site-packages\\catboost\\core.py:1411: FutureWarning: iteritems is deprecated and will be removed in a future version. Use .items instead.\n",
      "  self._init_pool(data, label, cat_features, text_features, embedding_features, embedding_features_data, pairs, weight,\n",
      "C:\\Users\\user\\anaconda3\\envs\\pycaret\\lib\\site-packages\\catboost\\core.py:1411: FutureWarning: iteritems is deprecated and will be removed in a future version. Use .items instead.\n",
      "  self._init_pool(data, label, cat_features, text_features, embedding_features, embedding_features_data, pairs, weight,\n",
      "C:\\Users\\user\\anaconda3\\envs\\pycaret\\lib\\site-packages\\catboost\\core.py:1411: FutureWarning: iteritems is deprecated and will be removed in a future version. Use .items instead.\n",
      "  self._init_pool(data, label, cat_features, text_features, embedding_features, embedding_features_data, pairs, weight,\n",
      "C:\\Users\\user\\anaconda3\\envs\\pycaret\\lib\\site-packages\\catboost\\core.py:1411: FutureWarning: iteritems is deprecated and will be removed in a future version. Use .items instead.\n",
      "  self._init_pool(data, label, cat_features, text_features, embedding_features, embedding_features_data, pairs, weight,\n"
     ]
    },
    {
     "name": "stderr",
     "output_type": "stream",
     "text": [
      "C:\\Users\\user\\anaconda3\\envs\\pycaret\\lib\\site-packages\\catboost\\core.py:1411: FutureWarning: iteritems is deprecated and will be removed in a future version. Use .items instead.\n",
      "  self._init_pool(data, label, cat_features, text_features, embedding_features, embedding_features_data, pairs, weight,\n",
      "C:\\Users\\user\\anaconda3\\envs\\pycaret\\lib\\site-packages\\catboost\\core.py:1411: FutureWarning: iteritems is deprecated and will be removed in a future version. Use .items instead.\n",
      "  self._init_pool(data, label, cat_features, text_features, embedding_features, embedding_features_data, pairs, weight,\n",
      "C:\\Users\\user\\anaconda3\\envs\\pycaret\\lib\\site-packages\\catboost\\core.py:1411: FutureWarning: iteritems is deprecated and will be removed in a future version. Use .items instead.\n",
      "  self._init_pool(data, label, cat_features, text_features, embedding_features, embedding_features_data, pairs, weight,\n",
      "C:\\Users\\user\\anaconda3\\envs\\pycaret\\lib\\site-packages\\catboost\\core.py:1411: FutureWarning: iteritems is deprecated and will be removed in a future version. Use .items instead.\n",
      "  self._init_pool(data, label, cat_features, text_features, embedding_features, embedding_features_data, pairs, weight,\n",
      "C:\\Users\\user\\anaconda3\\envs\\pycaret\\lib\\site-packages\\catboost\\core.py:1411: FutureWarning: iteritems is deprecated and will be removed in a future version. Use .items instead.\n",
      "  self._init_pool(data, label, cat_features, text_features, embedding_features, embedding_features_data, pairs, weight,\n",
      "C:\\Users\\user\\anaconda3\\envs\\pycaret\\lib\\site-packages\\catboost\\core.py:1411: FutureWarning: iteritems is deprecated and will be removed in a future version. Use .items instead.\n",
      "  self._init_pool(data, label, cat_features, text_features, embedding_features, embedding_features_data, pairs, weight,\n",
      "C:\\Users\\user\\anaconda3\\envs\\pycaret\\lib\\site-packages\\catboost\\core.py:1411: FutureWarning: iteritems is deprecated and will be removed in a future version. Use .items instead.\n",
      "  self._init_pool(data, label, cat_features, text_features, embedding_features, embedding_features_data, pairs, weight,\n",
      "C:\\Users\\user\\anaconda3\\envs\\pycaret\\lib\\site-packages\\catboost\\core.py:1411: FutureWarning: iteritems is deprecated and will be removed in a future version. Use .items instead.\n",
      "  self._init_pool(data, label, cat_features, text_features, embedding_features, embedding_features_data, pairs, weight,\n",
      "C:\\Users\\user\\anaconda3\\envs\\pycaret\\lib\\site-packages\\catboost\\core.py:1411: FutureWarning: iteritems is deprecated and will be removed in a future version. Use .items instead.\n",
      "  self._init_pool(data, label, cat_features, text_features, embedding_features, embedding_features_data, pairs, weight,\n",
      "C:\\Users\\user\\anaconda3\\envs\\pycaret\\lib\\site-packages\\catboost\\core.py:1411: FutureWarning: iteritems is deprecated and will be removed in a future version. Use .items instead.\n",
      "  self._init_pool(data, label, cat_features, text_features, embedding_features, embedding_features_data, pairs, weight,\n",
      "C:\\Users\\user\\anaconda3\\envs\\pycaret\\lib\\site-packages\\catboost\\core.py:1411: FutureWarning: iteritems is deprecated and will be removed in a future version. Use .items instead.\n",
      "  self._init_pool(data, label, cat_features, text_features, embedding_features, embedding_features_data, pairs, weight,\n",
      "C:\\Users\\user\\anaconda3\\envs\\pycaret\\lib\\site-packages\\catboost\\core.py:1411: FutureWarning: iteritems is deprecated and will be removed in a future version. Use .items instead.\n",
      "  self._init_pool(data, label, cat_features, text_features, embedding_features, embedding_features_data, pairs, weight,\n",
      "C:\\Users\\user\\anaconda3\\envs\\pycaret\\lib\\site-packages\\catboost\\core.py:1411: FutureWarning: iteritems is deprecated and will be removed in a future version. Use .items instead.\n",
      "  self._init_pool(data, label, cat_features, text_features, embedding_features, embedding_features_data, pairs, weight,\n",
      "C:\\Users\\user\\anaconda3\\envs\\pycaret\\lib\\site-packages\\catboost\\core.py:1411: FutureWarning: iteritems is deprecated and will be removed in a future version. Use .items instead.\n",
      "  self._init_pool(data, label, cat_features, text_features, embedding_features, embedding_features_data, pairs, weight,\n",
      "C:\\Users\\user\\anaconda3\\envs\\pycaret\\lib\\site-packages\\catboost\\core.py:1411: FutureWarning: iteritems is deprecated and will be removed in a future version. Use .items instead.\n",
      "  self._init_pool(data, label, cat_features, text_features, embedding_features, embedding_features_data, pairs, weight,\n",
      "C:\\Users\\user\\anaconda3\\envs\\pycaret\\lib\\site-packages\\catboost\\core.py:1411: FutureWarning: iteritems is deprecated and will be removed in a future version. Use .items instead.\n",
      "  self._init_pool(data, label, cat_features, text_features, embedding_features, embedding_features_data, pairs, weight,\n",
      "C:\\Users\\user\\anaconda3\\envs\\pycaret\\lib\\site-packages\\catboost\\core.py:1411: FutureWarning: iteritems is deprecated and will be removed in a future version. Use .items instead.\n",
      "  self._init_pool(data, label, cat_features, text_features, embedding_features, embedding_features_data, pairs, weight,\n",
      "C:\\Users\\user\\anaconda3\\envs\\pycaret\\lib\\site-packages\\catboost\\core.py:1411: FutureWarning: iteritems is deprecated and will be removed in a future version. Use .items instead.\n",
      "  self._init_pool(data, label, cat_features, text_features, embedding_features, embedding_features_data, pairs, weight,\n",
      "C:\\Users\\user\\anaconda3\\envs\\pycaret\\lib\\site-packages\\catboost\\core.py:1411: FutureWarning: iteritems is deprecated and will be removed in a future version. Use .items instead.\n",
      "  self._init_pool(data, label, cat_features, text_features, embedding_features, embedding_features_data, pairs, weight,\n",
      "C:\\Users\\user\\anaconda3\\envs\\pycaret\\lib\\site-packages\\catboost\\core.py:1411: FutureWarning: iteritems is deprecated and will be removed in a future version. Use .items instead.\n",
      "  self._init_pool(data, label, cat_features, text_features, embedding_features, embedding_features_data, pairs, weight,\n",
      "C:\\Users\\user\\anaconda3\\envs\\pycaret\\lib\\site-packages\\catboost\\core.py:1411: FutureWarning: iteritems is deprecated and will be removed in a future version. Use .items instead.\n",
      "  self._init_pool(data, label, cat_features, text_features, embedding_features, embedding_features_data, pairs, weight,\n",
      "C:\\Users\\user\\anaconda3\\envs\\pycaret\\lib\\site-packages\\catboost\\core.py:1411: FutureWarning: iteritems is deprecated and will be removed in a future version. Use .items instead.\n",
      "  self._init_pool(data, label, cat_features, text_features, embedding_features, embedding_features_data, pairs, weight,\n",
      "C:\\Users\\user\\anaconda3\\envs\\pycaret\\lib\\site-packages\\catboost\\core.py:1411: FutureWarning: iteritems is deprecated and will be removed in a future version. Use .items instead.\n",
      "  self._init_pool(data, label, cat_features, text_features, embedding_features, embedding_features_data, pairs, weight,\n",
      "C:\\Users\\user\\anaconda3\\envs\\pycaret\\lib\\site-packages\\catboost\\core.py:1411: FutureWarning: iteritems is deprecated and will be removed in a future version. Use .items instead.\n",
      "  self._init_pool(data, label, cat_features, text_features, embedding_features, embedding_features_data, pairs, weight,\n",
      "C:\\Users\\user\\anaconda3\\envs\\pycaret\\lib\\site-packages\\catboost\\core.py:1411: FutureWarning: iteritems is deprecated and will be removed in a future version. Use .items instead.\n",
      "  self._init_pool(data, label, cat_features, text_features, embedding_features, embedding_features_data, pairs, weight,\n",
      "C:\\Users\\user\\anaconda3\\envs\\pycaret\\lib\\site-packages\\catboost\\core.py:1411: FutureWarning: iteritems is deprecated and will be removed in a future version. Use .items instead.\n",
      "  self._init_pool(data, label, cat_features, text_features, embedding_features, embedding_features_data, pairs, weight,\n",
      "C:\\Users\\user\\anaconda3\\envs\\pycaret\\lib\\site-packages\\catboost\\core.py:1411: FutureWarning: iteritems is deprecated and will be removed in a future version. Use .items instead.\n",
      "  self._init_pool(data, label, cat_features, text_features, embedding_features, embedding_features_data, pairs, weight,\n",
      "C:\\Users\\user\\anaconda3\\envs\\pycaret\\lib\\site-packages\\catboost\\core.py:1411: FutureWarning: iteritems is deprecated and will be removed in a future version. Use .items instead.\n",
      "  self._init_pool(data, label, cat_features, text_features, embedding_features, embedding_features_data, pairs, weight,\n",
      "C:\\Users\\user\\anaconda3\\envs\\pycaret\\lib\\site-packages\\catboost\\core.py:1411: FutureWarning: iteritems is deprecated and will be removed in a future version. Use .items instead.\n",
      "  self._init_pool(data, label, cat_features, text_features, embedding_features, embedding_features_data, pairs, weight,\n",
      "C:\\Users\\user\\anaconda3\\envs\\pycaret\\lib\\site-packages\\catboost\\core.py:1411: FutureWarning: iteritems is deprecated and will be removed in a future version. Use .items instead.\n",
      "  self._init_pool(data, label, cat_features, text_features, embedding_features, embedding_features_data, pairs, weight,\n",
      "C:\\Users\\user\\anaconda3\\envs\\pycaret\\lib\\site-packages\\catboost\\core.py:1411: FutureWarning: iteritems is deprecated and will be removed in a future version. Use .items instead.\n",
      "  self._init_pool(data, label, cat_features, text_features, embedding_features, embedding_features_data, pairs, weight,\n",
      "C:\\Users\\user\\anaconda3\\envs\\pycaret\\lib\\site-packages\\catboost\\core.py:1411: FutureWarning: iteritems is deprecated and will be removed in a future version. Use .items instead.\n",
      "  self._init_pool(data, label, cat_features, text_features, embedding_features, embedding_features_data, pairs, weight,\n",
      "C:\\Users\\user\\anaconda3\\envs\\pycaret\\lib\\site-packages\\catboost\\core.py:1411: FutureWarning: iteritems is deprecated and will be removed in a future version. Use .items instead.\n",
      "  self._init_pool(data, label, cat_features, text_features, embedding_features, embedding_features_data, pairs, weight,\n",
      "C:\\Users\\user\\anaconda3\\envs\\pycaret\\lib\\site-packages\\catboost\\core.py:1411: FutureWarning: iteritems is deprecated and will be removed in a future version. Use .items instead.\n",
      "  self._init_pool(data, label, cat_features, text_features, embedding_features, embedding_features_data, pairs, weight,\n",
      "C:\\Users\\user\\anaconda3\\envs\\pycaret\\lib\\site-packages\\catboost\\core.py:1411: FutureWarning: iteritems is deprecated and will be removed in a future version. Use .items instead.\n",
      "  self._init_pool(data, label, cat_features, text_features, embedding_features, embedding_features_data, pairs, weight,\n",
      "C:\\Users\\user\\anaconda3\\envs\\pycaret\\lib\\site-packages\\catboost\\core.py:1411: FutureWarning: iteritems is deprecated and will be removed in a future version. Use .items instead.\n",
      "  self._init_pool(data, label, cat_features, text_features, embedding_features, embedding_features_data, pairs, weight,\n",
      "C:\\Users\\user\\anaconda3\\envs\\pycaret\\lib\\site-packages\\catboost\\core.py:1411: FutureWarning: iteritems is deprecated and will be removed in a future version. Use .items instead.\n",
      "  self._init_pool(data, label, cat_features, text_features, embedding_features, embedding_features_data, pairs, weight,\n",
      "C:\\Users\\user\\anaconda3\\envs\\pycaret\\lib\\site-packages\\catboost\\core.py:1411: FutureWarning: iteritems is deprecated and will be removed in a future version. Use .items instead.\n",
      "  self._init_pool(data, label, cat_features, text_features, embedding_features, embedding_features_data, pairs, weight,\n",
      "C:\\Users\\user\\anaconda3\\envs\\pycaret\\lib\\site-packages\\catboost\\core.py:1411: FutureWarning: iteritems is deprecated and will be removed in a future version. Use .items instead.\n",
      "  self._init_pool(data, label, cat_features, text_features, embedding_features, embedding_features_data, pairs, weight,\n",
      "C:\\Users\\user\\anaconda3\\envs\\pycaret\\lib\\site-packages\\catboost\\core.py:1411: FutureWarning: iteritems is deprecated and will be removed in a future version. Use .items instead.\n",
      "  self._init_pool(data, label, cat_features, text_features, embedding_features, embedding_features_data, pairs, weight,\n",
      "C:\\Users\\user\\anaconda3\\envs\\pycaret\\lib\\site-packages\\catboost\\core.py:1411: FutureWarning: iteritems is deprecated and will be removed in a future version. Use .items instead.\n",
      "  self._init_pool(data, label, cat_features, text_features, embedding_features, embedding_features_data, pairs, weight,\n",
      "C:\\Users\\user\\anaconda3\\envs\\pycaret\\lib\\site-packages\\catboost\\core.py:1411: FutureWarning: iteritems is deprecated and will be removed in a future version. Use .items instead.\n",
      "  self._init_pool(data, label, cat_features, text_features, embedding_features, embedding_features_data, pairs, weight,\n",
      "C:\\Users\\user\\anaconda3\\envs\\pycaret\\lib\\site-packages\\catboost\\core.py:1411: FutureWarning: iteritems is deprecated and will be removed in a future version. Use .items instead.\n",
      "  self._init_pool(data, label, cat_features, text_features, embedding_features, embedding_features_data, pairs, weight,\n",
      "C:\\Users\\user\\anaconda3\\envs\\pycaret\\lib\\site-packages\\catboost\\core.py:1411: FutureWarning: iteritems is deprecated and will be removed in a future version. Use .items instead.\n",
      "  self._init_pool(data, label, cat_features, text_features, embedding_features, embedding_features_data, pairs, weight,\n",
      "C:\\Users\\user\\anaconda3\\envs\\pycaret\\lib\\site-packages\\catboost\\core.py:1411: FutureWarning: iteritems is deprecated and will be removed in a future version. Use .items instead.\n",
      "  self._init_pool(data, label, cat_features, text_features, embedding_features, embedding_features_data, pairs, weight,\n",
      "C:\\Users\\user\\anaconda3\\envs\\pycaret\\lib\\site-packages\\catboost\\core.py:1411: FutureWarning: iteritems is deprecated and will be removed in a future version. Use .items instead.\n",
      "  self._init_pool(data, label, cat_features, text_features, embedding_features, embedding_features_data, pairs, weight,\n",
      "C:\\Users\\user\\anaconda3\\envs\\pycaret\\lib\\site-packages\\catboost\\core.py:1411: FutureWarning: iteritems is deprecated and will be removed in a future version. Use .items instead.\n",
      "  self._init_pool(data, label, cat_features, text_features, embedding_features, embedding_features_data, pairs, weight,\n",
      "C:\\Users\\user\\anaconda3\\envs\\pycaret\\lib\\site-packages\\catboost\\core.py:1411: FutureWarning: iteritems is deprecated and will be removed in a future version. Use .items instead.\n",
      "  self._init_pool(data, label, cat_features, text_features, embedding_features, embedding_features_data, pairs, weight,\n",
      "C:\\Users\\user\\anaconda3\\envs\\pycaret\\lib\\site-packages\\catboost\\core.py:1411: FutureWarning: iteritems is deprecated and will be removed in a future version. Use .items instead.\n",
      "  self._init_pool(data, label, cat_features, text_features, embedding_features, embedding_features_data, pairs, weight,\n",
      "C:\\Users\\user\\anaconda3\\envs\\pycaret\\lib\\site-packages\\catboost\\core.py:1411: FutureWarning: iteritems is deprecated and will be removed in a future version. Use .items instead.\n",
      "  self._init_pool(data, label, cat_features, text_features, embedding_features, embedding_features_data, pairs, weight,\n",
      "C:\\Users\\user\\anaconda3\\envs\\pycaret\\lib\\site-packages\\catboost\\core.py:1411: FutureWarning: iteritems is deprecated and will be removed in a future version. Use .items instead.\n",
      "  self._init_pool(data, label, cat_features, text_features, embedding_features, embedding_features_data, pairs, weight,\n"
     ]
    },
    {
     "name": "stderr",
     "output_type": "stream",
     "text": [
      "C:\\Users\\user\\anaconda3\\envs\\pycaret\\lib\\site-packages\\catboost\\core.py:1411: FutureWarning: iteritems is deprecated and will be removed in a future version. Use .items instead.\n",
      "  self._init_pool(data, label, cat_features, text_features, embedding_features, embedding_features_data, pairs, weight,\n",
      "C:\\Users\\user\\anaconda3\\envs\\pycaret\\lib\\site-packages\\catboost\\core.py:1411: FutureWarning: iteritems is deprecated and will be removed in a future version. Use .items instead.\n",
      "  self._init_pool(data, label, cat_features, text_features, embedding_features, embedding_features_data, pairs, weight,\n",
      "C:\\Users\\user\\anaconda3\\envs\\pycaret\\lib\\site-packages\\catboost\\core.py:1411: FutureWarning: iteritems is deprecated and will be removed in a future version. Use .items instead.\n",
      "  self._init_pool(data, label, cat_features, text_features, embedding_features, embedding_features_data, pairs, weight,\n",
      "C:\\Users\\user\\anaconda3\\envs\\pycaret\\lib\\site-packages\\catboost\\core.py:1411: FutureWarning: iteritems is deprecated and will be removed in a future version. Use .items instead.\n",
      "  self._init_pool(data, label, cat_features, text_features, embedding_features, embedding_features_data, pairs, weight,\n",
      "C:\\Users\\user\\anaconda3\\envs\\pycaret\\lib\\site-packages\\catboost\\core.py:1411: FutureWarning: iteritems is deprecated and will be removed in a future version. Use .items instead.\n",
      "  self._init_pool(data, label, cat_features, text_features, embedding_features, embedding_features_data, pairs, weight,\n",
      "C:\\Users\\user\\anaconda3\\envs\\pycaret\\lib\\site-packages\\catboost\\core.py:1411: FutureWarning: iteritems is deprecated and will be removed in a future version. Use .items instead.\n",
      "  self._init_pool(data, label, cat_features, text_features, embedding_features, embedding_features_data, pairs, weight,\n",
      "C:\\Users\\user\\anaconda3\\envs\\pycaret\\lib\\site-packages\\catboost\\core.py:1411: FutureWarning: iteritems is deprecated and will be removed in a future version. Use .items instead.\n",
      "  self._init_pool(data, label, cat_features, text_features, embedding_features, embedding_features_data, pairs, weight,\n"
     ]
    }
   ],
   "source": [
    "cat_preds = []\n",
    "\n",
    "for model in models:\n",
    "    preds = model.predict_proba(test[features])[:,1]\n",
    "    cat_preds.append(preds)"
   ]
  },
  {
   "cell_type": "code",
   "execution_count": 7,
   "id": "d3f8a06a",
   "metadata": {},
   "outputs": [],
   "source": [
    "# train = train.drop('Counseling_Calls',axis=1)\n",
    "# from pycaret import classification\n",
    "# classification.setup(data=train,target='Cancellation_Status')"
   ]
  },
  {
   "cell_type": "code",
   "execution_count": 8,
   "id": "72a14914",
   "metadata": {},
   "outputs": [],
   "source": [
    "# best = classification.compare_models(sort='ACC',n_select=4,fold=10)"
   ]
  },
  {
   "cell_type": "code",
   "execution_count": 9,
   "id": "2a88a634",
   "metadata": {},
   "outputs": [],
   "source": [
    "# kf = StratifiedKFold(n_splits = 10, random_state = 1, shuffle = True)\n",
    "# val_scores = []\n",
    "\n",
    "# params = {'scale_pos_weight': 2,\n",
    "#  #'lambda_l2': 14.705798704172345,\n",
    "#  'num_leaves': 10,\n",
    "#  'learning_rate': 0.005,\n",
    "#  #'feature_fraction': 0.8402041342033796,\n",
    "#  #'bagging_fraction': 0.5053012488246705,\n",
    "#  'bagging_freq': 5,\n",
    "#  'min_child_samples': 10,\n",
    "#  'min_data_in_leaf': 10,\n",
    "#  'max_depth': 10,\n",
    "#  'random_state' : 41}\n",
    "# # params = study.best_params\n",
    "\n",
    "# for i, (train_index, val_index) in tqdm(enumerate(kf.split(train, train[target]))):\n",
    "    \n",
    "#     X_train, X_val = train[features].loc[train_index], train[features].loc[val_index]\n",
    "#     y_train, y_val = train[target][train_index], train[target][val_index]\n",
    "    \n",
    "# #     if include_orig:\n",
    "# #         X_train = X_train.append(original[features], ignore_index = True)\n",
    "# #         y_train = y_train.append(original[target], ignore_index = True)\n",
    "    \n",
    "#     model = LGBMClassifier(**params)\n",
    "    \n",
    "#     model.fit(X_train, y_train)\n",
    "    \n",
    "#     models.append(model)\n",
    "#     pred = model.predict(X_val)\n",
    "#     score = f1_score(y_val, pred)\n",
    "\n",
    "#     val_scores.append(score)\n",
    "    \n",
    "#     print(f'score on fold {i}: {score:.4f}')\n",
    "    \n",
    "# print(f'mean score across all folds: {np.mean(val_scores):.4f}')"
   ]
  },
  {
   "cell_type": "code",
   "execution_count": 29,
   "id": "2e4bc308",
   "metadata": {},
   "outputs": [
    {
     "data": {
      "text/plain": [
       "[array([0.04887341, 0.076966  , 0.0147471 , ..., 0.06983164, 0.1158825 ,\n",
       "        0.16609044]),\n",
       " array([0.07624363, 0.09230153, 0.00860205, ..., 0.05373085, 0.1394272 ,\n",
       "        0.10218958]),\n",
       " array([0.04032014, 0.08989772, 0.02208964, ..., 0.08518842, 0.09227452,\n",
       "        0.07881463]),\n",
       " array([0.04504841, 0.06742558, 0.01044975, ..., 0.09157784, 0.07123837,\n",
       "        0.0975475 ]),\n",
       " array([0.03360361, 0.09108938, 0.00874788, ..., 0.06414678, 0.07415759,\n",
       "        0.06909984]),\n",
       " array([0.06389833, 0.07036848, 0.01020262, ..., 0.05190571, 0.11169465,\n",
       "        0.09029181]),\n",
       " array([0.05616647, 0.11109023, 0.01261172, ..., 0.07796096, 0.07092824,\n",
       "        0.12067618]),\n",
       " array([0.04775146, 0.07303656, 0.00692096, ..., 0.06975249, 0.05886046,\n",
       "        0.06189926]),\n",
       " array([0.04635539, 0.06860761, 0.02673747, ..., 0.08346544, 0.07181918,\n",
       "        0.05330514]),\n",
       " array([0.06366599, 0.13109741, 0.0086536 , ..., 0.0821604 , 0.08395239,\n",
       "        0.09311153]),\n",
       " array([0.05580577, 0.07187397, 0.01930614, ..., 0.05279022, 0.07895575,\n",
       "        0.08738659]),\n",
       " array([0.04331445, 0.08859   , 0.02967248, ..., 0.03881319, 0.09275418,\n",
       "        0.07142328]),\n",
       " array([0.04120541, 0.07447637, 0.02088672, ..., 0.04297629, 0.07720276,\n",
       "        0.04528912]),\n",
       " array([0.04457068, 0.08698961, 0.03721134, ..., 0.06843561, 0.07649675,\n",
       "        0.06617677]),\n",
       " array([0.04368552, 0.07176619, 0.01389823, ..., 0.05034401, 0.07947095,\n",
       "        0.07982329]),\n",
       " array([0.04957855, 0.09296637, 0.01472247, ..., 0.06698397, 0.13777419,\n",
       "        0.05548646]),\n",
       " array([0.05786415, 0.09321018, 0.00712824, ..., 0.07683361, 0.06264182,\n",
       "        0.10952343]),\n",
       " array([0.07522879, 0.07012625, 0.0197316 , ..., 0.04423545, 0.03623008,\n",
       "        0.10402241]),\n",
       " array([0.03431937, 0.13330764, 0.01097884, ..., 0.06146166, 0.06073646,\n",
       "        0.13099595]),\n",
       " array([0.06324548, 0.0964454 , 0.01339934, ..., 0.08120177, 0.08954717,\n",
       "        0.14712429]),\n",
       " array([0.03730693, 0.09523172, 0.01382151, ..., 0.07254936, 0.0902924 ,\n",
       "        0.0942281 ]),\n",
       " array([0.03860993, 0.08374822, 0.00868591, ..., 0.0562829 , 0.12279894,\n",
       "        0.12301854]),\n",
       " array([0.04303259, 0.08355896, 0.0398725 , ..., 0.05754935, 0.0971606 ,\n",
       "        0.12999853]),\n",
       " array([0.03394426, 0.06120147, 0.02046406, ..., 0.06496414, 0.09723486,\n",
       "        0.06429381]),\n",
       " array([0.04127074, 0.11271762, 0.0160043 , ..., 0.10061367, 0.1805489 ,\n",
       "        0.08904057]),\n",
       " array([0.05331618, 0.12090206, 0.01014934, ..., 0.05326299, 0.06825203,\n",
       "        0.08392344]),\n",
       " array([0.05902896, 0.11264473, 0.02177508, ..., 0.09878517, 0.0795569 ,\n",
       "        0.0899381 ]),\n",
       " array([0.04136912, 0.08702282, 0.00864255, ..., 0.06695001, 0.05696061,\n",
       "        0.07365168]),\n",
       " array([0.05578467, 0.09177686, 0.02152497, ..., 0.07054813, 0.13498399,\n",
       "        0.06907994]),\n",
       " array([0.04534323, 0.0782057 , 0.01174138, ..., 0.06545413, 0.05827886,\n",
       "        0.08453333]),\n",
       " array([0.04229107, 0.1019775 , 0.01692574, ..., 0.05776843, 0.10146724,\n",
       "        0.07992155]),\n",
       " array([0.04556321, 0.09578969, 0.00632337, ..., 0.04443491, 0.05833878,\n",
       "        0.14774414]),\n",
       " array([0.02810633, 0.09332664, 0.03072083, ..., 0.0751531 , 0.07712895,\n",
       "        0.09448084]),\n",
       " array([0.05251052, 0.09248851, 0.00702595, ..., 0.04934074, 0.12027825,\n",
       "        0.14339015]),\n",
       " array([0.04370761, 0.12159939, 0.01138833, ..., 0.06996259, 0.10969346,\n",
       "        0.12955375]),\n",
       " array([0.04049282, 0.10643023, 0.01073105, ..., 0.04935009, 0.11784378,\n",
       "        0.04760389]),\n",
       " array([0.04230841, 0.09187701, 0.01087658, ..., 0.0620463 , 0.04984163,\n",
       "        0.07318122]),\n",
       " array([0.06407058, 0.08425593, 0.012756  , ..., 0.0827547 , 0.04087319,\n",
       "        0.08720321]),\n",
       " array([0.05081931, 0.09035589, 0.02575983, ..., 0.07102519, 0.12889634,\n",
       "        0.19270988]),\n",
       " array([0.07001958, 0.07601073, 0.00706501, ..., 0.0729413 , 0.11973032,\n",
       "        0.04977354]),\n",
       " array([0.05905264, 0.0893669 , 0.01564733, ..., 0.07810623, 0.10630995,\n",
       "        0.06835404]),\n",
       " array([0.03163771, 0.10805662, 0.01512719, ..., 0.05245901, 0.10645276,\n",
       "        0.1367756 ]),\n",
       " array([0.0615983 , 0.09193073, 0.01545414, ..., 0.09460002, 0.06134436,\n",
       "        0.08464744]),\n",
       " array([0.05164182, 0.09309777, 0.02054639, ..., 0.04507185, 0.07523337,\n",
       "        0.09870081]),\n",
       " array([0.04071834, 0.09180066, 0.00771172, ..., 0.07542265, 0.13531024,\n",
       "        0.05326959]),\n",
       " array([0.03724797, 0.09885029, 0.01277959, ..., 0.04591926, 0.04218783,\n",
       "        0.11671352]),\n",
       " array([0.0444762 , 0.08459139, 0.0074609 , ..., 0.07210674, 0.10255421,\n",
       "        0.09471847]),\n",
       " array([0.03538961, 0.08220183, 0.01344523, ..., 0.05989051, 0.08593968,\n",
       "        0.14542281]),\n",
       " array([0.04101587, 0.08258582, 0.02166862, ..., 0.08200713, 0.08096612,\n",
       "        0.06814009]),\n",
       " array([0.06314078, 0.11922103, 0.02450531, ..., 0.05918325, 0.11501233,\n",
       "        0.16525817]),\n",
       " array([0.05343462, 0.0840466 , 0.00736919, ..., 0.06092165, 0.07460119,\n",
       "        0.12550206]),\n",
       " array([0.05312462, 0.07930494, 0.00914514, ..., 0.07912693, 0.09672537,\n",
       "        0.06644449]),\n",
       " array([0.05893792, 0.09271281, 0.01667131, ..., 0.0503326 , 0.08017413,\n",
       "        0.13850338]),\n",
       " array([0.04446215, 0.06536612, 0.00988119, ..., 0.05714541, 0.08600128,\n",
       "        0.08699392]),\n",
       " array([0.06660819, 0.09896353, 0.01433783, ..., 0.04062954, 0.08259207,\n",
       "        0.15789652]),\n",
       " array([0.06573045, 0.08078861, 0.01956112, ..., 0.07754581, 0.09167622,\n",
       "        0.03946258]),\n",
       " array([0.06430041, 0.09826644, 0.00829356, ..., 0.04265956, 0.11317726,\n",
       "        0.10895299]),\n",
       " array([0.03984133, 0.06972874, 0.02781508, ..., 0.08284237, 0.09983252,\n",
       "        0.02882857]),\n",
       " array([0.03740211, 0.08967741, 0.01140537, ..., 0.04816729, 0.10029976,\n",
       "        0.0865089 ]),\n",
       " array([0.05513282, 0.11361265, 0.00667258, ..., 0.05223254, 0.08731118,\n",
       "        0.08376929]),\n",
       " array([0.0461681 , 0.09430448, 0.02143444, ..., 0.06963783, 0.07262741,\n",
       "        0.06147837]),\n",
       " array([0.03408834, 0.07501087, 0.01334865, ..., 0.07815889, 0.09129116,\n",
       "        0.06686642]),\n",
       " array([0.04270188, 0.09999403, 0.01573202, ..., 0.05824494, 0.09412208,\n",
       "        0.15148495]),\n",
       " array([0.03899995, 0.12192253, 0.02928695, ..., 0.05503649, 0.11597527,\n",
       "        0.07763074]),\n",
       " array([0.07713038, 0.07929839, 0.01726763, ..., 0.06825277, 0.11491051,\n",
       "        0.06092667]),\n",
       " array([0.05903002, 0.06652385, 0.00600544, ..., 0.08406429, 0.05246992,\n",
       "        0.06673482]),\n",
       " array([0.02901021, 0.08365364, 0.02731822, ..., 0.06860211, 0.11563816,\n",
       "        0.0390739 ]),\n",
       " array([0.08725589, 0.10731341, 0.01363257, ..., 0.05130817, 0.07449499,\n",
       "        0.12046856]),\n",
       " array([0.04306518, 0.09502416, 0.01546019, ..., 0.08504135, 0.06733507,\n",
       "        0.09050101]),\n",
       " array([0.04410584, 0.06200354, 0.01774846, ..., 0.05521392, 0.06411641,\n",
       "        0.0664469 ]),\n",
       " array([0.04313423, 0.07110433, 0.01035041, ..., 0.07053117, 0.1592176 ,\n",
       "        0.08940661]),\n",
       " array([0.04750455, 0.10189354, 0.01963569, ..., 0.04994783, 0.11197426,\n",
       "        0.06182383]),\n",
       " array([0.0443578 , 0.06354626, 0.01037971, ..., 0.05490573, 0.08975913,\n",
       "        0.11177464]),\n",
       " array([0.03785763, 0.0733584 , 0.00822644, ..., 0.05916011, 0.09394276,\n",
       "        0.09765676]),\n",
       " array([0.05757212, 0.07196284, 0.00756221, ..., 0.09439464, 0.05997262,\n",
       "        0.07985635]),\n",
       " array([0.059081  , 0.08995705, 0.00772395, ..., 0.06985215, 0.07031936,\n",
       "        0.07887845]),\n",
       " array([0.03931023, 0.10849148, 0.02244484, ..., 0.05445646, 0.07961672,\n",
       "        0.08800565]),\n",
       " array([0.04065908, 0.08834634, 0.00928266, ..., 0.06492325, 0.11731554,\n",
       "        0.10194277]),\n",
       " array([0.05806655, 0.06370064, 0.01550313, ..., 0.05745511, 0.10089359,\n",
       "        0.11052196]),\n",
       " array([0.04435511, 0.12174296, 0.019135  , ..., 0.0833194 , 0.183031  ,\n",
       "        0.06018518]),\n",
       " array([0.0636619 , 0.08904897, 0.00996955, ..., 0.06449959, 0.07375251,\n",
       "        0.17998047]),\n",
       " array([0.04917014, 0.05548847, 0.01733015, ..., 0.06960721, 0.09425962,\n",
       "        0.19246579]),\n",
       " array([0.03409588, 0.08361872, 0.01986545, ..., 0.05892524, 0.088031  ,\n",
       "        0.06681029]),\n",
       " array([0.06940148, 0.09979148, 0.01171202, ..., 0.06856574, 0.0865514 ,\n",
       "        0.13617299]),\n",
       " array([0.06534198, 0.06859366, 0.02631665, ..., 0.0528443 , 0.07531297,\n",
       "        0.08758028]),\n",
       " array([0.05251469, 0.10388916, 0.01327101, ..., 0.08198382, 0.07493736,\n",
       "        0.06685098]),\n",
       " array([0.05510151, 0.12623316, 0.02826625, ..., 0.06483191, 0.07021171,\n",
       "        0.09650163]),\n",
       " array([0.0468117 , 0.07074191, 0.02878106, ..., 0.07041855, 0.13464938,\n",
       "        0.14386413]),\n",
       " array([0.05599143, 0.12163829, 0.00987438, ..., 0.06780225, 0.06775936,\n",
       "        0.09878848]),\n",
       " array([0.05581448, 0.0928275 , 0.0159116 , ..., 0.12754221, 0.06594084,\n",
       "        0.11710395]),\n",
       " array([0.0400435 , 0.09362762, 0.01576984, ..., 0.07808278, 0.13885623,\n",
       "        0.09859626]),\n",
       " array([0.07202317, 0.07749482, 0.02685135, ..., 0.0611472 , 0.10814559,\n",
       "        0.09441365]),\n",
       " array([0.04468064, 0.12204355, 0.01745105, ..., 0.06862627, 0.06640578,\n",
       "        0.04698341]),\n",
       " array([0.03993416, 0.07977215, 0.00776264, ..., 0.10120069, 0.10657694,\n",
       "        0.07352651]),\n",
       " array([0.05991258, 0.09340994, 0.00796528, ..., 0.08753308, 0.10247683,\n",
       "        0.10713465]),\n",
       " array([0.02918188, 0.06784529, 0.01111876, ..., 0.05494451, 0.09419335,\n",
       "        0.07082302]),\n",
       " array([0.04074328, 0.08208672, 0.01950723, ..., 0.03972907, 0.08930194,\n",
       "        0.05690775]),\n",
       " array([0.03300391, 0.09720399, 0.01480989, ..., 0.08916088, 0.10228091,\n",
       "        0.09353904]),\n",
       " array([0.04709087, 0.11898389, 0.01767993, ..., 0.05612414, 0.08068867,\n",
       "        0.08489786]),\n",
       " array([0.05536177, 0.08882357, 0.02517455, ..., 0.07062562, 0.11352587,\n",
       "        0.10905451])]"
      ]
     },
     "execution_count": 29,
     "metadata": {},
     "output_type": "execute_result"
    }
   ],
   "source": [
    "cat_preds"
   ]
  },
  {
   "cell_type": "code",
   "execution_count": 40,
   "id": "f8613ce3",
   "metadata": {},
   "outputs": [],
   "source": [
    "target = []\n",
    "for i in np.array(cat_preds).mean(axis=0):\n",
    "    if i < 0.227:\n",
    "        target.append(0)\n",
    "    else:\n",
    "        target.append(1)"
   ]
  },
  {
   "cell_type": "code",
   "execution_count": 41,
   "id": "ae46eb7b",
   "metadata": {},
   "outputs": [],
   "source": [
    "sample = pd.read_csv('./sample_submission.csv',index_col='ID')\n",
    "sample['전화해지여부'] = target\n",
    "sample.to_csv('./submission.csv')"
   ]
  },
  {
   "cell_type": "code",
   "execution_count": 42,
   "id": "2f276401",
   "metadata": {},
   "outputs": [
    {
     "data": {
      "text/plain": [
       "0    11455\n",
       "1     1488\n",
       "Name: 전화해지여부, dtype: int64"
      ]
     },
     "execution_count": 42,
     "metadata": {},
     "output_type": "execute_result"
    }
   ],
   "source": [
    "sample['전화해지여부'].value_counts()\n"
   ]
  },
  {
   "cell_type": "code",
   "execution_count": 43,
   "id": "ea1d0aca",
   "metadata": {},
   "outputs": [
    {
     "data": {
      "text/plain": [
       "0    26882\n",
       "1     3318\n",
       "Name: Cancellation_Status, dtype: int64"
      ]
     },
     "execution_count": 43,
     "metadata": {},
     "output_type": "execute_result"
    }
   ],
   "source": [
    "train['Cancellation_Status'].value_counts()"
   ]
  },
  {
   "cell_type": "code",
   "execution_count": 46,
   "id": "cd28a700",
   "metadata": {},
   "outputs": [
    {
     "data": {
      "text/plain": [
       "0.11496561848103222"
      ]
     },
     "execution_count": 46,
     "metadata": {},
     "output_type": "execute_result"
    }
   ],
   "source": [
    "1488/len(sample)"
   ]
  },
  {
   "cell_type": "code",
   "execution_count": 47,
   "id": "1d2f41e1",
   "metadata": {},
   "outputs": [
    {
     "data": {
      "text/plain": [
       "0.10986754966887417"
      ]
     },
     "execution_count": 47,
     "metadata": {},
     "output_type": "execute_result"
    }
   ],
   "source": [
    "3318/len(train)"
   ]
  },
  {
   "cell_type": "code",
   "execution_count": null,
   "id": "b9a16139",
   "metadata": {},
   "outputs": [],
   "source": []
  },
  {
   "cell_type": "code",
   "execution_count": null,
   "id": "eab6aac2",
   "metadata": {},
   "outputs": [],
   "source": []
  }
 ],
 "metadata": {
  "kernelspec": {
   "display_name": "Python 3 (ipykernel)",
   "language": "python",
   "name": "python3"
  },
  "language_info": {
   "codemirror_mode": {
    "name": "ipython",
    "version": 3
   },
   "file_extension": ".py",
   "mimetype": "text/x-python",
   "name": "python",
   "nbconvert_exporter": "python",
   "pygments_lexer": "ipython3",
   "version": "3.8.16"
  }
 },
 "nbformat": 4,
 "nbformat_minor": 5
}
