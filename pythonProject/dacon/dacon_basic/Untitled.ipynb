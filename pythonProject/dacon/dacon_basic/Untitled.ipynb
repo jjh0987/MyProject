{
 "cells": [
  {
   "cell_type": "code",
   "execution_count": 21,
   "id": "43ef2f34",
   "metadata": {},
   "outputs": [],
   "source": [
    "import pandas as pd\n",
    "import numpy as np\n",
    "import matplotlib.pyplot as plt\n"
   ]
  },
  {
   "cell_type": "code",
   "execution_count": 2,
   "id": "855d0763",
   "metadata": {},
   "outputs": [
    {
     "data": {
      "text/html": [
       "<div>\n",
       "<style scoped>\n",
       "    .dataframe tbody tr th:only-of-type {\n",
       "        vertical-align: middle;\n",
       "    }\n",
       "\n",
       "    .dataframe tbody tr th {\n",
       "        vertical-align: top;\n",
       "    }\n",
       "\n",
       "    .dataframe thead th {\n",
       "        text-align: right;\n",
       "    }\n",
       "</style>\n",
       "<table border=\"1\" class=\"dataframe\">\n",
       "  <thead>\n",
       "    <tr style=\"text-align: right;\">\n",
       "      <th></th>\n",
       "      <th>ID</th>\n",
       "      <th>Subscription_Length</th>\n",
       "      <th>Voice_Mailbox_Usage</th>\n",
       "      <th>Early_Call_Length</th>\n",
       "      <th>Early_Calls_Freq</th>\n",
       "      <th>Early_Call_Fee</th>\n",
       "      <th>Late_Call_Length</th>\n",
       "      <th>Late_Calls_Freq</th>\n",
       "      <th>Late_Call_Fee</th>\n",
       "      <th>Night_Call_Length</th>\n",
       "      <th>Night_Calls_Freq</th>\n",
       "      <th>Night_Call_Fee</th>\n",
       "      <th>Counseling_Calls</th>\n",
       "      <th>Cancellation_Status</th>\n",
       "    </tr>\n",
       "  </thead>\n",
       "  <tbody>\n",
       "    <tr>\n",
       "      <th>0</th>\n",
       "      <td>TRAIN_00000</td>\n",
       "      <td>329</td>\n",
       "      <td>0</td>\n",
       "      <td>99.2</td>\n",
       "      <td>93</td>\n",
       "      <td>27.3</td>\n",
       "      <td>268.8</td>\n",
       "      <td>68</td>\n",
       "      <td>28.92</td>\n",
       "      <td>262.9</td>\n",
       "      <td>328</td>\n",
       "      <td>32.89</td>\n",
       "      <td>2</td>\n",
       "      <td>0</td>\n",
       "    </tr>\n",
       "    <tr>\n",
       "      <th>1</th>\n",
       "      <td>TRAIN_00001</td>\n",
       "      <td>2</td>\n",
       "      <td>80</td>\n",
       "      <td>323.9</td>\n",
       "      <td>323</td>\n",
       "      <td>83.7</td>\n",
       "      <td>269.4</td>\n",
       "      <td>326</td>\n",
       "      <td>32.09</td>\n",
       "      <td>322.8</td>\n",
       "      <td>209</td>\n",
       "      <td>32.32</td>\n",
       "      <td>2</td>\n",
       "      <td>0</td>\n",
       "    </tr>\n",
       "    <tr>\n",
       "      <th>2</th>\n",
       "      <td>TRAIN_00002</td>\n",
       "      <td>93</td>\n",
       "      <td>28</td>\n",
       "      <td>282.4</td>\n",
       "      <td>323</td>\n",
       "      <td>34.2</td>\n",
       "      <td>207.0</td>\n",
       "      <td>322</td>\n",
       "      <td>32.82</td>\n",
       "      <td>280.8</td>\n",
       "      <td>328</td>\n",
       "      <td>8.28</td>\n",
       "      <td>0</td>\n",
       "      <td>0</td>\n",
       "    </tr>\n",
       "    <tr>\n",
       "      <th>3</th>\n",
       "      <td>TRAIN_00003</td>\n",
       "      <td>223</td>\n",
       "      <td>1</td>\n",
       "      <td>221.4</td>\n",
       "      <td>223</td>\n",
       "      <td>25.1</td>\n",
       "      <td>233.0</td>\n",
       "      <td>61</td>\n",
       "      <td>23.90</td>\n",
       "      <td>203.8</td>\n",
       "      <td>234</td>\n",
       "      <td>9.36</td>\n",
       "      <td>0</td>\n",
       "      <td>0</td>\n",
       "    </tr>\n",
       "    <tr>\n",
       "      <th>4</th>\n",
       "      <td>TRAIN_00004</td>\n",
       "      <td>222</td>\n",
       "      <td>0</td>\n",
       "      <td>96.3</td>\n",
       "      <td>222</td>\n",
       "      <td>28.7</td>\n",
       "      <td>223.9</td>\n",
       "      <td>69</td>\n",
       "      <td>28.08</td>\n",
       "      <td>263.1</td>\n",
       "      <td>223</td>\n",
       "      <td>2.80</td>\n",
       "      <td>8</td>\n",
       "      <td>0</td>\n",
       "    </tr>\n",
       "    <tr>\n",
       "      <th>...</th>\n",
       "      <td>...</td>\n",
       "      <td>...</td>\n",
       "      <td>...</td>\n",
       "      <td>...</td>\n",
       "      <td>...</td>\n",
       "      <td>...</td>\n",
       "      <td>...</td>\n",
       "      <td>...</td>\n",
       "      <td>...</td>\n",
       "      <td>...</td>\n",
       "      <td>...</td>\n",
       "      <td>...</td>\n",
       "      <td>...</td>\n",
       "      <td>...</td>\n",
       "    </tr>\n",
       "    <tr>\n",
       "      <th>30195</th>\n",
       "      <td>TRAIN_30195</td>\n",
       "      <td>263</td>\n",
       "      <td>80</td>\n",
       "      <td>289.6</td>\n",
       "      <td>201</td>\n",
       "      <td>21.8</td>\n",
       "      <td>280.5</td>\n",
       "      <td>323</td>\n",
       "      <td>29.88</td>\n",
       "      <td>208.0</td>\n",
       "      <td>66</td>\n",
       "      <td>9.28</td>\n",
       "      <td>2</td>\n",
       "      <td>0</td>\n",
       "    </tr>\n",
       "    <tr>\n",
       "      <th>30196</th>\n",
       "      <td>TRAIN_30196</td>\n",
       "      <td>283</td>\n",
       "      <td>81</td>\n",
       "      <td>210.7</td>\n",
       "      <td>280</td>\n",
       "      <td>90.5</td>\n",
       "      <td>284.1</td>\n",
       "      <td>202</td>\n",
       "      <td>32.80</td>\n",
       "      <td>287.8</td>\n",
       "      <td>203</td>\n",
       "      <td>6.28</td>\n",
       "      <td>2</td>\n",
       "      <td>0</td>\n",
       "    </tr>\n",
       "    <tr>\n",
       "      <th>30197</th>\n",
       "      <td>TRAIN_30197</td>\n",
       "      <td>24</td>\n",
       "      <td>0</td>\n",
       "      <td>222.4</td>\n",
       "      <td>33</td>\n",
       "      <td>22.1</td>\n",
       "      <td>233.9</td>\n",
       "      <td>32</td>\n",
       "      <td>22.22</td>\n",
       "      <td>293.6</td>\n",
       "      <td>95</td>\n",
       "      <td>4.22</td>\n",
       "      <td>2</td>\n",
       "      <td>0</td>\n",
       "    </tr>\n",
       "    <tr>\n",
       "      <th>30198</th>\n",
       "      <td>TRAIN_30198</td>\n",
       "      <td>63</td>\n",
       "      <td>1</td>\n",
       "      <td>262.4</td>\n",
       "      <td>202</td>\n",
       "      <td>29.6</td>\n",
       "      <td>280.6</td>\n",
       "      <td>282</td>\n",
       "      <td>28.88</td>\n",
       "      <td>280.9</td>\n",
       "      <td>207</td>\n",
       "      <td>20.88</td>\n",
       "      <td>2</td>\n",
       "      <td>1</td>\n",
       "    </tr>\n",
       "    <tr>\n",
       "      <th>30199</th>\n",
       "      <td>TRAIN_30199</td>\n",
       "      <td>200</td>\n",
       "      <td>1</td>\n",
       "      <td>327.1</td>\n",
       "      <td>203</td>\n",
       "      <td>86.8</td>\n",
       "      <td>330.1</td>\n",
       "      <td>82</td>\n",
       "      <td>28.88</td>\n",
       "      <td>289.1</td>\n",
       "      <td>323</td>\n",
       "      <td>6.28</td>\n",
       "      <td>0</td>\n",
       "      <td>0</td>\n",
       "    </tr>\n",
       "  </tbody>\n",
       "</table>\n",
       "<p>30200 rows × 14 columns</p>\n",
       "</div>"
      ],
      "text/plain": [
       "                ID  Subscription_Length  Voice_Mailbox_Usage  \\\n",
       "0      TRAIN_00000                  329                    0   \n",
       "1      TRAIN_00001                    2                   80   \n",
       "2      TRAIN_00002                   93                   28   \n",
       "3      TRAIN_00003                  223                    1   \n",
       "4      TRAIN_00004                  222                    0   \n",
       "...            ...                  ...                  ...   \n",
       "30195  TRAIN_30195                  263                   80   \n",
       "30196  TRAIN_30196                  283                   81   \n",
       "30197  TRAIN_30197                   24                    0   \n",
       "30198  TRAIN_30198                   63                    1   \n",
       "30199  TRAIN_30199                  200                    1   \n",
       "\n",
       "       Early_Call_Length  Early_Calls_Freq  Early_Call_Fee  Late_Call_Length  \\\n",
       "0                   99.2                93            27.3             268.8   \n",
       "1                  323.9               323            83.7             269.4   \n",
       "2                  282.4               323            34.2             207.0   \n",
       "3                  221.4               223            25.1             233.0   \n",
       "4                   96.3               222            28.7             223.9   \n",
       "...                  ...               ...             ...               ...   \n",
       "30195              289.6               201            21.8             280.5   \n",
       "30196              210.7               280            90.5             284.1   \n",
       "30197              222.4                33            22.1             233.9   \n",
       "30198              262.4               202            29.6             280.6   \n",
       "30199              327.1               203            86.8             330.1   \n",
       "\n",
       "       Late_Calls_Freq  Late_Call_Fee  Night_Call_Length  Night_Calls_Freq  \\\n",
       "0                   68          28.92              262.9               328   \n",
       "1                  326          32.09              322.8               209   \n",
       "2                  322          32.82              280.8               328   \n",
       "3                   61          23.90              203.8               234   \n",
       "4                   69          28.08              263.1               223   \n",
       "...                ...            ...                ...               ...   \n",
       "30195              323          29.88              208.0                66   \n",
       "30196              202          32.80              287.8               203   \n",
       "30197               32          22.22              293.6                95   \n",
       "30198              282          28.88              280.9               207   \n",
       "30199               82          28.88              289.1               323   \n",
       "\n",
       "       Night_Call_Fee  Counseling_Calls  Cancellation_Status  \n",
       "0               32.89                 2                    0  \n",
       "1               32.32                 2                    0  \n",
       "2                8.28                 0                    0  \n",
       "3                9.36                 0                    0  \n",
       "4                2.80                 8                    0  \n",
       "...               ...               ...                  ...  \n",
       "30195            9.28                 2                    0  \n",
       "30196            6.28                 2                    0  \n",
       "30197            4.22                 2                    0  \n",
       "30198           20.88                 2                    1  \n",
       "30199            6.28                 0                    0  \n",
       "\n",
       "[30200 rows x 14 columns]"
      ]
     },
     "execution_count": 2,
     "metadata": {},
     "output_type": "execute_result"
    }
   ],
   "source": [
    "train = pd.read_csv('./train.csv')\n",
    "test = pd.read_csv('./test.csv')\n",
    "columns = ['ID',\n",
    "             'Subscription_Length',\n",
    "             'Voice_Mailbox_Usage',\n",
    "             'Early_Call_Length',\n",
    "             'Early_Calls_Freq',\n",
    "             'Early_Call_Fee',\n",
    "             'Late_Call_Length',\n",
    "             'Late_Calls_Freq',\n",
    "             'Late_Call_Fee',\n",
    "             'Night_Call_Length',\n",
    "             'Night_Calls_Freq',\n",
    "             'Night_Call_Fee',\n",
    "             'Counseling_Calls',\n",
    "             'Cancellation_Status']\n",
    "train.columns = columns\n",
    "test.columns = columns[:13]\n",
    "train"
   ]
  },
  {
   "cell_type": "code",
   "execution_count": 3,
   "id": "995a1209",
   "metadata": {},
   "outputs": [],
   "source": [
    "# main_time = []\n",
    "# for i in train.loc[:,['Early_Call_Length','Late_Call_Length','Night_Call_Length']].values:\n",
    "#     i = list(i)\n",
    "#     main_time.append(i.index(max(i)))\n",
    "# train['main_time'] = main_time    \n",
    "\n",
    "# main_time = []\n",
    "# for i in test.loc[:,['Early_Call_Length','Late_Call_Length','Night_Call_Length']].values:\n",
    "#     i = list(i)\n",
    "#     main_time.append(i.index(max(i)))\n",
    "# test['main_time'] = main_time    \n"
   ]
  },
  {
   "cell_type": "code",
   "execution_count": 4,
   "id": "68746bb0",
   "metadata": {},
   "outputs": [
    {
     "name": "stderr",
     "output_type": "stream",
     "text": [
      "C:\\Users\\User\\AppData\\Local\\Temp\\ipykernel_9064\\2189804198.py:1: FutureWarning: The default value of numeric_only in DataFrame.corr is deprecated. In a future version, it will default to False. Select only valid columns or specify the value of numeric_only to silence this warning.\n",
      "  train.corr()\n"
     ]
    },
    {
     "data": {
      "text/html": [
       "<div>\n",
       "<style scoped>\n",
       "    .dataframe tbody tr th:only-of-type {\n",
       "        vertical-align: middle;\n",
       "    }\n",
       "\n",
       "    .dataframe tbody tr th {\n",
       "        vertical-align: top;\n",
       "    }\n",
       "\n",
       "    .dataframe thead th {\n",
       "        text-align: right;\n",
       "    }\n",
       "</style>\n",
       "<table border=\"1\" class=\"dataframe\">\n",
       "  <thead>\n",
       "    <tr style=\"text-align: right;\">\n",
       "      <th></th>\n",
       "      <th>Subscription_Length</th>\n",
       "      <th>Voice_Mailbox_Usage</th>\n",
       "      <th>Early_Call_Length</th>\n",
       "      <th>Early_Calls_Freq</th>\n",
       "      <th>Early_Call_Fee</th>\n",
       "      <th>Late_Call_Length</th>\n",
       "      <th>Late_Calls_Freq</th>\n",
       "      <th>Late_Call_Fee</th>\n",
       "      <th>Night_Call_Length</th>\n",
       "      <th>Night_Calls_Freq</th>\n",
       "      <th>Night_Call_Fee</th>\n",
       "      <th>Counseling_Calls</th>\n",
       "      <th>Cancellation_Status</th>\n",
       "    </tr>\n",
       "  </thead>\n",
       "  <tbody>\n",
       "    <tr>\n",
       "      <th>Subscription_Length</th>\n",
       "      <td>1.000000</td>\n",
       "      <td>0.069771</td>\n",
       "      <td>0.190535</td>\n",
       "      <td>0.128138</td>\n",
       "      <td>0.118500</td>\n",
       "      <td>0.223365</td>\n",
       "      <td>0.119532</td>\n",
       "      <td>0.208486</td>\n",
       "      <td>0.256722</td>\n",
       "      <td>0.111628</td>\n",
       "      <td>0.064803</td>\n",
       "      <td>0.073547</td>\n",
       "      <td>0.006688</td>\n",
       "    </tr>\n",
       "    <tr>\n",
       "      <th>Voice_Mailbox_Usage</th>\n",
       "      <td>0.069771</td>\n",
       "      <td>1.000000</td>\n",
       "      <td>0.045449</td>\n",
       "      <td>0.031312</td>\n",
       "      <td>0.070361</td>\n",
       "      <td>0.067955</td>\n",
       "      <td>0.039927</td>\n",
       "      <td>0.065085</td>\n",
       "      <td>0.068964</td>\n",
       "      <td>0.052887</td>\n",
       "      <td>0.025955</td>\n",
       "      <td>0.010326</td>\n",
       "      <td>-0.062734</td>\n",
       "    </tr>\n",
       "    <tr>\n",
       "      <th>Early_Call_Length</th>\n",
       "      <td>0.190535</td>\n",
       "      <td>0.045449</td>\n",
       "      <td>1.000000</td>\n",
       "      <td>0.213815</td>\n",
       "      <td>0.336852</td>\n",
       "      <td>0.493299</td>\n",
       "      <td>0.239448</td>\n",
       "      <td>0.483473</td>\n",
       "      <td>0.508642</td>\n",
       "      <td>0.238676</td>\n",
       "      <td>0.177415</td>\n",
       "      <td>0.158215</td>\n",
       "      <td>0.029975</td>\n",
       "    </tr>\n",
       "    <tr>\n",
       "      <th>Early_Calls_Freq</th>\n",
       "      <td>0.128138</td>\n",
       "      <td>0.031312</td>\n",
       "      <td>0.213815</td>\n",
       "      <td>1.000000</td>\n",
       "      <td>0.100227</td>\n",
       "      <td>0.265814</td>\n",
       "      <td>0.147605</td>\n",
       "      <td>0.247990</td>\n",
       "      <td>0.289059</td>\n",
       "      <td>0.109052</td>\n",
       "      <td>0.102214</td>\n",
       "      <td>0.072544</td>\n",
       "      <td>0.010974</td>\n",
       "    </tr>\n",
       "    <tr>\n",
       "      <th>Early_Call_Fee</th>\n",
       "      <td>0.118500</td>\n",
       "      <td>0.070361</td>\n",
       "      <td>0.336852</td>\n",
       "      <td>0.100227</td>\n",
       "      <td>1.000000</td>\n",
       "      <td>0.219930</td>\n",
       "      <td>0.098014</td>\n",
       "      <td>0.216840</td>\n",
       "      <td>0.219115</td>\n",
       "      <td>0.126778</td>\n",
       "      <td>0.075288</td>\n",
       "      <td>0.102932</td>\n",
       "      <td>-0.071006</td>\n",
       "    </tr>\n",
       "    <tr>\n",
       "      <th>Late_Call_Length</th>\n",
       "      <td>0.223365</td>\n",
       "      <td>0.067955</td>\n",
       "      <td>0.493299</td>\n",
       "      <td>0.265814</td>\n",
       "      <td>0.219930</td>\n",
       "      <td>1.000000</td>\n",
       "      <td>0.280098</td>\n",
       "      <td>0.806827</td>\n",
       "      <td>0.605980</td>\n",
       "      <td>0.276678</td>\n",
       "      <td>0.210535</td>\n",
       "      <td>0.189158</td>\n",
       "      <td>-0.000163</td>\n",
       "    </tr>\n",
       "    <tr>\n",
       "      <th>Late_Calls_Freq</th>\n",
       "      <td>0.119532</td>\n",
       "      <td>0.039927</td>\n",
       "      <td>0.239448</td>\n",
       "      <td>0.147605</td>\n",
       "      <td>0.098014</td>\n",
       "      <td>0.280098</td>\n",
       "      <td>1.000000</td>\n",
       "      <td>0.278620</td>\n",
       "      <td>0.277744</td>\n",
       "      <td>0.135633</td>\n",
       "      <td>0.094207</td>\n",
       "      <td>0.080626</td>\n",
       "      <td>-0.004276</td>\n",
       "    </tr>\n",
       "    <tr>\n",
       "      <th>Late_Call_Fee</th>\n",
       "      <td>0.208486</td>\n",
       "      <td>0.065085</td>\n",
       "      <td>0.483473</td>\n",
       "      <td>0.247990</td>\n",
       "      <td>0.216840</td>\n",
       "      <td>0.806827</td>\n",
       "      <td>0.278620</td>\n",
       "      <td>1.000000</td>\n",
       "      <td>0.580330</td>\n",
       "      <td>0.272802</td>\n",
       "      <td>0.204482</td>\n",
       "      <td>0.189227</td>\n",
       "      <td>0.001711</td>\n",
       "    </tr>\n",
       "    <tr>\n",
       "      <th>Night_Call_Length</th>\n",
       "      <td>0.256722</td>\n",
       "      <td>0.068964</td>\n",
       "      <td>0.508642</td>\n",
       "      <td>0.289059</td>\n",
       "      <td>0.219115</td>\n",
       "      <td>0.605980</td>\n",
       "      <td>0.277744</td>\n",
       "      <td>0.580330</td>\n",
       "      <td>1.000000</td>\n",
       "      <td>0.286981</td>\n",
       "      <td>0.305315</td>\n",
       "      <td>0.191133</td>\n",
       "      <td>-0.002872</td>\n",
       "    </tr>\n",
       "    <tr>\n",
       "      <th>Night_Calls_Freq</th>\n",
       "      <td>0.111628</td>\n",
       "      <td>0.052887</td>\n",
       "      <td>0.238676</td>\n",
       "      <td>0.109052</td>\n",
       "      <td>0.126778</td>\n",
       "      <td>0.276678</td>\n",
       "      <td>0.135633</td>\n",
       "      <td>0.272802</td>\n",
       "      <td>0.286981</td>\n",
       "      <td>1.000000</td>\n",
       "      <td>0.083941</td>\n",
       "      <td>0.083491</td>\n",
       "      <td>-0.003121</td>\n",
       "    </tr>\n",
       "    <tr>\n",
       "      <th>Night_Call_Fee</th>\n",
       "      <td>0.064803</td>\n",
       "      <td>0.025955</td>\n",
       "      <td>0.177415</td>\n",
       "      <td>0.102214</td>\n",
       "      <td>0.075288</td>\n",
       "      <td>0.210535</td>\n",
       "      <td>0.094207</td>\n",
       "      <td>0.204482</td>\n",
       "      <td>0.305315</td>\n",
       "      <td>0.083941</td>\n",
       "      <td>1.000000</td>\n",
       "      <td>0.043592</td>\n",
       "      <td>0.014513</td>\n",
       "    </tr>\n",
       "    <tr>\n",
       "      <th>Counseling_Calls</th>\n",
       "      <td>0.073547</td>\n",
       "      <td>0.010326</td>\n",
       "      <td>0.158215</td>\n",
       "      <td>0.072544</td>\n",
       "      <td>0.102932</td>\n",
       "      <td>0.189158</td>\n",
       "      <td>0.080626</td>\n",
       "      <td>0.189227</td>\n",
       "      <td>0.191133</td>\n",
       "      <td>0.083491</td>\n",
       "      <td>0.043592</td>\n",
       "      <td>1.000000</td>\n",
       "      <td>0.057114</td>\n",
       "    </tr>\n",
       "    <tr>\n",
       "      <th>Cancellation_Status</th>\n",
       "      <td>0.006688</td>\n",
       "      <td>-0.062734</td>\n",
       "      <td>0.029975</td>\n",
       "      <td>0.010974</td>\n",
       "      <td>-0.071006</td>\n",
       "      <td>-0.000163</td>\n",
       "      <td>-0.004276</td>\n",
       "      <td>0.001711</td>\n",
       "      <td>-0.002872</td>\n",
       "      <td>-0.003121</td>\n",
       "      <td>0.014513</td>\n",
       "      <td>0.057114</td>\n",
       "      <td>1.000000</td>\n",
       "    </tr>\n",
       "  </tbody>\n",
       "</table>\n",
       "</div>"
      ],
      "text/plain": [
       "                     Subscription_Length  Voice_Mailbox_Usage  \\\n",
       "Subscription_Length             1.000000             0.069771   \n",
       "Voice_Mailbox_Usage             0.069771             1.000000   \n",
       "Early_Call_Length               0.190535             0.045449   \n",
       "Early_Calls_Freq                0.128138             0.031312   \n",
       "Early_Call_Fee                  0.118500             0.070361   \n",
       "Late_Call_Length                0.223365             0.067955   \n",
       "Late_Calls_Freq                 0.119532             0.039927   \n",
       "Late_Call_Fee                   0.208486             0.065085   \n",
       "Night_Call_Length               0.256722             0.068964   \n",
       "Night_Calls_Freq                0.111628             0.052887   \n",
       "Night_Call_Fee                  0.064803             0.025955   \n",
       "Counseling_Calls                0.073547             0.010326   \n",
       "Cancellation_Status             0.006688            -0.062734   \n",
       "\n",
       "                     Early_Call_Length  Early_Calls_Freq  Early_Call_Fee  \\\n",
       "Subscription_Length           0.190535          0.128138        0.118500   \n",
       "Voice_Mailbox_Usage           0.045449          0.031312        0.070361   \n",
       "Early_Call_Length             1.000000          0.213815        0.336852   \n",
       "Early_Calls_Freq              0.213815          1.000000        0.100227   \n",
       "Early_Call_Fee                0.336852          0.100227        1.000000   \n",
       "Late_Call_Length              0.493299          0.265814        0.219930   \n",
       "Late_Calls_Freq               0.239448          0.147605        0.098014   \n",
       "Late_Call_Fee                 0.483473          0.247990        0.216840   \n",
       "Night_Call_Length             0.508642          0.289059        0.219115   \n",
       "Night_Calls_Freq              0.238676          0.109052        0.126778   \n",
       "Night_Call_Fee                0.177415          0.102214        0.075288   \n",
       "Counseling_Calls              0.158215          0.072544        0.102932   \n",
       "Cancellation_Status           0.029975          0.010974       -0.071006   \n",
       "\n",
       "                     Late_Call_Length  Late_Calls_Freq  Late_Call_Fee  \\\n",
       "Subscription_Length          0.223365         0.119532       0.208486   \n",
       "Voice_Mailbox_Usage          0.067955         0.039927       0.065085   \n",
       "Early_Call_Length            0.493299         0.239448       0.483473   \n",
       "Early_Calls_Freq             0.265814         0.147605       0.247990   \n",
       "Early_Call_Fee               0.219930         0.098014       0.216840   \n",
       "Late_Call_Length             1.000000         0.280098       0.806827   \n",
       "Late_Calls_Freq              0.280098         1.000000       0.278620   \n",
       "Late_Call_Fee                0.806827         0.278620       1.000000   \n",
       "Night_Call_Length            0.605980         0.277744       0.580330   \n",
       "Night_Calls_Freq             0.276678         0.135633       0.272802   \n",
       "Night_Call_Fee               0.210535         0.094207       0.204482   \n",
       "Counseling_Calls             0.189158         0.080626       0.189227   \n",
       "Cancellation_Status         -0.000163        -0.004276       0.001711   \n",
       "\n",
       "                     Night_Call_Length  Night_Calls_Freq  Night_Call_Fee  \\\n",
       "Subscription_Length           0.256722          0.111628        0.064803   \n",
       "Voice_Mailbox_Usage           0.068964          0.052887        0.025955   \n",
       "Early_Call_Length             0.508642          0.238676        0.177415   \n",
       "Early_Calls_Freq              0.289059          0.109052        0.102214   \n",
       "Early_Call_Fee                0.219115          0.126778        0.075288   \n",
       "Late_Call_Length              0.605980          0.276678        0.210535   \n",
       "Late_Calls_Freq               0.277744          0.135633        0.094207   \n",
       "Late_Call_Fee                 0.580330          0.272802        0.204482   \n",
       "Night_Call_Length             1.000000          0.286981        0.305315   \n",
       "Night_Calls_Freq              0.286981          1.000000        0.083941   \n",
       "Night_Call_Fee                0.305315          0.083941        1.000000   \n",
       "Counseling_Calls              0.191133          0.083491        0.043592   \n",
       "Cancellation_Status          -0.002872         -0.003121        0.014513   \n",
       "\n",
       "                     Counseling_Calls  Cancellation_Status  \n",
       "Subscription_Length          0.073547             0.006688  \n",
       "Voice_Mailbox_Usage          0.010326            -0.062734  \n",
       "Early_Call_Length            0.158215             0.029975  \n",
       "Early_Calls_Freq             0.072544             0.010974  \n",
       "Early_Call_Fee               0.102932            -0.071006  \n",
       "Late_Call_Length             0.189158            -0.000163  \n",
       "Late_Calls_Freq              0.080626            -0.004276  \n",
       "Late_Call_Fee                0.189227             0.001711  \n",
       "Night_Call_Length            0.191133            -0.002872  \n",
       "Night_Calls_Freq             0.083491            -0.003121  \n",
       "Night_Call_Fee               0.043592             0.014513  \n",
       "Counseling_Calls             1.000000             0.057114  \n",
       "Cancellation_Status          0.057114             1.000000  "
      ]
     },
     "execution_count": 4,
     "metadata": {},
     "output_type": "execute_result"
    }
   ],
   "source": [
    "train.corr()"
   ]
  },
  {
   "cell_type": "code",
   "execution_count": 25,
   "id": "7302d6b0",
   "metadata": {
    "scrolled": false
   },
   "outputs": [
    {
     "name": "stderr",
     "output_type": "stream",
     "text": [
      "0it [00:00, ?it/s]C:\\Users\\User\\anaconda3\\envs\\git_repo\\lib\\site-packages\\catboost\\core.py:1419: FutureWarning: iteritems is deprecated and will be removed in a future version. Use .items instead.\n",
      "  self._init_pool(data, label, cat_features, text_features, embedding_features, embedding_features_data, pairs, weight,\n"
     ]
    },
    {
     "name": "stdout",
     "output_type": "stream",
     "text": [
      "Learning rate set to 0.071642\n",
      "0:\tlearn: 0.6363069\ttest: 0.6356544\tbest: 0.6356544 (0)\ttotal: 27.8ms\tremaining: 27.8s\n"
     ]
    },
    {
     "name": "stderr",
     "output_type": "stream",
     "text": [
      "\r",
      "1it [00:26, 26.82s/it]"
     ]
    },
    {
     "name": "stdout",
     "output_type": "stream",
     "text": [
      "999:\tlearn: 0.1413659\ttest: 0.2143061\tbest: 0.2143061 (999)\ttotal: 26.3s\tremaining: 0us\n",
      "\n",
      "bestTest = 0.2143061113\n",
      "bestIteration = 999\n",
      "\n",
      "ACC on fold 0: 0.6371\n",
      "Learning rate set to 0.071642\n"
     ]
    },
    {
     "name": "stderr",
     "output_type": "stream",
     "text": [
      "C:\\Users\\User\\anaconda3\\envs\\git_repo\\lib\\site-packages\\catboost\\core.py:1419: FutureWarning: iteritems is deprecated and will be removed in a future version. Use .items instead.\n",
      "  self._init_pool(data, label, cat_features, text_features, embedding_features, embedding_features_data, pairs, weight,\n"
     ]
    },
    {
     "name": "stdout",
     "output_type": "stream",
     "text": [
      "0:\tlearn: 0.6362628\ttest: 0.6352134\tbest: 0.6352134 (0)\ttotal: 27ms\tremaining: 27s\n"
     ]
    },
    {
     "name": "stderr",
     "output_type": "stream",
     "text": [
      "\r",
      "2it [00:53, 26.85s/it]"
     ]
    },
    {
     "name": "stdout",
     "output_type": "stream",
     "text": [
      "999:\tlearn: 0.1403817\ttest: 0.2085158\tbest: 0.2085070 (998)\ttotal: 26.3s\tremaining: 0us\n",
      "\n",
      "bestTest = 0.2085069853\n",
      "bestIteration = 998\n",
      "\n",
      "Shrink model to first 999 iterations.\n",
      "ACC on fold 1: 0.6748\n"
     ]
    },
    {
     "name": "stderr",
     "output_type": "stream",
     "text": [
      "C:\\Users\\User\\anaconda3\\envs\\git_repo\\lib\\site-packages\\catboost\\core.py:1419: FutureWarning: iteritems is deprecated and will be removed in a future version. Use .items instead.\n",
      "  self._init_pool(data, label, cat_features, text_features, embedding_features, embedding_features_data, pairs, weight,\n"
     ]
    },
    {
     "name": "stdout",
     "output_type": "stream",
     "text": [
      "Learning rate set to 0.071642\n",
      "0:\tlearn: 0.6362306\ttest: 0.6352812\tbest: 0.6352812 (0)\ttotal: 27.6ms\tremaining: 27.6s\n"
     ]
    },
    {
     "name": "stderr",
     "output_type": "stream",
     "text": [
      "\r",
      "3it [01:20, 26.79s/it]"
     ]
    },
    {
     "name": "stdout",
     "output_type": "stream",
     "text": [
      "999:\tlearn: 0.1414267\ttest: 0.2108425\tbest: 0.2108256 (998)\ttotal: 26.2s\tremaining: 0us\n",
      "\n",
      "bestTest = 0.21082564\n",
      "bestIteration = 998\n",
      "\n",
      "Shrink model to first 999 iterations.\n",
      "ACC on fold 2: 0.6820\n",
      "Learning rate set to 0.071642\n",
      "0:\tlearn: 0.6357828\ttest: 0.6367788\tbest: 0.6367788 (0)\ttotal: 28.2ms\tremaining: 28.2s\n"
     ]
    },
    {
     "name": "stderr",
     "output_type": "stream",
     "text": [
      "C:\\Users\\User\\anaconda3\\envs\\git_repo\\lib\\site-packages\\catboost\\core.py:1419: FutureWarning: iteritems is deprecated and will be removed in a future version. Use .items instead.\n",
      "  self._init_pool(data, label, cat_features, text_features, embedding_features, embedding_features_data, pairs, weight,\n",
      "4it [01:47, 26.76s/it]"
     ]
    },
    {
     "name": "stdout",
     "output_type": "stream",
     "text": [
      "999:\tlearn: 0.1385173\ttest: 0.2263082\tbest: 0.2262541 (996)\ttotal: 26.2s\tremaining: 0us\n",
      "\n",
      "bestTest = 0.2262540632\n",
      "bestIteration = 996\n",
      "\n",
      "Shrink model to first 997 iterations.\n",
      "ACC on fold 3: 0.6595\n"
     ]
    },
    {
     "name": "stderr",
     "output_type": "stream",
     "text": [
      "C:\\Users\\User\\anaconda3\\envs\\git_repo\\lib\\site-packages\\catboost\\core.py:1419: FutureWarning: iteritems is deprecated and will be removed in a future version. Use .items instead.\n",
      "  self._init_pool(data, label, cat_features, text_features, embedding_features, embedding_features_data, pairs, weight,\n"
     ]
    },
    {
     "name": "stdout",
     "output_type": "stream",
     "text": [
      "Learning rate set to 0.071642\n",
      "0:\tlearn: 0.6356982\ttest: 0.6367695\tbest: 0.6367695 (0)\ttotal: 27.5ms\tremaining: 27.5s\n"
     ]
    },
    {
     "name": "stderr",
     "output_type": "stream",
     "text": [
      "\r",
      "5it [02:13, 26.67s/it]"
     ]
    },
    {
     "name": "stdout",
     "output_type": "stream",
     "text": [
      "999:\tlearn: 0.1394437\ttest: 0.2224527\tbest: 0.2224527 (999)\ttotal: 26.1s\tremaining: 0us\n",
      "\n",
      "bestTest = 0.2224526806\n",
      "bestIteration = 999\n",
      "\n",
      "ACC on fold 4: 0.6703\n",
      "Learning rate set to 0.071642\n"
     ]
    },
    {
     "name": "stderr",
     "output_type": "stream",
     "text": [
      "C:\\Users\\User\\anaconda3\\envs\\git_repo\\lib\\site-packages\\catboost\\core.py:1419: FutureWarning: iteritems is deprecated and will be removed in a future version. Use .items instead.\n",
      "  self._init_pool(data, label, cat_features, text_features, embedding_features, embedding_features_data, pairs, weight,\n"
     ]
    },
    {
     "name": "stdout",
     "output_type": "stream",
     "text": [
      "0:\tlearn: 0.6354869\ttest: 0.6375379\tbest: 0.6375379 (0)\ttotal: 28.6ms\tremaining: 28.6s\n"
     ]
    },
    {
     "name": "stderr",
     "output_type": "stream",
     "text": [
      "\r",
      "6it [02:40, 26.64s/it]"
     ]
    },
    {
     "name": "stdout",
     "output_type": "stream",
     "text": [
      "999:\tlearn: 0.1402379\ttest: 0.2300615\tbest: 0.2300615 (999)\ttotal: 26.1s\tremaining: 0us\n",
      "\n",
      "bestTest = 0.230061452\n",
      "bestIteration = 999\n",
      "\n",
      "ACC on fold 5: 0.6555\n",
      "Learning rate set to 0.071642\n"
     ]
    },
    {
     "name": "stderr",
     "output_type": "stream",
     "text": [
      "C:\\Users\\User\\anaconda3\\envs\\git_repo\\lib\\site-packages\\catboost\\core.py:1419: FutureWarning: iteritems is deprecated and will be removed in a future version. Use .items instead.\n",
      "  self._init_pool(data, label, cat_features, text_features, embedding_features, embedding_features_data, pairs, weight,\n"
     ]
    },
    {
     "name": "stdout",
     "output_type": "stream",
     "text": [
      "0:\tlearn: 0.6356029\ttest: 0.6367959\tbest: 0.6367959 (0)\ttotal: 28.2ms\tremaining: 28.2s\n"
     ]
    },
    {
     "name": "stderr",
     "output_type": "stream",
     "text": [
      "\r",
      "7it [03:06, 26.58s/it]"
     ]
    },
    {
     "name": "stdout",
     "output_type": "stream",
     "text": [
      "999:\tlearn: 0.1406408\ttest: 0.2273912\tbest: 0.2273912 (999)\ttotal: 26s\tremaining: 0us\n",
      "\n",
      "bestTest = 0.2273911553\n",
      "bestIteration = 999\n",
      "\n",
      "ACC on fold 6: 0.6475\n",
      "Learning rate set to 0.071642\n"
     ]
    },
    {
     "name": "stderr",
     "output_type": "stream",
     "text": [
      "C:\\Users\\User\\anaconda3\\envs\\git_repo\\lib\\site-packages\\catboost\\core.py:1419: FutureWarning: iteritems is deprecated and will be removed in a future version. Use .items instead.\n",
      "  self._init_pool(data, label, cat_features, text_features, embedding_features, embedding_features_data, pairs, weight,\n"
     ]
    },
    {
     "name": "stdout",
     "output_type": "stream",
     "text": [
      "0:\tlearn: 0.6360317\ttest: 0.6361682\tbest: 0.6361682 (0)\ttotal: 29.3ms\tremaining: 29.2s\n"
     ]
    },
    {
     "name": "stderr",
     "output_type": "stream",
     "text": [
      "\r",
      "8it [03:33, 26.56s/it]"
     ]
    },
    {
     "name": "stdout",
     "output_type": "stream",
     "text": [
      "999:\tlearn: 0.1394210\ttest: 0.2227305\tbest: 0.2226657 (998)\ttotal: 26s\tremaining: 0us\n",
      "\n",
      "bestTest = 0.2226657343\n",
      "bestIteration = 998\n",
      "\n",
      "Shrink model to first 999 iterations.\n",
      "ACC on fold 7: 0.6430\n",
      "Learning rate set to 0.071642\n"
     ]
    },
    {
     "name": "stderr",
     "output_type": "stream",
     "text": [
      "C:\\Users\\User\\anaconda3\\envs\\git_repo\\lib\\site-packages\\catboost\\core.py:1419: FutureWarning: iteritems is deprecated and will be removed in a future version. Use .items instead.\n",
      "  self._init_pool(data, label, cat_features, text_features, embedding_features, embedding_features_data, pairs, weight,\n"
     ]
    },
    {
     "name": "stdout",
     "output_type": "stream",
     "text": [
      "0:\tlearn: 0.6363586\ttest: 0.6352646\tbest: 0.6352646 (0)\ttotal: 28.5ms\tremaining: 28.4s\n"
     ]
    },
    {
     "name": "stderr",
     "output_type": "stream",
     "text": [
      "\r",
      "9it [04:00, 26.66s/it]"
     ]
    },
    {
     "name": "stdout",
     "output_type": "stream",
     "text": [
      "999:\tlearn: 0.1409250\ttest: 0.2085992\tbest: 0.2085992 (999)\ttotal: 26.4s\tremaining: 0us\n",
      "\n",
      "bestTest = 0.2085992227\n",
      "bestIteration = 999\n",
      "\n",
      "ACC on fold 8: 0.6583\n",
      "Learning rate set to 0.071642\n"
     ]
    },
    {
     "name": "stderr",
     "output_type": "stream",
     "text": [
      "C:\\Users\\User\\anaconda3\\envs\\git_repo\\lib\\site-packages\\catboost\\core.py:1419: FutureWarning: iteritems is deprecated and will be removed in a future version. Use .items instead.\n",
      "  self._init_pool(data, label, cat_features, text_features, embedding_features, embedding_features_data, pairs, weight,\n"
     ]
    },
    {
     "name": "stdout",
     "output_type": "stream",
     "text": [
      "0:\tlearn: 0.6359536\ttest: 0.6360804\tbest: 0.6360804 (0)\ttotal: 32ms\tremaining: 32s\n"
     ]
    },
    {
     "name": "stderr",
     "output_type": "stream",
     "text": [
      "10it [04:27, 26.74s/it]"
     ]
    },
    {
     "name": "stdout",
     "output_type": "stream",
     "text": [
      "999:\tlearn: 0.1398445\ttest: 0.2182668\tbest: 0.2182668 (999)\ttotal: 26.7s\tremaining: 0us\n",
      "\n",
      "bestTest = 0.2182668077\n",
      "bestIteration = 999\n",
      "\n",
      "ACC on fold 9: 0.6509\n",
      "mean ACC across all folds: 0.6579\n"
     ]
    },
    {
     "name": "stderr",
     "output_type": "stream",
     "text": [
      "\n"
     ]
    }
   ],
   "source": [
    "from catboost import CatBoostClassifier\n",
    "from sklearn.model_selection import KFold, StratifiedKFold\n",
    "from sklearn.metrics import accuracy_score, f1_score\n",
    "from tqdm import tqdm\n",
    "kf = KFold(n_splits = 10, random_state = 42, shuffle = True)\n",
    "\n",
    "# parms = {'iterations': 2000,\n",
    "#  #'od_wait': 2182,\n",
    "#  'learning_rate': 0.005,\n",
    "#  #'reg_lambda': 2.3132945175291226,\n",
    "#  #'subsample': 0.01621008882000844,\n",
    "#  #'random_strength': 25.292157882359646,\n",
    "#  'depth': 5,\n",
    "#  'min_data_in_leaf': 5,\n",
    "#  #'leaf_estimation_iterations': 3,\n",
    "#  'bagging_temperature': 0.01080117689593031,\n",
    "#  'colsample_bylevel': 0.7579360851684404}\n",
    "\n",
    "target = 'Cancellation_Status'\n",
    "features = [c for c in train.columns if c not in ['ID', target]]\n",
    "models = []\n",
    "val_scores = []\n",
    "\n",
    "for i, (train_index, val_index) in tqdm(enumerate(kf.split(train, train[target]))):\n",
    "    \n",
    "    X_train, X_val = train[features].loc[train_index], train[features].loc[val_index]\n",
    "    y_train, y_val = train[target][train_index], train[target][val_index]\n",
    "    \n",
    "#     if include_orig:\n",
    "#         X_train = X_train.append(original[features], ignore_index = True)\n",
    "#         y_train = y_train.append(original[target], ignore_index = True)\n",
    "    \n",
    "    model = CatBoostClassifier(random_state = 42)\n",
    "    \n",
    "    model.fit(X_train, y_train, eval_set = [(X_val, y_val)], verbose = 2000)\n",
    "    \n",
    "    models.append(model)\n",
    "    pred = model.predict(X_val)\n",
    "    score = f1_score(y_val, pred,average='macro')\n",
    "    val_scores.append(score)\n",
    "    \n",
    "    print(f'ACC on fold {i}: {score:.4f}')\n",
    "    \n",
    "print(f'mean ACC across all folds: {np.mean(val_scores):.4f}')\n",
    "\n",
    "\n",
    "\n",
    "\n",
    "\n",
    "# cat = catboost.CatBoostClassifier(**parms)\n",
    "# cat.fit(train.drop(['ID','Cancellation_Status'],axis=1),train['Cancellation_Status'])\n",
    "# pred = cat.predict(test.drop('ID',axis=1))"
   ]
  },
  {
   "cell_type": "code",
   "execution_count": 31,
   "id": "797ebdf4",
   "metadata": {},
   "outputs": [
    {
     "name": "stderr",
     "output_type": "stream",
     "text": [
      "C:\\Users\\User\\anaconda3\\envs\\git_repo\\lib\\site-packages\\catboost\\core.py:1419: FutureWarning: iteritems is deprecated and will be removed in a future version. Use .items instead.\n",
      "  self._init_pool(data, label, cat_features, text_features, embedding_features, embedding_features_data, pairs, weight,\n",
      "C:\\Users\\User\\anaconda3\\envs\\git_repo\\lib\\site-packages\\catboost\\core.py:1419: FutureWarning: iteritems is deprecated and will be removed in a future version. Use .items instead.\n",
      "  self._init_pool(data, label, cat_features, text_features, embedding_features, embedding_features_data, pairs, weight,\n",
      "C:\\Users\\User\\anaconda3\\envs\\git_repo\\lib\\site-packages\\catboost\\core.py:1419: FutureWarning: iteritems is deprecated and will be removed in a future version. Use .items instead.\n",
      "  self._init_pool(data, label, cat_features, text_features, embedding_features, embedding_features_data, pairs, weight,\n",
      "C:\\Users\\User\\anaconda3\\envs\\git_repo\\lib\\site-packages\\catboost\\core.py:1419: FutureWarning: iteritems is deprecated and will be removed in a future version. Use .items instead.\n",
      "  self._init_pool(data, label, cat_features, text_features, embedding_features, embedding_features_data, pairs, weight,\n",
      "C:\\Users\\User\\anaconda3\\envs\\git_repo\\lib\\site-packages\\catboost\\core.py:1419: FutureWarning: iteritems is deprecated and will be removed in a future version. Use .items instead.\n",
      "  self._init_pool(data, label, cat_features, text_features, embedding_features, embedding_features_data, pairs, weight,\n",
      "C:\\Users\\User\\anaconda3\\envs\\git_repo\\lib\\site-packages\\catboost\\core.py:1419: FutureWarning: iteritems is deprecated and will be removed in a future version. Use .items instead.\n",
      "  self._init_pool(data, label, cat_features, text_features, embedding_features, embedding_features_data, pairs, weight,\n",
      "C:\\Users\\User\\anaconda3\\envs\\git_repo\\lib\\site-packages\\catboost\\core.py:1419: FutureWarning: iteritems is deprecated and will be removed in a future version. Use .items instead.\n",
      "  self._init_pool(data, label, cat_features, text_features, embedding_features, embedding_features_data, pairs, weight,\n",
      "C:\\Users\\User\\anaconda3\\envs\\git_repo\\lib\\site-packages\\catboost\\core.py:1419: FutureWarning: iteritems is deprecated and will be removed in a future version. Use .items instead.\n",
      "  self._init_pool(data, label, cat_features, text_features, embedding_features, embedding_features_data, pairs, weight,\n",
      "C:\\Users\\User\\anaconda3\\envs\\git_repo\\lib\\site-packages\\catboost\\core.py:1419: FutureWarning: iteritems is deprecated and will be removed in a future version. Use .items instead.\n",
      "  self._init_pool(data, label, cat_features, text_features, embedding_features, embedding_features_data, pairs, weight,\n",
      "C:\\Users\\User\\anaconda3\\envs\\git_repo\\lib\\site-packages\\catboost\\core.py:1419: FutureWarning: iteritems is deprecated and will be removed in a future version. Use .items instead.\n",
      "  self._init_pool(data, label, cat_features, text_features, embedding_features, embedding_features_data, pairs, weight,\n"
     ]
    }
   ],
   "source": [
    "cat_preds = []\n",
    "\n",
    "for model in models[:10]:\n",
    "    preds = model.predict_proba(test[features])[:,1]\n",
    "    cat_preds.append(preds)"
   ]
  },
  {
   "cell_type": "code",
   "execution_count": 26,
   "id": "1a6aecb7",
   "metadata": {},
   "outputs": [
    {
     "data": {
      "text/plain": [
       "<BarContainer object of 11 artists>"
      ]
     },
     "execution_count": 26,
     "metadata": {},
     "output_type": "execute_result"
    },
    {
     "data": {
      "image/png": "[encoded data removed]",
      "text/plain": [
       "<Figure size 432x288 with 1 Axes>"
      ]
     },
     "metadata": {
      "needs_background": "light"
     },
     "output_type": "display_data"
    }
   ],
   "source": [
    "imp = []\n",
    "for model in models[:10]:\n",
    "    imp.append(model.feature_importances_)\n",
    "\n",
    "plt.barh(model.feature_names_,np.array(imp).sum(axis=0))"
   ]
  },
  {
   "cell_type": "code",
   "execution_count": 7,
   "id": "d3f8a06a",
   "metadata": {},
   "outputs": [],
   "source": [
    "# train = train.drop('Counseling_Calls',axis=1)\n",
    "# from pycaret import classification\n",
    "# classification.setup(data=train,target='Cancellation_Status')"
   ]
  },
  {
   "cell_type": "code",
   "execution_count": 8,
   "id": "72a14914",
   "metadata": {},
   "outputs": [],
   "source": [
    "# best = classification.compare_models(sort='ACC',n_select=4,fold=10)"
   ]
  },
  {
   "cell_type": "code",
   "execution_count": 67,
   "id": "2a88a634",
   "metadata": {},
   "outputs": [
    {
     "name": "stderr",
     "output_type": "stream",
     "text": [
      "\r",
      "0it [00:00, ?it/s]"
     ]
    },
    {
     "name": "stdout",
     "output_type": "stream",
     "text": [
      "[LightGBM] [Warning] feature_fraction is set=0.8402041342033796, colsample_bytree=1.0 will be ignored. Current value: feature_fraction=0.8402041342033796\n",
      "[LightGBM] [Warning] min_data_in_leaf is set=10, min_child_samples=10 will be ignored. Current value: min_data_in_leaf=10\n",
      "[LightGBM] [Warning] bagging_fraction is set=0.5053012488246705, subsample=1.0 will be ignored. Current value: bagging_fraction=0.5053012488246705\n",
      "[LightGBM] [Warning] bagging_freq is set=5, subsample_freq=0 will be ignored. Current value: bagging_freq=5\n"
     ]
    },
    {
     "name": "stderr",
     "output_type": "stream",
     "text": [
      "\r",
      "1it [00:00,  2.58it/s]"
     ]
    },
    {
     "name": "stdout",
     "output_type": "stream",
     "text": [
      "score on fold 0: 0.4710\n",
      "[LightGBM] [Warning] feature_fraction is set=0.8402041342033796, colsample_bytree=1.0 will be ignored. Current value: feature_fraction=0.8402041342033796\n",
      "[LightGBM] [Warning] min_data_in_leaf is set=10, min_child_samples=10 will be ignored. Current value: min_data_in_leaf=10\n",
      "[LightGBM] [Warning] bagging_fraction is set=0.5053012488246705, subsample=1.0 will be ignored. Current value: bagging_fraction=0.5053012488246705\n",
      "[LightGBM] [Warning] bagging_freq is set=5, subsample_freq=0 will be ignored. Current value: bagging_freq=5\n"
     ]
    },
    {
     "name": "stderr",
     "output_type": "stream",
     "text": [
      "\r",
      "2it [00:00,  2.76it/s]"
     ]
    },
    {
     "name": "stdout",
     "output_type": "stream",
     "text": [
      "score on fold 1: 0.4710\n",
      "[LightGBM] [Warning] feature_fraction is set=0.8402041342033796, colsample_bytree=1.0 will be ignored. Current value: feature_fraction=0.8402041342033796\n",
      "[LightGBM] [Warning] min_data_in_leaf is set=10, min_child_samples=10 will be ignored. Current value: min_data_in_leaf=10\n",
      "[LightGBM] [Warning] bagging_fraction is set=0.5053012488246705, subsample=1.0 will be ignored. Current value: bagging_fraction=0.5053012488246705\n",
      "[LightGBM] [Warning] bagging_freq is set=5, subsample_freq=0 will be ignored. Current value: bagging_freq=5\n"
     ]
    },
    {
     "name": "stderr",
     "output_type": "stream",
     "text": [
      "\r",
      "3it [00:01,  2.88it/s]"
     ]
    },
    {
     "name": "stdout",
     "output_type": "stream",
     "text": [
      "score on fold 2: 0.4709\n",
      "[LightGBM] [Warning] feature_fraction is set=0.8402041342033796, colsample_bytree=1.0 will be ignored. Current value: feature_fraction=0.8402041342033796\n",
      "[LightGBM] [Warning] min_data_in_leaf is set=10, min_child_samples=10 will be ignored. Current value: min_data_in_leaf=10\n",
      "[LightGBM] [Warning] bagging_fraction is set=0.5053012488246705, subsample=1.0 will be ignored. Current value: bagging_fraction=0.5053012488246705\n",
      "[LightGBM] [Warning] bagging_freq is set=5, subsample_freq=0 will be ignored. Current value: bagging_freq=5\n"
     ]
    },
    {
     "name": "stderr",
     "output_type": "stream",
     "text": [
      "\r",
      "4it [00:01,  2.83it/s]"
     ]
    },
    {
     "name": "stdout",
     "output_type": "stream",
     "text": [
      "score on fold 3: 0.4709\n",
      "[LightGBM] [Warning] feature_fraction is set=0.8402041342033796, colsample_bytree=1.0 will be ignored. Current value: feature_fraction=0.8402041342033796\n",
      "[LightGBM] [Warning] min_data_in_leaf is set=10, min_child_samples=10 will be ignored. Current value: min_data_in_leaf=10\n",
      "[LightGBM] [Warning] bagging_fraction is set=0.5053012488246705, subsample=1.0 will be ignored. Current value: bagging_fraction=0.5053012488246705\n",
      "[LightGBM] [Warning] bagging_freq is set=5, subsample_freq=0 will be ignored. Current value: bagging_freq=5\n"
     ]
    },
    {
     "name": "stderr",
     "output_type": "stream",
     "text": [
      "\r",
      "5it [00:01,  2.70it/s]"
     ]
    },
    {
     "name": "stdout",
     "output_type": "stream",
     "text": [
      "score on fold 4: 0.4709\n",
      "[LightGBM] [Warning] feature_fraction is set=0.8402041342033796, colsample_bytree=1.0 will be ignored. Current value: feature_fraction=0.8402041342033796\n",
      "[LightGBM] [Warning] min_data_in_leaf is set=10, min_child_samples=10 will be ignored. Current value: min_data_in_leaf=10\n",
      "[LightGBM] [Warning] bagging_fraction is set=0.5053012488246705, subsample=1.0 will be ignored. Current value: bagging_fraction=0.5053012488246705\n",
      "[LightGBM] [Warning] bagging_freq is set=5, subsample_freq=0 will be ignored. Current value: bagging_freq=5\n"
     ]
    },
    {
     "name": "stderr",
     "output_type": "stream",
     "text": [
      "\r",
      "6it [00:02,  2.46it/s]"
     ]
    },
    {
     "name": "stdout",
     "output_type": "stream",
     "text": [
      "score on fold 5: 0.4709\n",
      "[LightGBM] [Warning] feature_fraction is set=0.8402041342033796, colsample_bytree=1.0 will be ignored. Current value: feature_fraction=0.8402041342033796\n",
      "[LightGBM] [Warning] min_data_in_leaf is set=10, min_child_samples=10 will be ignored. Current value: min_data_in_leaf=10\n",
      "[LightGBM] [Warning] bagging_fraction is set=0.5053012488246705, subsample=1.0 will be ignored. Current value: bagging_fraction=0.5053012488246705\n",
      "[LightGBM] [Warning] bagging_freq is set=5, subsample_freq=0 will be ignored. Current value: bagging_freq=5\n"
     ]
    },
    {
     "name": "stderr",
     "output_type": "stream",
     "text": [
      "\r",
      "7it [00:02,  2.55it/s]"
     ]
    },
    {
     "name": "stdout",
     "output_type": "stream",
     "text": [
      "score on fold 6: 0.4709\n",
      "[LightGBM] [Warning] feature_fraction is set=0.8402041342033796, colsample_bytree=1.0 will be ignored. Current value: feature_fraction=0.8402041342033796\n",
      "[LightGBM] [Warning] min_data_in_leaf is set=10, min_child_samples=10 will be ignored. Current value: min_data_in_leaf=10\n",
      "[LightGBM] [Warning] bagging_fraction is set=0.5053012488246705, subsample=1.0 will be ignored. Current value: bagging_fraction=0.5053012488246705\n",
      "[LightGBM] [Warning] bagging_freq is set=5, subsample_freq=0 will be ignored. Current value: bagging_freq=5\n"
     ]
    },
    {
     "name": "stderr",
     "output_type": "stream",
     "text": [
      "\r",
      "8it [00:03,  2.65it/s]"
     ]
    },
    {
     "name": "stdout",
     "output_type": "stream",
     "text": [
      "score on fold 7: 0.4709\n",
      "[LightGBM] [Warning] feature_fraction is set=0.8402041342033796, colsample_bytree=1.0 will be ignored. Current value: feature_fraction=0.8402041342033796\n",
      "[LightGBM] [Warning] min_data_in_leaf is set=10, min_child_samples=10 will be ignored. Current value: min_data_in_leaf=10\n",
      "[LightGBM] [Warning] bagging_fraction is set=0.5053012488246705, subsample=1.0 will be ignored. Current value: bagging_fraction=0.5053012488246705\n",
      "[LightGBM] [Warning] bagging_freq is set=5, subsample_freq=0 will be ignored. Current value: bagging_freq=5\n"
     ]
    },
    {
     "name": "stderr",
     "output_type": "stream",
     "text": [
      "\r",
      "9it [00:03,  2.71it/s]"
     ]
    },
    {
     "name": "stdout",
     "output_type": "stream",
     "text": [
      "score on fold 8: 0.4709\n",
      "[LightGBM] [Warning] feature_fraction is set=0.8402041342033796, colsample_bytree=1.0 will be ignored. Current value: feature_fraction=0.8402041342033796\n",
      "[LightGBM] [Warning] min_data_in_leaf is set=10, min_child_samples=10 will be ignored. Current value: min_data_in_leaf=10\n",
      "[LightGBM] [Warning] bagging_fraction is set=0.5053012488246705, subsample=1.0 will be ignored. Current value: bagging_fraction=0.5053012488246705\n",
      "[LightGBM] [Warning] bagging_freq is set=5, subsample_freq=0 will be ignored. Current value: bagging_freq=5\n"
     ]
    },
    {
     "name": "stderr",
     "output_type": "stream",
     "text": [
      "10it [00:03,  2.66it/s]"
     ]
    },
    {
     "name": "stdout",
     "output_type": "stream",
     "text": [
      "score on fold 9: 0.4709\n",
      "mean score across all folds: 0.4709\n"
     ]
    },
    {
     "name": "stderr",
     "output_type": "stream",
     "text": [
      "\n"
     ]
    }
   ],
   "source": [
    "# from lightgbm import LGBMClassifier\n",
    "# kf = StratifiedKFold(n_splits = 10, random_state = 42, shuffle = True)\n",
    "# val_scores = []\n",
    "\n",
    "# params = {'scale_pos_weight': 2,\n",
    "#  #'lambda_l2': 14.705798704172345,\n",
    "#  'num_leaves': 10,\n",
    "#  'learning_rate': 0.005,\n",
    "#  'feature_fraction': 0.8402041342033796,\n",
    "#  'bagging_fraction': 0.5053012488246705,\n",
    "#  'bagging_freq': 5,\n",
    "#  'min_child_samples': 10,\n",
    "#  'min_data_in_leaf': 10,\n",
    "#  'max_depth': 10,\n",
    "#  'random_state' : 42}\n",
    "# # params = study.best_params\n",
    "\n",
    "# target = 'Cancellation_Status'\n",
    "# features = [c for c in train.columns if c not in ['ID', target]]\n",
    "\n",
    "# for i, (train_index, val_index) in tqdm(enumerate(kf.split(train, train[target]))):\n",
    "    \n",
    "#     X_train, X_val = train[features].loc[train_index], train[features].loc[val_index]\n",
    "#     y_train, y_val = train[target][train_index], train[target][val_index]\n",
    "    \n",
    "# #     if include_orig:\n",
    "# #         X_train = X_train.append(original[features], ignore_index = True)\n",
    "# #         y_train = y_train.append(original[target], ignore_index = True)\n",
    "    \n",
    "#     model = LGBMClassifier(**params)\n",
    "    \n",
    "#     model.fit(X_train, y_train)\n",
    "    \n",
    "#     models.append(model)\n",
    "#     pred = model.predict(X_val)\n",
    "#     score = f1_score(y_val, pred,average='macro')\n",
    "\n",
    "#     val_scores.append(score)\n",
    "    \n",
    "#     print(f'score on fold {i}: {score:.4f}')\n",
    "    \n",
    "# print(f'mean score across all folds: {np.mean(val_scores):.4f}')"
   ]
  },
  {
   "cell_type": "code",
   "execution_count": 68,
   "id": "90b2343f",
   "metadata": {},
   "outputs": [],
   "source": [
    "lgb_preds = []\n",
    "\n",
    "for model in models[10:]:\n",
    "    preds = model.predict_proba(test[features])[:,1]\n",
    "    lgb_preds.append(preds)"
   ]
  },
  {
   "cell_type": "code",
   "execution_count": 74,
   "id": "f205cffe",
   "metadata": {},
   "outputs": [
    {
     "data": {
      "text/plain": [
       "(array([289., 133., 273., 553., 520., 418., 435., 873., 786., 723., 595.,\n",
       "        628., 225., 148., 189., 165., 143., 145., 171., 228., 249., 389.,\n",
       "        375., 263., 271., 349., 286., 334., 265., 214., 209., 159., 204.,\n",
       "        217., 194., 256., 277., 149., 116., 122.,  44.,  37.,  62.,  41.,\n",
       "         91.,   9.,   5.,   9.,   8.,  15.,   7.,  11.,   5.,   5.,   7.,\n",
       "          2.,   5.,   8.,   2.,   2.,   4.,   4.,   3.,   3.,   3.,   1.,\n",
       "          0.,   2.,   0.,   0.,   0.,   0.,   0.,   1.,   0.,   0.,   0.,\n",
       "          0.,   0.,   0.,   0.,   0.,   0.,   0.,   0.,   0.,   0.,   0.,\n",
       "          0.,   0.,   1.,   0.,   0.,   0.,   0.,   0.,   2.,   1.,   2.,\n",
       "          3.]),\n",
       " array([0.09969659, 0.1021247 , 0.1045528 , 0.10698091, 0.10940901,\n",
       "        0.11183712, 0.11426522, 0.11669333, 0.11912143, 0.12154954,\n",
       "        0.12397765, 0.12640575, 0.12883386, 0.13126196, 0.13369007,\n",
       "        0.13611817, 0.13854628, 0.14097438, 0.14340249, 0.14583059,\n",
       "        0.1482587 , 0.15068681, 0.15311491, 0.15554302, 0.15797112,\n",
       "        0.16039923, 0.16282733, 0.16525544, 0.16768354, 0.17011165,\n",
       "        0.17253976, 0.17496786, 0.17739597, 0.17982407, 0.18225218,\n",
       "        0.18468028, 0.18710839, 0.18953649, 0.1919646 , 0.1943927 ,\n",
       "        0.19682081, 0.19924892, 0.20167702, 0.20410513, 0.20653323,\n",
       "        0.20896134, 0.21138944, 0.21381755, 0.21624565, 0.21867376,\n",
       "        0.22110187, 0.22352997, 0.22595808, 0.22838618, 0.23081429,\n",
       "        0.23324239, 0.2356705 , 0.2380986 , 0.24052671, 0.24295481,\n",
       "        0.24538292, 0.24781103, 0.25023913, 0.25266724, 0.25509534,\n",
       "        0.25752345, 0.25995155, 0.26237966, 0.26480776, 0.26723587,\n",
       "        0.26966398, 0.27209208, 0.27452019, 0.27694829, 0.2793764 ,\n",
       "        0.2818045 , 0.28423261, 0.28666071, 0.28908882, 0.29151692,\n",
       "        0.29394503, 0.29637314, 0.29880124, 0.30122935, 0.30365745,\n",
       "        0.30608556, 0.30851366, 0.31094177, 0.31336987, 0.31579798,\n",
       "        0.31822609, 0.32065419, 0.3230823 , 0.3255104 , 0.32793851,\n",
       "        0.33036661, 0.33279472, 0.33522282, 0.33765093, 0.34007903,\n",
       "        0.34250714]),\n",
       " <BarContainer object of 100 artists>)"
      ]
     },
     "execution_count": 74,
     "metadata": {},
     "output_type": "execute_result"
    },
    {
     "data": {
      "image/png": "[encoded data removed]",
      "text/plain": [
       "<Figure size 432x288 with 1 Axes>"
      ]
     },
     "metadata": {
      "needs_background": "light"
     },
     "output_type": "display_data"
    }
   ],
   "source": [
    "x = np.array(lgb_preds).mean(axis=0)\n",
    "plt.hist(x,bins=100)"
   ]
  },
  {
   "cell_type": "code",
   "execution_count": 87,
   "id": "b2213e62",
   "metadata": {},
   "outputs": [],
   "source": [
    "target = []\n",
    "for i in np.array(cat_preds).mean(axis=0):\n",
    "    if i < 0.28:\n",
    "        target.append(0)\n",
    "    else:\n",
    "        target.append(1)"
   ]
  },
  {
   "cell_type": "code",
   "execution_count": 88,
   "id": "ae46eb7b",
   "metadata": {},
   "outputs": [],
   "source": [
    "sample = pd.read_csv('./sample_submission.csv',index_col='ID')\n",
    "sample['전화해지여부'] = target\n",
    "sample.to_csv('./submission.csv')"
   ]
  },
  {
   "cell_type": "code",
   "execution_count": 89,
   "id": "2f276401",
   "metadata": {},
   "outputs": [
    {
     "data": {
      "text/plain": [
       "0    11633\n",
       "1     1310\n",
       "Name: 전화해지여부, dtype: int64"
      ]
     },
     "execution_count": 89,
     "metadata": {},
     "output_type": "execute_result"
    }
   ],
   "source": [
    "sample['전화해지여부'].value_counts()\n"
   ]
  },
  {
   "cell_type": "code",
   "execution_count": 90,
   "id": "ea1d0aca",
   "metadata": {},
   "outputs": [
    {
     "data": {
      "text/plain": [
       "0    26882\n",
       "1     3318\n",
       "Name: Cancellation_Status, dtype: int64"
      ]
     },
     "execution_count": 90,
     "metadata": {},
     "output_type": "execute_result"
    }
   ],
   "source": [
    "train['Cancellation_Status'].value_counts()"
   ]
  },
  {
   "cell_type": "code",
   "execution_count": null,
   "id": "cd28a700",
   "metadata": {},
   "outputs": [],
   "source": []
  }
 ],
 "metadata": {
  "kernelspec": {
   "display_name": "Python 3 (ipykernel)",
   "language": "python",
   "name": "python3"
  },
  "language_info": {
   "codemirror_mode": {
    "name": "ipython",
    "version": 3
   },
   "file_extension": ".py",
   "mimetype": "text/x-python",
   "name": "python",
   "nbconvert_exporter": "python",
   "pygments_lexer": "ipython3",
   "version": "3.9.12"
  }
 },
 "nbformat": 4,
 "nbformat_minor": 5
}
