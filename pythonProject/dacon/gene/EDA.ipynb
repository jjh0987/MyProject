{
 "cells": [
  {
   "cell_type": "code",
   "execution_count": 1,
   "id": "b48f0e46",
   "metadata": {},
   "outputs": [],
   "source": [
    "import pandas as pd\n",
    "import seaborn as sns\n",
    "import matplotlib.pyplot as plt"
   ]
  },
  {
   "cell_type": "code",
   "execution_count": 2,
   "id": "51a6ee9f",
   "metadata": {},
   "outputs": [],
   "source": [
    "train = pd.read_csv('./train.csv')\n",
    "test = pd.read_csv('./test.csv')"
   ]
  },
  {
   "cell_type": "code",
   "execution_count": 3,
   "id": "c3d55645",
   "metadata": {},
   "outputs": [
    {
     "data": {
      "text/html": [
       "<div>\n",
       "<style scoped>\n",
       "    .dataframe tbody tr th:only-of-type {\n",
       "        vertical-align: middle;\n",
       "    }\n",
       "\n",
       "    .dataframe tbody tr th {\n",
       "        vertical-align: top;\n",
       "    }\n",
       "\n",
       "    .dataframe thead th {\n",
       "        text-align: right;\n",
       "    }\n",
       "</style>\n",
       "<table border=\"1\" class=\"dataframe\">\n",
       "  <thead>\n",
       "    <tr style=\"text-align: right;\">\n",
       "      <th></th>\n",
       "      <th>SNP_id</th>\n",
       "      <th>name</th>\n",
       "      <th>chrom</th>\n",
       "      <th>cm</th>\n",
       "      <th>pos</th>\n",
       "    </tr>\n",
       "  </thead>\n",
       "  <tbody>\n",
       "    <tr>\n",
       "      <th>0</th>\n",
       "      <td>SNP_01</td>\n",
       "      <td>BTA-19852-no-rs</td>\n",
       "      <td>2</td>\n",
       "      <td>67.05460</td>\n",
       "      <td>42986890</td>\n",
       "    </tr>\n",
       "    <tr>\n",
       "      <th>1</th>\n",
       "      <td>SNP_02</td>\n",
       "      <td>ARS-USMARC-Parent-DQ647190-rs29013632</td>\n",
       "      <td>6</td>\n",
       "      <td>31.15670</td>\n",
       "      <td>13897068</td>\n",
       "    </tr>\n",
       "    <tr>\n",
       "      <th>2</th>\n",
       "      <td>SNP_03</td>\n",
       "      <td>ARS-BFGL-NGS-117009</td>\n",
       "      <td>6</td>\n",
       "      <td>68.28920</td>\n",
       "      <td>44649549</td>\n",
       "    </tr>\n",
       "    <tr>\n",
       "      <th>3</th>\n",
       "      <td>SNP_04</td>\n",
       "      <td>ARS-BFGL-NGS-60567</td>\n",
       "      <td>6</td>\n",
       "      <td>77.87490</td>\n",
       "      <td>53826064</td>\n",
       "    </tr>\n",
       "    <tr>\n",
       "      <th>4</th>\n",
       "      <td>SNP_05</td>\n",
       "      <td>BovineHD0600017032</td>\n",
       "      <td>6</td>\n",
       "      <td>80.50150</td>\n",
       "      <td>61779512</td>\n",
       "    </tr>\n",
       "    <tr>\n",
       "      <th>5</th>\n",
       "      <td>SNP_06</td>\n",
       "      <td>BovineHD0600017424</td>\n",
       "      <td>6</td>\n",
       "      <td>80.59540</td>\n",
       "      <td>63048481</td>\n",
       "    </tr>\n",
       "    <tr>\n",
       "      <th>6</th>\n",
       "      <td>SNP_07</td>\n",
       "      <td>Hapmap49442-BTA-111073</td>\n",
       "      <td>6</td>\n",
       "      <td>80.78000</td>\n",
       "      <td>64037334</td>\n",
       "    </tr>\n",
       "    <tr>\n",
       "      <th>7</th>\n",
       "      <td>SNP_08</td>\n",
       "      <td>BovineHD0600018638</td>\n",
       "      <td>6</td>\n",
       "      <td>82.68560</td>\n",
       "      <td>67510588</td>\n",
       "    </tr>\n",
       "    <tr>\n",
       "      <th>8</th>\n",
       "      <td>SNP_09</td>\n",
       "      <td>ARS-BFGL-NGS-37727</td>\n",
       "      <td>6</td>\n",
       "      <td>86.87400</td>\n",
       "      <td>73092782</td>\n",
       "    </tr>\n",
       "    <tr>\n",
       "      <th>9</th>\n",
       "      <td>SNP_10</td>\n",
       "      <td>BTB-01558306</td>\n",
       "      <td>7</td>\n",
       "      <td>62.06920</td>\n",
       "      <td>40827112</td>\n",
       "    </tr>\n",
       "    <tr>\n",
       "      <th>10</th>\n",
       "      <td>SNP_11</td>\n",
       "      <td>ARS-BFGL-NGS-44247</td>\n",
       "      <td>8</td>\n",
       "      <td>97.17310</td>\n",
       "      <td>92485682</td>\n",
       "    </tr>\n",
       "    <tr>\n",
       "      <th>11</th>\n",
       "      <td>SNP_12</td>\n",
       "      <td>Hapmap32827-BTA-146530</td>\n",
       "      <td>9</td>\n",
       "      <td>62.74630</td>\n",
       "      <td>55007839</td>\n",
       "    </tr>\n",
       "    <tr>\n",
       "      <th>12</th>\n",
       "      <td>SNP_13</td>\n",
       "      <td>BTB-00395482</td>\n",
       "      <td>9</td>\n",
       "      <td>63.41810</td>\n",
       "      <td>59692848</td>\n",
       "    </tr>\n",
       "    <tr>\n",
       "      <th>13</th>\n",
       "      <td>SNP_14</td>\n",
       "      <td>Hapmap40256-BTA-84189</td>\n",
       "      <td>9</td>\n",
       "      <td>66.81970</td>\n",
       "      <td>72822507</td>\n",
       "    </tr>\n",
       "    <tr>\n",
       "      <th>14</th>\n",
       "      <td>SNP_15</td>\n",
       "      <td>BovineHD1000000224</td>\n",
       "      <td>10</td>\n",
       "      <td>1.78774</td>\n",
       "      <td>814291</td>\n",
       "    </tr>\n",
       "  </tbody>\n",
       "</table>\n",
       "</div>"
      ],
      "text/plain": [
       "    SNP_id                                   name  chrom        cm       pos\n",
       "0   SNP_01                        BTA-19852-no-rs      2  67.05460  42986890\n",
       "1   SNP_02  ARS-USMARC-Parent-DQ647190-rs29013632      6  31.15670  13897068\n",
       "2   SNP_03                    ARS-BFGL-NGS-117009      6  68.28920  44649549\n",
       "3   SNP_04                     ARS-BFGL-NGS-60567      6  77.87490  53826064\n",
       "4   SNP_05                     BovineHD0600017032      6  80.50150  61779512\n",
       "5   SNP_06                     BovineHD0600017424      6  80.59540  63048481\n",
       "6   SNP_07                 Hapmap49442-BTA-111073      6  80.78000  64037334\n",
       "7   SNP_08                     BovineHD0600018638      6  82.68560  67510588\n",
       "8   SNP_09                     ARS-BFGL-NGS-37727      6  86.87400  73092782\n",
       "9   SNP_10                           BTB-01558306      7  62.06920  40827112\n",
       "10  SNP_11                     ARS-BFGL-NGS-44247      8  97.17310  92485682\n",
       "11  SNP_12                 Hapmap32827-BTA-146530      9  62.74630  55007839\n",
       "12  SNP_13                           BTB-00395482      9  63.41810  59692848\n",
       "13  SNP_14                  Hapmap40256-BTA-84189      9  66.81970  72822507\n",
       "14  SNP_15                     BovineHD1000000224     10   1.78774    814291"
      ]
     },
     "execution_count": 3,
     "metadata": {},
     "output_type": "execute_result"
    }
   ],
   "source": [
    "pd.read_csv('./snp_info.csv')"
   ]
  },
  {
   "cell_type": "code",
   "execution_count": 4,
   "id": "02c0634d",
   "metadata": {},
   "outputs": [
    {
     "data": {
      "text/plain": [
       "Index(['id', 'father', 'mother', 'gender', 'trait', 'SNP_01', 'SNP_02',\n",
       "       'SNP_03', 'SNP_04', 'SNP_05', 'SNP_06', 'SNP_07', 'SNP_08', 'SNP_09',\n",
       "       'SNP_10', 'SNP_11', 'SNP_12', 'SNP_13', 'SNP_14', 'SNP_15', 'class'],\n",
       "      dtype='object')"
      ]
     },
     "execution_count": 4,
     "metadata": {},
     "output_type": "execute_result"
    }
   ],
   "source": [
    "train.columns"
   ]
  },
  {
   "cell_type": "code",
   "execution_count": 5,
   "id": "7e9a1c86",
   "metadata": {},
   "outputs": [
    {
     "data": {
      "text/html": [
       "<div>\n",
       "<style scoped>\n",
       "    .dataframe tbody tr th:only-of-type {\n",
       "        vertical-align: middle;\n",
       "    }\n",
       "\n",
       "    .dataframe tbody tr th {\n",
       "        vertical-align: top;\n",
       "    }\n",
       "\n",
       "    .dataframe thead th {\n",
       "        text-align: right;\n",
       "    }\n",
       "</style>\n",
       "<table border=\"1\" class=\"dataframe\">\n",
       "  <thead>\n",
       "    <tr style=\"text-align: right;\">\n",
       "      <th></th>\n",
       "      <th>id</th>\n",
       "      <th>father</th>\n",
       "      <th>mother</th>\n",
       "      <th>gender</th>\n",
       "      <th>trait</th>\n",
       "      <th>SNP_01</th>\n",
       "      <th>SNP_02</th>\n",
       "      <th>SNP_03</th>\n",
       "      <th>SNP_04</th>\n",
       "      <th>SNP_05</th>\n",
       "      <th>...</th>\n",
       "      <th>SNP_07</th>\n",
       "      <th>SNP_08</th>\n",
       "      <th>SNP_09</th>\n",
       "      <th>SNP_10</th>\n",
       "      <th>SNP_11</th>\n",
       "      <th>SNP_12</th>\n",
       "      <th>SNP_13</th>\n",
       "      <th>SNP_14</th>\n",
       "      <th>SNP_15</th>\n",
       "      <th>class</th>\n",
       "    </tr>\n",
       "  </thead>\n",
       "  <tbody>\n",
       "    <tr>\n",
       "      <th>0</th>\n",
       "      <td>TRAIN_000</td>\n",
       "      <td>0</td>\n",
       "      <td>0</td>\n",
       "      <td>0</td>\n",
       "      <td>2</td>\n",
       "      <td>G G</td>\n",
       "      <td>A G</td>\n",
       "      <td>A A</td>\n",
       "      <td>G A</td>\n",
       "      <td>C A</td>\n",
       "      <td>...</td>\n",
       "      <td>A A</td>\n",
       "      <td>G G</td>\n",
       "      <td>A A</td>\n",
       "      <td>G G</td>\n",
       "      <td>A G</td>\n",
       "      <td>A A</td>\n",
       "      <td>A A</td>\n",
       "      <td>A A</td>\n",
       "      <td>A A</td>\n",
       "      <td>B</td>\n",
       "    </tr>\n",
       "    <tr>\n",
       "      <th>1</th>\n",
       "      <td>TRAIN_001</td>\n",
       "      <td>0</td>\n",
       "      <td>0</td>\n",
       "      <td>0</td>\n",
       "      <td>2</td>\n",
       "      <td>A G</td>\n",
       "      <td>A G</td>\n",
       "      <td>C A</td>\n",
       "      <td>A A</td>\n",
       "      <td>A A</td>\n",
       "      <td>...</td>\n",
       "      <td>A A</td>\n",
       "      <td>G A</td>\n",
       "      <td>A A</td>\n",
       "      <td>A G</td>\n",
       "      <td>A A</td>\n",
       "      <td>G A</td>\n",
       "      <td>G G</td>\n",
       "      <td>A A</td>\n",
       "      <td>A A</td>\n",
       "      <td>C</td>\n",
       "    </tr>\n",
       "    <tr>\n",
       "      <th>2</th>\n",
       "      <td>TRAIN_002</td>\n",
       "      <td>0</td>\n",
       "      <td>0</td>\n",
       "      <td>0</td>\n",
       "      <td>2</td>\n",
       "      <td>G G</td>\n",
       "      <td>G G</td>\n",
       "      <td>A A</td>\n",
       "      <td>G A</td>\n",
       "      <td>C C</td>\n",
       "      <td>...</td>\n",
       "      <td>A A</td>\n",
       "      <td>G A</td>\n",
       "      <td>G A</td>\n",
       "      <td>A G</td>\n",
       "      <td>A A</td>\n",
       "      <td>A A</td>\n",
       "      <td>A A</td>\n",
       "      <td>A A</td>\n",
       "      <td>A A</td>\n",
       "      <td>B</td>\n",
       "    </tr>\n",
       "    <tr>\n",
       "      <th>3</th>\n",
       "      <td>TRAIN_003</td>\n",
       "      <td>0</td>\n",
       "      <td>0</td>\n",
       "      <td>0</td>\n",
       "      <td>1</td>\n",
       "      <td>A A</td>\n",
       "      <td>G G</td>\n",
       "      <td>A A</td>\n",
       "      <td>G A</td>\n",
       "      <td>A A</td>\n",
       "      <td>...</td>\n",
       "      <td>G G</td>\n",
       "      <td>A A</td>\n",
       "      <td>G G</td>\n",
       "      <td>A G</td>\n",
       "      <td>G G</td>\n",
       "      <td>G G</td>\n",
       "      <td>G G</td>\n",
       "      <td>A A</td>\n",
       "      <td>G G</td>\n",
       "      <td>A</td>\n",
       "    </tr>\n",
       "    <tr>\n",
       "      <th>4</th>\n",
       "      <td>TRAIN_004</td>\n",
       "      <td>0</td>\n",
       "      <td>0</td>\n",
       "      <td>0</td>\n",
       "      <td>2</td>\n",
       "      <td>G G</td>\n",
       "      <td>G G</td>\n",
       "      <td>C C</td>\n",
       "      <td>A A</td>\n",
       "      <td>C C</td>\n",
       "      <td>...</td>\n",
       "      <td>A A</td>\n",
       "      <td>A A</td>\n",
       "      <td>A A</td>\n",
       "      <td>G G</td>\n",
       "      <td>A A</td>\n",
       "      <td>A A</td>\n",
       "      <td>A G</td>\n",
       "      <td>A A</td>\n",
       "      <td>G A</td>\n",
       "      <td>C</td>\n",
       "    </tr>\n",
       "    <tr>\n",
       "      <th>...</th>\n",
       "      <td>...</td>\n",
       "      <td>...</td>\n",
       "      <td>...</td>\n",
       "      <td>...</td>\n",
       "      <td>...</td>\n",
       "      <td>...</td>\n",
       "      <td>...</td>\n",
       "      <td>...</td>\n",
       "      <td>...</td>\n",
       "      <td>...</td>\n",
       "      <td>...</td>\n",
       "      <td>...</td>\n",
       "      <td>...</td>\n",
       "      <td>...</td>\n",
       "      <td>...</td>\n",
       "      <td>...</td>\n",
       "      <td>...</td>\n",
       "      <td>...</td>\n",
       "      <td>...</td>\n",
       "      <td>...</td>\n",
       "      <td>...</td>\n",
       "    </tr>\n",
       "    <tr>\n",
       "      <th>257</th>\n",
       "      <td>TRAIN_257</td>\n",
       "      <td>0</td>\n",
       "      <td>0</td>\n",
       "      <td>0</td>\n",
       "      <td>2</td>\n",
       "      <td>A G</td>\n",
       "      <td>A G</td>\n",
       "      <td>A A</td>\n",
       "      <td>G A</td>\n",
       "      <td>C C</td>\n",
       "      <td>...</td>\n",
       "      <td>A A</td>\n",
       "      <td>G A</td>\n",
       "      <td>A A</td>\n",
       "      <td>G G</td>\n",
       "      <td>A G</td>\n",
       "      <td>G A</td>\n",
       "      <td>A A</td>\n",
       "      <td>A A</td>\n",
       "      <td>A A</td>\n",
       "      <td>B</td>\n",
       "    </tr>\n",
       "    <tr>\n",
       "      <th>258</th>\n",
       "      <td>TRAIN_258</td>\n",
       "      <td>0</td>\n",
       "      <td>0</td>\n",
       "      <td>0</td>\n",
       "      <td>2</td>\n",
       "      <td>G G</td>\n",
       "      <td>A A</td>\n",
       "      <td>C A</td>\n",
       "      <td>A A</td>\n",
       "      <td>A A</td>\n",
       "      <td>...</td>\n",
       "      <td>G A</td>\n",
       "      <td>G A</td>\n",
       "      <td>A A</td>\n",
       "      <td>A G</td>\n",
       "      <td>A G</td>\n",
       "      <td>A A</td>\n",
       "      <td>A G</td>\n",
       "      <td>A A</td>\n",
       "      <td>G A</td>\n",
       "      <td>C</td>\n",
       "    </tr>\n",
       "    <tr>\n",
       "      <th>259</th>\n",
       "      <td>TRAIN_259</td>\n",
       "      <td>0</td>\n",
       "      <td>0</td>\n",
       "      <td>0</td>\n",
       "      <td>1</td>\n",
       "      <td>A G</td>\n",
       "      <td>G G</td>\n",
       "      <td>A A</td>\n",
       "      <td>G A</td>\n",
       "      <td>A A</td>\n",
       "      <td>...</td>\n",
       "      <td>G G</td>\n",
       "      <td>G A</td>\n",
       "      <td>G A</td>\n",
       "      <td>A A</td>\n",
       "      <td>G G</td>\n",
       "      <td>G G</td>\n",
       "      <td>G G</td>\n",
       "      <td>C A</td>\n",
       "      <td>G G</td>\n",
       "      <td>A</td>\n",
       "    </tr>\n",
       "    <tr>\n",
       "      <th>260</th>\n",
       "      <td>TRAIN_260</td>\n",
       "      <td>0</td>\n",
       "      <td>0</td>\n",
       "      <td>0</td>\n",
       "      <td>1</td>\n",
       "      <td>A A</td>\n",
       "      <td>G G</td>\n",
       "      <td>A A</td>\n",
       "      <td>G A</td>\n",
       "      <td>A A</td>\n",
       "      <td>...</td>\n",
       "      <td>G G</td>\n",
       "      <td>A A</td>\n",
       "      <td>G A</td>\n",
       "      <td>A G</td>\n",
       "      <td>A G</td>\n",
       "      <td>G A</td>\n",
       "      <td>G G</td>\n",
       "      <td>C A</td>\n",
       "      <td>G G</td>\n",
       "      <td>A</td>\n",
       "    </tr>\n",
       "    <tr>\n",
       "      <th>261</th>\n",
       "      <td>TRAIN_261</td>\n",
       "      <td>0</td>\n",
       "      <td>0</td>\n",
       "      <td>0</td>\n",
       "      <td>2</td>\n",
       "      <td>G G</td>\n",
       "      <td>A G</td>\n",
       "      <td>C A</td>\n",
       "      <td>G G</td>\n",
       "      <td>C C</td>\n",
       "      <td>...</td>\n",
       "      <td>A A</td>\n",
       "      <td>A A</td>\n",
       "      <td>A A</td>\n",
       "      <td>G G</td>\n",
       "      <td>A A</td>\n",
       "      <td>A A</td>\n",
       "      <td>G G</td>\n",
       "      <td>A A</td>\n",
       "      <td>G A</td>\n",
       "      <td>B</td>\n",
       "    </tr>\n",
       "  </tbody>\n",
       "</table>\n",
       "<p>262 rows × 21 columns</p>\n",
       "</div>"
      ],
      "text/plain": [
       "            id  father  mother  gender  trait SNP_01 SNP_02 SNP_03 SNP_04  \\\n",
       "0    TRAIN_000       0       0       0      2    G G    A G    A A    G A   \n",
       "1    TRAIN_001       0       0       0      2    A G    A G    C A    A A   \n",
       "2    TRAIN_002       0       0       0      2    G G    G G    A A    G A   \n",
       "3    TRAIN_003       0       0       0      1    A A    G G    A A    G A   \n",
       "4    TRAIN_004       0       0       0      2    G G    G G    C C    A A   \n",
       "..         ...     ...     ...     ...    ...    ...    ...    ...    ...   \n",
       "257  TRAIN_257       0       0       0      2    A G    A G    A A    G A   \n",
       "258  TRAIN_258       0       0       0      2    G G    A A    C A    A A   \n",
       "259  TRAIN_259       0       0       0      1    A G    G G    A A    G A   \n",
       "260  TRAIN_260       0       0       0      1    A A    G G    A A    G A   \n",
       "261  TRAIN_261       0       0       0      2    G G    A G    C A    G G   \n",
       "\n",
       "    SNP_05  ... SNP_07 SNP_08 SNP_09 SNP_10 SNP_11 SNP_12 SNP_13 SNP_14  \\\n",
       "0      C A  ...    A A    G G    A A    G G    A G    A A    A A    A A   \n",
       "1      A A  ...    A A    G A    A A    A G    A A    G A    G G    A A   \n",
       "2      C C  ...    A A    G A    G A    A G    A A    A A    A A    A A   \n",
       "3      A A  ...    G G    A A    G G    A G    G G    G G    G G    A A   \n",
       "4      C C  ...    A A    A A    A A    G G    A A    A A    A G    A A   \n",
       "..     ...  ...    ...    ...    ...    ...    ...    ...    ...    ...   \n",
       "257    C C  ...    A A    G A    A A    G G    A G    G A    A A    A A   \n",
       "258    A A  ...    G A    G A    A A    A G    A G    A A    A G    A A   \n",
       "259    A A  ...    G G    G A    G A    A A    G G    G G    G G    C A   \n",
       "260    A A  ...    G G    A A    G A    A G    A G    G A    G G    C A   \n",
       "261    C C  ...    A A    A A    A A    G G    A A    A A    G G    A A   \n",
       "\n",
       "    SNP_15 class  \n",
       "0      A A     B  \n",
       "1      A A     C  \n",
       "2      A A     B  \n",
       "3      G G     A  \n",
       "4      G A     C  \n",
       "..     ...   ...  \n",
       "257    A A     B  \n",
       "258    G A     C  \n",
       "259    G G     A  \n",
       "260    G G     A  \n",
       "261    G A     B  \n",
       "\n",
       "[262 rows x 21 columns]"
      ]
     },
     "execution_count": 5,
     "metadata": {},
     "output_type": "execute_result"
    }
   ],
   "source": [
    "train"
   ]
  },
  {
   "cell_type": "code",
   "execution_count": 6,
   "id": "af319e71",
   "metadata": {},
   "outputs": [
    {
     "data": {
      "text/html": [
       "<div>\n",
       "<style scoped>\n",
       "    .dataframe tbody tr th:only-of-type {\n",
       "        vertical-align: middle;\n",
       "    }\n",
       "\n",
       "    .dataframe tbody tr th {\n",
       "        vertical-align: top;\n",
       "    }\n",
       "\n",
       "    .dataframe thead th {\n",
       "        text-align: right;\n",
       "    }\n",
       "</style>\n",
       "<table border=\"1\" class=\"dataframe\">\n",
       "  <thead>\n",
       "    <tr style=\"text-align: right;\">\n",
       "      <th></th>\n",
       "      <th>id</th>\n",
       "      <th>father</th>\n",
       "      <th>mother</th>\n",
       "      <th>gender</th>\n",
       "      <th>trait</th>\n",
       "      <th>SNP_01</th>\n",
       "      <th>SNP_02</th>\n",
       "      <th>SNP_03</th>\n",
       "      <th>SNP_04</th>\n",
       "      <th>SNP_05</th>\n",
       "      <th>SNP_06</th>\n",
       "      <th>SNP_07</th>\n",
       "      <th>SNP_08</th>\n",
       "      <th>SNP_09</th>\n",
       "      <th>SNP_10</th>\n",
       "      <th>SNP_11</th>\n",
       "      <th>SNP_12</th>\n",
       "      <th>SNP_13</th>\n",
       "      <th>SNP_14</th>\n",
       "      <th>SNP_15</th>\n",
       "    </tr>\n",
       "  </thead>\n",
       "  <tbody>\n",
       "    <tr>\n",
       "      <th>0</th>\n",
       "      <td>TEST_000</td>\n",
       "      <td>0</td>\n",
       "      <td>0</td>\n",
       "      <td>0</td>\n",
       "      <td>1</td>\n",
       "      <td>A G</td>\n",
       "      <td>G G</td>\n",
       "      <td>A A</td>\n",
       "      <td>G A</td>\n",
       "      <td>A A</td>\n",
       "      <td>A G</td>\n",
       "      <td>G G</td>\n",
       "      <td>G A</td>\n",
       "      <td>G A</td>\n",
       "      <td>A G</td>\n",
       "      <td>A G</td>\n",
       "      <td>G A</td>\n",
       "      <td>G G</td>\n",
       "      <td>C A</td>\n",
       "      <td>G A</td>\n",
       "    </tr>\n",
       "    <tr>\n",
       "      <th>1</th>\n",
       "      <td>TEST_001</td>\n",
       "      <td>0</td>\n",
       "      <td>0</td>\n",
       "      <td>0</td>\n",
       "      <td>2</td>\n",
       "      <td>G G</td>\n",
       "      <td>A G</td>\n",
       "      <td>C C</td>\n",
       "      <td>G G</td>\n",
       "      <td>C C</td>\n",
       "      <td>A A</td>\n",
       "      <td>A A</td>\n",
       "      <td>A A</td>\n",
       "      <td>A A</td>\n",
       "      <td>G G</td>\n",
       "      <td>A G</td>\n",
       "      <td>A A</td>\n",
       "      <td>A A</td>\n",
       "      <td>A A</td>\n",
       "      <td>A A</td>\n",
       "    </tr>\n",
       "    <tr>\n",
       "      <th>2</th>\n",
       "      <td>TEST_002</td>\n",
       "      <td>0</td>\n",
       "      <td>0</td>\n",
       "      <td>0</td>\n",
       "      <td>2</td>\n",
       "      <td>G G</td>\n",
       "      <td>A G</td>\n",
       "      <td>A A</td>\n",
       "      <td>A A</td>\n",
       "      <td>C A</td>\n",
       "      <td>A G</td>\n",
       "      <td>A A</td>\n",
       "      <td>A A</td>\n",
       "      <td>A A</td>\n",
       "      <td>A G</td>\n",
       "      <td>A A</td>\n",
       "      <td>G A</td>\n",
       "      <td>G G</td>\n",
       "      <td>A A</td>\n",
       "      <td>G G</td>\n",
       "    </tr>\n",
       "    <tr>\n",
       "      <th>3</th>\n",
       "      <td>TEST_003</td>\n",
       "      <td>0</td>\n",
       "      <td>0</td>\n",
       "      <td>0</td>\n",
       "      <td>2</td>\n",
       "      <td>G G</td>\n",
       "      <td>A G</td>\n",
       "      <td>C A</td>\n",
       "      <td>A A</td>\n",
       "      <td>C C</td>\n",
       "      <td>A A</td>\n",
       "      <td>A A</td>\n",
       "      <td>A A</td>\n",
       "      <td>A A</td>\n",
       "      <td>G G</td>\n",
       "      <td>A A</td>\n",
       "      <td>G A</td>\n",
       "      <td>A G</td>\n",
       "      <td>A A</td>\n",
       "      <td>A A</td>\n",
       "    </tr>\n",
       "    <tr>\n",
       "      <th>4</th>\n",
       "      <td>TEST_004</td>\n",
       "      <td>0</td>\n",
       "      <td>0</td>\n",
       "      <td>0</td>\n",
       "      <td>1</td>\n",
       "      <td>A A</td>\n",
       "      <td>G G</td>\n",
       "      <td>A A</td>\n",
       "      <td>G G</td>\n",
       "      <td>A A</td>\n",
       "      <td>G G</td>\n",
       "      <td>G G</td>\n",
       "      <td>A A</td>\n",
       "      <td>G G</td>\n",
       "      <td>A G</td>\n",
       "      <td>G G</td>\n",
       "      <td>G A</td>\n",
       "      <td>G G</td>\n",
       "      <td>A A</td>\n",
       "      <td>G G</td>\n",
       "    </tr>\n",
       "    <tr>\n",
       "      <th>...</th>\n",
       "      <td>...</td>\n",
       "      <td>...</td>\n",
       "      <td>...</td>\n",
       "      <td>...</td>\n",
       "      <td>...</td>\n",
       "      <td>...</td>\n",
       "      <td>...</td>\n",
       "      <td>...</td>\n",
       "      <td>...</td>\n",
       "      <td>...</td>\n",
       "      <td>...</td>\n",
       "      <td>...</td>\n",
       "      <td>...</td>\n",
       "      <td>...</td>\n",
       "      <td>...</td>\n",
       "      <td>...</td>\n",
       "      <td>...</td>\n",
       "      <td>...</td>\n",
       "      <td>...</td>\n",
       "      <td>...</td>\n",
       "    </tr>\n",
       "    <tr>\n",
       "      <th>170</th>\n",
       "      <td>TEST_170</td>\n",
       "      <td>0</td>\n",
       "      <td>0</td>\n",
       "      <td>0</td>\n",
       "      <td>2</td>\n",
       "      <td>A G</td>\n",
       "      <td>G G</td>\n",
       "      <td>C C</td>\n",
       "      <td>A A</td>\n",
       "      <td>C A</td>\n",
       "      <td>A G</td>\n",
       "      <td>A A</td>\n",
       "      <td>G G</td>\n",
       "      <td>A A</td>\n",
       "      <td>G G</td>\n",
       "      <td>G G</td>\n",
       "      <td>A A</td>\n",
       "      <td>A A</td>\n",
       "      <td>A A</td>\n",
       "      <td>G A</td>\n",
       "    </tr>\n",
       "    <tr>\n",
       "      <th>171</th>\n",
       "      <td>TEST_171</td>\n",
       "      <td>0</td>\n",
       "      <td>0</td>\n",
       "      <td>0</td>\n",
       "      <td>2</td>\n",
       "      <td>G G</td>\n",
       "      <td>A A</td>\n",
       "      <td>A A</td>\n",
       "      <td>A A</td>\n",
       "      <td>C A</td>\n",
       "      <td>A G</td>\n",
       "      <td>A A</td>\n",
       "      <td>A A</td>\n",
       "      <td>A A</td>\n",
       "      <td>A G</td>\n",
       "      <td>A A</td>\n",
       "      <td>A A</td>\n",
       "      <td>A G</td>\n",
       "      <td>A A</td>\n",
       "      <td>G A</td>\n",
       "    </tr>\n",
       "    <tr>\n",
       "      <th>172</th>\n",
       "      <td>TEST_172</td>\n",
       "      <td>0</td>\n",
       "      <td>0</td>\n",
       "      <td>0</td>\n",
       "      <td>2</td>\n",
       "      <td>G G</td>\n",
       "      <td>A A</td>\n",
       "      <td>A A</td>\n",
       "      <td>A A</td>\n",
       "      <td>C A</td>\n",
       "      <td>A G</td>\n",
       "      <td>A A</td>\n",
       "      <td>A A</td>\n",
       "      <td>A A</td>\n",
       "      <td>G G</td>\n",
       "      <td>A G</td>\n",
       "      <td>A A</td>\n",
       "      <td>A G</td>\n",
       "      <td>A A</td>\n",
       "      <td>G G</td>\n",
       "    </tr>\n",
       "    <tr>\n",
       "      <th>173</th>\n",
       "      <td>TEST_173</td>\n",
       "      <td>0</td>\n",
       "      <td>0</td>\n",
       "      <td>0</td>\n",
       "      <td>2</td>\n",
       "      <td>A G</td>\n",
       "      <td>G G</td>\n",
       "      <td>C A</td>\n",
       "      <td>G A</td>\n",
       "      <td>C C</td>\n",
       "      <td>G G</td>\n",
       "      <td>A A</td>\n",
       "      <td>G A</td>\n",
       "      <td>A A</td>\n",
       "      <td>G G</td>\n",
       "      <td>A G</td>\n",
       "      <td>A A</td>\n",
       "      <td>A A</td>\n",
       "      <td>A A</td>\n",
       "      <td>A A</td>\n",
       "    </tr>\n",
       "    <tr>\n",
       "      <th>174</th>\n",
       "      <td>TEST_174</td>\n",
       "      <td>0</td>\n",
       "      <td>0</td>\n",
       "      <td>0</td>\n",
       "      <td>2</td>\n",
       "      <td>G G</td>\n",
       "      <td>G G</td>\n",
       "      <td>C C</td>\n",
       "      <td>G A</td>\n",
       "      <td>C A</td>\n",
       "      <td>A A</td>\n",
       "      <td>G A</td>\n",
       "      <td>G G</td>\n",
       "      <td>A A</td>\n",
       "      <td>G G</td>\n",
       "      <td>G G</td>\n",
       "      <td>A A</td>\n",
       "      <td>A A</td>\n",
       "      <td>A A</td>\n",
       "      <td>A A</td>\n",
       "    </tr>\n",
       "  </tbody>\n",
       "</table>\n",
       "<p>175 rows × 20 columns</p>\n",
       "</div>"
      ],
      "text/plain": [
       "           id  father  mother  gender  trait SNP_01 SNP_02 SNP_03 SNP_04  \\\n",
       "0    TEST_000       0       0       0      1    A G    G G    A A    G A   \n",
       "1    TEST_001       0       0       0      2    G G    A G    C C    G G   \n",
       "2    TEST_002       0       0       0      2    G G    A G    A A    A A   \n",
       "3    TEST_003       0       0       0      2    G G    A G    C A    A A   \n",
       "4    TEST_004       0       0       0      1    A A    G G    A A    G G   \n",
       "..        ...     ...     ...     ...    ...    ...    ...    ...    ...   \n",
       "170  TEST_170       0       0       0      2    A G    G G    C C    A A   \n",
       "171  TEST_171       0       0       0      2    G G    A A    A A    A A   \n",
       "172  TEST_172       0       0       0      2    G G    A A    A A    A A   \n",
       "173  TEST_173       0       0       0      2    A G    G G    C A    G A   \n",
       "174  TEST_174       0       0       0      2    G G    G G    C C    G A   \n",
       "\n",
       "    SNP_05 SNP_06 SNP_07 SNP_08 SNP_09 SNP_10 SNP_11 SNP_12 SNP_13 SNP_14  \\\n",
       "0      A A    A G    G G    G A    G A    A G    A G    G A    G G    C A   \n",
       "1      C C    A A    A A    A A    A A    G G    A G    A A    A A    A A   \n",
       "2      C A    A G    A A    A A    A A    A G    A A    G A    G G    A A   \n",
       "3      C C    A A    A A    A A    A A    G G    A A    G A    A G    A A   \n",
       "4      A A    G G    G G    A A    G G    A G    G G    G A    G G    A A   \n",
       "..     ...    ...    ...    ...    ...    ...    ...    ...    ...    ...   \n",
       "170    C A    A G    A A    G G    A A    G G    G G    A A    A A    A A   \n",
       "171    C A    A G    A A    A A    A A    A G    A A    A A    A G    A A   \n",
       "172    C A    A G    A A    A A    A A    G G    A G    A A    A G    A A   \n",
       "173    C C    G G    A A    G A    A A    G G    A G    A A    A A    A A   \n",
       "174    C A    A A    G A    G G    A A    G G    G G    A A    A A    A A   \n",
       "\n",
       "    SNP_15  \n",
       "0      G A  \n",
       "1      A A  \n",
       "2      G G  \n",
       "3      A A  \n",
       "4      G G  \n",
       "..     ...  \n",
       "170    G A  \n",
       "171    G A  \n",
       "172    G G  \n",
       "173    A A  \n",
       "174    A A  \n",
       "\n",
       "[175 rows x 20 columns]"
      ]
     },
     "execution_count": 6,
     "metadata": {},
     "output_type": "execute_result"
    }
   ],
   "source": [
    "test"
   ]
  },
  {
   "cell_type": "code",
   "execution_count": 7,
   "id": "086f1a15",
   "metadata": {},
   "outputs": [],
   "source": [
    "tp = pd.read_csv('./comp_ans.csv')"
   ]
  },
  {
   "cell_type": "code",
   "execution_count": 8,
   "id": "da34c51d",
   "metadata": {},
   "outputs": [
    {
     "data": {
      "text/plain": [
       "<AxesSubplot:xlabel='class', ylabel='count'>"
      ]
     },
     "execution_count": 8,
     "metadata": {},
     "output_type": "execute_result"
    },
    {
     "data": {
      "image/png": "[encoded data removed]",
      "text/plain": [
       "<Figure size 432x288 with 1 Axes>"
      ]
     },
     "metadata": {
      "needs_background": "light"
     },
     "output_type": "display_data"
    }
   ],
   "source": [
    "sns.countplot(x=tp['class'])"
   ]
  },
  {
   "cell_type": "code",
   "execution_count": 9,
   "id": "acc35c28",
   "metadata": {},
   "outputs": [
    {
     "data": {
      "text/plain": [
       "<AxesSubplot:xlabel='class', ylabel='count'>"
      ]
     },
     "execution_count": 9,
     "metadata": {},
     "output_type": "execute_result"
    },
    {
     "data": {
      "image/png": "[encoded data removed]",
      "text/plain": [
       "<Figure size 432x288 with 1 Axes>"
      ]
     },
     "metadata": {
      "needs_background": "light"
     },
     "output_type": "display_data"
    }
   ],
   "source": [
    "sns.countplot(x=train['class'])"
   ]
  },
  {
   "cell_type": "code",
   "execution_count": 10,
   "id": "5826e4ed",
   "metadata": {},
   "outputs": [],
   "source": [
    "train = train[train['class']=='B']"
   ]
  },
  {
   "cell_type": "code",
   "execution_count": 11,
   "id": "e17b8284",
   "metadata": {},
   "outputs": [
    {
     "data": {
      "text/plain": [
       "<AxesSubplot:xlabel='trait', ylabel='count'>"
      ]
     },
     "execution_count": 11,
     "metadata": {},
     "output_type": "execute_result"
    },
    {
     "data": {
      "image/png": "[encoded data removed]",
      "text/plain": [
       "<Figure size 432x288 with 2 Axes>"
      ]
     },
     "metadata": {
      "needs_background": "light"
     },
     "output_type": "display_data"
    }
   ],
   "source": [
    "plt.subplot(1, 2, 1)\n",
    "sns.countplot(x=train['trait'])\n",
    "plt.subplot(1, 2, 2)\n",
    "sns.countplot(x=test['trait'])"
   ]
  },
  {
   "cell_type": "code",
   "execution_count": 12,
   "id": "c160f9a5",
   "metadata": {},
   "outputs": [
    {
     "data": {
      "text/plain": [
       "<AxesSubplot:xlabel='SNP_01', ylabel='count'>"
      ]
     },
     "execution_count": 12,
     "metadata": {},
     "output_type": "execute_result"
    },
    {
     "data": {
      "image/png": "[encoded data removed]",
      "text/plain": [
       "<Figure size 432x288 with 2 Axes>"
      ]
     },
     "metadata": {
      "needs_background": "light"
     },
     "output_type": "display_data"
    }
   ],
   "source": [
    "plt.subplot(1, 2, 1)\n",
    "sns.countplot(x=train[f'SNP_01'])\n",
    "plt.subplot(1, 2, 2)\n",
    "sns.countplot(x=test[f'SNP_01'])\n"
   ]
  },
  {
   "cell_type": "code",
   "execution_count": 13,
   "id": "1aac2fc4",
   "metadata": {},
   "outputs": [
    {
     "data": {
      "text/plain": [
       "<AxesSubplot:xlabel='SNP_02', ylabel='count'>"
      ]
     },
     "execution_count": 13,
     "metadata": {},
     "output_type": "execute_result"
    },
    {
     "data": {
      "image/png": "[encoded data removed]",
      "text/plain": [
       "<Figure size 432x288 with 2 Axes>"
      ]
     },
     "metadata": {
      "needs_background": "light"
     },
     "output_type": "display_data"
    }
   ],
   "source": [
    "plt.subplot(1, 2, 1)\n",
    "sns.countplot(x=train[f'SNP_02'])\n",
    "plt.subplot(1, 2, 2)\n",
    "sns.countplot(x=test[f'SNP_02'])"
   ]
  },
  {
   "cell_type": "code",
   "execution_count": 14,
   "id": "c7cf1d6a",
   "metadata": {},
   "outputs": [
    {
     "data": {
      "text/plain": [
       "<AxesSubplot:xlabel='SNP_03', ylabel='count'>"
      ]
     },
     "execution_count": 14,
     "metadata": {},
     "output_type": "execute_result"
    },
    {
     "data": {
      "image/png": "[encoded data removed]",
      "text/plain": [
       "<Figure size 432x288 with 2 Axes>"
      ]
     },
     "metadata": {
      "needs_background": "light"
     },
     "output_type": "display_data"
    }
   ],
   "source": [
    "plt.subplot(1, 2, 1)\n",
    "sns.countplot(x=train[f'SNP_03'])\n",
    "plt.subplot(1, 2, 2)\n",
    "sns.countplot(x=test[f'SNP_03'])"
   ]
  },
  {
   "cell_type": "code",
   "execution_count": 15,
   "id": "35828f8c",
   "metadata": {},
   "outputs": [
    {
     "data": {
      "text/plain": [
       "<AxesSubplot:xlabel='SNP_04', ylabel='count'>"
      ]
     },
     "execution_count": 15,
     "metadata": {},
     "output_type": "execute_result"
    },
    {
     "data": {
      "image/png": "[encoded data removed]",
      "text/plain": [
       "<Figure size 432x288 with 2 Axes>"
      ]
     },
     "metadata": {
      "needs_background": "light"
     },
     "output_type": "display_data"
    }
   ],
   "source": [
    "plt.subplot(1, 2, 1)\n",
    "sns.countplot(x=train[f'SNP_04'])\n",
    "plt.subplot(1, 2, 2)\n",
    "sns.countplot(x=test[f'SNP_04'])"
   ]
  },
  {
   "cell_type": "code",
   "execution_count": 16,
   "id": "826c8ed8",
   "metadata": {},
   "outputs": [
    {
     "data": {
      "text/plain": [
       "<AxesSubplot:xlabel='SNP_05', ylabel='count'>"
      ]
     },
     "execution_count": 16,
     "metadata": {},
     "output_type": "execute_result"
    },
    {
     "data": {
      "image/png": "[encoded data removed]",
      "text/plain": [
       "<Figure size 432x288 with 2 Axes>"
      ]
     },
     "metadata": {
      "needs_background": "light"
     },
     "output_type": "display_data"
    }
   ],
   "source": [
    "plt.subplot(1, 2, 1)\n",
    "sns.countplot(x=train[f'SNP_05'])\n",
    "plt.subplot(1, 2, 2)\n",
    "sns.countplot(x=test[f'SNP_05'])"
   ]
  },
  {
   "cell_type": "code",
   "execution_count": 17,
   "id": "d9fab360",
   "metadata": {},
   "outputs": [
    {
     "data": {
      "text/plain": [
       "<AxesSubplot:xlabel='SNP_06', ylabel='count'>"
      ]
     },
     "execution_count": 17,
     "metadata": {},
     "output_type": "execute_result"
    },
    {
     "data": {
      "image/png": "[encoded data removed]",
      "text/plain": [
       "<Figure size 432x288 with 2 Axes>"
      ]
     },
     "metadata": {
      "needs_background": "light"
     },
     "output_type": "display_data"
    }
   ],
   "source": [
    "plt.subplot(1, 2, 1)\n",
    "sns.countplot(x=train[f'SNP_06'])\n",
    "plt.subplot(1, 2, 2)\n",
    "sns.countplot(x=test[f'SNP_06'])"
   ]
  },
  {
   "cell_type": "code",
   "execution_count": 18,
   "id": "2e4cf372",
   "metadata": {},
   "outputs": [
    {
     "data": {
      "text/plain": [
       "<AxesSubplot:xlabel='SNP_07', ylabel='count'>"
      ]
     },
     "execution_count": 18,
     "metadata": {},
     "output_type": "execute_result"
    },
    {
     "data": {
      "image/png": "[encoded data removed]",
      "text/plain": [
       "<Figure size 432x288 with 2 Axes>"
      ]
     },
     "metadata": {
      "needs_background": "light"
     },
     "output_type": "display_data"
    }
   ],
   "source": [
    "plt.subplot(1, 2, 1)\n",
    "sns.countplot(x=train[f'SNP_07'])\n",
    "plt.subplot(1, 2, 2)\n",
    "sns.countplot(x=test[f'SNP_07'])"
   ]
  },
  {
   "cell_type": "code",
   "execution_count": 19,
   "id": "37282f4d",
   "metadata": {},
   "outputs": [
    {
     "data": {
      "text/plain": [
       "<AxesSubplot:xlabel='SNP_08', ylabel='count'>"
      ]
     },
     "execution_count": 19,
     "metadata": {},
     "output_type": "execute_result"
    },
    {
     "data": {
      "image/png": "[encoded data removed]",
      "text/plain": [
       "<Figure size 432x288 with 2 Axes>"
      ]
     },
     "metadata": {
      "needs_background": "light"
     },
     "output_type": "display_data"
    }
   ],
   "source": [
    "plt.subplot(1, 2, 1)\n",
    "sns.countplot(x=train[f'SNP_08'])\n",
    "plt.subplot(1, 2, 2)\n",
    "sns.countplot(x=test[f'SNP_08'])"
   ]
  },
  {
   "cell_type": "code",
   "execution_count": 20,
   "id": "6b98f370",
   "metadata": {},
   "outputs": [
    {
     "data": {
      "text/plain": [
       "<AxesSubplot:xlabel='SNP_09', ylabel='count'>"
      ]
     },
     "execution_count": 20,
     "metadata": {},
     "output_type": "execute_result"
    },
    {
     "data": {
      "image/png": "[encoded data removed]",
      "text/plain": [
       "<Figure size 432x288 with 2 Axes>"
      ]
     },
     "metadata": {
      "needs_background": "light"
     },
     "output_type": "display_data"
    }
   ],
   "source": [
    "plt.subplot(1, 2, 1)\n",
    "sns.countplot(x=train[f'SNP_09'])\n",
    "plt.subplot(1, 2, 2)\n",
    "sns.countplot(x=test[f'SNP_09'])"
   ]
  },
  {
   "cell_type": "code",
   "execution_count": 21,
   "id": "36050abb",
   "metadata": {},
   "outputs": [
    {
     "data": {
      "text/plain": [
       "<AxesSubplot:xlabel='SNP_10', ylabel='count'>"
      ]
     },
     "execution_count": 21,
     "metadata": {},
     "output_type": "execute_result"
    },
    {
     "data": {
      "image/png": "[encoded data removed]",
      "text/plain": [
       "<Figure size 432x288 with 2 Axes>"
      ]
     },
     "metadata": {
      "needs_background": "light"
     },
     "output_type": "display_data"
    }
   ],
   "source": [
    "plt.subplot(1, 2, 1)\n",
    "sns.countplot(x=train[f'SNP_10'])\n",
    "plt.subplot(1, 2, 2)\n",
    "sns.countplot(x=test[f'SNP_10'])"
   ]
  },
  {
   "cell_type": "code",
   "execution_count": 22,
   "id": "f5935edb",
   "metadata": {},
   "outputs": [
    {
     "data": {
      "text/plain": [
       "<AxesSubplot:xlabel='SNP_11', ylabel='count'>"
      ]
     },
     "execution_count": 22,
     "metadata": {},
     "output_type": "execute_result"
    },
    {
     "data": {
      "image/png": "[encoded data removed]",
      "text/plain": [
       "<Figure size 432x288 with 2 Axes>"
      ]
     },
     "metadata": {
      "needs_background": "light"
     },
     "output_type": "display_data"
    }
   ],
   "source": [
    "plt.subplot(1, 2, 1)\n",
    "sns.countplot(x=train[f'SNP_11'])\n",
    "plt.subplot(1, 2, 2)\n",
    "sns.countplot(x=test[f'SNP_11'])"
   ]
  },
  {
   "cell_type": "code",
   "execution_count": 23,
   "id": "dc7004d8",
   "metadata": {},
   "outputs": [
    {
     "data": {
      "text/plain": [
       "<AxesSubplot:xlabel='SNP_12', ylabel='count'>"
      ]
     },
     "execution_count": 23,
     "metadata": {},
     "output_type": "execute_result"
    },
    {
     "data": {
      "image/png": "[encoded data removed]",
      "text/plain": [
       "<Figure size 432x288 with 2 Axes>"
      ]
     },
     "metadata": {
      "needs_background": "light"
     },
     "output_type": "display_data"
    }
   ],
   "source": [
    "plt.subplot(1, 2, 1)\n",
    "sns.countplot(x=train[f'SNP_12'])\n",
    "plt.subplot(1, 2, 2)\n",
    "sns.countplot(x=test[f'SNP_12'])"
   ]
  },
  {
   "cell_type": "code",
   "execution_count": 24,
   "id": "063d69be",
   "metadata": {},
   "outputs": [
    {
     "data": {
      "text/plain": [
       "<AxesSubplot:xlabel='SNP_13', ylabel='count'>"
      ]
     },
     "execution_count": 24,
     "metadata": {},
     "output_type": "execute_result"
    },
    {
     "data": {
      "image/png": "[encoded data removed]",
      "text/plain": [
       "<Figure size 432x288 with 2 Axes>"
      ]
     },
     "metadata": {
      "needs_background": "light"
     },
     "output_type": "display_data"
    }
   ],
   "source": [
    "plt.subplot(1, 2, 1)\n",
    "sns.countplot(x=train[f'SNP_13'])\n",
    "plt.subplot(1, 2, 2)\n",
    "sns.countplot(x=test[f'SNP_13'])"
   ]
  },
  {
   "cell_type": "code",
   "execution_count": 25,
   "id": "3d60868f",
   "metadata": {},
   "outputs": [
    {
     "data": {
      "text/plain": [
       "<AxesSubplot:xlabel='SNP_14', ylabel='count'>"
      ]
     },
     "execution_count": 25,
     "metadata": {},
     "output_type": "execute_result"
    },
    {
     "data": {
      "image/png": "[encoded data removed]",
      "text/plain": [
       "<Figure size 432x288 with 2 Axes>"
      ]
     },
     "metadata": {
      "needs_background": "light"
     },
     "output_type": "display_data"
    }
   ],
   "source": [
    "plt.subplot(1, 2, 1)\n",
    "sns.countplot(x=train[f'SNP_14'])\n",
    "plt.subplot(1, 2, 2)\n",
    "sns.countplot(x=test[f'SNP_14'])"
   ]
  },
  {
   "cell_type": "code",
   "execution_count": 26,
   "id": "aa59695d",
   "metadata": {},
   "outputs": [
    {
     "data": {
      "text/plain": [
       "<AxesSubplot:xlabel='SNP_15', ylabel='count'>"
      ]
     },
     "execution_count": 26,
     "metadata": {},
     "output_type": "execute_result"
    },
    {
     "data": {
      "image/png": "[encoded data removed]",
      "text/plain": [
       "<Figure size 432x288 with 2 Axes>"
      ]
     },
     "metadata": {
      "needs_background": "light"
     },
     "output_type": "display_data"
    }
   ],
   "source": [
    "plt.subplot(1, 2, 1)\n",
    "sns.countplot(x=train[f'SNP_15'])\n",
    "plt.subplot(1, 2, 2)\n",
    "sns.countplot(x=test[f'SNP_15'])"
   ]
  }
 ],
 "metadata": {
  "kernelspec": {
   "display_name": "Python 3 (ipykernel)",
   "language": "python",
   "name": "python3"
  },
  "language_info": {
   "codemirror_mode": {
    "name": "ipython",
    "version": 3
   },
   "file_extension": ".py",
   "mimetype": "text/x-python",
   "name": "python",
   "nbconvert_exporter": "python",
   "pygments_lexer": "ipython3",
   "version": "3.9.13"
  }
 },
 "nbformat": 4,
 "nbformat_minor": 5
}
