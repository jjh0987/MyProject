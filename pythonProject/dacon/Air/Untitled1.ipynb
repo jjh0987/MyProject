{
 "cells": [
  {
   "cell_type": "code",
   "execution_count": 37,
   "id": "31ad306b",
   "metadata": {},
   "outputs": [],
   "source": [
    "import pandas as pd\n",
    "import numpy as np\n",
    "import random\n",
    "import os\n",
    "import gc\n",
    "from sklearn.preprocessing import LabelEncoder, OneHotEncoder, MinMaxScaler\n",
    "\n",
    "def seed_everything(seed):\n",
    "    random.seed(seed)\n",
    "    os.environ['PYTHONHASHSEED'] = str(seed)\n",
    "    np.random.seed(seed)\n",
    "seed_everything(42) # Seed 고정"
   ]
  },
  {
   "cell_type": "code",
   "execution_count": 38,
   "id": "7ea76c2e",
   "metadata": {},
   "outputs": [
    {
     "ename": "RuntimeError",
     "evalue": "module compiled against API version 0xe but this version of numpy is 0xd",
     "output_type": "error",
     "traceback": [
      "\u001b[0;31m---------------------------------------------------------------------------\u001b[0m",
      "\u001b[0;31mRuntimeError\u001b[0m                              Traceback (most recent call last)",
      "\u001b[0;31mRuntimeError\u001b[0m: module compiled against API version 0xe but this version of numpy is 0xd"
     ]
    },
    {
     "ename": "RuntimeError",
     "evalue": "module compiled against API version 0xe but this version of numpy is 0xd",
     "output_type": "error",
     "traceback": [
      "\u001b[0;31m---------------------------------------------------------------------------\u001b[0m",
      "\u001b[0;31mRuntimeError\u001b[0m                              Traceback (most recent call last)",
      "\u001b[0;31mRuntimeError\u001b[0m: module compiled against API version 0xe but this version of numpy is 0xd"
     ]
    }
   ],
   "source": [
    "train = pd.read_parquet('./train.parquet')\n",
    "test = pd.read_parquet('./test.parquet')\n",
    "sample_submission = pd.read_csv('sample_submission.csv', index_col = 0)"
   ]
  },
  {
   "cell_type": "code",
   "execution_count": 39,
   "id": "761cd50a",
   "metadata": {},
   "outputs": [],
   "source": [
    "train = train.drop('Carrier_Code(IATA)',axis=1)\n",
    "train = train.drop('Origin_Airport',axis=1)\n",
    "train = train.drop('Destination_Airport',axis=1)\n",
    "train = train.drop(['Origin_State','Destination_State'],axis=1)\n",
    "train = train.drop(['Airline'],axis=1)\n",
    "\n",
    "lbe = LabelEncoder()\n",
    "train['Tail_Number'] = lbe.fit_transform(train['Tail_Number'])"
   ]
  },
  {
   "cell_type": "code",
   "execution_count": 40,
   "id": "7ff162ea",
   "metadata": {},
   "outputs": [
    {
     "data": {
      "text/html": [
       "<div>\n",
       "<style scoped>\n",
       "    .dataframe tbody tr th:only-of-type {\n",
       "        vertical-align: middle;\n",
       "    }\n",
       "\n",
       "    .dataframe tbody tr th {\n",
       "        vertical-align: top;\n",
       "    }\n",
       "\n",
       "    .dataframe thead th {\n",
       "        text-align: right;\n",
       "    }\n",
       "</style>\n",
       "<table border=\"1\" class=\"dataframe\">\n",
       "  <thead>\n",
       "    <tr style=\"text-align: right;\">\n",
       "      <th></th>\n",
       "      <th>ID</th>\n",
       "      <th>Month</th>\n",
       "      <th>Day_of_Month</th>\n",
       "      <th>Estimated_Departure_Time</th>\n",
       "      <th>Estimated_Arrival_Time</th>\n",
       "      <th>Cancelled</th>\n",
       "      <th>Diverted</th>\n",
       "      <th>Origin_Airport_ID</th>\n",
       "      <th>Destination_Airport_ID</th>\n",
       "      <th>Distance</th>\n",
       "      <th>Carrier_ID(DOT)</th>\n",
       "      <th>Tail_Number</th>\n",
       "      <th>Delay</th>\n",
       "    </tr>\n",
       "  </thead>\n",
       "  <tbody>\n",
       "    <tr>\n",
       "      <th>8</th>\n",
       "      <td>TRAIN_000008</td>\n",
       "      <td>6</td>\n",
       "      <td>13</td>\n",
       "      <td>1420.0</td>\n",
       "      <td>1550.0</td>\n",
       "      <td>0</td>\n",
       "      <td>0</td>\n",
       "      <td>10821</td>\n",
       "      <td>11057</td>\n",
       "      <td>361.0</td>\n",
       "      <td>19393.0</td>\n",
       "      <td>4083</td>\n",
       "      <td>1</td>\n",
       "    </tr>\n",
       "    <tr>\n",
       "      <th>13</th>\n",
       "      <td>TRAIN_000013</td>\n",
       "      <td>9</td>\n",
       "      <td>19</td>\n",
       "      <td>615.0</td>\n",
       "      <td>706.0</td>\n",
       "      <td>0</td>\n",
       "      <td>0</td>\n",
       "      <td>13158</td>\n",
       "      <td>11292</td>\n",
       "      <td>563.0</td>\n",
       "      <td>20304.0</td>\n",
       "      <td>579</td>\n",
       "      <td>1</td>\n",
       "    </tr>\n",
       "    <tr>\n",
       "      <th>19</th>\n",
       "      <td>TRAIN_000019</td>\n",
       "      <td>7</td>\n",
       "      <td>14</td>\n",
       "      <td>1907.0</td>\n",
       "      <td>2145.0</td>\n",
       "      <td>0</td>\n",
       "      <td>0</td>\n",
       "      <td>10529</td>\n",
       "      <td>10397</td>\n",
       "      <td>859.0</td>\n",
       "      <td>19790.0</td>\n",
       "      <td>6147</td>\n",
       "      <td>1</td>\n",
       "    </tr>\n",
       "    <tr>\n",
       "      <th>32</th>\n",
       "      <td>TRAIN_000032</td>\n",
       "      <td>6</td>\n",
       "      <td>20</td>\n",
       "      <td>750.0</td>\n",
       "      <td>1014.0</td>\n",
       "      <td>0</td>\n",
       "      <td>0</td>\n",
       "      <td>13930</td>\n",
       "      <td>12945</td>\n",
       "      <td>323.0</td>\n",
       "      <td>20366.0</td>\n",
       "      <td>327</td>\n",
       "      <td>1</td>\n",
       "    </tr>\n",
       "    <tr>\n",
       "      <th>42</th>\n",
       "      <td>TRAIN_000042</td>\n",
       "      <td>10</td>\n",
       "      <td>24</td>\n",
       "      <td>1005.0</td>\n",
       "      <td>1130.0</td>\n",
       "      <td>0</td>\n",
       "      <td>0</td>\n",
       "      <td>13930</td>\n",
       "      <td>15016</td>\n",
       "      <td>258.0</td>\n",
       "      <td>20237.0</td>\n",
       "      <td>4766</td>\n",
       "      <td>1</td>\n",
       "    </tr>\n",
       "    <tr>\n",
       "      <th>...</th>\n",
       "      <td>...</td>\n",
       "      <td>...</td>\n",
       "      <td>...</td>\n",
       "      <td>...</td>\n",
       "      <td>...</td>\n",
       "      <td>...</td>\n",
       "      <td>...</td>\n",
       "      <td>...</td>\n",
       "      <td>...</td>\n",
       "      <td>...</td>\n",
       "      <td>...</td>\n",
       "      <td>...</td>\n",
       "      <td>...</td>\n",
       "    </tr>\n",
       "    <tr>\n",
       "      <th>999816</th>\n",
       "      <td>TRAIN_999816</td>\n",
       "      <td>11</td>\n",
       "      <td>6</td>\n",
       "      <td>2115.0</td>\n",
       "      <td>2348.0</td>\n",
       "      <td>0</td>\n",
       "      <td>0</td>\n",
       "      <td>13930</td>\n",
       "      <td>11076</td>\n",
       "      <td>360.0</td>\n",
       "      <td>20304.0</td>\n",
       "      <td>6171</td>\n",
       "      <td>0</td>\n",
       "    </tr>\n",
       "    <tr>\n",
       "      <th>999843</th>\n",
       "      <td>TRAIN_999843</td>\n",
       "      <td>6</td>\n",
       "      <td>13</td>\n",
       "      <td>1749.0</td>\n",
       "      <td>1850.0</td>\n",
       "      <td>0</td>\n",
       "      <td>0</td>\n",
       "      <td>13342</td>\n",
       "      <td>13930</td>\n",
       "      <td>67.0</td>\n",
       "      <td>20237.0</td>\n",
       "      <td>263</td>\n",
       "      <td>0</td>\n",
       "    </tr>\n",
       "    <tr>\n",
       "      <th>999955</th>\n",
       "      <td>TRAIN_999955</td>\n",
       "      <td>4</td>\n",
       "      <td>12</td>\n",
       "      <td>1310.0</td>\n",
       "      <td>1356.0</td>\n",
       "      <td>0</td>\n",
       "      <td>0</td>\n",
       "      <td>14747</td>\n",
       "      <td>14057</td>\n",
       "      <td>129.0</td>\n",
       "      <td>19687.0</td>\n",
       "      <td>2250</td>\n",
       "      <td>0</td>\n",
       "    </tr>\n",
       "    <tr>\n",
       "      <th>999963</th>\n",
       "      <td>TRAIN_999963</td>\n",
       "      <td>5</td>\n",
       "      <td>2</td>\n",
       "      <td>1759.0</td>\n",
       "      <td>1926.0</td>\n",
       "      <td>0</td>\n",
       "      <td>0</td>\n",
       "      <td>12953</td>\n",
       "      <td>11278</td>\n",
       "      <td>214.0</td>\n",
       "      <td>20452.0</td>\n",
       "      <td>5204</td>\n",
       "      <td>0</td>\n",
       "    </tr>\n",
       "    <tr>\n",
       "      <th>999969</th>\n",
       "      <td>TRAIN_999969</td>\n",
       "      <td>10</td>\n",
       "      <td>10</td>\n",
       "      <td>940.0</td>\n",
       "      <td>1056.0</td>\n",
       "      <td>0</td>\n",
       "      <td>0</td>\n",
       "      <td>13256</td>\n",
       "      <td>12266</td>\n",
       "      <td>316.0</td>\n",
       "      <td>20378.0</td>\n",
       "      <td>5350</td>\n",
       "      <td>0</td>\n",
       "    </tr>\n",
       "  </tbody>\n",
       "</table>\n",
       "<p>180475 rows × 13 columns</p>\n",
       "</div>"
      ],
      "text/plain": [
       "                  ID  Month  Day_of_Month  Estimated_Departure_Time  \\\n",
       "8       TRAIN_000008      6            13                    1420.0   \n",
       "13      TRAIN_000013      9            19                     615.0   \n",
       "19      TRAIN_000019      7            14                    1907.0   \n",
       "32      TRAIN_000032      6            20                     750.0   \n",
       "42      TRAIN_000042     10            24                    1005.0   \n",
       "...              ...    ...           ...                       ...   \n",
       "999816  TRAIN_999816     11             6                    2115.0   \n",
       "999843  TRAIN_999843      6            13                    1749.0   \n",
       "999955  TRAIN_999955      4            12                    1310.0   \n",
       "999963  TRAIN_999963      5             2                    1759.0   \n",
       "999969  TRAIN_999969     10            10                     940.0   \n",
       "\n",
       "        Estimated_Arrival_Time  Cancelled  Diverted  Origin_Airport_ID  \\\n",
       "8                       1550.0          0         0              10821   \n",
       "13                       706.0          0         0              13158   \n",
       "19                      2145.0          0         0              10529   \n",
       "32                      1014.0          0         0              13930   \n",
       "42                      1130.0          0         0              13930   \n",
       "...                        ...        ...       ...                ...   \n",
       "999816                  2348.0          0         0              13930   \n",
       "999843                  1850.0          0         0              13342   \n",
       "999955                  1356.0          0         0              14747   \n",
       "999963                  1926.0          0         0              12953   \n",
       "999969                  1056.0          0         0              13256   \n",
       "\n",
       "        Destination_Airport_ID  Distance  Carrier_ID(DOT)  Tail_Number  Delay  \n",
       "8                        11057     361.0          19393.0         4083      1  \n",
       "13                       11292     563.0          20304.0          579      1  \n",
       "19                       10397     859.0          19790.0         6147      1  \n",
       "32                       12945     323.0          20366.0          327      1  \n",
       "42                       15016     258.0          20237.0         4766      1  \n",
       "...                        ...       ...              ...          ...    ...  \n",
       "999816                   11076     360.0          20304.0         6171      0  \n",
       "999843                   13930      67.0          20237.0          263      0  \n",
       "999955                   14057     129.0          19687.0         2250      0  \n",
       "999963                   11278     214.0          20452.0         5204      0  \n",
       "999969                   12266     316.0          20378.0         5350      0  \n",
       "\n",
       "[180475 rows x 13 columns]"
      ]
     },
     "execution_count": 40,
     "metadata": {},
     "output_type": "execute_result"
    }
   ],
   "source": [
    "train_ = pd.DataFrame()\n",
    "train_ = pd.concat([train_,train[train['Delay']=='Not_Delayed']])\n",
    "train_ = pd.concat([train_,train[train['Delay']=='Delayed']])\n",
    "train_ = train_.dropna()\n",
    "train_\n",
    "\n",
    "lbe = LabelEncoder()\n",
    "train_['Delay'] = lbe.fit_transform(train_['Delay'])\n",
    "train_"
   ]
  },
  {
   "cell_type": "code",
   "execution_count": 41,
   "id": "e074a01a",
   "metadata": {},
   "outputs": [
    {
     "data": {
      "text/plain": [
       "array(['Delayed', 'Not_Delayed'], dtype=object)"
      ]
     },
     "execution_count": 41,
     "metadata": {},
     "output_type": "execute_result"
    }
   ],
   "source": [
    "lbe.classes_"
   ]
  },
  {
   "cell_type": "code",
   "execution_count": 42,
   "id": "ef2ac8e0",
   "metadata": {},
   "outputs": [
    {
     "data": {
      "text/html": [
       "<div>\n",
       "<style scoped>\n",
       "    .dataframe tbody tr th:only-of-type {\n",
       "        vertical-align: middle;\n",
       "    }\n",
       "\n",
       "    .dataframe tbody tr th {\n",
       "        vertical-align: top;\n",
       "    }\n",
       "\n",
       "    .dataframe thead th {\n",
       "        text-align: right;\n",
       "    }\n",
       "</style>\n",
       "<table border=\"1\" class=\"dataframe\">\n",
       "  <thead>\n",
       "    <tr style=\"text-align: right;\">\n",
       "      <th></th>\n",
       "      <th>ID</th>\n",
       "      <th>Month</th>\n",
       "      <th>Day_of_Month</th>\n",
       "      <th>Estimated_Departure_Time</th>\n",
       "      <th>Estimated_Arrival_Time</th>\n",
       "      <th>Cancelled</th>\n",
       "      <th>Diverted</th>\n",
       "      <th>Origin_Airport_ID</th>\n",
       "      <th>Destination_Airport_ID</th>\n",
       "      <th>Distance</th>\n",
       "      <th>Carrier_ID(DOT)</th>\n",
       "      <th>Tail_Number</th>\n",
       "    </tr>\n",
       "  </thead>\n",
       "  <tbody>\n",
       "    <tr>\n",
       "      <th>1</th>\n",
       "      <td>TRAIN_000001</td>\n",
       "      <td>8</td>\n",
       "      <td>15</td>\n",
       "      <td>740.0</td>\n",
       "      <td>1024.0</td>\n",
       "      <td>0</td>\n",
       "      <td>0</td>\n",
       "      <td>13930</td>\n",
       "      <td>14869</td>\n",
       "      <td>1250.0</td>\n",
       "      <td>20304.0</td>\n",
       "      <td>310</td>\n",
       "    </tr>\n",
       "    <tr>\n",
       "      <th>2</th>\n",
       "      <td>TRAIN_000002</td>\n",
       "      <td>9</td>\n",
       "      <td>6</td>\n",
       "      <td>1610.0</td>\n",
       "      <td>1805.0</td>\n",
       "      <td>0</td>\n",
       "      <td>0</td>\n",
       "      <td>11057</td>\n",
       "      <td>12953</td>\n",
       "      <td>544.0</td>\n",
       "      <td>19805.0</td>\n",
       "      <td>140</td>\n",
       "    </tr>\n",
       "    <tr>\n",
       "      <th>4</th>\n",
       "      <td>TRAIN_000004</td>\n",
       "      <td>1</td>\n",
       "      <td>11</td>\n",
       "      <td>900.0</td>\n",
       "      <td>1019.0</td>\n",
       "      <td>0</td>\n",
       "      <td>0</td>\n",
       "      <td>14771</td>\n",
       "      <td>10157</td>\n",
       "      <td>250.0</td>\n",
       "      <td>20304.0</td>\n",
       "      <td>556</td>\n",
       "    </tr>\n",
       "    <tr>\n",
       "      <th>7</th>\n",
       "      <td>TRAIN_000007</td>\n",
       "      <td>4</td>\n",
       "      <td>20</td>\n",
       "      <td>1815.0</td>\n",
       "      <td>1955.0</td>\n",
       "      <td>0</td>\n",
       "      <td>0</td>\n",
       "      <td>13930</td>\n",
       "      <td>13198</td>\n",
       "      <td>403.0</td>\n",
       "      <td>20304.0</td>\n",
       "      <td>173</td>\n",
       "    </tr>\n",
       "    <tr>\n",
       "      <th>9</th>\n",
       "      <td>TRAIN_000009</td>\n",
       "      <td>6</td>\n",
       "      <td>6</td>\n",
       "      <td>650.0</td>\n",
       "      <td>838.0</td>\n",
       "      <td>0</td>\n",
       "      <td>0</td>\n",
       "      <td>12992</td>\n",
       "      <td>12266</td>\n",
       "      <td>374.0</td>\n",
       "      <td>20366.0</td>\n",
       "      <td>468</td>\n",
       "    </tr>\n",
       "    <tr>\n",
       "      <th>...</th>\n",
       "      <td>...</td>\n",
       "      <td>...</td>\n",
       "      <td>...</td>\n",
       "      <td>...</td>\n",
       "      <td>...</td>\n",
       "      <td>...</td>\n",
       "      <td>...</td>\n",
       "      <td>...</td>\n",
       "      <td>...</td>\n",
       "      <td>...</td>\n",
       "      <td>...</td>\n",
       "      <td>...</td>\n",
       "    </tr>\n",
       "    <tr>\n",
       "      <th>999993</th>\n",
       "      <td>TRAIN_999993</td>\n",
       "      <td>10</td>\n",
       "      <td>17</td>\n",
       "      <td>603.0</td>\n",
       "      <td>755.0</td>\n",
       "      <td>0</td>\n",
       "      <td>0</td>\n",
       "      <td>12264</td>\n",
       "      <td>11292</td>\n",
       "      <td>1452.0</td>\n",
       "      <td>20436.0</td>\n",
       "      <td>1538</td>\n",
       "    </tr>\n",
       "    <tr>\n",
       "      <th>999995</th>\n",
       "      <td>TRAIN_999995</td>\n",
       "      <td>9</td>\n",
       "      <td>18</td>\n",
       "      <td>936.0</td>\n",
       "      <td>1243.0</td>\n",
       "      <td>0</td>\n",
       "      <td>0</td>\n",
       "      <td>13930</td>\n",
       "      <td>14100</td>\n",
       "      <td>678.0</td>\n",
       "      <td>19977.0</td>\n",
       "      <td>2477</td>\n",
       "    </tr>\n",
       "    <tr>\n",
       "      <th>999997</th>\n",
       "      <td>TRAIN_999997</td>\n",
       "      <td>6</td>\n",
       "      <td>28</td>\n",
       "      <td>800.0</td>\n",
       "      <td>1340.0</td>\n",
       "      <td>0</td>\n",
       "      <td>0</td>\n",
       "      <td>13796</td>\n",
       "      <td>12191</td>\n",
       "      <td>1642.0</td>\n",
       "      <td>19393.0</td>\n",
       "      <td>994</td>\n",
       "    </tr>\n",
       "    <tr>\n",
       "      <th>999998</th>\n",
       "      <td>TRAIN_999998</td>\n",
       "      <td>9</td>\n",
       "      <td>27</td>\n",
       "      <td>1613.0</td>\n",
       "      <td>1824.0</td>\n",
       "      <td>0</td>\n",
       "      <td>0</td>\n",
       "      <td>10693</td>\n",
       "      <td>10397</td>\n",
       "      <td>214.0</td>\n",
       "      <td>19790.0</td>\n",
       "      <td>6207</td>\n",
       "    </tr>\n",
       "    <tr>\n",
       "      <th>999999</th>\n",
       "      <td>TRAIN_999999</td>\n",
       "      <td>3</td>\n",
       "      <td>26</td>\n",
       "      <td>1800.0</td>\n",
       "      <td>2056.0</td>\n",
       "      <td>0</td>\n",
       "      <td>0</td>\n",
       "      <td>14635</td>\n",
       "      <td>11433</td>\n",
       "      <td>1084.0</td>\n",
       "      <td>19790.0</td>\n",
       "      <td>3667</td>\n",
       "    </tr>\n",
       "  </tbody>\n",
       "</table>\n",
       "<p>526842 rows × 12 columns</p>\n",
       "</div>"
      ],
      "text/plain": [
       "                  ID  Month  Day_of_Month  Estimated_Departure_Time  \\\n",
       "1       TRAIN_000001      8            15                     740.0   \n",
       "2       TRAIN_000002      9             6                    1610.0   \n",
       "4       TRAIN_000004      1            11                     900.0   \n",
       "7       TRAIN_000007      4            20                    1815.0   \n",
       "9       TRAIN_000009      6             6                     650.0   \n",
       "...              ...    ...           ...                       ...   \n",
       "999993  TRAIN_999993     10            17                     603.0   \n",
       "999995  TRAIN_999995      9            18                     936.0   \n",
       "999997  TRAIN_999997      6            28                     800.0   \n",
       "999998  TRAIN_999998      9            27                    1613.0   \n",
       "999999  TRAIN_999999      3            26                    1800.0   \n",
       "\n",
       "        Estimated_Arrival_Time  Cancelled  Diverted  Origin_Airport_ID  \\\n",
       "1                       1024.0          0         0              13930   \n",
       "2                       1805.0          0         0              11057   \n",
       "4                       1019.0          0         0              14771   \n",
       "7                       1955.0          0         0              13930   \n",
       "9                        838.0          0         0              12992   \n",
       "...                        ...        ...       ...                ...   \n",
       "999993                   755.0          0         0              12264   \n",
       "999995                  1243.0          0         0              13930   \n",
       "999997                  1340.0          0         0              13796   \n",
       "999998                  1824.0          0         0              10693   \n",
       "999999                  2056.0          0         0              14635   \n",
       "\n",
       "        Destination_Airport_ID  Distance  Carrier_ID(DOT)  Tail_Number  \n",
       "1                        14869    1250.0          20304.0          310  \n",
       "2                        12953     544.0          19805.0          140  \n",
       "4                        10157     250.0          20304.0          556  \n",
       "7                        13198     403.0          20304.0          173  \n",
       "9                        12266     374.0          20366.0          468  \n",
       "...                        ...       ...              ...          ...  \n",
       "999993                   11292    1452.0          20436.0         1538  \n",
       "999995                   14100     678.0          19977.0         2477  \n",
       "999997                   12191    1642.0          19393.0          994  \n",
       "999998                   10397     214.0          19790.0         6207  \n",
       "999999                   11433    1084.0          19790.0         3667  \n",
       "\n",
       "[526842 rows x 12 columns]"
      ]
     },
     "execution_count": 42,
     "metadata": {},
     "output_type": "execute_result"
    }
   ],
   "source": [
    "test_ = train[train['Delay'].isnull()]\n",
    "test_ = test_.drop('Delay',axis=1)\n",
    "test_ = test_.dropna()\n",
    "test_"
   ]
  },
  {
   "cell_type": "code",
   "execution_count": 43,
   "id": "78294c45",
   "metadata": {},
   "outputs": [
    {
     "name": "stdout",
     "output_type": "stream",
     "text": [
      "<class 'pandas.core.frame.DataFrame'>\n",
      "RangeIndex: 1000000 entries, 0 to 999999\n",
      "Data columns (total 13 columns):\n",
      " #   Column                    Non-Null Count    Dtype  \n",
      "---  ------                    --------------    -----  \n",
      " 0   ID                        1000000 non-null  object \n",
      " 1   Month                     1000000 non-null  int64  \n",
      " 2   Day_of_Month              1000000 non-null  int64  \n",
      " 3   Estimated_Departure_Time  890981 non-null   float64\n",
      " 4   Estimated_Arrival_Time    890960 non-null   float64\n",
      " 5   Cancelled                 1000000 non-null  int64  \n",
      " 6   Diverted                  1000000 non-null  int64  \n",
      " 7   Origin_Airport_ID         1000000 non-null  int64  \n",
      " 8   Destination_Airport_ID    1000000 non-null  int64  \n",
      " 9   Distance                  1000000 non-null  float64\n",
      " 10  Carrier_ID(DOT)           891003 non-null   float64\n",
      " 11  Tail_Number               1000000 non-null  int64  \n",
      " 12  Delay                     255001 non-null   object \n",
      "dtypes: float64(4), int64(7), object(2)\n",
      "memory usage: 99.2+ MB\n"
     ]
    }
   ],
   "source": [
    "train.info()"
   ]
  },
  {
   "cell_type": "markdown",
   "id": "b94957f1",
   "metadata": {},
   "source": [
    "# column filling"
   ]
  },
  {
   "cell_type": "code",
   "execution_count": 44,
   "id": "a797ceb3",
   "metadata": {},
   "outputs": [],
   "source": [
    "target = 'Estimated_Departure_Time'\n",
    "features = ['Month',\n",
    " 'Day_of_Month',\n",
    " #'Estimated_Departure_Time',\n",
    " #'Estimated_Arrival_Time',\n",
    " 'Cancelled',\n",
    " 'Diverted',\n",
    " 'Origin_Airport_ID',\n",
    " 'Destination_Airport_ID',\n",
    " 'Distance',\n",
    " #'Carrier_ID(DOT)',\n",
    " 'Tail_Number']"
   ]
  },
  {
   "cell_type": "code",
   "execution_count": 45,
   "id": "1f14e676",
   "metadata": {},
   "outputs": [],
   "source": [
    "test_r = train[train[target].isnull()]\n",
    "train_r = train.drop(test_r.index)\n",
    "train_r = train_r.reset_index(drop=True)\n",
    "\n",
    "# mms = MinMaxScaler()\n",
    "# train_r[target] = mms.fit_transform(train_r[[target]])"
   ]
  },
  {
   "cell_type": "code",
   "execution_count": 46,
   "id": "59267cb5",
   "metadata": {},
   "outputs": [
    {
     "name": "stderr",
     "output_type": "stream",
     "text": [
      "0it [00:00, ?it/s]/Users/junho/miniforge3/envs/ml_dl/lib/python3.8/site-packages/lightgbm/sklearn.py:736: UserWarning: 'verbose' argument is deprecated and will be removed in a future release of LightGBM. Pass 'log_evaluation()' callback via 'callbacks' argument instead.\n",
      "  _log_warning(\"'verbose' argument is deprecated and will be removed in a future release of LightGBM. \"\n"
     ]
    },
    {
     "name": "stdout",
     "output_type": "stream",
     "text": [
      "[LightGBM] [Warning] Unknown parameter: l2_leaf_reg\n",
      "[LightGBM] [Warning] Unknown parameter: bootstrap_type\n",
      "[LightGBM] [Warning] Unknown parameter: one_hot_max_size\n",
      "[LightGBM] [Warning] early_stopping_round is set=200, early_stopping_rounds=200 will be ignored. Current value: early_stopping_round=200\n",
      "[2000]\tvalid_0's l2: 223723\n",
      "[4000]\tvalid_0's l2: 220220\n"
     ]
    },
    {
     "name": "stderr",
     "output_type": "stream",
     "text": [
      "\r",
      "1it [00:48, 48.59s/it]"
     ]
    },
    {
     "name": "stdout",
     "output_type": "stream",
     "text": [
      "\n",
      "        ***********************************\n",
      "            score : 404.13013903551894                           \n",
      "        ***********************************\n",
      "        \n",
      "[LightGBM] [Warning] Unknown parameter: l2_leaf_reg\n",
      "[LightGBM] [Warning] Unknown parameter: bootstrap_type\n",
      "[LightGBM] [Warning] Unknown parameter: one_hot_max_size\n",
      "[LightGBM] [Warning] early_stopping_round is set=200, early_stopping_rounds=200 will be ignored. Current value: early_stopping_round=200\n"
     ]
    },
    {
     "name": "stderr",
     "output_type": "stream",
     "text": [
      "/Users/junho/miniforge3/envs/ml_dl/lib/python3.8/site-packages/lightgbm/sklearn.py:736: UserWarning: 'verbose' argument is deprecated and will be removed in a future release of LightGBM. Pass 'log_evaluation()' callback via 'callbacks' argument instead.\n",
      "  _log_warning(\"'verbose' argument is deprecated and will be removed in a future release of LightGBM. \"\n"
     ]
    },
    {
     "name": "stdout",
     "output_type": "stream",
     "text": [
      "[2000]\tvalid_0's l2: 222413\n",
      "[4000]\tvalid_0's l2: 219169\n"
     ]
    },
    {
     "name": "stderr",
     "output_type": "stream",
     "text": [
      "\r",
      "2it [01:24, 41.34s/it]"
     ]
    },
    {
     "name": "stdout",
     "output_type": "stream",
     "text": [
      "\n",
      "        ***********************************\n",
      "            score : 403.0348569373256                           \n",
      "        ***********************************\n",
      "        \n",
      "[LightGBM] [Warning] Unknown parameter: l2_leaf_reg\n",
      "[LightGBM] [Warning] Unknown parameter: bootstrap_type\n",
      "[LightGBM] [Warning] Unknown parameter: one_hot_max_size\n",
      "[LightGBM] [Warning] early_stopping_round is set=200, early_stopping_rounds=200 will be ignored. Current value: early_stopping_round=200\n"
     ]
    },
    {
     "name": "stderr",
     "output_type": "stream",
     "text": [
      "/Users/junho/miniforge3/envs/ml_dl/lib/python3.8/site-packages/lightgbm/sklearn.py:736: UserWarning: 'verbose' argument is deprecated and will be removed in a future release of LightGBM. Pass 'log_evaluation()' callback via 'callbacks' argument instead.\n",
      "  _log_warning(\"'verbose' argument is deprecated and will be removed in a future release of LightGBM. \"\n"
     ]
    },
    {
     "name": "stdout",
     "output_type": "stream",
     "text": [
      "[2000]\tvalid_0's l2: 223637\n",
      "[4000]\tvalid_0's l2: 220198\n"
     ]
    },
    {
     "name": "stderr",
     "output_type": "stream",
     "text": [
      "\r",
      "3it [02:01, 39.12s/it]"
     ]
    },
    {
     "name": "stdout",
     "output_type": "stream",
     "text": [
      "\n",
      "        ***********************************\n",
      "            score : 404.2838022436707                           \n",
      "        ***********************************\n",
      "        \n",
      "[LightGBM] [Warning] Unknown parameter: l2_leaf_reg\n",
      "[LightGBM] [Warning] Unknown parameter: bootstrap_type\n",
      "[LightGBM] [Warning] Unknown parameter: one_hot_max_size\n",
      "[LightGBM] [Warning] early_stopping_round is set=200, early_stopping_rounds=200 will be ignored. Current value: early_stopping_round=200\n"
     ]
    },
    {
     "name": "stderr",
     "output_type": "stream",
     "text": [
      "/Users/junho/miniforge3/envs/ml_dl/lib/python3.8/site-packages/lightgbm/sklearn.py:736: UserWarning: 'verbose' argument is deprecated and will be removed in a future release of LightGBM. Pass 'log_evaluation()' callback via 'callbacks' argument instead.\n",
      "  _log_warning(\"'verbose' argument is deprecated and will be removed in a future release of LightGBM. \"\n"
     ]
    },
    {
     "name": "stdout",
     "output_type": "stream",
     "text": [
      "[2000]\tvalid_0's l2: 221831\n",
      "[4000]\tvalid_0's l2: 218803\n"
     ]
    },
    {
     "name": "stderr",
     "output_type": "stream",
     "text": [
      "\r",
      "4it [02:37, 38.04s/it]"
     ]
    },
    {
     "name": "stdout",
     "output_type": "stream",
     "text": [
      "\n",
      "        ***********************************\n",
      "            score : 402.9686099749196                           \n",
      "        ***********************************\n",
      "        \n",
      "[LightGBM] [Warning] Unknown parameter: l2_leaf_reg\n",
      "[LightGBM] [Warning] Unknown parameter: bootstrap_type\n",
      "[LightGBM] [Warning] Unknown parameter: one_hot_max_size\n",
      "[LightGBM] [Warning] early_stopping_round is set=200, early_stopping_rounds=200 will be ignored. Current value: early_stopping_round=200\n"
     ]
    },
    {
     "name": "stderr",
     "output_type": "stream",
     "text": [
      "/Users/junho/miniforge3/envs/ml_dl/lib/python3.8/site-packages/lightgbm/sklearn.py:736: UserWarning: 'verbose' argument is deprecated and will be removed in a future release of LightGBM. Pass 'log_evaluation()' callback via 'callbacks' argument instead.\n",
      "  _log_warning(\"'verbose' argument is deprecated and will be removed in a future release of LightGBM. \"\n"
     ]
    },
    {
     "name": "stdout",
     "output_type": "stream",
     "text": [
      "[2000]\tvalid_0's l2: 223592\n",
      "[4000]\tvalid_0's l2: 220419\n"
     ]
    },
    {
     "name": "stderr",
     "output_type": "stream",
     "text": [
      "\r",
      "5it [03:14, 37.64s/it]"
     ]
    },
    {
     "name": "stdout",
     "output_type": "stream",
     "text": [
      "\n",
      "        ***********************************\n",
      "            score : 404.408197532453                           \n",
      "        ***********************************\n",
      "        \n",
      "[LightGBM] [Warning] Unknown parameter: l2_leaf_reg\n",
      "[LightGBM] [Warning] Unknown parameter: bootstrap_type\n",
      "[LightGBM] [Warning] Unknown parameter: one_hot_max_size\n",
      "[LightGBM] [Warning] early_stopping_round is set=200, early_stopping_rounds=200 will be ignored. Current value: early_stopping_round=200\n"
     ]
    },
    {
     "name": "stderr",
     "output_type": "stream",
     "text": [
      "/Users/junho/miniforge3/envs/ml_dl/lib/python3.8/site-packages/lightgbm/sklearn.py:736: UserWarning: 'verbose' argument is deprecated and will be removed in a future release of LightGBM. Pass 'log_evaluation()' callback via 'callbacks' argument instead.\n",
      "  _log_warning(\"'verbose' argument is deprecated and will be removed in a future release of LightGBM. \"\n"
     ]
    },
    {
     "name": "stdout",
     "output_type": "stream",
     "text": [
      "[2000]\tvalid_0's l2: 222584\n",
      "[4000]\tvalid_0's l2: 219322\n"
     ]
    },
    {
     "name": "stderr",
     "output_type": "stream",
     "text": [
      "\r",
      "6it [03:50, 37.09s/it]"
     ]
    },
    {
     "name": "stdout",
     "output_type": "stream",
     "text": [
      "\n",
      "        ***********************************\n",
      "            score : 403.48598146577336                           \n",
      "        ***********************************\n",
      "        \n",
      "[LightGBM] [Warning] Unknown parameter: l2_leaf_reg\n",
      "[LightGBM] [Warning] Unknown parameter: bootstrap_type\n",
      "[LightGBM] [Warning] Unknown parameter: one_hot_max_size\n",
      "[LightGBM] [Warning] early_stopping_round is set=200, early_stopping_rounds=200 will be ignored. Current value: early_stopping_round=200\n"
     ]
    },
    {
     "name": "stderr",
     "output_type": "stream",
     "text": [
      "/Users/junho/miniforge3/envs/ml_dl/lib/python3.8/site-packages/lightgbm/sklearn.py:736: UserWarning: 'verbose' argument is deprecated and will be removed in a future release of LightGBM. Pass 'log_evaluation()' callback via 'callbacks' argument instead.\n",
      "  _log_warning(\"'verbose' argument is deprecated and will be removed in a future release of LightGBM. \"\n"
     ]
    },
    {
     "name": "stdout",
     "output_type": "stream",
     "text": [
      "[2000]\tvalid_0's l2: 221615\n",
      "[4000]\tvalid_0's l2: 218448\n"
     ]
    },
    {
     "name": "stderr",
     "output_type": "stream",
     "text": [
      "\r",
      "7it [04:26, 36.80s/it]"
     ]
    },
    {
     "name": "stdout",
     "output_type": "stream",
     "text": [
      "\n",
      "        ***********************************\n",
      "            score : 402.51016685951595                           \n",
      "        ***********************************\n",
      "        \n",
      "[LightGBM] [Warning] Unknown parameter: l2_leaf_reg\n",
      "[LightGBM] [Warning] Unknown parameter: bootstrap_type\n",
      "[LightGBM] [Warning] Unknown parameter: one_hot_max_size\n",
      "[LightGBM] [Warning] early_stopping_round is set=200, early_stopping_rounds=200 will be ignored. Current value: early_stopping_round=200\n"
     ]
    },
    {
     "name": "stderr",
     "output_type": "stream",
     "text": [
      "/Users/junho/miniforge3/envs/ml_dl/lib/python3.8/site-packages/lightgbm/sklearn.py:736: UserWarning: 'verbose' argument is deprecated and will be removed in a future release of LightGBM. Pass 'log_evaluation()' callback via 'callbacks' argument instead.\n",
      "  _log_warning(\"'verbose' argument is deprecated and will be removed in a future release of LightGBM. \"\n"
     ]
    },
    {
     "name": "stdout",
     "output_type": "stream",
     "text": [
      "[2000]\tvalid_0's l2: 221255\n",
      "[4000]\tvalid_0's l2: 218147\n"
     ]
    },
    {
     "name": "stderr",
     "output_type": "stream",
     "text": [
      "\r",
      "8it [05:02, 36.29s/it]"
     ]
    },
    {
     "name": "stdout",
     "output_type": "stream",
     "text": [
      "\n",
      "        ***********************************\n",
      "            score : 401.6583799889361                           \n",
      "        ***********************************\n",
      "        \n",
      "[LightGBM] [Warning] Unknown parameter: l2_leaf_reg\n",
      "[LightGBM] [Warning] Unknown parameter: bootstrap_type\n",
      "[LightGBM] [Warning] Unknown parameter: one_hot_max_size\n",
      "[LightGBM] [Warning] early_stopping_round is set=200, early_stopping_rounds=200 will be ignored. Current value: early_stopping_round=200\n"
     ]
    },
    {
     "name": "stderr",
     "output_type": "stream",
     "text": [
      "/Users/junho/miniforge3/envs/ml_dl/lib/python3.8/site-packages/lightgbm/sklearn.py:736: UserWarning: 'verbose' argument is deprecated and will be removed in a future release of LightGBM. Pass 'log_evaluation()' callback via 'callbacks' argument instead.\n",
      "  _log_warning(\"'verbose' argument is deprecated and will be removed in a future release of LightGBM. \"\n"
     ]
    },
    {
     "name": "stdout",
     "output_type": "stream",
     "text": [
      "[2000]\tvalid_0's l2: 223270\n",
      "[4000]\tvalid_0's l2: 220151\n"
     ]
    },
    {
     "name": "stderr",
     "output_type": "stream",
     "text": [
      "\r",
      "9it [05:38, 36.20s/it]"
     ]
    },
    {
     "name": "stdout",
     "output_type": "stream",
     "text": [
      "\n",
      "        ***********************************\n",
      "            score : 404.63805681444603                           \n",
      "        ***********************************\n",
      "        \n",
      "[LightGBM] [Warning] Unknown parameter: l2_leaf_reg\n",
      "[LightGBM] [Warning] Unknown parameter: bootstrap_type\n",
      "[LightGBM] [Warning] Unknown parameter: one_hot_max_size\n",
      "[LightGBM] [Warning] early_stopping_round is set=200, early_stopping_rounds=200 will be ignored. Current value: early_stopping_round=200\n"
     ]
    },
    {
     "name": "stderr",
     "output_type": "stream",
     "text": [
      "/Users/junho/miniforge3/envs/ml_dl/lib/python3.8/site-packages/lightgbm/sklearn.py:736: UserWarning: 'verbose' argument is deprecated and will be removed in a future release of LightGBM. Pass 'log_evaluation()' callback via 'callbacks' argument instead.\n",
      "  _log_warning(\"'verbose' argument is deprecated and will be removed in a future release of LightGBM. \"\n"
     ]
    },
    {
     "name": "stdout",
     "output_type": "stream",
     "text": [
      "[2000]\tvalid_0's l2: 223768\n",
      "[4000]\tvalid_0's l2: 220468\n"
     ]
    },
    {
     "name": "stderr",
     "output_type": "stream",
     "text": [
      "10it [06:14, 37.40s/it]"
     ]
    },
    {
     "name": "stdout",
     "output_type": "stream",
     "text": [
      "\n",
      "        ***********************************\n",
      "            score : 404.68920007027685                           \n",
      "        ***********************************\n",
      "        \n"
     ]
    },
    {
     "name": "stderr",
     "output_type": "stream",
     "text": [
      "\n"
     ]
    }
   ],
   "source": [
    "from catboost import CatBoostClassifier, CatBoostRegressor\n",
    "from lightgbm import LGBMClassifier, LGBMRegressor\n",
    "from xgboost import XGBClassifier\n",
    "from sklearn.metrics import log_loss, mean_squared_error, mean_absolute_error\n",
    "from sklearn.model_selection import KFold, StratifiedKFold\n",
    "from sklearn.model_selection import GridSearchCV\n",
    "from tqdm import tqdm\n",
    "\n",
    "kf = KFold(n_splits = 10, random_state = 41, shuffle = True)\n",
    "models = []\n",
    "val_scores = []\n",
    "preds = []\n",
    "\n",
    "params = {\n",
    "'n_estimators':5000,\n",
    "'max_depth':6,\n",
    "'early_stopping_rounds':200,\n",
    "'learning_rate':0.01,\n",
    "'one_hot_max_size':3,\n",
    "'bootstrap_type':\"MVS\",\n",
    "'l2_leaf_reg':2,\n",
    "'random_state':41\n",
    "         }\n",
    "\n",
    "# bundle = [CatBoostClassifier, LGBMClassifier, XGBClassifier]\n",
    "# for model in bundle:\n",
    "# model = CatBoostClassifier(**params)\n",
    "for i, (train_index, val_index) in tqdm(enumerate(kf.split(train_r, train_r[target]))):\n",
    "\n",
    "        # clf.fit(train_x, train_y)\n",
    "\n",
    "        X_train, X_val = train_r[features].loc[train_index], train_r[features].loc[val_index]\n",
    "        y_train, y_val = train_r[target][train_index], train_r[target][val_index]\n",
    "\n",
    "        model = LGBMRegressor(**params)\n",
    "    \n",
    "        model.fit(X_train, y_train, eval_set = [(X_val, y_val)], verbose = 2000)\n",
    "\n",
    "        models.append(model)\n",
    "        score = mean_absolute_error(y_val, model.predict(X_val))\n",
    "        print(f'''\n",
    "        ***********************************\n",
    "            score : {score}                           \n",
    "        ***********************************\n",
    "        ''')\n",
    "\n",
    "        val_scores.append(score)"
   ]
  },
  {
   "cell_type": "code",
   "execution_count": 50,
   "id": "d9bf6631",
   "metadata": {},
   "outputs": [
    {
     "data": {
      "text/plain": [
       "[array([1292.93085608, 1327.45239835, 1210.52498401, ..., 1242.72912028,\n",
       "        1285.32847974, 1313.87668589]),\n",
       " array([1308.4813839 , 1352.35873426, 1212.63746846, ..., 1256.31998115,\n",
       "        1287.03316324, 1301.2069708 ]),\n",
       " array([1305.72223927, 1361.1803405 , 1210.6297118 , ..., 1239.5500146 ,\n",
       "        1271.71470284, 1311.08694497]),\n",
       " array([1321.76487076, 1393.65246826, 1207.56829742, ..., 1257.51113681,\n",
       "        1268.11492942, 1304.18729826]),\n",
       " array([1301.35035719, 1389.24010757, 1210.27013674, ..., 1239.89851747,\n",
       "        1279.93925186, 1295.17952827]),\n",
       " array([1295.47133777, 1340.65409328, 1209.62393472, ..., 1241.44218266,\n",
       "        1275.30536351, 1304.18238662]),\n",
       " array([1295.260345  , 1368.27500334, 1202.2864595 , ..., 1257.41873851,\n",
       "        1271.03616768, 1299.78690377]),\n",
       " array([1318.81068459, 1412.19998514, 1200.16193372, ..., 1258.09359822,\n",
       "        1285.84060291, 1310.06364319]),\n",
       " array([1318.96457609, 1434.12694724, 1217.75405683, ..., 1246.76672629,\n",
       "        1297.73749477, 1300.20715196]),\n",
       " array([1306.1680203 , 1354.68030632, 1217.99829766, ..., 1252.35708148,\n",
       "        1283.26067422, 1294.0884074 ])]"
      ]
     },
     "execution_count": 50,
     "metadata": {},
     "output_type": "execute_result"
    }
   ],
   "source": [
    "cat_preds = []\n",
    "for model in models[:10]:\n",
    "    preds = model.predict(test_r[features])\n",
    "    cat_preds.append(preds)\n",
    "\n",
    "cat_preds"
   ]
  },
  {
   "cell_type": "code",
   "execution_count": 51,
   "id": "2b7af47e",
   "metadata": {},
   "outputs": [
    {
     "data": {
      "text/plain": [
       "array([1306.4924671 , 1373.38203842, 1209.94552809, ..., 1249.20870975,\n",
       "       1280.53108302, 1303.38659211])"
      ]
     },
     "execution_count": 51,
     "metadata": {},
     "output_type": "execute_result"
    }
   ],
   "source": [
    "np.array(cat_preds).mean(axis=0)"
   ]
  },
  {
   "cell_type": "code",
   "execution_count": 54,
   "id": "6f1ade13",
   "metadata": {},
   "outputs": [
    {
     "name": "stdout",
     "output_type": "stream",
     "text": [
      "<class 'pandas.core.frame.DataFrame'>\n",
      "Int64Index: 109019 entries, 0 to 999994\n",
      "Data columns (total 13 columns):\n",
      " #   Column                    Non-Null Count   Dtype  \n",
      "---  ------                    --------------   -----  \n",
      " 0   ID                        109019 non-null  object \n",
      " 1   Month                     109019 non-null  int64  \n",
      " 2   Day_of_Month              109019 non-null  int64  \n",
      " 3   Estimated_Departure_Time  109019 non-null  float64\n",
      " 4   Estimated_Arrival_Time    97331 non-null   float64\n",
      " 5   Cancelled                 109019 non-null  int64  \n",
      " 6   Diverted                  109019 non-null  int64  \n",
      " 7   Origin_Airport_ID         109019 non-null  int64  \n",
      " 8   Destination_Airport_ID    109019 non-null  int64  \n",
      " 9   Distance                  109019 non-null  float64\n",
      " 10  Carrier_ID(DOT)           97176 non-null   float64\n",
      " 11  Tail_Number               109019 non-null  int64  \n",
      " 12  Delay                     27841 non-null   object \n",
      "dtypes: float64(4), int64(7), object(2)\n",
      "memory usage: 11.6+ MB\n"
     ]
    },
    {
     "name": "stderr",
     "output_type": "stream",
     "text": [
      "/var/folders/4l/84htqxwn14n0jr_xvdc4tpbr0000gn/T/ipykernel_52476/1932812792.py:1: SettingWithCopyWarning: \n",
      "A value is trying to be set on a copy of a slice from a DataFrame.\n",
      "Try using .loc[row_indexer,col_indexer] = value instead\n",
      "\n",
      "See the caveats in the documentation: https://pandas.pydata.org/pandas-docs/stable/user_guide/indexing.html#returning-a-view-versus-a-copy\n",
      "  test_r['Estimated_Departure_Time'] = np.array(cat_preds).mean(axis=0)\n"
     ]
    }
   ],
   "source": [
    "test_r['Estimated_Departure_Time'] = np.array(cat_preds).mean(axis=0)\n",
    "test_r.info()"
   ]
  },
  {
   "cell_type": "code",
   "execution_count": 56,
   "id": "ec33b5c8",
   "metadata": {},
   "outputs": [
    {
     "name": "stdout",
     "output_type": "stream",
     "text": [
      "<class 'pandas.core.frame.DataFrame'>\n",
      "RangeIndex: 890981 entries, 0 to 890980\n",
      "Data columns (total 13 columns):\n",
      " #   Column                    Non-Null Count   Dtype  \n",
      "---  ------                    --------------   -----  \n",
      " 0   ID                        890981 non-null  object \n",
      " 1   Month                     890981 non-null  int64  \n",
      " 2   Day_of_Month              890981 non-null  int64  \n",
      " 3   Estimated_Departure_Time  890981 non-null  float64\n",
      " 4   Estimated_Arrival_Time    793629 non-null  float64\n",
      " 5   Cancelled                 890981 non-null  int64  \n",
      " 6   Diverted                  890981 non-null  int64  \n",
      " 7   Origin_Airport_ID         890981 non-null  int64  \n",
      " 8   Destination_Airport_ID    890981 non-null  int64  \n",
      " 9   Distance                  890981 non-null  float64\n",
      " 10  Carrier_ID(DOT)           793827 non-null  float64\n",
      " 11  Tail_Number               890981 non-null  int64  \n",
      " 12  Delay                     227160 non-null  object \n",
      "dtypes: float64(4), int64(7), object(2)\n",
      "memory usage: 88.4+ MB\n"
     ]
    }
   ],
   "source": [
    "train_r.info()"
   ]
  },
  {
   "cell_type": "code",
   "execution_count": null,
   "id": "01c7ef18",
   "metadata": {},
   "outputs": [],
   "source": []
  },
  {
   "cell_type": "code",
   "execution_count": null,
   "id": "aa704972",
   "metadata": {},
   "outputs": [],
   "source": []
  },
  {
   "cell_type": "code",
   "execution_count": 10,
   "id": "b53cc1f6",
   "metadata": {},
   "outputs": [],
   "source": [
    "target = 'Delay'\n",
    "features = ['Month',\n",
    " 'Day_of_Month',\n",
    " 'Estimated_Departure_Time',\n",
    " 'Estimated_Arrival_Time',\n",
    " 'Cancelled',\n",
    " 'Diverted',\n",
    " 'Origin_Airport_ID',\n",
    " 'Destination_Airport_ID',\n",
    " 'Distance',\n",
    " 'Carrier_ID(DOT)',\n",
    " 'Tail_Number']\n",
    "\n",
    "train_ = train_.reset_index(drop=True)"
   ]
  },
  {
   "cell_type": "code",
   "execution_count": 11,
   "id": "f27752ea",
   "metadata": {},
   "outputs": [
    {
     "name": "stderr",
     "output_type": "stream",
     "text": [
      "\r",
      "0it [00:00, ?it/s]"
     ]
    },
    {
     "name": "stdout",
     "output_type": "stream",
     "text": [
      "0:\tlearn: 0.6878246\ttest: 0.6878318\tbest: 0.6878318 (0)\ttotal: 68ms\tremaining: 5m 39s\n",
      "2000:\tlearn: 0.4346923\ttest: 0.4399201\tbest: 0.4399201 (2000)\ttotal: 19.8s\tremaining: 29.6s\n",
      "4000:\tlearn: 0.4256457\ttest: 0.4381414\tbest: 0.4381414 (4000)\ttotal: 40s\tremaining: 9.99s\n"
     ]
    },
    {
     "name": "stderr",
     "output_type": "stream",
     "text": [
      "\r",
      "1it [00:50, 50.87s/it]"
     ]
    },
    {
     "name": "stdout",
     "output_type": "stream",
     "text": [
      "Stopped by overfitting detector  (200 iterations wait)\n",
      "\n",
      "bestTest = 0.4379769934\n",
      "bestIteration = 4781\n",
      "\n",
      "Shrink model to first 4782 iterations.\n",
      "0:\tlearn: 0.6878312\ttest: 0.6877737\tbest: 0.6877737 (0)\ttotal: 11.2ms\tremaining: 56.2s\n",
      "2000:\tlearn: 0.4349094\ttest: 0.4379959\tbest: 0.4379959 (2000)\ttotal: 20.2s\tremaining: 30.2s\n",
      "4000:\tlearn: 0.4258807\ttest: 0.4362211\tbest: 0.4362172 (3991)\ttotal: 41.4s\tremaining: 10.3s\n"
     ]
    },
    {
     "name": "stderr",
     "output_type": "stream",
     "text": [
      "\r",
      "2it [01:43, 51.83s/it]"
     ]
    },
    {
     "name": "stdout",
     "output_type": "stream",
     "text": [
      "4999:\tlearn: 0.4221625\ttest: 0.4359015\tbest: 0.4358958 (4955)\ttotal: 52s\tremaining: 0us\n",
      "\n",
      "bestTest = 0.435895815\n",
      "bestIteration = 4955\n",
      "\n",
      "Shrink model to first 4956 iterations.\n",
      "0:\tlearn: 0.6878335\ttest: 0.6877697\tbest: 0.6877697 (0)\ttotal: 10.5ms\tremaining: 52.4s\n",
      "2000:\tlearn: 0.4348811\ttest: 0.4380906\tbest: 0.4380906 (2000)\ttotal: 20.6s\tremaining: 30.8s\n",
      "4000:\tlearn: 0.4259608\ttest: 0.4366152\tbest: 0.4366110 (3984)\ttotal: 40.6s\tremaining: 10.1s\n"
     ]
    },
    {
     "name": "stderr",
     "output_type": "stream",
     "text": [
      "\r",
      "3it [02:34, 51.44s/it]"
     ]
    },
    {
     "name": "stdout",
     "output_type": "stream",
     "text": [
      "4999:\tlearn: 0.4222818\ttest: 0.4363688\tbest: 0.4363669 (4848)\ttotal: 50.6s\tremaining: 0us\n",
      "\n",
      "bestTest = 0.4363669251\n",
      "bestIteration = 4848\n",
      "\n",
      "Shrink model to first 4849 iterations.\n",
      "0:\tlearn: 0.6878229\ttest: 0.6877832\tbest: 0.6877832 (0)\ttotal: 10.6ms\tremaining: 53s\n",
      "2000:\tlearn: 0.4350468\ttest: 0.4374792\tbest: 0.4374764 (1998)\ttotal: 19.7s\tremaining: 29.5s\n",
      "4000:\tlearn: 0.4261429\ttest: 0.4355653\tbest: 0.4355638 (3998)\ttotal: 39.8s\tremaining: 9.93s\n"
     ]
    },
    {
     "name": "stderr",
     "output_type": "stream",
     "text": [
      "\r",
      "4it [03:24, 50.80s/it]"
     ]
    },
    {
     "name": "stdout",
     "output_type": "stream",
     "text": [
      "Stopped by overfitting detector  (200 iterations wait)\n",
      "\n",
      "bestTest = 0.4353263327\n",
      "bestIteration = 4739\n",
      "\n",
      "Shrink model to first 4740 iterations.\n",
      "0:\tlearn: 0.6877943\ttest: 0.6878810\tbest: 0.6878810 (0)\ttotal: 10.5ms\tremaining: 52.6s\n",
      "2000:\tlearn: 0.4337593\ttest: 0.4485379\tbest: 0.4485379 (2000)\ttotal: 20.1s\tremaining: 30.1s\n",
      "4000:\tlearn: 0.4248790\ttest: 0.4465748\tbest: 0.4465733 (3990)\ttotal: 40.2s\tremaining: 10s\n"
     ]
    },
    {
     "name": "stderr",
     "output_type": "stream",
     "text": [
      "\r",
      "5it [04:14, 50.77s/it]"
     ]
    },
    {
     "name": "stdout",
     "output_type": "stream",
     "text": [
      "4999:\tlearn: 0.4212399\ttest: 0.4463168\tbest: 0.4463164 (4998)\ttotal: 50.3s\tremaining: 0us\n",
      "\n",
      "bestTest = 0.4463164023\n",
      "bestIteration = 4998\n",
      "\n",
      "Shrink model to first 4999 iterations.\n",
      "0:\tlearn: 0.6877682\ttest: 0.6878275\tbest: 0.6878275 (0)\ttotal: 10.5ms\tremaining: 52.5s\n",
      "2000:\tlearn: 0.4337862\ttest: 0.4482005\tbest: 0.4482005 (2000)\ttotal: 19.6s\tremaining: 29.4s\n",
      "4000:\tlearn: 0.4248295\ttest: 0.4466605\tbest: 0.4466605 (4000)\ttotal: 39.6s\tremaining: 9.88s\n"
     ]
    },
    {
     "name": "stderr",
     "output_type": "stream",
     "text": [
      "\r",
      "6it [05:04, 50.50s/it]"
     ]
    },
    {
     "name": "stdout",
     "output_type": "stream",
     "text": [
      "4999:\tlearn: 0.4211573\ttest: 0.4463838\tbest: 0.4463811 (4993)\ttotal: 49.6s\tremaining: 0us\n",
      "\n",
      "bestTest = 0.4463811068\n",
      "bestIteration = 4993\n",
      "\n",
      "Shrink model to first 4994 iterations.\n",
      "0:\tlearn: 0.6878143\ttest: 0.6878450\tbest: 0.6878450 (0)\ttotal: 9.8ms\tremaining: 49s\n",
      "2000:\tlearn: 0.4344233\ttest: 0.4434948\tbest: 0.4434948 (2000)\ttotal: 19.7s\tremaining: 29.6s\n",
      "4000:\tlearn: 0.4255569\ttest: 0.4414661\tbest: 0.4414556 (3979)\ttotal: 39.9s\tremaining: 9.95s\n"
     ]
    },
    {
     "name": "stderr",
     "output_type": "stream",
     "text": [
      "\r",
      "7it [05:55, 50.47s/it]"
     ]
    },
    {
     "name": "stdout",
     "output_type": "stream",
     "text": [
      "4999:\tlearn: 0.4218616\ttest: 0.4411287\tbest: 0.4411287 (4999)\ttotal: 50s\tremaining: 0us\n",
      "\n",
      "bestTest = 0.4411287297\n",
      "bestIteration = 4999\n",
      "\n",
      "0:\tlearn: 0.6878228\ttest: 0.6878182\tbest: 0.6878182 (0)\ttotal: 9.73ms\tremaining: 48.7s\n",
      "2000:\tlearn: 0.4345808\ttest: 0.4414654\tbest: 0.4414654 (2000)\ttotal: 19.7s\tremaining: 29.5s\n",
      "4000:\tlearn: 0.4255697\ttest: 0.4398018\tbest: 0.4398018 (4000)\ttotal: 39.9s\tremaining: 9.96s\n"
     ]
    },
    {
     "name": "stderr",
     "output_type": "stream",
     "text": [
      "\r",
      "8it [06:45, 50.44s/it]"
     ]
    },
    {
     "name": "stdout",
     "output_type": "stream",
     "text": [
      "4999:\tlearn: 0.4218350\ttest: 0.4396035\tbest: 0.4396015 (4976)\ttotal: 49.9s\tremaining: 0us\n",
      "\n",
      "bestTest = 0.4396014641\n",
      "bestIteration = 4976\n",
      "\n",
      "Shrink model to first 4977 iterations.\n",
      "0:\tlearn: 0.6878323\ttest: 0.6877875\tbest: 0.6877875 (0)\ttotal: 9.92ms\tremaining: 49.6s\n",
      "2000:\tlearn: 0.4349536\ttest: 0.4371951\tbest: 0.4371951 (2000)\ttotal: 19.6s\tremaining: 29.3s\n",
      "4000:\tlearn: 0.4260268\ttest: 0.4359337\tbest: 0.4358961 (3914)\ttotal: 39.5s\tremaining: 9.87s\n"
     ]
    },
    {
     "name": "stderr",
     "output_type": "stream",
     "text": [
      "\r",
      "9it [07:26, 47.50s/it]"
     ]
    },
    {
     "name": "stdout",
     "output_type": "stream",
     "text": [
      "Stopped by overfitting detector  (200 iterations wait)\n",
      "\n",
      "bestTest = 0.4358960655\n",
      "bestIteration = 3914\n",
      "\n",
      "Shrink model to first 3915 iterations.\n",
      "0:\tlearn: 0.6878307\ttest: 0.6877816\tbest: 0.6877816 (0)\ttotal: 10.5ms\tremaining: 52.5s\n",
      "2000:\tlearn: 0.4350448\ttest: 0.4360157\tbest: 0.4360157 (2000)\ttotal: 19.8s\tremaining: 29.7s\n",
      "4000:\tlearn: 0.4261070\ttest: 0.4345308\tbest: 0.4345214 (3988)\ttotal: 40s\tremaining: 9.99s\n"
     ]
    },
    {
     "name": "stderr",
     "output_type": "stream",
     "text": [
      "10it [08:15, 49.55s/it]"
     ]
    },
    {
     "name": "stdout",
     "output_type": "stream",
     "text": [
      "Stopped by overfitting detector  (200 iterations wait)\n",
      "\n",
      "bestTest = 0.4343794712\n",
      "bestIteration = 4627\n",
      "\n",
      "Shrink model to first 4628 iterations.\n"
     ]
    },
    {
     "name": "stderr",
     "output_type": "stream",
     "text": [
      "\n"
     ]
    }
   ],
   "source": [
    "from catboost import CatBoostClassifier\n",
    "from lightgbm import LGBMClassifier\n",
    "from xgboost import XGBClassifier\n",
    "from sklearn.metrics import log_loss\n",
    "from sklearn.model_selection import KFold, StratifiedKFold\n",
    "from sklearn.model_selection import GridSearchCV\n",
    "from tqdm import tqdm\n",
    "\n",
    "kf = KFold(n_splits = 10, random_state = 41, shuffle = True)\n",
    "models = []\n",
    "val_scores = []\n",
    "preds = []\n",
    "\n",
    "params = {\n",
    "'n_estimators':5000,\n",
    "'max_depth':6,\n",
    "'early_stopping_rounds':200,\n",
    "'learning_rate':0.01,\n",
    "'one_hot_max_size':3,\n",
    "'bootstrap_type':\"MVS\",\n",
    "'l2_leaf_reg':2,\n",
    "'random_state':41\n",
    "         }\n",
    "\n",
    "# bundle = [CatBoostClassifier, LGBMClassifier, XGBClassifier]\n",
    "# for model in bundle:\n",
    "# model = CatBoostClassifier(**params)\n",
    "for i, (train_index, val_index) in tqdm(enumerate(kf.split(train_, train_[target]))):\n",
    "\n",
    "        # clf.fit(train_x, train_y)\n",
    "\n",
    "        X_train, X_val = train_[features].loc[train_index], train_[features].loc[val_index]\n",
    "        y_train, y_val = train_[target][train_index], train_[target][val_index]\n",
    "\n",
    "        model = CatBoostClassifier(**params)\n",
    "\n",
    "        model.fit(X_train, y_train, eval_set = [(X_val, y_val)], verbose = 2000)\n",
    "\n",
    "        models.append(model)\n",
    "        score = log_loss(y_val, model.predict_proba(X_val))\n",
    "\n",
    "        val_scores.append(score)"
   ]
  },
  {
   "cell_type": "code",
   "execution_count": 12,
   "id": "b6ecccc2",
   "metadata": {},
   "outputs": [
    {
     "data": {
      "text/plain": [
       "[0.43797699335876283,\n",
       " 0.4358958149772492,\n",
       " 0.43636692508490377,\n",
       " 0.4353263327329921,\n",
       " 0.4463164023101533,\n",
       " 0.4463811067884916,\n",
       " 0.4411287296930336,\n",
       " 0.439601464129778,\n",
       " 0.4358960654834986,\n",
       " 0.43437947119816384]"
      ]
     },
     "execution_count": 12,
     "metadata": {},
     "output_type": "execute_result"
    }
   ],
   "source": [
    "val_scores"
   ]
  },
  {
   "cell_type": "code",
   "execution_count": 13,
   "id": "91e0da8e",
   "metadata": {},
   "outputs": [],
   "source": [
    "cat_preds = []\n",
    "for model in models[:10]:\n",
    "    preds = model.predict_proba(test_[features])\n",
    "    cat_preds.append(preds)"
   ]
  },
  {
   "cell_type": "code",
   "execution_count": 14,
   "id": "afd30b15",
   "metadata": {},
   "outputs": [
    {
     "data": {
      "text/html": [
       "<div>\n",
       "<style scoped>\n",
       "    .dataframe tbody tr th:only-of-type {\n",
       "        vertical-align: middle;\n",
       "    }\n",
       "\n",
       "    .dataframe tbody tr th {\n",
       "        vertical-align: top;\n",
       "    }\n",
       "\n",
       "    .dataframe thead th {\n",
       "        text-align: right;\n",
       "    }\n",
       "</style>\n",
       "<table border=\"1\" class=\"dataframe\">\n",
       "  <thead>\n",
       "    <tr style=\"text-align: right;\">\n",
       "      <th></th>\n",
       "      <th>ID</th>\n",
       "      <th>Month</th>\n",
       "      <th>Day_of_Month</th>\n",
       "      <th>Estimated_Departure_Time</th>\n",
       "      <th>Estimated_Arrival_Time</th>\n",
       "      <th>Cancelled</th>\n",
       "      <th>Diverted</th>\n",
       "      <th>Origin_Airport_ID</th>\n",
       "      <th>Destination_Airport_ID</th>\n",
       "      <th>Distance</th>\n",
       "      <th>Carrier_ID(DOT)</th>\n",
       "      <th>Tail_Number</th>\n",
       "      <th>Delay</th>\n",
       "    </tr>\n",
       "  </thead>\n",
       "  <tbody>\n",
       "    <tr>\n",
       "      <th>1</th>\n",
       "      <td>TRAIN_000001</td>\n",
       "      <td>8</td>\n",
       "      <td>15</td>\n",
       "      <td>740.0</td>\n",
       "      <td>1024.0</td>\n",
       "      <td>0</td>\n",
       "      <td>0</td>\n",
       "      <td>13930</td>\n",
       "      <td>14869</td>\n",
       "      <td>1250.0</td>\n",
       "      <td>20304.0</td>\n",
       "      <td>310</td>\n",
       "      <td>1</td>\n",
       "    </tr>\n",
       "    <tr>\n",
       "      <th>2</th>\n",
       "      <td>TRAIN_000002</td>\n",
       "      <td>9</td>\n",
       "      <td>6</td>\n",
       "      <td>1610.0</td>\n",
       "      <td>1805.0</td>\n",
       "      <td>0</td>\n",
       "      <td>0</td>\n",
       "      <td>11057</td>\n",
       "      <td>12953</td>\n",
       "      <td>544.0</td>\n",
       "      <td>19805.0</td>\n",
       "      <td>140</td>\n",
       "      <td>1</td>\n",
       "    </tr>\n",
       "    <tr>\n",
       "      <th>4</th>\n",
       "      <td>TRAIN_000004</td>\n",
       "      <td>1</td>\n",
       "      <td>11</td>\n",
       "      <td>900.0</td>\n",
       "      <td>1019.0</td>\n",
       "      <td>0</td>\n",
       "      <td>0</td>\n",
       "      <td>14771</td>\n",
       "      <td>10157</td>\n",
       "      <td>250.0</td>\n",
       "      <td>20304.0</td>\n",
       "      <td>556</td>\n",
       "      <td>1</td>\n",
       "    </tr>\n",
       "    <tr>\n",
       "      <th>7</th>\n",
       "      <td>TRAIN_000007</td>\n",
       "      <td>4</td>\n",
       "      <td>20</td>\n",
       "      <td>1815.0</td>\n",
       "      <td>1955.0</td>\n",
       "      <td>0</td>\n",
       "      <td>0</td>\n",
       "      <td>13930</td>\n",
       "      <td>13198</td>\n",
       "      <td>403.0</td>\n",
       "      <td>20304.0</td>\n",
       "      <td>173</td>\n",
       "      <td>1</td>\n",
       "    </tr>\n",
       "    <tr>\n",
       "      <th>9</th>\n",
       "      <td>TRAIN_000009</td>\n",
       "      <td>6</td>\n",
       "      <td>6</td>\n",
       "      <td>650.0</td>\n",
       "      <td>838.0</td>\n",
       "      <td>0</td>\n",
       "      <td>0</td>\n",
       "      <td>12992</td>\n",
       "      <td>12266</td>\n",
       "      <td>374.0</td>\n",
       "      <td>20366.0</td>\n",
       "      <td>468</td>\n",
       "      <td>1</td>\n",
       "    </tr>\n",
       "    <tr>\n",
       "      <th>...</th>\n",
       "      <td>...</td>\n",
       "      <td>...</td>\n",
       "      <td>...</td>\n",
       "      <td>...</td>\n",
       "      <td>...</td>\n",
       "      <td>...</td>\n",
       "      <td>...</td>\n",
       "      <td>...</td>\n",
       "      <td>...</td>\n",
       "      <td>...</td>\n",
       "      <td>...</td>\n",
       "      <td>...</td>\n",
       "      <td>...</td>\n",
       "    </tr>\n",
       "    <tr>\n",
       "      <th>999993</th>\n",
       "      <td>TRAIN_999993</td>\n",
       "      <td>10</td>\n",
       "      <td>17</td>\n",
       "      <td>603.0</td>\n",
       "      <td>755.0</td>\n",
       "      <td>0</td>\n",
       "      <td>0</td>\n",
       "      <td>12264</td>\n",
       "      <td>11292</td>\n",
       "      <td>1452.0</td>\n",
       "      <td>20436.0</td>\n",
       "      <td>1538</td>\n",
       "      <td>1</td>\n",
       "    </tr>\n",
       "    <tr>\n",
       "      <th>999995</th>\n",
       "      <td>TRAIN_999995</td>\n",
       "      <td>9</td>\n",
       "      <td>18</td>\n",
       "      <td>936.0</td>\n",
       "      <td>1243.0</td>\n",
       "      <td>0</td>\n",
       "      <td>0</td>\n",
       "      <td>13930</td>\n",
       "      <td>14100</td>\n",
       "      <td>678.0</td>\n",
       "      <td>19977.0</td>\n",
       "      <td>2477</td>\n",
       "      <td>1</td>\n",
       "    </tr>\n",
       "    <tr>\n",
       "      <th>999997</th>\n",
       "      <td>TRAIN_999997</td>\n",
       "      <td>6</td>\n",
       "      <td>28</td>\n",
       "      <td>800.0</td>\n",
       "      <td>1340.0</td>\n",
       "      <td>0</td>\n",
       "      <td>0</td>\n",
       "      <td>13796</td>\n",
       "      <td>12191</td>\n",
       "      <td>1642.0</td>\n",
       "      <td>19393.0</td>\n",
       "      <td>994</td>\n",
       "      <td>1</td>\n",
       "    </tr>\n",
       "    <tr>\n",
       "      <th>999998</th>\n",
       "      <td>TRAIN_999998</td>\n",
       "      <td>9</td>\n",
       "      <td>27</td>\n",
       "      <td>1613.0</td>\n",
       "      <td>1824.0</td>\n",
       "      <td>0</td>\n",
       "      <td>0</td>\n",
       "      <td>10693</td>\n",
       "      <td>10397</td>\n",
       "      <td>214.0</td>\n",
       "      <td>19790.0</td>\n",
       "      <td>6207</td>\n",
       "      <td>1</td>\n",
       "    </tr>\n",
       "    <tr>\n",
       "      <th>999999</th>\n",
       "      <td>TRAIN_999999</td>\n",
       "      <td>3</td>\n",
       "      <td>26</td>\n",
       "      <td>1800.0</td>\n",
       "      <td>2056.0</td>\n",
       "      <td>0</td>\n",
       "      <td>0</td>\n",
       "      <td>14635</td>\n",
       "      <td>11433</td>\n",
       "      <td>1084.0</td>\n",
       "      <td>19790.0</td>\n",
       "      <td>3667</td>\n",
       "      <td>1</td>\n",
       "    </tr>\n",
       "  </tbody>\n",
       "</table>\n",
       "<p>526842 rows × 13 columns</p>\n",
       "</div>"
      ],
      "text/plain": [
       "                  ID  Month  Day_of_Month  Estimated_Departure_Time  \\\n",
       "1       TRAIN_000001      8            15                     740.0   \n",
       "2       TRAIN_000002      9             6                    1610.0   \n",
       "4       TRAIN_000004      1            11                     900.0   \n",
       "7       TRAIN_000007      4            20                    1815.0   \n",
       "9       TRAIN_000009      6             6                     650.0   \n",
       "...              ...    ...           ...                       ...   \n",
       "999993  TRAIN_999993     10            17                     603.0   \n",
       "999995  TRAIN_999995      9            18                     936.0   \n",
       "999997  TRAIN_999997      6            28                     800.0   \n",
       "999998  TRAIN_999998      9            27                    1613.0   \n",
       "999999  TRAIN_999999      3            26                    1800.0   \n",
       "\n",
       "        Estimated_Arrival_Time  Cancelled  Diverted  Origin_Airport_ID  \\\n",
       "1                       1024.0          0         0              13930   \n",
       "2                       1805.0          0         0              11057   \n",
       "4                       1019.0          0         0              14771   \n",
       "7                       1955.0          0         0              13930   \n",
       "9                        838.0          0         0              12992   \n",
       "...                        ...        ...       ...                ...   \n",
       "999993                   755.0          0         0              12264   \n",
       "999995                  1243.0          0         0              13930   \n",
       "999997                  1340.0          0         0              13796   \n",
       "999998                  1824.0          0         0              10693   \n",
       "999999                  2056.0          0         0              14635   \n",
       "\n",
       "        Destination_Airport_ID  Distance  Carrier_ID(DOT)  Tail_Number  Delay  \n",
       "1                        14869    1250.0          20304.0          310      1  \n",
       "2                        12953     544.0          19805.0          140      1  \n",
       "4                        10157     250.0          20304.0          556      1  \n",
       "7                        13198     403.0          20304.0          173      1  \n",
       "9                        12266     374.0          20366.0          468      1  \n",
       "...                        ...       ...              ...          ...    ...  \n",
       "999993                   11292    1452.0          20436.0         1538      1  \n",
       "999995                   14100     678.0          19977.0         2477      1  \n",
       "999997                   12191    1642.0          19393.0          994      1  \n",
       "999998                   10397     214.0          19790.0         6207      1  \n",
       "999999                   11433    1084.0          19790.0         3667      1  \n",
       "\n",
       "[526842 rows x 13 columns]"
      ]
     },
     "execution_count": 14,
     "metadata": {},
     "output_type": "execute_result"
    }
   ],
   "source": [
    "pred = np.array(cat_preds).mean(axis=0)\n",
    "test_['Delay'] = [np.argmax(i) for i in pred]\n",
    "test_"
   ]
  },
  {
   "cell_type": "code",
   "execution_count": 20,
   "id": "11e042c2",
   "metadata": {},
   "outputs": [
    {
     "name": "stdout",
     "output_type": "stream",
     "text": [
      "<class 'pandas.core.frame.DataFrame'>\n",
      "RangeIndex: 1000000 entries, 0 to 999999\n",
      "Data columns (total 12 columns):\n",
      " #   Column                    Non-Null Count    Dtype  \n",
      "---  ------                    --------------    -----  \n",
      " 0   ID                        1000000 non-null  object \n",
      " 1   Month                     1000000 non-null  int64  \n",
      " 2   Day_of_Month              1000000 non-null  int64  \n",
      " 3   Estimated_Departure_Time  891016 non-null   float64\n",
      " 4   Estimated_Arrival_Time    890952 non-null   float64\n",
      " 5   Cancelled                 1000000 non-null  int64  \n",
      " 6   Diverted                  1000000 non-null  int64  \n",
      " 7   Origin_Airport_ID         1000000 non-null  int64  \n",
      " 8   Destination_Airport_ID    1000000 non-null  int64  \n",
      " 9   Distance                  1000000 non-null  float64\n",
      " 10  Carrier_ID(DOT)           890994 non-null   float64\n",
      " 11  Tail_Number               1000000 non-null  object \n",
      "dtypes: float64(4), int64(6), object(2)\n",
      "memory usage: 91.6+ MB\n"
     ]
    }
   ],
   "source": [
    "test = test.drop('Carrier_Code(IATA)',axis=1)\n",
    "test = test.drop('Origin_Airport',axis=1)\n",
    "test = test.drop('Destination_Airport',axis=1)\n",
    "test = test.drop(['Origin_State','Destination_State'],axis=1)\n",
    "test = test.drop(['Airline'],axis=1)\n",
    "test.info()"
   ]
  }
 ],
 "metadata": {
  "kernelspec": {
   "display_name": "Python 3 (ipykernel)",
   "language": "python",
   "name": "python3"
  },
  "language_info": {
   "codemirror_mode": {
    "name": "ipython",
    "version": 3
   },
   "file_extension": ".py",
   "mimetype": "text/x-python",
   "name": "python",
   "nbconvert_exporter": "python",
   "pygments_lexer": "ipython3",
   "version": "3.9.12"
  }
 },
 "nbformat": 4,
 "nbformat_minor": 5
}
