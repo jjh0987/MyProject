{
 "cells": [
  {
   "cell_type": "code",
   "execution_count": 1,
   "id": "9521954e",
   "metadata": {},
   "outputs": [
    {
     "ename": "RuntimeError",
     "evalue": "module compiled against API version 0xe but this version of numpy is 0xd",
     "output_type": "error",
     "traceback": [
      "\u001b[0;31m---------------------------------------------------------------------------\u001b[0m",
      "\u001b[0;31mRuntimeError\u001b[0m                              Traceback (most recent call last)",
      "\u001b[0;31mRuntimeError\u001b[0m: module compiled against API version 0xe but this version of numpy is 0xd"
     ]
    }
   ],
   "source": [
    "import pandas as pd\n",
    "import numpy as np\n",
    "import random\n",
    "import os\n",
    "import gc\n",
    "from sklearn.preprocessing import LabelEncoder\n",
    "\n",
    "def seed_everything(seed):\n",
    "    random.seed(seed)\n",
    "    os.environ['PYTHONHASHSEED'] = str(seed)\n",
    "    np.random.seed(seed)\n",
    "seed_everything(42) # Seed 고정"
   ]
  },
  {
   "cell_type": "code",
   "execution_count": 2,
   "id": "2d553a47",
   "metadata": {},
   "outputs": [
    {
     "ename": "RuntimeError",
     "evalue": "module compiled against API version 0xe but this version of numpy is 0xd",
     "output_type": "error",
     "traceback": [
      "\u001b[0;31m---------------------------------------------------------------------------\u001b[0m",
      "\u001b[0;31mRuntimeError\u001b[0m                              Traceback (most recent call last)",
      "\u001b[0;31mRuntimeError\u001b[0m: module compiled against API version 0xe but this version of numpy is 0xd"
     ]
    },
    {
     "name": "stdout",
     "output_type": "stream",
     "text": [
      "train Done.\n"
     ]
    },
    {
     "ename": "RuntimeError",
     "evalue": "module compiled against API version 0xe but this version of numpy is 0xd",
     "output_type": "error",
     "traceback": [
      "\u001b[0;31m---------------------------------------------------------------------------\u001b[0m",
      "\u001b[0;31mRuntimeError\u001b[0m                              Traceback (most recent call last)",
      "\u001b[0;31mRuntimeError\u001b[0m: module compiled against API version 0xe but this version of numpy is 0xd"
     ]
    },
    {
     "name": "stdout",
     "output_type": "stream",
     "text": [
      "test Done.\n"
     ]
    }
   ],
   "source": [
    "# def csv_to_parquet(csv_path, save_name):\n",
    "#     df = pd.read_csv(csv_path)\n",
    "#     df.to_parquet(f'./{save_name}.parquet')\n",
    "#     del df\n",
    "#     gc.collect()\n",
    "#     print(save_name, 'Done.')\n",
    "    \n",
    "# csv_to_parquet('./train.csv', 'train')\n",
    "# csv_to_parquet('./test.csv', 'test')"
   ]
  },
  {
   "cell_type": "code",
   "execution_count": 37,
   "id": "7660e2c5",
   "metadata": {},
   "outputs": [
    {
     "ename": "RuntimeError",
     "evalue": "module compiled against API version 0xe but this version of numpy is 0xd",
     "output_type": "error",
     "traceback": [
      "\u001b[0;31m---------------------------------------------------------------------------\u001b[0m",
      "\u001b[0;31mRuntimeError\u001b[0m                              Traceback (most recent call last)",
      "\u001b[0;31mRuntimeError\u001b[0m: module compiled against API version 0xe but this version of numpy is 0xd"
     ]
    },
    {
     "ename": "RuntimeError",
     "evalue": "module compiled against API version 0xe but this version of numpy is 0xd",
     "output_type": "error",
     "traceback": [
      "\u001b[0;31m---------------------------------------------------------------------------\u001b[0m",
      "\u001b[0;31mRuntimeError\u001b[0m                              Traceback (most recent call last)",
      "\u001b[0;31mRuntimeError\u001b[0m: module compiled against API version 0xe but this version of numpy is 0xd"
     ]
    }
   ],
   "source": [
    "train = pd.read_parquet('./train.parquet')\n",
    "test = pd.read_parquet('./test.parquet')\n",
    "sample_submission = pd.read_csv('sample_submission.csv', index_col = 0)"
   ]
  },
  {
   "cell_type": "code",
   "execution_count": 38,
   "id": "68f77d8e",
   "metadata": {},
   "outputs": [
    {
     "name": "stdout",
     "output_type": "stream",
     "text": [
      "Done.\n",
      "Done.\n"
     ]
    }
   ],
   "source": [
    "NaN_col = ['Origin_State','Destination_State','Airline','Estimated_Departure_Time', 'Estimated_Arrival_Time','Carrier_Code(IATA)','Carrier_ID(DOT)']\n",
    "\n",
    "for col in NaN_col:\n",
    "    mode = train[col].mode()[0]\n",
    "    train[col] = train[col].fillna(mode)\n",
    "    \n",
    "    if col in test.columns:\n",
    "        test[col] = test[col].fillna(mode)\n",
    "print('Done.')\n",
    "\n",
    "qual_col = ['Origin_Airport', 'Origin_State', 'Destination_Airport', 'Destination_State', 'Airline', 'Carrier_Code(IATA)', 'Tail_Number']\n",
    "\n",
    "for i in qual_col:\n",
    "    le = LabelEncoder()\n",
    "    le=le.fit(train[i])\n",
    "    train[i]=le.transform(train[i])\n",
    "    \n",
    "    for label in np.unique(test[i]):\n",
    "        if label not in le.classes_: \n",
    "            le.classes_ = np.append(le.classes_, label)\n",
    "    test[i]=le.transform(test[i])\n",
    "print('Done.')"
   ]
  },
  {
   "cell_type": "code",
   "execution_count": 39,
   "id": "1e561df7",
   "metadata": {},
   "outputs": [
    {
     "name": "stdout",
     "output_type": "stream",
     "text": [
      "Done.\n"
     ]
    }
   ],
   "source": [
    "train = train.dropna()\n",
    "column_number = {}\n",
    "for i, column in enumerate(sample_submission.columns):\n",
    "    column_number[column] = i\n",
    "    \n",
    "def to_number(x, dic):\n",
    "    return dic[x]\n",
    "\n",
    "train.loc[:, 'Delay_num'] = train['Delay'].apply(lambda x: to_number(x, column_number))\n",
    "print('Done.')"
   ]
  },
  {
   "cell_type": "code",
   "execution_count": 46,
   "id": "f7c253d1",
   "metadata": {},
   "outputs": [],
   "source": [
    "train['Delay'] = le.fit_transform(train['Delay'])"
   ]
  },
  {
   "cell_type": "code",
   "execution_count": 47,
   "id": "e663faca",
   "metadata": {},
   "outputs": [],
   "source": [
    "train_x = train.drop(columns=['ID', 'Delay_num'])\n",
    "train_x = train_x.reset_index(drop=True)\n",
    "\n",
    "# train_y = train['Delay_num']\n",
    "# train_y = train_y.reset_index(drop=True)\n",
    "\n",
    "test_x = test.drop(columns=['ID'])"
   ]
  },
  {
   "cell_type": "code",
   "execution_count": 48,
   "id": "ddd87729",
   "metadata": {},
   "outputs": [],
   "source": [
    "target = 'Delay'\n",
    "features = [c for c in train_x.columns if c not in [target]]"
   ]
  },
  {
   "cell_type": "code",
   "execution_count": null,
   "id": "c4966f0a",
   "metadata": {},
   "outputs": [
    {
     "name": "stderr",
     "output_type": "stream",
     "text": [
      "\r",
      "0it [00:00, ?it/s]"
     ]
    },
    {
     "name": "stdout",
     "output_type": "stream",
     "text": [
      "0:\tlearn: 0.6792473\ttest: 0.6791985\tbest: 0.6791985 (0)\ttotal: 55.3ms\tremaining: 13m 50s\n",
      "2000:\tlearn: 0.1788661\ttest: 0.1780019\tbest: 0.1780019 (2000)\ttotal: 1m 24s\tremaining: 9m 6s\n",
      "4000:\tlearn: 0.1772315\ttest: 0.1778021\tbest: 0.1777994 (3961)\ttotal: 2m 48s\tremaining: 7m 42s\n"
     ]
    },
    {
     "name": "stderr",
     "output_type": "stream",
     "text": [
      "\r",
      "1it [03:01, 181.61s/it]"
     ]
    },
    {
     "name": "stdout",
     "output_type": "stream",
     "text": [
      "Stopped by overfitting detector  (200 iterations wait)\n",
      "\n",
      "bestTest = 0.1777960993\n",
      "bestIteration = 4103\n",
      "\n",
      "Shrink model to first 4104 iterations.\n",
      "0:\tlearn: 0.6792394\ttest: 0.6792143\tbest: 0.6792143 (0)\ttotal: 48.3ms\tremaining: 12m 4s\n",
      "2000:\tlearn: 0.1786956\ttest: 0.1793132\tbest: 0.1793131 (1997)\ttotal: 1m 23s\tremaining: 9m\n",
      "4000:\tlearn: 0.1770489\ttest: 0.1790760\tbest: 0.1790751 (3932)\ttotal: 2m 48s\tremaining: 7m 43s\n"
     ]
    },
    {
     "name": "stderr",
     "output_type": "stream",
     "text": [
      "\r",
      "2it [06:55, 212.24s/it]"
     ]
    },
    {
     "name": "stdout",
     "output_type": "stream",
     "text": [
      "Stopped by overfitting detector  (200 iterations wait)\n",
      "\n",
      "bestTest = 0.1790376944\n",
      "bestIteration = 5280\n",
      "\n",
      "Shrink model to first 5281 iterations.\n",
      "0:\tlearn: 0.6792318\ttest: 0.6792266\tbest: 0.6792266 (0)\ttotal: 66.3ms\tremaining: 16m 34s\n",
      "2000:\tlearn: 0.1785020\ttest: 0.1811725\tbest: 0.1811725 (2000)\ttotal: 1m 25s\tremaining: 9m 13s\n",
      "4000:\tlearn: 0.1768224\ttest: 0.1809292\tbest: 0.1809266 (3972)\ttotal: 2m 49s\tremaining: 7m 45s\n"
     ]
    },
    {
     "name": "stderr",
     "output_type": "stream",
     "text": [
      "\r",
      "3it [10:08, 203.63s/it]"
     ]
    },
    {
     "name": "stdout",
     "output_type": "stream",
     "text": [
      "Stopped by overfitting detector  (200 iterations wait)\n",
      "\n",
      "bestTest = 0.1809149734\n",
      "bestIteration = 4358\n",
      "\n",
      "Shrink model to first 4359 iterations.\n",
      "0:\tlearn: 0.6792348\ttest: 0.6792280\tbest: 0.6792280 (0)\ttotal: 60ms\tremaining: 14m 59s\n",
      "2000:\tlearn: 0.1785350\ttest: 0.1807334\tbest: 0.1807332 (1998)\ttotal: 1m 22s\tremaining: 8m 58s\n",
      "4000:\tlearn: 0.1768732\ttest: 0.1805500\tbest: 0.1805473 (3899)\ttotal: 2m 46s\tremaining: 7m 38s\n"
     ]
    },
    {
     "name": "stderr",
     "output_type": "stream",
     "text": [
      "\r",
      "4it [13:00, 190.96s/it]"
     ]
    },
    {
     "name": "stdout",
     "output_type": "stream",
     "text": [
      "Stopped by overfitting detector  (200 iterations wait)\n",
      "\n",
      "bestTest = 0.1805473008\n",
      "bestIteration = 3899\n",
      "\n",
      "Shrink model to first 3900 iterations.\n",
      "0:\tlearn: 0.6792512\ttest: 0.6791941\tbest: 0.6791941 (0)\ttotal: 66.5ms\tremaining: 16m 37s\n",
      "2000:\tlearn: 0.1789730\ttest: 0.1768433\tbest: 0.1768433 (2000)\ttotal: 1m 23s\tremaining: 9m 1s\n",
      "4000:\tlearn: 0.1773172\ttest: 0.1766318\tbest: 0.1766293 (3984)\ttotal: 2m 47s\tremaining: 7m 40s\n"
     ]
    },
    {
     "name": "stderr",
     "output_type": "stream",
     "text": [
      "\r",
      "5it [16:30, 198.07s/it]"
     ]
    },
    {
     "name": "stdout",
     "output_type": "stream",
     "text": [
      "Stopped by overfitting detector  (200 iterations wait)\n",
      "\n",
      "bestTest = 0.1766064506\n",
      "bestIteration = 4805\n",
      "\n",
      "Shrink model to first 4806 iterations.\n",
      "0:\tlearn: 0.6792169\ttest: 0.6792358\tbest: 0.6792358 (0)\ttotal: 68.3ms\tremaining: 17m 4s\n",
      "2000:\tlearn: 0.1781813\ttest: 0.1838322\tbest: 0.1838321 (1999)\ttotal: 1m 23s\tremaining: 9m 2s\n",
      "4000:\tlearn: 0.1765126\ttest: 0.1835932\tbest: 0.1835926 (3997)\ttotal: 2m 47s\tremaining: 7m 41s\n"
     ]
    },
    {
     "name": "stderr",
     "output_type": "stream",
     "text": [
      "\r",
      "6it [20:06, 204.08s/it]"
     ]
    },
    {
     "name": "stdout",
     "output_type": "stream",
     "text": [
      "Stopped by overfitting detector  (200 iterations wait)\n",
      "\n",
      "bestTest = 0.1835576807\n",
      "bestIteration = 4929\n",
      "\n",
      "Shrink model to first 4930 iterations.\n",
      "0:\tlearn: 0.6792211\ttest: 0.6792321\tbest: 0.6792321 (0)\ttotal: 50.2ms\tremaining: 12m 33s\n",
      "2000:\tlearn: 0.1783009\ttest: 0.1828374\tbest: 0.1828364 (1995)\ttotal: 1m 22s\tremaining: 8m 58s\n",
      "4000:\tlearn: 0.1766017\ttest: 0.1825502\tbest: 0.1825482 (3974)\ttotal: 2m 46s\tremaining: 7m 38s\n",
      "6000:\tlearn: 0.1752556\ttest: 0.1824569\tbest: 0.1824562 (5996)\ttotal: 4m 10s\tremaining: 6m 16s\n"
     ]
    },
    {
     "name": "stderr",
     "output_type": "stream",
     "text": [
      "\r",
      "7it [24:29, 223.16s/it]"
     ]
    },
    {
     "name": "stdout",
     "output_type": "stream",
     "text": [
      "Stopped by overfitting detector  (200 iterations wait)\n",
      "\n",
      "bestTest = 0.1824548391\n",
      "bestIteration = 6055\n",
      "\n",
      "Shrink model to first 6056 iterations.\n",
      "0:\tlearn: 0.6792410\ttest: 0.6792202\tbest: 0.6792202 (0)\ttotal: 51ms\tremaining: 12m 44s\n",
      "2000:\tlearn: 0.1786836\ttest: 0.1794035\tbest: 0.1794035 (2000)\ttotal: 1m 23s\tremaining: 9m 2s\n",
      "4000:\tlearn: 0.1770404\ttest: 0.1791585\tbest: 0.1791581 (3999)\ttotal: 2m 47s\tremaining: 7m 41s\n"
     ]
    },
    {
     "name": "stderr",
     "output_type": "stream",
     "text": [
      "\r",
      "8it [28:16, 224.60s/it]"
     ]
    },
    {
     "name": "stdout",
     "output_type": "stream",
     "text": [
      "Stopped by overfitting detector  (200 iterations wait)\n",
      "\n",
      "bestTest = 0.1791189409\n",
      "bestIteration = 5197\n",
      "\n",
      "Shrink model to first 5198 iterations.\n",
      "0:\tlearn: 0.6792407\ttest: 0.6792141\tbest: 0.6792141 (0)\ttotal: 45.6ms\tremaining: 11m 24s\n",
      "2000:\tlearn: 0.1786816\ttest: 0.1796655\tbest: 0.1796655 (2000)\ttotal: 1m 23s\tremaining: 9m 3s\n",
      "4000:\tlearn: 0.1769892\ttest: 0.1795469\tbest: 0.1795460 (3926)\ttotal: 2m 47s\tremaining: 7m 41s\n"
     ]
    },
    {
     "name": "stderr",
     "output_type": "stream",
     "text": [
      "\r",
      "9it [31:26, 213.57s/it]"
     ]
    },
    {
     "name": "stdout",
     "output_type": "stream",
     "text": [
      "Stopped by overfitting detector  (200 iterations wait)\n",
      "\n",
      "bestTest = 0.1795408861\n",
      "bestIteration = 4287\n",
      "\n",
      "Shrink model to first 4288 iterations.\n",
      "0:\tlearn: 0.6792524\ttest: 0.6792036\tbest: 0.6792036 (0)\ttotal: 49.3ms\tremaining: 12m 19s\n",
      "2000:\tlearn: 0.1789335\ttest: 0.1773096\tbest: 0.1773096 (2000)\ttotal: 1m 23s\tremaining: 9m 2s\n",
      "4000:\tlearn: 0.1773110\ttest: 0.1770530\tbest: 0.1770521 (3991)\ttotal: 2m 47s\tremaining: 7m 40s\n",
      "6000:\tlearn: 0.1759303\ttest: 0.1769201\tbest: 0.1769201 (6000)\ttotal: 4m 11s\tremaining: 6m 17s\n"
     ]
    }
   ],
   "source": [
    "from catboost import CatBoostClassifier\n",
    "from lightgbm import LGBMClassifier\n",
    "from xgboost import XGBClassifier\n",
    "from sklearn.metrics import log_loss\n",
    "from sklearn.model_selection import KFold, StratifiedKFold\n",
    "from sklearn.model_selection import GridSearchCV\n",
    "from tqdm import tqdm\n",
    "\n",
    "kf = KFold(n_splits = 10, random_state = 41, shuffle = True)\n",
    "models = []\n",
    "val_scores = []\n",
    "preds = []\n",
    "\n",
    "params = {\n",
    "'n_estimators':5000,\n",
    "'max_depth':6,\n",
    "'early_stopping_rounds':200,\n",
    "'learning_rate':0.01,\n",
    "'one_hot_max_size':3,\n",
    "'bootstrap_type':\"MVS\",\n",
    "'l2_leaf_reg':2,\n",
    "'random_state':41\n",
    "         }\n",
    "\n",
    "# bundle = [CatBoostClassifier, LGBMClassifier, XGBClassifier]\n",
    "# for model in bundle:\n",
    "# model = CatBoostClassifier(**params)\n",
    "for i, (train_index, val_index) in tqdm(enumerate(kf.split(train, train[target]))):\n",
    "\n",
    "        # clf.fit(train_x, train_y)\n",
    "\n",
    "        X_train, X_val = train_x[features].loc[train_index], train_x[features].loc[val_index]\n",
    "        y_train, y_val = train_x[target][train_index], train_x[target][val_index]\n",
    "\n",
    "        model = CatBoostClassifier(**params)\n",
    "\n",
    "        model.fit(X_train, y_train, eval_set = [(X_val, y_val)], verbose = 2000)\n",
    "\n",
    "        models.append(model)\n",
    "        score = log_loss(y_val, model.predict_proba(X_val))\n",
    "\n",
    "        val_scores.append(score)"
   ]
  },
  {
   "cell_type": "code",
   "execution_count": null,
   "id": "15ec4788",
   "metadata": {},
   "outputs": [],
   "source": [
    "val_scores"
   ]
  },
  {
   "cell_type": "code",
   "execution_count": 52,
   "id": "69596dc4",
   "metadata": {},
   "outputs": [],
   "source": [
    "cat_preds = []\n",
    "for model in models[:10]:\n",
    "    preds = model.predict_proba(test[features])\n",
    "    cat_preds.append(preds)"
   ]
  },
  {
   "cell_type": "code",
   "execution_count": 62,
   "id": "6822df8b",
   "metadata": {},
   "outputs": [],
   "source": [
    "pred = np.array(cat_preds).mean(axis=0)\n",
    "\n",
    "submission = pd.DataFrame(data=pred, columns=sample_submission.columns, index=sample_submission.index)\n",
    "submission.to_csv('baseline_submission.csv', index=True)"
   ]
  }
 ],
 "metadata": {
  "kernelspec": {
   "display_name": "Python 3 (ipykernel)",
   "language": "python",
   "name": "python3"
  },
  "language_info": {
   "codemirror_mode": {
    "name": "ipython",
    "version": 3
   },
   "file_extension": ".py",
   "mimetype": "text/x-python",
   "name": "python",
   "nbconvert_exporter": "python",
   "pygments_lexer": "ipython3",
   "version": "3.8.13"
  }
 },
 "nbformat": 4,
 "nbformat_minor": 5
}
