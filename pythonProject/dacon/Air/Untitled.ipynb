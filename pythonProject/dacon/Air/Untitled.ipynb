{
 "cells": [
  {
   "cell_type": "code",
   "execution_count": 1,
   "id": "aebee40a",
   "metadata": {},
   "outputs": [
    {
     "ename": "RuntimeError",
     "evalue": "module compiled against API version 0xe but this version of numpy is 0xd",
     "output_type": "error",
     "traceback": [
      "\u001b[0;31m---------------------------------------------------------------------------\u001b[0m",
      "\u001b[0;31mRuntimeError\u001b[0m                              Traceback (most recent call last)",
      "\u001b[0;31mRuntimeError\u001b[0m: module compiled against API version 0xe but this version of numpy is 0xd"
     ]
    }
   ],
   "source": [
    "import pandas as pd\n",
    "import numpy as np\n",
    "import random\n",
    "import os\n",
    "import gc\n",
    "from sklearn.preprocessing import LabelEncoder\n",
    "\n",
    "def seed_everything(seed):\n",
    "    random.seed(seed)\n",
    "    os.environ['PYTHONHASHSEED'] = str(seed)\n",
    "    np.random.seed(seed)\n",
    "seed_everything(42) # Seed 고정"
   ]
  },
  {
   "cell_type": "code",
   "execution_count": 2,
   "id": "7a93f85f",
   "metadata": {},
   "outputs": [],
   "source": [
    "# def csv_to_parquet(csv_path, save_name):\n",
    "#     df = pd.read_csv(csv_path)\n",
    "#     df.to_parquet(f'./{save_name}.parquet')\n",
    "#     del df\n",
    "#     gc.collect()\n",
    "#     print(save_name, 'Done.')\n",
    "    \n",
    "# csv_to_parquet('./train.csv', 'train')\n",
    "# csv_to_parquet('./test.csv', 'test')"
   ]
  },
  {
   "cell_type": "code",
   "execution_count": 10,
   "id": "78bcd482",
   "metadata": {},
   "outputs": [
    {
     "ename": "RuntimeError",
     "evalue": "module compiled against API version 0xe but this version of numpy is 0xd",
     "output_type": "error",
     "traceback": [
      "\u001b[0;31m---------------------------------------------------------------------------\u001b[0m",
      "\u001b[0;31mRuntimeError\u001b[0m                              Traceback (most recent call last)",
      "\u001b[0;31mRuntimeError\u001b[0m: module compiled against API version 0xe but this version of numpy is 0xd"
     ]
    },
    {
     "ename": "RuntimeError",
     "evalue": "module compiled against API version 0xe but this version of numpy is 0xd",
     "output_type": "error",
     "traceback": [
      "\u001b[0;31m---------------------------------------------------------------------------\u001b[0m",
      "\u001b[0;31mRuntimeError\u001b[0m                              Traceback (most recent call last)",
      "\u001b[0;31mRuntimeError\u001b[0m: module compiled against API version 0xe but this version of numpy is 0xd"
     ]
    }
   ],
   "source": [
    "train = pd.read_parquet('./train.parquet')\n",
    "test = pd.read_parquet('./test.parquet')\n",
    "sample_submission = pd.read_csv('sample_submission.csv', index_col = 0)"
   ]
  },
  {
   "cell_type": "code",
   "execution_count": 11,
   "id": "687b4743",
   "metadata": {},
   "outputs": [
    {
     "data": {
      "text/html": [
       "<div>\n",
       "<style scoped>\n",
       "    .dataframe tbody tr th:only-of-type {\n",
       "        vertical-align: middle;\n",
       "    }\n",
       "\n",
       "    .dataframe tbody tr th {\n",
       "        vertical-align: top;\n",
       "    }\n",
       "\n",
       "    .dataframe thead th {\n",
       "        text-align: right;\n",
       "    }\n",
       "</style>\n",
       "<table border=\"1\" class=\"dataframe\">\n",
       "  <thead>\n",
       "    <tr style=\"text-align: right;\">\n",
       "      <th></th>\n",
       "      <th>ID</th>\n",
       "      <th>Month</th>\n",
       "      <th>Day_of_Month</th>\n",
       "      <th>Estimated_Departure_Time</th>\n",
       "      <th>Estimated_Arrival_Time</th>\n",
       "      <th>Cancelled</th>\n",
       "      <th>Diverted</th>\n",
       "      <th>Origin_Airport</th>\n",
       "      <th>Origin_Airport_ID</th>\n",
       "      <th>Origin_State</th>\n",
       "      <th>Destination_Airport</th>\n",
       "      <th>Destination_Airport_ID</th>\n",
       "      <th>Destination_State</th>\n",
       "      <th>Distance</th>\n",
       "      <th>Airline</th>\n",
       "      <th>Carrier_Code(IATA)</th>\n",
       "      <th>Carrier_ID(DOT)</th>\n",
       "      <th>Tail_Number</th>\n",
       "      <th>Delay</th>\n",
       "    </tr>\n",
       "  </thead>\n",
       "  <tbody>\n",
       "    <tr>\n",
       "      <th>13</th>\n",
       "      <td>TRAIN_000013</td>\n",
       "      <td>9</td>\n",
       "      <td>19</td>\n",
       "      <td>615.0</td>\n",
       "      <td>706.0</td>\n",
       "      <td>0</td>\n",
       "      <td>0</td>\n",
       "      <td>MAF</td>\n",
       "      <td>13158</td>\n",
       "      <td>Texas</td>\n",
       "      <td>DEN</td>\n",
       "      <td>11292</td>\n",
       "      <td>Colorado</td>\n",
       "      <td>563.0</td>\n",
       "      <td>SkyWest Airlines Inc.</td>\n",
       "      <td>UA</td>\n",
       "      <td>20304.0</td>\n",
       "      <td>N165SY</td>\n",
       "      <td>Not_Delayed</td>\n",
       "    </tr>\n",
       "    <tr>\n",
       "      <th>19</th>\n",
       "      <td>TRAIN_000019</td>\n",
       "      <td>7</td>\n",
       "      <td>14</td>\n",
       "      <td>1907.0</td>\n",
       "      <td>2145.0</td>\n",
       "      <td>0</td>\n",
       "      <td>0</td>\n",
       "      <td>BDL</td>\n",
       "      <td>10529</td>\n",
       "      <td>Connecticut</td>\n",
       "      <td>ATL</td>\n",
       "      <td>10397</td>\n",
       "      <td>Georgia</td>\n",
       "      <td>859.0</td>\n",
       "      <td>Delta Air Lines Inc.</td>\n",
       "      <td>DL</td>\n",
       "      <td>19790.0</td>\n",
       "      <td>N962DN</td>\n",
       "      <td>Not_Delayed</td>\n",
       "    </tr>\n",
       "    <tr>\n",
       "      <th>42</th>\n",
       "      <td>TRAIN_000042</td>\n",
       "      <td>10</td>\n",
       "      <td>24</td>\n",
       "      <td>1005.0</td>\n",
       "      <td>1130.0</td>\n",
       "      <td>0</td>\n",
       "      <td>0</td>\n",
       "      <td>ORD</td>\n",
       "      <td>13930</td>\n",
       "      <td>Illinois</td>\n",
       "      <td>STL</td>\n",
       "      <td>15016</td>\n",
       "      <td>Missouri</td>\n",
       "      <td>258.0</td>\n",
       "      <td>Trans States Airlines</td>\n",
       "      <td>UA</td>\n",
       "      <td>20237.0</td>\n",
       "      <td>N835HK</td>\n",
       "      <td>Not_Delayed</td>\n",
       "    </tr>\n",
       "    <tr>\n",
       "      <th>59</th>\n",
       "      <td>TRAIN_000059</td>\n",
       "      <td>5</td>\n",
       "      <td>2</td>\n",
       "      <td>1732.0</td>\n",
       "      <td>1935.0</td>\n",
       "      <td>0</td>\n",
       "      <td>0</td>\n",
       "      <td>RIC</td>\n",
       "      <td>14524</td>\n",
       "      <td>Virginia</td>\n",
       "      <td>MCO</td>\n",
       "      <td>13204</td>\n",
       "      <td>Florida</td>\n",
       "      <td>667.0</td>\n",
       "      <td>JetBlue Airways</td>\n",
       "      <td>B6</td>\n",
       "      <td>20409.0</td>\n",
       "      <td>N258JB</td>\n",
       "      <td>Not_Delayed</td>\n",
       "    </tr>\n",
       "    <tr>\n",
       "      <th>63</th>\n",
       "      <td>TRAIN_000063</td>\n",
       "      <td>12</td>\n",
       "      <td>28</td>\n",
       "      <td>1820.0</td>\n",
       "      <td>1925.0</td>\n",
       "      <td>0</td>\n",
       "      <td>0</td>\n",
       "      <td>OAK</td>\n",
       "      <td>13796</td>\n",
       "      <td>California</td>\n",
       "      <td>BUR</td>\n",
       "      <td>10800</td>\n",
       "      <td>California</td>\n",
       "      <td>325.0</td>\n",
       "      <td>Southwest Airlines Co.</td>\n",
       "      <td>WN</td>\n",
       "      <td>19393.0</td>\n",
       "      <td>N777QC</td>\n",
       "      <td>Not_Delayed</td>\n",
       "    </tr>\n",
       "    <tr>\n",
       "      <th>...</th>\n",
       "      <td>...</td>\n",
       "      <td>...</td>\n",
       "      <td>...</td>\n",
       "      <td>...</td>\n",
       "      <td>...</td>\n",
       "      <td>...</td>\n",
       "      <td>...</td>\n",
       "      <td>...</td>\n",
       "      <td>...</td>\n",
       "      <td>...</td>\n",
       "      <td>...</td>\n",
       "      <td>...</td>\n",
       "      <td>...</td>\n",
       "      <td>...</td>\n",
       "      <td>...</td>\n",
       "      <td>...</td>\n",
       "      <td>...</td>\n",
       "      <td>...</td>\n",
       "      <td>...</td>\n",
       "    </tr>\n",
       "    <tr>\n",
       "      <th>999943</th>\n",
       "      <td>TRAIN_999943</td>\n",
       "      <td>9</td>\n",
       "      <td>30</td>\n",
       "      <td>1100.0</td>\n",
       "      <td>1155.0</td>\n",
       "      <td>0</td>\n",
       "      <td>0</td>\n",
       "      <td>IND</td>\n",
       "      <td>12339</td>\n",
       "      <td>Indiana</td>\n",
       "      <td>LAS</td>\n",
       "      <td>12889</td>\n",
       "      <td>Nevada</td>\n",
       "      <td>1590.0</td>\n",
       "      <td>Southwest Airlines Co.</td>\n",
       "      <td>WN</td>\n",
       "      <td>19393.0</td>\n",
       "      <td>N8532S</td>\n",
       "      <td>Not_Delayed</td>\n",
       "    </tr>\n",
       "    <tr>\n",
       "      <th>999950</th>\n",
       "      <td>TRAIN_999950</td>\n",
       "      <td>11</td>\n",
       "      <td>7</td>\n",
       "      <td>1401.0</td>\n",
       "      <td>1950.0</td>\n",
       "      <td>0</td>\n",
       "      <td>0</td>\n",
       "      <td>PSP</td>\n",
       "      <td>14262</td>\n",
       "      <td>California</td>\n",
       "      <td>ORD</td>\n",
       "      <td>13930</td>\n",
       "      <td>Illinois</td>\n",
       "      <td>1652.0</td>\n",
       "      <td>United Air Lines Inc.</td>\n",
       "      <td>UA</td>\n",
       "      <td>19977.0</td>\n",
       "      <td>N896UA</td>\n",
       "      <td>Not_Delayed</td>\n",
       "    </tr>\n",
       "    <tr>\n",
       "      <th>999955</th>\n",
       "      <td>TRAIN_999955</td>\n",
       "      <td>4</td>\n",
       "      <td>12</td>\n",
       "      <td>1310.0</td>\n",
       "      <td>1356.0</td>\n",
       "      <td>0</td>\n",
       "      <td>0</td>\n",
       "      <td>SEA</td>\n",
       "      <td>14747</td>\n",
       "      <td>Washington</td>\n",
       "      <td>PDX</td>\n",
       "      <td>14057</td>\n",
       "      <td>Oregon</td>\n",
       "      <td>129.0</td>\n",
       "      <td>Horizon Air</td>\n",
       "      <td>AS</td>\n",
       "      <td>19687.0</td>\n",
       "      <td>N432QX</td>\n",
       "      <td>Delayed</td>\n",
       "    </tr>\n",
       "    <tr>\n",
       "      <th>999985</th>\n",
       "      <td>TRAIN_999985</td>\n",
       "      <td>8</td>\n",
       "      <td>8</td>\n",
       "      <td>1914.0</td>\n",
       "      <td>2039.0</td>\n",
       "      <td>0</td>\n",
       "      <td>0</td>\n",
       "      <td>RDU</td>\n",
       "      <td>14492</td>\n",
       "      <td>North Carolina</td>\n",
       "      <td>JAX</td>\n",
       "      <td>12451</td>\n",
       "      <td>Florida</td>\n",
       "      <td>407.0</td>\n",
       "      <td>Frontier Airlines Inc.</td>\n",
       "      <td>F9</td>\n",
       "      <td>20436.0</td>\n",
       "      <td>N316FR</td>\n",
       "      <td>Not_Delayed</td>\n",
       "    </tr>\n",
       "    <tr>\n",
       "      <th>999992</th>\n",
       "      <td>TRAIN_999992</td>\n",
       "      <td>12</td>\n",
       "      <td>30</td>\n",
       "      <td>1307.0</td>\n",
       "      <td>1707.0</td>\n",
       "      <td>0</td>\n",
       "      <td>0</td>\n",
       "      <td>JAC</td>\n",
       "      <td>12441</td>\n",
       "      <td>Wyoming</td>\n",
       "      <td>ORD</td>\n",
       "      <td>13930</td>\n",
       "      <td>Illinois</td>\n",
       "      <td>1162.0</td>\n",
       "      <td>United Air Lines Inc.</td>\n",
       "      <td>UA</td>\n",
       "      <td>19977.0</td>\n",
       "      <td>N17719</td>\n",
       "      <td>Not_Delayed</td>\n",
       "    </tr>\n",
       "  </tbody>\n",
       "</table>\n",
       "<p>113787 rows × 19 columns</p>\n",
       "</div>"
      ],
      "text/plain": [
       "                  ID  Month  Day_of_Month  Estimated_Departure_Time  \\\n",
       "13      TRAIN_000013      9            19                     615.0   \n",
       "19      TRAIN_000019      7            14                    1907.0   \n",
       "42      TRAIN_000042     10            24                    1005.0   \n",
       "59      TRAIN_000059      5             2                    1732.0   \n",
       "63      TRAIN_000063     12            28                    1820.0   \n",
       "...              ...    ...           ...                       ...   \n",
       "999943  TRAIN_999943      9            30                    1100.0   \n",
       "999950  TRAIN_999950     11             7                    1401.0   \n",
       "999955  TRAIN_999955      4            12                    1310.0   \n",
       "999985  TRAIN_999985      8             8                    1914.0   \n",
       "999992  TRAIN_999992     12            30                    1307.0   \n",
       "\n",
       "        Estimated_Arrival_Time  Cancelled  Diverted Origin_Airport  \\\n",
       "13                       706.0          0         0            MAF   \n",
       "19                      2145.0          0         0            BDL   \n",
       "42                      1130.0          0         0            ORD   \n",
       "59                      1935.0          0         0            RIC   \n",
       "63                      1925.0          0         0            OAK   \n",
       "...                        ...        ...       ...            ...   \n",
       "999943                  1155.0          0         0            IND   \n",
       "999950                  1950.0          0         0            PSP   \n",
       "999955                  1356.0          0         0            SEA   \n",
       "999985                  2039.0          0         0            RDU   \n",
       "999992                  1707.0          0         0            JAC   \n",
       "\n",
       "        Origin_Airport_ID    Origin_State Destination_Airport  \\\n",
       "13                  13158           Texas                 DEN   \n",
       "19                  10529     Connecticut                 ATL   \n",
       "42                  13930        Illinois                 STL   \n",
       "59                  14524        Virginia                 MCO   \n",
       "63                  13796      California                 BUR   \n",
       "...                   ...             ...                 ...   \n",
       "999943              12339         Indiana                 LAS   \n",
       "999950              14262      California                 ORD   \n",
       "999955              14747      Washington                 PDX   \n",
       "999985              14492  North Carolina                 JAX   \n",
       "999992              12441         Wyoming                 ORD   \n",
       "\n",
       "        Destination_Airport_ID Destination_State  Distance  \\\n",
       "13                       11292          Colorado     563.0   \n",
       "19                       10397           Georgia     859.0   \n",
       "42                       15016          Missouri     258.0   \n",
       "59                       13204           Florida     667.0   \n",
       "63                       10800        California     325.0   \n",
       "...                        ...               ...       ...   \n",
       "999943                   12889            Nevada    1590.0   \n",
       "999950                   13930          Illinois    1652.0   \n",
       "999955                   14057            Oregon     129.0   \n",
       "999985                   12451           Florida     407.0   \n",
       "999992                   13930          Illinois    1162.0   \n",
       "\n",
       "                       Airline Carrier_Code(IATA)  Carrier_ID(DOT)  \\\n",
       "13       SkyWest Airlines Inc.                 UA          20304.0   \n",
       "19        Delta Air Lines Inc.                 DL          19790.0   \n",
       "42       Trans States Airlines                 UA          20237.0   \n",
       "59             JetBlue Airways                 B6          20409.0   \n",
       "63      Southwest Airlines Co.                 WN          19393.0   \n",
       "...                        ...                ...              ...   \n",
       "999943  Southwest Airlines Co.                 WN          19393.0   \n",
       "999950   United Air Lines Inc.                 UA          19977.0   \n",
       "999955             Horizon Air                 AS          19687.0   \n",
       "999985  Frontier Airlines Inc.                 F9          20436.0   \n",
       "999992   United Air Lines Inc.                 UA          19977.0   \n",
       "\n",
       "       Tail_Number        Delay  \n",
       "13          N165SY  Not_Delayed  \n",
       "19          N962DN  Not_Delayed  \n",
       "42          N835HK  Not_Delayed  \n",
       "59          N258JB  Not_Delayed  \n",
       "63          N777QC  Not_Delayed  \n",
       "...            ...          ...  \n",
       "999943      N8532S  Not_Delayed  \n",
       "999950      N896UA  Not_Delayed  \n",
       "999955      N432QX      Delayed  \n",
       "999985      N316FR  Not_Delayed  \n",
       "999992      N17719  Not_Delayed  \n",
       "\n",
       "[113787 rows x 19 columns]"
      ]
     },
     "execution_count": 11,
     "metadata": {},
     "output_type": "execute_result"
    }
   ],
   "source": [
    "train = train.dropna(axis=0)\n",
    "train"
   ]
  },
  {
   "cell_type": "code",
   "execution_count": 12,
   "id": "d5280b86",
   "metadata": {},
   "outputs": [
    {
     "name": "stdout",
     "output_type": "stream",
     "text": [
      "Done.\n",
      "Done.\n"
     ]
    }
   ],
   "source": [
    "NaN_col = ['Origin_State','Destination_State','Airline','Estimated_Departure_Time', 'Estimated_Arrival_Time','Carrier_Code(IATA)','Carrier_ID(DOT)']\n",
    "\n",
    "for col in NaN_col:\n",
    "#     mode = train[col].mode()[0]\n",
    "#     train[col] = train[col].fillna(mode)\n",
    "    \n",
    "    if col in test.columns:\n",
    "        test[col] = test[col].fillna(train[col].mode()[0])\n",
    "print('Done.')\n",
    "\n",
    "qual_col = ['Origin_Airport', 'Origin_State', 'Destination_Airport', 'Destination_State', 'Airline', 'Carrier_Code(IATA)', 'Tail_Number']\n",
    "\n",
    "for i in qual_col:\n",
    "    le = LabelEncoder()\n",
    "    le=le.fit(train[i])\n",
    "    train[i]=le.transform(train[i])\n",
    "    \n",
    "    for label in np.unique(test[i]):\n",
    "        if label not in le.classes_: \n",
    "            le.classes_ = np.append(le.classes_, label)\n",
    "    test[i]=le.transform(test[i])\n",
    "print('Done.')"
   ]
  },
  {
   "cell_type": "code",
   "execution_count": 13,
   "id": "5bb1ab71",
   "metadata": {},
   "outputs": [],
   "source": [
    "# train = train.dropna()\n",
    "# column_number = {}\n",
    "# for i, column in enumerate(sample_submission.columns):\n",
    "#     column_number[column] = i\n",
    "    \n",
    "# def to_number(x, dic):\n",
    "#     return dic[x]\n",
    "\n",
    "# train.loc[:, 'Delay_num'] = train['Delay'].apply(lambda x: to_number(x, column_number))\n",
    "# print('Done.')"
   ]
  },
  {
   "cell_type": "code",
   "execution_count": 14,
   "id": "d3fac578",
   "metadata": {},
   "outputs": [],
   "source": [
    "# train['Delay'] = le.fit_transform(train['Delay'])"
   ]
  },
  {
   "cell_type": "code",
   "execution_count": 15,
   "id": "ba63f7d3",
   "metadata": {},
   "outputs": [],
   "source": [
    "train = train.drop(columns=['ID'])\n",
    "train = train.reset_index(drop=True)\n",
    "\n",
    "# train_y = train['Delay_num']\n",
    "# train_y = train_y.reset_index(drop=True)\n",
    "\n",
    "test = test.drop(columns=['ID'])"
   ]
  },
  {
   "cell_type": "code",
   "execution_count": 17,
   "id": "b8f1552d",
   "metadata": {},
   "outputs": [],
   "source": [
    "target = 'Delay'\n",
    "features = [c for c in train.columns if c not in [target]]"
   ]
  },
  {
   "cell_type": "code",
   "execution_count": 19,
   "id": "7dbe9058",
   "metadata": {},
   "outputs": [
    {
     "name": "stderr",
     "output_type": "stream",
     "text": [
      "\r",
      "0it [00:00, ?it/s]"
     ]
    },
    {
     "name": "stdout",
     "output_type": "stream",
     "text": [
      "0:\tlearn: 0.6878222\ttest: 0.6877996\tbest: 0.6877996 (0)\ttotal: 65.5ms\tremaining: 5m 27s\n",
      "2000:\tlearn: 0.4282721\ttest: 0.4355061\tbest: 0.4355061 (2000)\ttotal: 17.3s\tremaining: 25.9s\n",
      "4000:\tlearn: 0.4145342\ttest: 0.4346265\tbest: 0.4345817 (3881)\ttotal: 35.3s\tremaining: 8.8s\n"
     ]
    },
    {
     "name": "stderr",
     "output_type": "stream",
     "text": [
      "\r",
      "1it [00:36, 36.49s/it]"
     ]
    },
    {
     "name": "stdout",
     "output_type": "stream",
     "text": [
      "Stopped by overfitting detector  (200 iterations wait)\n",
      "\n",
      "bestTest = 0.4345817178\n",
      "bestIteration = 3881\n",
      "\n",
      "Shrink model to first 3882 iterations.\n",
      "0:\tlearn: 0.6878308\ttest: 0.6877573\tbest: 0.6877573 (0)\ttotal: 9.58ms\tremaining: 47.9s\n",
      "2000:\tlearn: 0.4281822\ttest: 0.4368638\tbest: 0.4368638 (2000)\ttotal: 17.5s\tremaining: 26.2s\n",
      "4000:\tlearn: 0.4145818\ttest: 0.4357239\tbest: 0.4357239 (4000)\ttotal: 35.1s\tremaining: 8.77s\n"
     ]
    },
    {
     "name": "stderr",
     "output_type": "stream",
     "text": [
      "\r",
      "2it [01:16, 38.45s/it]"
     ]
    },
    {
     "name": "stdout",
     "output_type": "stream",
     "text": [
      "Stopped by overfitting detector  (200 iterations wait)\n",
      "\n",
      "bestTest = 0.4356648997\n",
      "bestIteration = 4270\n",
      "\n",
      "Shrink model to first 4271 iterations.\n",
      "0:\tlearn: 0.6878093\ttest: 0.6878128\tbest: 0.6878128 (0)\ttotal: 10.1ms\tremaining: 50.7s\n",
      "2000:\tlearn: 0.4279416\ttest: 0.4401181\tbest: 0.4401172 (1997)\ttotal: 17.4s\tremaining: 26s\n",
      "4000:\tlearn: 0.4143673\ttest: 0.4385490\tbest: 0.4385205 (3958)\ttotal: 34.7s\tremaining: 8.67s\n"
     ]
    },
    {
     "name": "stderr",
     "output_type": "stream",
     "text": [
      "\r",
      "3it [02:00, 40.92s/it]"
     ]
    },
    {
     "name": "stdout",
     "output_type": "stream",
     "text": [
      "4999:\tlearn: 0.4085766\ttest: 0.4383592\tbest: 0.4383583 (4984)\ttotal: 43.3s\tremaining: 0us\n",
      "\n",
      "bestTest = 0.4383582895\n",
      "bestIteration = 4984\n",
      "\n",
      "Shrink model to first 4985 iterations.\n",
      "0:\tlearn: 0.6877971\ttest: 0.6878528\tbest: 0.6878528 (0)\ttotal: 10.8ms\tremaining: 53.9s\n",
      "2000:\tlearn: 0.4271292\ttest: 0.4458772\tbest: 0.4458609 (1984)\ttotal: 17.3s\tremaining: 25.9s\n"
     ]
    },
    {
     "name": "stderr",
     "output_type": "stream",
     "text": [
      "\r",
      "4it [02:22, 33.62s/it]"
     ]
    },
    {
     "name": "stdout",
     "output_type": "stream",
     "text": [
      "Stopped by overfitting detector  (200 iterations wait)\n",
      "\n",
      "bestTest = 0.4456582468\n",
      "bestIteration = 2313\n",
      "\n",
      "Shrink model to first 2314 iterations.\n",
      "0:\tlearn: 0.6878297\ttest: 0.6877745\tbest: 0.6877745 (0)\ttotal: 10.4ms\tremaining: 52.1s\n",
      "2000:\tlearn: 0.4284997\ttest: 0.4332948\tbest: 0.4332947 (1999)\ttotal: 20.5s\tremaining: 30.7s\n",
      "4000:\tlearn: 0.4151070\ttest: 0.4325099\tbest: 0.4325077 (3998)\ttotal: 39.4s\tremaining: 9.84s\n"
     ]
    },
    {
     "name": "stderr",
     "output_type": "stream",
     "text": [
      "\r",
      "5it [03:08, 38.13s/it]"
     ]
    },
    {
     "name": "stdout",
     "output_type": "stream",
     "text": [
      "Stopped by overfitting detector  (200 iterations wait)\n",
      "\n",
      "bestTest = 0.4324245893\n",
      "bestIteration = 4470\n",
      "\n",
      "Shrink model to first 4471 iterations.\n",
      "0:\tlearn: 0.6878182\ttest: 0.6877851\tbest: 0.6877851 (0)\ttotal: 8.19ms\tremaining: 40.9s\n",
      "2000:\tlearn: 0.4283868\ttest: 0.4366076\tbest: 0.4366073 (1999)\ttotal: 19.2s\tremaining: 28.7s\n",
      "4000:\tlearn: 0.4147686\ttest: 0.4354361\tbest: 0.4354305 (3989)\ttotal: 37.9s\tremaining: 9.47s\n"
     ]
    },
    {
     "name": "stderr",
     "output_type": "stream",
     "text": [
      "\r",
      "6it [03:50, 39.32s/it]"
     ]
    },
    {
     "name": "stdout",
     "output_type": "stream",
     "text": [
      "Stopped by overfitting detector  (200 iterations wait)\n",
      "\n",
      "bestTest = 0.4353388641\n",
      "bestIteration = 4156\n",
      "\n",
      "Shrink model to first 4157 iterations.\n",
      "0:\tlearn: 0.6878089\ttest: 0.6878194\tbest: 0.6878194 (0)\ttotal: 8.19ms\tremaining: 40.9s\n",
      "2000:\tlearn: 0.4281582\ttest: 0.4388975\tbest: 0.4388948 (1998)\ttotal: 17.8s\tremaining: 26.6s\n",
      "4000:\tlearn: 0.4145497\ttest: 0.4379087\tbest: 0.4378892 (3966)\ttotal: 35.7s\tremaining: 8.9s\n"
     ]
    },
    {
     "name": "stderr",
     "output_type": "stream",
     "text": [
      "\r",
      "7it [04:29, 39.28s/it]"
     ]
    },
    {
     "name": "stdout",
     "output_type": "stream",
     "text": [
      "Stopped by overfitting detector  (200 iterations wait)\n",
      "\n",
      "bestTest = 0.4378590408\n",
      "bestIteration = 4115\n",
      "\n",
      "Shrink model to first 4116 iterations.\n",
      "0:\tlearn: 0.6878170\ttest: 0.6877953\tbest: 0.6877953 (0)\ttotal: 13ms\tremaining: 1m 4s\n",
      "2000:\tlearn: 0.4279234\ttest: 0.4382728\tbest: 0.4382712 (1998)\ttotal: 18.1s\tremaining: 27.2s\n",
      "4000:\tlearn: 0.4144513\ttest: 0.4365915\tbest: 0.4365781 (3858)\ttotal: 36.2s\tremaining: 9.04s\n"
     ]
    },
    {
     "name": "stderr",
     "output_type": "stream",
     "text": [
      "\r",
      "8it [05:11, 40.20s/it]"
     ]
    },
    {
     "name": "stdout",
     "output_type": "stream",
     "text": [
      "Stopped by overfitting detector  (200 iterations wait)\n",
      "\n",
      "bestTest = 0.4364941164\n",
      "bestIteration = 4382\n",
      "\n",
      "Shrink model to first 4383 iterations.\n",
      "0:\tlearn: 0.6877933\ttest: 0.6878703\tbest: 0.6878703 (0)\ttotal: 11.4ms\tremaining: 56.9s\n",
      "2000:\tlearn: 0.4270324\ttest: 0.4471126\tbest: 0.4471126 (2000)\ttotal: 17.9s\tremaining: 26.9s\n"
     ]
    },
    {
     "name": "stderr",
     "output_type": "stream",
     "text": [
      "\r",
      "9it [05:48, 39.01s/it]"
     ]
    },
    {
     "name": "stdout",
     "output_type": "stream",
     "text": [
      "Stopped by overfitting detector  (200 iterations wait)\n",
      "\n",
      "bestTest = 0.4462912209\n",
      "bestIteration = 3682\n",
      "\n",
      "Shrink model to first 3683 iterations.\n",
      "0:\tlearn: 0.6878013\ttest: 0.6878305\tbest: 0.6878305 (0)\ttotal: 9.21ms\tremaining: 46s\n",
      "2000:\tlearn: 0.4276933\ttest: 0.4419723\tbest: 0.4419723 (2000)\ttotal: 19s\tremaining: 28.4s\n",
      "4000:\tlearn: 0.4141680\ttest: 0.4412495\tbest: 0.4412383 (3856)\ttotal: 37.4s\tremaining: 9.34s\n"
     ]
    },
    {
     "name": "stderr",
     "output_type": "stream",
     "text": [
      "10it [06:26, 38.66s/it]"
     ]
    },
    {
     "name": "stdout",
     "output_type": "stream",
     "text": [
      "Stopped by overfitting detector  (200 iterations wait)\n",
      "\n",
      "bestTest = 0.4412382792\n",
      "bestIteration = 3856\n",
      "\n",
      "Shrink model to first 3857 iterations.\n"
     ]
    },
    {
     "name": "stderr",
     "output_type": "stream",
     "text": [
      "\n"
     ]
    }
   ],
   "source": [
    "from catboost import CatBoostClassifier\n",
    "from lightgbm import LGBMClassifier\n",
    "from xgboost import XGBClassifier\n",
    "from sklearn.metrics import log_loss\n",
    "from sklearn.model_selection import KFold, StratifiedKFold\n",
    "from sklearn.model_selection import GridSearchCV\n",
    "from tqdm import tqdm\n",
    "\n",
    "kf = KFold(n_splits = 10, random_state = 41, shuffle = True)\n",
    "models = []\n",
    "val_scores = []\n",
    "preds = []\n",
    "\n",
    "params = {\n",
    "'n_estimators':5000,\n",
    "'max_depth':6,\n",
    "'early_stopping_rounds':200,\n",
    "'learning_rate':0.01,\n",
    "'one_hot_max_size':3,\n",
    "'bootstrap_type':\"MVS\",\n",
    "'l2_leaf_reg':2,\n",
    "'random_state':41\n",
    "         }\n",
    "\n",
    "# bundle = [CatBoostClassifier, LGBMClassifier, XGBClassifier]\n",
    "# for model in bundle:\n",
    "# model = CatBoostClassifier(**params)\n",
    "for i, (train_index, val_index) in tqdm(enumerate(kf.split(train, train[target]))):\n",
    "\n",
    "        # clf.fit(train_x, train_y)\n",
    "\n",
    "        X_train, X_val = train[features].loc[train_index], train[features].loc[val_index]\n",
    "        y_train, y_val = train[target][train_index], train[target][val_index]\n",
    "\n",
    "        model = CatBoostClassifier(**params)\n",
    "\n",
    "        model.fit(X_train, y_train, eval_set = [(X_val, y_val)], verbose = 2000)\n",
    "\n",
    "        models.append(model)\n",
    "        score = log_loss(y_val, model.predict_proba(X_val))\n",
    "\n",
    "        val_scores.append(score)"
   ]
  },
  {
   "cell_type": "code",
   "execution_count": 20,
   "id": "88fc9b40",
   "metadata": {},
   "outputs": [
    {
     "data": {
      "text/plain": [
       "[0.43458171775239673,\n",
       " 0.4356648996813724,\n",
       " 0.4383582894949309,\n",
       " 0.44565824682683775,\n",
       " 0.43242458927469923,\n",
       " 0.4353388641482646,\n",
       " 0.43785904076377596,\n",
       " 0.43649411638636254,\n",
       " 0.44629122094531626,\n",
       " 0.4412382792435065]"
      ]
     },
     "execution_count": 20,
     "metadata": {},
     "output_type": "execute_result"
    }
   ],
   "source": [
    "val_scores"
   ]
  },
  {
   "cell_type": "code",
   "execution_count": 21,
   "id": "627fbf89",
   "metadata": {},
   "outputs": [],
   "source": [
    "cat_preds = []\n",
    "for model in models[:10]:\n",
    "    preds = model.predict_proba(test[features])\n",
    "    cat_preds.append(preds)"
   ]
  },
  {
   "cell_type": "code",
   "execution_count": 22,
   "id": "872f78a6",
   "metadata": {},
   "outputs": [],
   "source": [
    "pred = np.array(cat_preds).mean(axis=0)\n",
    "\n",
    "submission = pd.DataFrame(data=pred, columns=sample_submission.columns, index=sample_submission.index)\n",
    "submission.to_csv('baseline_submission.csv', index=True)"
   ]
  },
  {
   "cell_type": "code",
   "execution_count": null,
   "id": "c03d089f",
   "metadata": {},
   "outputs": [],
   "source": []
  }
 ],
 "metadata": {
  "kernelspec": {
   "display_name": "Python 3 (ipykernel)",
   "language": "python",
   "name": "python3"
  },
  "language_info": {
   "codemirror_mode": {
    "name": "ipython",
    "version": 3
   },
   "file_extension": ".py",
   "mimetype": "text/x-python",
   "name": "python",
   "nbconvert_exporter": "python",
   "pygments_lexer": "ipython3",
   "version": "3.8.13"
  }
 },
 "nbformat": 4,
 "nbformat_minor": 5
}
