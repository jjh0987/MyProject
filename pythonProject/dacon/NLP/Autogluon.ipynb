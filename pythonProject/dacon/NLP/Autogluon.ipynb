{
 "cells": [
  {
   "cell_type": "code",
   "execution_count": 4,
   "metadata": {
    "id": "riShxMCe2OOr",
    "scrolled": true
   },
   "outputs": [
    {
     "name": "stdout",
     "output_type": "stream",
     "text": [
      "\u001b[33mDEPRECATION: Configuring installation scheme with distutils config files is deprecated and will no longer work in the near future. If you are using a Homebrew or Linuxbrew Python, please see discussion at https://github.com/Homebrew/homebrew-core/issues/76621\u001b[0m\u001b[33m\n",
      "\u001b[0mRequirement already satisfied: pip in /opt/homebrew/lib/python3.9/site-packages (22.1.1)\n",
      "Collecting pip\n",
      "  Downloading pip-22.3.1-py3-none-any.whl (2.1 MB)\n",
      "\u001b[2K     \u001b[90m━━━━━━━━━━━━━━━━━━━━━━━━━━━━━━━━━━━━━━━━\u001b[0m \u001b[32m2.1/2.1 MB\u001b[0m \u001b[31m353.9 kB/s\u001b[0m eta \u001b[36m0:00:00\u001b[0m00:01\u001b[0m00:01\u001b[0m\n",
      "\u001b[?25hInstalling collected packages: pip\n",
      "  Attempting uninstall: pip\n",
      "    Found existing installation: pip 22.1.1\n",
      "    Uninstalling pip-22.1.1:\n",
      "      Successfully uninstalled pip-22.1.1\n",
      "\u001b[33m  DEPRECATION: Configuring installation scheme with distutils config files is deprecated and will no longer work in the near future. If you are using a Homebrew or Linuxbrew Python, please see discussion at https://github.com/Homebrew/homebrew-core/issues/76621\u001b[0m\u001b[33m\n",
      "\u001b[0m\u001b[33mDEPRECATION: Configuring installation scheme with distutils config files is deprecated and will no longer work in the near future. If you are using a Homebrew or Linuxbrew Python, please see discussion at https://github.com/Homebrew/homebrew-core/issues/76621\u001b[0m\u001b[33m\n",
      "\u001b[0mSuccessfully installed pip-22.3.1\n",
      "\u001b[33mDEPRECATION: Configuring installation scheme with distutils config files is deprecated and will no longer work in the near future. If you are using a Homebrew or Linuxbrew Python, please see discussion at https://github.com/Homebrew/homebrew-core/issues/76621\u001b[0m\u001b[33m\n",
      "\u001b[0mRequirement already satisfied: setuptools in /opt/homebrew/lib/python3.9/site-packages (62.3.2)\n",
      "Collecting setuptools\n",
      "  Using cached setuptools-65.6.0-py3-none-any.whl (1.2 MB)\n",
      "Requirement already satisfied: wheel in /opt/homebrew/lib/python3.9/site-packages (0.37.1)\n",
      "Collecting wheel\n",
      "  Using cached wheel-0.38.4-py3-none-any.whl (36 kB)\n",
      "Installing collected packages: wheel, setuptools\n",
      "  Attempting uninstall: wheel\n",
      "    Found existing installation: wheel 0.37.1\n",
      "    Uninstalling wheel-0.37.1:\n",
      "      Successfully uninstalled wheel-0.37.1\n",
      "\u001b[33m  DEPRECATION: Configuring installation scheme with distutils config files is deprecated and will no longer work in the near future. If you are using a Homebrew or Linuxbrew Python, please see discussion at https://github.com/Homebrew/homebrew-core/issues/76621\u001b[0m\u001b[33m\n",
      "\u001b[0m  Attempting uninstall: setuptools\n",
      "    Found existing installation: setuptools 62.3.2\n",
      "    Uninstalling setuptools-62.3.2:\n",
      "      Successfully uninstalled setuptools-62.3.2\n",
      "\u001b[33m  DEPRECATION: Configuring installation scheme with distutils config files is deprecated and will no longer work in the near future. If you are using a Homebrew or Linuxbrew Python, please see discussion at https://github.com/Homebrew/homebrew-core/issues/76621\u001b[0m\u001b[33m\n",
      "\u001b[0m\u001b[33mDEPRECATION: Configuring installation scheme with distutils config files is deprecated and will no longer work in the near future. If you are using a Homebrew or Linuxbrew Python, please see discussion at https://github.com/Homebrew/homebrew-core/issues/76621\u001b[0m\u001b[33m\n",
      "\u001b[0mSuccessfully installed setuptools-65.6.0 wheel-0.38.4\n",
      "\u001b[33mDEPRECATION: Configuring installation scheme with distutils config files is deprecated and will no longer work in the near future. If you are using a Homebrew or Linuxbrew Python, please see discussion at https://github.com/Homebrew/homebrew-core/issues/76621\u001b[0m\u001b[33m\n",
      "\u001b[0mLooking in links: https://download.pytorch.org/whl/cpu/torch_stable.html\n",
      "\u001b[31mERROR: Could not find a version that satisfies the requirement torch==1.12+cpu (from versions: 1.9.0, 1.9.1, 1.10.0, 1.10.1, 1.10.2, 1.11.0, 1.12.0, 1.12.1, 1.13.0)\u001b[0m\u001b[31m\n",
      "\u001b[0m\u001b[31mERROR: No matching distribution found for torch==1.12+cpu\u001b[0m\u001b[31m\n",
      "\u001b[0m\u001b[33mDEPRECATION: Configuring installation scheme with distutils config files is deprecated and will no longer work in the near future. If you are using a Homebrew or Linuxbrew Python, please see discussion at https://github.com/Homebrew/homebrew-core/issues/76621\u001b[0m\u001b[33m\n",
      "\u001b[0mCollecting autogluon\n",
      "  Using cached autogluon-0.6.0-py3-none-any.whl (9.8 kB)\n",
      "Collecting autogluon.multimodal==0.6.0\n",
      "  Using cached autogluon.multimodal-0.6.0-py3-none-any.whl (279 kB)\n",
      "Collecting autogluon.text==0.6.0\n",
      "  Using cached autogluon.text-0.6.0-py3-none-any.whl (62 kB)\n",
      "Collecting autogluon.vision==0.6.0\n",
      "  Using cached autogluon.vision-0.6.0-py3-none-any.whl (49 kB)\n",
      "Collecting autogluon.tabular[all]==0.6.0\n",
      "  Using cached autogluon.tabular-0.6.0-py3-none-any.whl (285 kB)\n",
      "Collecting autogluon.timeseries[all]==0.6.0\n",
      "  Using cached autogluon.timeseries-0.6.0-py3-none-any.whl (101 kB)\n",
      "Collecting autogluon.features==0.6.0\n",
      "  Using cached autogluon.features-0.6.0-py3-none-any.whl (59 kB)\n",
      "Collecting autogluon.core[all]==0.6.0\n",
      "  Using cached autogluon.core-0.6.0-py3-none-any.whl (224 kB)\n",
      "Collecting boto3\n",
      "  Using cached boto3-1.26.15-py3-none-any.whl (132 kB)\n",
      "Requirement already satisfied: scipy<1.10.0,>=1.5.4 in /opt/homebrew/lib/python3.9/site-packages (from autogluon.core[all]==0.6.0->autogluon) (1.8.1)\n",
      "Requirement already satisfied: scikit-learn<1.2,>=1.0.0 in /opt/homebrew/lib/python3.9/site-packages (from autogluon.core[all]==0.6.0->autogluon) (1.1.3)\n",
      "Collecting autogluon.common==0.6.0\n",
      "  Using cached autogluon.common-0.6.0-py3-none-any.whl (41 kB)\n",
      "Requirement already satisfied: numpy<1.24,>=1.21 in /opt/homebrew/lib/python3.9/site-packages (from autogluon.core[all]==0.6.0->autogluon) (1.22.4)\n",
      "Requirement already satisfied: dask<=2021.11.2,>=2021.09.1 in /opt/homebrew/lib/python3.9/site-packages (from autogluon.core[all]==0.6.0->autogluon) (2021.11.2)\n",
      "Collecting distributed<=2021.11.2,>=2021.09.1\n",
      "  Using cached distributed-2021.11.2-py3-none-any.whl (802 kB)\n",
      "Requirement already satisfied: tqdm>=4.38.0 in /opt/homebrew/lib/python3.9/site-packages (from autogluon.core[all]==0.6.0->autogluon) (4.64.1)\n",
      "Requirement already satisfied: requests in /opt/homebrew/lib/python3.9/site-packages (from autogluon.core[all]==0.6.0->autogluon) (2.28.1)\n",
      "Requirement already satisfied: pandas!=1.4.0,<1.6,>=1.2.5 in /opt/homebrew/lib/python3.9/site-packages (from autogluon.core[all]==0.6.0->autogluon) (1.5.1)\n",
      "Requirement already satisfied: matplotlib in /opt/homebrew/lib/python3.9/site-packages (from autogluon.core[all]==0.6.0->autogluon) (3.6.2)\n",
      "Requirement already satisfied: ray[tune]<2.1,>=2.0 in /opt/homebrew/lib/python3.9/site-packages (from autogluon.core[all]==0.6.0->autogluon) (2.0.1)\n",
      "Requirement already satisfied: hyperopt<0.2.8,>=0.2.7 in /opt/homebrew/lib/python3.9/site-packages (from autogluon.core[all]==0.6.0->autogluon) (0.2.7)\n",
      "Requirement already satisfied: psutil<6,>=5.7.3 in /opt/homebrew/lib/python3.9/site-packages (from autogluon.features==0.6.0->autogluon) (5.8.0)\n",
      "Collecting evaluate<=0.2.2\n",
      "  Using cached evaluate-0.2.2-py3-none-any.whl (69 kB)\n",
      "Requirement already satisfied: defusedxml<=0.7.1,>=0.7.1 in /opt/homebrew/lib/python3.9/site-packages (from autogluon.multimodal==0.6.0->autogluon) (0.7.1)\n",
      "Requirement already satisfied: nlpaug<=1.1.10,>=1.1.10 in /opt/homebrew/lib/python3.9/site-packages (from autogluon.multimodal==0.6.0->autogluon) (1.1.10)\n",
      "Requirement already satisfied: sentencepiece<0.2.0,>=0.1.95 in /opt/homebrew/lib/python3.9/site-packages (from autogluon.multimodal==0.6.0->autogluon) (0.1.97)\n",
      "Requirement already satisfied: torchmetrics<0.9.0,>=0.8.0 in /opt/homebrew/lib/python3.9/site-packages (from autogluon.multimodal==0.6.0->autogluon) (0.8.2)\n",
      "Requirement already satisfied: omegaconf<2.2.0,>=2.1.1 in /opt/homebrew/lib/python3.9/site-packages (from autogluon.multimodal==0.6.0->autogluon) (2.1.2)\n",
      "Requirement already satisfied: fairscale<=0.4.6,>=0.4.5 in /opt/homebrew/lib/python3.9/site-packages (from autogluon.multimodal==0.6.0->autogluon) (0.4.6)\n",
      "Collecting albumentations<=1.2.0,>=1.1.0\n",
      "  Using cached albumentations-1.2.0-py3-none-any.whl (113 kB)\n",
      "Requirement already satisfied: Pillow<9.1.0,>=9.0.1 in /opt/homebrew/lib/python3.9/site-packages (from autogluon.multimodal==0.6.0->autogluon) (9.0.1)\n",
      "Collecting pytorch-lightning<1.8.0,>=1.7.4\n",
      "  Using cached pytorch_lightning-1.7.7-py3-none-any.whl (708 kB)\n",
      "Requirement already satisfied: smart-open<5.3.0,>=5.2.1 in /opt/homebrew/lib/python3.9/site-packages (from autogluon.multimodal==0.6.0->autogluon) (5.2.1)\n",
      "Requirement already satisfied: seqeval<=1.2.2 in /opt/homebrew/lib/python3.9/site-packages (from autogluon.multimodal==0.6.0->autogluon) (1.2.2)\n",
      "Requirement already satisfied: transformers<4.24.0,>=4.23.0 in /opt/homebrew/lib/python3.9/site-packages (from autogluon.multimodal==0.6.0->autogluon) (4.23.1)\n"
     ]
    },
    {
     "name": "stdout",
     "output_type": "stream",
     "text": [
      "Collecting openmim<=0.2.1,>0.1.5\n",
      "  Using cached openmim-0.2.1-py2.py3-none-any.whl (49 kB)\n",
      "Requirement already satisfied: nltk<4.0.0,>=3.4.5 in /opt/homebrew/lib/python3.9/site-packages (from autogluon.multimodal==0.6.0->autogluon) (3.7)\n",
      "Requirement already satisfied: torch<1.13,>=1.9 in /opt/homebrew/lib/python3.9/site-packages (from autogluon.multimodal==0.6.0->autogluon) (1.12.1)\n",
      "Requirement already satisfied: pycocotools<2.0.7,>=2.0.5 in /opt/homebrew/lib/python3.9/site-packages (from autogluon.multimodal==0.6.0->autogluon) (2.0.6)\n",
      "Requirement already satisfied: pytorch-metric-learning<1.4.0,>=1.3.0 in /opt/homebrew/lib/python3.9/site-packages (from autogluon.multimodal==0.6.0->autogluon) (1.3.2)\n",
      "Requirement already satisfied: timm<0.7.0 in /opt/homebrew/lib/python3.9/site-packages (from autogluon.multimodal==0.6.0->autogluon) (0.6.11)\n",
      "Requirement already satisfied: torchvision<0.14.0 in /opt/homebrew/lib/python3.9/site-packages (from autogluon.multimodal==0.6.0->autogluon) (0.13.1)\n",
      "Requirement already satisfied: torchtext<0.14.0 in /opt/homebrew/lib/python3.9/site-packages (from autogluon.multimodal==0.6.0->autogluon) (0.13.1)\n",
      "Requirement already satisfied: nptyping<1.5.0,>=1.4.4 in /opt/homebrew/lib/python3.9/site-packages (from autogluon.multimodal==0.6.0->autogluon) (1.4.4)\n",
      "Requirement already satisfied: jsonschema<=4.8.0 in /opt/homebrew/lib/python3.9/site-packages (from autogluon.multimodal==0.6.0->autogluon) (4.8.0)\n",
      "Requirement already satisfied: text-unidecode<=1.3 in /opt/homebrew/lib/python3.9/site-packages (from autogluon.multimodal==0.6.0->autogluon) (1.3)\n",
      "Requirement already satisfied: accelerate<0.14,>=0.9 in /opt/homebrew/lib/python3.9/site-packages (from autogluon.multimodal==0.6.0->autogluon) (0.13.2)\n",
      "Requirement already satisfied: scikit-image<0.20.0,>=0.19.1 in /opt/homebrew/lib/python3.9/site-packages (from autogluon.multimodal==0.6.0->autogluon) (0.19.3)\n",
      "Requirement already satisfied: networkx<3.0,>=2.3 in /opt/homebrew/lib/python3.9/site-packages (from autogluon.tabular[all]==0.6.0->autogluon) (2.8.8)\n",
      "Requirement already satisfied: xgboost<1.8,>=1.6 in /opt/homebrew/lib/python3.9/site-packages (from autogluon.tabular[all]==0.6.0->autogluon) (1.7.1)\n",
      "Collecting lightgbm<3.4,>=3.3\n",
      "  Using cached lightgbm-3.3.3.tar.gz (1.5 MB)\n",
      "  Preparing metadata (setup.py) ... \u001b[?25ldone\n",
      "\u001b[?25hCollecting fastai<2.8,>=2.3.1\n",
      "  Using cached fastai-2.7.10-py3-none-any.whl (240 kB)\n",
      "Collecting catboost<1.2,>=1.0\n",
      "  Using cached catboost-1.1.1-cp39-none-macosx_10_6_universal2.whl (22.0 MB)\n",
      "Requirement already satisfied: gluonts~=0.11.0 in /opt/homebrew/lib/python3.9/site-packages (from autogluon.timeseries[all]==0.6.0->autogluon) (0.11.2)\n",
      "Requirement already satisfied: statsmodels~=0.13.0 in /opt/homebrew/lib/python3.9/site-packages (from autogluon.timeseries[all]==0.6.0->autogluon) (0.13.5)\n",
      "Requirement already satisfied: joblib~=1.1 in /opt/homebrew/lib/python3.9/site-packages (from autogluon.timeseries[all]==0.6.0->autogluon) (1.2.0)\n",
      "Requirement already satisfied: pmdarima~=1.8.2 in /opt/homebrew/lib/python3.9/site-packages (from autogluon.timeseries[all]==0.6.0->autogluon) (1.8.5)\n",
      "Requirement already satisfied: sktime<0.14,>=0.13.1 in /opt/homebrew/lib/python3.9/site-packages (from autogluon.timeseries[all]==0.6.0->autogluon) (0.13.4)\n",
      "Collecting tbats~=1.1\n",
      "  Using cached tbats-1.1.1-py3-none-any.whl (43 kB)\n",
      "Collecting gluoncv<0.10.6,>=0.10.5\n",
      "  Using cached gluoncv-0.10.5.post0-py2.py3-none-any.whl (1.3 MB)\n",
      "Requirement already satisfied: setuptools in /opt/homebrew/lib/python3.9/site-packages (from autogluon.common==0.6.0->autogluon.core[all]==0.6.0->autogluon) (65.6.0)\n",
      "Requirement already satisfied: packaging>=20.0 in /Users/parkjubro/Library/Python/3.9/lib/python/site-packages (from accelerate<0.14,>=0.9->autogluon.multimodal==0.6.0->autogluon) (21.3)\n",
      "Requirement already satisfied: pyyaml in /opt/homebrew/lib/python3.9/site-packages (from accelerate<0.14,>=0.9->autogluon.multimodal==0.6.0->autogluon) (6.0)\n",
      "Collecting albumentations<=1.2.0,>=1.1.0\n",
      "  Using cached albumentations-1.1.0-py3-none-any.whl (102 kB)\n",
      "Requirement already satisfied: qudida>=0.0.4 in /opt/homebrew/lib/python3.9/site-packages (from albumentations<=1.2.0,>=1.1.0->autogluon.multimodal==0.6.0->autogluon) (0.0.4)\n",
      "Requirement already satisfied: opencv-python-headless>=4.1.1 in /opt/homebrew/lib/python3.9/site-packages (from albumentations<=1.2.0,>=1.1.0->autogluon.multimodal==0.6.0->autogluon) (4.6.0.66)\n",
      "Requirement already satisfied: graphviz in /opt/homebrew/lib/python3.9/site-packages (from catboost<1.2,>=1.0->autogluon.tabular[all]==0.6.0->autogluon) (0.20.1)\n",
      "Requirement already satisfied: plotly in /opt/homebrew/lib/python3.9/site-packages (from catboost<1.2,>=1.0->autogluon.tabular[all]==0.6.0->autogluon) (5.11.0)\n",
      "Requirement already satisfied: six in /opt/homebrew/lib/python3.9/site-packages (from catboost<1.2,>=1.0->autogluon.tabular[all]==0.6.0->autogluon) (1.16.0)\n",
      "Requirement already satisfied: partd>=0.3.10 in /opt/homebrew/lib/python3.9/site-packages (from dask<=2021.11.2,>=2021.09.1->autogluon.core[all]==0.6.0->autogluon) (1.3.0)\n",
      "Requirement already satisfied: toolz>=0.8.2 in /opt/homebrew/lib/python3.9/site-packages (from dask<=2021.11.2,>=2021.09.1->autogluon.core[all]==0.6.0->autogluon) (0.12.0)\n",
      "Requirement already satisfied: fsspec>=0.6.0 in /opt/homebrew/lib/python3.9/site-packages (from dask<=2021.11.2,>=2021.09.1->autogluon.core[all]==0.6.0->autogluon) (2022.11.0)\n",
      "Requirement already satisfied: cloudpickle>=1.1.1 in /opt/homebrew/lib/python3.9/site-packages (from dask<=2021.11.2,>=2021.09.1->autogluon.core[all]==0.6.0->autogluon) (2.2.0)\n",
      "Requirement already satisfied: jinja2 in /opt/homebrew/lib/python3.9/site-packages (from distributed<=2021.11.2,>=2021.09.1->autogluon.core[all]==0.6.0->autogluon) (3.1.2)\n",
      "Requirement already satisfied: tblib>=1.6.0 in /opt/homebrew/lib/python3.9/site-packages (from distributed<=2021.11.2,>=2021.09.1->autogluon.core[all]==0.6.0->autogluon) (1.7.0)\n",
      "Requirement already satisfied: msgpack>=0.6.0 in /opt/homebrew/lib/python3.9/site-packages (from distributed<=2021.11.2,>=2021.09.1->autogluon.core[all]==0.6.0->autogluon) (1.0.4)\n",
      "Requirement already satisfied: tornado>=6.0.3 in /Users/parkjubro/Library/Python/3.9/lib/python/site-packages (from distributed<=2021.11.2,>=2021.09.1->autogluon.core[all]==0.6.0->autogluon) (6.2)\n",
      "Requirement already satisfied: zict>=0.1.3 in /opt/homebrew/lib/python3.9/site-packages (from distributed<=2021.11.2,>=2021.09.1->autogluon.core[all]==0.6.0->autogluon) (2.2.0)\n",
      "Requirement already satisfied: click>=6.6 in /opt/homebrew/lib/python3.9/site-packages (from distributed<=2021.11.2,>=2021.09.1->autogluon.core[all]==0.6.0->autogluon) (8.0.4)\n",
      "Requirement already satisfied: sortedcontainers!=2.0.0,!=2.0.1 in /opt/homebrew/lib/python3.9/site-packages (from distributed<=2021.11.2,>=2021.09.1->autogluon.core[all]==0.6.0->autogluon) (2.4.0)\n",
      "Collecting datasets>=2.0.0\n",
      "  Using cached datasets-2.7.1-py3-none-any.whl (451 kB)\n",
      "Requirement already satisfied: xxhash in /opt/homebrew/lib/python3.9/site-packages (from evaluate<=0.2.2->autogluon.multimodal==0.6.0->autogluon) (3.1.0)\n",
      "Requirement already satisfied: huggingface-hub>=0.7.0 in /opt/homebrew/lib/python3.9/site-packages (from evaluate<=0.2.2->autogluon.multimodal==0.6.0->autogluon) (0.11.0)\n",
      "Requirement already satisfied: dill in /opt/homebrew/lib/python3.9/site-packages (from evaluate<=0.2.2->autogluon.multimodal==0.6.0->autogluon) (0.3.6)\n",
      "Requirement already satisfied: responses<0.19 in /opt/homebrew/lib/python3.9/site-packages (from evaluate<=0.2.2->autogluon.multimodal==0.6.0->autogluon) (0.18.0)\n",
      "Requirement already satisfied: multiprocess in /opt/homebrew/lib/python3.9/site-packages (from evaluate<=0.2.2->autogluon.multimodal==0.6.0->autogluon) (0.70.14)\n",
      "Requirement already satisfied: fastcore<1.6,>=1.4.5 in /opt/homebrew/lib/python3.9/site-packages (from fastai<2.8,>=2.3.1->autogluon.tabular[all]==0.6.0->autogluon) (1.5.27)\n",
      "Collecting spacy<4\n",
      "  Using cached spacy-3.4.3-cp39-cp39-macosx_11_0_arm64.whl (6.5 MB)\n",
      "Requirement already satisfied: fastprogress>=0.2.4 in /opt/homebrew/lib/python3.9/site-packages (from fastai<2.8,>=2.3.1->autogluon.tabular[all]==0.6.0->autogluon) (1.0.3)\n",
      "Requirement already satisfied: fastdownload<2,>=0.0.5 in /opt/homebrew/lib/python3.9/site-packages (from fastai<2.8,>=2.3.1->autogluon.tabular[all]==0.6.0->autogluon) (0.0.7)\n",
      "Requirement already satisfied: pip in /opt/homebrew/lib/python3.9/site-packages (from fastai<2.8,>=2.3.1->autogluon.tabular[all]==0.6.0->autogluon) (22.3.1)\n",
      "Requirement already satisfied: portalocker in /opt/homebrew/lib/python3.9/site-packages (from gluoncv<0.10.6,>=0.10.5->autogluon.vision==0.6.0->autogluon) (2.6.0)\n",
      "Requirement already satisfied: autocfg in /opt/homebrew/lib/python3.9/site-packages (from gluoncv<0.10.6,>=0.10.5->autogluon.vision==0.6.0->autogluon) (0.0.8)\n",
      "Requirement already satisfied: opencv-python in /opt/homebrew/lib/python3.9/site-packages (from gluoncv<0.10.6,>=0.10.5->autogluon.vision==0.6.0->autogluon) (4.6.0.66)\n",
      "Requirement already satisfied: yacs in /opt/homebrew/lib/python3.9/site-packages (from gluoncv<0.10.6,>=0.10.5->autogluon.vision==0.6.0->autogluon) (0.1.8)\n"
     ]
    },
    {
     "name": "stdout",
     "output_type": "stream",
     "text": [
      "Requirement already satisfied: pydantic~=1.7 in /opt/homebrew/lib/python3.9/site-packages (from gluonts~=0.11.0->autogluon.timeseries[all]==0.6.0->autogluon) (1.10.2)\n",
      "Requirement already satisfied: typing-extensions~=4.0 in /opt/homebrew/lib/python3.9/site-packages (from gluonts~=0.11.0->autogluon.timeseries[all]==0.6.0->autogluon) (4.4.0)\n",
      "Requirement already satisfied: future in /opt/homebrew/lib/python3.9/site-packages (from hyperopt<0.2.8,>=0.2.7->autogluon.core[all]==0.6.0->autogluon) (0.18.2)\n",
      "Requirement already satisfied: py4j in /opt/homebrew/lib/python3.9/site-packages (from hyperopt<0.2.8,>=0.2.7->autogluon.core[all]==0.6.0->autogluon) (0.10.9.7)\n",
      "Requirement already satisfied: pyrsistent!=0.17.0,!=0.17.1,!=0.17.2,>=0.14.0 in /opt/homebrew/lib/python3.9/site-packages (from jsonschema<=4.8.0->autogluon.multimodal==0.6.0->autogluon) (0.19.2)\n",
      "Requirement already satisfied: attrs>=17.4.0 in /opt/homebrew/lib/python3.9/site-packages (from jsonschema<=4.8.0->autogluon.multimodal==0.6.0->autogluon) (22.1.0)\n",
      "Requirement already satisfied: wheel in /opt/homebrew/lib/python3.9/site-packages (from lightgbm<3.4,>=3.3->autogluon.tabular[all]==0.6.0->autogluon) (0.38.4)\n",
      "Requirement already satisfied: regex>=2021.8.3 in /opt/homebrew/lib/python3.9/site-packages (from nltk<4.0.0,>=3.4.5->autogluon.multimodal==0.6.0->autogluon) (2022.10.31)\n",
      "Requirement already satisfied: typish>=1.7.0 in /opt/homebrew/lib/python3.9/site-packages (from nptyping<1.5.0,>=1.4.4->autogluon.multimodal==0.6.0->autogluon) (1.9.3)\n",
      "Requirement already satisfied: antlr4-python3-runtime==4.8 in /opt/homebrew/lib/python3.9/site-packages (from omegaconf<2.2.0,>=2.1.1->autogluon.multimodal==0.6.0->autogluon) (4.8)\n",
      "Requirement already satisfied: rich in /opt/homebrew/lib/python3.9/site-packages (from openmim<=0.2.1,>0.1.5->autogluon.multimodal==0.6.0->autogluon) (12.6.0)\n",
      "Requirement already satisfied: tabulate in /opt/homebrew/lib/python3.9/site-packages (from openmim<=0.2.1,>0.1.5->autogluon.multimodal==0.6.0->autogluon) (0.9.0)\n",
      "Requirement already satisfied: model-index in /opt/homebrew/lib/python3.9/site-packages (from openmim<=0.2.1,>0.1.5->autogluon.multimodal==0.6.0->autogluon) (0.1.11)\n",
      "Requirement already satisfied: colorama in /opt/homebrew/lib/python3.9/site-packages (from openmim<=0.2.1,>0.1.5->autogluon.multimodal==0.6.0->autogluon) (0.4.6)\n",
      "Requirement already satisfied: pytz>=2020.1 in /opt/homebrew/lib/python3.9/site-packages (from pandas!=1.4.0,<1.6,>=1.2.5->autogluon.core[all]==0.6.0->autogluon) (2022.6)\n",
      "Requirement already satisfied: python-dateutil>=2.8.1 in /Users/parkjubro/Library/Python/3.9/lib/python/site-packages (from pandas!=1.4.0,<1.6,>=1.2.5->autogluon.core[all]==0.6.0->autogluon) (2.8.2)\n",
      "Requirement already satisfied: Cython!=0.29.18,>=0.29 in /opt/homebrew/lib/python3.9/site-packages (from pmdarima~=1.8.2->autogluon.timeseries[all]==0.6.0->autogluon) (0.29.32)\n",
      "Requirement already satisfied: urllib3 in /opt/homebrew/lib/python3.9/site-packages (from pmdarima~=1.8.2->autogluon.timeseries[all]==0.6.0->autogluon) (1.26.12)\n",
      "Requirement already satisfied: pyparsing>=2.2.1 in /Users/parkjubro/Library/Python/3.9/lib/python/site-packages (from matplotlib->autogluon.core[all]==0.6.0->autogluon) (3.0.9)\n",
      "Requirement already satisfied: contourpy>=1.0.1 in /opt/homebrew/lib/python3.9/site-packages (from matplotlib->autogluon.core[all]==0.6.0->autogluon) (1.0.6)\n",
      "Requirement already satisfied: kiwisolver>=1.0.1 in /opt/homebrew/lib/python3.9/site-packages (from matplotlib->autogluon.core[all]==0.6.0->autogluon) (1.4.4)\n",
      "Requirement already satisfied: cycler>=0.10 in /opt/homebrew/lib/python3.9/site-packages (from matplotlib->autogluon.core[all]==0.6.0->autogluon) (0.11.0)\n",
      "Requirement already satisfied: fonttools>=4.22.0 in /opt/homebrew/lib/python3.9/site-packages (from matplotlib->autogluon.core[all]==0.6.0->autogluon) (4.38.0)\n",
      "Requirement already satisfied: pyDeprecate>=0.3.1 in /opt/homebrew/lib/python3.9/site-packages (from pytorch-lightning<1.8.0,>=1.7.4->autogluon.multimodal==0.6.0->autogluon) (0.3.2)\n",
      "Collecting tensorboard>=2.9.1\n",
      "  Using cached tensorboard-2.11.0-py3-none-any.whl (6.0 MB)\n",
      "Requirement already satisfied: grpcio<=1.43.0,>=1.32.0 in /opt/homebrew/lib/python3.9/site-packages (from ray[tune]<2.1,>=2.0->autogluon.core[all]==0.6.0->autogluon) (1.43.0)\n",
      "Requirement already satisfied: aiosignal in /opt/homebrew/lib/python3.9/site-packages (from ray[tune]<2.1,>=2.0->autogluon.core[all]==0.6.0->autogluon) (1.3.1)\n",
      "Requirement already satisfied: frozenlist in /opt/homebrew/lib/python3.9/site-packages (from ray[tune]<2.1,>=2.0->autogluon.core[all]==0.6.0->autogluon) (1.3.3)\n",
      "Requirement already satisfied: virtualenv in /opt/homebrew/lib/python3.9/site-packages (from ray[tune]<2.1,>=2.0->autogluon.core[all]==0.6.0->autogluon) (20.16.7)\n",
      "Requirement already satisfied: filelock in /opt/homebrew/lib/python3.9/site-packages (from ray[tune]<2.1,>=2.0->autogluon.core[all]==0.6.0->autogluon) (3.8.0)\n",
      "Requirement already satisfied: protobuf<4.0.0,>=3.15.3 in /opt/homebrew/lib/python3.9/site-packages (from ray[tune]<2.1,>=2.0->autogluon.core[all]==0.6.0->autogluon) (3.19.4)\n",
      "Requirement already satisfied: tensorboardX>=1.9 in /opt/homebrew/lib/python3.9/site-packages (from ray[tune]<2.1,>=2.0->autogluon.core[all]==0.6.0->autogluon) (2.5.1)\n",
      "Requirement already satisfied: idna<4,>=2.5 in /opt/homebrew/lib/python3.9/site-packages (from requests->autogluon.core[all]==0.6.0->autogluon) (3.4)\n",
      "Requirement already satisfied: certifi>=2017.4.17 in /opt/homebrew/lib/python3.9/site-packages (from requests->autogluon.core[all]==0.6.0->autogluon) (2021.10.8)\n",
      "Requirement already satisfied: charset-normalizer<3,>=2 in /opt/homebrew/lib/python3.9/site-packages (from requests->autogluon.core[all]==0.6.0->autogluon) (2.1.1)\n",
      "Requirement already satisfied: PyWavelets>=1.1.1 in /opt/homebrew/lib/python3.9/site-packages (from scikit-image<0.20.0,>=0.19.1->autogluon.multimodal==0.6.0->autogluon) (1.4.1)\n",
      "Requirement already satisfied: tifffile>=2019.7.26 in /opt/homebrew/lib/python3.9/site-packages (from scikit-image<0.20.0,>=0.19.1->autogluon.multimodal==0.6.0->autogluon) (2022.10.10)\n",
      "Requirement already satisfied: imageio>=2.4.1 in /opt/homebrew/lib/python3.9/site-packages (from scikit-image<0.20.0,>=0.19.1->autogluon.multimodal==0.6.0->autogluon) (2.22.4)\n",
      "Requirement already satisfied: threadpoolctl>=2.0.0 in /opt/homebrew/lib/python3.9/site-packages (from scikit-learn<1.2,>=1.0.0->autogluon.core[all]==0.6.0->autogluon) (3.1.0)\n",
      "Requirement already satisfied: deprecated>=1.2.13 in /opt/homebrew/lib/python3.9/site-packages (from sktime<0.14,>=0.13.1->autogluon.timeseries[all]==0.6.0->autogluon) (1.2.13)\n",
      "Requirement already satisfied: numba>=0.53 in /opt/homebrew/lib/python3.9/site-packages (from sktime<0.14,>=0.13.1->autogluon.timeseries[all]==0.6.0->autogluon) (0.56.4)\n",
      "Requirement already satisfied: patsy>=0.5.2 in /opt/homebrew/lib/python3.9/site-packages (from statsmodels~=0.13.0->autogluon.timeseries[all]==0.6.0->autogluon) (0.5.3)\n",
      "Requirement already satisfied: tokenizers!=0.11.3,<0.14,>=0.11.1 in /opt/homebrew/lib/python3.9/site-packages (from transformers<4.24.0,>=4.23.0->autogluon.multimodal==0.6.0->autogluon) (0.13.2)\n",
      "Requirement already satisfied: botocore<1.30.0,>=1.29.15 in /opt/homebrew/lib/python3.9/site-packages (from boto3->autogluon.core[all]==0.6.0->autogluon) (1.29.15)\n",
      "Requirement already satisfied: jmespath<2.0.0,>=0.7.1 in /opt/homebrew/lib/python3.9/site-packages (from boto3->autogluon.core[all]==0.6.0->autogluon) (1.0.1)\n",
      "Requirement already satisfied: s3transfer<0.7.0,>=0.6.0 in /opt/homebrew/lib/python3.9/site-packages (from boto3->autogluon.core[all]==0.6.0->autogluon) (0.6.0)\n",
      "Requirement already satisfied: pyarrow>=6.0.0 in /opt/homebrew/lib/python3.9/site-packages (from datasets>=2.0.0->evaluate<=0.2.2->autogluon.multimodal==0.6.0->autogluon) (10.0.1)\n",
      "Requirement already satisfied: aiohttp in /opt/homebrew/lib/python3.9/site-packages (from datasets>=2.0.0->evaluate<=0.2.2->autogluon.multimodal==0.6.0->autogluon) (3.8.3)\n",
      "Requirement already satisfied: wrapt<2,>=1.10 in /opt/homebrew/lib/python3.9/site-packages (from deprecated>=1.2.13->sktime<0.14,>=0.13.1->autogluon.timeseries[all]==0.6.0->autogluon) (1.14.1)\n"
     ]
    },
    {
     "name": "stdout",
     "output_type": "stream",
     "text": [
      "Requirement already satisfied: llvmlite<0.40,>=0.39.0dev0 in /opt/homebrew/lib/python3.9/site-packages (from numba>=0.53->sktime<0.14,>=0.13.1->autogluon.timeseries[all]==0.6.0->autogluon) (0.39.1)\n",
      "Requirement already satisfied: locket in /opt/homebrew/lib/python3.9/site-packages (from partd>=0.3.10->dask<=2021.11.2,>=2021.09.1->autogluon.core[all]==0.6.0->autogluon) (1.0.0)\n",
      "Requirement already satisfied: langcodes<4.0.0,>=3.2.0 in /opt/homebrew/lib/python3.9/site-packages (from spacy<4->fastai<2.8,>=2.3.1->autogluon.tabular[all]==0.6.0->autogluon) (3.3.0)\n",
      "Requirement already satisfied: wasabi<1.1.0,>=0.9.1 in /opt/homebrew/lib/python3.9/site-packages (from spacy<4->fastai<2.8,>=2.3.1->autogluon.tabular[all]==0.6.0->autogluon) (0.10.1)\n",
      "Requirement already satisfied: pathy>=0.3.5 in /opt/homebrew/lib/python3.9/site-packages (from spacy<4->fastai<2.8,>=2.3.1->autogluon.tabular[all]==0.6.0->autogluon) (0.9.0)\n",
      "Requirement already satisfied: srsly<3.0.0,>=2.4.3 in /opt/homebrew/lib/python3.9/site-packages (from spacy<4->fastai<2.8,>=2.3.1->autogluon.tabular[all]==0.6.0->autogluon) (2.4.5)\n",
      "Requirement already satisfied: murmurhash<1.1.0,>=0.28.0 in /opt/homebrew/lib/python3.9/site-packages (from spacy<4->fastai<2.8,>=2.3.1->autogluon.tabular[all]==0.6.0->autogluon) (1.0.9)\n",
      "Requirement already satisfied: preshed<3.1.0,>=3.0.2 in /opt/homebrew/lib/python3.9/site-packages (from spacy<4->fastai<2.8,>=2.3.1->autogluon.tabular[all]==0.6.0->autogluon) (3.0.8)\n",
      "Requirement already satisfied: spacy-legacy<3.1.0,>=3.0.10 in /opt/homebrew/lib/python3.9/site-packages (from spacy<4->fastai<2.8,>=2.3.1->autogluon.tabular[all]==0.6.0->autogluon) (3.0.10)\n",
      "Requirement already satisfied: spacy-loggers<2.0.0,>=1.0.0 in /opt/homebrew/lib/python3.9/site-packages (from spacy<4->fastai<2.8,>=2.3.1->autogluon.tabular[all]==0.6.0->autogluon) (1.0.3)\n",
      "Requirement already satisfied: catalogue<2.1.0,>=2.0.6 in /opt/homebrew/lib/python3.9/site-packages (from spacy<4->fastai<2.8,>=2.3.1->autogluon.tabular[all]==0.6.0->autogluon) (2.0.8)\n",
      "Requirement already satisfied: cymem<2.1.0,>=2.0.2 in /opt/homebrew/lib/python3.9/site-packages (from spacy<4->fastai<2.8,>=2.3.1->autogluon.tabular[all]==0.6.0->autogluon) (2.0.7)\n",
      "Requirement already satisfied: thinc<8.2.0,>=8.1.0 in /opt/homebrew/lib/python3.9/site-packages (from spacy<4->fastai<2.8,>=2.3.1->autogluon.tabular[all]==0.6.0->autogluon) (8.1.5)\n",
      "Requirement already satisfied: typer<0.8.0,>=0.3.0 in /opt/homebrew/lib/python3.9/site-packages (from spacy<4->fastai<2.8,>=2.3.1->autogluon.tabular[all]==0.6.0->autogluon) (0.7.0)\n",
      "Requirement already satisfied: werkzeug>=1.0.1 in /opt/homebrew/lib/python3.9/site-packages (from tensorboard>=2.9.1->pytorch-lightning<1.8.0,>=1.7.4->autogluon.multimodal==0.6.0->autogluon) (2.2.2)\n",
      "Requirement already satisfied: tensorboard-plugin-wit>=1.6.0 in /opt/homebrew/lib/python3.9/site-packages (from tensorboard>=2.9.1->pytorch-lightning<1.8.0,>=1.7.4->autogluon.multimodal==0.6.0->autogluon) (1.8.1)\n",
      "Requirement already satisfied: markdown>=2.6.8 in /opt/homebrew/lib/python3.9/site-packages (from tensorboard>=2.9.1->pytorch-lightning<1.8.0,>=1.7.4->autogluon.multimodal==0.6.0->autogluon) (3.4.1)\n",
      "Requirement already satisfied: google-auth<3,>=1.6.3 in /opt/homebrew/lib/python3.9/site-packages (from tensorboard>=2.9.1->pytorch-lightning<1.8.0,>=1.7.4->autogluon.multimodal==0.6.0->autogluon) (2.14.1)\n",
      "Requirement already satisfied: absl-py>=0.4 in /opt/homebrew/lib/python3.9/site-packages (from tensorboard>=2.9.1->pytorch-lightning<1.8.0,>=1.7.4->autogluon.multimodal==0.6.0->autogluon) (1.3.0)\n",
      "Requirement already satisfied: tensorboard-data-server<0.7.0,>=0.6.0 in /opt/homebrew/lib/python3.9/site-packages (from tensorboard>=2.9.1->pytorch-lightning<1.8.0,>=1.7.4->autogluon.multimodal==0.6.0->autogluon) (0.6.1)\n",
      "Collecting google-auth-oauthlib<0.5,>=0.4.1\n",
      "  Using cached google_auth_oauthlib-0.4.6-py2.py3-none-any.whl (18 kB)\n",
      "Requirement already satisfied: heapdict in /opt/homebrew/lib/python3.9/site-packages (from zict>=0.1.3->distributed<=2021.11.2,>=2021.09.1->autogluon.core[all]==0.6.0->autogluon) (1.0.1)\n",
      "Requirement already satisfied: MarkupSafe>=2.0 in /opt/homebrew/lib/python3.9/site-packages (from jinja2->distributed<=2021.11.2,>=2021.09.1->autogluon.core[all]==0.6.0->autogluon) (2.1.1)\n",
      "Requirement already satisfied: ordered-set in /opt/homebrew/lib/python3.9/site-packages (from model-index->openmim<=0.2.1,>0.1.5->autogluon.multimodal==0.6.0->autogluon) (4.1.0)\n",
      "Requirement already satisfied: tenacity>=6.2.0 in /opt/homebrew/lib/python3.9/site-packages (from plotly->catboost<1.2,>=1.0->autogluon.tabular[all]==0.6.0->autogluon) (8.1.0)\n",
      "Requirement already satisfied: commonmark<0.10.0,>=0.9.0 in /opt/homebrew/lib/python3.9/site-packages (from rich->openmim<=0.2.1,>0.1.5->autogluon.multimodal==0.6.0->autogluon) (0.9.1)\n",
      "Requirement already satisfied: pygments<3.0.0,>=2.6.0 in /Users/parkjubro/Library/Python/3.9/lib/python/site-packages (from rich->openmim<=0.2.1,>0.1.5->autogluon.multimodal==0.6.0->autogluon) (2.13.0)\n",
      "Requirement already satisfied: platformdirs<3,>=2.4 in /opt/homebrew/lib/python3.9/site-packages (from virtualenv->ray[tune]<2.1,>=2.0->autogluon.core[all]==0.6.0->autogluon) (2.5.4)\n",
      "Requirement already satisfied: distlib<1,>=0.3.6 in /opt/homebrew/lib/python3.9/site-packages (from virtualenv->ray[tune]<2.1,>=2.0->autogluon.core[all]==0.6.0->autogluon) (0.3.6)\n",
      "Requirement already satisfied: multidict<7.0,>=4.5 in /opt/homebrew/lib/python3.9/site-packages (from aiohttp->datasets>=2.0.0->evaluate<=0.2.2->autogluon.multimodal==0.6.0->autogluon) (6.0.2)\n",
      "Requirement already satisfied: async-timeout<5.0,>=4.0.0a3 in /opt/homebrew/lib/python3.9/site-packages (from aiohttp->datasets>=2.0.0->evaluate<=0.2.2->autogluon.multimodal==0.6.0->autogluon) (4.0.2)\n",
      "Requirement already satisfied: yarl<2.0,>=1.0 in /opt/homebrew/lib/python3.9/site-packages (from aiohttp->datasets>=2.0.0->evaluate<=0.2.2->autogluon.multimodal==0.6.0->autogluon) (1.8.1)\n",
      "Requirement already satisfied: pyasn1-modules>=0.2.1 in /opt/homebrew/lib/python3.9/site-packages (from google-auth<3,>=1.6.3->tensorboard>=2.9.1->pytorch-lightning<1.8.0,>=1.7.4->autogluon.multimodal==0.6.0->autogluon) (0.2.8)\n",
      "Requirement already satisfied: rsa<5,>=3.1.4 in /opt/homebrew/lib/python3.9/site-packages (from google-auth<3,>=1.6.3->tensorboard>=2.9.1->pytorch-lightning<1.8.0,>=1.7.4->autogluon.multimodal==0.6.0->autogluon) (4.9)\n",
      "Requirement already satisfied: cachetools<6.0,>=2.0.0 in /opt/homebrew/lib/python3.9/site-packages (from google-auth<3,>=1.6.3->tensorboard>=2.9.1->pytorch-lightning<1.8.0,>=1.7.4->autogluon.multimodal==0.6.0->autogluon) (5.2.0)\n",
      "Requirement already satisfied: requests-oauthlib>=0.7.0 in /opt/homebrew/lib/python3.9/site-packages (from google-auth-oauthlib<0.5,>=0.4.1->tensorboard>=2.9.1->pytorch-lightning<1.8.0,>=1.7.4->autogluon.multimodal==0.6.0->autogluon) (1.3.1)\n",
      "Requirement already satisfied: importlib-metadata>=4.4 in /opt/homebrew/lib/python3.9/site-packages (from markdown>=2.6.8->tensorboard>=2.9.1->pytorch-lightning<1.8.0,>=1.7.4->autogluon.multimodal==0.6.0->autogluon) (5.0.0)\n",
      "Requirement already satisfied: blis<0.8.0,>=0.7.8 in /opt/homebrew/lib/python3.9/site-packages (from thinc<8.2.0,>=8.1.0->spacy<4->fastai<2.8,>=2.3.1->autogluon.tabular[all]==0.6.0->autogluon) (0.7.9)\n",
      "Requirement already satisfied: confection<1.0.0,>=0.0.1 in /opt/homebrew/lib/python3.9/site-packages (from thinc<8.2.0,>=8.1.0->spacy<4->fastai<2.8,>=2.3.1->autogluon.tabular[all]==0.6.0->autogluon) (0.0.3)\n",
      "Requirement already satisfied: zipp>=0.5 in /opt/homebrew/lib/python3.9/site-packages (from importlib-metadata>=4.4->markdown>=2.6.8->tensorboard>=2.9.1->pytorch-lightning<1.8.0,>=1.7.4->autogluon.multimodal==0.6.0->autogluon) (3.10.0)\n",
      "Requirement already satisfied: pyasn1<0.5.0,>=0.4.6 in /opt/homebrew/lib/python3.9/site-packages (from pyasn1-modules>=0.2.1->google-auth<3,>=1.6.3->tensorboard>=2.9.1->pytorch-lightning<1.8.0,>=1.7.4->autogluon.multimodal==0.6.0->autogluon) (0.4.8)\n",
      "Requirement already satisfied: oauthlib>=3.0.0 in /opt/homebrew/lib/python3.9/site-packages (from requests-oauthlib>=0.7.0->google-auth-oauthlib<0.5,>=0.4.1->tensorboard>=2.9.1->pytorch-lightning<1.8.0,>=1.7.4->autogluon.multimodal==0.6.0->autogluon) (3.2.2)\n"
     ]
    },
    {
     "name": "stdout",
     "output_type": "stream",
     "text": [
      "Building wheels for collected packages: lightgbm\n",
      "  Building wheel for lightgbm (setup.py) ... \u001b[?25lerror\n",
      "  \u001b[1;31merror\u001b[0m: \u001b[1msubprocess-exited-with-error\u001b[0m\n",
      "  \n",
      "  \u001b[31m×\u001b[0m \u001b[32mpython setup.py bdist_wheel\u001b[0m did not run successfully.\n",
      "  \u001b[31m│\u001b[0m exit code: \u001b[1;36m1\u001b[0m\n",
      "  \u001b[31m╰─>\u001b[0m \u001b[31m[80 lines of output]\u001b[0m\n",
      "  \u001b[31m   \u001b[0m INFO:root:running bdist_wheel\n",
      "  \u001b[31m   \u001b[0m /opt/homebrew/lib/python3.9/site-packages/setuptools/command/install.py:34: SetuptoolsDeprecationWarning: setup.py install is deprecated. Use build and pip and other standards-based tools.\n",
      "  \u001b[31m   \u001b[0m   warnings.warn(\n",
      "  \u001b[31m   \u001b[0m INFO:root:running build\n",
      "  \u001b[31m   \u001b[0m INFO:root:running build_py\n",
      "  \u001b[31m   \u001b[0m INFO:root:creating build\n",
      "  \u001b[31m   \u001b[0m INFO:root:creating build/lib\n",
      "  \u001b[31m   \u001b[0m INFO:root:creating build/lib/lightgbm\n",
      "  \u001b[31m   \u001b[0m INFO:root:copying lightgbm/callback.py -> build/lib/lightgbm\n",
      "  \u001b[31m   \u001b[0m INFO:root:copying lightgbm/compat.py -> build/lib/lightgbm\n",
      "  \u001b[31m   \u001b[0m INFO:root:copying lightgbm/plotting.py -> build/lib/lightgbm\n",
      "  \u001b[31m   \u001b[0m INFO:root:copying lightgbm/__init__.py -> build/lib/lightgbm\n",
      "  \u001b[31m   \u001b[0m INFO:root:copying lightgbm/engine.py -> build/lib/lightgbm\n",
      "  \u001b[31m   \u001b[0m INFO:root:copying lightgbm/dask.py -> build/lib/lightgbm\n",
      "  \u001b[31m   \u001b[0m INFO:root:copying lightgbm/basic.py -> build/lib/lightgbm\n",
      "  \u001b[31m   \u001b[0m INFO:root:copying lightgbm/libpath.py -> build/lib/lightgbm\n",
      "  \u001b[31m   \u001b[0m INFO:root:copying lightgbm/sklearn.py -> build/lib/lightgbm\n",
      "  \u001b[31m   \u001b[0m INFO:root:running egg_info\n",
      "  \u001b[31m   \u001b[0m INFO:root:writing lightgbm.egg-info/PKG-INFO\n",
      "  \u001b[31m   \u001b[0m INFO:root:writing dependency_links to lightgbm.egg-info/dependency_links.txt\n",
      "  \u001b[31m   \u001b[0m INFO:root:writing requirements to lightgbm.egg-info/requires.txt\n",
      "  \u001b[31m   \u001b[0m INFO:root:writing top-level names to lightgbm.egg-info/top_level.txt\n",
      "  \u001b[31m   \u001b[0m INFO:root:reading manifest file 'lightgbm.egg-info/SOURCES.txt'\n",
      "  \u001b[31m   \u001b[0m INFO:root:reading manifest template 'MANIFEST.in'\n",
      "  \u001b[31m   \u001b[0m WARNING:root:no previously-included directories found matching 'build'\n",
      "  \u001b[31m   \u001b[0m WARNING:root:warning: no files found matching '*.so' under directory 'lightgbm'\n",
      "  \u001b[31m   \u001b[0m WARNING:root:warning: no files found matching '*.so' under directory 'compile'\n",
      "  \u001b[31m   \u001b[0m WARNING:root:warning: no files found matching '*.dll' under directory 'compile/Release'\n",
      "  \u001b[31m   \u001b[0m WARNING:root:warning: no files found matching '*.dll' under directory 'compile/windows/x64/DLL'\n",
      "  \u001b[31m   \u001b[0m WARNING:root:warning: no previously-included files matching '*.py[co]' found anywhere in distribution\n",
      "  \u001b[31m   \u001b[0m WARNING:root:warning: no previously-included files found matching 'compile/external_libs/compute/.git'\n",
      "  \u001b[31m   \u001b[0m INFO:root:adding license file 'LICENSE'\n",
      "  \u001b[31m   \u001b[0m INFO:root:writing manifest file 'lightgbm.egg-info/SOURCES.txt'\n",
      "  \u001b[31m   \u001b[0m INFO:root:copying lightgbm/VERSION.txt -> build/lib/lightgbm\n",
      "  \u001b[31m   \u001b[0m INFO:wheel:installing to build/bdist.macosx-12-arm64/wheel\n",
      "  \u001b[31m   \u001b[0m INFO:root:running install\n",
      "  \u001b[31m   \u001b[0m INFO:LightGBM:Starting to compile the library.\n",
      "  \u001b[31m   \u001b[0m INFO:LightGBM:Starting to compile with CMake.\n",
      "  \u001b[31m   \u001b[0m Traceback (most recent call last):\n",
      "  \u001b[31m   \u001b[0m   File \"/private/var/folders/qs/yvcwxy5j79g7gxngttx5yb5w0000gn/T/pip-install-n99lnsxq/lightgbm_f5da89197030437e835a5ee3e3893ba5/setup.py\", line 95, in silent_call\n",
      "  \u001b[31m   \u001b[0m     subprocess.check_call(cmd, stderr=log, stdout=log)\n",
      "  \u001b[31m   \u001b[0m   File \"/opt/homebrew/Cellar/python@3.9/3.9.13_1/Frameworks/Python.framework/Versions/3.9/lib/python3.9/subprocess.py\", line 373, in check_call\n",
      "  \u001b[31m   \u001b[0m     raise CalledProcessError(retcode, cmd)\n",
      "  \u001b[31m   \u001b[0m subprocess.CalledProcessError: Command '['cmake', '/private/var/folders/qs/yvcwxy5j79g7gxngttx5yb5w0000gn/T/pip-install-n99lnsxq/lightgbm_f5da89197030437e835a5ee3e3893ba5/compile']' returned non-zero exit status 1.\n",
      "  \u001b[31m   \u001b[0m \n",
      "  \u001b[31m   \u001b[0m During handling of the above exception, another exception occurred:\n",
      "  \u001b[31m   \u001b[0m \n",
      "  \u001b[31m   \u001b[0m Traceback (most recent call last):\n",
      "  \u001b[31m   \u001b[0m   File \"<string>\", line 2, in <module>\n",
      "  \u001b[31m   \u001b[0m   File \"<pip-setuptools-caller>\", line 34, in <module>\n",
      "  \u001b[31m   \u001b[0m   File \"/private/var/folders/qs/yvcwxy5j79g7gxngttx5yb5w0000gn/T/pip-install-n99lnsxq/lightgbm_f5da89197030437e835a5ee3e3893ba5/setup.py\", line 334, in <module>\n",
      "  \u001b[31m   \u001b[0m     setup(name='lightgbm',\n",
      "  \u001b[31m   \u001b[0m   File \"/opt/homebrew/lib/python3.9/site-packages/setuptools/__init__.py\", line 87, in setup\n",
      "  \u001b[31m   \u001b[0m     return distutils.core.setup(**attrs)\n",
      "  \u001b[31m   \u001b[0m   File \"/opt/homebrew/lib/python3.9/site-packages/setuptools/_distutils/core.py\", line 185, in setup\n",
      "  \u001b[31m   \u001b[0m     return run_commands(dist)\n",
      "  \u001b[31m   \u001b[0m   File \"/opt/homebrew/lib/python3.9/site-packages/setuptools/_distutils/core.py\", line 201, in run_commands\n",
      "  \u001b[31m   \u001b[0m     dist.run_commands()\n",
      "  \u001b[31m   \u001b[0m   File \"/opt/homebrew/lib/python3.9/site-packages/setuptools/_distutils/dist.py\", line 969, in run_commands\n",
      "  \u001b[31m   \u001b[0m     self.run_command(cmd)\n",
      "  \u001b[31m   \u001b[0m   File \"/opt/homebrew/lib/python3.9/site-packages/setuptools/dist.py\", line 1217, in run_command\n",
      "  \u001b[31m   \u001b[0m     super().run_command(command)\n",
      "  \u001b[31m   \u001b[0m   File \"/opt/homebrew/lib/python3.9/site-packages/setuptools/_distutils/dist.py\", line 988, in run_command\n",
      "  \u001b[31m   \u001b[0m     cmd_obj.run()\n",
      "  \u001b[31m   \u001b[0m   File \"/opt/homebrew/lib/python3.9/site-packages/wheel/bdist_wheel.py\", line 360, in run\n",
      "  \u001b[31m   \u001b[0m     self.run_command(\"install\")\n",
      "  \u001b[31m   \u001b[0m   File \"/opt/homebrew/lib/python3.9/site-packages/setuptools/_distutils/cmd.py\", line 318, in run_command\n",
      "  \u001b[31m   \u001b[0m     self.distribution.run_command(command)\n",
      "  \u001b[31m   \u001b[0m   File \"/opt/homebrew/lib/python3.9/site-packages/setuptools/dist.py\", line 1217, in run_command\n",
      "  \u001b[31m   \u001b[0m     super().run_command(command)\n",
      "  \u001b[31m   \u001b[0m   File \"/opt/homebrew/lib/python3.9/site-packages/setuptools/_distutils/dist.py\", line 988, in run_command\n",
      "  \u001b[31m   \u001b[0m     cmd_obj.run()\n",
      "  \u001b[31m   \u001b[0m   File \"/private/var/folders/qs/yvcwxy5j79g7gxngttx5yb5w0000gn/T/pip-install-n99lnsxq/lightgbm_f5da89197030437e835a5ee3e3893ba5/setup.py\", line 248, in run\n",
      "  \u001b[31m   \u001b[0m     compile_cpp(use_mingw=self.mingw, use_gpu=self.gpu, use_cuda=self.cuda, use_mpi=self.mpi,\n",
      "  \u001b[31m   \u001b[0m   File \"/private/var/folders/qs/yvcwxy5j79g7gxngttx5yb5w0000gn/T/pip-install-n99lnsxq/lightgbm_f5da89197030437e835a5ee3e3893ba5/setup.py\", line 198, in compile_cpp\n",
      "  \u001b[31m   \u001b[0m     silent_call(cmake_cmd, raise_error=True, error_msg='Please install CMake and all required dependencies first')\n",
      "  \u001b[31m   \u001b[0m   File \"/private/var/folders/qs/yvcwxy5j79g7gxngttx5yb5w0000gn/T/pip-install-n99lnsxq/lightgbm_f5da89197030437e835a5ee3e3893ba5/setup.py\", line 99, in silent_call\n",
      "  \u001b[31m   \u001b[0m     raise Exception(\"\\n\".join((error_msg, LOG_NOTICE)))\n",
      "  \u001b[31m   \u001b[0m Exception: Please install CMake and all required dependencies first\n",
      "  \u001b[31m   \u001b[0m The full version of error log was saved into /Users/parkjubro/LightGBM_compilation.log\n",
      "  \u001b[31m   \u001b[0m \u001b[31m[end of output]\u001b[0m\n",
      "  \n",
      "  \u001b[1;35mnote\u001b[0m: This error originates from a subprocess, and is likely not a problem with pip.\n",
      "\u001b[31m  ERROR: Failed building wheel for lightgbm\u001b[0m\u001b[31m\n",
      "\u001b[0m\u001b[?25h  Running setup.py clean for lightgbm\n",
      "Failed to build lightgbm\n",
      "Installing collected packages: lightgbm, google-auth-oauthlib, gluoncv, distributed, catboost, tensorboard, spacy, openmim, datasets, boto3, albumentations, tbats, pytorch-lightning, fastai, evaluate, autogluon.common, autogluon.features, autogluon.core, autogluon.tabular, autogluon.multimodal, autogluon.vision, autogluon.timeseries, autogluon.text, autogluon\n",
      "\u001b[33m  DEPRECATION: Configuring installation scheme with distutils config files is deprecated and will no longer work in the near future. If you are using a Homebrew or Linuxbrew Python, please see discussion at https://github.com/Homebrew/homebrew-core/issues/76621\u001b[0m\u001b[33m\n",
      "\u001b[0m  Running setup.py install for lightgbm ... \u001b[?25lerror\n",
      "  \u001b[1;31merror\u001b[0m: \u001b[1msubprocess-exited-with-error\u001b[0m\n",
      "  \n",
      "  \u001b[31m×\u001b[0m \u001b[32mRunning setup.py install for lightgbm\u001b[0m did not run successfully.\n",
      "  \u001b[31m│\u001b[0m exit code: \u001b[1;36m1\u001b[0m\n",
      "  \u001b[31m╰─>\u001b[0m \u001b[31m[39 lines of output]\u001b[0m\n",
      "  \u001b[31m   \u001b[0m INFO:root:running install\n",
      "  \u001b[31m   \u001b[0m /opt/homebrew/lib/python3.9/site-packages/setuptools/command/install.py:34: SetuptoolsDeprecationWarning: setup.py install is deprecated. Use build and pip and other standards-based tools.\n",
      "  \u001b[31m   \u001b[0m   warnings.warn(\n",
      "  \u001b[31m   \u001b[0m INFO:LightGBM:Starting to compile the library.\n",
      "  \u001b[31m   \u001b[0m INFO:LightGBM:Starting to compile with CMake.\n",
      "  \u001b[31m   \u001b[0m Traceback (most recent call last):\n",
      "  \u001b[31m   \u001b[0m   File \"/private/var/folders/qs/yvcwxy5j79g7gxngttx5yb5w0000gn/T/pip-install-n99lnsxq/lightgbm_f5da89197030437e835a5ee3e3893ba5/setup.py\", line 95, in silent_call\n",
      "  \u001b[31m   \u001b[0m     subprocess.check_call(cmd, stderr=log, stdout=log)\n",
      "  \u001b[31m   \u001b[0m   File \"/opt/homebrew/Cellar/python@3.9/3.9.13_1/Frameworks/Python.framework/Versions/3.9/lib/python3.9/subprocess.py\", line 373, in check_call\n",
      "  \u001b[31m   \u001b[0m     raise CalledProcessError(retcode, cmd)\n",
      "  \u001b[31m   \u001b[0m subprocess.CalledProcessError: Command '['cmake', '/private/var/folders/qs/yvcwxy5j79g7gxngttx5yb5w0000gn/T/pip-install-n99lnsxq/lightgbm_f5da89197030437e835a5ee3e3893ba5/compile']' returned non-zero exit status 1.\n",
      "  \u001b[31m   \u001b[0m \n",
      "  \u001b[31m   \u001b[0m During handling of the above exception, another exception occurred:\n",
      "  \u001b[31m   \u001b[0m \n",
      "  \u001b[31m   \u001b[0m Traceback (most recent call last):\n",
      "  \u001b[31m   \u001b[0m   File \"<string>\", line 2, in <module>\n",
      "  \u001b[31m   \u001b[0m   File \"<pip-setuptools-caller>\", line 34, in <module>\n",
      "  \u001b[31m   \u001b[0m   File \"/private/var/folders/qs/yvcwxy5j79g7gxngttx5yb5w0000gn/T/pip-install-n99lnsxq/lightgbm_f5da89197030437e835a5ee3e3893ba5/setup.py\", line 334, in <module>\n",
      "  \u001b[31m   \u001b[0m     setup(name='lightgbm',\n",
      "  \u001b[31m   \u001b[0m   File \"/opt/homebrew/lib/python3.9/site-packages/setuptools/__init__.py\", line 87, in setup\n",
      "  \u001b[31m   \u001b[0m     return distutils.core.setup(**attrs)\n",
      "  \u001b[31m   \u001b[0m   File \"/opt/homebrew/lib/python3.9/site-packages/setuptools/_distutils/core.py\", line 185, in setup\n",
      "  \u001b[31m   \u001b[0m     return run_commands(dist)\n",
      "  \u001b[31m   \u001b[0m   File \"/opt/homebrew/lib/python3.9/site-packages/setuptools/_distutils/core.py\", line 201, in run_commands\n",
      "  \u001b[31m   \u001b[0m     dist.run_commands()\n",
      "  \u001b[31m   \u001b[0m   File \"/opt/homebrew/lib/python3.9/site-packages/setuptools/_distutils/dist.py\", line 969, in run_commands\n",
      "  \u001b[31m   \u001b[0m     self.run_command(cmd)\n",
      "  \u001b[31m   \u001b[0m   File \"/opt/homebrew/lib/python3.9/site-packages/setuptools/dist.py\", line 1217, in run_command\n",
      "  \u001b[31m   \u001b[0m     super().run_command(command)\n",
      "  \u001b[31m   \u001b[0m   File \"/opt/homebrew/lib/python3.9/site-packages/setuptools/_distutils/dist.py\", line 988, in run_command\n",
      "  \u001b[31m   \u001b[0m     cmd_obj.run()\n",
      "  \u001b[31m   \u001b[0m   File \"/private/var/folders/qs/yvcwxy5j79g7gxngttx5yb5w0000gn/T/pip-install-n99lnsxq/lightgbm_f5da89197030437e835a5ee3e3893ba5/setup.py\", line 248, in run\n",
      "  \u001b[31m   \u001b[0m     compile_cpp(use_mingw=self.mingw, use_gpu=self.gpu, use_cuda=self.cuda, use_mpi=self.mpi,\n",
      "  \u001b[31m   \u001b[0m   File \"/private/var/folders/qs/yvcwxy5j79g7gxngttx5yb5w0000gn/T/pip-install-n99lnsxq/lightgbm_f5da89197030437e835a5ee3e3893ba5/setup.py\", line 198, in compile_cpp\n",
      "  \u001b[31m   \u001b[0m     silent_call(cmake_cmd, raise_error=True, error_msg='Please install CMake and all required dependencies first')\n",
      "  \u001b[31m   \u001b[0m   File \"/private/var/folders/qs/yvcwxy5j79g7gxngttx5yb5w0000gn/T/pip-install-n99lnsxq/lightgbm_f5da89197030437e835a5ee3e3893ba5/setup.py\", line 99, in silent_call\n",
      "  \u001b[31m   \u001b[0m     raise Exception(\"\\n\".join((error_msg, LOG_NOTICE)))\n",
      "  \u001b[31m   \u001b[0m Exception: Please install CMake and all required dependencies first\n",
      "  \u001b[31m   \u001b[0m The full version of error log was saved into /Users/parkjubro/LightGBM_compilation.log\n",
      "  \u001b[31m   \u001b[0m \u001b[31m[end of output]\u001b[0m\n",
      "  \n",
      "  \u001b[1;35mnote\u001b[0m: This error originates from a subprocess, and is likely not a problem with pip.\n",
      "\u001b[1;31merror\u001b[0m: \u001b[1mlegacy-install-failure\u001b[0m\n",
      "\n",
      "\u001b[31m×\u001b[0m Encountered error while trying to install package.\n",
      "\u001b[31m╰─>\u001b[0m lightgbm\n",
      "\n",
      "\u001b[1;35mnote\u001b[0m: This is an issue with the package mentioned above, not pip.\n",
      "\u001b[1;36mhint\u001b[0m: See above for output from the failure.\n",
      "\u001b[?25h"
     ]
    }
   ],
   "source": [
    "!pip3 install -U pip\n",
    "!pip3 install -U setuptools wheel\n",
    "\n",
    "# CPU version of pytorch has smaller footprint - see installation instructions in\n",
    "# pytorch documentation - https://pytorch.org/get-started/locally/\n",
    "!pip3 install torch==1.12+cpu torchvision==0.13.0+cpu torchtext==0.13.0 -f https://download.pytorch.org/whl/cpu/torch_stable.html\n",
    "\n",
    "!pip3 install autogluon"
   ]
  },
  {
   "cell_type": "code",
   "execution_count": 5,
   "metadata": {
    "id": "INXuWzhz2KQy"
   },
   "outputs": [
    {
     "ename": "ModuleNotFoundError",
     "evalue": "No module named 'autogluon'",
     "output_type": "error",
     "traceback": [
      "\u001b[0;31m---------------------------------------------------------------------------\u001b[0m",
      "\u001b[0;31mModuleNotFoundError\u001b[0m                       Traceback (most recent call last)",
      "Input \u001b[0;32mIn [5]\u001b[0m, in \u001b[0;36m<cell line: 4>\u001b[0;34m()\u001b[0m\n\u001b[1;32m      1\u001b[0m \u001b[38;5;28;01mimport\u001b[39;00m \u001b[38;5;21;01mpandas\u001b[39;00m \u001b[38;5;28;01mas\u001b[39;00m \u001b[38;5;21;01mpd\u001b[39;00m\n\u001b[1;32m      2\u001b[0m \u001b[38;5;28;01mimport\u001b[39;00m \u001b[38;5;21;01mnumpy\u001b[39;00m \u001b[38;5;28;01mas\u001b[39;00m \u001b[38;5;21;01mnp\u001b[39;00m\n\u001b[0;32m----> 4\u001b[0m \u001b[38;5;28;01mfrom\u001b[39;00m \u001b[38;5;21;01mautogluon\u001b[39;00m\u001b[38;5;21;01m.\u001b[39;00m\u001b[38;5;21;01mtabular\u001b[39;00m \u001b[38;5;28;01mimport\u001b[39;00m TabularPredictor\n\u001b[1;32m      5\u001b[0m \u001b[38;5;28;01mfrom\u001b[39;00m \u001b[38;5;21;01mautogluon\u001b[39;00m\u001b[38;5;21;01m.\u001b[39;00m\u001b[38;5;21;01mtabular\u001b[39;00m\u001b[38;5;21;01m.\u001b[39;00m\u001b[38;5;21;01mconfigs\u001b[39;00m\u001b[38;5;21;01m.\u001b[39;00m\u001b[38;5;21;01mhyperparameter_configs\u001b[39;00m \u001b[38;5;28;01mimport\u001b[39;00m get_hyperparameter_config\n\u001b[1;32m      6\u001b[0m \u001b[38;5;28;01mfrom\u001b[39;00m \u001b[38;5;21;01mautogluon\u001b[39;00m\u001b[38;5;21;01m.\u001b[39;00m\u001b[38;5;21;01mmultimodal\u001b[39;00m \u001b[38;5;28;01mimport\u001b[39;00m MultiModalPredictor\n",
      "\u001b[0;31mModuleNotFoundError\u001b[0m: No module named 'autogluon'"
     ]
    }
   ],
   "source": [
    "import pandas as pd\n",
    "import numpy as np\n",
    "\n",
    "from autogluon.tabular import TabularPredictor\n",
    "from autogluon.tabular.configs.hyperparameter_configs import get_hyperparameter_config\n",
    "from autogluon.multimodal import MultiModalPredictor"
   ]
  },
  {
   "cell_type": "code",
   "execution_count": null,
   "metadata": {
    "id": "qtDLXIQz2OMW"
   },
   "outputs": [],
   "source": [
    "sample_submission = pd.read_csv('./sample_submission.csv')\n",
    "train = pd.read_csv('./train.csv')\n",
    "test = pd.read_csv('./test.csv')"
   ]
  },
  {
   "cell_type": "code",
   "execution_count": null,
   "metadata": {
    "id": "XbWUocA72OKB"
   },
   "outputs": [],
   "source": [
    "check = []\n",
    "check1 = []\n",
    "temp = train['Utterance'].apply(len)\n",
    "train['length'] = temp\n",
    "\n",
    "for i in range(len(train)):\n",
    "    if train['length'].loc[i] <= 2:\n",
    "#         print(train['Utterance'].loc[i])\n",
    "        if train['Utterance'].iloc[i] != 'Hi' and train['Utterance'].iloc[i] != 'No':\n",
    "            check.append(train.index[i])\n",
    "            check1.append(train['Utterance'].iloc[i])\n",
    "train = train.drop(labels = check, axis = 0)\n",
    "train"
   ]
  },
  {
   "cell_type": "code",
   "execution_count": null,
   "metadata": {
    "id": "xDeN3ykj2OIF"
   },
   "outputs": [],
   "source": [
    "hyperparameters = get_hyperparameter_config('multimodal')\n",
    "hyperparameters"
   ]
  },
  {
   "cell_type": "code",
   "execution_count": null,
   "metadata": {
    "id": "6ljXwfrE2OFv"
   },
   "outputs": [],
   "source": [
    "hyperparameters['XGB'] = {'tree_method':'gpu_hist', 'gpu_id':0}\n",
    "hyperparameters['AG_TEXT_NN'] = {'presets': 'best_quality'}\n",
    "hyperparameters.pop('VW')\n",
    "hyperparameters.pop('NN_TORCH')"
   ]
  },
  {
   "cell_type": "code",
   "execution_count": null,
   "metadata": {
    "id": "2E0ebBro2ODY"
   },
   "outputs": [],
   "source": [
    "hyperparameters"
   ]
  },
  {
   "cell_type": "code",
   "execution_count": null,
   "metadata": {
    "id": "j3fNO3xC2OBS"
   },
   "outputs": [],
   "source": [
    "hyperparameters = {\n",
    "    \"model.names\": [\"hf_text\", \"categorical_mlp\", \"numerical_mlp\", \"fusion_mlp\"],\n",
    "    \"model.hf_text.checkpoint_name\": \"tae898/emoberta-base\",\n",
    "    }"
   ]
  },
  {
   "cell_type": "code",
   "execution_count": null,
   "metadata": {
    "id": "fxVrUI6c2N-7"
   },
   "outputs": [],
   "source": [
    "train['Dialogue_ID'] = train['Dialogue_ID'].astype('category')\n",
    "test['Dialogue_ID'] = test['Dialogue_ID'].astype('category')\n",
    "train = train.drop('ID', axis=1)\n",
    "test = test.drop('ID', axis=1)"
   ]
  },
  {
   "cell_type": "code",
   "execution_count": null,
   "metadata": {
    "id": "prDm8f1w2N81"
   },
   "outputs": [],
   "source": [
    "predictor = MultiModalPredictor(label='Target', problem_type='multiclass', eval_metric='log_loss')\n",
    "predictor.fit(train, hyperparameters=hyperparameters)"
   ]
  },
  {
   "cell_type": "code",
   "execution_count": null,
   "metadata": {
    "id": "RjrYVfm22N6u"
   },
   "outputs": [],
   "source": [
    "predictions = predictor.predict(test)"
   ]
  },
  {
   "cell_type": "code",
   "execution_count": null,
   "metadata": {
    "id": "Sg66k_hc2N4n"
   },
   "outputs": [],
   "source": [
    "sample_submission['Target'] = predictions"
   ]
  },
  {
   "cell_type": "code",
   "execution_count": null,
   "metadata": {
    "id": "edvo5Csz2N2Q"
   },
   "outputs": [],
   "source": [
    "sample_submission.to_csv('./submit3.csv',index=False)"
   ]
  },
  {
   "cell_type": "code",
   "execution_count": null,
   "metadata": {
    "id": "P_wB6yXb2N0K"
   },
   "outputs": [],
   "source": [
    "from google.colab import files\n",
    "files.download(\"submit3.csv\")"
   ]
  },
  {
   "cell_type": "code",
   "execution_count": null,
   "metadata": {
    "id": "QKiIopqv2Nxk"
   },
   "outputs": [],
   "source": []
  },
  {
   "cell_type": "code",
   "execution_count": null,
   "metadata": {
    "id": "djiZ_Iwo2Nvv"
   },
   "outputs": [],
   "source": []
  },
  {
   "cell_type": "code",
   "execution_count": null,
   "metadata": {
    "id": "GlFoOI3i2Npo"
   },
   "outputs": [],
   "source": []
  }
 ],
 "metadata": {
  "colab": {
   "private_outputs": true,
   "provenance": []
  },
  "kernelspec": {
   "display_name": "Python 3 (ipykernel)",
   "language": "python",
   "name": "python3"
  },
  "language_info": {
   "codemirror_mode": {
    "name": "ipython",
    "version": 3
   },
   "file_extension": ".py",
   "mimetype": "text/x-python",
   "name": "python",
   "nbconvert_exporter": "python",
   "pygments_lexer": "ipython3",
   "version": "3.9.7"
  }
 },
 "nbformat": 4,
 "nbformat_minor": 1
}
