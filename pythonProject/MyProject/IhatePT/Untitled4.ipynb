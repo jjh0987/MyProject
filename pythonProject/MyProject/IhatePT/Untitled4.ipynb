{
 "cells": [
  {
   "cell_type": "code",
   "execution_count": 1,
   "id": "9c4f4c51",
   "metadata": {},
   "outputs": [],
   "source": [
    "import pandas as pd\n",
    "import numpy as np\n",
    "import soynlp\n",
    "from soynlp.noun import LRNounExtractor_v2\n",
    "from soynlp import DoublespaceLineCorpus\n",
    "from soynlp.word import WordExtractor\n",
    "from soynlp.tokenizer import LTokenizer\n",
    "from soynlp.tokenizer import MaxScoreTokenizer\n",
    "\n",
    "import warnings\n",
    "warnings.filterwarnings('ignore')"
   ]
  },
  {
   "cell_type": "code",
   "execution_count": 2,
   "id": "25aa6ec7",
   "metadata": {},
   "outputs": [],
   "source": [
    "import collections\n",
    "\n",
    "def corpus_init():\n",
    "    f = open(\"./corpus_target.txt\", 'w',encoding='utf8')\n",
    "    f.write('')\n",
    "    f.close()\n",
    "\n",
    "def corpus_save(target):\n",
    "    save = '\\n'.join(target)\n",
    "    f = open(\"./corpus_target.txt\", 'a',encoding='utf8')\n",
    "    f.write(save)\n",
    "    f.close()\n",
    "    \n",
    "    \n",
    "def stop_save(target):\n",
    "    save = '\\n'.join(target)\n",
    "    f = open(\"./stopwords.txt\", 'a',encoding='utf8')\n",
    "    f.write(save)\n",
    "    f.close()\n",
    "    \n",
    "def return_tokenizer():\n",
    "    corpus = DoublespaceLineCorpus(\"./corpus_target.txt\",iter_sent=True)\n",
    "    noun_extractor = LRNounExtractor_v2(verbose=True) # n_gram?\n",
    "    nouns = noun_extractor.train_extract(corpus)\n",
    "    scores = {word:score.score for word, score in nouns.items()}\n",
    "    tokenizer = LTokenizer(scores=scores)\n",
    "    return tokenizer"
   ]
  },
  {
   "cell_type": "code",
   "execution_count": 3,
   "id": "2b93fa32",
   "metadata": {},
   "outputs": [],
   "source": [
    "student = pd.read_csv('./student_sentence_data.csv')\n",
    "teacher = pd.read_csv('./teacher_sentence_data.csv')\n",
    "\n",
    "target = list(teacher['answer'].str.replace('[^0-9가-힣]',' '))\n",
    "target.extend(list(student['answer'].str.replace('[^0-9가-힣]',' ')))"
   ]
  },
  {
   "cell_type": "code",
   "execution_count": 4,
   "id": "1fe13363",
   "metadata": {},
   "outputs": [
    {
     "name": "stdout",
     "output_type": "stream",
     "text": [
      "[Noun Extractor] use default predictors\n",
      "[Noun Extractor] num features: pos=3929, neg=2321, common=107\n",
      "[Noun Extractor] counting eojeols\n",
      "[EojeolCounter] n eojeol = 13631 from 5338 sents. mem=0.166 Gb                    \n",
      "[Noun Extractor] complete eojeol counter -> lr graph\n",
      "[Noun Extractor] has been trained. #eojeols=35740, mem=0.190 Gb\n",
      "[Noun Extractor] batch prediction was completed for 5368 words\n",
      "[Noun Extractor] checked compounds. discovered 321 compounds\n",
      "[Noun Extractor] postprocessing detaching_features : 2365 -> 2311\n",
      "[Noun Extractor] postprocessing ignore_features : 2311 -> 2272\n",
      "[Noun Extractor] postprocessing ignore_NJ : 2272 -> 2256\n",
      "[Noun Extractor] 2256 nouns (321 compounds) with min frequency=1\n",
      "[Noun Extractor] flushing was done. mem=0.197 Gb                    \n",
      "[Noun Extractor] 62.14 % eojeols are covered\n"
     ]
    }
   ],
   "source": [
    "corpus_init()\n",
    "corpus_save(target)\n",
    "tokenizer = return_tokenizer()"
   ]
  },
  {
   "cell_type": "code",
   "execution_count": 5,
   "id": "9e293cc2",
   "metadata": {},
   "outputs": [],
   "source": [
    "stop = ['은','는','이','가','하','아','것','들','의','있','되','수','보','주','등','한','를','을','에','적','할','인가가',\n",
    "        '해서','된','도','인','로','함']\n",
    "stop_words = set(stop)\n",
    "def cleaner(target_sentence):\n",
    "    target_sentence = collections.deque(target_sentence)\n",
    "    for _ in range(len(target_sentence)):\n",
    "        tar = target_sentence.popleft()\n",
    "        if tar not in stop_words:\n",
    "             target_sentence.append(tar)\n",
    "    return list(target_sentence)"
   ]
  },
  {
   "cell_type": "code",
   "execution_count": 6,
   "id": "b90eea26",
   "metadata": {},
   "outputs": [],
   "source": [
    "clean_student_ans = [cleaner(tokenizer(i)) for i in student['answer']]"
   ]
  },
  {
   "cell_type": "code",
   "execution_count": 7,
   "id": "4b78d9f8",
   "metadata": {},
   "outputs": [
    {
     "data": {
      "text/plain": [
       "array([[<AxesSubplot:title={'center':'count'}>]], dtype=object)"
      ]
     },
     "execution_count": 7,
     "metadata": {},
     "output_type": "execute_result"
    },
    {
     "data": {
      "image/png": "[encoded data removed]",
      "text/plain": [
       "<Figure size 432x288 with 1 Axes>"
      ]
     },
     "metadata": {
      "needs_background": "light"
     },
     "output_type": "display_data"
    }
   ],
   "source": [
    "corpus = []\n",
    "for ans in clean_student_ans:\n",
    "    corpus.extend(ans)\n",
    "tp = pd.DataFrame(collections.Counter(corpus),index=['count']).transpose()\n",
    "tp.sort_values(by='count',ascending=False).hist(bins=130) # 사용된단어 개수 분포 : 1번 등장단어빈도가 매우 많다."
   ]
  },
  {
   "cell_type": "code",
   "execution_count": 8,
   "id": "88465763",
   "metadata": {},
   "outputs": [
    {
     "data": {
      "text/html": [
       "<div>\n",
       "<style scoped>\n",
       "    .dataframe tbody tr th:only-of-type {\n",
       "        vertical-align: middle;\n",
       "    }\n",
       "\n",
       "    .dataframe tbody tr th {\n",
       "        vertical-align: top;\n",
       "    }\n",
       "\n",
       "    .dataframe thead th {\n",
       "        text-align: right;\n",
       "    }\n",
       "</style>\n",
       "<table border=\"1\" class=\"dataframe\">\n",
       "  <thead>\n",
       "    <tr style=\"text-align: right;\">\n",
       "      <th></th>\n",
       "      <th>count</th>\n",
       "    </tr>\n",
       "  </thead>\n",
       "  <tbody>\n",
       "    <tr>\n",
       "      <th>그들</th>\n",
       "      <td>127</td>\n",
       "    </tr>\n",
       "    <tr>\n",
       "      <th>하는</th>\n",
       "      <td>123</td>\n",
       "    </tr>\n",
       "    <tr>\n",
       "      <th>에서</th>\n",
       "      <td>120</td>\n",
       "    </tr>\n",
       "    <tr>\n",
       "      <th>있다</th>\n",
       "      <td>111</td>\n",
       "    </tr>\n",
       "    <tr>\n",
       "      <th>으로</th>\n",
       "      <td>104</td>\n",
       "    </tr>\n",
       "    <tr>\n",
       "      <th>...</th>\n",
       "      <td>...</td>\n",
       "    </tr>\n",
       "    <tr>\n",
       "      <th>마감</th>\n",
       "      <td>1</td>\n",
       "    </tr>\n",
       "    <tr>\n",
       "      <th>흘러</th>\n",
       "      <td>1</td>\n",
       "    </tr>\n",
       "    <tr>\n",
       "      <th>나이는</th>\n",
       "      <td>1</td>\n",
       "    </tr>\n",
       "    <tr>\n",
       "      <th>정치적</th>\n",
       "      <td>1</td>\n",
       "    </tr>\n",
       "    <tr>\n",
       "      <th>은많은다양한이유들로유명해질수있다</th>\n",
       "      <td>1</td>\n",
       "    </tr>\n",
       "  </tbody>\n",
       "</table>\n",
       "<p>5909 rows × 1 columns</p>\n",
       "</div>"
      ],
      "text/plain": [
       "                   count\n",
       "그들                   127\n",
       "하는                   123\n",
       "에서                   120\n",
       "있다                   111\n",
       "으로                   104\n",
       "...                  ...\n",
       "마감                     1\n",
       "흘러                     1\n",
       "나이는                    1\n",
       "정치적                    1\n",
       "은많은다양한이유들로유명해질수있다      1\n",
       "\n",
       "[5909 rows x 1 columns]"
      ]
     },
     "execution_count": 8,
     "metadata": {},
     "output_type": "execute_result"
    }
   ],
   "source": [
    "tp.sort_values(by='count',ascending=False) # 사용된단어 5909 # corpus가 작다고 판단."
   ]
  },
  {
   "cell_type": "code",
   "execution_count": 9,
   "id": "6202d0c9",
   "metadata": {},
   "outputs": [],
   "source": [
    "clean_teacher_ans = [cleaner(tokenizer(i)) for i in teacher['answer']]"
   ]
  },
  {
   "cell_type": "code",
   "execution_count": 10,
   "id": "c0410316",
   "metadata": {},
   "outputs": [
    {
     "data": {
      "text/plain": [
       "array([[<AxesSubplot:title={'center':'count'}>]], dtype=object)"
      ]
     },
     "execution_count": 10,
     "metadata": {},
     "output_type": "execute_result"
    },
    {
     "data": {
      "image/png": "[encoded data removed]",
      "text/plain": [
       "<Figure size 432x288 with 1 Axes>"
      ]
     },
     "metadata": {
      "needs_background": "light"
     },
     "output_type": "display_data"
    }
   ],
   "source": [
    "corpus = []\n",
    "for ans in clean_teacher_ans:\n",
    "    corpus.extend(ans)\n",
    "tp = pd.DataFrame(collections.Counter(corpus),index=['count']).transpose()\n",
    "tp.sort_values(by='count',ascending=False).hist(bins=130) # 사용된단어 개수 분포 : 1번 등장단어빈도가 매우 많다."
   ]
  },
  {
   "cell_type": "code",
   "execution_count": 11,
   "id": "aa0b6939",
   "metadata": {},
   "outputs": [
    {
     "data": {
      "text/html": [
       "<div>\n",
       "<style scoped>\n",
       "    .dataframe tbody tr th:only-of-type {\n",
       "        vertical-align: middle;\n",
       "    }\n",
       "\n",
       "    .dataframe tbody tr th {\n",
       "        vertical-align: top;\n",
       "    }\n",
       "\n",
       "    .dataframe thead th {\n",
       "        text-align: right;\n",
       "    }\n",
       "</style>\n",
       "<table border=\"1\" class=\"dataframe\">\n",
       "  <thead>\n",
       "    <tr style=\"text-align: right;\">\n",
       "      <th></th>\n",
       "      <th>count</th>\n",
       "    </tr>\n",
       "  </thead>\n",
       "  <tbody>\n",
       "    <tr>\n",
       "      <th>하는</th>\n",
       "      <td>274</td>\n",
       "    </tr>\n",
       "    <tr>\n",
       "      <th>그리고</th>\n",
       "      <td>240</td>\n",
       "    </tr>\n",
       "    <tr>\n",
       "      <th>그</th>\n",
       "      <td>212</td>\n",
       "    </tr>\n",
       "    <tr>\n",
       "      <th>그들</th>\n",
       "      <td>212</td>\n",
       "    </tr>\n",
       "    <tr>\n",
       "      <th>더</th>\n",
       "      <td>191</td>\n",
       "    </tr>\n",
       "    <tr>\n",
       "      <th>...</th>\n",
       "      <td>...</td>\n",
       "    </tr>\n",
       "    <tr>\n",
       "      <th>타버릴</th>\n",
       "      <td>1</td>\n",
       "    </tr>\n",
       "    <tr>\n",
       "      <th>않을까</th>\n",
       "      <td>1</td>\n",
       "    </tr>\n",
       "    <tr>\n",
       "      <th>두려웠다.</th>\n",
       "      <td>1</td>\n",
       "    </tr>\n",
       "    <tr>\n",
       "      <th>방대한</th>\n",
       "      <td>1</td>\n",
       "    </tr>\n",
       "    <tr>\n",
       "      <th>해질</th>\n",
       "      <td>1</td>\n",
       "    </tr>\n",
       "  </tbody>\n",
       "</table>\n",
       "<p>7118 rows × 1 columns</p>\n",
       "</div>"
      ],
      "text/plain": [
       "       count\n",
       "하는       274\n",
       "그리고      240\n",
       "그        212\n",
       "그들       212\n",
       "더        191\n",
       "...      ...\n",
       "타버릴        1\n",
       "않을까        1\n",
       "두려웠다.      1\n",
       "방대한        1\n",
       "해질         1\n",
       "\n",
       "[7118 rows x 1 columns]"
      ]
     },
     "execution_count": 11,
     "metadata": {},
     "output_type": "execute_result"
    }
   ],
   "source": [
    "tp.sort_values(by='count',ascending=False) # 선생님답변에서 사용된단어가 더 많다."
   ]
  },
  {
   "cell_type": "code",
   "execution_count": 12,
   "id": "2863fb56",
   "metadata": {},
   "outputs": [
    {
     "name": "stdout",
     "output_type": "stream",
     "text": [
      "           length      counts\n",
      "count  109.000000  109.000000\n",
      "mean    56.532110   15.908257\n",
      "std     34.169666   15.626154\n",
      "min      1.000000    1.000000\n",
      "25%     28.000000    2.000000\n",
      "50%     55.000000    8.000000\n",
      "75%     82.000000   27.000000\n",
      "max    135.000000   50.000000\n",
      "           length      counts\n",
      "count  141.000000  141.000000\n",
      "mean    75.588652   12.297872\n",
      "std     43.637315    9.485888\n",
      "min      3.000000    1.000000\n",
      "25%     39.000000    3.000000\n",
      "50%     74.000000   10.000000\n",
      "75%    109.000000   21.000000\n",
      "max    188.000000   34.000000\n"
     ]
    },
    {
     "data": {
      "image/png": "[encoded data removed]",
      "text/plain": [
       "<Figure size 432x288 with 1 Axes>"
      ]
     },
     "metadata": {
      "needs_background": "light"
     },
     "output_type": "display_data"
    }
   ],
   "source": [
    "import matplotlib.pyplot as plt\n",
    "tp = collections.Counter([len(i)for i in student['answer']]) # 문장길이\n",
    "df = pd.DataFrame([tp.keys(),tp.values()]).transpose()\n",
    "df.columns = ['length','counts']\n",
    "df = df.sort_values(by='length')\n",
    "plt.plot(df['length'],df['counts'])\n",
    "\n",
    "print(df.describe())\n",
    "\n",
    "tp = collections.Counter([len(i)for i in teacher['answer']]) # 문장길이\n",
    "df = pd.DataFrame([tp.keys(),tp.values()]).transpose()\n",
    "df.columns = ['length','counts']\n",
    "df = df.sort_values(by='length')\n",
    "plt.plot(df['length'],df['counts'])\n",
    "\n",
    "plt.grid()\n",
    "plt.legend(['student','teacher'])\n",
    "plt.xlabel('sentence length')\n",
    "plt.ylabel('counts')\n",
    "plt.title('Senctence length distribution')\n",
    "\n",
    "print(df.describe())"
   ]
  },
  {
   "cell_type": "code",
   "execution_count": 13,
   "id": "437957e4",
   "metadata": {},
   "outputs": [
    {
     "data": {
      "text/html": [
       "<div>\n",
       "<style scoped>\n",
       "    .dataframe tbody tr th:only-of-type {\n",
       "        vertical-align: middle;\n",
       "    }\n",
       "\n",
       "    .dataframe tbody tr th {\n",
       "        vertical-align: top;\n",
       "    }\n",
       "\n",
       "    .dataframe thead th {\n",
       "        text-align: right;\n",
       "    }\n",
       "</style>\n",
       "<table border=\"1\" class=\"dataframe\">\n",
       "  <thead>\n",
       "    <tr style=\"text-align: right;\">\n",
       "      <th></th>\n",
       "      <th>length</th>\n",
       "      <th>counts</th>\n",
       "    </tr>\n",
       "  </thead>\n",
       "  <tbody>\n",
       "    <tr>\n",
       "      <th>count</th>\n",
       "      <td>141.000000</td>\n",
       "      <td>141.000000</td>\n",
       "    </tr>\n",
       "    <tr>\n",
       "      <th>mean</th>\n",
       "      <td>75.588652</td>\n",
       "      <td>12.297872</td>\n",
       "    </tr>\n",
       "    <tr>\n",
       "      <th>std</th>\n",
       "      <td>43.637315</td>\n",
       "      <td>9.485888</td>\n",
       "    </tr>\n",
       "    <tr>\n",
       "      <th>min</th>\n",
       "      <td>3.000000</td>\n",
       "      <td>1.000000</td>\n",
       "    </tr>\n",
       "    <tr>\n",
       "      <th>25%</th>\n",
       "      <td>39.000000</td>\n",
       "      <td>3.000000</td>\n",
       "    </tr>\n",
       "    <tr>\n",
       "      <th>50%</th>\n",
       "      <td>74.000000</td>\n",
       "      <td>10.000000</td>\n",
       "    </tr>\n",
       "    <tr>\n",
       "      <th>75%</th>\n",
       "      <td>109.000000</td>\n",
       "      <td>21.000000</td>\n",
       "    </tr>\n",
       "    <tr>\n",
       "      <th>max</th>\n",
       "      <td>188.000000</td>\n",
       "      <td>34.000000</td>\n",
       "    </tr>\n",
       "  </tbody>\n",
       "</table>\n",
       "</div>"
      ],
      "text/plain": [
       "           length      counts\n",
       "count  141.000000  141.000000\n",
       "mean    75.588652   12.297872\n",
       "std     43.637315    9.485888\n",
       "min      3.000000    1.000000\n",
       "25%     39.000000    3.000000\n",
       "50%     74.000000   10.000000\n",
       "75%    109.000000   21.000000\n",
       "max    188.000000   34.000000"
      ]
     },
     "execution_count": 13,
     "metadata": {},
     "output_type": "execute_result"
    }
   ],
   "source": [
    "df.describe()"
   ]
  },
  {
   "cell_type": "code",
   "execution_count": 19,
   "id": "aab307fc",
   "metadata": {},
   "outputs": [
    {
     "data": {
      "text/html": [
       "<div>\n",
       "<style scoped>\n",
       "    .dataframe tbody tr th:only-of-type {\n",
       "        vertical-align: middle;\n",
       "    }\n",
       "\n",
       "    .dataframe tbody tr th {\n",
       "        vertical-align: top;\n",
       "    }\n",
       "\n",
       "    .dataframe thead th {\n",
       "        text-align: right;\n",
       "    }\n",
       "</style>\n",
       "<table border=\"1\" class=\"dataframe\">\n",
       "  <thead>\n",
       "    <tr style=\"text-align: right;\">\n",
       "      <th></th>\n",
       "      <th>sentence_id</th>\n",
       "      <th>sentence</th>\n",
       "      <th>answer</th>\n",
       "      <th>label</th>\n",
       "    </tr>\n",
       "  </thead>\n",
       "  <tbody>\n",
       "    <tr>\n",
       "      <th>0</th>\n",
       "      <td>20df21b159a5e1d0ee484c936f1597ef</td>\n",
       "      <td>Suppose you need to measure the temperature in...</td>\n",
       "      <td>너는 농작물 밭에서 온도를 측정할 필요가 있다고 가정해라</td>\n",
       "      <td>1</td>\n",
       "    </tr>\n",
       "    <tr>\n",
       "      <th>1</th>\n",
       "      <td>1b90bfe67b06a515eec82e88e1bd7d84</td>\n",
       "      <td>There are different kinds of knowledge.</td>\n",
       "      <td>지식에는 다른 종류가 있다</td>\n",
       "      <td>1</td>\n",
       "    </tr>\n",
       "    <tr>\n",
       "      <th>2</th>\n",
       "      <td>2673ce8234cc65bf5d5e81743172700b</td>\n",
       "      <td>Why?</td>\n",
       "      <td>왜일까</td>\n",
       "      <td>1</td>\n",
       "    </tr>\n",
       "    <tr>\n",
       "      <th>3</th>\n",
       "      <td>98fdeabb8c02fc9ed1ce18a72fb7e84b</td>\n",
       "      <td>You can be perfect, but you need to change the...</td>\n",
       "      <td>너는 완벽할 수 있지만, 그것을 생각하는 방식을 변화할 필요가 있다</td>\n",
       "      <td>1</td>\n",
       "    </tr>\n",
       "    <tr>\n",
       "      <th>4</th>\n",
       "      <td>60cd307ed0ad93d58635cb0d9d58e1e6</td>\n",
       "      <td>He was a violinist and composer known for his ...</td>\n",
       "      <td>그는 유니크한 퍼포먼스 방법으로 알려져있는 바이올리니스트이자 작곡가였다.</td>\n",
       "      <td>1</td>\n",
       "    </tr>\n",
       "    <tr>\n",
       "      <th>...</th>\n",
       "      <td>...</td>\n",
       "      <td>...</td>\n",
       "      <td>...</td>\n",
       "      <td>...</td>\n",
       "    </tr>\n",
       "    <tr>\n",
       "      <th>1729</th>\n",
       "      <td>a2cb57d228407136bd5bd7d1258af2fe</td>\n",
       "      <td>Or, from the perspective of the character, Who...</td>\n",
       "      <td>또는 등장인물의 관점애서 난 ㄴㄱ?</td>\n",
       "      <td>1</td>\n",
       "    </tr>\n",
       "    <tr>\n",
       "      <th>1730</th>\n",
       "      <td>51dc29f0fc5109927bdee5fa23afb09f</td>\n",
       "      <td>Who is this person?</td>\n",
       "      <td>얘 ㄴㄱ?</td>\n",
       "      <td>1</td>\n",
       "    </tr>\n",
       "    <tr>\n",
       "      <th>1731</th>\n",
       "      <td>9cd6dbaf1d9d205d0cb5d9f2263a710c</td>\n",
       "      <td>If there's a single secret to storytelling the...</td>\n",
       "      <td>만약 이야기하기에 한가지ㅜ비밀이 있다면 난 그게ㅜ이거라 믿는다</td>\n",
       "      <td>1</td>\n",
       "    </tr>\n",
       "    <tr>\n",
       "      <th>1732</th>\n",
       "      <td>4fb845c67d91bcb3178498fc6fe1fedc</td>\n",
       "      <td>Diego</td>\n",
       "      <td>디에고</td>\n",
       "      <td>1</td>\n",
       "    </tr>\n",
       "    <tr>\n",
       "      <th>1733</th>\n",
       "      <td>23c1da8bea3118d0e9f2baf61fdf3973</td>\n",
       "      <td>Animals can become famous for many different r...</td>\n",
       "      <td>동물들은많은다양한이유들로유명해질수있다</td>\n",
       "      <td>1</td>\n",
       "    </tr>\n",
       "  </tbody>\n",
       "</table>\n",
       "<p>872 rows × 4 columns</p>\n",
       "</div>"
      ],
      "text/plain": [
       "                           sentence_id  \\\n",
       "0     20df21b159a5e1d0ee484c936f1597ef   \n",
       "1     1b90bfe67b06a515eec82e88e1bd7d84   \n",
       "2     2673ce8234cc65bf5d5e81743172700b   \n",
       "3     98fdeabb8c02fc9ed1ce18a72fb7e84b   \n",
       "4     60cd307ed0ad93d58635cb0d9d58e1e6   \n",
       "...                                ...   \n",
       "1729  a2cb57d228407136bd5bd7d1258af2fe   \n",
       "1730  51dc29f0fc5109927bdee5fa23afb09f   \n",
       "1731  9cd6dbaf1d9d205d0cb5d9f2263a710c   \n",
       "1732  4fb845c67d91bcb3178498fc6fe1fedc   \n",
       "1733  23c1da8bea3118d0e9f2baf61fdf3973   \n",
       "\n",
       "                                               sentence  \\\n",
       "0     Suppose you need to measure the temperature in...   \n",
       "1               There are different kinds of knowledge.   \n",
       "2                                                  Why?   \n",
       "3     You can be perfect, but you need to change the...   \n",
       "4     He was a violinist and composer known for his ...   \n",
       "...                                                 ...   \n",
       "1729  Or, from the perspective of the character, Who...   \n",
       "1730                                Who is this person?   \n",
       "1731  If there's a single secret to storytelling the...   \n",
       "1732                                              Diego   \n",
       "1733  Animals can become famous for many different r...   \n",
       "\n",
       "                                        answer  label  \n",
       "0              너는 농작물 밭에서 온도를 측정할 필요가 있다고 가정해라      1  \n",
       "1                               지식에는 다른 종류가 있다      1  \n",
       "2                                          왜일까      1  \n",
       "3        너는 완벽할 수 있지만, 그것을 생각하는 방식을 변화할 필요가 있다      1  \n",
       "4     그는 유니크한 퍼포먼스 방법으로 알려져있는 바이올리니스트이자 작곡가였다.      1  \n",
       "...                                        ...    ...  \n",
       "1729                       또는 등장인물의 관점애서 난 ㄴㄱ?      1  \n",
       "1730                                     얘 ㄴㄱ?      1  \n",
       "1731        만약 이야기하기에 한가지ㅜ비밀이 있다면 난 그게ㅜ이거라 믿는다      1  \n",
       "1732                                       디에고      1  \n",
       "1733                      동물들은많은다양한이유들로유명해질수있다      1  \n",
       "\n",
       "[872 rows x 4 columns]"
      ]
     },
     "execution_count": 19,
     "metadata": {},
     "output_type": "execute_result"
    }
   ],
   "source": [
    "one = student[student['label'] == 1]\n",
    "zero = student[student['label'] == 0]\n",
    "one"
   ]
  },
  {
   "cell_type": "code",
   "execution_count": 25,
   "id": "bc5d90be",
   "metadata": {},
   "outputs": [
    {
     "name": "stdout",
     "output_type": "stream",
     "text": [
      "           length     counts\n",
      "count   81.000000  81.000000\n",
      "mean    44.790123  10.641975\n",
      "std     29.692472   9.251093\n",
      "min      1.000000   1.000000\n",
      "25%     21.000000   2.000000\n",
      "50%     41.000000   9.000000\n",
      "75%     65.000000  17.000000\n",
      "max    135.000000  30.000000\n",
      "           length      counts\n",
      "count  104.000000  104.000000\n",
      "mean    54.317308    8.384615\n",
      "std     33.156957    7.507029\n",
      "min      1.000000    1.000000\n",
      "25%     26.750000    2.000000\n",
      "50%     52.500000    5.500000\n",
      "75%     79.250000   14.250000\n",
      "max    134.000000   27.000000\n"
     ]
    },
    {
     "data": {
      "image/png": "[encoded data removed]",
      "text/plain": [
       "<Figure size 432x288 with 1 Axes>"
      ]
     },
     "metadata": {
      "needs_background": "light"
     },
     "output_type": "display_data"
    }
   ],
   "source": [
    "import matplotlib.pyplot as plt\n",
    "tp = collections.Counter([len(i)for i in zero['answer']]) # 문장길이\n",
    "df = pd.DataFrame([tp.keys(),tp.values()]).transpose()\n",
    "df.columns = ['length','counts']\n",
    "df = df.sort_values(by='length')\n",
    "plt.plot(df['length'],df['counts'])\n",
    "\n",
    "print(df.describe())\n",
    "\n",
    "tp = collections.Counter([len(i)for i in one['answer']]) # 문장길이\n",
    "df = pd.DataFrame([tp.keys(),tp.values()]).transpose()\n",
    "df.columns = ['length','counts']\n",
    "df = df.sort_values(by='length')\n",
    "plt.plot(df['length'],df['counts'])\n",
    "\n",
    "plt.grid()\n",
    "plt.legend(['label:0','label:1'])\n",
    "plt.xlabel('sentence length')\n",
    "plt.ylabel('counts')\n",
    "plt.title('Senctence length distribution')\n",
    "\n",
    "print(df.describe())"
   ]
  },
  {
   "cell_type": "code",
   "execution_count": 26,
   "id": "7848c301",
   "metadata": {},
   "outputs": [],
   "source": [
    "student = pd.read_csv('./student_sentence_data.csv')\n",
    "teacher = pd.read_csv('./teacher_sentence_data.csv')"
   ]
  },
  {
   "cell_type": "code",
   "execution_count": 30,
   "id": "564eb4b5",
   "metadata": {},
   "outputs": [
    {
     "data": {
      "text/plain": [
       "Text(0.5, 0, 'same_question')"
      ]
     },
     "execution_count": 30,
     "metadata": {},
     "output_type": "execute_result"
    },
    {
     "data": {
      "image/png": "[encoded data removed]",
      "text/plain": [
       "<Figure size 432x288 with 1 Axes>"
      ]
     },
     "metadata": {
      "needs_background": "light"
     },
     "output_type": "display_data"
    }
   ],
   "source": [
    "student['sentence'].value_counts().hist()\n",
    "plt.title('Question')\n",
    "plt.ylabel('counts')\n",
    "plt.xlabel('same_question')"
   ]
  }
 ],
 "metadata": {
  "kernelspec": {
   "display_name": "Python 3 (ipykernel)",
   "language": "python",
   "name": "python3"
  },
  "language_info": {
   "codemirror_mode": {
    "name": "ipython",
    "version": 3
   },
   "file_extension": ".py",
   "mimetype": "text/x-python",
   "name": "python",
   "nbconvert_exporter": "python",
   "pygments_lexer": "ipython3",
   "version": "3.9.13"
  }
 },
 "nbformat": 4,
 "nbformat_minor": 5
}
