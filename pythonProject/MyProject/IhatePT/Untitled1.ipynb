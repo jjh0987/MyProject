{
 "cells": [
  {
   "cell_type": "code",
   "execution_count": 2,
   "id": "d5b4f9eb",
   "metadata": {},
   "outputs": [],
   "source": [
    "import pandas as pd\n",
    "student = pd.read_csv('./student_sentence_data.csv')\n",
    "teacher = pd.read_csv('./teacher_sentence_data.csv')"
   ]
  },
  {
   "cell_type": "code",
   "execution_count": 3,
   "id": "fea33d7b",
   "metadata": {},
   "outputs": [],
   "source": [
    "import soynlp\n",
    "from soynlp.noun import LRNounExtractor_v2\n",
    "from soynlp import DoublespaceLineCorpus\n",
    "from soynlp.word import WordExtractor\n",
    "from soynlp.tokenizer import LTokenizer\n",
    "\n",
    "import warnings\n",
    "warnings.filterwarnings('ignore')"
   ]
  },
  {
   "cell_type": "code",
   "execution_count": 10,
   "id": "04cab38c",
   "metadata": {},
   "outputs": [],
   "source": [
    "def corpus_save(target):\n",
    "    save = '\\n'.join(target)\n",
    "    f = open(\"./corpus_target.txt\", 'a',encoding='utf8')\n",
    "    f.write(save)\n",
    "    f.close()\n",
    "    \n",
    "def return_tokenizer():\n",
    "    corpus = DoublespaceLineCorpus(\"./corpus_target.txt\",iter_sent=True)\n",
    "    noun_extractor = LRNounExtractor_v2(verbose=True) # n_gram?\n",
    "    nouns = noun_extractor.train_extract(corpus)\n",
    "    scores = {word:score.score for word, score in nouns.items()}\n",
    "    tokenizer = LTokenizer(scores=scores)\n",
    "    return tokenizer"
   ]
  },
  {
   "cell_type": "code",
   "execution_count": 6,
   "id": "91c60517",
   "metadata": {},
   "outputs": [],
   "source": [
    "target = list(teacher['answer'])"
   ]
  },
  {
   "cell_type": "code",
   "execution_count": 8,
   "id": "9de058ab",
   "metadata": {},
   "outputs": [],
   "source": [
    "corpus_save(target)"
   ]
  },
  {
   "cell_type": "code",
   "execution_count": 13,
   "id": "a30221c9",
   "metadata": {},
   "outputs": [
    {
     "name": "stdout",
     "output_type": "stream",
     "text": [
      "[Noun Extractor] use default predictors\n",
      "[Noun Extractor] num features: pos=3929, neg=2321, common=107\n",
      "[Noun Extractor] counting eojeols\n",
      "[EojeolCounter] n eojeol = 10218 from 1734 sents. mem=0.231 Gb                    \n",
      "[Noun Extractor] complete eojeol counter -> lr graph\n",
      "[Noun Extractor] has been trained. #eojeols=22433, mem=0.235 Gb\n",
      "[Noun Extractor] batch prediction was completed for 4017 words\n",
      "[Noun Extractor] checked compounds. discovered 147 compounds\n",
      "[Noun Extractor] postprocessing detaching_features : 1623 -> 1575\n",
      "[Noun Extractor] postprocessing ignore_features : 1575 -> 1538\n",
      "[Noun Extractor] postprocessing ignore_NJ : 1538 -> 1535\n",
      "[Noun Extractor] 1535 nouns (147 compounds) with min frequency=1\n",
      "[Noun Extractor] flushing was done. mem=0.239 Gb                    \n",
      "[Noun Extractor] 54.44 % eojeols are covered\n"
     ]
    }
   ],
   "source": [
    "tokenizer = return_tokenizer()"
   ]
  },
  {
   "cell_type": "code",
   "execution_count": 20,
   "id": "7a705b34",
   "metadata": {},
   "outputs": [],
   "source": [
    "te_answer = []\n",
    "for i in range(len(target)):\n",
    "    te_answer.extend(tokenizer.tokenize(student['answer'][i]))"
   ]
  },
  {
   "cell_type": "code",
   "execution_count": null,
   "id": "9692d637",
   "metadata": {},
   "outputs": [],
   "source": [
    "from google.cloud import "
   ]
  }
 ],
 "metadata": {
  "kernelspec": {
   "display_name": "Python 3 (ipykernel)",
   "language": "python",
   "name": "python3"
  },
  "language_info": {
   "codemirror_mode": {
    "name": "ipython",
    "version": 3
   },
   "file_extension": ".py",
   "mimetype": "text/x-python",
   "name": "python",
   "nbconvert_exporter": "python",
   "pygments_lexer": "ipython3",
   "version": "3.9.13"
  }
 },
 "nbformat": 4,
 "nbformat_minor": 5
}
