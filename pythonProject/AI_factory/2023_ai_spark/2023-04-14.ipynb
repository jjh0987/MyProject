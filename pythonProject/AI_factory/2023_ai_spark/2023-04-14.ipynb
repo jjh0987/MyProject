{
 "cells": [
  {
   "cell_type": "code",
   "execution_count": 1,
   "id": "d8121131",
   "metadata": {},
   "outputs": [],
   "source": [
    "import random\n",
    "import pandas as pd\n",
    "import numpy as np\n",
    "import os\n",
    "from sklearn.model_selection import train_test_split\n",
    "from sklearn.ensemble import IsolationForest\n",
    "from sklearn.metrics import accuracy_score\n",
    "from sklearn.metrics import f1_score\n",
    "import matplotlib.pyplot as plt\n",
    "\n",
    "from tqdm.auto import tqdm\n",
    "\n",
    "import warnings\n",
    "warnings.filterwarnings(action='ignore') \n",
    "\n",
    "def seed_everything(seed):\n",
    "    random.seed(seed)\n",
    "    os.environ['PYTHONHASHSEED'] = str(seed)\n",
    "    np.random.seed(seed)\n",
    "\n",
    "seed_everything(777) # Seed 고정"
   ]
  },
  {
   "cell_type": "code",
   "execution_count": 2,
   "id": "2721855b",
   "metadata": {},
   "outputs": [],
   "source": [
    "train_path = './train_data.csv'\n",
    "test_path = './test_data.csv'\n",
    "\n",
    "trainData = pd.read_csv(train_path)\n",
    "testData = pd.read_csv(test_path)"
   ]
  },
  {
   "cell_type": "code",
   "execution_count": 3,
   "id": "678bc3d0",
   "metadata": {},
   "outputs": [
    {
     "data": {
      "text/plain": [
       "((366, 6), (353, 6), (1422, 6), (306, 6))"
      ]
     },
     "execution_count": 3,
     "metadata": {},
     "output_type": "execute_result"
    }
   ],
   "source": [
    "def preprocessing(df_):\n",
    "    df = df_.copy()\n",
    "    '''\n",
    "    preprocessing: outlier 제거, 마력 수준에 맞게 분할\n",
    "    '''\n",
    "    \n",
    "    # type 1 -> motor_vibration 10 이상 제거\n",
    "    df_type_1 = df.loc[df.type == 1]\n",
    "    df_type_1_outofdist_index = df_type_1.loc[df_type_1.motor_vibe.values > 10.0].index\n",
    "    df.drop(index = df_type_1_outofdist_index, inplace = True)\n",
    "    \n",
    "    # 마력수준에 따른 데이터분할\n",
    "    # 마력 10: type 2\n",
    "    # 마력 20: type 1\n",
    "    # 마력 30: type 0, 4, 5, 6, 7\n",
    "    # 마력 50: type 3\n",
    "    \n",
    "    df_0_power30 = df.loc[df.type == 0]\n",
    "    df_1_power20 = df.loc[df.type == 1]\n",
    "    df_2_power10 = df.loc[df.type == 2]\n",
    "    df_3_power50 = df.loc[df.type == 3]\n",
    "    df_4_power30 = df.loc[df.type == 4]\n",
    "    df_5_power30 = df.loc[df.type == 5]\n",
    "    df_6_power30 = df.loc[df.type == 6]\n",
    "    df_7_power30 = df.loc[df.type == 7]\n",
    "    \n",
    "    df_power10 = df_2_power10\n",
    "    df_power20 = df_1_power20\n",
    "    df_power30 = pd.concat([df_0_power30, df_4_power30, df_5_power30, df_6_power30, df_7_power30], axis = 0)\n",
    "    df_power50 = df_3_power50\n",
    "    \n",
    "    # drop out_pressure columns\n",
    "    df_power10.drop(columns = ['out_pressure', 'type'], inplace = True)\n",
    "    df_power20.drop(columns = ['out_pressure', 'type'], inplace = True)\n",
    "    df_power30.drop(columns = ['out_pressure', 'type'], inplace = True)\n",
    "    df_power50.drop(columns = ['out_pressure', 'type'], inplace = True)\n",
    "    return df_power10, df_power20, df_power30, df_power50\n",
    "\n",
    "train_power10, train_power20, train_power30, train_power50 = preprocessing(trainData)\n",
    "test_power10, test_power20, test_power30, test_power50 = preprocessing(testData)\n",
    "train_power10.shape, train_power20.shape, train_power30.shape, train_power50.shape"
   ]
  },
  {
   "cell_type": "code",
   "execution_count": 5,
   "id": "75b30516",
   "metadata": {},
   "outputs": [
    {
     "ename": "ModuleNotFoundError",
     "evalue": "No module named 'pycaret'",
     "output_type": "error",
     "traceback": [
      "\u001b[0;31m---------------------------------------------------------------------------\u001b[0m",
      "\u001b[0;31mModuleNotFoundError\u001b[0m                       Traceback (most recent call last)",
      "Input \u001b[0;32mIn [5]\u001b[0m, in \u001b[0;36m<cell line: 1>\u001b[0;34m()\u001b[0m\n\u001b[0;32m----> 1\u001b[0m \u001b[38;5;28;01mfrom\u001b[39;00m \u001b[38;5;21;01mpycaret\u001b[39;00m \u001b[38;5;28;01mimport\u001b[39;00m regression\n",
      "\u001b[0;31mModuleNotFoundError\u001b[0m: No module named 'pycaret'"
     ]
    }
   ],
   "source": [
    "from pycaret import regression\n"
   ]
  },
  {
   "cell_type": "code",
   "execution_count": null,
   "id": "41afea4a",
   "metadata": {},
   "outputs": [],
   "source": []
  }
 ],
 "metadata": {
  "kernelspec": {
   "display_name": "Python 3 (ipykernel)",
   "language": "python",
   "name": "python3"
  },
  "language_info": {
   "codemirror_mode": {
    "name": "ipython",
    "version": 3
   },
   "file_extension": ".py",
   "mimetype": "text/x-python",
   "name": "python",
   "nbconvert_exporter": "python",
   "pygments_lexer": "ipython3",
   "version": "3.9.13"
  }
 },
 "nbformat": 4,
 "nbformat_minor": 5
}
