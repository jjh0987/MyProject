{
 "cells": [
  {
   "cell_type": "code",
   "execution_count": 1,
   "id": "c06e3ac5",
   "metadata": {},
   "outputs": [
    {
     "ename": "RuntimeError",
     "evalue": "module compiled against API version 0xe but this version of numpy is 0xd",
     "output_type": "error",
     "traceback": [
      "\u001b[0;31m---------------------------------------------------------------------------\u001b[0m",
      "\u001b[0;31mRuntimeError\u001b[0m                              Traceback (most recent call last)",
      "\u001b[0;31mRuntimeError\u001b[0m: module compiled against API version 0xe but this version of numpy is 0xd"
     ]
    },
    {
     "name": "stdout",
     "output_type": "stream",
     "text": [
      "['./TRAIN_AWS/성거.csv', './TRAIN_AWS/홍성죽도.csv', './TRAIN_AWS/예산.csv', './TRAIN_AWS/홍북.csv', './TRAIN_AWS/호도.csv', './TRAIN_AWS/서천.csv', './TRAIN_AWS/대산.csv', './TRAIN_AWS/오월드.csv', './TRAIN_AWS/장동.csv', './TRAIN_AWS/춘장대.csv', './TRAIN_AWS/유구.csv', './TRAIN_AWS/논산.csv', './TRAIN_AWS/옹도.csv', './TRAIN_AWS/북격렬비도.csv', './TRAIN_AWS/세종고운.csv', './TRAIN_AWS/청양.csv', './TRAIN_AWS/세천.csv', './TRAIN_AWS/양화.csv', './TRAIN_AWS/당진.csv', './TRAIN_AWS/계룡.csv', './TRAIN_AWS/세종연서.csv', './TRAIN_AWS/세종금남.csv', './TRAIN_AWS/공주.csv', './TRAIN_AWS/아산.csv', './TRAIN_AWS/대천항.csv', './TRAIN_AWS/태안.csv', './TRAIN_AWS/안도.csv', './TRAIN_AWS/정안.csv', './TRAIN_AWS/세종전의.csv', './TRAIN_AWS/정산.csv']\n",
      "['./TRAIN/이원면.csv', './TRAIN/신흥동.csv', './TRAIN/동문동.csv', './TRAIN/독곶리.csv', './TRAIN/아름동.csv', './TRAIN/문창동.csv', './TRAIN/예산군.csv', './TRAIN/모종동.csv', './TRAIN/논산.csv', './TRAIN/읍내동.csv', './TRAIN/정림동.csv', './TRAIN/노은동.csv', './TRAIN/신방동.csv', './TRAIN/공주.csv', './TRAIN/홍성읍.csv', './TRAIN/성성동.csv', './TRAIN/대천2동.csv']\n"
     ]
    }
   ],
   "source": [
    "import pandas as pd\n",
    "import glob\n",
    "import warnings\n",
    "warnings.filterwarnings(action='ignore') \n",
    "\n",
    "train_aws = glob.glob('./TRAIN_AWS/*.csv')\n",
    "train = glob.glob('./TRAIN/*.csv')\n",
    "print(train_aws)\n",
    "print(train)"
   ]
  },
  {
   "cell_type": "code",
   "execution_count": 2,
   "id": "cad5d711",
   "metadata": {},
   "outputs": [
    {
     "name": "stdout",
     "output_type": "stream",
     "text": [
      "['./TEST_AWS/성거.csv', './TEST_AWS/홍성죽도.csv', './TEST_AWS/예산.csv', './TEST_AWS/홍북.csv', './TEST_AWS/호도.csv', './TEST_AWS/서천.csv', './TEST_AWS/대산.csv', './TEST_AWS/오월드.csv', './TEST_AWS/장동.csv', './TEST_AWS/춘장대.csv', './TEST_AWS/유구.csv', './TEST_AWS/논산.csv', './TEST_AWS/옹도.csv', './TEST_AWS/북격렬비도.csv', './TEST_AWS/세종고운.csv', './TEST_AWS/청양.csv', './TEST_AWS/세천.csv', './TEST_AWS/양화.csv', './TEST_AWS/당진.csv', './TEST_AWS/계룡.csv', './TEST_AWS/세종연서.csv', './TEST_AWS/세종금남.csv', './TEST_AWS/공주.csv', './TEST_AWS/아산.csv', './TEST_AWS/대천항.csv', './TEST_AWS/태안.csv', './TEST_AWS/안도.csv', './TEST_AWS/정안.csv', './TEST_AWS/세종전의.csv', './TEST_AWS/정산.csv']\n",
      "['./TEST_INPUT/이원면.csv', './TEST_INPUT/신흥동.csv', './TEST_INPUT/동문동.csv', './TEST_INPUT/독곶리.csv', './TEST_INPUT/아름동.csv', './TEST_INPUT/문창동.csv', './TEST_INPUT/예산군.csv', './TEST_INPUT/모종동.csv', './TEST_INPUT/논산.csv', './TEST_INPUT/읍내동.csv', './TEST_INPUT/정림동.csv', './TEST_INPUT/노은동.csv', './TEST_INPUT/신방동.csv', './TEST_INPUT/공주.csv', './TEST_INPUT/홍성읍.csv', './TEST_INPUT/성성동.csv', './TEST_INPUT/대천2동.csv']\n"
     ]
    }
   ],
   "source": [
    "test_aws = glob.glob('./TEST_AWS/*.csv')\n",
    "test = glob.glob('./TEST_INPUT/*.csv')\n",
    "print(test_aws)\n",
    "print(test)"
   ]
  },
  {
   "cell_type": "code",
   "execution_count": 4,
   "id": "90b58015",
   "metadata": {},
   "outputs": [
    {
     "data": {
      "text/html": [
       "<div>\n",
       "<style scoped>\n",
       "    .dataframe tbody tr th:only-of-type {\n",
       "        vertical-align: middle;\n",
       "    }\n",
       "\n",
       "    .dataframe tbody tr th {\n",
       "        vertical-align: top;\n",
       "    }\n",
       "\n",
       "    .dataframe thead th {\n",
       "        text-align: right;\n",
       "    }\n",
       "</style>\n",
       "<table border=\"1\" class=\"dataframe\">\n",
       "  <thead>\n",
       "    <tr style=\"text-align: right;\">\n",
       "      <th></th>\n",
       "      <th>연도</th>\n",
       "      <th>일시</th>\n",
       "      <th>측정소</th>\n",
       "      <th>PM2.5</th>\n",
       "    </tr>\n",
       "  </thead>\n",
       "  <tbody>\n",
       "    <tr>\n",
       "      <th>0</th>\n",
       "      <td>0</td>\n",
       "      <td>01-01 00:00</td>\n",
       "      <td>이원면</td>\n",
       "      <td>0.036</td>\n",
       "    </tr>\n",
       "    <tr>\n",
       "      <th>1</th>\n",
       "      <td>0</td>\n",
       "      <td>01-01 01:00</td>\n",
       "      <td>이원면</td>\n",
       "      <td>0.040</td>\n",
       "    </tr>\n",
       "    <tr>\n",
       "      <th>2</th>\n",
       "      <td>0</td>\n",
       "      <td>01-01 02:00</td>\n",
       "      <td>이원면</td>\n",
       "      <td>0.032</td>\n",
       "    </tr>\n",
       "    <tr>\n",
       "      <th>3</th>\n",
       "      <td>0</td>\n",
       "      <td>01-01 03:00</td>\n",
       "      <td>이원면</td>\n",
       "      <td>0.040</td>\n",
       "    </tr>\n",
       "    <tr>\n",
       "      <th>4</th>\n",
       "      <td>0</td>\n",
       "      <td>01-01 04:00</td>\n",
       "      <td>이원면</td>\n",
       "      <td>0.040</td>\n",
       "    </tr>\n",
       "    <tr>\n",
       "      <th>...</th>\n",
       "      <td>...</td>\n",
       "      <td>...</td>\n",
       "      <td>...</td>\n",
       "      <td>...</td>\n",
       "    </tr>\n",
       "    <tr>\n",
       "      <th>35059</th>\n",
       "      <td>3</td>\n",
       "      <td>12-31 19:00</td>\n",
       "      <td>이원면</td>\n",
       "      <td>0.036</td>\n",
       "    </tr>\n",
       "    <tr>\n",
       "      <th>35060</th>\n",
       "      <td>3</td>\n",
       "      <td>12-31 20:00</td>\n",
       "      <td>이원면</td>\n",
       "      <td>0.060</td>\n",
       "    </tr>\n",
       "    <tr>\n",
       "      <th>35061</th>\n",
       "      <td>3</td>\n",
       "      <td>12-31 21:00</td>\n",
       "      <td>이원면</td>\n",
       "      <td>0.048</td>\n",
       "    </tr>\n",
       "    <tr>\n",
       "      <th>35062</th>\n",
       "      <td>3</td>\n",
       "      <td>12-31 22:00</td>\n",
       "      <td>이원면</td>\n",
       "      <td>0.040</td>\n",
       "    </tr>\n",
       "    <tr>\n",
       "      <th>35063</th>\n",
       "      <td>3</td>\n",
       "      <td>12-31 23:00</td>\n",
       "      <td>이원면</td>\n",
       "      <td>0.052</td>\n",
       "    </tr>\n",
       "  </tbody>\n",
       "</table>\n",
       "<p>35064 rows × 4 columns</p>\n",
       "</div>"
      ],
      "text/plain": [
       "       연도           일시  측정소  PM2.5\n",
       "0       0  01-01 00:00  이원면  0.036\n",
       "1       0  01-01 01:00  이원면  0.040\n",
       "2       0  01-01 02:00  이원면  0.032\n",
       "3       0  01-01 03:00  이원면  0.040\n",
       "4       0  01-01 04:00  이원면  0.040\n",
       "...    ..          ...  ...    ...\n",
       "35059   3  12-31 19:00  이원면  0.036\n",
       "35060   3  12-31 20:00  이원면  0.060\n",
       "35061   3  12-31 21:00  이원면  0.048\n",
       "35062   3  12-31 22:00  이원면  0.040\n",
       "35063   3  12-31 23:00  이원면  0.052\n",
       "\n",
       "[35064 rows x 4 columns]"
      ]
     },
     "execution_count": 4,
     "metadata": {},
     "output_type": "execute_result"
    }
   ],
   "source": [
    "pd.read_csv(train[0])"
   ]
  }
 ],
 "metadata": {
  "kernelspec": {
   "display_name": "Python 3 (ipykernel)",
   "language": "python",
   "name": "python3"
  },
  "language_info": {
   "codemirror_mode": {
    "name": "ipython",
    "version": 3
   },
   "file_extension": ".py",
   "mimetype": "text/x-python",
   "name": "python",
   "nbconvert_exporter": "python",
   "pygments_lexer": "ipython3",
   "version": "3.8.13"
  }
 },
 "nbformat": 4,
 "nbformat_minor": 5
}
