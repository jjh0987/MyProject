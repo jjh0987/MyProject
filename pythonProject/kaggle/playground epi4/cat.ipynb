{
 "cells": [
  {
   "cell_type": "code",
   "execution_count": 1,
   "id": "7353e603",
   "metadata": {},
   "outputs": [
    {
     "name": "stderr",
     "output_type": "stream",
     "text": [
      "C:\\Users\\user\\anaconda3\\envs\\ml\\lib\\site-packages\\xgboost\\compat.py:36: FutureWarning: pandas.Int64Index is deprecated and will be removed from pandas in a future version. Use pandas.Index with the appropriate dtype instead.\n",
      "  from pandas import MultiIndex, Int64Index\n"
     ]
    }
   ],
   "source": [
    "import numpy as np\n",
    "import pandas as pd\n",
    "from tqdm import tqdm\n",
    "import matplotlib.pyplot as plt\n",
    "import seaborn as sns\n",
    "import plotly.express as px\n",
    "\n",
    "from sklearn.pipeline import Pipeline\n",
    "from sklearn.impute import SimpleImputer\n",
    "from sklearn.compose import ColumnTransformer\n",
    "from sklearn.decomposition import PCA\n",
    "from sklearn.cluster import KMeans\n",
    "from sklearn.preprocessing import StandardScaler, MinMaxScaler, Normalizer, RobustScaler, LabelEncoder, OneHotEncoder\n",
    "from sklearn.metrics import mean_squared_error, roc_auc_score\n",
    "from sklearn.model_selection import KFold, StratifiedKFold\n",
    "from sklearn.model_selection import GridSearchCV\n",
    "from category_encoders import LeaveOneOutEncoder\n",
    "\n",
    "from catboost import CatBoostClassifier\n",
    "from xgboost import XGBClassifier\n",
    "from lightgbm.sklearn import LGBMClassifier\n",
    "from sklearn.linear_model import LogisticRegression\n",
    "from sklearn.ensemble import RandomForestClassifier\n",
    "from sklearn.neighbors import KNeighborsClassifier\n",
    "from sklearn.svm import SVC\n",
    "from sklearn.ensemble import ExtraTreesClassifier\n",
    "\n",
    "import optuna\n",
    "from optuna.samplers import TPESampler\n",
    "\n",
    "import warnings\n",
    "\n",
    "warnings.filterwarnings('ignore')"
   ]
  },
  {
   "cell_type": "code",
   "execution_count": 2,
   "id": "892ae7a4",
   "metadata": {},
   "outputs": [],
   "source": [
    "train = pd.read_csv('../../../../../data/pg_epi4/train.csv').drop('id',axis=1)\n",
    "test = pd.read_csv('../../../../../data/pg_epi4/test.csv')\n",
    "origin = pd.read_csv('../../../../../data/pg_epi4/creditcard.csv')"
   ]
  },
  {
   "cell_type": "code",
   "execution_count": 3,
   "id": "9a7aa33a",
   "metadata": {},
   "outputs": [],
   "source": [
    "train = pd.concat([train,origin],axis=0).drop_duplicates()"
   ]
  },
  {
   "cell_type": "code",
   "execution_count": 4,
   "id": "5fc800b0",
   "metadata": {},
   "outputs": [
    {
     "data": {
      "text/plain": [
       "0    501884\n",
       "1       942\n",
       "Name: Class, dtype: int64"
      ]
     },
     "execution_count": 4,
     "metadata": {},
     "output_type": "execute_result"
    }
   ],
   "source": [
    "train.Class.value_counts()"
   ]
  },
  {
   "cell_type": "code",
   "execution_count": 5,
   "id": "ebcfefa4",
   "metadata": {},
   "outputs": [
    {
     "data": {
      "text/html": [
       "<div>\n",
       "<style scoped>\n",
       "    .dataframe tbody tr th:only-of-type {\n",
       "        vertical-align: middle;\n",
       "    }\n",
       "\n",
       "    .dataframe tbody tr th {\n",
       "        vertical-align: top;\n",
       "    }\n",
       "\n",
       "    .dataframe thead th {\n",
       "        text-align: right;\n",
       "    }\n",
       "</style>\n",
       "<table border=\"1\" class=\"dataframe\">\n",
       "  <thead>\n",
       "    <tr style=\"text-align: right;\">\n",
       "      <th></th>\n",
       "      <th>Time</th>\n",
       "      <th>V1</th>\n",
       "      <th>V2</th>\n",
       "      <th>V3</th>\n",
       "      <th>V4</th>\n",
       "      <th>V5</th>\n",
       "      <th>V6</th>\n",
       "      <th>V7</th>\n",
       "      <th>V8</th>\n",
       "      <th>V9</th>\n",
       "      <th>...</th>\n",
       "      <th>V21</th>\n",
       "      <th>V22</th>\n",
       "      <th>V23</th>\n",
       "      <th>V24</th>\n",
       "      <th>V25</th>\n",
       "      <th>V26</th>\n",
       "      <th>V27</th>\n",
       "      <th>V28</th>\n",
       "      <th>Amount</th>\n",
       "      <th>Class</th>\n",
       "    </tr>\n",
       "  </thead>\n",
       "  <tbody>\n",
       "    <tr>\n",
       "      <th>0</th>\n",
       "      <td>0.0</td>\n",
       "      <td>2.074329</td>\n",
       "      <td>-0.129425</td>\n",
       "      <td>-1.137418</td>\n",
       "      <td>0.412846</td>\n",
       "      <td>-0.192638</td>\n",
       "      <td>-1.210144</td>\n",
       "      <td>0.110697</td>\n",
       "      <td>-0.263477</td>\n",
       "      <td>0.742144</td>\n",
       "      <td>...</td>\n",
       "      <td>-0.334701</td>\n",
       "      <td>-0.887840</td>\n",
       "      <td>0.336701</td>\n",
       "      <td>-0.110835</td>\n",
       "      <td>-0.291459</td>\n",
       "      <td>0.207733</td>\n",
       "      <td>-0.076576</td>\n",
       "      <td>-0.059577</td>\n",
       "      <td>1.98</td>\n",
       "      <td>0</td>\n",
       "    </tr>\n",
       "    <tr>\n",
       "      <th>1</th>\n",
       "      <td>0.0</td>\n",
       "      <td>1.998827</td>\n",
       "      <td>-1.250891</td>\n",
       "      <td>-0.520969</td>\n",
       "      <td>-0.894539</td>\n",
       "      <td>-1.122528</td>\n",
       "      <td>-0.270866</td>\n",
       "      <td>-1.029289</td>\n",
       "      <td>0.050198</td>\n",
       "      <td>-0.109948</td>\n",
       "      <td>...</td>\n",
       "      <td>0.054848</td>\n",
       "      <td>-0.038367</td>\n",
       "      <td>0.133518</td>\n",
       "      <td>-0.461928</td>\n",
       "      <td>-0.465491</td>\n",
       "      <td>-0.464655</td>\n",
       "      <td>-0.009413</td>\n",
       "      <td>-0.038238</td>\n",
       "      <td>84.00</td>\n",
       "      <td>0</td>\n",
       "    </tr>\n",
       "    <tr>\n",
       "      <th>2</th>\n",
       "      <td>0.0</td>\n",
       "      <td>0.091535</td>\n",
       "      <td>1.004517</td>\n",
       "      <td>-0.223445</td>\n",
       "      <td>-0.435249</td>\n",
       "      <td>0.667548</td>\n",
       "      <td>-0.988351</td>\n",
       "      <td>0.948146</td>\n",
       "      <td>-0.084789</td>\n",
       "      <td>-0.042027</td>\n",
       "      <td>...</td>\n",
       "      <td>-0.326725</td>\n",
       "      <td>-0.803736</td>\n",
       "      <td>0.154495</td>\n",
       "      <td>0.951233</td>\n",
       "      <td>-0.506919</td>\n",
       "      <td>0.085046</td>\n",
       "      <td>0.224458</td>\n",
       "      <td>0.087356</td>\n",
       "      <td>2.69</td>\n",
       "      <td>0</td>\n",
       "    </tr>\n",
       "    <tr>\n",
       "      <th>3</th>\n",
       "      <td>0.0</td>\n",
       "      <td>1.979649</td>\n",
       "      <td>-0.184949</td>\n",
       "      <td>-1.064206</td>\n",
       "      <td>0.120125</td>\n",
       "      <td>-0.215238</td>\n",
       "      <td>-0.648829</td>\n",
       "      <td>-0.087826</td>\n",
       "      <td>-0.035367</td>\n",
       "      <td>0.885838</td>\n",
       "      <td>...</td>\n",
       "      <td>-0.095514</td>\n",
       "      <td>-0.079792</td>\n",
       "      <td>0.167701</td>\n",
       "      <td>-0.042939</td>\n",
       "      <td>0.000799</td>\n",
       "      <td>-0.096148</td>\n",
       "      <td>-0.057780</td>\n",
       "      <td>-0.073839</td>\n",
       "      <td>1.00</td>\n",
       "      <td>0</td>\n",
       "    </tr>\n",
       "    <tr>\n",
       "      <th>4</th>\n",
       "      <td>0.0</td>\n",
       "      <td>1.025898</td>\n",
       "      <td>-0.171827</td>\n",
       "      <td>1.203717</td>\n",
       "      <td>1.243900</td>\n",
       "      <td>-0.636572</td>\n",
       "      <td>1.099074</td>\n",
       "      <td>-0.938651</td>\n",
       "      <td>0.569239</td>\n",
       "      <td>0.692665</td>\n",
       "      <td>...</td>\n",
       "      <td>0.099157</td>\n",
       "      <td>0.608908</td>\n",
       "      <td>0.027901</td>\n",
       "      <td>-0.262813</td>\n",
       "      <td>0.257834</td>\n",
       "      <td>-0.252829</td>\n",
       "      <td>0.108338</td>\n",
       "      <td>0.021051</td>\n",
       "      <td>1.00</td>\n",
       "      <td>0</td>\n",
       "    </tr>\n",
       "    <tr>\n",
       "      <th>...</th>\n",
       "      <td>...</td>\n",
       "      <td>...</td>\n",
       "      <td>...</td>\n",
       "      <td>...</td>\n",
       "      <td>...</td>\n",
       "      <td>...</td>\n",
       "      <td>...</td>\n",
       "      <td>...</td>\n",
       "      <td>...</td>\n",
       "      <td>...</td>\n",
       "      <td>...</td>\n",
       "      <td>...</td>\n",
       "      <td>...</td>\n",
       "      <td>...</td>\n",
       "      <td>...</td>\n",
       "      <td>...</td>\n",
       "      <td>...</td>\n",
       "      <td>...</td>\n",
       "      <td>...</td>\n",
       "      <td>...</td>\n",
       "      <td>...</td>\n",
       "    </tr>\n",
       "    <tr>\n",
       "      <th>284802</th>\n",
       "      <td>172786.0</td>\n",
       "      <td>-11.881118</td>\n",
       "      <td>10.071785</td>\n",
       "      <td>-9.834783</td>\n",
       "      <td>-2.066656</td>\n",
       "      <td>-5.364473</td>\n",
       "      <td>-2.606837</td>\n",
       "      <td>-4.918215</td>\n",
       "      <td>7.305334</td>\n",
       "      <td>1.914428</td>\n",
       "      <td>...</td>\n",
       "      <td>0.213454</td>\n",
       "      <td>0.111864</td>\n",
       "      <td>1.014480</td>\n",
       "      <td>-0.509348</td>\n",
       "      <td>1.436807</td>\n",
       "      <td>0.250034</td>\n",
       "      <td>0.943651</td>\n",
       "      <td>0.823731</td>\n",
       "      <td>0.77</td>\n",
       "      <td>0</td>\n",
       "    </tr>\n",
       "    <tr>\n",
       "      <th>284803</th>\n",
       "      <td>172787.0</td>\n",
       "      <td>-0.732789</td>\n",
       "      <td>-0.055080</td>\n",
       "      <td>2.035030</td>\n",
       "      <td>-0.738589</td>\n",
       "      <td>0.868229</td>\n",
       "      <td>1.058415</td>\n",
       "      <td>0.024330</td>\n",
       "      <td>0.294869</td>\n",
       "      <td>0.584800</td>\n",
       "      <td>...</td>\n",
       "      <td>0.214205</td>\n",
       "      <td>0.924384</td>\n",
       "      <td>0.012463</td>\n",
       "      <td>-1.016226</td>\n",
       "      <td>-0.606624</td>\n",
       "      <td>-0.395255</td>\n",
       "      <td>0.068472</td>\n",
       "      <td>-0.053527</td>\n",
       "      <td>24.79</td>\n",
       "      <td>0</td>\n",
       "    </tr>\n",
       "    <tr>\n",
       "      <th>284804</th>\n",
       "      <td>172788.0</td>\n",
       "      <td>1.919565</td>\n",
       "      <td>-0.301254</td>\n",
       "      <td>-3.249640</td>\n",
       "      <td>-0.557828</td>\n",
       "      <td>2.630515</td>\n",
       "      <td>3.031260</td>\n",
       "      <td>-0.296827</td>\n",
       "      <td>0.708417</td>\n",
       "      <td>0.432454</td>\n",
       "      <td>...</td>\n",
       "      <td>0.232045</td>\n",
       "      <td>0.578229</td>\n",
       "      <td>-0.037501</td>\n",
       "      <td>0.640134</td>\n",
       "      <td>0.265745</td>\n",
       "      <td>-0.087371</td>\n",
       "      <td>0.004455</td>\n",
       "      <td>-0.026561</td>\n",
       "      <td>67.88</td>\n",
       "      <td>0</td>\n",
       "    </tr>\n",
       "    <tr>\n",
       "      <th>284805</th>\n",
       "      <td>172788.0</td>\n",
       "      <td>-0.240440</td>\n",
       "      <td>0.530483</td>\n",
       "      <td>0.702510</td>\n",
       "      <td>0.689799</td>\n",
       "      <td>-0.377961</td>\n",
       "      <td>0.623708</td>\n",
       "      <td>-0.686180</td>\n",
       "      <td>0.679145</td>\n",
       "      <td>0.392087</td>\n",
       "      <td>...</td>\n",
       "      <td>0.265245</td>\n",
       "      <td>0.800049</td>\n",
       "      <td>-0.163298</td>\n",
       "      <td>0.123205</td>\n",
       "      <td>-0.569159</td>\n",
       "      <td>0.546668</td>\n",
       "      <td>0.108821</td>\n",
       "      <td>0.104533</td>\n",
       "      <td>10.00</td>\n",
       "      <td>0</td>\n",
       "    </tr>\n",
       "    <tr>\n",
       "      <th>284806</th>\n",
       "      <td>172792.0</td>\n",
       "      <td>-0.533413</td>\n",
       "      <td>-0.189733</td>\n",
       "      <td>0.703337</td>\n",
       "      <td>-0.506271</td>\n",
       "      <td>-0.012546</td>\n",
       "      <td>-0.649617</td>\n",
       "      <td>1.577006</td>\n",
       "      <td>-0.414650</td>\n",
       "      <td>0.486180</td>\n",
       "      <td>...</td>\n",
       "      <td>0.261057</td>\n",
       "      <td>0.643078</td>\n",
       "      <td>0.376777</td>\n",
       "      <td>0.008797</td>\n",
       "      <td>-0.473649</td>\n",
       "      <td>-0.818267</td>\n",
       "      <td>-0.002415</td>\n",
       "      <td>0.013649</td>\n",
       "      <td>217.00</td>\n",
       "      <td>0</td>\n",
       "    </tr>\n",
       "  </tbody>\n",
       "</table>\n",
       "<p>502826 rows × 31 columns</p>\n",
       "</div>"
      ],
      "text/plain": [
       "            Time         V1         V2        V3        V4        V5  \\\n",
       "0            0.0   2.074329  -0.129425 -1.137418  0.412846 -0.192638   \n",
       "1            0.0   1.998827  -1.250891 -0.520969 -0.894539 -1.122528   \n",
       "2            0.0   0.091535   1.004517 -0.223445 -0.435249  0.667548   \n",
       "3            0.0   1.979649  -0.184949 -1.064206  0.120125 -0.215238   \n",
       "4            0.0   1.025898  -0.171827  1.203717  1.243900 -0.636572   \n",
       "...          ...        ...        ...       ...       ...       ...   \n",
       "284802  172786.0 -11.881118  10.071785 -9.834783 -2.066656 -5.364473   \n",
       "284803  172787.0  -0.732789  -0.055080  2.035030 -0.738589  0.868229   \n",
       "284804  172788.0   1.919565  -0.301254 -3.249640 -0.557828  2.630515   \n",
       "284805  172788.0  -0.240440   0.530483  0.702510  0.689799 -0.377961   \n",
       "284806  172792.0  -0.533413  -0.189733  0.703337 -0.506271 -0.012546   \n",
       "\n",
       "              V6        V7        V8        V9  ...       V21       V22  \\\n",
       "0      -1.210144  0.110697 -0.263477  0.742144  ... -0.334701 -0.887840   \n",
       "1      -0.270866 -1.029289  0.050198 -0.109948  ...  0.054848 -0.038367   \n",
       "2      -0.988351  0.948146 -0.084789 -0.042027  ... -0.326725 -0.803736   \n",
       "3      -0.648829 -0.087826 -0.035367  0.885838  ... -0.095514 -0.079792   \n",
       "4       1.099074 -0.938651  0.569239  0.692665  ...  0.099157  0.608908   \n",
       "...          ...       ...       ...       ...  ...       ...       ...   \n",
       "284802 -2.606837 -4.918215  7.305334  1.914428  ...  0.213454  0.111864   \n",
       "284803  1.058415  0.024330  0.294869  0.584800  ...  0.214205  0.924384   \n",
       "284804  3.031260 -0.296827  0.708417  0.432454  ...  0.232045  0.578229   \n",
       "284805  0.623708 -0.686180  0.679145  0.392087  ...  0.265245  0.800049   \n",
       "284806 -0.649617  1.577006 -0.414650  0.486180  ...  0.261057  0.643078   \n",
       "\n",
       "             V23       V24       V25       V26       V27       V28  Amount  \\\n",
       "0       0.336701 -0.110835 -0.291459  0.207733 -0.076576 -0.059577    1.98   \n",
       "1       0.133518 -0.461928 -0.465491 -0.464655 -0.009413 -0.038238   84.00   \n",
       "2       0.154495  0.951233 -0.506919  0.085046  0.224458  0.087356    2.69   \n",
       "3       0.167701 -0.042939  0.000799 -0.096148 -0.057780 -0.073839    1.00   \n",
       "4       0.027901 -0.262813  0.257834 -0.252829  0.108338  0.021051    1.00   \n",
       "...          ...       ...       ...       ...       ...       ...     ...   \n",
       "284802  1.014480 -0.509348  1.436807  0.250034  0.943651  0.823731    0.77   \n",
       "284803  0.012463 -1.016226 -0.606624 -0.395255  0.068472 -0.053527   24.79   \n",
       "284804 -0.037501  0.640134  0.265745 -0.087371  0.004455 -0.026561   67.88   \n",
       "284805 -0.163298  0.123205 -0.569159  0.546668  0.108821  0.104533   10.00   \n",
       "284806  0.376777  0.008797 -0.473649 -0.818267 -0.002415  0.013649  217.00   \n",
       "\n",
       "        Class  \n",
       "0           0  \n",
       "1           0  \n",
       "2           0  \n",
       "3           0  \n",
       "4           0  \n",
       "...       ...  \n",
       "284802      0  \n",
       "284803      0  \n",
       "284804      0  \n",
       "284805      0  \n",
       "284806      0  \n",
       "\n",
       "[502826 rows x 31 columns]"
      ]
     },
     "execution_count": 5,
     "metadata": {},
     "output_type": "execute_result"
    }
   ],
   "source": [
    "train"
   ]
  },
  {
   "cell_type": "code",
   "execution_count": 6,
   "id": "24cd8bc7",
   "metadata": {},
   "outputs": [],
   "source": [
    "from sklearn.preprocessing import StandardScaler\n",
    "scaler = StandardScaler()"
   ]
  },
  {
   "cell_type": "code",
   "execution_count": 7,
   "id": "6be1e5ed",
   "metadata": {},
   "outputs": [
    {
     "data": {
      "text/plain": [
       "<matplotlib.collections.PathCollection at 0x1b9c0d122e0>"
      ]
     },
     "execution_count": 7,
     "metadata": {},
     "output_type": "execute_result"
    },
    {
     "data": {
      "image/png": "[encoded data removed]",
      "text/plain": [
       "<Figure size 640x480 with 1 Axes>"
      ]
     },
     "metadata": {},
     "output_type": "display_data"
    }
   ],
   "source": [
    "plt.scatter(range(len(train.Amount)),train.Amount)"
   ]
  },
  {
   "cell_type": "code",
   "execution_count": 8,
   "id": "45443595",
   "metadata": {},
   "outputs": [],
   "source": [
    "train['hour'] = train['Time'] % (24 * 3600) // 3600\n",
    "train['day'] = (train['Time'] // (24 * 3600))\n",
    "# part0 = train[(train['day'] == 0)]\n",
    "# part1 = train[(train['day'] == 1) & (train['hour'] < 9)]\n",
    "# train = pd.concat([part0,part1],axis=0)\n",
    "\n",
    "train = train.reset_index(drop=True)\n",
    "test['hour'] = test['Time'] % (24 * 3600) // 3600\n",
    "test['day'] = (test['Time'] // (24 * 3600))"
   ]
  },
  {
   "cell_type": "code",
   "execution_count": 9,
   "id": "62b430ba",
   "metadata": {},
   "outputs": [],
   "source": [
    "scaler.fit(train)\n",
    "col = train.columns\n",
    "Class = train['Class']\n",
    "train = scaler.transform(train)\n",
    "train = pd.DataFrame(train,columns=col)\n",
    "train['Class'] = Class\n",
    "train = train.drop('day',axis=1)"
   ]
  },
  {
   "cell_type": "code",
   "execution_count": 10,
   "id": "9a4e7b76",
   "metadata": {},
   "outputs": [],
   "source": [
    "# danger = []\n",
    "# for j in range(2):\n",
    "#     for i in range(24):\n",
    "#         if j == 1 and i == 9:\n",
    "#             break\n",
    "#         tar = train[(train['hour'] == i) & (train['day'] == j)]\n",
    "#         tp = tar.Class.value_counts()\n",
    "#         danger.append(tp[1]/len(tar)*100)"
   ]
  },
  {
   "cell_type": "code",
   "execution_count": 11,
   "id": "b130d660",
   "metadata": {},
   "outputs": [],
   "source": [
    "# danger"
   ]
  },
  {
   "cell_type": "code",
   "execution_count": 12,
   "id": "d33d8fef",
   "metadata": {},
   "outputs": [],
   "source": [
    "# insert = []\n",
    "# for i in range(len(train)):\n",
    "#     for j in range(8,24):\n",
    "#         if train.loc[i,'hour'] == j:\n",
    "#             insert.append(danger[j-8])\n",
    "\n",
    "# train['danger'] = insert\n",
    "\n",
    "# insert = []\n",
    "# for i in range(len(test)):\n",
    "#     for j in range(24):\n",
    "#         if test.loc[i,'hour'] == j:\n",
    "#             insert.append(danger[j-9])\n",
    "            \n",
    "# test['danger'] = insert"
   ]
  },
  {
   "cell_type": "code",
   "execution_count": 13,
   "id": "f36b61ee",
   "metadata": {},
   "outputs": [],
   "source": [
    "# from sklearn.preprocessing import MinMaxScaler\n",
    "# MM = MinMaxScaler()\n",
    "# MM.fit(np.array(train.Amount).reshape(-1,1))\n",
    "# tp = MM.transform(np.array(train.Amount).reshape(-1,1))\n",
    "# train['Amount'] = tp"
   ]
  },
  {
   "cell_type": "code",
   "execution_count": 14,
   "id": "c79f155e",
   "metadata": {},
   "outputs": [],
   "source": [
    "target = 'Class'\n",
    "features = [c for c in train.columns if c not in ['id','Time','day', target]]"
   ]
  },
  {
   "cell_type": "code",
   "execution_count": 15,
   "id": "526e7a7e",
   "metadata": {},
   "outputs": [],
   "source": [
    "# drop V15,V23,V20,V5,V28,time"
   ]
  },
  {
   "cell_type": "code",
   "execution_count": 16,
   "id": "cc606f46",
   "metadata": {},
   "outputs": [],
   "source": [
    "# target = 'Class'\n",
    "# # features = ['V1', 'V2', 'V3', 'V4', 'V6', 'V7', 'V8', 'V9', 'V10',\n",
    "# #        'V11', 'V12', 'V13', 'V14', 'V16', 'V17', 'V18', 'V19',\n",
    "# #        'V21', 'V22', 'V24', 'V25', 'V26', 'V27', 'Amount']\n",
    "\n",
    "# features = [ 'V1', 'V2', 'V3', 'V4', 'V7', 'V8', 'V9', 'V10',\n",
    "#        'V11', 'V12', 'V13', 'V14', 'V16', 'V17', 'V18', 'V19',\n",
    "#        'V21', 'V24', 'V25', 'V26', 'Amount']"
   ]
  },
  {
   "cell_type": "markdown",
   "id": "793bd4fe",
   "metadata": {},
   "source": [
    "---"
   ]
  },
  {
   "cell_type": "code",
   "execution_count": 17,
   "id": "ea9fb958",
   "metadata": {},
   "outputs": [],
   "source": [
    "def cat_objective(trial):\n",
    "    \n",
    "    params_optuna = {\n",
    "        'iterations':trial.suggest_int(\"iterations\", 4000, 25000),\n",
    "        'od_wait':trial.suggest_int('od_wait', 500, 2300),\n",
    "        'learning_rate' : trial.suggest_uniform('learning_rate',0.01, 1),\n",
    "        'reg_lambda': trial.suggest_uniform('reg_lambda',1e-5,100),\n",
    "        'subsample': trial.suggest_uniform('subsample',0,1),\n",
    "        'random_strength': trial.suggest_uniform('random_strength',10,50),\n",
    "        'depth': trial.suggest_int('depth',1, 15),\n",
    "        'min_data_in_leaf': trial.suggest_int('min_data_in_leaf',1,30),\n",
    "        'leaf_estimation_iterations': trial.suggest_int('leaf_estimation_iterations',1,15),\n",
    "        'bagging_temperature' :trial.suggest_loguniform('bagging_temperature', 0.01, 100.00),\n",
    "        'colsample_bylevel':trial.suggest_float('colsample_bylevel', 0.4, 1.0),\n",
    "    }\n",
    "    n=10\n",
    "    cv = StratifiedKFold(n,shuffle=True, random_state=42)\n",
    "    all_scores = []\n",
    "    for i,(train_idx,val_idx) in enumerate(cv.split(train[features],train[target])):\n",
    "        X_train, y_train = train.loc[train_idx, features],train.loc[train_idx, target]\n",
    "        X_val, y_val = train.loc[val_idx, features],train.loc[val_idx, target]\n",
    "\n",
    "        model = CatBoostClassifier(**params_optuna)\n",
    "        model.fit(X_train,\n",
    "                  y_train,\n",
    "                  eval_set = [(X_val,y_val)],\n",
    "                  early_stopping_rounds=50,\n",
    "                  verbose=500)\n",
    "\n",
    "        y_pred = model.predict_proba(X_val)[:,1]\n",
    "        score = roc_auc_score(y_val,y_pred)\n",
    "        all_scores.append(score)\n",
    "\n",
    "    return np.mean(all_scores)"
   ]
  },
  {
   "cell_type": "code",
   "execution_count": 18,
   "id": "b221dae6",
   "metadata": {
    "scrolled": true
   },
   "outputs": [],
   "source": [
    "# study = optuna.create_study(direction='maximize', sampler = TPESampler())\n",
    "# study.optimize(func=cat_objective, n_trials=50)\n",
    "# study.best_params"
   ]
  },
  {
   "cell_type": "code",
   "execution_count": 19,
   "id": "09a3b89d",
   "metadata": {},
   "outputs": [
    {
     "ename": "NameError",
     "evalue": "name 'study' is not defined",
     "output_type": "error",
     "traceback": [
      "\u001b[1;31m---------------------------------------------------------------------------\u001b[0m",
      "\u001b[1;31mNameError\u001b[0m                                 Traceback (most recent call last)",
      "Cell \u001b[1;32mIn[19], line 12\u001b[0m\n\u001b[0;32m      1\u001b[0m \u001b[38;5;66;03m# {'iterations': 15728,\u001b[39;00m\n\u001b[0;32m      2\u001b[0m \u001b[38;5;66;03m#  'od_wait': 2182,\u001b[39;00m\n\u001b[0;32m      3\u001b[0m \u001b[38;5;66;03m#  'learning_rate': 0.03336852544307129,\u001b[39;00m\n\u001b[1;32m   (...)\u001b[0m\n\u001b[0;32m     10\u001b[0m \u001b[38;5;66;03m#  'bagging_temperature': 0.01080117689593031,\u001b[39;00m\n\u001b[0;32m     11\u001b[0m \u001b[38;5;66;03m#  'colsample_bylevel': 0.7579360851684404}\u001b[39;00m\n\u001b[1;32m---> 12\u001b[0m \u001b[43mstudy\u001b[49m\u001b[38;5;241m.\u001b[39mbest_params\n",
      "\u001b[1;31mNameError\u001b[0m: name 'study' is not defined"
     ]
    }
   ],
   "source": [
    "# {'iterations': 15728,\n",
    "#  'od_wait': 2182,\n",
    "#  'learning_rate': 0.03336852544307129,\n",
    "#  'reg_lambda': 2.3132945175291226,\n",
    "#  'subsample': 0.01621008882000844,\n",
    "#  'random_strength': 25.292157882359646,\n",
    "#  'depth': 10,\n",
    "#  'min_data_in_leaf': 10,\n",
    "#  'leaf_estimation_iterations': 6,\n",
    "#  'bagging_temperature': 0.01080117689593031,\n",
    "#  'colsample_bylevel': 0.7579360851684404}\n",
    "# study.best_params"
   ]
  },
  {
   "cell_type": "code",
   "execution_count": 20,
   "id": "65005237",
   "metadata": {
    "scrolled": true
   },
   "outputs": [
    {
     "name": "stderr",
     "output_type": "stream",
     "text": [
      "\r",
      "0it [00:00, ?it/s]"
     ]
    },
    {
     "name": "stdout",
     "output_type": "stream",
     "text": [
      "0:\tlearn: 0.5930334\ttest: 0.5931115\tbest: 0.5931115 (0)\ttotal: 209ms\tremaining: 54m 45s\n",
      "2000:\tlearn: 0.0012731\ttest: 0.0090190\tbest: 0.0079355 (350)\ttotal: 1m 28s\tremaining: 10m 5s\n"
     ]
    },
    {
     "name": "stderr",
     "output_type": "stream",
     "text": [
      "\r",
      "1it [01:52, 112.64s/it]"
     ]
    },
    {
     "name": "stdout",
     "output_type": "stream",
     "text": [
      "Stopped by overfitting detector  (2182 iterations wait)\n",
      "\n",
      "bestTest = 0.007935475247\n",
      "bestIteration = 350\n",
      "\n",
      "Shrink model to first 351 iterations.\n",
      "AUC on fold 0: 0.9110\n",
      "0:\tlearn: 0.5930620\ttest: 0.5932075\tbest: 0.5932075 (0)\ttotal: 48.8ms\tremaining: 12m 48s\n",
      "2000:\tlearn: 0.0012142\ttest: 0.0086242\tbest: 0.0075740 (330)\ttotal: 1m 27s\tremaining: 10m 1s\n"
     ]
    },
    {
     "name": "stderr",
     "output_type": "stream",
     "text": [
      "\r",
      "2it [03:43, 111.64s/it]"
     ]
    },
    {
     "name": "stdout",
     "output_type": "stream",
     "text": [
      "Stopped by overfitting detector  (2182 iterations wait)\n",
      "\n",
      "bestTest = 0.007574036606\n",
      "bestIteration = 330\n",
      "\n",
      "Shrink model to first 331 iterations.\n",
      "AUC on fold 1: 0.9127\n",
      "0:\tlearn: 0.5930255\ttest: 0.5931694\tbest: 0.5931694 (0)\ttotal: 45ms\tremaining: 11m 47s\n",
      "2000:\tlearn: 0.0012199\ttest: 0.0077602\tbest: 0.0071333 (376)\ttotal: 1m 26s\tremaining: 9m 50s\n"
     ]
    },
    {
     "name": "stderr",
     "output_type": "stream",
     "text": [
      "\r",
      "3it [05:33, 111.08s/it]"
     ]
    },
    {
     "name": "stdout",
     "output_type": "stream",
     "text": [
      "Stopped by overfitting detector  (2182 iterations wait)\n",
      "\n",
      "bestTest = 0.007133257083\n",
      "bestIteration = 376\n",
      "\n",
      "Shrink model to first 377 iterations.\n",
      "AUC on fold 2: 0.9204\n",
      "0:\tlearn: 0.5930662\ttest: 0.5932024\tbest: 0.5932024 (0)\ttotal: 44.6ms\tremaining: 11m 41s\n",
      "2000:\tlearn: 0.0012818\ttest: 0.0079968\tbest: 0.0074617 (272)\ttotal: 1m 26s\tremaining: 9m 52s\n"
     ]
    },
    {
     "name": "stderr",
     "output_type": "stream",
     "text": [
      "\r",
      "4it [07:21, 109.70s/it]"
     ]
    },
    {
     "name": "stdout",
     "output_type": "stream",
     "text": [
      "Stopped by overfitting detector  (2182 iterations wait)\n",
      "\n",
      "bestTest = 0.007461672623\n",
      "bestIteration = 272\n",
      "\n",
      "Shrink model to first 273 iterations.\n",
      "AUC on fold 3: 0.9134\n",
      "0:\tlearn: 0.5929590\ttest: 0.5930756\tbest: 0.5930756 (0)\ttotal: 45ms\tremaining: 11m 47s\n",
      "2000:\tlearn: 0.0011826\ttest: 0.0094360\tbest: 0.0083170 (375)\ttotal: 1m 27s\tremaining: 9m 57s\n"
     ]
    },
    {
     "name": "stderr",
     "output_type": "stream",
     "text": [
      "\r",
      "5it [09:13, 110.52s/it]"
     ]
    },
    {
     "name": "stdout",
     "output_type": "stream",
     "text": [
      "Stopped by overfitting detector  (2182 iterations wait)\n",
      "\n",
      "bestTest = 0.008317014375\n",
      "bestIteration = 375\n",
      "\n",
      "Shrink model to first 376 iterations.\n",
      "AUC on fold 4: 0.8892\n",
      "0:\tlearn: 0.5931415\ttest: 0.5932293\tbest: 0.5932293 (0)\ttotal: 45.8ms\tremaining: 12m\n",
      "2000:\tlearn: 0.0012999\ttest: 0.0083125\tbest: 0.0076591 (336)\ttotal: 1m 27s\tremaining: 10m 1s\n"
     ]
    },
    {
     "name": "stderr",
     "output_type": "stream",
     "text": [
      "\r",
      "6it [11:05, 110.92s/it]"
     ]
    },
    {
     "name": "stdout",
     "output_type": "stream",
     "text": [
      "Stopped by overfitting detector  (2182 iterations wait)\n",
      "\n",
      "bestTest = 0.0076591169\n",
      "bestIteration = 336\n",
      "\n",
      "Shrink model to first 337 iterations.\n",
      "AUC on fold 5: 0.9076\n",
      "0:\tlearn: 0.5929892\ttest: 0.5931702\tbest: 0.5931702 (0)\ttotal: 51ms\tremaining: 13m 21s\n",
      "2000:\tlearn: 0.0012761\ttest: 0.0085803\tbest: 0.0077954 (305)\ttotal: 1m 29s\tremaining: 10m 16s\n"
     ]
    },
    {
     "name": "stderr",
     "output_type": "stream",
     "text": [
      "\r",
      "7it [12:57, 111.49s/it]"
     ]
    },
    {
     "name": "stdout",
     "output_type": "stream",
     "text": [
      "Stopped by overfitting detector  (2182 iterations wait)\n",
      "\n",
      "bestTest = 0.007795420313\n",
      "bestIteration = 305\n",
      "\n",
      "Shrink model to first 306 iterations.\n",
      "AUC on fold 6: 0.8920\n",
      "0:\tlearn: 0.5930614\ttest: 0.5932390\tbest: 0.5932390 (0)\ttotal: 46ms\tremaining: 12m 3s\n",
      "2000:\tlearn: 0.0012246\ttest: 0.0100568\tbest: 0.0088071 (175)\ttotal: 1m 29s\tremaining: 10m 15s\n"
     ]
    },
    {
     "name": "stderr",
     "output_type": "stream",
     "text": [
      "\r",
      "8it [14:43, 109.65s/it]"
     ]
    },
    {
     "name": "stdout",
     "output_type": "stream",
     "text": [
      "Stopped by overfitting detector  (2182 iterations wait)\n",
      "\n",
      "bestTest = 0.008807080515\n",
      "bestIteration = 175\n",
      "\n",
      "Shrink model to first 176 iterations.\n",
      "AUC on fold 7: 0.8876\n",
      "0:\tlearn: 0.5931430\ttest: 0.5932339\tbest: 0.5932339 (0)\ttotal: 44.9ms\tremaining: 11m 46s\n",
      "2000:\tlearn: 0.0012020\ttest: 0.0081399\tbest: 0.0074279 (220)\ttotal: 1m 25s\tremaining: 9m 47s\n"
     ]
    },
    {
     "name": "stderr",
     "output_type": "stream",
     "text": [
      "\r",
      "9it [16:27, 107.88s/it]"
     ]
    },
    {
     "name": "stdout",
     "output_type": "stream",
     "text": [
      "Stopped by overfitting detector  (2182 iterations wait)\n",
      "\n",
      "bestTest = 0.007427862434\n",
      "bestIteration = 220\n",
      "\n",
      "Shrink model to first 221 iterations.\n",
      "AUC on fold 8: 0.8844\n",
      "0:\tlearn: 0.5931089\ttest: 0.5932335\tbest: 0.5932335 (0)\ttotal: 45.4ms\tremaining: 11m 54s\n",
      "2000:\tlearn: 0.0012600\ttest: 0.0084474\tbest: 0.0076813 (379)\ttotal: 1m 28s\tremaining: 10m 7s\n"
     ]
    },
    {
     "name": "stderr",
     "output_type": "stream",
     "text": [
      "10it [18:21, 110.15s/it]"
     ]
    },
    {
     "name": "stdout",
     "output_type": "stream",
     "text": [
      "Stopped by overfitting detector  (2182 iterations wait)\n",
      "\n",
      "bestTest = 0.007681308788\n",
      "bestIteration = 379\n",
      "\n",
      "Shrink model to first 380 iterations.\n",
      "AUC on fold 9: 0.9090\n",
      "mean AUC across all folds: 0.9027\n"
     ]
    },
    {
     "name": "stderr",
     "output_type": "stream",
     "text": [
      "\n"
     ]
    }
   ],
   "source": [
    "kf = StratifiedKFold(n_splits = 10, random_state = 1, shuffle = True)\n",
    "models = []\n",
    "val_scores = []\n",
    "\n",
    "include_orig = True\n",
    "'''\n",
    "n_estimators=15000,\n",
    "max_depth=5,\n",
    "early_stopping_rounds = 200,\n",
    "learning_rate=0.005,\n",
    "one_hot_max_size = 3,\n",
    "bootstrap_type = \"MVS\",\n",
    "l2_leaf_reg = 2,\n",
    "random_state = 1\n",
    "'''\n",
    "parms = {'iterations': 15728,\n",
    " 'od_wait': 2182,\n",
    " 'learning_rate': 0.03336852544307129,\n",
    " 'reg_lambda': 2.3132945175291226,\n",
    " 'subsample': 0.01621008882000844,\n",
    " 'random_strength': 25.292157882359646,\n",
    " 'depth': 10,\n",
    " 'min_data_in_leaf': 10,\n",
    " 'leaf_estimation_iterations': 6,\n",
    " 'bagging_temperature': 0.01080117689593031,\n",
    " 'colsample_bylevel': 0.7579360851684404}\n",
    "\n",
    "for i, (train_index, val_index) in tqdm(enumerate(kf.split(train, train[target]))):\n",
    "    \n",
    "    X_train, X_val = train[features].loc[train_index], train[features].loc[val_index]\n",
    "    y_train, y_val = train[target][train_index], train[target][val_index]\n",
    "    \n",
    "#     if include_orig:\n",
    "#         X_train = X_train.append(original[features], ignore_index = True)\n",
    "#         y_train = y_train.append(original[target], ignore_index = True)\n",
    "    \n",
    "    model = CatBoostClassifier(**parms)\n",
    "    \n",
    "    model.fit(X_train, y_train, eval_set = [(X_val, y_val)], verbose = 2000)\n",
    "    \n",
    "    models.append(model)\n",
    "    pred = model.predict_proba(X_val)[:,1]\n",
    "    score = roc_auc_score(y_val, pred)\n",
    "    val_scores.append(score)\n",
    "    \n",
    "    print(f'AUC on fold {i}: {score:.4f}')\n",
    "    \n",
    "print(f'mean AUC across all folds: {np.mean(val_scores):.4f}')"
   ]
  },
  {
   "cell_type": "code",
   "execution_count": 21,
   "id": "83afbe01",
   "metadata": {},
   "outputs": [
    {
     "data": {
      "text/plain": [
       "[0.9109989770582094,\n",
       " 0.9127296690849016,\n",
       " 0.9204080914568463,\n",
       " 0.9134085921175404,\n",
       " 0.8892494746070564,\n",
       " 0.9075723699940854,\n",
       " 0.8920340371267862,\n",
       " 0.8875947713194136,\n",
       " 0.884442369032862,\n",
       " 0.9089938851196099]"
      ]
     },
     "execution_count": 21,
     "metadata": {},
     "output_type": "execute_result"
    }
   ],
   "source": [
    "val_scores"
   ]
  },
  {
   "cell_type": "code",
   "execution_count": 22,
   "id": "48eab9af",
   "metadata": {},
   "outputs": [
    {
     "data": {
      "text/plain": [
       "0.902743223691731"
      ]
     },
     "execution_count": 22,
     "metadata": {},
     "output_type": "execute_result"
    }
   ],
   "source": [
    "sum(val_scores)/10"
   ]
  },
  {
   "cell_type": "code",
   "execution_count": 23,
   "id": "8e7e445b",
   "metadata": {},
   "outputs": [],
   "source": [
    "def xgb_objective(trial):\n",
    "    \n",
    "    params = {'max_depth': trial.suggest_int('max_depth', 1, 8),\n",
    "          'learning_rate' : trial.suggest_float('learning_rate', 0.01, 1), \n",
    "          'min_child_weight': trial.suggest_int('min_child_weight', 1, 10),\n",
    "          'gamma': trial.suggest_float('gamma', 0.01, 1.0),\n",
    "          'subsample': trial.suggest_float('subsample', 0.01, 1.0),\n",
    "          'colsample_bytree': trial.suggest_float('colsample_bytree', 0.01, 1.0),\n",
    "          'reg_alpha': trial.suggest_float('reg_alpha', 0.01, 1.0),\n",
    "          'reg_lambda': trial.suggest_float('reg_lambda', 0.01, 1.0),\n",
    "          'n_estimators': trial.suggest_int('n_estimators', 100, 2000)}\n",
    "    \n",
    "\n",
    "    cv = StratifiedKFold(5,shuffle=True, random_state=42)\n",
    "    all_scores = []\n",
    "    for i,(train_idx,val_idx) in enumerate(cv.split(train[features],train[target])):\n",
    "        X_train, y_train = train.loc[train_idx, features],train.loc[train_idx, target]\n",
    "        X_val, y_val = train.loc[val_idx, features],train.loc[val_idx, target]\n",
    "\n",
    "        model = XGBClassifier(**params)\n",
    "        model.fit(X_train,\n",
    "                  y_train,\n",
    "                  eval_set = [(X_val,y_val)],\n",
    "                  early_stopping_rounds=50,\n",
    "                  verbose=500)\n",
    "\n",
    "        y_pred = model.predict_proba(X_val)[:,1]\n",
    "        score = roc_auc_score(y_val,y_pred)\n",
    "        all_scores.append(score)\n",
    "\n",
    "    return np.mean(all_scores)"
   ]
  },
  {
   "cell_type": "code",
   "execution_count": 24,
   "id": "13faee3d",
   "metadata": {},
   "outputs": [],
   "source": [
    "# study = optuna.create_study(direction='maximize', sampler = TPESampler())\n",
    "# study.optimize(func=xgb_objective, n_trials=50)\n",
    "# study.best_params"
   ]
  },
  {
   "cell_type": "code",
   "execution_count": 25,
   "id": "e08d44ef",
   "metadata": {},
   "outputs": [
    {
     "name": "stderr",
     "output_type": "stream",
     "text": [
      "\r",
      "0it [00:00, ?it/s]"
     ]
    },
    {
     "name": "stdout",
     "output_type": "stream",
     "text": [
      "[10:19:43] WARNING: C:\\Windows\\Temp\\abs_557yfx631l\\croots\\recipe\\xgboost-split_1659548953302\\work\\src\\learner.cc:1115: Starting in XGBoost 1.3.0, the default evaluation metric used with the objective 'binary:logistic' was changed from 'error' to 'logloss'. Explicitly set eval_metric if you'd like to restore the old behavior.\n",
      "[0]\tvalidation_0-logloss:0.60355\n",
      "[605]\tvalidation_0-logloss:0.00807\n"
     ]
    },
    {
     "name": "stderr",
     "output_type": "stream",
     "text": [
      "\r",
      "1it [00:55, 55.78s/it]"
     ]
    },
    {
     "name": "stdout",
     "output_type": "stream",
     "text": [
      "AUC on fold 0: 0.8892\n",
      "[10:20:39] WARNING: C:\\Windows\\Temp\\abs_557yfx631l\\croots\\recipe\\xgboost-split_1659548953302\\work\\src\\learner.cc:1115: Starting in XGBoost 1.3.0, the default evaluation metric used with the objective 'binary:logistic' was changed from 'error' to 'logloss'. Explicitly set eval_metric if you'd like to restore the old behavior.\n",
      "[0]\tvalidation_0-logloss:0.60358\n",
      "[605]\tvalidation_0-logloss:0.00768\n"
     ]
    },
    {
     "name": "stderr",
     "output_type": "stream",
     "text": [
      "\r",
      "2it [01:50, 55.07s/it]"
     ]
    },
    {
     "name": "stdout",
     "output_type": "stream",
     "text": [
      "AUC on fold 1: 0.9023\n",
      "[10:21:34] WARNING: C:\\Windows\\Temp\\abs_557yfx631l\\croots\\recipe\\xgboost-split_1659548953302\\work\\src\\learner.cc:1115: Starting in XGBoost 1.3.0, the default evaluation metric used with the objective 'binary:logistic' was changed from 'error' to 'logloss'. Explicitly set eval_metric if you'd like to restore the old behavior.\n",
      "[0]\tvalidation_0-logloss:0.60351\n",
      "[605]\tvalidation_0-logloss:0.00752\n"
     ]
    },
    {
     "name": "stderr",
     "output_type": "stream",
     "text": [
      "\r",
      "3it [02:45, 55.07s/it]"
     ]
    },
    {
     "name": "stdout",
     "output_type": "stream",
     "text": [
      "AUC on fold 2: 0.8951\n",
      "[10:22:29] WARNING: C:\\Windows\\Temp\\abs_557yfx631l\\croots\\recipe\\xgboost-split_1659548953302\\work\\src\\learner.cc:1115: Starting in XGBoost 1.3.0, the default evaluation metric used with the objective 'binary:logistic' was changed from 'error' to 'logloss'. Explicitly set eval_metric if you'd like to restore the old behavior.\n",
      "[0]\tvalidation_0-logloss:0.60354\n",
      "[605]\tvalidation_0-logloss:0.00782\n"
     ]
    },
    {
     "name": "stderr",
     "output_type": "stream",
     "text": [
      "\r",
      "4it [03:40, 55.12s/it]"
     ]
    },
    {
     "name": "stdout",
     "output_type": "stream",
     "text": [
      "AUC on fold 3: 0.8935\n",
      "[10:23:24] WARNING: C:\\Windows\\Temp\\abs_557yfx631l\\croots\\recipe\\xgboost-split_1659548953302\\work\\src\\learner.cc:1115: Starting in XGBoost 1.3.0, the default evaluation metric used with the objective 'binary:logistic' was changed from 'error' to 'logloss'. Explicitly set eval_metric if you'd like to restore the old behavior.\n",
      "[0]\tvalidation_0-logloss:0.60358\n",
      "[605]\tvalidation_0-logloss:0.00859\n"
     ]
    },
    {
     "name": "stderr",
     "output_type": "stream",
     "text": [
      "\r",
      "5it [04:36, 55.24s/it]"
     ]
    },
    {
     "name": "stdout",
     "output_type": "stream",
     "text": [
      "AUC on fold 4: 0.8694\n",
      "[10:24:19] WARNING: C:\\Windows\\Temp\\abs_557yfx631l\\croots\\recipe\\xgboost-split_1659548953302\\work\\src\\learner.cc:1115: Starting in XGBoost 1.3.0, the default evaluation metric used with the objective 'binary:logistic' was changed from 'error' to 'logloss'. Explicitly set eval_metric if you'd like to restore the old behavior.\n",
      "[0]\tvalidation_0-logloss:0.60352\n",
      "[605]\tvalidation_0-logloss:0.00781\n"
     ]
    },
    {
     "name": "stderr",
     "output_type": "stream",
     "text": [
      "\r",
      "6it [05:35, 56.55s/it]"
     ]
    },
    {
     "name": "stdout",
     "output_type": "stream",
     "text": [
      "AUC on fold 5: 0.9013\n",
      "[10:25:19] WARNING: C:\\Windows\\Temp\\abs_557yfx631l\\croots\\recipe\\xgboost-split_1659548953302\\work\\src\\learner.cc:1115: Starting in XGBoost 1.3.0, the default evaluation metric used with the objective 'binary:logistic' was changed from 'error' to 'logloss'. Explicitly set eval_metric if you'd like to restore the old behavior.\n",
      "[0]\tvalidation_0-logloss:0.60356\n",
      "[605]\tvalidation_0-logloss:0.00827\n"
     ]
    },
    {
     "name": "stderr",
     "output_type": "stream",
     "text": [
      "\r",
      "7it [06:30, 56.25s/it]"
     ]
    },
    {
     "name": "stdout",
     "output_type": "stream",
     "text": [
      "AUC on fold 6: 0.8772\n",
      "[10:26:14] WARNING: C:\\Windows\\Temp\\abs_557yfx631l\\croots\\recipe\\xgboost-split_1659548953302\\work\\src\\learner.cc:1115: Starting in XGBoost 1.3.0, the default evaluation metric used with the objective 'binary:logistic' was changed from 'error' to 'logloss'. Explicitly set eval_metric if you'd like to restore the old behavior.\n",
      "[0]\tvalidation_0-logloss:0.60358\n",
      "[605]\tvalidation_0-logloss:0.00901\n"
     ]
    },
    {
     "name": "stderr",
     "output_type": "stream",
     "text": [
      "\r",
      "8it [07:30, 57.32s/it]"
     ]
    },
    {
     "name": "stdout",
     "output_type": "stream",
     "text": [
      "AUC on fold 7: 0.8719\n",
      "[10:27:14] WARNING: C:\\Windows\\Temp\\abs_557yfx631l\\croots\\recipe\\xgboost-split_1659548953302\\work\\src\\learner.cc:1115: Starting in XGBoost 1.3.0, the default evaluation metric used with the objective 'binary:logistic' was changed from 'error' to 'logloss'. Explicitly set eval_metric if you'd like to restore the old behavior.\n",
      "[0]\tvalidation_0-logloss:0.60352\n",
      "[605]\tvalidation_0-logloss:0.00771\n"
     ]
    },
    {
     "name": "stderr",
     "output_type": "stream",
     "text": [
      "\r",
      "9it [08:27, 57.39s/it]"
     ]
    },
    {
     "name": "stdout",
     "output_type": "stream",
     "text": [
      "AUC on fold 8: 0.8805\n",
      "[10:28:11] WARNING: C:\\Windows\\Temp\\abs_557yfx631l\\croots\\recipe\\xgboost-split_1659548953302\\work\\src\\learner.cc:1115: Starting in XGBoost 1.3.0, the default evaluation metric used with the objective 'binary:logistic' was changed from 'error' to 'logloss'. Explicitly set eval_metric if you'd like to restore the old behavior.\n",
      "[0]\tvalidation_0-logloss:0.60357\n",
      "[605]\tvalidation_0-logloss:0.00773\n"
     ]
    },
    {
     "name": "stderr",
     "output_type": "stream",
     "text": [
      "10it [09:25, 56.56s/it]"
     ]
    },
    {
     "name": "stdout",
     "output_type": "stream",
     "text": [
      "AUC on fold 9: 0.8983\n",
      "mean AUC across all folds: 0.8879\n"
     ]
    },
    {
     "name": "stderr",
     "output_type": "stream",
     "text": [
      "\n"
     ]
    }
   ],
   "source": [
    "kf = StratifiedKFold(n_splits = 10, random_state = 1, shuffle = True)\n",
    "val_scores = []\n",
    "\n",
    "include_orig = True\n",
    "\n",
    "# xgb_params = {'n_estimators'     : 3000,\n",
    "#               'min_child_weight' : 96,\n",
    "#               'max_depth'        : 7,\n",
    "#               'learning_rate'    : 0.15,\n",
    "#               'subsample'        : 0.95,\n",
    "#               'colsample_bytree' : 0.95,\n",
    "#               'reg_lambda'       : 1.50,\n",
    "#               'reg_alpha'        : 1.50,\n",
    "#               'gamma'            : 1.50,\n",
    "#               'max_bin'          : 512,\n",
    "#               'random_state'     : 1,\n",
    "#               'objective'        : 'binary:logistic',\n",
    "#               'tree_method'      : 'hist',\n",
    "#               'eval_metric'      : 'auc'\n",
    "#              }\n",
    "xgb_params = {'max_depth': 3,\n",
    " 'learning_rate': 0.09457198987172621,\n",
    " 'min_child_weight': 9,\n",
    " 'gamma': 0.3126168664550514,\n",
    " 'subsample': 0.5585879695479943,\n",
    " 'colsample_bytree': 0.46793424854801835,\n",
    " 'reg_alpha': 0.21235299325212031,\n",
    " 'reg_lambda': 0.4236760707956293,\n",
    " 'n_estimators': 606}\n",
    "\n",
    "for i, (train_index, val_index) in tqdm(enumerate(kf.split(train, train[target]))):\n",
    "    \n",
    "    X_train, X_val = train[features].loc[train_index], train[features].loc[val_index]\n",
    "    y_train, y_val = train[target][train_index], train[target][val_index]\n",
    "    \n",
    "#     if include_orig:\n",
    "#         X_train = X_train.append(original[features], ignore_index = True)\n",
    "#         y_train = y_train.append(original[target], ignore_index = True)\n",
    "    \n",
    "    model = XGBClassifier(**xgb_params)\n",
    "    \n",
    "    model.fit(X_train, y_train, eval_set = [(X_val, y_val)], verbose = 1000)\n",
    "    \n",
    "    models.append(model)\n",
    "    pred = model.predict_proba(X_val)[:,1]\n",
    "    score = roc_auc_score(y_val, pred)\n",
    "    val_scores.append(score)\n",
    "    \n",
    "    print(f'AUC on fold {i}: {score:.4f}')\n",
    "    \n",
    "print(f'mean AUC across all folds: {np.mean(val_scores):.4f}')"
   ]
  },
  {
   "cell_type": "code",
   "execution_count": 26,
   "id": "d762b428",
   "metadata": {},
   "outputs": [
    {
     "data": {
      "text/plain": [
       "[0.8892130300655015,\n",
       " 0.9022984607545181,\n",
       " 0.8951149760289085,\n",
       " 0.893499804780483,\n",
       " 0.869392033323126,\n",
       " 0.9013190404080658,\n",
       " 0.8772258859878347,\n",
       " 0.8719010138899017,\n",
       " 0.8805332375798911,\n",
       " 0.8983468965201482]"
      ]
     },
     "execution_count": 26,
     "metadata": {},
     "output_type": "execute_result"
    }
   ],
   "source": [
    "val_scores"
   ]
  },
  {
   "cell_type": "code",
   "execution_count": 27,
   "id": "963de0a4",
   "metadata": {},
   "outputs": [
    {
     "data": {
      "text/plain": [
       "0.8878844379338379"
      ]
     },
     "execution_count": 27,
     "metadata": {},
     "output_type": "execute_result"
    }
   ],
   "source": [
    "sum(val_scores)/10"
   ]
  },
  {
   "cell_type": "code",
   "execution_count": 28,
   "id": "5d204a4d",
   "metadata": {},
   "outputs": [],
   "source": [
    "# target = 'Class'\n",
    "# # features = ['V1', 'V2', 'V3', 'V4', 'V6', 'V7', 'V8', 'V9', 'V10',\n",
    "# #        'V11', 'V12', 'V13', 'V14', 'V16', 'V17', 'V18', 'V19',\n",
    "# #        'V21', 'V22', 'V24', 'V25', 'V26', 'V27', 'Amount']\n",
    "\n",
    "# features = ['V1', 'V2', 'V3', 'V4', 'V5', 'V6', 'V7', 'V8', 'V9', 'V10',\n",
    "#        'V11', 'V12', 'V13', 'V14', 'V15', 'V16', 'V17', 'V18', 'V19', 'V20',\n",
    "#        'V21', 'V22', 'V23', 'V24', 'V25', 'V26', 'V27', 'V28', 'Amount']"
   ]
  },
  {
   "cell_type": "code",
   "execution_count": 29,
   "id": "e2de7ac7",
   "metadata": {},
   "outputs": [],
   "source": [
    "def lgb_objective(trial):\n",
    "    \n",
    "    params_optuna = {\n",
    "        \n",
    "        'scale_pos_weight':trial.suggest_int('scale_pos_weight', 1, 3),\n",
    "        'lambda_l1': trial.suggest_float('lambda_l1', 1e-12, 2, log=True),\n",
    "        'lambda_l2': trial.suggest_float('lambda_l2', 5, 25.0, log=True),\n",
    "        'num_leaves': trial.suggest_int('num_leaves', 35, 50),\n",
    "        'feature_fraction': trial.suggest_float('feature_fraction', 0.65, 0.85),\n",
    "        'bagging_fraction': trial.suggest_float('bagging_fraction', 0.5, 0.65),\n",
    "        'bagging_freq': trial.suggest_int('bagging_freq', 4, 9),\n",
    "         'min_child_samples': trial.suggest_int('min_child_samples', 40, 90),\n",
    "         'min_data_in_leaf': trial.suggest_int('min_data_in_leaf', 90, 150),\n",
    "        \"max_depth\": trial.suggest_int(\"max_depth\", 6, 12),\n",
    "        'num_iterations':10000,\n",
    "        'learning_rate':0.1\n",
    "    }\n",
    "    n=10\n",
    "    cv = StratifiedKFold(n,shuffle=True, random_state=42)\n",
    "    all_scores = []\n",
    "    for i,(train_idx,val_idx) in enumerate(cv.split(train[features],train[target])):\n",
    "        X_train, y_train = train.loc[train_idx, features],train.loc[train_idx, target]\n",
    "        X_val, y_val = train.loc[val_idx, features],train.loc[val_idx, target]\n",
    "\n",
    "        model = LGBMClassifier(**params_optuna)\n",
    "        model.fit(X_train,\n",
    "                  y_train,\n",
    "                  eval_set = [(X_val,y_val)],\n",
    "                  early_stopping_rounds=50,\n",
    "                  verbose=500)\n",
    "\n",
    "        y_pred = model.predict_proba(X_val)[:,1]\n",
    "        score = roc_auc_score(y_val,y_pred)\n",
    "        all_scores.append(score)\n",
    "\n",
    "    return np.mean(all_scores)"
   ]
  },
  {
   "cell_type": "code",
   "execution_count": 30,
   "id": "b9d3ddcb",
   "metadata": {
    "scrolled": true
   },
   "outputs": [],
   "source": [
    "# study = optuna.create_study(direction='maximize', sampler = TPESampler())\n",
    "# study.optimize(func=lgb_objective, n_trials=50)\n",
    "# study.best_params"
   ]
  },
  {
   "cell_type": "code",
   "execution_count": 31,
   "id": "75315d45",
   "metadata": {},
   "outputs": [],
   "source": [
    "# study.best_params"
   ]
  },
  {
   "cell_type": "code",
   "execution_count": 32,
   "id": "32211f58",
   "metadata": {},
   "outputs": [
    {
     "name": "stderr",
     "output_type": "stream",
     "text": [
      "\r",
      "0it [00:00, ?it/s]"
     ]
    },
    {
     "name": "stdout",
     "output_type": "stream",
     "text": [
      "[LightGBM] [Warning] feature_fraction is set=0.6971821098041336, colsample_bytree=1.0 will be ignored. Current value: feature_fraction=0.6971821098041336\n",
      "[LightGBM] [Warning] min_data_in_leaf is set=116, min_child_samples=65 will be ignored. Current value: min_data_in_leaf=116\n",
      "[LightGBM] [Warning] lambda_l1 is set=7.688167496328092e-12, reg_alpha=0.0 will be ignored. Current value: lambda_l1=7.688167496328092e-12\n",
      "[LightGBM] [Warning] bagging_fraction is set=0.5486874601157361, subsample=1.0 will be ignored. Current value: bagging_fraction=0.5486874601157361\n",
      "[LightGBM] [Warning] lambda_l2 is set=10.40459734442428, reg_lambda=0.0 will be ignored. Current value: lambda_l2=10.40459734442428\n",
      "[LightGBM] [Warning] bagging_freq is set=9, subsample_freq=0 will be ignored. Current value: bagging_freq=9\n",
      "Training until validation scores don't improve for 200 rounds\n"
     ]
    },
    {
     "name": "stderr",
     "output_type": "stream",
     "text": [
      "\r",
      "1it [00:01,  1.35s/it]"
     ]
    },
    {
     "name": "stdout",
     "output_type": "stream",
     "text": [
      "Did not meet early stopping. Best iteration is:\n",
      "[98]\tvalid_0's binary_logloss: 0.00809759\n",
      "AUC on fold 0: 0.8976\n",
      "[LightGBM] [Warning] feature_fraction is set=0.6971821098041336, colsample_bytree=1.0 will be ignored. Current value: feature_fraction=0.6971821098041336\n",
      "[LightGBM] [Warning] min_data_in_leaf is set=116, min_child_samples=65 will be ignored. Current value: min_data_in_leaf=116\n",
      "[LightGBM] [Warning] lambda_l1 is set=7.688167496328092e-12, reg_alpha=0.0 will be ignored. Current value: lambda_l1=7.688167496328092e-12\n",
      "[LightGBM] [Warning] bagging_fraction is set=0.5486874601157361, subsample=1.0 will be ignored. Current value: bagging_fraction=0.5486874601157361\n",
      "[LightGBM] [Warning] lambda_l2 is set=10.40459734442428, reg_lambda=0.0 will be ignored. Current value: lambda_l2=10.40459734442428\n",
      "[LightGBM] [Warning] bagging_freq is set=9, subsample_freq=0 will be ignored. Current value: bagging_freq=9\n",
      "Training until validation scores don't improve for 200 rounds\n"
     ]
    },
    {
     "name": "stderr",
     "output_type": "stream",
     "text": [
      "\r",
      "2it [00:02,  1.33s/it]"
     ]
    },
    {
     "name": "stdout",
     "output_type": "stream",
     "text": [
      "Did not meet early stopping. Best iteration is:\n",
      "[69]\tvalid_0's binary_logloss: 0.00776447\n",
      "AUC on fold 1: 0.9122\n",
      "[LightGBM] [Warning] feature_fraction is set=0.6971821098041336, colsample_bytree=1.0 will be ignored. Current value: feature_fraction=0.6971821098041336\n",
      "[LightGBM] [Warning] min_data_in_leaf is set=116, min_child_samples=65 will be ignored. Current value: min_data_in_leaf=116\n",
      "[LightGBM] [Warning] lambda_l1 is set=7.688167496328092e-12, reg_alpha=0.0 will be ignored. Current value: lambda_l1=7.688167496328092e-12\n",
      "[LightGBM] [Warning] bagging_fraction is set=0.5486874601157361, subsample=1.0 will be ignored. Current value: bagging_fraction=0.5486874601157361\n",
      "[LightGBM] [Warning] lambda_l2 is set=10.40459734442428, reg_lambda=0.0 will be ignored. Current value: lambda_l2=10.40459734442428\n",
      "[LightGBM] [Warning] bagging_freq is set=9, subsample_freq=0 will be ignored. Current value: bagging_freq=9\n",
      "Training until validation scores don't improve for 200 rounds\n"
     ]
    },
    {
     "name": "stderr",
     "output_type": "stream",
     "text": [
      "\r",
      "3it [00:03,  1.31s/it]"
     ]
    },
    {
     "name": "stdout",
     "output_type": "stream",
     "text": [
      "Did not meet early stopping. Best iteration is:\n",
      "[59]\tvalid_0's binary_logloss: 0.00745236\n",
      "AUC on fold 2: 0.8925\n",
      "[LightGBM] [Warning] feature_fraction is set=0.6971821098041336, colsample_bytree=1.0 will be ignored. Current value: feature_fraction=0.6971821098041336\n",
      "[LightGBM] [Warning] min_data_in_leaf is set=116, min_child_samples=65 will be ignored. Current value: min_data_in_leaf=116\n",
      "[LightGBM] [Warning] lambda_l1 is set=7.688167496328092e-12, reg_alpha=0.0 will be ignored. Current value: lambda_l1=7.688167496328092e-12\n",
      "[LightGBM] [Warning] bagging_fraction is set=0.5486874601157361, subsample=1.0 will be ignored. Current value: bagging_fraction=0.5486874601157361\n",
      "[LightGBM] [Warning] lambda_l2 is set=10.40459734442428, reg_lambda=0.0 will be ignored. Current value: lambda_l2=10.40459734442428\n",
      "[LightGBM] [Warning] bagging_freq is set=9, subsample_freq=0 will be ignored. Current value: bagging_freq=9\n",
      "Training until validation scores don't improve for 200 rounds\n"
     ]
    },
    {
     "name": "stderr",
     "output_type": "stream",
     "text": [
      "\r",
      "4it [00:05,  1.31s/it]"
     ]
    },
    {
     "name": "stdout",
     "output_type": "stream",
     "text": [
      "Did not meet early stopping. Best iteration is:\n",
      "[64]\tvalid_0's binary_logloss: 0.00761621\n",
      "AUC on fold 3: 0.9035\n",
      "[LightGBM] [Warning] feature_fraction is set=0.6971821098041336, colsample_bytree=1.0 will be ignored. Current value: feature_fraction=0.6971821098041336\n",
      "[LightGBM] [Warning] min_data_in_leaf is set=116, min_child_samples=65 will be ignored. Current value: min_data_in_leaf=116\n",
      "[LightGBM] [Warning] lambda_l1 is set=7.688167496328092e-12, reg_alpha=0.0 will be ignored. Current value: lambda_l1=7.688167496328092e-12\n",
      "[LightGBM] [Warning] bagging_fraction is set=0.5486874601157361, subsample=1.0 will be ignored. Current value: bagging_fraction=0.5486874601157361\n",
      "[LightGBM] [Warning] lambda_l2 is set=10.40459734442428, reg_lambda=0.0 will be ignored. Current value: lambda_l2=10.40459734442428\n",
      "[LightGBM] [Warning] bagging_freq is set=9, subsample_freq=0 will be ignored. Current value: bagging_freq=9\n",
      "Training until validation scores don't improve for 200 rounds\n"
     ]
    },
    {
     "name": "stderr",
     "output_type": "stream",
     "text": [
      "\r",
      "5it [00:06,  1.30s/it]"
     ]
    },
    {
     "name": "stdout",
     "output_type": "stream",
     "text": [
      "Did not meet early stopping. Best iteration is:\n",
      "[66]\tvalid_0's binary_logloss: 0.00839645\n",
      "AUC on fold 4: 0.8810\n",
      "[LightGBM] [Warning] feature_fraction is set=0.6971821098041336, colsample_bytree=1.0 will be ignored. Current value: feature_fraction=0.6971821098041336\n",
      "[LightGBM] [Warning] min_data_in_leaf is set=116, min_child_samples=65 will be ignored. Current value: min_data_in_leaf=116\n",
      "[LightGBM] [Warning] lambda_l1 is set=7.688167496328092e-12, reg_alpha=0.0 will be ignored. Current value: lambda_l1=7.688167496328092e-12\n",
      "[LightGBM] [Warning] bagging_fraction is set=0.5486874601157361, subsample=1.0 will be ignored. Current value: bagging_fraction=0.5486874601157361\n",
      "[LightGBM] [Warning] lambda_l2 is set=10.40459734442428, reg_lambda=0.0 will be ignored. Current value: lambda_l2=10.40459734442428\n",
      "[LightGBM] [Warning] bagging_freq is set=9, subsample_freq=0 will be ignored. Current value: bagging_freq=9\n",
      "Training until validation scores don't improve for 200 rounds\n"
     ]
    },
    {
     "name": "stderr",
     "output_type": "stream",
     "text": [
      "\r",
      "6it [00:07,  1.30s/it]"
     ]
    },
    {
     "name": "stdout",
     "output_type": "stream",
     "text": [
      "Did not meet early stopping. Best iteration is:\n",
      "[96]\tvalid_0's binary_logloss: 0.00770917\n",
      "AUC on fold 5: 0.9044\n",
      "[LightGBM] [Warning] feature_fraction is set=0.6971821098041336, colsample_bytree=1.0 will be ignored. Current value: feature_fraction=0.6971821098041336\n",
      "[LightGBM] [Warning] min_data_in_leaf is set=116, min_child_samples=65 will be ignored. Current value: min_data_in_leaf=116\n",
      "[LightGBM] [Warning] lambda_l1 is set=7.688167496328092e-12, reg_alpha=0.0 will be ignored. Current value: lambda_l1=7.688167496328092e-12\n",
      "[LightGBM] [Warning] bagging_fraction is set=0.5486874601157361, subsample=1.0 will be ignored. Current value: bagging_fraction=0.5486874601157361\n",
      "[LightGBM] [Warning] lambda_l2 is set=10.40459734442428, reg_lambda=0.0 will be ignored. Current value: lambda_l2=10.40459734442428\n",
      "[LightGBM] [Warning] bagging_freq is set=9, subsample_freq=0 will be ignored. Current value: bagging_freq=9\n",
      "Training until validation scores don't improve for 200 rounds\n"
     ]
    },
    {
     "name": "stderr",
     "output_type": "stream",
     "text": [
      "\r",
      "7it [00:09,  1.31s/it]"
     ]
    },
    {
     "name": "stdout",
     "output_type": "stream",
     "text": [
      "Did not meet early stopping. Best iteration is:\n",
      "[48]\tvalid_0's binary_logloss: 0.00799458\n",
      "AUC on fold 6: 0.8821\n",
      "[LightGBM] [Warning] feature_fraction is set=0.6971821098041336, colsample_bytree=1.0 will be ignored. Current value: feature_fraction=0.6971821098041336\n",
      "[LightGBM] [Warning] min_data_in_leaf is set=116, min_child_samples=65 will be ignored. Current value: min_data_in_leaf=116\n",
      "[LightGBM] [Warning] lambda_l1 is set=7.688167496328092e-12, reg_alpha=0.0 will be ignored. Current value: lambda_l1=7.688167496328092e-12\n",
      "[LightGBM] [Warning] bagging_fraction is set=0.5486874601157361, subsample=1.0 will be ignored. Current value: bagging_fraction=0.5486874601157361\n",
      "[LightGBM] [Warning] lambda_l2 is set=10.40459734442428, reg_lambda=0.0 will be ignored. Current value: lambda_l2=10.40459734442428\n",
      "[LightGBM] [Warning] bagging_freq is set=9, subsample_freq=0 will be ignored. Current value: bagging_freq=9\n",
      "Training until validation scores don't improve for 200 rounds\n"
     ]
    },
    {
     "name": "stderr",
     "output_type": "stream",
     "text": [
      "\r",
      "8it [00:10,  1.30s/it]"
     ]
    },
    {
     "name": "stdout",
     "output_type": "stream",
     "text": [
      "Did not meet early stopping. Best iteration is:\n",
      "[98]\tvalid_0's binary_logloss: 0.0089602\n",
      "AUC on fold 7: 0.8849\n",
      "[LightGBM] [Warning] feature_fraction is set=0.6971821098041336, colsample_bytree=1.0 will be ignored. Current value: feature_fraction=0.6971821098041336\n",
      "[LightGBM] [Warning] min_data_in_leaf is set=116, min_child_samples=65 will be ignored. Current value: min_data_in_leaf=116\n",
      "[LightGBM] [Warning] lambda_l1 is set=7.688167496328092e-12, reg_alpha=0.0 will be ignored. Current value: lambda_l1=7.688167496328092e-12\n",
      "[LightGBM] [Warning] bagging_fraction is set=0.5486874601157361, subsample=1.0 will be ignored. Current value: bagging_fraction=0.5486874601157361\n",
      "[LightGBM] [Warning] lambda_l2 is set=10.40459734442428, reg_lambda=0.0 will be ignored. Current value: lambda_l2=10.40459734442428\n",
      "[LightGBM] [Warning] bagging_freq is set=9, subsample_freq=0 will be ignored. Current value: bagging_freq=9\n",
      "Training until validation scores don't improve for 200 rounds\n"
     ]
    },
    {
     "name": "stderr",
     "output_type": "stream",
     "text": [
      "\r",
      "9it [00:11,  1.30s/it]"
     ]
    },
    {
     "name": "stdout",
     "output_type": "stream",
     "text": [
      "Did not meet early stopping. Best iteration is:\n",
      "[90]\tvalid_0's binary_logloss: 0.00757592\n",
      "AUC on fold 8: 0.8829\n",
      "[LightGBM] [Warning] feature_fraction is set=0.6971821098041336, colsample_bytree=1.0 will be ignored. Current value: feature_fraction=0.6971821098041336\n",
      "[LightGBM] [Warning] min_data_in_leaf is set=116, min_child_samples=65 will be ignored. Current value: min_data_in_leaf=116\n",
      "[LightGBM] [Warning] lambda_l1 is set=7.688167496328092e-12, reg_alpha=0.0 will be ignored. Current value: lambda_l1=7.688167496328092e-12\n",
      "[LightGBM] [Warning] bagging_fraction is set=0.5486874601157361, subsample=1.0 will be ignored. Current value: bagging_fraction=0.5486874601157361\n",
      "[LightGBM] [Warning] lambda_l2 is set=10.40459734442428, reg_lambda=0.0 will be ignored. Current value: lambda_l2=10.40459734442428\n",
      "[LightGBM] [Warning] bagging_freq is set=9, subsample_freq=0 will be ignored. Current value: bagging_freq=9\n",
      "Training until validation scores don't improve for 200 rounds\n"
     ]
    },
    {
     "name": "stderr",
     "output_type": "stream",
     "text": [
      "10it [00:13,  1.34s/it]"
     ]
    },
    {
     "name": "stdout",
     "output_type": "stream",
     "text": [
      "Did not meet early stopping. Best iteration is:\n",
      "[64]\tvalid_0's binary_logloss: 0.00774229\n",
      "AUC on fold 9: 0.9148\n",
      "mean AUC across all folds: 0.8956\n"
     ]
    },
    {
     "name": "stderr",
     "output_type": "stream",
     "text": [
      "\n"
     ]
    }
   ],
   "source": [
    "from lightgbm import log_evaluation, early_stopping\n",
    "kf = StratifiedKFold(n_splits = 10, random_state = 1, shuffle = True)\n",
    "val_scores = []\n",
    "# models = []\n",
    "include_orig = True\n",
    "\n",
    "# params = {'scale_pos_weight': 2,\n",
    "#  'lambda_l2': 14.705798704172345,\n",
    "#  'num_leaves': 45,\n",
    "#  'feature_fraction': 0.8402041342033796,\n",
    "#  'bagging_fraction': 0.5053012488246705,\n",
    "#  'bagging_freq': 8,\n",
    "#  'min_child_samples': 90,\n",
    "#  'min_data_in_leaf': 111,\n",
    "#  'max_depth': 6}\n",
    "params = {'scale_pos_weight': 1,\n",
    " 'lambda_l1': 7.688167496328092e-12,\n",
    " 'lambda_l2': 10.40459734442428,\n",
    " 'num_leaves': 44,\n",
    " 'feature_fraction': 0.6971821098041336,\n",
    " 'bagging_fraction': 0.5486874601157361,\n",
    " 'bagging_freq': 9,\n",
    " 'min_child_samples': 65,\n",
    " 'min_data_in_leaf': 116,\n",
    " 'max_depth': 10}\n",
    "\n",
    "for i, (train_index, val_index) in tqdm(enumerate(kf.split(train, train[target]))):\n",
    "    \n",
    "    X_train, X_val = train[features].loc[train_index], train[features].loc[val_index]\n",
    "    y_train, y_val = train[target][train_index], train[target][val_index]\n",
    "    \n",
    "#     if include_orig:\n",
    "#         X_train = X_train.append(original[features], ignore_index = True)\n",
    "#         y_train = y_train.append(original[target], ignore_index = True)\n",
    "    \n",
    "    model = LGBMClassifier(**params)\n",
    "\n",
    "    callbacks = [log_evaluation(period=200), early_stopping(stopping_rounds=200)]\n",
    "    model.fit(X_train, y_train, eval_set = [(X_val, y_val)], callbacks = callbacks)\n",
    "    \n",
    "    models.append(model)\n",
    "    pred = model.predict_proba(X_val)[:,1]\n",
    "    score = roc_auc_score(y_val, pred)\n",
    "    val_scores.append(score)\n",
    "    \n",
    "    print(f'AUC on fold {i}: {score:.4f}')\n",
    "    \n",
    "print(f'mean AUC across all folds: {np.mean(val_scores):.4f}')"
   ]
  },
  {
   "cell_type": "code",
   "execution_count": 33,
   "id": "d47b1ffa",
   "metadata": {},
   "outputs": [
    {
     "data": {
      "text/plain": [
       "[0.8976229427233142,\n",
       " 0.912165842901068,\n",
       " 0.8925242371071394,\n",
       " 0.9034954255891454,\n",
       " 0.8810489401953916,\n",
       " 0.9044374205618453,\n",
       " 0.8820585661741638,\n",
       " 0.8849129401111395,\n",
       " 0.8828500582490686,\n",
       " 0.9148168842598638]"
      ]
     },
     "execution_count": 33,
     "metadata": {},
     "output_type": "execute_result"
    }
   ],
   "source": [
    "val_scores"
   ]
  },
  {
   "cell_type": "code",
   "execution_count": 34,
   "id": "02179046",
   "metadata": {},
   "outputs": [
    {
     "data": {
      "text/plain": [
       "0.895593325787214"
      ]
     },
     "execution_count": 34,
     "metadata": {},
     "output_type": "execute_result"
    }
   ],
   "source": [
    "sum(val_scores)/10"
   ]
  },
  {
   "cell_type": "code",
   "execution_count": 35,
   "id": "3249b424",
   "metadata": {},
   "outputs": [
    {
     "data": {
      "image/png": "[encoded data removed]",
      "text/plain": [
       "<Figure size 1000x1200 with 1 Axes>"
      ]
     },
     "metadata": {},
     "output_type": "display_data"
    }
   ],
   "source": [
    "plt.figure(figsize = (10, 12))\n",
    "cat_imp = np.zeros(len(models[0].feature_importances_))\n",
    "for model in models[:10]:\n",
    "    cat_imp += model.feature_importances_\n",
    "    \n",
    "plt.barh([features[i] for i in np.argsort(cat_imp)], sorted(cat_imp), \n",
    "         color = \"orange\", edgecolor = \"#000000\")\n",
    "\n",
    "plt.title(\"CatBoost\")\n",
    "plt.show()"
   ]
  },
  {
   "cell_type": "code",
   "execution_count": 36,
   "id": "8b4ef169",
   "metadata": {},
   "outputs": [
    {
     "data": {
      "image/png": "[encoded data removed]",
      "text/plain": [
       "<Figure size 1000x1200 with 1 Axes>"
      ]
     },
     "metadata": {},
     "output_type": "display_data"
    }
   ],
   "source": [
    "plt.figure(figsize = (10, 12))\n",
    "xgb_imp = np.zeros(len(models[10].feature_importances_))\n",
    "for model in models[10:20]:\n",
    "    xgb_imp += model.feature_importances_\n",
    "    \n",
    "plt.barh([features[i] for i in np.argsort(xgb_imp)], sorted(xgb_imp), \n",
    "         color = \"purple\", edgecolor = \"#000000\")\n",
    "\n",
    "plt.title(\"XGBoost\")\n",
    "plt.show()"
   ]
  },
  {
   "cell_type": "code",
   "execution_count": 37,
   "id": "b6ada3fa",
   "metadata": {},
   "outputs": [
    {
     "data": {
      "image/png": "[encoded data removed]",
      "text/plain": [
       "<Figure size 1000x1200 with 1 Axes>"
      ]
     },
     "metadata": {},
     "output_type": "display_data"
    }
   ],
   "source": [
    "plt.figure(figsize = (10, 12))\n",
    "lgbm_imp = np.zeros(len(features))\n",
    "for model in models[20:]:\n",
    "    lgbm_imp += model.feature_importances_\n",
    "    \n",
    "plt.barh([features[i] for i in np.argsort(lgbm_imp)], sorted(lgbm_imp), \n",
    "         color = \"blue\", edgecolor = \"#000000\")\n",
    "\n",
    "plt.title(\"LGBM\")\n",
    "plt.show()"
   ]
  },
  {
   "cell_type": "code",
   "execution_count": 38,
   "id": "a5e907ab",
   "metadata": {},
   "outputs": [],
   "source": [
    "cat_preds = []\n",
    "xgb_preds = []\n",
    "lgbm_preds = []\n",
    "\n",
    "for model in models[:10]:\n",
    "    preds = model.predict_proba(test[features])[:,1]\n",
    "    cat_preds.append(preds)\n",
    "    \n",
    "for model in models[10:20]:\n",
    "    preds = model.predict_proba(test[features])[:,1]\n",
    "    xgb_preds.append(preds)\n",
    "    \n",
    "for model in models[20:]:\n",
    "    preds = model.predict_proba(test[features])[:,1]\n",
    "    lgbm_preds.append(preds)"
   ]
  },
  {
   "cell_type": "code",
   "execution_count": 39,
   "id": "a286129f",
   "metadata": {},
   "outputs": [],
   "source": [
    "# lgbm_preds = []\n",
    "# for model in models:\n",
    "#     preds = model.predict_proba(test[features])[:,1]\n",
    "#     lgbm_preds.append(preds)"
   ]
  },
  {
   "cell_type": "code",
   "execution_count": 40,
   "id": "cacc94a4",
   "metadata": {},
   "outputs": [
    {
     "data": {
      "text/plain": [
       "array([0.0008358 , 0.0005414 , 0.00016388, ..., 0.0005703 , 0.00015689,\n",
       "       0.00028077])"
      ]
     },
     "execution_count": 40,
     "metadata": {},
     "output_type": "execute_result"
    }
   ],
   "source": [
    "cat_preds = np.stack(cat_preds).mean(0)\n",
    "cat_preds # cv 10개 모델의 평균"
   ]
  },
  {
   "cell_type": "code",
   "execution_count": 41,
   "id": "27b3447f",
   "metadata": {},
   "outputs": [],
   "source": [
    "# cat_preds = np.stack(cat_preds).mean(0)\n",
    "xgb_preds = np.stack(xgb_preds).mean(0)\n",
    "lgbm_preds = np.stack(lgbm_preds).mean(0)"
   ]
  },
  {
   "cell_type": "code",
   "execution_count": 42,
   "id": "fbd2db0b",
   "metadata": {},
   "outputs": [
    {
     "name": "stdout",
     "output_type": "stream",
     "text": [
      "Cat Correlation with XGB:\n"
     ]
    },
    {
     "data": {
      "text/plain": [
       "0.9430081206954292"
      ]
     },
     "metadata": {},
     "output_type": "display_data"
    },
    {
     "name": "stdout",
     "output_type": "stream",
     "text": [
      "Cat Correlation with LGBM:\n"
     ]
    },
    {
     "data": {
      "text/plain": [
       "0.968700750589783"
      ]
     },
     "metadata": {},
     "output_type": "display_data"
    },
    {
     "name": "stdout",
     "output_type": "stream",
     "text": [
      "XGB Correlation with LGBM:\n"
     ]
    },
    {
     "data": {
      "text/plain": [
       "0.9658825169785414"
      ]
     },
     "metadata": {},
     "output_type": "display_data"
    }
   ],
   "source": [
    "cat_df = pd.DataFrame(data = {'id': test.id, 'Class': cat_preds})\n",
    "xgb_df = pd.DataFrame(data = {'id': test.id, 'Class': xgb_preds})\n",
    "lgbm_df = pd.DataFrame(data = {'id': test.id, 'Class': lgbm_preds})\n",
    "\n",
    "print(\"Cat Correlation with XGB:\")\n",
    "display(cat_df.Class.corr(xgb_df.Class))\n",
    "print(\"Cat Correlation with LGBM:\")\n",
    "display(cat_df.Class.corr(lgbm_df.Class))\n",
    "print(\"XGB Correlation with LGBM:\")\n",
    "display(xgb_df.Class.corr(lgbm_df.Class))"
   ]
  },
  {
   "cell_type": "code",
   "execution_count": 46,
   "id": "0268e31f",
   "metadata": {},
   "outputs": [
    {
     "data": {
      "text/plain": [
       "array([0.00173702, 0.00072687, 0.00020086, ..., 0.00069496, 0.00011915,\n",
       "       0.00028117])"
      ]
     },
     "execution_count": 46,
     "metadata": {},
     "output_type": "execute_result"
    }
   ],
   "source": [
    "blended_preds = 0.5*cat_preds + 0.3*xgb_preds + 0.2*lgbm_preds\n",
    "blended_preds"
   ]
  },
  {
   "cell_type": "code",
   "execution_count": 47,
   "id": "b76845d5",
   "metadata": {},
   "outputs": [],
   "source": [
    "submission = pd.DataFrame(data = {'id': test.id, 'Class': blended_preds})"
   ]
  },
  {
   "cell_type": "code",
   "execution_count": 49,
   "id": "0789c441",
   "metadata": {},
   "outputs": [],
   "source": [
    "submission.to_csv('blended.csv', index=False)"
   ]
  },
  {
   "cell_type": "code",
   "execution_count": null,
   "id": "b476ba06",
   "metadata": {},
   "outputs": [],
   "source": []
  }
 ],
 "metadata": {
  "kernelspec": {
   "display_name": "Python 3 (ipykernel)",
   "language": "python",
   "name": "python3"
  },
  "language_info": {
   "codemirror_mode": {
    "name": "ipython",
    "version": 3
   },
   "file_extension": ".py",
   "mimetype": "text/x-python",
   "name": "python",
   "nbconvert_exporter": "python",
   "pygments_lexer": "ipython3",
   "version": "3.8.16"
  }
 },
 "nbformat": 4,
 "nbformat_minor": 5
}
