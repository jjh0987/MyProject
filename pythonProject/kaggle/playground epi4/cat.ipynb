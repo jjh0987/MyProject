{
 "cells": [
  {
   "cell_type": "code",
   "execution_count": 1,
   "id": "7353e603",
   "metadata": {},
   "outputs": [
    {
     "name": "stderr",
     "output_type": "stream",
     "text": [
      "C:\\Users\\user\\anaconda3\\envs\\ml\\lib\\site-packages\\xgboost\\compat.py:36: FutureWarning: pandas.Int64Index is deprecated and will be removed from pandas in a future version. Use pandas.Index with the appropriate dtype instead.\n",
      "  from pandas import MultiIndex, Int64Index\n"
     ]
    }
   ],
   "source": [
    "import numpy as np\n",
    "import pandas as pd\n",
    "from tqdm import tqdm\n",
    "import matplotlib.pyplot as plt\n",
    "import seaborn as sns\n",
    "import plotly.express as px\n",
    "\n",
    "from sklearn.pipeline import Pipeline\n",
    "from sklearn.impute import SimpleImputer\n",
    "from sklearn.compose import ColumnTransformer\n",
    "from sklearn.decomposition import PCA\n",
    "from sklearn.cluster import KMeans\n",
    "from sklearn.preprocessing import StandardScaler, MinMaxScaler, Normalizer, RobustScaler, LabelEncoder, OneHotEncoder\n",
    "from sklearn.metrics import mean_squared_error, roc_auc_score\n",
    "from sklearn.model_selection import KFold, StratifiedKFold\n",
    "from sklearn.model_selection import GridSearchCV\n",
    "from category_encoders import LeaveOneOutEncoder\n",
    "\n",
    "from catboost import CatBoostClassifier\n",
    "from xgboost import XGBClassifier\n",
    "from lightgbm.sklearn import LGBMClassifier\n",
    "from sklearn.linear_model import LogisticRegression\n",
    "from sklearn.ensemble import RandomForestClassifier\n",
    "from sklearn.neighbors import KNeighborsClassifier\n",
    "from sklearn.svm import SVC\n",
    "from sklearn.ensemble import ExtraTreesClassifier\n",
    "\n",
    "import warnings\n",
    "\n",
    "warnings.filterwarnings('ignore')"
   ]
  },
  {
   "cell_type": "code",
   "execution_count": 2,
   "id": "8a5f201a",
   "metadata": {},
   "outputs": [
    {
     "data": {
      "text/plain": [
       "0    218660\n",
       "1       469\n",
       "Name: Class, dtype: int64"
      ]
     },
     "execution_count": 2,
     "metadata": {},
     "output_type": "execute_result"
    }
   ],
   "source": [
    "train = pd.read_csv('./train.csv').drop('id',axis=1)\n",
    "train.Class.value_counts()"
   ]
  },
  {
   "cell_type": "code",
   "execution_count": 3,
   "id": "9ab85944",
   "metadata": {},
   "outputs": [],
   "source": [
    "test = pd.read_csv('./test.csv')"
   ]
  },
  {
   "cell_type": "code",
   "execution_count": 4,
   "id": "7a03ed41",
   "metadata": {},
   "outputs": [
    {
     "data": {
      "text/html": [
       "<div>\n",
       "<style scoped>\n",
       "    .dataframe tbody tr th:only-of-type {\n",
       "        vertical-align: middle;\n",
       "    }\n",
       "\n",
       "    .dataframe tbody tr th {\n",
       "        vertical-align: top;\n",
       "    }\n",
       "\n",
       "    .dataframe thead th {\n",
       "        text-align: right;\n",
       "    }\n",
       "</style>\n",
       "<table border=\"1\" class=\"dataframe\">\n",
       "  <thead>\n",
       "    <tr style=\"text-align: right;\">\n",
       "      <th></th>\n",
       "      <th>Time</th>\n",
       "      <th>V1</th>\n",
       "      <th>V2</th>\n",
       "      <th>V3</th>\n",
       "      <th>V4</th>\n",
       "      <th>V5</th>\n",
       "      <th>V6</th>\n",
       "      <th>V7</th>\n",
       "      <th>V8</th>\n",
       "      <th>V9</th>\n",
       "      <th>...</th>\n",
       "      <th>V21</th>\n",
       "      <th>V22</th>\n",
       "      <th>V23</th>\n",
       "      <th>V24</th>\n",
       "      <th>V25</th>\n",
       "      <th>V26</th>\n",
       "      <th>V27</th>\n",
       "      <th>V28</th>\n",
       "      <th>Amount</th>\n",
       "      <th>Class</th>\n",
       "    </tr>\n",
       "  </thead>\n",
       "  <tbody>\n",
       "    <tr>\n",
       "      <th>0</th>\n",
       "      <td>0.0</td>\n",
       "      <td>2.074329</td>\n",
       "      <td>-0.129425</td>\n",
       "      <td>-1.137418</td>\n",
       "      <td>0.412846</td>\n",
       "      <td>-0.192638</td>\n",
       "      <td>-1.210144</td>\n",
       "      <td>0.110697</td>\n",
       "      <td>-0.263477</td>\n",
       "      <td>0.742144</td>\n",
       "      <td>...</td>\n",
       "      <td>-0.334701</td>\n",
       "      <td>-0.887840</td>\n",
       "      <td>0.336701</td>\n",
       "      <td>-0.110835</td>\n",
       "      <td>-0.291459</td>\n",
       "      <td>0.207733</td>\n",
       "      <td>-0.076576</td>\n",
       "      <td>-0.059577</td>\n",
       "      <td>1.98</td>\n",
       "      <td>0</td>\n",
       "    </tr>\n",
       "    <tr>\n",
       "      <th>1</th>\n",
       "      <td>0.0</td>\n",
       "      <td>1.998827</td>\n",
       "      <td>-1.250891</td>\n",
       "      <td>-0.520969</td>\n",
       "      <td>-0.894539</td>\n",
       "      <td>-1.122528</td>\n",
       "      <td>-0.270866</td>\n",
       "      <td>-1.029289</td>\n",
       "      <td>0.050198</td>\n",
       "      <td>-0.109948</td>\n",
       "      <td>...</td>\n",
       "      <td>0.054848</td>\n",
       "      <td>-0.038367</td>\n",
       "      <td>0.133518</td>\n",
       "      <td>-0.461928</td>\n",
       "      <td>-0.465491</td>\n",
       "      <td>-0.464655</td>\n",
       "      <td>-0.009413</td>\n",
       "      <td>-0.038238</td>\n",
       "      <td>84.00</td>\n",
       "      <td>0</td>\n",
       "    </tr>\n",
       "    <tr>\n",
       "      <th>2</th>\n",
       "      <td>0.0</td>\n",
       "      <td>0.091535</td>\n",
       "      <td>1.004517</td>\n",
       "      <td>-0.223445</td>\n",
       "      <td>-0.435249</td>\n",
       "      <td>0.667548</td>\n",
       "      <td>-0.988351</td>\n",
       "      <td>0.948146</td>\n",
       "      <td>-0.084789</td>\n",
       "      <td>-0.042027</td>\n",
       "      <td>...</td>\n",
       "      <td>-0.326725</td>\n",
       "      <td>-0.803736</td>\n",
       "      <td>0.154495</td>\n",
       "      <td>0.951233</td>\n",
       "      <td>-0.506919</td>\n",
       "      <td>0.085046</td>\n",
       "      <td>0.224458</td>\n",
       "      <td>0.087356</td>\n",
       "      <td>2.69</td>\n",
       "      <td>0</td>\n",
       "    </tr>\n",
       "    <tr>\n",
       "      <th>3</th>\n",
       "      <td>0.0</td>\n",
       "      <td>1.979649</td>\n",
       "      <td>-0.184949</td>\n",
       "      <td>-1.064206</td>\n",
       "      <td>0.120125</td>\n",
       "      <td>-0.215238</td>\n",
       "      <td>-0.648829</td>\n",
       "      <td>-0.087826</td>\n",
       "      <td>-0.035367</td>\n",
       "      <td>0.885838</td>\n",
       "      <td>...</td>\n",
       "      <td>-0.095514</td>\n",
       "      <td>-0.079792</td>\n",
       "      <td>0.167701</td>\n",
       "      <td>-0.042939</td>\n",
       "      <td>0.000799</td>\n",
       "      <td>-0.096148</td>\n",
       "      <td>-0.057780</td>\n",
       "      <td>-0.073839</td>\n",
       "      <td>1.00</td>\n",
       "      <td>0</td>\n",
       "    </tr>\n",
       "    <tr>\n",
       "      <th>4</th>\n",
       "      <td>0.0</td>\n",
       "      <td>1.025898</td>\n",
       "      <td>-0.171827</td>\n",
       "      <td>1.203717</td>\n",
       "      <td>1.243900</td>\n",
       "      <td>-0.636572</td>\n",
       "      <td>1.099074</td>\n",
       "      <td>-0.938651</td>\n",
       "      <td>0.569239</td>\n",
       "      <td>0.692665</td>\n",
       "      <td>...</td>\n",
       "      <td>0.099157</td>\n",
       "      <td>0.608908</td>\n",
       "      <td>0.027901</td>\n",
       "      <td>-0.262813</td>\n",
       "      <td>0.257834</td>\n",
       "      <td>-0.252829</td>\n",
       "      <td>0.108338</td>\n",
       "      <td>0.021051</td>\n",
       "      <td>1.00</td>\n",
       "      <td>0</td>\n",
       "    </tr>\n",
       "    <tr>\n",
       "      <th>...</th>\n",
       "      <td>...</td>\n",
       "      <td>...</td>\n",
       "      <td>...</td>\n",
       "      <td>...</td>\n",
       "      <td>...</td>\n",
       "      <td>...</td>\n",
       "      <td>...</td>\n",
       "      <td>...</td>\n",
       "      <td>...</td>\n",
       "      <td>...</td>\n",
       "      <td>...</td>\n",
       "      <td>...</td>\n",
       "      <td>...</td>\n",
       "      <td>...</td>\n",
       "      <td>...</td>\n",
       "      <td>...</td>\n",
       "      <td>...</td>\n",
       "      <td>...</td>\n",
       "      <td>...</td>\n",
       "      <td>...</td>\n",
       "      <td>...</td>\n",
       "    </tr>\n",
       "    <tr>\n",
       "      <th>219124</th>\n",
       "      <td>120580.0</td>\n",
       "      <td>1.891079</td>\n",
       "      <td>-1.272908</td>\n",
       "      <td>-3.783908</td>\n",
       "      <td>-1.388939</td>\n",
       "      <td>2.012789</td>\n",
       "      <td>2.666080</td>\n",
       "      <td>0.151740</td>\n",
       "      <td>0.401934</td>\n",
       "      <td>-1.102824</td>\n",
       "      <td>...</td>\n",
       "      <td>-0.181369</td>\n",
       "      <td>-0.456538</td>\n",
       "      <td>-0.069571</td>\n",
       "      <td>0.756765</td>\n",
       "      <td>0.244479</td>\n",
       "      <td>-0.147566</td>\n",
       "      <td>-0.054725</td>\n",
       "      <td>-0.044588</td>\n",
       "      <td>198.65</td>\n",
       "      <td>0</td>\n",
       "    </tr>\n",
       "    <tr>\n",
       "      <th>219125</th>\n",
       "      <td>120580.0</td>\n",
       "      <td>0.139724</td>\n",
       "      <td>0.948649</td>\n",
       "      <td>-2.913655</td>\n",
       "      <td>-2.184829</td>\n",
       "      <td>1.883716</td>\n",
       "      <td>-1.056824</td>\n",
       "      <td>1.725624</td>\n",
       "      <td>0.018089</td>\n",
       "      <td>-0.823494</td>\n",
       "      <td>...</td>\n",
       "      <td>0.491469</td>\n",
       "      <td>1.478823</td>\n",
       "      <td>-0.085398</td>\n",
       "      <td>-0.091409</td>\n",
       "      <td>-1.053488</td>\n",
       "      <td>0.467570</td>\n",
       "      <td>0.358918</td>\n",
       "      <td>0.294735</td>\n",
       "      <td>24.00</td>\n",
       "      <td>0</td>\n",
       "    </tr>\n",
       "    <tr>\n",
       "      <th>219126</th>\n",
       "      <td>120580.0</td>\n",
       "      <td>2.058343</td>\n",
       "      <td>-0.038993</td>\n",
       "      <td>-1.928553</td>\n",
       "      <td>0.330117</td>\n",
       "      <td>0.270127</td>\n",
       "      <td>-0.735664</td>\n",
       "      <td>-0.173878</td>\n",
       "      <td>0.144823</td>\n",
       "      <td>0.849289</td>\n",
       "      <td>...</td>\n",
       "      <td>-0.306640</td>\n",
       "      <td>-0.965783</td>\n",
       "      <td>0.307799</td>\n",
       "      <td>-0.021434</td>\n",
       "      <td>-0.343989</td>\n",
       "      <td>0.181065</td>\n",
       "      <td>-0.098387</td>\n",
       "      <td>-0.044064</td>\n",
       "      <td>1.79</td>\n",
       "      <td>0</td>\n",
       "    </tr>\n",
       "    <tr>\n",
       "      <th>219127</th>\n",
       "      <td>120580.0</td>\n",
       "      <td>2.079227</td>\n",
       "      <td>-2.162389</td>\n",
       "      <td>-1.785833</td>\n",
       "      <td>-2.804889</td>\n",
       "      <td>0.552845</td>\n",
       "      <td>4.038013</td>\n",
       "      <td>-2.155900</td>\n",
       "      <td>1.023785</td>\n",
       "      <td>-0.865242</td>\n",
       "      <td>...</td>\n",
       "      <td>0.109909</td>\n",
       "      <td>0.590401</td>\n",
       "      <td>0.286621</td>\n",
       "      <td>0.675660</td>\n",
       "      <td>-0.510736</td>\n",
       "      <td>-0.090044</td>\n",
       "      <td>0.056749</td>\n",
       "      <td>-0.017126</td>\n",
       "      <td>88.00</td>\n",
       "      <td>0</td>\n",
       "    </tr>\n",
       "    <tr>\n",
       "      <th>219128</th>\n",
       "      <td>120580.0</td>\n",
       "      <td>-0.431758</td>\n",
       "      <td>1.299171</td>\n",
       "      <td>-0.571602</td>\n",
       "      <td>-1.161499</td>\n",
       "      <td>1.141765</td>\n",
       "      <td>-1.258871</td>\n",
       "      <td>1.701553</td>\n",
       "      <td>-0.454580</td>\n",
       "      <td>-0.556978</td>\n",
       "      <td>...</td>\n",
       "      <td>0.225629</td>\n",
       "      <td>0.988442</td>\n",
       "      <td>-0.224609</td>\n",
       "      <td>0.082977</td>\n",
       "      <td>-0.335529</td>\n",
       "      <td>0.042237</td>\n",
       "      <td>0.304965</td>\n",
       "      <td>0.240049</td>\n",
       "      <td>3.78</td>\n",
       "      <td>0</td>\n",
       "    </tr>\n",
       "  </tbody>\n",
       "</table>\n",
       "<p>219129 rows × 31 columns</p>\n",
       "</div>"
      ],
      "text/plain": [
       "            Time        V1        V2        V3        V4        V5        V6  \\\n",
       "0            0.0  2.074329 -0.129425 -1.137418  0.412846 -0.192638 -1.210144   \n",
       "1            0.0  1.998827 -1.250891 -0.520969 -0.894539 -1.122528 -0.270866   \n",
       "2            0.0  0.091535  1.004517 -0.223445 -0.435249  0.667548 -0.988351   \n",
       "3            0.0  1.979649 -0.184949 -1.064206  0.120125 -0.215238 -0.648829   \n",
       "4            0.0  1.025898 -0.171827  1.203717  1.243900 -0.636572  1.099074   \n",
       "...          ...       ...       ...       ...       ...       ...       ...   \n",
       "219124  120580.0  1.891079 -1.272908 -3.783908 -1.388939  2.012789  2.666080   \n",
       "219125  120580.0  0.139724  0.948649 -2.913655 -2.184829  1.883716 -1.056824   \n",
       "219126  120580.0  2.058343 -0.038993 -1.928553  0.330117  0.270127 -0.735664   \n",
       "219127  120580.0  2.079227 -2.162389 -1.785833 -2.804889  0.552845  4.038013   \n",
       "219128  120580.0 -0.431758  1.299171 -0.571602 -1.161499  1.141765 -1.258871   \n",
       "\n",
       "              V7        V8        V9  ...       V21       V22       V23  \\\n",
       "0       0.110697 -0.263477  0.742144  ... -0.334701 -0.887840  0.336701   \n",
       "1      -1.029289  0.050198 -0.109948  ...  0.054848 -0.038367  0.133518   \n",
       "2       0.948146 -0.084789 -0.042027  ... -0.326725 -0.803736  0.154495   \n",
       "3      -0.087826 -0.035367  0.885838  ... -0.095514 -0.079792  0.167701   \n",
       "4      -0.938651  0.569239  0.692665  ...  0.099157  0.608908  0.027901   \n",
       "...          ...       ...       ...  ...       ...       ...       ...   \n",
       "219124  0.151740  0.401934 -1.102824  ... -0.181369 -0.456538 -0.069571   \n",
       "219125  1.725624  0.018089 -0.823494  ...  0.491469  1.478823 -0.085398   \n",
       "219126 -0.173878  0.144823  0.849289  ... -0.306640 -0.965783  0.307799   \n",
       "219127 -2.155900  1.023785 -0.865242  ...  0.109909  0.590401  0.286621   \n",
       "219128  1.701553 -0.454580 -0.556978  ...  0.225629  0.988442 -0.224609   \n",
       "\n",
       "             V24       V25       V26       V27       V28  Amount  Class  \n",
       "0      -0.110835 -0.291459  0.207733 -0.076576 -0.059577    1.98      0  \n",
       "1      -0.461928 -0.465491 -0.464655 -0.009413 -0.038238   84.00      0  \n",
       "2       0.951233 -0.506919  0.085046  0.224458  0.087356    2.69      0  \n",
       "3      -0.042939  0.000799 -0.096148 -0.057780 -0.073839    1.00      0  \n",
       "4      -0.262813  0.257834 -0.252829  0.108338  0.021051    1.00      0  \n",
       "...          ...       ...       ...       ...       ...     ...    ...  \n",
       "219124  0.756765  0.244479 -0.147566 -0.054725 -0.044588  198.65      0  \n",
       "219125 -0.091409 -1.053488  0.467570  0.358918  0.294735   24.00      0  \n",
       "219126 -0.021434 -0.343989  0.181065 -0.098387 -0.044064    1.79      0  \n",
       "219127  0.675660 -0.510736 -0.090044  0.056749 -0.017126   88.00      0  \n",
       "219128  0.082977 -0.335529  0.042237  0.304965  0.240049    3.78      0  \n",
       "\n",
       "[219129 rows x 31 columns]"
      ]
     },
     "execution_count": 4,
     "metadata": {},
     "output_type": "execute_result"
    }
   ],
   "source": [
    "train"
   ]
  },
  {
   "cell_type": "code",
   "execution_count": 5,
   "id": "27cc57c8",
   "metadata": {},
   "outputs": [
    {
     "data": {
      "text/html": [
       "<div>\n",
       "<style scoped>\n",
       "    .dataframe tbody tr th:only-of-type {\n",
       "        vertical-align: middle;\n",
       "    }\n",
       "\n",
       "    .dataframe tbody tr th {\n",
       "        vertical-align: top;\n",
       "    }\n",
       "\n",
       "    .dataframe thead th {\n",
       "        text-align: right;\n",
       "    }\n",
       "</style>\n",
       "<table border=\"1\" class=\"dataframe\">\n",
       "  <thead>\n",
       "    <tr style=\"text-align: right;\">\n",
       "      <th></th>\n",
       "      <th>Time</th>\n",
       "      <th>V1</th>\n",
       "      <th>V2</th>\n",
       "      <th>V3</th>\n",
       "      <th>V4</th>\n",
       "      <th>V5</th>\n",
       "      <th>V6</th>\n",
       "      <th>V7</th>\n",
       "      <th>V8</th>\n",
       "      <th>V9</th>\n",
       "      <th>...</th>\n",
       "      <th>V21</th>\n",
       "      <th>V22</th>\n",
       "      <th>V23</th>\n",
       "      <th>V24</th>\n",
       "      <th>V25</th>\n",
       "      <th>V26</th>\n",
       "      <th>V27</th>\n",
       "      <th>V28</th>\n",
       "      <th>Amount</th>\n",
       "      <th>Class</th>\n",
       "    </tr>\n",
       "  </thead>\n",
       "  <tbody>\n",
       "    <tr>\n",
       "      <th>0</th>\n",
       "      <td>0.0</td>\n",
       "      <td>-1.359807</td>\n",
       "      <td>-0.072781</td>\n",
       "      <td>2.536347</td>\n",
       "      <td>1.378155</td>\n",
       "      <td>-0.338321</td>\n",
       "      <td>0.462388</td>\n",
       "      <td>0.239599</td>\n",
       "      <td>0.098698</td>\n",
       "      <td>0.363787</td>\n",
       "      <td>...</td>\n",
       "      <td>-0.018307</td>\n",
       "      <td>0.277838</td>\n",
       "      <td>-0.110474</td>\n",
       "      <td>0.066928</td>\n",
       "      <td>0.128539</td>\n",
       "      <td>-0.189115</td>\n",
       "      <td>0.133558</td>\n",
       "      <td>-0.021053</td>\n",
       "      <td>149.62</td>\n",
       "      <td>0</td>\n",
       "    </tr>\n",
       "    <tr>\n",
       "      <th>1</th>\n",
       "      <td>0.0</td>\n",
       "      <td>1.191857</td>\n",
       "      <td>0.266151</td>\n",
       "      <td>0.166480</td>\n",
       "      <td>0.448154</td>\n",
       "      <td>0.060018</td>\n",
       "      <td>-0.082361</td>\n",
       "      <td>-0.078803</td>\n",
       "      <td>0.085102</td>\n",
       "      <td>-0.255425</td>\n",
       "      <td>...</td>\n",
       "      <td>-0.225775</td>\n",
       "      <td>-0.638672</td>\n",
       "      <td>0.101288</td>\n",
       "      <td>-0.339846</td>\n",
       "      <td>0.167170</td>\n",
       "      <td>0.125895</td>\n",
       "      <td>-0.008983</td>\n",
       "      <td>0.014724</td>\n",
       "      <td>2.69</td>\n",
       "      <td>0</td>\n",
       "    </tr>\n",
       "    <tr>\n",
       "      <th>2</th>\n",
       "      <td>1.0</td>\n",
       "      <td>-1.358354</td>\n",
       "      <td>-1.340163</td>\n",
       "      <td>1.773209</td>\n",
       "      <td>0.379780</td>\n",
       "      <td>-0.503198</td>\n",
       "      <td>1.800499</td>\n",
       "      <td>0.791461</td>\n",
       "      <td>0.247676</td>\n",
       "      <td>-1.514654</td>\n",
       "      <td>...</td>\n",
       "      <td>0.247998</td>\n",
       "      <td>0.771679</td>\n",
       "      <td>0.909412</td>\n",
       "      <td>-0.689281</td>\n",
       "      <td>-0.327642</td>\n",
       "      <td>-0.139097</td>\n",
       "      <td>-0.055353</td>\n",
       "      <td>-0.059752</td>\n",
       "      <td>378.66</td>\n",
       "      <td>0</td>\n",
       "    </tr>\n",
       "    <tr>\n",
       "      <th>3</th>\n",
       "      <td>1.0</td>\n",
       "      <td>-0.966272</td>\n",
       "      <td>-0.185226</td>\n",
       "      <td>1.792993</td>\n",
       "      <td>-0.863291</td>\n",
       "      <td>-0.010309</td>\n",
       "      <td>1.247203</td>\n",
       "      <td>0.237609</td>\n",
       "      <td>0.377436</td>\n",
       "      <td>-1.387024</td>\n",
       "      <td>...</td>\n",
       "      <td>-0.108300</td>\n",
       "      <td>0.005274</td>\n",
       "      <td>-0.190321</td>\n",
       "      <td>-1.175575</td>\n",
       "      <td>0.647376</td>\n",
       "      <td>-0.221929</td>\n",
       "      <td>0.062723</td>\n",
       "      <td>0.061458</td>\n",
       "      <td>123.50</td>\n",
       "      <td>0</td>\n",
       "    </tr>\n",
       "    <tr>\n",
       "      <th>4</th>\n",
       "      <td>2.0</td>\n",
       "      <td>-1.158233</td>\n",
       "      <td>0.877737</td>\n",
       "      <td>1.548718</td>\n",
       "      <td>0.403034</td>\n",
       "      <td>-0.407193</td>\n",
       "      <td>0.095921</td>\n",
       "      <td>0.592941</td>\n",
       "      <td>-0.270533</td>\n",
       "      <td>0.817739</td>\n",
       "      <td>...</td>\n",
       "      <td>-0.009431</td>\n",
       "      <td>0.798278</td>\n",
       "      <td>-0.137458</td>\n",
       "      <td>0.141267</td>\n",
       "      <td>-0.206010</td>\n",
       "      <td>0.502292</td>\n",
       "      <td>0.219422</td>\n",
       "      <td>0.215153</td>\n",
       "      <td>69.99</td>\n",
       "      <td>0</td>\n",
       "    </tr>\n",
       "    <tr>\n",
       "      <th>...</th>\n",
       "      <td>...</td>\n",
       "      <td>...</td>\n",
       "      <td>...</td>\n",
       "      <td>...</td>\n",
       "      <td>...</td>\n",
       "      <td>...</td>\n",
       "      <td>...</td>\n",
       "      <td>...</td>\n",
       "      <td>...</td>\n",
       "      <td>...</td>\n",
       "      <td>...</td>\n",
       "      <td>...</td>\n",
       "      <td>...</td>\n",
       "      <td>...</td>\n",
       "      <td>...</td>\n",
       "      <td>...</td>\n",
       "      <td>...</td>\n",
       "      <td>...</td>\n",
       "      <td>...</td>\n",
       "      <td>...</td>\n",
       "      <td>...</td>\n",
       "    </tr>\n",
       "    <tr>\n",
       "      <th>284802</th>\n",
       "      <td>172786.0</td>\n",
       "      <td>-11.881118</td>\n",
       "      <td>10.071785</td>\n",
       "      <td>-9.834783</td>\n",
       "      <td>-2.066656</td>\n",
       "      <td>-5.364473</td>\n",
       "      <td>-2.606837</td>\n",
       "      <td>-4.918215</td>\n",
       "      <td>7.305334</td>\n",
       "      <td>1.914428</td>\n",
       "      <td>...</td>\n",
       "      <td>0.213454</td>\n",
       "      <td>0.111864</td>\n",
       "      <td>1.014480</td>\n",
       "      <td>-0.509348</td>\n",
       "      <td>1.436807</td>\n",
       "      <td>0.250034</td>\n",
       "      <td>0.943651</td>\n",
       "      <td>0.823731</td>\n",
       "      <td>0.77</td>\n",
       "      <td>0</td>\n",
       "    </tr>\n",
       "    <tr>\n",
       "      <th>284803</th>\n",
       "      <td>172787.0</td>\n",
       "      <td>-0.732789</td>\n",
       "      <td>-0.055080</td>\n",
       "      <td>2.035030</td>\n",
       "      <td>-0.738589</td>\n",
       "      <td>0.868229</td>\n",
       "      <td>1.058415</td>\n",
       "      <td>0.024330</td>\n",
       "      <td>0.294869</td>\n",
       "      <td>0.584800</td>\n",
       "      <td>...</td>\n",
       "      <td>0.214205</td>\n",
       "      <td>0.924384</td>\n",
       "      <td>0.012463</td>\n",
       "      <td>-1.016226</td>\n",
       "      <td>-0.606624</td>\n",
       "      <td>-0.395255</td>\n",
       "      <td>0.068472</td>\n",
       "      <td>-0.053527</td>\n",
       "      <td>24.79</td>\n",
       "      <td>0</td>\n",
       "    </tr>\n",
       "    <tr>\n",
       "      <th>284804</th>\n",
       "      <td>172788.0</td>\n",
       "      <td>1.919565</td>\n",
       "      <td>-0.301254</td>\n",
       "      <td>-3.249640</td>\n",
       "      <td>-0.557828</td>\n",
       "      <td>2.630515</td>\n",
       "      <td>3.031260</td>\n",
       "      <td>-0.296827</td>\n",
       "      <td>0.708417</td>\n",
       "      <td>0.432454</td>\n",
       "      <td>...</td>\n",
       "      <td>0.232045</td>\n",
       "      <td>0.578229</td>\n",
       "      <td>-0.037501</td>\n",
       "      <td>0.640134</td>\n",
       "      <td>0.265745</td>\n",
       "      <td>-0.087371</td>\n",
       "      <td>0.004455</td>\n",
       "      <td>-0.026561</td>\n",
       "      <td>67.88</td>\n",
       "      <td>0</td>\n",
       "    </tr>\n",
       "    <tr>\n",
       "      <th>284805</th>\n",
       "      <td>172788.0</td>\n",
       "      <td>-0.240440</td>\n",
       "      <td>0.530483</td>\n",
       "      <td>0.702510</td>\n",
       "      <td>0.689799</td>\n",
       "      <td>-0.377961</td>\n",
       "      <td>0.623708</td>\n",
       "      <td>-0.686180</td>\n",
       "      <td>0.679145</td>\n",
       "      <td>0.392087</td>\n",
       "      <td>...</td>\n",
       "      <td>0.265245</td>\n",
       "      <td>0.800049</td>\n",
       "      <td>-0.163298</td>\n",
       "      <td>0.123205</td>\n",
       "      <td>-0.569159</td>\n",
       "      <td>0.546668</td>\n",
       "      <td>0.108821</td>\n",
       "      <td>0.104533</td>\n",
       "      <td>10.00</td>\n",
       "      <td>0</td>\n",
       "    </tr>\n",
       "    <tr>\n",
       "      <th>284806</th>\n",
       "      <td>172792.0</td>\n",
       "      <td>-0.533413</td>\n",
       "      <td>-0.189733</td>\n",
       "      <td>0.703337</td>\n",
       "      <td>-0.506271</td>\n",
       "      <td>-0.012546</td>\n",
       "      <td>-0.649617</td>\n",
       "      <td>1.577006</td>\n",
       "      <td>-0.414650</td>\n",
       "      <td>0.486180</td>\n",
       "      <td>...</td>\n",
       "      <td>0.261057</td>\n",
       "      <td>0.643078</td>\n",
       "      <td>0.376777</td>\n",
       "      <td>0.008797</td>\n",
       "      <td>-0.473649</td>\n",
       "      <td>-0.818267</td>\n",
       "      <td>-0.002415</td>\n",
       "      <td>0.013649</td>\n",
       "      <td>217.00</td>\n",
       "      <td>0</td>\n",
       "    </tr>\n",
       "  </tbody>\n",
       "</table>\n",
       "<p>284807 rows × 31 columns</p>\n",
       "</div>"
      ],
      "text/plain": [
       "            Time         V1         V2        V3        V4        V5  \\\n",
       "0            0.0  -1.359807  -0.072781  2.536347  1.378155 -0.338321   \n",
       "1            0.0   1.191857   0.266151  0.166480  0.448154  0.060018   \n",
       "2            1.0  -1.358354  -1.340163  1.773209  0.379780 -0.503198   \n",
       "3            1.0  -0.966272  -0.185226  1.792993 -0.863291 -0.010309   \n",
       "4            2.0  -1.158233   0.877737  1.548718  0.403034 -0.407193   \n",
       "...          ...        ...        ...       ...       ...       ...   \n",
       "284802  172786.0 -11.881118  10.071785 -9.834783 -2.066656 -5.364473   \n",
       "284803  172787.0  -0.732789  -0.055080  2.035030 -0.738589  0.868229   \n",
       "284804  172788.0   1.919565  -0.301254 -3.249640 -0.557828  2.630515   \n",
       "284805  172788.0  -0.240440   0.530483  0.702510  0.689799 -0.377961   \n",
       "284806  172792.0  -0.533413  -0.189733  0.703337 -0.506271 -0.012546   \n",
       "\n",
       "              V6        V7        V8        V9  ...       V21       V22  \\\n",
       "0       0.462388  0.239599  0.098698  0.363787  ... -0.018307  0.277838   \n",
       "1      -0.082361 -0.078803  0.085102 -0.255425  ... -0.225775 -0.638672   \n",
       "2       1.800499  0.791461  0.247676 -1.514654  ...  0.247998  0.771679   \n",
       "3       1.247203  0.237609  0.377436 -1.387024  ... -0.108300  0.005274   \n",
       "4       0.095921  0.592941 -0.270533  0.817739  ... -0.009431  0.798278   \n",
       "...          ...       ...       ...       ...  ...       ...       ...   \n",
       "284802 -2.606837 -4.918215  7.305334  1.914428  ...  0.213454  0.111864   \n",
       "284803  1.058415  0.024330  0.294869  0.584800  ...  0.214205  0.924384   \n",
       "284804  3.031260 -0.296827  0.708417  0.432454  ...  0.232045  0.578229   \n",
       "284805  0.623708 -0.686180  0.679145  0.392087  ...  0.265245  0.800049   \n",
       "284806 -0.649617  1.577006 -0.414650  0.486180  ...  0.261057  0.643078   \n",
       "\n",
       "             V23       V24       V25       V26       V27       V28  Amount  \\\n",
       "0      -0.110474  0.066928  0.128539 -0.189115  0.133558 -0.021053  149.62   \n",
       "1       0.101288 -0.339846  0.167170  0.125895 -0.008983  0.014724    2.69   \n",
       "2       0.909412 -0.689281 -0.327642 -0.139097 -0.055353 -0.059752  378.66   \n",
       "3      -0.190321 -1.175575  0.647376 -0.221929  0.062723  0.061458  123.50   \n",
       "4      -0.137458  0.141267 -0.206010  0.502292  0.219422  0.215153   69.99   \n",
       "...          ...       ...       ...       ...       ...       ...     ...   \n",
       "284802  1.014480 -0.509348  1.436807  0.250034  0.943651  0.823731    0.77   \n",
       "284803  0.012463 -1.016226 -0.606624 -0.395255  0.068472 -0.053527   24.79   \n",
       "284804 -0.037501  0.640134  0.265745 -0.087371  0.004455 -0.026561   67.88   \n",
       "284805 -0.163298  0.123205 -0.569159  0.546668  0.108821  0.104533   10.00   \n",
       "284806  0.376777  0.008797 -0.473649 -0.818267 -0.002415  0.013649  217.00   \n",
       "\n",
       "        Class  \n",
       "0           0  \n",
       "1           0  \n",
       "2           0  \n",
       "3           0  \n",
       "4           0  \n",
       "...       ...  \n",
       "284802      0  \n",
       "284803      0  \n",
       "284804      0  \n",
       "284805      0  \n",
       "284806      0  \n",
       "\n",
       "[284807 rows x 31 columns]"
      ]
     },
     "execution_count": 5,
     "metadata": {},
     "output_type": "execute_result"
    }
   ],
   "source": [
    "origin = pd.read_csv('./creditcard.csv')\n",
    "origin"
   ]
  },
  {
   "cell_type": "code",
   "execution_count": 6,
   "id": "9a7aa33a",
   "metadata": {},
   "outputs": [],
   "source": [
    "train = pd.concat([train,origin],axis=0).drop_duplicates()"
   ]
  },
  {
   "cell_type": "code",
   "execution_count": 7,
   "id": "5fc800b0",
   "metadata": {},
   "outputs": [
    {
     "data": {
      "text/plain": [
       "0    501884\n",
       "1       942\n",
       "Name: Class, dtype: int64"
      ]
     },
     "execution_count": 7,
     "metadata": {},
     "output_type": "execute_result"
    }
   ],
   "source": [
    "train.Class.value_counts()"
   ]
  },
  {
   "cell_type": "code",
   "execution_count": 8,
   "id": "72e8f7f1",
   "metadata": {},
   "outputs": [],
   "source": [
    "train = train.reset_index(drop=True)"
   ]
  },
  {
   "cell_type": "code",
   "execution_count": 9,
   "id": "45443595",
   "metadata": {},
   "outputs": [],
   "source": [
    "# np.array(train.Amount).reshape(-1,1)"
   ]
  },
  {
   "cell_type": "code",
   "execution_count": 10,
   "id": "f36b61ee",
   "metadata": {},
   "outputs": [],
   "source": [
    "from sklearn.preprocessing import MinMaxScaler\n",
    "MM = MinMaxScaler()\n",
    "MM.fit(np.array(train.Amount).reshape(-1,1))\n",
    "tp = MM.transform(np.array(train.Amount).reshape(-1,1))\n",
    "train['Amount'] = tp"
   ]
  },
  {
   "cell_type": "code",
   "execution_count": 11,
   "id": "a4035677",
   "metadata": {},
   "outputs": [
    {
     "data": {
      "text/plain": [
       "<matplotlib.collections.PathCollection at 0x2b5311f3910>"
      ]
     },
     "execution_count": 11,
     "metadata": {},
     "output_type": "execute_result"
    },
    {
     "data": {
      "image/png": "[encoded data removed]",
      "text/plain": [
       "<Figure size 640x480 with 1 Axes>"
      ]
     },
     "metadata": {},
     "output_type": "display_data"
    }
   ],
   "source": [
    "plt.scatter(range(len(train)),train.V4)"
   ]
  },
  {
   "cell_type": "code",
   "execution_count": 12,
   "id": "e15d925b",
   "metadata": {},
   "outputs": [
    {
     "data": {
      "text/plain": [
       "Index(['Time', 'V1', 'V2', 'V3', 'V4', 'V5', 'V6', 'V7', 'V8', 'V9', 'V10',\n",
       "       'V11', 'V12', 'V13', 'V14', 'V15', 'V16', 'V17', 'V18', 'V19', 'V20',\n",
       "       'V21', 'V22', 'V23', 'V24', 'V25', 'V26', 'V27', 'V28', 'Amount',\n",
       "       'Class'],\n",
       "      dtype='object')"
      ]
     },
     "execution_count": 12,
     "metadata": {},
     "output_type": "execute_result"
    }
   ],
   "source": [
    "train.columns"
   ]
  },
  {
   "cell_type": "code",
   "execution_count": 13,
   "id": "526e7a7e",
   "metadata": {},
   "outputs": [],
   "source": [
    "# drop V15,V23,V20,V5,V28,time"
   ]
  },
  {
   "cell_type": "code",
   "execution_count": 14,
   "id": "cc606f46",
   "metadata": {},
   "outputs": [],
   "source": [
    "target = 'Class'\n",
    "features = ['V1', 'V2', 'V3', 'V4', 'V6', 'V7', 'V8', 'V9', 'V10',\n",
    "       'V11', 'V12', 'V13', 'V14', 'V16', 'V17', 'V18', 'V19',\n",
    "       'V21', 'V22', 'V24', 'V25', 'V26', 'V27', 'Amount']\n",
    "\n",
    "features = [ 'V1', 'V2', 'V3', 'V4', 'V7', 'V8', 'V9', 'V10',\n",
    "       'V11', 'V12', 'V13', 'V14', 'V16', 'V17', 'V18', 'V19',\n",
    "       'V21', 'V24', 'V25', 'V26']"
   ]
  },
  {
   "cell_type": "code",
   "execution_count": 15,
   "id": "65005237",
   "metadata": {
    "scrolled": true
   },
   "outputs": [
    {
     "name": "stderr",
     "output_type": "stream",
     "text": [
      "\r",
      "0it [00:00, ?it/s]"
     ]
    },
    {
     "name": "stdout",
     "output_type": "stream",
     "text": [
      "0:\tlearn: 0.6309537\ttest: 0.6310753\tbest: 0.6310753 (0)\ttotal: 187ms\tremaining: 46m 38s\n"
     ]
    },
    {
     "name": "stderr",
     "output_type": "stream",
     "text": [
      "\r",
      "1it [00:17, 17.98s/it]"
     ]
    },
    {
     "name": "stdout",
     "output_type": "stream",
     "text": [
      "Stopped by overfitting detector  (200 iterations wait)\n",
      "\n",
      "bestTest = 0.008227490678\n",
      "bestIteration = 950\n",
      "\n",
      "Shrink model to first 951 iterations.\n",
      "AUC on fold 0: 0.8902\n",
      "0:\tlearn: 0.6311669\ttest: 0.6312980\tbest: 0.6312980 (0)\ttotal: 40.7ms\tremaining: 10m 10s\n"
     ]
    },
    {
     "name": "stderr",
     "output_type": "stream",
     "text": [
      "\r",
      "2it [00:31, 15.31s/it]"
     ]
    },
    {
     "name": "stdout",
     "output_type": "stream",
     "text": [
      "Stopped by overfitting detector  (200 iterations wait)\n",
      "\n",
      "bestTest = 0.007899131362\n",
      "bestIteration = 654\n",
      "\n",
      "Shrink model to first 655 iterations.\n",
      "AUC on fold 1: 0.8754\n",
      "0:\tlearn: 0.6311743\ttest: 0.6312795\tbest: 0.6312795 (0)\ttotal: 38.6ms\tremaining: 9m 39s\n"
     ]
    },
    {
     "name": "stderr",
     "output_type": "stream",
     "text": [
      "\r",
      "3it [00:53, 18.19s/it]"
     ]
    },
    {
     "name": "stdout",
     "output_type": "stream",
     "text": [
      "Stopped by overfitting detector  (200 iterations wait)\n",
      "\n",
      "bestTest = 0.00735372337\n",
      "bestIteration = 1188\n",
      "\n",
      "Shrink model to first 1189 iterations.\n",
      "AUC on fold 2: 0.8895\n",
      "0:\tlearn: 0.6310759\ttest: 0.6311417\tbest: 0.6311417 (0)\ttotal: 35.8ms\tremaining: 8m 56s\n"
     ]
    },
    {
     "name": "stderr",
     "output_type": "stream",
     "text": [
      "\r",
      "4it [01:07, 16.60s/it]"
     ]
    },
    {
     "name": "stdout",
     "output_type": "stream",
     "text": [
      "Stopped by overfitting detector  (200 iterations wait)\n",
      "\n",
      "bestTest = 0.007755841414\n",
      "bestIteration = 677\n",
      "\n",
      "Shrink model to first 678 iterations.\n",
      "AUC on fold 3: 0.9080\n",
      "0:\tlearn: 0.6309409\ttest: 0.6310738\tbest: 0.6310738 (0)\ttotal: 62.4ms\tremaining: 15m 35s\n"
     ]
    },
    {
     "name": "stderr",
     "output_type": "stream",
     "text": [
      "\r",
      "5it [01:34, 20.46s/it]"
     ]
    },
    {
     "name": "stdout",
     "output_type": "stream",
     "text": [
      "Stopped by overfitting detector  (200 iterations wait)\n",
      "\n",
      "bestTest = 0.008340306961\n",
      "bestIteration = 1551\n",
      "\n",
      "Shrink model to first 1552 iterations.\n",
      "AUC on fold 4: 0.8813\n",
      "0:\tlearn: 0.6310814\ttest: 0.6311267\tbest: 0.6311267 (0)\ttotal: 53ms\tremaining: 13m 15s\n",
      "2000:\tlearn: 0.0065556\ttest: 0.0076472\tbest: 0.0076472 (2000)\ttotal: 30.3s\tremaining: 3m 16s\n"
     ]
    },
    {
     "name": "stderr",
     "output_type": "stream",
     "text": [
      "\r",
      "6it [02:09, 25.26s/it]"
     ]
    },
    {
     "name": "stdout",
     "output_type": "stream",
     "text": [
      "Stopped by overfitting detector  (200 iterations wait)\n",
      "\n",
      "bestTest = 0.007645301661\n",
      "bestIteration = 2043\n",
      "\n",
      "Shrink model to first 2044 iterations.\n",
      "AUC on fold 5: 0.9094\n",
      "0:\tlearn: 0.6311328\ttest: 0.6312100\tbest: 0.6312100 (0)\ttotal: 72.8ms\tremaining: 18m 11s\n"
     ]
    },
    {
     "name": "stderr",
     "output_type": "stream",
     "text": [
      "\r",
      "7it [02:32, 24.79s/it]"
     ]
    },
    {
     "name": "stdout",
     "output_type": "stream",
     "text": [
      "Stopped by overfitting detector  (200 iterations wait)\n",
      "\n",
      "bestTest = 0.007857650558\n",
      "bestIteration = 1335\n",
      "\n",
      "Shrink model to first 1336 iterations.\n",
      "AUC on fold 6: 0.8847\n",
      "0:\tlearn: 0.6310526\ttest: 0.6311666\tbest: 0.6311666 (0)\ttotal: 37.7ms\tremaining: 9m 25s\n"
     ]
    },
    {
     "name": "stderr",
     "output_type": "stream",
     "text": [
      "\r",
      "8it [02:48, 21.91s/it]"
     ]
    },
    {
     "name": "stdout",
     "output_type": "stream",
     "text": [
      "Stopped by overfitting detector  (200 iterations wait)\n",
      "\n",
      "bestTest = 0.009094998054\n",
      "bestIteration = 810\n",
      "\n",
      "Shrink model to first 811 iterations.\n",
      "AUC on fold 7: 0.8573\n",
      "0:\tlearn: 0.6311791\ttest: 0.6312888\tbest: 0.6312888 (0)\ttotal: 28.6ms\tremaining: 7m 8s\n"
     ]
    },
    {
     "name": "stderr",
     "output_type": "stream",
     "text": [
      "\r",
      "9it [03:20, 24.89s/it]"
     ]
    },
    {
     "name": "stdout",
     "output_type": "stream",
     "text": [
      "Stopped by overfitting detector  (200 iterations wait)\n",
      "\n",
      "bestTest = 0.007441084215\n",
      "bestIteration = 1767\n",
      "\n",
      "Shrink model to first 1768 iterations.\n",
      "AUC on fold 8: 0.8796\n",
      "0:\tlearn: 0.6310694\ttest: 0.6311537\tbest: 0.6311537 (0)\ttotal: 19.3ms\tremaining: 4m 48s\n",
      "2000:\tlearn: 0.0065779\ttest: 0.0077270\tbest: 0.0077251 (1939)\ttotal: 30.5s\tremaining: 3m 17s\n"
     ]
    },
    {
     "name": "stderr",
     "output_type": "stream",
     "text": [
      "10it [04:00, 24.09s/it]"
     ]
    },
    {
     "name": "stdout",
     "output_type": "stream",
     "text": [
      "Stopped by overfitting detector  (200 iterations wait)\n",
      "\n",
      "bestTest = 0.00769420212\n",
      "bestIteration = 2433\n",
      "\n",
      "Shrink model to first 2434 iterations.\n",
      "AUC on fold 9: 0.9027\n",
      "mean AUC across all folds: 0.8878\n"
     ]
    },
    {
     "name": "stderr",
     "output_type": "stream",
     "text": [
      "\n"
     ]
    }
   ],
   "source": [
    "kf = StratifiedKFold(n_splits = 10, random_state = 1, shuffle = True)\n",
    "models = []\n",
    "val_scores = []\n",
    "\n",
    "include_orig = True\n",
    "\n",
    "for i, (train_index, val_index) in tqdm(enumerate(kf.split(train, train[target]))):\n",
    "    \n",
    "    X_train, X_val = train[features].loc[train_index], train[features].loc[val_index]\n",
    "    y_train, y_val = train[target][train_index], train[target][val_index]\n",
    "    \n",
    "#     if include_orig:\n",
    "#         X_train = X_train.append(original[features], ignore_index = True)\n",
    "#         y_train = y_train.append(original[target], ignore_index = True)\n",
    "    \n",
    "    model = CatBoostClassifier(n_estimators=15000,\n",
    "                               max_depth=4,\n",
    "                               early_stopping_rounds = 200,\n",
    "                               learning_rate=0.019,\n",
    "                               one_hot_max_size = 3,\n",
    "                               bootstrap_type = \"MVS\",\n",
    "                               l2_leaf_reg = 2,\n",
    "                               random_state = 1)\n",
    "    \n",
    "    model.fit(X_train, y_train, eval_set = [(X_val, y_val)], verbose = 2000)\n",
    "    \n",
    "    models.append(model)\n",
    "    pred = model.predict_proba(X_val)[:,1]\n",
    "    score = roc_auc_score(y_val, pred)\n",
    "    val_scores.append(score)\n",
    "    \n",
    "    print(f'AUC on fold {i}: {score:.4f}')\n",
    "    \n",
    "print(f'mean AUC across all folds: {np.mean(val_scores):.4f}')"
   ]
  },
  {
   "cell_type": "code",
   "execution_count": 16,
   "id": "83afbe01",
   "metadata": {},
   "outputs": [
    {
     "data": {
      "text/plain": [
       "[0.8901889156859412,\n",
       " 0.8753687656403476,\n",
       " 0.8895381839624941,\n",
       " 0.9079922573523146,\n",
       " 0.8813461385191679,\n",
       " 0.9094451179355099,\n",
       " 0.8846948240572893,\n",
       " 0.8573143703080672,\n",
       " 0.8796440278171098,\n",
       " 0.9027007388389867]"
      ]
     },
     "execution_count": 16,
     "metadata": {},
     "output_type": "execute_result"
    }
   ],
   "source": [
    "val_scores"
   ]
  },
  {
   "cell_type": "code",
   "execution_count": 17,
   "id": "48eab9af",
   "metadata": {},
   "outputs": [
    {
     "data": {
      "text/plain": [
       "0.887823334011723"
      ]
     },
     "execution_count": 17,
     "metadata": {},
     "output_type": "execute_result"
    }
   ],
   "source": [
    "sum(val_scores)/10"
   ]
  },
  {
   "cell_type": "code",
   "execution_count": 18,
   "id": "e08d44ef",
   "metadata": {},
   "outputs": [],
   "source": [
    "# kf = StratifiedKFold(n_splits = 10, random_state = 1, shuffle = True)\n",
    "# val_scores = []\n",
    "\n",
    "# include_orig = True\n",
    "\n",
    "# for i, (train_index, val_index) in tqdm(enumerate(kf.split(train, train[target]))):\n",
    "    \n",
    "#     X_train, X_val = train[features].loc[train_index], train[features].loc[val_index]\n",
    "#     y_train, y_val = train[target][train_index], train[target][val_index]\n",
    "    \n",
    "# #     if include_orig:\n",
    "# #         X_train = X_train.append(original[features], ignore_index = True)\n",
    "# #         y_train = y_train.append(original[target], ignore_index = True)\n",
    "    \n",
    "#     model = XGBClassifier(n_estimators=2000,\n",
    "#                           max_depth=3,\n",
    "#                           early_stopping_rounds = 200,\n",
    "#                           reg_lambda = 2.5,\n",
    "#                           reg_alpha = 0.01015,\n",
    "#                           learning_rate=0.146,\n",
    "#                           eval_metric = \"auc\",\n",
    "#                           gamma = 0.14,\n",
    "#                           random_state = 1)\n",
    "    \n",
    "#     model.fit(X_train, y_train, eval_set = [(X_val, y_val)], verbose = 1000)\n",
    "    \n",
    "#     models.append(model)\n",
    "#     pred = model.predict_proba(X_val)[:,1]\n",
    "#     score = roc_auc_score(y_val, pred)\n",
    "#     val_scores.append(score)\n",
    "    \n",
    "#     print(f'AUC on fold {i}: {score:.4f}')\n",
    "    \n",
    "# print(f'mean AUC across all folds: {np.mean(val_scores):.4f}')"
   ]
  },
  {
   "cell_type": "code",
   "execution_count": 19,
   "id": "d762b428",
   "metadata": {},
   "outputs": [],
   "source": [
    "# val_scores"
   ]
  },
  {
   "cell_type": "code",
   "execution_count": 34,
   "id": "32211f58",
   "metadata": {},
   "outputs": [
    {
     "name": "stderr",
     "output_type": "stream",
     "text": [
      "\r",
      "0it [00:00, ?it/s]"
     ]
    },
    {
     "name": "stdout",
     "output_type": "stream",
     "text": [
      "[LightGBM] [Warning] feature_fraction is set=0.8247273276668773, colsample_bytree=1.0 will be ignored. Current value: feature_fraction=0.8247273276668773\n",
      "[LightGBM] [Warning] min_data_in_leaf is set=134, min_child_samples=70 will be ignored. Current value: min_data_in_leaf=134\n",
      "[LightGBM] [Warning] lambda_l1 is set=1.0050418664783436e-08, reg_alpha=0.0 will be ignored. Current value: lambda_l1=1.0050418664783436e-08\n",
      "[LightGBM] [Warning] bagging_fraction is set=0.5842711778104962, subsample=1.0 will be ignored. Current value: bagging_fraction=0.5842711778104962\n",
      "[LightGBM] [Warning] lambda_l2 is set=9.938606206413121, reg_lambda=0.0 will be ignored. Current value: lambda_l2=9.938606206413121\n",
      "[LightGBM] [Warning] bagging_freq is set=6, subsample_freq=0 will be ignored. Current value: bagging_freq=6\n",
      "Training until validation scores don't improve for 200 rounds\n",
      "[200]\tvalid_0's auc: 0.887323\n"
     ]
    },
    {
     "name": "stderr",
     "output_type": "stream",
     "text": [
      "\r",
      "1it [00:03,  3.02s/it]"
     ]
    },
    {
     "name": "stdout",
     "output_type": "stream",
     "text": [
      "Early stopping, best iteration is:\n",
      "[112]\tvalid_0's auc: 0.897633\n",
      "AUC on fold 0: 0.8976\n",
      "[LightGBM] [Warning] feature_fraction is set=0.8247273276668773, colsample_bytree=1.0 will be ignored. Current value: feature_fraction=0.8247273276668773\n",
      "[LightGBM] [Warning] min_data_in_leaf is set=134, min_child_samples=70 will be ignored. Current value: min_data_in_leaf=134\n",
      "[LightGBM] [Warning] lambda_l1 is set=1.0050418664783436e-08, reg_alpha=0.0 will be ignored. Current value: lambda_l1=1.0050418664783436e-08\n",
      "[LightGBM] [Warning] bagging_fraction is set=0.5842711778104962, subsample=1.0 will be ignored. Current value: bagging_fraction=0.5842711778104962\n",
      "[LightGBM] [Warning] lambda_l2 is set=9.938606206413121, reg_lambda=0.0 will be ignored. Current value: lambda_l2=9.938606206413121\n",
      "[LightGBM] [Warning] bagging_freq is set=6, subsample_freq=0 will be ignored. Current value: bagging_freq=6\n",
      "Training until validation scores don't improve for 200 rounds\n",
      "[200]\tvalid_0's auc: 0.902385\n"
     ]
    },
    {
     "name": "stderr",
     "output_type": "stream",
     "text": [
      "\r",
      "2it [00:05,  2.99s/it]"
     ]
    },
    {
     "name": "stdout",
     "output_type": "stream",
     "text": [
      "Early stopping, best iteration is:\n",
      "[99]\tvalid_0's auc: 0.910637\n",
      "AUC on fold 1: 0.9106\n",
      "[LightGBM] [Warning] feature_fraction is set=0.8247273276668773, colsample_bytree=1.0 will be ignored. Current value: feature_fraction=0.8247273276668773\n",
      "[LightGBM] [Warning] min_data_in_leaf is set=134, min_child_samples=70 will be ignored. Current value: min_data_in_leaf=134\n",
      "[LightGBM] [Warning] lambda_l1 is set=1.0050418664783436e-08, reg_alpha=0.0 will be ignored. Current value: lambda_l1=1.0050418664783436e-08\n",
      "[LightGBM] [Warning] bagging_fraction is set=0.5842711778104962, subsample=1.0 will be ignored. Current value: bagging_fraction=0.5842711778104962\n",
      "[LightGBM] [Warning] lambda_l2 is set=9.938606206413121, reg_lambda=0.0 will be ignored. Current value: lambda_l2=9.938606206413121\n",
      "[LightGBM] [Warning] bagging_freq is set=6, subsample_freq=0 will be ignored. Current value: bagging_freq=6\n",
      "Training until validation scores don't improve for 200 rounds\n",
      "[200]\tvalid_0's auc: 0.894695\n"
     ]
    },
    {
     "name": "stderr",
     "output_type": "stream",
     "text": [
      "\r",
      "3it [00:09,  3.11s/it]"
     ]
    },
    {
     "name": "stdout",
     "output_type": "stream",
     "text": [
      "Early stopping, best iteration is:\n",
      "[132]\tvalid_0's auc: 0.898622\n",
      "AUC on fold 2: 0.8986\n",
      "[LightGBM] [Warning] feature_fraction is set=0.8247273276668773, colsample_bytree=1.0 will be ignored. Current value: feature_fraction=0.8247273276668773\n",
      "[LightGBM] [Warning] min_data_in_leaf is set=134, min_child_samples=70 will be ignored. Current value: min_data_in_leaf=134\n",
      "[LightGBM] [Warning] lambda_l1 is set=1.0050418664783436e-08, reg_alpha=0.0 will be ignored. Current value: lambda_l1=1.0050418664783436e-08\n",
      "[LightGBM] [Warning] bagging_fraction is set=0.5842711778104962, subsample=1.0 will be ignored. Current value: bagging_fraction=0.5842711778104962\n",
      "[LightGBM] [Warning] lambda_l2 is set=9.938606206413121, reg_lambda=0.0 will be ignored. Current value: lambda_l2=9.938606206413121\n",
      "[LightGBM] [Warning] bagging_freq is set=6, subsample_freq=0 will be ignored. Current value: bagging_freq=6\n",
      "Training until validation scores don't improve for 200 rounds\n",
      "[200]\tvalid_0's auc: 0.908194\n"
     ]
    },
    {
     "name": "stderr",
     "output_type": "stream",
     "text": [
      "\r",
      "4it [00:13,  3.41s/it]"
     ]
    },
    {
     "name": "stdout",
     "output_type": "stream",
     "text": [
      "[400]\tvalid_0's auc: 0.897414\n",
      "Did not meet early stopping. Best iteration is:\n",
      "[244]\tvalid_0's auc: 0.910487\n",
      "AUC on fold 3: 0.9105\n",
      "[LightGBM] [Warning] feature_fraction is set=0.8247273276668773, colsample_bytree=1.0 will be ignored. Current value: feature_fraction=0.8247273276668773\n",
      "[LightGBM] [Warning] min_data_in_leaf is set=134, min_child_samples=70 will be ignored. Current value: min_data_in_leaf=134\n",
      "[LightGBM] [Warning] lambda_l1 is set=1.0050418664783436e-08, reg_alpha=0.0 will be ignored. Current value: lambda_l1=1.0050418664783436e-08\n",
      "[LightGBM] [Warning] bagging_fraction is set=0.5842711778104962, subsample=1.0 will be ignored. Current value: bagging_fraction=0.5842711778104962\n",
      "[LightGBM] [Warning] lambda_l2 is set=9.938606206413121, reg_lambda=0.0 will be ignored. Current value: lambda_l2=9.938606206413121\n",
      "[LightGBM] [Warning] bagging_freq is set=6, subsample_freq=0 will be ignored. Current value: bagging_freq=6\n",
      "Training until validation scores don't improve for 200 rounds\n",
      "[200]\tvalid_0's auc: 0.871559\n"
     ]
    },
    {
     "name": "stderr",
     "output_type": "stream",
     "text": [
      "\r",
      "5it [00:16,  3.26s/it]"
     ]
    },
    {
     "name": "stdout",
     "output_type": "stream",
     "text": [
      "Early stopping, best iteration is:\n",
      "[109]\tvalid_0's auc: 0.878536\n",
      "AUC on fold 4: 0.8785\n",
      "[LightGBM] [Warning] feature_fraction is set=0.8247273276668773, colsample_bytree=1.0 will be ignored. Current value: feature_fraction=0.8247273276668773\n",
      "[LightGBM] [Warning] min_data_in_leaf is set=134, min_child_samples=70 will be ignored. Current value: min_data_in_leaf=134\n",
      "[LightGBM] [Warning] lambda_l1 is set=1.0050418664783436e-08, reg_alpha=0.0 will be ignored. Current value: lambda_l1=1.0050418664783436e-08\n",
      "[LightGBM] [Warning] bagging_fraction is set=0.5842711778104962, subsample=1.0 will be ignored. Current value: bagging_fraction=0.5842711778104962\n",
      "[LightGBM] [Warning] lambda_l2 is set=9.938606206413121, reg_lambda=0.0 will be ignored. Current value: lambda_l2=9.938606206413121\n",
      "[LightGBM] [Warning] bagging_freq is set=6, subsample_freq=0 will be ignored. Current value: bagging_freq=6\n",
      "Training until validation scores don't improve for 200 rounds\n",
      "[200]\tvalid_0's auc: 0.91129\n"
     ]
    },
    {
     "name": "stderr",
     "output_type": "stream",
     "text": [
      "\r",
      "6it [00:19,  3.44s/it]"
     ]
    },
    {
     "name": "stdout",
     "output_type": "stream",
     "text": [
      "[400]\tvalid_0's auc: 0.907178\n",
      "Did not meet early stopping. Best iteration is:\n",
      "[293]\tvalid_0's auc: 0.91776\n",
      "AUC on fold 5: 0.9178\n",
      "[LightGBM] [Warning] feature_fraction is set=0.8247273276668773, colsample_bytree=1.0 will be ignored. Current value: feature_fraction=0.8247273276668773\n",
      "[LightGBM] [Warning] min_data_in_leaf is set=134, min_child_samples=70 will be ignored. Current value: min_data_in_leaf=134\n",
      "[LightGBM] [Warning] lambda_l1 is set=1.0050418664783436e-08, reg_alpha=0.0 will be ignored. Current value: lambda_l1=1.0050418664783436e-08\n",
      "[LightGBM] [Warning] bagging_fraction is set=0.5842711778104962, subsample=1.0 will be ignored. Current value: bagging_fraction=0.5842711778104962\n",
      "[LightGBM] [Warning] lambda_l2 is set=9.938606206413121, reg_lambda=0.0 will be ignored. Current value: lambda_l2=9.938606206413121\n",
      "[LightGBM] [Warning] bagging_freq is set=6, subsample_freq=0 will be ignored. Current value: bagging_freq=6\n",
      "Training until validation scores don't improve for 200 rounds\n",
      "[200]\tvalid_0's auc: 0.883697\n"
     ]
    },
    {
     "name": "stderr",
     "output_type": "stream",
     "text": [
      "\r",
      "7it [00:23,  3.59s/it]"
     ]
    },
    {
     "name": "stdout",
     "output_type": "stream",
     "text": [
      "[400]\tvalid_0's auc: 0.881022\n",
      "Did not meet early stopping. Best iteration is:\n",
      "[239]\tvalid_0's auc: 0.887074\n",
      "AUC on fold 6: 0.8871\n",
      "[LightGBM] [Warning] feature_fraction is set=0.8247273276668773, colsample_bytree=1.0 will be ignored. Current value: feature_fraction=0.8247273276668773\n",
      "[LightGBM] [Warning] min_data_in_leaf is set=134, min_child_samples=70 will be ignored. Current value: min_data_in_leaf=134\n",
      "[LightGBM] [Warning] lambda_l1 is set=1.0050418664783436e-08, reg_alpha=0.0 will be ignored. Current value: lambda_l1=1.0050418664783436e-08\n",
      "[LightGBM] [Warning] bagging_fraction is set=0.5842711778104962, subsample=1.0 will be ignored. Current value: bagging_fraction=0.5842711778104962\n",
      "[LightGBM] [Warning] lambda_l2 is set=9.938606206413121, reg_lambda=0.0 will be ignored. Current value: lambda_l2=9.938606206413121\n",
      "[LightGBM] [Warning] bagging_freq is set=6, subsample_freq=0 will be ignored. Current value: bagging_freq=6\n",
      "Training until validation scores don't improve for 200 rounds\n",
      "[200]\tvalid_0's auc: 0.872976\n"
     ]
    },
    {
     "name": "stderr",
     "output_type": "stream",
     "text": [
      "\r",
      "8it [00:26,  3.36s/it]"
     ]
    },
    {
     "name": "stdout",
     "output_type": "stream",
     "text": [
      "Early stopping, best iteration is:\n",
      "[94]\tvalid_0's auc: 0.882692\n",
      "AUC on fold 7: 0.8827\n",
      "[LightGBM] [Warning] feature_fraction is set=0.8247273276668773, colsample_bytree=1.0 will be ignored. Current value: feature_fraction=0.8247273276668773\n",
      "[LightGBM] [Warning] min_data_in_leaf is set=134, min_child_samples=70 will be ignored. Current value: min_data_in_leaf=134\n",
      "[LightGBM] [Warning] lambda_l1 is set=1.0050418664783436e-08, reg_alpha=0.0 will be ignored. Current value: lambda_l1=1.0050418664783436e-08\n",
      "[LightGBM] [Warning] bagging_fraction is set=0.5842711778104962, subsample=1.0 will be ignored. Current value: bagging_fraction=0.5842711778104962\n",
      "[LightGBM] [Warning] lambda_l2 is set=9.938606206413121, reg_lambda=0.0 will be ignored. Current value: lambda_l2=9.938606206413121\n",
      "[LightGBM] [Warning] bagging_freq is set=6, subsample_freq=0 will be ignored. Current value: bagging_freq=6\n",
      "Training until validation scores don't improve for 200 rounds\n",
      "[200]\tvalid_0's auc: 0.892923\n"
     ]
    },
    {
     "name": "stderr",
     "output_type": "stream",
     "text": [
      "\r",
      "9it [00:30,  3.54s/it]"
     ]
    },
    {
     "name": "stdout",
     "output_type": "stream",
     "text": [
      "[400]\tvalid_0's auc: 0.894893\n",
      "Did not meet early stopping. Best iteration is:\n",
      "[303]\tvalid_0's auc: 0.897437\n",
      "AUC on fold 8: 0.8974\n",
      "[LightGBM] [Warning] feature_fraction is set=0.8247273276668773, colsample_bytree=1.0 will be ignored. Current value: feature_fraction=0.8247273276668773\n",
      "[LightGBM] [Warning] min_data_in_leaf is set=134, min_child_samples=70 will be ignored. Current value: min_data_in_leaf=134\n",
      "[LightGBM] [Warning] lambda_l1 is set=1.0050418664783436e-08, reg_alpha=0.0 will be ignored. Current value: lambda_l1=1.0050418664783436e-08\n",
      "[LightGBM] [Warning] bagging_fraction is set=0.5842711778104962, subsample=1.0 will be ignored. Current value: bagging_fraction=0.5842711778104962\n",
      "[LightGBM] [Warning] lambda_l2 is set=9.938606206413121, reg_lambda=0.0 will be ignored. Current value: lambda_l2=9.938606206413121\n",
      "[LightGBM] [Warning] bagging_freq is set=6, subsample_freq=0 will be ignored. Current value: bagging_freq=6\n",
      "Training until validation scores don't improve for 200 rounds\n",
      "[200]\tvalid_0's auc: 0.910497\n"
     ]
    },
    {
     "name": "stderr",
     "output_type": "stream",
     "text": [
      "10it [00:33,  3.31s/it]"
     ]
    },
    {
     "name": "stdout",
     "output_type": "stream",
     "text": [
      "Early stopping, best iteration is:\n",
      "[51]\tvalid_0's auc: 0.914167\n",
      "AUC on fold 9: 0.9142\n",
      "mean AUC across all folds: 0.8995\n"
     ]
    },
    {
     "name": "stderr",
     "output_type": "stream",
     "text": [
      "\n"
     ]
    }
   ],
   "source": [
    "from lightgbm import log_evaluation, early_stopping\n",
    "kf = StratifiedKFold(n_splits = 10, random_state = 1, shuffle = True)\n",
    "val_scores = []\n",
    "\n",
    "include_orig = True\n",
    "params={'objective': 'binary',\n",
    "             'metric': 'auc',\n",
    "             'lambda_l1': 1.0050418664783436e-08, \n",
    "             'lambda_l2': 9.938606206413121,\n",
    "             'scale_pos_weight': 1, #param could be ignored\n",
    "             'num_leaves': 44,\n",
    "             'feature_fraction': 0.8247273276668773,\n",
    "             'bagging_fraction': 0.5842711778104962,\n",
    "             'bagging_freq': 6,\n",
    "             'min_data_in_leaf': 134,\n",
    "             'min_child_samples': 70,\n",
    "             'max_depth': 8,\n",
    "             'num_iterations': 400,\n",
    "             'learning_rate':0.05}\n",
    "\n",
    "for i, (train_index, val_index) in tqdm(enumerate(kf.split(train, train[target]))):\n",
    "    \n",
    "    X_train, X_val = train[features].loc[train_index], train[features].loc[val_index]\n",
    "    y_train, y_val = train[target][train_index], train[target][val_index]\n",
    "    \n",
    "#     if include_orig:\n",
    "#         X_train = X_train.append(original[features], ignore_index = True)\n",
    "#         y_train = y_train.append(original[target], ignore_index = True)\n",
    "    \n",
    "    model = LGBMClassifier(**params)\n",
    "\n",
    "    callbacks = [log_evaluation(period=200), early_stopping(stopping_rounds=200)]\n",
    "    model.fit(X_train, y_train, eval_set = [(X_val, y_val)], callbacks = callbacks)\n",
    "    \n",
    "    models.append(model)\n",
    "    pred = model.predict_proba(X_val)[:,1]\n",
    "    score = roc_auc_score(y_val, pred)\n",
    "    val_scores.append(score)\n",
    "    \n",
    "    print(f'AUC on fold {i}: {score:.4f}')\n",
    "    \n",
    "print(f'mean AUC across all folds: {np.mean(val_scores):.4f}')"
   ]
  },
  {
   "cell_type": "code",
   "execution_count": 35,
   "id": "d47b1ffa",
   "metadata": {},
   "outputs": [
    {
     "data": {
      "text/plain": [
       "[0.8976326931009295,\n",
       " 0.9106366233509674,\n",
       " 0.8986220384817729,\n",
       " 0.9104868702686822,\n",
       " 0.8785364922627763,\n",
       " 0.9177599593947809,\n",
       " 0.8870737516300412,\n",
       " 0.8826917174402968,\n",
       " 0.8974369137998572,\n",
       " 0.9141665635084423]"
      ]
     },
     "execution_count": 35,
     "metadata": {},
     "output_type": "execute_result"
    }
   ],
   "source": [
    "val_scores"
   ]
  },
  {
   "cell_type": "code",
   "execution_count": 36,
   "id": "02179046",
   "metadata": {},
   "outputs": [
    {
     "data": {
      "text/plain": [
       "0.8995043623238546"
      ]
     },
     "execution_count": 36,
     "metadata": {},
     "output_type": "execute_result"
    }
   ],
   "source": [
    "sum(val_scores)/10"
   ]
  },
  {
   "cell_type": "code",
   "execution_count": 23,
   "id": "3249b424",
   "metadata": {},
   "outputs": [
    {
     "data": {
      "image/png": "[encoded data removed]",
      "text/plain": [
       "<Figure size 1000x1200 with 1 Axes>"
      ]
     },
     "metadata": {},
     "output_type": "display_data"
    }
   ],
   "source": [
    "plt.figure(figsize = (10, 12))\n",
    "cat_imp = np.zeros(len(features))\n",
    "for model in models[:10]:\n",
    "    cat_imp += model.feature_importances_\n",
    "    \n",
    "plt.barh([features[i] for i in np.argsort(cat_imp)], sorted(cat_imp), \n",
    "         color = \"orange\", edgecolor = \"#000000\")\n",
    "\n",
    "plt.title(\"CatBoost\")\n",
    "plt.show()"
   ]
  },
  {
   "cell_type": "code",
   "execution_count": 24,
   "id": "8b4ef169",
   "metadata": {},
   "outputs": [],
   "source": [
    "# plt.figure(figsize = (10, 12))\n",
    "# xgb_imp = np.zeros(len(features))\n",
    "# for model in models[10:20]:\n",
    "#     xgb_imp += model.feature_importances_\n",
    "    \n",
    "# plt.barh([features[i] for i in np.argsort(xgb_imp)], sorted(xgb_imp), \n",
    "#          color = \"purple\", edgecolor = \"#000000\")\n",
    "\n",
    "# plt.title(\"XGBoost\")\n",
    "# plt.show()"
   ]
  },
  {
   "cell_type": "code",
   "execution_count": 25,
   "id": "b6ada3fa",
   "metadata": {},
   "outputs": [],
   "source": [
    "# plt.figure(figsize = (10, 12))\n",
    "# lgbm_imp = np.zeros(len(features))\n",
    "# for model in models[10:]:\n",
    "#     lgbm_imp += model.feature_importances_\n",
    "    \n",
    "# plt.barh([features[i] for i in np.argsort(lgbm_imp)], sorted(lgbm_imp), \n",
    "#          color = \"blue\", edgecolor = \"#000000\")\n",
    "\n",
    "# plt.title(\"LGBM\")\n",
    "# plt.show()"
   ]
  },
  {
   "cell_type": "code",
   "execution_count": 26,
   "id": "a5e907ab",
   "metadata": {},
   "outputs": [],
   "source": [
    "cat_preds = []\n",
    "xgb_preds = []\n",
    "lgbm_preds = []\n",
    "\n",
    "for model in models[:10]:\n",
    "    preds = model.predict_proba(test[features])[:,1]\n",
    "    cat_preds.append(preds)\n",
    "    \n",
    "# for model in models[10:20]:\n",
    "#     preds = model.predict_proba(test[features])[:,1]\n",
    "#     xgb_preds.append(preds)\n",
    "    \n",
    "# for model in models[10:]:\n",
    "#     preds = model.predict_proba(test[features])[:,1]\n",
    "#     lgbm_preds.append(preds)"
   ]
  },
  {
   "cell_type": "code",
   "execution_count": 27,
   "id": "cacc94a4",
   "metadata": {},
   "outputs": [
    {
     "data": {
      "text/plain": [
       "array([0.00088207, 0.00087874, 0.00044868, ..., 0.0007158 , 0.00026907,\n",
       "       0.00025101])"
      ]
     },
     "execution_count": 27,
     "metadata": {},
     "output_type": "execute_result"
    }
   ],
   "source": [
    "cat_preds = np.stack(cat_preds).mean(0)\n",
    "cat_preds # cv 10개 모델의 평균"
   ]
  },
  {
   "cell_type": "code",
   "execution_count": 28,
   "id": "27b3447f",
   "metadata": {},
   "outputs": [],
   "source": [
    "# cat_preds = np.stack(cat_preds).mean(0)\n",
    "# xgb_preds = np.stack(xgb_preds).mean(0)\n",
    "# lgbm_preds = np.stack(lgbm_preds).mean(0)"
   ]
  },
  {
   "cell_type": "code",
   "execution_count": 29,
   "id": "fbd2db0b",
   "metadata": {},
   "outputs": [],
   "source": [
    "cat_df = pd.DataFrame(data = {'id': test.id, 'Class': cat_preds})\n",
    "# xgb_df = pd.DataFrame(data = {'id': test.id, 'Class': xgb_preds})\n",
    "# lgbm_df = pd.DataFrame(data = {'id': test.id, 'Class': lgbm_preds})\n",
    "\n",
    "# print(\"Cat Correlation with XGB:\")\n",
    "# display(cat_df.Class.corr(xgb_df.Class))\n",
    "# print(\"Cat Correlation with LGBM:\")\n",
    "# display(cat_df.Class.corr(lgbm_df.Class))\n",
    "# print(\"XGB Correlation with LGBM:\")\n",
    "# display(xgb_df.Class.corr(lgbm_df.Class))"
   ]
  },
  {
   "cell_type": "code",
   "execution_count": 30,
   "id": "0268e31f",
   "metadata": {},
   "outputs": [],
   "source": [
    "# blended_preds = cat_preds * 0.5 lgbm_preds * 0.3\n",
    "# blended_preds"
   ]
  },
  {
   "cell_type": "code",
   "execution_count": 31,
   "id": "b76845d5",
   "metadata": {},
   "outputs": [],
   "source": [
    "# submission = pd.DataFrame(data = {'id': test.id, 'Class': blended_preds})\n",
    "submission = cat_df"
   ]
  },
  {
   "cell_type": "code",
   "execution_count": 32,
   "id": "8012eda4",
   "metadata": {},
   "outputs": [
    {
     "data": {
      "text/plain": [
       "<AxesSubplot: >"
      ]
     },
     "execution_count": 32,
     "metadata": {},
     "output_type": "execute_result"
    },
    {
     "data": {
      "image/png": "[encoded data removed]",
      "text/plain": [
       "<Figure size 640x480 with 1 Axes>"
      ]
     },
     "metadata": {},
     "output_type": "display_data"
    }
   ],
   "source": [
    "submission.Class.plot()"
   ]
  },
  {
   "cell_type": "code",
   "execution_count": 33,
   "id": "0789c441",
   "metadata": {},
   "outputs": [],
   "source": [
    "submission.to_csv('submission.csv', index=False)"
   ]
  },
  {
   "cell_type": "code",
   "execution_count": null,
   "id": "b476ba06",
   "metadata": {},
   "outputs": [],
   "source": []
  }
 ],
 "metadata": {
  "kernelspec": {
   "display_name": "Python 3 (ipykernel)",
   "language": "python",
   "name": "python3"
  },
  "language_info": {
   "codemirror_mode": {
    "name": "ipython",
    "version": 3
   },
   "file_extension": ".py",
   "mimetype": "text/x-python",
   "name": "python",
   "nbconvert_exporter": "python",
   "pygments_lexer": "ipython3",
   "version": "3.8.15"
  }
 },
 "nbformat": 4,
 "nbformat_minor": 5
}
