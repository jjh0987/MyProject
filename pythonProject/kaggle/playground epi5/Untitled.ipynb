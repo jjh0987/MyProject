{
 "cells": [
  {
   "cell_type": "code",
   "execution_count": 1,
   "id": "b60f020d",
   "metadata": {},
   "outputs": [],
   "source": [
    "import pandas as pd\n",
    "import matplotlib.pyplot as plt\n",
    "from sklearn.metrics import accuracy_score\n",
    "from sklearn.model_selection import KFold, StratifiedKFold\n",
    "from sklearn.model_selection import GridSearchCV"
   ]
  },
  {
   "cell_type": "code",
   "execution_count": 2,
   "id": "8719ac26",
   "metadata": {},
   "outputs": [],
   "source": [
    "train = pd.read_csv('./train.csv')\n",
    "test = pd.read_csv('./test.csv')\n",
    "origin = pd.read_csv('./WineQT.csv')"
   ]
  },
  {
   "cell_type": "code",
   "execution_count": 3,
   "id": "4c188c7e",
   "metadata": {},
   "outputs": [],
   "source": [
    "train = pd.concat([train,origin],axis=0).drop('Id',axis=1).drop_duplicates().reset_index(drop=True)\n",
    "train = train.drop('pH',axis=1)\n",
    "train = train.drop('free sulfur dioxide',axis=1)\n",
    "train = train.drop('residual sugar',axis=1)\n",
    "# train = train.drop('chlorides',axis=1)\n",
    "train = train.drop('fixed acidity',axis=1)"
   ]
  },
  {
   "cell_type": "code",
   "execution_count": 4,
   "id": "9d8ee3b7",
   "metadata": {},
   "outputs": [],
   "source": [
    "test = test.drop('pH',axis=1)\n",
    "test = test.drop('free sulfur dioxide',axis=1)\n",
    "test = test.drop('residual sugar',axis=1)\n",
    "# test = test.drop('chlorides',axis=1)\n",
    "test = test.drop('fixed acidity',axis=1)"
   ]
  },
  {
   "cell_type": "code",
   "execution_count": 5,
   "id": "47d00a18",
   "metadata": {},
   "outputs": [
    {
     "data": {
      "text/html": [
       "<div>\n",
       "<style scoped>\n",
       "    .dataframe tbody tr th:only-of-type {\n",
       "        vertical-align: middle;\n",
       "    }\n",
       "\n",
       "    .dataframe tbody tr th {\n",
       "        vertical-align: top;\n",
       "    }\n",
       "\n",
       "    .dataframe thead th {\n",
       "        text-align: right;\n",
       "    }\n",
       "</style>\n",
       "<table border=\"1\" class=\"dataframe\">\n",
       "  <thead>\n",
       "    <tr style=\"text-align: right;\">\n",
       "      <th></th>\n",
       "      <th>volatile acidity</th>\n",
       "      <th>citric acid</th>\n",
       "      <th>chlorides</th>\n",
       "      <th>total sulfur dioxide</th>\n",
       "      <th>density</th>\n",
       "      <th>sulphates</th>\n",
       "      <th>alcohol</th>\n",
       "      <th>quality</th>\n",
       "    </tr>\n",
       "  </thead>\n",
       "  <tbody>\n",
       "    <tr>\n",
       "      <th>volatile acidity</th>\n",
       "      <td>1.000000</td>\n",
       "      <td>-0.570177</td>\n",
       "      <td>0.042140</td>\n",
       "      <td>0.078616</td>\n",
       "      <td>-0.038568</td>\n",
       "      <td>-0.317440</td>\n",
       "      <td>-0.212796</td>\n",
       "      <td>-0.282514</td>\n",
       "    </tr>\n",
       "    <tr>\n",
       "      <th>citric acid</th>\n",
       "      <td>-0.570177</td>\n",
       "      <td>1.000000</td>\n",
       "      <td>0.185083</td>\n",
       "      <td>-0.040451</td>\n",
       "      <td>0.373818</td>\n",
       "      <td>0.293162</td>\n",
       "      <td>0.089312</td>\n",
       "      <td>0.173892</td>\n",
       "    </tr>\n",
       "    <tr>\n",
       "      <th>chlorides</th>\n",
       "      <td>0.042140</td>\n",
       "      <td>0.185083</td>\n",
       "      <td>1.000000</td>\n",
       "      <td>0.022236</td>\n",
       "      <td>0.216366</td>\n",
       "      <td>0.232797</td>\n",
       "      <td>-0.182042</td>\n",
       "      <td>-0.080917</td>\n",
       "    </tr>\n",
       "    <tr>\n",
       "      <th>total sulfur dioxide</th>\n",
       "      <td>0.078616</td>\n",
       "      <td>-0.040451</td>\n",
       "      <td>0.022236</td>\n",
       "      <td>1.000000</td>\n",
       "      <td>0.092531</td>\n",
       "      <td>-0.093736</td>\n",
       "      <td>-0.277965</td>\n",
       "      <td>-0.209408</td>\n",
       "    </tr>\n",
       "    <tr>\n",
       "      <th>density</th>\n",
       "      <td>-0.038568</td>\n",
       "      <td>0.373818</td>\n",
       "      <td>0.216366</td>\n",
       "      <td>0.092531</td>\n",
       "      <td>1.000000</td>\n",
       "      <td>0.051480</td>\n",
       "      <td>-0.408874</td>\n",
       "      <td>-0.162885</td>\n",
       "    </tr>\n",
       "    <tr>\n",
       "      <th>sulphates</th>\n",
       "      <td>-0.317440</td>\n",
       "      <td>0.293162</td>\n",
       "      <td>0.232797</td>\n",
       "      <td>-0.093736</td>\n",
       "      <td>0.051480</td>\n",
       "      <td>1.000000</td>\n",
       "      <td>0.188536</td>\n",
       "      <td>0.321986</td>\n",
       "    </tr>\n",
       "    <tr>\n",
       "      <th>alcohol</th>\n",
       "      <td>-0.212796</td>\n",
       "      <td>0.089312</td>\n",
       "      <td>-0.182042</td>\n",
       "      <td>-0.277965</td>\n",
       "      <td>-0.408874</td>\n",
       "      <td>0.188536</td>\n",
       "      <td>1.000000</td>\n",
       "      <td>0.481907</td>\n",
       "    </tr>\n",
       "    <tr>\n",
       "      <th>quality</th>\n",
       "      <td>-0.282514</td>\n",
       "      <td>0.173892</td>\n",
       "      <td>-0.080917</td>\n",
       "      <td>-0.209408</td>\n",
       "      <td>-0.162885</td>\n",
       "      <td>0.321986</td>\n",
       "      <td>0.481907</td>\n",
       "      <td>1.000000</td>\n",
       "    </tr>\n",
       "  </tbody>\n",
       "</table>\n",
       "</div>"
      ],
      "text/plain": [
       "                      volatile acidity  citric acid  chlorides  \\\n",
       "volatile acidity              1.000000    -0.570177   0.042140   \n",
       "citric acid                  -0.570177     1.000000   0.185083   \n",
       "chlorides                     0.042140     0.185083   1.000000   \n",
       "total sulfur dioxide          0.078616    -0.040451   0.022236   \n",
       "density                      -0.038568     0.373818   0.216366   \n",
       "sulphates                    -0.317440     0.293162   0.232797   \n",
       "alcohol                      -0.212796     0.089312  -0.182042   \n",
       "quality                      -0.282514     0.173892  -0.080917   \n",
       "\n",
       "                      total sulfur dioxide   density  sulphates   alcohol  \\\n",
       "volatile acidity                  0.078616 -0.038568  -0.317440 -0.212796   \n",
       "citric acid                      -0.040451  0.373818   0.293162  0.089312   \n",
       "chlorides                         0.022236  0.216366   0.232797 -0.182042   \n",
       "total sulfur dioxide              1.000000  0.092531  -0.093736 -0.277965   \n",
       "density                           0.092531  1.000000   0.051480 -0.408874   \n",
       "sulphates                        -0.093736  0.051480   1.000000  0.188536   \n",
       "alcohol                          -0.277965 -0.408874   0.188536  1.000000   \n",
       "quality                          -0.209408 -0.162885   0.321986  0.481907   \n",
       "\n",
       "                       quality  \n",
       "volatile acidity     -0.282514  \n",
       "citric acid           0.173892  \n",
       "chlorides            -0.080917  \n",
       "total sulfur dioxide -0.209408  \n",
       "density              -0.162885  \n",
       "sulphates             0.321986  \n",
       "alcohol               0.481907  \n",
       "quality               1.000000  "
      ]
     },
     "execution_count": 5,
     "metadata": {},
     "output_type": "execute_result"
    }
   ],
   "source": [
    "train.corr()"
   ]
  },
  {
   "cell_type": "code",
   "execution_count": 6,
   "id": "37bbc662",
   "metadata": {},
   "outputs": [
    {
     "data": {
      "text/plain": [
       "5    1272\n",
       "6    1187\n",
       "7     455\n",
       "4      88\n",
       "8      54\n",
       "3      18\n",
       "Name: quality, dtype: int64"
      ]
     },
     "execution_count": 6,
     "metadata": {},
     "output_type": "execute_result"
    }
   ],
   "source": [
    "train.quality.value_counts()"
   ]
  },
  {
   "cell_type": "code",
   "execution_count": 7,
   "id": "f30e302c",
   "metadata": {},
   "outputs": [],
   "source": [
    "# train = train[(train.quality > 4) & (train.quality < 8)]"
   ]
  },
  {
   "cell_type": "code",
   "execution_count": 8,
   "id": "a663a703",
   "metadata": {},
   "outputs": [],
   "source": [
    "train = train.reset_index(drop=True)"
   ]
  },
  {
   "cell_type": "code",
   "execution_count": 9,
   "id": "c2b563cd",
   "metadata": {},
   "outputs": [],
   "source": [
    "train['quality'] = [i-3 for i in train['quality']]"
   ]
  },
  {
   "cell_type": "code",
   "execution_count": 10,
   "id": "20eedc8a",
   "metadata": {},
   "outputs": [
    {
     "data": {
      "text/plain": [
       "<AxesSubplot: ylabel='Frequency'>"
      ]
     },
     "execution_count": 10,
     "metadata": {},
     "output_type": "execute_result"
    },
    {
     "data": {
      "image/png": "[encoded data removed]",
      "text/plain": [
       "<Figure size 640x480 with 1 Axes>"
      ]
     },
     "metadata": {},
     "output_type": "display_data"
    }
   ],
   "source": [
    "train.quality.plot.hist()"
   ]
  },
  {
   "cell_type": "code",
   "execution_count": 11,
   "id": "34769911",
   "metadata": {},
   "outputs": [],
   "source": [
    "from lightgbm import LGBMClassifier\n",
    "lgb = LGBMClassifier()"
   ]
  },
  {
   "cell_type": "code",
   "execution_count": 12,
   "id": "3881d3f8",
   "metadata": {},
   "outputs": [
    {
     "name": "stderr",
     "output_type": "stream",
     "text": [
      "C:\\Users\\user\\anaconda3\\envs\\ml\\lib\\site-packages\\xgboost\\compat.py:36: FutureWarning: pandas.Int64Index is deprecated and will be removed from pandas in a future version. Use pandas.Index with the appropriate dtype instead.\n",
      "  from pandas import MultiIndex, Int64Index\n"
     ]
    }
   ],
   "source": [
    "import numpy as np\n",
    "import pandas as pd\n",
    "from tqdm import tqdm\n",
    "import matplotlib.pyplot as plt\n",
    "import seaborn as sns\n",
    "import plotly.express as px\n",
    "\n",
    "from sklearn.pipeline import Pipeline\n",
    "from sklearn.impute import SimpleImputer\n",
    "from sklearn.compose import ColumnTransformer\n",
    "from sklearn.decomposition import PCA\n",
    "from sklearn.cluster import KMeans\n",
    "from sklearn.preprocessing import StandardScaler, MinMaxScaler, Normalizer, RobustScaler, LabelEncoder, OneHotEncoder\n",
    "from sklearn.metrics import mean_squared_error, roc_auc_score, accuracy_score, f1_score, cohen_kappa_score\n",
    "from sklearn.model_selection import KFold, StratifiedKFold\n",
    "from sklearn.model_selection import GridSearchCV\n",
    "from category_encoders import LeaveOneOutEncoder\n",
    "\n",
    "from catboost import CatBoostClassifier, CatBoostRegressor\n",
    "from xgboost import XGBClassifier, XGBRFRegressor\n",
    "from lightgbm.sklearn import LGBMClassifier, LGBMRegressor\n",
    "from sklearn.linear_model import LogisticRegression\n",
    "from sklearn.ensemble import RandomForestClassifier, RandomForestRegressor\n",
    "from sklearn.neighbors import KNeighborsClassifier\n",
    "from sklearn.svm import SVC\n",
    "from sklearn.ensemble import ExtraTreesClassifier\n",
    "\n",
    "import optuna\n",
    "from optuna.samplers import TPESampler\n",
    "\n",
    "import warnings\n",
    "\n",
    "warnings.filterwarnings('ignore')"
   ]
  },
  {
   "cell_type": "code",
   "execution_count": 13,
   "id": "cae7e232",
   "metadata": {},
   "outputs": [],
   "source": [
    "target = 'quality'\n",
    "features = [c for c in train.columns if c not in [target]]"
   ]
  },
  {
   "cell_type": "code",
   "execution_count": 14,
   "id": "c1d8c523",
   "metadata": {
    "scrolled": true
   },
   "outputs": [
    {
     "name": "stderr",
     "output_type": "stream",
     "text": [
      "\r",
      "0it [00:00, ?it/s]"
     ]
    },
    {
     "name": "stdout",
     "output_type": "stream",
     "text": [
      "0:\tlearn: 1.7794636\ttest: 1.7795273\tbest: 1.7795273 (0)\ttotal: 146ms\tremaining: 36m 28s\n"
     ]
    },
    {
     "name": "stderr",
     "output_type": "stream",
     "text": [
      "\r",
      "1it [00:03,  3.79s/it]"
     ]
    },
    {
     "name": "stdout",
     "output_type": "stream",
     "text": [
      "Stopped by overfitting detector  (200 iterations wait)\n",
      "\n",
      "bestTest = 0.9898773015\n",
      "bestIteration = 1136\n",
      "\n",
      "Shrink model to first 1137 iterations.\n",
      "ACC on fold 0: 0.5100\n",
      "0:\tlearn: 1.7790513\ttest: 1.7796512\tbest: 1.7796512 (0)\ttotal: 2.79ms\tremaining: 41.9s\n"
     ]
    },
    {
     "name": "stderr",
     "output_type": "stream",
     "text": [
      "\r",
      "2it [00:06,  2.94s/it]"
     ]
    },
    {
     "name": "stdout",
     "output_type": "stream",
     "text": [
      "Stopped by overfitting detector  (200 iterations wait)\n",
      "\n",
      "bestTest = 1.058175523\n",
      "bestIteration = 633\n",
      "\n",
      "Shrink model to first 634 iterations.\n",
      "ACC on fold 1: 0.4222\n",
      "0:\tlearn: 1.7795966\ttest: 1.7797694\tbest: 1.7797694 (0)\ttotal: 11.9ms\tremaining: 2m 58s\n"
     ]
    },
    {
     "name": "stderr",
     "output_type": "stream",
     "text": [
      "\r",
      "3it [00:11,  3.88s/it]"
     ]
    },
    {
     "name": "stdout",
     "output_type": "stream",
     "text": [
      "Stopped by overfitting detector  (200 iterations wait)\n",
      "\n",
      "bestTest = 0.9619797681\n",
      "bestIteration = 1572\n",
      "\n",
      "Shrink model to first 1573 iterations.\n",
      "ACC on fold 2: 0.5366\n",
      "0:\tlearn: 1.7795392\ttest: 1.7798360\tbest: 1.7798360 (0)\ttotal: 2.99ms\tremaining: 44.9s\n"
     ]
    },
    {
     "name": "stderr",
     "output_type": "stream",
     "text": [
      "\r",
      "4it [00:14,  3.55s/it]"
     ]
    },
    {
     "name": "stdout",
     "output_type": "stream",
     "text": [
      "Stopped by overfitting detector  (200 iterations wait)\n",
      "\n",
      "bestTest = 0.9900417952\n",
      "bestIteration = 870\n",
      "\n",
      "Shrink model to first 871 iterations.\n",
      "ACC on fold 3: 0.4938\n",
      "0:\tlearn: 1.7790959\ttest: 1.7796847\tbest: 1.7796847 (0)\ttotal: 4ms\tremaining: 1m\n"
     ]
    },
    {
     "name": "stderr",
     "output_type": "stream",
     "text": [
      "\r",
      "5it [00:16,  3.28s/it]"
     ]
    },
    {
     "name": "stdout",
     "output_type": "stream",
     "text": [
      "Stopped by overfitting detector  (200 iterations wait)\n",
      "\n",
      "bestTest = 0.9855599699\n",
      "bestIteration = 735\n",
      "\n",
      "Shrink model to first 736 iterations.\n",
      "ACC on fold 4: 0.4985\n",
      "0:\tlearn: 1.7791926\ttest: 1.7791734\tbest: 1.7791734 (0)\ttotal: 18.2ms\tremaining: 4m 33s\n"
     ]
    },
    {
     "name": "stderr",
     "output_type": "stream",
     "text": [
      "\r",
      "6it [00:19,  3.03s/it]"
     ]
    },
    {
     "name": "stdout",
     "output_type": "stream",
     "text": [
      "Stopped by overfitting detector  (200 iterations wait)\n",
      "\n",
      "bestTest = 0.9987020044\n",
      "bestIteration = 703\n",
      "\n",
      "Shrink model to first 704 iterations.\n",
      "ACC on fold 5: 0.5403\n",
      "0:\tlearn: 1.7794913\ttest: 1.7796165\tbest: 1.7796165 (0)\ttotal: 3.06ms\tremaining: 45.9s\n"
     ]
    },
    {
     "name": "stderr",
     "output_type": "stream",
     "text": [
      "\r",
      "7it [00:23,  3.19s/it]"
     ]
    },
    {
     "name": "stdout",
     "output_type": "stream",
     "text": [
      "Stopped by overfitting detector  (200 iterations wait)\n",
      "\n",
      "bestTest = 0.9799844254\n",
      "bestIteration = 1062\n",
      "\n",
      "Shrink model to first 1063 iterations.\n",
      "ACC on fold 6: 0.5349\n",
      "0:\tlearn: 1.7792332\ttest: 1.7791267\tbest: 1.7791267 (0)\ttotal: 2.9ms\tremaining: 43.4s\n",
      "2000:\tlearn: 0.8085904\ttest: 0.9416494\tbest: 0.9416382 (1993)\ttotal: 5.24s\tremaining: 34.1s\n"
     ]
    },
    {
     "name": "stderr",
     "output_type": "stream",
     "text": [
      "\r",
      "8it [00:29,  4.16s/it]"
     ]
    },
    {
     "name": "stdout",
     "output_type": "stream",
     "text": [
      "Stopped by overfitting detector  (200 iterations wait)\n",
      "\n",
      "bestTest = 0.9416021299\n",
      "bestIteration = 2011\n",
      "\n",
      "Shrink model to first 2012 iterations.\n",
      "ACC on fold 7: 0.5295\n",
      "0:\tlearn: 1.7791130\ttest: 1.7795697\tbest: 1.7795697 (0)\ttotal: 2.91ms\tremaining: 43.7s\n"
     ]
    },
    {
     "name": "stderr",
     "output_type": "stream",
     "text": [
      "\r",
      "9it [00:32,  4.01s/it]"
     ]
    },
    {
     "name": "stdout",
     "output_type": "stream",
     "text": [
      "Stopped by overfitting detector  (200 iterations wait)\n",
      "\n",
      "bestTest = 1.005293646\n",
      "bestIteration = 1085\n",
      "\n",
      "Shrink model to first 1086 iterations.\n",
      "ACC on fold 8: 0.4995\n",
      "0:\tlearn: 1.7794215\ttest: 1.7797794\tbest: 1.7797794 (0)\ttotal: 3.19ms\tremaining: 47.8s\n"
     ]
    },
    {
     "name": "stderr",
     "output_type": "stream",
     "text": [
      "10it [00:36,  3.66s/it]"
     ]
    },
    {
     "name": "stdout",
     "output_type": "stream",
     "text": [
      "Stopped by overfitting detector  (200 iterations wait)\n",
      "\n",
      "bestTest = 0.9656782784\n",
      "bestIteration = 1128\n",
      "\n",
      "Shrink model to first 1129 iterations.\n",
      "ACC on fold 9: 0.5732\n",
      "mean AUC across all folds: 0.5139\n"
     ]
    },
    {
     "name": "stderr",
     "output_type": "stream",
     "text": [
      "\n"
     ]
    }
   ],
   "source": [
    "kf = StratifiedKFold(n_splits = 10, random_state = 41, shuffle = True)\n",
    "models = []\n",
    "val_scores = []\n",
    "preds = []\n",
    "\n",
    "params = {\n",
    "'n_estimators':15000,\n",
    "'max_depth':5,\n",
    "'early_stopping_rounds':200,\n",
    "'learning_rate':0.008,\n",
    "'one_hot_max_size':3,\n",
    "'bootstrap_type':\"MVS\",\n",
    "'l2_leaf_reg':2,\n",
    "'random_state':41\n",
    "         }\n",
    "\n",
    "for i, (train_index, val_index) in tqdm(enumerate(kf.split(train, train[target]))):\n",
    "    \n",
    "    X_train, X_val = train[features].loc[train_index], train[features].loc[val_index]\n",
    "    y_train, y_val = train[target][train_index], train[target][val_index]\n",
    "    \n",
    "#     if include_orig:\n",
    "#         X_train = X_train.append(original[features], ignore_index = True)\n",
    "#         y_train = y_train.append(original[target], ignore_index = True)\n",
    "    \n",
    "    model = CatBoostClassifier(**params)\n",
    "    \n",
    "    model.fit(X_train, y_train, eval_set = [(X_val, y_val)], verbose = 2000)\n",
    "    \n",
    "    models.append(model)\n",
    "    # pred = model.predict_proba(X_val)[:,1]\n",
    "    # score = accuracy_score(y_val, model.predict(X_val))\n",
    "    score = cohen_kappa_score(y_val, model.predict(X_val), weights = 'quadratic')\n",
    "\n",
    "    val_scores.append(score)\n",
    "    \n",
    "    print(f'ACC on fold {i}: {score:.4f}')\n",
    "    \n",
    "print(f'mean AUC across all folds: {np.mean(val_scores):.4f}')"
   ]
  },
  {
   "cell_type": "code",
   "execution_count": 15,
   "id": "e2129a80",
   "metadata": {},
   "outputs": [
    {
     "data": {
      "text/plain": [
       "0.5138538633673709"
      ]
     },
     "execution_count": 15,
     "metadata": {},
     "output_type": "execute_result"
    }
   ],
   "source": [
    "sum(val_scores)/len(val_scores)"
   ]
  },
  {
   "cell_type": "code",
   "execution_count": 16,
   "id": "7162fecc",
   "metadata": {},
   "outputs": [
    {
     "name": "stderr",
     "output_type": "stream",
     "text": [
      "\r",
      "0it [00:00, ?it/s]"
     ]
    },
    {
     "name": "stdout",
     "output_type": "stream",
     "text": [
      "[0]\tvalidation_0-auc:0.77134\n",
      "[1000]\tvalidation_0-auc:0.77860\n",
      "[2000]\tvalidation_0-auc:0.77592\n",
      "[2999]\tvalidation_0-auc:0.77432\n"
     ]
    },
    {
     "name": "stderr",
     "output_type": "stream",
     "text": [
      "\r",
      "1it [00:06,  6.17s/it]"
     ]
    },
    {
     "name": "stdout",
     "output_type": "stream",
     "text": [
      "score on fold 0: 0.5244\n",
      "[0]\tvalidation_0-auc:0.71258\n",
      "[1000]\tvalidation_0-auc:0.72808\n",
      "[2000]\tvalidation_0-auc:0.72777\n",
      "[2999]\tvalidation_0-auc:0.72724\n"
     ]
    },
    {
     "name": "stderr",
     "output_type": "stream",
     "text": [
      "\r",
      "2it [00:12,  6.16s/it]"
     ]
    },
    {
     "name": "stdout",
     "output_type": "stream",
     "text": [
      "score on fold 1: 0.4485\n",
      "[0]\tvalidation_0-auc:0.75033\n",
      "[1000]\tvalidation_0-auc:0.78536\n",
      "[2000]\tvalidation_0-auc:0.78545\n",
      "[2999]\tvalidation_0-auc:0.78502\n"
     ]
    },
    {
     "name": "stderr",
     "output_type": "stream",
     "text": [
      "\r",
      "3it [00:18,  6.13s/it]"
     ]
    },
    {
     "name": "stdout",
     "output_type": "stream",
     "text": [
      "score on fold 2: 0.5303\n",
      "[0]\tvalidation_0-auc:0.74970\n",
      "[1000]\tvalidation_0-auc:0.80272\n",
      "[2000]\tvalidation_0-auc:0.80312\n",
      "[2999]\tvalidation_0-auc:0.80261\n"
     ]
    },
    {
     "name": "stderr",
     "output_type": "stream",
     "text": [
      "\r",
      "4it [00:24,  6.15s/it]"
     ]
    },
    {
     "name": "stdout",
     "output_type": "stream",
     "text": [
      "score on fold 3: 0.6026\n",
      "[0]\tvalidation_0-auc:0.72843\n",
      "[1000]\tvalidation_0-auc:0.76657\n",
      "[2000]\tvalidation_0-auc:0.76355\n",
      "[2999]\tvalidation_0-auc:0.76397\n"
     ]
    },
    {
     "name": "stderr",
     "output_type": "stream",
     "text": [
      "\r",
      "5it [00:31,  6.25s/it]"
     ]
    },
    {
     "name": "stdout",
     "output_type": "stream",
     "text": [
      "score on fold 4: 0.5038\n",
      "[0]\tvalidation_0-auc:0.71561\n",
      "[1000]\tvalidation_0-auc:0.75612\n",
      "[2000]\tvalidation_0-auc:0.75535\n",
      "[2999]\tvalidation_0-auc:0.75594\n"
     ]
    },
    {
     "name": "stderr",
     "output_type": "stream",
     "text": [
      "\r",
      "6it [00:37,  6.20s/it]"
     ]
    },
    {
     "name": "stdout",
     "output_type": "stream",
     "text": [
      "score on fold 5: 0.5242\n",
      "[0]\tvalidation_0-auc:0.75209\n",
      "[1000]\tvalidation_0-auc:0.79862\n",
      "[2000]\tvalidation_0-auc:0.79627\n",
      "[2999]\tvalidation_0-auc:0.79622\n"
     ]
    },
    {
     "name": "stderr",
     "output_type": "stream",
     "text": [
      "\r",
      "7it [00:43,  6.17s/it]"
     ]
    },
    {
     "name": "stdout",
     "output_type": "stream",
     "text": [
      "score on fold 6: 0.5757\n",
      "[0]\tvalidation_0-auc:0.68404\n",
      "[1000]\tvalidation_0-auc:0.68675\n",
      "[2000]\tvalidation_0-auc:0.68599\n",
      "[2999]\tvalidation_0-auc:0.68640\n"
     ]
    },
    {
     "name": "stderr",
     "output_type": "stream",
     "text": [
      "\r",
      "8it [00:49,  6.15s/it]"
     ]
    },
    {
     "name": "stdout",
     "output_type": "stream",
     "text": [
      "score on fold 7: 0.3695\n",
      "[0]\tvalidation_0-auc:0.69044\n",
      "[1000]\tvalidation_0-auc:0.73545\n",
      "[2000]\tvalidation_0-auc:0.73231\n",
      "[2999]\tvalidation_0-auc:0.73147\n"
     ]
    },
    {
     "name": "stderr",
     "output_type": "stream",
     "text": [
      "\r",
      "9it [00:55,  6.12s/it]"
     ]
    },
    {
     "name": "stdout",
     "output_type": "stream",
     "text": [
      "score on fold 8: 0.4925\n",
      "[0]\tvalidation_0-auc:0.72632\n",
      "[1000]\tvalidation_0-auc:0.77537\n",
      "[2000]\tvalidation_0-auc:0.77214\n",
      "[2999]\tvalidation_0-auc:0.77152\n"
     ]
    },
    {
     "name": "stderr",
     "output_type": "stream",
     "text": [
      "10it [01:01,  6.15s/it]"
     ]
    },
    {
     "name": "stdout",
     "output_type": "stream",
     "text": [
      "score on fold 9: 0.5399\n",
      "mean score across all folds: 0.5111\n"
     ]
    },
    {
     "name": "stderr",
     "output_type": "stream",
     "text": [
      "\n"
     ]
    }
   ],
   "source": [
    "kf = StratifiedKFold(n_splits = 10, random_state = 1, shuffle = True)\n",
    "val_scores = []\n",
    "\n",
    "include_orig = True\n",
    "\n",
    "xgb_params = {'n_estimators'     : 3000,\n",
    "              'min_child_weight' : 96,\n",
    "              'max_depth'        : 7,\n",
    "              'learning_rate'    : 0.05,\n",
    "              'subsample'        : 0.95,\n",
    "              'colsample_bytree' : 0.95,\n",
    "              'reg_lambda'       : 1.50,\n",
    "              'reg_alpha'        : 1.50,\n",
    "              'gamma'            : 1.50,\n",
    "              'max_bin'          : 512,\n",
    "              'random_state'     : 41,\n",
    "              'objective'        : 'binary:logistic',\n",
    "              'tree_method'      : 'hist',\n",
    "              'eval_metric'      : 'auc'\n",
    "             }\n",
    "# xgb_params = {'max_depth': 3,\n",
    "#  'learning_rate': 0.09457198987172621,\n",
    "#  'min_child_weight': 9,\n",
    "#  'gamma': 0.3126168664550514,\n",
    "#  'subsample': 0.5585879695479943,\n",
    "#  'colsample_bytree': 0.46793424854801835,\n",
    "#  'reg_alpha': 0.21235299325212031,\n",
    "#  'reg_lambda': 0.4236760707956293,\n",
    "#  'n_estimators': 606}\n",
    "\n",
    "for i, (train_index, val_index) in tqdm(enumerate(kf.split(train, train[target]))):\n",
    "    \n",
    "    X_train, X_val = train[features].loc[train_index], train[features].loc[val_index]\n",
    "    y_train, y_val = train[target][train_index], train[target][val_index]\n",
    "    \n",
    "#     if include_orig:\n",
    "#         X_train = X_train.append(original[features], ignore_index = True)\n",
    "#         y_train = y_train.append(original[target], ignore_index = True)\n",
    "    \n",
    "    model = XGBClassifier(**xgb_params)\n",
    "    \n",
    "    model.fit(X_train, y_train, eval_set = [(X_val, y_val)], verbose = 1000)\n",
    "    \n",
    "    models.append(model)\n",
    "    pred = model.predict_proba(X_val)[:,1]\n",
    "    # score = roc_auc_score(y_val, pred)\n",
    "    score = cohen_kappa_score(y_val, model.predict(X_val), weights = 'quadratic')\n",
    "\n",
    "    val_scores.append(score)\n",
    "    \n",
    "    print(f'score on fold {i}: {score:.4f}')\n",
    "    \n",
    "print(f'mean score across all folds: {np.mean(val_scores):.4f}')"
   ]
  },
  {
   "cell_type": "code",
   "execution_count": 17,
   "id": "571501d6",
   "metadata": {},
   "outputs": [
    {
     "data": {
      "text/plain": [
       "0.511139398617669"
      ]
     },
     "execution_count": 17,
     "metadata": {},
     "output_type": "execute_result"
    }
   ],
   "source": [
    "sum(val_scores)/len(val_scores)"
   ]
  },
  {
   "cell_type": "code",
   "execution_count": 18,
   "id": "7816d1f9",
   "metadata": {},
   "outputs": [],
   "source": [
    "def lgb_objective(trial):\n",
    "    \n",
    "    params_optuna = {\n",
    "        \n",
    "        'scale_pos_weight':trial.suggest_int('scale_pos_weight', 1, 3),\n",
    "        'lambda_l1': trial.suggest_float('lambda_l1', 1e-12, 2, log=True),\n",
    "        'lambda_l2': trial.suggest_float('lambda_l2', 5, 25.0, log=True),\n",
    "        'num_leaves': trial.suggest_int('num_leaves', 35, 50),\n",
    "        'feature_fraction': trial.suggest_float('feature_fraction', 0.65, 0.85),\n",
    "        'bagging_fraction': trial.suggest_float('bagging_fraction', 0.5, 0.65),\n",
    "        'bagging_freq': trial.suggest_int('bagging_freq', 4, 9),\n",
    "         'min_child_samples': trial.suggest_int('min_child_samples', 40, 90),\n",
    "         'min_data_in_leaf': trial.suggest_int('min_data_in_leaf', 90, 150),\n",
    "        \"max_depth\": trial.suggest_int(\"max_depth\", 6, 12),\n",
    "        'num_iterations':10000,\n",
    "        'learning_rate':0.005\n",
    "    }\n",
    "    n=10\n",
    "    cv = StratifiedKFold(n,shuffle=True, random_state=42)\n",
    "    all_scores = []\n",
    "    for i,(train_idx,val_idx) in enumerate(cv.split(train[features],train[target])):\n",
    "        X_train, y_train = train.loc[train_idx, features],train.loc[train_idx, target]\n",
    "        X_val, y_val = train.loc[val_idx, features],train.loc[val_idx, target]\n",
    "\n",
    "        model = LGBMClassifier(**params_optuna)\n",
    "        model.fit(X_train,\n",
    "                  y_train,\n",
    "                  eval_set = [(X_val,y_val)],\n",
    "                  early_stopping_rounds=50,\n",
    "                  verbose=500)\n",
    "\n",
    "        # y_pred = model.predict_proba(X_val)[:,1]\n",
    "        # score = accuracy_score(y_val,y_pred)\n",
    "        score = cohen_kappa_score(y_val, model.predict(X_val), weights = 'quadratic')\n",
    "\n",
    "        all_scores.append(score)\n",
    "\n",
    "    return np.mean(all_scores)"
   ]
  },
  {
   "cell_type": "code",
   "execution_count": 19,
   "id": "ce07e6b1",
   "metadata": {},
   "outputs": [
    {
     "name": "stderr",
     "output_type": "stream",
     "text": [
      "\u001b[32m[I 2023-02-08 16:05:55,024]\u001b[0m A new study created in memory with name: no-name-8a823cdc-0c6f-44f6-8106-708b261bc469\u001b[0m\n"
     ]
    },
    {
     "name": "stdout",
     "output_type": "stream",
     "text": [
      "[LightGBM] [Warning] feature_fraction is set=0.8158035892046042, colsample_bytree=1.0 will be ignored. Current value: feature_fraction=0.8158035892046042\n",
      "[LightGBM] [Warning] min_data_in_leaf is set=93, min_child_samples=61 will be ignored. Current value: min_data_in_leaf=93\n",
      "[LightGBM] [Warning] lambda_l1 is set=8.0737154725351e-07, reg_alpha=0.0 will be ignored. Current value: lambda_l1=8.0737154725351e-07\n",
      "[LightGBM] [Warning] bagging_fraction is set=0.6419894625368731, subsample=1.0 will be ignored. Current value: bagging_fraction=0.6419894625368731\n",
      "[LightGBM] [Warning] lambda_l2 is set=8.715959395598292, reg_lambda=0.0 will be ignored. Current value: lambda_l2=8.715959395598292\n",
      "[LightGBM] [Warning] bagging_freq is set=6, subsample_freq=0 will be ignored. Current value: bagging_freq=6\n",
      "[500]\tvalid_0's multi_logloss: 0.990125\n",
      "[LightGBM] [Warning] feature_fraction is set=0.8158035892046042, colsample_bytree=1.0 will be ignored. Current value: feature_fraction=0.8158035892046042\n",
      "[LightGBM] [Warning] min_data_in_leaf is set=93, min_child_samples=61 will be ignored. Current value: min_data_in_leaf=93\n",
      "[LightGBM] [Warning] lambda_l1 is set=8.0737154725351e-07, reg_alpha=0.0 will be ignored. Current value: lambda_l1=8.0737154725351e-07\n",
      "[LightGBM] [Warning] bagging_fraction is set=0.6419894625368731, subsample=1.0 will be ignored. Current value: bagging_fraction=0.6419894625368731\n",
      "[LightGBM] [Warning] lambda_l2 is set=8.715959395598292, reg_lambda=0.0 will be ignored. Current value: lambda_l2=8.715959395598292\n",
      "[LightGBM] [Warning] bagging_freq is set=6, subsample_freq=0 will be ignored. Current value: bagging_freq=6\n",
      "[500]\tvalid_0's multi_logloss: 1.00287\n",
      "[LightGBM] [Warning] feature_fraction is set=0.8158035892046042, colsample_bytree=1.0 will be ignored. Current value: feature_fraction=0.8158035892046042\n",
      "[LightGBM] [Warning] min_data_in_leaf is set=93, min_child_samples=61 will be ignored. Current value: min_data_in_leaf=93\n",
      "[LightGBM] [Warning] lambda_l1 is set=8.0737154725351e-07, reg_alpha=0.0 will be ignored. Current value: lambda_l1=8.0737154725351e-07\n",
      "[LightGBM] [Warning] bagging_fraction is set=0.6419894625368731, subsample=1.0 will be ignored. Current value: bagging_fraction=0.6419894625368731\n",
      "[LightGBM] [Warning] lambda_l2 is set=8.715959395598292, reg_lambda=0.0 will be ignored. Current value: lambda_l2=8.715959395598292\n",
      "[LightGBM] [Warning] bagging_freq is set=6, subsample_freq=0 will be ignored. Current value: bagging_freq=6\n",
      "[500]\tvalid_0's multi_logloss: 0.979342\n",
      "[LightGBM] [Warning] feature_fraction is set=0.8158035892046042, colsample_bytree=1.0 will be ignored. Current value: feature_fraction=0.8158035892046042\n",
      "[LightGBM] [Warning] min_data_in_leaf is set=93, min_child_samples=61 will be ignored. Current value: min_data_in_leaf=93\n",
      "[LightGBM] [Warning] lambda_l1 is set=8.0737154725351e-07, reg_alpha=0.0 will be ignored. Current value: lambda_l1=8.0737154725351e-07\n",
      "[LightGBM] [Warning] bagging_fraction is set=0.6419894625368731, subsample=1.0 will be ignored. Current value: bagging_fraction=0.6419894625368731\n",
      "[LightGBM] [Warning] lambda_l2 is set=8.715959395598292, reg_lambda=0.0 will be ignored. Current value: lambda_l2=8.715959395598292\n",
      "[LightGBM] [Warning] bagging_freq is set=6, subsample_freq=0 will be ignored. Current value: bagging_freq=6\n",
      "[500]\tvalid_0's multi_logloss: 1.05066\n",
      "[LightGBM] [Warning] feature_fraction is set=0.8158035892046042, colsample_bytree=1.0 will be ignored. Current value: feature_fraction=0.8158035892046042\n",
      "[LightGBM] [Warning] min_data_in_leaf is set=93, min_child_samples=61 will be ignored. Current value: min_data_in_leaf=93\n",
      "[LightGBM] [Warning] lambda_l1 is set=8.0737154725351e-07, reg_alpha=0.0 will be ignored. Current value: lambda_l1=8.0737154725351e-07\n",
      "[LightGBM] [Warning] bagging_fraction is set=0.6419894625368731, subsample=1.0 will be ignored. Current value: bagging_fraction=0.6419894625368731\n",
      "[LightGBM] [Warning] lambda_l2 is set=8.715959395598292, reg_lambda=0.0 will be ignored. Current value: lambda_l2=8.715959395598292\n",
      "[LightGBM] [Warning] bagging_freq is set=6, subsample_freq=0 will be ignored. Current value: bagging_freq=6\n",
      "[500]\tvalid_0's multi_logloss: 0.988847\n",
      "[LightGBM] [Warning] feature_fraction is set=0.8158035892046042, colsample_bytree=1.0 will be ignored. Current value: feature_fraction=0.8158035892046042\n",
      "[LightGBM] [Warning] min_data_in_leaf is set=93, min_child_samples=61 will be ignored. Current value: min_data_in_leaf=93\n",
      "[LightGBM] [Warning] lambda_l1 is set=8.0737154725351e-07, reg_alpha=0.0 will be ignored. Current value: lambda_l1=8.0737154725351e-07\n",
      "[LightGBM] [Warning] bagging_fraction is set=0.6419894625368731, subsample=1.0 will be ignored. Current value: bagging_fraction=0.6419894625368731\n",
      "[LightGBM] [Warning] lambda_l2 is set=8.715959395598292, reg_lambda=0.0 will be ignored. Current value: lambda_l2=8.715959395598292\n",
      "[LightGBM] [Warning] bagging_freq is set=6, subsample_freq=0 will be ignored. Current value: bagging_freq=6\n",
      "[500]\tvalid_0's multi_logloss: 1.00691\n",
      "[LightGBM] [Warning] feature_fraction is set=0.8158035892046042, colsample_bytree=1.0 will be ignored. Current value: feature_fraction=0.8158035892046042\n",
      "[LightGBM] [Warning] min_data_in_leaf is set=93, min_child_samples=61 will be ignored. Current value: min_data_in_leaf=93\n",
      "[LightGBM] [Warning] lambda_l1 is set=8.0737154725351e-07, reg_alpha=0.0 will be ignored. Current value: lambda_l1=8.0737154725351e-07\n",
      "[LightGBM] [Warning] bagging_fraction is set=0.6419894625368731, subsample=1.0 will be ignored. Current value: bagging_fraction=0.6419894625368731\n",
      "[LightGBM] [Warning] lambda_l2 is set=8.715959395598292, reg_lambda=0.0 will be ignored. Current value: lambda_l2=8.715959395598292\n",
      "[LightGBM] [Warning] bagging_freq is set=6, subsample_freq=0 will be ignored. Current value: bagging_freq=6\n",
      "[500]\tvalid_0's multi_logloss: 0.96104\n",
      "[LightGBM] [Warning] feature_fraction is set=0.8158035892046042, colsample_bytree=1.0 will be ignored. Current value: feature_fraction=0.8158035892046042\n",
      "[LightGBM] [Warning] min_data_in_leaf is set=93, min_child_samples=61 will be ignored. Current value: min_data_in_leaf=93\n",
      "[LightGBM] [Warning] lambda_l1 is set=8.0737154725351e-07, reg_alpha=0.0 will be ignored. Current value: lambda_l1=8.0737154725351e-07\n",
      "[LightGBM] [Warning] bagging_fraction is set=0.6419894625368731, subsample=1.0 will be ignored. Current value: bagging_fraction=0.6419894625368731\n",
      "[LightGBM] [Warning] lambda_l2 is set=8.715959395598292, reg_lambda=0.0 will be ignored. Current value: lambda_l2=8.715959395598292\n",
      "[LightGBM] [Warning] bagging_freq is set=6, subsample_freq=0 will be ignored. Current value: bagging_freq=6\n",
      "[500]\tvalid_0's multi_logloss: 0.989434\n",
      "[LightGBM] [Warning] feature_fraction is set=0.8158035892046042, colsample_bytree=1.0 will be ignored. Current value: feature_fraction=0.8158035892046042\n",
      "[LightGBM] [Warning] min_data_in_leaf is set=93, min_child_samples=61 will be ignored. Current value: min_data_in_leaf=93\n",
      "[LightGBM] [Warning] lambda_l1 is set=8.0737154725351e-07, reg_alpha=0.0 will be ignored. Current value: lambda_l1=8.0737154725351e-07\n",
      "[LightGBM] [Warning] bagging_fraction is set=0.6419894625368731, subsample=1.0 will be ignored. Current value: bagging_fraction=0.6419894625368731\n",
      "[LightGBM] [Warning] lambda_l2 is set=8.715959395598292, reg_lambda=0.0 will be ignored. Current value: lambda_l2=8.715959395598292\n",
      "[LightGBM] [Warning] bagging_freq is set=6, subsample_freq=0 will be ignored. Current value: bagging_freq=6\n",
      "[500]\tvalid_0's multi_logloss: 1.00741\n",
      "[LightGBM] [Warning] feature_fraction is set=0.8158035892046042, colsample_bytree=1.0 will be ignored. Current value: feature_fraction=0.8158035892046042\n",
      "[LightGBM] [Warning] min_data_in_leaf is set=93, min_child_samples=61 will be ignored. Current value: min_data_in_leaf=93\n",
      "[LightGBM] [Warning] lambda_l1 is set=8.0737154725351e-07, reg_alpha=0.0 will be ignored. Current value: lambda_l1=8.0737154725351e-07\n",
      "[LightGBM] [Warning] bagging_fraction is set=0.6419894625368731, subsample=1.0 will be ignored. Current value: bagging_fraction=0.6419894625368731\n",
      "[LightGBM] [Warning] lambda_l2 is set=8.715959395598292, reg_lambda=0.0 will be ignored. Current value: lambda_l2=8.715959395598292\n",
      "[LightGBM] [Warning] bagging_freq is set=6, subsample_freq=0 will be ignored. Current value: bagging_freq=6\n"
     ]
    },
    {
     "name": "stdout",
     "output_type": "stream",
     "text": [
      "[500]\tvalid_0's multi_logloss: 1.00524\n"
     ]
    },
    {
     "name": "stderr",
     "output_type": "stream",
     "text": [
      "\u001b[32m[I 2023-02-08 16:06:08,421]\u001b[0m Trial 0 finished with value: 0.5049632032506187 and parameters: {'scale_pos_weight': 1, 'lambda_l1': 8.0737154725351e-07, 'lambda_l2': 8.715959395598292, 'num_leaves': 38, 'feature_fraction': 0.8158035892046042, 'bagging_fraction': 0.6419894625368731, 'bagging_freq': 6, 'min_child_samples': 61, 'min_data_in_leaf': 93, 'max_depth': 7}. Best is trial 0 with value: 0.5049632032506187.\u001b[0m\n"
     ]
    },
    {
     "name": "stdout",
     "output_type": "stream",
     "text": [
      "[LightGBM] [Warning] feature_fraction is set=0.7094944820332122, colsample_bytree=1.0 will be ignored. Current value: feature_fraction=0.7094944820332122\n",
      "[LightGBM] [Warning] min_data_in_leaf is set=147, min_child_samples=86 will be ignored. Current value: min_data_in_leaf=147\n",
      "[LightGBM] [Warning] lambda_l1 is set=8.10829847775778e-06, reg_alpha=0.0 will be ignored. Current value: lambda_l1=8.10829847775778e-06\n",
      "[LightGBM] [Warning] bagging_fraction is set=0.5687219684416984, subsample=1.0 will be ignored. Current value: bagging_fraction=0.5687219684416984\n",
      "[LightGBM] [Warning] lambda_l2 is set=22.659944631805512, reg_lambda=0.0 will be ignored. Current value: lambda_l2=22.659944631805512\n",
      "[LightGBM] [Warning] bagging_freq is set=9, subsample_freq=0 will be ignored. Current value: bagging_freq=9\n",
      "[500]\tvalid_0's multi_logloss: 1.00059\n",
      "[LightGBM] [Warning] feature_fraction is set=0.7094944820332122, colsample_bytree=1.0 will be ignored. Current value: feature_fraction=0.7094944820332122\n",
      "[LightGBM] [Warning] min_data_in_leaf is set=147, min_child_samples=86 will be ignored. Current value: min_data_in_leaf=147\n",
      "[LightGBM] [Warning] lambda_l1 is set=8.10829847775778e-06, reg_alpha=0.0 will be ignored. Current value: lambda_l1=8.10829847775778e-06\n",
      "[LightGBM] [Warning] bagging_fraction is set=0.5687219684416984, subsample=1.0 will be ignored. Current value: bagging_fraction=0.5687219684416984\n",
      "[LightGBM] [Warning] lambda_l2 is set=22.659944631805512, reg_lambda=0.0 will be ignored. Current value: lambda_l2=22.659944631805512\n",
      "[LightGBM] [Warning] bagging_freq is set=9, subsample_freq=0 will be ignored. Current value: bagging_freq=9\n",
      "[500]\tvalid_0's multi_logloss: 1.01041\n",
      "[LightGBM] [Warning] feature_fraction is set=0.7094944820332122, colsample_bytree=1.0 will be ignored. Current value: feature_fraction=0.7094944820332122\n",
      "[LightGBM] [Warning] min_data_in_leaf is set=147, min_child_samples=86 will be ignored. Current value: min_data_in_leaf=147\n",
      "[LightGBM] [Warning] lambda_l1 is set=8.10829847775778e-06, reg_alpha=0.0 will be ignored. Current value: lambda_l1=8.10829847775778e-06\n",
      "[LightGBM] [Warning] bagging_fraction is set=0.5687219684416984, subsample=1.0 will be ignored. Current value: bagging_fraction=0.5687219684416984\n",
      "[LightGBM] [Warning] lambda_l2 is set=22.659944631805512, reg_lambda=0.0 will be ignored. Current value: lambda_l2=22.659944631805512\n",
      "[LightGBM] [Warning] bagging_freq is set=9, subsample_freq=0 will be ignored. Current value: bagging_freq=9\n",
      "[500]\tvalid_0's multi_logloss: 0.986767\n",
      "[LightGBM] [Warning] feature_fraction is set=0.7094944820332122, colsample_bytree=1.0 will be ignored. Current value: feature_fraction=0.7094944820332122\n",
      "[LightGBM] [Warning] min_data_in_leaf is set=147, min_child_samples=86 will be ignored. Current value: min_data_in_leaf=147\n",
      "[LightGBM] [Warning] lambda_l1 is set=8.10829847775778e-06, reg_alpha=0.0 will be ignored. Current value: lambda_l1=8.10829847775778e-06\n",
      "[LightGBM] [Warning] bagging_fraction is set=0.5687219684416984, subsample=1.0 will be ignored. Current value: bagging_fraction=0.5687219684416984\n",
      "[LightGBM] [Warning] lambda_l2 is set=22.659944631805512, reg_lambda=0.0 will be ignored. Current value: lambda_l2=22.659944631805512\n",
      "[LightGBM] [Warning] bagging_freq is set=9, subsample_freq=0 will be ignored. Current value: bagging_freq=9\n",
      "[500]\tvalid_0's multi_logloss: 1.05797\n",
      "[LightGBM] [Warning] feature_fraction is set=0.7094944820332122, colsample_bytree=1.0 will be ignored. Current value: feature_fraction=0.7094944820332122\n",
      "[LightGBM] [Warning] min_data_in_leaf is set=147, min_child_samples=86 will be ignored. Current value: min_data_in_leaf=147\n",
      "[LightGBM] [Warning] lambda_l1 is set=8.10829847775778e-06, reg_alpha=0.0 will be ignored. Current value: lambda_l1=8.10829847775778e-06\n",
      "[LightGBM] [Warning] bagging_fraction is set=0.5687219684416984, subsample=1.0 will be ignored. Current value: bagging_fraction=0.5687219684416984\n",
      "[LightGBM] [Warning] lambda_l2 is set=22.659944631805512, reg_lambda=0.0 will be ignored. Current value: lambda_l2=22.659944631805512\n",
      "[LightGBM] [Warning] bagging_freq is set=9, subsample_freq=0 will be ignored. Current value: bagging_freq=9\n",
      "[500]\tvalid_0's multi_logloss: 0.997877\n",
      "[1000]\tvalid_0's multi_logloss: 0.981025\n",
      "[LightGBM] [Warning] feature_fraction is set=0.7094944820332122, colsample_bytree=1.0 will be ignored. Current value: feature_fraction=0.7094944820332122\n",
      "[LightGBM] [Warning] min_data_in_leaf is set=147, min_child_samples=86 will be ignored. Current value: min_data_in_leaf=147\n",
      "[LightGBM] [Warning] lambda_l1 is set=8.10829847775778e-06, reg_alpha=0.0 will be ignored. Current value: lambda_l1=8.10829847775778e-06\n",
      "[LightGBM] [Warning] bagging_fraction is set=0.5687219684416984, subsample=1.0 will be ignored. Current value: bagging_fraction=0.5687219684416984\n",
      "[LightGBM] [Warning] lambda_l2 is set=22.659944631805512, reg_lambda=0.0 will be ignored. Current value: lambda_l2=22.659944631805512\n",
      "[LightGBM] [Warning] bagging_freq is set=9, subsample_freq=0 will be ignored. Current value: bagging_freq=9\n",
      "[500]\tvalid_0's multi_logloss: 1.02177\n",
      "[1000]\tvalid_0's multi_logloss: 1.00561\n",
      "[LightGBM] [Warning] feature_fraction is set=0.7094944820332122, colsample_bytree=1.0 will be ignored. Current value: feature_fraction=0.7094944820332122\n",
      "[LightGBM] [Warning] min_data_in_leaf is set=147, min_child_samples=86 will be ignored. Current value: min_data_in_leaf=147\n",
      "[LightGBM] [Warning] lambda_l1 is set=8.10829847775778e-06, reg_alpha=0.0 will be ignored. Current value: lambda_l1=8.10829847775778e-06\n",
      "[LightGBM] [Warning] bagging_fraction is set=0.5687219684416984, subsample=1.0 will be ignored. Current value: bagging_fraction=0.5687219684416984\n",
      "[LightGBM] [Warning] lambda_l2 is set=22.659944631805512, reg_lambda=0.0 will be ignored. Current value: lambda_l2=22.659944631805512\n",
      "[LightGBM] [Warning] bagging_freq is set=9, subsample_freq=0 will be ignored. Current value: bagging_freq=9\n",
      "[500]\tvalid_0's multi_logloss: 0.976512\n",
      "[1000]\tvalid_0's multi_logloss: 0.951375\n",
      "[LightGBM] [Warning] feature_fraction is set=0.7094944820332122, colsample_bytree=1.0 will be ignored. Current value: feature_fraction=0.7094944820332122\n",
      "[LightGBM] [Warning] min_data_in_leaf is set=147, min_child_samples=86 will be ignored. Current value: min_data_in_leaf=147\n",
      "[LightGBM] [Warning] lambda_l1 is set=8.10829847775778e-06, reg_alpha=0.0 will be ignored. Current value: lambda_l1=8.10829847775778e-06\n",
      "[LightGBM] [Warning] bagging_fraction is set=0.5687219684416984, subsample=1.0 will be ignored. Current value: bagging_fraction=0.5687219684416984\n",
      "[LightGBM] [Warning] lambda_l2 is set=22.659944631805512, reg_lambda=0.0 will be ignored. Current value: lambda_l2=22.659944631805512\n",
      "[LightGBM] [Warning] bagging_freq is set=9, subsample_freq=0 will be ignored. Current value: bagging_freq=9\n",
      "[500]\tvalid_0's multi_logloss: 1.00659\n",
      "[1000]\tvalid_0's multi_logloss: 0.986039\n",
      "[LightGBM] [Warning] feature_fraction is set=0.7094944820332122, colsample_bytree=1.0 will be ignored. Current value: feature_fraction=0.7094944820332122\n",
      "[LightGBM] [Warning] min_data_in_leaf is set=147, min_child_samples=86 will be ignored. Current value: min_data_in_leaf=147\n",
      "[LightGBM] [Warning] lambda_l1 is set=8.10829847775778e-06, reg_alpha=0.0 will be ignored. Current value: lambda_l1=8.10829847775778e-06\n",
      "[LightGBM] [Warning] bagging_fraction is set=0.5687219684416984, subsample=1.0 will be ignored. Current value: bagging_fraction=0.5687219684416984\n",
      "[LightGBM] [Warning] lambda_l2 is set=22.659944631805512, reg_lambda=0.0 will be ignored. Current value: lambda_l2=22.659944631805512\n",
      "[LightGBM] [Warning] bagging_freq is set=9, subsample_freq=0 will be ignored. Current value: bagging_freq=9\n",
      "[500]\tvalid_0's multi_logloss: 1.01472\n",
      "[LightGBM] [Warning] feature_fraction is set=0.7094944820332122, colsample_bytree=1.0 will be ignored. Current value: feature_fraction=0.7094944820332122\n",
      "[LightGBM] [Warning] min_data_in_leaf is set=147, min_child_samples=86 will be ignored. Current value: min_data_in_leaf=147\n",
      "[LightGBM] [Warning] lambda_l1 is set=8.10829847775778e-06, reg_alpha=0.0 will be ignored. Current value: lambda_l1=8.10829847775778e-06\n",
      "[LightGBM] [Warning] bagging_fraction is set=0.5687219684416984, subsample=1.0 will be ignored. Current value: bagging_fraction=0.5687219684416984\n",
      "[LightGBM] [Warning] lambda_l2 is set=22.659944631805512, reg_lambda=0.0 will be ignored. Current value: lambda_l2=22.659944631805512\n",
      "[LightGBM] [Warning] bagging_freq is set=9, subsample_freq=0 will be ignored. Current value: bagging_freq=9\n"
     ]
    },
    {
     "name": "stdout",
     "output_type": "stream",
     "text": [
      "[500]\tvalid_0's multi_logloss: 1.02087\n"
     ]
    },
    {
     "name": "stderr",
     "output_type": "stream",
     "text": [
      "\u001b[32m[I 2023-02-08 16:06:22,839]\u001b[0m Trial 1 finished with value: 0.5142528873161061 and parameters: {'scale_pos_weight': 3, 'lambda_l1': 8.10829847775778e-06, 'lambda_l2': 22.659944631805512, 'num_leaves': 41, 'feature_fraction': 0.7094944820332122, 'bagging_fraction': 0.5687219684416984, 'bagging_freq': 9, 'min_child_samples': 86, 'min_data_in_leaf': 147, 'max_depth': 6}. Best is trial 1 with value: 0.5142528873161061.\u001b[0m\n"
     ]
    },
    {
     "name": "stdout",
     "output_type": "stream",
     "text": [
      "[LightGBM] [Warning] feature_fraction is set=0.7986639872431636, colsample_bytree=1.0 will be ignored. Current value: feature_fraction=0.7986639872431636\n",
      "[LightGBM] [Warning] min_data_in_leaf is set=147, min_child_samples=87 will be ignored. Current value: min_data_in_leaf=147\n",
      "[LightGBM] [Warning] lambda_l1 is set=2.709347871768407e-10, reg_alpha=0.0 will be ignored. Current value: lambda_l1=2.709347871768407e-10\n",
      "[LightGBM] [Warning] bagging_fraction is set=0.507972238737994, subsample=1.0 will be ignored. Current value: bagging_fraction=0.507972238737994\n",
      "[LightGBM] [Warning] lambda_l2 is set=22.427759531748354, reg_lambda=0.0 will be ignored. Current value: lambda_l2=22.427759531748354\n",
      "[LightGBM] [Warning] bagging_freq is set=8, subsample_freq=0 will be ignored. Current value: bagging_freq=8\n",
      "[500]\tvalid_0's multi_logloss: 1.00015\n",
      "[LightGBM] [Warning] feature_fraction is set=0.7986639872431636, colsample_bytree=1.0 will be ignored. Current value: feature_fraction=0.7986639872431636\n",
      "[LightGBM] [Warning] min_data_in_leaf is set=147, min_child_samples=87 will be ignored. Current value: min_data_in_leaf=147\n",
      "[LightGBM] [Warning] lambda_l1 is set=2.709347871768407e-10, reg_alpha=0.0 will be ignored. Current value: lambda_l1=2.709347871768407e-10\n",
      "[LightGBM] [Warning] bagging_fraction is set=0.507972238737994, subsample=1.0 will be ignored. Current value: bagging_fraction=0.507972238737994\n",
      "[LightGBM] [Warning] lambda_l2 is set=22.427759531748354, reg_lambda=0.0 will be ignored. Current value: lambda_l2=22.427759531748354\n",
      "[LightGBM] [Warning] bagging_freq is set=8, subsample_freq=0 will be ignored. Current value: bagging_freq=8\n",
      "[500]\tvalid_0's multi_logloss: 1.01098\n",
      "[1000]\tvalid_0's multi_logloss: 0.993996\n",
      "[LightGBM] [Warning] feature_fraction is set=0.7986639872431636, colsample_bytree=1.0 will be ignored. Current value: feature_fraction=0.7986639872431636\n",
      "[LightGBM] [Warning] min_data_in_leaf is set=147, min_child_samples=87 will be ignored. Current value: min_data_in_leaf=147\n",
      "[LightGBM] [Warning] lambda_l1 is set=2.709347871768407e-10, reg_alpha=0.0 will be ignored. Current value: lambda_l1=2.709347871768407e-10\n",
      "[LightGBM] [Warning] bagging_fraction is set=0.507972238737994, subsample=1.0 will be ignored. Current value: bagging_fraction=0.507972238737994\n",
      "[LightGBM] [Warning] lambda_l2 is set=22.427759531748354, reg_lambda=0.0 will be ignored. Current value: lambda_l2=22.427759531748354\n",
      "[LightGBM] [Warning] bagging_freq is set=8, subsample_freq=0 will be ignored. Current value: bagging_freq=8\n",
      "[500]\tvalid_0's multi_logloss: 0.986637\n",
      "[LightGBM] [Warning] feature_fraction is set=0.7986639872431636, colsample_bytree=1.0 will be ignored. Current value: feature_fraction=0.7986639872431636\n",
      "[LightGBM] [Warning] min_data_in_leaf is set=147, min_child_samples=87 will be ignored. Current value: min_data_in_leaf=147\n",
      "[LightGBM] [Warning] lambda_l1 is set=2.709347871768407e-10, reg_alpha=0.0 will be ignored. Current value: lambda_l1=2.709347871768407e-10\n",
      "[LightGBM] [Warning] bagging_fraction is set=0.507972238737994, subsample=1.0 will be ignored. Current value: bagging_fraction=0.507972238737994\n",
      "[LightGBM] [Warning] lambda_l2 is set=22.427759531748354, reg_lambda=0.0 will be ignored. Current value: lambda_l2=22.427759531748354\n",
      "[LightGBM] [Warning] bagging_freq is set=8, subsample_freq=0 will be ignored. Current value: bagging_freq=8\n",
      "[500]\tvalid_0's multi_logloss: 1.06061\n",
      "[LightGBM] [Warning] feature_fraction is set=0.7986639872431636, colsample_bytree=1.0 will be ignored. Current value: feature_fraction=0.7986639872431636\n",
      "[LightGBM] [Warning] min_data_in_leaf is set=147, min_child_samples=87 will be ignored. Current value: min_data_in_leaf=147\n",
      "[LightGBM] [Warning] lambda_l1 is set=2.709347871768407e-10, reg_alpha=0.0 will be ignored. Current value: lambda_l1=2.709347871768407e-10\n",
      "[LightGBM] [Warning] bagging_fraction is set=0.507972238737994, subsample=1.0 will be ignored. Current value: bagging_fraction=0.507972238737994\n",
      "[LightGBM] [Warning] lambda_l2 is set=22.427759531748354, reg_lambda=0.0 will be ignored. Current value: lambda_l2=22.427759531748354\n",
      "[LightGBM] [Warning] bagging_freq is set=8, subsample_freq=0 will be ignored. Current value: bagging_freq=8\n",
      "[500]\tvalid_0's multi_logloss: 0.99348\n",
      "[1000]\tvalid_0's multi_logloss: 0.980269\n",
      "[LightGBM] [Warning] feature_fraction is set=0.7986639872431636, colsample_bytree=1.0 will be ignored. Current value: feature_fraction=0.7986639872431636\n",
      "[LightGBM] [Warning] min_data_in_leaf is set=147, min_child_samples=87 will be ignored. Current value: min_data_in_leaf=147\n",
      "[LightGBM] [Warning] lambda_l1 is set=2.709347871768407e-10, reg_alpha=0.0 will be ignored. Current value: lambda_l1=2.709347871768407e-10\n",
      "[LightGBM] [Warning] bagging_fraction is set=0.507972238737994, subsample=1.0 will be ignored. Current value: bagging_fraction=0.507972238737994\n",
      "[LightGBM] [Warning] lambda_l2 is set=22.427759531748354, reg_lambda=0.0 will be ignored. Current value: lambda_l2=22.427759531748354\n",
      "[LightGBM] [Warning] bagging_freq is set=8, subsample_freq=0 will be ignored. Current value: bagging_freq=8\n",
      "[500]\tvalid_0's multi_logloss: 1.02101\n",
      "[1000]\tvalid_0's multi_logloss: 1.00542\n",
      "[LightGBM] [Warning] feature_fraction is set=0.7986639872431636, colsample_bytree=1.0 will be ignored. Current value: feature_fraction=0.7986639872431636\n",
      "[LightGBM] [Warning] min_data_in_leaf is set=147, min_child_samples=87 will be ignored. Current value: min_data_in_leaf=147\n",
      "[LightGBM] [Warning] lambda_l1 is set=2.709347871768407e-10, reg_alpha=0.0 will be ignored. Current value: lambda_l1=2.709347871768407e-10\n",
      "[LightGBM] [Warning] bagging_fraction is set=0.507972238737994, subsample=1.0 will be ignored. Current value: bagging_fraction=0.507972238737994\n",
      "[LightGBM] [Warning] lambda_l2 is set=22.427759531748354, reg_lambda=0.0 will be ignored. Current value: lambda_l2=22.427759531748354\n",
      "[LightGBM] [Warning] bagging_freq is set=8, subsample_freq=0 will be ignored. Current value: bagging_freq=8\n",
      "[500]\tvalid_0's multi_logloss: 0.977774\n",
      "[1000]\tvalid_0's multi_logloss: 0.95236\n",
      "[LightGBM] [Warning] feature_fraction is set=0.7986639872431636, colsample_bytree=1.0 will be ignored. Current value: feature_fraction=0.7986639872431636\n",
      "[LightGBM] [Warning] min_data_in_leaf is set=147, min_child_samples=87 will be ignored. Current value: min_data_in_leaf=147\n",
      "[LightGBM] [Warning] lambda_l1 is set=2.709347871768407e-10, reg_alpha=0.0 will be ignored. Current value: lambda_l1=2.709347871768407e-10\n",
      "[LightGBM] [Warning] bagging_fraction is set=0.507972238737994, subsample=1.0 will be ignored. Current value: bagging_fraction=0.507972238737994\n",
      "[LightGBM] [Warning] lambda_l2 is set=22.427759531748354, reg_lambda=0.0 will be ignored. Current value: lambda_l2=22.427759531748354\n",
      "[LightGBM] [Warning] bagging_freq is set=8, subsample_freq=0 will be ignored. Current value: bagging_freq=8\n",
      "[500]\tvalid_0's multi_logloss: 1.00545\n",
      "[1000]\tvalid_0's multi_logloss: 0.984757\n",
      "[LightGBM] [Warning] feature_fraction is set=0.7986639872431636, colsample_bytree=1.0 will be ignored. Current value: feature_fraction=0.7986639872431636\n",
      "[LightGBM] [Warning] min_data_in_leaf is set=147, min_child_samples=87 will be ignored. Current value: min_data_in_leaf=147\n",
      "[LightGBM] [Warning] lambda_l1 is set=2.709347871768407e-10, reg_alpha=0.0 will be ignored. Current value: lambda_l1=2.709347871768407e-10\n",
      "[LightGBM] [Warning] bagging_fraction is set=0.507972238737994, subsample=1.0 will be ignored. Current value: bagging_fraction=0.507972238737994\n",
      "[LightGBM] [Warning] lambda_l2 is set=22.427759531748354, reg_lambda=0.0 will be ignored. Current value: lambda_l2=22.427759531748354\n",
      "[LightGBM] [Warning] bagging_freq is set=8, subsample_freq=0 will be ignored. Current value: bagging_freq=8\n",
      "[500]\tvalid_0's multi_logloss: 1.01296\n",
      "[LightGBM] [Warning] feature_fraction is set=0.7986639872431636, colsample_bytree=1.0 will be ignored. Current value: feature_fraction=0.7986639872431636\n",
      "[LightGBM] [Warning] min_data_in_leaf is set=147, min_child_samples=87 will be ignored. Current value: min_data_in_leaf=147\n",
      "[LightGBM] [Warning] lambda_l1 is set=2.709347871768407e-10, reg_alpha=0.0 will be ignored. Current value: lambda_l1=2.709347871768407e-10\n",
      "[LightGBM] [Warning] bagging_fraction is set=0.507972238737994, subsample=1.0 will be ignored. Current value: bagging_fraction=0.507972238737994\n",
      "[LightGBM] [Warning] lambda_l2 is set=22.427759531748354, reg_lambda=0.0 will be ignored. Current value: lambda_l2=22.427759531748354\n",
      "[LightGBM] [Warning] bagging_freq is set=8, subsample_freq=0 will be ignored. Current value: bagging_freq=8\n"
     ]
    },
    {
     "name": "stdout",
     "output_type": "stream",
     "text": [
      "[500]\tvalid_0's multi_logloss: 1.02396\n",
      "[1000]\tvalid_0's multi_logloss: 1.01214\n"
     ]
    },
    {
     "name": "stderr",
     "output_type": "stream",
     "text": [
      "\u001b[32m[I 2023-02-08 16:06:36,892]\u001b[0m Trial 2 finished with value: 0.5183678684767494 and parameters: {'scale_pos_weight': 3, 'lambda_l1': 2.709347871768407e-10, 'lambda_l2': 22.427759531748354, 'num_leaves': 49, 'feature_fraction': 0.7986639872431636, 'bagging_fraction': 0.507972238737994, 'bagging_freq': 8, 'min_child_samples': 87, 'min_data_in_leaf': 147, 'max_depth': 6}. Best is trial 2 with value: 0.5183678684767494.\u001b[0m\n"
     ]
    },
    {
     "name": "stdout",
     "output_type": "stream",
     "text": [
      "[LightGBM] [Warning] feature_fraction is set=0.70841224542913, colsample_bytree=1.0 will be ignored. Current value: feature_fraction=0.70841224542913\n",
      "[LightGBM] [Warning] min_data_in_leaf is set=103, min_child_samples=49 will be ignored. Current value: min_data_in_leaf=103\n",
      "[LightGBM] [Warning] lambda_l1 is set=4.2821915004393845e-07, reg_alpha=0.0 will be ignored. Current value: lambda_l1=4.2821915004393845e-07\n",
      "[LightGBM] [Warning] bagging_fraction is set=0.508077466531555, subsample=1.0 will be ignored. Current value: bagging_fraction=0.508077466531555\n",
      "[LightGBM] [Warning] lambda_l2 is set=19.11382395037818, reg_lambda=0.0 will be ignored. Current value: lambda_l2=19.11382395037818\n",
      "[LightGBM] [Warning] bagging_freq is set=7, subsample_freq=0 will be ignored. Current value: bagging_freq=7\n",
      "[500]\tvalid_0's multi_logloss: 0.998563\n",
      "[LightGBM] [Warning] feature_fraction is set=0.70841224542913, colsample_bytree=1.0 will be ignored. Current value: feature_fraction=0.70841224542913\n",
      "[LightGBM] [Warning] min_data_in_leaf is set=103, min_child_samples=49 will be ignored. Current value: min_data_in_leaf=103\n",
      "[LightGBM] [Warning] lambda_l1 is set=4.2821915004393845e-07, reg_alpha=0.0 will be ignored. Current value: lambda_l1=4.2821915004393845e-07\n",
      "[LightGBM] [Warning] bagging_fraction is set=0.508077466531555, subsample=1.0 will be ignored. Current value: bagging_fraction=0.508077466531555\n",
      "[LightGBM] [Warning] lambda_l2 is set=19.11382395037818, reg_lambda=0.0 will be ignored. Current value: lambda_l2=19.11382395037818\n",
      "[LightGBM] [Warning] bagging_freq is set=7, subsample_freq=0 will be ignored. Current value: bagging_freq=7\n",
      "[500]\tvalid_0's multi_logloss: 1.01308\n",
      "[1000]\tvalid_0's multi_logloss: 0.99907\n",
      "[LightGBM] [Warning] feature_fraction is set=0.70841224542913, colsample_bytree=1.0 will be ignored. Current value: feature_fraction=0.70841224542913\n",
      "[LightGBM] [Warning] min_data_in_leaf is set=103, min_child_samples=49 will be ignored. Current value: min_data_in_leaf=103\n",
      "[LightGBM] [Warning] lambda_l1 is set=4.2821915004393845e-07, reg_alpha=0.0 will be ignored. Current value: lambda_l1=4.2821915004393845e-07\n",
      "[LightGBM] [Warning] bagging_fraction is set=0.508077466531555, subsample=1.0 will be ignored. Current value: bagging_fraction=0.508077466531555\n",
      "[LightGBM] [Warning] lambda_l2 is set=19.11382395037818, reg_lambda=0.0 will be ignored. Current value: lambda_l2=19.11382395037818\n",
      "[LightGBM] [Warning] bagging_freq is set=7, subsample_freq=0 will be ignored. Current value: bagging_freq=7\n",
      "[500]\tvalid_0's multi_logloss: 0.983981\n",
      "[LightGBM] [Warning] feature_fraction is set=0.70841224542913, colsample_bytree=1.0 will be ignored. Current value: feature_fraction=0.70841224542913\n",
      "[LightGBM] [Warning] min_data_in_leaf is set=103, min_child_samples=49 will be ignored. Current value: min_data_in_leaf=103\n",
      "[LightGBM] [Warning] lambda_l1 is set=4.2821915004393845e-07, reg_alpha=0.0 will be ignored. Current value: lambda_l1=4.2821915004393845e-07\n",
      "[LightGBM] [Warning] bagging_fraction is set=0.508077466531555, subsample=1.0 will be ignored. Current value: bagging_fraction=0.508077466531555\n",
      "[LightGBM] [Warning] lambda_l2 is set=19.11382395037818, reg_lambda=0.0 will be ignored. Current value: lambda_l2=19.11382395037818\n",
      "[LightGBM] [Warning] bagging_freq is set=7, subsample_freq=0 will be ignored. Current value: bagging_freq=7\n",
      "[500]\tvalid_0's multi_logloss: 1.0571\n",
      "[LightGBM] [Warning] feature_fraction is set=0.70841224542913, colsample_bytree=1.0 will be ignored. Current value: feature_fraction=0.70841224542913\n",
      "[LightGBM] [Warning] min_data_in_leaf is set=103, min_child_samples=49 will be ignored. Current value: min_data_in_leaf=103\n",
      "[LightGBM] [Warning] lambda_l1 is set=4.2821915004393845e-07, reg_alpha=0.0 will be ignored. Current value: lambda_l1=4.2821915004393845e-07\n",
      "[LightGBM] [Warning] bagging_fraction is set=0.508077466531555, subsample=1.0 will be ignored. Current value: bagging_fraction=0.508077466531555\n",
      "[LightGBM] [Warning] lambda_l2 is set=19.11382395037818, reg_lambda=0.0 will be ignored. Current value: lambda_l2=19.11382395037818\n",
      "[LightGBM] [Warning] bagging_freq is set=7, subsample_freq=0 will be ignored. Current value: bagging_freq=7\n",
      "[500]\tvalid_0's multi_logloss: 0.996431\n",
      "[LightGBM] [Warning] feature_fraction is set=0.70841224542913, colsample_bytree=1.0 will be ignored. Current value: feature_fraction=0.70841224542913\n",
      "[LightGBM] [Warning] min_data_in_leaf is set=103, min_child_samples=49 will be ignored. Current value: min_data_in_leaf=103\n",
      "[LightGBM] [Warning] lambda_l1 is set=4.2821915004393845e-07, reg_alpha=0.0 will be ignored. Current value: lambda_l1=4.2821915004393845e-07\n",
      "[LightGBM] [Warning] bagging_fraction is set=0.508077466531555, subsample=1.0 will be ignored. Current value: bagging_fraction=0.508077466531555\n",
      "[LightGBM] [Warning] lambda_l2 is set=19.11382395037818, reg_lambda=0.0 will be ignored. Current value: lambda_l2=19.11382395037818\n",
      "[LightGBM] [Warning] bagging_freq is set=7, subsample_freq=0 will be ignored. Current value: bagging_freq=7\n",
      "[500]\tvalid_0's multi_logloss: 1.0196\n",
      "[1000]\tvalid_0's multi_logloss: 1.00641\n",
      "[LightGBM] [Warning] feature_fraction is set=0.70841224542913, colsample_bytree=1.0 will be ignored. Current value: feature_fraction=0.70841224542913\n",
      "[LightGBM] [Warning] min_data_in_leaf is set=103, min_child_samples=49 will be ignored. Current value: min_data_in_leaf=103\n",
      "[LightGBM] [Warning] lambda_l1 is set=4.2821915004393845e-07, reg_alpha=0.0 will be ignored. Current value: lambda_l1=4.2821915004393845e-07\n",
      "[LightGBM] [Warning] bagging_fraction is set=0.508077466531555, subsample=1.0 will be ignored. Current value: bagging_fraction=0.508077466531555\n",
      "[LightGBM] [Warning] lambda_l2 is set=19.11382395037818, reg_lambda=0.0 will be ignored. Current value: lambda_l2=19.11382395037818\n",
      "[LightGBM] [Warning] bagging_freq is set=7, subsample_freq=0 will be ignored. Current value: bagging_freq=7\n",
      "[500]\tvalid_0's multi_logloss: 0.976395\n",
      "[1000]\tvalid_0's multi_logloss: 0.952138\n",
      "[LightGBM] [Warning] feature_fraction is set=0.70841224542913, colsample_bytree=1.0 will be ignored. Current value: feature_fraction=0.70841224542913\n",
      "[LightGBM] [Warning] min_data_in_leaf is set=103, min_child_samples=49 will be ignored. Current value: min_data_in_leaf=103\n",
      "[LightGBM] [Warning] lambda_l1 is set=4.2821915004393845e-07, reg_alpha=0.0 will be ignored. Current value: lambda_l1=4.2821915004393845e-07\n",
      "[LightGBM] [Warning] bagging_fraction is set=0.508077466531555, subsample=1.0 will be ignored. Current value: bagging_fraction=0.508077466531555\n",
      "[LightGBM] [Warning] lambda_l2 is set=19.11382395037818, reg_lambda=0.0 will be ignored. Current value: lambda_l2=19.11382395037818\n",
      "[LightGBM] [Warning] bagging_freq is set=7, subsample_freq=0 will be ignored. Current value: bagging_freq=7\n",
      "[500]\tvalid_0's multi_logloss: 1.00413\n",
      "[1000]\tvalid_0's multi_logloss: 0.982924\n",
      "[LightGBM] [Warning] feature_fraction is set=0.70841224542913, colsample_bytree=1.0 will be ignored. Current value: feature_fraction=0.70841224542913\n",
      "[LightGBM] [Warning] min_data_in_leaf is set=103, min_child_samples=49 will be ignored. Current value: min_data_in_leaf=103\n",
      "[LightGBM] [Warning] lambda_l1 is set=4.2821915004393845e-07, reg_alpha=0.0 will be ignored. Current value: lambda_l1=4.2821915004393845e-07\n",
      "[LightGBM] [Warning] bagging_fraction is set=0.508077466531555, subsample=1.0 will be ignored. Current value: bagging_fraction=0.508077466531555\n",
      "[LightGBM] [Warning] lambda_l2 is set=19.11382395037818, reg_lambda=0.0 will be ignored. Current value: lambda_l2=19.11382395037818\n",
      "[LightGBM] [Warning] bagging_freq is set=7, subsample_freq=0 will be ignored. Current value: bagging_freq=7\n",
      "[500]\tvalid_0's multi_logloss: 1.01149\n",
      "[LightGBM] [Warning] feature_fraction is set=0.70841224542913, colsample_bytree=1.0 will be ignored. Current value: feature_fraction=0.70841224542913\n",
      "[LightGBM] [Warning] min_data_in_leaf is set=103, min_child_samples=49 will be ignored. Current value: min_data_in_leaf=103\n",
      "[LightGBM] [Warning] lambda_l1 is set=4.2821915004393845e-07, reg_alpha=0.0 will be ignored. Current value: lambda_l1=4.2821915004393845e-07\n",
      "[LightGBM] [Warning] bagging_fraction is set=0.508077466531555, subsample=1.0 will be ignored. Current value: bagging_fraction=0.508077466531555\n",
      "[LightGBM] [Warning] lambda_l2 is set=19.11382395037818, reg_lambda=0.0 will be ignored. Current value: lambda_l2=19.11382395037818\n",
      "[LightGBM] [Warning] bagging_freq is set=7, subsample_freq=0 will be ignored. Current value: bagging_freq=7\n"
     ]
    },
    {
     "name": "stdout",
     "output_type": "stream",
     "text": [
      "[500]\tvalid_0's multi_logloss: 1.01922\n",
      "[1000]\tvalid_0's multi_logloss: 1.00369\n"
     ]
    },
    {
     "name": "stderr",
     "output_type": "stream",
     "text": [
      "\u001b[32m[I 2023-02-08 16:06:52,115]\u001b[0m Trial 3 finished with value: 0.5070257384444687 and parameters: {'scale_pos_weight': 2, 'lambda_l1': 4.2821915004393845e-07, 'lambda_l2': 19.11382395037818, 'num_leaves': 42, 'feature_fraction': 0.70841224542913, 'bagging_fraction': 0.508077466531555, 'bagging_freq': 7, 'min_child_samples': 49, 'min_data_in_leaf': 103, 'max_depth': 11}. Best is trial 2 with value: 0.5183678684767494.\u001b[0m\n"
     ]
    },
    {
     "name": "stdout",
     "output_type": "stream",
     "text": [
      "[LightGBM] [Warning] feature_fraction is set=0.6690518542727256, colsample_bytree=1.0 will be ignored. Current value: feature_fraction=0.6690518542727256\n",
      "[LightGBM] [Warning] min_data_in_leaf is set=134, min_child_samples=85 will be ignored. Current value: min_data_in_leaf=134\n",
      "[LightGBM] [Warning] lambda_l1 is set=3.0946593005978178e-12, reg_alpha=0.0 will be ignored. Current value: lambda_l1=3.0946593005978178e-12\n",
      "[LightGBM] [Warning] bagging_fraction is set=0.6200780413092661, subsample=1.0 will be ignored. Current value: bagging_fraction=0.6200780413092661\n",
      "[LightGBM] [Warning] lambda_l2 is set=5.0880989346708505, reg_lambda=0.0 will be ignored. Current value: lambda_l2=5.0880989346708505\n",
      "[LightGBM] [Warning] bagging_freq is set=6, subsample_freq=0 will be ignored. Current value: bagging_freq=6\n",
      "[500]\tvalid_0's multi_logloss: 0.98987\n",
      "[LightGBM] [Warning] feature_fraction is set=0.6690518542727256, colsample_bytree=1.0 will be ignored. Current value: feature_fraction=0.6690518542727256\n",
      "[LightGBM] [Warning] min_data_in_leaf is set=134, min_child_samples=85 will be ignored. Current value: min_data_in_leaf=134\n",
      "[LightGBM] [Warning] lambda_l1 is set=3.0946593005978178e-12, reg_alpha=0.0 will be ignored. Current value: lambda_l1=3.0946593005978178e-12\n",
      "[LightGBM] [Warning] bagging_fraction is set=0.6200780413092661, subsample=1.0 will be ignored. Current value: bagging_fraction=0.6200780413092661\n",
      "[LightGBM] [Warning] lambda_l2 is set=5.0880989346708505, reg_lambda=0.0 will be ignored. Current value: lambda_l2=5.0880989346708505\n",
      "[LightGBM] [Warning] bagging_freq is set=6, subsample_freq=0 will be ignored. Current value: bagging_freq=6\n",
      "[500]\tvalid_0's multi_logloss: 0.998064\n",
      "[LightGBM] [Warning] feature_fraction is set=0.6690518542727256, colsample_bytree=1.0 will be ignored. Current value: feature_fraction=0.6690518542727256\n",
      "[LightGBM] [Warning] min_data_in_leaf is set=134, min_child_samples=85 will be ignored. Current value: min_data_in_leaf=134\n",
      "[LightGBM] [Warning] lambda_l1 is set=3.0946593005978178e-12, reg_alpha=0.0 will be ignored. Current value: lambda_l1=3.0946593005978178e-12\n",
      "[LightGBM] [Warning] bagging_fraction is set=0.6200780413092661, subsample=1.0 will be ignored. Current value: bagging_fraction=0.6200780413092661\n",
      "[LightGBM] [Warning] lambda_l2 is set=5.0880989346708505, reg_lambda=0.0 will be ignored. Current value: lambda_l2=5.0880989346708505\n",
      "[LightGBM] [Warning] bagging_freq is set=6, subsample_freq=0 will be ignored. Current value: bagging_freq=6\n",
      "[500]\tvalid_0's multi_logloss: 0.975386\n",
      "[LightGBM] [Warning] feature_fraction is set=0.6690518542727256, colsample_bytree=1.0 will be ignored. Current value: feature_fraction=0.6690518542727256\n",
      "[LightGBM] [Warning] min_data_in_leaf is set=134, min_child_samples=85 will be ignored. Current value: min_data_in_leaf=134\n",
      "[LightGBM] [Warning] lambda_l1 is set=3.0946593005978178e-12, reg_alpha=0.0 will be ignored. Current value: lambda_l1=3.0946593005978178e-12\n",
      "[LightGBM] [Warning] bagging_fraction is set=0.6200780413092661, subsample=1.0 will be ignored. Current value: bagging_fraction=0.6200780413092661\n",
      "[LightGBM] [Warning] lambda_l2 is set=5.0880989346708505, reg_lambda=0.0 will be ignored. Current value: lambda_l2=5.0880989346708505\n",
      "[LightGBM] [Warning] bagging_freq is set=6, subsample_freq=0 will be ignored. Current value: bagging_freq=6\n",
      "[500]\tvalid_0's multi_logloss: 1.04776\n",
      "[LightGBM] [Warning] feature_fraction is set=0.6690518542727256, colsample_bytree=1.0 will be ignored. Current value: feature_fraction=0.6690518542727256\n",
      "[LightGBM] [Warning] min_data_in_leaf is set=134, min_child_samples=85 will be ignored. Current value: min_data_in_leaf=134\n",
      "[LightGBM] [Warning] lambda_l1 is set=3.0946593005978178e-12, reg_alpha=0.0 will be ignored. Current value: lambda_l1=3.0946593005978178e-12\n",
      "[LightGBM] [Warning] bagging_fraction is set=0.6200780413092661, subsample=1.0 will be ignored. Current value: bagging_fraction=0.6200780413092661\n",
      "[LightGBM] [Warning] lambda_l2 is set=5.0880989346708505, reg_lambda=0.0 will be ignored. Current value: lambda_l2=5.0880989346708505\n",
      "[LightGBM] [Warning] bagging_freq is set=6, subsample_freq=0 will be ignored. Current value: bagging_freq=6\n",
      "[500]\tvalid_0's multi_logloss: 0.989495\n",
      "[LightGBM] [Warning] feature_fraction is set=0.6690518542727256, colsample_bytree=1.0 will be ignored. Current value: feature_fraction=0.6690518542727256\n",
      "[LightGBM] [Warning] min_data_in_leaf is set=134, min_child_samples=85 will be ignored. Current value: min_data_in_leaf=134\n",
      "[LightGBM] [Warning] lambda_l1 is set=3.0946593005978178e-12, reg_alpha=0.0 will be ignored. Current value: lambda_l1=3.0946593005978178e-12\n",
      "[LightGBM] [Warning] bagging_fraction is set=0.6200780413092661, subsample=1.0 will be ignored. Current value: bagging_fraction=0.6200780413092661\n",
      "[LightGBM] [Warning] lambda_l2 is set=5.0880989346708505, reg_lambda=0.0 will be ignored. Current value: lambda_l2=5.0880989346708505\n",
      "[LightGBM] [Warning] bagging_freq is set=6, subsample_freq=0 will be ignored. Current value: bagging_freq=6\n",
      "[500]\tvalid_0's multi_logloss: 1.01036\n",
      "[LightGBM] [Warning] feature_fraction is set=0.6690518542727256, colsample_bytree=1.0 will be ignored. Current value: feature_fraction=0.6690518542727256\n",
      "[LightGBM] [Warning] min_data_in_leaf is set=134, min_child_samples=85 will be ignored. Current value: min_data_in_leaf=134\n",
      "[LightGBM] [Warning] lambda_l1 is set=3.0946593005978178e-12, reg_alpha=0.0 will be ignored. Current value: lambda_l1=3.0946593005978178e-12\n",
      "[LightGBM] [Warning] bagging_fraction is set=0.6200780413092661, subsample=1.0 will be ignored. Current value: bagging_fraction=0.6200780413092661\n",
      "[LightGBM] [Warning] lambda_l2 is set=5.0880989346708505, reg_lambda=0.0 will be ignored. Current value: lambda_l2=5.0880989346708505\n",
      "[LightGBM] [Warning] bagging_freq is set=6, subsample_freq=0 will be ignored. Current value: bagging_freq=6\n",
      "[500]\tvalid_0's multi_logloss: 0.959917\n",
      "[LightGBM] [Warning] feature_fraction is set=0.6690518542727256, colsample_bytree=1.0 will be ignored. Current value: feature_fraction=0.6690518542727256\n",
      "[LightGBM] [Warning] min_data_in_leaf is set=134, min_child_samples=85 will be ignored. Current value: min_data_in_leaf=134\n",
      "[LightGBM] [Warning] lambda_l1 is set=3.0946593005978178e-12, reg_alpha=0.0 will be ignored. Current value: lambda_l1=3.0946593005978178e-12\n",
      "[LightGBM] [Warning] bagging_fraction is set=0.6200780413092661, subsample=1.0 will be ignored. Current value: bagging_fraction=0.6200780413092661\n",
      "[LightGBM] [Warning] lambda_l2 is set=5.0880989346708505, reg_lambda=0.0 will be ignored. Current value: lambda_l2=5.0880989346708505\n",
      "[LightGBM] [Warning] bagging_freq is set=6, subsample_freq=0 will be ignored. Current value: bagging_freq=6\n",
      "[500]\tvalid_0's multi_logloss: 0.991822\n",
      "[1000]\tvalid_0's multi_logloss: 0.980186\n",
      "[LightGBM] [Warning] feature_fraction is set=0.6690518542727256, colsample_bytree=1.0 will be ignored. Current value: feature_fraction=0.6690518542727256\n",
      "[LightGBM] [Warning] min_data_in_leaf is set=134, min_child_samples=85 will be ignored. Current value: min_data_in_leaf=134\n",
      "[LightGBM] [Warning] lambda_l1 is set=3.0946593005978178e-12, reg_alpha=0.0 will be ignored. Current value: lambda_l1=3.0946593005978178e-12\n",
      "[LightGBM] [Warning] bagging_fraction is set=0.6200780413092661, subsample=1.0 will be ignored. Current value: bagging_fraction=0.6200780413092661\n",
      "[LightGBM] [Warning] lambda_l2 is set=5.0880989346708505, reg_lambda=0.0 will be ignored. Current value: lambda_l2=5.0880989346708505\n",
      "[LightGBM] [Warning] bagging_freq is set=6, subsample_freq=0 will be ignored. Current value: bagging_freq=6\n",
      "[500]\tvalid_0's multi_logloss: 1.00795\n",
      "[LightGBM] [Warning] feature_fraction is set=0.6690518542727256, colsample_bytree=1.0 will be ignored. Current value: feature_fraction=0.6690518542727256\n",
      "[LightGBM] [Warning] min_data_in_leaf is set=134, min_child_samples=85 will be ignored. Current value: min_data_in_leaf=134\n",
      "[LightGBM] [Warning] lambda_l1 is set=3.0946593005978178e-12, reg_alpha=0.0 will be ignored. Current value: lambda_l1=3.0946593005978178e-12\n",
      "[LightGBM] [Warning] bagging_fraction is set=0.6200780413092661, subsample=1.0 will be ignored. Current value: bagging_fraction=0.6200780413092661\n",
      "[LightGBM] [Warning] lambda_l2 is set=5.0880989346708505, reg_lambda=0.0 will be ignored. Current value: lambda_l2=5.0880989346708505\n",
      "[LightGBM] [Warning] bagging_freq is set=6, subsample_freq=0 will be ignored. Current value: bagging_freq=6\n"
     ]
    },
    {
     "name": "stdout",
     "output_type": "stream",
     "text": [
      "[500]\tvalid_0's multi_logloss: 1.01152\n"
     ]
    },
    {
     "name": "stderr",
     "output_type": "stream",
     "text": [
      "\u001b[32m[I 2023-02-08 16:07:05,712]\u001b[0m Trial 4 finished with value: 0.5110227462699144 and parameters: {'scale_pos_weight': 3, 'lambda_l1': 3.0946593005978178e-12, 'lambda_l2': 5.0880989346708505, 'num_leaves': 44, 'feature_fraction': 0.6690518542727256, 'bagging_fraction': 0.6200780413092661, 'bagging_freq': 6, 'min_child_samples': 85, 'min_data_in_leaf': 134, 'max_depth': 8}. Best is trial 2 with value: 0.5183678684767494.\u001b[0m\n"
     ]
    }
   ],
   "source": [
    "study = optuna.create_study(direction='maximize', sampler = TPESampler())\n",
    "study.optimize(func=lgb_objective, n_trials=5)"
   ]
  },
  {
   "cell_type": "code",
   "execution_count": 20,
   "id": "450d1f09",
   "metadata": {},
   "outputs": [
    {
     "name": "stderr",
     "output_type": "stream",
     "text": [
      "1it [00:00,  8.97it/s]"
     ]
    },
    {
     "name": "stdout",
     "output_type": "stream",
     "text": [
      "[LightGBM] [Warning] feature_fraction is set=0.7986639872431636, colsample_bytree=1.0 will be ignored. Current value: feature_fraction=0.7986639872431636\n",
      "[LightGBM] [Warning] min_data_in_leaf is set=147, min_child_samples=87 will be ignored. Current value: min_data_in_leaf=147\n",
      "[LightGBM] [Warning] lambda_l1 is set=2.709347871768407e-10, reg_alpha=0.0 will be ignored. Current value: lambda_l1=2.709347871768407e-10\n",
      "[LightGBM] [Warning] bagging_fraction is set=0.507972238737994, subsample=1.0 will be ignored. Current value: bagging_fraction=0.507972238737994\n",
      "[LightGBM] [Warning] lambda_l2 is set=22.427759531748354, reg_lambda=0.0 will be ignored. Current value: lambda_l2=22.427759531748354\n",
      "[LightGBM] [Warning] bagging_freq is set=8, subsample_freq=0 will be ignored. Current value: bagging_freq=8\n",
      "score on fold 0: 0.4913\n",
      "[LightGBM] [Warning] feature_fraction is set=0.7986639872431636, colsample_bytree=1.0 will be ignored. Current value: feature_fraction=0.7986639872431636\n",
      "[LightGBM] [Warning] min_data_in_leaf is set=147, min_child_samples=87 will be ignored. Current value: min_data_in_leaf=147\n",
      "[LightGBM] [Warning] lambda_l1 is set=2.709347871768407e-10, reg_alpha=0.0 will be ignored. Current value: lambda_l1=2.709347871768407e-10\n",
      "[LightGBM] [Warning] bagging_fraction is set=0.507972238737994, subsample=1.0 will be ignored. Current value: bagging_fraction=0.507972238737994\n",
      "[LightGBM] [Warning] lambda_l2 is set=22.427759531748354, reg_lambda=0.0 will be ignored. Current value: lambda_l2=22.427759531748354\n",
      "[LightGBM] [Warning] bagging_freq is set=8, subsample_freq=0 will be ignored. Current value: bagging_freq=8\n"
     ]
    },
    {
     "name": "stderr",
     "output_type": "stream",
     "text": [
      "3it [00:00,  7.17it/s]"
     ]
    },
    {
     "name": "stdout",
     "output_type": "stream",
     "text": [
      "score on fold 1: 0.4329\n",
      "[LightGBM] [Warning] feature_fraction is set=0.7986639872431636, colsample_bytree=1.0 will be ignored. Current value: feature_fraction=0.7986639872431636\n",
      "[LightGBM] [Warning] min_data_in_leaf is set=147, min_child_samples=87 will be ignored. Current value: min_data_in_leaf=147\n",
      "[LightGBM] [Warning] lambda_l1 is set=2.709347871768407e-10, reg_alpha=0.0 will be ignored. Current value: lambda_l1=2.709347871768407e-10\n",
      "[LightGBM] [Warning] bagging_fraction is set=0.507972238737994, subsample=1.0 will be ignored. Current value: bagging_fraction=0.507972238737994\n",
      "[LightGBM] [Warning] lambda_l2 is set=22.427759531748354, reg_lambda=0.0 will be ignored. Current value: lambda_l2=22.427759531748354\n",
      "[LightGBM] [Warning] bagging_freq is set=8, subsample_freq=0 will be ignored. Current value: bagging_freq=8\n",
      "score on fold 2: 0.5218\n",
      "[LightGBM] [Warning] feature_fraction is set=0.7986639872431636, colsample_bytree=1.0 will be ignored. Current value: feature_fraction=0.7986639872431636\n",
      "[LightGBM] [Warning] min_data_in_leaf is set=147, min_child_samples=87 will be ignored. Current value: min_data_in_leaf=147\n",
      "[LightGBM] [Warning] lambda_l1 is set=2.709347871768407e-10, reg_alpha=0.0 will be ignored. Current value: lambda_l1=2.709347871768407e-10\n",
      "[LightGBM] [Warning] bagging_fraction is set=0.507972238737994, subsample=1.0 will be ignored. Current value: bagging_fraction=0.507972238737994\n",
      "[LightGBM] [Warning] lambda_l2 is set=22.427759531748354, reg_lambda=0.0 will be ignored. Current value: lambda_l2=22.427759531748354\n",
      "[LightGBM] [Warning] bagging_freq is set=8, subsample_freq=0 will be ignored. Current value: bagging_freq=8\n"
     ]
    },
    {
     "name": "stderr",
     "output_type": "stream",
     "text": [
      "5it [00:00,  8.02it/s]"
     ]
    },
    {
     "name": "stdout",
     "output_type": "stream",
     "text": [
      "score on fold 3: 0.5850\n",
      "[LightGBM] [Warning] feature_fraction is set=0.7986639872431636, colsample_bytree=1.0 will be ignored. Current value: feature_fraction=0.7986639872431636\n",
      "[LightGBM] [Warning] min_data_in_leaf is set=147, min_child_samples=87 will be ignored. Current value: min_data_in_leaf=147\n",
      "[LightGBM] [Warning] lambda_l1 is set=2.709347871768407e-10, reg_alpha=0.0 will be ignored. Current value: lambda_l1=2.709347871768407e-10\n",
      "[LightGBM] [Warning] bagging_fraction is set=0.507972238737994, subsample=1.0 will be ignored. Current value: bagging_fraction=0.507972238737994\n",
      "[LightGBM] [Warning] lambda_l2 is set=22.427759531748354, reg_lambda=0.0 will be ignored. Current value: lambda_l2=22.427759531748354\n",
      "[LightGBM] [Warning] bagging_freq is set=8, subsample_freq=0 will be ignored. Current value: bagging_freq=8\n",
      "score on fold 4: 0.4993\n",
      "[LightGBM] [Warning] feature_fraction is set=0.7986639872431636, colsample_bytree=1.0 will be ignored. Current value: feature_fraction=0.7986639872431636\n",
      "[LightGBM] [Warning] min_data_in_leaf is set=147, min_child_samples=87 will be ignored. Current value: min_data_in_leaf=147\n",
      "[LightGBM] [Warning] lambda_l1 is set=2.709347871768407e-10, reg_alpha=0.0 will be ignored. Current value: lambda_l1=2.709347871768407e-10\n",
      "[LightGBM] [Warning] bagging_fraction is set=0.507972238737994, subsample=1.0 will be ignored. Current value: bagging_fraction=0.507972238737994\n",
      "[LightGBM] [Warning] lambda_l2 is set=22.427759531748354, reg_lambda=0.0 will be ignored. Current value: lambda_l2=22.427759531748354\n",
      "[LightGBM] [Warning] bagging_freq is set=8, subsample_freq=0 will be ignored. Current value: bagging_freq=8\n"
     ]
    },
    {
     "name": "stderr",
     "output_type": "stream",
     "text": [
      "7it [00:00,  7.81it/s]"
     ]
    },
    {
     "name": "stdout",
     "output_type": "stream",
     "text": [
      "score on fold 5: 0.5351\n",
      "[LightGBM] [Warning] feature_fraction is set=0.7986639872431636, colsample_bytree=1.0 will be ignored. Current value: feature_fraction=0.7986639872431636\n",
      "[LightGBM] [Warning] min_data_in_leaf is set=147, min_child_samples=87 will be ignored. Current value: min_data_in_leaf=147\n",
      "[LightGBM] [Warning] lambda_l1 is set=2.709347871768407e-10, reg_alpha=0.0 will be ignored. Current value: lambda_l1=2.709347871768407e-10\n",
      "[LightGBM] [Warning] bagging_fraction is set=0.507972238737994, subsample=1.0 will be ignored. Current value: bagging_fraction=0.507972238737994\n",
      "[LightGBM] [Warning] lambda_l2 is set=22.427759531748354, reg_lambda=0.0 will be ignored. Current value: lambda_l2=22.427759531748354\n",
      "[LightGBM] [Warning] bagging_freq is set=8, subsample_freq=0 will be ignored. Current value: bagging_freq=8\n",
      "score on fold 6: 0.5476\n",
      "[LightGBM] [Warning] feature_fraction is set=0.7986639872431636, colsample_bytree=1.0 will be ignored. Current value: feature_fraction=0.7986639872431636\n",
      "[LightGBM] [Warning] min_data_in_leaf is set=147, min_child_samples=87 will be ignored. Current value: min_data_in_leaf=147\n",
      "[LightGBM] [Warning] lambda_l1 is set=2.709347871768407e-10, reg_alpha=0.0 will be ignored. Current value: lambda_l1=2.709347871768407e-10\n",
      "[LightGBM] [Warning] bagging_fraction is set=0.507972238737994, subsample=1.0 will be ignored. Current value: bagging_fraction=0.507972238737994\n",
      "[LightGBM] [Warning] lambda_l2 is set=22.427759531748354, reg_lambda=0.0 will be ignored. Current value: lambda_l2=22.427759531748354\n",
      "[LightGBM] [Warning] bagging_freq is set=8, subsample_freq=0 will be ignored. Current value: bagging_freq=8\n"
     ]
    },
    {
     "name": "stderr",
     "output_type": "stream",
     "text": [
      "9it [00:01,  7.42it/s]"
     ]
    },
    {
     "name": "stdout",
     "output_type": "stream",
     "text": [
      "score on fold 7: 0.3931\n",
      "[LightGBM] [Warning] feature_fraction is set=0.7986639872431636, colsample_bytree=1.0 will be ignored. Current value: feature_fraction=0.7986639872431636\n",
      "[LightGBM] [Warning] min_data_in_leaf is set=147, min_child_samples=87 will be ignored. Current value: min_data_in_leaf=147\n",
      "[LightGBM] [Warning] lambda_l1 is set=2.709347871768407e-10, reg_alpha=0.0 will be ignored. Current value: lambda_l1=2.709347871768407e-10\n",
      "[LightGBM] [Warning] bagging_fraction is set=0.507972238737994, subsample=1.0 will be ignored. Current value: bagging_fraction=0.507972238737994\n",
      "[LightGBM] [Warning] lambda_l2 is set=22.427759531748354, reg_lambda=0.0 will be ignored. Current value: lambda_l2=22.427759531748354\n",
      "[LightGBM] [Warning] bagging_freq is set=8, subsample_freq=0 will be ignored. Current value: bagging_freq=8\n",
      "score on fold 8: 0.4867\n",
      "[LightGBM] [Warning] feature_fraction is set=0.7986639872431636, colsample_bytree=1.0 will be ignored. Current value: feature_fraction=0.7986639872431636\n",
      "[LightGBM] [Warning] min_data_in_leaf is set=147, min_child_samples=87 will be ignored. Current value: min_data_in_leaf=147\n",
      "[LightGBM] [Warning] lambda_l1 is set=2.709347871768407e-10, reg_alpha=0.0 will be ignored. Current value: lambda_l1=2.709347871768407e-10\n",
      "[LightGBM] [Warning] bagging_fraction is set=0.507972238737994, subsample=1.0 will be ignored. Current value: bagging_fraction=0.507972238737994\n",
      "[LightGBM] [Warning] lambda_l2 is set=22.427759531748354, reg_lambda=0.0 will be ignored. Current value: lambda_l2=22.427759531748354\n",
      "[LightGBM] [Warning] bagging_freq is set=8, subsample_freq=0 will be ignored. Current value: bagging_freq=8\n"
     ]
    },
    {
     "name": "stderr",
     "output_type": "stream",
     "text": [
      "10it [00:01,  7.62it/s]"
     ]
    },
    {
     "name": "stdout",
     "output_type": "stream",
     "text": [
      "score on fold 9: 0.5765\n",
      "mean score across all folds: 0.5069\n"
     ]
    },
    {
     "name": "stderr",
     "output_type": "stream",
     "text": [
      "\n"
     ]
    }
   ],
   "source": [
    "kf = StratifiedKFold(n_splits = 10, random_state = 1, shuffle = True)\n",
    "val_scores = []\n",
    "\n",
    "params = {'scale_pos_weight': 2,\n",
    " #'lambda_l2': 14.705798704172345,\n",
    " 'num_leaves': 10,\n",
    " 'learning_rate': 0.005,\n",
    " #'feature_fraction': 0.8402041342033796,\n",
    " #'bagging_fraction': 0.5053012488246705,\n",
    " 'bagging_freq': 5,\n",
    " 'min_child_samples': 10,\n",
    " 'min_data_in_leaf': 10,\n",
    " 'max_depth': 10,\n",
    " 'random_state' : 41}\n",
    "params = study.best_params\n",
    "\n",
    "for i, (train_index, val_index) in tqdm(enumerate(kf.split(train, train[target]))):\n",
    "    \n",
    "    X_train, X_val = train[features].loc[train_index], train[features].loc[val_index]\n",
    "    y_train, y_val = train[target][train_index], train[target][val_index]\n",
    "    \n",
    "#     if include_orig:\n",
    "#         X_train = X_train.append(original[features], ignore_index = True)\n",
    "#         y_train = y_train.append(original[target], ignore_index = True)\n",
    "    \n",
    "    model = LGBMClassifier(**params)\n",
    "    \n",
    "    model.fit(X_train, y_train)\n",
    "    \n",
    "    models.append(model)\n",
    "    # pred = model.predict_proba(X_val)[:,1]\n",
    "    # score = accuracy_score(y_val, model.predict(X_val))\n",
    "    score = cohen_kappa_score(y_val, model.predict(X_val), weights = 'quadratic')\n",
    "\n",
    "    val_scores.append(score)\n",
    "    \n",
    "    print(f'score on fold {i}: {score:.4f}')\n",
    "    \n",
    "print(f'mean score across all folds: {np.mean(val_scores):.4f}')"
   ]
  },
  {
   "cell_type": "code",
   "execution_count": 21,
   "id": "8d1b6aeb",
   "metadata": {},
   "outputs": [
    {
     "data": {
      "text/plain": [
       "0.5069258752220247"
      ]
     },
     "execution_count": 21,
     "metadata": {},
     "output_type": "execute_result"
    }
   ],
   "source": [
    "sum(val_scores)/len(val_scores)"
   ]
  },
  {
   "cell_type": "code",
   "execution_count": 22,
   "id": "882c1046",
   "metadata": {},
   "outputs": [
    {
     "data": {
      "text/plain": [
       "[<catboost.core.CatBoostClassifier at 0x1bd8b189ee0>,\n",
       " <catboost.core.CatBoostClassifier at 0x1bd8b19d3a0>,\n",
       " <catboost.core.CatBoostClassifier at 0x1bd8b189f70>,\n",
       " <catboost.core.CatBoostClassifier at 0x1bd8b189c40>,\n",
       " <catboost.core.CatBoostClassifier at 0x1bd8b189fd0>,\n",
       " <catboost.core.CatBoostClassifier at 0x1bd8b189e80>,\n",
       " <catboost.core.CatBoostClassifier at 0x1bd8b189eb0>,\n",
       " <catboost.core.CatBoostClassifier at 0x1bd8b189f10>,\n",
       " <catboost.core.CatBoostClassifier at 0x1bd8b189f40>,\n",
       " <catboost.core.CatBoostClassifier at 0x1bd8b19dca0>,\n",
       " XGBClassifier(base_score=0.5, booster='gbtree', colsample_bylevel=1,\n",
       "               colsample_bynode=1, colsample_bytree=0.95,\n",
       "               enable_categorical=False, eval_metric='auc', gamma=1.5, gpu_id=-1,\n",
       "               importance_type=None, interaction_constraints='',\n",
       "               learning_rate=0.05, max_bin=512, max_delta_step=0, max_depth=7,\n",
       "               min_child_weight=96, missing=nan, monotone_constraints='()',\n",
       "               n_estimators=3000, n_jobs=12, num_parallel_tree=1,\n",
       "               objective='multi:softprob', predictor='auto', random_state=41,\n",
       "               reg_alpha=1.5, reg_lambda=1.5, scale_pos_weight=None,\n",
       "               subsample=0.95, tree_method='hist', validate_parameters=1, ...),\n",
       " XGBClassifier(base_score=0.5, booster='gbtree', colsample_bylevel=1,\n",
       "               colsample_bynode=1, colsample_bytree=0.95,\n",
       "               enable_categorical=False, eval_metric='auc', gamma=1.5, gpu_id=-1,\n",
       "               importance_type=None, interaction_constraints='',\n",
       "               learning_rate=0.05, max_bin=512, max_delta_step=0, max_depth=7,\n",
       "               min_child_weight=96, missing=nan, monotone_constraints='()',\n",
       "               n_estimators=3000, n_jobs=12, num_parallel_tree=1,\n",
       "               objective='multi:softprob', predictor='auto', random_state=41,\n",
       "               reg_alpha=1.5, reg_lambda=1.5, scale_pos_weight=None,\n",
       "               subsample=0.95, tree_method='hist', validate_parameters=1, ...),\n",
       " XGBClassifier(base_score=0.5, booster='gbtree', colsample_bylevel=1,\n",
       "               colsample_bynode=1, colsample_bytree=0.95,\n",
       "               enable_categorical=False, eval_metric='auc', gamma=1.5, gpu_id=-1,\n",
       "               importance_type=None, interaction_constraints='',\n",
       "               learning_rate=0.05, max_bin=512, max_delta_step=0, max_depth=7,\n",
       "               min_child_weight=96, missing=nan, monotone_constraints='()',\n",
       "               n_estimators=3000, n_jobs=12, num_parallel_tree=1,\n",
       "               objective='multi:softprob', predictor='auto', random_state=41,\n",
       "               reg_alpha=1.5, reg_lambda=1.5, scale_pos_weight=None,\n",
       "               subsample=0.95, tree_method='hist', validate_parameters=1, ...),\n",
       " XGBClassifier(base_score=0.5, booster='gbtree', colsample_bylevel=1,\n",
       "               colsample_bynode=1, colsample_bytree=0.95,\n",
       "               enable_categorical=False, eval_metric='auc', gamma=1.5, gpu_id=-1,\n",
       "               importance_type=None, interaction_constraints='',\n",
       "               learning_rate=0.05, max_bin=512, max_delta_step=0, max_depth=7,\n",
       "               min_child_weight=96, missing=nan, monotone_constraints='()',\n",
       "               n_estimators=3000, n_jobs=12, num_parallel_tree=1,\n",
       "               objective='multi:softprob', predictor='auto', random_state=41,\n",
       "               reg_alpha=1.5, reg_lambda=1.5, scale_pos_weight=None,\n",
       "               subsample=0.95, tree_method='hist', validate_parameters=1, ...),\n",
       " XGBClassifier(base_score=0.5, booster='gbtree', colsample_bylevel=1,\n",
       "               colsample_bynode=1, colsample_bytree=0.95,\n",
       "               enable_categorical=False, eval_metric='auc', gamma=1.5, gpu_id=-1,\n",
       "               importance_type=None, interaction_constraints='',\n",
       "               learning_rate=0.05, max_bin=512, max_delta_step=0, max_depth=7,\n",
       "               min_child_weight=96, missing=nan, monotone_constraints='()',\n",
       "               n_estimators=3000, n_jobs=12, num_parallel_tree=1,\n",
       "               objective='multi:softprob', predictor='auto', random_state=41,\n",
       "               reg_alpha=1.5, reg_lambda=1.5, scale_pos_weight=None,\n",
       "               subsample=0.95, tree_method='hist', validate_parameters=1, ...),\n",
       " XGBClassifier(base_score=0.5, booster='gbtree', colsample_bylevel=1,\n",
       "               colsample_bynode=1, colsample_bytree=0.95,\n",
       "               enable_categorical=False, eval_metric='auc', gamma=1.5, gpu_id=-1,\n",
       "               importance_type=None, interaction_constraints='',\n",
       "               learning_rate=0.05, max_bin=512, max_delta_step=0, max_depth=7,\n",
       "               min_child_weight=96, missing=nan, monotone_constraints='()',\n",
       "               n_estimators=3000, n_jobs=12, num_parallel_tree=1,\n",
       "               objective='multi:softprob', predictor='auto', random_state=41,\n",
       "               reg_alpha=1.5, reg_lambda=1.5, scale_pos_weight=None,\n",
       "               subsample=0.95, tree_method='hist', validate_parameters=1, ...),\n",
       " XGBClassifier(base_score=0.5, booster='gbtree', colsample_bylevel=1,\n",
       "               colsample_bynode=1, colsample_bytree=0.95,\n",
       "               enable_categorical=False, eval_metric='auc', gamma=1.5, gpu_id=-1,\n",
       "               importance_type=None, interaction_constraints='',\n",
       "               learning_rate=0.05, max_bin=512, max_delta_step=0, max_depth=7,\n",
       "               min_child_weight=96, missing=nan, monotone_constraints='()',\n",
       "               n_estimators=3000, n_jobs=12, num_parallel_tree=1,\n",
       "               objective='multi:softprob', predictor='auto', random_state=41,\n",
       "               reg_alpha=1.5, reg_lambda=1.5, scale_pos_weight=None,\n",
       "               subsample=0.95, tree_method='hist', validate_parameters=1, ...),\n",
       " XGBClassifier(base_score=0.5, booster='gbtree', colsample_bylevel=1,\n",
       "               colsample_bynode=1, colsample_bytree=0.95,\n",
       "               enable_categorical=False, eval_metric='auc', gamma=1.5, gpu_id=-1,\n",
       "               importance_type=None, interaction_constraints='',\n",
       "               learning_rate=0.05, max_bin=512, max_delta_step=0, max_depth=7,\n",
       "               min_child_weight=96, missing=nan, monotone_constraints='()',\n",
       "               n_estimators=3000, n_jobs=12, num_parallel_tree=1,\n",
       "               objective='multi:softprob', predictor='auto', random_state=41,\n",
       "               reg_alpha=1.5, reg_lambda=1.5, scale_pos_weight=None,\n",
       "               subsample=0.95, tree_method='hist', validate_parameters=1, ...),\n",
       " XGBClassifier(base_score=0.5, booster='gbtree', colsample_bylevel=1,\n",
       "               colsample_bynode=1, colsample_bytree=0.95,\n",
       "               enable_categorical=False, eval_metric='auc', gamma=1.5, gpu_id=-1,\n",
       "               importance_type=None, interaction_constraints='',\n",
       "               learning_rate=0.05, max_bin=512, max_delta_step=0, max_depth=7,\n",
       "               min_child_weight=96, missing=nan, monotone_constraints='()',\n",
       "               n_estimators=3000, n_jobs=12, num_parallel_tree=1,\n",
       "               objective='multi:softprob', predictor='auto', random_state=41,\n",
       "               reg_alpha=1.5, reg_lambda=1.5, scale_pos_weight=None,\n",
       "               subsample=0.95, tree_method='hist', validate_parameters=1, ...),\n",
       " XGBClassifier(base_score=0.5, booster='gbtree', colsample_bylevel=1,\n",
       "               colsample_bynode=1, colsample_bytree=0.95,\n",
       "               enable_categorical=False, eval_metric='auc', gamma=1.5, gpu_id=-1,\n",
       "               importance_type=None, interaction_constraints='',\n",
       "               learning_rate=0.05, max_bin=512, max_delta_step=0, max_depth=7,\n",
       "               min_child_weight=96, missing=nan, monotone_constraints='()',\n",
       "               n_estimators=3000, n_jobs=12, num_parallel_tree=1,\n",
       "               objective='multi:softprob', predictor='auto', random_state=41,\n",
       "               reg_alpha=1.5, reg_lambda=1.5, scale_pos_weight=None,\n",
       "               subsample=0.95, tree_method='hist', validate_parameters=1, ...),\n",
       " LGBMClassifier(bagging_fraction=0.507972238737994, bagging_freq=8,\n",
       "                feature_fraction=0.7986639872431636,\n",
       "                lambda_l1=2.709347871768407e-10, lambda_l2=22.427759531748354,\n",
       "                max_depth=6, min_child_samples=87, min_data_in_leaf=147,\n",
       "                num_leaves=49, scale_pos_weight=3),\n",
       " LGBMClassifier(bagging_fraction=0.507972238737994, bagging_freq=8,\n",
       "                feature_fraction=0.7986639872431636,\n",
       "                lambda_l1=2.709347871768407e-10, lambda_l2=22.427759531748354,\n",
       "                max_depth=6, min_child_samples=87, min_data_in_leaf=147,\n",
       "                num_leaves=49, scale_pos_weight=3),\n",
       " LGBMClassifier(bagging_fraction=0.507972238737994, bagging_freq=8,\n",
       "                feature_fraction=0.7986639872431636,\n",
       "                lambda_l1=2.709347871768407e-10, lambda_l2=22.427759531748354,\n",
       "                max_depth=6, min_child_samples=87, min_data_in_leaf=147,\n",
       "                num_leaves=49, scale_pos_weight=3),\n",
       " LGBMClassifier(bagging_fraction=0.507972238737994, bagging_freq=8,\n",
       "                feature_fraction=0.7986639872431636,\n",
       "                lambda_l1=2.709347871768407e-10, lambda_l2=22.427759531748354,\n",
       "                max_depth=6, min_child_samples=87, min_data_in_leaf=147,\n",
       "                num_leaves=49, scale_pos_weight=3),\n",
       " LGBMClassifier(bagging_fraction=0.507972238737994, bagging_freq=8,\n",
       "                feature_fraction=0.7986639872431636,\n",
       "                lambda_l1=2.709347871768407e-10, lambda_l2=22.427759531748354,\n",
       "                max_depth=6, min_child_samples=87, min_data_in_leaf=147,\n",
       "                num_leaves=49, scale_pos_weight=3),\n",
       " LGBMClassifier(bagging_fraction=0.507972238737994, bagging_freq=8,\n",
       "                feature_fraction=0.7986639872431636,\n",
       "                lambda_l1=2.709347871768407e-10, lambda_l2=22.427759531748354,\n",
       "                max_depth=6, min_child_samples=87, min_data_in_leaf=147,\n",
       "                num_leaves=49, scale_pos_weight=3),\n",
       " LGBMClassifier(bagging_fraction=0.507972238737994, bagging_freq=8,\n",
       "                feature_fraction=0.7986639872431636,\n",
       "                lambda_l1=2.709347871768407e-10, lambda_l2=22.427759531748354,\n",
       "                max_depth=6, min_child_samples=87, min_data_in_leaf=147,\n",
       "                num_leaves=49, scale_pos_weight=3),\n",
       " LGBMClassifier(bagging_fraction=0.507972238737994, bagging_freq=8,\n",
       "                feature_fraction=0.7986639872431636,\n",
       "                lambda_l1=2.709347871768407e-10, lambda_l2=22.427759531748354,\n",
       "                max_depth=6, min_child_samples=87, min_data_in_leaf=147,\n",
       "                num_leaves=49, scale_pos_weight=3),\n",
       " LGBMClassifier(bagging_fraction=0.507972238737994, bagging_freq=8,\n",
       "                feature_fraction=0.7986639872431636,\n",
       "                lambda_l1=2.709347871768407e-10, lambda_l2=22.427759531748354,\n",
       "                max_depth=6, min_child_samples=87, min_data_in_leaf=147,\n",
       "                num_leaves=49, scale_pos_weight=3),\n",
       " LGBMClassifier(bagging_fraction=0.507972238737994, bagging_freq=8,\n",
       "                feature_fraction=0.7986639872431636,\n",
       "                lambda_l1=2.709347871768407e-10, lambda_l2=22.427759531748354,\n",
       "                max_depth=6, min_child_samples=87, min_data_in_leaf=147,\n",
       "                num_leaves=49, scale_pos_weight=3)]"
      ]
     },
     "execution_count": 22,
     "metadata": {},
     "output_type": "execute_result"
    }
   ],
   "source": [
    "models"
   ]
  },
  {
   "cell_type": "code",
   "execution_count": 23,
   "id": "d998bd28",
   "metadata": {},
   "outputs": [
    {
     "data": {
      "image/png": "[encoded data removed]",
      "text/plain": [
       "<Figure size 500x600 with 1 Axes>"
      ]
     },
     "metadata": {},
     "output_type": "display_data"
    }
   ],
   "source": [
    "plt.figure(figsize = (5, 6))\n",
    "cat_imp = np.zeros(len(models[0].feature_importances_))\n",
    "for model in models[:10]:\n",
    "    cat_imp += model.feature_importances_\n",
    "    \n",
    "plt.barh([features[i] for i in np.argsort(cat_imp)], sorted(cat_imp), \n",
    "         color = \"orange\", edgecolor = \"#000000\")\n",
    "\n",
    "plt.title(\"CatBoost\")\n",
    "plt.show()"
   ]
  },
  {
   "cell_type": "code",
   "execution_count": 24,
   "id": "36303850",
   "metadata": {},
   "outputs": [
    {
     "data": {
      "image/png": "[encoded data removed]",
      "text/plain": [
       "<Figure size 500x600 with 1 Axes>"
      ]
     },
     "metadata": {},
     "output_type": "display_data"
    }
   ],
   "source": [
    "plt.figure(figsize = (5, 6))\n",
    "xgb_imp = np.zeros(len(models[10].feature_importances_))\n",
    "for model in models[10:20]:\n",
    "    xgb_imp += model.feature_importances_\n",
    "    \n",
    "plt.barh([features[i] for i in np.argsort(xgb_imp)], sorted(xgb_imp), \n",
    "         color = \"purple\", edgecolor = \"#000000\")\n",
    "\n",
    "plt.title(\"XGBoost\")\n",
    "plt.show()"
   ]
  },
  {
   "cell_type": "code",
   "execution_count": 25,
   "id": "ab810100",
   "metadata": {},
   "outputs": [
    {
     "data": {
      "image/png": "[encoded data removed]",
      "text/plain": [
       "<Figure size 500x600 with 1 Axes>"
      ]
     },
     "metadata": {},
     "output_type": "display_data"
    }
   ],
   "source": [
    "plt.figure(figsize = (5, 6))\n",
    "lgbm_imp = np.zeros(len(features))\n",
    "for model in models[20:]:\n",
    "    lgbm_imp += model.feature_importances_\n",
    "    \n",
    "plt.barh([features[i] for i in np.argsort(lgbm_imp)], sorted(lgbm_imp), \n",
    "         color = \"blue\", edgecolor = \"#000000\")\n",
    "\n",
    "plt.title(\"LGBM\")\n",
    "plt.show()"
   ]
  },
  {
   "cell_type": "code",
   "execution_count": 26,
   "id": "ef8a9356",
   "metadata": {},
   "outputs": [],
   "source": [
    "cat_preds = []\n",
    "xgb_preds = []\n",
    "lgbm_preds = []\n",
    "\n",
    "for model in models[:5]:\n",
    "    preds = model.predict_proba(test[features])[:,1]\n",
    "    cat_preds.append(preds)\n",
    "    \n",
    "for model in models[5:10]:\n",
    "    preds = model.predict_proba(test[features])[:,1]\n",
    "    xgb_preds.append(preds)\n",
    "    \n",
    "for model in models[10:]:\n",
    "    preds = model.predict_proba(test[features])[:,1]\n",
    "    lgbm_preds.append(preds)"
   ]
  },
  {
   "cell_type": "code",
   "execution_count": 27,
   "id": "827361f3",
   "metadata": {},
   "outputs": [],
   "source": [
    "cat_preds = np.stack(cat_preds).mean(0)\n",
    "xgb_preds = np.stack(xgb_preds).mean(0)\n",
    "lgbm_preds = np.stack(lgbm_preds).mean(0)"
   ]
  },
  {
   "cell_type": "code",
   "execution_count": 28,
   "id": "66ec83a8",
   "metadata": {},
   "outputs": [
    {
     "name": "stdout",
     "output_type": "stream",
     "text": [
      "Cat Correlation with XGB:\n"
     ]
    },
    {
     "data": {
      "text/plain": [
       "0.988278675001155"
      ]
     },
     "metadata": {},
     "output_type": "display_data"
    },
    {
     "name": "stdout",
     "output_type": "stream",
     "text": [
      "Cat Correlation with LGBM:\n"
     ]
    },
    {
     "data": {
      "text/plain": [
       "0.8419734668614262"
      ]
     },
     "metadata": {},
     "output_type": "display_data"
    },
    {
     "name": "stdout",
     "output_type": "stream",
     "text": [
      "XGB Correlation with LGBM:\n"
     ]
    },
    {
     "data": {
      "text/plain": [
       "0.8229890706952471"
      ]
     },
     "metadata": {},
     "output_type": "display_data"
    }
   ],
   "source": [
    "cat_df = pd.DataFrame(data = {'id': test.Id, 'Class': cat_preds})\n",
    "xgb_df = pd.DataFrame(data = {'id': test.Id, 'Class': xgb_preds})\n",
    "lgbm_df = pd.DataFrame(data = {'id': test.Id, 'Class': lgbm_preds})\n",
    "\n",
    "print(\"Cat Correlation with XGB:\")\n",
    "display(cat_df.Class.corr(xgb_df.Class))\n",
    "print(\"Cat Correlation with LGBM:\")\n",
    "display(cat_df.Class.corr(lgbm_df.Class))\n",
    "print(\"XGB Correlation with LGBM:\")\n",
    "display(xgb_df.Class.corr(lgbm_df.Class))"
   ]
  },
  {
   "cell_type": "markdown",
   "id": "59440b0b",
   "metadata": {},
   "source": [
    "# Enssemble"
   ]
  },
  {
   "cell_type": "code",
   "execution_count": 29,
   "id": "925e3a4f",
   "metadata": {},
   "outputs": [],
   "source": [
    "pred_target = [md.predict_proba(test.loc[:,features]) for md in models]"
   ]
  },
  {
   "cell_type": "code",
   "execution_count": 30,
   "id": "ca0fcfd6",
   "metadata": {},
   "outputs": [],
   "source": [
    "dp = np.zeros(pred_target[0].shape)\n",
    "row,col = pred_target[0].shape\n",
    "\n",
    "for pr in range(len(pred_target)):\n",
    "    for i in range(row):\n",
    "        for j in range(col):\n",
    "            if pr > 10:\n",
    "                dp[i][j] += 0.34*pred_target[pr][i][j]\n",
    "            else:\n",
    "                dp[i][j] += 0.33*pred_target[pr][i][j]\n"
   ]
  },
  {
   "cell_type": "code",
   "execution_count": 31,
   "id": "f851b864",
   "metadata": {},
   "outputs": [],
   "source": [
    "blended_preds = [np.argmax(i) for i in dp]# models[4].predict(test.loc[:,features])\n",
    "# blended_preds = [i[0] for i in models[6].predict(test)]\n",
    "blended_preds = [i+3 for i in blended_preds]\n",
    "submission = pd.DataFrame(data = {'Id': test.Id, 'quality': blended_preds})\n",
    "submission.set_index('Id')\n",
    "submission.to_csv('blended.csv', index=False)"
   ]
  },
  {
   "cell_type": "code",
   "execution_count": 32,
   "id": "0197a968",
   "metadata": {},
   "outputs": [
    {
     "data": {
      "text/plain": [
       "6    650\n",
       "5    580\n",
       "7    142\n",
       "Name: quality, dtype: int64"
      ]
     },
     "execution_count": 32,
     "metadata": {},
     "output_type": "execute_result"
    }
   ],
   "source": [
    "pd.read_csv('./blended.csv')['quality'].value_counts()"
   ]
  },
  {
   "cell_type": "code",
   "execution_count": null,
   "id": "20c8e1a0",
   "metadata": {},
   "outputs": [],
   "source": []
  }
 ],
 "metadata": {
  "kernelspec": {
   "display_name": "Python 3 (ipykernel)",
   "language": "python",
   "name": "python3"
  },
  "language_info": {
   "codemirror_mode": {
    "name": "ipython",
    "version": 3
   },
   "file_extension": ".py",
   "mimetype": "text/x-python",
   "name": "python",
   "nbconvert_exporter": "python",
   "pygments_lexer": "ipython3",
   "version": "3.8.15"
  }
 },
 "nbformat": 4,
 "nbformat_minor": 5
}
