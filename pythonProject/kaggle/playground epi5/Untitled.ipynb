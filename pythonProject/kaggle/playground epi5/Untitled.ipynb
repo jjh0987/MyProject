{
 "cells": [
  {
   "cell_type": "code",
   "execution_count": 81,
   "id": "b60f020d",
   "metadata": {},
   "outputs": [],
   "source": [
    "import pandas as pd\n",
    "from sklearn.metrics import accuracy_score\n",
    "from sklearn.model_selection import KFold, StratifiedKFold\n",
    "from sklearn.model_selection import GridSearchCV"
   ]
  },
  {
   "cell_type": "code",
   "execution_count": 82,
   "id": "8719ac26",
   "metadata": {},
   "outputs": [],
   "source": [
    "train = pd.read_csv('./train.csv')\n",
    "test = pd.read_csv('./test.csv')\n",
    "origin = pd.read_csv('./WineQT.csv')"
   ]
  },
  {
   "cell_type": "code",
   "execution_count": 83,
   "id": "4c188c7e",
   "metadata": {},
   "outputs": [],
   "source": [
    "train = pd.concat([train,origin],axis=0).drop('Id',axis=1).drop_duplicates().reset_index(drop=True)"
   ]
  },
  {
   "cell_type": "code",
   "execution_count": 86,
   "id": "37bbc662",
   "metadata": {},
   "outputs": [
    {
     "data": {
      "text/plain": [
       "5    1272\n",
       "6    1187\n",
       "7     455\n",
       "4      88\n",
       "8      54\n",
       "3      18\n",
       "Name: quality, dtype: int64"
      ]
     },
     "execution_count": 86,
     "metadata": {},
     "output_type": "execute_result"
    }
   ],
   "source": [
    "train.quality.value_counts()"
   ]
  },
  {
   "cell_type": "code",
   "execution_count": 85,
   "id": "901e8949",
   "metadata": {},
   "outputs": [
    {
     "data": {
      "text/plain": [
       "<AxesSubplot: ylabel='Frequency'>"
      ]
     },
     "execution_count": 85,
     "metadata": {},
     "output_type": "execute_result"
    },
    {
     "data": {
      "image/png": "[encoded data removed]",
      "text/plain": [
       "<Figure size 640x480 with 1 Axes>"
      ]
     },
     "metadata": {},
     "output_type": "display_data"
    }
   ],
   "source": [
    "train.quality.plot.hist()"
   ]
  },
  {
   "cell_type": "code",
   "execution_count": 93,
   "id": "61060961",
   "metadata": {},
   "outputs": [
    {
     "data": {
      "text/plain": [
       "count    3074.000000\n",
       "mean        5.694535\n",
       "std         0.840360\n",
       "min         3.000000\n",
       "25%         5.000000\n",
       "50%         6.000000\n",
       "75%         6.000000\n",
       "max         8.000000\n",
       "Name: quality, dtype: float64"
      ]
     },
     "execution_count": 93,
     "metadata": {},
     "output_type": "execute_result"
    }
   ],
   "source": [
    "train.quality.describe()"
   ]
  },
  {
   "cell_type": "code",
   "execution_count": 94,
   "id": "34769911",
   "metadata": {},
   "outputs": [],
   "source": [
    "from lightgbm import LGBMClassifier\n",
    "lgb = LGBMClassifier()"
   ]
  },
  {
   "cell_type": "code",
   "execution_count": null,
   "id": "3881d3f8",
   "metadata": {},
   "outputs": [],
   "source": []
  }
 ],
 "metadata": {
  "kernelspec": {
   "display_name": "Python 3 (ipykernel)",
   "language": "python",
   "name": "python3"
  },
  "language_info": {
   "codemirror_mode": {
    "name": "ipython",
    "version": 3
   },
   "file_extension": ".py",
   "mimetype": "text/x-python",
   "name": "python",
   "nbconvert_exporter": "python",
   "pygments_lexer": "ipython3",
   "version": "3.9.12"
  }
 },
 "nbformat": 4,
 "nbformat_minor": 5
}
