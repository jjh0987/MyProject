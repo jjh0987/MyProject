{
 "cells": [
  {
   "cell_type": "code",
   "execution_count": 1,
   "id": "b60f020d",
   "metadata": {},
   "outputs": [],
   "source": [
    "import pandas as pd\n",
    "from sklearn.metrics import accuracy_score\n",
    "from sklearn.model_selection import KFold, StratifiedKFold\n",
    "from sklearn.model_selection import GridSearchCV"
   ]
  },
  {
   "cell_type": "code",
   "execution_count": 2,
   "id": "8719ac26",
   "metadata": {},
   "outputs": [],
   "source": [
    "train = pd.read_csv('./train.csv')\n",
    "test = pd.read_csv('./test.csv')\n",
    "origin = pd.read_csv('./WineQT.csv')"
   ]
  },
  {
   "cell_type": "code",
   "execution_count": 3,
   "id": "4c188c7e",
   "metadata": {},
   "outputs": [],
   "source": [
    "train = pd.concat([train,origin],axis=0).drop('Id',axis=1).drop_duplicates().reset_index(drop=True)"
   ]
  },
  {
   "cell_type": "code",
   "execution_count": 4,
   "id": "37bbc662",
   "metadata": {},
   "outputs": [
    {
     "data": {
      "text/plain": [
       "5    1272\n",
       "6    1187\n",
       "7     455\n",
       "4      88\n",
       "8      54\n",
       "3      18\n",
       "Name: quality, dtype: int64"
      ]
     },
     "execution_count": 4,
     "metadata": {},
     "output_type": "execute_result"
    }
   ],
   "source": [
    "train.quality.value_counts()"
   ]
  },
  {
   "cell_type": "code",
   "execution_count": 5,
   "id": "240a1e34",
   "metadata": {},
   "outputs": [
    {
     "data": {
      "text/html": [
       "<div>\n",
       "<style scoped>\n",
       "    .dataframe tbody tr th:only-of-type {\n",
       "        vertical-align: middle;\n",
       "    }\n",
       "\n",
       "    .dataframe tbody tr th {\n",
       "        vertical-align: top;\n",
       "    }\n",
       "\n",
       "    .dataframe thead th {\n",
       "        text-align: right;\n",
       "    }\n",
       "</style>\n",
       "<table border=\"1\" class=\"dataframe\">\n",
       "  <thead>\n",
       "    <tr style=\"text-align: right;\">\n",
       "      <th></th>\n",
       "      <th>fixed acidity</th>\n",
       "      <th>volatile acidity</th>\n",
       "      <th>citric acid</th>\n",
       "      <th>residual sugar</th>\n",
       "      <th>chlorides</th>\n",
       "      <th>free sulfur dioxide</th>\n",
       "      <th>total sulfur dioxide</th>\n",
       "      <th>density</th>\n",
       "      <th>pH</th>\n",
       "      <th>sulphates</th>\n",
       "      <th>alcohol</th>\n",
       "      <th>quality</th>\n",
       "    </tr>\n",
       "  </thead>\n",
       "  <tbody>\n",
       "    <tr>\n",
       "      <th>0</th>\n",
       "      <td>8.0</td>\n",
       "      <td>0.500</td>\n",
       "      <td>0.39</td>\n",
       "      <td>2.2</td>\n",
       "      <td>0.073</td>\n",
       "      <td>30.0</td>\n",
       "      <td>39.0</td>\n",
       "      <td>0.99572</td>\n",
       "      <td>3.33</td>\n",
       "      <td>0.77</td>\n",
       "      <td>12.1</td>\n",
       "      <td>6</td>\n",
       "    </tr>\n",
       "    <tr>\n",
       "      <th>1</th>\n",
       "      <td>9.3</td>\n",
       "      <td>0.300</td>\n",
       "      <td>0.73</td>\n",
       "      <td>2.3</td>\n",
       "      <td>0.092</td>\n",
       "      <td>30.0</td>\n",
       "      <td>67.0</td>\n",
       "      <td>0.99854</td>\n",
       "      <td>3.32</td>\n",
       "      <td>0.67</td>\n",
       "      <td>12.8</td>\n",
       "      <td>6</td>\n",
       "    </tr>\n",
       "    <tr>\n",
       "      <th>2</th>\n",
       "      <td>7.1</td>\n",
       "      <td>0.510</td>\n",
       "      <td>0.03</td>\n",
       "      <td>2.1</td>\n",
       "      <td>0.059</td>\n",
       "      <td>3.0</td>\n",
       "      <td>12.0</td>\n",
       "      <td>0.99660</td>\n",
       "      <td>3.52</td>\n",
       "      <td>0.73</td>\n",
       "      <td>11.3</td>\n",
       "      <td>7</td>\n",
       "    </tr>\n",
       "    <tr>\n",
       "      <th>3</th>\n",
       "      <td>8.1</td>\n",
       "      <td>0.870</td>\n",
       "      <td>0.22</td>\n",
       "      <td>2.6</td>\n",
       "      <td>0.084</td>\n",
       "      <td>11.0</td>\n",
       "      <td>65.0</td>\n",
       "      <td>0.99730</td>\n",
       "      <td>3.20</td>\n",
       "      <td>0.53</td>\n",
       "      <td>9.8</td>\n",
       "      <td>5</td>\n",
       "    </tr>\n",
       "    <tr>\n",
       "      <th>4</th>\n",
       "      <td>8.5</td>\n",
       "      <td>0.360</td>\n",
       "      <td>0.30</td>\n",
       "      <td>2.3</td>\n",
       "      <td>0.079</td>\n",
       "      <td>10.0</td>\n",
       "      <td>45.0</td>\n",
       "      <td>0.99444</td>\n",
       "      <td>3.20</td>\n",
       "      <td>1.36</td>\n",
       "      <td>9.5</td>\n",
       "      <td>6</td>\n",
       "    </tr>\n",
       "    <tr>\n",
       "      <th>...</th>\n",
       "      <td>...</td>\n",
       "      <td>...</td>\n",
       "      <td>...</td>\n",
       "      <td>...</td>\n",
       "      <td>...</td>\n",
       "      <td>...</td>\n",
       "      <td>...</td>\n",
       "      <td>...</td>\n",
       "      <td>...</td>\n",
       "      <td>...</td>\n",
       "      <td>...</td>\n",
       "      <td>...</td>\n",
       "    </tr>\n",
       "    <tr>\n",
       "      <th>3069</th>\n",
       "      <td>6.3</td>\n",
       "      <td>0.510</td>\n",
       "      <td>0.13</td>\n",
       "      <td>2.3</td>\n",
       "      <td>0.076</td>\n",
       "      <td>29.0</td>\n",
       "      <td>40.0</td>\n",
       "      <td>0.99574</td>\n",
       "      <td>3.42</td>\n",
       "      <td>0.75</td>\n",
       "      <td>11.0</td>\n",
       "      <td>6</td>\n",
       "    </tr>\n",
       "    <tr>\n",
       "      <th>3070</th>\n",
       "      <td>6.8</td>\n",
       "      <td>0.620</td>\n",
       "      <td>0.08</td>\n",
       "      <td>1.9</td>\n",
       "      <td>0.068</td>\n",
       "      <td>28.0</td>\n",
       "      <td>38.0</td>\n",
       "      <td>0.99651</td>\n",
       "      <td>3.42</td>\n",
       "      <td>0.82</td>\n",
       "      <td>9.5</td>\n",
       "      <td>6</td>\n",
       "    </tr>\n",
       "    <tr>\n",
       "      <th>3071</th>\n",
       "      <td>6.2</td>\n",
       "      <td>0.600</td>\n",
       "      <td>0.08</td>\n",
       "      <td>2.0</td>\n",
       "      <td>0.090</td>\n",
       "      <td>32.0</td>\n",
       "      <td>44.0</td>\n",
       "      <td>0.99490</td>\n",
       "      <td>3.45</td>\n",
       "      <td>0.58</td>\n",
       "      <td>10.5</td>\n",
       "      <td>5</td>\n",
       "    </tr>\n",
       "    <tr>\n",
       "      <th>3072</th>\n",
       "      <td>5.9</td>\n",
       "      <td>0.550</td>\n",
       "      <td>0.10</td>\n",
       "      <td>2.2</td>\n",
       "      <td>0.062</td>\n",
       "      <td>39.0</td>\n",
       "      <td>51.0</td>\n",
       "      <td>0.99512</td>\n",
       "      <td>3.52</td>\n",
       "      <td>0.76</td>\n",
       "      <td>11.2</td>\n",
       "      <td>6</td>\n",
       "    </tr>\n",
       "    <tr>\n",
       "      <th>3073</th>\n",
       "      <td>5.9</td>\n",
       "      <td>0.645</td>\n",
       "      <td>0.12</td>\n",
       "      <td>2.0</td>\n",
       "      <td>0.075</td>\n",
       "      <td>32.0</td>\n",
       "      <td>44.0</td>\n",
       "      <td>0.99547</td>\n",
       "      <td>3.57</td>\n",
       "      <td>0.71</td>\n",
       "      <td>10.2</td>\n",
       "      <td>5</td>\n",
       "    </tr>\n",
       "  </tbody>\n",
       "</table>\n",
       "<p>3074 rows × 12 columns</p>\n",
       "</div>"
      ],
      "text/plain": [
       "      fixed acidity  volatile acidity  citric acid  residual sugar  chlorides  \\\n",
       "0               8.0             0.500         0.39             2.2      0.073   \n",
       "1               9.3             0.300         0.73             2.3      0.092   \n",
       "2               7.1             0.510         0.03             2.1      0.059   \n",
       "3               8.1             0.870         0.22             2.6      0.084   \n",
       "4               8.5             0.360         0.30             2.3      0.079   \n",
       "...             ...               ...          ...             ...        ...   \n",
       "3069            6.3             0.510         0.13             2.3      0.076   \n",
       "3070            6.8             0.620         0.08             1.9      0.068   \n",
       "3071            6.2             0.600         0.08             2.0      0.090   \n",
       "3072            5.9             0.550         0.10             2.2      0.062   \n",
       "3073            5.9             0.645         0.12             2.0      0.075   \n",
       "\n",
       "      free sulfur dioxide  total sulfur dioxide  density    pH  sulphates  \\\n",
       "0                    30.0                  39.0  0.99572  3.33       0.77   \n",
       "1                    30.0                  67.0  0.99854  3.32       0.67   \n",
       "2                     3.0                  12.0  0.99660  3.52       0.73   \n",
       "3                    11.0                  65.0  0.99730  3.20       0.53   \n",
       "4                    10.0                  45.0  0.99444  3.20       1.36   \n",
       "...                   ...                   ...      ...   ...        ...   \n",
       "3069                 29.0                  40.0  0.99574  3.42       0.75   \n",
       "3070                 28.0                  38.0  0.99651  3.42       0.82   \n",
       "3071                 32.0                  44.0  0.99490  3.45       0.58   \n",
       "3072                 39.0                  51.0  0.99512  3.52       0.76   \n",
       "3073                 32.0                  44.0  0.99547  3.57       0.71   \n",
       "\n",
       "      alcohol  quality  \n",
       "0        12.1        6  \n",
       "1        12.8        6  \n",
       "2        11.3        7  \n",
       "3         9.8        5  \n",
       "4         9.5        6  \n",
       "...       ...      ...  \n",
       "3069     11.0        6  \n",
       "3070      9.5        6  \n",
       "3071     10.5        5  \n",
       "3072     11.2        6  \n",
       "3073     10.2        5  \n",
       "\n",
       "[3074 rows x 12 columns]"
      ]
     },
     "execution_count": 5,
     "metadata": {},
     "output_type": "execute_result"
    }
   ],
   "source": [
    "train"
   ]
  },
  {
   "cell_type": "code",
   "execution_count": 6,
   "id": "c2b563cd",
   "metadata": {},
   "outputs": [],
   "source": [
    "train['quality'] = [i-3 for i in train['quality']]"
   ]
  },
  {
   "cell_type": "code",
   "execution_count": 7,
   "id": "20eedc8a",
   "metadata": {},
   "outputs": [
    {
     "data": {
      "text/plain": [
       "<AxesSubplot: ylabel='Frequency'>"
      ]
     },
     "execution_count": 7,
     "metadata": {},
     "output_type": "execute_result"
    },
    {
     "data": {
      "image/png": "[encoded data removed]",
      "text/plain": [
       "<Figure size 640x480 with 1 Axes>"
      ]
     },
     "metadata": {},
     "output_type": "display_data"
    }
   ],
   "source": [
    "train.quality.plot.hist()"
   ]
  },
  {
   "cell_type": "code",
   "execution_count": 8,
   "id": "34769911",
   "metadata": {},
   "outputs": [],
   "source": [
    "from lightgbm import LGBMClassifier\n",
    "lgb = LGBMClassifier()"
   ]
  },
  {
   "cell_type": "code",
   "execution_count": 9,
   "id": "3881d3f8",
   "metadata": {},
   "outputs": [
    {
     "name": "stderr",
     "output_type": "stream",
     "text": [
      "C:\\Users\\user\\anaconda3\\envs\\ml\\lib\\site-packages\\xgboost\\compat.py:36: FutureWarning: pandas.Int64Index is deprecated and will be removed from pandas in a future version. Use pandas.Index with the appropriate dtype instead.\n",
      "  from pandas import MultiIndex, Int64Index\n"
     ]
    }
   ],
   "source": [
    "import numpy as np\n",
    "import pandas as pd\n",
    "from tqdm import tqdm\n",
    "import matplotlib.pyplot as plt\n",
    "import seaborn as sns\n",
    "import plotly.express as px\n",
    "\n",
    "from sklearn.pipeline import Pipeline\n",
    "from sklearn.impute import SimpleImputer\n",
    "from sklearn.compose import ColumnTransformer\n",
    "from sklearn.decomposition import PCA\n",
    "from sklearn.cluster import KMeans\n",
    "from sklearn.preprocessing import StandardScaler, MinMaxScaler, Normalizer, RobustScaler, LabelEncoder, OneHotEncoder\n",
    "from sklearn.metrics import mean_squared_error, roc_auc_score, accuracy_score, f1_score, cohen_kappa_score\n",
    "from sklearn.model_selection import KFold, StratifiedKFold\n",
    "from sklearn.model_selection import GridSearchCV\n",
    "from category_encoders import LeaveOneOutEncoder\n",
    "\n",
    "from catboost import CatBoostClassifier, CatBoostRegressor\n",
    "from xgboost import XGBClassifier, XGBRFRegressor\n",
    "from lightgbm.sklearn import LGBMClassifier, LGBMRegressor\n",
    "from sklearn.linear_model import LogisticRegression\n",
    "from sklearn.ensemble import RandomForestClassifier, RandomForestRegressor\n",
    "from sklearn.neighbors import KNeighborsClassifier\n",
    "from sklearn.svm import SVC\n",
    "from sklearn.ensemble import ExtraTreesClassifier\n",
    "\n",
    "import optuna\n",
    "from optuna.samplers import TPESampler\n",
    "\n",
    "import warnings\n",
    "\n",
    "warnings.filterwarnings('ignore')"
   ]
  },
  {
   "cell_type": "code",
   "execution_count": 10,
   "id": "cae7e232",
   "metadata": {},
   "outputs": [],
   "source": [
    "target = 'quality'\n",
    "features = [c for c in train.columns if c not in [target]]"
   ]
  },
  {
   "cell_type": "code",
   "execution_count": 11,
   "id": "c1d8c523",
   "metadata": {},
   "outputs": [
    {
     "name": "stderr",
     "output_type": "stream",
     "text": [
      "\r",
      "0it [00:00, ?it/s]"
     ]
    },
    {
     "name": "stdout",
     "output_type": "stream",
     "text": [
      "Learning rate set to 0.109937\n",
      "0:\tlearn: 1.6480794\ttest: 1.6523132\tbest: 1.6523132 (0)\ttotal: 167ms\tremaining: 2m 46s\n"
     ]
    },
    {
     "name": "stderr",
     "output_type": "stream",
     "text": [
      "\r",
      "1it [00:04,  4.03s/it]"
     ]
    },
    {
     "name": "stdout",
     "output_type": "stream",
     "text": [
      "999:\tlearn: 0.1649664\ttest: 1.1673807\tbest: 0.9996914 (82)\ttotal: 3.86s\tremaining: 0us\n",
      "\n",
      "bestTest = 0.999691392\n",
      "bestIteration = 82\n",
      "\n",
      "Shrink model to first 83 iterations.\n",
      "ACC on fold 0: 0.5006\n",
      "Learning rate set to 0.109937\n",
      "0:\tlearn: 1.6575814\ttest: 1.6633682\tbest: 1.6633682 (0)\ttotal: 4.46ms\tremaining: 4.45s\n"
     ]
    },
    {
     "name": "stderr",
     "output_type": "stream",
     "text": [
      "\r",
      "2it [00:07,  3.98s/it]"
     ]
    },
    {
     "name": "stdout",
     "output_type": "stream",
     "text": [
      "999:\tlearn: 0.1628073\ttest: 1.1327799\tbest: 0.9912570 (108)\ttotal: 3.77s\tremaining: 0us\n",
      "\n",
      "bestTest = 0.9912569522\n",
      "bestIteration = 108\n",
      "\n",
      "Shrink model to first 109 iterations.\n",
      "ACC on fold 1: 0.5226\n",
      "Learning rate set to 0.109937\n",
      "0:\tlearn: 1.6536630\ttest: 1.6560167\tbest: 1.6560167 (0)\ttotal: 4.98ms\tremaining: 4.98s\n"
     ]
    },
    {
     "name": "stderr",
     "output_type": "stream",
     "text": [
      "\r",
      "3it [00:12,  4.01s/it]"
     ]
    },
    {
     "name": "stdout",
     "output_type": "stream",
     "text": [
      "999:\tlearn: 0.1652301\ttest: 1.1197127\tbest: 0.9767536 (76)\ttotal: 3.88s\tremaining: 0us\n",
      "\n",
      "bestTest = 0.9767536003\n",
      "bestIteration = 76\n",
      "\n",
      "Shrink model to first 77 iterations.\n",
      "ACC on fold 2: 0.5214\n",
      "Learning rate set to 0.109937\n",
      "0:\tlearn: 1.6596603\ttest: 1.6618810\tbest: 1.6618810 (0)\ttotal: 9.76ms\tremaining: 9.75s\n"
     ]
    },
    {
     "name": "stderr",
     "output_type": "stream",
     "text": [
      "\r",
      "4it [00:15,  3.99s/it]"
     ]
    },
    {
     "name": "stdout",
     "output_type": "stream",
     "text": [
      "999:\tlearn: 0.1637620\ttest: 1.1440063\tbest: 0.9868184 (107)\ttotal: 3.78s\tremaining: 0us\n",
      "\n",
      "bestTest = 0.9868183927\n",
      "bestIteration = 107\n",
      "\n",
      "Shrink model to first 108 iterations.\n",
      "ACC on fold 3: 0.4863\n",
      "Learning rate set to 0.109938\n",
      "0:\tlearn: 1.6609886\ttest: 1.6678875\tbest: 1.6678875 (0)\ttotal: 45.6ms\tremaining: 45.5s\n"
     ]
    },
    {
     "name": "stderr",
     "output_type": "stream",
     "text": [
      "5it [00:19,  3.99s/it]"
     ]
    },
    {
     "name": "stdout",
     "output_type": "stream",
     "text": [
      "999:\tlearn: 0.1657767\ttest: 1.1613158\tbest: 0.9913439 (77)\ttotal: 3.8s\tremaining: 0us\n",
      "\n",
      "bestTest = 0.9913438703\n",
      "bestIteration = 77\n",
      "\n",
      "Shrink model to first 78 iterations.\n",
      "ACC on fold 4: 0.5011\n",
      "mean AUC across all folds: 0.5064\n"
     ]
    },
    {
     "name": "stderr",
     "output_type": "stream",
     "text": [
      "\n"
     ]
    }
   ],
   "source": [
    "kf = StratifiedKFold(n_splits = 5, random_state = 11, shuffle = True)\n",
    "models = []\n",
    "val_scores = []\n",
    "preds = []\n",
    "\n",
    "# params = {\n",
    "# 'n_estimators':15000,\n",
    "# 'max_depth':5,\n",
    "# 'early_stopping_rounds':200,\n",
    "# 'learning_rate':0.005,\n",
    "# 'one_hot_max_size':3,\n",
    "# 'bootstrap_type':\"MVS\",\n",
    "# 'l2_leaf_reg':2,\n",
    "# 'random_state':1\n",
    "#          }\n",
    "\n",
    "for i, (train_index, val_index) in tqdm(enumerate(kf.split(train, train[target]))):\n",
    "    \n",
    "    X_train, X_val = train[features].loc[train_index], train[features].loc[val_index]\n",
    "    y_train, y_val = train[target][train_index], train[target][val_index]\n",
    "    \n",
    "#     if include_orig:\n",
    "#         X_train = X_train.append(original[features], ignore_index = True)\n",
    "#         y_train = y_train.append(original[target], ignore_index = True)\n",
    "    \n",
    "    model = CatBoostClassifier(random_state=11)\n",
    "    \n",
    "    model.fit(X_train, y_train, eval_set = [(X_val, y_val)], verbose = 2000)\n",
    "    \n",
    "    models.append(model)\n",
    "    # pred = model.predict_proba(X_val)[:,1]\n",
    "    # score = accuracy_score(y_val, model.predict(X_val))\n",
    "    score = cohen_kappa_score(y_val, model.predict(X_val), weights = 'quadratic')\n",
    "\n",
    "    val_scores.append(score)\n",
    "    \n",
    "    print(f'ACC on fold {i}: {score:.4f}')\n",
    "    \n",
    "print(f'mean AUC across all folds: {np.mean(val_scores):.4f}')"
   ]
  },
  {
   "cell_type": "code",
   "execution_count": 12,
   "id": "e2129a80",
   "metadata": {},
   "outputs": [
    {
     "data": {
      "text/plain": [
       "[0.5005633009435291,\n",
       " 0.5225716240466061,\n",
       " 0.5213830944347838,\n",
       " 0.4863409555946441,\n",
       " 0.5011240802435108]"
      ]
     },
     "execution_count": 12,
     "metadata": {},
     "output_type": "execute_result"
    }
   ],
   "source": [
    "val_scores"
   ]
  },
  {
   "cell_type": "code",
   "execution_count": 13,
   "id": "450d1f09",
   "metadata": {},
   "outputs": [
    {
     "name": "stderr",
     "output_type": "stream",
     "text": [
      "1it [00:00,  2.49it/s]"
     ]
    },
    {
     "name": "stdout",
     "output_type": "stream",
     "text": [
      "ACC on fold 0: 0.4460\n"
     ]
    },
    {
     "name": "stderr",
     "output_type": "stream",
     "text": [
      "\r",
      "2it [00:00,  2.49it/s]"
     ]
    },
    {
     "name": "stdout",
     "output_type": "stream",
     "text": [
      "ACC on fold 1: 0.4899\n"
     ]
    },
    {
     "name": "stderr",
     "output_type": "stream",
     "text": [
      "\r",
      "3it [00:01,  2.54it/s]"
     ]
    },
    {
     "name": "stdout",
     "output_type": "stream",
     "text": [
      "ACC on fold 2: 0.5417\n"
     ]
    },
    {
     "name": "stderr",
     "output_type": "stream",
     "text": [
      "\r",
      "4it [00:01,  2.56it/s]"
     ]
    },
    {
     "name": "stdout",
     "output_type": "stream",
     "text": [
      "ACC on fold 3: 0.4814\n"
     ]
    },
    {
     "name": "stderr",
     "output_type": "stream",
     "text": [
      "5it [00:01,  2.61it/s]"
     ]
    },
    {
     "name": "stdout",
     "output_type": "stream",
     "text": [
      "ACC on fold 4: 0.4883\n",
      "mean AUC across all folds: 0.4895\n"
     ]
    },
    {
     "name": "stderr",
     "output_type": "stream",
     "text": [
      "\n"
     ]
    }
   ],
   "source": [
    "kf = StratifiedKFold(n_splits = 5, random_state = 11, shuffle = True)\n",
    "val_scores = []\n",
    "\n",
    "# params = {\n",
    "# 'n_estimators':15000,\n",
    "# 'max_depth':5,\n",
    "# 'early_stopping_rounds':200,\n",
    "# 'learning_rate':0.005,\n",
    "# 'one_hot_max_size':3,\n",
    "# 'bootstrap_type':\"MVS\",\n",
    "# 'l2_leaf_reg':2,\n",
    "# 'random_state':1\n",
    "#          }\n",
    "\n",
    "for i, (train_index, val_index) in tqdm(enumerate(kf.split(train, train[target]))):\n",
    "    \n",
    "    X_train, X_val = train[features].loc[train_index], train[features].loc[val_index]\n",
    "    y_train, y_val = train[target][train_index], train[target][val_index]\n",
    "    \n",
    "#     if include_orig:\n",
    "#         X_train = X_train.append(original[features], ignore_index = True)\n",
    "#         y_train = y_train.append(original[target], ignore_index = True)\n",
    "    \n",
    "    model = RandomForestClassifier(random_state=4)\n",
    "    \n",
    "    model.fit(X_train, y_train)\n",
    "    \n",
    "    models.append(model)\n",
    "    # pred = model.predict_proba(X_val)[:,1]\n",
    "    # score = accuracy_score(y_val, model.predict(X_val))\n",
    "    score = cohen_kappa_score(y_val, model.predict(X_val), weights = 'quadratic')\n",
    "\n",
    "    val_scores.append(score)\n",
    "    \n",
    "    print(f'ACC on fold {i}: {score:.4f}')\n",
    "    \n",
    "print(f'mean AUC across all folds: {np.mean(val_scores):.4f}')"
   ]
  },
  {
   "cell_type": "code",
   "execution_count": 14,
   "id": "882c1046",
   "metadata": {},
   "outputs": [
    {
     "data": {
      "text/plain": [
       "[<catboost.core.CatBoostClassifier at 0x212ab49d5b0>,\n",
       " <catboost.core.CatBoostClassifier at 0x212ab4acfa0>,\n",
       " <catboost.core.CatBoostClassifier at 0x212a8503cd0>,\n",
       " <catboost.core.CatBoostClassifier at 0x212aa938d60>,\n",
       " <catboost.core.CatBoostClassifier at 0x212ab4ac7c0>,\n",
       " RandomForestClassifier(random_state=4),\n",
       " RandomForestClassifier(random_state=4),\n",
       " RandomForestClassifier(random_state=4),\n",
       " RandomForestClassifier(random_state=4),\n",
       " RandomForestClassifier(random_state=4)]"
      ]
     },
     "execution_count": 14,
     "metadata": {},
     "output_type": "execute_result"
    }
   ],
   "source": [
    "models"
   ]
  },
  {
   "cell_type": "markdown",
   "id": "59440b0b",
   "metadata": {},
   "source": [
    "# Enssemble"
   ]
  },
  {
   "cell_type": "code",
   "execution_count": 15,
   "id": "925e3a4f",
   "metadata": {},
   "outputs": [],
   "source": [
    "pred_target = [md.predict_proba(test.loc[:,features]) for md in models]"
   ]
  },
  {
   "cell_type": "code",
   "execution_count": 16,
   "id": "ca0fcfd6",
   "metadata": {},
   "outputs": [],
   "source": [
    "dp = np.zeros(pred_target[0].shape)\n",
    "row,col = pred_target[0].shape\n",
    "\n",
    "for pr in pred_target:\n",
    "    for i in range(row):\n",
    "        for j in range(col):\n",
    "            dp[i][j] += pr[i][j]"
   ]
  },
  {
   "cell_type": "code",
   "execution_count": 21,
   "id": "919c9a2c",
   "metadata": {},
   "outputs": [
    {
     "data": {
      "text/plain": [
       "array([[0.02692544, 0.53235082, 4.83740494, 4.27496703, 0.31764117,\n",
       "        0.01071061],\n",
       "       [0.09549705, 0.08795494, 3.29642583, 4.97126951, 1.44140179,\n",
       "        0.10745088],\n",
       "       [0.05907426, 0.293301  , 4.4466619 , 4.68224146, 0.49254738,\n",
       "        0.02617399],\n",
       "       ...,\n",
       "       [0.10642584, 0.61416636, 6.08098693, 2.83139015, 0.34906603,\n",
       "        0.01796469],\n",
       "       [0.04291254, 0.13530266, 8.09425528, 1.57163222, 0.13176333,\n",
       "        0.02413397],\n",
       "       [0.05195283, 0.248789  , 5.40381999, 3.73872411, 0.52361087,\n",
       "        0.03310319]])"
      ]
     },
     "execution_count": 21,
     "metadata": {},
     "output_type": "execute_result"
    }
   ],
   "source": [
    "dp"
   ]
  },
  {
   "cell_type": "code",
   "execution_count": 17,
   "id": "f851b864",
   "metadata": {},
   "outputs": [],
   "source": [
    "blended_preds = [np.argmax(i) for i in dp]# models[4].predict(test.loc[:,features])\n",
    "blended_preds = [i+3 for i in blended_preds]\n",
    "submission = pd.DataFrame(data = {'Id': test.Id, 'quality': blended_preds})\n",
    "submission.set_index('Id')\n",
    "submission.to_csv('blended.csv', index=False)"
   ]
  },
  {
   "cell_type": "code",
   "execution_count": 18,
   "id": "2685b4c0",
   "metadata": {},
   "outputs": [
    {
     "data": {
      "text/plain": [
       "array([[0., 0., 0., 1., 0., 0.],\n",
       "       [0., 0., 1., 0., 0., 0.],\n",
       "       [0., 0., 0., 1., 0., 0.],\n",
       "       ...,\n",
       "       [0., 0., 1., 0., 0., 0.],\n",
       "       [0., 0., 1., 0., 0., 0.],\n",
       "       [0., 0., 1., 0., 0., 0.]])"
      ]
     },
     "execution_count": 18,
     "metadata": {},
     "output_type": "execute_result"
    }
   ],
   "source": [
    "model[0].predict_proba(test.loc[:,features])"
   ]
  },
  {
   "cell_type": "code",
   "execution_count": 19,
   "id": "0197a968",
   "metadata": {},
   "outputs": [
    {
     "data": {
      "text/plain": [
       "array([[0.  , 0.08, 0.42, 0.47, 0.03, 0.  ],\n",
       "       [0.03, 0.01, 0.29, 0.43, 0.2 , 0.04],\n",
       "       [0.  , 0.03, 0.37, 0.49, 0.11, 0.  ],\n",
       "       ...,\n",
       "       [0.  , 0.07, 0.62, 0.29, 0.02, 0.  ],\n",
       "       [0.  , 0.  , 0.76, 0.24, 0.  , 0.  ],\n",
       "       [0.01, 0.  , 0.48, 0.47, 0.04, 0.  ]])"
      ]
     },
     "execution_count": 19,
     "metadata": {},
     "output_type": "execute_result"
    }
   ],
   "source": [
    "model.predict_proba(test.loc[:,features])"
   ]
  },
  {
   "cell_type": "code",
   "execution_count": 20,
   "id": "89fd83ea",
   "metadata": {},
   "outputs": [
    {
     "data": {
      "text/html": [
       "<div>\n",
       "<style scoped>\n",
       "    .dataframe tbody tr th:only-of-type {\n",
       "        vertical-align: middle;\n",
       "    }\n",
       "\n",
       "    .dataframe tbody tr th {\n",
       "        vertical-align: top;\n",
       "    }\n",
       "\n",
       "    .dataframe thead th {\n",
       "        text-align: right;\n",
       "    }\n",
       "</style>\n",
       "<table border=\"1\" class=\"dataframe\">\n",
       "  <thead>\n",
       "    <tr style=\"text-align: right;\">\n",
       "      <th></th>\n",
       "      <th>Id</th>\n",
       "      <th>quality</th>\n",
       "    </tr>\n",
       "  </thead>\n",
       "  <tbody>\n",
       "    <tr>\n",
       "      <th>0</th>\n",
       "      <td>2056</td>\n",
       "      <td>5</td>\n",
       "    </tr>\n",
       "    <tr>\n",
       "      <th>1</th>\n",
       "      <td>2057</td>\n",
       "      <td>6</td>\n",
       "    </tr>\n",
       "    <tr>\n",
       "      <th>2</th>\n",
       "      <td>2058</td>\n",
       "      <td>6</td>\n",
       "    </tr>\n",
       "    <tr>\n",
       "      <th>3</th>\n",
       "      <td>2059</td>\n",
       "      <td>6</td>\n",
       "    </tr>\n",
       "    <tr>\n",
       "      <th>4</th>\n",
       "      <td>2060</td>\n",
       "      <td>6</td>\n",
       "    </tr>\n",
       "    <tr>\n",
       "      <th>...</th>\n",
       "      <td>...</td>\n",
       "      <td>...</td>\n",
       "    </tr>\n",
       "    <tr>\n",
       "      <th>1367</th>\n",
       "      <td>3423</td>\n",
       "      <td>5</td>\n",
       "    </tr>\n",
       "    <tr>\n",
       "      <th>1368</th>\n",
       "      <td>3424</td>\n",
       "      <td>7</td>\n",
       "    </tr>\n",
       "    <tr>\n",
       "      <th>1369</th>\n",
       "      <td>3425</td>\n",
       "      <td>5</td>\n",
       "    </tr>\n",
       "    <tr>\n",
       "      <th>1370</th>\n",
       "      <td>3426</td>\n",
       "      <td>5</td>\n",
       "    </tr>\n",
       "    <tr>\n",
       "      <th>1371</th>\n",
       "      <td>3427</td>\n",
       "      <td>5</td>\n",
       "    </tr>\n",
       "  </tbody>\n",
       "</table>\n",
       "<p>1372 rows × 2 columns</p>\n",
       "</div>"
      ],
      "text/plain": [
       "        Id  quality\n",
       "0     2056        5\n",
       "1     2057        6\n",
       "2     2058        6\n",
       "3     2059        6\n",
       "4     2060        6\n",
       "...    ...      ...\n",
       "1367  3423        5\n",
       "1368  3424        7\n",
       "1369  3425        5\n",
       "1370  3426        5\n",
       "1371  3427        5\n",
       "\n",
       "[1372 rows x 2 columns]"
      ]
     },
     "execution_count": 20,
     "metadata": {},
     "output_type": "execute_result"
    }
   ],
   "source": [
    "pd.read_csv('./blended.csv')"
   ]
  }
 ],
 "metadata": {
  "kernelspec": {
   "display_name": "Python 3 (ipykernel)",
   "language": "python",
   "name": "python3"
  },
  "language_info": {
   "codemirror_mode": {
    "name": "ipython",
    "version": 3
   },
   "file_extension": ".py",
   "mimetype": "text/x-python",
   "name": "python",
   "nbconvert_exporter": "python",
   "pygments_lexer": "ipython3",
   "version": "3.8.15"
  }
 },
 "nbformat": 4,
 "nbformat_minor": 5
}
