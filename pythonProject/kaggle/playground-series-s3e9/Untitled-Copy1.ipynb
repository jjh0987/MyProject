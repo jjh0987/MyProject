{
 "cells": [
  {
   "cell_type": "code",
   "execution_count": 1,
   "id": "2d4f473a",
   "metadata": {},
   "outputs": [],
   "source": [
    "# !pip install fasteda\n",
    "# from fasteda import fast_eda\n",
    "import pandas as pd\n",
    "import numpy as np\n",
    "import seaborn as sns\n",
    "import matplotlib.pyplot as plt\n",
    "import plotly.express as px\n",
    "from sklearn.decomposition import PCA\n",
    "from sklearn.preprocessing import StandardScaler, MinMaxScaler\n",
    "from sklearn.manifold import TSNE"
   ]
  },
  {
   "cell_type": "code",
   "execution_count": 2,
   "id": "1432d637",
   "metadata": {},
   "outputs": [],
   "source": [
    "train = pd.read_csv(\"./train.csv\").drop('id',axis=1)\n",
    "test = pd.read_csv(\"./test.csv\").drop('id',axis=1)\n",
    "original = pd.read_csv(\"./ConcreteStrengthData.csv\")"
   ]
  },
  {
   "cell_type": "code",
   "execution_count": 3,
   "id": "7f2df919",
   "metadata": {},
   "outputs": [],
   "source": [
    "original = original.rename(columns={'CementComponent ':'CementComponent'})"
   ]
  },
  {
   "cell_type": "code",
   "execution_count": 4,
   "id": "5bc752f5",
   "metadata": {},
   "outputs": [
    {
     "name": "stdout",
     "output_type": "stream",
     "text": [
      "Index(['CementComponent', 'BlastFurnaceSlag', 'FlyAshComponent',\n",
      "       'WaterComponent', 'SuperplasticizerComponent',\n",
      "       'CoarseAggregateComponent', 'FineAggregateComponent', 'AgeInDays',\n",
      "       'Strength'],\n",
      "      dtype='object')\n",
      "Index(['CementComponent', 'BlastFurnaceSlag', 'FlyAshComponent',\n",
      "       'WaterComponent', 'SuperplasticizerComponent',\n",
      "       'CoarseAggregateComponent', 'FineAggregateComponent', 'AgeInDays',\n",
      "       'Strength'],\n",
      "      dtype='object')\n"
     ]
    }
   ],
   "source": [
    "print(original.columns)\n",
    "print(train.columns)"
   ]
  },
  {
   "cell_type": "code",
   "execution_count": 5,
   "id": "6f0be844",
   "metadata": {},
   "outputs": [
    {
     "name": "stdout",
     "output_type": "stream",
     "text": [
      "5407\n",
      "3605\n"
     ]
    }
   ],
   "source": [
    "print(len(train))\n",
    "print(len(test))"
   ]
  },
  {
   "cell_type": "code",
   "execution_count": 6,
   "id": "ff1ede53",
   "metadata": {},
   "outputs": [],
   "source": [
    "train = pd.concat([train,original],axis=0)\n",
    "train = train.drop_duplicates().reset_index(drop=True)\n",
    "train = train[train['AgeInDays'] != 49]\n"
   ]
  },
  {
   "cell_type": "code",
   "execution_count": 7,
   "id": "f6496454",
   "metadata": {},
   "outputs": [],
   "source": [
    "# Calculate TotalComponentWeight\n",
    "train['TotalComponentWeight'] = train['CementComponent'] + train['BlastFurnaceSlag'] + train['FlyAshComponent'] + train['WaterComponent'] + train['SuperplasticizerComponent'] + train['CoarseAggregateComponent'] + train['FineAggregateComponent']\n",
    "\n",
    "# Calculate Water-Cement-Ratio (WCR)\n",
    "train['WCR'] = train['WaterComponent'] / train['CementComponent']\n",
    "\n",
    "# Calculate Aggregate-Ratio (AR)\n",
    "train['AR'] = (train['CoarseAggregateComponent'] + train['FineAggregateComponent']) / train['CementComponent']\n",
    "\n",
    "# Calculate Water-Cement-Plus-Pozzolan-Ratio (WCPR)\n",
    "train['WCPR'] = train['WaterComponent'] / (train['CementComponent'] + train['BlastFurnaceSlag'] + train['FlyAshComponent'])\n",
    "\n",
    "# Calculate Cement-Age\n",
    "train['Cement-Age'] = train['CementComponent'] * train['AgeInDays']"
   ]
  },
  {
   "cell_type": "code",
   "execution_count": 8,
   "id": "92d8f547",
   "metadata": {},
   "outputs": [],
   "source": [
    "# Calculate TotalComponentWeight\n",
    "test['TotalComponentWeight'] = test['CementComponent'] + test['BlastFurnaceSlag'] + test['FlyAshComponent'] + test['WaterComponent'] + test['SuperplasticizerComponent'] + test['CoarseAggregateComponent'] + test['FineAggregateComponent']\n",
    "\n",
    "# Calculate Water-Cement-Ratio (WCR)\n",
    "test['WCR'] = test['WaterComponent'] / test['CementComponent']\n",
    "\n",
    "# Calculate Aggregate-Ratio (AR)\n",
    "test['AR'] = (test['CoarseAggregateComponent'] + test['FineAggregateComponent']) / test['CementComponent']\n",
    "\n",
    "# Calculate Water-Cement-Plus-Pozzolan-Ratio (WCPR)\n",
    "test['WCPR'] = test['WaterComponent'] / (test['CementComponent'] + test['BlastFurnaceSlag'] + test['FlyAshComponent'])\n",
    "\n",
    "# Calculate Cement-Age\n",
    "test['Cement-Age'] = test['CementComponent'] * test['AgeInDays']"
   ]
  },
  {
   "cell_type": "code",
   "execution_count": 9,
   "id": "81195466",
   "metadata": {},
   "outputs": [],
   "source": [
    "train['Unknown'] = (train.CoarseAggregateComponent) - (train.CementComponent + train.BlastFurnaceSlag + train.FlyAshComponent)\n",
    "test['Unknown'] = (test.CoarseAggregateComponent) - (test.CementComponent + test.BlastFurnaceSlag + test.FlyAshComponent)"
   ]
  },
  {
   "cell_type": "code",
   "execution_count": 10,
   "id": "9c9360c9",
   "metadata": {},
   "outputs": [
    {
     "name": "stdout",
     "output_type": "stream",
     "text": [
      "6411\n",
      "3605\n"
     ]
    }
   ],
   "source": [
    "print(len(train))\n",
    "print(len(test))"
   ]
  },
  {
   "cell_type": "code",
   "execution_count": 11,
   "id": "d7d696c9",
   "metadata": {},
   "outputs": [
    {
     "data": {
      "text/html": [
       "<div>\n",
       "<style scoped>\n",
       "    .dataframe tbody tr th:only-of-type {\n",
       "        vertical-align: middle;\n",
       "    }\n",
       "\n",
       "    .dataframe tbody tr th {\n",
       "        vertical-align: top;\n",
       "    }\n",
       "\n",
       "    .dataframe thead th {\n",
       "        text-align: right;\n",
       "    }\n",
       "</style>\n",
       "<table border=\"1\" class=\"dataframe\">\n",
       "  <thead>\n",
       "    <tr style=\"text-align: right;\">\n",
       "      <th></th>\n",
       "      <th>CementComponent</th>\n",
       "      <th>BlastFurnaceSlag</th>\n",
       "      <th>FlyAshComponent</th>\n",
       "      <th>WaterComponent</th>\n",
       "      <th>SuperplasticizerComponent</th>\n",
       "      <th>CoarseAggregateComponent</th>\n",
       "      <th>FineAggregateComponent</th>\n",
       "      <th>AgeInDays</th>\n",
       "      <th>Strength</th>\n",
       "      <th>TotalComponentWeight</th>\n",
       "      <th>WCR</th>\n",
       "      <th>AR</th>\n",
       "      <th>WCPR</th>\n",
       "      <th>Cement-Age</th>\n",
       "      <th>Unknown</th>\n",
       "    </tr>\n",
       "  </thead>\n",
       "  <tbody>\n",
       "    <tr>\n",
       "      <th>0</th>\n",
       "      <td>525.0</td>\n",
       "      <td>0.0</td>\n",
       "      <td>0.0</td>\n",
       "      <td>186.0</td>\n",
       "      <td>0.0</td>\n",
       "      <td>1125.0</td>\n",
       "      <td>613.0</td>\n",
       "      <td>3</td>\n",
       "      <td>10.38</td>\n",
       "      <td>2449.0</td>\n",
       "      <td>0.354286</td>\n",
       "      <td>3.310476</td>\n",
       "      <td>0.354286</td>\n",
       "      <td>1575.0</td>\n",
       "      <td>600.0</td>\n",
       "    </tr>\n",
       "    <tr>\n",
       "      <th>1</th>\n",
       "      <td>143.0</td>\n",
       "      <td>169.0</td>\n",
       "      <td>143.0</td>\n",
       "      <td>191.0</td>\n",
       "      <td>8.0</td>\n",
       "      <td>967.0</td>\n",
       "      <td>643.0</td>\n",
       "      <td>28</td>\n",
       "      <td>23.52</td>\n",
       "      <td>2264.0</td>\n",
       "      <td>1.335664</td>\n",
       "      <td>11.258741</td>\n",
       "      <td>0.419780</td>\n",
       "      <td>4004.0</td>\n",
       "      <td>512.0</td>\n",
       "    </tr>\n",
       "    <tr>\n",
       "      <th>2</th>\n",
       "      <td>289.0</td>\n",
       "      <td>134.7</td>\n",
       "      <td>0.0</td>\n",
       "      <td>185.7</td>\n",
       "      <td>0.0</td>\n",
       "      <td>1075.0</td>\n",
       "      <td>795.3</td>\n",
       "      <td>28</td>\n",
       "      <td>36.96</td>\n",
       "      <td>2479.7</td>\n",
       "      <td>0.642561</td>\n",
       "      <td>6.471626</td>\n",
       "      <td>0.438282</td>\n",
       "      <td>8092.0</td>\n",
       "      <td>651.3</td>\n",
       "    </tr>\n",
       "    <tr>\n",
       "      <th>3</th>\n",
       "      <td>304.0</td>\n",
       "      <td>76.0</td>\n",
       "      <td>0.0</td>\n",
       "      <td>228.0</td>\n",
       "      <td>0.0</td>\n",
       "      <td>932.0</td>\n",
       "      <td>670.0</td>\n",
       "      <td>365</td>\n",
       "      <td>39.05</td>\n",
       "      <td>2210.0</td>\n",
       "      <td>0.750000</td>\n",
       "      <td>5.269737</td>\n",
       "      <td>0.600000</td>\n",
       "      <td>110960.0</td>\n",
       "      <td>552.0</td>\n",
       "    </tr>\n",
       "    <tr>\n",
       "      <th>4</th>\n",
       "      <td>157.0</td>\n",
       "      <td>236.0</td>\n",
       "      <td>0.0</td>\n",
       "      <td>192.0</td>\n",
       "      <td>0.0</td>\n",
       "      <td>935.4</td>\n",
       "      <td>781.2</td>\n",
       "      <td>90</td>\n",
       "      <td>74.19</td>\n",
       "      <td>2301.6</td>\n",
       "      <td>1.222930</td>\n",
       "      <td>10.933758</td>\n",
       "      <td>0.488550</td>\n",
       "      <td>14130.0</td>\n",
       "      <td>542.4</td>\n",
       "    </tr>\n",
       "    <tr>\n",
       "      <th>...</th>\n",
       "      <td>...</td>\n",
       "      <td>...</td>\n",
       "      <td>...</td>\n",
       "      <td>...</td>\n",
       "      <td>...</td>\n",
       "      <td>...</td>\n",
       "      <td>...</td>\n",
       "      <td>...</td>\n",
       "      <td>...</td>\n",
       "      <td>...</td>\n",
       "      <td>...</td>\n",
       "      <td>...</td>\n",
       "      <td>...</td>\n",
       "      <td>...</td>\n",
       "      <td>...</td>\n",
       "    </tr>\n",
       "    <tr>\n",
       "      <th>6407</th>\n",
       "      <td>276.4</td>\n",
       "      <td>116.0</td>\n",
       "      <td>90.3</td>\n",
       "      <td>179.6</td>\n",
       "      <td>8.9</td>\n",
       "      <td>870.1</td>\n",
       "      <td>768.3</td>\n",
       "      <td>28</td>\n",
       "      <td>44.28</td>\n",
       "      <td>2309.6</td>\n",
       "      <td>0.649783</td>\n",
       "      <td>5.927641</td>\n",
       "      <td>0.372074</td>\n",
       "      <td>7739.2</td>\n",
       "      <td>387.4</td>\n",
       "    </tr>\n",
       "    <tr>\n",
       "      <th>6408</th>\n",
       "      <td>322.2</td>\n",
       "      <td>0.0</td>\n",
       "      <td>115.6</td>\n",
       "      <td>196.0</td>\n",
       "      <td>10.4</td>\n",
       "      <td>817.9</td>\n",
       "      <td>813.4</td>\n",
       "      <td>28</td>\n",
       "      <td>31.18</td>\n",
       "      <td>2275.5</td>\n",
       "      <td>0.608318</td>\n",
       "      <td>5.063004</td>\n",
       "      <td>0.447693</td>\n",
       "      <td>9021.6</td>\n",
       "      <td>380.1</td>\n",
       "    </tr>\n",
       "    <tr>\n",
       "      <th>6409</th>\n",
       "      <td>148.5</td>\n",
       "      <td>139.4</td>\n",
       "      <td>108.6</td>\n",
       "      <td>192.7</td>\n",
       "      <td>6.1</td>\n",
       "      <td>892.4</td>\n",
       "      <td>780.0</td>\n",
       "      <td>28</td>\n",
       "      <td>23.70</td>\n",
       "      <td>2267.7</td>\n",
       "      <td>1.297643</td>\n",
       "      <td>11.261953</td>\n",
       "      <td>0.486003</td>\n",
       "      <td>4158.0</td>\n",
       "      <td>495.9</td>\n",
       "    </tr>\n",
       "    <tr>\n",
       "      <th>6410</th>\n",
       "      <td>159.1</td>\n",
       "      <td>186.7</td>\n",
       "      <td>0.0</td>\n",
       "      <td>175.6</td>\n",
       "      <td>11.3</td>\n",
       "      <td>989.6</td>\n",
       "      <td>788.9</td>\n",
       "      <td>28</td>\n",
       "      <td>32.77</td>\n",
       "      <td>2311.2</td>\n",
       "      <td>1.103708</td>\n",
       "      <td>11.178504</td>\n",
       "      <td>0.507808</td>\n",
       "      <td>4454.8</td>\n",
       "      <td>643.8</td>\n",
       "    </tr>\n",
       "    <tr>\n",
       "      <th>6411</th>\n",
       "      <td>260.9</td>\n",
       "      <td>100.5</td>\n",
       "      <td>78.3</td>\n",
       "      <td>200.6</td>\n",
       "      <td>8.6</td>\n",
       "      <td>864.5</td>\n",
       "      <td>761.5</td>\n",
       "      <td>28</td>\n",
       "      <td>32.40</td>\n",
       "      <td>2274.9</td>\n",
       "      <td>0.768877</td>\n",
       "      <td>6.232273</td>\n",
       "      <td>0.456220</td>\n",
       "      <td>7305.2</td>\n",
       "      <td>424.8</td>\n",
       "    </tr>\n",
       "  </tbody>\n",
       "</table>\n",
       "<p>6411 rows × 15 columns</p>\n",
       "</div>"
      ],
      "text/plain": [
       "      CementComponent  BlastFurnaceSlag  FlyAshComponent  WaterComponent  \\\n",
       "0               525.0               0.0              0.0           186.0   \n",
       "1               143.0             169.0            143.0           191.0   \n",
       "2               289.0             134.7              0.0           185.7   \n",
       "3               304.0              76.0              0.0           228.0   \n",
       "4               157.0             236.0              0.0           192.0   \n",
       "...               ...               ...              ...             ...   \n",
       "6407            276.4             116.0             90.3           179.6   \n",
       "6408            322.2               0.0            115.6           196.0   \n",
       "6409            148.5             139.4            108.6           192.7   \n",
       "6410            159.1             186.7              0.0           175.6   \n",
       "6411            260.9             100.5             78.3           200.6   \n",
       "\n",
       "      SuperplasticizerComponent  CoarseAggregateComponent  \\\n",
       "0                           0.0                    1125.0   \n",
       "1                           8.0                     967.0   \n",
       "2                           0.0                    1075.0   \n",
       "3                           0.0                     932.0   \n",
       "4                           0.0                     935.4   \n",
       "...                         ...                       ...   \n",
       "6407                        8.9                     870.1   \n",
       "6408                       10.4                     817.9   \n",
       "6409                        6.1                     892.4   \n",
       "6410                       11.3                     989.6   \n",
       "6411                        8.6                     864.5   \n",
       "\n",
       "      FineAggregateComponent  AgeInDays  Strength  TotalComponentWeight  \\\n",
       "0                      613.0          3     10.38                2449.0   \n",
       "1                      643.0         28     23.52                2264.0   \n",
       "2                      795.3         28     36.96                2479.7   \n",
       "3                      670.0        365     39.05                2210.0   \n",
       "4                      781.2         90     74.19                2301.6   \n",
       "...                      ...        ...       ...                   ...   \n",
       "6407                   768.3         28     44.28                2309.6   \n",
       "6408                   813.4         28     31.18                2275.5   \n",
       "6409                   780.0         28     23.70                2267.7   \n",
       "6410                   788.9         28     32.77                2311.2   \n",
       "6411                   761.5         28     32.40                2274.9   \n",
       "\n",
       "           WCR         AR      WCPR  Cement-Age  Unknown  \n",
       "0     0.354286   3.310476  0.354286      1575.0    600.0  \n",
       "1     1.335664  11.258741  0.419780      4004.0    512.0  \n",
       "2     0.642561   6.471626  0.438282      8092.0    651.3  \n",
       "3     0.750000   5.269737  0.600000    110960.0    552.0  \n",
       "4     1.222930  10.933758  0.488550     14130.0    542.4  \n",
       "...        ...        ...       ...         ...      ...  \n",
       "6407  0.649783   5.927641  0.372074      7739.2    387.4  \n",
       "6408  0.608318   5.063004  0.447693      9021.6    380.1  \n",
       "6409  1.297643  11.261953  0.486003      4158.0    495.9  \n",
       "6410  1.103708  11.178504  0.507808      4454.8    643.8  \n",
       "6411  0.768877   6.232273  0.456220      7305.2    424.8  \n",
       "\n",
       "[6411 rows x 15 columns]"
      ]
     },
     "execution_count": 11,
     "metadata": {},
     "output_type": "execute_result"
    }
   ],
   "source": [
    "train"
   ]
  },
  {
   "cell_type": "code",
   "execution_count": 12,
   "id": "c78ee401",
   "metadata": {},
   "outputs": [
    {
     "name": "stdout",
     "output_type": "stream",
     "text": [
      "[1, 3, 7, 14, 28, 56, 90, 91, 100, 120, 180, 270, 360, 365]\n",
      "[1, 3, 7, 11, 14, 28, 56, 90, 91, 100, 120, 180, 270, 360, 365]\n"
     ]
    }
   ],
   "source": [
    "print([i for i in sorted(train.AgeInDays.unique())])\n",
    "print([i for i in sorted(test.AgeInDays.unique())])\n"
   ]
  },
  {
   "cell_type": "code",
   "execution_count": 13,
   "id": "5729e68f",
   "metadata": {},
   "outputs": [],
   "source": [
    "test.loc[197,'AgeInDays'] = 14"
   ]
  },
  {
   "cell_type": "code",
   "execution_count": 14,
   "id": "d22ac91f",
   "metadata": {},
   "outputs": [
    {
     "name": "stdout",
     "output_type": "stream",
     "text": [
      "[1, 3, 7, 14, 28, 56, 90, 91, 100, 120, 180, 270, 360, 365]\n",
      "[1, 3, 7, 14, 28, 56, 90, 91, 100, 120, 180, 270, 360, 365]\n"
     ]
    }
   ],
   "source": [
    "print([i for i in sorted(train.AgeInDays.unique())])\n",
    "print([i for i in sorted(test.AgeInDays.unique())])\n"
   ]
  },
  {
   "cell_type": "code",
   "execution_count": 15,
   "id": "fc8b5f28",
   "metadata": {},
   "outputs": [
    {
     "name": "stdout",
     "output_type": "stream",
     "text": [
      "6411\n",
      "3605\n"
     ]
    }
   ],
   "source": [
    "print(len(train))\n",
    "print(len(test))"
   ]
  },
  {
   "cell_type": "code",
   "execution_count": 16,
   "id": "228e9b88",
   "metadata": {},
   "outputs": [],
   "source": [
    "from sklearn.preprocessing import LabelEncoder\n",
    "encoder = LabelEncoder()\n",
    "encoder.fit([i for i in sorted(train.AgeInDays.unique())])\n",
    "train.AgeInDays = encoder.transform(train.AgeInDays)\n",
    "test.AgeInDays = encoder.transform(test.AgeInDays)"
   ]
  },
  {
   "cell_type": "code",
   "execution_count": 17,
   "id": "b50a0c44",
   "metadata": {},
   "outputs": [
    {
     "data": {
      "text/html": [
       "<div>\n",
       "<style scoped>\n",
       "    .dataframe tbody tr th:only-of-type {\n",
       "        vertical-align: middle;\n",
       "    }\n",
       "\n",
       "    .dataframe tbody tr th {\n",
       "        vertical-align: top;\n",
       "    }\n",
       "\n",
       "    .dataframe thead th {\n",
       "        text-align: right;\n",
       "    }\n",
       "</style>\n",
       "<table border=\"1\" class=\"dataframe\">\n",
       "  <thead>\n",
       "    <tr style=\"text-align: right;\">\n",
       "      <th></th>\n",
       "      <th>CementComponent</th>\n",
       "      <th>BlastFurnaceSlag</th>\n",
       "      <th>FlyAshComponent</th>\n",
       "      <th>WaterComponent</th>\n",
       "      <th>SuperplasticizerComponent</th>\n",
       "      <th>CoarseAggregateComponent</th>\n",
       "      <th>FineAggregateComponent</th>\n",
       "      <th>AgeInDays</th>\n",
       "      <th>Strength</th>\n",
       "      <th>TotalComponentWeight</th>\n",
       "      <th>WCR</th>\n",
       "      <th>AR</th>\n",
       "      <th>WCPR</th>\n",
       "      <th>Cement-Age</th>\n",
       "      <th>Unknown</th>\n",
       "    </tr>\n",
       "  </thead>\n",
       "  <tbody>\n",
       "    <tr>\n",
       "      <th>count</th>\n",
       "      <td>6411.000000</td>\n",
       "      <td>6411.000000</td>\n",
       "      <td>6411.000000</td>\n",
       "      <td>6411.000000</td>\n",
       "      <td>6411.000000</td>\n",
       "      <td>6411.000000</td>\n",
       "      <td>6411.000000</td>\n",
       "      <td>6411.000000</td>\n",
       "      <td>6411.000000</td>\n",
       "      <td>6411.000000</td>\n",
       "      <td>6411.000000</td>\n",
       "      <td>6411.000000</td>\n",
       "      <td>6411.000000</td>\n",
       "      <td>6411.000000</td>\n",
       "      <td>6411.000000</td>\n",
       "    </tr>\n",
       "    <tr>\n",
       "      <th>mean</th>\n",
       "      <td>295.934846</td>\n",
       "      <td>60.710232</td>\n",
       "      <td>35.575074</td>\n",
       "      <td>184.604757</td>\n",
       "      <td>4.409209</td>\n",
       "      <td>989.259785</td>\n",
       "      <td>771.460443</td>\n",
       "      <td>4.338325</td>\n",
       "      <td>35.415860</td>\n",
       "      <td>2341.954347</td>\n",
       "      <td>0.718428</td>\n",
       "      <td>6.872551</td>\n",
       "      <td>0.503668</td>\n",
       "      <td>15748.312479</td>\n",
       "      <td>597.039632</td>\n",
       "    </tr>\n",
       "    <tr>\n",
       "      <th>std</th>\n",
       "      <td>105.609623</td>\n",
       "      <td>83.995827</td>\n",
       "      <td>56.869697</td>\n",
       "      <td>19.018388</td>\n",
       "      <td>5.770679</td>\n",
       "      <td>77.462298</td>\n",
       "      <td>78.977890</td>\n",
       "      <td>2.636039</td>\n",
       "      <td>16.379638</td>\n",
       "      <td>80.395058</td>\n",
       "      <td>0.300063</td>\n",
       "      <td>2.819865</td>\n",
       "      <td>0.150839</td>\n",
       "      <td>24887.600160</td>\n",
       "      <td>138.851403</td>\n",
       "    </tr>\n",
       "    <tr>\n",
       "      <th>min</th>\n",
       "      <td>102.000000</td>\n",
       "      <td>0.000000</td>\n",
       "      <td>0.000000</td>\n",
       "      <td>121.800000</td>\n",
       "      <td>0.000000</td>\n",
       "      <td>801.000000</td>\n",
       "      <td>594.000000</td>\n",
       "      <td>0.000000</td>\n",
       "      <td>2.330000</td>\n",
       "      <td>1991.500000</td>\n",
       "      <td>0.259364</td>\n",
       "      <td>2.880105</td>\n",
       "      <td>0.179278</td>\n",
       "      <td>306.000000</td>\n",
       "      <td>74.000000</td>\n",
       "    </tr>\n",
       "    <tr>\n",
       "      <th>25%</th>\n",
       "      <td>212.500000</td>\n",
       "      <td>0.000000</td>\n",
       "      <td>0.000000</td>\n",
       "      <td>173.500000</td>\n",
       "      <td>0.000000</td>\n",
       "      <td>938.000000</td>\n",
       "      <td>734.300000</td>\n",
       "      <td>2.000000</td>\n",
       "      <td>23.640000</td>\n",
       "      <td>2291.600000</td>\n",
       "      <td>0.502618</td>\n",
       "      <td>4.689741</td>\n",
       "      <td>0.400000</td>\n",
       "      <td>2779.000000</td>\n",
       "      <td>506.000000</td>\n",
       "    </tr>\n",
       "    <tr>\n",
       "      <th>50%</th>\n",
       "      <td>295.800000</td>\n",
       "      <td>0.000000</td>\n",
       "      <td>0.000000</td>\n",
       "      <td>186.000000</td>\n",
       "      <td>0.000000</td>\n",
       "      <td>975.600000</td>\n",
       "      <td>781.000000</td>\n",
       "      <td>4.000000</td>\n",
       "      <td>33.940000</td>\n",
       "      <td>2347.000000</td>\n",
       "      <td>0.630435</td>\n",
       "      <td>5.976783</td>\n",
       "      <td>0.488550</td>\n",
       "      <td>7756.000000</td>\n",
       "      <td>625.000000</td>\n",
       "    </tr>\n",
       "    <tr>\n",
       "      <th>75%</th>\n",
       "      <td>374.000000</td>\n",
       "      <td>129.800000</td>\n",
       "      <td>94.050000</td>\n",
       "      <td>192.000000</td>\n",
       "      <td>8.650000</td>\n",
       "      <td>1047.000000</td>\n",
       "      <td>821.000000</td>\n",
       "      <td>5.000000</td>\n",
       "      <td>45.710000</td>\n",
       "      <td>2394.150000</td>\n",
       "      <td>0.850071</td>\n",
       "      <td>8.592708</td>\n",
       "      <td>0.580060</td>\n",
       "      <td>15232.700000</td>\n",
       "      <td>694.900000</td>\n",
       "    </tr>\n",
       "    <tr>\n",
       "      <th>max</th>\n",
       "      <td>540.000000</td>\n",
       "      <td>359.400000</td>\n",
       "      <td>200.100000</td>\n",
       "      <td>247.000000</td>\n",
       "      <td>32.200000</td>\n",
       "      <td>1145.000000</td>\n",
       "      <td>992.600000</td>\n",
       "      <td>13.000000</td>\n",
       "      <td>82.600000</td>\n",
       "      <td>2766.900000</td>\n",
       "      <td>1.989247</td>\n",
       "      <td>18.696078</td>\n",
       "      <td>1.989247</td>\n",
       "      <td>197100.000000</td>\n",
       "      <td>972.000000</td>\n",
       "    </tr>\n",
       "  </tbody>\n",
       "</table>\n",
       "</div>"
      ],
      "text/plain": [
       "       CementComponent  BlastFurnaceSlag  FlyAshComponent  WaterComponent  \\\n",
       "count      6411.000000       6411.000000      6411.000000     6411.000000   \n",
       "mean        295.934846         60.710232        35.575074      184.604757   \n",
       "std         105.609623         83.995827        56.869697       19.018388   \n",
       "min         102.000000          0.000000         0.000000      121.800000   \n",
       "25%         212.500000          0.000000         0.000000      173.500000   \n",
       "50%         295.800000          0.000000         0.000000      186.000000   \n",
       "75%         374.000000        129.800000        94.050000      192.000000   \n",
       "max         540.000000        359.400000       200.100000      247.000000   \n",
       "\n",
       "       SuperplasticizerComponent  CoarseAggregateComponent  \\\n",
       "count                6411.000000               6411.000000   \n",
       "mean                    4.409209                989.259785   \n",
       "std                     5.770679                 77.462298   \n",
       "min                     0.000000                801.000000   \n",
       "25%                     0.000000                938.000000   \n",
       "50%                     0.000000                975.600000   \n",
       "75%                     8.650000               1047.000000   \n",
       "max                    32.200000               1145.000000   \n",
       "\n",
       "       FineAggregateComponent    AgeInDays     Strength  TotalComponentWeight  \\\n",
       "count             6411.000000  6411.000000  6411.000000           6411.000000   \n",
       "mean               771.460443     4.338325    35.415860           2341.954347   \n",
       "std                 78.977890     2.636039    16.379638             80.395058   \n",
       "min                594.000000     0.000000     2.330000           1991.500000   \n",
       "25%                734.300000     2.000000    23.640000           2291.600000   \n",
       "50%                781.000000     4.000000    33.940000           2347.000000   \n",
       "75%                821.000000     5.000000    45.710000           2394.150000   \n",
       "max                992.600000    13.000000    82.600000           2766.900000   \n",
       "\n",
       "               WCR           AR         WCPR     Cement-Age      Unknown  \n",
       "count  6411.000000  6411.000000  6411.000000    6411.000000  6411.000000  \n",
       "mean      0.718428     6.872551     0.503668   15748.312479   597.039632  \n",
       "std       0.300063     2.819865     0.150839   24887.600160   138.851403  \n",
       "min       0.259364     2.880105     0.179278     306.000000    74.000000  \n",
       "25%       0.502618     4.689741     0.400000    2779.000000   506.000000  \n",
       "50%       0.630435     5.976783     0.488550    7756.000000   625.000000  \n",
       "75%       0.850071     8.592708     0.580060   15232.700000   694.900000  \n",
       "max       1.989247    18.696078     1.989247  197100.000000   972.000000  "
      ]
     },
     "execution_count": 17,
     "metadata": {},
     "output_type": "execute_result"
    }
   ],
   "source": [
    "train.describe()"
   ]
  },
  {
   "cell_type": "code",
   "execution_count": 18,
   "id": "6a158207",
   "metadata": {
    "scrolled": false
   },
   "outputs": [
    {
     "name": "stderr",
     "output_type": "stream",
     "text": [
      "/Users/junho/opt/anaconda3/lib/python3.9/site-packages/seaborn/distributions.py:2619: FutureWarning: `distplot` is a deprecated function and will be removed in a future version. Please adapt your code to use either `displot` (a figure-level function with similar flexibility) or `histplot` (an axes-level function for histograms).\n",
      "  warnings.warn(msg, FutureWarning)\n",
      "/Users/junho/opt/anaconda3/lib/python3.9/site-packages/seaborn/distributions.py:2619: FutureWarning: `distplot` is a deprecated function and will be removed in a future version. Please adapt your code to use either `displot` (a figure-level function with similar flexibility) or `histplot` (an axes-level function for histograms).\n",
      "  warnings.warn(msg, FutureWarning)\n"
     ]
    },
    {
     "data": {
      "image/png": "[encoded data removed]",
      "text/plain": [
       "<Figure size 432x288 with 1 Axes>"
      ]
     },
     "metadata": {
      "needs_background": "light"
     },
     "output_type": "display_data"
    },
    {
     "name": "stderr",
     "output_type": "stream",
     "text": [
      "/Users/junho/opt/anaconda3/lib/python3.9/site-packages/seaborn/distributions.py:2619: FutureWarning: `distplot` is a deprecated function and will be removed in a future version. Please adapt your code to use either `displot` (a figure-level function with similar flexibility) or `histplot` (an axes-level function for histograms).\n",
      "  warnings.warn(msg, FutureWarning)\n",
      "/Users/junho/opt/anaconda3/lib/python3.9/site-packages/seaborn/distributions.py:2619: FutureWarning: `distplot` is a deprecated function and will be removed in a future version. Please adapt your code to use either `displot` (a figure-level function with similar flexibility) or `histplot` (an axes-level function for histograms).\n",
      "  warnings.warn(msg, FutureWarning)\n"
     ]
    },
    {
     "data": {
      "image/png": "[encoded data removed]",
      "text/plain": [
       "<Figure size 432x288 with 1 Axes>"
      ]
     },
     "metadata": {
      "needs_background": "light"
     },
     "output_type": "display_data"
    },
    {
     "name": "stderr",
     "output_type": "stream",
     "text": [
      "/Users/junho/opt/anaconda3/lib/python3.9/site-packages/seaborn/distributions.py:2619: FutureWarning: `distplot` is a deprecated function and will be removed in a future version. Please adapt your code to use either `displot` (a figure-level function with similar flexibility) or `histplot` (an axes-level function for histograms).\n",
      "  warnings.warn(msg, FutureWarning)\n",
      "/Users/junho/opt/anaconda3/lib/python3.9/site-packages/seaborn/distributions.py:2619: FutureWarning: `distplot` is a deprecated function and will be removed in a future version. Please adapt your code to use either `displot` (a figure-level function with similar flexibility) or `histplot` (an axes-level function for histograms).\n",
      "  warnings.warn(msg, FutureWarning)\n"
     ]
    },
    {
     "data": {
      "image/png": "[encoded data removed]",
      "text/plain": [
       "<Figure size 432x288 with 1 Axes>"
      ]
     },
     "metadata": {
      "needs_background": "light"
     },
     "output_type": "display_data"
    },
    {
     "name": "stderr",
     "output_type": "stream",
     "text": [
      "/Users/junho/opt/anaconda3/lib/python3.9/site-packages/seaborn/distributions.py:2619: FutureWarning: `distplot` is a deprecated function and will be removed in a future version. Please adapt your code to use either `displot` (a figure-level function with similar flexibility) or `histplot` (an axes-level function for histograms).\n",
      "  warnings.warn(msg, FutureWarning)\n",
      "/Users/junho/opt/anaconda3/lib/python3.9/site-packages/seaborn/distributions.py:2619: FutureWarning: `distplot` is a deprecated function and will be removed in a future version. Please adapt your code to use either `displot` (a figure-level function with similar flexibility) or `histplot` (an axes-level function for histograms).\n",
      "  warnings.warn(msg, FutureWarning)\n"
     ]
    },
    {
     "data": {
      "image/png": "[encoded data removed]",
      "text/plain": [
       "<Figure size 432x288 with 1 Axes>"
      ]
     },
     "metadata": {
      "needs_background": "light"
     },
     "output_type": "display_data"
    },
    {
     "name": "stderr",
     "output_type": "stream",
     "text": [
      "/Users/junho/opt/anaconda3/lib/python3.9/site-packages/seaborn/distributions.py:2619: FutureWarning: `distplot` is a deprecated function and will be removed in a future version. Please adapt your code to use either `displot` (a figure-level function with similar flexibility) or `histplot` (an axes-level function for histograms).\n",
      "  warnings.warn(msg, FutureWarning)\n",
      "/Users/junho/opt/anaconda3/lib/python3.9/site-packages/seaborn/distributions.py:2619: FutureWarning: `distplot` is a deprecated function and will be removed in a future version. Please adapt your code to use either `displot` (a figure-level function with similar flexibility) or `histplot` (an axes-level function for histograms).\n",
      "  warnings.warn(msg, FutureWarning)\n"
     ]
    },
    {
     "data": {
      "image/png": "[encoded data removed]",
      "text/plain": [
       "<Figure size 432x288 with 1 Axes>"
      ]
     },
     "metadata": {
      "needs_background": "light"
     },
     "output_type": "display_data"
    },
    {
     "name": "stderr",
     "output_type": "stream",
     "text": [
      "/Users/junho/opt/anaconda3/lib/python3.9/site-packages/seaborn/distributions.py:2619: FutureWarning: `distplot` is a deprecated function and will be removed in a future version. Please adapt your code to use either `displot` (a figure-level function with similar flexibility) or `histplot` (an axes-level function for histograms).\n",
      "  warnings.warn(msg, FutureWarning)\n",
      "/Users/junho/opt/anaconda3/lib/python3.9/site-packages/seaborn/distributions.py:2619: FutureWarning: `distplot` is a deprecated function and will be removed in a future version. Please adapt your code to use either `displot` (a figure-level function with similar flexibility) or `histplot` (an axes-level function for histograms).\n",
      "  warnings.warn(msg, FutureWarning)\n"
     ]
    },
    {
     "data": {
      "image/png": "[encoded data removed]",
      "text/plain": [
       "<Figure size 432x288 with 1 Axes>"
      ]
     },
     "metadata": {
      "needs_background": "light"
     },
     "output_type": "display_data"
    },
    {
     "name": "stderr",
     "output_type": "stream",
     "text": [
      "/Users/junho/opt/anaconda3/lib/python3.9/site-packages/seaborn/distributions.py:2619: FutureWarning: `distplot` is a deprecated function and will be removed in a future version. Please adapt your code to use either `displot` (a figure-level function with similar flexibility) or `histplot` (an axes-level function for histograms).\n",
      "  warnings.warn(msg, FutureWarning)\n",
      "/Users/junho/opt/anaconda3/lib/python3.9/site-packages/seaborn/distributions.py:2619: FutureWarning: `distplot` is a deprecated function and will be removed in a future version. Please adapt your code to use either `displot` (a figure-level function with similar flexibility) or `histplot` (an axes-level function for histograms).\n",
      "  warnings.warn(msg, FutureWarning)\n"
     ]
    },
    {
     "data": {
      "image/png": "[encoded data removed]",
      "text/plain": [
       "<Figure size 432x288 with 1 Axes>"
      ]
     },
     "metadata": {
      "needs_background": "light"
     },
     "output_type": "display_data"
    },
    {
     "name": "stderr",
     "output_type": "stream",
     "text": [
      "/Users/junho/opt/anaconda3/lib/python3.9/site-packages/seaborn/distributions.py:2619: FutureWarning: `distplot` is a deprecated function and will be removed in a future version. Please adapt your code to use either `displot` (a figure-level function with similar flexibility) or `histplot` (an axes-level function for histograms).\n",
      "  warnings.warn(msg, FutureWarning)\n",
      "/Users/junho/opt/anaconda3/lib/python3.9/site-packages/seaborn/distributions.py:2619: FutureWarning: `distplot` is a deprecated function and will be removed in a future version. Please adapt your code to use either `displot` (a figure-level function with similar flexibility) or `histplot` (an axes-level function for histograms).\n",
      "  warnings.warn(msg, FutureWarning)\n"
     ]
    },
    {
     "data": {
      "image/png": "[encoded data removed]",
      "text/plain": [
       "<Figure size 432x288 with 1 Axes>"
      ]
     },
     "metadata": {
      "needs_background": "light"
     },
     "output_type": "display_data"
    },
    {
     "name": "stderr",
     "output_type": "stream",
     "text": [
      "/Users/junho/opt/anaconda3/lib/python3.9/site-packages/seaborn/distributions.py:2619: FutureWarning: `distplot` is a deprecated function and will be removed in a future version. Please adapt your code to use either `displot` (a figure-level function with similar flexibility) or `histplot` (an axes-level function for histograms).\n",
      "  warnings.warn(msg, FutureWarning)\n",
      "/Users/junho/opt/anaconda3/lib/python3.9/site-packages/seaborn/distributions.py:2619: FutureWarning: `distplot` is a deprecated function and will be removed in a future version. Please adapt your code to use either `displot` (a figure-level function with similar flexibility) or `histplot` (an axes-level function for histograms).\n",
      "  warnings.warn(msg, FutureWarning)\n"
     ]
    },
    {
     "data": {
      "image/png": "[encoded data removed]",
      "text/plain": [
       "<Figure size 432x288 with 1 Axes>"
      ]
     },
     "metadata": {
      "needs_background": "light"
     },
     "output_type": "display_data"
    },
    {
     "name": "stderr",
     "output_type": "stream",
     "text": [
      "/Users/junho/opt/anaconda3/lib/python3.9/site-packages/seaborn/distributions.py:2619: FutureWarning: `distplot` is a deprecated function and will be removed in a future version. Please adapt your code to use either `displot` (a figure-level function with similar flexibility) or `histplot` (an axes-level function for histograms).\n",
      "  warnings.warn(msg, FutureWarning)\n",
      "/Users/junho/opt/anaconda3/lib/python3.9/site-packages/seaborn/distributions.py:2619: FutureWarning: `distplot` is a deprecated function and will be removed in a future version. Please adapt your code to use either `displot` (a figure-level function with similar flexibility) or `histplot` (an axes-level function for histograms).\n",
      "  warnings.warn(msg, FutureWarning)\n"
     ]
    },
    {
     "data": {
      "image/png": "[encoded data removed]",
      "text/plain": [
       "<Figure size 432x288 with 1 Axes>"
      ]
     },
     "metadata": {
      "needs_background": "light"
     },
     "output_type": "display_data"
    },
    {
     "name": "stderr",
     "output_type": "stream",
     "text": [
      "/Users/junho/opt/anaconda3/lib/python3.9/site-packages/seaborn/distributions.py:2619: FutureWarning: `distplot` is a deprecated function and will be removed in a future version. Please adapt your code to use either `displot` (a figure-level function with similar flexibility) or `histplot` (an axes-level function for histograms).\n",
      "  warnings.warn(msg, FutureWarning)\n",
      "/Users/junho/opt/anaconda3/lib/python3.9/site-packages/seaborn/distributions.py:2619: FutureWarning: `distplot` is a deprecated function and will be removed in a future version. Please adapt your code to use either `displot` (a figure-level function with similar flexibility) or `histplot` (an axes-level function for histograms).\n",
      "  warnings.warn(msg, FutureWarning)\n"
     ]
    },
    {
     "data": {
      "image/png": "[encoded data removed]",
      "text/plain": [
       "<Figure size 432x288 with 1 Axes>"
      ]
     },
     "metadata": {
      "needs_background": "light"
     },
     "output_type": "display_data"
    },
    {
     "name": "stderr",
     "output_type": "stream",
     "text": [
      "/Users/junho/opt/anaconda3/lib/python3.9/site-packages/seaborn/distributions.py:2619: FutureWarning: `distplot` is a deprecated function and will be removed in a future version. Please adapt your code to use either `displot` (a figure-level function with similar flexibility) or `histplot` (an axes-level function for histograms).\n",
      "  warnings.warn(msg, FutureWarning)\n",
      "/Users/junho/opt/anaconda3/lib/python3.9/site-packages/seaborn/distributions.py:2619: FutureWarning: `distplot` is a deprecated function and will be removed in a future version. Please adapt your code to use either `displot` (a figure-level function with similar flexibility) or `histplot` (an axes-level function for histograms).\n",
      "  warnings.warn(msg, FutureWarning)\n"
     ]
    },
    {
     "data": {
      "image/png": "[encoded data removed]",
      "text/plain": [
       "<Figure size 432x288 with 1 Axes>"
      ]
     },
     "metadata": {
      "needs_background": "light"
     },
     "output_type": "display_data"
    },
    {
     "name": "stderr",
     "output_type": "stream",
     "text": [
      "/Users/junho/opt/anaconda3/lib/python3.9/site-packages/seaborn/distributions.py:2619: FutureWarning: `distplot` is a deprecated function and will be removed in a future version. Please adapt your code to use either `displot` (a figure-level function with similar flexibility) or `histplot` (an axes-level function for histograms).\n",
      "  warnings.warn(msg, FutureWarning)\n",
      "/Users/junho/opt/anaconda3/lib/python3.9/site-packages/seaborn/distributions.py:2619: FutureWarning: `distplot` is a deprecated function and will be removed in a future version. Please adapt your code to use either `displot` (a figure-level function with similar flexibility) or `histplot` (an axes-level function for histograms).\n",
      "  warnings.warn(msg, FutureWarning)\n"
     ]
    },
    {
     "data": {
      "image/png": "[encoded data removed]",
      "text/plain": [
       "<Figure size 432x288 with 1 Axes>"
      ]
     },
     "metadata": {
      "needs_background": "light"
     },
     "output_type": "display_data"
    },
    {
     "name": "stderr",
     "output_type": "stream",
     "text": [
      "/Users/junho/opt/anaconda3/lib/python3.9/site-packages/seaborn/distributions.py:2619: FutureWarning: `distplot` is a deprecated function and will be removed in a future version. Please adapt your code to use either `displot` (a figure-level function with similar flexibility) or `histplot` (an axes-level function for histograms).\n",
      "  warnings.warn(msg, FutureWarning)\n",
      "/Users/junho/opt/anaconda3/lib/python3.9/site-packages/seaborn/distributions.py:2619: FutureWarning: `distplot` is a deprecated function and will be removed in a future version. Please adapt your code to use either `displot` (a figure-level function with similar flexibility) or `histplot` (an axes-level function for histograms).\n",
      "  warnings.warn(msg, FutureWarning)\n"
     ]
    },
    {
     "data": {
      "image/png": "[encoded data removed]",
      "text/plain": [
       "<Figure size 432x288 with 1 Axes>"
      ]
     },
     "metadata": {
      "needs_background": "light"
     },
     "output_type": "display_data"
    }
   ],
   "source": [
    "# 콘크리트의 강도는 물과 시멘트의 비율이 낮아지면 증가합니다.\n",
    "# CementComponent:- Amount of cement is mixed\n",
    "# BlastFurnaceSlag:- Amount of Blast Furnace Slag is mixed\n",
    "# FlyAshComponent:- Amount of FlyAsh is mixed\n",
    "# WaterComponent:- Amount of water is mixed\n",
    "# SuperplasticizerComponent:- Amount of Super plasticizer is mixed\n",
    "# CoarseAggregateComponent:- Amount of Coarse Aggregate is mixed\n",
    "# FineAggregateComponent:- Amount of Coarse Aggregate is mixed\n",
    "# AgeInDays:- How many days it was left dry\n",
    "# Strength:- What was the final strength of concrete- (Target)\n",
    "for i in test.columns:\n",
    "    plt.title(f'{i}')\n",
    "    sns.distplot(train[f'{i}'],bins=50)#.plot.hist(bins=100,grid='on',figsize=(5,5))\n",
    "    sns.distplot(test[f'{i}'],color='red',bins=50)#.plot.hist(bins=100,grid='on',figsize=(5,5))\n",
    "    plt.show()\n"
   ]
  },
  {
   "cell_type": "code",
   "execution_count": 19,
   "id": "7acc093c",
   "metadata": {},
   "outputs": [],
   "source": [
    "train = train.reset_index(drop=True)"
   ]
  },
  {
   "cell_type": "code",
   "execution_count": 20,
   "id": "3fc610ca",
   "metadata": {},
   "outputs": [],
   "source": [
    "from sklearn.ensemble import GradientBoostingRegressor\n",
    "from xgboost import XGBRegressor\n",
    "from catboost import CatBoostRegressor\n",
    "from lightgbm import LGBMRegressor\n",
    "import optuna\n",
    "from optuna.samplers import TPESampler\n",
    "from sklearn.metrics import mean_squared_error\n",
    "from sklearn.model_selection import KFold, StratifiedKFold\n",
    "from sklearn.model_selection import GridSearchCV\n",
    "from tqdm import tqdm"
   ]
  },
  {
   "cell_type": "code",
   "execution_count": 21,
   "id": "0822223c",
   "metadata": {},
   "outputs": [],
   "source": [
    "target = 'Strength'\n",
    "features = [c for c in train.columns if c not in [target]]"
   ]
  },
  {
   "cell_type": "code",
   "execution_count": 45,
   "id": "1a6e6dff",
   "metadata": {},
   "outputs": [
    {
     "name": "stderr",
     "output_type": "stream",
     "text": [
      "\r",
      "0it [00:00, ?it/s]"
     ]
    },
    {
     "name": "stdout",
     "output_type": "stream",
     "text": [
      "0:\tlearn: 16.3450136\ttest: 16.0122829\tbest: 16.0122829 (0)\ttotal: 2.48ms\tremaining: 37.2s\n"
     ]
    },
    {
     "name": "stderr",
     "output_type": "stream",
     "text": [
      "\r",
      "1it [00:01,  1.67s/it]"
     ]
    },
    {
     "name": "stdout",
     "output_type": "stream",
     "text": [
      "Stopped by overfitting detector  (200 iterations wait)\n",
      "\n",
      "bestTest = 11.00299412\n",
      "bestIteration = 840\n",
      "\n",
      "Shrink model to first 841 iterations.\n",
      "mse on fold 0: 121.0659\n",
      "0:\tlearn: 16.3414343\ttest: 16.0492388\tbest: 16.0492388 (0)\ttotal: 1.44ms\tremaining: 21.6s\n"
     ]
    },
    {
     "name": "stderr",
     "output_type": "stream",
     "text": [
      "\r",
      "2it [00:03,  1.49s/it]"
     ]
    },
    {
     "name": "stdout",
     "output_type": "stream",
     "text": [
      "Stopped by overfitting detector  (200 iterations wait)\n",
      "\n",
      "bestTest = 11.50702006\n",
      "bestIteration = 702\n",
      "\n",
      "Shrink model to first 703 iterations.\n",
      "mse on fold 1: 132.4115\n",
      "0:\tlearn: 16.2442665\ttest: 16.8929163\tbest: 16.8929163 (0)\ttotal: 1.44ms\tremaining: 21.7s\n",
      "2000:\tlearn: 10.4111673\ttest: 11.3452335\tbest: 11.3450339 (1996)\ttotal: 2.91s\tremaining: 18.9s\n"
     ]
    },
    {
     "name": "stderr",
     "output_type": "stream",
     "text": [
      "\r",
      "3it [00:06,  2.37s/it]"
     ]
    },
    {
     "name": "stdout",
     "output_type": "stream",
     "text": [
      "Stopped by overfitting detector  (200 iterations wait)\n",
      "\n",
      "bestTest = 11.34215248\n",
      "bestIteration = 2090\n",
      "\n",
      "Shrink model to first 2091 iterations.\n",
      "mse on fold 2: 128.6444\n",
      "0:\tlearn: 16.2918984\ttest: 16.4575475\tbest: 16.4575475 (0)\ttotal: 1.36ms\tremaining: 20.5s\n"
     ]
    },
    {
     "name": "stderr",
     "output_type": "stream",
     "text": [
      "\r",
      "4it [00:09,  2.52s/it]"
     ]
    },
    {
     "name": "stdout",
     "output_type": "stream",
     "text": [
      "Stopped by overfitting detector  (200 iterations wait)\n",
      "\n",
      "bestTest = 10.92019477\n",
      "bestIteration = 1644\n",
      "\n",
      "Shrink model to first 1645 iterations.\n",
      "mse on fold 3: 119.2507\n",
      "0:\tlearn: 16.3022308\ttest: 16.3588846\tbest: 16.3588846 (0)\ttotal: 1.37ms\tremaining: 20.6s\n"
     ]
    },
    {
     "name": "stderr",
     "output_type": "stream",
     "text": [
      "\r",
      "5it [00:10,  1.94s/it]"
     ]
    },
    {
     "name": "stdout",
     "output_type": "stream",
     "text": [
      "Stopped by overfitting detector  (200 iterations wait)\n",
      "\n",
      "bestTest = 12.79050558\n",
      "bestIteration = 385\n",
      "\n",
      "Shrink model to first 386 iterations.\n",
      "mse on fold 4: 163.5970\n",
      "0:\tlearn: 16.3365341\ttest: 16.0853447\tbest: 16.0853447 (0)\ttotal: 1.69ms\tremaining: 25.3s\n"
     ]
    },
    {
     "name": "stderr",
     "output_type": "stream",
     "text": [
      "\r",
      "6it [00:11,  1.81s/it]"
     ]
    },
    {
     "name": "stdout",
     "output_type": "stream",
     "text": [
      "Stopped by overfitting detector  (200 iterations wait)\n",
      "\n",
      "bestTest = 11.34831015\n",
      "bestIteration = 849\n",
      "\n",
      "Shrink model to first 850 iterations.\n",
      "mse on fold 5: 128.7841\n",
      "0:\tlearn: 16.3124166\ttest: 16.3053919\tbest: 16.3053919 (0)\ttotal: 1.35ms\tremaining: 20.3s\n"
     ]
    },
    {
     "name": "stderr",
     "output_type": "stream",
     "text": [
      "\r",
      "7it [00:13,  1.76s/it]"
     ]
    },
    {
     "name": "stdout",
     "output_type": "stream",
     "text": [
      "Stopped by overfitting detector  (200 iterations wait)\n",
      "\n",
      "bestTest = 11.61446311\n",
      "bestIteration = 904\n",
      "\n",
      "Shrink model to first 905 iterations.\n",
      "mse on fold 6: 134.8958\n",
      "0:\tlearn: 16.3151494\ttest: 16.2561301\tbest: 16.2561301 (0)\ttotal: 1.49ms\tremaining: 22.4s\n"
     ]
    },
    {
     "name": "stderr",
     "output_type": "stream",
     "text": [
      "\r",
      "8it [00:15,  2.03s/it]"
     ]
    },
    {
     "name": "stdout",
     "output_type": "stream",
     "text": [
      "Stopped by overfitting detector  (200 iterations wait)\n",
      "\n",
      "bestTest = 11.96985269\n",
      "bestIteration = 1565\n",
      "\n",
      "Shrink model to first 1566 iterations.\n",
      "mse on fold 7: 143.2774\n",
      "0:\tlearn: 16.2626984\ttest: 16.7453808\tbest: 16.7453808 (0)\ttotal: 1.61ms\tremaining: 24.2s\n"
     ]
    },
    {
     "name": "stderr",
     "output_type": "stream",
     "text": [
      "\r",
      "9it [00:17,  1.89s/it]"
     ]
    },
    {
     "name": "stdout",
     "output_type": "stream",
     "text": [
      "Stopped by overfitting detector  (200 iterations wait)\n",
      "\n",
      "bestTest = 11.80921956\n",
      "bestIteration = 845\n",
      "\n",
      "Shrink model to first 846 iterations.\n",
      "mse on fold 8: 139.4577\n",
      "0:\tlearn: 16.3491161\ttest: 15.9487927\tbest: 15.9487927 (0)\ttotal: 1.94ms\tremaining: 29.1s\n"
     ]
    },
    {
     "name": "stderr",
     "output_type": "stream",
     "text": [
      "10it [00:19,  1.91s/it]"
     ]
    },
    {
     "name": "stdout",
     "output_type": "stream",
     "text": [
      "Stopped by overfitting detector  (200 iterations wait)\n",
      "\n",
      "bestTest = 11.52324907\n",
      "bestIteration = 846\n",
      "\n",
      "Shrink model to first 847 iterations.\n",
      "mse on fold 9: 132.7853\n",
      "mean mse across all folds: 134.4170\n"
     ]
    },
    {
     "name": "stderr",
     "output_type": "stream",
     "text": [
      "\n"
     ]
    }
   ],
   "source": [
    "kf = KFold(n_splits = 10, random_state = 41, shuffle = True)\n",
    "models = []\n",
    "val_scores = []\n",
    "preds = []\n",
    "\n",
    "params = {\n",
    "'n_estimators':15000,\n",
    "'max_depth':6,\n",
    "'early_stopping_rounds':200,\n",
    "'learning_rate':0.01,\n",
    "'one_hot_max_size':3,\n",
    "'bootstrap_type':\"MVS\",\n",
    "'l2_leaf_reg':2,\n",
    "'random_state':41\n",
    "         }\n",
    "\n",
    "for i, (train_index, val_index) in tqdm(enumerate(kf.split(train, train[target]))):\n",
    "    \n",
    "    X_train, X_val = train[features].loc[train_index], train[features].loc[val_index]\n",
    "    y_train, y_val = train[target][train_index], train[target][val_index]\n",
    "    \n",
    "#     if include_orig:\n",
    "#         X_train = X_train.append(original[features], ignore_index = True)\n",
    "#         y_train = y_train.append(original[target], ignore_index = True)\n",
    "    \n",
    "    model = CatBoostRegressor(**params)\n",
    "    \n",
    "    model.fit(X_train, y_train, eval_set = [(X_val, y_val)], verbose = 2000)\n",
    "    \n",
    "    models.append(model)\n",
    "    # pred = model.predict_proba(X_val)[:,1]\n",
    "    # score = accuracy_score(y_val, model.predict(X_val))\n",
    "    score = mean_squared_error(y_val, model.predict(X_val))\n",
    "\n",
    "    val_scores.append(score)\n",
    "    \n",
    "    print(f'mse on fold {i}: {score:.4f}')\n",
    "    \n",
    "print(f'mean mse across all folds: {np.mean(val_scores):.4f}')"
   ]
  },
  {
   "cell_type": "code",
   "execution_count": 46,
   "id": "884c9255",
   "metadata": {},
   "outputs": [
    {
     "data": {
      "text/plain": [
       "11.593833308431407"
      ]
     },
     "execution_count": 46,
     "metadata": {},
     "output_type": "execute_result"
    }
   ],
   "source": [
    "np.array(val_scores).mean()**(1/2)"
   ]
  },
  {
   "cell_type": "code",
   "execution_count": 47,
   "id": "b8b9c535",
   "metadata": {},
   "outputs": [
    {
     "data": {
      "text/plain": [
       "[<catboost.core.CatBoostRegressor at 0x159da1e20>,\n",
       " <catboost.core.CatBoostRegressor at 0x159e48430>,\n",
       " <catboost.core.CatBoostRegressor at 0x14e6686d0>,\n",
       " <catboost.core.CatBoostRegressor at 0x159dacc10>,\n",
       " <catboost.core.CatBoostRegressor at 0x159da1df0>,\n",
       " <catboost.core.CatBoostRegressor at 0x159da1eb0>,\n",
       " <catboost.core.CatBoostRegressor at 0x159e52310>,\n",
       " <catboost.core.CatBoostRegressor at 0x159e5aa60>,\n",
       " <catboost.core.CatBoostRegressor at 0x159e52fd0>,\n",
       " <catboost.core.CatBoostRegressor at 0x159e6ac10>]"
      ]
     },
     "execution_count": 47,
     "metadata": {},
     "output_type": "execute_result"
    }
   ],
   "source": [
    "models"
   ]
  },
  {
   "cell_type": "code",
   "execution_count": 52,
   "id": "7e7e1197",
   "metadata": {},
   "outputs": [
    {
     "name": "stderr",
     "output_type": "stream",
     "text": [
      "1it [00:02,  2.62s/it]"
     ]
    },
    {
     "name": "stdout",
     "output_type": "stream",
     "text": [
      "mse on fold 0: 126.5368\n"
     ]
    },
    {
     "name": "stderr",
     "output_type": "stream",
     "text": [
      "\r",
      "2it [00:05,  2.60s/it]"
     ]
    },
    {
     "name": "stdout",
     "output_type": "stream",
     "text": [
      "mse on fold 1: 138.7649\n"
     ]
    },
    {
     "name": "stderr",
     "output_type": "stream",
     "text": [
      "\r",
      "3it [00:07,  2.60s/it]"
     ]
    },
    {
     "name": "stdout",
     "output_type": "stream",
     "text": [
      "mse on fold 2: 137.5621\n"
     ]
    },
    {
     "name": "stderr",
     "output_type": "stream",
     "text": [
      "\r",
      "4it [00:10,  2.59s/it]"
     ]
    },
    {
     "name": "stdout",
     "output_type": "stream",
     "text": [
      "mse on fold 3: 126.0898\n"
     ]
    },
    {
     "name": "stderr",
     "output_type": "stream",
     "text": [
      "\r",
      "5it [00:12,  2.58s/it]"
     ]
    },
    {
     "name": "stdout",
     "output_type": "stream",
     "text": [
      "mse on fold 4: 166.0582\n"
     ]
    },
    {
     "name": "stderr",
     "output_type": "stream",
     "text": [
      "\r",
      "6it [00:15,  2.58s/it]"
     ]
    },
    {
     "name": "stdout",
     "output_type": "stream",
     "text": [
      "mse on fold 5: 132.2879\n"
     ]
    },
    {
     "name": "stderr",
     "output_type": "stream",
     "text": [
      "\r",
      "7it [00:18,  2.59s/it]"
     ]
    },
    {
     "name": "stdout",
     "output_type": "stream",
     "text": [
      "mse on fold 6: 138.5393\n"
     ]
    },
    {
     "name": "stderr",
     "output_type": "stream",
     "text": [
      "\r",
      "8it [00:20,  2.58s/it]"
     ]
    },
    {
     "name": "stdout",
     "output_type": "stream",
     "text": [
      "mse on fold 7: 147.9713\n"
     ]
    },
    {
     "name": "stderr",
     "output_type": "stream",
     "text": [
      "\r",
      "9it [00:23,  2.58s/it]"
     ]
    },
    {
     "name": "stdout",
     "output_type": "stream",
     "text": [
      "mse on fold 8: 144.0599\n"
     ]
    },
    {
     "name": "stderr",
     "output_type": "stream",
     "text": [
      "10it [00:25,  2.59s/it]"
     ]
    },
    {
     "name": "stdout",
     "output_type": "stream",
     "text": [
      "mse on fold 9: 135.0610\n",
      "mean mse across all folds: 139.2931\n"
     ]
    },
    {
     "name": "stderr",
     "output_type": "stream",
     "text": [
      "\n"
     ]
    }
   ],
   "source": [
    "kf = KFold(n_splits = 10, random_state = 41, shuffle = True)\n",
    "models = []\n",
    "val_scores = []\n",
    "preds = []\n",
    "\n",
    "params = {\n",
    "'n_estimators':200,\n",
    "'max_depth':6,\n",
    "#'early_stopping_rounds':200,\n",
    "'learning_rate':0.01,\n",
    "#'one_hot_max_size':3,\n",
    "#'bootstrap_type':\"MVS\",\n",
    "#'l2_leaf_reg':2,\n",
    "'random_state':41\n",
    "         }\n",
    "\n",
    "for i, (train_index, val_index) in tqdm(enumerate(kf.split(train, train[target]))):\n",
    "    \n",
    "    X_train, X_val = train[features].loc[train_index], train[features].loc[val_index]\n",
    "    y_train, y_val = train[target][train_index], train[target][val_index]\n",
    "    \n",
    "#     if include_orig:\n",
    "#         X_train = X_train.append(original[features], ignore_index = True)\n",
    "#         y_train = y_train.append(original[target], ignore_index = True)\n",
    "    \n",
    "    model = GradientBoostingRegressor(**params)\n",
    "    \n",
    "    model.fit(X_train, y_train)\n",
    "    \n",
    "    models.append(model)\n",
    "    # pred = model.predict_proba(X_val)[:,1]\n",
    "    # score = accuracy_score(y_val, model.predict(X_val))\n",
    "    score = mean_squared_error(y_val, model.predict(X_val))\n",
    "\n",
    "    val_scores.append(score)\n",
    "    \n",
    "    print(f'mse on fold {i}: {score:.4f}')\n",
    "    \n",
    "print(f'mean mse across all folds: {np.mean(val_scores):.4f}')"
   ]
  },
  {
   "cell_type": "code",
   "execution_count": 70,
   "id": "b88698fc",
   "metadata": {},
   "outputs": [
    {
     "data": {
      "text/plain": [
       "12.66868117832979"
      ]
     },
     "execution_count": 70,
     "metadata": {},
     "output_type": "execute_result"
    }
   ],
   "source": [
    "np.array(val_scores).mean()**(1/2)"
   ]
  },
  {
   "cell_type": "code",
   "execution_count": 91,
   "id": "21711a46",
   "metadata": {},
   "outputs": [
    {
     "name": "stderr",
     "output_type": "stream",
     "text": [
      "1it [00:04,  4.50s/it]"
     ]
    },
    {
     "name": "stdout",
     "output_type": "stream",
     "text": [
      "score on fold 0: 152.3097\n"
     ]
    },
    {
     "name": "stderr",
     "output_type": "stream",
     "text": [
      "\r",
      "2it [00:08,  4.45s/it]"
     ]
    },
    {
     "name": "stdout",
     "output_type": "stream",
     "text": [
      "score on fold 1: 160.3199\n"
     ]
    },
    {
     "name": "stderr",
     "output_type": "stream",
     "text": [
      "\r",
      "3it [00:13,  4.36s/it]"
     ]
    },
    {
     "name": "stdout",
     "output_type": "stream",
     "text": [
      "score on fold 2: 140.2740\n"
     ]
    },
    {
     "name": "stderr",
     "output_type": "stream",
     "text": [
      "\r",
      "4it [00:17,  4.42s/it]"
     ]
    },
    {
     "name": "stdout",
     "output_type": "stream",
     "text": [
      "score on fold 3: 154.3782\n"
     ]
    },
    {
     "name": "stderr",
     "output_type": "stream",
     "text": [
      "\r",
      "5it [00:21,  4.38s/it]"
     ]
    },
    {
     "name": "stdout",
     "output_type": "stream",
     "text": [
      "score on fold 4: 165.0598\n"
     ]
    },
    {
     "name": "stderr",
     "output_type": "stream",
     "text": [
      "\r",
      "6it [00:26,  4.35s/it]"
     ]
    },
    {
     "name": "stdout",
     "output_type": "stream",
     "text": [
      "score on fold 5: 154.7581\n"
     ]
    },
    {
     "name": "stderr",
     "output_type": "stream",
     "text": [
      "\r",
      "7it [00:30,  4.30s/it]"
     ]
    },
    {
     "name": "stdout",
     "output_type": "stream",
     "text": [
      "score on fold 6: 165.0972\n"
     ]
    },
    {
     "name": "stderr",
     "output_type": "stream",
     "text": [
      "\r",
      "8it [00:33,  4.00s/it]"
     ]
    },
    {
     "name": "stdout",
     "output_type": "stream",
     "text": [
      "score on fold 7: 152.6178\n"
     ]
    },
    {
     "name": "stderr",
     "output_type": "stream",
     "text": [
      "\r",
      "9it [00:36,  3.61s/it]"
     ]
    },
    {
     "name": "stdout",
     "output_type": "stream",
     "text": [
      "score on fold 8: 140.2845\n"
     ]
    },
    {
     "name": "stderr",
     "output_type": "stream",
     "text": [
      "10it [00:39,  3.92s/it]"
     ]
    },
    {
     "name": "stdout",
     "output_type": "stream",
     "text": [
      "score on fold 9: 160.0737\n",
      "mean score across all folds: 154.5173\n"
     ]
    },
    {
     "name": "stderr",
     "output_type": "stream",
     "text": [
      "\n"
     ]
    }
   ],
   "source": [
    "kf = KFold(n_splits = 10, random_state = 5, shuffle = True)\n",
    "models = []\n",
    "val_scores = []\n",
    "preds = []\n",
    "\n",
    "include_orig = True\n",
    "\n",
    "xgb_params = {'n_estimators'     : 3000,\n",
    "              'min_child_weight' : 96,\n",
    "              'max_depth'        : 7,\n",
    "              'learning_rate'    : 0.05,\n",
    "              'subsample'        : 0.95,\n",
    "              'colsample_bytree' : 0.95,\n",
    "              'reg_lambda'       : 1.50,\n",
    "              'reg_alpha'        : 1.50,\n",
    "              'gamma'            : 1.50,\n",
    "              'max_bin'          : 512,\n",
    "              'random_state'     : 41,\n",
    "              # 'objective'        : 'binary:logistic',\n",
    "              'tree_method'      : 'hist',\n",
    "              'eval_metric'      : 'auc'\n",
    "             }\n",
    "# xgb_params = {'max_depth': 3,\n",
    "#  'learning_rate': 0.09457198987172621,\n",
    "#  'min_child_weight': 9,\n",
    "#  'gamma': 0.3126168664550514,\n",
    "#  'subsample': 0.5585879695479943,\n",
    "#  'colsample_bytree': 0.46793424854801835,\n",
    "#  'reg_alpha': 0.21235299325212031,\n",
    "#  'reg_lambda': 0.4236760707956293,\n",
    "#  'n_estimators': 606}\n",
    "\n",
    "for i, (train_index, val_index) in tqdm(enumerate(kf.split(train, train[target]))):\n",
    "    \n",
    "    X_train, X_val = train[features].loc[train_index], train[features].loc[val_index]\n",
    "    y_train, y_val = train[target][train_index], train[target][val_index]\n",
    "    \n",
    "#     if include_orig:\n",
    "#         X_train = X_train.append(original[features], ignore_index = True)\n",
    "#         y_train = y_train.append(original[target], ignore_index = True)\n",
    "    \n",
    "    model = XGBRegressor(**xgb_params)\n",
    "    \n",
    "    model.fit(X_train, y_train)\n",
    "    \n",
    "    models.append(model)\n",
    "    pred = model.predict(X_val)\n",
    "    # score = roc_auc_score(y_val, pred)\n",
    "    score = mean_squared_error(y_val, model.predict(X_val))\n",
    "\n",
    "    val_scores.append(score)\n",
    "    \n",
    "    print(f'score on fold {i}: {score:.4f}')\n",
    "    \n",
    "print(f'mean score across all folds: {np.mean(val_scores):.4f}')"
   ]
  },
  {
   "cell_type": "code",
   "execution_count": 92,
   "id": "92c60b71",
   "metadata": {},
   "outputs": [
    {
     "data": {
      "text/plain": [
       "12.4304986524579"
      ]
     },
     "execution_count": 92,
     "metadata": {},
     "output_type": "execute_result"
    }
   ],
   "source": [
    "np.array(val_scores).mean()**(1/2)"
   ]
  },
  {
   "cell_type": "code",
   "execution_count": 93,
   "id": "5b994a02",
   "metadata": {},
   "outputs": [
    {
     "data": {
      "image/png": "[encoded data removed]",
      "text/plain": [
       "<Figure size 360x432 with 1 Axes>"
      ]
     },
     "metadata": {
      "needs_background": "light"
     },
     "output_type": "display_data"
    }
   ],
   "source": [
    "plt.figure(figsize = (5, 6))\n",
    "cat_imp = np.zeros(len(models[0].feature_importances_))\n",
    "for model in models[:10]:\n",
    "    cat_imp += model.feature_importances_\n",
    "    \n",
    "plt.barh([features[i] for i in np.argsort(cat_imp)], sorted(cat_imp), \n",
    "         color = \"orange\", edgecolor = \"#000000\")\n",
    "\n",
    "plt.title(\"CatBoost\")\n",
    "plt.show()"
   ]
  },
  {
   "cell_type": "code",
   "execution_count": 90,
   "id": "f7f24165",
   "metadata": {},
   "outputs": [
    {
     "data": {
      "text/plain": [
       "[GradientBoostingRegressor(learning_rate=0.01, max_depth=6, n_estimators=200,\n",
       "                           random_state=41),\n",
       " GradientBoostingRegressor(learning_rate=0.01, max_depth=6, n_estimators=200,\n",
       "                           random_state=41),\n",
       " GradientBoostingRegressor(learning_rate=0.01, max_depth=6, n_estimators=200,\n",
       "                           random_state=41),\n",
       " GradientBoostingRegressor(learning_rate=0.01, max_depth=6, n_estimators=200,\n",
       "                           random_state=41),\n",
       " GradientBoostingRegressor(learning_rate=0.01, max_depth=6, n_estimators=200,\n",
       "                           random_state=41),\n",
       " GradientBoostingRegressor(learning_rate=0.01, max_depth=6, n_estimators=200,\n",
       "                           random_state=41),\n",
       " GradientBoostingRegressor(learning_rate=0.01, max_depth=6, n_estimators=200,\n",
       "                           random_state=41),\n",
       " GradientBoostingRegressor(learning_rate=0.01, max_depth=6, n_estimators=200,\n",
       "                           random_state=41),\n",
       " GradientBoostingRegressor(learning_rate=0.01, max_depth=6, n_estimators=200,\n",
       "                           random_state=41),\n",
       " GradientBoostingRegressor(learning_rate=0.01, max_depth=6, n_estimators=200,\n",
       "                           random_state=41),\n",
       " LGBMRegressor(bagging_freq=5, learning_rate=0.005, max_depth=10,\n",
       "               min_child_samples=10, min_data_in_leaf=10, num_leaves=10,\n",
       "               random_state=41, scale_pos_weight=2),\n",
       " LGBMRegressor(bagging_freq=5, learning_rate=0.005, max_depth=10,\n",
       "               min_child_samples=10, min_data_in_leaf=10, num_leaves=10,\n",
       "               random_state=41, scale_pos_weight=2),\n",
       " LGBMRegressor(bagging_freq=5, learning_rate=0.005, max_depth=10,\n",
       "               min_child_samples=10, min_data_in_leaf=10, num_leaves=10,\n",
       "               random_state=41, scale_pos_weight=2),\n",
       " LGBMRegressor(bagging_freq=5, learning_rate=0.005, max_depth=10,\n",
       "               min_child_samples=10, min_data_in_leaf=10, num_leaves=10,\n",
       "               random_state=41, scale_pos_weight=2),\n",
       " LGBMRegressor(bagging_freq=5, learning_rate=0.005, max_depth=10,\n",
       "               min_child_samples=10, min_data_in_leaf=10, num_leaves=10,\n",
       "               random_state=41, scale_pos_weight=2),\n",
       " LGBMRegressor(bagging_freq=5, learning_rate=0.005, max_depth=10,\n",
       "               min_child_samples=10, min_data_in_leaf=10, num_leaves=10,\n",
       "               random_state=41, scale_pos_weight=2),\n",
       " LGBMRegressor(bagging_freq=5, learning_rate=0.005, max_depth=10,\n",
       "               min_child_samples=10, min_data_in_leaf=10, num_leaves=10,\n",
       "               random_state=41, scale_pos_weight=2),\n",
       " LGBMRegressor(bagging_freq=5, learning_rate=0.005, max_depth=10,\n",
       "               min_child_samples=10, min_data_in_leaf=10, num_leaves=10,\n",
       "               random_state=41, scale_pos_weight=2),\n",
       " LGBMRegressor(bagging_freq=5, learning_rate=0.005, max_depth=10,\n",
       "               min_child_samples=10, min_data_in_leaf=10, num_leaves=10,\n",
       "               random_state=41, scale_pos_weight=2),\n",
       " LGBMRegressor(bagging_freq=5, learning_rate=0.005, max_depth=10,\n",
       "               min_child_samples=10, min_data_in_leaf=10, num_leaves=10,\n",
       "               random_state=41, scale_pos_weight=2),\n",
       " LGBMRegressor(bagging_freq=5, lambda_l2=14.705798704172345, learning_rate=0.01,\n",
       "               max_depth=10, min_child_samples=10, min_data_in_leaf=10,\n",
       "               num_leaves=10, random_state=41, scale_pos_weight=2),\n",
       " LGBMRegressor(bagging_freq=5, lambda_l2=14.705798704172345, learning_rate=0.01,\n",
       "               max_depth=10, min_child_samples=10, min_data_in_leaf=10,\n",
       "               num_leaves=10, random_state=41, scale_pos_weight=2),\n",
       " LGBMRegressor(bagging_freq=5, lambda_l2=14.705798704172345, learning_rate=0.01,\n",
       "               max_depth=10, min_child_samples=10, min_data_in_leaf=10,\n",
       "               num_leaves=10, random_state=41, scale_pos_weight=2),\n",
       " LGBMRegressor(bagging_freq=5, lambda_l2=14.705798704172345, learning_rate=0.01,\n",
       "               max_depth=10, min_child_samples=10, min_data_in_leaf=10,\n",
       "               num_leaves=10, random_state=41, scale_pos_weight=2),\n",
       " LGBMRegressor(bagging_freq=5, lambda_l2=14.705798704172345, learning_rate=0.01,\n",
       "               max_depth=10, min_child_samples=10, min_data_in_leaf=10,\n",
       "               num_leaves=10, random_state=41, scale_pos_weight=2),\n",
       " LGBMRegressor(bagging_freq=5, lambda_l2=14.705798704172345, learning_rate=0.01,\n",
       "               max_depth=10, min_child_samples=10, min_data_in_leaf=10,\n",
       "               num_leaves=10, random_state=41, scale_pos_weight=2),\n",
       " LGBMRegressor(bagging_freq=5, lambda_l2=14.705798704172345, learning_rate=0.01,\n",
       "               max_depth=10, min_child_samples=10, min_data_in_leaf=10,\n",
       "               num_leaves=10, random_state=41, scale_pos_weight=2),\n",
       " LGBMRegressor(bagging_freq=5, lambda_l2=14.705798704172345, learning_rate=0.01,\n",
       "               max_depth=10, min_child_samples=10, min_data_in_leaf=10,\n",
       "               num_leaves=10, random_state=41, scale_pos_weight=2),\n",
       " LGBMRegressor(bagging_freq=5, lambda_l2=14.705798704172345, learning_rate=0.01,\n",
       "               max_depth=10, min_child_samples=10, min_data_in_leaf=10,\n",
       "               num_leaves=10, random_state=41, scale_pos_weight=2),\n",
       " LGBMRegressor(bagging_freq=5, lambda_l2=14.705798704172345, learning_rate=0.01,\n",
       "               max_depth=10, min_child_samples=10, min_data_in_leaf=10,\n",
       "               num_leaves=10, random_state=41, scale_pos_weight=2),\n",
       " LGBMRegressor(bagging_fraction=0.5053012488246705, bagging_freq=5,\n",
       "               feature_fraction=0.8402041342033796, lambda_l2=14.705798704172345,\n",
       "               learning_rate=0.01, max_depth=10, min_child_samples=10,\n",
       "               min_data_in_leaf=10, num_leaves=10, random_state=41,\n",
       "               scale_pos_weight=2),\n",
       " LGBMRegressor(bagging_fraction=0.5053012488246705, bagging_freq=5,\n",
       "               feature_fraction=0.8402041342033796, lambda_l2=14.705798704172345,\n",
       "               learning_rate=0.01, max_depth=10, min_child_samples=10,\n",
       "               min_data_in_leaf=10, num_leaves=10, random_state=41,\n",
       "               scale_pos_weight=2),\n",
       " LGBMRegressor(bagging_fraction=0.5053012488246705, bagging_freq=5,\n",
       "               feature_fraction=0.8402041342033796, lambda_l2=14.705798704172345,\n",
       "               learning_rate=0.01, max_depth=10, min_child_samples=10,\n",
       "               min_data_in_leaf=10, num_leaves=10, random_state=41,\n",
       "               scale_pos_weight=2),\n",
       " LGBMRegressor(bagging_fraction=0.5053012488246705, bagging_freq=5,\n",
       "               feature_fraction=0.8402041342033796, lambda_l2=14.705798704172345,\n",
       "               learning_rate=0.01, max_depth=10, min_child_samples=10,\n",
       "               min_data_in_leaf=10, num_leaves=10, random_state=41,\n",
       "               scale_pos_weight=2),\n",
       " LGBMRegressor(bagging_fraction=0.5053012488246705, bagging_freq=5,\n",
       "               feature_fraction=0.8402041342033796, lambda_l2=14.705798704172345,\n",
       "               learning_rate=0.01, max_depth=10, min_child_samples=10,\n",
       "               min_data_in_leaf=10, num_leaves=10, random_state=41,\n",
       "               scale_pos_weight=2),\n",
       " LGBMRegressor(bagging_fraction=0.5053012488246705, bagging_freq=5,\n",
       "               feature_fraction=0.8402041342033796, lambda_l2=14.705798704172345,\n",
       "               learning_rate=0.01, max_depth=10, min_child_samples=10,\n",
       "               min_data_in_leaf=10, num_leaves=10, random_state=41,\n",
       "               scale_pos_weight=2),\n",
       " LGBMRegressor(bagging_fraction=0.5053012488246705, bagging_freq=5,\n",
       "               feature_fraction=0.8402041342033796, lambda_l2=14.705798704172345,\n",
       "               learning_rate=0.01, max_depth=10, min_child_samples=10,\n",
       "               min_data_in_leaf=10, num_leaves=10, random_state=41,\n",
       "               scale_pos_weight=2),\n",
       " LGBMRegressor(bagging_fraction=0.5053012488246705, bagging_freq=5,\n",
       "               feature_fraction=0.8402041342033796, lambda_l2=14.705798704172345,\n",
       "               learning_rate=0.01, max_depth=10, min_child_samples=10,\n",
       "               min_data_in_leaf=10, num_leaves=10, random_state=41,\n",
       "               scale_pos_weight=2),\n",
       " LGBMRegressor(bagging_fraction=0.5053012488246705, bagging_freq=5,\n",
       "               feature_fraction=0.8402041342033796, lambda_l2=14.705798704172345,\n",
       "               learning_rate=0.01, max_depth=10, min_child_samples=10,\n",
       "               min_data_in_leaf=10, num_leaves=10, random_state=41,\n",
       "               scale_pos_weight=2),\n",
       " LGBMRegressor(bagging_fraction=0.5053012488246705, bagging_freq=5,\n",
       "               feature_fraction=0.8402041342033796, lambda_l2=14.705798704172345,\n",
       "               learning_rate=0.01, max_depth=10, min_child_samples=10,\n",
       "               min_data_in_leaf=10, num_leaves=10, random_state=41,\n",
       "               scale_pos_weight=2),\n",
       " LGBMRegressor(bagging_fraction=0.5, bagging_freq=5,\n",
       "               feature_fraction=0.8402041342033796, lambda_l2=14.705798704172345,\n",
       "               learning_rate=0.01, max_depth=10, min_child_samples=10,\n",
       "               min_data_in_leaf=10, num_leaves=10, random_state=41,\n",
       "               scale_pos_weight=2),\n",
       " LGBMRegressor(bagging_fraction=0.5, bagging_freq=5,\n",
       "               feature_fraction=0.8402041342033796, lambda_l2=14.705798704172345,\n",
       "               learning_rate=0.01, max_depth=10, min_child_samples=10,\n",
       "               min_data_in_leaf=10, num_leaves=10, random_state=41,\n",
       "               scale_pos_weight=2),\n",
       " LGBMRegressor(bagging_fraction=0.5, bagging_freq=5,\n",
       "               feature_fraction=0.8402041342033796, lambda_l2=14.705798704172345,\n",
       "               learning_rate=0.01, max_depth=10, min_child_samples=10,\n",
       "               min_data_in_leaf=10, num_leaves=10, random_state=41,\n",
       "               scale_pos_weight=2),\n",
       " LGBMRegressor(bagging_fraction=0.5, bagging_freq=5,\n",
       "               feature_fraction=0.8402041342033796, lambda_l2=14.705798704172345,\n",
       "               learning_rate=0.01, max_depth=10, min_child_samples=10,\n",
       "               min_data_in_leaf=10, num_leaves=10, random_state=41,\n",
       "               scale_pos_weight=2),\n",
       " LGBMRegressor(bagging_fraction=0.5, bagging_freq=5,\n",
       "               feature_fraction=0.8402041342033796, lambda_l2=14.705798704172345,\n",
       "               learning_rate=0.01, max_depth=10, min_child_samples=10,\n",
       "               min_data_in_leaf=10, num_leaves=10, random_state=41,\n",
       "               scale_pos_weight=2),\n",
       " LGBMRegressor(bagging_fraction=0.5, bagging_freq=5,\n",
       "               feature_fraction=0.8402041342033796, lambda_l2=14.705798704172345,\n",
       "               learning_rate=0.01, max_depth=10, min_child_samples=10,\n",
       "               min_data_in_leaf=10, num_leaves=10, random_state=41,\n",
       "               scale_pos_weight=2),\n",
       " LGBMRegressor(bagging_fraction=0.5, bagging_freq=5,\n",
       "               feature_fraction=0.8402041342033796, lambda_l2=14.705798704172345,\n",
       "               learning_rate=0.01, max_depth=10, min_child_samples=10,\n",
       "               min_data_in_leaf=10, num_leaves=10, random_state=41,\n",
       "               scale_pos_weight=2),\n",
       " LGBMRegressor(bagging_fraction=0.5, bagging_freq=5,\n",
       "               feature_fraction=0.8402041342033796, lambda_l2=14.705798704172345,\n",
       "               learning_rate=0.01, max_depth=10, min_child_samples=10,\n",
       "               min_data_in_leaf=10, num_leaves=10, random_state=41,\n",
       "               scale_pos_weight=2),\n",
       " LGBMRegressor(bagging_fraction=0.5, bagging_freq=5,\n",
       "               feature_fraction=0.8402041342033796, lambda_l2=14.705798704172345,\n",
       "               learning_rate=0.01, max_depth=10, min_child_samples=10,\n",
       "               min_data_in_leaf=10, num_leaves=10, random_state=41,\n",
       "               scale_pos_weight=2),\n",
       " LGBMRegressor(bagging_fraction=0.5, bagging_freq=5,\n",
       "               feature_fraction=0.8402041342033796, lambda_l2=14.705798704172345,\n",
       "               learning_rate=0.01, max_depth=10, min_child_samples=10,\n",
       "               min_data_in_leaf=10, num_leaves=10, random_state=41,\n",
       "               scale_pos_weight=2),\n",
       " LGBMRegressor(bagging_fraction=0.5, bagging_freq=5,\n",
       "               feature_fraction=0.8402041342033796, lambda_l2=14.705798704172345,\n",
       "               learning_rate=0.01, max_depth=6, min_child_samples=10,\n",
       "               min_data_in_leaf=10, num_leaves=10, random_state=41,\n",
       "               scale_pos_weight=2),\n",
       " LGBMRegressor(bagging_fraction=0.5, bagging_freq=5,\n",
       "               feature_fraction=0.8402041342033796, lambda_l2=14.705798704172345,\n",
       "               learning_rate=0.01, max_depth=6, min_child_samples=10,\n",
       "               min_data_in_leaf=10, num_leaves=10, random_state=41,\n",
       "               scale_pos_weight=2),\n",
       " LGBMRegressor(bagging_fraction=0.5, bagging_freq=5,\n",
       "               feature_fraction=0.8402041342033796, lambda_l2=14.705798704172345,\n",
       "               learning_rate=0.01, max_depth=6, min_child_samples=10,\n",
       "               min_data_in_leaf=10, num_leaves=10, random_state=41,\n",
       "               scale_pos_weight=2),\n",
       " LGBMRegressor(bagging_fraction=0.5, bagging_freq=5,\n",
       "               feature_fraction=0.8402041342033796, lambda_l2=14.705798704172345,\n",
       "               learning_rate=0.01, max_depth=6, min_child_samples=10,\n",
       "               min_data_in_leaf=10, num_leaves=10, random_state=41,\n",
       "               scale_pos_weight=2),\n",
       " LGBMRegressor(bagging_fraction=0.5, bagging_freq=5,\n",
       "               feature_fraction=0.8402041342033796, lambda_l2=14.705798704172345,\n",
       "               learning_rate=0.01, max_depth=6, min_child_samples=10,\n",
       "               min_data_in_leaf=10, num_leaves=10, random_state=41,\n",
       "               scale_pos_weight=2),\n",
       " LGBMRegressor(bagging_fraction=0.5, bagging_freq=5,\n",
       "               feature_fraction=0.8402041342033796, lambda_l2=14.705798704172345,\n",
       "               learning_rate=0.01, max_depth=6, min_child_samples=10,\n",
       "               min_data_in_leaf=10, num_leaves=10, random_state=41,\n",
       "               scale_pos_weight=2),\n",
       " LGBMRegressor(bagging_fraction=0.5, bagging_freq=5,\n",
       "               feature_fraction=0.8402041342033796, lambda_l2=14.705798704172345,\n",
       "               learning_rate=0.01, max_depth=6, min_child_samples=10,\n",
       "               min_data_in_leaf=10, num_leaves=10, random_state=41,\n",
       "               scale_pos_weight=2),\n",
       " LGBMRegressor(bagging_fraction=0.5, bagging_freq=5,\n",
       "               feature_fraction=0.8402041342033796, lambda_l2=14.705798704172345,\n",
       "               learning_rate=0.01, max_depth=6, min_child_samples=10,\n",
       "               min_data_in_leaf=10, num_leaves=10, random_state=41,\n",
       "               scale_pos_weight=2),\n",
       " LGBMRegressor(bagging_fraction=0.5, bagging_freq=5,\n",
       "               feature_fraction=0.8402041342033796, lambda_l2=14.705798704172345,\n",
       "               learning_rate=0.01, max_depth=6, min_child_samples=10,\n",
       "               min_data_in_leaf=10, num_leaves=10, random_state=41,\n",
       "               scale_pos_weight=2),\n",
       " LGBMRegressor(bagging_fraction=0.5, bagging_freq=5,\n",
       "               feature_fraction=0.8402041342033796, lambda_l2=14.705798704172345,\n",
       "               learning_rate=0.01, max_depth=6, min_child_samples=10,\n",
       "               min_data_in_leaf=10, num_leaves=10, random_state=41,\n",
       "               scale_pos_weight=2),\n",
       " LGBMRegressor(bagging_fraction=0.5, bagging_freq=5,\n",
       "               feature_fraction=0.8402041342033796, lambda_l2=14.705798704172345,\n",
       "               learning_rate=0.01, max_depth=8, min_child_samples=10,\n",
       "               min_data_in_leaf=10, num_leaves=10, random_state=41,\n",
       "               scale_pos_weight=2),\n",
       " LGBMRegressor(bagging_fraction=0.5, bagging_freq=5,\n",
       "               feature_fraction=0.8402041342033796, lambda_l2=14.705798704172345,\n",
       "               learning_rate=0.01, max_depth=8, min_child_samples=10,\n",
       "               min_data_in_leaf=10, num_leaves=10, random_state=41,\n",
       "               scale_pos_weight=2),\n",
       " LGBMRegressor(bagging_fraction=0.5, bagging_freq=5,\n",
       "               feature_fraction=0.8402041342033796, lambda_l2=14.705798704172345,\n",
       "               learning_rate=0.01, max_depth=8, min_child_samples=10,\n",
       "               min_data_in_leaf=10, num_leaves=10, random_state=41,\n",
       "               scale_pos_weight=2),\n",
       " LGBMRegressor(bagging_fraction=0.5, bagging_freq=5,\n",
       "               feature_fraction=0.8402041342033796, lambda_l2=14.705798704172345,\n",
       "               learning_rate=0.01, max_depth=8, min_child_samples=10,\n",
       "               min_data_in_leaf=10, num_leaves=10, random_state=41,\n",
       "               scale_pos_weight=2),\n",
       " LGBMRegressor(bagging_fraction=0.5, bagging_freq=5,\n",
       "               feature_fraction=0.8402041342033796, lambda_l2=14.705798704172345,\n",
       "               learning_rate=0.01, max_depth=8, min_child_samples=10,\n",
       "               min_data_in_leaf=10, num_leaves=10, random_state=41,\n",
       "               scale_pos_weight=2),\n",
       " LGBMRegressor(bagging_fraction=0.5, bagging_freq=5,\n",
       "               feature_fraction=0.8402041342033796, lambda_l2=14.705798704172345,\n",
       "               learning_rate=0.01, max_depth=8, min_child_samples=10,\n",
       "               min_data_in_leaf=10, num_leaves=10, random_state=41,\n",
       "               scale_pos_weight=2),\n",
       " LGBMRegressor(bagging_fraction=0.5, bagging_freq=5,\n",
       "               feature_fraction=0.8402041342033796, lambda_l2=14.705798704172345,\n",
       "               learning_rate=0.01, max_depth=8, min_child_samples=10,\n",
       "               min_data_in_leaf=10, num_leaves=10, random_state=41,\n",
       "               scale_pos_weight=2),\n",
       " LGBMRegressor(bagging_fraction=0.5, bagging_freq=5,\n",
       "               feature_fraction=0.8402041342033796, lambda_l2=14.705798704172345,\n",
       "               learning_rate=0.01, max_depth=8, min_child_samples=10,\n",
       "               min_data_in_leaf=10, num_leaves=10, random_state=41,\n",
       "               scale_pos_weight=2),\n",
       " LGBMRegressor(bagging_fraction=0.5, bagging_freq=5,\n",
       "               feature_fraction=0.8402041342033796, lambda_l2=14.705798704172345,\n",
       "               learning_rate=0.01, max_depth=8, min_child_samples=10,\n",
       "               min_data_in_leaf=10, num_leaves=10, random_state=41,\n",
       "               scale_pos_weight=2),\n",
       " LGBMRegressor(bagging_fraction=0.5, bagging_freq=5,\n",
       "               feature_fraction=0.8402041342033796, lambda_l2=14.705798704172345,\n",
       "               learning_rate=0.01, max_depth=8, min_child_samples=10,\n",
       "               min_data_in_leaf=10, num_leaves=10, random_state=41,\n",
       "               scale_pos_weight=2),\n",
       " XGBRegressor(base_score=None, booster=None, callbacks=None,\n",
       "              colsample_bylevel=None, colsample_bynode=None,\n",
       "              colsample_bytree=None, early_stopping_rounds=None,\n",
       "              enable_categorical=False, eval_metric=None, feature_types=None,\n",
       "              gamma=None, gpu_id=None, grow_policy=None, importance_type=None,\n",
       "              interaction_constraints=None, learning_rate=None, max_bin=None,\n",
       "              max_cat_threshold=None, max_cat_to_onehot=None,\n",
       "              max_delta_step=None, max_depth=None, max_leaves=None,\n",
       "              min_child_weight=None, missing=nan, monotone_constraints=None,\n",
       "              n_estimators=100, n_jobs=None, num_parallel_tree=None,\n",
       "              predictor=None, random_state=None, ...),\n",
       " XGBRegressor(base_score=None, booster=None, callbacks=None,\n",
       "              colsample_bylevel=None, colsample_bynode=None,\n",
       "              colsample_bytree=None, early_stopping_rounds=None,\n",
       "              enable_categorical=False, eval_metric=None, feature_types=None,\n",
       "              gamma=None, gpu_id=None, grow_policy=None, importance_type=None,\n",
       "              interaction_constraints=None, learning_rate=None, max_bin=None,\n",
       "              max_cat_threshold=None, max_cat_to_onehot=None,\n",
       "              max_delta_step=None, max_depth=None, max_leaves=None,\n",
       "              min_child_weight=None, missing=nan, monotone_constraints=None,\n",
       "              n_estimators=100, n_jobs=None, num_parallel_tree=None,\n",
       "              predictor=None, random_state=None, ...),\n",
       " XGBRegressor(base_score=None, booster=None, callbacks=None,\n",
       "              colsample_bylevel=None, colsample_bynode=None,\n",
       "              colsample_bytree=None, early_stopping_rounds=None,\n",
       "              enable_categorical=False, eval_metric=None, feature_types=None,\n",
       "              gamma=None, gpu_id=None, grow_policy=None, importance_type=None,\n",
       "              interaction_constraints=None, learning_rate=None, max_bin=None,\n",
       "              max_cat_threshold=None, max_cat_to_onehot=None,\n",
       "              max_delta_step=None, max_depth=None, max_leaves=None,\n",
       "              min_child_weight=None, missing=nan, monotone_constraints=None,\n",
       "              n_estimators=100, n_jobs=None, num_parallel_tree=None,\n",
       "              predictor=None, random_state=None, ...),\n",
       " XGBRegressor(base_score=None, booster=None, callbacks=None,\n",
       "              colsample_bylevel=None, colsample_bynode=None,\n",
       "              colsample_bytree=None, early_stopping_rounds=None,\n",
       "              enable_categorical=False, eval_metric=None, feature_types=None,\n",
       "              gamma=None, gpu_id=None, grow_policy=None, importance_type=None,\n",
       "              interaction_constraints=None, learning_rate=None, max_bin=None,\n",
       "              max_cat_threshold=None, max_cat_to_onehot=None,\n",
       "              max_delta_step=None, max_depth=None, max_leaves=None,\n",
       "              min_child_weight=None, missing=nan, monotone_constraints=None,\n",
       "              n_estimators=100, n_jobs=None, num_parallel_tree=None,\n",
       "              predictor=None, random_state=None, ...),\n",
       " XGBRegressor(base_score=None, booster=None, callbacks=None,\n",
       "              colsample_bylevel=None, colsample_bynode=None,\n",
       "              colsample_bytree=None, early_stopping_rounds=None,\n",
       "              enable_categorical=False, eval_metric=None, feature_types=None,\n",
       "              gamma=None, gpu_id=None, grow_policy=None, importance_type=None,\n",
       "              interaction_constraints=None, learning_rate=None, max_bin=None,\n",
       "              max_cat_threshold=None, max_cat_to_onehot=None,\n",
       "              max_delta_step=None, max_depth=None, max_leaves=None,\n",
       "              min_child_weight=None, missing=nan, monotone_constraints=None,\n",
       "              n_estimators=100, n_jobs=None, num_parallel_tree=None,\n",
       "              predictor=None, random_state=None, ...),\n",
       " XGBRegressor(base_score=None, booster=None, callbacks=None,\n",
       "              colsample_bylevel=None, colsample_bynode=None,\n",
       "              colsample_bytree=None, early_stopping_rounds=None,\n",
       "              enable_categorical=False, eval_metric=None, feature_types=None,\n",
       "              gamma=None, gpu_id=None, grow_policy=None, importance_type=None,\n",
       "              interaction_constraints=None, learning_rate=None, max_bin=None,\n",
       "              max_cat_threshold=None, max_cat_to_onehot=None,\n",
       "              max_delta_step=None, max_depth=None, max_leaves=None,\n",
       "              min_child_weight=None, missing=nan, monotone_constraints=None,\n",
       "              n_estimators=100, n_jobs=None, num_parallel_tree=None,\n",
       "              predictor=None, random_state=None, ...),\n",
       " XGBRegressor(base_score=None, booster=None, callbacks=None,\n",
       "              colsample_bylevel=None, colsample_bynode=None,\n",
       "              colsample_bytree=None, early_stopping_rounds=None,\n",
       "              enable_categorical=False, eval_metric=None, feature_types=None,\n",
       "              gamma=None, gpu_id=None, grow_policy=None, importance_type=None,\n",
       "              interaction_constraints=None, learning_rate=None, max_bin=None,\n",
       "              max_cat_threshold=None, max_cat_to_onehot=None,\n",
       "              max_delta_step=None, max_depth=None, max_leaves=None,\n",
       "              min_child_weight=None, missing=nan, monotone_constraints=None,\n",
       "              n_estimators=100, n_jobs=None, num_parallel_tree=None,\n",
       "              predictor=None, random_state=None, ...),\n",
       " XGBRegressor(base_score=None, booster=None, callbacks=None,\n",
       "              colsample_bylevel=None, colsample_bynode=None,\n",
       "              colsample_bytree=None, early_stopping_rounds=None,\n",
       "              enable_categorical=False, eval_metric=None, feature_types=None,\n",
       "              gamma=None, gpu_id=None, grow_policy=None, importance_type=None,\n",
       "              interaction_constraints=None, learning_rate=None, max_bin=None,\n",
       "              max_cat_threshold=None, max_cat_to_onehot=None,\n",
       "              max_delta_step=None, max_depth=None, max_leaves=None,\n",
       "              min_child_weight=None, missing=nan, monotone_constraints=None,\n",
       "              n_estimators=100, n_jobs=None, num_parallel_tree=None,\n",
       "              predictor=None, random_state=None, ...),\n",
       " XGBRegressor(base_score=None, booster=None, callbacks=None,\n",
       "              colsample_bylevel=None, colsample_bynode=None,\n",
       "              colsample_bytree=None, early_stopping_rounds=None,\n",
       "              enable_categorical=False, eval_metric=None, feature_types=None,\n",
       "              gamma=None, gpu_id=None, grow_policy=None, importance_type=None,\n",
       "              interaction_constraints=None, learning_rate=None, max_bin=None,\n",
       "              max_cat_threshold=None, max_cat_to_onehot=None,\n",
       "              max_delta_step=None, max_depth=None, max_leaves=None,\n",
       "              min_child_weight=None, missing=nan, monotone_constraints=None,\n",
       "              n_estimators=100, n_jobs=None, num_parallel_tree=None,\n",
       "              predictor=None, random_state=None, ...),\n",
       " XGBRegressor(base_score=None, booster=None, callbacks=None,\n",
       "              colsample_bylevel=None, colsample_bynode=None,\n",
       "              colsample_bytree=None, early_stopping_rounds=None,\n",
       "              enable_categorical=False, eval_metric=None, feature_types=None,\n",
       "              gamma=None, gpu_id=None, grow_policy=None, importance_type=None,\n",
       "              interaction_constraints=None, learning_rate=None, max_bin=None,\n",
       "              max_cat_threshold=None, max_cat_to_onehot=None,\n",
       "              max_delta_step=None, max_depth=None, max_leaves=None,\n",
       "              min_child_weight=None, missing=nan, monotone_constraints=None,\n",
       "              n_estimators=100, n_jobs=None, num_parallel_tree=None,\n",
       "              predictor=None, random_state=None, ...),\n",
       " XGBRegressor(base_score=None, booster=None, callbacks=None,\n",
       "              colsample_bylevel=None, colsample_bynode=None,\n",
       "              colsample_bytree=0.95, early_stopping_rounds=None,\n",
       "              enable_categorical=False, eval_metric='auc', feature_types=None,\n",
       "              gamma=1.5, gpu_id=None, grow_policy=None, importance_type=None,\n",
       "              interaction_constraints=None, learning_rate=0.05, max_bin=512,\n",
       "              max_cat_threshold=None, max_cat_to_onehot=None,\n",
       "              max_delta_step=None, max_depth=7, max_leaves=None,\n",
       "              min_child_weight=96, missing=nan, monotone_constraints=None,\n",
       "              n_estimators=3000, n_jobs=None, num_parallel_tree=None,\n",
       "              predictor=None, random_state=41, ...),\n",
       " XGBRegressor(base_score=None, booster=None, callbacks=None,\n",
       "              colsample_bylevel=None, colsample_bynode=None,\n",
       "              colsample_bytree=0.95, early_stopping_rounds=None,\n",
       "              enable_categorical=False, eval_metric='auc', feature_types=None,\n",
       "              gamma=1.5, gpu_id=None, grow_policy=None, importance_type=None,\n",
       "              interaction_constraints=None, learning_rate=0.05, max_bin=512,\n",
       "              max_cat_threshold=None, max_cat_to_onehot=None,\n",
       "              max_delta_step=None, max_depth=7, max_leaves=None,\n",
       "              min_child_weight=96, missing=nan, monotone_constraints=None,\n",
       "              n_estimators=3000, n_jobs=None, num_parallel_tree=None,\n",
       "              predictor=None, random_state=41, ...),\n",
       " XGBRegressor(base_score=None, booster=None, callbacks=None,\n",
       "              colsample_bylevel=None, colsample_bynode=None,\n",
       "              colsample_bytree=0.95, early_stopping_rounds=None,\n",
       "              enable_categorical=False, eval_metric='auc', feature_types=None,\n",
       "              gamma=1.5, gpu_id=None, grow_policy=None, importance_type=None,\n",
       "              interaction_constraints=None, learning_rate=0.05, max_bin=512,\n",
       "              max_cat_threshold=None, max_cat_to_onehot=None,\n",
       "              max_delta_step=None, max_depth=7, max_leaves=None,\n",
       "              min_child_weight=96, missing=nan, monotone_constraints=None,\n",
       "              n_estimators=3000, n_jobs=None, num_parallel_tree=None,\n",
       "              predictor=None, random_state=41, ...),\n",
       " XGBRegressor(base_score=None, booster=None, callbacks=None,\n",
       "              colsample_bylevel=None, colsample_bynode=None,\n",
       "              colsample_bytree=0.95, early_stopping_rounds=None,\n",
       "              enable_categorical=False, eval_metric='auc', feature_types=None,\n",
       "              gamma=1.5, gpu_id=None, grow_policy=None, importance_type=None,\n",
       "              interaction_constraints=None, learning_rate=0.05, max_bin=512,\n",
       "              max_cat_threshold=None, max_cat_to_onehot=None,\n",
       "              max_delta_step=None, max_depth=7, max_leaves=None,\n",
       "              min_child_weight=96, missing=nan, monotone_constraints=None,\n",
       "              n_estimators=3000, n_jobs=None, num_parallel_tree=None,\n",
       "              predictor=None, random_state=41, ...),\n",
       " XGBRegressor(base_score=None, booster=None, callbacks=None,\n",
       "              colsample_bylevel=None, colsample_bynode=None,\n",
       "              colsample_bytree=0.95, early_stopping_rounds=None,\n",
       "              enable_categorical=False, eval_metric='auc', feature_types=None,\n",
       "              gamma=1.5, gpu_id=None, grow_policy=None, importance_type=None,\n",
       "              interaction_constraints=None, learning_rate=0.05, max_bin=512,\n",
       "              max_cat_threshold=None, max_cat_to_onehot=None,\n",
       "              max_delta_step=None, max_depth=7, max_leaves=None,\n",
       "              min_child_weight=96, missing=nan, monotone_constraints=None,\n",
       "              n_estimators=3000, n_jobs=None, num_parallel_tree=None,\n",
       "              predictor=None, random_state=41, ...),\n",
       " XGBRegressor(base_score=None, booster=None, callbacks=None,\n",
       "              colsample_bylevel=None, colsample_bynode=None,\n",
       "              colsample_bytree=0.95, early_stopping_rounds=None,\n",
       "              enable_categorical=False, eval_metric='auc', feature_types=None,\n",
       "              gamma=1.5, gpu_id=None, grow_policy=None, importance_type=None,\n",
       "              interaction_constraints=None, learning_rate=0.05, max_bin=512,\n",
       "              max_cat_threshold=None, max_cat_to_onehot=None,\n",
       "              max_delta_step=None, max_depth=7, max_leaves=None,\n",
       "              min_child_weight=96, missing=nan, monotone_constraints=None,\n",
       "              n_estimators=3000, n_jobs=None, num_parallel_tree=None,\n",
       "              predictor=None, random_state=41, ...),\n",
       " XGBRegressor(base_score=None, booster=None, callbacks=None,\n",
       "              colsample_bylevel=None, colsample_bynode=None,\n",
       "              colsample_bytree=0.95, early_stopping_rounds=None,\n",
       "              enable_categorical=False, eval_metric='auc', feature_types=None,\n",
       "              gamma=1.5, gpu_id=None, grow_policy=None, importance_type=None,\n",
       "              interaction_constraints=None, learning_rate=0.05, max_bin=512,\n",
       "              max_cat_threshold=None, max_cat_to_onehot=None,\n",
       "              max_delta_step=None, max_depth=7, max_leaves=None,\n",
       "              min_child_weight=96, missing=nan, monotone_constraints=None,\n",
       "              n_estimators=3000, n_jobs=None, num_parallel_tree=None,\n",
       "              predictor=None, random_state=41, ...),\n",
       " XGBRegressor(base_score=None, booster=None, callbacks=None,\n",
       "              colsample_bylevel=None, colsample_bynode=None,\n",
       "              colsample_bytree=0.95, early_stopping_rounds=None,\n",
       "              enable_categorical=False, eval_metric='auc', feature_types=None,\n",
       "              gamma=1.5, gpu_id=None, grow_policy=None, importance_type=None,\n",
       "              interaction_constraints=None, learning_rate=0.05, max_bin=512,\n",
       "              max_cat_threshold=None, max_cat_to_onehot=None,\n",
       "              max_delta_step=None, max_depth=7, max_leaves=None,\n",
       "              min_child_weight=96, missing=nan, monotone_constraints=None,\n",
       "              n_estimators=3000, n_jobs=None, num_parallel_tree=None,\n",
       "              predictor=None, random_state=41, ...),\n",
       " XGBRegressor(base_score=None, booster=None, callbacks=None,\n",
       "              colsample_bylevel=None, colsample_bynode=None,\n",
       "              colsample_bytree=0.95, early_stopping_rounds=None,\n",
       "              enable_categorical=False, eval_metric='auc', feature_types=None,\n",
       "              gamma=1.5, gpu_id=None, grow_policy=None, importance_type=None,\n",
       "              interaction_constraints=None, learning_rate=0.05, max_bin=512,\n",
       "              max_cat_threshold=None, max_cat_to_onehot=None,\n",
       "              max_delta_step=None, max_depth=7, max_leaves=None,\n",
       "              min_child_weight=96, missing=nan, monotone_constraints=None,\n",
       "              n_estimators=3000, n_jobs=None, num_parallel_tree=None,\n",
       "              predictor=None, random_state=41, ...),\n",
       " XGBRegressor(base_score=None, booster=None, callbacks=None,\n",
       "              colsample_bylevel=None, colsample_bynode=None,\n",
       "              colsample_bytree=0.95, early_stopping_rounds=None,\n",
       "              enable_categorical=False, eval_metric='auc', feature_types=None,\n",
       "              gamma=1.5, gpu_id=None, grow_policy=None, importance_type=None,\n",
       "              interaction_constraints=None, learning_rate=0.05, max_bin=512,\n",
       "              max_cat_threshold=None, max_cat_to_onehot=None,\n",
       "              max_delta_step=None, max_depth=7, max_leaves=None,\n",
       "              min_child_weight=96, missing=nan, monotone_constraints=None,\n",
       "              n_estimators=3000, n_jobs=None, num_parallel_tree=None,\n",
       "              predictor=None, random_state=41, ...),\n",
       " XGBRegressor(base_score=None, booster=None, callbacks=None,\n",
       "              colsample_bylevel=None, colsample_bynode=None,\n",
       "              colsample_bytree=0.95, early_stopping_rounds=None,\n",
       "              enable_categorical=False, eval_metric='auc', feature_types=None,\n",
       "              gamma=1.5, gpu_id=None, grow_policy=None, importance_type=None,\n",
       "              interaction_constraints=None, learning_rate=0.05, max_bin=512,\n",
       "              max_cat_threshold=None, max_cat_to_onehot=None,\n",
       "              max_delta_step=None, max_depth=7, max_leaves=None,\n",
       "              min_child_weight=96, missing=nan, monotone_constraints=None,\n",
       "              n_estimators=3000, n_jobs=None, num_parallel_tree=None,\n",
       "              predictor=None, random_state=41, ...),\n",
       " XGBRegressor(base_score=None, booster=None, callbacks=None,\n",
       "              colsample_bylevel=None, colsample_bynode=None,\n",
       "              colsample_bytree=0.95, early_stopping_rounds=None,\n",
       "              enable_categorical=False, eval_metric='auc', feature_types=None,\n",
       "              gamma=1.5, gpu_id=None, grow_policy=None, importance_type=None,\n",
       "              interaction_constraints=None, learning_rate=0.05, max_bin=512,\n",
       "              max_cat_threshold=None, max_cat_to_onehot=None,\n",
       "              max_delta_step=None, max_depth=7, max_leaves=None,\n",
       "              min_child_weight=96, missing=nan, monotone_constraints=None,\n",
       "              n_estimators=3000, n_jobs=None, num_parallel_tree=None,\n",
       "              predictor=None, random_state=41, ...),\n",
       " XGBRegressor(base_score=None, booster=None, callbacks=None,\n",
       "              colsample_bylevel=None, colsample_bynode=None,\n",
       "              colsample_bytree=0.95, early_stopping_rounds=None,\n",
       "              enable_categorical=False, eval_metric='auc', feature_types=None,\n",
       "              gamma=1.5, gpu_id=None, grow_policy=None, importance_type=None,\n",
       "              interaction_constraints=None, learning_rate=0.05, max_bin=512,\n",
       "              max_cat_threshold=None, max_cat_to_onehot=None,\n",
       "              max_delta_step=None, max_depth=7, max_leaves=None,\n",
       "              min_child_weight=96, missing=nan, monotone_constraints=None,\n",
       "              n_estimators=3000, n_jobs=None, num_parallel_tree=None,\n",
       "              predictor=None, random_state=41, ...),\n",
       " XGBRegressor(base_score=None, booster=None, callbacks=None,\n",
       "              colsample_bylevel=None, colsample_bynode=None,\n",
       "              colsample_bytree=0.95, early_stopping_rounds=None,\n",
       "              enable_categorical=False, eval_metric='auc', feature_types=None,\n",
       "              gamma=1.5, gpu_id=None, grow_policy=None, importance_type=None,\n",
       "              interaction_constraints=None, learning_rate=0.05, max_bin=512,\n",
       "              max_cat_threshold=None, max_cat_to_onehot=None,\n",
       "              max_delta_step=None, max_depth=7, max_leaves=None,\n",
       "              min_child_weight=96, missing=nan, monotone_constraints=None,\n",
       "              n_estimators=3000, n_jobs=None, num_parallel_tree=None,\n",
       "              predictor=None, random_state=41, ...),\n",
       " XGBRegressor(base_score=None, booster=None, callbacks=None,\n",
       "              colsample_bylevel=None, colsample_bynode=None,\n",
       "              colsample_bytree=0.95, early_stopping_rounds=None,\n",
       "              enable_categorical=False, eval_metric='auc', feature_types=None,\n",
       "              gamma=1.5, gpu_id=None, grow_policy=None, importance_type=None,\n",
       "              interaction_constraints=None, learning_rate=0.05, max_bin=512,\n",
       "              max_cat_threshold=None, max_cat_to_onehot=None,\n",
       "              max_delta_step=None, max_depth=7, max_leaves=None,\n",
       "              min_child_weight=96, missing=nan, monotone_constraints=None,\n",
       "              n_estimators=3000, n_jobs=None, num_parallel_tree=None,\n",
       "              predictor=None, random_state=41, ...),\n",
       " XGBRegressor(base_score=None, booster=None, callbacks=None,\n",
       "              colsample_bylevel=None, colsample_bynode=None,\n",
       "              colsample_bytree=0.95, early_stopping_rounds=None,\n",
       "              enable_categorical=False, eval_metric='auc', feature_types=None,\n",
       "              gamma=1.5, gpu_id=None, grow_policy=None, importance_type=None,\n",
       "              interaction_constraints=None, learning_rate=0.05, max_bin=512,\n",
       "              max_cat_threshold=None, max_cat_to_onehot=None,\n",
       "              max_delta_step=None, max_depth=7, max_leaves=None,\n",
       "              min_child_weight=96, missing=nan, monotone_constraints=None,\n",
       "              n_estimators=3000, n_jobs=None, num_parallel_tree=None,\n",
       "              predictor=None, random_state=41, ...),\n",
       " XGBRegressor(base_score=None, booster=None, callbacks=None,\n",
       "              colsample_bylevel=None, colsample_bynode=None,\n",
       "              colsample_bytree=0.95, early_stopping_rounds=None,\n",
       "              enable_categorical=False, eval_metric='auc', feature_types=None,\n",
       "              gamma=1.5, gpu_id=None, grow_policy=None, importance_type=None,\n",
       "              interaction_constraints=None, learning_rate=0.05, max_bin=512,\n",
       "              max_cat_threshold=None, max_cat_to_onehot=None,\n",
       "              max_delta_step=None, max_depth=7, max_leaves=None,\n",
       "              min_child_weight=96, missing=nan, monotone_constraints=None,\n",
       "              n_estimators=3000, n_jobs=None, num_parallel_tree=None,\n",
       "              predictor=None, random_state=41, ...),\n",
       " XGBRegressor(base_score=None, booster=None, callbacks=None,\n",
       "              colsample_bylevel=None, colsample_bynode=None,\n",
       "              colsample_bytree=0.95, early_stopping_rounds=None,\n",
       "              enable_categorical=False, eval_metric='auc', feature_types=None,\n",
       "              gamma=1.5, gpu_id=None, grow_policy=None, importance_type=None,\n",
       "              interaction_constraints=None, learning_rate=0.05, max_bin=512,\n",
       "              max_cat_threshold=None, max_cat_to_onehot=None,\n",
       "              max_delta_step=None, max_depth=7, max_leaves=None,\n",
       "              min_child_weight=96, missing=nan, monotone_constraints=None,\n",
       "              n_estimators=3000, n_jobs=None, num_parallel_tree=None,\n",
       "              predictor=None, random_state=41, ...),\n",
       " XGBRegressor(base_score=None, booster=None, callbacks=None,\n",
       "              colsample_bylevel=None, colsample_bynode=None,\n",
       "              colsample_bytree=0.95, early_stopping_rounds=None,\n",
       "              enable_categorical=False, eval_metric='auc', feature_types=None,\n",
       "              gamma=1.5, gpu_id=None, grow_policy=None, importance_type=None,\n",
       "              interaction_constraints=None, learning_rate=0.05, max_bin=512,\n",
       "              max_cat_threshold=None, max_cat_to_onehot=None,\n",
       "              max_delta_step=None, max_depth=7, max_leaves=None,\n",
       "              min_child_weight=96, missing=nan, monotone_constraints=None,\n",
       "              n_estimators=3000, n_jobs=None, num_parallel_tree=None,\n",
       "              predictor=None, random_state=41, ...),\n",
       " XGBRegressor(base_score=None, booster=None, callbacks=None,\n",
       "              colsample_bylevel=None, colsample_bynode=None,\n",
       "              colsample_bytree=0.95, early_stopping_rounds=None,\n",
       "              enable_categorical=False, eval_metric='auc', feature_types=None,\n",
       "              gamma=1.5, gpu_id=None, grow_policy=None, importance_type=None,\n",
       "              interaction_constraints=None, learning_rate=0.05, max_bin=512,\n",
       "              max_cat_threshold=None, max_cat_to_onehot=None,\n",
       "              max_delta_step=None, max_depth=7, max_leaves=None,\n",
       "              min_child_weight=96, missing=nan, monotone_constraints=None,\n",
       "              n_estimators=3000, n_jobs=None, num_parallel_tree=None,\n",
       "              predictor=None, random_state=41, ...),\n",
       " XGBRegressor(base_score=None, booster=None, callbacks=None,\n",
       "              colsample_bylevel=None, colsample_bynode=None,\n",
       "              colsample_bytree=0.95, early_stopping_rounds=None,\n",
       "              enable_categorical=False, eval_metric='auc', feature_types=None,\n",
       "              gamma=1.5, gpu_id=None, grow_policy=None, importance_type=None,\n",
       "              interaction_constraints=None, learning_rate=0.05, max_bin=512,\n",
       "              max_cat_threshold=None, max_cat_to_onehot=None,\n",
       "              max_delta_step=None, max_depth=7, max_leaves=None,\n",
       "              min_child_weight=96, missing=nan, monotone_constraints=None,\n",
       "              n_estimators=3000, n_jobs=None, num_parallel_tree=None,\n",
       "              predictor=None, random_state=41, ...),\n",
       " XGBRegressor(base_score=None, booster=None, callbacks=None,\n",
       "              colsample_bylevel=None, colsample_bynode=None,\n",
       "              colsample_bytree=0.95, early_stopping_rounds=None,\n",
       "              enable_categorical=False, eval_metric='auc', feature_types=None,\n",
       "              gamma=1.5, gpu_id=None, grow_policy=None, importance_type=None,\n",
       "              interaction_constraints=None, learning_rate=0.05, max_bin=512,\n",
       "              max_cat_threshold=None, max_cat_to_onehot=None,\n",
       "              max_delta_step=None, max_depth=7, max_leaves=None,\n",
       "              min_child_weight=96, missing=nan, monotone_constraints=None,\n",
       "              n_estimators=3000, n_jobs=None, num_parallel_tree=None,\n",
       "              predictor=None, random_state=41, ...),\n",
       " XGBRegressor(base_score=None, booster=None, callbacks=None,\n",
       "              colsample_bylevel=None, colsample_bynode=None,\n",
       "              colsample_bytree=0.95, early_stopping_rounds=None,\n",
       "              enable_categorical=False, eval_metric='auc', feature_types=None,\n",
       "              gamma=1.5, gpu_id=None, grow_policy=None, importance_type=None,\n",
       "              interaction_constraints=None, learning_rate=0.05, max_bin=512,\n",
       "              max_cat_threshold=None, max_cat_to_onehot=None,\n",
       "              max_delta_step=None, max_depth=7, max_leaves=None,\n",
       "              min_child_weight=96, missing=nan, monotone_constraints=None,\n",
       "              n_estimators=3000, n_jobs=None, num_parallel_tree=None,\n",
       "              predictor=None, random_state=41, ...),\n",
       " XGBRegressor(base_score=None, booster=None, callbacks=None,\n",
       "              colsample_bylevel=None, colsample_bynode=None,\n",
       "              colsample_bytree=0.95, early_stopping_rounds=None,\n",
       "              enable_categorical=False, eval_metric='auc', feature_types=None,\n",
       "              gamma=1.5, gpu_id=None, grow_policy=None, importance_type=None,\n",
       "              interaction_constraints=None, learning_rate=0.05, max_bin=512,\n",
       "              max_cat_threshold=None, max_cat_to_onehot=None,\n",
       "              max_delta_step=None, max_depth=7, max_leaves=None,\n",
       "              min_child_weight=96, missing=nan, monotone_constraints=None,\n",
       "              n_estimators=3000, n_jobs=None, num_parallel_tree=None,\n",
       "              predictor=None, random_state=41, ...),\n",
       " XGBRegressor(base_score=None, booster=None, callbacks=None,\n",
       "              colsample_bylevel=None, colsample_bynode=None,\n",
       "              colsample_bytree=0.95, early_stopping_rounds=None,\n",
       "              enable_categorical=False, eval_metric='auc', feature_types=None,\n",
       "              gamma=1.5, gpu_id=None, grow_policy=None, importance_type=None,\n",
       "              interaction_constraints=None, learning_rate=0.05, max_bin=512,\n",
       "              max_cat_threshold=None, max_cat_to_onehot=None,\n",
       "              max_delta_step=None, max_depth=7, max_leaves=None,\n",
       "              min_child_weight=96, missing=nan, monotone_constraints=None,\n",
       "              n_estimators=3000, n_jobs=None, num_parallel_tree=None,\n",
       "              predictor=None, random_state=41, ...),\n",
       " XGBRegressor(base_score=None, booster=None, callbacks=None,\n",
       "              colsample_bylevel=None, colsample_bynode=None,\n",
       "              colsample_bytree=0.95, early_stopping_rounds=None,\n",
       "              enable_categorical=False, eval_metric='auc', feature_types=None,\n",
       "              gamma=1.5, gpu_id=None, grow_policy=None, importance_type=None,\n",
       "              interaction_constraints=None, learning_rate=0.05, max_bin=512,\n",
       "              max_cat_threshold=None, max_cat_to_onehot=None,\n",
       "              max_delta_step=None, max_depth=7, max_leaves=None,\n",
       "              min_child_weight=96, missing=nan, monotone_constraints=None,\n",
       "              n_estimators=3000, n_jobs=None, num_parallel_tree=None,\n",
       "              predictor=None, random_state=41, ...),\n",
       " XGBRegressor(base_score=None, booster=None, callbacks=None,\n",
       "              colsample_bylevel=None, colsample_bynode=None,\n",
       "              colsample_bytree=0.95, early_stopping_rounds=None,\n",
       "              enable_categorical=False, eval_metric='auc', feature_types=None,\n",
       "              gamma=1.5, gpu_id=None, grow_policy=None, importance_type=None,\n",
       "              interaction_constraints=None, learning_rate=0.05, max_bin=512,\n",
       "              max_cat_threshold=None, max_cat_to_onehot=None,\n",
       "              max_delta_step=None, max_depth=7, max_leaves=None,\n",
       "              min_child_weight=96, missing=nan, monotone_constraints=None,\n",
       "              n_estimators=3000, n_jobs=None, num_parallel_tree=None,\n",
       "              predictor=None, random_state=41, ...),\n",
       " XGBRegressor(base_score=None, booster=None, callbacks=None,\n",
       "              colsample_bylevel=None, colsample_bynode=None,\n",
       "              colsample_bytree=0.95, early_stopping_rounds=None,\n",
       "              enable_categorical=False, eval_metric='auc', feature_types=None,\n",
       "              gamma=1.5, gpu_id=None, grow_policy=None, importance_type=None,\n",
       "              interaction_constraints=None, learning_rate=0.05, max_bin=512,\n",
       "              max_cat_threshold=None, max_cat_to_onehot=None,\n",
       "              max_delta_step=None, max_depth=7, max_leaves=None,\n",
       "              min_child_weight=96, missing=nan, monotone_constraints=None,\n",
       "              n_estimators=3000, n_jobs=None, num_parallel_tree=None,\n",
       "              predictor=None, random_state=41, ...),\n",
       " XGBRegressor(base_score=None, booster=None, callbacks=None,\n",
       "              colsample_bylevel=None, colsample_bynode=None,\n",
       "              colsample_bytree=0.95, early_stopping_rounds=None,\n",
       "              enable_categorical=False, eval_metric='auc', feature_types=None,\n",
       "              gamma=1.5, gpu_id=None, grow_policy=None, importance_type=None,\n",
       "              interaction_constraints=None, learning_rate=0.05, max_bin=512,\n",
       "              max_cat_threshold=None, max_cat_to_onehot=None,\n",
       "              max_delta_step=None, max_depth=7, max_leaves=None,\n",
       "              min_child_weight=96, missing=nan, monotone_constraints=None,\n",
       "              n_estimators=3000, n_jobs=None, num_parallel_tree=None,\n",
       "              predictor=None, random_state=41, ...),\n",
       " XGBRegressor(base_score=None, booster=None, callbacks=None,\n",
       "              colsample_bylevel=None, colsample_bynode=None,\n",
       "              colsample_bytree=0.95, early_stopping_rounds=None,\n",
       "              enable_categorical=False, eval_metric='auc', feature_types=None,\n",
       "              gamma=1.5, gpu_id=None, grow_policy=None, importance_type=None,\n",
       "              interaction_constraints=None, learning_rate=0.05, max_bin=512,\n",
       "              max_cat_threshold=None, max_cat_to_onehot=None,\n",
       "              max_delta_step=None, max_depth=7, max_leaves=None,\n",
       "              min_child_weight=96, missing=nan, monotone_constraints=None,\n",
       "              n_estimators=3000, n_jobs=None, num_parallel_tree=None,\n",
       "              predictor=None, random_state=41, ...)]"
      ]
     },
     "execution_count": 90,
     "metadata": {},
     "output_type": "execute_result"
    }
   ],
   "source": [
    "models"
   ]
  },
  {
   "cell_type": "code",
   "execution_count": 84,
   "id": "83efecff",
   "metadata": {},
   "outputs": [],
   "source": [
    "cat_preds = []\n",
    "for model in models[:10]:\n",
    "    preds = model.predict(test[features])\n",
    "    cat_preds.append(preds)"
   ]
  },
  {
   "cell_type": "code",
   "execution_count": 85,
   "id": "4ab2a3e2",
   "metadata": {},
   "outputs": [
    {
     "data": {
      "text/plain": [
       "<AxesSubplot:ylabel='Frequency'>"
      ]
     },
     "execution_count": 85,
     "metadata": {},
     "output_type": "execute_result"
    },
    {
     "data": {
      "image/png": "[encoded data removed]",
      "text/plain": [
       "<Figure size 432x288 with 1 Axes>"
      ]
     },
     "metadata": {
      "needs_background": "light"
     },
     "output_type": "display_data"
    }
   ],
   "source": [
    "sub = pd.read_csv('./sample_submission.csv')\n",
    "sub['Strength'] = np.array(cat_preds).mean(axis=0) #.mean(axis=0)\n",
    "sub = sub.set_index('id')\n",
    "sub.to_csv('./submission.csv')\n",
    "sub['Strength'].plot.hist(bins=100)"
   ]
  },
  {
   "cell_type": "code",
   "execution_count": null,
   "id": "56ce93b4",
   "metadata": {},
   "outputs": [],
   "source": [
    "def cat_objective(trial):\n",
    "    \n",
    "    params_optuna = {\n",
    "        'iterations':trial.suggest_int(\"iterations\", 4000, 25000),\n",
    "        'od_wait':trial.suggest_int('od_wait', 500, 2300),\n",
    "        'learning_rate' : trial.suggest_uniform('learning_rate',0.01, 1),\n",
    "        'reg_lambda': trial.suggest_uniform('reg_lambda',1e-5,100),\n",
    "        'subsample': trial.suggest_uniform('subsample',0,1),\n",
    "        'random_strength': trial.suggest_uniform('random_strength',10,50),\n",
    "        'depth': trial.suggest_int('depth',1, 15),\n",
    "        'min_data_in_leaf': trial.suggest_int('min_data_in_leaf',1,30),\n",
    "        'leaf_estimation_iterations': trial.suggest_int('leaf_estimation_iterations',1,15),\n",
    "        'bagging_temperature' :trial.suggest_loguniform('bagging_temperature', 0.01, 100.00),\n",
    "        'colsample_bylevel':trial.suggest_float('colsample_bylevel', 0.4, 1.0),\n",
    "    }\n",
    "    n=10\n",
    "    cv = KFold(n,shuffle=True, random_state=42)\n",
    "    all_scores = []\n",
    "    for i,(train_idx,val_idx) in enumerate(cv.split(train[features],train[target])):\n",
    "        X_train, y_train = train.loc[train_idx, features],train.loc[train_idx, target]\n",
    "        X_val, y_val = train.loc[val_idx, features],train.loc[val_idx, target]\n",
    "\n",
    "        model = CatBoostRegressor(**params_optuna)\n",
    "        model.fit(X_train,\n",
    "                  y_train,\n",
    "                  eval_set = [(X_val,y_val)],\n",
    "                  early_stopping_rounds=50,\n",
    "                  verbose=500)\n",
    "\n",
    "        y_pred = model.predict(X_val)\n",
    "        score = mean_squared_error(y_val,y_pred)\n",
    "        all_scores.append(score)\n",
    "\n",
    "    return np.mean(all_scores)"
   ]
  },
  {
   "cell_type": "code",
   "execution_count": null,
   "id": "275262f7",
   "metadata": {},
   "outputs": [],
   "source": [
    "# study = optuna.create_study(direction='maximize', sampler = TPESampler())\n",
    "# study.optimize(func=cat_objective, n_trials=50)\n",
    "# study.best_params"
   ]
  },
  {
   "cell_type": "code",
   "execution_count": null,
   "id": "5bfe61aa",
   "metadata": {},
   "outputs": [],
   "source": [
    "# kf = KFold(n_splits = 10, random_state = 41, shuffle = True)\n",
    "# models = []\n",
    "# val_scores = []\n",
    "# preds = []\n",
    "\n",
    "# params = study.best_params\n",
    "\n",
    "# for i, (train_index, val_index) in tqdm(enumerate(kf.split(train, train[target]))):\n",
    "    \n",
    "#     X_train, X_val = train[features].loc[train_index], train[features].loc[val_index]\n",
    "#     y_train, y_val = train[target][train_index], train[target][val_index]\n",
    "    \n",
    "# #     if include_orig:\n",
    "# #         X_train = X_train.append(original[features], ignore_index = True)\n",
    "# #         y_train = y_train.append(original[target], ignore_index = True)\n",
    "    \n",
    "#     model = CatBoostRegressor(**params)\n",
    "    \n",
    "#     model.fit(X_train, y_train, eval_set = [(X_val, y_val)], verbose = 2000)\n",
    "    \n",
    "#     models.append(model)\n",
    "#     # pred = model.predict_proba(X_val)[:,1]\n",
    "#     # score = accuracy_score(y_val, model.predict(X_val))\n",
    "#     score = mean_squared_error(y_val, model.predict(X_val))\n",
    "\n",
    "#     val_scores.append(score)\n",
    "    \n",
    "#     print(f'mse on fold {i}: {score:.4f}')\n",
    "    \n",
    "# print(f'mean mse across all folds: {np.mean(val_scores):.4f}')"
   ]
  },
  {
   "cell_type": "code",
   "execution_count": null,
   "id": "211e6e4a",
   "metadata": {},
   "outputs": [],
   "source": [
    "# np.array([i**(1/2) for i in val_scores]).mean()"
   ]
  },
  {
   "cell_type": "markdown",
   "id": "6b37001b",
   "metadata": {},
   "source": [
    "> grad : underfit\n",
    "\n",
    "> cat : overfit"
   ]
  }
 ],
 "metadata": {
  "kernelspec": {
   "display_name": "Python 3 (ipykernel)",
   "language": "python",
   "name": "python3"
  },
  "language_info": {
   "codemirror_mode": {
    "name": "ipython",
    "version": 3
   },
   "file_extension": ".py",
   "mimetype": "text/x-python",
   "name": "python",
   "nbconvert_exporter": "python",
   "pygments_lexer": "ipython3",
   "version": "3.9.12"
  }
 },
 "nbformat": 4,
 "nbformat_minor": 5
}
