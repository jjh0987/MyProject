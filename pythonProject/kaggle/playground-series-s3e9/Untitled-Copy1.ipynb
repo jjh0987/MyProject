{
 "cells": [
  {
   "cell_type": "code",
   "execution_count": 1,
   "id": "2d4f473a",
   "metadata": {},
   "outputs": [],
   "source": [
    "# !pip install fasteda\n",
    "# from fasteda import fast_eda\n",
    "import pandas as pd\n",
    "import numpy as np\n",
    "import seaborn as sns\n",
    "import matplotlib.pyplot as plt\n",
    "import plotly.express as px\n",
    "from sklearn.decomposition import PCA\n",
    "from sklearn.preprocessing import StandardScaler, MinMaxScaler\n",
    "from sklearn.manifold import TSNE"
   ]
  },
  {
   "cell_type": "code",
   "execution_count": 2,
   "id": "1432d637",
   "metadata": {},
   "outputs": [],
   "source": [
    "train = pd.read_csv(\"./train.csv\").drop('id',axis=1)\n",
    "test = pd.read_csv(\"./test.csv\").drop('id',axis=1)\n",
    "original = pd.read_csv(\"./ConcreteStrengthData.csv\")"
   ]
  },
  {
   "cell_type": "code",
   "execution_count": 3,
   "id": "7f2df919",
   "metadata": {},
   "outputs": [],
   "source": [
    "original = original.rename(columns={'CementComponent ':'CementComponent'})"
   ]
  },
  {
   "cell_type": "code",
   "execution_count": 4,
   "id": "5bc752f5",
   "metadata": {},
   "outputs": [
    {
     "name": "stdout",
     "output_type": "stream",
     "text": [
      "Index(['CementComponent', 'BlastFurnaceSlag', 'FlyAshComponent',\n",
      "       'WaterComponent', 'SuperplasticizerComponent',\n",
      "       'CoarseAggregateComponent', 'FineAggregateComponent', 'AgeInDays',\n",
      "       'Strength'],\n",
      "      dtype='object')\n",
      "Index(['CementComponent', 'BlastFurnaceSlag', 'FlyAshComponent',\n",
      "       'WaterComponent', 'SuperplasticizerComponent',\n",
      "       'CoarseAggregateComponent', 'FineAggregateComponent', 'AgeInDays',\n",
      "       'Strength'],\n",
      "      dtype='object')\n"
     ]
    }
   ],
   "source": [
    "print(original.columns)\n",
    "print(train.columns)"
   ]
  },
  {
   "cell_type": "code",
   "execution_count": 5,
   "id": "6f0be844",
   "metadata": {},
   "outputs": [
    {
     "name": "stdout",
     "output_type": "stream",
     "text": [
      "5407\n",
      "3605\n"
     ]
    }
   ],
   "source": [
    "print(len(train))\n",
    "print(len(test))"
   ]
  },
  {
   "cell_type": "code",
   "execution_count": 6,
   "id": "ff1ede53",
   "metadata": {},
   "outputs": [],
   "source": [
    "train = pd.concat([train,original],axis=0)\n",
    "train = train.drop_duplicates().reset_index(drop=True)\n",
    "train = train[train['AgeInDays'] != 49]\n"
   ]
  },
  {
   "cell_type": "code",
   "execution_count": 7,
   "id": "22ec78b3",
   "metadata": {},
   "outputs": [],
   "source": [
    "# Calculate TotalComponentWeight\n",
    "train['TotalComponentWeight'] = train['CementComponent'] + train['BlastFurnaceSlag'] + train['FlyAshComponent'] + train['WaterComponent'] + train['SuperplasticizerComponent'] + train['CoarseAggregateComponent'] + train['FineAggregateComponent']\n",
    "\n",
    "# Calculate Water-Cement-Ratio (WCR)\n",
    "train['WCR'] = train['WaterComponent'] / train['CementComponent']\n",
    "\n",
    "# Calculate Aggregate-Ratio (AR)\n",
    "train['AR'] = (train['CoarseAggregateComponent'] + train['FineAggregateComponent']) / train['CementComponent']\n",
    "\n",
    "# Calculate Water-Cement-Plus-Pozzolan-Ratio (WCPR)\n",
    "train['WCPR'] = train['WaterComponent'] / (train['CementComponent'] + train['BlastFurnaceSlag'] + train['FlyAshComponent'])\n",
    "\n",
    "# Calculate Cement-Age\n",
    "train['Cement-Age'] = train['CementComponent'] * train['AgeInDays']"
   ]
  },
  {
   "cell_type": "code",
   "execution_count": 8,
   "id": "ea39061f",
   "metadata": {},
   "outputs": [],
   "source": [
    "# Calculate TotalComponentWeight\n",
    "test['TotalComponentWeight'] = test['CementComponent'] + test['BlastFurnaceSlag'] + test['FlyAshComponent'] + test['WaterComponent'] + test['SuperplasticizerComponent'] + test['CoarseAggregateComponent'] + test['FineAggregateComponent']\n",
    "\n",
    "# Calculate Water-Cement-Ratio (WCR)\n",
    "test['WCR'] = test['WaterComponent'] / test['CementComponent']\n",
    "\n",
    "# Calculate Aggregate-Ratio (AR)\n",
    "test['AR'] = (test['CoarseAggregateComponent'] + test['FineAggregateComponent']) / test['CementComponent']\n",
    "\n",
    "# Calculate Water-Cement-Plus-Pozzolan-Ratio (WCPR)\n",
    "test['WCPR'] = test['WaterComponent'] / (test['CementComponent'] + test['BlastFurnaceSlag'] + test['FlyAshComponent'])\n",
    "\n",
    "# Calculate Cement-Age\n",
    "test['Cement-Age'] = test['CementComponent'] * test['AgeInDays']"
   ]
  },
  {
   "cell_type": "code",
   "execution_count": 9,
   "id": "6a3ee3ed",
   "metadata": {},
   "outputs": [],
   "source": [
    "train['Unknown'] = (train.CoarseAggregateComponent) - (train.CementComponent + train.BlastFurnaceSlag + train.FlyAshComponent)\n",
    "test['Unknown'] = (test.CoarseAggregateComponent) - (test.CementComponent + test.BlastFurnaceSlag + test.FlyAshComponent)"
   ]
  },
  {
   "cell_type": "code",
   "execution_count": 10,
   "id": "9c9360c9",
   "metadata": {},
   "outputs": [
    {
     "name": "stdout",
     "output_type": "stream",
     "text": [
      "6411\n",
      "3605\n"
     ]
    }
   ],
   "source": [
    "print(len(train))\n",
    "print(len(test))"
   ]
  },
  {
   "cell_type": "code",
   "execution_count": 11,
   "id": "d7d696c9",
   "metadata": {},
   "outputs": [
    {
     "data": {
      "text/html": [
       "<div>\n",
       "<style scoped>\n",
       "    .dataframe tbody tr th:only-of-type {\n",
       "        vertical-align: middle;\n",
       "    }\n",
       "\n",
       "    .dataframe tbody tr th {\n",
       "        vertical-align: top;\n",
       "    }\n",
       "\n",
       "    .dataframe thead th {\n",
       "        text-align: right;\n",
       "    }\n",
       "</style>\n",
       "<table border=\"1\" class=\"dataframe\">\n",
       "  <thead>\n",
       "    <tr style=\"text-align: right;\">\n",
       "      <th></th>\n",
       "      <th>CementComponent</th>\n",
       "      <th>BlastFurnaceSlag</th>\n",
       "      <th>FlyAshComponent</th>\n",
       "      <th>WaterComponent</th>\n",
       "      <th>SuperplasticizerComponent</th>\n",
       "      <th>CoarseAggregateComponent</th>\n",
       "      <th>FineAggregateComponent</th>\n",
       "      <th>AgeInDays</th>\n",
       "      <th>Strength</th>\n",
       "      <th>TotalComponentWeight</th>\n",
       "      <th>WCR</th>\n",
       "      <th>AR</th>\n",
       "      <th>WCPR</th>\n",
       "      <th>Cement-Age</th>\n",
       "      <th>Unknown</th>\n",
       "    </tr>\n",
       "  </thead>\n",
       "  <tbody>\n",
       "    <tr>\n",
       "      <th>0</th>\n",
       "      <td>525.0</td>\n",
       "      <td>0.0</td>\n",
       "      <td>0.0</td>\n",
       "      <td>186.0</td>\n",
       "      <td>0.0</td>\n",
       "      <td>1125.0</td>\n",
       "      <td>613.0</td>\n",
       "      <td>3</td>\n",
       "      <td>10.38</td>\n",
       "      <td>2449.0</td>\n",
       "      <td>0.354286</td>\n",
       "      <td>3.310476</td>\n",
       "      <td>0.354286</td>\n",
       "      <td>1575.0</td>\n",
       "      <td>600.0</td>\n",
       "    </tr>\n",
       "    <tr>\n",
       "      <th>1</th>\n",
       "      <td>143.0</td>\n",
       "      <td>169.0</td>\n",
       "      <td>143.0</td>\n",
       "      <td>191.0</td>\n",
       "      <td>8.0</td>\n",
       "      <td>967.0</td>\n",
       "      <td>643.0</td>\n",
       "      <td>28</td>\n",
       "      <td>23.52</td>\n",
       "      <td>2264.0</td>\n",
       "      <td>1.335664</td>\n",
       "      <td>11.258741</td>\n",
       "      <td>0.419780</td>\n",
       "      <td>4004.0</td>\n",
       "      <td>512.0</td>\n",
       "    </tr>\n",
       "    <tr>\n",
       "      <th>2</th>\n",
       "      <td>289.0</td>\n",
       "      <td>134.7</td>\n",
       "      <td>0.0</td>\n",
       "      <td>185.7</td>\n",
       "      <td>0.0</td>\n",
       "      <td>1075.0</td>\n",
       "      <td>795.3</td>\n",
       "      <td>28</td>\n",
       "      <td>36.96</td>\n",
       "      <td>2479.7</td>\n",
       "      <td>0.642561</td>\n",
       "      <td>6.471626</td>\n",
       "      <td>0.438282</td>\n",
       "      <td>8092.0</td>\n",
       "      <td>651.3</td>\n",
       "    </tr>\n",
       "    <tr>\n",
       "      <th>3</th>\n",
       "      <td>304.0</td>\n",
       "      <td>76.0</td>\n",
       "      <td>0.0</td>\n",
       "      <td>228.0</td>\n",
       "      <td>0.0</td>\n",
       "      <td>932.0</td>\n",
       "      <td>670.0</td>\n",
       "      <td>365</td>\n",
       "      <td>39.05</td>\n",
       "      <td>2210.0</td>\n",
       "      <td>0.750000</td>\n",
       "      <td>5.269737</td>\n",
       "      <td>0.600000</td>\n",
       "      <td>110960.0</td>\n",
       "      <td>552.0</td>\n",
       "    </tr>\n",
       "    <tr>\n",
       "      <th>4</th>\n",
       "      <td>157.0</td>\n",
       "      <td>236.0</td>\n",
       "      <td>0.0</td>\n",
       "      <td>192.0</td>\n",
       "      <td>0.0</td>\n",
       "      <td>935.4</td>\n",
       "      <td>781.2</td>\n",
       "      <td>90</td>\n",
       "      <td>74.19</td>\n",
       "      <td>2301.6</td>\n",
       "      <td>1.222930</td>\n",
       "      <td>10.933758</td>\n",
       "      <td>0.488550</td>\n",
       "      <td>14130.0</td>\n",
       "      <td>542.4</td>\n",
       "    </tr>\n",
       "    <tr>\n",
       "      <th>...</th>\n",
       "      <td>...</td>\n",
       "      <td>...</td>\n",
       "      <td>...</td>\n",
       "      <td>...</td>\n",
       "      <td>...</td>\n",
       "      <td>...</td>\n",
       "      <td>...</td>\n",
       "      <td>...</td>\n",
       "      <td>...</td>\n",
       "      <td>...</td>\n",
       "      <td>...</td>\n",
       "      <td>...</td>\n",
       "      <td>...</td>\n",
       "      <td>...</td>\n",
       "      <td>...</td>\n",
       "    </tr>\n",
       "    <tr>\n",
       "      <th>6407</th>\n",
       "      <td>276.4</td>\n",
       "      <td>116.0</td>\n",
       "      <td>90.3</td>\n",
       "      <td>179.6</td>\n",
       "      <td>8.9</td>\n",
       "      <td>870.1</td>\n",
       "      <td>768.3</td>\n",
       "      <td>28</td>\n",
       "      <td>44.28</td>\n",
       "      <td>2309.6</td>\n",
       "      <td>0.649783</td>\n",
       "      <td>5.927641</td>\n",
       "      <td>0.372074</td>\n",
       "      <td>7739.2</td>\n",
       "      <td>387.4</td>\n",
       "    </tr>\n",
       "    <tr>\n",
       "      <th>6408</th>\n",
       "      <td>322.2</td>\n",
       "      <td>0.0</td>\n",
       "      <td>115.6</td>\n",
       "      <td>196.0</td>\n",
       "      <td>10.4</td>\n",
       "      <td>817.9</td>\n",
       "      <td>813.4</td>\n",
       "      <td>28</td>\n",
       "      <td>31.18</td>\n",
       "      <td>2275.5</td>\n",
       "      <td>0.608318</td>\n",
       "      <td>5.063004</td>\n",
       "      <td>0.447693</td>\n",
       "      <td>9021.6</td>\n",
       "      <td>380.1</td>\n",
       "    </tr>\n",
       "    <tr>\n",
       "      <th>6409</th>\n",
       "      <td>148.5</td>\n",
       "      <td>139.4</td>\n",
       "      <td>108.6</td>\n",
       "      <td>192.7</td>\n",
       "      <td>6.1</td>\n",
       "      <td>892.4</td>\n",
       "      <td>780.0</td>\n",
       "      <td>28</td>\n",
       "      <td>23.70</td>\n",
       "      <td>2267.7</td>\n",
       "      <td>1.297643</td>\n",
       "      <td>11.261953</td>\n",
       "      <td>0.486003</td>\n",
       "      <td>4158.0</td>\n",
       "      <td>495.9</td>\n",
       "    </tr>\n",
       "    <tr>\n",
       "      <th>6410</th>\n",
       "      <td>159.1</td>\n",
       "      <td>186.7</td>\n",
       "      <td>0.0</td>\n",
       "      <td>175.6</td>\n",
       "      <td>11.3</td>\n",
       "      <td>989.6</td>\n",
       "      <td>788.9</td>\n",
       "      <td>28</td>\n",
       "      <td>32.77</td>\n",
       "      <td>2311.2</td>\n",
       "      <td>1.103708</td>\n",
       "      <td>11.178504</td>\n",
       "      <td>0.507808</td>\n",
       "      <td>4454.8</td>\n",
       "      <td>643.8</td>\n",
       "    </tr>\n",
       "    <tr>\n",
       "      <th>6411</th>\n",
       "      <td>260.9</td>\n",
       "      <td>100.5</td>\n",
       "      <td>78.3</td>\n",
       "      <td>200.6</td>\n",
       "      <td>8.6</td>\n",
       "      <td>864.5</td>\n",
       "      <td>761.5</td>\n",
       "      <td>28</td>\n",
       "      <td>32.40</td>\n",
       "      <td>2274.9</td>\n",
       "      <td>0.768877</td>\n",
       "      <td>6.232273</td>\n",
       "      <td>0.456220</td>\n",
       "      <td>7305.2</td>\n",
       "      <td>424.8</td>\n",
       "    </tr>\n",
       "  </tbody>\n",
       "</table>\n",
       "<p>6411 rows × 15 columns</p>\n",
       "</div>"
      ],
      "text/plain": [
       "      CementComponent  BlastFurnaceSlag  FlyAshComponent  WaterComponent  \\\n",
       "0               525.0               0.0              0.0           186.0   \n",
       "1               143.0             169.0            143.0           191.0   \n",
       "2               289.0             134.7              0.0           185.7   \n",
       "3               304.0              76.0              0.0           228.0   \n",
       "4               157.0             236.0              0.0           192.0   \n",
       "...               ...               ...              ...             ...   \n",
       "6407            276.4             116.0             90.3           179.6   \n",
       "6408            322.2               0.0            115.6           196.0   \n",
       "6409            148.5             139.4            108.6           192.7   \n",
       "6410            159.1             186.7              0.0           175.6   \n",
       "6411            260.9             100.5             78.3           200.6   \n",
       "\n",
       "      SuperplasticizerComponent  CoarseAggregateComponent  \\\n",
       "0                           0.0                    1125.0   \n",
       "1                           8.0                     967.0   \n",
       "2                           0.0                    1075.0   \n",
       "3                           0.0                     932.0   \n",
       "4                           0.0                     935.4   \n",
       "...                         ...                       ...   \n",
       "6407                        8.9                     870.1   \n",
       "6408                       10.4                     817.9   \n",
       "6409                        6.1                     892.4   \n",
       "6410                       11.3                     989.6   \n",
       "6411                        8.6                     864.5   \n",
       "\n",
       "      FineAggregateComponent  AgeInDays  Strength  TotalComponentWeight  \\\n",
       "0                      613.0          3     10.38                2449.0   \n",
       "1                      643.0         28     23.52                2264.0   \n",
       "2                      795.3         28     36.96                2479.7   \n",
       "3                      670.0        365     39.05                2210.0   \n",
       "4                      781.2         90     74.19                2301.6   \n",
       "...                      ...        ...       ...                   ...   \n",
       "6407                   768.3         28     44.28                2309.6   \n",
       "6408                   813.4         28     31.18                2275.5   \n",
       "6409                   780.0         28     23.70                2267.7   \n",
       "6410                   788.9         28     32.77                2311.2   \n",
       "6411                   761.5         28     32.40                2274.9   \n",
       "\n",
       "           WCR         AR      WCPR  Cement-Age  Unknown  \n",
       "0     0.354286   3.310476  0.354286      1575.0    600.0  \n",
       "1     1.335664  11.258741  0.419780      4004.0    512.0  \n",
       "2     0.642561   6.471626  0.438282      8092.0    651.3  \n",
       "3     0.750000   5.269737  0.600000    110960.0    552.0  \n",
       "4     1.222930  10.933758  0.488550     14130.0    542.4  \n",
       "...        ...        ...       ...         ...      ...  \n",
       "6407  0.649783   5.927641  0.372074      7739.2    387.4  \n",
       "6408  0.608318   5.063004  0.447693      9021.6    380.1  \n",
       "6409  1.297643  11.261953  0.486003      4158.0    495.9  \n",
       "6410  1.103708  11.178504  0.507808      4454.8    643.8  \n",
       "6411  0.768877   6.232273  0.456220      7305.2    424.8  \n",
       "\n",
       "[6411 rows x 15 columns]"
      ]
     },
     "execution_count": 11,
     "metadata": {},
     "output_type": "execute_result"
    }
   ],
   "source": [
    "train"
   ]
  },
  {
   "cell_type": "code",
   "execution_count": 12,
   "id": "c78ee401",
   "metadata": {},
   "outputs": [
    {
     "name": "stdout",
     "output_type": "stream",
     "text": [
      "[1, 3, 7, 14, 28, 56, 90, 91, 100, 120, 180, 270, 360, 365]\n",
      "[1, 3, 7, 11, 14, 28, 56, 90, 91, 100, 120, 180, 270, 360, 365]\n"
     ]
    }
   ],
   "source": [
    "print([i for i in sorted(train.AgeInDays.unique())])\n",
    "print([i for i in sorted(test.AgeInDays.unique())])\n"
   ]
  },
  {
   "cell_type": "code",
   "execution_count": 13,
   "id": "5729e68f",
   "metadata": {},
   "outputs": [],
   "source": [
    "test.loc[197,'AgeInDays'] = 14"
   ]
  },
  {
   "cell_type": "code",
   "execution_count": 14,
   "id": "d22ac91f",
   "metadata": {},
   "outputs": [
    {
     "name": "stdout",
     "output_type": "stream",
     "text": [
      "[1, 3, 7, 14, 28, 56, 90, 91, 100, 120, 180, 270, 360, 365]\n",
      "[1, 3, 7, 14, 28, 56, 90, 91, 100, 120, 180, 270, 360, 365]\n"
     ]
    }
   ],
   "source": [
    "print([i for i in sorted(train.AgeInDays.unique())])\n",
    "print([i for i in sorted(test.AgeInDays.unique())])\n"
   ]
  },
  {
   "cell_type": "code",
   "execution_count": 15,
   "id": "fc8b5f28",
   "metadata": {},
   "outputs": [
    {
     "name": "stdout",
     "output_type": "stream",
     "text": [
      "6411\n",
      "3605\n"
     ]
    }
   ],
   "source": [
    "print(len(train))\n",
    "print(len(test))"
   ]
  },
  {
   "cell_type": "code",
   "execution_count": 16,
   "id": "228e9b88",
   "metadata": {},
   "outputs": [],
   "source": [
    "from sklearn.preprocessing import LabelEncoder\n",
    "encoder = LabelEncoder()\n",
    "encoder.fit([i for i in sorted(train.AgeInDays.unique())])\n",
    "train.AgeInDays = encoder.transform(train.AgeInDays)\n",
    "test.AgeInDays = encoder.transform(test.AgeInDays)"
   ]
  },
  {
   "cell_type": "code",
   "execution_count": 17,
   "id": "b50a0c44",
   "metadata": {},
   "outputs": [
    {
     "data": {
      "text/html": [
       "<div>\n",
       "<style scoped>\n",
       "    .dataframe tbody tr th:only-of-type {\n",
       "        vertical-align: middle;\n",
       "    }\n",
       "\n",
       "    .dataframe tbody tr th {\n",
       "        vertical-align: top;\n",
       "    }\n",
       "\n",
       "    .dataframe thead th {\n",
       "        text-align: right;\n",
       "    }\n",
       "</style>\n",
       "<table border=\"1\" class=\"dataframe\">\n",
       "  <thead>\n",
       "    <tr style=\"text-align: right;\">\n",
       "      <th></th>\n",
       "      <th>CementComponent</th>\n",
       "      <th>BlastFurnaceSlag</th>\n",
       "      <th>FlyAshComponent</th>\n",
       "      <th>WaterComponent</th>\n",
       "      <th>SuperplasticizerComponent</th>\n",
       "      <th>CoarseAggregateComponent</th>\n",
       "      <th>FineAggregateComponent</th>\n",
       "      <th>AgeInDays</th>\n",
       "      <th>Strength</th>\n",
       "      <th>TotalComponentWeight</th>\n",
       "      <th>WCR</th>\n",
       "      <th>AR</th>\n",
       "      <th>WCPR</th>\n",
       "      <th>Cement-Age</th>\n",
       "      <th>Unknown</th>\n",
       "    </tr>\n",
       "  </thead>\n",
       "  <tbody>\n",
       "    <tr>\n",
       "      <th>count</th>\n",
       "      <td>6411.000000</td>\n",
       "      <td>6411.000000</td>\n",
       "      <td>6411.000000</td>\n",
       "      <td>6411.000000</td>\n",
       "      <td>6411.000000</td>\n",
       "      <td>6411.000000</td>\n",
       "      <td>6411.000000</td>\n",
       "      <td>6411.000000</td>\n",
       "      <td>6411.000000</td>\n",
       "      <td>6411.000000</td>\n",
       "      <td>6411.000000</td>\n",
       "      <td>6411.000000</td>\n",
       "      <td>6411.000000</td>\n",
       "      <td>6411.000000</td>\n",
       "      <td>6411.000000</td>\n",
       "    </tr>\n",
       "    <tr>\n",
       "      <th>mean</th>\n",
       "      <td>295.934846</td>\n",
       "      <td>60.710232</td>\n",
       "      <td>35.575074</td>\n",
       "      <td>184.604757</td>\n",
       "      <td>4.409209</td>\n",
       "      <td>989.259785</td>\n",
       "      <td>771.460443</td>\n",
       "      <td>4.338325</td>\n",
       "      <td>35.415860</td>\n",
       "      <td>2341.954347</td>\n",
       "      <td>0.718428</td>\n",
       "      <td>6.872551</td>\n",
       "      <td>0.503668</td>\n",
       "      <td>15748.312479</td>\n",
       "      <td>597.039632</td>\n",
       "    </tr>\n",
       "    <tr>\n",
       "      <th>std</th>\n",
       "      <td>105.609623</td>\n",
       "      <td>83.995827</td>\n",
       "      <td>56.869697</td>\n",
       "      <td>19.018388</td>\n",
       "      <td>5.770679</td>\n",
       "      <td>77.462298</td>\n",
       "      <td>78.977890</td>\n",
       "      <td>2.636039</td>\n",
       "      <td>16.379638</td>\n",
       "      <td>80.395058</td>\n",
       "      <td>0.300063</td>\n",
       "      <td>2.819865</td>\n",
       "      <td>0.150839</td>\n",
       "      <td>24887.600160</td>\n",
       "      <td>138.851403</td>\n",
       "    </tr>\n",
       "    <tr>\n",
       "      <th>min</th>\n",
       "      <td>102.000000</td>\n",
       "      <td>0.000000</td>\n",
       "      <td>0.000000</td>\n",
       "      <td>121.800000</td>\n",
       "      <td>0.000000</td>\n",
       "      <td>801.000000</td>\n",
       "      <td>594.000000</td>\n",
       "      <td>0.000000</td>\n",
       "      <td>2.330000</td>\n",
       "      <td>1991.500000</td>\n",
       "      <td>0.259364</td>\n",
       "      <td>2.880105</td>\n",
       "      <td>0.179278</td>\n",
       "      <td>306.000000</td>\n",
       "      <td>74.000000</td>\n",
       "    </tr>\n",
       "    <tr>\n",
       "      <th>25%</th>\n",
       "      <td>212.500000</td>\n",
       "      <td>0.000000</td>\n",
       "      <td>0.000000</td>\n",
       "      <td>173.500000</td>\n",
       "      <td>0.000000</td>\n",
       "      <td>938.000000</td>\n",
       "      <td>734.300000</td>\n",
       "      <td>2.000000</td>\n",
       "      <td>23.640000</td>\n",
       "      <td>2291.600000</td>\n",
       "      <td>0.502618</td>\n",
       "      <td>4.689741</td>\n",
       "      <td>0.400000</td>\n",
       "      <td>2779.000000</td>\n",
       "      <td>506.000000</td>\n",
       "    </tr>\n",
       "    <tr>\n",
       "      <th>50%</th>\n",
       "      <td>295.800000</td>\n",
       "      <td>0.000000</td>\n",
       "      <td>0.000000</td>\n",
       "      <td>186.000000</td>\n",
       "      <td>0.000000</td>\n",
       "      <td>975.600000</td>\n",
       "      <td>781.000000</td>\n",
       "      <td>4.000000</td>\n",
       "      <td>33.940000</td>\n",
       "      <td>2347.000000</td>\n",
       "      <td>0.630435</td>\n",
       "      <td>5.976783</td>\n",
       "      <td>0.488550</td>\n",
       "      <td>7756.000000</td>\n",
       "      <td>625.000000</td>\n",
       "    </tr>\n",
       "    <tr>\n",
       "      <th>75%</th>\n",
       "      <td>374.000000</td>\n",
       "      <td>129.800000</td>\n",
       "      <td>94.050000</td>\n",
       "      <td>192.000000</td>\n",
       "      <td>8.650000</td>\n",
       "      <td>1047.000000</td>\n",
       "      <td>821.000000</td>\n",
       "      <td>5.000000</td>\n",
       "      <td>45.710000</td>\n",
       "      <td>2394.150000</td>\n",
       "      <td>0.850071</td>\n",
       "      <td>8.592708</td>\n",
       "      <td>0.580060</td>\n",
       "      <td>15232.700000</td>\n",
       "      <td>694.900000</td>\n",
       "    </tr>\n",
       "    <tr>\n",
       "      <th>max</th>\n",
       "      <td>540.000000</td>\n",
       "      <td>359.400000</td>\n",
       "      <td>200.100000</td>\n",
       "      <td>247.000000</td>\n",
       "      <td>32.200000</td>\n",
       "      <td>1145.000000</td>\n",
       "      <td>992.600000</td>\n",
       "      <td>13.000000</td>\n",
       "      <td>82.600000</td>\n",
       "      <td>2766.900000</td>\n",
       "      <td>1.989247</td>\n",
       "      <td>18.696078</td>\n",
       "      <td>1.989247</td>\n",
       "      <td>197100.000000</td>\n",
       "      <td>972.000000</td>\n",
       "    </tr>\n",
       "  </tbody>\n",
       "</table>\n",
       "</div>"
      ],
      "text/plain": [
       "       CementComponent  BlastFurnaceSlag  FlyAshComponent  WaterComponent  \\\n",
       "count      6411.000000       6411.000000      6411.000000     6411.000000   \n",
       "mean        295.934846         60.710232        35.575074      184.604757   \n",
       "std         105.609623         83.995827        56.869697       19.018388   \n",
       "min         102.000000          0.000000         0.000000      121.800000   \n",
       "25%         212.500000          0.000000         0.000000      173.500000   \n",
       "50%         295.800000          0.000000         0.000000      186.000000   \n",
       "75%         374.000000        129.800000        94.050000      192.000000   \n",
       "max         540.000000        359.400000       200.100000      247.000000   \n",
       "\n",
       "       SuperplasticizerComponent  CoarseAggregateComponent  \\\n",
       "count                6411.000000               6411.000000   \n",
       "mean                    4.409209                989.259785   \n",
       "std                     5.770679                 77.462298   \n",
       "min                     0.000000                801.000000   \n",
       "25%                     0.000000                938.000000   \n",
       "50%                     0.000000                975.600000   \n",
       "75%                     8.650000               1047.000000   \n",
       "max                    32.200000               1145.000000   \n",
       "\n",
       "       FineAggregateComponent    AgeInDays     Strength  TotalComponentWeight  \\\n",
       "count             6411.000000  6411.000000  6411.000000           6411.000000   \n",
       "mean               771.460443     4.338325    35.415860           2341.954347   \n",
       "std                 78.977890     2.636039    16.379638             80.395058   \n",
       "min                594.000000     0.000000     2.330000           1991.500000   \n",
       "25%                734.300000     2.000000    23.640000           2291.600000   \n",
       "50%                781.000000     4.000000    33.940000           2347.000000   \n",
       "75%                821.000000     5.000000    45.710000           2394.150000   \n",
       "max                992.600000    13.000000    82.600000           2766.900000   \n",
       "\n",
       "               WCR           AR         WCPR     Cement-Age      Unknown  \n",
       "count  6411.000000  6411.000000  6411.000000    6411.000000  6411.000000  \n",
       "mean      0.718428     6.872551     0.503668   15748.312479   597.039632  \n",
       "std       0.300063     2.819865     0.150839   24887.600160   138.851403  \n",
       "min       0.259364     2.880105     0.179278     306.000000    74.000000  \n",
       "25%       0.502618     4.689741     0.400000    2779.000000   506.000000  \n",
       "50%       0.630435     5.976783     0.488550    7756.000000   625.000000  \n",
       "75%       0.850071     8.592708     0.580060   15232.700000   694.900000  \n",
       "max       1.989247    18.696078     1.989247  197100.000000   972.000000  "
      ]
     },
     "execution_count": 17,
     "metadata": {},
     "output_type": "execute_result"
    }
   ],
   "source": [
    "train.describe()"
   ]
  },
  {
   "cell_type": "code",
   "execution_count": 18,
   "id": "6a158207",
   "metadata": {
    "scrolled": false
   },
   "outputs": [
    {
     "name": "stderr",
     "output_type": "stream",
     "text": [
      "/Users/junho/opt/anaconda3/lib/python3.9/site-packages/seaborn/distributions.py:2619: FutureWarning: `distplot` is a deprecated function and will be removed in a future version. Please adapt your code to use either `displot` (a figure-level function with similar flexibility) or `histplot` (an axes-level function for histograms).\n",
      "  warnings.warn(msg, FutureWarning)\n",
      "/Users/junho/opt/anaconda3/lib/python3.9/site-packages/seaborn/distributions.py:2619: FutureWarning: `distplot` is a deprecated function and will be removed in a future version. Please adapt your code to use either `displot` (a figure-level function with similar flexibility) or `histplot` (an axes-level function for histograms).\n",
      "  warnings.warn(msg, FutureWarning)\n"
     ]
    },
    {
     "data": {
      "image/png": "[encoded data removed]",
      "text/plain": [
       "<Figure size 432x288 with 1 Axes>"
      ]
     },
     "metadata": {
      "needs_background": "light"
     },
     "output_type": "display_data"
    },
    {
     "name": "stderr",
     "output_type": "stream",
     "text": [
      "/Users/junho/opt/anaconda3/lib/python3.9/site-packages/seaborn/distributions.py:2619: FutureWarning: `distplot` is a deprecated function and will be removed in a future version. Please adapt your code to use either `displot` (a figure-level function with similar flexibility) or `histplot` (an axes-level function for histograms).\n",
      "  warnings.warn(msg, FutureWarning)\n",
      "/Users/junho/opt/anaconda3/lib/python3.9/site-packages/seaborn/distributions.py:2619: FutureWarning: `distplot` is a deprecated function and will be removed in a future version. Please adapt your code to use either `displot` (a figure-level function with similar flexibility) or `histplot` (an axes-level function for histograms).\n",
      "  warnings.warn(msg, FutureWarning)\n"
     ]
    },
    {
     "data": {
      "image/png": "[encoded data removed]",
      "text/plain": [
       "<Figure size 432x288 with 1 Axes>"
      ]
     },
     "metadata": {
      "needs_background": "light"
     },
     "output_type": "display_data"
    },
    {
     "name": "stderr",
     "output_type": "stream",
     "text": [
      "/Users/junho/opt/anaconda3/lib/python3.9/site-packages/seaborn/distributions.py:2619: FutureWarning: `distplot` is a deprecated function and will be removed in a future version. Please adapt your code to use either `displot` (a figure-level function with similar flexibility) or `histplot` (an axes-level function for histograms).\n",
      "  warnings.warn(msg, FutureWarning)\n",
      "/Users/junho/opt/anaconda3/lib/python3.9/site-packages/seaborn/distributions.py:2619: FutureWarning: `distplot` is a deprecated function and will be removed in a future version. Please adapt your code to use either `displot` (a figure-level function with similar flexibility) or `histplot` (an axes-level function for histograms).\n",
      "  warnings.warn(msg, FutureWarning)\n"
     ]
    },
    {
     "data": {
      "image/png": "[encoded data removed]",
      "text/plain": [
       "<Figure size 432x288 with 1 Axes>"
      ]
     },
     "metadata": {
      "needs_background": "light"
     },
     "output_type": "display_data"
    },
    {
     "name": "stderr",
     "output_type": "stream",
     "text": [
      "/Users/junho/opt/anaconda3/lib/python3.9/site-packages/seaborn/distributions.py:2619: FutureWarning: `distplot` is a deprecated function and will be removed in a future version. Please adapt your code to use either `displot` (a figure-level function with similar flexibility) or `histplot` (an axes-level function for histograms).\n",
      "  warnings.warn(msg, FutureWarning)\n",
      "/Users/junho/opt/anaconda3/lib/python3.9/site-packages/seaborn/distributions.py:2619: FutureWarning: `distplot` is a deprecated function and will be removed in a future version. Please adapt your code to use either `displot` (a figure-level function with similar flexibility) or `histplot` (an axes-level function for histograms).\n",
      "  warnings.warn(msg, FutureWarning)\n"
     ]
    },
    {
     "data": {
      "image/png": "[encoded data removed]",
      "text/plain": [
       "<Figure size 432x288 with 1 Axes>"
      ]
     },
     "metadata": {
      "needs_background": "light"
     },
     "output_type": "display_data"
    },
    {
     "name": "stderr",
     "output_type": "stream",
     "text": [
      "/Users/junho/opt/anaconda3/lib/python3.9/site-packages/seaborn/distributions.py:2619: FutureWarning: `distplot` is a deprecated function and will be removed in a future version. Please adapt your code to use either `displot` (a figure-level function with similar flexibility) or `histplot` (an axes-level function for histograms).\n",
      "  warnings.warn(msg, FutureWarning)\n",
      "/Users/junho/opt/anaconda3/lib/python3.9/site-packages/seaborn/distributions.py:2619: FutureWarning: `distplot` is a deprecated function and will be removed in a future version. Please adapt your code to use either `displot` (a figure-level function with similar flexibility) or `histplot` (an axes-level function for histograms).\n",
      "  warnings.warn(msg, FutureWarning)\n"
     ]
    },
    {
     "data": {
      "image/png": "[encoded data removed]",
      "text/plain": [
       "<Figure size 432x288 with 1 Axes>"
      ]
     },
     "metadata": {
      "needs_background": "light"
     },
     "output_type": "display_data"
    },
    {
     "name": "stderr",
     "output_type": "stream",
     "text": [
      "/Users/junho/opt/anaconda3/lib/python3.9/site-packages/seaborn/distributions.py:2619: FutureWarning: `distplot` is a deprecated function and will be removed in a future version. Please adapt your code to use either `displot` (a figure-level function with similar flexibility) or `histplot` (an axes-level function for histograms).\n",
      "  warnings.warn(msg, FutureWarning)\n",
      "/Users/junho/opt/anaconda3/lib/python3.9/site-packages/seaborn/distributions.py:2619: FutureWarning: `distplot` is a deprecated function and will be removed in a future version. Please adapt your code to use either `displot` (a figure-level function with similar flexibility) or `histplot` (an axes-level function for histograms).\n",
      "  warnings.warn(msg, FutureWarning)\n"
     ]
    },
    {
     "data": {
      "image/png": "[encoded data removed]",
      "text/plain": [
       "<Figure size 432x288 with 1 Axes>"
      ]
     },
     "metadata": {
      "needs_background": "light"
     },
     "output_type": "display_data"
    },
    {
     "name": "stderr",
     "output_type": "stream",
     "text": [
      "/Users/junho/opt/anaconda3/lib/python3.9/site-packages/seaborn/distributions.py:2619: FutureWarning: `distplot` is a deprecated function and will be removed in a future version. Please adapt your code to use either `displot` (a figure-level function with similar flexibility) or `histplot` (an axes-level function for histograms).\n",
      "  warnings.warn(msg, FutureWarning)\n",
      "/Users/junho/opt/anaconda3/lib/python3.9/site-packages/seaborn/distributions.py:2619: FutureWarning: `distplot` is a deprecated function and will be removed in a future version. Please adapt your code to use either `displot` (a figure-level function with similar flexibility) or `histplot` (an axes-level function for histograms).\n",
      "  warnings.warn(msg, FutureWarning)\n"
     ]
    },
    {
     "data": {
      "image/png": "[encoded data removed]",
      "text/plain": [
       "<Figure size 432x288 with 1 Axes>"
      ]
     },
     "metadata": {
      "needs_background": "light"
     },
     "output_type": "display_data"
    },
    {
     "name": "stderr",
     "output_type": "stream",
     "text": [
      "/Users/junho/opt/anaconda3/lib/python3.9/site-packages/seaborn/distributions.py:2619: FutureWarning: `distplot` is a deprecated function and will be removed in a future version. Please adapt your code to use either `displot` (a figure-level function with similar flexibility) or `histplot` (an axes-level function for histograms).\n",
      "  warnings.warn(msg, FutureWarning)\n",
      "/Users/junho/opt/anaconda3/lib/python3.9/site-packages/seaborn/distributions.py:2619: FutureWarning: `distplot` is a deprecated function and will be removed in a future version. Please adapt your code to use either `displot` (a figure-level function with similar flexibility) or `histplot` (an axes-level function for histograms).\n",
      "  warnings.warn(msg, FutureWarning)\n"
     ]
    },
    {
     "data": {
      "image/png": "[encoded data removed]",
      "text/plain": [
       "<Figure size 432x288 with 1 Axes>"
      ]
     },
     "metadata": {
      "needs_background": "light"
     },
     "output_type": "display_data"
    },
    {
     "name": "stderr",
     "output_type": "stream",
     "text": [
      "/Users/junho/opt/anaconda3/lib/python3.9/site-packages/seaborn/distributions.py:2619: FutureWarning: `distplot` is a deprecated function and will be removed in a future version. Please adapt your code to use either `displot` (a figure-level function with similar flexibility) or `histplot` (an axes-level function for histograms).\n",
      "  warnings.warn(msg, FutureWarning)\n",
      "/Users/junho/opt/anaconda3/lib/python3.9/site-packages/seaborn/distributions.py:2619: FutureWarning: `distplot` is a deprecated function and will be removed in a future version. Please adapt your code to use either `displot` (a figure-level function with similar flexibility) or `histplot` (an axes-level function for histograms).\n",
      "  warnings.warn(msg, FutureWarning)\n"
     ]
    },
    {
     "data": {
      "image/png": "[encoded data removed]",
      "text/plain": [
       "<Figure size 432x288 with 1 Axes>"
      ]
     },
     "metadata": {
      "needs_background": "light"
     },
     "output_type": "display_data"
    },
    {
     "name": "stderr",
     "output_type": "stream",
     "text": [
      "/Users/junho/opt/anaconda3/lib/python3.9/site-packages/seaborn/distributions.py:2619: FutureWarning: `distplot` is a deprecated function and will be removed in a future version. Please adapt your code to use either `displot` (a figure-level function with similar flexibility) or `histplot` (an axes-level function for histograms).\n",
      "  warnings.warn(msg, FutureWarning)\n",
      "/Users/junho/opt/anaconda3/lib/python3.9/site-packages/seaborn/distributions.py:2619: FutureWarning: `distplot` is a deprecated function and will be removed in a future version. Please adapt your code to use either `displot` (a figure-level function with similar flexibility) or `histplot` (an axes-level function for histograms).\n",
      "  warnings.warn(msg, FutureWarning)\n"
     ]
    },
    {
     "data": {
      "image/png": "[encoded data removed]",
      "text/plain": [
       "<Figure size 432x288 with 1 Axes>"
      ]
     },
     "metadata": {
      "needs_background": "light"
     },
     "output_type": "display_data"
    },
    {
     "name": "stderr",
     "output_type": "stream",
     "text": [
      "/Users/junho/opt/anaconda3/lib/python3.9/site-packages/seaborn/distributions.py:2619: FutureWarning: `distplot` is a deprecated function and will be removed in a future version. Please adapt your code to use either `displot` (a figure-level function with similar flexibility) or `histplot` (an axes-level function for histograms).\n",
      "  warnings.warn(msg, FutureWarning)\n",
      "/Users/junho/opt/anaconda3/lib/python3.9/site-packages/seaborn/distributions.py:2619: FutureWarning: `distplot` is a deprecated function and will be removed in a future version. Please adapt your code to use either `displot` (a figure-level function with similar flexibility) or `histplot` (an axes-level function for histograms).\n",
      "  warnings.warn(msg, FutureWarning)\n"
     ]
    },
    {
     "data": {
      "image/png": "[encoded data removed]",
      "text/plain": [
       "<Figure size 432x288 with 1 Axes>"
      ]
     },
     "metadata": {
      "needs_background": "light"
     },
     "output_type": "display_data"
    },
    {
     "name": "stderr",
     "output_type": "stream",
     "text": [
      "/Users/junho/opt/anaconda3/lib/python3.9/site-packages/seaborn/distributions.py:2619: FutureWarning: `distplot` is a deprecated function and will be removed in a future version. Please adapt your code to use either `displot` (a figure-level function with similar flexibility) or `histplot` (an axes-level function for histograms).\n",
      "  warnings.warn(msg, FutureWarning)\n",
      "/Users/junho/opt/anaconda3/lib/python3.9/site-packages/seaborn/distributions.py:2619: FutureWarning: `distplot` is a deprecated function and will be removed in a future version. Please adapt your code to use either `displot` (a figure-level function with similar flexibility) or `histplot` (an axes-level function for histograms).\n",
      "  warnings.warn(msg, FutureWarning)\n"
     ]
    },
    {
     "data": {
      "image/png": "[encoded data removed]",
      "text/plain": [
       "<Figure size 432x288 with 1 Axes>"
      ]
     },
     "metadata": {
      "needs_background": "light"
     },
     "output_type": "display_data"
    },
    {
     "name": "stderr",
     "output_type": "stream",
     "text": [
      "/Users/junho/opt/anaconda3/lib/python3.9/site-packages/seaborn/distributions.py:2619: FutureWarning: `distplot` is a deprecated function and will be removed in a future version. Please adapt your code to use either `displot` (a figure-level function with similar flexibility) or `histplot` (an axes-level function for histograms).\n",
      "  warnings.warn(msg, FutureWarning)\n",
      "/Users/junho/opt/anaconda3/lib/python3.9/site-packages/seaborn/distributions.py:2619: FutureWarning: `distplot` is a deprecated function and will be removed in a future version. Please adapt your code to use either `displot` (a figure-level function with similar flexibility) or `histplot` (an axes-level function for histograms).\n",
      "  warnings.warn(msg, FutureWarning)\n"
     ]
    },
    {
     "data": {
      "image/png": "[encoded data removed]",
      "text/plain": [
       "<Figure size 432x288 with 1 Axes>"
      ]
     },
     "metadata": {
      "needs_background": "light"
     },
     "output_type": "display_data"
    },
    {
     "name": "stderr",
     "output_type": "stream",
     "text": [
      "/Users/junho/opt/anaconda3/lib/python3.9/site-packages/seaborn/distributions.py:2619: FutureWarning: `distplot` is a deprecated function and will be removed in a future version. Please adapt your code to use either `displot` (a figure-level function with similar flexibility) or `histplot` (an axes-level function for histograms).\n",
      "  warnings.warn(msg, FutureWarning)\n",
      "/Users/junho/opt/anaconda3/lib/python3.9/site-packages/seaborn/distributions.py:2619: FutureWarning: `distplot` is a deprecated function and will be removed in a future version. Please adapt your code to use either `displot` (a figure-level function with similar flexibility) or `histplot` (an axes-level function for histograms).\n",
      "  warnings.warn(msg, FutureWarning)\n"
     ]
    },
    {
     "data": {
      "image/png": "[encoded data removed]",
      "text/plain": [
       "<Figure size 432x288 with 1 Axes>"
      ]
     },
     "metadata": {
      "needs_background": "light"
     },
     "output_type": "display_data"
    }
   ],
   "source": [
    "# 콘크리트의 강도는 물과 시멘트의 비율이 낮아지면 증가합니다.\n",
    "# CementComponent:- Amount of cement is mixed\n",
    "# BlastFurnaceSlag:- Amount of Blast Furnace Slag is mixed\n",
    "# FlyAshComponent:- Amount of FlyAsh is mixed\n",
    "# WaterComponent:- Amount of water is mixed\n",
    "# SuperplasticizerComponent:- Amount of Super plasticizer is mixed\n",
    "# CoarseAggregateComponent:- Amount of Coarse Aggregate is mixed\n",
    "# FineAggregateComponent:- Amount of Coarse Aggregate is mixed\n",
    "# AgeInDays:- How many days it was left dry\n",
    "# Strength:- What was the final strength of concrete- (Target)\n",
    "for i in test.columns:\n",
    "    plt.title(f'{i}')\n",
    "    sns.distplot(train[f'{i}'],bins=50)#.plot.hist(bins=100,grid='on',figsize=(5,5))\n",
    "    sns.distplot(test[f'{i}'],color='red',bins=50)#.plot.hist(bins=100,grid='on',figsize=(5,5))\n",
    "    plt.show()\n"
   ]
  },
  {
   "cell_type": "code",
   "execution_count": 34,
   "id": "912143ae",
   "metadata": {},
   "outputs": [],
   "source": [
    "train = train.reset_index(drop=True)"
   ]
  },
  {
   "cell_type": "code",
   "execution_count": 45,
   "id": "3fc610ca",
   "metadata": {},
   "outputs": [],
   "source": [
    "from sklearn.ensemble import GradientBoostingRegressor\n",
    "from xgboost import XGBRegressor\n",
    "from catboost import CatBoostRegressor\n",
    "from lightgbm import LGBMRegressor\n",
    "import optuna\n",
    "from optuna.samplers import TPESampler\n",
    "from sklearn.metrics import mean_squared_error\n",
    "from sklearn.model_selection import KFold, StratifiedKFold\n",
    "from sklearn.model_selection import GridSearchCV\n",
    "from tqdm import tqdm"
   ]
  },
  {
   "cell_type": "code",
   "execution_count": 46,
   "id": "ce65a5de",
   "metadata": {},
   "outputs": [],
   "source": [
    "target = 'Strength'\n",
    "features = [c for c in train.columns if c not in [target]]"
   ]
  },
  {
   "cell_type": "code",
   "execution_count": 47,
   "id": "05b11aa0",
   "metadata": {},
   "outputs": [
    {
     "name": "stderr",
     "output_type": "stream",
     "text": [
      "\r",
      "0it [00:00, ?it/s]"
     ]
    },
    {
     "name": "stdout",
     "output_type": "stream",
     "text": [
      "0:\tlearn: 16.3589259\ttest: 16.0265896\tbest: 16.0265896 (0)\ttotal: 2.1ms\tremaining: 31.5s\n"
     ]
    },
    {
     "name": "stderr",
     "output_type": "stream",
     "text": [
      "\r",
      "1it [00:01,  1.80s/it]"
     ]
    },
    {
     "name": "stdout",
     "output_type": "stream",
     "text": [
      "Stopped by overfitting detector  (200 iterations wait)\n",
      "\n",
      "bestTest = 11.03549502\n",
      "bestIteration = 1298\n",
      "\n",
      "Shrink model to first 1299 iterations.\n",
      "mse on fold 0: 121.7822\n",
      "0:\tlearn: 16.3551934\ttest: 16.0614672\tbest: 16.0614672 (0)\ttotal: 2.19ms\tremaining: 32.8s\n"
     ]
    },
    {
     "name": "stderr",
     "output_type": "stream",
     "text": [
      "\r",
      "2it [00:03,  1.63s/it]"
     ]
    },
    {
     "name": "stdout",
     "output_type": "stream",
     "text": [
      "Stopped by overfitting detector  (200 iterations wait)\n",
      "\n",
      "bestTest = 11.49332139\n",
      "bestIteration = 1058\n",
      "\n",
      "Shrink model to first 1059 iterations.\n",
      "mse on fold 1: 132.0964\n",
      "0:\tlearn: 16.2580293\ttest: 16.9076306\tbest: 16.9076306 (0)\ttotal: 1.34ms\tremaining: 20.1s\n",
      "2000:\tlearn: 10.8476831\ttest: 11.3418091\tbest: 11.3415906 (1998)\ttotal: 2.29s\tremaining: 14.9s\n"
     ]
    },
    {
     "name": "stderr",
     "output_type": "stream",
     "text": [
      "\r",
      "3it [00:06,  2.12s/it]"
     ]
    },
    {
     "name": "stdout",
     "output_type": "stream",
     "text": [
      "Stopped by overfitting detector  (200 iterations wait)\n",
      "\n",
      "bestTest = 11.3407442\n",
      "bestIteration = 2095\n",
      "\n",
      "Shrink model to first 2096 iterations.\n",
      "mse on fold 2: 128.6125\n",
      "0:\tlearn: 16.3057690\ttest: 16.4728993\tbest: 16.4728993 (0)\ttotal: 2.32ms\tremaining: 34.8s\n",
      "2000:\tlearn: 10.8930714\ttest: 10.9747756\tbest: 10.9738796 (1990)\ttotal: 2.25s\tremaining: 14.6s\n"
     ]
    },
    {
     "name": "stderr",
     "output_type": "stream",
     "text": [
      "\r",
      "4it [00:10,  2.88s/it]"
     ]
    },
    {
     "name": "stdout",
     "output_type": "stream",
     "text": [
      "Stopped by overfitting detector  (200 iterations wait)\n",
      "\n",
      "bestTest = 10.94974576\n",
      "bestIteration = 3302\n",
      "\n",
      "Shrink model to first 3303 iterations.\n",
      "mse on fold 3: 119.8969\n",
      "0:\tlearn: 16.3166716\ttest: 16.3704463\tbest: 16.3704463 (0)\ttotal: 1.79ms\tremaining: 26.9s\n"
     ]
    },
    {
     "name": "stderr",
     "output_type": "stream",
     "text": [
      "\r",
      "5it [00:11,  2.34s/it]"
     ]
    },
    {
     "name": "stdout",
     "output_type": "stream",
     "text": [
      "Stopped by overfitting detector  (200 iterations wait)\n",
      "\n",
      "bestTest = 12.78272203\n",
      "bestIteration = 991\n",
      "\n",
      "Shrink model to first 992 iterations.\n",
      "mse on fold 4: 163.3980\n",
      "0:\tlearn: 16.3505030\ttest: 16.0979694\tbest: 16.0979694 (0)\ttotal: 1.49ms\tremaining: 22.3s\n"
     ]
    },
    {
     "name": "stderr",
     "output_type": "stream",
     "text": [
      "\r",
      "6it [00:12,  2.06s/it]"
     ]
    },
    {
     "name": "stdout",
     "output_type": "stream",
     "text": [
      "Stopped by overfitting detector  (200 iterations wait)\n",
      "\n",
      "bestTest = 11.34192736\n",
      "bestIteration = 1078\n",
      "\n",
      "Shrink model to first 1079 iterations.\n",
      "mse on fold 5: 128.6393\n",
      "0:\tlearn: 16.3262032\ttest: 16.3185814\tbest: 16.3185814 (0)\ttotal: 1.27ms\tremaining: 19s\n"
     ]
    },
    {
     "name": "stderr",
     "output_type": "stream",
     "text": [
      "\r",
      "7it [00:14,  1.85s/it]"
     ]
    },
    {
     "name": "stdout",
     "output_type": "stream",
     "text": [
      "Stopped by overfitting detector  (200 iterations wait)\n",
      "\n",
      "bestTest = 11.64088475\n",
      "bestIteration = 1017\n",
      "\n",
      "Shrink model to first 1018 iterations.\n",
      "mse on fold 6: 135.5102\n",
      "0:\tlearn: 16.3289609\ttest: 16.2684743\tbest: 16.2684743 (0)\ttotal: 988us\tremaining: 14.8s\n",
      "2000:\tlearn: 10.7835095\ttest: 11.9858855\tbest: 11.9850316 (1993)\ttotal: 2.12s\tremaining: 13.8s\n"
     ]
    },
    {
     "name": "stderr",
     "output_type": "stream",
     "text": [
      "\r",
      "8it [00:16,  2.09s/it]"
     ]
    },
    {
     "name": "stdout",
     "output_type": "stream",
     "text": [
      "Stopped by overfitting detector  (200 iterations wait)\n",
      "\n",
      "bestTest = 11.97608337\n",
      "bestIteration = 2171\n",
      "\n",
      "Shrink model to first 2172 iterations.\n",
      "mse on fold 7: 143.4266\n",
      "0:\tlearn: 16.2767242\ttest: 16.7599966\tbest: 16.7599966 (0)\ttotal: 1.47ms\tremaining: 22s\n"
     ]
    },
    {
     "name": "stderr",
     "output_type": "stream",
     "text": [
      "\r",
      "9it [00:18,  1.81s/it]"
     ]
    },
    {
     "name": "stdout",
     "output_type": "stream",
     "text": [
      "Stopped by overfitting detector  (200 iterations wait)\n",
      "\n",
      "bestTest = 11.81588594\n",
      "bestIteration = 895\n",
      "\n",
      "Shrink model to first 896 iterations.\n",
      "mse on fold 8: 139.6152\n",
      "0:\tlearn: 16.3633292\ttest: 15.9619723\tbest: 15.9619723 (0)\ttotal: 3.63ms\tremaining: 54.5s\n"
     ]
    },
    {
     "name": "stderr",
     "output_type": "stream",
     "text": [
      "10it [00:19,  2.00s/it]"
     ]
    },
    {
     "name": "stdout",
     "output_type": "stream",
     "text": [
      "Stopped by overfitting detector  (200 iterations wait)\n",
      "\n",
      "bestTest = 11.50589683\n",
      "bestIteration = 1434\n",
      "\n",
      "Shrink model to first 1435 iterations.\n",
      "mse on fold 9: 132.3857\n",
      "mean mse across all folds: 134.5363\n"
     ]
    },
    {
     "name": "stderr",
     "output_type": "stream",
     "text": [
      "\n"
     ]
    }
   ],
   "source": [
    "kf = KFold(n_splits = 10, random_state = 41, shuffle = True)\n",
    "models = []\n",
    "val_scores = []\n",
    "preds = []\n",
    "\n",
    "params = {\n",
    "'n_estimators':15000,\n",
    "'max_depth':5,\n",
    "'early_stopping_rounds':200,\n",
    "'learning_rate':0.008,\n",
    "'one_hot_max_size':3,\n",
    "'bootstrap_type':\"MVS\",\n",
    "'l2_leaf_reg':2,\n",
    "'random_state':41\n",
    "         }\n",
    "\n",
    "for i, (train_index, val_index) in tqdm(enumerate(kf.split(train, train[target]))):\n",
    "    \n",
    "    X_train, X_val = train[features].loc[train_index], train[features].loc[val_index]\n",
    "    y_train, y_val = train[target][train_index], train[target][val_index]\n",
    "    \n",
    "#     if include_orig:\n",
    "#         X_train = X_train.append(original[features], ignore_index = True)\n",
    "#         y_train = y_train.append(original[target], ignore_index = True)\n",
    "    \n",
    "    model = CatBoostRegressor(**params)\n",
    "    \n",
    "    model.fit(X_train, y_train, eval_set = [(X_val, y_val)], verbose = 2000)\n",
    "    \n",
    "    models.append(model)\n",
    "    # pred = model.predict_proba(X_val)[:,1]\n",
    "    # score = accuracy_score(y_val, model.predict(X_val))\n",
    "    score = mean_squared_error(y_val, model.predict(X_val))\n",
    "\n",
    "    val_scores.append(score)\n",
    "    \n",
    "    print(f'mse on fold {i}: {score:.4f}')\n",
    "    \n",
    "print(f'mean mse across all folds: {np.mean(val_scores):.4f}')"
   ]
  },
  {
   "cell_type": "code",
   "execution_count": 48,
   "id": "f5908f9b",
   "metadata": {},
   "outputs": [
    {
     "data": {
      "text/plain": [
       "11.59897793769613"
      ]
     },
     "execution_count": 48,
     "metadata": {},
     "output_type": "execute_result"
    }
   ],
   "source": [
    "np.array(val_scores).mean()**(1/2)"
   ]
  },
  {
   "cell_type": "code",
   "execution_count": 51,
   "id": "98446598",
   "metadata": {},
   "outputs": [],
   "source": [
    "def cat_objective(trial):\n",
    "    \n",
    "    params_optuna = {\n",
    "        'iterations':trial.suggest_int(\"iterations\", 4000, 25000),\n",
    "        'od_wait':trial.suggest_int('od_wait', 500, 2300),\n",
    "        'learning_rate' : trial.suggest_uniform('learning_rate',0.01, 1),\n",
    "        'reg_lambda': trial.suggest_uniform('reg_lambda',1e-5,100),\n",
    "        'subsample': trial.suggest_uniform('subsample',0,1),\n",
    "        'random_strength': trial.suggest_uniform('random_strength',10,50),\n",
    "        'depth': trial.suggest_int('depth',1, 15),\n",
    "        'min_data_in_leaf': trial.suggest_int('min_data_in_leaf',1,30),\n",
    "        'leaf_estimation_iterations': trial.suggest_int('leaf_estimation_iterations',1,15),\n",
    "        'bagging_temperature' :trial.suggest_loguniform('bagging_temperature', 0.01, 100.00),\n",
    "        'colsample_bylevel':trial.suggest_float('colsample_bylevel', 0.4, 1.0),\n",
    "    }\n",
    "    n=10\n",
    "    cv = KFold(n,shuffle=True, random_state=42)\n",
    "    all_scores = []\n",
    "    for i,(train_idx,val_idx) in enumerate(cv.split(train[features],train[target])):\n",
    "        X_train, y_train = train.loc[train_idx, features],train.loc[train_idx, target]\n",
    "        X_val, y_val = train.loc[val_idx, features],train.loc[val_idx, target]\n",
    "\n",
    "        model = CatBoostRegressor(**params_optuna)\n",
    "        model.fit(X_train,\n",
    "                  y_train,\n",
    "                  eval_set = [(X_val,y_val)],\n",
    "                  early_stopping_rounds=50,\n",
    "                  verbose=500)\n",
    "\n",
    "        y_pred = model.predict(X_val)\n",
    "        score = mean_squared_error(y_val,y_pred)\n",
    "        all_scores.append(score)\n",
    "\n",
    "    return np.mean(all_scores)"
   ]
  },
  {
   "cell_type": "code",
   "execution_count": 52,
   "id": "b2c081f2",
   "metadata": {},
   "outputs": [
    {
     "name": "stderr",
     "output_type": "stream",
     "text": [
      "\u001b[32m[I 2023-03-01 22:33:55,900]\u001b[0m A new study created in memory with name: no-name-0767d96c-5bff-4ac8-8545-ddb96437139b\u001b[0m\n",
      "/var/folders/4l/84htqxwn14n0jr_xvdc4tpbr0000gn/T/ipykernel_64562/2551834662.py:6: FutureWarning: suggest_uniform has been deprecated in v3.0.0. This feature will be removed in v6.0.0. See https://github.com/optuna/optuna/releases/tag/v3.0.0. Use :func:`~optuna.trial.Trial.suggest_float` instead.\n",
      "  'learning_rate' : trial.suggest_uniform('learning_rate',0.01, 1),\n",
      "/var/folders/4l/84htqxwn14n0jr_xvdc4tpbr0000gn/T/ipykernel_64562/2551834662.py:7: FutureWarning: suggest_uniform has been deprecated in v3.0.0. This feature will be removed in v6.0.0. See https://github.com/optuna/optuna/releases/tag/v3.0.0. Use :func:`~optuna.trial.Trial.suggest_float` instead.\n",
      "  'reg_lambda': trial.suggest_uniform('reg_lambda',1e-5,100),\n",
      "/var/folders/4l/84htqxwn14n0jr_xvdc4tpbr0000gn/T/ipykernel_64562/2551834662.py:8: FutureWarning: suggest_uniform has been deprecated in v3.0.0. This feature will be removed in v6.0.0. See https://github.com/optuna/optuna/releases/tag/v3.0.0. Use :func:`~optuna.trial.Trial.suggest_float` instead.\n",
      "  'subsample': trial.suggest_uniform('subsample',0,1),\n",
      "/var/folders/4l/84htqxwn14n0jr_xvdc4tpbr0000gn/T/ipykernel_64562/2551834662.py:9: FutureWarning: suggest_uniform has been deprecated in v3.0.0. This feature will be removed in v6.0.0. See https://github.com/optuna/optuna/releases/tag/v3.0.0. Use :func:`~optuna.trial.Trial.suggest_float` instead.\n",
      "  'random_strength': trial.suggest_uniform('random_strength',10,50),\n",
      "/var/folders/4l/84htqxwn14n0jr_xvdc4tpbr0000gn/T/ipykernel_64562/2551834662.py:13: FutureWarning: suggest_loguniform has been deprecated in v3.0.0. This feature will be removed in v6.0.0. See https://github.com/optuna/optuna/releases/tag/v3.0.0. Use :func:`~optuna.trial.Trial.suggest_float` instead.\n",
      "  'bagging_temperature' :trial.suggest_loguniform('bagging_temperature', 0.01, 100.00),\n"
     ]
    },
    {
     "name": "stdout",
     "output_type": "stream",
     "text": [
      "0:\tlearn: 15.5831573\ttest: 15.1260402\tbest: 15.1260402 (0)\ttotal: 4.75ms\tremaining: 1m 6s\n",
      "Stopped by overfitting detector  (50 iterations wait)\n",
      "\n",
      "bestTest = 12.16813013\n",
      "bestIteration = 31\n",
      "\n",
      "Shrink model to first 32 iterations.\n",
      "0:\tlearn: 15.4729429\ttest: 16.2860144\tbest: 16.2860144 (0)\ttotal: 2.48ms\tremaining: 35s\n",
      "Stopped by overfitting detector  (50 iterations wait)\n",
      "\n",
      "bestTest = 11.75886207\n",
      "bestIteration = 72\n",
      "\n",
      "Shrink model to first 73 iterations.\n",
      "0:\tlearn: 15.4519527\ttest: 15.5719486\tbest: 15.5719486 (0)\ttotal: 2.78ms\tremaining: 39.1s\n",
      "Stopped by overfitting detector  (50 iterations wait)\n",
      "\n",
      "bestTest = 11.93337192\n",
      "bestIteration = 34\n",
      "\n",
      "Shrink model to first 35 iterations.\n",
      "0:\tlearn: 15.5515438\ttest: 15.3922306\tbest: 15.3922306 (0)\ttotal: 3.07ms\tremaining: 43.2s\n",
      "Stopped by overfitting detector  (50 iterations wait)\n",
      "\n",
      "bestTest = 11.93832271\n",
      "bestIteration = 109\n",
      "\n",
      "Shrink model to first 110 iterations.\n",
      "0:\tlearn: 15.5732042\ttest: 14.9148798\tbest: 14.9148798 (0)\ttotal: 3.25ms\tremaining: 45.9s\n",
      "Stopped by overfitting detector  (50 iterations wait)\n",
      "\n",
      "bestTest = 11.40644425\n",
      "bestIteration = 45\n",
      "\n",
      "Shrink model to first 46 iterations.\n",
      "0:\tlearn: 15.5930762\ttest: 15.2679479\tbest: 15.2679479 (0)\ttotal: 2.56ms\tremaining: 36s\n",
      "Stopped by overfitting detector  (50 iterations wait)\n",
      "\n",
      "bestTest = 11.53775116\n",
      "bestIteration = 33\n",
      "\n",
      "Shrink model to first 34 iterations.\n",
      "0:\tlearn: 15.5335067\ttest: 15.7234878\tbest: 15.7234878 (0)\ttotal: 2.14ms\tremaining: 30.2s\n",
      "Stopped by overfitting detector  (50 iterations wait)\n",
      "\n",
      "bestTest = 11.53483435\n",
      "bestIteration = 96\n",
      "\n",
      "Shrink model to first 97 iterations.\n",
      "0:\tlearn: 15.3645832\ttest: 16.2902296\tbest: 16.2902296 (0)\ttotal: 2.32ms\tremaining: 32.7s\n",
      "Stopped by overfitting detector  (50 iterations wait)\n",
      "\n",
      "bestTest = 12.29544484\n",
      "bestIteration = 69\n",
      "\n",
      "Shrink model to first 70 iterations.\n",
      "0:\tlearn: 15.3903005\ttest: 15.6493388\tbest: 15.6493388 (0)\ttotal: 2.51ms\tremaining: 35.4s\n",
      "Stopped by overfitting detector  (50 iterations wait)\n",
      "\n",
      "bestTest = 11.31113577\n",
      "bestIteration = 32\n",
      "\n",
      "Shrink model to first 33 iterations.\n",
      "0:\tlearn: 15.5010818\ttest: 15.0987058\tbest: 15.0987058 (0)\ttotal: 2.52ms\tremaining: 35.6s\n"
     ]
    },
    {
     "name": "stderr",
     "output_type": "stream",
     "text": [
      "\u001b[32m[I 2023-03-01 22:33:59,282]\u001b[0m Trial 0 finished with value: 137.04859940420192 and parameters: {'iterations': 14086, 'od_wait': 1441, 'learning_rate': 0.17453983179249954, 'reg_lambda': 2.0139086937791078, 'subsample': 0.10978201991891645, 'random_strength': 16.351448988251907, 'depth': 8, 'min_data_in_leaf': 26, 'leaf_estimation_iterations': 8, 'bagging_temperature': 34.432509394502674, 'colsample_bylevel': 0.48826583378948346}. Best is trial 0 with value: 137.04859940420192.\u001b[0m\n"
     ]
    },
    {
     "name": "stdout",
     "output_type": "stream",
     "text": [
      "Stopped by overfitting detector  (50 iterations wait)\n",
      "\n",
      "bestTest = 11.12762411\n",
      "bestIteration = 43\n",
      "\n",
      "Shrink model to first 44 iterations.\n",
      "0:\tlearn: 13.4478149\ttest: 13.2547984\tbest: 13.2547984 (0)\ttotal: 4.95ms\tremaining: 1m 28s\n"
     ]
    },
    {
     "name": "stderr",
     "output_type": "stream",
     "text": [
      "/var/folders/4l/84htqxwn14n0jr_xvdc4tpbr0000gn/T/ipykernel_64562/2551834662.py:6: FutureWarning: suggest_uniform has been deprecated in v3.0.0. This feature will be removed in v6.0.0. See https://github.com/optuna/optuna/releases/tag/v3.0.0. Use :func:`~optuna.trial.Trial.suggest_float` instead.\n",
      "  'learning_rate' : trial.suggest_uniform('learning_rate',0.01, 1),\n",
      "/var/folders/4l/84htqxwn14n0jr_xvdc4tpbr0000gn/T/ipykernel_64562/2551834662.py:7: FutureWarning: suggest_uniform has been deprecated in v3.0.0. This feature will be removed in v6.0.0. See https://github.com/optuna/optuna/releases/tag/v3.0.0. Use :func:`~optuna.trial.Trial.suggest_float` instead.\n",
      "  'reg_lambda': trial.suggest_uniform('reg_lambda',1e-5,100),\n",
      "/var/folders/4l/84htqxwn14n0jr_xvdc4tpbr0000gn/T/ipykernel_64562/2551834662.py:8: FutureWarning: suggest_uniform has been deprecated in v3.0.0. This feature will be removed in v6.0.0. See https://github.com/optuna/optuna/releases/tag/v3.0.0. Use :func:`~optuna.trial.Trial.suggest_float` instead.\n",
      "  'subsample': trial.suggest_uniform('subsample',0,1),\n",
      "/var/folders/4l/84htqxwn14n0jr_xvdc4tpbr0000gn/T/ipykernel_64562/2551834662.py:9: FutureWarning: suggest_uniform has been deprecated in v3.0.0. This feature will be removed in v6.0.0. See https://github.com/optuna/optuna/releases/tag/v3.0.0. Use :func:`~optuna.trial.Trial.suggest_float` instead.\n",
      "  'random_strength': trial.suggest_uniform('random_strength',10,50),\n",
      "/var/folders/4l/84htqxwn14n0jr_xvdc4tpbr0000gn/T/ipykernel_64562/2551834662.py:13: FutureWarning: suggest_loguniform has been deprecated in v3.0.0. This feature will be removed in v6.0.0. See https://github.com/optuna/optuna/releases/tag/v3.0.0. Use :func:`~optuna.trial.Trial.suggest_float` instead.\n",
      "  'bagging_temperature' :trial.suggest_loguniform('bagging_temperature', 0.01, 100.00),\n"
     ]
    },
    {
     "name": "stdout",
     "output_type": "stream",
     "text": [
      "Stopped by overfitting detector  (50 iterations wait)\n",
      "\n",
      "bestTest = 12.34189921\n",
      "bestIteration = 9\n",
      "\n",
      "Shrink model to first 10 iterations.\n",
      "0:\tlearn: 13.3764302\ttest: 14.1302937\tbest: 14.1302937 (0)\ttotal: 4.95ms\tremaining: 1m 28s\n",
      "Stopped by overfitting detector  (50 iterations wait)\n",
      "\n",
      "bestTest = 12.12192729\n",
      "bestIteration = 40\n",
      "\n",
      "Shrink model to first 41 iterations.\n",
      "0:\tlearn: 13.4811448\ttest: 13.5390757\tbest: 13.5390757 (0)\ttotal: 4.95ms\tremaining: 1m 28s\n",
      "Stopped by overfitting detector  (50 iterations wait)\n",
      "\n",
      "bestTest = 12.23136362\n",
      "bestIteration = 8\n",
      "\n",
      "Shrink model to first 9 iterations.\n",
      "0:\tlearn: 13.4585477\ttest: 13.6116610\tbest: 13.6116610 (0)\ttotal: 5.01ms\tremaining: 1m 29s\n",
      "Stopped by overfitting detector  (50 iterations wait)\n",
      "\n",
      "bestTest = 12.20235313\n",
      "bestIteration = 14\n",
      "\n",
      "Shrink model to first 15 iterations.\n",
      "0:\tlearn: 13.5034026\ttest: 12.9221317\tbest: 12.9221317 (0)\ttotal: 4.95ms\tremaining: 1m 27s\n",
      "Stopped by overfitting detector  (50 iterations wait)\n",
      "\n",
      "bestTest = 11.50565002\n",
      "bestIteration = 7\n",
      "\n",
      "Shrink model to first 8 iterations.\n",
      "0:\tlearn: 13.5170009\ttest: 13.3314114\tbest: 13.3314114 (0)\ttotal: 4.87ms\tremaining: 1m 26s\n",
      "Stopped by overfitting detector  (50 iterations wait)\n",
      "\n",
      "bestTest = 11.7534413\n",
      "bestIteration = 31\n",
      "\n",
      "Shrink model to first 32 iterations.\n",
      "0:\tlearn: 13.3284558\ttest: 13.6443426\tbest: 13.6443426 (0)\ttotal: 6.04ms\tremaining: 1m 47s\n",
      "Stopped by overfitting detector  (50 iterations wait)\n",
      "\n",
      "bestTest = 11.85590545\n",
      "bestIteration = 10\n",
      "\n",
      "Shrink model to first 11 iterations.\n",
      "0:\tlearn: 13.3208865\ttest: 14.2142954\tbest: 14.2142954 (0)\ttotal: 5.19ms\tremaining: 1m 32s\n",
      "Stopped by overfitting detector  (50 iterations wait)\n",
      "\n",
      "bestTest = 12.21108857\n",
      "bestIteration = 11\n",
      "\n",
      "Shrink model to first 12 iterations.\n",
      "0:\tlearn: 13.3194103\ttest: 13.2658750\tbest: 13.2658750 (0)\ttotal: 5.05ms\tremaining: 1m 29s\n",
      "Stopped by overfitting detector  (50 iterations wait)\n",
      "\n",
      "bestTest = 11.49641654\n",
      "bestIteration = 8\n",
      "\n",
      "Shrink model to first 9 iterations.\n",
      "0:\tlearn: 13.4659702\ttest: 13.1267127\tbest: 13.1267127 (0)\ttotal: 5.59ms\tremaining: 1m 39s\n"
     ]
    },
    {
     "name": "stderr",
     "output_type": "stream",
     "text": [
      "\u001b[32m[I 2023-03-01 22:34:03,551]\u001b[0m Trial 1 finished with value: 141.84653228681458 and parameters: {'iterations': 17792, 'od_wait': 1221, 'learning_rate': 0.5970311501935326, 'reg_lambda': 85.01798071518431, 'subsample': 0.05632199629397394, 'random_strength': 23.991105904889544, 'depth': 10, 'min_data_in_leaf': 16, 'leaf_estimation_iterations': 10, 'bagging_temperature': 14.813508111583417, 'colsample_bylevel': 0.8091601529008539}. Best is trial 1 with value: 141.84653228681458.\u001b[0m\n"
     ]
    },
    {
     "name": "stdout",
     "output_type": "stream",
     "text": [
      "Stopped by overfitting detector  (50 iterations wait)\n",
      "\n",
      "bestTest = 11.32845577\n",
      "bestIteration = 28\n",
      "\n",
      "Shrink model to first 29 iterations.\n",
      "0:\tlearn: 15.5617226\ttest: 15.1312798\tbest: 15.1312798 (0)\ttotal: 2.29ms\tremaining: 52.8s\n"
     ]
    },
    {
     "name": "stderr",
     "output_type": "stream",
     "text": [
      "/var/folders/4l/84htqxwn14n0jr_xvdc4tpbr0000gn/T/ipykernel_64562/2551834662.py:6: FutureWarning: suggest_uniform has been deprecated in v3.0.0. This feature will be removed in v6.0.0. See https://github.com/optuna/optuna/releases/tag/v3.0.0. Use :func:`~optuna.trial.Trial.suggest_float` instead.\n",
      "  'learning_rate' : trial.suggest_uniform('learning_rate',0.01, 1),\n",
      "/var/folders/4l/84htqxwn14n0jr_xvdc4tpbr0000gn/T/ipykernel_64562/2551834662.py:7: FutureWarning: suggest_uniform has been deprecated in v3.0.0. This feature will be removed in v6.0.0. See https://github.com/optuna/optuna/releases/tag/v3.0.0. Use :func:`~optuna.trial.Trial.suggest_float` instead.\n",
      "  'reg_lambda': trial.suggest_uniform('reg_lambda',1e-5,100),\n",
      "/var/folders/4l/84htqxwn14n0jr_xvdc4tpbr0000gn/T/ipykernel_64562/2551834662.py:8: FutureWarning: suggest_uniform has been deprecated in v3.0.0. This feature will be removed in v6.0.0. See https://github.com/optuna/optuna/releases/tag/v3.0.0. Use :func:`~optuna.trial.Trial.suggest_float` instead.\n",
      "  'subsample': trial.suggest_uniform('subsample',0,1),\n",
      "/var/folders/4l/84htqxwn14n0jr_xvdc4tpbr0000gn/T/ipykernel_64562/2551834662.py:9: FutureWarning: suggest_uniform has been deprecated in v3.0.0. This feature will be removed in v6.0.0. See https://github.com/optuna/optuna/releases/tag/v3.0.0. Use :func:`~optuna.trial.Trial.suggest_float` instead.\n",
      "  'random_strength': trial.suggest_uniform('random_strength',10,50),\n",
      "/var/folders/4l/84htqxwn14n0jr_xvdc4tpbr0000gn/T/ipykernel_64562/2551834662.py:13: FutureWarning: suggest_loguniform has been deprecated in v3.0.0. This feature will be removed in v6.0.0. See https://github.com/optuna/optuna/releases/tag/v3.0.0. Use :func:`~optuna.trial.Trial.suggest_float` instead.\n",
      "  'bagging_temperature' :trial.suggest_loguniform('bagging_temperature', 0.01, 100.00),\n"
     ]
    },
    {
     "name": "stdout",
     "output_type": "stream",
     "text": [
      "Stopped by overfitting detector  (50 iterations wait)\n",
      "\n",
      "bestTest = 12.17146424\n",
      "bestIteration = 64\n",
      "\n",
      "Shrink model to first 65 iterations.\n",
      "0:\tlearn: 15.4427212\ttest: 16.2398580\tbest: 16.2398580 (0)\ttotal: 3.28ms\tremaining: 1m 15s\n",
      "Stopped by overfitting detector  (50 iterations wait)\n",
      "\n",
      "bestTest = 11.98465095\n",
      "bestIteration = 46\n",
      "\n",
      "Shrink model to first 47 iterations.\n",
      "0:\tlearn: 15.4946429\ttest: 15.7187108\tbest: 15.7187108 (0)\ttotal: 2.77ms\tremaining: 1m 4s\n",
      "Stopped by overfitting detector  (50 iterations wait)\n",
      "\n",
      "bestTest = 12.08312571\n",
      "bestIteration = 17\n",
      "\n",
      "Shrink model to first 18 iterations.\n",
      "0:\tlearn: 15.5183437\ttest: 15.3803891\tbest: 15.3803891 (0)\ttotal: 2.65ms\tremaining: 1m 1s\n",
      "Stopped by overfitting detector  (50 iterations wait)\n",
      "\n",
      "bestTest = 11.82619908\n",
      "bestIteration = 41\n",
      "\n",
      "Shrink model to first 42 iterations.\n",
      "0:\tlearn: 15.6002318\ttest: 14.9718676\tbest: 14.9718676 (0)\ttotal: 3.13ms\tremaining: 1m 12s\n",
      "Stopped by overfitting detector  (50 iterations wait)\n",
      "\n",
      "bestTest = 11.34774354\n",
      "bestIteration = 29\n",
      "\n",
      "Shrink model to first 30 iterations.\n",
      "0:\tlearn: 15.5786249\ttest: 15.3152669\tbest: 15.3152669 (0)\ttotal: 5.91ms\tremaining: 2m 16s\n",
      "Stopped by overfitting detector  (50 iterations wait)\n",
      "\n",
      "bestTest = 11.67727787\n",
      "bestIteration = 36\n",
      "\n",
      "Shrink model to first 37 iterations.\n",
      "0:\tlearn: 15.5253812\ttest: 15.6061756\tbest: 15.6061756 (0)\ttotal: 3.02ms\tremaining: 1m 9s\n",
      "Stopped by overfitting detector  (50 iterations wait)\n",
      "\n",
      "bestTest = 11.70557891\n",
      "bestIteration = 48\n",
      "\n",
      "Shrink model to first 49 iterations.\n",
      "0:\tlearn: 15.4385663\ttest: 16.3474833\tbest: 16.3474833 (0)\ttotal: 2.84ms\tremaining: 1m 5s\n",
      "Stopped by overfitting detector  (50 iterations wait)\n",
      "\n",
      "bestTest = 12.1350179\n",
      "bestIteration = 56\n",
      "\n",
      "Shrink model to first 57 iterations.\n",
      "0:\tlearn: 15.4823823\ttest: 15.7423096\tbest: 15.7423096 (0)\ttotal: 2.15ms\tremaining: 49.6s\n",
      "Stopped by overfitting detector  (50 iterations wait)\n",
      "\n",
      "bestTest = 11.37963573\n",
      "bestIteration = 30\n",
      "\n",
      "Shrink model to first 31 iterations.\n",
      "0:\tlearn: 15.5374326\ttest: 15.0166119\tbest: 15.0166119 (0)\ttotal: 3.17ms\tremaining: 1m 13s\n"
     ]
    },
    {
     "name": "stderr",
     "output_type": "stream",
     "text": [
      "\u001b[32m[I 2023-03-01 22:34:06,192]\u001b[0m Trial 2 finished with value: 137.8582158254512 and parameters: {'iterations': 23110, 'od_wait': 1123, 'learning_rate': 0.3319692376186092, 'reg_lambda': 36.25793473923112, 'subsample': 0.5412013086081661, 'random_strength': 31.730920027580023, 'depth': 8, 'min_data_in_leaf': 23, 'leaf_estimation_iterations': 5, 'bagging_temperature': 0.05031329029425813, 'colsample_bylevel': 0.41018113797069905}. Best is trial 1 with value: 141.84653228681458.\u001b[0m\n"
     ]
    },
    {
     "name": "stdout",
     "output_type": "stream",
     "text": [
      "Stopped by overfitting detector  (50 iterations wait)\n",
      "\n",
      "bestTest = 11.04714428\n",
      "bestIteration = 56\n",
      "\n",
      "Shrink model to first 57 iterations.\n",
      "0:\tlearn: 14.2509754\ttest: 14.0738774\tbest: 14.0738774 (0)\ttotal: 1.05ms\tremaining: 10.3s\n",
      "Stopped by overfitting detector  (50 iterations wait)\n",
      "\n",
      "bestTest = 12.22861448\n",
      "bestIteration = 54\n",
      "\n",
      "Shrink model to first 55 iterations.\n",
      "0:\tlearn: 14.1425895\ttest: 14.9573165\tbest: 14.9573165 (0)\ttotal: 513us\tremaining: 5.04s\n",
      "Stopped by overfitting detector  (50 iterations wait)\n",
      "\n",
      "bestTest = 11.98558504\n",
      "bestIteration = 60\n",
      "\n",
      "Shrink model to first 61 iterations.\n",
      "0:\tlearn: 14.2027757\ttest: 14.2690689\tbest: 14.2690689 (0)\ttotal: 1.42ms\tremaining: 13.9s\n"
     ]
    },
    {
     "name": "stderr",
     "output_type": "stream",
     "text": [
      "/var/folders/4l/84htqxwn14n0jr_xvdc4tpbr0000gn/T/ipykernel_64562/2551834662.py:6: FutureWarning: suggest_uniform has been deprecated in v3.0.0. This feature will be removed in v6.0.0. See https://github.com/optuna/optuna/releases/tag/v3.0.0. Use :func:`~optuna.trial.Trial.suggest_float` instead.\n",
      "  'learning_rate' : trial.suggest_uniform('learning_rate',0.01, 1),\n",
      "/var/folders/4l/84htqxwn14n0jr_xvdc4tpbr0000gn/T/ipykernel_64562/2551834662.py:7: FutureWarning: suggest_uniform has been deprecated in v3.0.0. This feature will be removed in v6.0.0. See https://github.com/optuna/optuna/releases/tag/v3.0.0. Use :func:`~optuna.trial.Trial.suggest_float` instead.\n",
      "  'reg_lambda': trial.suggest_uniform('reg_lambda',1e-5,100),\n",
      "/var/folders/4l/84htqxwn14n0jr_xvdc4tpbr0000gn/T/ipykernel_64562/2551834662.py:8: FutureWarning: suggest_uniform has been deprecated in v3.0.0. This feature will be removed in v6.0.0. See https://github.com/optuna/optuna/releases/tag/v3.0.0. Use :func:`~optuna.trial.Trial.suggest_float` instead.\n",
      "  'subsample': trial.suggest_uniform('subsample',0,1),\n",
      "/var/folders/4l/84htqxwn14n0jr_xvdc4tpbr0000gn/T/ipykernel_64562/2551834662.py:9: FutureWarning: suggest_uniform has been deprecated in v3.0.0. This feature will be removed in v6.0.0. See https://github.com/optuna/optuna/releases/tag/v3.0.0. Use :func:`~optuna.trial.Trial.suggest_float` instead.\n",
      "  'random_strength': trial.suggest_uniform('random_strength',10,50),\n",
      "/var/folders/4l/84htqxwn14n0jr_xvdc4tpbr0000gn/T/ipykernel_64562/2551834662.py:13: FutureWarning: suggest_loguniform has been deprecated in v3.0.0. This feature will be removed in v6.0.0. See https://github.com/optuna/optuna/releases/tag/v3.0.0. Use :func:`~optuna.trial.Trial.suggest_float` instead.\n",
      "  'bagging_temperature' :trial.suggest_loguniform('bagging_temperature', 0.01, 100.00),\n"
     ]
    },
    {
     "name": "stdout",
     "output_type": "stream",
     "text": [
      "Stopped by overfitting detector  (50 iterations wait)\n",
      "\n",
      "bestTest = 11.88666905\n",
      "bestIteration = 65\n",
      "\n",
      "Shrink model to first 66 iterations.\n",
      "0:\tlearn: 14.4758236\ttest: 14.3996269\tbest: 14.3996269 (0)\ttotal: 575us\tremaining: 5.64s\n",
      "Stopped by overfitting detector  (50 iterations wait)\n",
      "\n",
      "bestTest = 11.79841419\n",
      "bestIteration = 190\n",
      "\n",
      "Shrink model to first 191 iterations.\n",
      "0:\tlearn: 14.4532777\ttest: 13.8203319\tbest: 13.8203319 (0)\ttotal: 859us\tremaining: 8.43s\n",
      "Stopped by overfitting detector  (50 iterations wait)\n",
      "\n",
      "bestTest = 11.37329154\n",
      "bestIteration = 37\n",
      "\n",
      "Shrink model to first 38 iterations.\n",
      "0:\tlearn: 14.4240342\ttest: 14.0862535\tbest: 14.0862535 (0)\ttotal: 1.21ms\tremaining: 11.9s\n",
      "Stopped by overfitting detector  (50 iterations wait)\n",
      "\n",
      "bestTest = 11.56976451\n",
      "bestIteration = 154\n",
      "\n",
      "Shrink model to first 155 iterations.\n",
      "0:\tlearn: 14.1165001\ttest: 14.3244821\tbest: 14.3244821 (0)\ttotal: 494us\tremaining: 4.86s\n",
      "Stopped by overfitting detector  (50 iterations wait)\n",
      "\n",
      "bestTest = 11.48848437\n",
      "bestIteration = 100\n",
      "\n",
      "Shrink model to first 101 iterations.\n",
      "0:\tlearn: 14.2661416\ttest: 15.1568567\tbest: 15.1568567 (0)\ttotal: 1.43ms\tremaining: 14.1s\n",
      "Stopped by overfitting detector  (50 iterations wait)\n",
      "\n",
      "bestTest = 12.25696102\n",
      "bestIteration = 58\n",
      "\n",
      "Shrink model to first 59 iterations.\n",
      "0:\tlearn: 14.1926144\ttest: 14.2992178\tbest: 14.2992178 (0)\ttotal: 1.16ms\tremaining: 11.4s\n",
      "Stopped by overfitting detector  (50 iterations wait)\n",
      "\n",
      "bestTest = 11.38966452\n",
      "bestIteration = 25\n",
      "\n",
      "Shrink model to first 26 iterations.\n",
      "0:\tlearn: 14.4369165\ttest: 13.9841126\tbest: 13.9841126 (0)\ttotal: 836us\tremaining: 8.21s\n"
     ]
    },
    {
     "name": "stderr",
     "output_type": "stream",
     "text": [
      "\u001b[32m[I 2023-03-01 22:34:07,386]\u001b[0m Trial 3 finished with value: 137.09837503464846 and parameters: {'iterations': 9816, 'od_wait': 1904, 'learning_rate': 0.5136940606172129, 'reg_lambda': 74.17064215923325, 'subsample': 0.08922370495576792, 'random_strength': 14.571699616633467, 'depth': 4, 'min_data_in_leaf': 20, 'leaf_estimation_iterations': 3, 'bagging_temperature': 20.483965866045192, 'colsample_bylevel': 0.5306058977922496}. Best is trial 1 with value: 141.84653228681458.\u001b[0m\n"
     ]
    },
    {
     "name": "stdout",
     "output_type": "stream",
     "text": [
      "Stopped by overfitting detector  (50 iterations wait)\n",
      "\n",
      "bestTest = 11.05174077\n",
      "bestIteration = 156\n",
      "\n",
      "Shrink model to first 157 iterations.\n",
      "0:\tlearn: 16.1856799\ttest: 15.5598099\tbest: 15.5598099 (0)\ttotal: 650us\tremaining: 10.6s\n"
     ]
    },
    {
     "name": "stderr",
     "output_type": "stream",
     "text": [
      "/var/folders/4l/84htqxwn14n0jr_xvdc4tpbr0000gn/T/ipykernel_64562/2551834662.py:6: FutureWarning: suggest_uniform has been deprecated in v3.0.0. This feature will be removed in v6.0.0. See https://github.com/optuna/optuna/releases/tag/v3.0.0. Use :func:`~optuna.trial.Trial.suggest_float` instead.\n",
      "  'learning_rate' : trial.suggest_uniform('learning_rate',0.01, 1),\n",
      "/var/folders/4l/84htqxwn14n0jr_xvdc4tpbr0000gn/T/ipykernel_64562/2551834662.py:7: FutureWarning: suggest_uniform has been deprecated in v3.0.0. This feature will be removed in v6.0.0. See https://github.com/optuna/optuna/releases/tag/v3.0.0. Use :func:`~optuna.trial.Trial.suggest_float` instead.\n",
      "  'reg_lambda': trial.suggest_uniform('reg_lambda',1e-5,100),\n",
      "/var/folders/4l/84htqxwn14n0jr_xvdc4tpbr0000gn/T/ipykernel_64562/2551834662.py:8: FutureWarning: suggest_uniform has been deprecated in v3.0.0. This feature will be removed in v6.0.0. See https://github.com/optuna/optuna/releases/tag/v3.0.0. Use :func:`~optuna.trial.Trial.suggest_float` instead.\n",
      "  'subsample': trial.suggest_uniform('subsample',0,1),\n",
      "/var/folders/4l/84htqxwn14n0jr_xvdc4tpbr0000gn/T/ipykernel_64562/2551834662.py:9: FutureWarning: suggest_uniform has been deprecated in v3.0.0. This feature will be removed in v6.0.0. See https://github.com/optuna/optuna/releases/tag/v3.0.0. Use :func:`~optuna.trial.Trial.suggest_float` instead.\n",
      "  'random_strength': trial.suggest_uniform('random_strength',10,50),\n",
      "/var/folders/4l/84htqxwn14n0jr_xvdc4tpbr0000gn/T/ipykernel_64562/2551834662.py:13: FutureWarning: suggest_loguniform has been deprecated in v3.0.0. This feature will be removed in v6.0.0. See https://github.com/optuna/optuna/releases/tag/v3.0.0. Use :func:`~optuna.trial.Trial.suggest_float` instead.\n",
      "  'bagging_temperature' :trial.suggest_loguniform('bagging_temperature', 0.01, 100.00),\n"
     ]
    },
    {
     "name": "stdout",
     "output_type": "stream",
     "text": [
      "500:\tlearn: 11.3593052\ttest: 12.1944068\tbest: 12.1891321 (487)\ttotal: 419ms\tremaining: 13.2s\n",
      "Stopped by overfitting detector  (50 iterations wait)\n",
      "\n",
      "bestTest = 12.18913212\n",
      "bestIteration = 487\n",
      "\n",
      "Shrink model to first 488 iterations.\n",
      "0:\tlearn: 16.0476569\ttest: 16.8688030\tbest: 16.8688030 (0)\ttotal: 832us\tremaining: 13.5s\n",
      "500:\tlearn: 11.3876708\ttest: 11.9250971\tbest: 11.9250971 (500)\ttotal: 416ms\tremaining: 13.1s\n",
      "Stopped by overfitting detector  (50 iterations wait)\n",
      "\n",
      "bestTest = 11.87474622\n",
      "bestIteration = 743\n",
      "\n",
      "Shrink model to first 744 iterations.\n",
      "0:\tlearn: 16.1237952\ttest: 16.1834664\tbest: 16.1834664 (0)\ttotal: 1.38ms\tremaining: 22.4s\n",
      "Stopped by overfitting detector  (50 iterations wait)\n",
      "\n",
      "bestTest = 11.88278526\n",
      "bestIteration = 396\n",
      "\n",
      "Shrink model to first 397 iterations.\n",
      "0:\tlearn: 16.1477721\ttest: 15.9507122\tbest: 15.9507122 (0)\ttotal: 671us\tremaining: 10.9s\n",
      "500:\tlearn: 11.3855388\ttest: 11.9187676\tbest: 11.9178069 (483)\ttotal: 409ms\tremaining: 12.9s\n",
      "1000:\tlearn: 11.1202870\ttest: 11.8508576\tbest: 11.8499050 (998)\ttotal: 853ms\tremaining: 13s\n",
      "Stopped by overfitting detector  (50 iterations wait)\n",
      "\n",
      "bestTest = 11.83226069\n",
      "bestIteration = 1249\n",
      "\n",
      "Shrink model to first 1250 iterations.\n",
      "0:\tlearn: 16.1940396\ttest: 15.5127173\tbest: 15.5127173 (0)\ttotal: 1.25ms\tremaining: 20.3s\n",
      "500:\tlearn: 11.4414218\ttest: 11.2406565\tbest: 11.2397070 (493)\ttotal: 416ms\tremaining: 13.1s\n",
      "Stopped by overfitting detector  (50 iterations wait)\n",
      "\n",
      "bestTest = 11.23970697\n",
      "bestIteration = 493\n",
      "\n",
      "Shrink model to first 494 iterations.\n",
      "0:\tlearn: 16.1643482\ttest: 15.8314968\tbest: 15.8314968 (0)\ttotal: 664us\tremaining: 10.8s\n",
      "Stopped by overfitting detector  (50 iterations wait)\n",
      "\n",
      "bestTest = 11.54829274\n",
      "bestIteration = 403\n",
      "\n",
      "Shrink model to first 404 iterations.\n",
      "0:\tlearn: 16.1139242\ttest: 16.2900528\tbest: 16.2900528 (0)\ttotal: 706us\tremaining: 11.5s\n",
      "500:\tlearn: 11.4216253\ttest: 11.5564784\tbest: 11.5549860 (496)\ttotal: 413ms\tremaining: 13s\n",
      "Stopped by overfitting detector  (50 iterations wait)\n",
      "\n",
      "bestTest = 11.51656263\n",
      "bestIteration = 604\n",
      "\n",
      "Shrink model to first 605 iterations.\n",
      "0:\tlearn: 16.0483653\ttest: 16.8673079\tbest: 16.8673079 (0)\ttotal: 618us\tremaining: 10.1s\n",
      "Stopped by overfitting detector  (50 iterations wait)\n",
      "\n",
      "bestTest = 12.12215611\n",
      "bestIteration = 431\n",
      "\n",
      "Shrink model to first 432 iterations.\n",
      "0:\tlearn: 16.0992974\ttest: 16.4093517\tbest: 16.4093517 (0)\ttotal: 736us\tremaining: 12s\n",
      "Stopped by overfitting detector  (50 iterations wait)\n",
      "\n",
      "bestTest = 11.34102201\n",
      "bestIteration = 249\n",
      "\n",
      "Shrink model to first 250 iterations.\n",
      "0:\tlearn: 16.1649619\ttest: 15.7855419\tbest: 15.7855419 (0)\ttotal: 911us\tremaining: 14.8s\n"
     ]
    },
    {
     "name": "stderr",
     "output_type": "stream",
     "text": [
      "\u001b[32m[I 2023-03-01 22:34:12,819]\u001b[0m Trial 4 finished with value: 136.1505294802277 and parameters: {'iterations': 16275, 'od_wait': 1761, 'learning_rate': 0.051728497390337407, 'reg_lambda': 0.9230120721558606, 'subsample': 0.4416506949539559, 'random_strength': 42.14661242916724, 'depth': 2, 'min_data_in_leaf': 8, 'leaf_estimation_iterations': 13, 'bagging_temperature': 0.01837470983082027, 'colsample_bylevel': 0.8812371958815277}. Best is trial 1 with value: 141.84653228681458.\u001b[0m\n"
     ]
    },
    {
     "name": "stdout",
     "output_type": "stream",
     "text": [
      "500:\tlearn: 11.4651840\ttest: 11.1147275\tbest: 11.1133763 (496)\ttotal: 417ms\tremaining: 13.1s\n",
      "Stopped by overfitting detector  (50 iterations wait)\n",
      "\n",
      "bestTest = 11.08273581\n",
      "bestIteration = 635\n",
      "\n",
      "Shrink model to first 636 iterations.\n",
      "0:\tlearn: 14.9915527\ttest: 14.4864596\tbest: 14.4864596 (0)\ttotal: 4.86ms\tremaining: 1m 19s\n"
     ]
    },
    {
     "name": "stderr",
     "output_type": "stream",
     "text": [
      "/var/folders/4l/84htqxwn14n0jr_xvdc4tpbr0000gn/T/ipykernel_64562/2551834662.py:6: FutureWarning: suggest_uniform has been deprecated in v3.0.0. This feature will be removed in v6.0.0. See https://github.com/optuna/optuna/releases/tag/v3.0.0. Use :func:`~optuna.trial.Trial.suggest_float` instead.\n",
      "  'learning_rate' : trial.suggest_uniform('learning_rate',0.01, 1),\n",
      "/var/folders/4l/84htqxwn14n0jr_xvdc4tpbr0000gn/T/ipykernel_64562/2551834662.py:7: FutureWarning: suggest_uniform has been deprecated in v3.0.0. This feature will be removed in v6.0.0. See https://github.com/optuna/optuna/releases/tag/v3.0.0. Use :func:`~optuna.trial.Trial.suggest_float` instead.\n",
      "  'reg_lambda': trial.suggest_uniform('reg_lambda',1e-5,100),\n",
      "/var/folders/4l/84htqxwn14n0jr_xvdc4tpbr0000gn/T/ipykernel_64562/2551834662.py:8: FutureWarning: suggest_uniform has been deprecated in v3.0.0. This feature will be removed in v6.0.0. See https://github.com/optuna/optuna/releases/tag/v3.0.0. Use :func:`~optuna.trial.Trial.suggest_float` instead.\n",
      "  'subsample': trial.suggest_uniform('subsample',0,1),\n",
      "/var/folders/4l/84htqxwn14n0jr_xvdc4tpbr0000gn/T/ipykernel_64562/2551834662.py:9: FutureWarning: suggest_uniform has been deprecated in v3.0.0. This feature will be removed in v6.0.0. See https://github.com/optuna/optuna/releases/tag/v3.0.0. Use :func:`~optuna.trial.Trial.suggest_float` instead.\n",
      "  'random_strength': trial.suggest_uniform('random_strength',10,50),\n",
      "/var/folders/4l/84htqxwn14n0jr_xvdc4tpbr0000gn/T/ipykernel_64562/2551834662.py:13: FutureWarning: suggest_loguniform has been deprecated in v3.0.0. This feature will be removed in v6.0.0. See https://github.com/optuna/optuna/releases/tag/v3.0.0. Use :func:`~optuna.trial.Trial.suggest_float` instead.\n",
      "  'bagging_temperature' :trial.suggest_loguniform('bagging_temperature', 0.01, 100.00),\n"
     ]
    },
    {
     "name": "stdout",
     "output_type": "stream",
     "text": [
      "Stopped by overfitting detector  (50 iterations wait)\n",
      "\n",
      "bestTest = 12.1759861\n",
      "bestIteration = 107\n",
      "\n",
      "Shrink model to first 108 iterations.\n",
      "0:\tlearn: 14.8955859\ttest: 15.6567398\tbest: 15.6567398 (0)\ttotal: 4.1ms\tremaining: 1m 7s\n",
      "Stopped by overfitting detector  (50 iterations wait)\n",
      "\n",
      "bestTest = 11.792444\n",
      "bestIteration = 103\n",
      "\n",
      "Shrink model to first 104 iterations.\n",
      "0:\tlearn: 14.9522143\ttest: 15.0777714\tbest: 15.0777714 (0)\ttotal: 4.63ms\tremaining: 1m 16s\n",
      "Stopped by overfitting detector  (50 iterations wait)\n",
      "\n",
      "bestTest = 12.00378201\n",
      "bestIteration = 34\n",
      "\n",
      "Shrink model to first 35 iterations.\n",
      "0:\tlearn: 14.9614796\ttest: 14.8020789\tbest: 14.8020789 (0)\ttotal: 5.54ms\tremaining: 1m 30s\n",
      "Stopped by overfitting detector  (50 iterations wait)\n",
      "\n",
      "bestTest = 11.83116275\n",
      "bestIteration = 109\n",
      "\n",
      "Shrink model to first 110 iterations.\n",
      "0:\tlearn: 15.0103515\ttest: 14.3674733\tbest: 14.3674733 (0)\ttotal: 5.19ms\tremaining: 1m 25s\n",
      "Stopped by overfitting detector  (50 iterations wait)\n",
      "\n",
      "bestTest = 11.32260014\n",
      "bestIteration = 45\n",
      "\n",
      "Shrink model to first 46 iterations.\n",
      "0:\tlearn: 14.9818081\ttest: 14.6324310\tbest: 14.6324310 (0)\ttotal: 4.47ms\tremaining: 1m 13s\n",
      "Stopped by overfitting detector  (50 iterations wait)\n",
      "\n",
      "bestTest = 11.61268727\n",
      "bestIteration = 64\n",
      "\n",
      "Shrink model to first 65 iterations.\n",
      "0:\tlearn: 14.9444555\ttest: 15.1307868\tbest: 15.1307868 (0)\ttotal: 5.4ms\tremaining: 1m 28s\n",
      "Stopped by overfitting detector  (50 iterations wait)\n",
      "\n",
      "bestTest = 11.58230176\n",
      "bestIteration = 111\n",
      "\n",
      "Shrink model to first 112 iterations.\n",
      "0:\tlearn: 14.8690303\ttest: 15.7634439\tbest: 15.7634439 (0)\ttotal: 5.34ms\tremaining: 1m 27s\n",
      "Stopped by overfitting detector  (50 iterations wait)\n",
      "\n",
      "bestTest = 12.13038366\n",
      "bestIteration = 132\n",
      "\n",
      "Shrink model to first 133 iterations.\n",
      "0:\tlearn: 14.9463691\ttest: 15.1677782\tbest: 15.1677782 (0)\ttotal: 4.98ms\tremaining: 1m 21s\n",
      "Stopped by overfitting detector  (50 iterations wait)\n",
      "\n",
      "bestTest = 11.32984908\n",
      "bestIteration = 95\n",
      "\n",
      "Shrink model to first 96 iterations.\n",
      "0:\tlearn: 15.0069597\ttest: 14.6247145\tbest: 14.6247145 (0)\ttotal: 4.23ms\tremaining: 1m 9s\n"
     ]
    },
    {
     "name": "stderr",
     "output_type": "stream",
     "text": [
      "\u001b[32m[I 2023-03-01 22:34:19,509]\u001b[0m Trial 5 finished with value: 136.66478846519234 and parameters: {'iterations': 16409, 'od_wait': 784, 'learning_rate': 0.3302888930894297, 'reg_lambda': 84.64546949761079, 'subsample': 0.9998487386079915, 'random_strength': 16.009911174053993, 'depth': 9, 'min_data_in_leaf': 26, 'leaf_estimation_iterations': 1, 'bagging_temperature': 0.025795358654826735, 'colsample_bylevel': 0.5879644059760611}. Best is trial 1 with value: 141.84653228681458.\u001b[0m\n"
     ]
    },
    {
     "name": "stdout",
     "output_type": "stream",
     "text": [
      "Stopped by overfitting detector  (50 iterations wait)\n",
      "\n",
      "bestTest = 11.0701009\n",
      "bestIteration = 58\n",
      "\n",
      "Shrink model to first 59 iterations.\n",
      "0:\tlearn: 13.7597787\ttest: 13.7488969\tbest: 13.7488969 (0)\ttotal: 6.11ms\tremaining: 26.2s\n"
     ]
    },
    {
     "name": "stderr",
     "output_type": "stream",
     "text": [
      "/var/folders/4l/84htqxwn14n0jr_xvdc4tpbr0000gn/T/ipykernel_64562/2551834662.py:6: FutureWarning: suggest_uniform has been deprecated in v3.0.0. This feature will be removed in v6.0.0. See https://github.com/optuna/optuna/releases/tag/v3.0.0. Use :func:`~optuna.trial.Trial.suggest_float` instead.\n",
      "  'learning_rate' : trial.suggest_uniform('learning_rate',0.01, 1),\n",
      "/var/folders/4l/84htqxwn14n0jr_xvdc4tpbr0000gn/T/ipykernel_64562/2551834662.py:7: FutureWarning: suggest_uniform has been deprecated in v3.0.0. This feature will be removed in v6.0.0. See https://github.com/optuna/optuna/releases/tag/v3.0.0. Use :func:`~optuna.trial.Trial.suggest_float` instead.\n",
      "  'reg_lambda': trial.suggest_uniform('reg_lambda',1e-5,100),\n",
      "/var/folders/4l/84htqxwn14n0jr_xvdc4tpbr0000gn/T/ipykernel_64562/2551834662.py:8: FutureWarning: suggest_uniform has been deprecated in v3.0.0. This feature will be removed in v6.0.0. See https://github.com/optuna/optuna/releases/tag/v3.0.0. Use :func:`~optuna.trial.Trial.suggest_float` instead.\n",
      "  'subsample': trial.suggest_uniform('subsample',0,1),\n",
      "/var/folders/4l/84htqxwn14n0jr_xvdc4tpbr0000gn/T/ipykernel_64562/2551834662.py:9: FutureWarning: suggest_uniform has been deprecated in v3.0.0. This feature will be removed in v6.0.0. See https://github.com/optuna/optuna/releases/tag/v3.0.0. Use :func:`~optuna.trial.Trial.suggest_float` instead.\n",
      "  'random_strength': trial.suggest_uniform('random_strength',10,50),\n",
      "/var/folders/4l/84htqxwn14n0jr_xvdc4tpbr0000gn/T/ipykernel_64562/2551834662.py:13: FutureWarning: suggest_loguniform has been deprecated in v3.0.0. This feature will be removed in v6.0.0. See https://github.com/optuna/optuna/releases/tag/v3.0.0. Use :func:`~optuna.trial.Trial.suggest_float` instead.\n",
      "  'bagging_temperature' :trial.suggest_loguniform('bagging_temperature', 0.01, 100.00),\n"
     ]
    },
    {
     "name": "stdout",
     "output_type": "stream",
     "text": [
      "Stopped by overfitting detector  (50 iterations wait)\n",
      "\n",
      "bestTest = 12.48801279\n",
      "bestIteration = 17\n",
      "\n",
      "Shrink model to first 18 iterations.\n",
      "0:\tlearn: 13.6853185\ttest: 14.4894371\tbest: 14.4894371 (0)\ttotal: 5.52ms\tremaining: 23.7s\n",
      "Stopped by overfitting detector  (50 iterations wait)\n",
      "\n",
      "bestTest = 12.11047112\n",
      "bestIteration = 13\n",
      "\n",
      "Shrink model to first 14 iterations.\n",
      "0:\tlearn: 13.3884268\ttest: 13.5263682\tbest: 13.5263682 (0)\ttotal: 5.57ms\tremaining: 23.9s\n",
      "Stopped by overfitting detector  (50 iterations wait)\n",
      "\n",
      "bestTest = 12.04122063\n",
      "bestIteration = 7\n",
      "\n",
      "Shrink model to first 8 iterations.\n",
      "0:\tlearn: 13.6328331\ttest: 13.7973708\tbest: 13.7973708 (0)\ttotal: 6.16ms\tremaining: 26.4s\n",
      "Stopped by overfitting detector  (50 iterations wait)\n",
      "\n",
      "bestTest = 12.16858608\n",
      "bestIteration = 12\n",
      "\n",
      "Shrink model to first 13 iterations.\n",
      "0:\tlearn: 13.4426372\ttest: 12.9103143\tbest: 12.9103143 (0)\ttotal: 5.86ms\tremaining: 25.2s\n",
      "Stopped by overfitting detector  (50 iterations wait)\n",
      "\n",
      "bestTest = 11.60881039\n",
      "bestIteration = 7\n",
      "\n",
      "Shrink model to first 8 iterations.\n",
      "0:\tlearn: 13.4593888\ttest: 13.2002597\tbest: 13.2002597 (0)\ttotal: 5.61ms\tremaining: 24.1s\n",
      "Stopped by overfitting detector  (50 iterations wait)\n",
      "\n",
      "bestTest = 11.7319091\n",
      "bestIteration = 12\n",
      "\n",
      "Shrink model to first 13 iterations.\n",
      "0:\tlearn: 13.7358371\ttest: 13.9614533\tbest: 13.9614533 (0)\ttotal: 5.79ms\tremaining: 24.8s\n",
      "Stopped by overfitting detector  (50 iterations wait)\n",
      "\n",
      "bestTest = 11.98956353\n",
      "bestIteration = 13\n",
      "\n",
      "Shrink model to first 14 iterations.\n",
      "0:\tlearn: 13.7197907\ttest: 14.4718892\tbest: 14.4718892 (0)\ttotal: 5.95ms\tremaining: 25.5s\n",
      "Stopped by overfitting detector  (50 iterations wait)\n",
      "\n",
      "bestTest = 12.58133324\n",
      "bestIteration = 7\n",
      "\n",
      "Shrink model to first 8 iterations.\n",
      "0:\tlearn: 13.3341106\ttest: 13.6698037\tbest: 13.6698037 (0)\ttotal: 5.47ms\tremaining: 23.5s\n",
      "Stopped by overfitting detector  (50 iterations wait)\n",
      "\n",
      "bestTest = 11.83458889\n",
      "bestIteration = 10\n",
      "\n",
      "Shrink model to first 11 iterations.\n",
      "0:\tlearn: 13.8096887\ttest: 13.4420082\tbest: 13.4420082 (0)\ttotal: 5.63ms\tremaining: 24.2s\n"
     ]
    },
    {
     "name": "stderr",
     "output_type": "stream",
     "text": [
      "\u001b[32m[I 2023-03-01 22:34:22,470]\u001b[0m Trial 6 finished with value: 144.15874305141475 and parameters: {'iterations': 4291, 'od_wait': 1568, 'learning_rate': 0.6917905590122222, 'reg_lambda': 15.404522438264319, 'subsample': 0.21339981821359155, 'random_strength': 48.81054762181719, 'depth': 9, 'min_data_in_leaf': 21, 'leaf_estimation_iterations': 9, 'bagging_temperature': 0.42974467144146, 'colsample_bylevel': 0.9939437581321097}. Best is trial 6 with value: 144.15874305141475.\u001b[0m\n"
     ]
    },
    {
     "name": "stdout",
     "output_type": "stream",
     "text": [
      "Stopped by overfitting detector  (50 iterations wait)\n",
      "\n",
      "bestTest = 11.46336464\n",
      "bestIteration = 13\n",
      "\n",
      "Shrink model to first 14 iterations.\n",
      "0:\tlearn: 16.2830658\ttest: 15.6257628\tbest: 15.6257628 (0)\ttotal: 386us\tremaining: 5.02s\n",
      "Stopped by overfitting detector  (50 iterations wait)\n",
      "\n",
      "bestTest = 12.25820721\n",
      "bestIteration = 208\n",
      "\n",
      "Shrink model to first 209 iterations.\n",
      "0:\tlearn: 16.1424005\ttest: 16.9741761\tbest: 16.9741761 (0)\ttotal: 352us\tremaining: 4.57s\n"
     ]
    },
    {
     "name": "stderr",
     "output_type": "stream",
     "text": [
      "/var/folders/4l/84htqxwn14n0jr_xvdc4tpbr0000gn/T/ipykernel_64562/2551834662.py:6: FutureWarning: suggest_uniform has been deprecated in v3.0.0. This feature will be removed in v6.0.0. See https://github.com/optuna/optuna/releases/tag/v3.0.0. Use :func:`~optuna.trial.Trial.suggest_float` instead.\n",
      "  'learning_rate' : trial.suggest_uniform('learning_rate',0.01, 1),\n",
      "/var/folders/4l/84htqxwn14n0jr_xvdc4tpbr0000gn/T/ipykernel_64562/2551834662.py:7: FutureWarning: suggest_uniform has been deprecated in v3.0.0. This feature will be removed in v6.0.0. See https://github.com/optuna/optuna/releases/tag/v3.0.0. Use :func:`~optuna.trial.Trial.suggest_float` instead.\n",
      "  'reg_lambda': trial.suggest_uniform('reg_lambda',1e-5,100),\n",
      "/var/folders/4l/84htqxwn14n0jr_xvdc4tpbr0000gn/T/ipykernel_64562/2551834662.py:8: FutureWarning: suggest_uniform has been deprecated in v3.0.0. This feature will be removed in v6.0.0. See https://github.com/optuna/optuna/releases/tag/v3.0.0. Use :func:`~optuna.trial.Trial.suggest_float` instead.\n",
      "  'subsample': trial.suggest_uniform('subsample',0,1),\n",
      "/var/folders/4l/84htqxwn14n0jr_xvdc4tpbr0000gn/T/ipykernel_64562/2551834662.py:9: FutureWarning: suggest_uniform has been deprecated in v3.0.0. This feature will be removed in v6.0.0. See https://github.com/optuna/optuna/releases/tag/v3.0.0. Use :func:`~optuna.trial.Trial.suggest_float` instead.\n",
      "  'random_strength': trial.suggest_uniform('random_strength',10,50),\n",
      "/var/folders/4l/84htqxwn14n0jr_xvdc4tpbr0000gn/T/ipykernel_64562/2551834662.py:13: FutureWarning: suggest_loguniform has been deprecated in v3.0.0. This feature will be removed in v6.0.0. See https://github.com/optuna/optuna/releases/tag/v3.0.0. Use :func:`~optuna.trial.Trial.suggest_float` instead.\n",
      "  'bagging_temperature' :trial.suggest_loguniform('bagging_temperature', 0.01, 100.00),\n"
     ]
    },
    {
     "name": "stdout",
     "output_type": "stream",
     "text": [
      "500:\tlearn: 11.5819574\ttest: 11.9889882\tbest: 11.9889882 (500)\ttotal: 173ms\tremaining: 4.32s\n",
      "1000:\tlearn: 11.4895734\ttest: 11.9172399\tbest: 11.9172199 (997)\ttotal: 348ms\tremaining: 4.16s\n",
      "Stopped by overfitting detector  (50 iterations wait)\n",
      "\n",
      "bestTest = 11.90988348\n",
      "bestIteration = 1068\n",
      "\n",
      "Shrink model to first 1069 iterations.\n",
      "0:\tlearn: 16.2182657\ttest: 16.2928562\tbest: 16.2928562 (0)\ttotal: 329us\tremaining: 4.28s\n",
      "500:\tlearn: 11.5943356\ttest: 11.8916279\tbest: 11.8916279 (500)\ttotal: 167ms\tremaining: 4.16s\n",
      "Stopped by overfitting detector  (50 iterations wait)\n",
      "\n",
      "bestTest = 11.8875326\n",
      "bestIteration = 513\n",
      "\n",
      "Shrink model to first 514 iterations.\n",
      "0:\tlearn: 16.2499302\ttest: 16.0362016\tbest: 16.0362016 (0)\ttotal: 287us\tremaining: 3.73s\n",
      "500:\tlearn: 11.5745379\ttest: 11.9751660\tbest: 11.9738382 (498)\ttotal: 170ms\tremaining: 4.23s\n",
      "Stopped by overfitting detector  (50 iterations wait)\n",
      "\n",
      "bestTest = 11.96790014\n",
      "bestIteration = 517\n",
      "\n",
      "Shrink model to first 518 iterations.\n",
      "0:\tlearn: 16.2931239\ttest: 15.6057448\tbest: 15.6057448 (0)\ttotal: 368us\tremaining: 4.78s\n",
      "500:\tlearn: 11.6594995\ttest: 11.2815022\tbest: 11.2815022 (500)\ttotal: 175ms\tremaining: 4.35s\n",
      "Stopped by overfitting detector  (50 iterations wait)\n",
      "\n",
      "bestTest = 11.26649239\n",
      "bestIteration = 774\n",
      "\n",
      "Shrink model to first 775 iterations.\n",
      "0:\tlearn: 16.2565379\ttest: 15.9553389\tbest: 15.9553389 (0)\ttotal: 440us\tremaining: 5.72s\n",
      "Stopped by overfitting detector  (50 iterations wait)\n",
      "\n",
      "bestTest = 11.64445727\n",
      "bestIteration = 405\n",
      "\n",
      "Shrink model to first 406 iterations.\n",
      "0:\tlearn: 16.2069477\ttest: 16.3908121\tbest: 16.3908121 (0)\ttotal: 856us\tremaining: 11.1s\n",
      "500:\tlearn: 11.6159197\ttest: 11.6498930\tbest: 11.6498930 (500)\ttotal: 179ms\tremaining: 4.46s\n",
      "Stopped by overfitting detector  (50 iterations wait)\n",
      "\n",
      "bestTest = 11.58699432\n",
      "bestIteration = 832\n",
      "\n",
      "Shrink model to first 833 iterations.\n",
      "0:\tlearn: 16.2931874\ttest: 17.1223883\tbest: 17.1223883 (0)\ttotal: 318us\tremaining: 4.14s\n",
      "500:\tlearn: 11.5536378\ttest: 12.1081805\tbest: 12.1072443 (496)\ttotal: 170ms\tremaining: 4.22s\n",
      "Stopped by overfitting detector  (50 iterations wait)\n",
      "\n",
      "bestTest = 12.0856687\n",
      "bestIteration = 615\n",
      "\n",
      "Shrink model to first 616 iterations.\n",
      "0:\tlearn: 16.3451879\ttest: 16.6685020\tbest: 16.6685020 (0)\ttotal: 257us\tremaining: 3.35s\n",
      "500:\tlearn: 11.6406134\ttest: 11.3542023\tbest: 11.3542023 (500)\ttotal: 167ms\tremaining: 4.16s\n",
      "Stopped by overfitting detector  (50 iterations wait)\n",
      "\n",
      "bestTest = 11.33853292\n",
      "bestIteration = 560\n",
      "\n",
      "Shrink model to first 561 iterations.\n",
      "0:\tlearn: 16.2662312\ttest: 15.8745369\tbest: 15.8745369 (0)\ttotal: 493us\tremaining: 6.41s\n"
     ]
    },
    {
     "name": "stderr",
     "output_type": "stream",
     "text": [
      "\u001b[32m[I 2023-03-01 22:34:25,076]\u001b[0m Trial 7 finished with value: 137.21858960958724 and parameters: {'iterations': 12982, 'od_wait': 2245, 'learning_rate': 0.06846245397520584, 'reg_lambda': 4.799239154366151, 'subsample': 0.4043590647923647, 'random_strength': 32.22351125790439, 'depth': 1, 'min_data_in_leaf': 12, 'leaf_estimation_iterations': 1, 'bagging_temperature': 0.19196321635845584, 'colsample_bylevel': 0.7257604366227699}. Best is trial 6 with value: 144.15874305141475.\u001b[0m\n"
     ]
    },
    {
     "name": "stdout",
     "output_type": "stream",
     "text": [
      "500:\tlearn: 11.6716428\ttest: 11.1765460\tbest: 11.1758959 (499)\ttotal: 169ms\tremaining: 4.2s\n",
      "Stopped by overfitting detector  (50 iterations wait)\n",
      "\n",
      "bestTest = 11.14098163\n",
      "bestIteration = 837\n",
      "\n",
      "Shrink model to first 838 iterations.\n"
     ]
    },
    {
     "name": "stderr",
     "output_type": "stream",
     "text": [
      "/var/folders/4l/84htqxwn14n0jr_xvdc4tpbr0000gn/T/ipykernel_64562/2551834662.py:6: FutureWarning: suggest_uniform has been deprecated in v3.0.0. This feature will be removed in v6.0.0. See https://github.com/optuna/optuna/releases/tag/v3.0.0. Use :func:`~optuna.trial.Trial.suggest_float` instead.\n",
      "  'learning_rate' : trial.suggest_uniform('learning_rate',0.01, 1),\n",
      "/var/folders/4l/84htqxwn14n0jr_xvdc4tpbr0000gn/T/ipykernel_64562/2551834662.py:7: FutureWarning: suggest_uniform has been deprecated in v3.0.0. This feature will be removed in v6.0.0. See https://github.com/optuna/optuna/releases/tag/v3.0.0. Use :func:`~optuna.trial.Trial.suggest_float` instead.\n",
      "  'reg_lambda': trial.suggest_uniform('reg_lambda',1e-5,100),\n",
      "/var/folders/4l/84htqxwn14n0jr_xvdc4tpbr0000gn/T/ipykernel_64562/2551834662.py:8: FutureWarning: suggest_uniform has been deprecated in v3.0.0. This feature will be removed in v6.0.0. See https://github.com/optuna/optuna/releases/tag/v3.0.0. Use :func:`~optuna.trial.Trial.suggest_float` instead.\n",
      "  'subsample': trial.suggest_uniform('subsample',0,1),\n",
      "/var/folders/4l/84htqxwn14n0jr_xvdc4tpbr0000gn/T/ipykernel_64562/2551834662.py:9: FutureWarning: suggest_uniform has been deprecated in v3.0.0. This feature will be removed in v6.0.0. See https://github.com/optuna/optuna/releases/tag/v3.0.0. Use :func:`~optuna.trial.Trial.suggest_float` instead.\n",
      "  'random_strength': trial.suggest_uniform('random_strength',10,50),\n",
      "/var/folders/4l/84htqxwn14n0jr_xvdc4tpbr0000gn/T/ipykernel_64562/2551834662.py:13: FutureWarning: suggest_loguniform has been deprecated in v3.0.0. This feature will be removed in v6.0.0. See https://github.com/optuna/optuna/releases/tag/v3.0.0. Use :func:`~optuna.trial.Trial.suggest_float` instead.\n",
      "  'bagging_temperature' :trial.suggest_loguniform('bagging_temperature', 0.01, 100.00),\n"
     ]
    },
    {
     "name": "stdout",
     "output_type": "stream",
     "text": [
      "0:\tlearn: 12.9881416\ttest: 13.3982094\tbest: 13.3982094 (0)\ttotal: 253ms\tremaining: 1h 43m 18s\n",
      "Stopped by overfitting detector  (50 iterations wait)\n",
      "\n",
      "bestTest = 12.68022649\n",
      "bestIteration = 8\n",
      "\n",
      "Shrink model to first 9 iterations.\n",
      "0:\tlearn: 13.2353615\ttest: 14.0185278\tbest: 14.0185278 (0)\ttotal: 147ms\tremaining: 1h\n",
      "Stopped by overfitting detector  (50 iterations wait)\n",
      "\n",
      "bestTest = 12.62312164\n",
      "bestIteration = 2\n",
      "\n",
      "Shrink model to first 3 iterations.\n",
      "0:\tlearn: 12.9826790\ttest: 13.4628157\tbest: 13.4628157 (0)\ttotal: 145ms\tremaining: 58m 58s\n",
      "Stopped by overfitting detector  (50 iterations wait)\n",
      "\n",
      "bestTest = 12.45322037\n",
      "bestIteration = 2\n",
      "\n",
      "Shrink model to first 3 iterations.\n",
      "0:\tlearn: 13.2244222\ttest: 13.3989526\tbest: 13.3989526 (0)\ttotal: 148ms\tremaining: 1h 29s\n",
      "Stopped by overfitting detector  (50 iterations wait)\n",
      "\n",
      "bestTest = 12.31237412\n",
      "bestIteration = 3\n",
      "\n",
      "Shrink model to first 4 iterations.\n",
      "0:\tlearn: 13.1859654\ttest: 12.8885977\tbest: 12.8885977 (0)\ttotal: 154ms\tremaining: 1h 2m 50s\n",
      "Stopped by overfitting detector  (50 iterations wait)\n",
      "\n",
      "bestTest = 11.88698443\n",
      "bestIteration = 3\n",
      "\n",
      "Shrink model to first 4 iterations.\n",
      "0:\tlearn: 12.9162760\ttest: 13.2396561\tbest: 13.2396561 (0)\ttotal: 145ms\tremaining: 58m 57s\n",
      "Stopped by overfitting detector  (50 iterations wait)\n",
      "\n",
      "bestTest = 12.46124891\n",
      "bestIteration = 2\n",
      "\n",
      "Shrink model to first 3 iterations.\n",
      "0:\tlearn: 12.2932015\ttest: 12.8948075\tbest: 12.8948075 (0)\ttotal: 151ms\tremaining: 1h 1m 34s\n",
      "Stopped by overfitting detector  (50 iterations wait)\n",
      "\n",
      "bestTest = 12.44173172\n",
      "bestIteration = 3\n",
      "\n",
      "Shrink model to first 4 iterations.\n",
      "0:\tlearn: 12.7957505\ttest: 14.1272333\tbest: 14.1272333 (0)\ttotal: 150ms\tremaining: 1h 1m 11s\n",
      "Stopped by overfitting detector  (50 iterations wait)\n",
      "\n",
      "bestTest = 12.93269875\n",
      "bestIteration = 5\n",
      "\n",
      "Shrink model to first 6 iterations.\n",
      "0:\tlearn: 12.8480641\ttest: 13.1455476\tbest: 13.1455476 (0)\ttotal: 154ms\tremaining: 1h 2m 53s\n",
      "Stopped by overfitting detector  (50 iterations wait)\n",
      "\n",
      "bestTest = 11.8808998\n",
      "bestIteration = 2\n",
      "\n",
      "Shrink model to first 3 iterations.\n",
      "0:\tlearn: 12.9735472\ttest: 12.4506063\tbest: 12.4506063 (0)\ttotal: 155ms\tremaining: 1h 3m 4s\n"
     ]
    },
    {
     "name": "stderr",
     "output_type": "stream",
     "text": [
      "\u001b[32m[I 2023-03-01 22:35:34,782]\u001b[0m Trial 8 finished with value: 151.765199705487 and parameters: {'iterations': 24479, 'od_wait': 2087, 'learning_rate': 0.9106671653270336, 'reg_lambda': 39.27085678538498, 'subsample': 0.021610675125868672, 'random_strength': 14.509531706303594, 'depth': 15, 'min_data_in_leaf': 6, 'leaf_estimation_iterations': 14, 'bagging_temperature': 0.028428469011504018, 'colsample_bylevel': 0.5018828058702537}. Best is trial 8 with value: 151.765199705487.\u001b[0m\n"
     ]
    },
    {
     "name": "stdout",
     "output_type": "stream",
     "text": [
      "Stopped by overfitting detector  (50 iterations wait)\n",
      "\n",
      "bestTest = 11.44784292\n",
      "bestIteration = 2\n",
      "\n",
      "Shrink model to first 3 iterations.\n",
      "0:\tlearn: 14.0463478\ttest: 13.9722116\tbest: 13.9722116 (0)\ttotal: 284us\tremaining: 1.52s\n",
      "Stopped by overfitting detector  (50 iterations wait)\n",
      "\n",
      "bestTest = 12.35367206\n",
      "bestIteration = 75\n",
      "\n",
      "Shrink model to first 76 iterations.\n",
      "0:\tlearn: 13.9976005\ttest: 14.3486244\tbest: 14.3486244 (0)\ttotal: 282us\tremaining: 1.5s\n"
     ]
    },
    {
     "name": "stderr",
     "output_type": "stream",
     "text": [
      "/var/folders/4l/84htqxwn14n0jr_xvdc4tpbr0000gn/T/ipykernel_64562/2551834662.py:6: FutureWarning: suggest_uniform has been deprecated in v3.0.0. This feature will be removed in v6.0.0. See https://github.com/optuna/optuna/releases/tag/v3.0.0. Use :func:`~optuna.trial.Trial.suggest_float` instead.\n",
      "  'learning_rate' : trial.suggest_uniform('learning_rate',0.01, 1),\n",
      "/var/folders/4l/84htqxwn14n0jr_xvdc4tpbr0000gn/T/ipykernel_64562/2551834662.py:7: FutureWarning: suggest_uniform has been deprecated in v3.0.0. This feature will be removed in v6.0.0. See https://github.com/optuna/optuna/releases/tag/v3.0.0. Use :func:`~optuna.trial.Trial.suggest_float` instead.\n",
      "  'reg_lambda': trial.suggest_uniform('reg_lambda',1e-5,100),\n",
      "/var/folders/4l/84htqxwn14n0jr_xvdc4tpbr0000gn/T/ipykernel_64562/2551834662.py:8: FutureWarning: suggest_uniform has been deprecated in v3.0.0. This feature will be removed in v6.0.0. See https://github.com/optuna/optuna/releases/tag/v3.0.0. Use :func:`~optuna.trial.Trial.suggest_float` instead.\n",
      "  'subsample': trial.suggest_uniform('subsample',0,1),\n",
      "/var/folders/4l/84htqxwn14n0jr_xvdc4tpbr0000gn/T/ipykernel_64562/2551834662.py:9: FutureWarning: suggest_uniform has been deprecated in v3.0.0. This feature will be removed in v6.0.0. See https://github.com/optuna/optuna/releases/tag/v3.0.0. Use :func:`~optuna.trial.Trial.suggest_float` instead.\n",
      "  'random_strength': trial.suggest_uniform('random_strength',10,50),\n",
      "/var/folders/4l/84htqxwn14n0jr_xvdc4tpbr0000gn/T/ipykernel_64562/2551834662.py:13: FutureWarning: suggest_loguniform has been deprecated in v3.0.0. This feature will be removed in v6.0.0. See https://github.com/optuna/optuna/releases/tag/v3.0.0. Use :func:`~optuna.trial.Trial.suggest_float` instead.\n",
      "  'bagging_temperature' :trial.suggest_loguniform('bagging_temperature', 0.01, 100.00),\n"
     ]
    },
    {
     "name": "stdout",
     "output_type": "stream",
     "text": [
      "Stopped by overfitting detector  (50 iterations wait)\n",
      "\n",
      "bestTest = 11.89644722\n",
      "bestIteration = 427\n",
      "\n",
      "Shrink model to first 428 iterations.\n",
      "0:\tlearn: 14.0614798\ttest: 13.8728210\tbest: 13.8728210 (0)\ttotal: 282us\tremaining: 1.5s\n",
      "Stopped by overfitting detector  (50 iterations wait)\n",
      "\n",
      "bestTest = 11.99426402\n",
      "bestIteration = 144\n",
      "\n",
      "Shrink model to first 145 iterations.\n",
      "0:\tlearn: 14.0552154\ttest: 14.1356642\tbest: 14.1356642 (0)\ttotal: 385us\tremaining: 2.05s\n",
      "Stopped by overfitting detector  (50 iterations wait)\n",
      "\n",
      "bestTest = 11.97263093\n",
      "bestIteration = 123\n",
      "\n",
      "Shrink model to first 124 iterations.\n",
      "0:\tlearn: 14.0727728\ttest: 13.4984027\tbest: 13.4984027 (0)\ttotal: 321us\tremaining: 1.71s\n",
      "Stopped by overfitting detector  (50 iterations wait)\n",
      "\n",
      "bestTest = 11.28017916\n",
      "bestIteration = 236\n",
      "\n",
      "Shrink model to first 237 iterations.\n",
      "0:\tlearn: 14.1061015\ttest: 13.7927307\tbest: 13.7927307 (0)\ttotal: 268us\tremaining: 1.43s\n",
      "Stopped by overfitting detector  (50 iterations wait)\n",
      "\n",
      "bestTest = 11.58902827\n",
      "bestIteration = 80\n",
      "\n",
      "Shrink model to first 81 iterations.\n",
      "0:\tlearn: 14.0322373\ttest: 14.0230646\tbest: 14.0230646 (0)\ttotal: 267us\tremaining: 1.42s\n",
      "Stopped by overfitting detector  (50 iterations wait)\n",
      "\n",
      "bestTest = 11.56781943\n",
      "bestIteration = 188\n",
      "\n",
      "Shrink model to first 189 iterations.\n",
      "0:\tlearn: 14.0108630\ttest: 14.7474288\tbest: 14.7474288 (0)\ttotal: 365us\tremaining: 1.94s\n",
      "Stopped by overfitting detector  (50 iterations wait)\n",
      "\n",
      "bestTest = 12.17468392\n",
      "bestIteration = 249\n",
      "\n",
      "Shrink model to first 250 iterations.\n",
      "0:\tlearn: 14.0341666\ttest: 14.3989641\tbest: 14.3989641 (0)\ttotal: 489us\tremaining: 2.61s\n",
      "Stopped by overfitting detector  (50 iterations wait)\n",
      "\n",
      "bestTest = 11.27612037\n",
      "bestIteration = 280\n",
      "\n",
      "Shrink model to first 281 iterations.\n",
      "0:\tlearn: 14.0562469\ttest: 13.7426147\tbest: 13.7426147 (0)\ttotal: 323us\tremaining: 1.72s\n"
     ]
    },
    {
     "name": "stderr",
     "output_type": "stream",
     "text": [
      "\u001b[32m[I 2023-03-01 22:35:35,788]\u001b[0m Trial 9 finished with value: 137.52402108502116 and parameters: {'iterations': 5323, 'od_wait': 585, 'learning_rate': 0.8346402742284112, 'reg_lambda': 61.50803231765073, 'subsample': 0.5613700251811988, 'random_strength': 24.251523269013493, 'depth': 1, 'min_data_in_leaf': 4, 'leaf_estimation_iterations': 1, 'bagging_temperature': 0.021241536591401315, 'colsample_bylevel': 0.7250300805864044}. Best is trial 8 with value: 151.765199705487.\u001b[0m\n"
     ]
    },
    {
     "name": "stdout",
     "output_type": "stream",
     "text": [
      "Stopped by overfitting detector  (50 iterations wait)\n",
      "\n",
      "bestTest = 11.09770225\n",
      "bestIteration = 117\n",
      "\n",
      "Shrink model to first 118 iterations.\n",
      "0:\tlearn: 11.6305249\ttest: 12.6024452\tbest: 12.6024452 (0)\ttotal: 157ms\tremaining: 1h 4m 58s\n"
     ]
    },
    {
     "name": "stderr",
     "output_type": "stream",
     "text": [
      "/var/folders/4l/84htqxwn14n0jr_xvdc4tpbr0000gn/T/ipykernel_64562/2551834662.py:6: FutureWarning: suggest_uniform has been deprecated in v3.0.0. This feature will be removed in v6.0.0. See https://github.com/optuna/optuna/releases/tag/v3.0.0. Use :func:`~optuna.trial.Trial.suggest_float` instead.\n",
      "  'learning_rate' : trial.suggest_uniform('learning_rate',0.01, 1),\n",
      "/var/folders/4l/84htqxwn14n0jr_xvdc4tpbr0000gn/T/ipykernel_64562/2551834662.py:7: FutureWarning: suggest_uniform has been deprecated in v3.0.0. This feature will be removed in v6.0.0. See https://github.com/optuna/optuna/releases/tag/v3.0.0. Use :func:`~optuna.trial.Trial.suggest_float` instead.\n",
      "  'reg_lambda': trial.suggest_uniform('reg_lambda',1e-5,100),\n",
      "/var/folders/4l/84htqxwn14n0jr_xvdc4tpbr0000gn/T/ipykernel_64562/2551834662.py:8: FutureWarning: suggest_uniform has been deprecated in v3.0.0. This feature will be removed in v6.0.0. See https://github.com/optuna/optuna/releases/tag/v3.0.0. Use :func:`~optuna.trial.Trial.suggest_float` instead.\n",
      "  'subsample': trial.suggest_uniform('subsample',0,1),\n",
      "/var/folders/4l/84htqxwn14n0jr_xvdc4tpbr0000gn/T/ipykernel_64562/2551834662.py:9: FutureWarning: suggest_uniform has been deprecated in v3.0.0. This feature will be removed in v6.0.0. See https://github.com/optuna/optuna/releases/tag/v3.0.0. Use :func:`~optuna.trial.Trial.suggest_float` instead.\n",
      "  'random_strength': trial.suggest_uniform('random_strength',10,50),\n",
      "/var/folders/4l/84htqxwn14n0jr_xvdc4tpbr0000gn/T/ipykernel_64562/2551834662.py:13: FutureWarning: suggest_loguniform has been deprecated in v3.0.0. This feature will be removed in v6.0.0. See https://github.com/optuna/optuna/releases/tag/v3.0.0. Use :func:`~optuna.trial.Trial.suggest_float` instead.\n",
      "  'bagging_temperature' :trial.suggest_loguniform('bagging_temperature', 0.01, 100.00),\n"
     ]
    },
    {
     "name": "stdout",
     "output_type": "stream",
     "text": [
      "Stopped by overfitting detector  (50 iterations wait)\n",
      "\n",
      "bestTest = 12.51160454\n",
      "bestIteration = 3\n",
      "\n",
      "Shrink model to first 4 iterations.\n",
      "0:\tlearn: 12.1443557\ttest: 13.1514917\tbest: 13.1514917 (0)\ttotal: 152ms\tremaining: 1h 2m 58s\n",
      "Stopped by overfitting detector  (50 iterations wait)\n",
      "\n",
      "bestTest = 12.64936431\n",
      "bestIteration = 3\n",
      "\n",
      "Shrink model to first 4 iterations.\n",
      "0:\tlearn: 12.0918135\ttest: 12.8702787\tbest: 12.8702787 (0)\ttotal: 168ms\tremaining: 1h 9m 21s\n",
      "Stopped by overfitting detector  (50 iterations wait)\n",
      "\n",
      "bestTest = 12.55711529\n",
      "bestIteration = 1\n",
      "\n",
      "Shrink model to first 2 iterations.\n",
      "0:\tlearn: 11.8339991\ttest: 12.6306358\tbest: 12.6306358 (0)\ttotal: 158ms\tremaining: 1h 5m 15s\n",
      "Stopped by overfitting detector  (50 iterations wait)\n",
      "\n",
      "bestTest = 12.51538925\n",
      "bestIteration = 6\n",
      "\n",
      "Shrink model to first 7 iterations.\n",
      "0:\tlearn: 13.3146991\ttest: 13.1072257\tbest: 13.1072257 (0)\ttotal: 166ms\tremaining: 1h 8m 24s\n",
      "Stopped by overfitting detector  (50 iterations wait)\n",
      "\n",
      "bestTest = 12.23155961\n",
      "bestIteration = 2\n",
      "\n",
      "Shrink model to first 3 iterations.\n",
      "0:\tlearn: 12.1525223\ttest: 12.1215932\tbest: 12.1215932 (0)\ttotal: 153ms\tremaining: 1h 3m 21s\n",
      "Stopped by overfitting detector  (50 iterations wait)\n",
      "\n",
      "bestTest = 12.09315268\n",
      "bestIteration = 3\n",
      "\n",
      "Shrink model to first 4 iterations.\n",
      "0:\tlearn: 12.1255561\ttest: 12.5367597\tbest: 12.5367597 (0)\ttotal: 159ms\tremaining: 1h 5m 53s\n",
      "Stopped by overfitting detector  (50 iterations wait)\n",
      "\n",
      "bestTest = 12.26639369\n",
      "bestIteration = 2\n",
      "\n",
      "Shrink model to first 3 iterations.\n",
      "0:\tlearn: 13.1444827\ttest: 14.3980149\tbest: 14.3980149 (0)\ttotal: 151ms\tremaining: 1h 2m 36s\n",
      "Stopped by overfitting detector  (50 iterations wait)\n",
      "\n",
      "bestTest = 12.84593253\n",
      "bestIteration = 2\n",
      "\n",
      "Shrink model to first 3 iterations.\n",
      "0:\tlearn: 12.1244505\ttest: 12.4732979\tbest: 12.4732979 (0)\ttotal: 156ms\tremaining: 1h 4m 16s\n",
      "Stopped by overfitting detector  (50 iterations wait)\n",
      "\n",
      "bestTest = 12.01124492\n",
      "bestIteration = 3\n",
      "\n",
      "Shrink model to first 4 iterations.\n",
      "0:\tlearn: 12.0080120\ttest: 11.9296629\tbest: 11.9296629 (0)\ttotal: 156ms\tremaining: 1h 4m 20s\n"
     ]
    },
    {
     "name": "stderr",
     "output_type": "stream",
     "text": [
      "\u001b[32m[I 2023-03-01 22:36:59,026]\u001b[0m Trial 10 finished with value: 152.29335241982827 and parameters: {'iterations': 24797, 'od_wait': 2293, 'learning_rate': 0.9790359894017103, 'reg_lambda': 40.92220484973811, 'subsample': 0.014490336877601383, 'random_strength': 12.170528523897218, 'depth': 15, 'min_data_in_leaf': 1, 'leaf_estimation_iterations': 15, 'bagging_temperature': 2.1014934976384674, 'colsample_bylevel': 0.623295716048635}. Best is trial 10 with value: 152.29335241982827.\u001b[0m\n"
     ]
    },
    {
     "name": "stdout",
     "output_type": "stream",
     "text": [
      "Stopped by overfitting detector  (50 iterations wait)\n",
      "\n",
      "bestTest = 11.68173581\n",
      "bestIteration = 4\n",
      "\n",
      "Shrink model to first 5 iterations.\n",
      "0:\tlearn: 11.6231525\ttest: 12.7638682\tbest: 12.7638682 (0)\ttotal: 160ms\tremaining: 1h 6m 29s\n"
     ]
    },
    {
     "name": "stderr",
     "output_type": "stream",
     "text": [
      "/var/folders/4l/84htqxwn14n0jr_xvdc4tpbr0000gn/T/ipykernel_64562/2551834662.py:6: FutureWarning: suggest_uniform has been deprecated in v3.0.0. This feature will be removed in v6.0.0. See https://github.com/optuna/optuna/releases/tag/v3.0.0. Use :func:`~optuna.trial.Trial.suggest_float` instead.\n",
      "  'learning_rate' : trial.suggest_uniform('learning_rate',0.01, 1),\n",
      "/var/folders/4l/84htqxwn14n0jr_xvdc4tpbr0000gn/T/ipykernel_64562/2551834662.py:7: FutureWarning: suggest_uniform has been deprecated in v3.0.0. This feature will be removed in v6.0.0. See https://github.com/optuna/optuna/releases/tag/v3.0.0. Use :func:`~optuna.trial.Trial.suggest_float` instead.\n",
      "  'reg_lambda': trial.suggest_uniform('reg_lambda',1e-5,100),\n",
      "/var/folders/4l/84htqxwn14n0jr_xvdc4tpbr0000gn/T/ipykernel_64562/2551834662.py:8: FutureWarning: suggest_uniform has been deprecated in v3.0.0. This feature will be removed in v6.0.0. See https://github.com/optuna/optuna/releases/tag/v3.0.0. Use :func:`~optuna.trial.Trial.suggest_float` instead.\n",
      "  'subsample': trial.suggest_uniform('subsample',0,1),\n",
      "/var/folders/4l/84htqxwn14n0jr_xvdc4tpbr0000gn/T/ipykernel_64562/2551834662.py:9: FutureWarning: suggest_uniform has been deprecated in v3.0.0. This feature will be removed in v6.0.0. See https://github.com/optuna/optuna/releases/tag/v3.0.0. Use :func:`~optuna.trial.Trial.suggest_float` instead.\n",
      "  'random_strength': trial.suggest_uniform('random_strength',10,50),\n",
      "/var/folders/4l/84htqxwn14n0jr_xvdc4tpbr0000gn/T/ipykernel_64562/2551834662.py:13: FutureWarning: suggest_loguniform has been deprecated in v3.0.0. This feature will be removed in v6.0.0. See https://github.com/optuna/optuna/releases/tag/v3.0.0. Use :func:`~optuna.trial.Trial.suggest_float` instead.\n",
      "  'bagging_temperature' :trial.suggest_loguniform('bagging_temperature', 0.01, 100.00),\n"
     ]
    },
    {
     "name": "stdout",
     "output_type": "stream",
     "text": [
      "Stopped by overfitting detector  (50 iterations wait)\n",
      "\n",
      "bestTest = 12.76386821\n",
      "bestIteration = 0\n",
      "\n",
      "Shrink model to first 1 iterations.\n",
      "0:\tlearn: 11.9290511\ttest: 13.0597633\tbest: 13.0597633 (0)\ttotal: 158ms\tremaining: 1h 5m 33s\n",
      "Stopped by overfitting detector  (50 iterations wait)\n",
      "\n",
      "bestTest = 12.81750204\n",
      "bestIteration = 2\n",
      "\n",
      "Shrink model to first 3 iterations.\n",
      "0:\tlearn: 11.8901577\ttest: 12.6263493\tbest: 12.6263493 (0)\ttotal: 153ms\tremaining: 1h 3m 42s\n",
      "Stopped by overfitting detector  (50 iterations wait)\n",
      "\n",
      "bestTest = 12.59583647\n",
      "bestIteration = 1\n",
      "\n",
      "Shrink model to first 2 iterations.\n",
      "0:\tlearn: 12.3605984\ttest: 13.0271186\tbest: 13.0271186 (0)\ttotal: 155ms\tremaining: 1h 4m 35s\n",
      "Stopped by overfitting detector  (50 iterations wait)\n",
      "\n",
      "bestTest = 12.78612993\n",
      "bestIteration = 2\n",
      "\n",
      "Shrink model to first 3 iterations.\n",
      "0:\tlearn: 12.2441371\ttest: 12.5295902\tbest: 12.5295902 (0)\ttotal: 158ms\tremaining: 1h 5m 44s\n",
      "Stopped by overfitting detector  (50 iterations wait)\n",
      "\n",
      "bestTest = 12.43046179\n",
      "bestIteration = 2\n",
      "\n",
      "Shrink model to first 3 iterations.\n",
      "0:\tlearn: 12.1188944\ttest: 12.2990709\tbest: 12.2990709 (0)\ttotal: 155ms\tremaining: 1h 4m 33s\n",
      "Stopped by overfitting detector  (50 iterations wait)\n",
      "\n",
      "bestTest = 12.29713628\n",
      "bestIteration = 1\n",
      "\n",
      "Shrink model to first 2 iterations.\n",
      "0:\tlearn: 12.0748775\ttest: 12.6150087\tbest: 12.6150087 (0)\ttotal: 158ms\tremaining: 1h 5m 45s\n",
      "Stopped by overfitting detector  (50 iterations wait)\n",
      "\n",
      "bestTest = 12.46032133\n",
      "bestIteration = 1\n",
      "\n",
      "Shrink model to first 2 iterations.\n",
      "0:\tlearn: 13.1545262\ttest: 14.4033596\tbest: 14.4033596 (0)\ttotal: 152ms\tremaining: 1h 3m 11s\n",
      "Stopped by overfitting detector  (50 iterations wait)\n",
      "\n",
      "bestTest = 13.02819308\n",
      "bestIteration = 2\n",
      "\n",
      "Shrink model to first 3 iterations.\n",
      "0:\tlearn: 12.5773623\ttest: 13.0284371\tbest: 13.0284371 (0)\ttotal: 180ms\tremaining: 1h 14m 54s\n",
      "Stopped by overfitting detector  (50 iterations wait)\n",
      "\n",
      "bestTest = 12.54246068\n",
      "bestIteration = 2\n",
      "\n",
      "Shrink model to first 3 iterations.\n",
      "0:\tlearn: 12.1053879\ttest: 11.9999730\tbest: 11.9999730 (0)\ttotal: 156ms\tremaining: 1h 4m 58s\n"
     ]
    },
    {
     "name": "stderr",
     "output_type": "stream",
     "text": [
      "\u001b[32m[I 2023-03-01 22:38:21,214]\u001b[0m Trial 11 finished with value: 157.34745165672928 and parameters: {'iterations': 24953, 'od_wait': 2294, 'learning_rate': 0.9714553041810988, 'reg_lambda': 42.55192292226133, 'subsample': 0.012918774371701743, 'random_strength': 11.714080709195686, 'depth': 15, 'min_data_in_leaf': 2, 'leaf_estimation_iterations': 15, 'bagging_temperature': 1.6318713837120447, 'colsample_bylevel': 0.6218601010925822}. Best is trial 11 with value: 157.34745165672928.\u001b[0m\n"
     ]
    },
    {
     "name": "stdout",
     "output_type": "stream",
     "text": [
      "Stopped by overfitting detector  (50 iterations wait)\n",
      "\n",
      "bestTest = 11.66563019\n",
      "bestIteration = 2\n",
      "\n",
      "Shrink model to first 3 iterations.\n",
      "0:\tlearn: 12.0791944\ttest: 12.7753003\tbest: 12.7753003 (0)\ttotal: 156ms\tremaining: 54m 46s\n"
     ]
    },
    {
     "name": "stderr",
     "output_type": "stream",
     "text": [
      "/var/folders/4l/84htqxwn14n0jr_xvdc4tpbr0000gn/T/ipykernel_64562/2551834662.py:6: FutureWarning: suggest_uniform has been deprecated in v3.0.0. This feature will be removed in v6.0.0. See https://github.com/optuna/optuna/releases/tag/v3.0.0. Use :func:`~optuna.trial.Trial.suggest_float` instead.\n",
      "  'learning_rate' : trial.suggest_uniform('learning_rate',0.01, 1),\n",
      "/var/folders/4l/84htqxwn14n0jr_xvdc4tpbr0000gn/T/ipykernel_64562/2551834662.py:7: FutureWarning: suggest_uniform has been deprecated in v3.0.0. This feature will be removed in v6.0.0. See https://github.com/optuna/optuna/releases/tag/v3.0.0. Use :func:`~optuna.trial.Trial.suggest_float` instead.\n",
      "  'reg_lambda': trial.suggest_uniform('reg_lambda',1e-5,100),\n",
      "/var/folders/4l/84htqxwn14n0jr_xvdc4tpbr0000gn/T/ipykernel_64562/2551834662.py:8: FutureWarning: suggest_uniform has been deprecated in v3.0.0. This feature will be removed in v6.0.0. See https://github.com/optuna/optuna/releases/tag/v3.0.0. Use :func:`~optuna.trial.Trial.suggest_float` instead.\n",
      "  'subsample': trial.suggest_uniform('subsample',0,1),\n",
      "/var/folders/4l/84htqxwn14n0jr_xvdc4tpbr0000gn/T/ipykernel_64562/2551834662.py:9: FutureWarning: suggest_uniform has been deprecated in v3.0.0. This feature will be removed in v6.0.0. See https://github.com/optuna/optuna/releases/tag/v3.0.0. Use :func:`~optuna.trial.Trial.suggest_float` instead.\n",
      "  'random_strength': trial.suggest_uniform('random_strength',10,50),\n",
      "/var/folders/4l/84htqxwn14n0jr_xvdc4tpbr0000gn/T/ipykernel_64562/2551834662.py:13: FutureWarning: suggest_loguniform has been deprecated in v3.0.0. This feature will be removed in v6.0.0. See https://github.com/optuna/optuna/releases/tag/v3.0.0. Use :func:`~optuna.trial.Trial.suggest_float` instead.\n",
      "  'bagging_temperature' :trial.suggest_loguniform('bagging_temperature', 0.01, 100.00),\n"
     ]
    },
    {
     "name": "stdout",
     "output_type": "stream",
     "text": [
      "Stopped by overfitting detector  (50 iterations wait)\n",
      "\n",
      "bestTest = 12.77530033\n",
      "bestIteration = 0\n",
      "\n",
      "Shrink model to first 1 iterations.\n",
      "0:\tlearn: 12.0306379\ttest: 12.9244855\tbest: 12.9244855 (0)\ttotal: 155ms\tremaining: 54m 12s\n",
      "Stopped by overfitting detector  (50 iterations wait)\n",
      "\n",
      "bestTest = 12.45647503\n",
      "bestIteration = 5\n",
      "\n",
      "Shrink model to first 6 iterations.\n",
      "0:\tlearn: 12.0727532\ttest: 12.9511518\tbest: 12.9511518 (0)\ttotal: 168ms\tremaining: 59m\n",
      "Stopped by overfitting detector  (50 iterations wait)\n",
      "\n",
      "bestTest = 12.90490493\n",
      "bestIteration = 2\n",
      "\n",
      "Shrink model to first 3 iterations.\n",
      "0:\tlearn: 12.0283259\ttest: 12.9011290\tbest: 12.9011290 (0)\ttotal: 152ms\tremaining: 53m 21s\n",
      "Stopped by overfitting detector  (50 iterations wait)\n",
      "\n",
      "bestTest = 12.56433112\n",
      "bestIteration = 9\n",
      "\n",
      "Shrink model to first 10 iterations.\n",
      "0:\tlearn: 12.1235787\ttest: 11.9824094\tbest: 11.9824094 (0)\ttotal: 153ms\tremaining: 53m 26s\n",
      "Stopped by overfitting detector  (50 iterations wait)\n",
      "\n",
      "bestTest = 11.9824094\n",
      "bestIteration = 0\n",
      "\n",
      "Shrink model to first 1 iterations.\n",
      "0:\tlearn: 12.1545668\ttest: 12.2188628\tbest: 12.2188628 (0)\ttotal: 165ms\tremaining: 57m 51s\n",
      "Stopped by overfitting detector  (50 iterations wait)\n",
      "\n",
      "bestTest = 12.09606325\n",
      "bestIteration = 4\n",
      "\n",
      "Shrink model to first 5 iterations.\n",
      "0:\tlearn: 12.0789729\ttest: 12.4952799\tbest: 12.4952799 (0)\ttotal: 164ms\tremaining: 57m 27s\n",
      "Stopped by overfitting detector  (50 iterations wait)\n",
      "\n",
      "bestTest = 12.46426917\n",
      "bestIteration = 1\n",
      "\n",
      "Shrink model to first 2 iterations.\n",
      "0:\tlearn: 12.0113197\ttest: 13.2742072\tbest: 13.2742072 (0)\ttotal: 158ms\tremaining: 55m 20s\n",
      "Stopped by overfitting detector  (50 iterations wait)\n",
      "\n",
      "bestTest = 12.68679728\n",
      "bestIteration = 4\n",
      "\n",
      "Shrink model to first 5 iterations.\n",
      "0:\tlearn: 12.0876135\ttest: 12.6055494\tbest: 12.6055494 (0)\ttotal: 189ms\tremaining: 1h 6m 8s\n",
      "Stopped by overfitting detector  (50 iterations wait)\n",
      "\n",
      "bestTest = 12.16140987\n",
      "bestIteration = 4\n",
      "\n",
      "Shrink model to first 5 iterations.\n",
      "0:\tlearn: 12.1419807\ttest: 12.1152398\tbest: 12.1152398 (0)\ttotal: 155ms\tremaining: 54m 27s\n"
     ]
    },
    {
     "name": "stderr",
     "output_type": "stream",
     "text": [
      "\u001b[32m[I 2023-03-01 22:39:45,995]\u001b[0m Trial 12 finished with value: 152.94892052323908 and parameters: {'iterations': 21014, 'od_wait': 2288, 'learning_rate': 0.9859894248937662, 'reg_lambda': 52.153802521650334, 'subsample': 0.2419397710946718, 'random_strength': 10.620909027116882, 'depth': 15, 'min_data_in_leaf': 1, 'leaf_estimation_iterations': 15, 'bagging_temperature': 4.522879215480003, 'colsample_bylevel': 0.6248747312447472}. Best is trial 11 with value: 157.34745165672928.\u001b[0m\n"
     ]
    },
    {
     "name": "stdout",
     "output_type": "stream",
     "text": [
      "Stopped by overfitting detector  (50 iterations wait)\n",
      "\n",
      "bestTest = 11.51575208\n",
      "bestIteration = 4\n",
      "\n",
      "Shrink model to first 5 iterations.\n",
      "0:\tlearn: 12.5299031\ttest: 12.8663425\tbest: 12.8663425 (0)\ttotal: 18.3ms\tremaining: 6m 3s\n"
     ]
    },
    {
     "name": "stderr",
     "output_type": "stream",
     "text": [
      "/var/folders/4l/84htqxwn14n0jr_xvdc4tpbr0000gn/T/ipykernel_64562/2551834662.py:6: FutureWarning: suggest_uniform has been deprecated in v3.0.0. This feature will be removed in v6.0.0. See https://github.com/optuna/optuna/releases/tag/v3.0.0. Use :func:`~optuna.trial.Trial.suggest_float` instead.\n",
      "  'learning_rate' : trial.suggest_uniform('learning_rate',0.01, 1),\n",
      "/var/folders/4l/84htqxwn14n0jr_xvdc4tpbr0000gn/T/ipykernel_64562/2551834662.py:7: FutureWarning: suggest_uniform has been deprecated in v3.0.0. This feature will be removed in v6.0.0. See https://github.com/optuna/optuna/releases/tag/v3.0.0. Use :func:`~optuna.trial.Trial.suggest_float` instead.\n",
      "  'reg_lambda': trial.suggest_uniform('reg_lambda',1e-5,100),\n",
      "/var/folders/4l/84htqxwn14n0jr_xvdc4tpbr0000gn/T/ipykernel_64562/2551834662.py:8: FutureWarning: suggest_uniform has been deprecated in v3.0.0. This feature will be removed in v6.0.0. See https://github.com/optuna/optuna/releases/tag/v3.0.0. Use :func:`~optuna.trial.Trial.suggest_float` instead.\n",
      "  'subsample': trial.suggest_uniform('subsample',0,1),\n",
      "/var/folders/4l/84htqxwn14n0jr_xvdc4tpbr0000gn/T/ipykernel_64562/2551834662.py:9: FutureWarning: suggest_uniform has been deprecated in v3.0.0. This feature will be removed in v6.0.0. See https://github.com/optuna/optuna/releases/tag/v3.0.0. Use :func:`~optuna.trial.Trial.suggest_float` instead.\n",
      "  'random_strength': trial.suggest_uniform('random_strength',10,50),\n",
      "/var/folders/4l/84htqxwn14n0jr_xvdc4tpbr0000gn/T/ipykernel_64562/2551834662.py:13: FutureWarning: suggest_loguniform has been deprecated in v3.0.0. This feature will be removed in v6.0.0. See https://github.com/optuna/optuna/releases/tag/v3.0.0. Use :func:`~optuna.trial.Trial.suggest_float` instead.\n",
      "  'bagging_temperature' :trial.suggest_loguniform('bagging_temperature', 0.01, 100.00),\n"
     ]
    },
    {
     "name": "stdout",
     "output_type": "stream",
     "text": [
      "Stopped by overfitting detector  (50 iterations wait)\n",
      "\n",
      "bestTest = 12.61210189\n",
      "bestIteration = 1\n",
      "\n",
      "Shrink model to first 2 iterations.\n",
      "0:\tlearn: 12.4883772\ttest: 13.2336643\tbest: 13.2336643 (0)\ttotal: 20.7ms\tremaining: 6m 52s\n",
      "Stopped by overfitting detector  (50 iterations wait)\n",
      "\n",
      "bestTest = 12.11116042\n",
      "bestIteration = 5\n",
      "\n",
      "Shrink model to first 6 iterations.\n",
      "0:\tlearn: 12.5464517\ttest: 12.8591028\tbest: 12.8591028 (0)\ttotal: 18.7ms\tremaining: 6m 12s\n",
      "Stopped by overfitting detector  (50 iterations wait)\n",
      "\n",
      "bestTest = 12.35719975\n",
      "bestIteration = 2\n",
      "\n",
      "Shrink model to first 3 iterations.\n",
      "0:\tlearn: 12.5192646\ttest: 13.0630122\tbest: 13.0630122 (0)\ttotal: 18.3ms\tremaining: 6m 4s\n",
      "Stopped by overfitting detector  (50 iterations wait)\n",
      "\n",
      "bestTest = 12.30841611\n",
      "bestIteration = 14\n",
      "\n",
      "Shrink model to first 15 iterations.\n",
      "0:\tlearn: 12.5511846\ttest: 12.3824633\tbest: 12.3824633 (0)\ttotal: 19.5ms\tremaining: 6m 28s\n",
      "Stopped by overfitting detector  (50 iterations wait)\n",
      "\n",
      "bestTest = 11.69493213\n",
      "bestIteration = 3\n",
      "\n",
      "Shrink model to first 4 iterations.\n",
      "0:\tlearn: 12.6289846\ttest: 12.5959363\tbest: 12.5959363 (0)\ttotal: 18.1ms\tremaining: 6m\n",
      "Stopped by overfitting detector  (50 iterations wait)\n",
      "\n",
      "bestTest = 12.04538808\n",
      "bestIteration = 2\n",
      "\n",
      "Shrink model to first 3 iterations.\n",
      "0:\tlearn: 12.5826562\ttest: 12.9981470\tbest: 12.9981470 (0)\ttotal: 17.8ms\tremaining: 5m 55s\n",
      "Stopped by overfitting detector  (50 iterations wait)\n",
      "\n",
      "bestTest = 12.07222064\n",
      "bestIteration = 7\n",
      "\n",
      "Shrink model to first 8 iterations.\n",
      "0:\tlearn: 12.4382193\ttest: 13.6928342\tbest: 13.6928342 (0)\ttotal: 18ms\tremaining: 5m 58s\n",
      "Stopped by overfitting detector  (50 iterations wait)\n",
      "\n",
      "bestTest = 12.60212306\n",
      "bestIteration = 9\n",
      "\n",
      "Shrink model to first 10 iterations.\n",
      "0:\tlearn: 12.5384267\ttest: 12.7574722\tbest: 12.7574722 (0)\ttotal: 18.5ms\tremaining: 6m 9s\n",
      "Stopped by overfitting detector  (50 iterations wait)\n",
      "\n",
      "bestTest = 11.80057984\n",
      "bestIteration = 7\n",
      "\n",
      "Shrink model to first 8 iterations.\n",
      "0:\tlearn: 12.5848252\ttest: 12.2240556\tbest: 12.2240556 (0)\ttotal: 17.3ms\tremaining: 5m 44s\n"
     ]
    },
    {
     "name": "stderr",
     "output_type": "stream",
     "text": [
      "\u001b[32m[I 2023-03-01 22:39:56,049]\u001b[0m Trial 13 finished with value: 146.05029049569845 and parameters: {'iterations': 19935, 'od_wait': 1935, 'learning_rate': 0.7808855445785782, 'reg_lambda': 56.80593388015603, 'subsample': 0.2552757349290132, 'random_strength': 10.195721208967848, 'depth': 12, 'min_data_in_leaf': 1, 'leaf_estimation_iterations': 12, 'bagging_temperature': 2.969432290591509, 'colsample_bylevel': 0.6489802056051176}. Best is trial 11 with value: 157.34745165672928.\u001b[0m\n"
     ]
    },
    {
     "name": "stdout",
     "output_type": "stream",
     "text": [
      "Stopped by overfitting detector  (50 iterations wait)\n",
      "\n",
      "bestTest = 11.17549001\n",
      "bestIteration = 8\n",
      "\n",
      "Shrink model to first 9 iterations.\n",
      "0:\tlearn: 12.2948430\ttest: 12.9186080\tbest: 12.9186080 (0)\ttotal: 33.2ms\tremaining: 11m 32s\n"
     ]
    },
    {
     "name": "stderr",
     "output_type": "stream",
     "text": [
      "/var/folders/4l/84htqxwn14n0jr_xvdc4tpbr0000gn/T/ipykernel_64562/2551834662.py:6: FutureWarning: suggest_uniform has been deprecated in v3.0.0. This feature will be removed in v6.0.0. See https://github.com/optuna/optuna/releases/tag/v3.0.0. Use :func:`~optuna.trial.Trial.suggest_float` instead.\n",
      "  'learning_rate' : trial.suggest_uniform('learning_rate',0.01, 1),\n",
      "/var/folders/4l/84htqxwn14n0jr_xvdc4tpbr0000gn/T/ipykernel_64562/2551834662.py:7: FutureWarning: suggest_uniform has been deprecated in v3.0.0. This feature will be removed in v6.0.0. See https://github.com/optuna/optuna/releases/tag/v3.0.0. Use :func:`~optuna.trial.Trial.suggest_float` instead.\n",
      "  'reg_lambda': trial.suggest_uniform('reg_lambda',1e-5,100),\n",
      "/var/folders/4l/84htqxwn14n0jr_xvdc4tpbr0000gn/T/ipykernel_64562/2551834662.py:8: FutureWarning: suggest_uniform has been deprecated in v3.0.0. This feature will be removed in v6.0.0. See https://github.com/optuna/optuna/releases/tag/v3.0.0. Use :func:`~optuna.trial.Trial.suggest_float` instead.\n",
      "  'subsample': trial.suggest_uniform('subsample',0,1),\n",
      "/var/folders/4l/84htqxwn14n0jr_xvdc4tpbr0000gn/T/ipykernel_64562/2551834662.py:9: FutureWarning: suggest_uniform has been deprecated in v3.0.0. This feature will be removed in v6.0.0. See https://github.com/optuna/optuna/releases/tag/v3.0.0. Use :func:`~optuna.trial.Trial.suggest_float` instead.\n",
      "  'random_strength': trial.suggest_uniform('random_strength',10,50),\n",
      "/var/folders/4l/84htqxwn14n0jr_xvdc4tpbr0000gn/T/ipykernel_64562/2551834662.py:13: FutureWarning: suggest_loguniform has been deprecated in v3.0.0. This feature will be removed in v6.0.0. See https://github.com/optuna/optuna/releases/tag/v3.0.0. Use :func:`~optuna.trial.Trial.suggest_float` instead.\n",
      "  'bagging_temperature' :trial.suggest_loguniform('bagging_temperature', 0.01, 100.00),\n"
     ]
    },
    {
     "name": "stdout",
     "output_type": "stream",
     "text": [
      "Stopped by overfitting detector  (50 iterations wait)\n",
      "\n",
      "bestTest = 12.62578423\n",
      "bestIteration = 2\n",
      "\n",
      "Shrink model to first 3 iterations.\n",
      "0:\tlearn: 12.1951638\ttest: 13.2282616\tbest: 13.2282616 (0)\ttotal: 33ms\tremaining: 11m 30s\n",
      "Stopped by overfitting detector  (50 iterations wait)\n",
      "\n",
      "bestTest = 12.72312542\n",
      "bestIteration = 2\n",
      "\n",
      "Shrink model to first 3 iterations.\n",
      "0:\tlearn: 12.2941570\ttest: 13.0063165\tbest: 13.0063165 (0)\ttotal: 31.8ms\tremaining: 11m 4s\n",
      "Stopped by overfitting detector  (50 iterations wait)\n",
      "\n",
      "bestTest = 12.70965255\n",
      "bestIteration = 2\n",
      "\n",
      "Shrink model to first 3 iterations.\n",
      "0:\tlearn: 12.3598042\ttest: 13.3525177\tbest: 13.3525177 (0)\ttotal: 33.1ms\tremaining: 11m 31s\n",
      "Stopped by overfitting detector  (50 iterations wait)\n",
      "\n",
      "bestTest = 12.62256672\n",
      "bestIteration = 10\n",
      "\n",
      "Shrink model to first 11 iterations.\n",
      "0:\tlearn: 12.2798300\ttest: 12.4485122\tbest: 12.4485122 (0)\ttotal: 32.2ms\tremaining: 11m 12s\n",
      "Stopped by overfitting detector  (50 iterations wait)\n",
      "\n",
      "bestTest = 12.25380431\n",
      "bestIteration = 7\n",
      "\n",
      "Shrink model to first 8 iterations.\n",
      "0:\tlearn: 12.4014044\ttest: 12.6156443\tbest: 12.6156443 (0)\ttotal: 32.5ms\tremaining: 11m 18s\n",
      "Stopped by overfitting detector  (50 iterations wait)\n",
      "\n",
      "bestTest = 12.451449\n",
      "bestIteration = 2\n",
      "\n",
      "Shrink model to first 3 iterations.\n",
      "0:\tlearn: 12.1387510\ttest: 12.5604983\tbest: 12.5604983 (0)\ttotal: 32.8ms\tremaining: 11m 25s\n",
      "Stopped by overfitting detector  (50 iterations wait)\n",
      "\n",
      "bestTest = 11.98683431\n",
      "bestIteration = 1\n",
      "\n",
      "Shrink model to first 2 iterations.\n",
      "0:\tlearn: 12.1403650\ttest: 13.5538222\tbest: 13.5538222 (0)\ttotal: 32.9ms\tremaining: 11m 26s\n",
      "Stopped by overfitting detector  (50 iterations wait)\n",
      "\n",
      "bestTest = 13.10329869\n",
      "bestIteration = 9\n",
      "\n",
      "Shrink model to first 10 iterations.\n",
      "0:\tlearn: 12.2784608\ttest: 12.7274671\tbest: 12.7274671 (0)\ttotal: 32.9ms\tremaining: 11m 26s\n",
      "Stopped by overfitting detector  (50 iterations wait)\n",
      "\n",
      "bestTest = 12.02765241\n",
      "bestIteration = 5\n",
      "\n",
      "Shrink model to first 6 iterations.\n",
      "0:\tlearn: 12.3625042\ttest: 12.3892528\tbest: 12.3892528 (0)\ttotal: 32.4ms\tremaining: 11m 15s\n"
     ]
    },
    {
     "name": "stderr",
     "output_type": "stream",
     "text": [
      "\u001b[32m[I 2023-03-01 22:40:14,856]\u001b[0m Trial 14 finished with value: 154.6857840493504 and parameters: {'iterations': 20886, 'od_wait': 1681, 'learning_rate': 0.9599800406348036, 'reg_lambda': 25.99084950959757, 'subsample': 0.24508553554175191, 'random_strength': 10.207859467804957, 'depth': 13, 'min_data_in_leaf': 10, 'leaf_estimation_iterations': 11, 'bagging_temperature': 5.423198139119733, 'colsample_bylevel': 0.6752862879423569}. Best is trial 11 with value: 157.34745165672928.\u001b[0m\n"
     ]
    },
    {
     "name": "stdout",
     "output_type": "stream",
     "text": [
      "Stopped by overfitting detector  (50 iterations wait)\n",
      "\n",
      "bestTest = 11.80955862\n",
      "bestIteration = 7\n",
      "\n",
      "Shrink model to first 8 iterations.\n",
      "0:\tlearn: 12.2962653\ttest: 13.1137767\tbest: 13.1137767 (0)\ttotal: 34ms\tremaining: 11m 59s\n"
     ]
    },
    {
     "name": "stderr",
     "output_type": "stream",
     "text": [
      "/var/folders/4l/84htqxwn14n0jr_xvdc4tpbr0000gn/T/ipykernel_64562/2551834662.py:6: FutureWarning: suggest_uniform has been deprecated in v3.0.0. This feature will be removed in v6.0.0. See https://github.com/optuna/optuna/releases/tag/v3.0.0. Use :func:`~optuna.trial.Trial.suggest_float` instead.\n",
      "  'learning_rate' : trial.suggest_uniform('learning_rate',0.01, 1),\n",
      "/var/folders/4l/84htqxwn14n0jr_xvdc4tpbr0000gn/T/ipykernel_64562/2551834662.py:7: FutureWarning: suggest_uniform has been deprecated in v3.0.0. This feature will be removed in v6.0.0. See https://github.com/optuna/optuna/releases/tag/v3.0.0. Use :func:`~optuna.trial.Trial.suggest_float` instead.\n",
      "  'reg_lambda': trial.suggest_uniform('reg_lambda',1e-5,100),\n",
      "/var/folders/4l/84htqxwn14n0jr_xvdc4tpbr0000gn/T/ipykernel_64562/2551834662.py:8: FutureWarning: suggest_uniform has been deprecated in v3.0.0. This feature will be removed in v6.0.0. See https://github.com/optuna/optuna/releases/tag/v3.0.0. Use :func:`~optuna.trial.Trial.suggest_float` instead.\n",
      "  'subsample': trial.suggest_uniform('subsample',0,1),\n",
      "/var/folders/4l/84htqxwn14n0jr_xvdc4tpbr0000gn/T/ipykernel_64562/2551834662.py:9: FutureWarning: suggest_uniform has been deprecated in v3.0.0. This feature will be removed in v6.0.0. See https://github.com/optuna/optuna/releases/tag/v3.0.0. Use :func:`~optuna.trial.Trial.suggest_float` instead.\n",
      "  'random_strength': trial.suggest_uniform('random_strength',10,50),\n",
      "/var/folders/4l/84htqxwn14n0jr_xvdc4tpbr0000gn/T/ipykernel_64562/2551834662.py:13: FutureWarning: suggest_loguniform has been deprecated in v3.0.0. This feature will be removed in v6.0.0. See https://github.com/optuna/optuna/releases/tag/v3.0.0. Use :func:`~optuna.trial.Trial.suggest_float` instead.\n",
      "  'bagging_temperature' :trial.suggest_loguniform('bagging_temperature', 0.01, 100.00),\n"
     ]
    },
    {
     "name": "stdout",
     "output_type": "stream",
     "text": [
      "Stopped by overfitting detector  (50 iterations wait)\n",
      "\n",
      "bestTest = 12.74509115\n",
      "bestIteration = 3\n",
      "\n",
      "Shrink model to first 4 iterations.\n",
      "0:\tlearn: 12.4160821\ttest: 13.1378695\tbest: 13.1378695 (0)\ttotal: 34.2ms\tremaining: 12m 2s\n",
      "Stopped by overfitting detector  (50 iterations wait)\n",
      "\n",
      "bestTest = 12.31406612\n",
      "bestIteration = 11\n",
      "\n",
      "Shrink model to first 12 iterations.\n",
      "0:\tlearn: 12.4102623\ttest: 12.9027114\tbest: 12.9027114 (0)\ttotal: 34.6ms\tremaining: 12m 10s\n",
      "Stopped by overfitting detector  (50 iterations wait)\n",
      "\n",
      "bestTest = 12.63329163\n",
      "bestIteration = 3\n",
      "\n",
      "Shrink model to first 4 iterations.\n",
      "0:\tlearn: 12.3968265\ttest: 12.8431039\tbest: 12.8431039 (0)\ttotal: 35.4ms\tremaining: 12m 29s\n",
      "Stopped by overfitting detector  (50 iterations wait)\n",
      "\n",
      "bestTest = 12.25283887\n",
      "bestIteration = 4\n",
      "\n",
      "Shrink model to first 5 iterations.\n",
      "0:\tlearn: 12.4988583\ttest: 12.1671533\tbest: 12.1671533 (0)\ttotal: 32.5ms\tremaining: 11m 27s\n",
      "Stopped by overfitting detector  (50 iterations wait)\n",
      "\n",
      "bestTest = 11.88929224\n",
      "bestIteration = 2\n",
      "\n",
      "Shrink model to first 3 iterations.\n",
      "0:\tlearn: 12.4313042\ttest: 12.5846190\tbest: 12.5846190 (0)\ttotal: 35.4ms\tremaining: 12m 29s\n",
      "Stopped by overfitting detector  (50 iterations wait)\n",
      "\n",
      "bestTest = 11.97718528\n",
      "bestIteration = 5\n",
      "\n",
      "Shrink model to first 6 iterations.\n",
      "0:\tlearn: 12.4242791\ttest: 12.7332964\tbest: 12.7332964 (0)\ttotal: 35.1ms\tremaining: 12m 21s\n",
      "Stopped by overfitting detector  (50 iterations wait)\n",
      "\n",
      "bestTest = 11.91277965\n",
      "bestIteration = 9\n",
      "\n",
      "Shrink model to first 10 iterations.\n",
      "0:\tlearn: 12.3657917\ttest: 13.4447064\tbest: 13.4447064 (0)\ttotal: 34.9ms\tremaining: 12m 18s\n",
      "Stopped by overfitting detector  (50 iterations wait)\n",
      "\n",
      "bestTest = 12.46207523\n",
      "bestIteration = 10\n",
      "\n",
      "Shrink model to first 11 iterations.\n",
      "0:\tlearn: 12.4263797\ttest: 12.6310589\tbest: 12.6310589 (0)\ttotal: 32.7ms\tremaining: 11m 32s\n",
      "Stopped by overfitting detector  (50 iterations wait)\n",
      "\n",
      "bestTest = 11.63137926\n",
      "bestIteration = 7\n",
      "\n",
      "Shrink model to first 8 iterations.\n",
      "0:\tlearn: 12.5278666\ttest: 12.1901779\tbest: 12.1901779 (0)\ttotal: 33.1ms\tremaining: 11m 39s\n"
     ]
    },
    {
     "name": "stderr",
     "output_type": "stream",
     "text": [
      "\u001b[32m[I 2023-03-01 22:40:34,557]\u001b[0m Trial 15 finished with value: 147.26682259204583 and parameters: {'iterations': 21146, 'od_wait': 1650, 'learning_rate': 0.7707920011397293, 'reg_lambda': 24.6794540465063, 'subsample': 0.1919248778834265, 'random_strength': 20.272138515189642, 'depth': 13, 'min_data_in_leaf': 11, 'leaf_estimation_iterations': 11, 'bagging_temperature': 0.9131759560563033, 'colsample_bylevel': 0.7108160140816575}. Best is trial 11 with value: 157.34745165672928.\u001b[0m\n"
     ]
    },
    {
     "name": "stdout",
     "output_type": "stream",
     "text": [
      "Stopped by overfitting detector  (50 iterations wait)\n",
      "\n",
      "bestTest = 11.4694235\n",
      "bestIteration = 12\n",
      "\n",
      "Shrink model to first 13 iterations.\n",
      "0:\tlearn: 12.4002522\ttest: 12.6699183\tbest: 12.6699183 (0)\ttotal: 17.2ms\tremaining: 5m 36s\n"
     ]
    },
    {
     "name": "stderr",
     "output_type": "stream",
     "text": [
      "/var/folders/4l/84htqxwn14n0jr_xvdc4tpbr0000gn/T/ipykernel_64562/2551834662.py:6: FutureWarning: suggest_uniform has been deprecated in v3.0.0. This feature will be removed in v6.0.0. See https://github.com/optuna/optuna/releases/tag/v3.0.0. Use :func:`~optuna.trial.Trial.suggest_float` instead.\n",
      "  'learning_rate' : trial.suggest_uniform('learning_rate',0.01, 1),\n",
      "/var/folders/4l/84htqxwn14n0jr_xvdc4tpbr0000gn/T/ipykernel_64562/2551834662.py:7: FutureWarning: suggest_uniform has been deprecated in v3.0.0. This feature will be removed in v6.0.0. See https://github.com/optuna/optuna/releases/tag/v3.0.0. Use :func:`~optuna.trial.Trial.suggest_float` instead.\n",
      "  'reg_lambda': trial.suggest_uniform('reg_lambda',1e-5,100),\n",
      "/var/folders/4l/84htqxwn14n0jr_xvdc4tpbr0000gn/T/ipykernel_64562/2551834662.py:8: FutureWarning: suggest_uniform has been deprecated in v3.0.0. This feature will be removed in v6.0.0. See https://github.com/optuna/optuna/releases/tag/v3.0.0. Use :func:`~optuna.trial.Trial.suggest_float` instead.\n",
      "  'subsample': trial.suggest_uniform('subsample',0,1),\n",
      "/var/folders/4l/84htqxwn14n0jr_xvdc4tpbr0000gn/T/ipykernel_64562/2551834662.py:9: FutureWarning: suggest_uniform has been deprecated in v3.0.0. This feature will be removed in v6.0.0. See https://github.com/optuna/optuna/releases/tag/v3.0.0. Use :func:`~optuna.trial.Trial.suggest_float` instead.\n",
      "  'random_strength': trial.suggest_uniform('random_strength',10,50),\n",
      "/var/folders/4l/84htqxwn14n0jr_xvdc4tpbr0000gn/T/ipykernel_64562/2551834662.py:13: FutureWarning: suggest_loguniform has been deprecated in v3.0.0. This feature will be removed in v6.0.0. See https://github.com/optuna/optuna/releases/tag/v3.0.0. Use :func:`~optuna.trial.Trial.suggest_float` instead.\n",
      "  'bagging_temperature' :trial.suggest_loguniform('bagging_temperature', 0.01, 100.00),\n"
     ]
    },
    {
     "name": "stdout",
     "output_type": "stream",
     "text": [
      "Stopped by overfitting detector  (50 iterations wait)\n",
      "\n",
      "bestTest = 12.45806436\n",
      "bestIteration = 11\n",
      "\n",
      "Shrink model to first 12 iterations.\n",
      "0:\tlearn: 12.3602744\ttest: 13.2403275\tbest: 13.2403275 (0)\ttotal: 16.3ms\tremaining: 5m 18s\n",
      "Stopped by overfitting detector  (50 iterations wait)\n",
      "\n",
      "bestTest = 12.60058064\n",
      "bestIteration = 6\n",
      "\n",
      "Shrink model to first 7 iterations.\n",
      "0:\tlearn: 12.4192872\ttest: 12.8997717\tbest: 12.8997717 (0)\ttotal: 17ms\tremaining: 5m 32s\n",
      "Stopped by overfitting detector  (50 iterations wait)\n",
      "\n",
      "bestTest = 12.65055364\n",
      "bestIteration = 2\n",
      "\n",
      "Shrink model to first 3 iterations.\n",
      "0:\tlearn: 12.1150198\ttest: 12.7668023\tbest: 12.7668023 (0)\ttotal: 16.7ms\tremaining: 5m 27s\n",
      "Stopped by overfitting detector  (50 iterations wait)\n",
      "\n",
      "bestTest = 12.21179157\n",
      "bestIteration = 5\n",
      "\n",
      "Shrink model to first 6 iterations.\n",
      "0:\tlearn: 12.5325822\ttest: 12.3873168\tbest: 12.3873168 (0)\ttotal: 17.2ms\tremaining: 5m 36s\n",
      "Stopped by overfitting detector  (50 iterations wait)\n",
      "\n",
      "bestTest = 11.72749689\n",
      "bestIteration = 5\n",
      "\n",
      "Shrink model to first 6 iterations.\n",
      "0:\tlearn: 12.4625933\ttest: 12.4714856\tbest: 12.4714856 (0)\ttotal: 17.8ms\tremaining: 5m 49s\n",
      "Stopped by overfitting detector  (50 iterations wait)\n",
      "\n",
      "bestTest = 12.09052739\n",
      "bestIteration = 1\n",
      "\n",
      "Shrink model to first 2 iterations.\n",
      "0:\tlearn: 12.4586325\ttest: 12.7777145\tbest: 12.7777145 (0)\ttotal: 18.1ms\tremaining: 5m 54s\n",
      "Stopped by overfitting detector  (50 iterations wait)\n",
      "\n",
      "bestTest = 11.86506214\n",
      "bestIteration = 5\n",
      "\n",
      "Shrink model to first 6 iterations.\n",
      "0:\tlearn: 12.3793807\ttest: 13.3067615\tbest: 13.3067615 (0)\ttotal: 17.3ms\tremaining: 5m 39s\n",
      "Stopped by overfitting detector  (50 iterations wait)\n",
      "\n",
      "bestTest = 12.51831293\n",
      "bestIteration = 5\n",
      "\n",
      "Shrink model to first 6 iterations.\n",
      "0:\tlearn: 12.4684142\ttest: 12.3882911\tbest: 12.3882911 (0)\ttotal: 17ms\tremaining: 5m 32s\n",
      "Stopped by overfitting detector  (50 iterations wait)\n",
      "\n",
      "bestTest = 11.83373047\n",
      "bestIteration = 5\n",
      "\n",
      "Shrink model to first 6 iterations.\n",
      "0:\tlearn: 12.5182477\ttest: 12.2527293\tbest: 12.2527293 (0)\ttotal: 17.1ms\tremaining: 5m 35s\n"
     ]
    },
    {
     "name": "stderr",
     "output_type": "stream",
     "text": [
      "\u001b[32m[I 2023-03-01 22:40:45,540]\u001b[0m Trial 16 finished with value: 147.42251624585305 and parameters: {'iterations': 19610, 'od_wait': 1046, 'learning_rate': 0.8876598391180993, 'reg_lambda': 31.375676386212017, 'subsample': 0.349339678974399, 'random_strength': 19.93631482701388, 'depth': 12, 'min_data_in_leaf': 15, 'leaf_estimation_iterations': 7, 'bagging_temperature': 11.32705435356373, 'colsample_bylevel': 0.7710807720099797}. Best is trial 11 with value: 157.34745165672928.\u001b[0m\n"
     ]
    },
    {
     "name": "stdout",
     "output_type": "stream",
     "text": [
      "Stopped by overfitting detector  (50 iterations wait)\n",
      "\n",
      "bestTest = 11.39485548\n",
      "bestIteration = 11\n",
      "\n",
      "Shrink model to first 12 iterations.\n",
      "0:\tlearn: 12.8199608\ttest: 13.0916215\tbest: 13.0916215 (0)\ttotal: 1.66ms\tremaining: 36.9s\n",
      "Stopped by overfitting detector  (50 iterations wait)\n",
      "\n",
      "bestTest = 12.55511272\n",
      "bestIteration = 16\n",
      "\n",
      "Shrink model to first 17 iterations.\n",
      "0:\tlearn: 12.8319678\ttest: 13.2498445\tbest: 13.2498445 (0)\ttotal: 1.5ms\tremaining: 33.4s\n"
     ]
    },
    {
     "name": "stderr",
     "output_type": "stream",
     "text": [
      "/var/folders/4l/84htqxwn14n0jr_xvdc4tpbr0000gn/T/ipykernel_64562/2551834662.py:6: FutureWarning: suggest_uniform has been deprecated in v3.0.0. This feature will be removed in v6.0.0. See https://github.com/optuna/optuna/releases/tag/v3.0.0. Use :func:`~optuna.trial.Trial.suggest_float` instead.\n",
      "  'learning_rate' : trial.suggest_uniform('learning_rate',0.01, 1),\n",
      "/var/folders/4l/84htqxwn14n0jr_xvdc4tpbr0000gn/T/ipykernel_64562/2551834662.py:7: FutureWarning: suggest_uniform has been deprecated in v3.0.0. This feature will be removed in v6.0.0. See https://github.com/optuna/optuna/releases/tag/v3.0.0. Use :func:`~optuna.trial.Trial.suggest_float` instead.\n",
      "  'reg_lambda': trial.suggest_uniform('reg_lambda',1e-5,100),\n",
      "/var/folders/4l/84htqxwn14n0jr_xvdc4tpbr0000gn/T/ipykernel_64562/2551834662.py:8: FutureWarning: suggest_uniform has been deprecated in v3.0.0. This feature will be removed in v6.0.0. See https://github.com/optuna/optuna/releases/tag/v3.0.0. Use :func:`~optuna.trial.Trial.suggest_float` instead.\n",
      "  'subsample': trial.suggest_uniform('subsample',0,1),\n",
      "/var/folders/4l/84htqxwn14n0jr_xvdc4tpbr0000gn/T/ipykernel_64562/2551834662.py:9: FutureWarning: suggest_uniform has been deprecated in v3.0.0. This feature will be removed in v6.0.0. See https://github.com/optuna/optuna/releases/tag/v3.0.0. Use :func:`~optuna.trial.Trial.suggest_float` instead.\n",
      "  'random_strength': trial.suggest_uniform('random_strength',10,50),\n",
      "/var/folders/4l/84htqxwn14n0jr_xvdc4tpbr0000gn/T/ipykernel_64562/2551834662.py:13: FutureWarning: suggest_loguniform has been deprecated in v3.0.0. This feature will be removed in v6.0.0. See https://github.com/optuna/optuna/releases/tag/v3.0.0. Use :func:`~optuna.trial.Trial.suggest_float` instead.\n",
      "  'bagging_temperature' :trial.suggest_loguniform('bagging_temperature', 0.01, 100.00),\n"
     ]
    },
    {
     "name": "stdout",
     "output_type": "stream",
     "text": [
      "Stopped by overfitting detector  (50 iterations wait)\n",
      "\n",
      "bestTest = 12.22674634\n",
      "bestIteration = 11\n",
      "\n",
      "Shrink model to first 12 iterations.\n",
      "0:\tlearn: 12.8438275\ttest: 12.8937289\tbest: 12.8937289 (0)\ttotal: 1.21ms\tremaining: 26.9s\n",
      "Stopped by overfitting detector  (50 iterations wait)\n",
      "\n",
      "bestTest = 12.32589037\n",
      "bestIteration = 13\n",
      "\n",
      "Shrink model to first 14 iterations.\n",
      "0:\tlearn: 12.8094852\ttest: 13.3985250\tbest: 13.3985250 (0)\ttotal: 1.81ms\tremaining: 40.3s\n",
      "Stopped by overfitting detector  (50 iterations wait)\n",
      "\n",
      "bestTest = 12.14633544\n",
      "bestIteration = 68\n",
      "\n",
      "Shrink model to first 69 iterations.\n",
      "0:\tlearn: 12.8363926\ttest: 12.4724684\tbest: 12.4724684 (0)\ttotal: 1.33ms\tremaining: 29.5s\n",
      "Stopped by overfitting detector  (50 iterations wait)\n",
      "\n",
      "bestTest = 11.33674448\n",
      "bestIteration = 15\n",
      "\n",
      "Shrink model to first 16 iterations.\n",
      "0:\tlearn: 12.9423259\ttest: 12.4730412\tbest: 12.4730412 (0)\ttotal: 1.43ms\tremaining: 31.7s\n",
      "Stopped by overfitting detector  (50 iterations wait)\n",
      "\n",
      "bestTest = 11.91535178\n",
      "bestIteration = 10\n",
      "\n",
      "Shrink model to first 11 iterations.\n",
      "0:\tlearn: 12.9715969\ttest: 13.0213000\tbest: 13.0213000 (0)\ttotal: 1.3ms\tremaining: 29s\n",
      "Stopped by overfitting detector  (50 iterations wait)\n",
      "\n",
      "bestTest = 11.93889241\n",
      "bestIteration = 14\n",
      "\n",
      "Shrink model to first 15 iterations.\n",
      "0:\tlearn: 12.8075664\ttest: 13.4311919\tbest: 13.4311919 (0)\ttotal: 1.15ms\tremaining: 25.6s\n",
      "Stopped by overfitting detector  (50 iterations wait)\n",
      "\n",
      "bestTest = 12.55880041\n",
      "bestIteration = 12\n",
      "\n",
      "Shrink model to first 13 iterations.\n",
      "0:\tlearn: 12.8711595\ttest: 12.8227449\tbest: 12.8227449 (0)\ttotal: 1.34ms\tremaining: 29.7s\n",
      "Stopped by overfitting detector  (50 iterations wait)\n",
      "\n",
      "bestTest = 11.71705075\n",
      "bestIteration = 6\n",
      "\n",
      "Shrink model to first 7 iterations.\n",
      "0:\tlearn: 12.9225690\ttest: 12.4797471\tbest: 12.4797471 (0)\ttotal: 1.17ms\tremaining: 26s\n"
     ]
    },
    {
     "name": "stderr",
     "output_type": "stream",
     "text": [
      "\u001b[32m[I 2023-03-01 22:40:46,761]\u001b[0m Trial 17 finished with value: 143.84925535812178 and parameters: {'iterations': 22210, 'od_wait': 2011, 'learning_rate': 0.9943876384993949, 'reg_lambda': 23.52227694854924, 'subsample': 0.15335553682737907, 'random_strength': 10.447847460131232, 'depth': 6, 'min_data_in_leaf': 9, 'leaf_estimation_iterations': 12, 'bagging_temperature': 45.3319433378022, 'colsample_bylevel': 0.6684998844671542}. Best is trial 11 with value: 157.34745165672928.\u001b[0m\n"
     ]
    },
    {
     "name": "stdout",
     "output_type": "stream",
     "text": [
      "Stopped by overfitting detector  (50 iterations wait)\n",
      "\n",
      "bestTest = 11.12924307\n",
      "bestIteration = 13\n",
      "\n",
      "Shrink model to first 14 iterations.\n",
      "0:\tlearn: 13.1663118\ttest: 13.3084382\tbest: 13.3084382 (0)\ttotal: 26ms\tremaining: 4m 49s\n"
     ]
    },
    {
     "name": "stderr",
     "output_type": "stream",
     "text": [
      "/var/folders/4l/84htqxwn14n0jr_xvdc4tpbr0000gn/T/ipykernel_64562/2551834662.py:6: FutureWarning: suggest_uniform has been deprecated in v3.0.0. This feature will be removed in v6.0.0. See https://github.com/optuna/optuna/releases/tag/v3.0.0. Use :func:`~optuna.trial.Trial.suggest_float` instead.\n",
      "  'learning_rate' : trial.suggest_uniform('learning_rate',0.01, 1),\n",
      "/var/folders/4l/84htqxwn14n0jr_xvdc4tpbr0000gn/T/ipykernel_64562/2551834662.py:7: FutureWarning: suggest_uniform has been deprecated in v3.0.0. This feature will be removed in v6.0.0. See https://github.com/optuna/optuna/releases/tag/v3.0.0. Use :func:`~optuna.trial.Trial.suggest_float` instead.\n",
      "  'reg_lambda': trial.suggest_uniform('reg_lambda',1e-5,100),\n",
      "/var/folders/4l/84htqxwn14n0jr_xvdc4tpbr0000gn/T/ipykernel_64562/2551834662.py:8: FutureWarning: suggest_uniform has been deprecated in v3.0.0. This feature will be removed in v6.0.0. See https://github.com/optuna/optuna/releases/tag/v3.0.0. Use :func:`~optuna.trial.Trial.suggest_float` instead.\n",
      "  'subsample': trial.suggest_uniform('subsample',0,1),\n",
      "/var/folders/4l/84htqxwn14n0jr_xvdc4tpbr0000gn/T/ipykernel_64562/2551834662.py:9: FutureWarning: suggest_uniform has been deprecated in v3.0.0. This feature will be removed in v6.0.0. See https://github.com/optuna/optuna/releases/tag/v3.0.0. Use :func:`~optuna.trial.Trial.suggest_float` instead.\n",
      "  'random_strength': trial.suggest_uniform('random_strength',10,50),\n",
      "/var/folders/4l/84htqxwn14n0jr_xvdc4tpbr0000gn/T/ipykernel_64562/2551834662.py:13: FutureWarning: suggest_loguniform has been deprecated in v3.0.0. This feature will be removed in v6.0.0. See https://github.com/optuna/optuna/releases/tag/v3.0.0. Use :func:`~optuna.trial.Trial.suggest_float` instead.\n",
      "  'bagging_temperature' :trial.suggest_loguniform('bagging_temperature', 0.01, 100.00),\n"
     ]
    },
    {
     "name": "stdout",
     "output_type": "stream",
     "text": [
      "Stopped by overfitting detector  (50 iterations wait)\n",
      "\n",
      "bestTest = 12.14011693\n",
      "bestIteration = 12\n",
      "\n",
      "Shrink model to first 13 iterations.\n",
      "0:\tlearn: 13.1719297\ttest: 13.8961072\tbest: 13.8961072 (0)\ttotal: 25.9ms\tremaining: 4m 48s\n",
      "Stopped by overfitting detector  (50 iterations wait)\n",
      "\n",
      "bestTest = 11.84467145\n",
      "bestIteration = 9\n",
      "\n",
      "Shrink model to first 10 iterations.\n",
      "0:\tlearn: 13.1546658\ttest: 13.4745606\tbest: 13.4745606 (0)\ttotal: 26.3ms\tremaining: 4m 53s\n",
      "Stopped by overfitting detector  (50 iterations wait)\n",
      "\n",
      "bestTest = 12.23411842\n",
      "bestIteration = 4\n",
      "\n",
      "Shrink model to first 5 iterations.\n",
      "0:\tlearn: 13.1976633\ttest: 13.4875150\tbest: 13.4875150 (0)\ttotal: 28.1ms\tremaining: 5m 12s\n",
      "Stopped by overfitting detector  (50 iterations wait)\n",
      "\n",
      "bestTest = 12.02532121\n",
      "bestIteration = 15\n",
      "\n",
      "Shrink model to first 16 iterations.\n",
      "0:\tlearn: 13.3267673\ttest: 12.9323161\tbest: 12.9323161 (0)\ttotal: 26.8ms\tremaining: 4m 58s\n",
      "Stopped by overfitting detector  (50 iterations wait)\n",
      "\n",
      "bestTest = 11.64135597\n",
      "bestIteration = 10\n",
      "\n",
      "Shrink model to first 11 iterations.\n",
      "0:\tlearn: 13.2587515\ttest: 13.1954482\tbest: 13.1954482 (0)\ttotal: 26.7ms\tremaining: 4m 57s\n",
      "Stopped by overfitting detector  (50 iterations wait)\n",
      "\n",
      "bestTest = 12.08737177\n",
      "bestIteration = 3\n",
      "\n",
      "Shrink model to first 4 iterations.\n",
      "0:\tlearn: 13.1803156\ttest: 13.5984563\tbest: 13.5984563 (0)\ttotal: 26.9ms\tremaining: 5m\n",
      "Stopped by overfitting detector  (50 iterations wait)\n",
      "\n",
      "bestTest = 11.85057769\n",
      "bestIteration = 5\n",
      "\n",
      "Shrink model to first 6 iterations.\n",
      "0:\tlearn: 13.1725684\ttest: 14.2059040\tbest: 14.2059040 (0)\ttotal: 25.9ms\tremaining: 4m 48s\n",
      "Stopped by overfitting detector  (50 iterations wait)\n",
      "\n",
      "bestTest = 12.38099561\n",
      "bestIteration = 15\n",
      "\n",
      "Shrink model to first 16 iterations.\n",
      "0:\tlearn: 13.2608471\ttest: 13.5072139\tbest: 13.5072139 (0)\ttotal: 27.7ms\tremaining: 5m 8s\n",
      "Stopped by overfitting detector  (50 iterations wait)\n",
      "\n",
      "bestTest = 11.70587775\n",
      "bestIteration = 15\n",
      "\n",
      "Shrink model to first 16 iterations.\n",
      "0:\tlearn: 13.2358203\ttest: 12.7053556\tbest: 12.7053556 (0)\ttotal: 28ms\tremaining: 5m 11s\n"
     ]
    },
    {
     "name": "stderr",
     "output_type": "stream",
     "text": [
      "\u001b[32m[I 2023-03-01 22:41:04,321]\u001b[0m Trial 18 finished with value: 142.1534167051269 and parameters: {'iterations': 11142, 'od_wait': 1400, 'learning_rate': 0.6709227968087544, 'reg_lambda': 48.05958319958614, 'subsample': 0.31071887745956395, 'random_strength': 19.12706057002543, 'depth': 13, 'min_data_in_leaf': 5, 'leaf_estimation_iterations': 6, 'bagging_temperature': 84.48292165794048, 'colsample_bylevel': 0.5678334651848529}. Best is trial 11 with value: 157.34745165672928.\u001b[0m\n"
     ]
    },
    {
     "name": "stdout",
     "output_type": "stream",
     "text": [
      "Stopped by overfitting detector  (50 iterations wait)\n",
      "\n",
      "bestTest = 11.27807327\n",
      "bestIteration = 18\n",
      "\n",
      "Shrink model to first 19 iterations.\n",
      "0:\tlearn: 12.9136293\ttest: 13.3265488\tbest: 13.3265488 (0)\ttotal: 8.13ms\tremaining: 2m 35s\n"
     ]
    },
    {
     "name": "stderr",
     "output_type": "stream",
     "text": [
      "/var/folders/4l/84htqxwn14n0jr_xvdc4tpbr0000gn/T/ipykernel_64562/2551834662.py:6: FutureWarning: suggest_uniform has been deprecated in v3.0.0. This feature will be removed in v6.0.0. See https://github.com/optuna/optuna/releases/tag/v3.0.0. Use :func:`~optuna.trial.Trial.suggest_float` instead.\n",
      "  'learning_rate' : trial.suggest_uniform('learning_rate',0.01, 1),\n",
      "/var/folders/4l/84htqxwn14n0jr_xvdc4tpbr0000gn/T/ipykernel_64562/2551834662.py:7: FutureWarning: suggest_uniform has been deprecated in v3.0.0. This feature will be removed in v6.0.0. See https://github.com/optuna/optuna/releases/tag/v3.0.0. Use :func:`~optuna.trial.Trial.suggest_float` instead.\n",
      "  'reg_lambda': trial.suggest_uniform('reg_lambda',1e-5,100),\n",
      "/var/folders/4l/84htqxwn14n0jr_xvdc4tpbr0000gn/T/ipykernel_64562/2551834662.py:8: FutureWarning: suggest_uniform has been deprecated in v3.0.0. This feature will be removed in v6.0.0. See https://github.com/optuna/optuna/releases/tag/v3.0.0. Use :func:`~optuna.trial.Trial.suggest_float` instead.\n",
      "  'subsample': trial.suggest_uniform('subsample',0,1),\n",
      "/var/folders/4l/84htqxwn14n0jr_xvdc4tpbr0000gn/T/ipykernel_64562/2551834662.py:9: FutureWarning: suggest_uniform has been deprecated in v3.0.0. This feature will be removed in v6.0.0. See https://github.com/optuna/optuna/releases/tag/v3.0.0. Use :func:`~optuna.trial.Trial.suggest_float` instead.\n",
      "  'random_strength': trial.suggest_uniform('random_strength',10,50),\n",
      "/var/folders/4l/84htqxwn14n0jr_xvdc4tpbr0000gn/T/ipykernel_64562/2551834662.py:13: FutureWarning: suggest_loguniform has been deprecated in v3.0.0. This feature will be removed in v6.0.0. See https://github.com/optuna/optuna/releases/tag/v3.0.0. Use :func:`~optuna.trial.Trial.suggest_float` instead.\n",
      "  'bagging_temperature' :trial.suggest_loguniform('bagging_temperature', 0.01, 100.00),\n"
     ]
    },
    {
     "name": "stdout",
     "output_type": "stream",
     "text": [
      "Stopped by overfitting detector  (50 iterations wait)\n",
      "\n",
      "bestTest = 12.61464893\n",
      "bestIteration = 5\n",
      "\n",
      "Shrink model to first 6 iterations.\n",
      "0:\tlearn: 12.9793871\ttest: 13.8561811\tbest: 13.8561811 (0)\ttotal: 7.89ms\tremaining: 2m 30s\n",
      "Stopped by overfitting detector  (50 iterations wait)\n",
      "\n",
      "bestTest = 12.43778629\n",
      "bestIteration = 5\n",
      "\n",
      "Shrink model to first 6 iterations.\n",
      "0:\tlearn: 12.3339310\ttest: 12.6797568\tbest: 12.6797568 (0)\ttotal: 8.27ms\tremaining: 2m 37s\n",
      "Stopped by overfitting detector  (50 iterations wait)\n",
      "\n",
      "bestTest = 12.5675455\n",
      "bestIteration = 1\n",
      "\n",
      "Shrink model to first 2 iterations.\n",
      "0:\tlearn: 13.1411604\ttest: 13.5722830\tbest: 13.5722830 (0)\ttotal: 8.19ms\tremaining: 2m 36s\n",
      "Stopped by overfitting detector  (50 iterations wait)\n",
      "\n",
      "bestTest = 12.25391226\n",
      "bestIteration = 10\n",
      "\n",
      "Shrink model to first 11 iterations.\n",
      "0:\tlearn: 13.2844355\ttest: 12.9862084\tbest: 12.9862084 (0)\ttotal: 8.72ms\tremaining: 2m 46s\n",
      "Stopped by overfitting detector  (50 iterations wait)\n",
      "\n",
      "bestTest = 11.99591121\n",
      "bestIteration = 1\n",
      "\n",
      "Shrink model to first 2 iterations.\n",
      "0:\tlearn: 13.1713168\ttest: 13.5310040\tbest: 13.5310040 (0)\ttotal: 7.79ms\tremaining: 2m 28s\n",
      "Stopped by overfitting detector  (50 iterations wait)\n",
      "\n",
      "bestTest = 12.5662962\n",
      "bestIteration = 15\n",
      "\n",
      "Shrink model to first 16 iterations.\n",
      "0:\tlearn: 13.1379449\ttest: 13.5211460\tbest: 13.5211460 (0)\ttotal: 8.14ms\tremaining: 2m 35s\n",
      "Stopped by overfitting detector  (50 iterations wait)\n",
      "\n",
      "bestTest = 12.21275662\n",
      "bestIteration = 9\n",
      "\n",
      "Shrink model to first 10 iterations.\n",
      "0:\tlearn: 12.9182131\ttest: 14.2849967\tbest: 14.2849967 (0)\ttotal: 7.83ms\tremaining: 2m 29s\n",
      "Stopped by overfitting detector  (50 iterations wait)\n",
      "\n",
      "bestTest = 12.66378923\n",
      "bestIteration = 9\n",
      "\n",
      "Shrink model to first 10 iterations.\n",
      "0:\tlearn: 13.2420799\ttest: 13.5665665\tbest: 13.5665665 (0)\ttotal: 8.13ms\tremaining: 2m 35s\n",
      "Stopped by overfitting detector  (50 iterations wait)\n",
      "\n",
      "bestTest = 11.9183826\n",
      "bestIteration = 6\n",
      "\n",
      "Shrink model to first 7 iterations.\n",
      "0:\tlearn: 14.1696133\ttest: 13.5889612\tbest: 13.5889612 (0)\ttotal: 7.79ms\tremaining: 2m 28s\n"
     ]
    },
    {
     "name": "stderr",
     "output_type": "stream",
     "text": [
      "\u001b[32m[I 2023-03-01 22:41:09,627]\u001b[0m Trial 19 finished with value: 150.74785510715856 and parameters: {'iterations': 19093, 'od_wait': 1786, 'learning_rate': 0.8518204558420494, 'reg_lambda': 16.386825772304448, 'subsample': 0.004491086521995549, 'random_strength': 27.785163528662878, 'depth': 11, 'min_data_in_leaf': 15, 'leaf_estimation_iterations': 13, 'bagging_temperature': 6.240245771848243, 'colsample_bylevel': 0.5777613044202242}. Best is trial 11 with value: 157.34745165672928.\u001b[0m\n"
     ]
    },
    {
     "name": "stdout",
     "output_type": "stream",
     "text": [
      "Stopped by overfitting detector  (50 iterations wait)\n",
      "\n",
      "bestTest = 11.49628535\n",
      "bestIteration = 9\n",
      "\n",
      "Shrink model to first 10 iterations.\n",
      "0:\tlearn: 12.8468771\ttest: 12.9646511\tbest: 12.9646511 (0)\ttotal: 72ms\tremaining: 28m 3s\n"
     ]
    },
    {
     "name": "stderr",
     "output_type": "stream",
     "text": [
      "/var/folders/4l/84htqxwn14n0jr_xvdc4tpbr0000gn/T/ipykernel_64562/2551834662.py:6: FutureWarning: suggest_uniform has been deprecated in v3.0.0. This feature will be removed in v6.0.0. See https://github.com/optuna/optuna/releases/tag/v3.0.0. Use :func:`~optuna.trial.Trial.suggest_float` instead.\n",
      "  'learning_rate' : trial.suggest_uniform('learning_rate',0.01, 1),\n",
      "/var/folders/4l/84htqxwn14n0jr_xvdc4tpbr0000gn/T/ipykernel_64562/2551834662.py:7: FutureWarning: suggest_uniform has been deprecated in v3.0.0. This feature will be removed in v6.0.0. See https://github.com/optuna/optuna/releases/tag/v3.0.0. Use :func:`~optuna.trial.Trial.suggest_float` instead.\n",
      "  'reg_lambda': trial.suggest_uniform('reg_lambda',1e-5,100),\n",
      "/var/folders/4l/84htqxwn14n0jr_xvdc4tpbr0000gn/T/ipykernel_64562/2551834662.py:8: FutureWarning: suggest_uniform has been deprecated in v3.0.0. This feature will be removed in v6.0.0. See https://github.com/optuna/optuna/releases/tag/v3.0.0. Use :func:`~optuna.trial.Trial.suggest_float` instead.\n",
      "  'subsample': trial.suggest_uniform('subsample',0,1),\n",
      "/var/folders/4l/84htqxwn14n0jr_xvdc4tpbr0000gn/T/ipykernel_64562/2551834662.py:9: FutureWarning: suggest_uniform has been deprecated in v3.0.0. This feature will be removed in v6.0.0. See https://github.com/optuna/optuna/releases/tag/v3.0.0. Use :func:`~optuna.trial.Trial.suggest_float` instead.\n",
      "  'random_strength': trial.suggest_uniform('random_strength',10,50),\n",
      "/var/folders/4l/84htqxwn14n0jr_xvdc4tpbr0000gn/T/ipykernel_64562/2551834662.py:13: FutureWarning: suggest_loguniform has been deprecated in v3.0.0. This feature will be removed in v6.0.0. See https://github.com/optuna/optuna/releases/tag/v3.0.0. Use :func:`~optuna.trial.Trial.suggest_float` instead.\n",
      "  'bagging_temperature' :trial.suggest_loguniform('bagging_temperature', 0.01, 100.00),\n"
     ]
    },
    {
     "name": "stdout",
     "output_type": "stream",
     "text": [
      "Stopped by overfitting detector  (50 iterations wait)\n",
      "\n",
      "bestTest = 12.49306568\n",
      "bestIteration = 13\n",
      "\n",
      "Shrink model to first 14 iterations.\n",
      "0:\tlearn: 12.7551680\ttest: 13.5303749\tbest: 13.5303749 (0)\ttotal: 71.5ms\tremaining: 27m 51s\n",
      "Stopped by overfitting detector  (50 iterations wait)\n",
      "\n",
      "bestTest = 12.10896403\n",
      "bestIteration = 11\n",
      "\n",
      "Shrink model to first 12 iterations.\n",
      "0:\tlearn: 12.9143332\ttest: 13.2092230\tbest: 13.2092230 (0)\ttotal: 74ms\tremaining: 28m 49s\n",
      "Stopped by overfitting detector  (50 iterations wait)\n",
      "\n",
      "bestTest = 12.45282225\n",
      "bestIteration = 3\n",
      "\n",
      "Shrink model to first 4 iterations.\n",
      "0:\tlearn: 12.8514877\ttest: 13.2803880\tbest: 13.2803880 (0)\ttotal: 74.6ms\tremaining: 29m 3s\n",
      "Stopped by overfitting detector  (50 iterations wait)\n",
      "\n",
      "bestTest = 12.28863318\n",
      "bestIteration = 11\n",
      "\n",
      "Shrink model to first 12 iterations.\n",
      "0:\tlearn: 12.8950770\ttest: 12.5213442\tbest: 12.5213442 (0)\ttotal: 70.1ms\tremaining: 27m 19s\n",
      "Stopped by overfitting detector  (50 iterations wait)\n",
      "\n",
      "bestTest = 11.77609913\n",
      "bestIteration = 4\n",
      "\n",
      "Shrink model to first 5 iterations.\n",
      "0:\tlearn: 12.9050350\ttest: 12.9093536\tbest: 12.9093536 (0)\ttotal: 73.3ms\tremaining: 28m 32s\n",
      "Stopped by overfitting detector  (50 iterations wait)\n",
      "\n",
      "bestTest = 12.18253037\n",
      "bestIteration = 25\n",
      "\n",
      "Shrink model to first 26 iterations.\n",
      "0:\tlearn: 12.7400191\ttest: 13.0200071\tbest: 13.0200071 (0)\ttotal: 70.2ms\tremaining: 27m 20s\n",
      "Stopped by overfitting detector  (50 iterations wait)\n",
      "\n",
      "bestTest = 12.13292224\n",
      "bestIteration = 3\n",
      "\n",
      "Shrink model to first 4 iterations.\n",
      "0:\tlearn: 12.7440142\ttest: 13.8440708\tbest: 13.8440708 (0)\ttotal: 71.1ms\tremaining: 27m 40s\n",
      "Stopped by overfitting detector  (50 iterations wait)\n",
      "\n",
      "bestTest = 12.55596241\n",
      "bestIteration = 20\n",
      "\n",
      "Shrink model to first 21 iterations.\n",
      "0:\tlearn: 12.8436209\ttest: 13.0023221\tbest: 13.0023221 (0)\ttotal: 74ms\tremaining: 28m 49s\n",
      "Stopped by overfitting detector  (50 iterations wait)\n",
      "\n",
      "bestTest = 11.75231527\n",
      "bestIteration = 10\n",
      "\n",
      "Shrink model to first 11 iterations.\n",
      "0:\tlearn: 12.8377646\ttest: 12.5523156\tbest: 12.5523156 (0)\ttotal: 73.6ms\tremaining: 28m 39s\n"
     ]
    },
    {
     "name": "stderr",
     "output_type": "stream",
     "text": [
      "\u001b[32m[I 2023-03-01 22:41:55,613]\u001b[0m Trial 20 finished with value: 146.5948816836454 and parameters: {'iterations': 23375, 'od_wait': 2083, 'learning_rate': 0.7371448213869614, 'reg_lambda': 98.47380440515464, 'subsample': 0.13580294706851115, 'random_strength': 15.14009884375212, 'depth': 14, 'min_data_in_leaf': 11, 'leaf_estimation_iterations': 10, 'bagging_temperature': 1.3553222986221876, 'colsample_bylevel': 0.6710213568161132}. Best is trial 11 with value: 157.34745165672928.\u001b[0m\n"
     ]
    },
    {
     "name": "stdout",
     "output_type": "stream",
     "text": [
      "Stopped by overfitting detector  (50 iterations wait)\n",
      "\n",
      "bestTest = 11.27361362\n",
      "bestIteration = 7\n",
      "\n",
      "Shrink model to first 8 iterations.\n",
      "0:\tlearn: 12.0969684\ttest: 12.7444184\tbest: 12.7444184 (0)\ttotal: 157ms\tremaining: 57m 46s\n"
     ]
    },
    {
     "name": "stderr",
     "output_type": "stream",
     "text": [
      "/var/folders/4l/84htqxwn14n0jr_xvdc4tpbr0000gn/T/ipykernel_64562/2551834662.py:6: FutureWarning: suggest_uniform has been deprecated in v3.0.0. This feature will be removed in v6.0.0. See https://github.com/optuna/optuna/releases/tag/v3.0.0. Use :func:`~optuna.trial.Trial.suggest_float` instead.\n",
      "  'learning_rate' : trial.suggest_uniform('learning_rate',0.01, 1),\n",
      "/var/folders/4l/84htqxwn14n0jr_xvdc4tpbr0000gn/T/ipykernel_64562/2551834662.py:7: FutureWarning: suggest_uniform has been deprecated in v3.0.0. This feature will be removed in v6.0.0. See https://github.com/optuna/optuna/releases/tag/v3.0.0. Use :func:`~optuna.trial.Trial.suggest_float` instead.\n",
      "  'reg_lambda': trial.suggest_uniform('reg_lambda',1e-5,100),\n",
      "/var/folders/4l/84htqxwn14n0jr_xvdc4tpbr0000gn/T/ipykernel_64562/2551834662.py:8: FutureWarning: suggest_uniform has been deprecated in v3.0.0. This feature will be removed in v6.0.0. See https://github.com/optuna/optuna/releases/tag/v3.0.0. Use :func:`~optuna.trial.Trial.suggest_float` instead.\n",
      "  'subsample': trial.suggest_uniform('subsample',0,1),\n",
      "/var/folders/4l/84htqxwn14n0jr_xvdc4tpbr0000gn/T/ipykernel_64562/2551834662.py:9: FutureWarning: suggest_uniform has been deprecated in v3.0.0. This feature will be removed in v6.0.0. See https://github.com/optuna/optuna/releases/tag/v3.0.0. Use :func:`~optuna.trial.Trial.suggest_float` instead.\n",
      "  'random_strength': trial.suggest_uniform('random_strength',10,50),\n",
      "/var/folders/4l/84htqxwn14n0jr_xvdc4tpbr0000gn/T/ipykernel_64562/2551834662.py:13: FutureWarning: suggest_loguniform has been deprecated in v3.0.0. This feature will be removed in v6.0.0. See https://github.com/optuna/optuna/releases/tag/v3.0.0. Use :func:`~optuna.trial.Trial.suggest_float` instead.\n",
      "  'bagging_temperature' :trial.suggest_loguniform('bagging_temperature', 0.01, 100.00),\n"
     ]
    },
    {
     "name": "stdout",
     "output_type": "stream",
     "text": [
      "Stopped by overfitting detector  (50 iterations wait)\n",
      "\n",
      "bestTest = 12.66198985\n",
      "bestIteration = 2\n",
      "\n",
      "Shrink model to first 3 iterations.\n",
      "0:\tlearn: 12.0487117\ttest: 12.9564317\tbest: 12.9564317 (0)\ttotal: 155ms\tremaining: 57m 1s\n",
      "Stopped by overfitting detector  (50 iterations wait)\n",
      "\n",
      "bestTest = 12.47404698\n",
      "bestIteration = 2\n",
      "\n",
      "Shrink model to first 3 iterations.\n",
      "0:\tlearn: 12.0903084\ttest: 12.9493873\tbest: 12.9493873 (0)\ttotal: 154ms\tremaining: 56m 38s\n",
      "Stopped by overfitting detector  (50 iterations wait)\n",
      "\n",
      "bestTest = 12.82735982\n",
      "bestIteration = 5\n",
      "\n",
      "Shrink model to first 6 iterations.\n",
      "0:\tlearn: 12.0465096\ttest: 12.8820638\tbest: 12.8820638 (0)\ttotal: 157ms\tremaining: 57m 49s\n",
      "Stopped by overfitting detector  (50 iterations wait)\n",
      "\n",
      "bestTest = 12.43541844\n",
      "bestIteration = 6\n",
      "\n",
      "Shrink model to first 7 iterations.\n",
      "0:\tlearn: 12.1418922\ttest: 11.9888235\tbest: 11.9888235 (0)\ttotal: 155ms\tremaining: 56m 55s\n",
      "Stopped by overfitting detector  (50 iterations wait)\n",
      "\n",
      "bestTest = 11.87800815\n",
      "bestIteration = 1\n",
      "\n",
      "Shrink model to first 2 iterations.\n",
      "0:\tlearn: 12.1722803\ttest: 12.2258375\tbest: 12.2258375 (0)\ttotal: 160ms\tremaining: 58m 39s\n",
      "Stopped by overfitting detector  (50 iterations wait)\n",
      "\n",
      "bestTest = 11.84672559\n",
      "bestIteration = 5\n",
      "\n",
      "Shrink model to first 6 iterations.\n",
      "0:\tlearn: 12.0968756\ttest: 12.5127676\tbest: 12.5127676 (0)\ttotal: 162ms\tremaining: 59m 39s\n",
      "Stopped by overfitting detector  (50 iterations wait)\n",
      "\n",
      "bestTest = 12.41918672\n",
      "bestIteration = 1\n",
      "\n",
      "Shrink model to first 2 iterations.\n",
      "0:\tlearn: 12.0285998\ttest: 13.2903924\tbest: 13.2903924 (0)\ttotal: 156ms\tremaining: 57m 9s\n",
      "Stopped by overfitting detector  (50 iterations wait)\n",
      "\n",
      "bestTest = 12.72771748\n",
      "bestIteration = 3\n",
      "\n",
      "Shrink model to first 4 iterations.\n",
      "0:\tlearn: 12.1231249\ttest: 12.6141428\tbest: 12.6141428 (0)\ttotal: 158ms\tremaining: 58m 14s\n",
      "Stopped by overfitting detector  (50 iterations wait)\n",
      "\n",
      "bestTest = 12.07707778\n",
      "bestIteration = 1\n",
      "\n",
      "Shrink model to first 2 iterations.\n",
      "0:\tlearn: 12.1593466\ttest: 12.1209229\tbest: 12.1209229 (0)\ttotal: 164ms\tremaining: 1h 20s\n"
     ]
    },
    {
     "name": "stderr",
     "output_type": "stream",
     "text": [
      "\u001b[32m[I 2023-03-01 22:43:18,393]\u001b[0m Trial 21 finished with value: 151.13102777078967 and parameters: {'iterations': 22052, 'od_wait': 2194, 'learning_rate': 0.9435643151202604, 'reg_lambda': 49.0724030899527, 'subsample': 0.27491039721326993, 'random_strength': 10.15107136942276, 'depth': 15, 'min_data_in_leaf': 3, 'leaf_estimation_iterations': 15, 'bagging_temperature': 5.027605132329507, 'colsample_bylevel': 0.6232740160775111}. Best is trial 11 with value: 157.34745165672928.\u001b[0m\n"
     ]
    },
    {
     "name": "stdout",
     "output_type": "stream",
     "text": [
      "Stopped by overfitting detector  (50 iterations wait)\n",
      "\n",
      "bestTest = 11.51880495\n",
      "bestIteration = 4\n",
      "\n",
      "Shrink model to first 5 iterations.\n",
      "0:\tlearn: 12.1526973\ttest: 12.8779054\tbest: 12.8779054 (0)\ttotal: 33.4ms\tremaining: 11m 45s\n"
     ]
    },
    {
     "name": "stderr",
     "output_type": "stream",
     "text": [
      "/var/folders/4l/84htqxwn14n0jr_xvdc4tpbr0000gn/T/ipykernel_64562/2551834662.py:6: FutureWarning: suggest_uniform has been deprecated in v3.0.0. This feature will be removed in v6.0.0. See https://github.com/optuna/optuna/releases/tag/v3.0.0. Use :func:`~optuna.trial.Trial.suggest_float` instead.\n",
      "  'learning_rate' : trial.suggest_uniform('learning_rate',0.01, 1),\n",
      "/var/folders/4l/84htqxwn14n0jr_xvdc4tpbr0000gn/T/ipykernel_64562/2551834662.py:7: FutureWarning: suggest_uniform has been deprecated in v3.0.0. This feature will be removed in v6.0.0. See https://github.com/optuna/optuna/releases/tag/v3.0.0. Use :func:`~optuna.trial.Trial.suggest_float` instead.\n",
      "  'reg_lambda': trial.suggest_uniform('reg_lambda',1e-5,100),\n",
      "/var/folders/4l/84htqxwn14n0jr_xvdc4tpbr0000gn/T/ipykernel_64562/2551834662.py:8: FutureWarning: suggest_uniform has been deprecated in v3.0.0. This feature will be removed in v6.0.0. See https://github.com/optuna/optuna/releases/tag/v3.0.0. Use :func:`~optuna.trial.Trial.suggest_float` instead.\n",
      "  'subsample': trial.suggest_uniform('subsample',0,1),\n",
      "/var/folders/4l/84htqxwn14n0jr_xvdc4tpbr0000gn/T/ipykernel_64562/2551834662.py:9: FutureWarning: suggest_uniform has been deprecated in v3.0.0. This feature will be removed in v6.0.0. See https://github.com/optuna/optuna/releases/tag/v3.0.0. Use :func:`~optuna.trial.Trial.suggest_float` instead.\n",
      "  'random_strength': trial.suggest_uniform('random_strength',10,50),\n",
      "/var/folders/4l/84htqxwn14n0jr_xvdc4tpbr0000gn/T/ipykernel_64562/2551834662.py:13: FutureWarning: suggest_loguniform has been deprecated in v3.0.0. This feature will be removed in v6.0.0. See https://github.com/optuna/optuna/releases/tag/v3.0.0. Use :func:`~optuna.trial.Trial.suggest_float` instead.\n",
      "  'bagging_temperature' :trial.suggest_loguniform('bagging_temperature', 0.01, 100.00),\n"
     ]
    },
    {
     "name": "stdout",
     "output_type": "stream",
     "text": [
      "Stopped by overfitting detector  (50 iterations wait)\n",
      "\n",
      "bestTest = 12.59349872\n",
      "bestIteration = 3\n",
      "\n",
      "Shrink model to first 4 iterations.\n",
      "0:\tlearn: 12.0726854\ttest: 12.8805860\tbest: 12.8805860 (0)\ttotal: 33.5ms\tremaining: 11m 48s\n",
      "Stopped by overfitting detector  (50 iterations wait)\n",
      "\n",
      "bestTest = 12.56954577\n",
      "bestIteration = 3\n",
      "\n",
      "Shrink model to first 4 iterations.\n",
      "0:\tlearn: 12.1210126\ttest: 12.6622483\tbest: 12.6622483 (0)\ttotal: 34.1ms\tremaining: 12m\n",
      "Stopped by overfitting detector  (50 iterations wait)\n",
      "\n",
      "bestTest = 12.66224826\n",
      "bestIteration = 0\n",
      "\n",
      "Shrink model to first 1 iterations.\n",
      "0:\tlearn: 12.1021533\ttest: 12.9532241\tbest: 12.9532241 (0)\ttotal: 32.2ms\tremaining: 11m 21s\n",
      "Stopped by overfitting detector  (50 iterations wait)\n",
      "\n",
      "bestTest = 12.56322865\n",
      "bestIteration = 14\n",
      "\n",
      "Shrink model to first 15 iterations.\n",
      "0:\tlearn: 12.1268790\ttest: 12.1607480\tbest: 12.1607480 (0)\ttotal: 32.1ms\tremaining: 11m 18s\n",
      "Stopped by overfitting detector  (50 iterations wait)\n",
      "\n",
      "bestTest = 12.0538129\n",
      "bestIteration = 2\n",
      "\n",
      "Shrink model to first 3 iterations.\n",
      "0:\tlearn: 12.1998625\ttest: 12.5161748\tbest: 12.5161748 (0)\ttotal: 33ms\tremaining: 11m 37s\n",
      "Stopped by overfitting detector  (50 iterations wait)\n",
      "\n",
      "bestTest = 12.47380142\n",
      "bestIteration = 9\n",
      "\n",
      "Shrink model to first 10 iterations.\n",
      "0:\tlearn: 11.9411474\ttest: 12.4307941\tbest: 12.4307941 (0)\ttotal: 33.1ms\tremaining: 11m 40s\n",
      "Stopped by overfitting detector  (50 iterations wait)\n",
      "\n",
      "bestTest = 12.17202125\n",
      "bestIteration = 10\n",
      "\n",
      "Shrink model to first 11 iterations.\n",
      "0:\tlearn: 12.0171318\ttest: 13.3913413\tbest: 13.3913413 (0)\ttotal: 32.7ms\tremaining: 11m 31s\n",
      "Stopped by overfitting detector  (50 iterations wait)\n",
      "\n",
      "bestTest = 12.9494503\n",
      "bestIteration = 6\n",
      "\n",
      "Shrink model to first 7 iterations.\n",
      "0:\tlearn: 12.1210633\ttest: 12.5329223\tbest: 12.5329223 (0)\ttotal: 33.1ms\tremaining: 11m 40s\n",
      "Stopped by overfitting detector  (50 iterations wait)\n",
      "\n",
      "bestTest = 11.96010464\n",
      "bestIteration = 2\n",
      "\n",
      "Shrink model to first 3 iterations.\n",
      "0:\tlearn: 12.1591305\ttest: 12.0597027\tbest: 12.0597027 (0)\ttotal: 32.1ms\tremaining: 11m 19s\n"
     ]
    },
    {
     "name": "stderr",
     "output_type": "stream",
     "text": [
      "\u001b[32m[I 2023-03-01 22:43:36,828]\u001b[0m Trial 22 finished with value: 152.8153868812763 and parameters: {'iterations': 21166, 'od_wait': 1902, 'learning_rate': 0.9944615117223387, 'reg_lambda': 56.6866762083813, 'subsample': 0.21042751761687656, 'random_strength': 10.056340777620912, 'depth': 13, 'min_data_in_leaf': 30, 'leaf_estimation_iterations': 15, 'bagging_temperature': 5.91587102502321, 'colsample_bylevel': 0.6326656480419427}. Best is trial 11 with value: 157.34745165672928.\u001b[0m\n"
     ]
    },
    {
     "name": "stdout",
     "output_type": "stream",
     "text": [
      "Stopped by overfitting detector  (50 iterations wait)\n",
      "\n",
      "bestTest = 11.5592533\n",
      "bestIteration = 8\n",
      "\n",
      "Shrink model to first 9 iterations.\n",
      "0:\tlearn: 13.0498408\ttest: 13.3825397\tbest: 13.3825397 (0)\ttotal: 80.3ms\tremaining: 23m 39s\n"
     ]
    },
    {
     "name": "stderr",
     "output_type": "stream",
     "text": [
      "/var/folders/4l/84htqxwn14n0jr_xvdc4tpbr0000gn/T/ipykernel_64562/2551834662.py:6: FutureWarning: suggest_uniform has been deprecated in v3.0.0. This feature will be removed in v6.0.0. See https://github.com/optuna/optuna/releases/tag/v3.0.0. Use :func:`~optuna.trial.Trial.suggest_float` instead.\n",
      "  'learning_rate' : trial.suggest_uniform('learning_rate',0.01, 1),\n",
      "/var/folders/4l/84htqxwn14n0jr_xvdc4tpbr0000gn/T/ipykernel_64562/2551834662.py:7: FutureWarning: suggest_uniform has been deprecated in v3.0.0. This feature will be removed in v6.0.0. See https://github.com/optuna/optuna/releases/tag/v3.0.0. Use :func:`~optuna.trial.Trial.suggest_float` instead.\n",
      "  'reg_lambda': trial.suggest_uniform('reg_lambda',1e-5,100),\n",
      "/var/folders/4l/84htqxwn14n0jr_xvdc4tpbr0000gn/T/ipykernel_64562/2551834662.py:8: FutureWarning: suggest_uniform has been deprecated in v3.0.0. This feature will be removed in v6.0.0. See https://github.com/optuna/optuna/releases/tag/v3.0.0. Use :func:`~optuna.trial.Trial.suggest_float` instead.\n",
      "  'subsample': trial.suggest_uniform('subsample',0,1),\n",
      "/var/folders/4l/84htqxwn14n0jr_xvdc4tpbr0000gn/T/ipykernel_64562/2551834662.py:9: FutureWarning: suggest_uniform has been deprecated in v3.0.0. This feature will be removed in v6.0.0. See https://github.com/optuna/optuna/releases/tag/v3.0.0. Use :func:`~optuna.trial.Trial.suggest_float` instead.\n",
      "  'random_strength': trial.suggest_uniform('random_strength',10,50),\n",
      "/var/folders/4l/84htqxwn14n0jr_xvdc4tpbr0000gn/T/ipykernel_64562/2551834662.py:13: FutureWarning: suggest_loguniform has been deprecated in v3.0.0. This feature will be removed in v6.0.0. See https://github.com/optuna/optuna/releases/tag/v3.0.0. Use :func:`~optuna.trial.Trial.suggest_float` instead.\n",
      "  'bagging_temperature' :trial.suggest_loguniform('bagging_temperature', 0.01, 100.00),\n"
     ]
    },
    {
     "name": "stdout",
     "output_type": "stream",
     "text": [
      "Stopped by overfitting detector  (50 iterations wait)\n",
      "\n",
      "bestTest = 12.71240123\n",
      "bestIteration = 10\n",
      "\n",
      "Shrink model to first 11 iterations.\n",
      "0:\tlearn: 12.8465976\ttest: 13.5698140\tbest: 13.5698140 (0)\ttotal: 76.5ms\tremaining: 22m 33s\n",
      "Stopped by overfitting detector  (50 iterations wait)\n",
      "\n",
      "bestTest = 12.33651225\n",
      "bestIteration = 9\n",
      "\n",
      "Shrink model to first 10 iterations.\n",
      "0:\tlearn: 12.9512169\ttest: 13.6845221\tbest: 13.6845221 (0)\ttotal: 81.2ms\tremaining: 23m 56s\n",
      "Stopped by overfitting detector  (50 iterations wait)\n",
      "\n",
      "bestTest = 12.79281646\n",
      "bestIteration = 1\n",
      "\n",
      "Shrink model to first 2 iterations.\n",
      "0:\tlearn: 12.9979964\ttest: 13.3525462\tbest: 13.3525462 (0)\ttotal: 81ms\tremaining: 23m 52s\n",
      "Stopped by overfitting detector  (50 iterations wait)\n",
      "\n",
      "bestTest = 12.298798\n",
      "bestIteration = 6\n",
      "\n",
      "Shrink model to first 7 iterations.\n",
      "0:\tlearn: 13.1668528\ttest: 12.8933597\tbest: 12.8933597 (0)\ttotal: 77.2ms\tremaining: 22m 44s\n",
      "Stopped by overfitting detector  (50 iterations wait)\n",
      "\n",
      "bestTest = 11.92445689\n",
      "bestIteration = 11\n",
      "\n",
      "Shrink model to first 12 iterations.\n",
      "0:\tlearn: 12.9824944\ttest: 13.2794686\tbest: 13.2794686 (0)\ttotal: 76.1ms\tremaining: 22m 26s\n",
      "Stopped by overfitting detector  (50 iterations wait)\n",
      "\n",
      "bestTest = 12.24969776\n",
      "bestIteration = 9\n",
      "\n",
      "Shrink model to first 10 iterations.\n",
      "0:\tlearn: 12.8166107\ttest: 13.4490786\tbest: 13.4490786 (0)\ttotal: 77.7ms\tremaining: 22m 53s\n",
      "Stopped by overfitting detector  (50 iterations wait)\n",
      "\n",
      "bestTest = 12.34504521\n",
      "bestIteration = 2\n",
      "\n",
      "Shrink model to first 3 iterations.\n",
      "0:\tlearn: 12.8896809\ttest: 14.0380548\tbest: 14.0380548 (0)\ttotal: 77.2ms\tremaining: 22m 45s\n",
      "Stopped by overfitting detector  (50 iterations wait)\n",
      "\n",
      "bestTest = 12.75149926\n",
      "bestIteration = 11\n",
      "\n",
      "Shrink model to first 12 iterations.\n",
      "0:\tlearn: 12.9752257\ttest: 13.2761673\tbest: 13.2761673 (0)\ttotal: 74.1ms\tremaining: 21m 49s\n",
      "Stopped by overfitting detector  (50 iterations wait)\n",
      "\n",
      "bestTest = 11.85197937\n",
      "bestIteration = 5\n",
      "\n",
      "Shrink model to first 6 iterations.\n",
      "0:\tlearn: 13.0676048\ttest: 12.5890549\tbest: 12.5890549 (0)\ttotal: 80.9ms\tremaining: 23m 50s\n"
     ]
    },
    {
     "name": "stderr",
     "output_type": "stream",
     "text": [
      "\u001b[32m[I 2023-03-01 22:44:21,142]\u001b[0m Trial 23 finished with value: 150.40204483703607 and parameters: {'iterations': 17679, 'od_wait': 2138, 'learning_rate': 0.8698920847090796, 'reg_lambda': 40.79153098701784, 'subsample': 0.12896749298321042, 'random_strength': 13.472054710132994, 'depth': 14, 'min_data_in_leaf': 7, 'leaf_estimation_iterations': 13, 'bagging_temperature': 2.467572507712514, 'colsample_bylevel': 0.6861570091461737}. Best is trial 11 with value: 157.34745165672928.\u001b[0m\n"
     ]
    },
    {
     "name": "stdout",
     "output_type": "stream",
     "text": [
      "Stopped by overfitting detector  (50 iterations wait)\n",
      "\n",
      "bestTest = 11.29562416\n",
      "bestIteration = 7\n",
      "\n",
      "Shrink model to first 8 iterations.\n",
      "0:\tlearn: 12.1112691\ttest: 12.5998045\tbest: 12.5998045 (0)\ttotal: 8.75ms\tremaining: 3m 37s\n"
     ]
    },
    {
     "name": "stderr",
     "output_type": "stream",
     "text": [
      "/var/folders/4l/84htqxwn14n0jr_xvdc4tpbr0000gn/T/ipykernel_64562/2551834662.py:6: FutureWarning: suggest_uniform has been deprecated in v3.0.0. This feature will be removed in v6.0.0. See https://github.com/optuna/optuna/releases/tag/v3.0.0. Use :func:`~optuna.trial.Trial.suggest_float` instead.\n",
      "  'learning_rate' : trial.suggest_uniform('learning_rate',0.01, 1),\n",
      "/var/folders/4l/84htqxwn14n0jr_xvdc4tpbr0000gn/T/ipykernel_64562/2551834662.py:7: FutureWarning: suggest_uniform has been deprecated in v3.0.0. This feature will be removed in v6.0.0. See https://github.com/optuna/optuna/releases/tag/v3.0.0. Use :func:`~optuna.trial.Trial.suggest_float` instead.\n",
      "  'reg_lambda': trial.suggest_uniform('reg_lambda',1e-5,100),\n",
      "/var/folders/4l/84htqxwn14n0jr_xvdc4tpbr0000gn/T/ipykernel_64562/2551834662.py:8: FutureWarning: suggest_uniform has been deprecated in v3.0.0. This feature will be removed in v6.0.0. See https://github.com/optuna/optuna/releases/tag/v3.0.0. Use :func:`~optuna.trial.Trial.suggest_float` instead.\n",
      "  'subsample': trial.suggest_uniform('subsample',0,1),\n",
      "/var/folders/4l/84htqxwn14n0jr_xvdc4tpbr0000gn/T/ipykernel_64562/2551834662.py:9: FutureWarning: suggest_uniform has been deprecated in v3.0.0. This feature will be removed in v6.0.0. See https://github.com/optuna/optuna/releases/tag/v3.0.0. Use :func:`~optuna.trial.Trial.suggest_float` instead.\n",
      "  'random_strength': trial.suggest_uniform('random_strength',10,50),\n",
      "/var/folders/4l/84htqxwn14n0jr_xvdc4tpbr0000gn/T/ipykernel_64562/2551834662.py:13: FutureWarning: suggest_loguniform has been deprecated in v3.0.0. This feature will be removed in v6.0.0. See https://github.com/optuna/optuna/releases/tag/v3.0.0. Use :func:`~optuna.trial.Trial.suggest_float` instead.\n",
      "  'bagging_temperature' :trial.suggest_loguniform('bagging_temperature', 0.01, 100.00),\n"
     ]
    },
    {
     "name": "stdout",
     "output_type": "stream",
     "text": [
      "Stopped by overfitting detector  (50 iterations wait)\n",
      "\n",
      "bestTest = 12.32059238\n",
      "bestIteration = 1\n",
      "\n",
      "Shrink model to first 2 iterations.\n",
      "0:\tlearn: 12.1449157\ttest: 12.6432888\tbest: 12.6432888 (0)\ttotal: 8.63ms\tremaining: 3m 34s\n",
      "Stopped by overfitting detector  (50 iterations wait)\n",
      "\n",
      "bestTest = 12.15959725\n",
      "bestIteration = 1\n",
      "\n",
      "Shrink model to first 2 iterations.\n",
      "0:\tlearn: 11.9541665\ttest: 12.5600357\tbest: 12.5600357 (0)\ttotal: 8.76ms\tremaining: 3m 38s\n",
      "Stopped by overfitting detector  (50 iterations wait)\n",
      "\n",
      "bestTest = 12.17835534\n",
      "bestIteration = 2\n",
      "\n",
      "Shrink model to first 3 iterations.\n",
      "0:\tlearn: 12.0935623\ttest: 12.6797295\tbest: 12.6797295 (0)\ttotal: 9.02ms\tremaining: 3m 44s\n",
      "Stopped by overfitting detector  (50 iterations wait)\n",
      "\n",
      "bestTest = 12.05022577\n",
      "bestIteration = 12\n",
      "\n",
      "Shrink model to first 13 iterations.\n",
      "0:\tlearn: 12.0232442\ttest: 11.9708514\tbest: 11.9708514 (0)\ttotal: 9.05ms\tremaining: 3m 45s\n",
      "Stopped by overfitting detector  (50 iterations wait)\n",
      "\n",
      "bestTest = 11.44810278\n",
      "bestIteration = 3\n",
      "\n",
      "Shrink model to first 4 iterations.\n",
      "0:\tlearn: 12.1366240\ttest: 12.3534595\tbest: 12.3534595 (0)\ttotal: 8.54ms\tremaining: 3m 32s\n",
      "Stopped by overfitting detector  (50 iterations wait)\n",
      "\n",
      "bestTest = 12.15947253\n",
      "bestIteration = 2\n",
      "\n",
      "Shrink model to first 3 iterations.\n",
      "0:\tlearn: 12.2328356\ttest: 12.4153995\tbest: 12.4153995 (0)\ttotal: 8.54ms\tremaining: 3m 32s\n",
      "Stopped by overfitting detector  (50 iterations wait)\n",
      "\n",
      "bestTest = 11.88549572\n",
      "bestIteration = 3\n",
      "\n",
      "Shrink model to first 4 iterations.\n",
      "0:\tlearn: 12.0484676\ttest: 13.2563469\tbest: 13.2563469 (0)\ttotal: 8.36ms\tremaining: 3m 28s\n",
      "Stopped by overfitting detector  (50 iterations wait)\n",
      "\n",
      "bestTest = 12.64913958\n",
      "bestIteration = 4\n",
      "\n",
      "Shrink model to first 5 iterations.\n",
      "0:\tlearn: 12.2292509\ttest: 12.4408877\tbest: 12.4408877 (0)\ttotal: 8.56ms\tremaining: 3m 33s\n",
      "Stopped by overfitting detector  (50 iterations wait)\n",
      "\n",
      "bestTest = 11.83660647\n",
      "bestIteration = 2\n",
      "\n",
      "Shrink model to first 3 iterations.\n",
      "0:\tlearn: 12.1908528\ttest: 11.9353862\tbest: 11.9353862 (0)\ttotal: 9.02ms\tremaining: 3m 44s\n"
     ]
    },
    {
     "name": "stderr",
     "output_type": "stream",
     "text": [
      "\u001b[32m[I 2023-03-01 22:44:26,237]\u001b[0m Trial 24 finished with value: 144.74523259319932 and parameters: {'iterations': 24896, 'od_wait': 2294, 'learning_rate': 0.9226976596117815, 'reg_lambda': 46.45385362418083, 'subsample': 0.3481092428243333, 'random_strength': 17.972916951654696, 'depth': 11, 'min_data_in_leaf': 3, 'leaf_estimation_iterations': 14, 'bagging_temperature': 0.7054046690158426, 'colsample_bylevel': 0.5946675813876694}. Best is trial 11 with value: 157.34745165672928.\u001b[0m\n"
     ]
    },
    {
     "name": "stdout",
     "output_type": "stream",
     "text": [
      "Stopped by overfitting detector  (50 iterations wait)\n",
      "\n",
      "bestTest = 11.57568225\n",
      "bestIteration = 3\n",
      "\n",
      "Shrink model to first 4 iterations.\n",
      "0:\tlearn: 11.9696041\ttest: 12.8493312\tbest: 12.8493312 (0)\ttotal: 54.2ms\tremaining: 18m 34s\n"
     ]
    },
    {
     "name": "stderr",
     "output_type": "stream",
     "text": [
      "/var/folders/4l/84htqxwn14n0jr_xvdc4tpbr0000gn/T/ipykernel_64562/2551834662.py:6: FutureWarning: suggest_uniform has been deprecated in v3.0.0. This feature will be removed in v6.0.0. See https://github.com/optuna/optuna/releases/tag/v3.0.0. Use :func:`~optuna.trial.Trial.suggest_float` instead.\n",
      "  'learning_rate' : trial.suggest_uniform('learning_rate',0.01, 1),\n",
      "/var/folders/4l/84htqxwn14n0jr_xvdc4tpbr0000gn/T/ipykernel_64562/2551834662.py:7: FutureWarning: suggest_uniform has been deprecated in v3.0.0. This feature will be removed in v6.0.0. See https://github.com/optuna/optuna/releases/tag/v3.0.0. Use :func:`~optuna.trial.Trial.suggest_float` instead.\n",
      "  'reg_lambda': trial.suggest_uniform('reg_lambda',1e-5,100),\n",
      "/var/folders/4l/84htqxwn14n0jr_xvdc4tpbr0000gn/T/ipykernel_64562/2551834662.py:8: FutureWarning: suggest_uniform has been deprecated in v3.0.0. This feature will be removed in v6.0.0. See https://github.com/optuna/optuna/releases/tag/v3.0.0. Use :func:`~optuna.trial.Trial.suggest_float` instead.\n",
      "  'subsample': trial.suggest_uniform('subsample',0,1),\n",
      "/var/folders/4l/84htqxwn14n0jr_xvdc4tpbr0000gn/T/ipykernel_64562/2551834662.py:9: FutureWarning: suggest_uniform has been deprecated in v3.0.0. This feature will be removed in v6.0.0. See https://github.com/optuna/optuna/releases/tag/v3.0.0. Use :func:`~optuna.trial.Trial.suggest_float` instead.\n",
      "  'random_strength': trial.suggest_uniform('random_strength',10,50),\n",
      "/var/folders/4l/84htqxwn14n0jr_xvdc4tpbr0000gn/T/ipykernel_64562/2551834662.py:13: FutureWarning: suggest_loguniform has been deprecated in v3.0.0. This feature will be removed in v6.0.0. See https://github.com/optuna/optuna/releases/tag/v3.0.0. Use :func:`~optuna.trial.Trial.suggest_float` instead.\n",
      "  'bagging_temperature' :trial.suggest_loguniform('bagging_temperature', 0.01, 100.00),\n"
     ]
    },
    {
     "name": "stdout",
     "output_type": "stream",
     "text": [
      "Stopped by overfitting detector  (50 iterations wait)\n",
      "\n",
      "bestTest = 12.52946827\n",
      "bestIteration = 4\n",
      "\n",
      "Shrink model to first 5 iterations.\n",
      "0:\tlearn: 12.1165619\ttest: 13.0178483\tbest: 13.0178483 (0)\ttotal: 57.6ms\tremaining: 19m 44s\n",
      "Stopped by overfitting detector  (50 iterations wait)\n",
      "\n",
      "bestTest = 12.28615393\n",
      "bestIteration = 5\n",
      "\n",
      "Shrink model to first 6 iterations.\n",
      "0:\tlearn: 12.1025306\ttest: 13.0465343\tbest: 13.0465343 (0)\ttotal: 53.8ms\tremaining: 18m 26s\n",
      "Stopped by overfitting detector  (50 iterations wait)\n",
      "\n",
      "bestTest = 12.71919822\n",
      "bestIteration = 2\n",
      "\n",
      "Shrink model to first 3 iterations.\n",
      "0:\tlearn: 12.1278254\ttest: 12.7428068\tbest: 12.7428068 (0)\ttotal: 57.5ms\tremaining: 19m 41s\n",
      "Stopped by overfitting detector  (50 iterations wait)\n",
      "\n",
      "bestTest = 12.47627005\n",
      "bestIteration = 2\n",
      "\n",
      "Shrink model to first 3 iterations.\n",
      "0:\tlearn: 12.1550228\ttest: 12.2273365\tbest: 12.2273365 (0)\ttotal: 56ms\tremaining: 19m 9s\n",
      "Stopped by overfitting detector  (50 iterations wait)\n",
      "\n",
      "bestTest = 11.82003164\n",
      "bestIteration = 2\n",
      "\n",
      "Shrink model to first 3 iterations.\n",
      "0:\tlearn: 12.1667983\ttest: 12.6666872\tbest: 12.6666872 (0)\ttotal: 58ms\tremaining: 19m 51s\n",
      "Stopped by overfitting detector  (50 iterations wait)\n",
      "\n",
      "bestTest = 12.42788786\n",
      "bestIteration = 2\n",
      "\n",
      "Shrink model to first 3 iterations.\n",
      "0:\tlearn: 12.1506828\ttest: 12.8364282\tbest: 12.8364282 (0)\ttotal: 57ms\tremaining: 19m 32s\n",
      "Stopped by overfitting detector  (50 iterations wait)\n",
      "\n",
      "bestTest = 12.30771547\n",
      "bestIteration = 4\n",
      "\n",
      "Shrink model to first 5 iterations.\n",
      "0:\tlearn: 12.1261323\ttest: 13.2146584\tbest: 13.2146584 (0)\ttotal: 55.8ms\tremaining: 19m 7s\n",
      "Stopped by overfitting detector  (50 iterations wait)\n",
      "\n",
      "bestTest = 12.70862366\n",
      "bestIteration = 10\n",
      "\n",
      "Shrink model to first 11 iterations.\n",
      "0:\tlearn: 12.1298881\ttest: 12.2542194\tbest: 12.2542194 (0)\ttotal: 52.9ms\tremaining: 18m 7s\n",
      "Stopped by overfitting detector  (50 iterations wait)\n",
      "\n",
      "bestTest = 11.61948502\n",
      "bestIteration = 2\n",
      "\n",
      "Shrink model to first 3 iterations.\n",
      "0:\tlearn: 12.0770724\ttest: 12.0437090\tbest: 12.0437090 (0)\ttotal: 56.2ms\tremaining: 19m 14s\n"
     ]
    },
    {
     "name": "stderr",
     "output_type": "stream",
     "text": [
      "\u001b[32m[I 2023-03-01 22:44:58,984]\u001b[0m Trial 25 finished with value: 150.06662710961308 and parameters: {'iterations': 20549, 'od_wait': 1737, 'learning_rate': 0.7987711923827686, 'reg_lambda': 31.824067132401826, 'subsample': 0.23452049075018147, 'random_strength': 13.940031397246091, 'depth': 14, 'min_data_in_leaf': 1, 'leaf_estimation_iterations': 11, 'bagging_temperature': 8.589604887752769, 'colsample_bylevel': 0.5377504853756437}. Best is trial 11 with value: 157.34745165672928.\u001b[0m\n"
     ]
    },
    {
     "name": "stdout",
     "output_type": "stream",
     "text": [
      "Stopped by overfitting detector  (50 iterations wait)\n",
      "\n",
      "bestTest = 11.53806085\n",
      "bestIteration = 3\n",
      "\n",
      "Shrink model to first 4 iterations.\n",
      "0:\tlearn: 12.9797401\ttest: 13.4228796\tbest: 13.4228796 (0)\ttotal: 169ms\tremaining: 51m 25s\n"
     ]
    },
    {
     "name": "stderr",
     "output_type": "stream",
     "text": [
      "/var/folders/4l/84htqxwn14n0jr_xvdc4tpbr0000gn/T/ipykernel_64562/2551834662.py:6: FutureWarning: suggest_uniform has been deprecated in v3.0.0. This feature will be removed in v6.0.0. See https://github.com/optuna/optuna/releases/tag/v3.0.0. Use :func:`~optuna.trial.Trial.suggest_float` instead.\n",
      "  'learning_rate' : trial.suggest_uniform('learning_rate',0.01, 1),\n",
      "/var/folders/4l/84htqxwn14n0jr_xvdc4tpbr0000gn/T/ipykernel_64562/2551834662.py:7: FutureWarning: suggest_uniform has been deprecated in v3.0.0. This feature will be removed in v6.0.0. See https://github.com/optuna/optuna/releases/tag/v3.0.0. Use :func:`~optuna.trial.Trial.suggest_float` instead.\n",
      "  'reg_lambda': trial.suggest_uniform('reg_lambda',1e-5,100),\n",
      "/var/folders/4l/84htqxwn14n0jr_xvdc4tpbr0000gn/T/ipykernel_64562/2551834662.py:8: FutureWarning: suggest_uniform has been deprecated in v3.0.0. This feature will be removed in v6.0.0. See https://github.com/optuna/optuna/releases/tag/v3.0.0. Use :func:`~optuna.trial.Trial.suggest_float` instead.\n",
      "  'subsample': trial.suggest_uniform('subsample',0,1),\n",
      "/var/folders/4l/84htqxwn14n0jr_xvdc4tpbr0000gn/T/ipykernel_64562/2551834662.py:9: FutureWarning: suggest_uniform has been deprecated in v3.0.0. This feature will be removed in v6.0.0. See https://github.com/optuna/optuna/releases/tag/v3.0.0. Use :func:`~optuna.trial.Trial.suggest_float` instead.\n",
      "  'random_strength': trial.suggest_uniform('random_strength',10,50),\n",
      "/var/folders/4l/84htqxwn14n0jr_xvdc4tpbr0000gn/T/ipykernel_64562/2551834662.py:13: FutureWarning: suggest_loguniform has been deprecated in v3.0.0. This feature will be removed in v6.0.0. See https://github.com/optuna/optuna/releases/tag/v3.0.0. Use :func:`~optuna.trial.Trial.suggest_float` instead.\n",
      "  'bagging_temperature' :trial.suggest_loguniform('bagging_temperature', 0.01, 100.00),\n"
     ]
    },
    {
     "name": "stdout",
     "output_type": "stream",
     "text": [
      "Stopped by overfitting detector  (50 iterations wait)\n",
      "\n",
      "bestTest = 12.69962983\n",
      "bestIteration = 2\n",
      "\n",
      "Shrink model to first 3 iterations.\n",
      "0:\tlearn: 12.8611387\ttest: 13.7326046\tbest: 13.7326046 (0)\ttotal: 167ms\tremaining: 50m 51s\n",
      "Stopped by overfitting detector  (50 iterations wait)\n",
      "\n",
      "bestTest = 12.12783079\n",
      "bestIteration = 3\n",
      "\n",
      "Shrink model to first 4 iterations.\n",
      "0:\tlearn: 12.0308038\ttest: 12.6779356\tbest: 12.6779356 (0)\ttotal: 164ms\tremaining: 50m 2s\n",
      "Stopped by overfitting detector  (50 iterations wait)\n",
      "\n",
      "bestTest = 12.47782217\n",
      "bestIteration = 2\n",
      "\n",
      "Shrink model to first 3 iterations.\n",
      "0:\tlearn: 11.9985907\ttest: 12.5280043\tbest: 12.5280043 (0)\ttotal: 167ms\tremaining: 50m 50s\n",
      "Stopped by overfitting detector  (50 iterations wait)\n",
      "\n",
      "bestTest = 12.16272173\n",
      "bestIteration = 9\n",
      "\n",
      "Shrink model to first 10 iterations.\n",
      "0:\tlearn: 11.9862771\ttest: 12.1354939\tbest: 12.1354939 (0)\ttotal: 188ms\tremaining: 57m 25s\n",
      "Stopped by overfitting detector  (50 iterations wait)\n",
      "\n",
      "bestTest = 11.89141987\n",
      "bestIteration = 2\n",
      "\n",
      "Shrink model to first 3 iterations.\n",
      "0:\tlearn: 13.0885893\ttest: 13.3046676\tbest: 13.3046676 (0)\ttotal: 170ms\tremaining: 51m 42s\n",
      "Stopped by overfitting detector  (50 iterations wait)\n",
      "\n",
      "bestTest = 12.03546681\n",
      "bestIteration = 4\n",
      "\n",
      "Shrink model to first 5 iterations.\n",
      "0:\tlearn: 12.1860104\ttest: 12.6522564\tbest: 12.6522564 (0)\ttotal: 167ms\tremaining: 50m 47s\n",
      "Stopped by overfitting detector  (50 iterations wait)\n",
      "\n",
      "bestTest = 12.02194135\n",
      "bestIteration = 3\n",
      "\n",
      "Shrink model to first 4 iterations.\n",
      "0:\tlearn: 12.8736964\ttest: 14.2048625\tbest: 14.2048625 (0)\ttotal: 168ms\tremaining: 51m 21s\n",
      "Stopped by overfitting detector  (50 iterations wait)\n",
      "\n",
      "bestTest = 12.67649534\n",
      "bestIteration = 6\n",
      "\n",
      "Shrink model to first 7 iterations.\n",
      "0:\tlearn: 12.1213511\ttest: 12.2549339\tbest: 12.2549339 (0)\ttotal: 169ms\tremaining: 51m 37s\n",
      "Stopped by overfitting detector  (50 iterations wait)\n",
      "\n",
      "bestTest = 11.78390018\n",
      "bestIteration = 4\n",
      "\n",
      "Shrink model to first 5 iterations.\n",
      "0:\tlearn: 12.0766383\ttest: 11.8739217\tbest: 11.8739217 (0)\ttotal: 176ms\tremaining: 53m 46s\n"
     ]
    },
    {
     "name": "stderr",
     "output_type": "stream",
     "text": [
      "\u001b[32m[I 2023-03-01 22:46:38,148]\u001b[0m Trial 26 finished with value: 146.93140549518333 and parameters: {'iterations': 18301, 'od_wait': 1554, 'learning_rate': 0.8961069333601704, 'reg_lambda': 59.10401882708556, 'subsample': 0.09146643328565592, 'random_strength': 12.32369671803692, 'depth': 15, 'min_data_in_leaf': 5, 'leaf_estimation_iterations': 12, 'bagging_temperature': 3.6156036312956332, 'colsample_bylevel': 0.7454822075554018}. Best is trial 11 with value: 157.34745165672928.\u001b[0m\n"
     ]
    },
    {
     "name": "stdout",
     "output_type": "stream",
     "text": [
      "Stopped by overfitting detector  (50 iterations wait)\n",
      "\n",
      "bestTest = 11.26863299\n",
      "bestIteration = 7\n",
      "\n",
      "Shrink model to first 8 iterations.\n",
      "0:\tlearn: 12.1714134\ttest: 12.7954822\tbest: 12.7954822 (0)\ttotal: 18.8ms\tremaining: 7m 20s\n"
     ]
    },
    {
     "name": "stderr",
     "output_type": "stream",
     "text": [
      "/var/folders/4l/84htqxwn14n0jr_xvdc4tpbr0000gn/T/ipykernel_64562/2551834662.py:6: FutureWarning: suggest_uniform has been deprecated in v3.0.0. This feature will be removed in v6.0.0. See https://github.com/optuna/optuna/releases/tag/v3.0.0. Use :func:`~optuna.trial.Trial.suggest_float` instead.\n",
      "  'learning_rate' : trial.suggest_uniform('learning_rate',0.01, 1),\n",
      "/var/folders/4l/84htqxwn14n0jr_xvdc4tpbr0000gn/T/ipykernel_64562/2551834662.py:7: FutureWarning: suggest_uniform has been deprecated in v3.0.0. This feature will be removed in v6.0.0. See https://github.com/optuna/optuna/releases/tag/v3.0.0. Use :func:`~optuna.trial.Trial.suggest_float` instead.\n",
      "  'reg_lambda': trial.suggest_uniform('reg_lambda',1e-5,100),\n",
      "/var/folders/4l/84htqxwn14n0jr_xvdc4tpbr0000gn/T/ipykernel_64562/2551834662.py:8: FutureWarning: suggest_uniform has been deprecated in v3.0.0. This feature will be removed in v6.0.0. See https://github.com/optuna/optuna/releases/tag/v3.0.0. Use :func:`~optuna.trial.Trial.suggest_float` instead.\n",
      "  'subsample': trial.suggest_uniform('subsample',0,1),\n",
      "/var/folders/4l/84htqxwn14n0jr_xvdc4tpbr0000gn/T/ipykernel_64562/2551834662.py:9: FutureWarning: suggest_uniform has been deprecated in v3.0.0. This feature will be removed in v6.0.0. See https://github.com/optuna/optuna/releases/tag/v3.0.0. Use :func:`~optuna.trial.Trial.suggest_float` instead.\n",
      "  'random_strength': trial.suggest_uniform('random_strength',10,50),\n",
      "/var/folders/4l/84htqxwn14n0jr_xvdc4tpbr0000gn/T/ipykernel_64562/2551834662.py:13: FutureWarning: suggest_loguniform has been deprecated in v3.0.0. This feature will be removed in v6.0.0. See https://github.com/optuna/optuna/releases/tag/v3.0.0. Use :func:`~optuna.trial.Trial.suggest_float` instead.\n",
      "  'bagging_temperature' :trial.suggest_loguniform('bagging_temperature', 0.01, 100.00),\n"
     ]
    },
    {
     "name": "stdout",
     "output_type": "stream",
     "text": [
      "Stopped by overfitting detector  (50 iterations wait)\n",
      "\n",
      "bestTest = 12.67721743\n",
      "bestIteration = 1\n",
      "\n",
      "Shrink model to first 2 iterations.\n",
      "0:\tlearn: 12.2003530\ttest: 12.9125207\tbest: 12.9125207 (0)\ttotal: 18.2ms\tremaining: 7m 4s\n",
      "Stopped by overfitting detector  (50 iterations wait)\n",
      "\n",
      "bestTest = 12.37642869\n",
      "bestIteration = 10\n",
      "\n",
      "Shrink model to first 11 iterations.\n",
      "0:\tlearn: 12.2724679\ttest: 12.7557025\tbest: 12.7557025 (0)\ttotal: 17.8ms\tremaining: 6m 56s\n",
      "Stopped by overfitting detector  (50 iterations wait)\n",
      "\n",
      "bestTest = 12.57737431\n",
      "bestIteration = 5\n",
      "\n",
      "Shrink model to first 6 iterations.\n",
      "0:\tlearn: 12.2229353\ttest: 12.9814954\tbest: 12.9814954 (0)\ttotal: 18.5ms\tremaining: 7m 11s\n",
      "Stopped by overfitting detector  (50 iterations wait)\n",
      "\n",
      "bestTest = 12.72860952\n",
      "bestIteration = 10\n",
      "\n",
      "Shrink model to first 11 iterations.\n",
      "0:\tlearn: 13.1596585\ttest: 12.7109357\tbest: 12.7109357 (0)\ttotal: 18.4ms\tremaining: 7m 11s\n",
      "Stopped by overfitting detector  (50 iterations wait)\n",
      "\n",
      "bestTest = 12.05816011\n",
      "bestIteration = 1\n",
      "\n",
      "Shrink model to first 2 iterations.\n",
      "0:\tlearn: 12.3716338\ttest: 12.3359730\tbest: 12.3359730 (0)\ttotal: 18.2ms\tremaining: 7m 4s\n",
      "Stopped by overfitting detector  (50 iterations wait)\n",
      "\n",
      "bestTest = 12.22393757\n",
      "bestIteration = 9\n",
      "\n",
      "Shrink model to first 10 iterations.\n",
      "0:\tlearn: 12.1004306\ttest: 12.4075374\tbest: 12.4075374 (0)\ttotal: 17.6ms\tremaining: 6m 52s\n",
      "Stopped by overfitting detector  (50 iterations wait)\n",
      "\n",
      "bestTest = 12.22188418\n",
      "bestIteration = 7\n",
      "\n",
      "Shrink model to first 8 iterations.\n",
      "0:\tlearn: 12.2115502\ttest: 13.3144348\tbest: 13.3144348 (0)\ttotal: 19ms\tremaining: 7m 24s\n",
      "Stopped by overfitting detector  (50 iterations wait)\n",
      "\n",
      "bestTest = 12.59850559\n",
      "bestIteration = 8\n",
      "\n",
      "Shrink model to first 9 iterations.\n",
      "0:\tlearn: 12.2571396\ttest: 12.5327804\tbest: 12.5327804 (0)\ttotal: 17.8ms\tremaining: 6m 56s\n",
      "Stopped by overfitting detector  (50 iterations wait)\n",
      "\n",
      "bestTest = 11.90725238\n",
      "bestIteration = 6\n",
      "\n",
      "Shrink model to first 7 iterations.\n",
      "0:\tlearn: 12.2982502\ttest: 11.9968296\tbest: 11.9968296 (0)\ttotal: 17.7ms\tremaining: 6m 54s\n"
     ]
    },
    {
     "name": "stderr",
     "output_type": "stream",
     "text": [
      "\u001b[32m[I 2023-03-01 22:46:48,293]\u001b[0m Trial 27 finished with value: 151.26283841147068 and parameters: {'iterations': 23381, 'od_wait': 859, 'learning_rate': 0.9993762234609884, 'reg_lambda': 65.78447743547268, 'subsample': 0.1631720543121815, 'random_strength': 17.812891315521323, 'depth': 12, 'min_data_in_leaf': 9, 'leaf_estimation_iterations': 14, 'bagging_temperature': 1.906533772525001, 'colsample_bylevel': 0.6466874667884787}. Best is trial 11 with value: 157.34745165672928.\u001b[0m\n"
     ]
    },
    {
     "name": "stdout",
     "output_type": "stream",
     "text": [
      "Stopped by overfitting detector  (50 iterations wait)\n",
      "\n",
      "bestTest = 11.56846485\n",
      "bestIteration = 16\n",
      "\n",
      "Shrink model to first 17 iterations.\n",
      "0:\tlearn: 14.9544323\ttest: 14.8661389\tbest: 14.8661389 (0)\ttotal: 83ms\tremaining: 22m 28s\n"
     ]
    },
    {
     "name": "stderr",
     "output_type": "stream",
     "text": [
      "/var/folders/4l/84htqxwn14n0jr_xvdc4tpbr0000gn/T/ipykernel_64562/2551834662.py:6: FutureWarning: suggest_uniform has been deprecated in v3.0.0. This feature will be removed in v6.0.0. See https://github.com/optuna/optuna/releases/tag/v3.0.0. Use :func:`~optuna.trial.Trial.suggest_float` instead.\n",
      "  'learning_rate' : trial.suggest_uniform('learning_rate',0.01, 1),\n",
      "/var/folders/4l/84htqxwn14n0jr_xvdc4tpbr0000gn/T/ipykernel_64562/2551834662.py:7: FutureWarning: suggest_uniform has been deprecated in v3.0.0. This feature will be removed in v6.0.0. See https://github.com/optuna/optuna/releases/tag/v3.0.0. Use :func:`~optuna.trial.Trial.suggest_float` instead.\n",
      "  'reg_lambda': trial.suggest_uniform('reg_lambda',1e-5,100),\n",
      "/var/folders/4l/84htqxwn14n0jr_xvdc4tpbr0000gn/T/ipykernel_64562/2551834662.py:8: FutureWarning: suggest_uniform has been deprecated in v3.0.0. This feature will be removed in v6.0.0. See https://github.com/optuna/optuna/releases/tag/v3.0.0. Use :func:`~optuna.trial.Trial.suggest_float` instead.\n",
      "  'subsample': trial.suggest_uniform('subsample',0,1),\n",
      "/var/folders/4l/84htqxwn14n0jr_xvdc4tpbr0000gn/T/ipykernel_64562/2551834662.py:9: FutureWarning: suggest_uniform has been deprecated in v3.0.0. This feature will be removed in v6.0.0. See https://github.com/optuna/optuna/releases/tag/v3.0.0. Use :func:`~optuna.trial.Trial.suggest_float` instead.\n",
      "  'random_strength': trial.suggest_uniform('random_strength',10,50),\n",
      "/var/folders/4l/84htqxwn14n0jr_xvdc4tpbr0000gn/T/ipykernel_64562/2551834662.py:13: FutureWarning: suggest_loguniform has been deprecated in v3.0.0. This feature will be removed in v6.0.0. See https://github.com/optuna/optuna/releases/tag/v3.0.0. Use :func:`~optuna.trial.Trial.suggest_float` instead.\n",
      "  'bagging_temperature' :trial.suggest_loguniform('bagging_temperature', 0.01, 100.00),\n",
      "\u001b[33m[W 2023-03-01 22:46:48,858]\u001b[0m Trial 28 failed with parameters: {'iterations': 16259, 'od_wait': 1998, 'learning_rate': 0.8262771629438, 'reg_lambda': 50.29918122255846, 'subsample': 0.00024577479710952144, 'random_strength': 13.004373363600239, 'depth': 14, 'min_data_in_leaf': 13, 'leaf_estimation_iterations': 15, 'bagging_temperature': 9.938405679008959, 'colsample_bylevel': 0.7090204668587123} because of the following error: CatBoostError('catboost/private/libs/algo/tensor_search_helpers.cpp:543: Too few sampling units (subsample=0.000245775, bootstrap_type=MVS): please increase sampling rate or disable sampling').\u001b[0m\n",
      "Traceback (most recent call last):\n",
      "  File \"/Users/junho/opt/anaconda3/lib/python3.9/site-packages/optuna/study/_optimize.py\", line 200, in _run_trial\n",
      "    value_or_values = func(trial)\n",
      "  File \"/var/folders/4l/84htqxwn14n0jr_xvdc4tpbr0000gn/T/ipykernel_64562/2551834662.py\", line 24, in cat_objective\n",
      "    model.fit(X_train,\n",
      "  File \"/Users/junho/opt/anaconda3/lib/python3.9/site-packages/catboost/core.py\", line 5590, in fit\n",
      "    return self._fit(X, y, cat_features, None, None, None, sample_weight, None, None, None, None, baseline,\n",
      "  File \"/Users/junho/opt/anaconda3/lib/python3.9/site-packages/catboost/core.py\", line 2278, in _fit\n",
      "    self._train(\n",
      "  File \"/Users/junho/opt/anaconda3/lib/python3.9/site-packages/catboost/core.py\", line 1705, in _train\n",
      "    self._object._train(train_pool, test_pool, params, allow_clear_pool, init_model._object if init_model else None)\n",
      "  File \"_catboost.pyx\", line 4585, in _catboost._CatBoost._train\n",
      "  File \"_catboost.pyx\", line 4634, in _catboost._CatBoost._train\n",
      "_catboost.CatBoostError: catboost/private/libs/algo/tensor_search_helpers.cpp:543: Too few sampling units (subsample=0.000245775, bootstrap_type=MVS): please increase sampling rate or disable sampling\n",
      "\u001b[33m[W 2023-03-01 22:46:48,860]\u001b[0m Trial 28 failed with value None.\u001b[0m\n"
     ]
    },
    {
     "ename": "CatBoostError",
     "evalue": "catboost/private/libs/algo/tensor_search_helpers.cpp:543: Too few sampling units (subsample=0.000245775, bootstrap_type=MVS): please increase sampling rate or disable sampling",
     "output_type": "error",
     "traceback": [
      "\u001b[0;31m---------------------------------------------------------------------------\u001b[0m",
      "\u001b[0;31mCatBoostError\u001b[0m                             Traceback (most recent call last)",
      "Input \u001b[0;32mIn [52]\u001b[0m, in \u001b[0;36m<cell line: 2>\u001b[0;34m()\u001b[0m\n\u001b[1;32m      1\u001b[0m study \u001b[38;5;241m=\u001b[39m optuna\u001b[38;5;241m.\u001b[39mcreate_study(direction\u001b[38;5;241m=\u001b[39m\u001b[38;5;124m'\u001b[39m\u001b[38;5;124mmaximize\u001b[39m\u001b[38;5;124m'\u001b[39m, sampler \u001b[38;5;241m=\u001b[39m TPESampler())\n\u001b[0;32m----> 2\u001b[0m \u001b[43mstudy\u001b[49m\u001b[38;5;241;43m.\u001b[39;49m\u001b[43moptimize\u001b[49m\u001b[43m(\u001b[49m\u001b[43mfunc\u001b[49m\u001b[38;5;241;43m=\u001b[39;49m\u001b[43mcat_objective\u001b[49m\u001b[43m,\u001b[49m\u001b[43m \u001b[49m\u001b[43mn_trials\u001b[49m\u001b[38;5;241;43m=\u001b[39;49m\u001b[38;5;241;43m50\u001b[39;49m\u001b[43m)\u001b[49m\n\u001b[1;32m      3\u001b[0m study\u001b[38;5;241m.\u001b[39mbest_params\n",
      "File \u001b[0;32m~/opt/anaconda3/lib/python3.9/site-packages/optuna/study/study.py:425\u001b[0m, in \u001b[0;36mStudy.optimize\u001b[0;34m(self, func, n_trials, timeout, n_jobs, catch, callbacks, gc_after_trial, show_progress_bar)\u001b[0m\n\u001b[1;32m    321\u001b[0m \u001b[38;5;28;01mdef\u001b[39;00m \u001b[38;5;21moptimize\u001b[39m(\n\u001b[1;32m    322\u001b[0m     \u001b[38;5;28mself\u001b[39m,\n\u001b[1;32m    323\u001b[0m     func: ObjectiveFuncType,\n\u001b[0;32m   (...)\u001b[0m\n\u001b[1;32m    330\u001b[0m     show_progress_bar: \u001b[38;5;28mbool\u001b[39m \u001b[38;5;241m=\u001b[39m \u001b[38;5;28;01mFalse\u001b[39;00m,\n\u001b[1;32m    331\u001b[0m ) \u001b[38;5;241m-\u001b[39m\u001b[38;5;241m>\u001b[39m \u001b[38;5;28;01mNone\u001b[39;00m:\n\u001b[1;32m    332\u001b[0m     \u001b[38;5;124;03m\"\"\"Optimize an objective function.\u001b[39;00m\n\u001b[1;32m    333\u001b[0m \n\u001b[1;32m    334\u001b[0m \u001b[38;5;124;03m    Optimization is done by choosing a suitable set of hyperparameter values from a given\u001b[39;00m\n\u001b[0;32m   (...)\u001b[0m\n\u001b[1;32m    422\u001b[0m \u001b[38;5;124;03m            If nested invocation of this method occurs.\u001b[39;00m\n\u001b[1;32m    423\u001b[0m \u001b[38;5;124;03m    \"\"\"\u001b[39;00m\n\u001b[0;32m--> 425\u001b[0m     \u001b[43m_optimize\u001b[49m\u001b[43m(\u001b[49m\n\u001b[1;32m    426\u001b[0m \u001b[43m        \u001b[49m\u001b[43mstudy\u001b[49m\u001b[38;5;241;43m=\u001b[39;49m\u001b[38;5;28;43mself\u001b[39;49m\u001b[43m,\u001b[49m\n\u001b[1;32m    427\u001b[0m \u001b[43m        \u001b[49m\u001b[43mfunc\u001b[49m\u001b[38;5;241;43m=\u001b[39;49m\u001b[43mfunc\u001b[49m\u001b[43m,\u001b[49m\n\u001b[1;32m    428\u001b[0m \u001b[43m        \u001b[49m\u001b[43mn_trials\u001b[49m\u001b[38;5;241;43m=\u001b[39;49m\u001b[43mn_trials\u001b[49m\u001b[43m,\u001b[49m\n\u001b[1;32m    429\u001b[0m \u001b[43m        \u001b[49m\u001b[43mtimeout\u001b[49m\u001b[38;5;241;43m=\u001b[39;49m\u001b[43mtimeout\u001b[49m\u001b[43m,\u001b[49m\n\u001b[1;32m    430\u001b[0m \u001b[43m        \u001b[49m\u001b[43mn_jobs\u001b[49m\u001b[38;5;241;43m=\u001b[39;49m\u001b[43mn_jobs\u001b[49m\u001b[43m,\u001b[49m\n\u001b[1;32m    431\u001b[0m \u001b[43m        \u001b[49m\u001b[43mcatch\u001b[49m\u001b[38;5;241;43m=\u001b[39;49m\u001b[38;5;28;43mtuple\u001b[39;49m\u001b[43m(\u001b[49m\u001b[43mcatch\u001b[49m\u001b[43m)\u001b[49m\u001b[43m \u001b[49m\u001b[38;5;28;43;01mif\u001b[39;49;00m\u001b[43m \u001b[49m\u001b[38;5;28;43misinstance\u001b[39;49m\u001b[43m(\u001b[49m\u001b[43mcatch\u001b[49m\u001b[43m,\u001b[49m\u001b[43m \u001b[49m\u001b[43mIterable\u001b[49m\u001b[43m)\u001b[49m\u001b[43m \u001b[49m\u001b[38;5;28;43;01melse\u001b[39;49;00m\u001b[43m \u001b[49m\u001b[43m(\u001b[49m\u001b[43mcatch\u001b[49m\u001b[43m,\u001b[49m\u001b[43m)\u001b[49m\u001b[43m,\u001b[49m\n\u001b[1;32m    432\u001b[0m \u001b[43m        \u001b[49m\u001b[43mcallbacks\u001b[49m\u001b[38;5;241;43m=\u001b[39;49m\u001b[43mcallbacks\u001b[49m\u001b[43m,\u001b[49m\n\u001b[1;32m    433\u001b[0m \u001b[43m        \u001b[49m\u001b[43mgc_after_trial\u001b[49m\u001b[38;5;241;43m=\u001b[39;49m\u001b[43mgc_after_trial\u001b[49m\u001b[43m,\u001b[49m\n\u001b[1;32m    434\u001b[0m \u001b[43m        \u001b[49m\u001b[43mshow_progress_bar\u001b[49m\u001b[38;5;241;43m=\u001b[39;49m\u001b[43mshow_progress_bar\u001b[49m\u001b[43m,\u001b[49m\n\u001b[1;32m    435\u001b[0m \u001b[43m    \u001b[49m\u001b[43m)\u001b[49m\n",
      "File \u001b[0;32m~/opt/anaconda3/lib/python3.9/site-packages/optuna/study/_optimize.py:66\u001b[0m, in \u001b[0;36m_optimize\u001b[0;34m(study, func, n_trials, timeout, n_jobs, catch, callbacks, gc_after_trial, show_progress_bar)\u001b[0m\n\u001b[1;32m     64\u001b[0m \u001b[38;5;28;01mtry\u001b[39;00m:\n\u001b[1;32m     65\u001b[0m     \u001b[38;5;28;01mif\u001b[39;00m n_jobs \u001b[38;5;241m==\u001b[39m \u001b[38;5;241m1\u001b[39m:\n\u001b[0;32m---> 66\u001b[0m         \u001b[43m_optimize_sequential\u001b[49m\u001b[43m(\u001b[49m\n\u001b[1;32m     67\u001b[0m \u001b[43m            \u001b[49m\u001b[43mstudy\u001b[49m\u001b[43m,\u001b[49m\n\u001b[1;32m     68\u001b[0m \u001b[43m            \u001b[49m\u001b[43mfunc\u001b[49m\u001b[43m,\u001b[49m\n\u001b[1;32m     69\u001b[0m \u001b[43m            \u001b[49m\u001b[43mn_trials\u001b[49m\u001b[43m,\u001b[49m\n\u001b[1;32m     70\u001b[0m \u001b[43m            \u001b[49m\u001b[43mtimeout\u001b[49m\u001b[43m,\u001b[49m\n\u001b[1;32m     71\u001b[0m \u001b[43m            \u001b[49m\u001b[43mcatch\u001b[49m\u001b[43m,\u001b[49m\n\u001b[1;32m     72\u001b[0m \u001b[43m            \u001b[49m\u001b[43mcallbacks\u001b[49m\u001b[43m,\u001b[49m\n\u001b[1;32m     73\u001b[0m \u001b[43m            \u001b[49m\u001b[43mgc_after_trial\u001b[49m\u001b[43m,\u001b[49m\n\u001b[1;32m     74\u001b[0m \u001b[43m            \u001b[49m\u001b[43mreseed_sampler_rng\u001b[49m\u001b[38;5;241;43m=\u001b[39;49m\u001b[38;5;28;43;01mFalse\u001b[39;49;00m\u001b[43m,\u001b[49m\n\u001b[1;32m     75\u001b[0m \u001b[43m            \u001b[49m\u001b[43mtime_start\u001b[49m\u001b[38;5;241;43m=\u001b[39;49m\u001b[38;5;28;43;01mNone\u001b[39;49;00m\u001b[43m,\u001b[49m\n\u001b[1;32m     76\u001b[0m \u001b[43m            \u001b[49m\u001b[43mprogress_bar\u001b[49m\u001b[38;5;241;43m=\u001b[39;49m\u001b[43mprogress_bar\u001b[49m\u001b[43m,\u001b[49m\n\u001b[1;32m     77\u001b[0m \u001b[43m        \u001b[49m\u001b[43m)\u001b[49m\n\u001b[1;32m     78\u001b[0m     \u001b[38;5;28;01melse\u001b[39;00m:\n\u001b[1;32m     79\u001b[0m         \u001b[38;5;28;01mif\u001b[39;00m n_jobs \u001b[38;5;241m==\u001b[39m \u001b[38;5;241m-\u001b[39m\u001b[38;5;241m1\u001b[39m:\n",
      "File \u001b[0;32m~/opt/anaconda3/lib/python3.9/site-packages/optuna/study/_optimize.py:163\u001b[0m, in \u001b[0;36m_optimize_sequential\u001b[0;34m(study, func, n_trials, timeout, catch, callbacks, gc_after_trial, reseed_sampler_rng, time_start, progress_bar)\u001b[0m\n\u001b[1;32m    160\u001b[0m         \u001b[38;5;28;01mbreak\u001b[39;00m\n\u001b[1;32m    162\u001b[0m \u001b[38;5;28;01mtry\u001b[39;00m:\n\u001b[0;32m--> 163\u001b[0m     frozen_trial \u001b[38;5;241m=\u001b[39m \u001b[43m_run_trial\u001b[49m\u001b[43m(\u001b[49m\u001b[43mstudy\u001b[49m\u001b[43m,\u001b[49m\u001b[43m \u001b[49m\u001b[43mfunc\u001b[49m\u001b[43m,\u001b[49m\u001b[43m \u001b[49m\u001b[43mcatch\u001b[49m\u001b[43m)\u001b[49m\n\u001b[1;32m    164\u001b[0m \u001b[38;5;28;01mfinally\u001b[39;00m:\n\u001b[1;32m    165\u001b[0m     \u001b[38;5;66;03m# The following line mitigates memory problems that can be occurred in some\u001b[39;00m\n\u001b[1;32m    166\u001b[0m     \u001b[38;5;66;03m# environments (e.g., services that use computing containers such as GitHub Actions).\u001b[39;00m\n\u001b[1;32m    167\u001b[0m     \u001b[38;5;66;03m# Please refer to the following PR for further details:\u001b[39;00m\n\u001b[1;32m    168\u001b[0m     \u001b[38;5;66;03m# https://github.com/optuna/optuna/pull/325.\u001b[39;00m\n\u001b[1;32m    169\u001b[0m     \u001b[38;5;28;01mif\u001b[39;00m gc_after_trial:\n",
      "File \u001b[0;32m~/opt/anaconda3/lib/python3.9/site-packages/optuna/study/_optimize.py:251\u001b[0m, in \u001b[0;36m_run_trial\u001b[0;34m(study, func, catch)\u001b[0m\n\u001b[1;32m    244\u001b[0m         \u001b[38;5;28;01massert\u001b[39;00m \u001b[38;5;28;01mFalse\u001b[39;00m, \u001b[38;5;124m\"\u001b[39m\u001b[38;5;124mShould not reach.\u001b[39m\u001b[38;5;124m\"\u001b[39m\n\u001b[1;32m    246\u001b[0m \u001b[38;5;28;01mif\u001b[39;00m (\n\u001b[1;32m    247\u001b[0m     frozen_trial\u001b[38;5;241m.\u001b[39mstate \u001b[38;5;241m==\u001b[39m TrialState\u001b[38;5;241m.\u001b[39mFAIL\n\u001b[1;32m    248\u001b[0m     \u001b[38;5;129;01mand\u001b[39;00m func_err \u001b[38;5;129;01mis\u001b[39;00m \u001b[38;5;129;01mnot\u001b[39;00m \u001b[38;5;28;01mNone\u001b[39;00m\n\u001b[1;32m    249\u001b[0m     \u001b[38;5;129;01mand\u001b[39;00m \u001b[38;5;129;01mnot\u001b[39;00m \u001b[38;5;28misinstance\u001b[39m(func_err, catch)\n\u001b[1;32m    250\u001b[0m ):\n\u001b[0;32m--> 251\u001b[0m     \u001b[38;5;28;01mraise\u001b[39;00m func_err\n\u001b[1;32m    252\u001b[0m \u001b[38;5;28;01mreturn\u001b[39;00m frozen_trial\n",
      "File \u001b[0;32m~/opt/anaconda3/lib/python3.9/site-packages/optuna/study/_optimize.py:200\u001b[0m, in \u001b[0;36m_run_trial\u001b[0;34m(study, func, catch)\u001b[0m\n\u001b[1;32m    198\u001b[0m \u001b[38;5;28;01mwith\u001b[39;00m get_heartbeat_thread(trial\u001b[38;5;241m.\u001b[39m_trial_id, study\u001b[38;5;241m.\u001b[39m_storage):\n\u001b[1;32m    199\u001b[0m     \u001b[38;5;28;01mtry\u001b[39;00m:\n\u001b[0;32m--> 200\u001b[0m         value_or_values \u001b[38;5;241m=\u001b[39m \u001b[43mfunc\u001b[49m\u001b[43m(\u001b[49m\u001b[43mtrial\u001b[49m\u001b[43m)\u001b[49m\n\u001b[1;32m    201\u001b[0m     \u001b[38;5;28;01mexcept\u001b[39;00m exceptions\u001b[38;5;241m.\u001b[39mTrialPruned \u001b[38;5;28;01mas\u001b[39;00m e:\n\u001b[1;32m    202\u001b[0m         \u001b[38;5;66;03m# TODO(mamu): Handle multi-objective cases.\u001b[39;00m\n\u001b[1;32m    203\u001b[0m         state \u001b[38;5;241m=\u001b[39m TrialState\u001b[38;5;241m.\u001b[39mPRUNED\n",
      "Input \u001b[0;32mIn [51]\u001b[0m, in \u001b[0;36mcat_objective\u001b[0;34m(trial)\u001b[0m\n\u001b[1;32m     21\u001b[0m X_val, y_val \u001b[38;5;241m=\u001b[39m train\u001b[38;5;241m.\u001b[39mloc[val_idx, features],train\u001b[38;5;241m.\u001b[39mloc[val_idx, target]\n\u001b[1;32m     23\u001b[0m model \u001b[38;5;241m=\u001b[39m CatBoostRegressor(\u001b[38;5;241m*\u001b[39m\u001b[38;5;241m*\u001b[39mparams_optuna)\n\u001b[0;32m---> 24\u001b[0m \u001b[43mmodel\u001b[49m\u001b[38;5;241;43m.\u001b[39;49m\u001b[43mfit\u001b[49m\u001b[43m(\u001b[49m\u001b[43mX_train\u001b[49m\u001b[43m,\u001b[49m\n\u001b[1;32m     25\u001b[0m \u001b[43m          \u001b[49m\u001b[43my_train\u001b[49m\u001b[43m,\u001b[49m\n\u001b[1;32m     26\u001b[0m \u001b[43m          \u001b[49m\u001b[43meval_set\u001b[49m\u001b[43m \u001b[49m\u001b[38;5;241;43m=\u001b[39;49m\u001b[43m \u001b[49m\u001b[43m[\u001b[49m\u001b[43m(\u001b[49m\u001b[43mX_val\u001b[49m\u001b[43m,\u001b[49m\u001b[43my_val\u001b[49m\u001b[43m)\u001b[49m\u001b[43m]\u001b[49m\u001b[43m,\u001b[49m\n\u001b[1;32m     27\u001b[0m \u001b[43m          \u001b[49m\u001b[43mearly_stopping_rounds\u001b[49m\u001b[38;5;241;43m=\u001b[39;49m\u001b[38;5;241;43m50\u001b[39;49m\u001b[43m,\u001b[49m\n\u001b[1;32m     28\u001b[0m \u001b[43m          \u001b[49m\u001b[43mverbose\u001b[49m\u001b[38;5;241;43m=\u001b[39;49m\u001b[38;5;241;43m500\u001b[39;49m\u001b[43m)\u001b[49m\n\u001b[1;32m     30\u001b[0m y_pred \u001b[38;5;241m=\u001b[39m model\u001b[38;5;241m.\u001b[39mpredict(X_val)\n\u001b[1;32m     31\u001b[0m score \u001b[38;5;241m=\u001b[39m mean_squared_error(y_val,y_pred)\n",
      "File \u001b[0;32m~/opt/anaconda3/lib/python3.9/site-packages/catboost/core.py:5590\u001b[0m, in \u001b[0;36mCatBoostRegressor.fit\u001b[0;34m(self, X, y, cat_features, sample_weight, baseline, use_best_model, eval_set, verbose, logging_level, plot, column_description, verbose_eval, metric_period, silent, early_stopping_rounds, save_snapshot, snapshot_file, snapshot_interval, init_model, callbacks, log_cout, log_cerr)\u001b[0m\n\u001b[1;32m   5587\u001b[0m \u001b[38;5;28;01mif\u001b[39;00m \u001b[38;5;124m'\u001b[39m\u001b[38;5;124mloss_function\u001b[39m\u001b[38;5;124m'\u001b[39m \u001b[38;5;129;01min\u001b[39;00m params:\n\u001b[1;32m   5588\u001b[0m     CatBoostRegressor\u001b[38;5;241m.\u001b[39m_check_is_compatible_loss(params[\u001b[38;5;124m'\u001b[39m\u001b[38;5;124mloss_function\u001b[39m\u001b[38;5;124m'\u001b[39m])\n\u001b[0;32m-> 5590\u001b[0m \u001b[38;5;28;01mreturn\u001b[39;00m \u001b[38;5;28;43mself\u001b[39;49m\u001b[38;5;241;43m.\u001b[39;49m\u001b[43m_fit\u001b[49m\u001b[43m(\u001b[49m\u001b[43mX\u001b[49m\u001b[43m,\u001b[49m\u001b[43m \u001b[49m\u001b[43my\u001b[49m\u001b[43m,\u001b[49m\u001b[43m \u001b[49m\u001b[43mcat_features\u001b[49m\u001b[43m,\u001b[49m\u001b[43m \u001b[49m\u001b[38;5;28;43;01mNone\u001b[39;49;00m\u001b[43m,\u001b[49m\u001b[43m \u001b[49m\u001b[38;5;28;43;01mNone\u001b[39;49;00m\u001b[43m,\u001b[49m\u001b[43m \u001b[49m\u001b[38;5;28;43;01mNone\u001b[39;49;00m\u001b[43m,\u001b[49m\u001b[43m \u001b[49m\u001b[43msample_weight\u001b[49m\u001b[43m,\u001b[49m\u001b[43m \u001b[49m\u001b[38;5;28;43;01mNone\u001b[39;49;00m\u001b[43m,\u001b[49m\u001b[43m \u001b[49m\u001b[38;5;28;43;01mNone\u001b[39;49;00m\u001b[43m,\u001b[49m\u001b[43m \u001b[49m\u001b[38;5;28;43;01mNone\u001b[39;49;00m\u001b[43m,\u001b[49m\u001b[43m \u001b[49m\u001b[38;5;28;43;01mNone\u001b[39;49;00m\u001b[43m,\u001b[49m\u001b[43m \u001b[49m\u001b[43mbaseline\u001b[49m\u001b[43m,\u001b[49m\n\u001b[1;32m   5591\u001b[0m \u001b[43m                 \u001b[49m\u001b[43muse_best_model\u001b[49m\u001b[43m,\u001b[49m\u001b[43m \u001b[49m\u001b[43meval_set\u001b[49m\u001b[43m,\u001b[49m\u001b[43m \u001b[49m\u001b[43mverbose\u001b[49m\u001b[43m,\u001b[49m\u001b[43m \u001b[49m\u001b[43mlogging_level\u001b[49m\u001b[43m,\u001b[49m\u001b[43m \u001b[49m\u001b[43mplot\u001b[49m\u001b[43m,\u001b[49m\u001b[43m \u001b[49m\u001b[43mcolumn_description\u001b[49m\u001b[43m,\u001b[49m\n\u001b[1;32m   5592\u001b[0m \u001b[43m                 \u001b[49m\u001b[43mverbose_eval\u001b[49m\u001b[43m,\u001b[49m\u001b[43m \u001b[49m\u001b[43mmetric_period\u001b[49m\u001b[43m,\u001b[49m\u001b[43m \u001b[49m\u001b[43msilent\u001b[49m\u001b[43m,\u001b[49m\u001b[43m \u001b[49m\u001b[43mearly_stopping_rounds\u001b[49m\u001b[43m,\u001b[49m\n\u001b[1;32m   5593\u001b[0m \u001b[43m                 \u001b[49m\u001b[43msave_snapshot\u001b[49m\u001b[43m,\u001b[49m\u001b[43m \u001b[49m\u001b[43msnapshot_file\u001b[49m\u001b[43m,\u001b[49m\u001b[43m \u001b[49m\u001b[43msnapshot_interval\u001b[49m\u001b[43m,\u001b[49m\u001b[43m \u001b[49m\u001b[43minit_model\u001b[49m\u001b[43m,\u001b[49m\u001b[43m \u001b[49m\u001b[43mcallbacks\u001b[49m\u001b[43m,\u001b[49m\u001b[43m \u001b[49m\u001b[43mlog_cout\u001b[49m\u001b[43m,\u001b[49m\u001b[43m \u001b[49m\u001b[43mlog_cerr\u001b[49m\u001b[43m)\u001b[49m\n",
      "File \u001b[0;32m~/opt/anaconda3/lib/python3.9/site-packages/catboost/core.py:2278\u001b[0m, in \u001b[0;36mCatBoost._fit\u001b[0;34m(self, X, y, cat_features, text_features, embedding_features, pairs, sample_weight, group_id, group_weight, subgroup_id, pairs_weight, baseline, use_best_model, eval_set, verbose, logging_level, plot, column_description, verbose_eval, metric_period, silent, early_stopping_rounds, save_snapshot, snapshot_file, snapshot_interval, init_model, callbacks, log_cout, log_cerr)\u001b[0m\n\u001b[1;32m   2274\u001b[0m allow_clear_pool \u001b[38;5;241m=\u001b[39m train_params[\u001b[38;5;124m\"\u001b[39m\u001b[38;5;124mallow_clear_pool\u001b[39m\u001b[38;5;124m\"\u001b[39m]\n\u001b[1;32m   2276\u001b[0m \u001b[38;5;28;01mwith\u001b[39;00m log_fixup(log_cout, log_cerr), \\\n\u001b[1;32m   2277\u001b[0m     plot_wrapper(plot, [_get_train_dir(\u001b[38;5;28mself\u001b[39m\u001b[38;5;241m.\u001b[39mget_params())]):\n\u001b[0;32m-> 2278\u001b[0m     \u001b[38;5;28;43mself\u001b[39;49m\u001b[38;5;241;43m.\u001b[39;49m\u001b[43m_train\u001b[49m\u001b[43m(\u001b[49m\n\u001b[1;32m   2279\u001b[0m \u001b[43m        \u001b[49m\u001b[43mtrain_pool\u001b[49m\u001b[43m,\u001b[49m\n\u001b[1;32m   2280\u001b[0m \u001b[43m        \u001b[49m\u001b[43mtrain_params\u001b[49m\u001b[43m[\u001b[49m\u001b[38;5;124;43m\"\u001b[39;49m\u001b[38;5;124;43meval_sets\u001b[39;49m\u001b[38;5;124;43m\"\u001b[39;49m\u001b[43m]\u001b[49m\u001b[43m,\u001b[49m\n\u001b[1;32m   2281\u001b[0m \u001b[43m        \u001b[49m\u001b[43mparams\u001b[49m\u001b[43m,\u001b[49m\n\u001b[1;32m   2282\u001b[0m \u001b[43m        \u001b[49m\u001b[43mallow_clear_pool\u001b[49m\u001b[43m,\u001b[49m\n\u001b[1;32m   2283\u001b[0m \u001b[43m        \u001b[49m\u001b[43mtrain_params\u001b[49m\u001b[43m[\u001b[49m\u001b[38;5;124;43m\"\u001b[39;49m\u001b[38;5;124;43minit_model\u001b[39;49m\u001b[38;5;124;43m\"\u001b[39;49m\u001b[43m]\u001b[49m\n\u001b[1;32m   2284\u001b[0m \u001b[43m    \u001b[49m\u001b[43m)\u001b[49m\n\u001b[1;32m   2286\u001b[0m \u001b[38;5;66;03m# Have property feature_importance possibly set\u001b[39;00m\n\u001b[1;32m   2287\u001b[0m loss \u001b[38;5;241m=\u001b[39m \u001b[38;5;28mself\u001b[39m\u001b[38;5;241m.\u001b[39m_object\u001b[38;5;241m.\u001b[39m_get_loss_function_name()\n",
      "File \u001b[0;32m~/opt/anaconda3/lib/python3.9/site-packages/catboost/core.py:1705\u001b[0m, in \u001b[0;36m_CatBoostBase._train\u001b[0;34m(self, train_pool, test_pool, params, allow_clear_pool, init_model)\u001b[0m\n\u001b[1;32m   1704\u001b[0m \u001b[38;5;28;01mdef\u001b[39;00m \u001b[38;5;21m_train\u001b[39m(\u001b[38;5;28mself\u001b[39m, train_pool, test_pool, params, allow_clear_pool, init_model):\n\u001b[0;32m-> 1705\u001b[0m     \u001b[38;5;28;43mself\u001b[39;49m\u001b[38;5;241;43m.\u001b[39;49m\u001b[43m_object\u001b[49m\u001b[38;5;241;43m.\u001b[39;49m\u001b[43m_train\u001b[49m\u001b[43m(\u001b[49m\u001b[43mtrain_pool\u001b[49m\u001b[43m,\u001b[49m\u001b[43m \u001b[49m\u001b[43mtest_pool\u001b[49m\u001b[43m,\u001b[49m\u001b[43m \u001b[49m\u001b[43mparams\u001b[49m\u001b[43m,\u001b[49m\u001b[43m \u001b[49m\u001b[43mallow_clear_pool\u001b[49m\u001b[43m,\u001b[49m\u001b[43m \u001b[49m\u001b[43minit_model\u001b[49m\u001b[38;5;241;43m.\u001b[39;49m\u001b[43m_object\u001b[49m\u001b[43m \u001b[49m\u001b[38;5;28;43;01mif\u001b[39;49;00m\u001b[43m \u001b[49m\u001b[43minit_model\u001b[49m\u001b[43m \u001b[49m\u001b[38;5;28;43;01melse\u001b[39;49;00m\u001b[43m \u001b[49m\u001b[38;5;28;43;01mNone\u001b[39;49;00m\u001b[43m)\u001b[49m\n\u001b[1;32m   1706\u001b[0m     \u001b[38;5;28mself\u001b[39m\u001b[38;5;241m.\u001b[39m_set_trained_model_attributes()\n",
      "File \u001b[0;32m_catboost.pyx:4585\u001b[0m, in \u001b[0;36m_catboost._CatBoost._train\u001b[0;34m()\u001b[0m\n",
      "File \u001b[0;32m_catboost.pyx:4634\u001b[0m, in \u001b[0;36m_catboost._CatBoost._train\u001b[0;34m()\u001b[0m\n",
      "\u001b[0;31mCatBoostError\u001b[0m: catboost/private/libs/algo/tensor_search_helpers.cpp:543: Too few sampling units (subsample=0.000245775, bootstrap_type=MVS): please increase sampling rate or disable sampling"
     ]
    }
   ],
   "source": [
    "study = optuna.create_study(direction='maximize', sampler = TPESampler())\n",
    "study.optimize(func=cat_objective, n_trials=50)\n",
    "study.best_params"
   ]
  },
  {
   "cell_type": "code",
   "execution_count": 53,
   "id": "e4296334",
   "metadata": {},
   "outputs": [
    {
     "name": "stderr",
     "output_type": "stream",
     "text": [
      "\r",
      "0it [00:00, ?it/s]"
     ]
    },
    {
     "name": "stdout",
     "output_type": "stream",
     "text": [
      "0:\tlearn: 11.7292140\ttest: 11.5929233\tbest: 11.5929233 (0)\ttotal: 167ms\tremaining: 1h 9m 30s\n",
      "2000:\tlearn: 7.5233824\ttest: 12.8499339\tbest: 11.5929233 (0)\ttotal: 5m 7s\tremaining: 58m 46s\n"
     ]
    },
    {
     "name": "stderr",
     "output_type": "stream",
     "text": [
      "\r",
      "1it [05:52, 352.54s/it]"
     ]
    },
    {
     "name": "stdout",
     "output_type": "stream",
     "text": [
      "Stopped by overfitting detector  (2294 iterations wait)\n",
      "\n",
      "bestTest = 11.5929233\n",
      "bestIteration = 0\n",
      "\n",
      "Shrink model to first 1 iterations.\n",
      "mse on fold 0: 134.3959\n",
      "0:\tlearn: 12.1375626\ttest: 12.8786997\tbest: 12.8786997 (0)\ttotal: 167ms\tremaining: 1h 9m 32s\n",
      "2000:\tlearn: 7.4703359\ttest: 13.9410283\tbest: 12.3513763 (5)\ttotal: 5m 4s\tremaining: 58m 17s\n"
     ]
    },
    {
     "name": "stderr",
     "output_type": "stream",
     "text": [
      "\r",
      "2it [11:43, 351.44s/it]"
     ]
    },
    {
     "name": "stdout",
     "output_type": "stream",
     "text": [
      "Stopped by overfitting detector  (2294 iterations wait)\n",
      "\n",
      "bestTest = 12.35137631\n",
      "bestIteration = 5\n",
      "\n",
      "Shrink model to first 6 iterations.\n",
      "mse on fold 1: 152.5565\n",
      "0:\tlearn: 12.2489263\ttest: 12.6741268\tbest: 12.6741268 (0)\ttotal: 158ms\tremaining: 1h 5m 43s\n",
      "2000:\tlearn: 7.5342469\ttest: 13.0850426\tbest: 12.1720680 (3)\ttotal: 5m 3s\tremaining: 57m 57s\n"
     ]
    },
    {
     "name": "stderr",
     "output_type": "stream",
     "text": [
      "\r",
      "3it [17:31, 350.09s/it]"
     ]
    },
    {
     "name": "stdout",
     "output_type": "stream",
     "text": [
      "Stopped by overfitting detector  (2294 iterations wait)\n",
      "\n",
      "bestTest = 12.17206796\n",
      "bestIteration = 3\n",
      "\n",
      "Shrink model to first 4 iterations.\n",
      "mse on fold 2: 148.1592\n",
      "0:\tlearn: 12.7470085\ttest: 13.1777697\tbest: 13.1777697 (0)\ttotal: 157ms\tremaining: 1h 5m 21s\n",
      "2000:\tlearn: 7.6082078\ttest: 12.8334971\tbest: 12.1203161 (1)\ttotal: 5m 4s\tremaining: 58m 15s\n"
     ]
    },
    {
     "name": "stderr",
     "output_type": "stream",
     "text": [
      "\r",
      "4it [23:22, 350.21s/it]"
     ]
    },
    {
     "name": "stdout",
     "output_type": "stream",
     "text": [
      "Stopped by overfitting detector  (2294 iterations wait)\n",
      "\n",
      "bestTest = 12.12031614\n",
      "bestIteration = 1\n",
      "\n",
      "Shrink model to first 2 iterations.\n",
      "mse on fold 3: 146.9021\n",
      "0:\tlearn: 12.1994239\ttest: 13.4877370\tbest: 13.4877370 (0)\ttotal: 159ms\tremaining: 1h 5m 56s\n",
      "2000:\tlearn: 7.4970276\ttest: 14.2818833\tbest: 13.2320264 (3)\ttotal: 5m 2s\tremaining: 57m 54s\n"
     ]
    },
    {
     "name": "stderr",
     "output_type": "stream",
     "text": [
      "\r",
      "5it [29:10, 349.66s/it]"
     ]
    },
    {
     "name": "stdout",
     "output_type": "stream",
     "text": [
      "Stopped by overfitting detector  (2294 iterations wait)\n",
      "\n",
      "bestTest = 13.23202643\n",
      "bestIteration = 3\n",
      "\n",
      "Shrink model to first 4 iterations.\n",
      "mse on fold 4: 175.0865\n",
      "0:\tlearn: 12.2351565\ttest: 12.4184766\tbest: 12.4184766 (0)\ttotal: 157ms\tremaining: 1h 5m 15s\n",
      "2000:\tlearn: 7.5219202\ttest: 13.2094753\tbest: 11.9383548 (3)\ttotal: 5m 2s\tremaining: 57m 53s\n"
     ]
    },
    {
     "name": "stderr",
     "output_type": "stream",
     "text": [
      "\r",
      "6it [34:59, 349.20s/it]"
     ]
    },
    {
     "name": "stdout",
     "output_type": "stream",
     "text": [
      "Stopped by overfitting detector  (2294 iterations wait)\n",
      "\n",
      "bestTest = 11.93835483\n",
      "bestIteration = 3\n",
      "\n",
      "Shrink model to first 4 iterations.\n",
      "mse on fold 5: 142.5243\n",
      "0:\tlearn: 12.0378732\ttest: 12.4719035\tbest: 12.4719035 (0)\ttotal: 157ms\tremaining: 1h 5m 16s\n",
      "2000:\tlearn: 7.4952375\ttest: 13.6271521\tbest: 12.3967440 (6)\ttotal: 5m 6s\tremaining: 58m 30s\n"
     ]
    },
    {
     "name": "stderr",
     "output_type": "stream",
     "text": [
      "\r",
      "7it [40:52, 350.67s/it]"
     ]
    },
    {
     "name": "stdout",
     "output_type": "stream",
     "text": [
      "Stopped by overfitting detector  (2294 iterations wait)\n",
      "\n",
      "bestTest = 12.39674395\n",
      "bestIteration = 6\n",
      "\n",
      "Shrink model to first 7 iterations.\n",
      "mse on fold 6: 153.6793\n",
      "0:\tlearn: 11.8228007\ttest: 12.9356976\tbest: 12.9356976 (0)\ttotal: 166ms\tremaining: 1h 9m 12s\n",
      "2000:\tlearn: 7.5194135\ttest: 13.5845217\tbest: 12.8783366 (1)\ttotal: 5m 9s\tremaining: 59m 11s\n"
     ]
    },
    {
     "name": "stderr",
     "output_type": "stream",
     "text": [
      "\r",
      "8it [46:48, 352.24s/it]"
     ]
    },
    {
     "name": "stdout",
     "output_type": "stream",
     "text": [
      "Stopped by overfitting detector  (2294 iterations wait)\n",
      "\n",
      "bestTest = 12.87833657\n",
      "bestIteration = 1\n",
      "\n",
      "Shrink model to first 2 iterations.\n",
      "mse on fold 7: 165.8516\n",
      "0:\tlearn: 11.9841469\ttest: 12.6995125\tbest: 12.6995125 (0)\ttotal: 154ms\tremaining: 1h 3m 57s\n",
      "2000:\tlearn: 7.5139249\ttest: 13.7343466\tbest: 12.5706959 (1)\ttotal: 5m 3s\tremaining: 58m 3s\n"
     ]
    },
    {
     "name": "stderr",
     "output_type": "stream",
     "text": [
      "\r",
      "9it [52:37, 351.23s/it]"
     ]
    },
    {
     "name": "stdout",
     "output_type": "stream",
     "text": [
      "Stopped by overfitting detector  (2294 iterations wait)\n",
      "\n",
      "bestTest = 12.57069593\n",
      "bestIteration = 1\n",
      "\n",
      "Shrink model to first 2 iterations.\n",
      "mse on fold 8: 158.0224\n",
      "0:\tlearn: 13.7895937\ttest: 14.1696124\tbest: 14.1696124 (0)\ttotal: 163ms\tremaining: 1h 7m 46s\n",
      "2000:\tlearn: 7.5608818\ttest: 13.5259774\tbest: 12.6553699 (11)\ttotal: 5m 6s\tremaining: 58m 30s\n"
     ]
    },
    {
     "name": "stderr",
     "output_type": "stream",
     "text": [
      "10it [58:30, 351.07s/it]"
     ]
    },
    {
     "name": "stdout",
     "output_type": "stream",
     "text": [
      "Stopped by overfitting detector  (2294 iterations wait)\n",
      "\n",
      "bestTest = 12.65536987\n",
      "bestIteration = 11\n",
      "\n",
      "Shrink model to first 12 iterations.\n",
      "mse on fold 9: 160.1584\n",
      "mean mse across all folds: 153.7336\n"
     ]
    },
    {
     "name": "stderr",
     "output_type": "stream",
     "text": [
      "\n"
     ]
    }
   ],
   "source": [
    "kf = KFold(n_splits = 10, random_state = 41, shuffle = True)\n",
    "models = []\n",
    "val_scores = []\n",
    "preds = []\n",
    "\n",
    "params = study.best_params\n",
    "\n",
    "for i, (train_index, val_index) in tqdm(enumerate(kf.split(train, train[target]))):\n",
    "    \n",
    "    X_train, X_val = train[features].loc[train_index], train[features].loc[val_index]\n",
    "    y_train, y_val = train[target][train_index], train[target][val_index]\n",
    "    \n",
    "#     if include_orig:\n",
    "#         X_train = X_train.append(original[features], ignore_index = True)\n",
    "#         y_train = y_train.append(original[target], ignore_index = True)\n",
    "    \n",
    "    model = CatBoostRegressor(**params)\n",
    "    \n",
    "    model.fit(X_train, y_train, eval_set = [(X_val, y_val)], verbose = 2000)\n",
    "    \n",
    "    models.append(model)\n",
    "    # pred = model.predict_proba(X_val)[:,1]\n",
    "    # score = accuracy_score(y_val, model.predict(X_val))\n",
    "    score = mean_squared_error(y_val, model.predict(X_val))\n",
    "\n",
    "    val_scores.append(score)\n",
    "    \n",
    "    print(f'mse on fold {i}: {score:.4f}')\n",
    "    \n",
    "print(f'mean mse across all folds: {np.mean(val_scores):.4f}')"
   ]
  },
  {
   "cell_type": "code",
   "execution_count": null,
   "id": "9e3bdd00",
   "metadata": {},
   "outputs": [],
   "source": []
  }
 ],
 "metadata": {
  "kernelspec": {
   "display_name": "Python 3 (ipykernel)",
   "language": "python",
   "name": "python3"
  },
  "language_info": {
   "codemirror_mode": {
    "name": "ipython",
    "version": 3
   },
   "file_extension": ".py",
   "mimetype": "text/x-python",
   "name": "python",
   "nbconvert_exporter": "python",
   "pygments_lexer": "ipython3",
   "version": "3.9.12"
  }
 },
 "nbformat": 4,
 "nbformat_minor": 5
}
